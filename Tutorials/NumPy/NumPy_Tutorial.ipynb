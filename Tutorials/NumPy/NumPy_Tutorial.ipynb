{
 "cells": [
  {
   "cell_type": "markdown",
   "id": "d1ea7691",
   "metadata": {},
   "source": [
    "# NumPy\n",
    "\n",
    "Numpy is a multi dimensional array library, and we use it over lists as lists are very slow, this is becuase it uses 'fixed types' which means that we don't have to store as much information when compared to using lists. The example given shows that the bytes of memory is much higher when we are using lists. When we are itterating through objects we also don't have to type check in Numpy. We also use continous memory when using numpy, meaning that all of our memory is stored right next to eachother, whereas in lists, this is not the case as that information can be stored in different places in the computers memory. The benifit to using Numpy is that the SIMD Vector Processing unit can be utilised to perform computations on all of the values, it also more effectivly uses the memory cache. \n",
    "\n",
    "But how are they different? \n",
    "\n",
    "Lists \n",
    "- Insertion, deletion, appending, concatenation, etc \n",
    "\n",
    "NumPy \n",
    "- Insertion, deletion, appending, concatenation, etc + lots more \n",
    "\n",
    "\n",
    "Example \n",
    "\n",
    "**Lists** \n",
    "\n",
    "a = [1,3,5]\n",
    "b = [1,2,3]\n",
    "\n",
    "a*b = Error \n",
    "\n",
    "**NumPy** \n",
    "\n",
    "a = np.array([1,3,5])\n",
    "b = np.array([1,2,3])\n",
    "\n",
    "a*b = np.array([1,6,15])\n",
    "\n",
    "\n",
    "Applications of NumPy\n",
    "\n",
    "- Mathematics \n",
    "- Plotting \n",
    "- Backend \n",
    "- Machine Learning\n"
   ]
  },
  {
   "cell_type": "code",
   "execution_count": 2,
   "id": "257af7ce",
   "metadata": {},
   "outputs": [],
   "source": [
    "import numpy as np"
   ]
  },
  {
   "cell_type": "markdown",
   "id": "77506d63",
   "metadata": {},
   "source": [
    "### The Basics "
   ]
  },
  {
   "cell_type": "code",
   "execution_count": 17,
   "id": "846c1878",
   "metadata": {},
   "outputs": [
    {
     "data": {
      "text/plain": [
       "array([1, 2, 3])"
      ]
     },
     "execution_count": 17,
     "metadata": {},
     "output_type": "execute_result"
    }
   ],
   "source": [
    "a = np.array([1,2,3])\n",
    "a"
   ]
  },
  {
   "cell_type": "code",
   "execution_count": 7,
   "id": "573db010",
   "metadata": {},
   "outputs": [
    {
     "data": {
      "text/plain": [
       "array([[9., 8., 7.],\n",
       "       [6., 5., 4.]])"
      ]
     },
     "execution_count": 7,
     "metadata": {},
     "output_type": "execute_result"
    }
   ],
   "source": [
    "b = np.array([[9.0, 8.0, 7.0],[6.0, 5.0, 4.0]])\n",
    "b"
   ]
  },
  {
   "cell_type": "code",
   "execution_count": 10,
   "id": "b56c8c9c",
   "metadata": {},
   "outputs": [
    {
     "data": {
      "text/plain": [
       "1"
      ]
     },
     "execution_count": 10,
     "metadata": {},
     "output_type": "execute_result"
    }
   ],
   "source": [
    "# How do we get the dimension of an array\n",
    "\n",
    "a.ndim\n",
    "# b.ndim"
   ]
  },
  {
   "cell_type": "code",
   "execution_count": 13,
   "id": "b1a08178",
   "metadata": {},
   "outputs": [
    {
     "data": {
      "text/plain": [
       "(2, 3)"
      ]
     },
     "execution_count": 13,
     "metadata": {},
     "output_type": "execute_result"
    }
   ],
   "source": [
    "# How do we get the shape of an array \n",
    "# a.shape\n",
    "b.shape"
   ]
  },
  {
   "cell_type": "code",
   "execution_count": 19,
   "id": "b92bccd2",
   "metadata": {},
   "outputs": [
    {
     "data": {
      "text/plain": [
       "dtype('int64')"
      ]
     },
     "execution_count": 19,
     "metadata": {},
     "output_type": "execute_result"
    }
   ],
   "source": [
    "# How to get the type\n",
    "a.dtype"
   ]
  },
  {
   "cell_type": "markdown",
   "id": "310d5507",
   "metadata": {},
   "source": [
    "There the type is int64, but imagine we know we arnt going to be using large numbers in this computation, we can set the type to be lower therefore, taking up less memory than a larger type int number. "
   ]
  },
  {
   "cell_type": "code",
   "execution_count": 20,
   "id": "a51ac387",
   "metadata": {},
   "outputs": [
    {
     "data": {
      "text/plain": [
       "array([1, 2, 3], dtype=int16)"
      ]
     },
     "execution_count": 20,
     "metadata": {},
     "output_type": "execute_result"
    }
   ],
   "source": [
    "a = np.array([1,2,3], dtype='int16')\n",
    "a"
   ]
  },
  {
   "cell_type": "code",
   "execution_count": 22,
   "id": "e33371cb",
   "metadata": {},
   "outputs": [
    {
     "data": {
      "text/plain": [
       "dtype('int16')"
      ]
     },
     "execution_count": 22,
     "metadata": {},
     "output_type": "execute_result"
    }
   ],
   "source": [
    "# Getting the type \n",
    "a.dtype"
   ]
  },
  {
   "cell_type": "markdown",
   "id": "34b2b9b5",
   "metadata": {},
   "source": [
    "As we can see, the int type has been changed from 64 to 16"
   ]
  },
  {
   "cell_type": "code",
   "execution_count": 23,
   "id": "43c75f19",
   "metadata": {},
   "outputs": [
    {
     "data": {
      "text/plain": [
       "2"
      ]
     },
     "execution_count": 23,
     "metadata": {},
     "output_type": "execute_result"
    }
   ],
   "source": [
    "# How to get the size of the array \n",
    "a.itemsize"
   ]
  },
  {
   "cell_type": "markdown",
   "id": "5675f987",
   "metadata": {},
   "source": [
    "### Accessing/Changing Specific Elements, Rows and Columns"
   ]
  },
  {
   "cell_type": "markdown",
   "id": "c0832810",
   "metadata": {},
   "source": [
    "#### Accessing "
   ]
  },
  {
   "cell_type": "code",
   "execution_count": 24,
   "id": "44b3b2f8",
   "metadata": {},
   "outputs": [
    {
     "name": "stdout",
     "output_type": "stream",
     "text": [
      "[[ 1  2  3  4  5  6  7]\n",
      " [ 8  9 10 11 12 13 14]]\n"
     ]
    }
   ],
   "source": [
    "a = np.array([[1,2,3,4,5,6,7],[8,9,10,11,12,13,14]])\n",
    "print(a)"
   ]
  },
  {
   "cell_type": "code",
   "execution_count": 27,
   "id": "2f23d51a",
   "metadata": {},
   "outputs": [
    {
     "data": {
      "text/plain": [
       "(2, 7)"
      ]
     },
     "execution_count": 27,
     "metadata": {},
     "output_type": "execute_result"
    }
   ],
   "source": [
    "a.shape"
   ]
  },
  {
   "cell_type": "code",
   "execution_count": 29,
   "id": "152a488f",
   "metadata": {},
   "outputs": [
    {
     "data": {
      "text/plain": [
       "13"
      ]
     },
     "execution_count": 29,
     "metadata": {},
     "output_type": "execute_result"
    }
   ],
   "source": [
    "# Get a specific element [row, column]\n",
    "a[1, 5]"
   ]
  },
  {
   "cell_type": "code",
   "execution_count": 31,
   "id": "01acc848",
   "metadata": {},
   "outputs": [
    {
     "data": {
      "text/plain": [
       "array([1, 2, 3, 4, 5, 6, 7])"
      ]
     },
     "execution_count": 31,
     "metadata": {},
     "output_type": "execute_result"
    }
   ],
   "source": [
    "# Get a specific row \n",
    "a[0, :]"
   ]
  },
  {
   "cell_type": "code",
   "execution_count": 32,
   "id": "ac7cb6b3",
   "metadata": {},
   "outputs": [
    {
     "data": {
      "text/plain": [
       "array([ 3, 10])"
      ]
     },
     "execution_count": 32,
     "metadata": {},
     "output_type": "execute_result"
    }
   ],
   "source": [
    "# Get a specific column\n",
    "a[:, 2]"
   ]
  },
  {
   "cell_type": "code",
   "execution_count": 39,
   "id": "fa357ec5",
   "metadata": {},
   "outputs": [
    {
     "data": {
      "text/plain": [
       "array([2, 4, 6])"
      ]
     },
     "execution_count": 39,
     "metadata": {},
     "output_type": "execute_result"
    }
   ],
   "source": [
    "# Getting more fancy [starting_index:end_index:step_size]\n",
    "\n",
    "a[0, 1:6:2]"
   ]
  },
  {
   "cell_type": "markdown",
   "id": "cd6fb26f",
   "metadata": {},
   "source": [
    "#### Changing"
   ]
  },
  {
   "cell_type": "code",
   "execution_count": 36,
   "id": "aca9feca",
   "metadata": {},
   "outputs": [],
   "source": [
    "a[1, 5] = 20"
   ]
  },
  {
   "cell_type": "code",
   "execution_count": 37,
   "id": "b17b6e38",
   "metadata": {},
   "outputs": [
    {
     "name": "stdout",
     "output_type": "stream",
     "text": [
      "[[ 1  2  3  4  5  6  7]\n",
      " [ 8  9 10 11 12 20 14]]\n"
     ]
    }
   ],
   "source": [
    "print(a)"
   ]
  },
  {
   "cell_type": "markdown",
   "id": "38debd25",
   "metadata": {},
   "source": [
    "Now the original element that was 13 is now 20"
   ]
  },
  {
   "cell_type": "code",
   "execution_count": 93,
   "id": "3522b0b9",
   "metadata": {},
   "outputs": [
    {
     "name": "stdout",
     "output_type": "stream",
     "text": [
      "[[ 1  2  5  4  5  6  7]\n",
      " [ 8  9  5 11 12 20 14]]\n"
     ]
    }
   ],
   "source": [
    "# Changing all of the elements in a column \n",
    "a[:, 2] = 5\n",
    "print(a)"
   ]
  },
  {
   "cell_type": "code",
   "execution_count": 96,
   "id": "f69f3f2f",
   "metadata": {},
   "outputs": [
    {
     "name": "stdout",
     "output_type": "stream",
     "text": [
      "[[ 1  2  5  4  5  6  7]\n",
      " [ 8  9  5 11 12 20 14]]\n"
     ]
    }
   ],
   "source": [
    "# chainging a certain part of the array\n",
    "a[[0,1], 2] = 5\n",
    "print(a)"
   ]
  },
  {
   "cell_type": "code",
   "execution_count": 44,
   "id": "697121b1",
   "metadata": {},
   "outputs": [
    {
     "name": "stdout",
     "output_type": "stream",
     "text": [
      "[[ 1  2  1  4  5  6  7]\n",
      " [ 8  9  2 11 12 20 14]]\n"
     ]
    }
   ],
   "source": [
    "# Changing all of the elements in a colum to specific values\n",
    "a[:, 2]= [1, 2]\n",
    "print(a)"
   ]
  },
  {
   "cell_type": "code",
   "execution_count": 46,
   "id": "46574dfc",
   "metadata": {},
   "outputs": [
    {
     "name": "stdout",
     "output_type": "stream",
     "text": [
      "[[[1 2]\n",
      "  [3 4]]\n",
      "\n",
      " [[5 6]\n",
      "  [7 8]]]\n"
     ]
    }
   ],
   "source": [
    "# Working with a 3d example\n",
    "b = np.array([[[1,2],[3,4]],[[5,6],[7,8]]])\n",
    "print(b)"
   ]
  },
  {
   "cell_type": "code",
   "execution_count": 48,
   "id": "d78b9df1",
   "metadata": {},
   "outputs": [
    {
     "data": {
      "text/plain": [
       "4"
      ]
     },
     "execution_count": 48,
     "metadata": {},
     "output_type": "execute_result"
    }
   ],
   "source": [
    "# Getting a specific element from these arrays (the tutorial says to work outside in)\n",
    "# This means we wills start with which set we want, then which row, then which index, so if we want the 4\n",
    "b[0,1,1]"
   ]
  },
  {
   "cell_type": "code",
   "execution_count": 51,
   "id": "4333d11b",
   "metadata": {},
   "outputs": [
    {
     "data": {
      "text/plain": [
       "array([3, 4])"
      ]
     },
     "execution_count": 51,
     "metadata": {},
     "output_type": "execute_result"
    }
   ],
   "source": [
    "b[0,1,:]"
   ]
  },
  {
   "cell_type": "code",
   "execution_count": 54,
   "id": "eaf99f9d",
   "metadata": {},
   "outputs": [
    {
     "data": {
      "text/plain": [
       "7"
      ]
     },
     "execution_count": 54,
     "metadata": {},
     "output_type": "execute_result"
    }
   ],
   "source": [
    "# Geting number 7 from b\n",
    "b[1,1,0]"
   ]
  },
  {
   "cell_type": "code",
   "execution_count": 56,
   "id": "8fe68e55",
   "metadata": {},
   "outputs": [
    {
     "data": {
      "text/plain": [
       "6"
      ]
     },
     "execution_count": 56,
     "metadata": {},
     "output_type": "execute_result"
    }
   ],
   "source": [
    "# Getting number 6 from b\n",
    "b[1,0,1]"
   ]
  },
  {
   "cell_type": "code",
   "execution_count": 58,
   "id": "45b28f10",
   "metadata": {},
   "outputs": [
    {
     "name": "stdout",
     "output_type": "stream",
     "text": [
      "[[[1 2]\n",
      "  [3 7]]\n",
      "\n",
      " [[5 6]\n",
      "  [7 8]]]\n"
     ]
    }
   ],
   "source": [
    "# Changing elements in a 3D array\n",
    "# It is the same as a 2D array, just a little more complex \n",
    "# Lets change the 4 into a 7\n",
    "\n",
    "b[0,1,1] = 7\n",
    "print(b)"
   ]
  },
  {
   "cell_type": "markdown",
   "id": "b945e8c8",
   "metadata": {},
   "source": [
    "### Initializing Different Types of Arrays"
   ]
  },
  {
   "cell_type": "code",
   "execution_count": 62,
   "id": "8936acdd",
   "metadata": {},
   "outputs": [
    {
     "data": {
      "text/plain": [
       "array([[[0., 0., 0.],\n",
       "        [0., 0., 0.],\n",
       "        [0., 0., 0.]],\n",
       "\n",
       "       [[0., 0., 0.],\n",
       "        [0., 0., 0.],\n",
       "        [0., 0., 0.]]])"
      ]
     },
     "execution_count": 62,
     "metadata": {},
     "output_type": "execute_result"
    }
   ],
   "source": [
    "# All 0s matrix \n",
    "np.zeros((2,3,3))"
   ]
  },
  {
   "cell_type": "code",
   "execution_count": 63,
   "id": "c16ad588",
   "metadata": {},
   "outputs": [
    {
     "data": {
      "text/plain": [
       "array([[[1., 1.],\n",
       "        [1., 1.]],\n",
       "\n",
       "       [[1., 1.],\n",
       "        [1., 1.]],\n",
       "\n",
       "       [[1., 1.],\n",
       "        [1., 1.]],\n",
       "\n",
       "       [[1., 1.],\n",
       "        [1., 1.]]])"
      ]
     },
     "execution_count": 63,
     "metadata": {},
     "output_type": "execute_result"
    }
   ],
   "source": [
    "# All 1s matrix \n",
    "np.ones((4,2,2))"
   ]
  },
  {
   "cell_type": "code",
   "execution_count": 65,
   "id": "274a89ab",
   "metadata": {},
   "outputs": [
    {
     "data": {
      "text/plain": [
       "array([[99, 99],\n",
       "       [99, 99]])"
      ]
     },
     "execution_count": 65,
     "metadata": {},
     "output_type": "execute_result"
    }
   ],
   "source": [
    "# Any other number\n",
    "\n",
    "np.full((2,2), 99)"
   ]
  },
  {
   "cell_type": "code",
   "execution_count": 67,
   "id": "5cc6987f",
   "metadata": {},
   "outputs": [
    {
     "data": {
      "text/plain": [
       "array([[4, 4, 4, 4, 4, 4, 4],\n",
       "       [4, 4, 4, 4, 4, 4, 4]])"
      ]
     },
     "execution_count": 67,
     "metadata": {},
     "output_type": "execute_result"
    }
   ],
   "source": [
    "# Any other number (full_like), allows us to take a shape thats already built and make a new array thats\n",
    "# the same size but with different numbers\n",
    "\n",
    "np.full_like(a,4)"
   ]
  },
  {
   "cell_type": "code",
   "execution_count": 70,
   "id": "97a757c4",
   "metadata": {},
   "outputs": [
    {
     "data": {
      "text/plain": [
       "array([[0.55251012, 0.64112547],\n",
       "       [0.18518064, 0.26041403],\n",
       "       [0.43751528, 0.62582207],\n",
       "       [0.77711172, 0.7659309 ]])"
      ]
     },
     "execution_count": 70,
     "metadata": {},
     "output_type": "execute_result"
    }
   ],
   "source": [
    "# Matrix of random numbers\n",
    "np.random.rand(4,2)"
   ]
  },
  {
   "cell_type": "code",
   "execution_count": 75,
   "id": "98b7b61b",
   "metadata": {},
   "outputs": [
    {
     "data": {
      "text/plain": [
       "array([[0.94523031, 0.28443347, 0.82072229, 0.93969273, 0.24789853,\n",
       "        0.80261356, 0.82571777],\n",
       "       [0.6998935 , 0.52937231, 0.62045047, 0.96163054, 0.7816738 ,\n",
       "        0.21738973, 0.43708128]])"
      ]
     },
     "execution_count": 75,
     "metadata": {},
     "output_type": "execute_result"
    }
   ],
   "source": [
    "# Using the same shape as another array but filling it with random values\n",
    "\n",
    "np.random.random_sample(a.shape)"
   ]
  },
  {
   "cell_type": "code",
   "execution_count": 77,
   "id": "7f86ccc3",
   "metadata": {},
   "outputs": [
    {
     "data": {
      "text/plain": [
       "array([[3, 1, 0],\n",
       "       [1, 2, 3],\n",
       "       [1, 2, 2]])"
      ]
     },
     "execution_count": 77,
     "metadata": {},
     "output_type": "execute_result"
    }
   ],
   "source": [
    "# Random integer values\n",
    "np.random.randint(4, size=(3,3))"
   ]
  },
  {
   "cell_type": "code",
   "execution_count": 79,
   "id": "ec0a7f68",
   "metadata": {},
   "outputs": [
    {
     "data": {
      "text/plain": [
       "array([[1, 3, 1, 1],\n",
       "       [1, 2, 2, 3],\n",
       "       [2, 3, 1, 3],\n",
       "       [2, 3, 3, 2]])"
      ]
     },
     "execution_count": 79,
     "metadata": {},
     "output_type": "execute_result"
    }
   ],
   "source": [
    "np.random.randint(1,4, size=(4,4))"
   ]
  },
  {
   "cell_type": "code",
   "execution_count": 80,
   "id": "2733d910",
   "metadata": {},
   "outputs": [
    {
     "data": {
      "text/plain": [
       "array([[1., 0., 0., 0., 0.],\n",
       "       [0., 1., 0., 0., 0.],\n",
       "       [0., 0., 1., 0., 0.],\n",
       "       [0., 0., 0., 1., 0.],\n",
       "       [0., 0., 0., 0., 1.]])"
      ]
     },
     "execution_count": 80,
     "metadata": {},
     "output_type": "execute_result"
    }
   ],
   "source": [
    "# Getting an identity matrix\n",
    "np.identity(5)"
   ]
  },
  {
   "cell_type": "code",
   "execution_count": 83,
   "id": "346347cb",
   "metadata": {},
   "outputs": [
    {
     "name": "stdout",
     "output_type": "stream",
     "text": [
      "[[1 2 3]\n",
      " [1 2 3]\n",
      " [1 2 3]]\n"
     ]
    }
   ],
   "source": [
    "# Repeating an array \n",
    "arr = np.array([[1,2,3]])\n",
    "repeat = np.repeat(arr, 3, axis=0)\n",
    "print(repeat)"
   ]
  },
  {
   "cell_type": "markdown",
   "id": "577b2671",
   "metadata": {},
   "source": [
    "### Task\n",
    "\n",
    "Create a matrix of 5x5 with all of the outside numbers being 1s, then the middle numbers being 0 and the final center number = 9"
   ]
  },
  {
   "cell_type": "code",
   "execution_count": 105,
   "id": "46e4cb0f",
   "metadata": {},
   "outputs": [
    {
     "name": "stdout",
     "output_type": "stream",
     "text": [
      "[[1. 1. 1. 1. 1.]\n",
      " [1. 0. 0. 0. 1.]\n",
      " [1. 0. 9. 0. 1.]\n",
      " [1. 0. 0. 0. 1.]\n",
      " [1. 1. 1. 1. 1.]]\n"
     ]
    }
   ],
   "source": [
    "# Making the first array\n",
    "first_array = np.ones((5, 5))\n",
    "\n",
    "# adding in the 0s\n",
    "first_array[[1], [1,2,3]] = 0\n",
    "first_array[[2], [1,2,3]] = 0\n",
    "first_array[[3], [1,2,3]] = 0\n",
    "\n",
    "# adding the 9 \n",
    "first_array[2, 2] = 9\n",
    "print(first_array)"
   ]
  },
  {
   "cell_type": "code",
   "execution_count": 107,
   "id": "04295585",
   "metadata": {},
   "outputs": [
    {
     "name": "stdout",
     "output_type": "stream",
     "text": [
      "[[1. 1. 1. 1. 1.]\n",
      " [1. 0. 0. 0. 1.]\n",
      " [1. 0. 9. 0. 1.]\n",
      " [1. 0. 0. 0. 1.]\n",
      " [1. 1. 1. 1. 1.]]\n"
     ]
    }
   ],
   "source": [
    "# The tutorial did it this way \n",
    "\n",
    "output = np.ones((5,5))\n",
    "\n",
    "z = np.zeros((3,3))\n",
    "z[1,1] = 9 \n",
    "\n",
    "output[1:4, 1:4] = z\n",
    "print(output)"
   ]
  },
  {
   "cell_type": "markdown",
   "id": "768a1ce3",
   "metadata": {},
   "source": [
    "### Be Carefule When Copying Arrays \n",
    "\n",
    "When copying arrays, we need to be carful as just assinging a new variable will simply just override the old definition so really we arn't making a new array we are just changing the sign that points to the same array see below"
   ]
  },
  {
   "cell_type": "code",
   "execution_count": 110,
   "id": "620a064a",
   "metadata": {},
   "outputs": [
    {
     "name": "stdout",
     "output_type": "stream",
     "text": [
      "[100   2   3]\n",
      "[100   2   3]\n"
     ]
    }
   ],
   "source": [
    "a = np.array([1,2,3])\n",
    "b = a \n",
    "b[0] = 100 \n",
    "\n",
    "print(a)\n",
    "print(b)"
   ]
  },
  {
   "cell_type": "markdown",
   "id": "324167bd",
   "metadata": {},
   "source": [
    "As you can see, even though we only changed b's first element to 100, the first element in a is now 100 as when we \"made\" a new copy we didn't actaully make one, to do this we need to use the copy() function.\n"
   ]
  },
  {
   "cell_type": "code",
   "execution_count": 109,
   "id": "9706ff42",
   "metadata": {},
   "outputs": [
    {
     "name": "stdout",
     "output_type": "stream",
     "text": [
      "[1 2 3]\n",
      "[100   2   3]\n"
     ]
    }
   ],
   "source": [
    "a = np.array([1,2,3])\n",
    "b = a.copy() \n",
    "b[0] = 100 \n",
    "\n",
    "print(a)\n",
    "print(b)"
   ]
  },
  {
   "cell_type": "markdown",
   "id": "4036de41",
   "metadata": {},
   "source": [
    "### Mathematics"
   ]
  },
  {
   "cell_type": "code",
   "execution_count": 123,
   "id": "ad529c74",
   "metadata": {},
   "outputs": [
    {
     "name": "stdout",
     "output_type": "stream",
     "text": [
      "[1 2 3 4]\n"
     ]
    }
   ],
   "source": [
    "a = np.array([1,2,3,4])\n",
    "\n",
    "print(a)"
   ]
  },
  {
   "cell_type": "code",
   "execution_count": 114,
   "id": "9139a0dd",
   "metadata": {},
   "outputs": [
    {
     "data": {
      "text/plain": [
       "array([3, 4, 5, 6])"
      ]
     },
     "execution_count": 114,
     "metadata": {},
     "output_type": "execute_result"
    }
   ],
   "source": [
    "a + 2"
   ]
  },
  {
   "cell_type": "code",
   "execution_count": 115,
   "id": "639ef5d4",
   "metadata": {},
   "outputs": [
    {
     "data": {
      "text/plain": [
       "array([-1,  0,  1,  2])"
      ]
     },
     "execution_count": 115,
     "metadata": {},
     "output_type": "execute_result"
    }
   ],
   "source": [
    "a - 2"
   ]
  },
  {
   "cell_type": "code",
   "execution_count": 118,
   "id": "207dcf4a",
   "metadata": {},
   "outputs": [
    {
     "data": {
      "text/plain": [
       "array([2, 4, 6, 8])"
      ]
     },
     "execution_count": 118,
     "metadata": {},
     "output_type": "execute_result"
    }
   ],
   "source": [
    "a * 2"
   ]
  },
  {
   "cell_type": "code",
   "execution_count": 120,
   "id": "890f2b7f",
   "metadata": {},
   "outputs": [],
   "source": [
    "b = np.array([0,1,0,1])"
   ]
  },
  {
   "cell_type": "code",
   "execution_count": 125,
   "id": "be7d42c9",
   "metadata": {},
   "outputs": [
    {
     "data": {
      "text/plain": [
       "array([1, 3, 3, 5])"
      ]
     },
     "execution_count": 125,
     "metadata": {},
     "output_type": "execute_result"
    }
   ],
   "source": [
    "a + b"
   ]
  },
  {
   "cell_type": "code",
   "execution_count": 127,
   "id": "1426e78f",
   "metadata": {},
   "outputs": [
    {
     "data": {
      "text/plain": [
       "array([ 0.84147098,  0.90929743,  0.14112001, -0.7568025 ])"
      ]
     },
     "execution_count": 127,
     "metadata": {},
     "output_type": "execute_result"
    }
   ],
   "source": [
    "np.sin(a)"
   ]
  },
  {
   "cell_type": "code",
   "execution_count": 129,
   "id": "9a4c36c6",
   "metadata": {},
   "outputs": [
    {
     "data": {
      "text/plain": [
       "array([ 0.54030231, -0.41614684, -0.9899925 , -0.65364362])"
      ]
     },
     "execution_count": 129,
     "metadata": {},
     "output_type": "execute_result"
    }
   ],
   "source": [
    "np.cos(a)"
   ]
  },
  {
   "cell_type": "markdown",
   "id": "fb88f1c0",
   "metadata": {},
   "source": [
    "#### Linear Algebra "
   ]
  },
  {
   "cell_type": "code",
   "execution_count": 134,
   "id": "9a225476",
   "metadata": {},
   "outputs": [
    {
     "name": "stdout",
     "output_type": "stream",
     "text": [
      "[[1. 1. 1.]\n",
      " [1. 1. 1.]]\n",
      "[[2 2]\n",
      " [2 2]\n",
      " [2 2]]\n"
     ]
    },
    {
     "data": {
      "text/plain": [
       "array([[6., 6.],\n",
       "       [6., 6.]])"
      ]
     },
     "execution_count": 134,
     "metadata": {},
     "output_type": "execute_result"
    }
   ],
   "source": [
    "a = np.ones((2,3))\n",
    "b = np.full((3,2), 2)\n",
    "print(a)\n",
    "print(b)\n",
    "\n",
    "\n",
    "np.matmul(a,b)"
   ]
  },
  {
   "cell_type": "code",
   "execution_count": 137,
   "id": "ab6759a6",
   "metadata": {},
   "outputs": [
    {
     "data": {
      "text/plain": [
       "1.0"
      ]
     },
     "execution_count": 137,
     "metadata": {},
     "output_type": "execute_result"
    }
   ],
   "source": [
    "# Find the determinant\n",
    "c = np.identity(3)\n",
    "np.linalg.det(c)"
   ]
  },
  {
   "cell_type": "markdown",
   "id": "5ac40e7a",
   "metadata": {},
   "source": [
    "#### Statistics"
   ]
  },
  {
   "cell_type": "code",
   "execution_count": 146,
   "id": "e11afc48",
   "metadata": {},
   "outputs": [
    {
     "name": "stdout",
     "output_type": "stream",
     "text": [
      "[[1 2 3]\n",
      " [4 5 6]]\n",
      "1\n",
      "6\n",
      "21\n",
      "[1 4]\n",
      "[3 6]\n",
      "[ 6 15]\n"
     ]
    }
   ],
   "source": [
    "stats = np.array([[1,2,3],[4,5,6]])\n",
    "print(stats)\n",
    "\n",
    "print(np.min(stats))\n",
    "print(np.max(stats))\n",
    "print(np.sum(stats))\n",
    "\n",
    "# we can also do it on an axis basis\n",
    "print(np.min(stats, axis=1))\n",
    "print(np.max(stats, axis=1))\n",
    "print(np.sum(stats, axis=1))"
   ]
  },
  {
   "cell_type": "markdown",
   "id": "feb95d8b",
   "metadata": {},
   "source": [
    "### Reorganizing Arrays"
   ]
  },
  {
   "cell_type": "code",
   "execution_count": 154,
   "id": "013e61c5",
   "metadata": {},
   "outputs": [
    {
     "name": "stdout",
     "output_type": "stream",
     "text": [
      "[[1 2 3 4]\n",
      " [5 6 7 8]]\n",
      "[[1]\n",
      " [2]\n",
      " [3]\n",
      " [4]\n",
      " [5]\n",
      " [6]\n",
      " [7]\n",
      " [8]]\n",
      "[[[1 2]\n",
      "  [3 4]]\n",
      "\n",
      " [[5 6]\n",
      "  [7 8]]]\n"
     ]
    }
   ],
   "source": [
    "before = np.array([[1,2,3,4],[5,6,7,8]])\n",
    "print(before)\n",
    "\n",
    "# lets make it into an 8 by 1\n",
    "after = before.reshape((8,1))\n",
    "print(after)\n",
    "\n",
    "# lets make it a 2,2,2 \n",
    "after_after = before.reshape((2,2,2))\n",
    "print(after_after)\n",
    "\n",
    "# we cannot make it into a 2x3 for example as it wont fit correctly"
   ]
  },
  {
   "cell_type": "code",
   "execution_count": 157,
   "id": "9f05616b",
   "metadata": {},
   "outputs": [
    {
     "data": {
      "text/plain": [
       "array([[1, 2, 3, 4],\n",
       "       [1, 2, 3, 4],\n",
       "       [1, 2, 3, 4],\n",
       "       [5, 6, 7, 8]])"
      ]
     },
     "execution_count": 157,
     "metadata": {},
     "output_type": "execute_result"
    }
   ],
   "source": [
    "# Vertically stacking vectors\n",
    "v1 = np.array([1,2,3,4])\n",
    "v2 = np.array([5,6,7,8])\n",
    "\n",
    "np.vstack([v1, v2])\n",
    "# we can also keep adding them\n",
    "np.vstack([v1,v1,v1,v2])\n",
    "\n",
    "\n"
   ]
  },
  {
   "cell_type": "code",
   "execution_count": 160,
   "id": "43f2e29c",
   "metadata": {},
   "outputs": [
    {
     "data": {
      "text/plain": [
       "array([1, 2, 3, 4, 5, 6, 7, 8])"
      ]
     },
     "execution_count": 160,
     "metadata": {},
     "output_type": "execute_result"
    }
   ],
   "source": [
    "# Horizontal stacking vectors\n",
    "\n",
    "v1 = np.array([1,2,3,4])\n",
    "v2 = np.array([5,6,7,8])\n",
    "\n",
    "np.hstack([v1,v2])"
   ]
  },
  {
   "cell_type": "markdown",
   "id": "08e442f8",
   "metadata": {},
   "source": [
    "### Loading In A File\n",
    "\n",
    "Lets say we have a file that has a load of data into a numpy array"
   ]
  },
  {
   "cell_type": "code",
   "execution_count": 177,
   "id": "fca58770",
   "metadata": {},
   "outputs": [
    {
     "data": {
      "text/plain": [
       "array([[ 1., 13., 21., 11., 15.,  3.,  2., 34., 52., 34., 23., 21., 34.,\n",
       "        45., 64., 32.],\n",
       "       [ 3.,  4., 56., 32., 35.,  7., 43., 46., 67., 43., 25., 67., 43.,\n",
       "        22., 33., 12.],\n",
       "       [22., 44., 32., 34.,  1.,  4.,  6.,  8., 33., 45., 55., 35., 67.,\n",
       "        86., 43., 22.]])"
      ]
     },
     "execution_count": 177,
     "metadata": {},
     "output_type": "execute_result"
    }
   ],
   "source": [
    "filedata = np.genfromtxt('data.txt', delimiter=',')\n",
    "\n",
    "filedata\n",
    "# note that is is returned as a float"
   ]
  },
  {
   "cell_type": "code",
   "execution_count": 176,
   "id": "58dffc8f",
   "metadata": {
    "scrolled": true
   },
   "outputs": [
    {
     "data": {
      "text/plain": [
       "array([[ 1, 13, 21, 11, 15,  3,  2, 34, 52, 34, 23, 21, 34, 45, 64, 32],\n",
       "       [ 3,  4, 56, 32, 35,  7, 43, 46, 67, 43, 25, 67, 43, 22, 33, 12],\n",
       "       [22, 44, 32, 34,  1,  4,  6,  8, 33, 45, 55, 35, 67, 86, 43, 22]],\n",
       "      dtype=int32)"
      ]
     },
     "execution_count": 176,
     "metadata": {},
     "output_type": "execute_result"
    }
   ],
   "source": [
    "filedata.astype('int32') \n",
    "# this has converted it into an integer"
   ]
  },
  {
   "cell_type": "markdown",
   "id": "21343388",
   "metadata": {},
   "source": [
    "### Advanced Indexing (Boolean Masking and Advanced Indexing)"
   ]
  },
  {
   "cell_type": "code",
   "execution_count": 179,
   "id": "3987d926",
   "metadata": {},
   "outputs": [
    {
     "data": {
      "text/plain": [
       "array([[False, False, False, False, False, False, False, False,  True,\n",
       "        False, False, False, False, False,  True, False],\n",
       "       [False, False,  True, False, False, False, False, False,  True,\n",
       "        False, False,  True, False, False, False, False],\n",
       "       [False, False, False, False, False, False, False, False, False,\n",
       "        False,  True, False,  True,  True, False, False]])"
      ]
     },
     "execution_count": 179,
     "metadata": {},
     "output_type": "execute_result"
    }
   ],
   "source": [
    "# where in filedata is the value greater than 50\n",
    "\n",
    "filedata > 50 #(we can do anthing we want here really)\n"
   ]
  },
  {
   "cell_type": "code",
   "execution_count": 182,
   "id": "3bd90035",
   "metadata": {},
   "outputs": [
    {
     "data": {
      "text/plain": [
       "array([52., 64., 56., 67., 67., 55., 67., 86.])"
      ]
     },
     "execution_count": 182,
     "metadata": {},
     "output_type": "execute_result"
    }
   ],
   "source": [
    "filedata[filedata > 50]\n",
    "# makes an array of all of the integers that are above 50"
   ]
  },
  {
   "cell_type": "code",
   "execution_count": 184,
   "id": "6f4bb078",
   "metadata": {},
   "outputs": [
    {
     "data": {
      "text/plain": [
       "array([2, 3, 9])"
      ]
     },
     "execution_count": 184,
     "metadata": {},
     "output_type": "execute_result"
    }
   ],
   "source": [
    "# We can also index a list in NumPy\n",
    "\n",
    "a = np.array([1,2,3,4,5,6,7,8,9])\n",
    "a[[1,2,8]]\n",
    "# this will index those spots in the array"
   ]
  },
  {
   "cell_type": "code",
   "execution_count": 186,
   "id": "719ffb2c",
   "metadata": {},
   "outputs": [
    {
     "data": {
      "text/plain": [
       "array([False, False,  True, False, False, False, False, False,  True,\n",
       "       False,  True,  True,  True,  True,  True, False])"
      ]
     },
     "execution_count": 186,
     "metadata": {},
     "output_type": "execute_result"
    }
   ],
   "source": [
    "# We want to figure out if any value in the columns is greater than 50 \n",
    "\n",
    "np.any(filedata > 50, axis=0)\n",
    "# This is true if any of the values in the column is above 50\n",
    "# We can also use np.all to find if all of the values in the column are above 50"
   ]
  },
  {
   "cell_type": "code",
   "execution_count": 187,
   "id": "de1fa1be",
   "metadata": {},
   "outputs": [
    {
     "data": {
      "text/plain": [
       "array([[False, False, False, False, False, False, False, False,  True,\n",
       "        False, False, False, False, False,  True, False],\n",
       "       [False, False,  True, False, False, False, False, False,  True,\n",
       "        False, False,  True, False, False, False, False],\n",
       "       [False, False, False, False, False, False, False, False, False,\n",
       "        False,  True, False,  True,  True, False, False]])"
      ]
     },
     "execution_count": 187,
     "metadata": {},
     "output_type": "execute_result"
    }
   ],
   "source": [
    "# We can also check if values are more than one number but less than another\n",
    "\n",
    "((filedata > 50) & (filedata < 100))"
   ]
  }
 ],
 "metadata": {
  "kernelspec": {
   "display_name": "Python 3 (ipykernel)",
   "language": "python",
   "name": "python3"
  },
  "language_info": {
   "codemirror_mode": {
    "name": "ipython",
    "version": 3
   },
   "file_extension": ".py",
   "mimetype": "text/x-python",
   "name": "python",
   "nbconvert_exporter": "python",
   "pygments_lexer": "ipython3",
   "version": "3.10.4"
  }
 },
 "nbformat": 4,
 "nbformat_minor": 5
}
