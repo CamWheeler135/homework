{
 "cells": [
  {
   "cell_type": "markdown",
   "metadata": {},
   "source": [
    "### Train a Deep MLP on the MNIST Dataset and see if we can get over 98% precision. \n",
    "\n",
    "- Try searching for optimal learning rate by growing it exponentially, plotting the loss and finding the point where the loss shoots up.\n",
    "\n",
    "- Try adding saves, checkpoints and plotting the learning curves using TensorBoard. "
   ]
  },
  {
   "cell_type": "code",
   "execution_count": 1,
   "metadata": {},
   "outputs": [],
   "source": [
    "import tensorflow as tf\n",
    "from tensorflow import keras\n",
    "import os\n",
    "import time\n",
    "import matplotlib as mlp\n",
    "import matplotlib.pyplot as plt\n",
    "import numpy as np"
   ]
  },
  {
   "cell_type": "code",
   "execution_count": 2,
   "metadata": {},
   "outputs": [
    {
     "name": "stdout",
     "output_type": "stream",
     "text": [
      "2.11.0\n",
      "2.11.0\n"
     ]
    }
   ],
   "source": [
    "print(tf.__version__)\n",
    "print(keras.__version__)\n"
   ]
  },
  {
   "cell_type": "code",
   "execution_count": 3,
   "metadata": {},
   "outputs": [
    {
     "data": {
      "text/plain": [
       "(5000, 28, 28)"
      ]
     },
     "execution_count": 3,
     "metadata": {},
     "output_type": "execute_result"
    }
   ],
   "source": [
    "# Get the data\n",
    "(X_train_complete, Y_train_complete), (X_test, Y_test) = keras.datasets.mnist.load_data()\n",
    "\n",
    "# create the validation set\n",
    "X_valid, X_train = X_train_complete[:5000] / 255., X_train_complete[5000:] / 255.\n",
    "Y_valid, Y_train = Y_train_complete[:5000], Y_train_complete[5000:]\n",
    "X_test = X_test / 255. # Always ensure that we scale our test data. \n",
    "\n",
    "X_valid.shape"
   ]
  },
  {
   "cell_type": "markdown",
   "metadata": {},
   "source": [
    "### Building a Standard Model"
   ]
  },
  {
   "cell_type": "code",
   "execution_count": 4,
   "metadata": {},
   "outputs": [
    {
     "name": "stdout",
     "output_type": "stream",
     "text": [
      "Model: \"sequential\"\n",
      "_________________________________________________________________\n",
      " Layer (type)                Output Shape              Param #   \n",
      "=================================================================\n",
      " flatten (Flatten)           (None, 784)               0         \n",
      "                                                                 \n",
      " dense (Dense)               (None, 200)               157000    \n",
      "                                                                 \n",
      " dense_1 (Dense)             (None, 100)               20100     \n",
      "                                                                 \n",
      " dense_2 (Dense)             (None, 10)                1010      \n",
      "                                                                 \n",
      "=================================================================\n",
      "Total params: 178,110\n",
      "Trainable params: 178,110\n",
      "Non-trainable params: 0\n",
      "_________________________________________________________________\n"
     ]
    }
   ],
   "source": [
    "# Building a standard_model using the sequential API\n",
    "standard_model = keras.models.Sequential()\n",
    "\n",
    "standard_model.add(keras.layers.Flatten(input_shape=[28, 28]))\n",
    "standard_model.add(keras.layers.Dense(200, activation='relu'))\n",
    "standard_model.add(keras.layers.Dense(100, activation='relu'))\n",
    "standard_model.add(keras.layers.Dense(10, activation='softmax')) # Softmax as we are classifying, 10 because there are 10 classes. \n",
    "\n",
    "standard_model.summary()"
   ]
  },
  {
   "cell_type": "code",
   "execution_count": 5,
   "metadata": {},
   "outputs": [],
   "source": [
    "# Looking at the weights and biases.\n",
    "\n",
    "first_hidden = standard_model.layers[1]\n",
    "weights, biases = first_hidden.get_weights()\n",
    "# weights.shape\n",
    "# biases.shape"
   ]
  },
  {
   "cell_type": "code",
   "execution_count": 6,
   "metadata": {},
   "outputs": [],
   "source": [
    "# Compiling the model.\n",
    "\n",
    "standard_model.compile(loss='sparse_categorical_crossentropy', optimizer='sgd', metrics=[keras.metrics.SparseCategoricalAccuracy()]) # Using sparse categorical cross entropy as we are using integer labels not one hot encoding labels. "
   ]
  },
  {
   "cell_type": "markdown",
   "metadata": {},
   "source": [
    "### Creating Callbacks and TensorBoard Log Directories for Training. "
   ]
  },
  {
   "cell_type": "code",
   "execution_count": 7,
   "metadata": {},
   "outputs": [],
   "source": [
    "# TensorBoard associated code. \n",
    "root_log_dir = os.path.join(os.curdir, \"logs\")\n",
    "\n",
    "# Create a specific sub directory to store the run data\n",
    "def current_run_log_dir():\n",
    "    '''Creates a current run directory'''\n",
    "    run_id = time.strftime(\"run_%Y_%m_%d-%H_%M_%S\")\n",
    "    return os.path.join(root_log_dir, run_id)\n"
   ]
  },
  {
   "cell_type": "code",
   "execution_count": 8,
   "metadata": {},
   "outputs": [],
   "source": [
    "# Creating the callbacks\n",
    "saver_cb = keras.callbacks.ModelCheckpoint(\"standard_mnist_model.h5\", save_best_only=True)\n",
    "early_stopping_cb = keras.callbacks.EarlyStopping(patience=20)\n",
    "\n",
    "my_logs = current_run_log_dir()\n",
    "tensor_board_cb = keras.callbacks.TensorBoard(my_logs)"
   ]
  },
  {
   "cell_type": "code",
   "execution_count": 9,
   "metadata": {},
   "outputs": [
    {
     "name": "stdout",
     "output_type": "stream",
     "text": [
      "Epoch 1/100\n",
      "   1/1719 [..............................] - ETA: 5:27 - loss: 2.2946 - sparse_categorical_accuracy: 0.1250"
     ]
    },
    {
     "name": "stderr",
     "output_type": "stream",
     "text": [
      "2023-01-26 21:21:37.751007: W tensorflow/tsl/platform/profile_utils/cpu_utils.cc:128] Failed to get CPU frequency: 0 Hz\n"
     ]
    },
    {
     "name": "stdout",
     "output_type": "stream",
     "text": [
      "1719/1719 [==============================] - 2s 979us/step - loss: 0.6416 - sparse_categorical_accuracy: 0.8302 - val_loss: 0.3155 - val_sparse_categorical_accuracy: 0.9100\n",
      "Epoch 2/100\n",
      "1719/1719 [==============================] - 2s 915us/step - loss: 0.2948 - sparse_categorical_accuracy: 0.9154 - val_loss: 0.2432 - val_sparse_categorical_accuracy: 0.9346\n",
      "Epoch 3/100\n",
      "1719/1719 [==============================] - 2s 946us/step - loss: 0.2411 - sparse_categorical_accuracy: 0.9314 - val_loss: 0.2077 - val_sparse_categorical_accuracy: 0.9444\n",
      "Epoch 4/100\n",
      "1719/1719 [==============================] - 2s 914us/step - loss: 0.2064 - sparse_categorical_accuracy: 0.9409 - val_loss: 0.1819 - val_sparse_categorical_accuracy: 0.9504\n",
      "Epoch 5/100\n",
      "1719/1719 [==============================] - 2s 921us/step - loss: 0.1806 - sparse_categorical_accuracy: 0.9477 - val_loss: 0.1602 - val_sparse_categorical_accuracy: 0.9558\n",
      "Epoch 6/100\n",
      "1719/1719 [==============================] - 2s 1ms/step - loss: 0.1598 - sparse_categorical_accuracy: 0.9541 - val_loss: 0.1493 - val_sparse_categorical_accuracy: 0.9604\n",
      "Epoch 7/100\n",
      "1719/1719 [==============================] - 2s 917us/step - loss: 0.1435 - sparse_categorical_accuracy: 0.9584 - val_loss: 0.1339 - val_sparse_categorical_accuracy: 0.9620\n",
      "Epoch 8/100\n",
      "1719/1719 [==============================] - 2s 908us/step - loss: 0.1299 - sparse_categorical_accuracy: 0.9635 - val_loss: 0.1256 - val_sparse_categorical_accuracy: 0.9654\n",
      "Epoch 9/100\n",
      "1719/1719 [==============================] - 2s 924us/step - loss: 0.1182 - sparse_categorical_accuracy: 0.9666 - val_loss: 0.1198 - val_sparse_categorical_accuracy: 0.9670\n",
      "Epoch 10/100\n",
      "1719/1719 [==============================] - 2s 941us/step - loss: 0.1087 - sparse_categorical_accuracy: 0.9687 - val_loss: 0.1095 - val_sparse_categorical_accuracy: 0.9706\n",
      "Epoch 11/100\n",
      "1719/1719 [==============================] - 2s 919us/step - loss: 0.1003 - sparse_categorical_accuracy: 0.9717 - val_loss: 0.1035 - val_sparse_categorical_accuracy: 0.9712\n",
      "Epoch 12/100\n",
      "1719/1719 [==============================] - 2s 922us/step - loss: 0.0932 - sparse_categorical_accuracy: 0.9734 - val_loss: 0.1015 - val_sparse_categorical_accuracy: 0.9710\n",
      "Epoch 13/100\n",
      "1719/1719 [==============================] - 2s 917us/step - loss: 0.0864 - sparse_categorical_accuracy: 0.9758 - val_loss: 0.0969 - val_sparse_categorical_accuracy: 0.9728\n",
      "Epoch 14/100\n",
      "1719/1719 [==============================] - 2s 935us/step - loss: 0.0806 - sparse_categorical_accuracy: 0.9777 - val_loss: 0.0922 - val_sparse_categorical_accuracy: 0.9748\n",
      "Epoch 15/100\n",
      "1719/1719 [==============================] - 2s 951us/step - loss: 0.0751 - sparse_categorical_accuracy: 0.9791 - val_loss: 0.0902 - val_sparse_categorical_accuracy: 0.9740\n",
      "Epoch 16/100\n",
      "1719/1719 [==============================] - 2s 966us/step - loss: 0.0705 - sparse_categorical_accuracy: 0.9799 - val_loss: 0.0857 - val_sparse_categorical_accuracy: 0.9778\n",
      "Epoch 17/100\n",
      "1719/1719 [==============================] - 2s 986us/step - loss: 0.0660 - sparse_categorical_accuracy: 0.9815 - val_loss: 0.0848 - val_sparse_categorical_accuracy: 0.9746\n",
      "Epoch 18/100\n",
      "1719/1719 [==============================] - 2s 961us/step - loss: 0.0621 - sparse_categorical_accuracy: 0.9826 - val_loss: 0.0848 - val_sparse_categorical_accuracy: 0.9748\n",
      "Epoch 19/100\n",
      "1719/1719 [==============================] - 2s 967us/step - loss: 0.0583 - sparse_categorical_accuracy: 0.9837 - val_loss: 0.0865 - val_sparse_categorical_accuracy: 0.9720\n",
      "Epoch 20/100\n",
      "1719/1719 [==============================] - 2s 948us/step - loss: 0.0549 - sparse_categorical_accuracy: 0.9847 - val_loss: 0.0782 - val_sparse_categorical_accuracy: 0.9758\n",
      "Epoch 21/100\n",
      "1719/1719 [==============================] - 2s 944us/step - loss: 0.0519 - sparse_categorical_accuracy: 0.9859 - val_loss: 0.0775 - val_sparse_categorical_accuracy: 0.9760\n",
      "Epoch 22/100\n",
      "1719/1719 [==============================] - 2s 937us/step - loss: 0.0487 - sparse_categorical_accuracy: 0.9870 - val_loss: 0.0771 - val_sparse_categorical_accuracy: 0.9772\n",
      "Epoch 23/100\n",
      "1719/1719 [==============================] - 2s 935us/step - loss: 0.0462 - sparse_categorical_accuracy: 0.9875 - val_loss: 0.0742 - val_sparse_categorical_accuracy: 0.9762\n",
      "Epoch 24/100\n",
      "1719/1719 [==============================] - 2s 990us/step - loss: 0.0435 - sparse_categorical_accuracy: 0.9885 - val_loss: 0.0740 - val_sparse_categorical_accuracy: 0.9760\n",
      "Epoch 25/100\n",
      "1719/1719 [==============================] - 2s 997us/step - loss: 0.0413 - sparse_categorical_accuracy: 0.9893 - val_loss: 0.0767 - val_sparse_categorical_accuracy: 0.9754\n",
      "Epoch 26/100\n",
      "1719/1719 [==============================] - 2s 926us/step - loss: 0.0389 - sparse_categorical_accuracy: 0.9899 - val_loss: 0.0745 - val_sparse_categorical_accuracy: 0.9774\n",
      "Epoch 27/100\n",
      "1719/1719 [==============================] - 2s 962us/step - loss: 0.0370 - sparse_categorical_accuracy: 0.9905 - val_loss: 0.0743 - val_sparse_categorical_accuracy: 0.9772\n",
      "Epoch 28/100\n",
      "1719/1719 [==============================] - 2s 1ms/step - loss: 0.0349 - sparse_categorical_accuracy: 0.9911 - val_loss: 0.0734 - val_sparse_categorical_accuracy: 0.9778\n",
      "Epoch 29/100\n",
      "1719/1719 [==============================] - 2s 931us/step - loss: 0.0333 - sparse_categorical_accuracy: 0.9916 - val_loss: 0.0716 - val_sparse_categorical_accuracy: 0.9784\n",
      "Epoch 30/100\n",
      "1719/1719 [==============================] - 2s 945us/step - loss: 0.0314 - sparse_categorical_accuracy: 0.9921 - val_loss: 0.0738 - val_sparse_categorical_accuracy: 0.9766\n",
      "Epoch 31/100\n",
      "1719/1719 [==============================] - 2s 978us/step - loss: 0.0297 - sparse_categorical_accuracy: 0.9928 - val_loss: 0.0756 - val_sparse_categorical_accuracy: 0.9764\n",
      "Epoch 32/100\n",
      "1719/1719 [==============================] - 2s 985us/step - loss: 0.0284 - sparse_categorical_accuracy: 0.9926 - val_loss: 0.0723 - val_sparse_categorical_accuracy: 0.9778\n",
      "Epoch 33/100\n",
      "1719/1719 [==============================] - 2s 914us/step - loss: 0.0269 - sparse_categorical_accuracy: 0.9936 - val_loss: 0.0717 - val_sparse_categorical_accuracy: 0.9778\n",
      "Epoch 34/100\n",
      "1719/1719 [==============================] - 2s 907us/step - loss: 0.0255 - sparse_categorical_accuracy: 0.9942 - val_loss: 0.0720 - val_sparse_categorical_accuracy: 0.9768\n",
      "Epoch 35/100\n",
      "1719/1719 [==============================] - 2s 951us/step - loss: 0.0240 - sparse_categorical_accuracy: 0.9946 - val_loss: 0.0705 - val_sparse_categorical_accuracy: 0.9786\n",
      "Epoch 36/100\n",
      "1719/1719 [==============================] - 2s 969us/step - loss: 0.0230 - sparse_categorical_accuracy: 0.9947 - val_loss: 0.0695 - val_sparse_categorical_accuracy: 0.9792\n",
      "Epoch 37/100\n",
      "1719/1719 [==============================] - 2s 974us/step - loss: 0.0218 - sparse_categorical_accuracy: 0.9951 - val_loss: 0.0709 - val_sparse_categorical_accuracy: 0.9782\n",
      "Epoch 38/100\n",
      "1719/1719 [==============================] - 2s 1ms/step - loss: 0.0208 - sparse_categorical_accuracy: 0.9958 - val_loss: 0.0713 - val_sparse_categorical_accuracy: 0.9782\n",
      "Epoch 39/100\n",
      "1719/1719 [==============================] - 2s 954us/step - loss: 0.0198 - sparse_categorical_accuracy: 0.9963 - val_loss: 0.0694 - val_sparse_categorical_accuracy: 0.9788\n",
      "Epoch 40/100\n",
      "1719/1719 [==============================] - 2s 905us/step - loss: 0.0188 - sparse_categorical_accuracy: 0.9966 - val_loss: 0.0719 - val_sparse_categorical_accuracy: 0.9786\n",
      "Epoch 41/100\n",
      "1719/1719 [==============================] - 2s 912us/step - loss: 0.0179 - sparse_categorical_accuracy: 0.9970 - val_loss: 0.0726 - val_sparse_categorical_accuracy: 0.9772\n",
      "Epoch 42/100\n",
      "1719/1719 [==============================] - 2s 981us/step - loss: 0.0171 - sparse_categorical_accuracy: 0.9973 - val_loss: 0.0700 - val_sparse_categorical_accuracy: 0.9788\n",
      "Epoch 43/100\n",
      "1719/1719 [==============================] - 2s 954us/step - loss: 0.0163 - sparse_categorical_accuracy: 0.9974 - val_loss: 0.0684 - val_sparse_categorical_accuracy: 0.9800\n",
      "Epoch 44/100\n",
      "1719/1719 [==============================] - 2s 908us/step - loss: 0.0155 - sparse_categorical_accuracy: 0.9978 - val_loss: 0.0720 - val_sparse_categorical_accuracy: 0.9776\n",
      "Epoch 45/100\n",
      "1719/1719 [==============================] - 2s 1ms/step - loss: 0.0148 - sparse_categorical_accuracy: 0.9979 - val_loss: 0.0688 - val_sparse_categorical_accuracy: 0.9788\n",
      "Epoch 46/100\n",
      "1719/1719 [==============================] - 2s 989us/step - loss: 0.0141 - sparse_categorical_accuracy: 0.9980 - val_loss: 0.0698 - val_sparse_categorical_accuracy: 0.9792\n",
      "Epoch 47/100\n",
      "1719/1719 [==============================] - 2s 931us/step - loss: 0.0135 - sparse_categorical_accuracy: 0.9982 - val_loss: 0.0740 - val_sparse_categorical_accuracy: 0.9772\n",
      "Epoch 48/100\n",
      "1719/1719 [==============================] - 2s 936us/step - loss: 0.0129 - sparse_categorical_accuracy: 0.9985 - val_loss: 0.0694 - val_sparse_categorical_accuracy: 0.9784\n",
      "Epoch 49/100\n",
      "1719/1719 [==============================] - 2s 991us/step - loss: 0.0123 - sparse_categorical_accuracy: 0.9987 - val_loss: 0.0705 - val_sparse_categorical_accuracy: 0.9786\n",
      "Epoch 50/100\n",
      "1719/1719 [==============================] - 2s 914us/step - loss: 0.0118 - sparse_categorical_accuracy: 0.9987 - val_loss: 0.0692 - val_sparse_categorical_accuracy: 0.9798\n",
      "Epoch 51/100\n",
      "1719/1719 [==============================] - 2s 929us/step - loss: 0.0112 - sparse_categorical_accuracy: 0.9989 - val_loss: 0.0725 - val_sparse_categorical_accuracy: 0.9778\n",
      "Epoch 52/100\n",
      "1719/1719 [==============================] - 2s 911us/step - loss: 0.0109 - sparse_categorical_accuracy: 0.9989 - val_loss: 0.0698 - val_sparse_categorical_accuracy: 0.9786\n",
      "Epoch 53/100\n",
      "1719/1719 [==============================] - 2s 911us/step - loss: 0.0104 - sparse_categorical_accuracy: 0.9990 - val_loss: 0.0702 - val_sparse_categorical_accuracy: 0.9786\n",
      "Epoch 54/100\n",
      "1719/1719 [==============================] - 2s 907us/step - loss: 0.0099 - sparse_categorical_accuracy: 0.9991 - val_loss: 0.0708 - val_sparse_categorical_accuracy: 0.9786\n",
      "Epoch 55/100\n",
      "1719/1719 [==============================] - 2s 927us/step - loss: 0.0095 - sparse_categorical_accuracy: 0.9991 - val_loss: 0.0724 - val_sparse_categorical_accuracy: 0.9784\n",
      "Epoch 56/100\n",
      "1719/1719 [==============================] - 2s 906us/step - loss: 0.0092 - sparse_categorical_accuracy: 0.9991 - val_loss: 0.0718 - val_sparse_categorical_accuracy: 0.9786\n",
      "Epoch 57/100\n",
      "1719/1719 [==============================] - 2s 913us/step - loss: 0.0088 - sparse_categorical_accuracy: 0.9993 - val_loss: 0.0719 - val_sparse_categorical_accuracy: 0.9780\n",
      "Epoch 58/100\n",
      "1719/1719 [==============================] - 2s 908us/step - loss: 0.0084 - sparse_categorical_accuracy: 0.9994 - val_loss: 0.0704 - val_sparse_categorical_accuracy: 0.9796\n",
      "Epoch 59/100\n",
      "1719/1719 [==============================] - 2s 932us/step - loss: 0.0081 - sparse_categorical_accuracy: 0.9993 - val_loss: 0.0711 - val_sparse_categorical_accuracy: 0.9792\n",
      "Epoch 60/100\n",
      "1719/1719 [==============================] - 2s 910us/step - loss: 0.0078 - sparse_categorical_accuracy: 0.9995 - val_loss: 0.0711 - val_sparse_categorical_accuracy: 0.9792\n",
      "Epoch 61/100\n",
      "1719/1719 [==============================] - 2s 908us/step - loss: 0.0074 - sparse_categorical_accuracy: 0.9995 - val_loss: 0.0717 - val_sparse_categorical_accuracy: 0.9784\n",
      "Epoch 62/100\n",
      "1719/1719 [==============================] - 2s 916us/step - loss: 0.0072 - sparse_categorical_accuracy: 0.9996 - val_loss: 0.0713 - val_sparse_categorical_accuracy: 0.9788\n",
      "Epoch 63/100\n",
      "1719/1719 [==============================] - 2s 988us/step - loss: 0.0069 - sparse_categorical_accuracy: 0.9995 - val_loss: 0.0707 - val_sparse_categorical_accuracy: 0.9794\n"
     ]
    }
   ],
   "source": [
    "history = standard_model.fit(X_train, Y_train, epochs=100, validation_data=(X_valid, Y_valid), callbacks=[saver_cb, early_stopping_cb, tensor_board_cb])"
   ]
  },
  {
   "cell_type": "markdown",
   "metadata": {},
   "source": [
    "### Standard Model Testing"
   ]
  },
  {
   "cell_type": "code",
   "execution_count": 10,
   "metadata": {},
   "outputs": [
    {
     "name": "stdout",
     "output_type": "stream",
     "text": [
      "313/313 [==============================] - 0s 496us/step - loss: 0.0660 - sparse_categorical_accuracy: 0.9795\n"
     ]
    },
    {
     "data": {
      "text/plain": [
       "[0.06598667055368423, 0.9794999957084656]"
      ]
     },
     "execution_count": 10,
     "metadata": {},
     "output_type": "execute_result"
    }
   ],
   "source": [
    "standard_model = keras.models.load_model(\"standard_mnist_model.h5\")\n",
    "\n",
    "standard_model.evaluate(X_test, Y_test)"
   ]
  },
  {
   "cell_type": "markdown",
   "metadata": {},
   "source": [
    "Using our standard model, we got an accuracy of 97%. Lets go and tune our model to improve this score to above 98%. There are several things we can tune with deep neural networks. \n",
    "\n",
    "- The number of layers.\n",
    "- The number of nodes in a layer. \n",
    "- The learning rate. \n",
    "- The batch size. \n",
    "- The optimizer.\n",
    "- The activation function. \n",
    "- The initialized weights. "
   ]
  },
  {
   "cell_type": "markdown",
   "metadata": {},
   "source": [
    "#"
   ]
  },
  {
   "cell_type": "code",
   "execution_count": 11,
   "metadata": {},
   "outputs": [],
   "source": [
    "keras.backend.clear_session()\n",
    "np.random.seed(42)\n",
    "tf.random.set_seed(42)"
   ]
  },
  {
   "cell_type": "markdown",
   "metadata": {},
   "source": [
    "### Tuning The Learning Rate\n",
    "\n",
    "- The standard LearningRateScheduler does not allow us to change when we implement our learning rate changes so we are going to use the custom one from the workbook."
   ]
  },
  {
   "cell_type": "code",
   "execution_count": 12,
   "metadata": {},
   "outputs": [],
   "source": [
    "class LearningRateIncreaser(keras.callbacks.Callback):\n",
    "    ''' Increases the learning rate by a %.'''\n",
    "    \n",
    "    def __init__(self, increase):\n",
    "        self.increase = increase\n",
    "        self.learning_rates = []\n",
    "        self.losses = []\n",
    "    \n",
    "    def on_batch_end(self, batch, logs):\n",
    "        ''' Stores the current learning rate and loss, sets the new learning rate.'''\n",
    "        self.learning_rates.append(keras.backend.get_value(self.model.optimizer.learning_rate))\n",
    "        self.losses.append(logs['loss'])\n",
    "        keras.backend.set_value(self.model.optimizer.learning_rate, self.model.optimizer.learning_rate * self.increase)\n",
    "\n"
   ]
  },
  {
   "cell_type": "code",
   "execution_count": 13,
   "metadata": {},
   "outputs": [],
   "source": [
    "# Creating another model where we will tune the learning rate. \n",
    "\n",
    "lr_tester_model = keras.models.Sequential()\n",
    "\n",
    "lr_tester_model.add(keras.layers.Flatten(input_shape=[28, 28]))\n",
    "lr_tester_model.add(keras.layers.Dense(200, activation='relu'))\n",
    "lr_tester_model.add(keras.layers.Dense(100, activation='relu'))\n",
    "lr_tester_model.add(keras.layers.Dense(10, activation='softmax'))\n",
    "\n",
    "lr_tester_model.compile(loss='sparse_categorical_crossentropy', optimizer=keras.optimizers.SGD(learning_rate=1e-3), metrics=['accuracy']) # Starting really small. \n",
    "lr_tuner_cb = LearningRateIncreaser(increase=1.005) # Increasing by 0.5% each iteration. "
   ]
  },
  {
   "cell_type": "code",
   "execution_count": 14,
   "metadata": {},
   "outputs": [
    {
     "name": "stdout",
     "output_type": "stream",
     "text": [
      "1719/1719 [==============================] - 2s 1ms/step - loss: 125463478272.0000 - accuracy: 0.5807 - val_loss: 2.3911 - val_accuracy: 0.1126\n",
      "5.2636895\n"
     ]
    },
    {
     "data": {
      "text/plain": [
       "Text(0, 0.5, 'Loss')"
      ]
     },
     "execution_count": 14,
     "metadata": {},
     "output_type": "execute_result"
    },
    {
     "data": {
      "image/png": "[encoded data removed]",
      "text/plain": [
       "<Figure size 640x480 with 1 Axes>"
      ]
     },
     "metadata": {},
     "output_type": "display_data"
    }
   ],
   "source": [
    "history = lr_tester_model.fit(X_train, Y_train, epochs=1, validation_data=(X_valid, Y_valid), callbacks=[lr_tuner_cb])\n",
    "\n",
    "print(max(lr_tuner_cb.learning_rates))\n",
    "\n",
    "plt.plot(lr_tuner_cb.learning_rates, lr_tuner_cb.losses)\n",
    "plt.gca().set_xscale('log')\n",
    "plt.hlines(min(lr_tuner_cb.losses), min(lr_tuner_cb.learning_rates), max(lr_tuner_cb.learning_rates))\n",
    "plt.axis([min(lr_tuner_cb.learning_rates), max(lr_tuner_cb.learning_rates), 0, lr_tuner_cb.losses[0]])\n",
    "plt.grid()\n",
    "plt.xlabel(\"Learning rate\")\n",
    "plt.ylabel(\"Loss\")\n"
   ]
  },
  {
   "cell_type": "markdown",
   "metadata": {},
   "source": [
    "We can see that the loss shoots up rapidly around $8e^{-1}$, the rule of thumb is that the optimal learning rate is half of the maximum learning rate. So lets set our learning rate at $4e^{-1}$"
   ]
  },
  {
   "cell_type": "code",
   "execution_count": 15,
   "metadata": {},
   "outputs": [],
   "source": [
    "# Creating the model and setting the tuned learning rate. \n",
    "\n",
    "lr_tuned_model = keras.models.Sequential()\n",
    "\n",
    "lr_tuned_model.add(keras.layers.Flatten(input_shape=[28, 28]))\n",
    "lr_tuned_model.add(keras.layers.Dense(200, activation='relu'))\n",
    "lr_tuned_model.add(keras.layers.Dense(100, activation='relu'))\n",
    "lr_tuned_model.add(keras.layers.Dense(10, activation='softmax'))\n",
    "\n",
    "lr_tuned_model.compile(loss='sparse_categorical_crossentropy', optimizer=keras.optimizers.SGD(learning_rate=4e-1), metrics=['accuracy']) # Tuned learning rate, we have deduced this number as 1/2 of the max learning rate. "
   ]
  },
  {
   "cell_type": "code",
   "execution_count": 16,
   "metadata": {},
   "outputs": [],
   "source": [
    "# Creating the callbacks\n",
    "saver_cb = keras.callbacks.ModelCheckpoint(\"lr_tuned_mnist_model.h5\", save_best_only=True)\n",
    "early_stopping_cb = keras.callbacks.EarlyStopping(patience=20)\n",
    "\n",
    "my_logs = current_run_log_dir()\n",
    "tensor_board_cb = keras.callbacks.TensorBoard(my_logs)"
   ]
  },
  {
   "cell_type": "code",
   "execution_count": 17,
   "metadata": {},
   "outputs": [
    {
     "name": "stdout",
     "output_type": "stream",
     "text": [
      "Epoch 1/100\n",
      "1719/1719 [==============================] - 2s 1ms/step - loss: 0.2498 - accuracy: 0.9229 - val_loss: 0.1088 - val_accuracy: 0.9672\n",
      "Epoch 2/100\n",
      "1719/1719 [==============================] - 2s 914us/step - loss: 0.1050 - accuracy: 0.9677 - val_loss: 0.0936 - val_accuracy: 0.9728\n",
      "Epoch 3/100\n",
      "1719/1719 [==============================] - 2s 911us/step - loss: 0.0776 - accuracy: 0.9760 - val_loss: 0.0888 - val_accuracy: 0.9732\n",
      "Epoch 4/100\n",
      "1719/1719 [==============================] - 2s 901us/step - loss: 0.0580 - accuracy: 0.9817 - val_loss: 0.0940 - val_accuracy: 0.9758\n",
      "Epoch 5/100\n",
      "1719/1719 [==============================] - 2s 929us/step - loss: 0.0496 - accuracy: 0.9847 - val_loss: 0.0861 - val_accuracy: 0.9780\n",
      "Epoch 6/100\n",
      "1719/1719 [==============================] - 2s 910us/step - loss: 0.0410 - accuracy: 0.9865 - val_loss: 0.0862 - val_accuracy: 0.9786\n",
      "Epoch 7/100\n",
      "1719/1719 [==============================] - 2s 905us/step - loss: 0.0330 - accuracy: 0.9893 - val_loss: 0.0983 - val_accuracy: 0.9748\n",
      "Epoch 8/100\n",
      "1719/1719 [==============================] - 2s 908us/step - loss: 0.0236 - accuracy: 0.9925 - val_loss: 0.1002 - val_accuracy: 0.9766\n",
      "Epoch 9/100\n",
      "1719/1719 [==============================] - 2s 936us/step - loss: 0.0207 - accuracy: 0.9936 - val_loss: 0.0952 - val_accuracy: 0.9818\n",
      "Epoch 10/100\n",
      "1719/1719 [==============================] - 2s 906us/step - loss: 0.0271 - accuracy: 0.9915 - val_loss: 0.1300 - val_accuracy: 0.9752\n",
      "Epoch 11/100\n",
      "1719/1719 [==============================] - 2s 910us/step - loss: 0.0206 - accuracy: 0.9932 - val_loss: 0.1030 - val_accuracy: 0.9810\n",
      "Epoch 12/100\n",
      "1719/1719 [==============================] - 2s 904us/step - loss: 0.0179 - accuracy: 0.9942 - val_loss: 0.1101 - val_accuracy: 0.9778\n",
      "Epoch 13/100\n",
      "1719/1719 [==============================] - 2s 937us/step - loss: 0.0254 - accuracy: 0.9921 - val_loss: 0.1032 - val_accuracy: 0.9796\n",
      "Epoch 14/100\n",
      "1719/1719 [==============================] - 2s 906us/step - loss: 0.0195 - accuracy: 0.9939 - val_loss: 0.1286 - val_accuracy: 0.9742\n",
      "Epoch 15/100\n",
      "1719/1719 [==============================] - 2s 905us/step - loss: 0.0209 - accuracy: 0.9940 - val_loss: 0.1084 - val_accuracy: 0.9774\n",
      "Epoch 16/100\n",
      "1719/1719 [==============================] - 2s 998us/step - loss: 0.0145 - accuracy: 0.9955 - val_loss: 0.1029 - val_accuracy: 0.9812\n",
      "Epoch 17/100\n",
      "1719/1719 [==============================] - 2s 960us/step - loss: 0.0154 - accuracy: 0.9954 - val_loss: 0.1249 - val_accuracy: 0.9778\n",
      "Epoch 18/100\n",
      "1719/1719 [==============================] - 2s 904us/step - loss: 0.0168 - accuracy: 0.9950 - val_loss: 0.1400 - val_accuracy: 0.9752\n",
      "Epoch 19/100\n",
      "1719/1719 [==============================] - 2s 906us/step - loss: 0.0176 - accuracy: 0.9950 - val_loss: 0.1736 - val_accuracy: 0.9718\n",
      "Epoch 20/100\n",
      "1719/1719 [==============================] - 2s 907us/step - loss: 0.0177 - accuracy: 0.9949 - val_loss: 0.1202 - val_accuracy: 0.9808\n",
      "Epoch 21/100\n",
      "1719/1719 [==============================] - 2s 921us/step - loss: 0.0154 - accuracy: 0.9955 - val_loss: 0.1327 - val_accuracy: 0.9796\n",
      "Epoch 22/100\n",
      "1719/1719 [==============================] - 2s 903us/step - loss: 0.0145 - accuracy: 0.9956 - val_loss: 0.1472 - val_accuracy: 0.9792\n",
      "Epoch 23/100\n",
      "1719/1719 [==============================] - 2s 908us/step - loss: 0.0105 - accuracy: 0.9971 - val_loss: 0.1517 - val_accuracy: 0.9796\n",
      "Epoch 24/100\n",
      "1719/1719 [==============================] - 2s 905us/step - loss: 0.0166 - accuracy: 0.9955 - val_loss: 0.1548 - val_accuracy: 0.9776\n",
      "Epoch 25/100\n",
      "1719/1719 [==============================] - 2s 930us/step - loss: 0.0141 - accuracy: 0.9960 - val_loss: 0.1386 - val_accuracy: 0.9800\n"
     ]
    }
   ],
   "source": [
    "history = lr_tuned_model.fit(X_train, Y_train, epochs=100, validation_data=(X_valid, Y_valid), callbacks=[saver_cb, early_stopping_cb, tensor_board_cb])"
   ]
  },
  {
   "cell_type": "markdown",
   "metadata": {},
   "source": [
    "### Testing Tuned Learning Rate"
   ]
  },
  {
   "cell_type": "code",
   "execution_count": 18,
   "metadata": {},
   "outputs": [
    {
     "name": "stdout",
     "output_type": "stream",
     "text": [
      "313/313 [==============================] - 0s 501us/step - loss: 0.0851 - accuracy: 0.9758\n"
     ]
    },
    {
     "data": {
      "text/plain": [
       "[0.0850844755768776, 0.9757999777793884]"
      ]
     },
     "execution_count": 18,
     "metadata": {},
     "output_type": "execute_result"
    }
   ],
   "source": [
    "# Testing the model with the tuned learning rate.\n",
    "\n",
    "lr_tuned_model = keras.models.load_model('lr_tuned_mnist_model.h5')\n",
    "\n",
    "lr_tuned_model.evaluate(X_test, Y_test)"
   ]
  },
  {
   "cell_type": "markdown",
   "metadata": {},
   "source": [
    "Tuning our learning rate gave us no gain in accuracy compared to the standard model, however there are still more things to tune. After reading the chapter, it seems like the number of layers is an important hyperparameter to look at, to put it like Aurélien \"You get more bang for your buck\" when you tune the layers. \n",
    "\n",
    "I am going to add one more layer to the network and see how it performs. "
   ]
  },
  {
   "cell_type": "markdown",
   "metadata": {},
   "source": [
    "#"
   ]
  },
  {
   "cell_type": "markdown",
   "metadata": {},
   "source": [
    "#"
   ]
  },
  {
   "cell_type": "code",
   "execution_count": 19,
   "metadata": {},
   "outputs": [],
   "source": [
    "keras.backend.clear_session()\n",
    "np.random.seed(42)\n",
    "tf.random.set_seed(42)"
   ]
  },
  {
   "cell_type": "markdown",
   "metadata": {},
   "source": [
    "### Tuning Layer Hyperparameter"
   ]
  },
  {
   "cell_type": "code",
   "execution_count": 20,
   "metadata": {},
   "outputs": [],
   "source": [
    "# Creating a new model with an extra layer.\n",
    "\n",
    "layers_tuned_model = keras.models.Sequential()\n",
    "\n",
    "layers_tuned_model.add(keras.layers.Flatten(input_shape=[28, 28]))\n",
    "layers_tuned_model.add(keras.layers.Dense(300, activation='relu'))\n",
    "layers_tuned_model.add(keras.layers.Dense(200, activation='relu'))\n",
    "layers_tuned_model.add(keras.layers.Dense(100, activation='relu'))\n",
    "layers_tuned_model.add(keras.layers.Dense(10, activation='softmax'))"
   ]
  },
  {
   "cell_type": "code",
   "execution_count": 21,
   "metadata": {},
   "outputs": [],
   "source": [
    "# Compile the model.\n",
    "\n",
    "layers_tuned_model.compile(loss='sparse_categorical_crossentropy', optimizer=keras.optimizers.SGD(), metrics=['accuracy'])"
   ]
  },
  {
   "cell_type": "code",
   "execution_count": 22,
   "metadata": {},
   "outputs": [],
   "source": [
    "# Creating the callbacks\n",
    "\n",
    "saver_cb = keras.callbacks.ModelCheckpoint(\"layer_tuned_mnist_model.h5\", save_best_only=True)\n",
    "early_stopping_cb = keras.callbacks.EarlyStopping(patience=20)\n",
    "\n",
    "my_logs = current_run_log_dir()\n",
    "tensor_board_cb = keras.callbacks.TensorBoard(my_logs)"
   ]
  },
  {
   "cell_type": "code",
   "execution_count": 23,
   "metadata": {},
   "outputs": [
    {
     "name": "stdout",
     "output_type": "stream",
     "text": [
      "Epoch 1/100\n",
      "1719/1719 [==============================] - 3s 1ms/step - loss: 0.6283 - accuracy: 0.8307 - val_loss: 0.2845 - val_accuracy: 0.9216\n",
      "Epoch 2/100\n",
      "1719/1719 [==============================] - 2s 1ms/step - loss: 0.2668 - accuracy: 0.9229 - val_loss: 0.2187 - val_accuracy: 0.9372\n",
      "Epoch 3/100\n",
      "1719/1719 [==============================] - 2s 1ms/step - loss: 0.2089 - accuracy: 0.9393 - val_loss: 0.1702 - val_accuracy: 0.9520\n",
      "Epoch 4/100\n",
      "1719/1719 [==============================] - 3s 2ms/step - loss: 0.1717 - accuracy: 0.9500 - val_loss: 0.1467 - val_accuracy: 0.9584\n",
      "Epoch 5/100\n",
      "1719/1719 [==============================] - 3s 1ms/step - loss: 0.1461 - accuracy: 0.9577 - val_loss: 0.1324 - val_accuracy: 0.9644\n",
      "Epoch 6/100\n",
      "1719/1719 [==============================] - 3s 2ms/step - loss: 0.1266 - accuracy: 0.9627 - val_loss: 0.1196 - val_accuracy: 0.9686\n",
      "Epoch 7/100\n",
      "1719/1719 [==============================] - 2s 1ms/step - loss: 0.1109 - accuracy: 0.9674 - val_loss: 0.1118 - val_accuracy: 0.9692\n",
      "Epoch 8/100\n",
      "1719/1719 [==============================] - 2s 1ms/step - loss: 0.0978 - accuracy: 0.9715 - val_loss: 0.1150 - val_accuracy: 0.9670\n",
      "Epoch 9/100\n",
      "1719/1719 [==============================] - 3s 1ms/step - loss: 0.0879 - accuracy: 0.9750 - val_loss: 0.0943 - val_accuracy: 0.9738\n",
      "Epoch 10/100\n",
      "1719/1719 [==============================] - 2s 1ms/step - loss: 0.0786 - accuracy: 0.9777 - val_loss: 0.0883 - val_accuracy: 0.9756\n",
      "Epoch 11/100\n",
      "1719/1719 [==============================] - 2s 1ms/step - loss: 0.0703 - accuracy: 0.9802 - val_loss: 0.0866 - val_accuracy: 0.9752\n",
      "Epoch 12/100\n",
      "1719/1719 [==============================] - 2s 1ms/step - loss: 0.0631 - accuracy: 0.9824 - val_loss: 0.0858 - val_accuracy: 0.9750\n",
      "Epoch 13/100\n",
      "1719/1719 [==============================] - 2s 1ms/step - loss: 0.0573 - accuracy: 0.9836 - val_loss: 0.0775 - val_accuracy: 0.9782\n",
      "Epoch 14/100\n",
      "1719/1719 [==============================] - 2s 1ms/step - loss: 0.0513 - accuracy: 0.9853 - val_loss: 0.0769 - val_accuracy: 0.9792\n",
      "Epoch 15/100\n",
      "1719/1719 [==============================] - 2s 1ms/step - loss: 0.0470 - accuracy: 0.9867 - val_loss: 0.0746 - val_accuracy: 0.9798\n",
      "Epoch 16/100\n",
      "1719/1719 [==============================] - 3s 1ms/step - loss: 0.0421 - accuracy: 0.9884 - val_loss: 0.0769 - val_accuracy: 0.9792\n",
      "Epoch 17/100\n",
      "1719/1719 [==============================] - 2s 1ms/step - loss: 0.0382 - accuracy: 0.9899 - val_loss: 0.0735 - val_accuracy: 0.9788\n",
      "Epoch 18/100\n",
      "1719/1719 [==============================] - 3s 2ms/step - loss: 0.0348 - accuracy: 0.9911 - val_loss: 0.0733 - val_accuracy: 0.9784\n",
      "Epoch 19/100\n",
      "1719/1719 [==============================] - 3s 1ms/step - loss: 0.0312 - accuracy: 0.9921 - val_loss: 0.0707 - val_accuracy: 0.9818\n",
      "Epoch 20/100\n",
      "1719/1719 [==============================] - 3s 1ms/step - loss: 0.0285 - accuracy: 0.9928 - val_loss: 0.0722 - val_accuracy: 0.9808\n",
      "Epoch 21/100\n",
      "1719/1719 [==============================] - 3s 2ms/step - loss: 0.0258 - accuracy: 0.9939 - val_loss: 0.0687 - val_accuracy: 0.9806\n",
      "Epoch 22/100\n",
      "1719/1719 [==============================] - 2s 1ms/step - loss: 0.0230 - accuracy: 0.9946 - val_loss: 0.0724 - val_accuracy: 0.9802\n",
      "Epoch 23/100\n",
      "1719/1719 [==============================] - 2s 1ms/step - loss: 0.0210 - accuracy: 0.9954 - val_loss: 0.0706 - val_accuracy: 0.9802\n",
      "Epoch 24/100\n",
      "1719/1719 [==============================] - 2s 1ms/step - loss: 0.0188 - accuracy: 0.9963 - val_loss: 0.0716 - val_accuracy: 0.9810\n",
      "Epoch 25/100\n",
      "1719/1719 [==============================] - 2s 1ms/step - loss: 0.0171 - accuracy: 0.9967 - val_loss: 0.0701 - val_accuracy: 0.9814\n",
      "Epoch 26/100\n",
      "1719/1719 [==============================] - 2s 1ms/step - loss: 0.0155 - accuracy: 0.9971 - val_loss: 0.0676 - val_accuracy: 0.9814\n",
      "Epoch 27/100\n",
      "1719/1719 [==============================] - 2s 1ms/step - loss: 0.0141 - accuracy: 0.9976 - val_loss: 0.0689 - val_accuracy: 0.9814\n",
      "Epoch 28/100\n",
      "1719/1719 [==============================] - 3s 2ms/step - loss: 0.0126 - accuracy: 0.9980 - val_loss: 0.0711 - val_accuracy: 0.9808\n",
      "Epoch 29/100\n",
      "1719/1719 [==============================] - 3s 1ms/step - loss: 0.0112 - accuracy: 0.9985 - val_loss: 0.0713 - val_accuracy: 0.9818\n",
      "Epoch 30/100\n",
      "1719/1719 [==============================] - 3s 1ms/step - loss: 0.0104 - accuracy: 0.9985 - val_loss: 0.0699 - val_accuracy: 0.9808\n",
      "Epoch 31/100\n",
      "1719/1719 [==============================] - 2s 1ms/step - loss: 0.0094 - accuracy: 0.9989 - val_loss: 0.0737 - val_accuracy: 0.9802\n",
      "Epoch 32/100\n",
      "1719/1719 [==============================] - 2s 1ms/step - loss: 0.0085 - accuracy: 0.9991 - val_loss: 0.0708 - val_accuracy: 0.9812\n",
      "Epoch 33/100\n",
      "1719/1719 [==============================] - 2s 1ms/step - loss: 0.0078 - accuracy: 0.9992 - val_loss: 0.0711 - val_accuracy: 0.9816\n",
      "Epoch 34/100\n",
      "1719/1719 [==============================] - 2s 1ms/step - loss: 0.0071 - accuracy: 0.9993 - val_loss: 0.0745 - val_accuracy: 0.9818\n",
      "Epoch 35/100\n",
      "1719/1719 [==============================] - 2s 1ms/step - loss: 0.0065 - accuracy: 0.9994 - val_loss: 0.0734 - val_accuracy: 0.9816\n",
      "Epoch 36/100\n",
      "1719/1719 [==============================] - 2s 1ms/step - loss: 0.0059 - accuracy: 0.9995 - val_loss: 0.0750 - val_accuracy: 0.9806\n",
      "Epoch 37/100\n",
      "1719/1719 [==============================] - 2s 1ms/step - loss: 0.0054 - accuracy: 0.9996 - val_loss: 0.0728 - val_accuracy: 0.9826\n",
      "Epoch 38/100\n",
      "1719/1719 [==============================] - 2s 1ms/step - loss: 0.0051 - accuracy: 0.9997 - val_loss: 0.0750 - val_accuracy: 0.9804\n",
      "Epoch 39/100\n",
      "1719/1719 [==============================] - 2s 1ms/step - loss: 0.0047 - accuracy: 0.9997 - val_loss: 0.0743 - val_accuracy: 0.9808\n",
      "Epoch 40/100\n",
      "1719/1719 [==============================] - 2s 1ms/step - loss: 0.0043 - accuracy: 0.9998 - val_loss: 0.0739 - val_accuracy: 0.9816\n",
      "Epoch 41/100\n",
      "1719/1719 [==============================] - 2s 1ms/step - loss: 0.0040 - accuracy: 0.9998 - val_loss: 0.0747 - val_accuracy: 0.9822\n",
      "Epoch 42/100\n",
      "1719/1719 [==============================] - 2s 1ms/step - loss: 0.0037 - accuracy: 0.9999 - val_loss: 0.0750 - val_accuracy: 0.9816\n",
      "Epoch 43/100\n",
      "1719/1719 [==============================] - 2s 1ms/step - loss: 0.0035 - accuracy: 0.9999 - val_loss: 0.0780 - val_accuracy: 0.9818\n",
      "Epoch 44/100\n",
      "1719/1719 [==============================] - 2s 1ms/step - loss: 0.0032 - accuracy: 0.9999 - val_loss: 0.0771 - val_accuracy: 0.9816\n",
      "Epoch 45/100\n",
      "1719/1719 [==============================] - 2s 1ms/step - loss: 0.0030 - accuracy: 0.9999 - val_loss: 0.0772 - val_accuracy: 0.9814\n",
      "Epoch 46/100\n",
      "1719/1719 [==============================] - 2s 1ms/step - loss: 0.0029 - accuracy: 0.9999 - val_loss: 0.0767 - val_accuracy: 0.9822\n"
     ]
    }
   ],
   "source": [
    "# Training\n",
    "\n",
    "history = layers_tuned_model.fit(X_train, Y_train, epochs=100, validation_data=(X_valid, Y_valid), callbacks=[saver_cb, early_stopping_cb, tensor_board_cb])"
   ]
  },
  {
   "cell_type": "markdown",
   "metadata": {},
   "source": [
    "### Testing Layers Tuned Model"
   ]
  },
  {
   "cell_type": "code",
   "execution_count": 24,
   "metadata": {},
   "outputs": [
    {
     "name": "stdout",
     "output_type": "stream",
     "text": [
      "313/313 [==============================] - 0s 626us/step - loss: 0.0764 - accuracy: 0.9781\n"
     ]
    },
    {
     "data": {
      "text/plain": [
       "[0.07637351006269455, 0.9781000018119812]"
      ]
     },
     "execution_count": 24,
     "metadata": {},
     "output_type": "execute_result"
    }
   ],
   "source": [
    "layers_tuned_model = keras.models.load_model('layer_tuned_mnist_model.h5')\n",
    "\n",
    "layers_tuned_model.evaluate(X_test, Y_test)"
   ]
  },
  {
   "cell_type": "markdown",
   "metadata": {},
   "source": [
    "A slight performance increase, lets look at the learning curves and see what is happening..."
   ]
  },
  {
   "cell_type": "markdown",
   "metadata": {},
   "source": [
    "#"
   ]
  },
  {
   "cell_type": "markdown",
   "metadata": {},
   "source": [
    "#"
   ]
  },
  {
   "cell_type": "markdown",
   "metadata": {},
   "source": [
    "### Tuning the Number of Nodes\n",
    "\n",
    "- We have looked at tuning our learning rate and the number of layers in the network but it appears to not be affecting our performance well. \n",
    "\n",
    "- When comparing the standard model to the model with more layers, it appears that we start to overfit our training data when we have 3 layers, which causes training to cut short as we have early stopping. \n",
    "\n",
    "- Having thought about this, I am going to experiment with the number of nodes in the first layer, without altering the number of layers in the network. This might allow us to increase the complexity of the network, without increasing it so much that we over fit the data early (like in the network with 3 hidden layers)."
   ]
  },
  {
   "cell_type": "code",
   "execution_count": 39,
   "metadata": {},
   "outputs": [],
   "source": [
    "keras.backend.clear_session()\n",
    "np.random.seed(42)\n",
    "tf.random.set_seed(42)"
   ]
  },
  {
   "cell_type": "code",
   "execution_count": 40,
   "metadata": {},
   "outputs": [],
   "source": [
    "# Creating a model with more layers in the first layer of the network.\n",
    "\n",
    "node_tuned_model = keras.models.Sequential()\n",
    "\n",
    "node_tuned_model.add(keras.layers.Flatten(input_shape=[28, 28]))\n",
    "node_tuned_model.add(keras.layers.Dense(300, activation='relu'))\n",
    "node_tuned_model.add(keras.layers.Dense(100, activation='relu'))\n",
    "node_tuned_model.add(keras.layers.Dense(10, activation='softmax'))"
   ]
  },
  {
   "cell_type": "code",
   "execution_count": 41,
   "metadata": {},
   "outputs": [],
   "source": [
    "node_tuned_model.compile(loss='sparse_categorical_crossentropy', optimizer=keras.optimizers.SGD(), metrics=['accuracy']) # Standard learning rate as that performed better. "
   ]
  },
  {
   "cell_type": "code",
   "execution_count": 42,
   "metadata": {},
   "outputs": [],
   "source": [
    "# Creating the callbacks\n",
    "saver_cb = keras.callbacks.ModelCheckpoint(\"node_tuned_mnist_model.h5\", save_best_only=True)\n",
    "early_stopping_cb = keras.callbacks.EarlyStopping(patience=20)\n",
    "\n",
    "my_logs = current_run_log_dir()\n",
    "tensor_board_cb = keras.callbacks.TensorBoard(my_logs)"
   ]
  },
  {
   "cell_type": "code",
   "execution_count": 43,
   "metadata": {},
   "outputs": [
    {
     "name": "stdout",
     "output_type": "stream",
     "text": [
      "Epoch 1/100\n",
      "1719/1719 [==============================] - 2s 1ms/step - loss: 0.6215 - accuracy: 0.8427 - val_loss: 0.3067 - val_accuracy: 0.9142\n",
      "Epoch 2/100\n",
      "1719/1719 [==============================] - 2s 1ms/step - loss: 0.2939 - accuracy: 0.9157 - val_loss: 0.2436 - val_accuracy: 0.9310\n",
      "Epoch 3/100\n",
      "1719/1719 [==============================] - 2s 1ms/step - loss: 0.2415 - accuracy: 0.9307 - val_loss: 0.2033 - val_accuracy: 0.9440\n",
      "Epoch 4/100\n",
      "1719/1719 [==============================] - 2s 1ms/step - loss: 0.2064 - accuracy: 0.9408 - val_loss: 0.1803 - val_accuracy: 0.9516\n",
      "Epoch 5/100\n",
      "1719/1719 [==============================] - 2s 1ms/step - loss: 0.1805 - accuracy: 0.9486 - val_loss: 0.1605 - val_accuracy: 0.9546\n",
      "Epoch 6/100\n",
      "1719/1719 [==============================] - 2s 1ms/step - loss: 0.1600 - accuracy: 0.9543 - val_loss: 0.1478 - val_accuracy: 0.9606\n",
      "Epoch 7/100\n",
      "1719/1719 [==============================] - 2s 1ms/step - loss: 0.1432 - accuracy: 0.9600 - val_loss: 0.1352 - val_accuracy: 0.9638\n",
      "Epoch 8/100\n",
      "1719/1719 [==============================] - 2s 1ms/step - loss: 0.1296 - accuracy: 0.9629 - val_loss: 0.1283 - val_accuracy: 0.9652\n",
      "Epoch 9/100\n",
      "1719/1719 [==============================] - 2s 1ms/step - loss: 0.1178 - accuracy: 0.9671 - val_loss: 0.1200 - val_accuracy: 0.9656\n",
      "Epoch 10/100\n",
      "1719/1719 [==============================] - 2s 1ms/step - loss: 0.1080 - accuracy: 0.9692 - val_loss: 0.1094 - val_accuracy: 0.9690\n",
      "Epoch 11/100\n",
      "1719/1719 [==============================] - 2s 1ms/step - loss: 0.0992 - accuracy: 0.9721 - val_loss: 0.1069 - val_accuracy: 0.9704\n",
      "Epoch 12/100\n",
      "1719/1719 [==============================] - 2s 1ms/step - loss: 0.0913 - accuracy: 0.9743 - val_loss: 0.1003 - val_accuracy: 0.9716\n",
      "Epoch 13/100\n",
      "1719/1719 [==============================] - 2s 1ms/step - loss: 0.0845 - accuracy: 0.9759 - val_loss: 0.0963 - val_accuracy: 0.9734\n",
      "Epoch 14/100\n",
      "1719/1719 [==============================] - 2s 1ms/step - loss: 0.0782 - accuracy: 0.9780 - val_loss: 0.0919 - val_accuracy: 0.9740\n",
      "Epoch 15/100\n",
      "1719/1719 [==============================] - 2s 1ms/step - loss: 0.0727 - accuracy: 0.9798 - val_loss: 0.0878 - val_accuracy: 0.9748\n",
      "Epoch 16/100\n",
      "1719/1719 [==============================] - 2s 1ms/step - loss: 0.0678 - accuracy: 0.9811 - val_loss: 0.0858 - val_accuracy: 0.9754\n",
      "Epoch 17/100\n",
      "1719/1719 [==============================] - 2s 1ms/step - loss: 0.0633 - accuracy: 0.9826 - val_loss: 0.0834 - val_accuracy: 0.9764\n",
      "Epoch 18/100\n",
      "1719/1719 [==============================] - 2s 1ms/step - loss: 0.0593 - accuracy: 0.9841 - val_loss: 0.0803 - val_accuracy: 0.9766\n",
      "Epoch 19/100\n",
      "1719/1719 [==============================] - 2s 1ms/step - loss: 0.0553 - accuracy: 0.9847 - val_loss: 0.0795 - val_accuracy: 0.9760\n",
      "Epoch 20/100\n",
      "1719/1719 [==============================] - 2s 1ms/step - loss: 0.0519 - accuracy: 0.9863 - val_loss: 0.0791 - val_accuracy: 0.9766\n",
      "Epoch 21/100\n",
      "1719/1719 [==============================] - 2s 1ms/step - loss: 0.0487 - accuracy: 0.9872 - val_loss: 0.0744 - val_accuracy: 0.9790\n",
      "Epoch 22/100\n",
      "1719/1719 [==============================] - 2s 1ms/step - loss: 0.0458 - accuracy: 0.9882 - val_loss: 0.0751 - val_accuracy: 0.9790\n",
      "Epoch 23/100\n",
      "1719/1719 [==============================] - 2s 1ms/step - loss: 0.0430 - accuracy: 0.9891 - val_loss: 0.0743 - val_accuracy: 0.9774\n",
      "Epoch 24/100\n",
      "1719/1719 [==============================] - 2s 1ms/step - loss: 0.0405 - accuracy: 0.9898 - val_loss: 0.0731 - val_accuracy: 0.9782\n",
      "Epoch 25/100\n",
      "1719/1719 [==============================] - 2s 1ms/step - loss: 0.0383 - accuracy: 0.9905 - val_loss: 0.0700 - val_accuracy: 0.9792\n",
      "Epoch 26/100\n",
      "1719/1719 [==============================] - 2s 1ms/step - loss: 0.0359 - accuracy: 0.9912 - val_loss: 0.0696 - val_accuracy: 0.9802\n",
      "Epoch 27/100\n",
      "1719/1719 [==============================] - 2s 1ms/step - loss: 0.0341 - accuracy: 0.9918 - val_loss: 0.0678 - val_accuracy: 0.9804\n",
      "Epoch 28/100\n",
      "1719/1719 [==============================] - 2s 1ms/step - loss: 0.0322 - accuracy: 0.9923 - val_loss: 0.0705 - val_accuracy: 0.9786\n",
      "Epoch 29/100\n",
      "1719/1719 [==============================] - 2s 1ms/step - loss: 0.0301 - accuracy: 0.9930 - val_loss: 0.0684 - val_accuracy: 0.9796\n",
      "Epoch 30/100\n",
      "1719/1719 [==============================] - 2s 1ms/step - loss: 0.0286 - accuracy: 0.9932 - val_loss: 0.0682 - val_accuracy: 0.9798\n",
      "Epoch 31/100\n",
      "1719/1719 [==============================] - 2s 1ms/step - loss: 0.0270 - accuracy: 0.9942 - val_loss: 0.0677 - val_accuracy: 0.9812\n",
      "Epoch 32/100\n",
      "1719/1719 [==============================] - 2s 1ms/step - loss: 0.0254 - accuracy: 0.9945 - val_loss: 0.0670 - val_accuracy: 0.9802\n",
      "Epoch 33/100\n",
      "1719/1719 [==============================] - 2s 1ms/step - loss: 0.0241 - accuracy: 0.9948 - val_loss: 0.0659 - val_accuracy: 0.9812\n",
      "Epoch 34/100\n",
      "1719/1719 [==============================] - 2s 1ms/step - loss: 0.0228 - accuracy: 0.9954 - val_loss: 0.0687 - val_accuracy: 0.9798\n",
      "Epoch 35/100\n",
      "1719/1719 [==============================] - 2s 1ms/step - loss: 0.0214 - accuracy: 0.9959 - val_loss: 0.0658 - val_accuracy: 0.9806\n",
      "Epoch 36/100\n",
      "1719/1719 [==============================] - 2s 1ms/step - loss: 0.0202 - accuracy: 0.9961 - val_loss: 0.0687 - val_accuracy: 0.9802\n",
      "Epoch 37/100\n",
      "1719/1719 [==============================] - 2s 1ms/step - loss: 0.0192 - accuracy: 0.9967 - val_loss: 0.0654 - val_accuracy: 0.9814\n",
      "Epoch 38/100\n",
      "1719/1719 [==============================] - 2s 1ms/step - loss: 0.0184 - accuracy: 0.9969 - val_loss: 0.0662 - val_accuracy: 0.9810\n",
      "Epoch 39/100\n",
      "1719/1719 [==============================] - 2s 1ms/step - loss: 0.0173 - accuracy: 0.9972 - val_loss: 0.0667 - val_accuracy: 0.9802\n",
      "Epoch 40/100\n",
      "1719/1719 [==============================] - 2s 1ms/step - loss: 0.0164 - accuracy: 0.9976 - val_loss: 0.0659 - val_accuracy: 0.9804\n",
      "Epoch 41/100\n",
      "1719/1719 [==============================] - 2s 1ms/step - loss: 0.0157 - accuracy: 0.9976 - val_loss: 0.0647 - val_accuracy: 0.9808\n",
      "Epoch 42/100\n",
      "1719/1719 [==============================] - 2s 1ms/step - loss: 0.0148 - accuracy: 0.9980 - val_loss: 0.0669 - val_accuracy: 0.9804\n",
      "Epoch 43/100\n",
      "1719/1719 [==============================] - 2s 1ms/step - loss: 0.0142 - accuracy: 0.9980 - val_loss: 0.0685 - val_accuracy: 0.9800\n",
      "Epoch 44/100\n",
      "1719/1719 [==============================] - 2s 1ms/step - loss: 0.0134 - accuracy: 0.9983 - val_loss: 0.0651 - val_accuracy: 0.9822\n",
      "Epoch 45/100\n",
      "1719/1719 [==============================] - 2s 1ms/step - loss: 0.0127 - accuracy: 0.9985 - val_loss: 0.0658 - val_accuracy: 0.9818\n",
      "Epoch 46/100\n",
      "1719/1719 [==============================] - 2s 1ms/step - loss: 0.0121 - accuracy: 0.9985 - val_loss: 0.0659 - val_accuracy: 0.9802\n",
      "Epoch 47/100\n",
      "1719/1719 [==============================] - 2s 1ms/step - loss: 0.0115 - accuracy: 0.9987 - val_loss: 0.0657 - val_accuracy: 0.9812\n",
      "Epoch 48/100\n",
      "1719/1719 [==============================] - 2s 1ms/step - loss: 0.0109 - accuracy: 0.9989 - val_loss: 0.0676 - val_accuracy: 0.9806\n",
      "Epoch 49/100\n",
      "1719/1719 [==============================] - 2s 1ms/step - loss: 0.0103 - accuracy: 0.9991 - val_loss: 0.0647 - val_accuracy: 0.9810\n",
      "Epoch 50/100\n",
      "1719/1719 [==============================] - 2s 1ms/step - loss: 0.0099 - accuracy: 0.9990 - val_loss: 0.0667 - val_accuracy: 0.9812\n",
      "Epoch 51/100\n",
      "1719/1719 [==============================] - 2s 1ms/step - loss: 0.0095 - accuracy: 0.9991 - val_loss: 0.0663 - val_accuracy: 0.9814\n",
      "Epoch 52/100\n",
      "1719/1719 [==============================] - 2s 1ms/step - loss: 0.0091 - accuracy: 0.9992 - val_loss: 0.0653 - val_accuracy: 0.9816\n",
      "Epoch 53/100\n",
      "1719/1719 [==============================] - 2s 1ms/step - loss: 0.0086 - accuracy: 0.9993 - val_loss: 0.0660 - val_accuracy: 0.9810\n",
      "Epoch 54/100\n",
      "1719/1719 [==============================] - 2s 1ms/step - loss: 0.0083 - accuracy: 0.9993 - val_loss: 0.0661 - val_accuracy: 0.9822\n",
      "Epoch 55/100\n",
      "1719/1719 [==============================] - 2s 1ms/step - loss: 0.0079 - accuracy: 0.9993 - val_loss: 0.0664 - val_accuracy: 0.9810\n",
      "Epoch 56/100\n",
      "1719/1719 [==============================] - 2s 1ms/step - loss: 0.0076 - accuracy: 0.9995 - val_loss: 0.0673 - val_accuracy: 0.9810\n",
      "Epoch 57/100\n",
      "1719/1719 [==============================] - 2s 1ms/step - loss: 0.0073 - accuracy: 0.9994 - val_loss: 0.0664 - val_accuracy: 0.9816\n",
      "Epoch 58/100\n",
      "1719/1719 [==============================] - 2s 1ms/step - loss: 0.0070 - accuracy: 0.9995 - val_loss: 0.0684 - val_accuracy: 0.9820\n",
      "Epoch 59/100\n",
      "1719/1719 [==============================] - 2s 1ms/step - loss: 0.0067 - accuracy: 0.9995 - val_loss: 0.0669 - val_accuracy: 0.9820\n",
      "Epoch 60/100\n",
      "1719/1719 [==============================] - 2s 1ms/step - loss: 0.0064 - accuracy: 0.9996 - val_loss: 0.0678 - val_accuracy: 0.9818\n",
      "Epoch 61/100\n",
      "1719/1719 [==============================] - 2s 1ms/step - loss: 0.0062 - accuracy: 0.9997 - val_loss: 0.0674 - val_accuracy: 0.9818\n"
     ]
    },
    {
     "data": {
      "text/plain": [
       "<keras.callbacks.History at 0x17511fc40>"
      ]
     },
     "execution_count": 43,
     "metadata": {},
     "output_type": "execute_result"
    }
   ],
   "source": [
    "node_tuned_model.fit(X_train, Y_train, epochs=100, validation_data=(X_valid, Y_valid), callbacks=[saver_cb, early_stopping_cb, tensor_board_cb])"
   ]
  },
  {
   "cell_type": "markdown",
   "metadata": {},
   "source": [
    "### Testing Node Tuned Model"
   ]
  },
  {
   "cell_type": "code",
   "execution_count": 44,
   "metadata": {},
   "outputs": [
    {
     "name": "stdout",
     "output_type": "stream",
     "text": [
      "313/313 [==============================] - 0s 676us/step - loss: 0.0638 - accuracy: 0.9801\n"
     ]
    },
    {
     "data": {
      "text/plain": [
       "[0.06384775042533875, 0.9800999760627747]"
      ]
     },
     "execution_count": 44,
     "metadata": {},
     "output_type": "execute_result"
    }
   ],
   "source": [
    "node_tuned_model = keras.models.load_model(\"node_tuned_mnist_model.h5\")\n",
    "\n",
    "node_tuned_model.evaluate(X_test, Y_test)"
   ]
  },
  {
   "cell_type": "markdown",
   "metadata": {},
   "source": [
    "### There we are at 98%."
   ]
  },
  {
   "cell_type": "markdown",
   "metadata": {},
   "source": [
    "- Although we tried to tweak the learning rate, it appears that there might be some error in my computations, as the default learning rate produced the highest score. \n",
    "\n",
    "- It could be worth exploring \"automatic\" hyperparameter tuners. \n",
    "\n",
    "- I learned that having only 200 nodes in the first layer was stopping my network from getting to 98%, although the gap is miniscule the network is able to extract a deeper representation of the data during training with 300 nodes in the first network. \n",
    "\n",
    "- However adding another layer into the network did not help the situation. This problem puzzles me at the moment as I was expecting the extra layer to allow the network to further represent the data, even with 300 nodes in the first layer, it appears that having that second layer reduces the accuracy of the network. However, I cannot explain it at the moment in time. "
   ]
  },
  {
   "cell_type": "markdown",
   "metadata": {},
   "source": []
  }
 ],
 "metadata": {
  "interpreter": {
   "hash": "24675d35c5a11b6e559b5e4fec28e1143ef6d3d4416ac15b11290f20a99bf8ea"
  },
  "kernelspec": {
   "display_name": "Python 3.10.4 ('.venv': venv)",
   "language": "python",
   "name": "python3"
  },
  "language_info": {
   "codemirror_mode": {
    "name": "ipython",
    "version": 3
   },
   "file_extension": ".py",
   "mimetype": "text/x-python",
   "name": "python",
   "nbconvert_exporter": "python",
   "pygments_lexer": "ipython3",
   "version": "3.10.4"
  },
  "orig_nbformat": 4
 },
 "nbformat": 4,
 "nbformat_minor": 2
}
