{
 "cells": [
  {
   "cell_type": "markdown",
   "id": "f694fb1b",
   "metadata": {},
   "source": [
    "# Chapter 1 Fundamentals of Machine Learning"
   ]
  },
  {
   "cell_type": "markdown",
   "id": "cc19a894",
   "metadata": {},
   "source": [
    "Where does machine learning start and end? What does it mean for a machine to learn something? In this chapter, we will clarify what machine learning is and why you may want to use it. \n",
    "\n",
    "Before looking at the whole world of machine learning, we will first look at a map and learn the main regions and the most notable landmarks. Supervised vs Unsupervised, online vs batch learning, instance based learning vs model based learning. We will then look at the work flow of a machine learning project, discuss the main challenges we will face and cover how to evaluate and fine tune our machine learning system.\n",
    "\n",
    "This chapter will introduce a lot of fundamental concepts that every data scientist should know by heart (so this chapter is important). It will be high level overview (there isn't much code in this chapter!) but we need to know this so so so so so well before moving on! SO LETS GO."
   ]
  },
  {
   "cell_type": "markdown",
   "id": "2427d83f",
   "metadata": {},
   "source": [
    "### What is Machine Learning? \n",
    "\n",
    "Machine learning is the science (and art) of programming computers to learn from data. \"Machine learning is the feild of study that gives computers the ability to learn without being explicity programmed.\" and \"A computer program is said to learn from experience E with respect to some task T and some performance measure P, if it's performance on T, measured by P impoves with experience. \n",
    "\n",
    "Examples that a computer uses to learn is called a training set. Each training example is called a training instance, or sample. \n",
    "\n",
    "An example will be spam filters, where task T is to classify emails as spam or not spam, the experience E is the training data, and the performance P needs to be defined; for example, we can use the ratio of correctly classified emails. This particular perforamce measure is called accuracy and is commonly used in classification tasks."
   ]
  },
  {
   "cell_type": "markdown",
   "id": "1c7dee5d",
   "metadata": {},
   "source": [
    "### Why Use Machine Learning? \n",
    "\n",
    "conside how you would write a spam filter using traditional programming techniques. \n",
    "\n",
    "1st we would consider what comes up in spam emails, we might look at phrases such as \"4U, credit card, free, won, amazing\" in the title, as these will often come up in spam emails a lot. Perhaps we would also notice a few patterns in the senders address, the the body of the email and other parts of the email. \n",
    "\n",
    "2nd we would write a detection algorithm for each of the patters that we have noticed, and our program would flag emails as spam if a number of these patterns are detected. \n",
    "\n",
    "3rd we would test our program and repeat the steps 1 and 2 until it is good enough to launch to the public. \n",
    "\n",
    "\n",
    "**Classic Programming**\n",
    "\n",
    "Study the problem, write the rules, evaluate ----> if bad, analyse errors and restart the process.\n",
    "\n",
    "Study the problem, write the rules, evalaute ----> if good, launch to the public.\n",
    "\n",
    "**Machine Learning**\n",
    "\n",
    "Study to problem, train a machine learning algorithm on data, evaluate ----> if bad, analyse errors and rester the process. \n",
    "\n",
    "study the problem, train a machine learning algorithm on data, evauluate ----> if good, launch to the public. \n",
    "\n",
    "\n",
    "Since the problem is difficult, our program will likely become a long list of complex rules that is hard to maintain. In contrast to this, a spam filter based on machine learning is rather simple, the computer will automatically learn what phrases are good predictors of spam by detecting unusually frequent patterns of words in the spam example training set compared to the non-spam emails. This program will be much shorter and easier to maintain and most likely more accurate then the human desinged program. \n",
    "\n",
    "\n",
    "It is also worth thinking that the earth is an ever changing envrionment, what happens if spammers learn that 4U causes emails to be placed into spam folder and start writing 'For U' in the email. If we had programmed the spam detection, we would have to go back to the program and rewrite the code to look for 'For U' instead. \n",
    "\n",
    "In contrast a machine learning algorithm, will automatically notice that 'For U' is appearing in spam emails flagged by users and adapt itself to flag them without our intervention.\n",
    "\n",
    "Another area where machine learning shines is for where problems are either too difficult for traditional programming or if there is no algorithm known. For example in speech recognition. Say we want to start simple and write a program that capabale of distinguishing the words one and two. We could notice that the word two starts with a higher pitch at the start (T), so we could hardcode the an algorithm to measure the sound intensity and use that to distinguish between one and two. But what happens when we want to distingush the words of english? what about languages of the world??????? It would be impossible. \n",
    "\n",
    "Finally machine learning can help humans learn as well! ML algorithms can be inspected to see what they have learned (although some algorithms can be hard to do this, I think we are talking about deep learning!). For instance, once a spam filteer has traoned one enough spam email, it be easily be inspected to reveal the list of words and combinations of words that it has learned to be the best predictors of spam emails. SOMETIMES, this will reveal correlations or new trends in the data that we havn't seen before, therefore leading to new understanding or better understanding of the problem. Applying ML techniques to dig into large amounts of data can help draw conclusions and discover patterns that were not immediately apparent to human analysts. \n",
    "\n",
    "---- To Summerise ---- \n",
    "\n",
    "- Problems for which existing solutions require complex programs, a lot of fine tuning or a long list of rules can benifit from machine learning by simplifying the code and perform better than traditional approaches. \n",
    "- Problems where traditional programming yeilds not so good solutions, the machine learning approach can perhaps find a solution. \n",
    "- Where the environment is fluctuating, a machine learning system can adapt to the new data.\n",
    "- Machine learning can yeild results from complex and large amounts of data that are not easily broken down and analysed by humans. "
   ]
  }
 ],
 "metadata": {
  "kernelspec": {
   "display_name": "Python 3 (ipykernel)",
   "language": "python",
   "name": "python3"
  },
  "language_info": {
   "codemirror_mode": {
    "name": "ipython",
    "version": 3
   },
   "file_extension": ".py",
   "mimetype": "text/x-python",
   "name": "python",
   "nbconvert_exporter": "python",
   "pygments_lexer": "ipython3",
   "version": "3.10.4"
  }
 },
 "nbformat": 4,
 "nbformat_minor": 5
}
