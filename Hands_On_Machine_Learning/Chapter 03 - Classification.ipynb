{
 "cells": [
  {
   "cell_type": "markdown",
   "id": "e76986b4",
   "metadata": {},
   "source": [
    "# Chapter 03 - Classification \n",
    "\n",
    "In the first chapter the author mentioned that the most common form of supervised learning tasks are regression (where we are prediciting continuous variables) and classification (prediciting classes). In the previous chapter we explored a regression task, where we looked at prediciting the house prices using several types of algorithms, such as linear regression, decision trees and random forests. In this chapter, we are going to look at classification tasks. \n",
    "\n",
    "### MNIST Dataset \n",
    "\n",
    "For this chapter we will be using the MNIST dataset, this is a dataset of 70 thousand labelled images of handwritten numbers. The set has been studied so much that it is often called the \"hello world\" of machine learning (thinking back to when I did my first hello world when I started to learn coding). Whenever people come up with new classification algorithms, the first thing they do is test it on the MNIST dataset to see how it fairs. Anyone who does machine learning or is learning machine learning has tackled or is going to tackle this dataset at some point!!!!\n",
    "\n",
    "Scikit-learn provides many helper funtions to download popular datasets such as the MNIST dataset, the following code fetches the dataset for us. "
   ]
  },
  {
   "cell_type": "code",
   "execution_count": 1,
   "id": "2cfe9963",
   "metadata": {},
   "outputs": [
    {
     "data": {
      "text/plain": [
       "dict_keys(['data', 'target', 'frame', 'categories', 'feature_names', 'target_names', 'DESCR', 'details', 'url'])"
      ]
     },
     "execution_count": 1,
     "metadata": {},
     "output_type": "execute_result"
    }
   ],
   "source": [
    "from sklearn.datasets import fetch_openml \n",
    "\n",
    "mnist = fetch_openml('mnist_784', version=1, as_frame = False) # we need to set the as_frame = false as skikit learn has updated\n",
    "\n",
    "mnist.keys()"
   ]
  },
  {
   "cell_type": "markdown",
   "id": "78bc223f",
   "metadata": {},
   "source": [
    "Datasets that are loaded in my scikit learn generally have a similar dictionary structure that include the following. \n",
    "\n",
    "- A DESCR key describing the dataset\n",
    "- A data key containing an array with one row per instance and one colum per feature \n",
    "- A target key that contains all of the labels for each of the instances\n",
    "\n",
    "Let's look at these arrays below"
   ]
  },
  {
   "cell_type": "code",
   "execution_count": 2,
   "id": "18e5871a",
   "metadata": {},
   "outputs": [],
   "source": [
    "X, y = mnist['data'], mnist['target']"
   ]
  },
  {
   "cell_type": "code",
   "execution_count": 3,
   "id": "cf439794",
   "metadata": {
    "scrolled": true
   },
   "outputs": [
    {
     "data": {
      "text/plain": [
       "(70000, 784)"
      ]
     },
     "execution_count": 3,
     "metadata": {},
     "output_type": "execute_result"
    }
   ],
   "source": [
    "X.shape"
   ]
  },
  {
   "cell_type": "code",
   "execution_count": 4,
   "id": "c34804a6",
   "metadata": {},
   "outputs": [
    {
     "data": {
      "text/plain": [
       "(70000,)"
      ]
     },
     "execution_count": 4,
     "metadata": {},
     "output_type": "execute_result"
    }
   ],
   "source": [
    "y.shape"
   ]
  },
  {
   "cell_type": "markdown",
   "id": "051f39b5",
   "metadata": {},
   "source": [
    "There are 70 thousand iages and each image is made up of 784 features. This is because each image is 28 x 28 pixels and each feature is simply representing the pixels intensity from 0 (which is white) to 255 (which is black). Lets take a look at one of the digits on our dataset. All we need to do is grab an instances feature vector (we know what these are now) and reshape it into the 28 x 28 array, and thi display it using Matplotlibs imshow() function. "
   ]
  },
  {
   "cell_type": "code",
   "execution_count": 5,
   "id": "8fb0cd79",
   "metadata": {},
   "outputs": [
    {
     "data": {
      "image/png": "[encoded data removed]",
      "text/plain": [
       "<Figure size 432x288 with 1 Axes>"
      ]
     },
     "metadata": {
      "needs_background": "light"
     },
     "output_type": "display_data"
    }
   ],
   "source": [
    "import matplotlib as mpl\n",
    "import matplotlib.pyplot as plt\n",
    "import numpy as np\n",
    "\n",
    "first_digit = X[0]\n",
    "\n",
    "first_digit_image = first_digit.reshape(28, 28)\n",
    "\n",
    "plt.imshow(first_digit_image, cmap='binary')\n",
    "plt.axis('off')\n",
    "plt.show()"
   ]
  },
  {
   "cell_type": "raw",
   "id": "c731bbc7",
   "metadata": {},
   "source": [
    "So its a five! Lets look at the first label so prove this."
   ]
  },
  {
   "cell_type": "code",
   "execution_count": 6,
   "id": "ab8ca39f",
   "metadata": {},
   "outputs": [
    {
     "data": {
      "text/plain": [
       "'5'"
      ]
     },
     "execution_count": 6,
     "metadata": {},
     "output_type": "execute_result"
    }
   ],
   "source": [
    "y[0]"
   ]
  },
  {
   "cell_type": "markdown",
   "id": "9cd638c0",
   "metadata": {},
   "source": [
    "Perfect it's a five, note that the label is a string. Most ML algorithms expect numbers to be fed into them lets cast y to an integer. "
   ]
  },
  {
   "cell_type": "code",
   "execution_count": 7,
   "id": "6f3b496f",
   "metadata": {},
   "outputs": [],
   "source": [
    "# converting all of the strings into integers\n",
    "y = y.astype(np.uint8)"
   ]
  },
  {
   "cell_type": "markdown",
   "id": "bbae61ad",
   "metadata": {},
   "source": [
    "Remember that before we go onto analyse the dataset we need to create a test set. The MNIST dataset is actually already split into a training and test split (the first 60,000 are training and the last 10,000 is testing) so lets create our test train split. "
   ]
  },
  {
   "cell_type": "code",
   "execution_count": 8,
   "id": "ac367374",
   "metadata": {},
   "outputs": [],
   "source": [
    "X_train, y_train, X_test, y_test = X[:60000], y[:60000], X[60000:], y[60000:]"
   ]
  },
  {
   "cell_type": "markdown",
   "id": "02da897a",
   "metadata": {},
   "source": [
    "It should be noted that the dataset is already shuffled which is good because it means that the cross validation folds should contain similar amount of each digit, as well as this machine learning algorithms don't tend to like being fed instances that are too similar one after eachother, shuffling the dataset ensures this wont happen. "
   ]
  },
  {
   "cell_type": "markdown",
   "id": "56f8c9a9",
   "metadata": {},
   "source": [
    "### Training a Binary Classifer\n",
    "\n",
    "Let us go through a simpler problem for now, and simply try and identify one digit - for example the number 5 we have just looked at !!!! This \"5-detector\" lol will be an example of what is called a **binary classifer**, capable of distinguishing between just two classes (5 and not 5). Lets create the target vectors for the classification task.\n"
   ]
  },
  {
   "cell_type": "code",
   "execution_count": 9,
   "id": "04ccbcdf",
   "metadata": {},
   "outputs": [],
   "source": [
    "y_train_5 = (y_train == 5) # setting the 5 labels to be the 5 training set\n",
    "y_test_5 = (y_test == 5)"
   ]
  },
  {
   "cell_type": "markdown",
   "id": "2aac7f17",
   "metadata": {},
   "source": [
    "Now lets pick a classifier and train it. A good place to start is with a **stochastic gradient descent (SGD) classifier** using Scikitlearns SDGClassifer class. This has the advantage of being able to handle very large datasets efficiently. This is in part because the SGD classifier deals with training instances independently, one at a time (this also makes the SDG classifier really good for online learning) as we will see later. Lets create an SGD classifier and train it on the whole training dataset. "
   ]
  },
  {
   "cell_type": "code",
   "execution_count": 10,
   "id": "6baf0100",
   "metadata": {},
   "outputs": [
    {
     "data": {
      "text/plain": [
       "SGDClassifier(random_state=42)"
      ]
     },
     "execution_count": 10,
     "metadata": {},
     "output_type": "execute_result"
    }
   ],
   "source": [
    "from sklearn.linear_model import SGDClassifier \n",
    "\n",
    "sgd_clf = SGDClassifier(random_state=42)\n",
    "sgd_clf.fit(X_train, y_train_5) # Either it is a 5 or it isn't a 5"
   ]
  },
  {
   "cell_type": "markdown",
   "id": "efccba20",
   "metadata": {},
   "source": [
    "NOTE: The stochastic gradient descent relies on randomness during training (hence the name \"stochastic\"). If we want repoducible results, we need to set the random seed. "
   ]
  },
  {
   "cell_type": "markdown",
   "id": "c68cab36",
   "metadata": {},
   "source": [
    "Now lets use it to classify an image"
   ]
  },
  {
   "cell_type": "code",
   "execution_count": 11,
   "id": "009eda6f",
   "metadata": {
    "scrolled": false
   },
   "outputs": [
    {
     "data": {
      "text/plain": [
       "array([ True])"
      ]
     },
     "execution_count": 11,
     "metadata": {},
     "output_type": "execute_result"
    }
   ],
   "source": [
    "sgd_clf.predict([first_digit]) # note that this is in [] "
   ]
  },
  {
   "cell_type": "markdown",
   "id": "ba90a73d",
   "metadata": {},
   "source": [
    "YAY, the classifier guesses that the image is a 5 (True). This looks like its guessed right in this case. Now let's evaluate this models performance overall.\n",
    "\n",
    "### Performance Measure\n",
    "\n",
    "Evaluating a classifier is often significantly trickier than evaluating a regressor, so we will be spending a large part of this chapter covering the this topic. There are many perfromance measures at our disposal, so grab a coffee and get ready to learn some new concepts and some new acronyms!!!!!!\n",
    "\n",
    "### Measuring Accuracy Using Cross-Validaton \n",
    "\n",
    "A great way to evaluate a model is to use cross validation, just like we did in chapter 2.\n",
    "\n",
    "However sometimes we will need more control over the cross validation process than what scikit-learn provides to us. In these cases, you can implement cross validation by hand. The following code does roughly the same thing as scikitlearns cross_val_score() function and it prints the same result. \n",
    "\n",
    "Lets take this oppourtunity to understand the inner mechanics of how the cross val score function work."
   ]
  },
  {
   "cell_type": "code",
   "execution_count": 12,
   "id": "6abd1a0c",
   "metadata": {},
   "outputs": [
    {
     "name": "stdout",
     "output_type": "stream",
     "text": [
      "0.96785\n"
     ]
    }
   ],
   "source": [
    "from sklearn.model_selection import StratifiedKFold\n",
    "from sklearn.base import clone\n",
    "\n",
    "skfolds = StratifiedKFold(n_splits=3, shuffle=True, random_state=42)\n",
    "\n",
    "for train_index, test_index in skfolds.split(X_train, y_train_5): # splitting the data training set and label\n",
    "    clone_clf = clone(sgd_clf) # create a clone of the sgd classifier\n",
    "    X_train_folds = X_train[train_index] # assign the value to the x train set \n",
    "    y_train_folds = y_train_5[train_index] # assign the value to the y train set\n",
    "    X_test_fold = X_train[test_index] # assign the value to the x test set \n",
    "    y_test_fold = y_train_5[test_index] #assign the value to the y test set\n",
    "\n",
    "clone_clf.fit(X_train_folds, y_train_folds)\n",
    "y_prediction = clone_clf.predict(X_test_fold)\n",
    "number_correct = sum(y_prediction == y_test_fold)\n",
    "print(number_correct / len(y_prediction))"
   ]
  },
  {
   "cell_type": "markdown",
   "id": "7543f1fb",
   "metadata": {},
   "source": [
    "The StratifiedKFold class performs stratified sampling to produce folds that contan a representative ratio of each class. At each iteration the code creates a clone of the classifier, trains that clone classifier on the training folds and makes predictions on that test. It then counts the number of correct predictiions and outputs the ratio of correct predictions\n",
    "\n",
    "Now lets use the cross_val_score() function using our SDG classifier using K fold cross validation with three folds. Remeber that K fold cross validation means splitting the the training set into K folds (in this case 3), then making predictions and evaluating them on each fold using a model trained on remaining folds. "
   ]
  },
  {
   "cell_type": "code",
   "execution_count": 13,
   "id": "8d0a785b",
   "metadata": {},
   "outputs": [
    {
     "data": {
      "text/plain": [
       "array([0.95035, 0.96035, 0.9604 ])"
      ]
     },
     "execution_count": 13,
     "metadata": {},
     "output_type": "execute_result"
    }
   ],
   "source": [
    "from sklearn.model_selection import cross_val_score\n",
    "\n",
    "cross_val_score(sgd_clf, X_train, y_train_5, cv=3, scoring='accuracy')"
   ]
  },
  {
   "cell_type": "markdown",
   "id": "41318701",
   "metadata": {},
   "source": [
    "WOW! above 90% accuracy (the ratio of correct predictions) on all cross validation folds! This looks amazing, but sadly this isn't the case, before we get too excited lets look at a really dumb classifier that simply just classifies everything in this dataset as \"not a 5\"."
   ]
  },
  {
   "cell_type": "code",
   "execution_count": 14,
   "id": "7235f126",
   "metadata": {},
   "outputs": [],
   "source": [
    "from sklearn.base import BaseEstimator\n",
    "\n",
    "class Never5Classifier(BaseEstimator):\n",
    "    def fit(self, X, y=None):\n",
    "        return self\n",
    "    def predict(self, X):\n",
    "        return np.zeros((len(X), 1), dtype=bool)"
   ]
  },
  {
   "cell_type": "markdown",
   "id": "07ba7291",
   "metadata": {},
   "source": [
    "Can we guess the models accuracy??? Lets have a look!"
   ]
  },
  {
   "cell_type": "code",
   "execution_count": 15,
   "id": "6cd23b91",
   "metadata": {},
   "outputs": [
    {
     "data": {
      "text/plain": [
       "array([0.91125, 0.90855, 0.90915])"
      ]
     },
     "execution_count": 15,
     "metadata": {},
     "output_type": "execute_result"
    }
   ],
   "source": [
    "never_5_clf = Never5Classifier()\n",
    "cross_val_score(never_5_clf, X_train, y_train_5, cv=3, scoring='accuracy')"
   ]
  },
  {
   "cell_type": "markdown",
   "id": "56d7feaf",
   "metadata": {},
   "source": [
    "Lol thats funny, we have around 90% accuracy by simply just saying everything is a 5. This is becuase only about 10% of the MNIST dataset is a 5. So if we always guess that it is not a 5, we will still get a really high score. \n",
    "\n",
    "This demonstrates why accuracy is generally not a great performance metric for classifiers. Especially when we are dealing with skewed datasets (when one of the classes is much more fequent than the other).\n",
    "\n",
    "### Confusion Matrix \n",
    "\n",
    "A much better way to evaluate the performance of a classifier is the use a confusion matrix. The general idea for the confusion matrix is to count the number of times instances of a class A are classified as class B. For example, to know how many times the classifier confused images of 5s as 3s we would look on the 5th row an the 3rd column of the confusion matrix. \n",
    "\n",
    "To compute the confusion matrix, we first need a set of predictions, so that they can be compared with the actual targets. For this we use the cross_val_predict() function. "
   ]
  },
  {
   "cell_type": "code",
   "execution_count": 16,
   "id": "1ab0e7c6",
   "metadata": {},
   "outputs": [],
   "source": [
    "from sklearn.model_selection import cross_val_predict\n",
    "\n",
    "y_train_predictions = cross_val_predict(sgd_clf, X_train, y_train_5, cv=3)"
   ]
  },
  {
   "cell_type": "markdown",
   "id": "e6c00555",
   "metadata": {},
   "source": [
    "Just like cross_val_score(), cross_val_predict() preforms Kfold cross validations but instead of returning evaluation scores, it returns the predictions made on each test fold. This means that we get a clean predicition for each instance in the training set (the term 'clean' means that the predicition was made by the model on an instance that it has not seen before in training). \n",
    "\n",
    "Now that we are ready to get to the confusion matrix we can get this by using the confusion_matrix() function. Just pass the target class and the predicted class into the function."
   ]
  },
  {
   "cell_type": "code",
   "execution_count": 17,
   "id": "f5b24562",
   "metadata": {},
   "outputs": [
    {
     "data": {
      "text/plain": [
       "array([[53892,   687],\n",
       "       [ 1891,  3530]])"
      ]
     },
     "execution_count": 17,
     "metadata": {},
     "output_type": "execute_result"
    }
   ],
   "source": [
    "from sklearn.metrics import confusion_matrix\n",
    "\n",
    "confusion_matrix(y_train_5, y_train_predictions)"
   ]
  },
  {
   "cell_type": "markdown",
   "id": "faa0029c",
   "metadata": {},
   "source": [
    "Each row in the confusion matrix represents and **actual** class, while each column represents a **predicted** class. The first row of this matrix considers the non-5 images (the negative class). 53892 of them were correctly predicted as negative, while the remaining 687 were wrongly classified as 5s (flase positive) when they actually were not 5s. On the second row is the positive class (images of 5), 1891 were falsely identified as not 5s (false negative) when in fact there were and 3530 images were correctly identified as 5s (true positive) in the cross validation. A perfect classifier would only have true positives and true negatives while having nonzero values on the main diagonal (top left to bottom right). "
   ]
  },
  {
   "cell_type": "code",
   "execution_count": 18,
   "id": "e7f4d1da",
   "metadata": {},
   "outputs": [
    {
     "data": {
      "text/plain": [
       "array([[54579,     0],\n",
       "       [    0,  5421]])"
      ]
     },
     "execution_count": 18,
     "metadata": {},
     "output_type": "execute_result"
    }
   ],
   "source": [
    "y_train_perfect_predicitions = y_train_5 # we are pretending that we have reached perfect predictions\n",
    "confusion_matrix(y_train_5, y_train_perfect_predicitions)"
   ]
  },
  {
   "cell_type": "markdown",
   "id": "593b38d4",
   "metadata": {},
   "source": [
    "The confusion matrix gives you a lot of information, but sometimes we may prefer a more concise metric. An interesting metric is the **precision** of the classifier, this is the accuracy of positive predicitions, and is defined as:\n",
    "\n",
    "Equation 3.1 Precision\n",
    "\n",
    "precision $= \\frac{TP}{TP + FP}$\n",
    "\n",
    "TP is the true positive rate and FP is the false positive rate. A trivial way to have 100% precision is to make only one prediction and make sure that predicition is correct (precision = 1/1 = 100%). But this would not be very useful would it!!! So typically we use precision in conjunction with **recall**, also called **sensitivty** or the **True positive rate**, this is the ratio of positive instances that are correctly detected by the classifier. \n",
    "\n",
    "Equation 3.2 Recall / True Positive Rate\n",
    "\n",
    "Recall $= \\frac{TP}{TP + FN}$\n",
    "\n",
    "FN is the number of false negatives predictd by the classifier (the 5s that were missclassifed as 3s) \n",
    "\n",
    "### Precision and Recall \n",
    "\n",
    "Scikit-learn provides several functions that allow us computre classifier metrics, including precision and recall"
   ]
  },
  {
   "cell_type": "code",
   "execution_count": 19,
   "id": "779da069",
   "metadata": {},
   "outputs": [
    {
     "data": {
      "text/plain": [
       "0.8370879772350012"
      ]
     },
     "execution_count": 19,
     "metadata": {},
     "output_type": "execute_result"
    }
   ],
   "source": [
    "from sklearn.metrics import precision_score, recall_score\n",
    "precision_score(y_train_5, y_train_predictions)"
   ]
  },
  {
   "cell_type": "code",
   "execution_count": 20,
   "id": "e8508f85",
   "metadata": {},
   "outputs": [
    {
     "data": {
      "text/plain": [
       "0.6511713705958311"
      ]
     },
     "execution_count": 20,
     "metadata": {},
     "output_type": "execute_result"
    }
   ],
   "source": [
    "recall_score(y_train_5, y_train_predictions)"
   ]
  },
  {
   "cell_type": "markdown",
   "id": "ba93bd2c",
   "metadata": {},
   "source": [
    "Now that we have broken our SGD classifier down we can now see it is not as great as first seen. We now can see that when our classifier says its a 5, its only a 5 83% of the time, not the > 90% that we got using accuracy. Moreover, our classifier only picks up 65% of the 5s that are actually in the dataset! Thats not great. \n",
    "\n",
    "It is often convenient when we are comparing classifiers to merge the precision and recall into one metric, this metric is termed the $F_1$ score. The $F_1$ score is the **harmonic mean** of precision and recall (Equation 3.3). Whereas the regular mean treats all values equally, the harmonic mean gives much more weight to low values. As a result the classifier will only get a high $F_1$ score if both recall and precision are high. \n",
    "\n",
    "Equation 3.3 $F_1$ score \n",
    "\n",
    "$F_1$  = $\\frac{2}{\\frac{1}{precision}+\\frac{1}{recall}}$ = $2 \\times \\frac{precision \\times recall}{precision + recall}$ = $\\frac{TP}{TP} + \\frac{FN + FP}{2}$\n",
    "\n",
    "To compute the $F_1$ score, we can simply call the $F_1$ function. "
   ]
  },
  {
   "cell_type": "code",
   "execution_count": 21,
   "id": "f9edf1d3",
   "metadata": {},
   "outputs": [
    {
     "data": {
      "text/plain": [
       "0.7325171197343846"
      ]
     },
     "execution_count": 21,
     "metadata": {},
     "output_type": "execute_result"
    }
   ],
   "source": [
    "from sklearn.metrics import f1_score\n",
    "\n",
    "f1_score(y_train_5, y_train_predictions)"
   ]
  },
  {
   "cell_type": "markdown",
   "id": "20ade104",
   "metadata": {},
   "source": [
    "The $F_1$ score favours classifiers that have similar precision and recall. This is not always what we want however. Some contexts demand that we care more about precision and others demand more recall. If we were training a classifier to filter content for a childerens site. We would favour precision to be high as we would prefere a classifier that rejects many good videos (low recall) but we know that all videos on the website are okay for the child to watch. We might even want to have a human pipeline at the end that double checks the classifier and its decision. Whereas if we were building a security camera software, we would prefer to have a higher recall. This means that the security guards may be altered to some false alarms (false postives and lower precision) but we can be sure that all of the shoplifters are caught. \n",
    "\n",
    "Unfortunately, we cannot have it both ways! Increasing precision of the model reduces recall and increasing recall reduces precision (there is no way we can increase both at the same time). This is called the **precision recall tradeoff**."
   ]
  },
  {
   "cell_type": "markdown",
   "id": "09730fef",
   "metadata": {},
   "source": [
    "### Precision/Recall Trade-off \n",
    "\n",
    "To understand this trade off, lets take a dive into how a Stochastic Gradient Descent Classifier 'SDGClassifier' makes it decisions. For each instance that it is fed, it computes a **decision function**. If this score is bigger than a certain threshold, it is assinged to the positive class, if it is lower than a cerain threshold, we assign it to the negative class. \n",
    "\n",
    "Scikit-learn doesn't let us set the threshold value directly, but it does give us the access to the **decision scores** that are used to make these predictions. Instead of calling the classifiers predict() method, we can use its **decision_function()** method, this will return the score for each instance and then we can use any threshold value we want to make predictions based on these scores. "
   ]
  },
  {
   "cell_type": "code",
   "execution_count": 26,
   "id": "981b931a",
   "metadata": {},
   "outputs": [
    {
     "data": {
      "text/plain": [
       "array([2164.22030239])"
      ]
     },
     "execution_count": 26,
     "metadata": {},
     "output_type": "execute_result"
    }
   ],
   "source": [
    "y_scores = sgd_clf.decision_function([first_digit])\n",
    "y_scores"
   ]
  },
  {
   "cell_type": "code",
   "execution_count": 29,
   "id": "c270cc83",
   "metadata": {},
   "outputs": [
    {
     "data": {
      "text/plain": [
       "array([ True])"
      ]
     },
     "execution_count": 29,
     "metadata": {},
     "output_type": "execute_result"
    }
   ],
   "source": [
    "threshold = 0\n",
    "y_some_digit_predict = (y_scores > threshold)\n",
    "y_some_digit_predict"
   ]
  },
  {
   "cell_type": "code",
   "execution_count": 31,
   "id": "165f8112",
   "metadata": {},
   "outputs": [
    {
     "data": {
      "text/plain": [
       "array([False])"
      ]
     },
     "execution_count": 31,
     "metadata": {},
     "output_type": "execute_result"
    }
   ],
   "source": [
    "threshold = 8000\n",
    "y_some_digit_predict = (y_scores > threshold)\n",
    "y_some_digit_predict"
   ]
  },
  {
   "cell_type": "markdown",
   "id": "298e6172",
   "metadata": {},
   "source": [
    "As we can see, manipulating the threshold value and then saying for all predictions to be positive it must be above that value we can decrease the recall, as we have done so here. The classifier is supposed to detect that the image is a 5, when the threshold is 0 it gets it, when it is 8000 it doesn't.\n",
    "\n",
    "How do we decide what threshold value to use??? First we use the **cross_val_predict()** method to get the scores of all of the instances in the training set, but this time specifiy that we want to return the decision function scores instead of the predictions. \n"
   ]
  },
  {
   "cell_type": "code",
   "execution_count": 36,
   "id": "2c799c03",
   "metadata": {},
   "outputs": [],
   "source": [
    "y_scores = cross_val_predict(sgd_clf, X_train, y_train_5, cv=3,\n",
    "                             method=\"decision_function\")"
   ]
  },
  {
   "cell_type": "markdown",
   "id": "cc38b04e",
   "metadata": {},
   "source": [
    "With the decision function scores we can use the **precision_recall_curve()** function that will compute precision and recall for all possible thresholds. "
   ]
  },
  {
   "cell_type": "code",
   "execution_count": 37,
   "id": "0b4acd13",
   "metadata": {},
   "outputs": [],
   "source": [
    "from sklearn.metrics import precision_recall_curve\n",
    "\n",
    "precisions, recalls, thresholds = precision_recall_curve(y_train_5, y_scores)"
   ]
  },
  {
   "cell_type": "code",
   "execution_count": 41,
   "id": "556b3a24",
   "metadata": {},
   "outputs": [
    {
     "data": {
      "image/png": "[encoded data removed]",
      "text/plain": [
       "<Figure size 720x288 with 1 Axes>"
      ]
     },
     "metadata": {
      "needs_background": "light"
     },
     "output_type": "display_data"
    }
   ],
   "source": [
    "def plot_precision_recall_vs_threshold(precisions, recalls, thresholds):\n",
    "    plt.plot(thresholds, precisions[:-1], \"b--\", label=\"Precision\", linewidth=2)\n",
    "    plt.plot(thresholds, recalls[:-1], \"g-\", label=\"Recall\", linewidth=2)\n",
    "    plt.legend(loc=\"center right\", fontsize=16) # Not shown in the book\n",
    "    plt.xlabel(\"Threshold\", fontsize=16)        # Not shown\n",
    "    plt.grid(True)                              # Not shown\n",
    "    plt.axis([-50000, 50000, 0, 1])             # Not shown\n",
    "\n",
    "\n",
    "\n",
    "recall_90_precision = recalls[np.argmax(precisions >= 0.90)]\n",
    "threshold_90_precision = thresholds[np.argmax(precisions >= 0.90)]\n",
    "\n",
    "\n",
    "plt.figure(figsize=(10, 4))                                                                  # Not shown\n",
    "plot_precision_recall_vs_threshold(precisions, recalls, thresholds)\n",
    "plt.plot([threshold_90_precision, threshold_90_precision], [0., 0.9], \"r:\")                 # Not shown\n",
    "plt.plot([-50000, threshold_90_precision], [0.9, 0.9], \"r:\")                                # Not shown\n",
    "plt.plot([-50000, threshold_90_precision], [recall_90_precision, recall_90_precision], \"r:\")# Not shown\n",
    "plt.plot([threshold_90_precision], [0.9], \"ro\")                                             # Not shown\n",
    "plt.plot([threshold_90_precision], [recall_90_precision], \"ro\")                             # Not shown                                          # Not shown\n",
    "plt.show()"
   ]
  },
  {
   "cell_type": "markdown",
   "id": "f73da67c",
   "metadata": {},
   "source": [
    "But why is the precision curve much more bumpier than the recall curve, sometimes precision will go up and down when we raise the threshold. This might be because raising the precision takes it from 4/5 which is 80% to 3/4 which is 75% whereas recall can only go down when we raise the threshold. \n",
    "\n",
    "Another good way to select a good precision recall tradeoff is to plot the precision directly against the recall. "
   ]
  },
  {
   "cell_type": "code",
   "execution_count": 43,
   "id": "7dde10c3",
   "metadata": {},
   "outputs": [
    {
     "data": {
      "image/png": "[encoded data removed]",
      "text/plain": [
       "<Figure size 576x432 with 1 Axes>"
      ]
     },
     "metadata": {
      "needs_background": "light"
     },
     "output_type": "display_data"
    }
   ],
   "source": [
    "def plot_precision_vs_recall(precisions, recalls):\n",
    "    plt.plot(recalls, precisions, \"b-\", linewidth=2)\n",
    "    plt.xlabel(\"Recall\", fontsize=16)\n",
    "    plt.ylabel(\"Precision\", fontsize=16)\n",
    "    plt.axis([0, 1, 0, 1])\n",
    "    plt.grid(True)\n",
    "\n",
    "plt.figure(figsize=(8, 6))\n",
    "plot_precision_vs_recall(precisions, recalls)\n",
    "plt.plot([recall_90_precision, recall_90_precision], [0., 0.9], \"r:\")\n",
    "plt.plot([0.0, recall_90_precision], [0.9, 0.9], \"r:\")\n",
    "plt.plot([recall_90_precision], [0.9], \"ro\")\n",
    "plt.show()"
   ]
  },
  {
   "cell_type": "markdown",
   "id": "989a8f46",
   "metadata": {},
   "source": [
    "What can we see from this graph, we can see that after around 0.6 recall, we get a really big drop in precision. This means we will most likely want to set the recall rate to 0.6 as anymore and we will loose any form of precision we had in the system, but really **the choice depends on the project at hand**. Suppose we want to aim for about 90% precision, we look at the first plot we made and find that we need to use a threshold of about 8000. To be more precise, we can search for the lowest threshold that gives us at least 90% precision using **np.argmax()** this will give us the first index of the maximum value, which in this case is the first true value. "
   ]
  },
  {
   "cell_type": "code",
   "execution_count": 50,
   "id": "75ea5fe6",
   "metadata": {},
   "outputs": [],
   "source": [
    "threshold_90_precision = thresholds[np.argmax(precisions >= 0.90)]"
   ]
  },
  {
   "cell_type": "markdown",
   "id": "1b37d363",
   "metadata": {},
   "source": [
    "To make predicitions (on the training set for now) instead of calling the classifiers **predict()** method like ususal we will run this code. "
   ]
  },
  {
   "cell_type": "code",
   "execution_count": 51,
   "id": "bb4e8ca5",
   "metadata": {},
   "outputs": [],
   "source": [
    "y_training_90_predict = (y_scores >= threshold_90_precision)"
   ]
  },
  {
   "cell_type": "code",
   "execution_count": 53,
   "id": "dce5a9d2",
   "metadata": {},
   "outputs": [
    {
     "data": {
      "text/plain": [
       "0.9000345901072293"
      ]
     },
     "execution_count": 53,
     "metadata": {},
     "output_type": "execute_result"
    }
   ],
   "source": [
    "precision_score(y_train_5, y_training_90_predict)"
   ]
  },
  {
   "cell_type": "code",
   "execution_count": 55,
   "id": "de564bd5",
   "metadata": {},
   "outputs": [
    {
     "data": {
      "text/plain": [
       "0.4799852425751706"
      ]
     },
     "execution_count": 55,
     "metadata": {},
     "output_type": "execute_result"
    }
   ],
   "source": [
    "recall_score(y_train_5, y_training_90_predict)"
   ]
  },
  {
   "cell_type": "markdown",
   "id": "e6b55853",
   "metadata": {},
   "source": [
    "We now have a 90% precise classifier, as we can see it is sort of easy to make our own classifier with custom precision and recall scores. All we need to do is set the threshold high enough or low enough and we will reach it. But remember that a high precision classifier is useless without good recall!!!!!"
   ]
  },
  {
   "cell_type": "markdown",
   "id": "5c69eb38",
   "metadata": {},
   "source": [
    "### ROC Curve \n",
    "\n",
    "The **reciever operator characteristic (ROC)** curve is another tool that machine learning engineers use with binary classifiers. It is very similar to the **precision recall** curve, but instead of plotting precision vs recall the **ROC** curve plots the true positive rate (TPR) vs the false positive rate (FPR). Note that TRP is another word for recall. The FPR is the ratio of negatie instances that are incorrectly identified as positive instances. This is equal the 1 - the true negative rate, which is the negative instances correctly indentified as negative. The TNR is also called specificity. Which is why the ROC has also earned the name sensitivity vs 1- specificity.\n",
    "\n",
    "To plot the ROC curve we first need to use the **roc_curve()** function to compute the TPR and FPR for various thresholds"
   ]
  },
  {
   "cell_type": "code",
   "execution_count": 58,
   "id": "f9d8893f",
   "metadata": {},
   "outputs": [],
   "source": [
    "from sklearn.metrics import roc_curve\n",
    "\n",
    "fpr, tpr, thresholds = roc_curve(y_train_5, y_scores)"
   ]
  },
  {
   "cell_type": "markdown",
   "id": "17f51adf",
   "metadata": {},
   "source": [
    "This allows us to plot the ROC curve using matplotlib."
   ]
  },
  {
   "cell_type": "code",
   "execution_count": 60,
   "id": "a373d7f9",
   "metadata": {},
   "outputs": [
    {
     "data": {
      "image/png": "[encoded data removed]",
      "text/plain": [
       "<Figure size 576x432 with 1 Axes>"
      ]
     },
     "metadata": {
      "needs_background": "light"
     },
     "output_type": "display_data"
    }
   ],
   "source": [
    "def plot_roc_curve(fpr, tpr, label=None):\n",
    "    plt.plot(fpr, tpr, linewidth=2, label=label)\n",
    "    plt.plot([0, 1], [0, 1], 'k--') # dashed diagonal\n",
    "    plt.axis([0, 1, 0, 1])                                    # Not shown in the book\n",
    "    plt.xlabel('False Positive Rate (Fall-Out)', fontsize=16) # Not shown\n",
    "    plt.ylabel('True Positive Rate (Recall)', fontsize=16)    # Not shown\n",
    "    plt.grid(True)                                            # Not shown\n",
    "\n",
    "plt.figure(figsize=(8, 6))                                    # Not shown\n",
    "plot_roc_curve(fpr, tpr)\n",
    "fpr_90 = fpr[np.argmax(tpr >= recall_90_precision)]           # Not shown\n",
    "plt.plot([fpr_90, fpr_90], [0., recall_90_precision], \"r:\")   # Not shown\n",
    "plt.plot([0.0, fpr_90], [recall_90_precision, recall_90_precision], \"r:\")  # Not shown\n",
    "plt.plot([fpr_90], [recall_90_precision], \"ro\")               # Not shown                                 \n",
    "plt.show()"
   ]
  },
  {
   "cell_type": "markdown",
   "id": "af98757b",
   "metadata": {},
   "source": [
    "Like before, there is still a trad eoff between a higher recall (TPR) and the more false positives we introduce (FPR). The dotted line represents the ROC of a purely random classifier, a good classifier always stays far away from this line, the more toward the top left corner the better. \n",
    "\n",
    "One way commonly used to compare classifiers is the **area under the curve (AUC)**. A perfect classifier will have an AUC of 1, whereas a random classifier will have an AUC 0.5. Scikit learn provides us with a function to compute the AUC of an ROC curve"
   ]
  },
  {
   "cell_type": "code",
   "execution_count": 62,
   "id": "368d35e8",
   "metadata": {},
   "outputs": [
    {
     "data": {
      "text/plain": [
       "0.9604938554008616"
      ]
     },
     "execution_count": 62,
     "metadata": {},
     "output_type": "execute_result"
    }
   ],
   "source": [
    "from sklearn.metrics import roc_auc_score\n",
    "roc_auc_score(y_train_5, y_scores)"
   ]
  },
  {
   "cell_type": "markdown",
   "id": "6d9c7a55",
   "metadata": {},
   "source": [
    "But since the ROC curve and the precision recall curve to practically the same thing, how do we know which one to choose??? As a rule of thumb. We should use the PR curve whenever a positive instance is rare or when we care more about the flase positive than the false negatives, BUT when we care more about the false negatives, we should use the ROC curve. Like above, we might say that this classifier is really good when looking at the ROC curve, but when we find that positive instances are really rare (the 5's) this ROC curve becomes a little less fantastic....\n",
    "\n",
    "How lets train a random forest classifier and compare the random forests classifiers ROC to the SGD ROC. To do this we need to get the scores for each instance in the training set but due to the way a RF works (we will explore in chapter 7) the RF does not have a **decision_function()** method. Instead, it uses a **predict_proba()** function that outputs an array containing a row per instance and a columns per class, each containing the probability that the instace belongs in the given class (70% chance that the image belongs to the 5 class) "
   ]
  },
  {
   "cell_type": "code",
   "execution_count": 64,
   "id": "031ac2f8",
   "metadata": {},
   "outputs": [],
   "source": [
    "from sklearn.ensemble import RandomForestClassifier\n",
    "\n",
    "rf_clf = RandomForestClassifier(random_state=42)\n",
    "y_probas_forest = cross_val_predict(rf_clf, X_train, y_train_5, cv=3, method='predict_proba')"
   ]
  },
  {
   "cell_type": "markdown",
   "id": "dcf9001c",
   "metadata": {},
   "source": [
    "The ROC curve function expects labels and scores, but we can also feed it class probabilities. Lets use the positive classes probability as the score for the ROC curve."
   ]
  },
  {
   "cell_type": "code",
   "execution_count": 65,
   "id": "97b31b30",
   "metadata": {},
   "outputs": [],
   "source": [
    "y_forest_scores = y_probas_forest[:, 1] #This sets the score to equal the probability of being in the positive class\n"
   ]
  },
  {
   "cell_type": "code",
   "execution_count": 67,
   "id": "19fdd390",
   "metadata": {},
   "outputs": [],
   "source": [
    "forest_fpr, forest_tpr, forest_thresholds = roc_curve(y_train_5, y_forest_scores)"
   ]
  },
  {
   "cell_type": "code",
   "execution_count": 73,
   "id": "7658c955",
   "metadata": {},
   "outputs": [
    {
     "data": {
      "image/png": "[encoded data removed]",
      "text/plain": [
       "<Figure size 576x432 with 1 Axes>"
      ]
     },
     "metadata": {
      "needs_background": "light"
     },
     "output_type": "display_data"
    }
   ],
   "source": [
    "recall_for_forest = forest_tpr[np.argmax(forest_fpr >= fpr_90)]\n",
    "\n",
    "plt.figure(figsize=(8, 6))\n",
    "plt.plot(fpr, tpr, \"b:\", linewidth=2, label=\"SGD\")\n",
    "plot_roc_curve(forest_fpr, forest_tpr, \"Random Forest\")\n",
    "plt.plot([fpr_90, fpr_90], [0., recall_90_precision], \"r:\")\n",
    "plt.plot([0.0, fpr_90], [recall_90_precision, recall_90_precision], \"r:\")\n",
    "plt.plot([fpr_90], [recall_90_precision], \"ro\")\n",
    "plt.plot([fpr_90, fpr_90], [0., recall_for_forest], \"r:\")\n",
    "plt.plot([fpr_90], [recall_for_forest], \"ro\")\n",
    "plt.grid(True)\n",
    "plt.legend(loc=\"lower right\", fontsize=16)\n",
    "plt.show()"
   ]
  },
  {
   "cell_type": "markdown",
   "id": "5319b456",
   "metadata": {},
   "source": [
    "Comparing the two, we can see that the RF classifier is a much better as it has a much greater AUC when compared to the SGD classifier. "
   ]
  },
  {
   "cell_type": "code",
   "execution_count": 75,
   "id": "02ef6456",
   "metadata": {},
   "outputs": [
    {
     "data": {
      "text/plain": [
       "0.9983436731328145"
      ]
     },
     "execution_count": 75,
     "metadata": {},
     "output_type": "execute_result"
    }
   ],
   "source": [
    "roc_auc_score(y_train_5, y_forest_scores)"
   ]
  },
  {
   "cell_type": "markdown",
   "id": "ebfc467a",
   "metadata": {},
   "source": [
    "When we measure the precision and the recall scores, we will find that we get 99% precision and 86% recall thats really good!\n",
    "\n",
    "We now know how to train a binary classifier, choose the most appropriate metric for our task, evaluate our classifier using cross validation, selecting the precision recall curve (when positive instance numbers are small or we favour looking at false positives over false negatives or the ROC curve (everything else) depending on what we want to use the classifier for and compare different models. \n",
    "\n",
    "Now lets try some multioutput classification. "
   ]
  },
  {
   "cell_type": "markdown",
   "id": "4241b60f",
   "metadata": {},
   "source": [
    "### Multioutput Classification\n",
    "\n",
    "Binary classification is where we are comparing against two classes, **multiclass classifiers** can distinguish between more than two classes. Some algorithms such as SGD, RF and naive bayes classifiers are capabale of handling multiple classes nativly. Other such as logistic regression and support vector machines are strictly binary classifiers (but we can find work arounds, lets explore them) \n",
    "\n",
    "One way to create a work around to create a system that can classify the digit images into 10 classes is to create 10 classifiers (from 0 to 10) one for each digit. Then when we want to classify an image we need to get the decision score from each classifier for that image and we select the class whos classifier outputs the highest score. This is called **one vs rest** classification, or **one vs all** classification.\n",
    "\n",
    "Another strategy is to train the a binary classifier for every pair of digits, one to distignish between 0 and 1, the next to distinguish between 0 and 2, another to distinguish between 1 and 2 and so on and so on. This is called **one vs one** strategy, if there is $N$ number of classes we need $N (N -1) / 2$ classifiers so our needed classifier number increases massively. For the MNST problem this means training 45 binary classifiers, which is a pain in the ass but from those 45 classifiers, we simply see which class wins the most duals. The main advatage of One vs One classification is that each classifier only needs to be trained on part of the training set fro the two classes that it must distinguish. \n",
    "\n",
    "Some algorithms such as support vector machines scale really poorly with the size of the training set, for these algorithms OvO classification is perfect because it is faster to train many classifiers on small training sets than to train a few classifiers on bigger sets of training data. However for most binary classifcation algorithms OvR is preferred. \n",
    "\n",
    "Scikit-learn automatically detects when we are using a binary classifier for a mutliclassification task and it will run OvR or OvO depending on the algorithm. Lets try a SVM classifier using the sklearn.svm.SVC class. "
   ]
  },
  {
   "cell_type": "code",
   "execution_count": 77,
   "id": "3c7752bf",
   "metadata": {},
   "outputs": [
    {
     "data": {
      "text/plain": [
       "array([5], dtype=uint8)"
      ]
     },
     "execution_count": 77,
     "metadata": {},
     "output_type": "execute_result"
    }
   ],
   "source": [
    "from sklearn.svm import SVC\n",
    "\n",
    "svm_clf = SVC()\n",
    "svm_clf.fit(X_train, y_train) #not y train 5\n",
    "svm_clf.predict([first_digit])"
   ]
  },
  {
   "cell_type": "markdown",
   "id": "3f0a1464",
   "metadata": {},
   "source": [
    "That was easy, the code above trains the SVC on the training data set using the original target classes from 0 to 9 (y_train) instead of the 5 vs the rest classes. Then it makes a prediction, correctly! Under the hood scikit learn actually used one vs one strategy it has trained 45 binary classifiers got the decision scores for the image and selected the class that won the duals. \n",
    "\n",
    "If we call the **decision_function()** method you will see that it returns 10 scores for each instance, one score per class (10).\n",
    "\n"
   ]
  },
  {
   "cell_type": "code",
   "execution_count": 81,
   "id": "bbd48eed",
   "metadata": {},
   "outputs": [
    {
     "data": {
      "text/plain": [
       "array([[ 1.72501977,  2.72809088,  7.2510018 ,  8.3076379 , -0.31087254,\n",
       "         9.3132482 ,  1.70975103,  2.76765202,  6.23049537,  4.84771048]])"
      ]
     },
     "execution_count": 81,
     "metadata": {},
     "output_type": "execute_result"
    }
   ],
   "source": [
    "some_digit_scores = svm_clf.decision_function([first_digit])\n",
    "some_digit_scores"
   ]
  },
  {
   "cell_type": "markdown",
   "id": "1f1ae713",
   "metadata": {},
   "source": [
    "The highest score of course correlates to class number 5. \n"
   ]
  },
  {
   "cell_type": "code",
   "execution_count": 83,
   "id": "04eef357",
   "metadata": {},
   "outputs": [
    {
     "data": {
      "text/plain": [
       "array([0, 1, 2, 3, 4, 5, 6, 7, 8, 9], dtype=uint8)"
      ]
     },
     "execution_count": 83,
     "metadata": {},
     "output_type": "execute_result"
    }
   ],
   "source": [
    "svm_clf.classes_"
   ]
  },
  {
   "cell_type": "markdown",
   "id": "32b4c2f0",
   "metadata": {},
   "source": [
    "When a classifier is trained, it stores the list of target classes in its **classes_** attribute, ordered by the value, in this case the index of each class just happens to match the class number itself!!! but in general we won't be so lucky. \n",
    "\n",
    "If we want to force Scikit-learn to use one vs one or one vs rest you can used the **OneVsOneClassifier** or **OneVsRestClassifier** classes. Simply create an instance and pass a classifier to its constructor (it does not even have to be a binary classifier) for example, the code below creates a mutliclass classifier using the OvR strategy based on a SVC"
   ]
  },
  {
   "cell_type": "code",
   "execution_count": 84,
   "id": "2c81348b",
   "metadata": {},
   "outputs": [
    {
     "data": {
      "text/plain": [
       "array([5], dtype=uint8)"
      ]
     },
     "execution_count": 84,
     "metadata": {},
     "output_type": "execute_result"
    }
   ],
   "source": [
    "from sklearn.multiclass import OneVsRestClassifier\n",
    "ovr_clf = OneVsRestClassifier(SVC()) # Here we pass the classifier into the One vs Rest classifier constructor\n",
    "ovr_clf.fit(X_train, y_train)\n",
    "ovr_clf.predict([first_digit])"
   ]
  }
 ],
 "metadata": {
  "kernelspec": {
   "display_name": "Python 3 (ipykernel)",
   "language": "python",
   "name": "python3"
  },
  "language_info": {
   "codemirror_mode": {
    "name": "ipython",
    "version": 3
   },
   "file_extension": ".py",
   "mimetype": "text/x-python",
   "name": "python",
   "nbconvert_exporter": "python",
   "pygments_lexer": "ipython3",
   "version": "3.10.4"
  }
 },
 "nbformat": 4,
 "nbformat_minor": 5
}
