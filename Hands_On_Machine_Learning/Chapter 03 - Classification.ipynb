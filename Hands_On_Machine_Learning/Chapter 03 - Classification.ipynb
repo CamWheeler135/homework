{
 "cells": [
  {
   "cell_type": "markdown",
   "id": "e76986b4",
   "metadata": {},
   "source": [
    "# Chapter 03 - Classification \n",
    "\n",
    "In the first chapter the author mentioned that the most common form of supervised learning tasks are regression (where we are prediciting continuous variables) and classification (prediciting classes). In the previous chapter we explored a regression task, where we looked at prediciting the house prices using several types of algorithms, such as linear regression, decision trees and random forests. In this chapter, we are going to look at classification tasks. \n",
    "\n",
    "### MNIST Dataset \n",
    "\n",
    "For this chapter we will be using the MNIST dataset, this is a dataset of 70 thousand labelled images of handwritten numbers. The set has been studied so much that it is often called the \"hello world\" of machine learning (thinking back to when I did my first hello world when I started to learn coding). Whenever people come up with new classification algorithms, the first thing they do is test it on the MNIST dataset to see how it fairs. Anyone who does machine learning or is learning machine learning has tackled or is going to tackle this dataset at some point!!!!\n",
    "\n",
    "Scikit-learn provides many helper funtions to download popular datasets such as the MNIST dataset, the following code fetches the dataset for us. "
   ]
  },
  {
   "cell_type": "code",
   "execution_count": 1,
   "id": "2cfe9963",
   "metadata": {},
   "outputs": [
    {
     "data": {
      "text/plain": [
       "dict_keys(['data', 'target', 'frame', 'categories', 'feature_names', 'target_names', 'DESCR', 'details', 'url'])"
      ]
     },
     "execution_count": 1,
     "metadata": {},
     "output_type": "execute_result"
    }
   ],
   "source": [
    "from sklearn.datasets import fetch_openml \n",
    "\n",
    "mnist = fetch_openml('mnist_784', version=1, as_frame = False) # we need to set the as_frame = false as skikit learn has updated\n",
    "\n",
    "mnist.keys()"
   ]
  },
  {
   "cell_type": "markdown",
   "id": "78bc223f",
   "metadata": {},
   "source": [
    "Datasets that are loaded in my scikit learn generally have a similar dictionary structure that include the following. \n",
    "\n",
    "- A DESCR key describing the dataset\n",
    "- A data key containing an array with one row per instance and one colum per feature \n",
    "- A target key that contains all of the labels for each of the instances\n",
    "\n",
    "Let's look at these arrays below"
   ]
  },
  {
   "cell_type": "code",
   "execution_count": 2,
   "id": "18e5871a",
   "metadata": {},
   "outputs": [],
   "source": [
    "X, y = mnist['data'], mnist['target']"
   ]
  },
  {
   "cell_type": "code",
   "execution_count": 3,
   "id": "cf439794",
   "metadata": {
    "scrolled": true
   },
   "outputs": [
    {
     "data": {
      "text/plain": [
       "(70000, 784)"
      ]
     },
     "execution_count": 3,
     "metadata": {},
     "output_type": "execute_result"
    }
   ],
   "source": [
    "X.shape"
   ]
  },
  {
   "cell_type": "code",
   "execution_count": 4,
   "id": "c34804a6",
   "metadata": {},
   "outputs": [
    {
     "data": {
      "text/plain": [
       "(70000,)"
      ]
     },
     "execution_count": 4,
     "metadata": {},
     "output_type": "execute_result"
    }
   ],
   "source": [
    "y.shape"
   ]
  },
  {
   "cell_type": "markdown",
   "id": "051f39b5",
   "metadata": {},
   "source": [
    "There are 70 thousand iages and each image is made up of 784 features. This is because each image is 28 x 28 pixels and each feature is simply representing the pixels intensity from 0 (which is white) to 255 (which is black). Lets take a look at one of the digits on our dataset. All we need to do is grab an instances feature vector (we know what these are now) and reshape it into the 28 x 28 array, and thi display it using Matplotlibs imshow() function. "
   ]
  },
  {
   "cell_type": "code",
   "execution_count": 5,
   "id": "8fb0cd79",
   "metadata": {},
   "outputs": [
    {
     "data": {
      "image/png": "[encoded data removed]",
      "text/plain": [
       "<Figure size 432x288 with 1 Axes>"
      ]
     },
     "metadata": {
      "needs_background": "light"
     },
     "output_type": "display_data"
    }
   ],
   "source": [
    "import matplotlib as mpl\n",
    "import matplotlib.pyplot as plt\n",
    "import numpy as np\n",
    "\n",
    "first_digit = X[0]\n",
    "\n",
    "first_digit_image = first_digit.reshape(28, 28)\n",
    "\n",
    "plt.imshow(first_digit_image, cmap='binary')\n",
    "plt.axis('off')\n",
    "plt.show()"
   ]
  },
  {
   "cell_type": "raw",
   "id": "c731bbc7",
   "metadata": {},
   "source": [
    "So its a five! Lets look at the first label so prove this."
   ]
  },
  {
   "cell_type": "code",
   "execution_count": 6,
   "id": "ab8ca39f",
   "metadata": {},
   "outputs": [
    {
     "data": {
      "text/plain": [
       "'5'"
      ]
     },
     "execution_count": 6,
     "metadata": {},
     "output_type": "execute_result"
    }
   ],
   "source": [
    "y[0]"
   ]
  },
  {
   "cell_type": "markdown",
   "id": "9cd638c0",
   "metadata": {},
   "source": [
    "Perfect it's a five, note that the label is a string. Most ML algorithms expect numbers to be fed into them lets cast y to an integer. "
   ]
  },
  {
   "cell_type": "code",
   "execution_count": 7,
   "id": "6f3b496f",
   "metadata": {},
   "outputs": [],
   "source": [
    "# converting all of the strings into integers\n",
    "y = y.astype(np.uint8)"
   ]
  },
  {
   "cell_type": "markdown",
   "id": "bbae61ad",
   "metadata": {},
   "source": [
    "Remember that before we go onto analyse the dataset we need to create a test set. The MNIST dataset is actually already split into a training and test split (the first 60,000 are training and the last 10,000 is testing) so lets create our test train split. "
   ]
  },
  {
   "cell_type": "code",
   "execution_count": 8,
   "id": "ac367374",
   "metadata": {},
   "outputs": [],
   "source": [
    "X_train, y_train, X_test, y_test = X[:60000], y[:60000], X[60000:], y[60000:]"
   ]
  },
  {
   "cell_type": "markdown",
   "id": "02da897a",
   "metadata": {},
   "source": [
    "It should be noted that the dataset is already shuffled which is good because it means that the cross validation folds should contain similar amount of each digit, as well as this machine learning algorithms don't tend to like being fed instances that are too similar one after eachother, shuffling the dataset ensures this wont happen. "
   ]
  },
  {
   "cell_type": "markdown",
   "id": "56f8c9a9",
   "metadata": {},
   "source": [
    "### Training a Binary Classifer\n",
    "\n",
    "Let us go through a simpler problem for now, and simply try and identify one digit - for example the number 5 we have just looked at !!!! This \"5-detector\" lol will be an example of what is called a **binary classifer**, capable of distinguishing between just two classes (5 and not 5). Lets create the target vectors for the classification task.\n"
   ]
  },
  {
   "cell_type": "code",
   "execution_count": 9,
   "id": "04ccbcdf",
   "metadata": {},
   "outputs": [],
   "source": [
    "y_train_5 = (y_train == 5) # setting the 5 labels to be the 5 training set\n",
    "y_test_5 = (y_test == 5)"
   ]
  },
  {
   "cell_type": "markdown",
   "id": "2aac7f17",
   "metadata": {},
   "source": [
    "Now lets pick a classifier and train it. A good place to start is with a **stochastic gradient descent (SGD) classifier** using Scikitlearns SDGClassifer class. This has the advantage of being able to handle very large datasets efficiently. This is in part because the SGD classifier deals with training instances independently, one at a time (this also makes the SDG classifier really good for online learning) as we will see later. Lets create an SGD classifier and train it on the whole training dataset. "
   ]
  },
  {
   "cell_type": "code",
   "execution_count": 10,
   "id": "6baf0100",
   "metadata": {},
   "outputs": [
    {
     "data": {
      "text/plain": [
       "SGDClassifier(random_state=42)"
      ]
     },
     "execution_count": 10,
     "metadata": {},
     "output_type": "execute_result"
    }
   ],
   "source": [
    "from sklearn.linear_model import SGDClassifier \n",
    "\n",
    "sgd_clf = SGDClassifier(random_state=42)\n",
    "sgd_clf.fit(X_train, y_train_5) # Either it is a 5 or it isn't a 5"
   ]
  },
  {
   "cell_type": "markdown",
   "id": "efccba20",
   "metadata": {},
   "source": [
    "NOTE: The stochastic gradient descent relies on randomness during training (hence the name \"stochastic\"). If we want repoducible results, we need to set the random seed. "
   ]
  },
  {
   "cell_type": "markdown",
   "id": "c68cab36",
   "metadata": {},
   "source": [
    "Now lets use it to classify an image"
   ]
  },
  {
   "cell_type": "code",
   "execution_count": 11,
   "id": "009eda6f",
   "metadata": {
    "scrolled": false
   },
   "outputs": [
    {
     "data": {
      "text/plain": [
       "array([ True])"
      ]
     },
     "execution_count": 11,
     "metadata": {},
     "output_type": "execute_result"
    }
   ],
   "source": [
    "sgd_clf.predict([first_digit]) # note that this is in [] "
   ]
  },
  {
   "cell_type": "markdown",
   "id": "ba90a73d",
   "metadata": {},
   "source": [
    "YAY, the classifier guesses that the image is a 5 (True). This looks like its guessed right in this case. Now let's evaluate this models performance overall.\n",
    "\n",
    "### Performance Measure\n",
    "\n",
    "Evaluating a classifier is often significantly trickier than evaluating a regressor, so we will be spending a large part of this chapter covering the this topic. There are many perfromance measures at our disposal, so grab a coffee and get ready to learn some new concepts and some new acronyms!!!!!!\n",
    "\n",
    "### Measuring Accuracy Using Cross-Validaton \n",
    "\n",
    "A great way to evaluate a model is to use cross validation, just like we did in chapter 2.\n",
    "\n",
    "However sometimes we will need more control over the cross validation process than what scikit-learn provides to us. In these cases, you can implement cross validation by hand. The following code does roughly the same thing as scikitlearns cross_val_score() function and it prints the same result. \n",
    "\n",
    "Lets take this oppourtunity to understand the inner mechanics of how the cross val score function work."
   ]
  },
  {
   "cell_type": "code",
   "execution_count": 12,
   "id": "6abd1a0c",
   "metadata": {},
   "outputs": [
    {
     "name": "stdout",
     "output_type": "stream",
     "text": [
      "0.96785\n"
     ]
    }
   ],
   "source": [
    "from sklearn.model_selection import StratifiedKFold\n",
    "from sklearn.base import clone\n",
    "\n",
    "skfolds = StratifiedKFold(n_splits=3, shuffle=True, random_state=42)\n",
    "\n",
    "for train_index, test_index in skfolds.split(X_train, y_train_5): # splitting the data training set and label\n",
    "    clone_clf = clone(sgd_clf) # create a clone of the sgd classifier\n",
    "    X_train_folds = X_train[train_index] # assign the value to the x train set \n",
    "    y_train_folds = y_train_5[train_index] # assign the value to the y train set\n",
    "    X_test_fold = X_train[test_index] # assign the value to the x test set \n",
    "    y_test_fold = y_train_5[test_index] #assign the value to the y test set\n",
    "\n",
    "clone_clf.fit(X_train_folds, y_train_folds)\n",
    "y_prediction = clone_clf.predict(X_test_fold)\n",
    "number_correct = sum(y_prediction == y_test_fold)\n",
    "print(number_correct / len(y_prediction))"
   ]
  },
  {
   "cell_type": "markdown",
   "id": "7543f1fb",
   "metadata": {},
   "source": [
    "The StratifiedKFold class performs stratified sampling to produce folds that contan a representative ratio of each class. At each iteration the code creates a clone of the classifier, trains that clone classifier on the training folds and makes predictions on that test. It then counts the number of correct predictiions and outputs the ratio of correct predictions\n",
    "\n",
    "Now lets use the cross_val_score() function using our SDG classifier using K fold cross validation with three folds. Remeber that K fold cross validation means splitting the the training set into K folds (in this case 3), then making predictions and evaluating them on each fold using a model trained on remaining folds. "
   ]
  },
  {
   "cell_type": "code",
   "execution_count": 13,
   "id": "8d0a785b",
   "metadata": {},
   "outputs": [
    {
     "data": {
      "text/plain": [
       "array([0.95035, 0.96035, 0.9604 ])"
      ]
     },
     "execution_count": 13,
     "metadata": {},
     "output_type": "execute_result"
    }
   ],
   "source": [
    "from sklearn.model_selection import cross_val_score\n",
    "\n",
    "cross_val_score(sgd_clf, X_train, y_train_5, cv=3, scoring='accuracy')"
   ]
  },
  {
   "cell_type": "markdown",
   "id": "41318701",
   "metadata": {},
   "source": [
    "WOW! above 90% accuracy (the ratio of correct predictions) on all cross validation folds! This looks amazing, but sadly this isn't the case, before we get too excited lets look at a really dumb classifier that simply just classifies everything in this dataset as \"not a 5\"."
   ]
  },
  {
   "cell_type": "code",
   "execution_count": 14,
   "id": "7235f126",
   "metadata": {},
   "outputs": [],
   "source": [
    "from sklearn.base import BaseEstimator\n",
    "\n",
    "class Never5Classifier(BaseEstimator):\n",
    "    def fit(self, X, y=None):\n",
    "        return self\n",
    "    def predict(self, X):\n",
    "        return np.zeros((len(X), 1), dtype=bool)"
   ]
  },
  {
   "cell_type": "markdown",
   "id": "07ba7291",
   "metadata": {},
   "source": [
    "Can we guess the models accuracy??? Lets have a look!"
   ]
  },
  {
   "cell_type": "code",
   "execution_count": 15,
   "id": "6cd23b91",
   "metadata": {},
   "outputs": [
    {
     "data": {
      "text/plain": [
       "array([0.91125, 0.90855, 0.90915])"
      ]
     },
     "execution_count": 15,
     "metadata": {},
     "output_type": "execute_result"
    }
   ],
   "source": [
    "never_5_clf = Never5Classifier()\n",
    "cross_val_score(never_5_clf, X_train, y_train_5, cv=3, scoring='accuracy')"
   ]
  },
  {
   "cell_type": "markdown",
   "id": "56d7feaf",
   "metadata": {},
   "source": [
    "Lol thats funny, we have around 90% accuracy by simply just saying everything is a 5. This is becuase only about 10% of the MNIST dataset is a 5. So if we always guess that it is not a 5, we will still get a really high score. \n",
    "\n",
    "This demonstrates why accuracy is generally not a great performance metric for classifiers. Especially when we are dealing with skewed datasets (when one of the classes is much more fequent than the other).\n",
    "\n",
    "### Confusion Matrix \n",
    "\n",
    "A much better way to evaluate the performance of a classifier is the use a confusion matrix. The general idea for the confusion matrix is to count the number of times instances of a class A are classified as class B. For example, to know how many times the classifier confused images of 5s as 3s we would look on the 5th row an the 3rd column of the confusion matrix. \n",
    "\n",
    "To compute the confusion matrix, we first need a set of predictions, so that they can be compared with the actual targets. For this we use the cross_val_predict() function. "
   ]
  },
  {
   "cell_type": "code",
   "execution_count": 16,
   "id": "1ab0e7c6",
   "metadata": {},
   "outputs": [],
   "source": [
    "from sklearn.model_selection import cross_val_predict\n",
    "\n",
    "y_train_predictions = cross_val_predict(sgd_clf, X_train, y_train_5, cv=3)"
   ]
  },
  {
   "cell_type": "markdown",
   "id": "e6c00555",
   "metadata": {},
   "source": [
    "Just like cross_val_score(), cross_val_predict() preforms Kfold cross validations but instead of returning evaluation scores, it returns the predictions made on each test fold. This means that we get a clean predicition for each instance in the training set (the term 'clean' means that the predicition was made by the model on an instance that it has not seen before in training). \n",
    "\n",
    "Now that we are ready to get to the confusion matrix we can get this by using the confusion_matrix() function. Just pass the target class and the predicted class into the function."
   ]
  },
  {
   "cell_type": "code",
   "execution_count": 17,
   "id": "f5b24562",
   "metadata": {},
   "outputs": [
    {
     "data": {
      "text/plain": [
       "array([[53892,   687],\n",
       "       [ 1891,  3530]])"
      ]
     },
     "execution_count": 17,
     "metadata": {},
     "output_type": "execute_result"
    }
   ],
   "source": [
    "from sklearn.metrics import confusion_matrix\n",
    "\n",
    "confusion_matrix(y_train_5, y_train_predictions)"
   ]
  },
  {
   "cell_type": "markdown",
   "id": "faa0029c",
   "metadata": {},
   "source": [
    "Each row in the confusion matrix represents and **actual** class, while each column represents a **predicted** class. The first row of this matrix considers the non-5 images (the negative class). 53892 of them were correctly predicted as negative, while the remaining 687 were wrongly classified as 5s (flase positive) when they actually were not 5s. On the second row is the positive class (images of 5), 1891 were falsely identified as not 5s (false negative) when in fact there were and 3530 images were correctly identified as 5s (true positive) in the cross validation. A perfect classifier would only have true positives and true negatives while having nonzero values on the main diagonal (top left to bottom right). "
   ]
  },
  {
   "cell_type": "code",
   "execution_count": 18,
   "id": "e7f4d1da",
   "metadata": {},
   "outputs": [
    {
     "data": {
      "text/plain": [
       "array([[54579,     0],\n",
       "       [    0,  5421]])"
      ]
     },
     "execution_count": 18,
     "metadata": {},
     "output_type": "execute_result"
    }
   ],
   "source": [
    "y_train_perfect_predicitions = y_train_5 # we are pretending that we have reached perfect predictions\n",
    "confusion_matrix(y_train_5, y_train_perfect_predicitions)"
   ]
  },
  {
   "cell_type": "markdown",
   "id": "593b38d4",
   "metadata": {},
   "source": [
    "The confusion matrix gives you a lot of information, but sometimes we may prefer a more concise metric. An interesting metric is the **precision** of the classifier, this is the accuracy of positive predicitions, and is defined as:\n",
    "\n",
    "Equation 3.1 Precision\n",
    "\n",
    "precision $= \\frac{TP}{TP + FP}$\n",
    "\n",
    "TP is the true positive rate and FP is the false positive rate. A trivial way to have 100% precision is to make only one prediction and make sure that predicition is correct (precision = 1/1 = 100%). But this would not be very useful would it!!! So typically we use precision in conjunction with **recall**, also called **sensitivty** or the **True positive rate**, this is the ratio of positive instances that are correctly detected by the classifier. \n",
    "\n",
    "Equation 3.2 Recall / True Positive Rate\n",
    "\n",
    "Recall $= \\frac{TP}{TP + FN}$\n",
    "\n",
    "FN is the number of false negatives predictd by the classifier (the 5s that were missclassifed as 3s) \n",
    "\n",
    "### Precision and Recall \n",
    "\n",
    "Scikit-learn provides several functions that allow us computre classifier metrics, including precision and recall"
   ]
  },
  {
   "cell_type": "code",
   "execution_count": 19,
   "id": "779da069",
   "metadata": {},
   "outputs": [
    {
     "data": {
      "text/plain": [
       "0.8370879772350012"
      ]
     },
     "execution_count": 19,
     "metadata": {},
     "output_type": "execute_result"
    }
   ],
   "source": [
    "from sklearn.metrics import precision_score, recall_score\n",
    "precision_score(y_train_5, y_train_predictions)"
   ]
  },
  {
   "cell_type": "code",
   "execution_count": 20,
   "id": "e8508f85",
   "metadata": {},
   "outputs": [
    {
     "data": {
      "text/plain": [
       "0.6511713705958311"
      ]
     },
     "execution_count": 20,
     "metadata": {},
     "output_type": "execute_result"
    }
   ],
   "source": [
    "recall_score(y_train_5, y_train_predictions)"
   ]
  },
  {
   "cell_type": "markdown",
   "id": "ba93bd2c",
   "metadata": {},
   "source": [
    "Now that we have broken our SGD classifier down we can now see it is not as great as first seen. We now can see that when our classifier says its a 5, its only a 5 83% of the time, not the > 90% that we got using accuracy. Moreover, our classifier only picks up 65% of the 5s that are actually in the dataset! Thats not great. \n",
    "\n",
    "It is often convenient when we are comparing classifiers to merge the precision and recall into one metric, this metric is termed the $F_1$ score. The $F_1$ score is the **harmonic mean** of precision and recall (Equation 3.3). Whereas the regular mean treats all values equally, the harmonic mean gives much more weight to low values. As a result the classifier will only get a high $F_1$ score if both recall and precision are high. \n",
    "\n",
    "Equation 3.3 $F_1$ score \n",
    "\n",
    "$F_1$  = $\\frac{2}{\\frac{1}{precision}+\\frac{1}{recall}}$ = $2 \\times \\frac{precision \\times recall}{precision + recall}$ = $\\frac{TP}{TP} + \\frac{FN + FP}{2}$\n",
    "\n",
    "To compute the $F_1$ score, we can simply call the $F_1$ function. "
   ]
  },
  {
   "cell_type": "code",
   "execution_count": 21,
   "id": "f9edf1d3",
   "metadata": {},
   "outputs": [
    {
     "data": {
      "text/plain": [
       "0.7325171197343846"
      ]
     },
     "execution_count": 21,
     "metadata": {},
     "output_type": "execute_result"
    }
   ],
   "source": [
    "from sklearn.metrics import f1_score\n",
    "\n",
    "f1_score(y_train_5, y_train_predictions)"
   ]
  },
  {
   "cell_type": "markdown",
   "id": "20ade104",
   "metadata": {},
   "source": [
    "The $F_1$ score favours classifiers that have similar precision and recall. This is not always what we want however. Some contexts demand that we care more about precision and others demand more recall. If we were training a classifier to filter content for a childerens site. We would favour precision to be high as we would prefere a classifier that rejects many good videos (low recall) but we know that all videos on the website are okay for the child to watch. We might even want to have a human pipeline at the end that double checks the classifier and its decision. Whereas if we were building a security camera software, we would prefer to have a higher recall. This means that the security guards may be altered to some false alarms (false postives and lower precision) but we can be sure that all of the shoplifters are caught. \n",
    "\n",
    "Unfortunately, we cannot have it both ways! Increasing precision of the model reduces recall and increasing recall reduces precision (there is no way we can increase both at the same time). This is called the **precision recall tradeoff**."
   ]
  },
  {
   "cell_type": "markdown",
   "id": "09730fef",
   "metadata": {},
   "source": [
    "### Precision/Recall Trade-off \n",
    "\n",
    "To understand this trade off, lets take a dive into how a Stochastic Gradient Descent Classifier 'SDGClassifier' makes it decisions. For each instance that it is fed, it computes a **decision function**. If this score is bigger than a certain threshold, it is assinged to the positive class, if it is lower than a cerain threshold, we assign it to the negative class. \n",
    "\n",
    "Scikit-learn doesn't let us set the threshold value directly, but it does give us the access to the **decision scores** that are used to make these predictions. Instead of calling the classifiers predict() method, we can use its **decision_function()** method, this will return the score for each instance and then we can use any threshold value we want to make predictions based on these scores. "
   ]
  },
  {
   "cell_type": "code",
   "execution_count": 22,
   "id": "981b931a",
   "metadata": {},
   "outputs": [
    {
     "data": {
      "text/plain": [
       "array([2164.22030239])"
      ]
     },
     "execution_count": 22,
     "metadata": {},
     "output_type": "execute_result"
    }
   ],
   "source": [
    "y_scores = sgd_clf.decision_function([first_digit])\n",
    "y_scores"
   ]
  },
  {
   "cell_type": "code",
   "execution_count": 23,
   "id": "c270cc83",
   "metadata": {},
   "outputs": [
    {
     "data": {
      "text/plain": [
       "array([ True])"
      ]
     },
     "execution_count": 23,
     "metadata": {},
     "output_type": "execute_result"
    }
   ],
   "source": [
    "threshold = 0\n",
    "y_some_digit_predict = (y_scores > threshold)\n",
    "y_some_digit_predict"
   ]
  },
  {
   "cell_type": "code",
   "execution_count": 24,
   "id": "165f8112",
   "metadata": {},
   "outputs": [
    {
     "data": {
      "text/plain": [
       "array([False])"
      ]
     },
     "execution_count": 24,
     "metadata": {},
     "output_type": "execute_result"
    }
   ],
   "source": [
    "threshold = 8000\n",
    "y_some_digit_predict = (y_scores > threshold)\n",
    "y_some_digit_predict"
   ]
  },
  {
   "cell_type": "markdown",
   "id": "298e6172",
   "metadata": {},
   "source": [
    "As we can see, manipulating the threshold value and then saying for all predictions to be positive it must be above that value we can decrease the recall, as we have done so here. The classifier is supposed to detect that the image is a 5, when the threshold is 0 it gets it, when it is 8000 it doesn't.\n",
    "\n",
    "How do we decide what threshold value to use??? First we use the **cross_val_predict()** method to get the scores of all of the instances in the training set, but this time specifiy that we want to return the decision function scores instead of the predictions. \n"
   ]
  },
  {
   "cell_type": "code",
   "execution_count": 25,
   "id": "2c799c03",
   "metadata": {},
   "outputs": [],
   "source": [
    "y_scores = cross_val_predict(sgd_clf, X_train, y_train_5, cv=3,\n",
    "                             method=\"decision_function\")"
   ]
  },
  {
   "cell_type": "markdown",
   "id": "cc38b04e",
   "metadata": {},
   "source": [
    "With the decision function scores we can use the **precision_recall_curve()** function that will compute precision and recall for all possible thresholds. "
   ]
  },
  {
   "cell_type": "code",
   "execution_count": 26,
   "id": "0b4acd13",
   "metadata": {},
   "outputs": [],
   "source": [
    "from sklearn.metrics import precision_recall_curve\n",
    "\n",
    "precisions, recalls, thresholds = precision_recall_curve(y_train_5, y_scores)"
   ]
  },
  {
   "cell_type": "code",
   "execution_count": 27,
   "id": "556b3a24",
   "metadata": {},
   "outputs": [
    {
     "data": {
      "image/png": "[encoded data removed]",
      "text/plain": [
       "<Figure size 720x288 with 1 Axes>"
      ]
     },
     "metadata": {
      "needs_background": "light"
     },
     "output_type": "display_data"
    }
   ],
   "source": [
    "def plot_precision_recall_vs_threshold(precisions, recalls, thresholds):\n",
    "    plt.plot(thresholds, precisions[:-1], \"b--\", label=\"Precision\", linewidth=2)\n",
    "    plt.plot(thresholds, recalls[:-1], \"g-\", label=\"Recall\", linewidth=2)\n",
    "    plt.legend(loc=\"center right\", fontsize=16) # Not shown in the book\n",
    "    plt.xlabel(\"Threshold\", fontsize=16)        # Not shown\n",
    "    plt.grid(True)                              # Not shown\n",
    "    plt.axis([-50000, 50000, 0, 1])             # Not shown\n",
    "\n",
    "\n",
    "\n",
    "recall_90_precision = recalls[np.argmax(precisions >= 0.90)]\n",
    "threshold_90_precision = thresholds[np.argmax(precisions >= 0.90)]\n",
    "\n",
    "\n",
    "plt.figure(figsize=(10, 4))                                                                  # Not shown\n",
    "plot_precision_recall_vs_threshold(precisions, recalls, thresholds)\n",
    "plt.plot([threshold_90_precision, threshold_90_precision], [0., 0.9], \"r:\")                 # Not shown\n",
    "plt.plot([-50000, threshold_90_precision], [0.9, 0.9], \"r:\")                                # Not shown\n",
    "plt.plot([-50000, threshold_90_precision], [recall_90_precision, recall_90_precision], \"r:\")# Not shown\n",
    "plt.plot([threshold_90_precision], [0.9], \"ro\")                                             # Not shown\n",
    "plt.plot([threshold_90_precision], [recall_90_precision], \"ro\")                             # Not shown                                          # Not shown\n",
    "plt.show()"
   ]
  },
  {
   "cell_type": "markdown",
   "id": "f73da67c",
   "metadata": {},
   "source": [
    "But why is the precision curve much more bumpier than the recall curve, sometimes precision will go up and down when we raise the threshold. This might be because raising the precision takes it from 4/5 which is 80% to 3/4 which is 75% whereas recall can only go down when we raise the threshold. \n",
    "\n",
    "Another good way to select a good precision recall tradeoff is to plot the precision directly against the recall. "
   ]
  },
  {
   "cell_type": "code",
   "execution_count": 28,
   "id": "7dde10c3",
   "metadata": {},
   "outputs": [
    {
     "data": {
      "image/png": "[encoded data removed]",
      "text/plain": [
       "<Figure size 576x432 with 1 Axes>"
      ]
     },
     "metadata": {
      "needs_background": "light"
     },
     "output_type": "display_data"
    }
   ],
   "source": [
    "def plot_precision_vs_recall(precisions, recalls):\n",
    "    plt.plot(recalls, precisions, \"b-\", linewidth=2)\n",
    "    plt.xlabel(\"Recall\", fontsize=16)\n",
    "    plt.ylabel(\"Precision\", fontsize=16)\n",
    "    plt.axis([0, 1, 0, 1])\n",
    "    plt.grid(True)\n",
    "\n",
    "plt.figure(figsize=(8, 6))\n",
    "plot_precision_vs_recall(precisions, recalls)\n",
    "plt.plot([recall_90_precision, recall_90_precision], [0., 0.9], \"r:\")\n",
    "plt.plot([0.0, recall_90_precision], [0.9, 0.9], \"r:\")\n",
    "plt.plot([recall_90_precision], [0.9], \"ro\")\n",
    "plt.show()"
   ]
  },
  {
   "cell_type": "markdown",
   "id": "989a8f46",
   "metadata": {},
   "source": [
    "What can we see from this graph, we can see that after around 0.6 recall, we get a really big drop in precision. This means we will most likely want to set the recall rate to 0.6 as anymore and we will loose any form of precision we had in the system, but really **the choice depends on the project at hand**. Suppose we want to aim for about 90% precision, we look at the first plot we made and find that we need to use a threshold of about 8000. To be more precise, we can search for the lowest threshold that gives us at least 90% precision using **np.argmax()** this will give us the first index of the maximum value, which in this case is the first true value. "
   ]
  },
  {
   "cell_type": "code",
   "execution_count": 29,
   "id": "75ea5fe6",
   "metadata": {},
   "outputs": [],
   "source": [
    "threshold_90_precision = thresholds[np.argmax(precisions >= 0.90)]"
   ]
  },
  {
   "cell_type": "markdown",
   "id": "1b37d363",
   "metadata": {},
   "source": [
    "To make predicitions (on the training set for now) instead of calling the classifiers **predict()** method like ususal we will run this code. "
   ]
  },
  {
   "cell_type": "code",
   "execution_count": 30,
   "id": "bb4e8ca5",
   "metadata": {},
   "outputs": [],
   "source": [
    "y_training_90_predict = (y_scores >= threshold_90_precision)"
   ]
  },
  {
   "cell_type": "code",
   "execution_count": 31,
   "id": "dce5a9d2",
   "metadata": {},
   "outputs": [
    {
     "data": {
      "text/plain": [
       "0.9000345901072293"
      ]
     },
     "execution_count": 31,
     "metadata": {},
     "output_type": "execute_result"
    }
   ],
   "source": [
    "precision_score(y_train_5, y_training_90_predict)"
   ]
  },
  {
   "cell_type": "code",
   "execution_count": 32,
   "id": "de564bd5",
   "metadata": {},
   "outputs": [
    {
     "data": {
      "text/plain": [
       "0.4799852425751706"
      ]
     },
     "execution_count": 32,
     "metadata": {},
     "output_type": "execute_result"
    }
   ],
   "source": [
    "recall_score(y_train_5, y_training_90_predict)"
   ]
  },
  {
   "cell_type": "markdown",
   "id": "e6b55853",
   "metadata": {},
   "source": [
    "We now have a 90% precise classifier, as we can see it is sort of easy to make our own classifier with custom precision and recall scores. All we need to do is set the threshold high enough or low enough and we will reach it. But remember that a high precision classifier is useless without good recall!!!!!"
   ]
  },
  {
   "cell_type": "markdown",
   "id": "5c69eb38",
   "metadata": {},
   "source": [
    "### ROC Curve \n",
    "\n",
    "The **reciever operator characteristic (ROC)** curve is another tool that machine learning engineers use with binary classifiers. It is very similar to the **precision recall** curve, but instead of plotting precision vs recall the **ROC** curve plots the true positive rate (TPR) vs the false positive rate (FPR). Note that TRP is another word for recall. The FPR is the ratio of negatie instances that are incorrectly identified as positive instances. This is equal the 1 - the true negative rate, which is the negative instances correctly indentified as negative. The TNR is also called specificity. Which is why the ROC has also earned the name sensitivity vs 1- specificity.\n",
    "\n",
    "To plot the ROC curve we first need to use the **roc_curve()** function to compute the TPR and FPR for various thresholds"
   ]
  },
  {
   "cell_type": "code",
   "execution_count": 33,
   "id": "f9d8893f",
   "metadata": {},
   "outputs": [],
   "source": [
    "from sklearn.metrics import roc_curve\n",
    "\n",
    "fpr, tpr, thresholds = roc_curve(y_train_5, y_scores)"
   ]
  },
  {
   "cell_type": "markdown",
   "id": "17f51adf",
   "metadata": {},
   "source": [
    "This allows us to plot the ROC curve using matplotlib."
   ]
  },
  {
   "cell_type": "code",
   "execution_count": 34,
   "id": "a373d7f9",
   "metadata": {},
   "outputs": [
    {
     "data": {
      "image/png": "[encoded data removed]",
      "text/plain": [
       "<Figure size 576x432 with 1 Axes>"
      ]
     },
     "metadata": {
      "needs_background": "light"
     },
     "output_type": "display_data"
    }
   ],
   "source": [
    "def plot_roc_curve(fpr, tpr, label=None):\n",
    "    plt.plot(fpr, tpr, linewidth=2, label=label)\n",
    "    plt.plot([0, 1], [0, 1], 'k--') # dashed diagonal\n",
    "    plt.axis([0, 1, 0, 1])                                    # Not shown in the book\n",
    "    plt.xlabel('False Positive Rate (Fall-Out)', fontsize=16) # Not shown\n",
    "    plt.ylabel('True Positive Rate (Recall)', fontsize=16)    # Not shown\n",
    "    plt.grid(True)                                            # Not shown\n",
    "\n",
    "plt.figure(figsize=(8, 6))                                    # Not shown\n",
    "plot_roc_curve(fpr, tpr)\n",
    "fpr_90 = fpr[np.argmax(tpr >= recall_90_precision)]           # Not shown\n",
    "plt.plot([fpr_90, fpr_90], [0., recall_90_precision], \"r:\")   # Not shown\n",
    "plt.plot([0.0, fpr_90], [recall_90_precision, recall_90_precision], \"r:\")  # Not shown\n",
    "plt.plot([fpr_90], [recall_90_precision], \"ro\")               # Not shown                                 \n",
    "plt.show()"
   ]
  },
  {
   "cell_type": "markdown",
   "id": "af98757b",
   "metadata": {},
   "source": [
    "Like before, there is still a trad eoff between a higher recall (TPR) and the more false positives we introduce (FPR). The dotted line represents the ROC of a purely random classifier, a good classifier always stays far away from this line, the more toward the top left corner the better. \n",
    "\n",
    "One way commonly used to compare classifiers is the **area under the curve (AUC)**. A perfect classifier will have an AUC of 1, whereas a random classifier will have an AUC 0.5. Scikit learn provides us with a function to compute the AUC of an ROC curve"
   ]
  },
  {
   "cell_type": "code",
   "execution_count": 35,
   "id": "368d35e8",
   "metadata": {},
   "outputs": [
    {
     "data": {
      "text/plain": [
       "0.9604938554008616"
      ]
     },
     "execution_count": 35,
     "metadata": {},
     "output_type": "execute_result"
    }
   ],
   "source": [
    "from sklearn.metrics import roc_auc_score\n",
    "roc_auc_score(y_train_5, y_scores)"
   ]
  },
  {
   "cell_type": "markdown",
   "id": "6d9c7a55",
   "metadata": {},
   "source": [
    "But since the ROC curve and the precision recall curve to practically the same thing, how do we know which one to choose??? As a rule of thumb. We should use the PR curve whenever a positive instance is rare or when we care more about the flase positive than the false negatives, BUT when we care more about the false negatives, we should use the ROC curve. Like above, we might say that this classifier is really good when looking at the ROC curve, but when we find that positive instances are really rare (the 5's) this ROC curve becomes a little less fantastic....\n",
    "\n",
    "How lets train a random forest classifier and compare the random forests classifiers ROC to the SGD ROC. To do this we need to get the scores for each instance in the training set but due to the way a RF works (we will explore in chapter 7) the RF does not have a **decision_function()** method. Instead, it uses a **predict_proba()** function that outputs an array containing a row per instance and a columns per class, each containing the probability that the instace belongs in the given class (70% chance that the image belongs to the 5 class) "
   ]
  },
  {
   "cell_type": "code",
   "execution_count": 36,
   "id": "031ac2f8",
   "metadata": {},
   "outputs": [],
   "source": [
    "from sklearn.ensemble import RandomForestClassifier\n",
    "\n",
    "rf_clf = RandomForestClassifier(random_state=42)\n",
    "y_probas_forest = cross_val_predict(rf_clf, X_train, y_train_5, cv=3, method='predict_proba')"
   ]
  },
  {
   "cell_type": "markdown",
   "id": "dcf9001c",
   "metadata": {},
   "source": [
    "The ROC curve function expects labels and scores, but we can also feed it class probabilities. Lets use the positive classes probability as the score for the ROC curve."
   ]
  },
  {
   "cell_type": "code",
   "execution_count": 37,
   "id": "97b31b30",
   "metadata": {},
   "outputs": [],
   "source": [
    "y_forest_scores = y_probas_forest[:, 1] #This sets the score to equal the probability of being in the positive class\n"
   ]
  },
  {
   "cell_type": "code",
   "execution_count": 38,
   "id": "19fdd390",
   "metadata": {},
   "outputs": [],
   "source": [
    "forest_fpr, forest_tpr, forest_thresholds = roc_curve(y_train_5, y_forest_scores)"
   ]
  },
  {
   "cell_type": "code",
   "execution_count": 39,
   "id": "7658c955",
   "metadata": {},
   "outputs": [
    {
     "data": {
      "image/png": "[encoded data removed]",
      "text/plain": [
       "<Figure size 576x432 with 1 Axes>"
      ]
     },
     "metadata": {
      "needs_background": "light"
     },
     "output_type": "display_data"
    }
   ],
   "source": [
    "recall_for_forest = forest_tpr[np.argmax(forest_fpr >= fpr_90)]\n",
    "\n",
    "plt.figure(figsize=(8, 6))\n",
    "plt.plot(fpr, tpr, \"b:\", linewidth=2, label=\"SGD\")\n",
    "plot_roc_curve(forest_fpr, forest_tpr, \"Random Forest\")\n",
    "plt.plot([fpr_90, fpr_90], [0., recall_90_precision], \"r:\")\n",
    "plt.plot([0.0, fpr_90], [recall_90_precision, recall_90_precision], \"r:\")\n",
    "plt.plot([fpr_90], [recall_90_precision], \"ro\")\n",
    "plt.plot([fpr_90, fpr_90], [0., recall_for_forest], \"r:\")\n",
    "plt.plot([fpr_90], [recall_for_forest], \"ro\")\n",
    "plt.grid(True)\n",
    "plt.legend(loc=\"lower right\", fontsize=16)\n",
    "plt.show()"
   ]
  },
  {
   "cell_type": "markdown",
   "id": "5319b456",
   "metadata": {},
   "source": [
    "Comparing the two, we can see that the RF classifier is a much better as it has a much greater AUC when compared to the SGD classifier. "
   ]
  },
  {
   "cell_type": "code",
   "execution_count": 40,
   "id": "02ef6456",
   "metadata": {},
   "outputs": [
    {
     "data": {
      "text/plain": [
       "0.9983436731328145"
      ]
     },
     "execution_count": 40,
     "metadata": {},
     "output_type": "execute_result"
    }
   ],
   "source": [
    "roc_auc_score(y_train_5, y_forest_scores)"
   ]
  },
  {
   "cell_type": "markdown",
   "id": "ebfc467a",
   "metadata": {},
   "source": [
    "When we measure the precision and the recall scores, we will find that we get 99% precision and 86% recall thats really good!\n",
    "\n",
    "We now know how to train a binary classifier, choose the most appropriate metric for our task, evaluate our classifier using cross validation, selecting the precision recall curve (when positive instance numbers are small or we favour looking at false positives over false negatives or the ROC curve (everything else) depending on what we want to use the classifier for and compare different models. \n",
    "\n",
    "Now lets try some multioutput classification. "
   ]
  },
  {
   "cell_type": "markdown",
   "id": "4241b60f",
   "metadata": {},
   "source": [
    "### Multioutput Classification\n",
    "\n",
    "Binary classification is where we are comparing against two classes, **multiclass classifiers** can distinguish between more than two classes. Some algorithms such as SGD, RF and naive bayes classifiers are capabale of handling multiple classes nativly. Other such as logistic regression and support vector machines are strictly binary classifiers (but we can find work arounds, lets explore them) \n",
    "\n",
    "One way to create a work around to create a system that can classify the digit images into 10 classes is to create 10 classifiers (from 0 to 10) one for each digit. Then when we want to classify an image we need to get the decision score from each classifier for that image and we select the class whos classifier outputs the highest score. This is called **one vs rest** classification, or **one vs all** classification.\n",
    "\n",
    "Another strategy is to train the a binary classifier for every pair of digits, one to distignish between 0 and 1, the next to distinguish between 0 and 2, another to distinguish between 1 and 2 and so on and so on. This is called **one vs one** strategy, if there is $N$ number of classes we need $N (N -1) / 2$ classifiers so our needed classifier number increases massively. For the MNST problem this means training 45 binary classifiers, which is a pain in the ass but from those 45 classifiers, we simply see which class wins the most duals. The main advatage of One vs One classification is that each classifier only needs to be trained on part of the training set fro the two classes that it must distinguish. \n",
    "\n",
    "Some algorithms such as support vector machines scale really poorly with the size of the training set, for these algorithms OvO classification is perfect because it is faster to train many classifiers on small training sets than to train a few classifiers on bigger sets of training data. However for most binary classifcation algorithms OvR is preferred. \n",
    "\n",
    "Scikit-learn automatically detects when we are using a binary classifier for a mutliclassification task and it will run OvR or OvO depending on the algorithm. Lets try a SVM classifier using the sklearn.svm.SVC class. "
   ]
  },
  {
   "cell_type": "code",
   "execution_count": 41,
   "id": "3c7752bf",
   "metadata": {},
   "outputs": [
    {
     "data": {
      "text/plain": [
       "array([5], dtype=uint8)"
      ]
     },
     "execution_count": 41,
     "metadata": {},
     "output_type": "execute_result"
    }
   ],
   "source": [
    "from sklearn.svm import SVC\n",
    "\n",
    "svm_clf = SVC()\n",
    "svm_clf.fit(X_train, y_train) #not y train 5\n",
    "svm_clf.predict([first_digit])"
   ]
  },
  {
   "cell_type": "markdown",
   "id": "3f0a1464",
   "metadata": {},
   "source": [
    "That was easy, the code above trains the SVC on the training data set using the original target classes from 0 to 9 (y_train) instead of the 5 vs the rest classes. Then it makes a prediction, correctly! Under the hood scikit learn actually used one vs one strategy it has trained 45 binary classifiers got the decision scores for the image and selected the class that won the duals. \n",
    "\n",
    "If we call the **decision_function()** method you will see that it returns 10 scores for each instance, one score per class (10).\n",
    "\n"
   ]
  },
  {
   "cell_type": "code",
   "execution_count": 42,
   "id": "bbd48eed",
   "metadata": {},
   "outputs": [
    {
     "data": {
      "text/plain": [
       "array([[ 1.72501977,  2.72809088,  7.2510018 ,  8.3076379 , -0.31087254,\n",
       "         9.3132482 ,  1.70975103,  2.76765202,  6.23049537,  4.84771048]])"
      ]
     },
     "execution_count": 42,
     "metadata": {},
     "output_type": "execute_result"
    }
   ],
   "source": [
    "some_digit_scores = svm_clf.decision_function([first_digit])\n",
    "some_digit_scores"
   ]
  },
  {
   "cell_type": "markdown",
   "id": "1f1ae713",
   "metadata": {},
   "source": [
    "The highest score of course correlates to class number 5. \n"
   ]
  },
  {
   "cell_type": "code",
   "execution_count": 43,
   "id": "04eef357",
   "metadata": {},
   "outputs": [
    {
     "data": {
      "text/plain": [
       "array([0, 1, 2, 3, 4, 5, 6, 7, 8, 9], dtype=uint8)"
      ]
     },
     "execution_count": 43,
     "metadata": {},
     "output_type": "execute_result"
    }
   ],
   "source": [
    "svm_clf.classes_"
   ]
  },
  {
   "cell_type": "markdown",
   "id": "32b4c2f0",
   "metadata": {},
   "source": [
    "When a classifier is trained, it stores the list of target classes in its **classes_** attribute, ordered by the value, in this case the index of each class just happens to match the class number itself!!! but in general we won't be so lucky. \n",
    "\n",
    "If we want to force Scikit-learn to use one vs one or one vs rest you can used the **OneVsOneClassifier** or **OneVsRestClassifier** classes. Simply create an instance and pass a classifier to its constructor (it does not even have to be a binary classifier) for example, the code below creates a mutliclass classifier using the OvR strategy based on a SVC"
   ]
  },
  {
   "cell_type": "code",
   "execution_count": 47,
   "id": "2c81348b",
   "metadata": {},
   "outputs": [
    {
     "data": {
      "text/plain": [
       "array([5], dtype=uint8)"
      ]
     },
     "execution_count": 47,
     "metadata": {},
     "output_type": "execute_result"
    }
   ],
   "source": [
    "from sklearn.multiclass import OneVsRestClassifier\n",
    "ovr_clf = OneVsRestClassifier(SVC()) # Here we pass the classifier into the One vs Rest classifier constructor\n",
    "ovr_clf.fit(X_train, y_train)\n",
    "ovr_clf.predict([first_digit])"
   ]
  },
  {
   "cell_type": "code",
   "execution_count": 51,
   "id": "77157509",
   "metadata": {},
   "outputs": [
    {
     "data": {
      "text/plain": [
       "10"
      ]
     },
     "execution_count": 51,
     "metadata": {},
     "output_type": "execute_result"
    }
   ],
   "source": [
    "len(ovr_clf.estimators_)"
   ]
  },
  {
   "cell_type": "markdown",
   "id": "15523cb7",
   "metadata": {},
   "source": [
    "Training a SGD classifier is just as easy."
   ]
  },
  {
   "cell_type": "code",
   "execution_count": 48,
   "id": "95197ea9",
   "metadata": {},
   "outputs": [
    {
     "data": {
      "text/plain": [
       "array([3], dtype=uint8)"
      ]
     },
     "execution_count": 48,
     "metadata": {},
     "output_type": "execute_result"
    }
   ],
   "source": [
    "sgd_clf.fit(X_train, y_train)\n",
    "sgd_clf.predict([first_digit])"
   ]
  },
  {
   "cell_type": "code",
   "execution_count": 52,
   "id": "2593c325",
   "metadata": {},
   "outputs": [
    {
     "data": {
      "text/plain": [
       "array([[-31893.03095419, -34419.69069632,  -9530.63950739,\n",
       "          1823.73154031, -22320.14822878,  -1385.80478895,\n",
       "        -26188.91070951, -16147.51323997,  -4604.35491274,\n",
       "        -12050.767298  ]])"
      ]
     },
     "execution_count": 52,
     "metadata": {},
     "output_type": "execute_result"
    }
   ],
   "source": [
    "sgd_clf.decision_function([first_digit])"
   ]
  },
  {
   "cell_type": "markdown",
   "id": "0d5c5e45",
   "metadata": {},
   "source": [
    "As we can see, this time scikit learn did not have to run one vs rest or one vs one classification as an SGD classifier can natively handle mutlioutput classification. We can also see that the classifier actaully got the prediciton WRONG (this is not in the book) and predicts that the image is actually a 3 and not a 5! This model is Now we want to evaluate this classifier, we can do this using cross validation using the **cross_val_score()** method to evaluate the classifiers accuracy. "
   ]
  },
  {
   "cell_type": "code",
   "execution_count": 54,
   "id": "fb0316c1",
   "metadata": {},
   "outputs": [
    {
     "data": {
      "text/plain": [
       "array([0.88083333, 0.88325   , 0.88116667, 0.86625   , 0.8875    ])"
      ]
     },
     "execution_count": 54,
     "metadata": {},
     "output_type": "execute_result"
    }
   ],
   "source": [
    "cross_val_score(sgd_clf, X_train, y_train)"
   ]
  },
  {
   "cell_type": "markdown",
   "id": "1c1edc5c",
   "metadata": {},
   "source": [
    "It gets over x% on all of the testing folds (not the test set). If we were to use a random classifier, we would get around 10% the book says, so this is great progress. However, we can still do so much better, if we were to scale the input data we could boost our performance!"
   ]
  },
  {
   "cell_type": "code",
   "execution_count": 57,
   "id": "f0af1d9e",
   "metadata": {},
   "outputs": [
    {
     "data": {
      "text/plain": [
       "array([0.8983, 0.891 , 0.9018])"
      ]
     },
     "execution_count": 57,
     "metadata": {},
     "output_type": "execute_result"
    }
   ],
   "source": [
    "from sklearn.preprocessing import StandardScaler\n",
    "scaler = StandardScaler()\n",
    "X_train_scaled = scaler.fit_transform(X_train.astype(np.float64)) # astype allows us to change the type of data we are using\n",
    "cross_val_score(sgd_clf, X_train_scaled, y_train, cv=3, scoring='accuracy')"
   ]
  },
  {
   "cell_type": "markdown",
   "id": "4c1240c7",
   "metadata": {},
   "source": [
    "### Error Analysis\n",
    "\n",
    "If this was a real life project, we would go through our machine learning checklist and explore data preparation options, try out multiple models, then shortlisting a few promising ones and tuning their hyperparameters (all the time trying to automate this as much as possible. Another way to find imporvements in models is the analyse the mistakes that the model is making.\n",
    "\n",
    "First lets look at a confusion matrix. To do this we need to make predicitions using the **cross_val_predict()** method not the **cross_val_score()**. Then we can call the **confusion_matrix()** function that will compute the confusion matrix for us. "
   ]
  },
  {
   "cell_type": "code",
   "execution_count": 60,
   "id": "16e3ba63",
   "metadata": {},
   "outputs": [],
   "source": [
    "y_train_prediction = cross_val_predict(sgd_clf, X_train, y_train, cv=3)"
   ]
  },
  {
   "cell_type": "code",
   "execution_count": 102,
   "id": "ad97bd3d",
   "metadata": {},
   "outputs": [
    {
     "data": {
      "text/plain": [
       "array([[5635,    0,   61,   10,   16,   50,   46,    7,   66,   32],\n",
       "       [   3, 6393,   95,   21,   16,   47,   15,   27,  109,   16],\n",
       "       [  72,   56, 5174,   89,   69,   39,  163,   66,  212,   18],\n",
       "       [  58,   32,  217, 4941,   23,  441,   32,   56,  216,  115],\n",
       "       [  11,   26,   46,    6, 5298,   26,   73,   32,   87,  237],\n",
       "       [  68,   23,   58,  150,   83, 4606,  174,   26,  152,   81],\n",
       "       [  40,   13,   56,    6,   22,  113, 5625,    5,   36,    2],\n",
       "       [  23,   24,  103,   36,  124,   40,   10, 5228,   75,  602],\n",
       "       [  40,  101,  158,  122,   49,  457,   77,   35, 4666,  146],\n",
       "       [  33,   18,   66,   83,  515,  127,    4,  485,  166, 4452]])"
      ]
     },
     "execution_count": 102,
     "metadata": {},
     "output_type": "execute_result"
    }
   ],
   "source": [
    "from sklearn.metrics import confusion_matrix\n",
    "conf_mx = confusion_matrix(y_train, y_train_prediction)\n",
    "conf_mx"
   ]
  },
  {
   "cell_type": "markdown",
   "id": "d54c5b47",
   "metadata": {},
   "source": [
    "Thats a lot of numbers, it is often a lot easier to visualise what the model is doing using matplotlibs matshow() function, this will produce a heatmap of the confusion matrix. "
   ]
  },
  {
   "cell_type": "code",
   "execution_count": 103,
   "id": "ed09dfcf",
   "metadata": {},
   "outputs": [
    {
     "data": {
      "text/plain": [
       "<matplotlib.image.AxesImage at 0x2c2bbcf70>"
      ]
     },
     "execution_count": 103,
     "metadata": {},
     "output_type": "execute_result"
    },
    {
     "data": {
      "image/png": "[encoded data removed]",
      "text/plain": [
       "<Figure size 288x288 with 1 Axes>"
      ]
     },
     "metadata": {
      "needs_background": "light"
     },
     "output_type": "display_data"
    }
   ],
   "source": [
    "plt.matshow(conf_mx, cmap='magma')"
   ]
  },
  {
   "cell_type": "markdown",
   "id": "0be6a87c",
   "metadata": {},
   "source": [
    "We can see that the confusion matrix looks pretty good, most of the images are on the main diagonal which means they are being classified correctly. The 5s and the 9s look a little bit darker than the rest of them however. This could be for two reasons, the first being there is just fewer of them in the training set, the second is that we are making more errors on these. We can verify that both are the case. \n",
    "\n",
    "Lets focus on the errors for now. To do this we are going to **divide each value in the confusion matrix by the total number of images in the corresponding class** this allows us to compare the error rates instead of the absolute numbers of errors, which would make abundent classes look unfairly bad. "
   ]
  },
  {
   "cell_type": "code",
   "execution_count": 105,
   "id": "1c495663",
   "metadata": {},
   "outputs": [],
   "source": [
    "row_sums = conf_mx.sum(axis=1, keepdims=True)"
   ]
  },
  {
   "cell_type": "code",
   "execution_count": 107,
   "id": "af89f04c",
   "metadata": {},
   "outputs": [
    {
     "data": {
      "image/png": "[encoded data removed]",
      "text/plain": [
       "<Figure size 288x288 with 1 Axes>"
      ]
     },
     "metadata": {
      "needs_background": "light"
     },
     "output_type": "display_data"
    }
   ],
   "source": [
    "norm_conf_mx = conf_mx / row_sums\n",
    "np.fill_diagonal(norm_conf_mx, 0)\n",
    "plt.matshow(norm_conf_mx, cmap='magma')\n",
    "plt.show()"
   ]
  },
  {
   "cell_type": "markdown",
   "id": "d995ba58",
   "metadata": {},
   "source": [
    "We can now clearly see where the classifier is making mistakes. Remeber that the rows are the True values and the columns are the predicted values, so we can see that rather often our classifier will predict 5 when infact it is actually a 3. We can also see that it is struggling a lot with 8s it seems to predict everything is an 8 at some point, but doesnt predict a 6 to be an 8. \n",
    "\n",
    "Analysing the confusion matrix often gives us insights into ways to improve our model, looking at our plot we can see that 8s are clearly the worst performing number, so it might be worth going away and finding more 8s and numbers that look like 8s but actually are not 8s to train our model on. Or we could engineer some new features that would help the classifer. For example we could write an algorithm to count the number of closed loops (8 has 2, 6 has 1). Or we could preprocess the images using **Scikit-Image, Pillow, OpenCV** to make some patterns such as closed loops easier to see. \n",
    "\n",
    "Analyzing individual errors can also be a good way to gain insights on what our classifier is doing and why it is failing in areas, but it is more difficult to do. \n",
    "\n",
    "For example lets plot examples of 3's and 5's using the **plot_digits()** function."
   ]
  },
  {
   "cell_type": "code",
   "execution_count": 130,
   "id": "817f0b02",
   "metadata": {},
   "outputs": [],
   "source": [
    "def plot_digits(instances, images_per_row=10, **options):\n",
    "    size = 28\n",
    "    images_per_row = min(len(instances), images_per_row)\n",
    "    images = [instance.reshape(size,size) for instance in instances]\n",
    "    n_rows = (len(instances) - 1) // images_per_row + 1\n",
    "    row_images = []\n",
    "    n_empty = n_rows * images_per_row - len(instances)\n",
    "    images.append(np.zeros((size, size * n_empty)))\n",
    "    for row in range(n_rows):\n",
    "        rimages = images[row * images_per_row : (row + 1) * images_per_row]\n",
    "        row_images.append(np.concatenate(rimages, axis=1))\n",
    "    image = np.concatenate(row_images, axis=0)\n",
    "    plt.imshow(image, cmap = matplotlib.cm.binary, **options)\n",
    "    plt.axis(\"off\")"
   ]
  },
  {
   "cell_type": "code",
   "execution_count": 114,
   "id": "4df86c87",
   "metadata": {},
   "outputs": [
    {
     "data": {
      "image/png": "[encoded data removed]",
      "text/plain": [
       "<Figure size 576x576 with 4 Axes>"
      ]
     },
     "metadata": {
      "needs_background": "light"
     },
     "output_type": "display_data"
    }
   ],
   "source": [
    "import matplotlib\n",
    "\n",
    "cl_a, cl_b = 3, 5\n",
    "X_aa = X_train[(y_train == cl_a) & (y_train_prediction == cl_a)]\n",
    "X_ab = X_train[(y_train == cl_a) & (y_train_prediction == cl_b)]\n",
    "X_ba = X_train[(y_train == cl_b) & (y_train_prediction == cl_a)]\n",
    "X_bb = X_train[(y_train == cl_b) & (y_train_prediction == cl_b)]\n",
    "\n",
    "plt.figure(figsize=(8,8))\n",
    "plt.subplot(221); plot_digits(X_aa[:25], images_per_row=5)\n",
    "plt.subplot(222); plot_digits(X_ab[:25], images_per_row=5)\n",
    "plt.subplot(223); plot_digits(X_ba[:25], images_per_row=5)\n",
    "plt.subplot(224); plot_digits(X_bb[:25], images_per_row=5)\n",
    "plt.show()"
   ]
  },
  {
   "cell_type": "markdown",
   "id": "063fc5dd",
   "metadata": {},
   "source": [
    "The two blocks on the left show digits that have been classified as 3s, and the two blocks on the right show what digits have been classified as 5s. Some digits as we can see have been missclassified. Some are really badly written like the digit on the top left of the lower left block. Others like the 5 appear to be in the 5s classification but in the misclassified box which is strange. But most of them are rather clear so why is our classifier making this error, the reason is that we are using a rather basic model, a SGD classifier is a linear classifier and all it does is assign a weight per class to each pixel, and when it gets a new instance all it does is add up all of the weighted pixel intensities and get a score for each class. So the 3s and 5s only differing in a few parts is enough to throw the algorithm off its stride. \n",
    "\n",
    "The main difference between the 5s and the 3s is the position of the small line at the top that joins the top lines together, the 5 is vertical whereas the 3 is horizontal, if we draw the 3 junction slightly more vertical, we can start to see how the classifier is getting it wrong. In other words the classifier is really sensitive to image rotation, so one way to reduce the confusion between the two digits would be to center all of the images and make sure that they are not rotated too much. This will most likely help reduce the errors that the classifier is making. "
   ]
  },
  {
   "cell_type": "markdown",
   "id": "5cbb861c",
   "metadata": {},
   "source": [
    "### Mutlilabel Classification \n",
    "\n",
    "Unti now each instance has always been assinged to just one class, in some cases you may want our classifier to output multiple classes for each single instance. Consider a face recognition classifier, what should it do if it recognises several people in the same picture? It should attach one tag per person it recognises. Say the classifier has been trained to recognise three faces, Alic, Bob and Charlie. Then when the classifier is shown a picture of Alice and Charlie it should output $[1,0,1]$. Meaning that Alice is in the photo, Bob is not and Charlie is in the photo. Such a classification system that outputs multiple binary tags is called a **multilabel classification system** \n",
    "\n",
    "We are not going into facial recognition just yet (thank god ahahah), but lets consider another example"
   ]
  },
  {
   "cell_type": "code",
   "execution_count": 117,
   "id": "ceed9c2d",
   "metadata": {},
   "outputs": [
    {
     "data": {
      "text/plain": [
       "KNeighborsClassifier()"
      ]
     },
     "execution_count": 117,
     "metadata": {},
     "output_type": "execute_result"
    }
   ],
   "source": [
    "from sklearn.neighbors import KNeighborsClassifier\n",
    "y_train_large = (y_train >= 7)\n",
    "y_train_odd = (y_train % 2 == 1)\n",
    "y_multilabel = np.c_[y_train_large, y_train_odd]\n",
    "\n",
    "knn_clf = KNeighborsClassifier()\n",
    "knn_clf.fit(X_train, y_multilabel)"
   ]
  },
  {
   "cell_type": "markdown",
   "id": "2fe23abc",
   "metadata": {},
   "source": [
    "The code above creates a y_mutlilabel array that contains the two target for labels for each digit image, the first indicates whether or not the digit is larger (7,8,9) and the second indicated whether it is odd or even. The next lines create a KNeighborsClassifier instance (this supports mutlilabel classification, not all classifiers do), and we then train it used the multiple targets array (y_multilabel). Now we can make a predicition and notice that there are two output labels"
   ]
  },
  {
   "cell_type": "code",
   "execution_count": 119,
   "id": "f887225d",
   "metadata": {},
   "outputs": [
    {
     "data": {
      "text/plain": [
       "array([[False,  True]])"
      ]
     },
     "execution_count": 119,
     "metadata": {},
     "output_type": "execute_result"
    }
   ],
   "source": [
    "knn_clf.predict([first_digit])"
   ]
  },
  {
   "cell_type": "markdown",
   "id": "f8bdb3e9",
   "metadata": {},
   "source": [
    "And the classifier gets it right! The digit is a 5, and is indeed not larger than 7, and it is odd (False, True). \n",
    "\n",
    "There are many ways to evaluate a mutlilabel classifier, and selecting the right metric really depends on the project we are doing. One approach is the measure the $F_1$ score for each individual label (or any other binary classifier metric we have spoken about earlier), then we can compute the average score across the labels. "
   ]
  },
  {
   "cell_type": "code",
   "execution_count": 121,
   "id": "02c21600",
   "metadata": {},
   "outputs": [
    {
     "data": {
      "text/plain": [
       "0.976410265560605"
      ]
     },
     "execution_count": 121,
     "metadata": {},
     "output_type": "execute_result"
    }
   ],
   "source": [
    "y_train_knn_pred = cross_val_predict(knn_clf, X_train, y_multilabel, cv=3)\n",
    "f1_score(y_multilabel, y_train_knn_pred, average='macro')"
   ]
  },
  {
   "cell_type": "markdown",
   "id": "09a3a997",
   "metadata": {},
   "source": [
    "This code assumes that all labels are equally important, however, which may not be the case, if you have many more pictures of Alice than Bob and Charlie, we may want to give **more weight** to the classifers score on pictures of Alice. One simple option is to give each label a weight equal to its **support** (i.e the number of instances with that target label). To do this simply set **average == 'weighted'** in the preceding code.\n",
    "\n",
    "\n",
    "### Multioutput Classification\n",
    "\n",
    "The last type of classification we are going to talk about is **multioutput  multiclass classification** or simply **mutlioutput classification**. This type of classification is simply where mutlilabel classification can be multiclass (ie it can have more than two possible values)\n",
    "\n",
    "To illistrate this point we are going to create a system that removes noise from images and output a clean image. represented as an array of pixel itensities, just like the MNIST images. Notice that the classifiers output is mutlilabel (one label per pixel) and each label can have multiple values (pixel intensities ranging from 0 to 255). So we can have many labels and many values of that label. It is thsu an example of a mutlioutput classification. \n",
    "\n",
    "Sometimes the line between classification and regression is sometimes really blurry. Arguably predicting pixel intensitiy is more akin to regression than to classification. Moreover multioutput systems are not limited to classification tasks, we could even have a system that outputs multiple labels per instance, including both class labels and value labels. \n",
    "\n",
    "Lets start by creating the training and test sets by taking the MNIST images and adding noise to their pixel intensities with NumPys **randint()** function. The target images will be the original images. "
   ]
  },
  {
   "cell_type": "code",
   "execution_count": 148,
   "id": "631f1301",
   "metadata": {},
   "outputs": [],
   "source": [
    "noise = np.random.randint(0, 100, (len(X_train), 784))\n",
    "X_train_mod = X_train + noise\n",
    "noise = np.random.randint(0, 100, (len(X_test), 784))\n",
    "X_test_mod = X_test + noise\n",
    "y_train_mod = X_train\n",
    "y_test_mod = X_test"
   ]
  },
  {
   "cell_type": "markdown",
   "id": "030a0132",
   "metadata": {},
   "source": [
    "Lets take a peek at an image from the test set (we are snooping, this is usually not allowed lol)"
   ]
  },
  {
   "cell_type": "code",
   "execution_count": 149,
   "id": "e17a507e",
   "metadata": {},
   "outputs": [
    {
     "data": {
      "image/png": "[encoded data removed]",
      "text/plain": [
       "<Figure size 432x288 with 2 Axes>"
      ]
     },
     "metadata": {
      "needs_background": "light"
     },
     "output_type": "display_data"
    }
   ],
   "source": [
    "def plot_digit(data):\n",
    "    image = data.reshape(28, 28)\n",
    "    plt.imshow(image, cmap = mpl.cm.binary,\n",
    "               interpolation=\"nearest\")\n",
    "    plt.axis(\"off\")\n",
    "\n",
    "some_index = 1\n",
    "plt.subplot(121); plot_digit(X_test_mod[some_index])\n",
    "plt.subplot(122); plot_digit(y_test_mod[some_index])\n",
    "plt.show()"
   ]
  },
  {
   "cell_type": "code",
   "execution_count": 150,
   "id": "9375eda4",
   "metadata": {},
   "outputs": [
    {
     "data": {
      "image/png": "[encoded data removed]",
      "text/plain": [
       "<Figure size 432x288 with 1 Axes>"
      ]
     },
     "metadata": {
      "needs_background": "light"
     },
     "output_type": "display_data"
    }
   ],
   "source": [
    "knn_clf.fit(X_train_mod, y_train_mod)\n",
    "clean_digit = knn_clf.predict([X_test_mod[some_index]])\n",
    "plot_digit(clean_digit)"
   ]
  },
  {
   "cell_type": "markdown",
   "id": "766dad45",
   "metadata": {},
   "source": [
    "Originally I had made a mistake with the code which gave the model no chance for it to work (I was setting the training data to simply be just random noise. After revewing the code, I have corrected it and it works!!!!\n",
    "\n",
    "In this chapter, we have learned how to evaluate models in classification tasks, compare classifiers and build a good classification system. "
   ]
  }
 ],
 "metadata": {
  "kernelspec": {
   "display_name": "Python 3 (ipykernel)",
   "language": "python",
   "name": "python3"
  },
  "language_info": {
   "codemirror_mode": {
    "name": "ipython",
    "version": 3
   },
   "file_extension": ".py",
   "mimetype": "text/x-python",
   "name": "python",
   "nbconvert_exporter": "python",
   "pygments_lexer": "ipython3",
   "version": "3.10.4"
  }
 },
 "nbformat": 4,
 "nbformat_minor": 5
}
