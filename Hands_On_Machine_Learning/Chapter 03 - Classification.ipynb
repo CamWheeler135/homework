{
 "cells": [
  {
   "cell_type": "markdown",
   "id": "e76986b4",
   "metadata": {},
   "source": [
    "# Chapter 03 - Classification \n",
    "\n",
    "In the first chapter the author mentioned that the most common form of supervised learning tasks are regression (where we are prediciting continuous variables) and classification (prediciting classes). In the previous chapter we explored a regression task, where we looked at prediciting the house prices using several types of algorithms, such as linear regression, decision trees and random forests. In this chapter, we are going to look at classification tasks. \n",
    "\n",
    "### MNIST Dataset \n",
    "\n",
    "For this chapter we will be using the MNIST dataset, this is a dataset of 70 thousand labelled images of handwritten numbers. The set has been studied so much that it is often called the \"hello world\" of machine learning (thinking back to when I did my first hello world when I started to learn coding). Whenever people come up with new classification algorithms, the first thing they do is test it on the MNIST dataset to see how it fairs. Anyone who does machine learning or is learning machine learning has tackled or is going to tackle this dataset at some point!!!!\n",
    "\n",
    "Scikit-learn provides many helper funtions to download popular datasets such as the MNIST dataset, the following code fetches the dataset for us. "
   ]
  },
  {
   "cell_type": "code",
   "execution_count": 1,
   "id": "2cfe9963",
   "metadata": {},
   "outputs": [
    {
     "data": {
      "text/plain": [
       "dict_keys(['data', 'target', 'frame', 'categories', 'feature_names', 'target_names', 'DESCR', 'details', 'url'])"
      ]
     },
     "execution_count": 1,
     "metadata": {},
     "output_type": "execute_result"
    }
   ],
   "source": [
    "from sklearn.datasets import fetch_openml \n",
    "\n",
    "mnist = fetch_openml('mnist_784', version=1, as_frame = False) # we need to set the as_frame = false as skikit learn has updated\n",
    "\n",
    "mnist.keys()"
   ]
  },
  {
   "cell_type": "markdown",
   "id": "78bc223f",
   "metadata": {},
   "source": [
    "Datasets that are loaded in my scikit learn generally have a similar dictionary structure that include the following. \n",
    "\n",
    "- A DESCR key describing the dataset\n",
    "- A data key containing an array with one row per instance and one colum per feature \n",
    "- A target key that contains all of the labels for each of the instances\n",
    "\n",
    "Let's look at these arrays below"
   ]
  },
  {
   "cell_type": "code",
   "execution_count": 2,
   "id": "18e5871a",
   "metadata": {},
   "outputs": [],
   "source": [
    "X, y = mnist['data'], mnist['target']"
   ]
  },
  {
   "cell_type": "code",
   "execution_count": 3,
   "id": "cf439794",
   "metadata": {
    "scrolled": true
   },
   "outputs": [
    {
     "data": {
      "text/plain": [
       "(70000, 784)"
      ]
     },
     "execution_count": 3,
     "metadata": {},
     "output_type": "execute_result"
    }
   ],
   "source": [
    "X.shape"
   ]
  },
  {
   "cell_type": "code",
   "execution_count": 4,
   "id": "c34804a6",
   "metadata": {},
   "outputs": [
    {
     "data": {
      "text/plain": [
       "(70000,)"
      ]
     },
     "execution_count": 4,
     "metadata": {},
     "output_type": "execute_result"
    }
   ],
   "source": [
    "y.shape"
   ]
  },
  {
   "cell_type": "markdown",
   "id": "051f39b5",
   "metadata": {},
   "source": [
    "There are 70 thousand iages and each image is made up of 784 features. This is because each image is 28 x 28 pixels and each feature is simply representing the pixels intensity from 0 (which is white) to 255 (which is black). Lets take a look at one of the digits on our dataset. All we need to do is grab an instances feature vector (we know what these are now) and reshape it into the 28 x 28 array, and thi display it using Matplotlibs imshow() function. "
   ]
  },
  {
   "cell_type": "code",
   "execution_count": 10,
   "id": "8fb0cd79",
   "metadata": {},
   "outputs": [
    {
     "data": {
      "image/png": "[encoded data removed]",
      "text/plain": [
       "<Figure size 432x288 with 1 Axes>"
      ]
     },
     "metadata": {
      "needs_background": "light"
     },
     "output_type": "display_data"
    }
   ],
   "source": [
    "import matplotlib as mpl\n",
    "import matplotlib.pyplot as plt\n",
    "import numpy as np\n",
    "\n",
    "first_digit = X[0]\n",
    "\n",
    "first_digit_image = first_digit.reshape(28, 28)\n",
    "\n",
    "plt.imshow(first_digit_image, cmap='binary')\n",
    "plt.axis('off')\n",
    "plt.show()"
   ]
  },
  {
   "cell_type": "raw",
   "id": "c731bbc7",
   "metadata": {},
   "source": [
    "So its a five! Lets look at the first label so prove this."
   ]
  },
  {
   "cell_type": "code",
   "execution_count": 8,
   "id": "ab8ca39f",
   "metadata": {},
   "outputs": [
    {
     "data": {
      "text/plain": [
       "'5'"
      ]
     },
     "execution_count": 8,
     "metadata": {},
     "output_type": "execute_result"
    }
   ],
   "source": [
    "y[0]"
   ]
  },
  {
   "cell_type": "markdown",
   "id": "9cd638c0",
   "metadata": {},
   "source": [
    "Perfect it's a five, note that the label is a string. Most ML algorithms expect numbers to be fed into them lets cast y to an integer. "
   ]
  },
  {
   "cell_type": "code",
   "execution_count": 14,
   "id": "6f3b496f",
   "metadata": {},
   "outputs": [],
   "source": [
    "# converting all of the strings into integers\n",
    "y = y.astype(np.uint8)"
   ]
  },
  {
   "cell_type": "markdown",
   "id": "bbae61ad",
   "metadata": {},
   "source": [
    "Remember that before we go onto analyse the dataset we need to create a test set. The MNIST dataset is actually already split into a training and test split (the first 60,000 are training and the last 10,000 is testing) so lets create our test train split. "
   ]
  },
  {
   "cell_type": "code",
   "execution_count": 17,
   "id": "ac367374",
   "metadata": {},
   "outputs": [],
   "source": [
    "X_train, y_train, X_test, y_test = X[:60000], y[:60000], X[60000:], y[60000:]"
   ]
  },
  {
   "cell_type": "markdown",
   "id": "02da897a",
   "metadata": {},
   "source": [
    "It should be noted that the dataset is already shuffled which is good because it means that the cross validation folds should contain similar amount of each digit, as well as this machine learning algorithms don't tend to like being fed instances that are too similar one after eachother, shuffling the dataset ensures this wont happen. "
   ]
  }
 ],
 "metadata": {
  "kernelspec": {
   "display_name": "Python 3 (ipykernel)",
   "language": "python",
   "name": "python3"
  },
  "language_info": {
   "codemirror_mode": {
    "name": "ipython",
    "version": 3
   },
   "file_extension": ".py",
   "mimetype": "text/x-python",
   "name": "python",
   "nbconvert_exporter": "python",
   "pygments_lexer": "ipython3",
   "version": "3.10.4"
  }
 },
 "nbformat": 4,
 "nbformat_minor": 5
}
