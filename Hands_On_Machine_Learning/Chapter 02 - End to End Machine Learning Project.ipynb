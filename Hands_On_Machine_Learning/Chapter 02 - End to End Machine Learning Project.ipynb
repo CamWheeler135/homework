{
 "cells": [
  {
   "cell_type": "markdown",
   "id": "f78dd565",
   "metadata": {},
   "source": [
    "#### Download the Data\n",
    "\n",
    "In a typical envrionment your data would be available in a relational database or another common data store, spread across multiple tabels and documents. To access this we would first need to get our credential and access authorisation, then we familairise ourselfs with the data schema. In this project things are much simpler, we just need to download a single compressed file, housing.tgz which contains a comma-seperated values (CSV) file called housing.csv with all the data inside of it. \n",
    "\n",
    "We cold use a web brower to download the file and run tar xzf housing.tgz to decompress it and extract the housing csv file, but it is better to create a small function that will do all of this for us! So instead of manually sorting through all of this python will sort it for us!\n",
    "\n",
    "Having a function that downloads the data is really helpful if the data we are working with is changing regularly, or we can set up a scheduled job that will do this automatically at regular intervals. Automating the process of fetching data is also useful if you need to install a dataset on multiple machines! So we just call the function on each machine adn the data will be fetched for us. "
   ]
  }
 ],
 "metadata": {
  "kernelspec": {
   "display_name": "Python 3 (ipykernel)",
   "language": "python",
   "name": "python3"
  },
  "language_info": {
   "codemirror_mode": {
    "name": "ipython",
    "version": 3
   },
   "file_extension": ".py",
   "mimetype": "text/x-python",
   "name": "python",
   "nbconvert_exporter": "python",
   "pygments_lexer": "ipython3",
   "version": "3.10.4"
  }
 },
 "nbformat": 4,
 "nbformat_minor": 5
}
