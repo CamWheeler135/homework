{
 "cells": [
  {
   "cell_type": "markdown",
   "id": "f78dd565",
   "metadata": {},
   "source": [
    "# Chapter 02 End to End Machine Learning Project\n",
    "\n",
    "#### Working With Real Data\n",
    "\n",
    "When we are learning machine learning, it is best to experiment with real life data, not artifical datasets. Fourtunetly there are loads of datatsets we can acess in order to teach ourselfs how machine learning works.\n",
    "\n",
    "Popular open data repositories\n",
    "- UC Irvine Machine Learning Repository\n",
    "- Kaggle datasets \n",
    "- Amazons AWS Datasets\n",
    "\n",
    "Meta portals\n",
    "- Data portals\n",
    "- OpenDataMonitor \n",
    "- Quandl \n",
    "\n",
    "Other pages listing many popular datasets \n",
    "- Wikipedias list of machine learning datasets\n",
    "- Quora.com\n",
    "- The datasets subreddit\n",
    "\n",
    "In this chapter we will be using California Housing Prices dataset from the StatLib repository. This is based on data from the 1990 California Census. The author has also removed some data columns and added a categorical attribute for teaching purposes.\n",
    "\n",
    "### Look at the Big Picture\n",
    "\n",
    "We will now be working as a machine learning engineer for the Machine Learning Houses Corporation! Our first task is to use the California census data to build a model of housing prices in the state. This data includes metrics such as the pupulation, median income, and median housing price for each district. \n",
    "\n",
    "Our model should learn from this data and be able to predict the median housing price in any district, given all the other metrics. \n",
    "\n",
    "Since we are a well organised data scientist we will use our data science checklist"
   ]
  },
  {
   "cell_type": "markdown",
   "id": "115553ae",
   "metadata": {},
   "source": [
    "#### Download the Data\n",
    "\n",
    "In a typical envrionment your data would be available in a relational database or another common data store, spread across multiple tabels and documents. To access this we would first need to get our credential and access authorisation, then we familairise ourselfs with the data schema. In this project things are much simpler, we just need to download a single compressed file, housing.tgz which contains a comma-seperated values (CSV) file called housing.csv with all the data inside of it. \n",
    "\n",
    "We cold use a web brower to download the file and run tar xzf housing.tgz to decompress it and extract the housing csv file, but it is better to create a small function that will do all of this for us! So instead of manually sorting through all of this python will sort it for us!\n",
    "\n",
    "Having a function that downloads the data is really helpful if the data we are working with is changing regularly, or we can set up a scheduled job that will do this automatically at regular intervals. Automating the process of fetching data is also useful if you need to install a dataset on multiple machines! So we just call the function on each machine adn the data will be fetched for us. "
   ]
  },
  {
   "cell_type": "code",
   "execution_count": 1,
   "id": "c7070655",
   "metadata": {},
   "outputs": [],
   "source": [
    "import os \n",
    "import tarfile\n",
    "import urllib\n",
    "import pandas as pd\n",
    "import matplotlib.pyplot as plt\n",
    "import numpy as np\n",
    "from zlib import crc32\n",
    "from sklearn.model_selection import train_test_split\n",
    "from sklearn.model_selection import StratifiedShuffleSplit\n",
    "from pandas.plotting import scatter_matrix"
   ]
  },
  {
   "cell_type": "code",
   "execution_count": 2,
   "id": "3484c3ed",
   "metadata": {},
   "outputs": [],
   "source": [
    "# setting the variables that we are using in the function\n",
    "DOWNLOAD_ROOT = \"https://raw.githubusercontent.com/ageron/handson-ml2/master/\"\n",
    "HOUSING_PATH = os.path.join(\"datasets\", \"housing\")\n",
    "HOUSING_URL = DOWNLOAD_ROOT + \"datasets/housing/housing.tgz\"\n",
    "\n",
    "# setting up the function with the parameters\n",
    "def fetch_housing_data (housing_url=HOUSING_URL, housing_path=HOUSING_PATH):\n",
    "    '''\n",
    "    creates a directory and loads the data from the url into the housing path \n",
    "    \n",
    "    input = housing_url, housing_path\n",
    "    \n",
    "    output = csv file in the desired location\n",
    "    '''\n",
    "#   making a directory\n",
    "    os.makedirs(housing_path, exist_ok=True)\n",
    "#   setting a path to get the tgz path \n",
    "    tgz_path = os.path.join(housing_path, \"housing.tgz\")\n",
    "#   retrieving the url \n",
    "    urllib.request.urlretrieve(housing_url, tgz_path)\n",
    "#   tarfile allows us to read in tar files\n",
    "    housing_tgz = tarfile.open(tgz_path)\n",
    "#   extract all of the members in the directory or path\n",
    "    housing_tgz.extractall(path=housing_path)\n",
    "#   closing the file\n",
    "    housing_tgz.close()"
   ]
  },
  {
   "cell_type": "markdown",
   "id": "e06cfea7",
   "metadata": {},
   "source": [
    "Now lets load the data using pandas, once again we shoul write a small function that does this for us"
   ]
  },
  {
   "cell_type": "code",
   "execution_count": 3,
   "id": "d93e4951",
   "metadata": {},
   "outputs": [],
   "source": [
    "# setting up the function with the parameter that it needs to function\n",
    "def load_housing_data_to_df(housing_path=HOUSING_PATH):\n",
    "    '''\n",
    "    creates a dataframe of the csv data\n",
    "    \n",
    "    input = housing path, where to find the data\n",
    "    \n",
    "    output = pandas dataframe of the data at the end of the path\n",
    "    '''\n",
    "#   setting up the path to get the csv data\n",
    "    csv_path = os.path.join(housing_path, \"housing.csv\")\n",
    "#   passing the csv path as the argument for the read_csv method\n",
    "    return pd.read_csv(csv_path)"
   ]
  },
  {
   "cell_type": "code",
   "execution_count": 4,
   "id": "5fbae869",
   "metadata": {},
   "outputs": [],
   "source": [
    "fetch_housing_data()\n",
    "housing_data = load_housing_data_to_df()"
   ]
  },
  {
   "cell_type": "code",
   "execution_count": 5,
   "id": "c9f7eb85",
   "metadata": {},
   "outputs": [
    {
     "data": {
      "text/html": [
       "<div>\n",
       "<style scoped>\n",
       "    .dataframe tbody tr th:only-of-type {\n",
       "        vertical-align: middle;\n",
       "    }\n",
       "\n",
       "    .dataframe tbody tr th {\n",
       "        vertical-align: top;\n",
       "    }\n",
       "\n",
       "    .dataframe thead th {\n",
       "        text-align: right;\n",
       "    }\n",
       "</style>\n",
       "<table border=\"1\" class=\"dataframe\">\n",
       "  <thead>\n",
       "    <tr style=\"text-align: right;\">\n",
       "      <th></th>\n",
       "      <th>longitude</th>\n",
       "      <th>latitude</th>\n",
       "      <th>housing_median_age</th>\n",
       "      <th>total_rooms</th>\n",
       "      <th>total_bedrooms</th>\n",
       "      <th>population</th>\n",
       "      <th>households</th>\n",
       "      <th>median_income</th>\n",
       "      <th>median_house_value</th>\n",
       "      <th>ocean_proximity</th>\n",
       "    </tr>\n",
       "  </thead>\n",
       "  <tbody>\n",
       "    <tr>\n",
       "      <th>0</th>\n",
       "      <td>-122.23</td>\n",
       "      <td>37.88</td>\n",
       "      <td>41.0</td>\n",
       "      <td>880.0</td>\n",
       "      <td>129.0</td>\n",
       "      <td>322.0</td>\n",
       "      <td>126.0</td>\n",
       "      <td>8.3252</td>\n",
       "      <td>452600.0</td>\n",
       "      <td>NEAR BAY</td>\n",
       "    </tr>\n",
       "    <tr>\n",
       "      <th>1</th>\n",
       "      <td>-122.22</td>\n",
       "      <td>37.86</td>\n",
       "      <td>21.0</td>\n",
       "      <td>7099.0</td>\n",
       "      <td>1106.0</td>\n",
       "      <td>2401.0</td>\n",
       "      <td>1138.0</td>\n",
       "      <td>8.3014</td>\n",
       "      <td>358500.0</td>\n",
       "      <td>NEAR BAY</td>\n",
       "    </tr>\n",
       "    <tr>\n",
       "      <th>2</th>\n",
       "      <td>-122.24</td>\n",
       "      <td>37.85</td>\n",
       "      <td>52.0</td>\n",
       "      <td>1467.0</td>\n",
       "      <td>190.0</td>\n",
       "      <td>496.0</td>\n",
       "      <td>177.0</td>\n",
       "      <td>7.2574</td>\n",
       "      <td>352100.0</td>\n",
       "      <td>NEAR BAY</td>\n",
       "    </tr>\n",
       "    <tr>\n",
       "      <th>3</th>\n",
       "      <td>-122.25</td>\n",
       "      <td>37.85</td>\n",
       "      <td>52.0</td>\n",
       "      <td>1274.0</td>\n",
       "      <td>235.0</td>\n",
       "      <td>558.0</td>\n",
       "      <td>219.0</td>\n",
       "      <td>5.6431</td>\n",
       "      <td>341300.0</td>\n",
       "      <td>NEAR BAY</td>\n",
       "    </tr>\n",
       "    <tr>\n",
       "      <th>4</th>\n",
       "      <td>-122.25</td>\n",
       "      <td>37.85</td>\n",
       "      <td>52.0</td>\n",
       "      <td>1627.0</td>\n",
       "      <td>280.0</td>\n",
       "      <td>565.0</td>\n",
       "      <td>259.0</td>\n",
       "      <td>3.8462</td>\n",
       "      <td>342200.0</td>\n",
       "      <td>NEAR BAY</td>\n",
       "    </tr>\n",
       "  </tbody>\n",
       "</table>\n",
       "</div>"
      ],
      "text/plain": [
       "   longitude  latitude  housing_median_age  total_rooms  total_bedrooms  \\\n",
       "0    -122.23     37.88                41.0        880.0           129.0   \n",
       "1    -122.22     37.86                21.0       7099.0          1106.0   \n",
       "2    -122.24     37.85                52.0       1467.0           190.0   \n",
       "3    -122.25     37.85                52.0       1274.0           235.0   \n",
       "4    -122.25     37.85                52.0       1627.0           280.0   \n",
       "\n",
       "   population  households  median_income  median_house_value ocean_proximity  \n",
       "0       322.0       126.0         8.3252            452600.0        NEAR BAY  \n",
       "1      2401.0      1138.0         8.3014            358500.0        NEAR BAY  \n",
       "2       496.0       177.0         7.2574            352100.0        NEAR BAY  \n",
       "3       558.0       219.0         5.6431            341300.0        NEAR BAY  \n",
       "4       565.0       259.0         3.8462            342200.0        NEAR BAY  "
      ]
     },
     "execution_count": 5,
     "metadata": {},
     "output_type": "execute_result"
    }
   ],
   "source": [
    "housing_data.head()"
   ]
  },
  {
   "cell_type": "markdown",
   "id": "0e68df09",
   "metadata": {},
   "source": [
    "#### Lets Explore The Data\n",
    "\n",
    "The rows are each housing district, there are 10 attributes of the data (columns). The info() method is a quick way to a description of the data we are using, in particular the number of rows, each attributes type, and the number of nonnull values "
   ]
  },
  {
   "cell_type": "code",
   "execution_count": 6,
   "id": "7396b19b",
   "metadata": {},
   "outputs": [
    {
     "name": "stdout",
     "output_type": "stream",
     "text": [
      "<class 'pandas.core.frame.DataFrame'>\n",
      "RangeIndex: 20640 entries, 0 to 20639\n",
      "Data columns (total 10 columns):\n",
      " #   Column              Non-Null Count  Dtype  \n",
      "---  ------              --------------  -----  \n",
      " 0   longitude           20640 non-null  float64\n",
      " 1   latitude            20640 non-null  float64\n",
      " 2   housing_median_age  20640 non-null  float64\n",
      " 3   total_rooms         20640 non-null  float64\n",
      " 4   total_bedrooms      20433 non-null  float64\n",
      " 5   population          20640 non-null  float64\n",
      " 6   households          20640 non-null  float64\n",
      " 7   median_income       20640 non-null  float64\n",
      " 8   median_house_value  20640 non-null  float64\n",
      " 9   ocean_proximity     20640 non-null  object \n",
      "dtypes: float64(9), object(1)\n",
      "memory usage: 1.6+ MB\n"
     ]
    }
   ],
   "source": [
    "housing_data.info()"
   ]
  },
  {
   "cell_type": "markdown",
   "id": "9cbdfd5d",
   "metadata": {},
   "source": [
    "We can see there are 20,640 instances in this dataset, this is fairly small for machine learning but its a great place to start. Also note that total_bedrooms only has 20,433 values inside of that column, this means that there are 207 districts that do not have this data and are missing that feature, we will need to take care of this at some point. We can also see that all of the data in numerical bar the ocean_proximity data, which is an object type, this means it can hold any kind of Python object, but since we loaded this object from a CSV we know that this must be a text value (a string?). Now reading the ocean_proximity we can see that is looks sort of catagorical, how can we find out what the catagories are??? \n",
    "\n",
    "We can use the value_counts() method (we were also shown this in the pandas tutorial we did) "
   ]
  },
  {
   "cell_type": "code",
   "execution_count": 7,
   "id": "2d0ccfc8",
   "metadata": {},
   "outputs": [
    {
     "data": {
      "text/plain": [
       "<1H OCEAN     9136\n",
       "INLAND        6551\n",
       "NEAR OCEAN    2658\n",
       "NEAR BAY      2290\n",
       "ISLAND           5\n",
       "Name: ocean_proximity, dtype: int64"
      ]
     },
     "execution_count": 7,
     "metadata": {},
     "output_type": "execute_result"
    }
   ],
   "source": [
    "# we are stating which column of the df we want to do our count with and then calling the value_counts method\n",
    "housing_data['ocean_proximity'].value_counts()"
   ]
  },
  {
   "cell_type": "markdown",
   "id": "965ac1d4",
   "metadata": {},
   "source": [
    "So we have less than one hour from the ocean, inland, near the ocean, near the bay and an island catagory. It will be interesting to see the definitions of each of those catagories. However, lets look at the other fields, to do this we use the describe() function shows a summary of the numerical attributes"
   ]
  },
  {
   "cell_type": "code",
   "execution_count": 8,
   "id": "7e4f3ec1",
   "metadata": {},
   "outputs": [
    {
     "data": {
      "text/html": [
       "<div>\n",
       "<style scoped>\n",
       "    .dataframe tbody tr th:only-of-type {\n",
       "        vertical-align: middle;\n",
       "    }\n",
       "\n",
       "    .dataframe tbody tr th {\n",
       "        vertical-align: top;\n",
       "    }\n",
       "\n",
       "    .dataframe thead th {\n",
       "        text-align: right;\n",
       "    }\n",
       "</style>\n",
       "<table border=\"1\" class=\"dataframe\">\n",
       "  <thead>\n",
       "    <tr style=\"text-align: right;\">\n",
       "      <th></th>\n",
       "      <th>longitude</th>\n",
       "      <th>latitude</th>\n",
       "      <th>housing_median_age</th>\n",
       "      <th>total_rooms</th>\n",
       "      <th>total_bedrooms</th>\n",
       "      <th>population</th>\n",
       "      <th>households</th>\n",
       "      <th>median_income</th>\n",
       "      <th>median_house_value</th>\n",
       "    </tr>\n",
       "  </thead>\n",
       "  <tbody>\n",
       "    <tr>\n",
       "      <th>count</th>\n",
       "      <td>20640.000000</td>\n",
       "      <td>20640.000000</td>\n",
       "      <td>20640.000000</td>\n",
       "      <td>20640.000000</td>\n",
       "      <td>20433.000000</td>\n",
       "      <td>20640.000000</td>\n",
       "      <td>20640.000000</td>\n",
       "      <td>20640.000000</td>\n",
       "      <td>20640.000000</td>\n",
       "    </tr>\n",
       "    <tr>\n",
       "      <th>mean</th>\n",
       "      <td>-119.569704</td>\n",
       "      <td>35.631861</td>\n",
       "      <td>28.639486</td>\n",
       "      <td>2635.763081</td>\n",
       "      <td>537.870553</td>\n",
       "      <td>1425.476744</td>\n",
       "      <td>499.539680</td>\n",
       "      <td>3.870671</td>\n",
       "      <td>206855.816909</td>\n",
       "    </tr>\n",
       "    <tr>\n",
       "      <th>std</th>\n",
       "      <td>2.003532</td>\n",
       "      <td>2.135952</td>\n",
       "      <td>12.585558</td>\n",
       "      <td>2181.615252</td>\n",
       "      <td>421.385070</td>\n",
       "      <td>1132.462122</td>\n",
       "      <td>382.329753</td>\n",
       "      <td>1.899822</td>\n",
       "      <td>115395.615874</td>\n",
       "    </tr>\n",
       "    <tr>\n",
       "      <th>min</th>\n",
       "      <td>-124.350000</td>\n",
       "      <td>32.540000</td>\n",
       "      <td>1.000000</td>\n",
       "      <td>2.000000</td>\n",
       "      <td>1.000000</td>\n",
       "      <td>3.000000</td>\n",
       "      <td>1.000000</td>\n",
       "      <td>0.499900</td>\n",
       "      <td>14999.000000</td>\n",
       "    </tr>\n",
       "    <tr>\n",
       "      <th>25%</th>\n",
       "      <td>-121.800000</td>\n",
       "      <td>33.930000</td>\n",
       "      <td>18.000000</td>\n",
       "      <td>1447.750000</td>\n",
       "      <td>296.000000</td>\n",
       "      <td>787.000000</td>\n",
       "      <td>280.000000</td>\n",
       "      <td>2.563400</td>\n",
       "      <td>119600.000000</td>\n",
       "    </tr>\n",
       "    <tr>\n",
       "      <th>50%</th>\n",
       "      <td>-118.490000</td>\n",
       "      <td>34.260000</td>\n",
       "      <td>29.000000</td>\n",
       "      <td>2127.000000</td>\n",
       "      <td>435.000000</td>\n",
       "      <td>1166.000000</td>\n",
       "      <td>409.000000</td>\n",
       "      <td>3.534800</td>\n",
       "      <td>179700.000000</td>\n",
       "    </tr>\n",
       "    <tr>\n",
       "      <th>75%</th>\n",
       "      <td>-118.010000</td>\n",
       "      <td>37.710000</td>\n",
       "      <td>37.000000</td>\n",
       "      <td>3148.000000</td>\n",
       "      <td>647.000000</td>\n",
       "      <td>1725.000000</td>\n",
       "      <td>605.000000</td>\n",
       "      <td>4.743250</td>\n",
       "      <td>264725.000000</td>\n",
       "    </tr>\n",
       "    <tr>\n",
       "      <th>max</th>\n",
       "      <td>-114.310000</td>\n",
       "      <td>41.950000</td>\n",
       "      <td>52.000000</td>\n",
       "      <td>39320.000000</td>\n",
       "      <td>6445.000000</td>\n",
       "      <td>35682.000000</td>\n",
       "      <td>6082.000000</td>\n",
       "      <td>15.000100</td>\n",
       "      <td>500001.000000</td>\n",
       "    </tr>\n",
       "  </tbody>\n",
       "</table>\n",
       "</div>"
      ],
      "text/plain": [
       "          longitude      latitude  housing_median_age   total_rooms  \\\n",
       "count  20640.000000  20640.000000        20640.000000  20640.000000   \n",
       "mean    -119.569704     35.631861           28.639486   2635.763081   \n",
       "std        2.003532      2.135952           12.585558   2181.615252   \n",
       "min     -124.350000     32.540000            1.000000      2.000000   \n",
       "25%     -121.800000     33.930000           18.000000   1447.750000   \n",
       "50%     -118.490000     34.260000           29.000000   2127.000000   \n",
       "75%     -118.010000     37.710000           37.000000   3148.000000   \n",
       "max     -114.310000     41.950000           52.000000  39320.000000   \n",
       "\n",
       "       total_bedrooms    population    households  median_income  \\\n",
       "count    20433.000000  20640.000000  20640.000000   20640.000000   \n",
       "mean       537.870553   1425.476744    499.539680       3.870671   \n",
       "std        421.385070   1132.462122    382.329753       1.899822   \n",
       "min          1.000000      3.000000      1.000000       0.499900   \n",
       "25%        296.000000    787.000000    280.000000       2.563400   \n",
       "50%        435.000000   1166.000000    409.000000       3.534800   \n",
       "75%        647.000000   1725.000000    605.000000       4.743250   \n",
       "max       6445.000000  35682.000000   6082.000000      15.000100   \n",
       "\n",
       "       median_house_value  \n",
       "count        20640.000000  \n",
       "mean        206855.816909  \n",
       "std         115395.615874  \n",
       "min          14999.000000  \n",
       "25%         119600.000000  \n",
       "50%         179700.000000  \n",
       "75%         264725.000000  \n",
       "max         500001.000000  "
      ]
     },
     "execution_count": 8,
     "metadata": {},
     "output_type": "execute_result"
    }
   ],
   "source": [
    "housing_data.describe()"
   ]
  },
  {
   "cell_type": "markdown",
   "id": "b02c10b2",
   "metadata": {},
   "source": [
    "This shows us the counts, the mean, the standard deviation which shows how spread out (deviated) the values are, the minimum value. The 25%, 50% and 75% rows show the corresponding percentiles (a percentile indicates the value below which a given percentage of observations fall. For example 25% of districts have a housing median age lower than 18, 50& of them have a median age of 37 and 75% of them have a median age below 37.7. These values are often called the 25th percentile, or first quartile, with the median being 50% and the 75% percentile or the 3rd quartile. \n",
    "\n",
    "Another quick way to get a feel for the data is to produce histograms of each numerical value. A histogram shows us the number of instances on the vertical axis that have a given value range (so how many values fall into this range of numbers) the range of numbers are on the horizontal axis. We can either plot this one attribute at a time or we can call the hist() method on the whole dataset (this is in the following code) and it will plot a histogram for each numerical attribute "
   ]
  },
  {
   "cell_type": "code",
   "execution_count": 9,
   "id": "8363e1e4",
   "metadata": {},
   "outputs": [
    {
     "data": {
      "image/png": "[encoded data removed]",
      "text/plain": [
       "<Figure size 1440x1080 with 9 Axes>"
      ]
     },
     "metadata": {
      "needs_background": "light"
     },
     "output_type": "display_data"
    }
   ],
   "source": [
    "housing_data.hist(bins=50, figsize=(20,15))\n",
    "plt.show()"
   ]
  },
  {
   "cell_type": "markdown",
   "id": "bee70e95",
   "metadata": {},
   "source": [
    "What can we say about this data?? \n",
    "\n",
    "First the median income of each district seems like it is not calculated in USD, so we ask the team that came up with this data and we find that the data has actually been scaled and capped at 15 (15.0001) for the highest median incomes, and it has also been capped at 0.5 (0.4999) for the lowest median incomes. The numbers represent the 10s of thousands of dollars eg. 3 means around 30,000 dollars income, and 10 means 100,000 dollars of income etc. The book says that working with preprocessed attributes is common in machine learning and it is not necessarily a problem, but we should always try to figure out how the values we are analysing has been computed. \n",
    "\n",
    "Second, the housing median age and the housing median value seems to be capped too, THIS IS A PROBLEM as the housing median value is our target attribute (the value we are trying to predict) (we need to make extra sure that the target attribute is as we need it to be). This is important as the machine learning alogorithm could interpret this as houses don't go over 500,000. We check with the team that will be using our model and they say they need a precise number, not just above 500,000. So we have two options....\n",
    "\n",
    "- Collect proper labels for those districts whole labels have been capped\n",
    "\n",
    "- Remove those districts from the training set (and also from the test set) since our system should not be evaluated poorly if it predicts a value above 500,000 \n",
    "\n",
    "Third we notice that all of these attributes (each graph) have been scaled very differently, this is okay as we will find out them it comes to feature scaling. \n",
    "\n",
    "Finally many of the histograms are tail-heavy, this means that they extend much farther to the right of the median than to the left of the median. This may make it a bit harder for some machine learning algorithms to detect patterns in the data. We will try to transform these attributes later on to try and give them a much more bell shaped curve.\n",
    "\n",
    "\n",
    "\n",
    "WAIT !!!!!!!!\n",
    "\n",
    "Before we read any further into our data it is CRUCIAL that we take some away for the test set and never look at it again until it comes to testing. \n"
   ]
  },
  {
   "cell_type": "markdown",
   "id": "6666fa69",
   "metadata": {},
   "source": [
    "#### Create a Test Set\n",
    "\n",
    "It might seem weird to set aside some of the data without exploring it in depth, this is true but our brain is very good at pattern recognision and if we look at the test set we could spot a pattern that influences the choice of model that we select later on down the line. When we estimate the generalisation error our estimation will be too optimistic this is called 'snooping bias' !!!!\n",
    "\n",
    "Creating a test set is very simply in theory, we simply set aside 20% of our data at random, or less if it is a very large dataset. "
   ]
  },
  {
   "cell_type": "code",
   "execution_count": 10,
   "id": "0815f1e4",
   "metadata": {},
   "outputs": [],
   "source": [
    "def split_into_train_test_sets(data, test_ratio):\n",
    "    \"\"\"\n",
    "    splits the data into a train and test set according to the ratio\n",
    "    \n",
    "    input = dataframe, ratio of test to train\n",
    "    \n",
    "    return = dataframe of test and train data \n",
    "    \"\"\"\n",
    "#   shuffling the data using the random permutation of the length of the data\n",
    "    shuffled_indicies = np.random.permutation(len(data))\n",
    "#   setting the test length size (general, not setting it to 20% right away as this might change)\n",
    "    test_set_size = int(len(data) * test_ratio)\n",
    "#   slicing the array using the index operator, taking the values from 0 to the test set size\n",
    "    test_indicies = shuffled_indicies[:test_set_size]\n",
    "#   slicing the array from the test set size to the end using the slice operator \n",
    "    train_indicies = shuffled_indicies[test_set_size:]\n",
    "    return data.iloc[train_indicies], data.iloc[test_indicies]"
   ]
  },
  {
   "cell_type": "code",
   "execution_count": 11,
   "id": "e6533570",
   "metadata": {},
   "outputs": [
    {
     "name": "stdout",
     "output_type": "stream",
     "text": [
      "16512\n",
      "4128\n"
     ]
    }
   ],
   "source": [
    "train_set, test_set = split_into_train_test_sets(data=housing_data, test_ratio=0.2)\n",
    "\n",
    "print(len(train_set))\n",
    "print(len(test_set))"
   ]
  },
  {
   "cell_type": "markdown",
   "id": "5f0b538f",
   "metadata": {},
   "source": [
    "This way works but it is not perfect, if we run this program again and again eventually we and the alogrithms we use will be able to see everything in the data. One solution is to save the test set then load it in everytime we run the program. Another option is to set the random number generators seed with np.random.seed(42) before calling the np.random.permutation(len(data)) so that it always saves the same indicies each time. \n",
    "\n",
    "However this will break the program if we load in the new data like we were talking about (automatically updating). A common way of maintaining a stable train/test set is to give each of the values a unique identifier and decide from there if it should be in the train or the test set. For example we can compute a hash for each instances identifier and put that instance in the test set. If the hash is lower or equal to 20% of the maximum hash value it will be placed into the test set. This means even if we refresh the dataset, the new test set will contain 20% of the new instances, but it will NOT contain any instances it might have seen before that was in the previous training set. "
   ]
  },
  {
   "cell_type": "code",
   "execution_count": 12,
   "id": "63bb56c5",
   "metadata": {},
   "outputs": [],
   "source": [
    "def test_set_check(identifer, test_ratio):\n",
    "    \"\"\"\n",
    "    returns a unique has for each idenitifier of the dataframe\n",
    "    \n",
    "    intput = itentifier and test ratio \n",
    "    \n",
    "    output = hash value of the unique identifer\n",
    "    \"\"\"\n",
    "    return crc32(np.int64(indentifer)) & 0xffffffff < test_ratio * 2**32"
   ]
  },
  {
   "cell_type": "code",
   "execution_count": 13,
   "id": "91418461",
   "metadata": {},
   "outputs": [],
   "source": [
    "def split_train_test_by_id(data, test_ratio, id_column):\n",
    "    \"\"\"\n",
    "    returns dataframes of the test and train sets\n",
    "    \n",
    "    input = data, test ratio and id coloumn\n",
    "    \n",
    "    output = dataframe of test and train data\n",
    "    \"\"\"\n",
    "    ids = data['id_column']\n",
    "    in_test_set = ids.apply(lambda id_: test_set_check(id_, test_ratio))\n",
    "    return data.iloc[~in_test_set], data.loc[in_test_set]"
   ]
  },
  {
   "cell_type": "markdown",
   "id": "24497d0a",
   "metadata": {},
   "source": [
    "BUT our dataframe does not have a unique identifier column, the simplest solution is to use the row data index as the unique ID."
   ]
  },
  {
   "cell_type": "code",
   "execution_count": 14,
   "id": "ba5208b0",
   "metadata": {},
   "outputs": [],
   "source": [
    "# creating a new dataframe with an unique index column\n",
    "housing_with_id = housing_data.reset_index() # reset_index() adds the new index column as the row identifer "
   ]
  },
  {
   "cell_type": "code",
   "execution_count": 15,
   "id": "2e4414c1",
   "metadata": {
    "scrolled": true
   },
   "outputs": [
    {
     "data": {
      "text/html": [
       "<div>\n",
       "<style scoped>\n",
       "    .dataframe tbody tr th:only-of-type {\n",
       "        vertical-align: middle;\n",
       "    }\n",
       "\n",
       "    .dataframe tbody tr th {\n",
       "        vertical-align: top;\n",
       "    }\n",
       "\n",
       "    .dataframe thead th {\n",
       "        text-align: right;\n",
       "    }\n",
       "</style>\n",
       "<table border=\"1\" class=\"dataframe\">\n",
       "  <thead>\n",
       "    <tr style=\"text-align: right;\">\n",
       "      <th></th>\n",
       "      <th>index</th>\n",
       "      <th>longitude</th>\n",
       "      <th>latitude</th>\n",
       "      <th>housing_median_age</th>\n",
       "      <th>total_rooms</th>\n",
       "      <th>total_bedrooms</th>\n",
       "      <th>population</th>\n",
       "      <th>households</th>\n",
       "      <th>median_income</th>\n",
       "      <th>median_house_value</th>\n",
       "      <th>ocean_proximity</th>\n",
       "    </tr>\n",
       "  </thead>\n",
       "  <tbody>\n",
       "    <tr>\n",
       "      <th>0</th>\n",
       "      <td>0</td>\n",
       "      <td>-122.23</td>\n",
       "      <td>37.88</td>\n",
       "      <td>41.0</td>\n",
       "      <td>880.0</td>\n",
       "      <td>129.0</td>\n",
       "      <td>322.0</td>\n",
       "      <td>126.0</td>\n",
       "      <td>8.3252</td>\n",
       "      <td>452600.0</td>\n",
       "      <td>NEAR BAY</td>\n",
       "    </tr>\n",
       "    <tr>\n",
       "      <th>1</th>\n",
       "      <td>1</td>\n",
       "      <td>-122.22</td>\n",
       "      <td>37.86</td>\n",
       "      <td>21.0</td>\n",
       "      <td>7099.0</td>\n",
       "      <td>1106.0</td>\n",
       "      <td>2401.0</td>\n",
       "      <td>1138.0</td>\n",
       "      <td>8.3014</td>\n",
       "      <td>358500.0</td>\n",
       "      <td>NEAR BAY</td>\n",
       "    </tr>\n",
       "    <tr>\n",
       "      <th>2</th>\n",
       "      <td>2</td>\n",
       "      <td>-122.24</td>\n",
       "      <td>37.85</td>\n",
       "      <td>52.0</td>\n",
       "      <td>1467.0</td>\n",
       "      <td>190.0</td>\n",
       "      <td>496.0</td>\n",
       "      <td>177.0</td>\n",
       "      <td>7.2574</td>\n",
       "      <td>352100.0</td>\n",
       "      <td>NEAR BAY</td>\n",
       "    </tr>\n",
       "    <tr>\n",
       "      <th>3</th>\n",
       "      <td>3</td>\n",
       "      <td>-122.25</td>\n",
       "      <td>37.85</td>\n",
       "      <td>52.0</td>\n",
       "      <td>1274.0</td>\n",
       "      <td>235.0</td>\n",
       "      <td>558.0</td>\n",
       "      <td>219.0</td>\n",
       "      <td>5.6431</td>\n",
       "      <td>341300.0</td>\n",
       "      <td>NEAR BAY</td>\n",
       "    </tr>\n",
       "    <tr>\n",
       "      <th>4</th>\n",
       "      <td>4</td>\n",
       "      <td>-122.25</td>\n",
       "      <td>37.85</td>\n",
       "      <td>52.0</td>\n",
       "      <td>1627.0</td>\n",
       "      <td>280.0</td>\n",
       "      <td>565.0</td>\n",
       "      <td>259.0</td>\n",
       "      <td>3.8462</td>\n",
       "      <td>342200.0</td>\n",
       "      <td>NEAR BAY</td>\n",
       "    </tr>\n",
       "  </tbody>\n",
       "</table>\n",
       "</div>"
      ],
      "text/plain": [
       "   index  longitude  latitude  housing_median_age  total_rooms  \\\n",
       "0      0    -122.23     37.88                41.0        880.0   \n",
       "1      1    -122.22     37.86                21.0       7099.0   \n",
       "2      2    -122.24     37.85                52.0       1467.0   \n",
       "3      3    -122.25     37.85                52.0       1274.0   \n",
       "4      4    -122.25     37.85                52.0       1627.0   \n",
       "\n",
       "   total_bedrooms  population  households  median_income  median_house_value  \\\n",
       "0           129.0       322.0       126.0         8.3252            452600.0   \n",
       "1          1106.0      2401.0      1138.0         8.3014            358500.0   \n",
       "2           190.0       496.0       177.0         7.2574            352100.0   \n",
       "3           235.0       558.0       219.0         5.6431            341300.0   \n",
       "4           280.0       565.0       259.0         3.8462            342200.0   \n",
       "\n",
       "  ocean_proximity  \n",
       "0        NEAR BAY  \n",
       "1        NEAR BAY  \n",
       "2        NEAR BAY  \n",
       "3        NEAR BAY  \n",
       "4        NEAR BAY  "
      ]
     },
     "execution_count": 15,
     "metadata": {},
     "output_type": "execute_result"
    }
   ],
   "source": [
    "housing_with_id.head()"
   ]
  },
  {
   "cell_type": "markdown",
   "id": "44c942fe",
   "metadata": {},
   "source": [
    "However, scikit-learn allows us to use the train_test_split() function to do the same job that we have been doing before in the split_train_test() function we coded. There are a few more features in the train_test_split() function from scikit_learn such as the parameter 'random_state' that allows us to set a random generator seed. Secondly we can pass this function with multiple datasets, this is helpful when we have a seperate dataframe of labels where we can split the exact same instances and labels."
   ]
  },
  {
   "cell_type": "code",
   "execution_count": 16,
   "id": "f15a4ece",
   "metadata": {},
   "outputs": [
    {
     "name": "stdout",
     "output_type": "stream",
     "text": [
      "16512\n",
      "4128\n"
     ]
    }
   ],
   "source": [
    "# setting the train/test split using the scikit learn function\n",
    "train_set, test_set = train_test_split(housing_data, test_size=0.2, random_state=42)\n",
    "\n",
    "print(len(train_set))\n",
    "print(len(test_set))"
   ]
  },
  {
   "cell_type": "markdown",
   "id": "6a640da0",
   "metadata": {},
   "source": [
    "We have only covered random methods of getting our train test split, in larger datasets this is okay, but in smaller datasets, we run a serious risk of introducing sampling bias into our test/train split. For example if the company asked 1000 people about their opinion they shouldn't just pick 1000 people at random, they should ensure that these 1000 people represent the whole population, such as sex (in the united states it is 51.3% female and 48.7% male) so this should be represented in the 1000 people in the questionare so it will be 513 females and 487 males. This process is termed 'stratified sampling'. The surveyed population is divided into homogenous subgroups called 'strata' and the right number of instances are sampled from each stratum to guarentee that the test set is representative of teh overall population. If the random methods we have used before are used, we could introduce a 12% sampling bias making a test set of 49% female or 54% female!!!! Either way we are introducing sampling bias.\n",
    "\n",
    "Suppose we have spoken to the experts and they have told us that the median income of a district is a very important factor when predicting median house prices. So we want to make sure that the test set is representative of the various catagories on incomes in the whole dataset (we want to make sure each catagory % of income in represented fairly in the test set, say 100,000 makes up 10% of the data so we want it to make up 10% of the test set).\n",
    "\n",
    "Lets look at the median income more closely. "
   ]
  },
  {
   "cell_type": "code",
   "execution_count": 17,
   "id": "bdb38d8b",
   "metadata": {},
   "outputs": [
    {
     "data": {
      "text/plain": [
       "<AxesSubplot:>"
      ]
     },
     "execution_count": 17,
     "metadata": {},
     "output_type": "execute_result"
    },
    {
     "data": {
      "image/png": "[encoded data removed]",
      "text/plain": [
       "<Figure size 432x288 with 1 Axes>"
      ]
     },
     "metadata": {
      "needs_background": "light"
     },
     "output_type": "display_data"
    }
   ],
   "source": [
    "housing_with_id['median_income'].hist()"
   ]
  },
  {
   "cell_type": "markdown",
   "id": "37c97457",
   "metadata": {},
   "source": [
    "Here we can see that the majority of instances fall between 2 and 6 (20,000 to 60,000) with some instances coming far beyond 6. When we are constructing our stratum, it is really important that we have sufficient number of of instances in our dataset for each stratum or else our estimate of each stratum's importance will be bias. **This means we should not have too many strata and that each stratum is large enough!!!!!!** The following function uses the pd.cut() function to create an income cateogry attribute with five catagories from 1-5. 1 ranges from 0-15,000 catagory 2 ranges from 15,000 to 30,000 etc etc etc. \n",
    "\n",
    "We are creating a new column in the dataframe called income_catagories, where we use pd.cut() this allows us to sort data values into bins. It is also good at going from continuous data to catagorical data (which we are doing here). "
   ]
  },
  {
   "cell_type": "code",
   "execution_count": 18,
   "id": "5501f2de",
   "metadata": {},
   "outputs": [],
   "source": [
    "# creating the catagories for the median income data\n",
    "housing_data['income_catagories'] = pd.cut(housing_data['median_income'], bins=[0., 1.5, 3.0, 4.5, 6., np.inf], labels=[1,2,3,4,5])"
   ]
  },
  {
   "cell_type": "code",
   "execution_count": 19,
   "id": "44de81b4",
   "metadata": {},
   "outputs": [
    {
     "data": {
      "text/html": [
       "<div>\n",
       "<style scoped>\n",
       "    .dataframe tbody tr th:only-of-type {\n",
       "        vertical-align: middle;\n",
       "    }\n",
       "\n",
       "    .dataframe tbody tr th {\n",
       "        vertical-align: top;\n",
       "    }\n",
       "\n",
       "    .dataframe thead th {\n",
       "        text-align: right;\n",
       "    }\n",
       "</style>\n",
       "<table border=\"1\" class=\"dataframe\">\n",
       "  <thead>\n",
       "    <tr style=\"text-align: right;\">\n",
       "      <th></th>\n",
       "      <th>longitude</th>\n",
       "      <th>latitude</th>\n",
       "      <th>housing_median_age</th>\n",
       "      <th>total_rooms</th>\n",
       "      <th>total_bedrooms</th>\n",
       "      <th>population</th>\n",
       "      <th>households</th>\n",
       "      <th>median_income</th>\n",
       "      <th>median_house_value</th>\n",
       "      <th>ocean_proximity</th>\n",
       "      <th>income_catagories</th>\n",
       "    </tr>\n",
       "  </thead>\n",
       "  <tbody>\n",
       "    <tr>\n",
       "      <th>0</th>\n",
       "      <td>-122.23</td>\n",
       "      <td>37.88</td>\n",
       "      <td>41.0</td>\n",
       "      <td>880.0</td>\n",
       "      <td>129.0</td>\n",
       "      <td>322.0</td>\n",
       "      <td>126.0</td>\n",
       "      <td>8.3252</td>\n",
       "      <td>452600.0</td>\n",
       "      <td>NEAR BAY</td>\n",
       "      <td>5</td>\n",
       "    </tr>\n",
       "    <tr>\n",
       "      <th>1</th>\n",
       "      <td>-122.22</td>\n",
       "      <td>37.86</td>\n",
       "      <td>21.0</td>\n",
       "      <td>7099.0</td>\n",
       "      <td>1106.0</td>\n",
       "      <td>2401.0</td>\n",
       "      <td>1138.0</td>\n",
       "      <td>8.3014</td>\n",
       "      <td>358500.0</td>\n",
       "      <td>NEAR BAY</td>\n",
       "      <td>5</td>\n",
       "    </tr>\n",
       "    <tr>\n",
       "      <th>2</th>\n",
       "      <td>-122.24</td>\n",
       "      <td>37.85</td>\n",
       "      <td>52.0</td>\n",
       "      <td>1467.0</td>\n",
       "      <td>190.0</td>\n",
       "      <td>496.0</td>\n",
       "      <td>177.0</td>\n",
       "      <td>7.2574</td>\n",
       "      <td>352100.0</td>\n",
       "      <td>NEAR BAY</td>\n",
       "      <td>5</td>\n",
       "    </tr>\n",
       "    <tr>\n",
       "      <th>3</th>\n",
       "      <td>-122.25</td>\n",
       "      <td>37.85</td>\n",
       "      <td>52.0</td>\n",
       "      <td>1274.0</td>\n",
       "      <td>235.0</td>\n",
       "      <td>558.0</td>\n",
       "      <td>219.0</td>\n",
       "      <td>5.6431</td>\n",
       "      <td>341300.0</td>\n",
       "      <td>NEAR BAY</td>\n",
       "      <td>4</td>\n",
       "    </tr>\n",
       "    <tr>\n",
       "      <th>4</th>\n",
       "      <td>-122.25</td>\n",
       "      <td>37.85</td>\n",
       "      <td>52.0</td>\n",
       "      <td>1627.0</td>\n",
       "      <td>280.0</td>\n",
       "      <td>565.0</td>\n",
       "      <td>259.0</td>\n",
       "      <td>3.8462</td>\n",
       "      <td>342200.0</td>\n",
       "      <td>NEAR BAY</td>\n",
       "      <td>3</td>\n",
       "    </tr>\n",
       "  </tbody>\n",
       "</table>\n",
       "</div>"
      ],
      "text/plain": [
       "   longitude  latitude  housing_median_age  total_rooms  total_bedrooms  \\\n",
       "0    -122.23     37.88                41.0        880.0           129.0   \n",
       "1    -122.22     37.86                21.0       7099.0          1106.0   \n",
       "2    -122.24     37.85                52.0       1467.0           190.0   \n",
       "3    -122.25     37.85                52.0       1274.0           235.0   \n",
       "4    -122.25     37.85                52.0       1627.0           280.0   \n",
       "\n",
       "   population  households  median_income  median_house_value ocean_proximity  \\\n",
       "0       322.0       126.0         8.3252            452600.0        NEAR BAY   \n",
       "1      2401.0      1138.0         8.3014            358500.0        NEAR BAY   \n",
       "2       496.0       177.0         7.2574            352100.0        NEAR BAY   \n",
       "3       558.0       219.0         5.6431            341300.0        NEAR BAY   \n",
       "4       565.0       259.0         3.8462            342200.0        NEAR BAY   \n",
       "\n",
       "  income_catagories  \n",
       "0                 5  \n",
       "1                 5  \n",
       "2                 5  \n",
       "3                 4  \n",
       "4                 3  "
      ]
     },
     "execution_count": 19,
     "metadata": {},
     "output_type": "execute_result"
    }
   ],
   "source": [
    "# proving that the income catagories column has been added to the dataframe\n",
    "housing_data.head()"
   ]
  },
  {
   "cell_type": "code",
   "execution_count": 20,
   "id": "1df68db9",
   "metadata": {},
   "outputs": [
    {
     "data": {
      "text/plain": [
       "<AxesSubplot:>"
      ]
     },
     "execution_count": 20,
     "metadata": {},
     "output_type": "execute_result"
    },
    {
     "data": {
      "image/png": "[encoded data removed]",
      "text/plain": [
       "<Figure size 432x288 with 1 Axes>"
      ]
     },
     "metadata": {
      "needs_background": "light"
     },
     "output_type": "display_data"
    }
   ],
   "source": [
    "housing_data['income_catagories'].hist()"
   ]
  },
  {
   "cell_type": "markdown",
   "id": "64ef8469",
   "metadata": {},
   "source": [
    "Now we are ready to do stratified sampling based on the income catagory. For this we use the scikit-learn StratifiedShuffleSplit class: "
   ]
  },
  {
   "cell_type": "code",
   "execution_count": 21,
   "id": "ac980f37",
   "metadata": {},
   "outputs": [],
   "source": [
    "# creating the stratified training testing split\n",
    "split = StratifiedShuffleSplit(n_splits=1, test_size=0.2, random_state=42)\n",
    "for train_index, test_index in split.split(housing_data, housing_data['income_catagories']):\n",
    "    strat_train_set = housing_data.loc[train_index]\n",
    "    strat_test_set = housing_data.loc[test_index]"
   ]
  },
  {
   "cell_type": "markdown",
   "id": "efa10a46",
   "metadata": {},
   "source": [
    "Lets see if this worked as expected, we can start looking at the income category proportions. \n",
    "\n",
    "To do this we divide the value counts of each catagory by the length of the stratifed test set."
   ]
  },
  {
   "cell_type": "code",
   "execution_count": 22,
   "id": "21f97f24",
   "metadata": {},
   "outputs": [
    {
     "data": {
      "text/plain": [
       "3    0.350533\n",
       "2    0.318798\n",
       "4    0.176357\n",
       "5    0.114341\n",
       "1    0.039971\n",
       "Name: income_catagories, dtype: float64"
      ]
     },
     "execution_count": 22,
     "metadata": {},
     "output_type": "execute_result"
    }
   ],
   "source": [
    "strat_test_set['income_catagories'].value_counts()/len(strat_test_set)"
   ]
  },
  {
   "cell_type": "markdown",
   "id": "ecfe194a",
   "metadata": {},
   "source": [
    "With similar code we can measure the income catagory proportions in the full dataset, we do this by dividing the value counts for the income catagoires again, but this time we divide by the length of the whole dataset. \n",
    "\n",
    "As we can see the proportions are the same so our sampling method has worked, we have representative sampling in our test set!!!"
   ]
  },
  {
   "cell_type": "code",
   "execution_count": 23,
   "id": "1810a522",
   "metadata": {},
   "outputs": [
    {
     "data": {
      "text/plain": [
       "3    0.350581\n",
       "2    0.318847\n",
       "4    0.176308\n",
       "5    0.114438\n",
       "1    0.039826\n",
       "Name: income_catagories, dtype: float64"
      ]
     },
     "execution_count": 23,
     "metadata": {},
     "output_type": "execute_result"
    }
   ],
   "source": [
    "housing_data['income_catagories'].value_counts()/len(housing_data)"
   ]
  },
  {
   "cell_type": "markdown",
   "id": "a6d0e760",
   "metadata": {},
   "source": [
    "Now we are going to remove this income_catagory attribute from the dataset so we are back to the original state of the data. We have explored generating a test set in depth here as it is often a part that is overlooked in machine learning, as well as this that, some of this stuff will be useful when we are cross validation.\n",
    "\n",
    "Here we have made this stratified column so we can generate the stratified training and test set, but we now want to remove the column from the df so it represents the original data. "
   ]
  },
  {
   "cell_type": "code",
   "execution_count": 24,
   "id": "15e2ef4f",
   "metadata": {},
   "outputs": [],
   "source": [
    "# removing the income catagories column to set the data back to its orignal format\n",
    "for set_ in (strat_test_set, strat_train_set):\n",
    "    set_.drop('income_catagories', axis=1, inplace=True)"
   ]
  },
  {
   "cell_type": "code",
   "execution_count": 25,
   "id": "c20845fb",
   "metadata": {},
   "outputs": [
    {
     "data": {
      "text/html": [
       "<div>\n",
       "<style scoped>\n",
       "    .dataframe tbody tr th:only-of-type {\n",
       "        vertical-align: middle;\n",
       "    }\n",
       "\n",
       "    .dataframe tbody tr th {\n",
       "        vertical-align: top;\n",
       "    }\n",
       "\n",
       "    .dataframe thead th {\n",
       "        text-align: right;\n",
       "    }\n",
       "</style>\n",
       "<table border=\"1\" class=\"dataframe\">\n",
       "  <thead>\n",
       "    <tr style=\"text-align: right;\">\n",
       "      <th></th>\n",
       "      <th>longitude</th>\n",
       "      <th>latitude</th>\n",
       "      <th>housing_median_age</th>\n",
       "      <th>total_rooms</th>\n",
       "      <th>total_bedrooms</th>\n",
       "      <th>population</th>\n",
       "      <th>households</th>\n",
       "      <th>median_income</th>\n",
       "      <th>median_house_value</th>\n",
       "      <th>ocean_proximity</th>\n",
       "    </tr>\n",
       "  </thead>\n",
       "  <tbody>\n",
       "    <tr>\n",
       "      <th>12655</th>\n",
       "      <td>-121.46</td>\n",
       "      <td>38.52</td>\n",
       "      <td>29.0</td>\n",
       "      <td>3873.0</td>\n",
       "      <td>797.0</td>\n",
       "      <td>2237.0</td>\n",
       "      <td>706.0</td>\n",
       "      <td>2.1736</td>\n",
       "      <td>72100.0</td>\n",
       "      <td>INLAND</td>\n",
       "    </tr>\n",
       "    <tr>\n",
       "      <th>15502</th>\n",
       "      <td>-117.23</td>\n",
       "      <td>33.09</td>\n",
       "      <td>7.0</td>\n",
       "      <td>5320.0</td>\n",
       "      <td>855.0</td>\n",
       "      <td>2015.0</td>\n",
       "      <td>768.0</td>\n",
       "      <td>6.3373</td>\n",
       "      <td>279600.0</td>\n",
       "      <td>NEAR OCEAN</td>\n",
       "    </tr>\n",
       "    <tr>\n",
       "      <th>2908</th>\n",
       "      <td>-119.04</td>\n",
       "      <td>35.37</td>\n",
       "      <td>44.0</td>\n",
       "      <td>1618.0</td>\n",
       "      <td>310.0</td>\n",
       "      <td>667.0</td>\n",
       "      <td>300.0</td>\n",
       "      <td>2.8750</td>\n",
       "      <td>82700.0</td>\n",
       "      <td>INLAND</td>\n",
       "    </tr>\n",
       "    <tr>\n",
       "      <th>14053</th>\n",
       "      <td>-117.13</td>\n",
       "      <td>32.75</td>\n",
       "      <td>24.0</td>\n",
       "      <td>1877.0</td>\n",
       "      <td>519.0</td>\n",
       "      <td>898.0</td>\n",
       "      <td>483.0</td>\n",
       "      <td>2.2264</td>\n",
       "      <td>112500.0</td>\n",
       "      <td>NEAR OCEAN</td>\n",
       "    </tr>\n",
       "    <tr>\n",
       "      <th>20496</th>\n",
       "      <td>-118.70</td>\n",
       "      <td>34.28</td>\n",
       "      <td>27.0</td>\n",
       "      <td>3536.0</td>\n",
       "      <td>646.0</td>\n",
       "      <td>1837.0</td>\n",
       "      <td>580.0</td>\n",
       "      <td>4.4964</td>\n",
       "      <td>238300.0</td>\n",
       "      <td>&lt;1H OCEAN</td>\n",
       "    </tr>\n",
       "  </tbody>\n",
       "</table>\n",
       "</div>"
      ],
      "text/plain": [
       "       longitude  latitude  housing_median_age  total_rooms  total_bedrooms  \\\n",
       "12655    -121.46     38.52                29.0       3873.0           797.0   \n",
       "15502    -117.23     33.09                 7.0       5320.0           855.0   \n",
       "2908     -119.04     35.37                44.0       1618.0           310.0   \n",
       "14053    -117.13     32.75                24.0       1877.0           519.0   \n",
       "20496    -118.70     34.28                27.0       3536.0           646.0   \n",
       "\n",
       "       population  households  median_income  median_house_value  \\\n",
       "12655      2237.0       706.0         2.1736             72100.0   \n",
       "15502      2015.0       768.0         6.3373            279600.0   \n",
       "2908        667.0       300.0         2.8750             82700.0   \n",
       "14053       898.0       483.0         2.2264            112500.0   \n",
       "20496      1837.0       580.0         4.4964            238300.0   \n",
       "\n",
       "      ocean_proximity  \n",
       "12655          INLAND  \n",
       "15502      NEAR OCEAN  \n",
       "2908           INLAND  \n",
       "14053      NEAR OCEAN  \n",
       "20496       <1H OCEAN  "
      ]
     },
     "execution_count": 25,
     "metadata": {},
     "output_type": "execute_result"
    }
   ],
   "source": [
    "# proving that we have removed the column from the dfs, remember not to look at the test set data\n",
    "strat_train_set.head()"
   ]
  },
  {
   "cell_type": "code",
   "execution_count": 26,
   "id": "c79dae26",
   "metadata": {},
   "outputs": [
    {
     "data": {
      "text/plain": [
       "Index(['longitude', 'latitude', 'housing_median_age', 'total_rooms',\n",
       "       'total_bedrooms', 'population', 'households', 'median_income',\n",
       "       'median_house_value', 'ocean_proximity'],\n",
       "      dtype='object')"
      ]
     },
     "execution_count": 26,
     "metadata": {},
     "output_type": "execute_result"
    }
   ],
   "source": [
    "# not looking at the data in the test df but I am checking the columns\n",
    "strat_test_set.columns"
   ]
  },
  {
   "cell_type": "code",
   "execution_count": 27,
   "id": "9269797c",
   "metadata": {},
   "outputs": [],
   "source": [
    "# removing the income catagories from the housing dataframe\n",
    "housing_data.drop('income_catagories', axis=1, inplace=True)"
   ]
  },
  {
   "cell_type": "code",
   "execution_count": 28,
   "id": "d445f390",
   "metadata": {},
   "outputs": [
    {
     "data": {
      "text/html": [
       "<div>\n",
       "<style scoped>\n",
       "    .dataframe tbody tr th:only-of-type {\n",
       "        vertical-align: middle;\n",
       "    }\n",
       "\n",
       "    .dataframe tbody tr th {\n",
       "        vertical-align: top;\n",
       "    }\n",
       "\n",
       "    .dataframe thead th {\n",
       "        text-align: right;\n",
       "    }\n",
       "</style>\n",
       "<table border=\"1\" class=\"dataframe\">\n",
       "  <thead>\n",
       "    <tr style=\"text-align: right;\">\n",
       "      <th></th>\n",
       "      <th>longitude</th>\n",
       "      <th>latitude</th>\n",
       "      <th>housing_median_age</th>\n",
       "      <th>total_rooms</th>\n",
       "      <th>total_bedrooms</th>\n",
       "      <th>population</th>\n",
       "      <th>households</th>\n",
       "      <th>median_income</th>\n",
       "      <th>median_house_value</th>\n",
       "      <th>ocean_proximity</th>\n",
       "    </tr>\n",
       "  </thead>\n",
       "  <tbody>\n",
       "    <tr>\n",
       "      <th>0</th>\n",
       "      <td>-122.23</td>\n",
       "      <td>37.88</td>\n",
       "      <td>41.0</td>\n",
       "      <td>880.0</td>\n",
       "      <td>129.0</td>\n",
       "      <td>322.0</td>\n",
       "      <td>126.0</td>\n",
       "      <td>8.3252</td>\n",
       "      <td>452600.0</td>\n",
       "      <td>NEAR BAY</td>\n",
       "    </tr>\n",
       "    <tr>\n",
       "      <th>1</th>\n",
       "      <td>-122.22</td>\n",
       "      <td>37.86</td>\n",
       "      <td>21.0</td>\n",
       "      <td>7099.0</td>\n",
       "      <td>1106.0</td>\n",
       "      <td>2401.0</td>\n",
       "      <td>1138.0</td>\n",
       "      <td>8.3014</td>\n",
       "      <td>358500.0</td>\n",
       "      <td>NEAR BAY</td>\n",
       "    </tr>\n",
       "    <tr>\n",
       "      <th>2</th>\n",
       "      <td>-122.24</td>\n",
       "      <td>37.85</td>\n",
       "      <td>52.0</td>\n",
       "      <td>1467.0</td>\n",
       "      <td>190.0</td>\n",
       "      <td>496.0</td>\n",
       "      <td>177.0</td>\n",
       "      <td>7.2574</td>\n",
       "      <td>352100.0</td>\n",
       "      <td>NEAR BAY</td>\n",
       "    </tr>\n",
       "    <tr>\n",
       "      <th>3</th>\n",
       "      <td>-122.25</td>\n",
       "      <td>37.85</td>\n",
       "      <td>52.0</td>\n",
       "      <td>1274.0</td>\n",
       "      <td>235.0</td>\n",
       "      <td>558.0</td>\n",
       "      <td>219.0</td>\n",
       "      <td>5.6431</td>\n",
       "      <td>341300.0</td>\n",
       "      <td>NEAR BAY</td>\n",
       "    </tr>\n",
       "    <tr>\n",
       "      <th>4</th>\n",
       "      <td>-122.25</td>\n",
       "      <td>37.85</td>\n",
       "      <td>52.0</td>\n",
       "      <td>1627.0</td>\n",
       "      <td>280.0</td>\n",
       "      <td>565.0</td>\n",
       "      <td>259.0</td>\n",
       "      <td>3.8462</td>\n",
       "      <td>342200.0</td>\n",
       "      <td>NEAR BAY</td>\n",
       "    </tr>\n",
       "  </tbody>\n",
       "</table>\n",
       "</div>"
      ],
      "text/plain": [
       "   longitude  latitude  housing_median_age  total_rooms  total_bedrooms  \\\n",
       "0    -122.23     37.88                41.0        880.0           129.0   \n",
       "1    -122.22     37.86                21.0       7099.0          1106.0   \n",
       "2    -122.24     37.85                52.0       1467.0           190.0   \n",
       "3    -122.25     37.85                52.0       1274.0           235.0   \n",
       "4    -122.25     37.85                52.0       1627.0           280.0   \n",
       "\n",
       "   population  households  median_income  median_house_value ocean_proximity  \n",
       "0       322.0       126.0         8.3252            452600.0        NEAR BAY  \n",
       "1      2401.0      1138.0         8.3014            358500.0        NEAR BAY  \n",
       "2       496.0       177.0         7.2574            352100.0        NEAR BAY  \n",
       "3       558.0       219.0         5.6431            341300.0        NEAR BAY  \n",
       "4       565.0       259.0         3.8462            342200.0        NEAR BAY  "
      ]
     },
     "execution_count": 28,
     "metadata": {},
     "output_type": "execute_result"
    }
   ],
   "source": [
    "housing_data.head()"
   ]
  },
  {
   "cell_type": "markdown",
   "id": "68800c41",
   "metadata": {},
   "source": [
    "### Discover and Visualise the Data to Gain Insights\n",
    "\n",
    "So far we have only really glaced at the data to check our manipulations are correct and are working. Now are goal is to get into the nitty gritty of the data to gain insights into what we are doing. \n",
    "\n",
    "First we need to make sure we have put aside the test set and we are only exploring the training set. If the training set is really large it could be worth taking a sample of the training set in order to make the manipulations fast and easy. In our case, the training set is quite small so we can use it all !!!! \n",
    "\n",
    "Lets make a copy of the training set so we can play with it freely without fear of breaking or altering it!\n"
   ]
  },
  {
   "cell_type": "code",
   "execution_count": 29,
   "id": "4a541bc9",
   "metadata": {},
   "outputs": [
    {
     "data": {
      "text/html": [
       "<div>\n",
       "<style scoped>\n",
       "    .dataframe tbody tr th:only-of-type {\n",
       "        vertical-align: middle;\n",
       "    }\n",
       "\n",
       "    .dataframe tbody tr th {\n",
       "        vertical-align: top;\n",
       "    }\n",
       "\n",
       "    .dataframe thead th {\n",
       "        text-align: right;\n",
       "    }\n",
       "</style>\n",
       "<table border=\"1\" class=\"dataframe\">\n",
       "  <thead>\n",
       "    <tr style=\"text-align: right;\">\n",
       "      <th></th>\n",
       "      <th>longitude</th>\n",
       "      <th>latitude</th>\n",
       "      <th>housing_median_age</th>\n",
       "      <th>total_rooms</th>\n",
       "      <th>total_bedrooms</th>\n",
       "      <th>population</th>\n",
       "      <th>households</th>\n",
       "      <th>median_income</th>\n",
       "      <th>median_house_value</th>\n",
       "      <th>ocean_proximity</th>\n",
       "    </tr>\n",
       "  </thead>\n",
       "  <tbody>\n",
       "    <tr>\n",
       "      <th>12655</th>\n",
       "      <td>-121.46</td>\n",
       "      <td>38.52</td>\n",
       "      <td>29.0</td>\n",
       "      <td>3873.0</td>\n",
       "      <td>797.0</td>\n",
       "      <td>2237.0</td>\n",
       "      <td>706.0</td>\n",
       "      <td>2.1736</td>\n",
       "      <td>72100.0</td>\n",
       "      <td>INLAND</td>\n",
       "    </tr>\n",
       "    <tr>\n",
       "      <th>15502</th>\n",
       "      <td>-117.23</td>\n",
       "      <td>33.09</td>\n",
       "      <td>7.0</td>\n",
       "      <td>5320.0</td>\n",
       "      <td>855.0</td>\n",
       "      <td>2015.0</td>\n",
       "      <td>768.0</td>\n",
       "      <td>6.3373</td>\n",
       "      <td>279600.0</td>\n",
       "      <td>NEAR OCEAN</td>\n",
       "    </tr>\n",
       "    <tr>\n",
       "      <th>2908</th>\n",
       "      <td>-119.04</td>\n",
       "      <td>35.37</td>\n",
       "      <td>44.0</td>\n",
       "      <td>1618.0</td>\n",
       "      <td>310.0</td>\n",
       "      <td>667.0</td>\n",
       "      <td>300.0</td>\n",
       "      <td>2.8750</td>\n",
       "      <td>82700.0</td>\n",
       "      <td>INLAND</td>\n",
       "    </tr>\n",
       "    <tr>\n",
       "      <th>14053</th>\n",
       "      <td>-117.13</td>\n",
       "      <td>32.75</td>\n",
       "      <td>24.0</td>\n",
       "      <td>1877.0</td>\n",
       "      <td>519.0</td>\n",
       "      <td>898.0</td>\n",
       "      <td>483.0</td>\n",
       "      <td>2.2264</td>\n",
       "      <td>112500.0</td>\n",
       "      <td>NEAR OCEAN</td>\n",
       "    </tr>\n",
       "    <tr>\n",
       "      <th>20496</th>\n",
       "      <td>-118.70</td>\n",
       "      <td>34.28</td>\n",
       "      <td>27.0</td>\n",
       "      <td>3536.0</td>\n",
       "      <td>646.0</td>\n",
       "      <td>1837.0</td>\n",
       "      <td>580.0</td>\n",
       "      <td>4.4964</td>\n",
       "      <td>238300.0</td>\n",
       "      <td>&lt;1H OCEAN</td>\n",
       "    </tr>\n",
       "  </tbody>\n",
       "</table>\n",
       "</div>"
      ],
      "text/plain": [
       "       longitude  latitude  housing_median_age  total_rooms  total_bedrooms  \\\n",
       "12655    -121.46     38.52                29.0       3873.0           797.0   \n",
       "15502    -117.23     33.09                 7.0       5320.0           855.0   \n",
       "2908     -119.04     35.37                44.0       1618.0           310.0   \n",
       "14053    -117.13     32.75                24.0       1877.0           519.0   \n",
       "20496    -118.70     34.28                27.0       3536.0           646.0   \n",
       "\n",
       "       population  households  median_income  median_house_value  \\\n",
       "12655      2237.0       706.0         2.1736             72100.0   \n",
       "15502      2015.0       768.0         6.3373            279600.0   \n",
       "2908        667.0       300.0         2.8750             82700.0   \n",
       "14053       898.0       483.0         2.2264            112500.0   \n",
       "20496      1837.0       580.0         4.4964            238300.0   \n",
       "\n",
       "      ocean_proximity  \n",
       "12655          INLAND  \n",
       "15502      NEAR OCEAN  \n",
       "2908           INLAND  \n",
       "14053      NEAR OCEAN  \n",
       "20496       <1H OCEAN  "
      ]
     },
     "execution_count": 29,
     "metadata": {},
     "output_type": "execute_result"
    }
   ],
   "source": [
    "# creating a copy of the training set dataframe\n",
    "housing_df = strat_train_set.copy()\n",
    "\n",
    "housing_df.head()"
   ]
  },
  {
   "cell_type": "markdown",
   "id": "1acdc777",
   "metadata": {},
   "source": [
    "#### Visualising Geographic Data\n",
    "\n",
    "Since we are working with geographical data, it is ideal to create a scatterplot of the longitude and latitude to give us an idea of the districts locations. "
   ]
  },
  {
   "cell_type": "code",
   "execution_count": 30,
   "id": "7f8d8639",
   "metadata": {},
   "outputs": [
    {
     "data": {
      "text/plain": [
       "<AxesSubplot:xlabel='longitude', ylabel='latitude'>"
      ]
     },
     "execution_count": 30,
     "metadata": {},
     "output_type": "execute_result"
    },
    {
     "data": {
      "image/png": "[encoded data removed]",
      "text/plain": [
       "<Figure size 432x288 with 1 Axes>"
      ]
     },
     "metadata": {
      "needs_background": "light"
     },
     "output_type": "display_data"
    }
   ],
   "source": [
    "housing_df.plot(kind='scatter', x='longitude', y='latitude')"
   ]
  },
  {
   "cell_type": "markdown",
   "id": "7e146fbc",
   "metadata": {},
   "source": [
    "This looks like California !!! but it is really hard to get any significant information from this, if we set the alpha value to 0.1 it will be much easier to visulise the data where there is a high density of districts."
   ]
  },
  {
   "cell_type": "code",
   "execution_count": 31,
   "id": "0df9d2ac",
   "metadata": {},
   "outputs": [
    {
     "data": {
      "text/plain": [
       "<AxesSubplot:xlabel='longitude', ylabel='latitude'>"
      ]
     },
     "execution_count": 31,
     "metadata": {},
     "output_type": "execute_result"
    },
    {
     "data": {
      "image/png": "[encoded data removed]",
      "text/plain": [
       "<Figure size 432x288 with 1 Axes>"
      ]
     },
     "metadata": {
      "needs_background": "light"
     },
     "output_type": "display_data"
    }
   ],
   "source": [
    "housing_df.plot(kind='scatter', x='longitude', y='latitude', alpha=0.1)"
   ]
  },
  {
   "cell_type": "markdown",
   "id": "6aef7c40",
   "metadata": {},
   "source": [
    "Now we can see the much denser areas in CA we can see there is a highly dense area around the Bay Area, Los Angeles and San Diego. There is also a long line of dense districts further inland, this is the Central Valley. Our brains are really good at spotting patterns so we might have to play around with the plot a little bit in order to understand it some more. \n",
    "\n",
    "Now lets look at the housing prices, the radius of each circle represents the district pupulations and the colour represents the price, the author uses the colour map 'jet' but I really like the look of magma, so I will use that instead. "
   ]
  },
  {
   "cell_type": "code",
   "execution_count": 32,
   "id": "e1a63e03",
   "metadata": {},
   "outputs": [
    {
     "data": {
      "text/plain": [
       "<matplotlib.legend.Legend at 0x16a054220>"
      ]
     },
     "execution_count": 32,
     "metadata": {},
     "output_type": "execute_result"
    },
    {
     "data": {
      "image/png": "[encoded data removed]",
      "text/plain": [
       "<Figure size 720x576 with 2 Axes>"
      ]
     },
     "metadata": {
      "needs_background": "light"
     },
     "output_type": "display_data"
    }
   ],
   "source": [
    "housing_df.plot(kind='scatter', x='longitude', y='latitude', alpha=0.4,\n",
    "               s=housing_df['population']/100, label='population', figsize=(10,8), \n",
    "               c='median_house_value', cmap=plt.get_cmap(\"magma\"), colorbar=True)\n",
    "plt.legend()"
   ]
  },
  {
   "cell_type": "markdown",
   "id": "1dac265f",
   "metadata": {},
   "source": [
    "##### No x label for some reason???? Need to fix it\n",
    "\n",
    "This figure shows us that the location of the district does have an effect on price, we can see that locations near the beach have a higher price than those further inland as well as it being relational to population density (the more dense the more expenseive) \n",
    "\n",
    "\n",
    "We should use a clustering algorithm to detect the main clusters and for adding a new feature that measures the proximity to the cluster center. Also adding ocean proximity attribute might be helpful but up in the northern parts houses that are close to the sea are not that expensive so it might not be as simple as that!\n",
    "\n",
    "\n",
    "#### Looking for Correlations\n",
    "\n",
    "since our dataset is not too large it is easy to computre the standard correlation coefficient (also called the Pearson's R) between every attribute in the df using the corr() method."
   ]
  },
  {
   "cell_type": "code",
   "execution_count": 33,
   "id": "f97f445e",
   "metadata": {},
   "outputs": [
    {
     "data": {
      "text/html": [
       "<div>\n",
       "<style scoped>\n",
       "    .dataframe tbody tr th:only-of-type {\n",
       "        vertical-align: middle;\n",
       "    }\n",
       "\n",
       "    .dataframe tbody tr th {\n",
       "        vertical-align: top;\n",
       "    }\n",
       "\n",
       "    .dataframe thead th {\n",
       "        text-align: right;\n",
       "    }\n",
       "</style>\n",
       "<table border=\"1\" class=\"dataframe\">\n",
       "  <thead>\n",
       "    <tr style=\"text-align: right;\">\n",
       "      <th></th>\n",
       "      <th>longitude</th>\n",
       "      <th>latitude</th>\n",
       "      <th>housing_median_age</th>\n",
       "      <th>total_rooms</th>\n",
       "      <th>total_bedrooms</th>\n",
       "      <th>population</th>\n",
       "      <th>households</th>\n",
       "      <th>median_income</th>\n",
       "      <th>median_house_value</th>\n",
       "    </tr>\n",
       "  </thead>\n",
       "  <tbody>\n",
       "    <tr>\n",
       "      <th>longitude</th>\n",
       "      <td>1.000000</td>\n",
       "      <td>-0.924478</td>\n",
       "      <td>-0.105823</td>\n",
       "      <td>0.048909</td>\n",
       "      <td>0.076686</td>\n",
       "      <td>0.108071</td>\n",
       "      <td>0.063146</td>\n",
       "      <td>-0.019615</td>\n",
       "      <td>-0.047466</td>\n",
       "    </tr>\n",
       "    <tr>\n",
       "      <th>latitude</th>\n",
       "      <td>-0.924478</td>\n",
       "      <td>1.000000</td>\n",
       "      <td>0.005737</td>\n",
       "      <td>-0.039245</td>\n",
       "      <td>-0.072550</td>\n",
       "      <td>-0.115290</td>\n",
       "      <td>-0.077765</td>\n",
       "      <td>-0.075146</td>\n",
       "      <td>-0.142673</td>\n",
       "    </tr>\n",
       "    <tr>\n",
       "      <th>housing_median_age</th>\n",
       "      <td>-0.105823</td>\n",
       "      <td>0.005737</td>\n",
       "      <td>1.000000</td>\n",
       "      <td>-0.364535</td>\n",
       "      <td>-0.325101</td>\n",
       "      <td>-0.298737</td>\n",
       "      <td>-0.306473</td>\n",
       "      <td>-0.111315</td>\n",
       "      <td>0.114146</td>\n",
       "    </tr>\n",
       "    <tr>\n",
       "      <th>total_rooms</th>\n",
       "      <td>0.048909</td>\n",
       "      <td>-0.039245</td>\n",
       "      <td>-0.364535</td>\n",
       "      <td>1.000000</td>\n",
       "      <td>0.929391</td>\n",
       "      <td>0.855103</td>\n",
       "      <td>0.918396</td>\n",
       "      <td>0.200133</td>\n",
       "      <td>0.135140</td>\n",
       "    </tr>\n",
       "    <tr>\n",
       "      <th>total_bedrooms</th>\n",
       "      <td>0.076686</td>\n",
       "      <td>-0.072550</td>\n",
       "      <td>-0.325101</td>\n",
       "      <td>0.929391</td>\n",
       "      <td>1.000000</td>\n",
       "      <td>0.876324</td>\n",
       "      <td>0.980167</td>\n",
       "      <td>-0.009643</td>\n",
       "      <td>0.047781</td>\n",
       "    </tr>\n",
       "    <tr>\n",
       "      <th>population</th>\n",
       "      <td>0.108071</td>\n",
       "      <td>-0.115290</td>\n",
       "      <td>-0.298737</td>\n",
       "      <td>0.855103</td>\n",
       "      <td>0.876324</td>\n",
       "      <td>1.000000</td>\n",
       "      <td>0.904639</td>\n",
       "      <td>0.002421</td>\n",
       "      <td>-0.026882</td>\n",
       "    </tr>\n",
       "    <tr>\n",
       "      <th>households</th>\n",
       "      <td>0.063146</td>\n",
       "      <td>-0.077765</td>\n",
       "      <td>-0.306473</td>\n",
       "      <td>0.918396</td>\n",
       "      <td>0.980167</td>\n",
       "      <td>0.904639</td>\n",
       "      <td>1.000000</td>\n",
       "      <td>0.010869</td>\n",
       "      <td>0.064590</td>\n",
       "    </tr>\n",
       "    <tr>\n",
       "      <th>median_income</th>\n",
       "      <td>-0.019615</td>\n",
       "      <td>-0.075146</td>\n",
       "      <td>-0.111315</td>\n",
       "      <td>0.200133</td>\n",
       "      <td>-0.009643</td>\n",
       "      <td>0.002421</td>\n",
       "      <td>0.010869</td>\n",
       "      <td>1.000000</td>\n",
       "      <td>0.687151</td>\n",
       "    </tr>\n",
       "    <tr>\n",
       "      <th>median_house_value</th>\n",
       "      <td>-0.047466</td>\n",
       "      <td>-0.142673</td>\n",
       "      <td>0.114146</td>\n",
       "      <td>0.135140</td>\n",
       "      <td>0.047781</td>\n",
       "      <td>-0.026882</td>\n",
       "      <td>0.064590</td>\n",
       "      <td>0.687151</td>\n",
       "      <td>1.000000</td>\n",
       "    </tr>\n",
       "  </tbody>\n",
       "</table>\n",
       "</div>"
      ],
      "text/plain": [
       "                    longitude  latitude  housing_median_age  total_rooms  \\\n",
       "longitude            1.000000 -0.924478           -0.105823     0.048909   \n",
       "latitude            -0.924478  1.000000            0.005737    -0.039245   \n",
       "housing_median_age  -0.105823  0.005737            1.000000    -0.364535   \n",
       "total_rooms          0.048909 -0.039245           -0.364535     1.000000   \n",
       "total_bedrooms       0.076686 -0.072550           -0.325101     0.929391   \n",
       "population           0.108071 -0.115290           -0.298737     0.855103   \n",
       "households           0.063146 -0.077765           -0.306473     0.918396   \n",
       "median_income       -0.019615 -0.075146           -0.111315     0.200133   \n",
       "median_house_value  -0.047466 -0.142673            0.114146     0.135140   \n",
       "\n",
       "                    total_bedrooms  population  households  median_income  \\\n",
       "longitude                 0.076686    0.108071    0.063146      -0.019615   \n",
       "latitude                 -0.072550   -0.115290   -0.077765      -0.075146   \n",
       "housing_median_age       -0.325101   -0.298737   -0.306473      -0.111315   \n",
       "total_rooms               0.929391    0.855103    0.918396       0.200133   \n",
       "total_bedrooms            1.000000    0.876324    0.980167      -0.009643   \n",
       "population                0.876324    1.000000    0.904639       0.002421   \n",
       "households                0.980167    0.904639    1.000000       0.010869   \n",
       "median_income            -0.009643    0.002421    0.010869       1.000000   \n",
       "median_house_value        0.047781   -0.026882    0.064590       0.687151   \n",
       "\n",
       "                    median_house_value  \n",
       "longitude                    -0.047466  \n",
       "latitude                     -0.142673  \n",
       "housing_median_age            0.114146  \n",
       "total_rooms                   0.135140  \n",
       "total_bedrooms                0.047781  \n",
       "population                   -0.026882  \n",
       "households                    0.064590  \n",
       "median_income                 0.687151  \n",
       "median_house_value            1.000000  "
      ]
     },
     "execution_count": 33,
     "metadata": {},
     "output_type": "execute_result"
    }
   ],
   "source": [
    "# creating a matrix of the correlation coefficient\n",
    "correlation_matrix = housing_df.corr()\n",
    "\n",
    "# showing the whole matrix\n",
    "correlation_matrix"
   ]
  },
  {
   "cell_type": "markdown",
   "id": "20674f69",
   "metadata": {},
   "source": [
    "Now lets look specifically at the median house value and how that correlates to all of the other attributes. "
   ]
  },
  {
   "cell_type": "code",
   "execution_count": 34,
   "id": "0d8e87d5",
   "metadata": {},
   "outputs": [
    {
     "data": {
      "text/plain": [
       "median_house_value    1.000000\n",
       "median_income         0.687151\n",
       "total_rooms           0.135140\n",
       "housing_median_age    0.114146\n",
       "households            0.064590\n",
       "total_bedrooms        0.047781\n",
       "population           -0.026882\n",
       "longitude            -0.047466\n",
       "latitude             -0.142673\n",
       "Name: median_house_value, dtype: float64"
      ]
     },
     "execution_count": 34,
     "metadata": {},
     "output_type": "execute_result"
    }
   ],
   "source": [
    "# accessing a certain part of the correlation matrix\n",
    "correlation_matrix['median_house_value'].sort_values(ascending=False)"
   ]
  },
  {
   "cell_type": "markdown",
   "id": "76d803ed",
   "metadata": {},
   "source": [
    "The correlation coefficient ranges from -1 to 1, the closer it is to 1 the stronger the postive correlation. For example the median income has a strong positive correlation to the median house value, if the median house value increases the median income will increase too !!! If the value is close to -1 there is a strong negative correlation, we can see a small negative correlation between latitude and the median house value (house price tends to decrease the further up north we go (as latitude increases, value decreases)). Finally coefficents close to 0 mean that there is NOOOOOOO linear correlation between the two attributes!!!!!!!"
   ]
  },
  {
   "cell_type": "markdown",
   "id": "f93005bf",
   "metadata": {},
   "source": [
    "The correlation coefficient only measures linear correlations (if x goes up, y generally goes up or down depending on the positive or negative correlation), also note this has nothing to do with the slope of the data. If data  has a non linear relationship, the correlation coefficient only measures linear correlations so using this is not a way we can detect non linear relationships!!!\n",
    "\n",
    "Another way to check the correlation between attributes is to use the pandas scatter_matrix() function, which plots every numerical attribute against every other numerical attribute. However since there are now 11 numerical attriubutes, there will be 121 plots, which will not fit on the page so lets just focus on the attributes that seem most correlated to the median_house_value"
   ]
  },
  {
   "cell_type": "code",
   "execution_count": 40,
   "id": "f1c1db2f",
   "metadata": {},
   "outputs": [
    {
     "ename": "AttributeError",
     "evalue": "'list' object has no attribute '_get_numeric_data'",
     "output_type": "error",
     "traceback": [
      "\u001b[0;31m---------------------------------------------------------------------------\u001b[0m",
      "\u001b[0;31mAttributeError\u001b[0m                            Traceback (most recent call last)",
      "Input \u001b[0;32mIn [40]\u001b[0m, in \u001b[0;36m<cell line: 2>\u001b[0;34m()\u001b[0m\n\u001b[1;32m      1\u001b[0m attributes \u001b[38;5;241m=\u001b[39m [\u001b[38;5;124m\"\u001b[39m\u001b[38;5;124mmedian_house_value\u001b[39m\u001b[38;5;124m\"\u001b[39m, \u001b[38;5;124m\"\u001b[39m\u001b[38;5;124mmedian_income\u001b[39m\u001b[38;5;124m\"\u001b[39m, \u001b[38;5;124m\"\u001b[39m\u001b[38;5;124mtotal_rooms\u001b[39m\u001b[38;5;124m\"\u001b[39m, \u001b[38;5;124m\"\u001b[39m\u001b[38;5;124mhousing_median_age\u001b[39m\u001b[38;5;124m\"\u001b[39m]\n\u001b[0;32m----> 2\u001b[0m \u001b[43mscatter_matrix\u001b[49m\u001b[43m(\u001b[49m\u001b[43m[\u001b[49m\u001b[43mattributes\u001b[49m\u001b[43m]\u001b[49m\u001b[43m,\u001b[49m\u001b[43m \u001b[49m\u001b[43mfigsize\u001b[49m\u001b[38;5;241;43m=\u001b[39;49m\u001b[43m(\u001b[49m\u001b[38;5;241;43m12\u001b[39;49m\u001b[43m,\u001b[49m\u001b[38;5;241;43m8\u001b[39;49m\u001b[43m)\u001b[49m\u001b[43m)\u001b[49m\n",
      "File \u001b[0;32m/Library/Frameworks/Python.framework/Versions/3.10/lib/python3.10/site-packages/pandas/plotting/_misc.py:144\u001b[0m, in \u001b[0;36mscatter_matrix\u001b[0;34m(frame, alpha, figsize, ax, grid, diagonal, marker, density_kwds, hist_kwds, range_padding, **kwargs)\u001b[0m\n\u001b[1;32m     85\u001b[0m \u001b[38;5;124;03m\"\"\"\u001b[39;00m\n\u001b[1;32m     86\u001b[0m \u001b[38;5;124;03mDraw a matrix of scatter plots.\u001b[39;00m\n\u001b[1;32m     87\u001b[0m \n\u001b[0;32m   (...)\u001b[0m\n\u001b[1;32m    141\u001b[0m \u001b[38;5;124;03m        <AxesSubplot:xlabel='D', ylabel='D'>]], dtype=object)\u001b[39;00m\n\u001b[1;32m    142\u001b[0m \u001b[38;5;124;03m\"\"\"\u001b[39;00m\n\u001b[1;32m    143\u001b[0m plot_backend \u001b[38;5;241m=\u001b[39m _get_plot_backend(\u001b[38;5;124m\"\u001b[39m\u001b[38;5;124mmatplotlib\u001b[39m\u001b[38;5;124m\"\u001b[39m)\n\u001b[0;32m--> 144\u001b[0m \u001b[38;5;28;01mreturn\u001b[39;00m \u001b[43mplot_backend\u001b[49m\u001b[38;5;241;43m.\u001b[39;49m\u001b[43mscatter_matrix\u001b[49m\u001b[43m(\u001b[49m\n\u001b[1;32m    145\u001b[0m \u001b[43m    \u001b[49m\u001b[43mframe\u001b[49m\u001b[38;5;241;43m=\u001b[39;49m\u001b[43mframe\u001b[49m\u001b[43m,\u001b[49m\n\u001b[1;32m    146\u001b[0m \u001b[43m    \u001b[49m\u001b[43malpha\u001b[49m\u001b[38;5;241;43m=\u001b[39;49m\u001b[43malpha\u001b[49m\u001b[43m,\u001b[49m\n\u001b[1;32m    147\u001b[0m \u001b[43m    \u001b[49m\u001b[43mfigsize\u001b[49m\u001b[38;5;241;43m=\u001b[39;49m\u001b[43mfigsize\u001b[49m\u001b[43m,\u001b[49m\n\u001b[1;32m    148\u001b[0m \u001b[43m    \u001b[49m\u001b[43max\u001b[49m\u001b[38;5;241;43m=\u001b[39;49m\u001b[43max\u001b[49m\u001b[43m,\u001b[49m\n\u001b[1;32m    149\u001b[0m \u001b[43m    \u001b[49m\u001b[43mgrid\u001b[49m\u001b[38;5;241;43m=\u001b[39;49m\u001b[43mgrid\u001b[49m\u001b[43m,\u001b[49m\n\u001b[1;32m    150\u001b[0m \u001b[43m    \u001b[49m\u001b[43mdiagonal\u001b[49m\u001b[38;5;241;43m=\u001b[39;49m\u001b[43mdiagonal\u001b[49m\u001b[43m,\u001b[49m\n\u001b[1;32m    151\u001b[0m \u001b[43m    \u001b[49m\u001b[43mmarker\u001b[49m\u001b[38;5;241;43m=\u001b[39;49m\u001b[43mmarker\u001b[49m\u001b[43m,\u001b[49m\n\u001b[1;32m    152\u001b[0m \u001b[43m    \u001b[49m\u001b[43mdensity_kwds\u001b[49m\u001b[38;5;241;43m=\u001b[39;49m\u001b[43mdensity_kwds\u001b[49m\u001b[43m,\u001b[49m\n\u001b[1;32m    153\u001b[0m \u001b[43m    \u001b[49m\u001b[43mhist_kwds\u001b[49m\u001b[38;5;241;43m=\u001b[39;49m\u001b[43mhist_kwds\u001b[49m\u001b[43m,\u001b[49m\n\u001b[1;32m    154\u001b[0m \u001b[43m    \u001b[49m\u001b[43mrange_padding\u001b[49m\u001b[38;5;241;43m=\u001b[39;49m\u001b[43mrange_padding\u001b[49m\u001b[43m,\u001b[49m\n\u001b[1;32m    155\u001b[0m \u001b[43m    \u001b[49m\u001b[38;5;241;43m*\u001b[39;49m\u001b[38;5;241;43m*\u001b[39;49m\u001b[43mkwargs\u001b[49m\u001b[43m,\u001b[49m\n\u001b[1;32m    156\u001b[0m \u001b[43m\u001b[49m\u001b[43m)\u001b[49m\n",
      "File \u001b[0;32m/Library/Frameworks/Python.framework/Versions/3.10/lib/python3.10/site-packages/pandas/plotting/_matplotlib/misc.py:47\u001b[0m, in \u001b[0;36mscatter_matrix\u001b[0;34m(frame, alpha, figsize, ax, grid, diagonal, marker, density_kwds, hist_kwds, range_padding, **kwds)\u001b[0m\n\u001b[1;32m     34\u001b[0m \u001b[38;5;28;01mdef\u001b[39;00m \u001b[38;5;21mscatter_matrix\u001b[39m(\n\u001b[1;32m     35\u001b[0m     frame: DataFrame,\n\u001b[1;32m     36\u001b[0m     alpha\u001b[38;5;241m=\u001b[39m\u001b[38;5;241m0.5\u001b[39m,\n\u001b[0;32m   (...)\u001b[0m\n\u001b[1;32m     45\u001b[0m     \u001b[38;5;241m*\u001b[39m\u001b[38;5;241m*\u001b[39mkwds,\n\u001b[1;32m     46\u001b[0m ):\n\u001b[0;32m---> 47\u001b[0m     df \u001b[38;5;241m=\u001b[39m \u001b[43mframe\u001b[49m\u001b[38;5;241;43m.\u001b[39;49m\u001b[43m_get_numeric_data\u001b[49m()\n\u001b[1;32m     48\u001b[0m     n \u001b[38;5;241m=\u001b[39m df\u001b[38;5;241m.\u001b[39mcolumns\u001b[38;5;241m.\u001b[39msize\n\u001b[1;32m     49\u001b[0m     naxes \u001b[38;5;241m=\u001b[39m n \u001b[38;5;241m*\u001b[39m n\n",
      "\u001b[0;31mAttributeError\u001b[0m: 'list' object has no attribute '_get_numeric_data'"
     ]
    }
   ],
   "source": [
    "attributes = [\"median_house_value\", \"median_income\", \"total_rooms\", \"housing_median_age\"]\n",
    "scatter_matrix([attributes], figsize=(12,8))"
   ]
  }
 ],
 "metadata": {
  "kernelspec": {
   "display_name": "Python 3 (ipykernel)",
   "language": "python",
   "name": "python3"
  },
  "language_info": {
   "codemirror_mode": {
    "name": "ipython",
    "version": 3
   },
   "file_extension": ".py",
   "mimetype": "text/x-python",
   "name": "python",
   "nbconvert_exporter": "python",
   "pygments_lexer": "ipython3",
   "version": "3.10.4"
  }
 },
 "nbformat": 4,
 "nbformat_minor": 5
}
