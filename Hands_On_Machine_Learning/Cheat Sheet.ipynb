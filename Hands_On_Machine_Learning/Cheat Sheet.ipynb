{
 "cells": [
  {
   "cell_type": "markdown",
   "id": "0f745402",
   "metadata": {},
   "source": [
    "# Hands On Machine Learning Cheet Sheet\n",
    "\n",
    "### Here is a cheet sheet I have made organised into chapters and subheadings as an easy, quick recall of the code we have covered throughout this book!"
   ]
  }
 ],
 "metadata": {
  "kernelspec": {
   "display_name": "Python 3 (ipykernel)",
   "language": "python",
   "name": "python3"
  },
  "language_info": {
   "codemirror_mode": {
    "name": "ipython",
    "version": 3
   },
   "file_extension": ".py",
   "mimetype": "text/x-python",
   "name": "python",
   "nbconvert_exporter": "python",
   "pygments_lexer": "ipython3",
   "version": "3.10.4"
  }
 },
 "nbformat": 4,
 "nbformat_minor": 5
}
