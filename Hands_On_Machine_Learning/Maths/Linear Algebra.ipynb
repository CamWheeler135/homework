{
 "cells": [
  {
   "cell_type": "markdown",
   "id": "bffebdd8",
   "metadata": {},
   "source": [
    "# Maths - Linear Algebra ( Vectors and Matricies )  \n",
    "\n",
    "What is linear algebra? Linear algebra is a branch of maths that studies vector spaces (vector space is a group of vectors / a set of vectors), and linear transformations between vector spaces, such as rotating a shape, scaling it up or down, translating (moving) it and so on... \n",
    "\n",
    "Machine learning relies heavily on linear algebra so it is essentail we understand what vectors and matricies are, what operations we can perform using them and how they can be useful to us!!!!\n"
   ]
  },
  {
   "cell_type": "markdown",
   "id": "0c157800",
   "metadata": {},
   "source": [
    "# Vectors \n",
    "\n",
    "A vector is a quantity defined by a magnitued and direction\n",
    "\n",
    "What is a vector? A vector is a **quantity defined by a magnitude and a direction**. For example, a rocket's velocity is a 3-dimensional vector. Its magnitude, is the speed of the rocket and its direction (hopefully up lol). A vector can be represented by an array of numbers (these are called **'scalars'**) each of these scalars corresponds to a magnitude of the vector with regards to each dimension\n",
    "\n",
    "For example, lets say that the rocket is going up at a slight angle. It has a vertical speed of 5000 m/s, and also a slight speed towards the East at 10 m/s and a slight speed to the North at 50 m/s. The rockets velocity may be represented by the following vector. "
   ]
  },
  {
   "cell_type": "markdown",
   "id": "34ec3ce7",
   "metadata": {},
   "source": [
    "**velocity** $ = \\begin{pmatrix} 10\\\\50\\\\5000\\\\\\end{pmatrix}$"
   ]
  },
  {
   "cell_type": "markdown",
   "id": "0185a6ba",
   "metadata": {},
   "source": [
    "Note, by convention vectors are presented in the form of columns. Also, vector names are general lowercase to distinguish them from matricies (these will be spoken about later on) as well as lowercase they are usually in bold, this distinguishes them from scalar values such as meters_per_second = 5026.\n",
    "\n",
    "A list of N numbers may also represent the coordinates of a point in N-dimesnional space, so it is quite frequent to represent vectors as simple points instead of arrows. A vector with 1 element may be represented as an arrow or a point on an axis, a vector with 2 elements is an arrow or a point on a place, a vector with 3 elements is an arrow or point in space, a vector with N elements is a arrow or point in N-dimensional space (which most people find hard to imagine.) "
   ]
  },
  {
   "cell_type": "markdown",
   "id": "434129be",
   "metadata": {},
   "source": [
    "### Purpose \n",
    "\n",
    "Vectors have MANY purposes in machine learning, most notably to **represent observations and predictions.** For example, lets say we built a machine learning system to classify videos into 3 catagories (good, spam, clickbait) based on what we know about them. For each video, we would have a vector representing what we know about it such as...\n",
    "\n",
    "**video** $ = \\begin{pmatrix} 10.5\\\\5.2\\\\3.25\\\\7.0\\\\\\end{pmatrix}$\n",
    "\n",
    "This vector represents a video that lasts 10.5 mins, but only 5.2% of viewers wathcing for more than a minute, its gets 3.25 views per day on average and it was flagged 7 times as spam. As we can see, each axis has a different meaning. \n",
    "\n",
    "Based on this vector, our machine learning system may predict that there is an 80% probabaility that this is a spam video, 18% that this is clickbait, and 2% that is a good video, this could be represented as the following vector...\n",
    "\n",
    "**class_probabilities** $ = \\begin{pmatrix} 0.80\\\\0.18\\\\0.02\\\\\\end{pmatrix}$"
   ]
  },
  {
   "cell_type": "markdown",
   "id": "62cf31d1",
   "metadata": {},
   "source": [
    "### Vectors in Python \n",
    "\n",
    "In python, a vector can be represented in many ways. The simplest being a regular list of numbers:"
   ]
  },
  {
   "cell_type": "code",
   "execution_count": 1,
   "id": "47dc57e4",
   "metadata": {},
   "outputs": [
    {
     "data": {
      "text/plain": [
       "[10.5, 5.2, 3.25, 7.0]"
      ]
     },
     "execution_count": 1,
     "metadata": {},
     "output_type": "execute_result"
    }
   ],
   "source": [
    "# A simple representation of a vector as a list of numbers\n",
    "[10.5, 5.2, 3.25, 7.0]"
   ]
  },
  {
   "cell_type": "markdown",
   "id": "46dad3e7",
   "metadata": {},
   "source": [
    "Since we plan to do quite a lot of scientific calculations, it is much better to use NumPys 'ndarray', which provides alot of convenient and optimised implementations of essential mathematical operations on vectors, this will make our work much easier if we use NumPy to do the heavy lifting (check the Numpy tutorial).\n",
    "\n",
    "Lets see a quick example however"
   ]
  },
  {
   "cell_type": "code",
   "execution_count": 2,
   "id": "e05ae8c3",
   "metadata": {},
   "outputs": [
    {
     "data": {
      "text/plain": [
       "array([10.5 ,  5.2 ,  3.25,  7.  ])"
      ]
     },
     "execution_count": 2,
     "metadata": {},
     "output_type": "execute_result"
    }
   ],
   "source": [
    "import numpy as np\n",
    "video = np.array([10.5, 5.2, 3.25, 7.0])\n",
    "video"
   ]
  },
  {
   "cell_type": "markdown",
   "id": "a3d8f773",
   "metadata": {},
   "source": [
    "The size or a vector can be obtained using the size attribute"
   ]
  },
  {
   "cell_type": "code",
   "execution_count": 3,
   "id": "cc66526d",
   "metadata": {},
   "outputs": [
    {
     "data": {
      "text/plain": [
       "4"
      ]
     },
     "execution_count": 3,
     "metadata": {},
     "output_type": "execute_result"
    }
   ],
   "source": [
    "# getting the size of the vector\n",
    "video.size"
   ]
  },
  {
   "cell_type": "markdown",
   "id": "e273b080",
   "metadata": {},
   "source": [
    "The i$^{th}$ element (also called entry or item) of a vector **v** is noted **v**$_{i}$. Note that indicies in mathematics generally start at 1, but in programming they usually start with 0. so to access **video**$_{3}$ programmatically, we need to do."
   ]
  },
  {
   "cell_type": "code",
   "execution_count": 4,
   "id": "6ebe4c90",
   "metadata": {},
   "outputs": [
    {
     "data": {
      "text/plain": [
       "3.25"
      ]
     },
     "execution_count": 4,
     "metadata": {},
     "output_type": "execute_result"
    }
   ],
   "source": [
    "# accessing the 3rd element of of the video vector\n",
    "video[2]"
   ]
  },
  {
   "cell_type": "markdown",
   "id": "e5bf33f0",
   "metadata": {},
   "source": [
    "### Plotting Vectors\n",
    "\n",
    "Lets create some simple 2D vector plots"
   ]
  },
  {
   "cell_type": "code",
   "execution_count": 5,
   "id": "e0a16d65",
   "metadata": {},
   "outputs": [
    {
     "data": {
      "image/png": "[encoded data removed]",
      "text/plain": [
       "<Figure size 432x288 with 1 Axes>"
      ]
     },
     "metadata": {
      "needs_background": "light"
     },
     "output_type": "display_data"
    }
   ],
   "source": [
    "%matplotlib inline\n",
    "import matplotlib.pyplot as plt\n",
    "\n",
    "# creating the vectors\n",
    "u = np.array([2, 5])\n",
    "v = np.array([3, 1])\n",
    "\n",
    "# These vectors each have 2 elements each, so they can easily be \n",
    "# represented graphically on a 2D graph as points.\n",
    "x_coordinates, y_coordinates = zip(u, v)\n",
    "plt.scatter(x_coordinates, y_coordinates, color=['r', 'b'])\n",
    "plt.axis([0,9 , 0,6])\n",
    "plt.grid()\n",
    "plt.show()"
   ]
  },
  {
   "cell_type": "markdown",
   "id": "b8aeca8e",
   "metadata": {},
   "source": [
    "Vectors can also be represented as arrows, let's create a small function to draw the arrows."
   ]
  },
  {
   "cell_type": "code",
   "execution_count": 6,
   "id": "7e5fc85f",
   "metadata": {},
   "outputs": [],
   "source": [
    "# creating a function that creates the arrows for the vector plot\n",
    "def plot_vector_arrows(vector2d, origin=[0,0], **options):\n",
    "    return plt.arrow(origin[0], origin[1], vector2d[0], vector2d[1],\n",
    "                    head_width=0.2, head_length=0.3, length_includes_head=True,\n",
    "                    **options)"
   ]
  },
  {
   "cell_type": "code",
   "execution_count": 7,
   "id": "361a9a79",
   "metadata": {
    "scrolled": true
   },
   "outputs": [
    {
     "data": {
      "image/png": "[encoded data removed]",
      "text/plain": [
       "<Figure size 432x288 with 1 Axes>"
      ]
     },
     "metadata": {
      "needs_background": "light"
     },
     "output_type": "display_data"
    }
   ],
   "source": [
    "plot_vector_arrows(u, color='r')\n",
    "plot_vector_arrows(v, color='b')\n",
    "plt.axis([0,9 , 0,6])\n",
    "plt.grid()\n",
    "plt.show()"
   ]
  },
  {
   "cell_type": "markdown",
   "id": "14615fea",
   "metadata": {},
   "source": [
    "Lets plot some 3D vectors, first we have to create some 3D vectors to plot..."
   ]
  },
  {
   "cell_type": "code",
   "execution_count": 8,
   "id": "9fba97e5",
   "metadata": {},
   "outputs": [
    {
     "data": {
      "image/png": "[encoded data removed]",
      "text/plain": [
       "<Figure size 432x288 with 1 Axes>"
      ]
     },
     "metadata": {
      "needs_background": "light"
     },
     "output_type": "display_data"
    }
   ],
   "source": [
    "from mpl_toolkits.mplot3d import Axes3D\n",
    "\n",
    "# creating the 3D vectors\n",
    "a = np.array([1,2,8])\n",
    "b = np.array([5,6,3])\n",
    "\n",
    "# now lets plot these vectors using matplotlibs 'Axes3D'\n",
    "subplot_3d = plt.subplot(111, projection='3d')\n",
    "x_coordinates, y_coordinates, z_coordinates = zip(a, b)\n",
    "subplot_3d.scatter(x_coordinates, y_coordinates, z_coordinates)\n",
    "subplot_3d.set_zlim3d([0, 9])\n",
    "plt.show()"
   ]
  },
  {
   "cell_type": "markdown",
   "id": "3b7338e9",
   "metadata": {},
   "source": [
    "It is hard to visualise exactly where in the 3D space these points are, so lets add vertical lines. We will create a small function to plot a list of 3d vecotrs with the vertical lines attached to them."
   ]
  },
  {
   "cell_type": "code",
   "execution_count": 9,
   "id": "aaa0cca1",
   "metadata": {},
   "outputs": [
    {
     "data": {
      "image/png": "[encoded data removed]",
      "text/plain": [
       "<Figure size 432x288 with 1 Axes>"
      ]
     },
     "metadata": {
      "needs_background": "light"
     },
     "output_type": "display_data"
    }
   ],
   "source": [
    "# creating a function that helps plot a better 3d graph\n",
    "def plot_3d_vectors(ax, vectors3d, z0, **options):\n",
    "    for v in vectors3d:\n",
    "        x, y, z = v\n",
    "        ax.plot([x,x], [y,y], [z0,z], color='gray', linestyle='dotted', marker='.')\n",
    "        x_coordinates, y_coordinates, z_coordinates = zip(*vectors3d)\n",
    "        ax.scatter(x_coordinates, y_coordinates, z_coordinates, **options)\n",
    "\n",
    "# calling the function\n",
    "subplot_3d = plt.subplot(111, projection='3d')\n",
    "subplot_3d.set_zlim([0, 9])\n",
    "plot_3d_vectors(subplot_3d, [a,b], 0, color=('r', 'b'))\n",
    "plt.show()"
   ]
  },
  {
   "cell_type": "markdown",
   "id": "1539702e",
   "metadata": {},
   "source": [
    "### The Norm\n",
    "\n",
    "The norm is a function that maps a vector to a single non-negative number, this can help is compare vectors for similarity / dissimilarity\n",
    "\n",
    "The norm of a vector such as **u** is noted as ||**u**||. This is a mesaure of the length (the magnitude) of the vector **u**. There are multiple possible norms, but the most common one is the **Euclidian norm**, which is defined as: \n",
    "\n",
    "||**u**|| $ = \\sqrt{\\sum_{i=1}{u_{i}}^2}$\n",
    "\n",
    "We can implement this easily in pure python as the $ \\sqrt{x} = x ^\\frac{1}{2}$ (kinda cool) "
   ]
  },
  {
   "cell_type": "code",
   "execution_count": 10,
   "id": "8023d437",
   "metadata": {},
   "outputs": [
    {
     "name": "stdout",
     "output_type": "stream",
     "text": [
      "|| [2 5] || = 5.385164807134504\n"
     ]
    }
   ],
   "source": [
    "# creating a function that computes the vector norm\n",
    "def vector_norm(vector):\n",
    "#   computing the squares for each element in the vector\n",
    "    squares = [element**2 for element in vector]\n",
    "#   returns the x to the power of 0.5\n",
    "    return sum(squares)**0.5\n",
    "\n",
    "# printing off the vector norm for the vector u \n",
    "print('||', u, '|| =', vector_norm(vector=u))"
   ]
  },
  {
   "cell_type": "markdown",
   "id": "724c01fa",
   "metadata": {},
   "source": [
    "However, this is python and there is always an easier way to do it. We are goibg to use NumPys norm function, avaiable in the linalg (Linear Algebra) module:"
   ]
  },
  {
   "cell_type": "code",
   "execution_count": 11,
   "id": "80654ade",
   "metadata": {},
   "outputs": [
    {
     "data": {
      "text/plain": [
       "5.385164807134504"
      ]
     },
     "execution_count": 11,
     "metadata": {},
     "output_type": "execute_result"
    }
   ],
   "source": [
    "import numpy.linalg as la\n",
    "# computing the norm using the norm function from the linalg module\n",
    "la.norm(u)"
   ]
  },
  {
   "cell_type": "markdown",
   "id": "a0103d83",
   "metadata": {},
   "source": [
    "Lets plot a figure to prove that the norm of vector u is infact around 5.4"
   ]
  },
  {
   "cell_type": "code",
   "execution_count": 12,
   "id": "c9bb0a05",
   "metadata": {},
   "outputs": [
    {
     "data": {
      "image/png": "[encoded data removed]",
      "text/plain": [
       "<Figure size 432x288 with 1 Axes>"
      ]
     },
     "metadata": {
      "needs_background": "light"
     },
     "output_type": "display_data"
    }
   ],
   "source": [
    "# creating the radius\n",
    "radius = la.norm(u)\n",
    "# plotting the figure\n",
    "plt.gca().add_artist(plt.Circle((0,0), radius, color=\"#DDDDDD\"))\n",
    "plot_vector_arrows(u, color=\"red\")\n",
    "# setting the axis\n",
    "plt.axis([0, 8.7, 0, 6])\n",
    "# setting the grid behind\n",
    "plt.grid()\n",
    "plt.show()"
   ]
  },
  {
   "cell_type": "markdown",
   "id": "563e8f06",
   "metadata": {},
   "source": [
    "This looks right (look at the x and y axis) "
   ]
  },
  {
   "cell_type": "markdown",
   "id": "360bc0f8",
   "metadata": {},
   "source": [
    "### Addition of Vectors \n",
    "\n",
    "Vectors of the same size can be added together, the addition is performed 'elementwise', this is also called matrix addition. We do this for every element in the vector, for example."
   ]
  },
  {
   "cell_type": "code",
   "execution_count": 13,
   "id": "c4e57850",
   "metadata": {},
   "outputs": [
    {
     "name": "stdout",
     "output_type": "stream",
     "text": [
      "  [2 5]\n",
      "+ [3 1]\n",
      "----------\n"
     ]
    },
    {
     "data": {
      "text/plain": [
       "array([5, 6])"
      ]
     },
     "execution_count": 13,
     "metadata": {},
     "output_type": "execute_result"
    }
   ],
   "source": [
    "print(' ', u)\n",
    "print('+', v)\n",
    "print('-' * 10)\n",
    "u + v"
   ]
  },
  {
   "cell_type": "markdown",
   "id": "d5f67a8b",
   "metadata": {},
   "source": [
    "2 + 3 = 5 and 5 + 1 = 6. I like to think of it as imagine we are picking one of the vectors up and placing it ontop, what would the result be? Sort of stacking the numbers on top of eachother. \n",
    "\n",
    "Lets plot this vector addition on a figure"
   ]
  },
  {
   "cell_type": "code",
   "execution_count": 14,
   "id": "4ee9097d",
   "metadata": {},
   "outputs": [
    {
     "data": {
      "image/png": "[encoded data removed]",
      "text/plain": [
       "<Figure size 432x288 with 1 Axes>"
      ]
     },
     "metadata": {
      "needs_background": "light"
     },
     "output_type": "display_data"
    }
   ],
   "source": [
    "# plotting the original arrows\n",
    "plot_vector_arrows(u, color='r')\n",
    "plot_vector_arrows(v, color='b')\n",
    "\n",
    "# plotting the \"imaginary\" arrows\n",
    "plot_vector_arrows(u, origin=v, color='r', linestyle='dotted')\n",
    "plot_vector_arrows(v, origin=u, color='b', linestyle='dotted')\n",
    "\n",
    "# plotting the vector of the added vectors\n",
    "plot_vector_arrows(u+v, color='g')\n",
    "\n",
    "# setting up the plot\n",
    "plt.axis([0,9 , 0,7])\n",
    "\n",
    "# setting up some text (notice we set the coords of the text, then the colour + size)\n",
    "plt.text(0.7, 3, \"u\", color=\"r\", fontsize=18)\n",
    "plt.text(4, 3, \"u\", color=\"r\", fontsize=18)\n",
    "plt.text(1.8, 0.2, \"v\", color=\"b\", fontsize=18)\n",
    "plt.text(3.1, 5.6, \"v\", color=\"b\", fontsize=18)\n",
    "plt.text(2.4, 2.5, \"u+v\", color=\"g\", fontsize=18)\n",
    "# setting up the grid \n",
    "plt.grid()\n",
    "\n",
    "\n",
    "plt.show()"
   ]
  },
  {
   "cell_type": "markdown",
   "id": "8c1f16d2",
   "metadata": {},
   "source": [
    "Vector addition is **'communtative'**, this is a term that means that **u** + **v** = **v** + **u**. We can see on the figure above that when we add u and v it ends up in the same place as adding v and u.\n",
    "\n",
    "Vector addition is also **'associative'**, meaning that **u** + (**v** + **w**) = (**u** + **v**) + **w**.\n",
    "\n",
    "**Now we are getting mathsy.** If we have a shape that is defined by a number of points (a number of vectors), as we add a vector to all of these points, then the whole shape gets shiftered by **v**. This is called **'geometric translation'**."
   ]
  },
  {
   "cell_type": "code",
   "execution_count": 15,
   "id": "1637da1f",
   "metadata": {},
   "outputs": [
    {
     "data": {
      "image/png": "[encoded data removed]",
      "text/plain": [
       "<Figure size 432x288 with 1 Axes>"
      ]
     },
     "metadata": {
      "needs_background": "light"
     },
     "output_type": "display_data"
    }
   ],
   "source": [
    "# setting the original points (vectors)\n",
    "original_point1 = np.array([2, 0.25])\n",
    "original_point2 = np.array([2.5, 3.5])\n",
    "original_point3 = np.array([1, 2])\n",
    "\n",
    "# plotting the original points (we have to add original twice as it completes the triangle)\n",
    "x_coordinates, y_coordinates = zip(original_point1, original_point2, original_point3, original_point1)\n",
    "plt.plot(x_coordinates, y_coordinates, \"c--\", x_coordinates, y_coordinates, \"co\")\n",
    "\n",
    "# plotting the translation arrows (where the points in space are moving too)\n",
    "plot_vector_arrows(v, original_point1, color='r', linestyle=':')\n",
    "plot_vector_arrows(v, original_point2, color='r', linestyle=':')\n",
    "plot_vector_arrows(v, original_point3, color='r', linestyle=':')\n",
    "\n",
    "# creating the new points by adding vector v to all of the points in space\n",
    "new_point1 = original_point1 + v\n",
    "new_point2 = original_point2 + v \n",
    "new_point3 = original_point3 + v\n",
    "\n",
    "# plotting the new points (again placing the first point twice as it completes the triangle)\n",
    "x_coordinatesb, y_coordinatesb = zip(new_point1, new_point2, new_point3, new_point1)\n",
    "plt.plot(x_coordinatesb, y_coordinatesb, 'b-', x_coordinatesb, y_coordinatesb, 'bo')\n",
    "\n",
    "# plotting the text for the figure\n",
    "plt.text(4, 4.2, \"v\", color=\"r\", fontsize=18)\n",
    "plt.text(3, 2.3, \"v\", color=\"r\", fontsize=18)\n",
    "plt.text(3.5, 0.4, \"v\", color=\"r\", fontsize=18)\n",
    "         \n",
    "# setting the axis and grid\n",
    "plt.axis([0, 6, 0, 5])\n",
    "plt.grid()\n",
    "plt.show()\n"
   ]
  },
  {
   "cell_type": "markdown",
   "id": "468900cc",
   "metadata": {},
   "source": [
    "NOTE: That subtracting a vector works the same way, but all we are doing is adding the opposite vector (from my understanding we would be adding negative elements) so instead of all of the values in v being positive they would be negative, this would cause a subtraction. "
   ]
  },
  {
   "cell_type": "markdown",
   "id": "b4187d21",
   "metadata": {},
   "source": [
    "### Muliplication by a Scalar\n",
    "\n",
    "Vectors can not just be added and subtracted but they can also be multiplied. This multiplication by scalar means that all elements in the vector are multiplied by that number, for example."
   ]
  },
  {
   "cell_type": "code",
   "execution_count": 16,
   "id": "cf5f1a0e",
   "metadata": {},
   "outputs": [
    {
     "name": "stdout",
     "output_type": "stream",
     "text": [
      "1.5 * [2 5] = [3.  7.5]\n"
     ]
    }
   ],
   "source": [
    "# example of multiplication by a scalar\n",
    "print('1.5 *', u, '=', (1.5*u))"
   ]
  },
  {
   "cell_type": "markdown",
   "id": "68819f19",
   "metadata": {},
   "source": [
    "Here we can see that we have multiplied all of the values in the vector **u** by 1.5. \n",
    "\n",
    "Graphically, scalar multiplications results in changing the 'scale' of the figure (multiplication by scalar changes the 'scale', scale scale scale) hence the name scalar. The distance from the origin (the point at which the coordinated equals to zero) is also multiplied by the scalar. For example, let us scale up by a factor of k = 2.5. "
   ]
  },
  {
   "cell_type": "code",
   "execution_count": 17,
   "id": "22a6abba",
   "metadata": {},
   "outputs": [
    {
     "data": {
      "image/png": "[encoded data removed]",
      "text/plain": [
       "<Figure size 432x288 with 1 Axes>"
      ]
     },
     "metadata": {
      "needs_background": "light"
     },
     "output_type": "display_data"
    }
   ],
   "source": [
    "# setting k \n",
    "k = 2.5\n",
    "\n",
    "# multiplying the vectors by k \n",
    "scaled_point1 = k * original_point1\n",
    "scaled_point2 = k * original_point2\n",
    "scaled_point3 = k * original_point3\n",
    "\n",
    "# plotting the original points\n",
    "plt.plot(x_coordinates, y_coordinates, 'c--', x_coordinates, y_coordinates, 'co')\n",
    "\n",
    "# plotting the original arrows\n",
    "plot_vector_arrows(original_point1, color='r')\n",
    "plot_vector_arrows(original_point2, color='r')\n",
    "plot_vector_arrows(original_point3, color='r')\n",
    "\n",
    "# setting the scaled coordinates and plotting them\n",
    "x_coordinatesc, y_coordinatesc = zip(scaled_point1, scaled_point2, scaled_point3, scaled_point1)\n",
    "plt.plot(x_coordinatesc, y_coordinatesc, 'b-', x_coordinatesc, y_coordinatesc, 'bo')\n",
    "\n",
    "# plotting the arrows (here we are not using the scaled points)\n",
    "plot_vector_arrows(k * original_point1, color='b', linestyle=':')\n",
    "plot_vector_arrows(k * original_point2, color='b', linestyle=':')\n",
    "plot_vector_arrows(k * original_point3, color='b', linestyle=':')\n",
    "\n",
    "# setting up the axis and grid \n",
    "plt.axis([0,7,0,10])\n",
    "plt.grid()\n",
    "plt.show()"
   ]
  },
  {
   "cell_type": "markdown",
   "id": "4f27b688",
   "metadata": {},
   "source": [
    "Much like subtraction, dividing a vector by a scaler is equalivalent to multiplying by its multiplicative inverse. Such that...\n",
    "\n",
    "$\\frac{u}{\\lambda} = \\frac{1}{\\lambda} \\times u $\n",
    "\n",
    "The multiplicative inverse is the opposite really, so $\\frac{1}{5}$s multiplicative inverse is 5, and 5s mutiplicated inverse is $\\frac{1}{5}$.\n",
    "\n",
    "Scalar multiplication much like addition is also **'commuative'** such that ${\\lambda}\\times u = u \\times \\lambda$\n",
    "\n",
    "Scalar multiplication is also **'associative'** like vector addition $\\lambda_1 \\times(\\lambda_2 \\times u) = (\\lambda_1 \\times \\lambda_2) = u $\n",
    "\n",
    "Finally, it is **'distributive'** over addition of vectors $\\lambda \\times (u + v) = \\lambda \\times u + \\lambda \\times v $\n"
   ]
  },
  {
   "cell_type": "markdown",
   "id": "c4c051f3",
   "metadata": {},
   "source": [
    "### Zero, Unit and Normalized Vectors\n",
    "\n",
    "- A **zero vector** is a vector **full of 0s**\n",
    "- A **unit vector** is a vector with a **norm equal to 1**\n",
    "- The **normalized vector** of a non-null vector is noted by ^ such that non null vector **u** is noted as $\\hat{u}$. This is the **unit vector** that points in the same direction as **u**. It is equal to $\\hat{u} = \\frac{u}{||u||}$\n",
    "- Note that ||u|| is the 'norm' of u\n",
    "\n",
    "Lets plot this..."
   ]
  },
  {
   "cell_type": "code",
   "execution_count": 18,
   "id": "fa6f0905",
   "metadata": {},
   "outputs": [
    {
     "data": {
      "image/png": "[encoded data removed]",
      "text/plain": [
       "<Figure size 432x288 with 1 Axes>"
      ]
     },
     "metadata": {
      "needs_background": "light"
     },
     "output_type": "display_data"
    }
   ],
   "source": [
    "# setting up the circle in the plot\n",
    "plt.gca().add_artist(plt.Circle((0,0),1,color='c'))\n",
    "plt.plot(0, 0, \"ko\")\n",
    "\n",
    "# plotting the vector arrows (note the normalised vector)\n",
    "plot_vector_arrows(v / la.norm(v), color=\"k\")\n",
    "plot_vector_arrows(v, color=\"b\", linestyle=\":\")\n",
    "\n",
    "# plotting the text in the figure\n",
    "plt.text(0.3, 0.3, \"$\\hat{u}$\", color=\"k\", fontsize=18)\n",
    "plt.text(1.5, 0.7, \"$u$\", color=\"b\", fontsize=18)\n",
    "plt.axis([-1.5, 5.5, -1.5, 3.5])\n",
    "plt.grid()\n",
    "plt.show()"
   ]
  },
  {
   "cell_type": "markdown",
   "id": "c31d925e",
   "metadata": {},
   "source": [
    "### Dot Products\n",
    "\n",
    "A dot product (also called a scaler product or an inner product) of two vectors **u** and **v** is a useful operation that comes up fairly often in linear algebra. The dot product of two vectors is noted in several ways such that $ u \\cdot v$ or sometimes (u|v) or $\\langle u | v \\rangle$ and the dot product is defined as\n",
    "\n",
    "$ u \\cdot v = ||u|| \\times ||v|| \\times \\cos{(\\theta)}$\n",
    "\n",
    "$\\theta$ is the angle between **u** and **v**\n",
    "\n",
    "or...\n",
    "\n",
    "$ u \\cdot v = \\sum_i u_i \\times v_i$\n",
    "\n",
    "We can manually work out the dot product by hand in python"
   ]
  },
  {
   "cell_type": "code",
   "execution_count": 19,
   "id": "4cc5501e",
   "metadata": {},
   "outputs": [
    {
     "data": {
      "text/plain": [
       "11"
      ]
     },
     "execution_count": 19,
     "metadata": {},
     "output_type": "execute_result"
    }
   ],
   "source": [
    "def dot_product(v1, v2):\n",
    "    return sum(v1i * v2i for v1i, v2i in zip(v1, v2))\n",
    "\n",
    "dot_product(u, v)"
   ]
  },
  {
   "cell_type": "markdown",
   "id": "05fc1a45",
   "metadata": {},
   "source": [
    "However just like everything there is an easier way to do it, we can use the dot method of a numpy array"
   ]
  },
  {
   "cell_type": "code",
   "execution_count": 20,
   "id": "3df75b99",
   "metadata": {},
   "outputs": [
    {
     "data": {
      "text/plain": [
       "11"
      ]
     },
     "execution_count": 20,
     "metadata": {},
     "output_type": "execute_result"
    }
   ],
   "source": [
    "np.dot(u,v)"
   ]
  },
  {
   "cell_type": "markdown",
   "id": "964b28da",
   "metadata": {},
   "source": [
    "We can also do it as a dot method of a ndarry"
   ]
  },
  {
   "cell_type": "code",
   "execution_count": 21,
   "id": "3d584bc1",
   "metadata": {},
   "outputs": [
    {
     "data": {
      "text/plain": [
       "11"
      ]
     },
     "execution_count": 21,
     "metadata": {},
     "output_type": "execute_result"
    }
   ],
   "source": [
    "u.dot(v)"
   ]
  },
  {
   "cell_type": "markdown",
   "id": "3ab0be85",
   "metadata": {},
   "source": [
    "NOTE that using * does not get the dot product it performs the elementwise multiplication"
   ]
  },
  {
   "cell_type": "code",
   "execution_count": 22,
   "id": "6d58086a",
   "metadata": {},
   "outputs": [
    {
     "name": "stdout",
     "output_type": "stream",
     "text": [
      "   [2 5]\n",
      "*  [3 1] (NOT a dot product)\n",
      "----------\n"
     ]
    },
    {
     "data": {
      "text/plain": [
       "array([6, 5])"
      ]
     },
     "execution_count": 22,
     "metadata": {},
     "output_type": "execute_result"
    }
   ],
   "source": [
    "print(\"  \",u)\n",
    "print(\"* \",v, \"(NOT a dot product)\")\n",
    "print(\"-\"*10)\n",
    "\n",
    "u * v"
   ]
  },
  {
   "cell_type": "markdown",
   "id": "c83ea3e3",
   "metadata": {},
   "source": [
    "So what are the properties of the dot product\n",
    "\n",
    "- The dot product is **'communtative'** so $u \\cdot v = v \\cdot u$\n",
    "- The dot product is only defined **between two vectors**, not between a scalar and a vector. This means that we cannot chain dot products together, for example $ u \\cdot v \\cdot w $ since $u \\cdot v $ will be a scalar after it is computed and w will be a vector\n",
    "- Dot products are **NOT associative** such that $(u \\cdot v) \\cdot w \\neq u \\cdot (v \\cdot w) $ since neither are defined\n",
    "- However the drop product **is associative** in regard to scaler multiplication such that $\\lambda \\times (u \\cdot v) = (\\lambda \\times u) \\cdot v = u \\cdot (\\lambda \\times v)$\n",
    "- Finally the dot product is **'disruptive'** over vector additions such that $ u \\cdot (v + w) = u \\cdot v + u \\cdot w$"
   ]
  },
  {
   "cell_type": "markdown",
   "id": "3971bdbf",
   "metadata": {},
   "source": [
    "### Calculating the Angle Between Vectors\n",
    "\n",
    "One of the many **uses of the dot product** is to **calculate the angle betwen the two non zero vectors**. Looking at the dot product definintion $ u \\cdot v = ||u|| \\times ||v|| \\times \\cos{(\\theta)}$ we can duduce the following formula...\n",
    "\n",
    "$\\theta = arccos (\\frac{u \\cdot v} {||u\\times||v||}) $\n",
    "\n",
    "Note that if $u \\cdot v = 0$, it follows that $\\theta = \\frac{\\pi}{2}$. In other words, if the dot prduct of two non null vectors is zeo it means that are are orthogonal (at right angles). \n",
    "\n",
    "Lets use this formula to calculate the angle between u and v in radians (unit of angular measurement)"
   ]
  },
  {
   "cell_type": "code",
   "execution_count": 23,
   "id": "6ac0d760",
   "metadata": {},
   "outputs": [
    {
     "name": "stdout",
     "output_type": "stream",
     "text": [
      "Angle = 0.8685393952858895 radians\n",
      "      = 49.76364169072618 degrees\n"
     ]
    }
   ],
   "source": [
    "def calc_vector_angle(u, v):\n",
    "    cos_theta = u.dot(v) / la.norm(u) / la.norm(v)\n",
    "    return np.arccos(np.clip(cos_theta, -1, 1))\n",
    "\n",
    "theta = calc_vector_angle(u, v)\n",
    "print(\"Angle =\", theta, \"radians\")\n",
    "print(\"      =\", theta * 180 / np.pi, \"degrees\")"
   ]
  },
  {
   "cell_type": "markdown",
   "id": "25da8711",
   "metadata": {},
   "source": [
    "NOTE - Due to small floating point errors, cos_theta may be very slightly outside of the [-1,1] interval which would make arccos fail. This is why we clipped the value within range using NumPys clip function. "
   ]
  },
  {
   "cell_type": "markdown",
   "id": "af9da333",
   "metadata": {},
   "source": [
    "### Projecting a Point Onto an Axis\n",
    "\n",
    "The dot product is also very useful to project points onto an axis. This projection of vector **v** onto **u**'s axis is given by the following formula\n",
    "\n",
    "**proj**$_u v = \\frac{u\\cdot v}{||u||^2} \\times u$\n",
    "\n",
    "This equation is equlivalent to \n",
    "\n",
    "**proj**$_u v = (v\\cdot \\hat{u}) \\times \\hat{u}$\n",
    "\n",
    "\n",
    "Lets plot this and see what it is doing"
   ]
  },
  {
   "cell_type": "code",
   "execution_count": 24,
   "id": "da5c2a12",
   "metadata": {},
   "outputs": [
    {
     "data": {
      "image/png": "[encoded data removed]",
      "text/plain": [
       "<Figure size 432x288 with 1 Axes>"
      ]
     },
     "metadata": {
      "needs_background": "light"
     },
     "output_type": "display_data"
    }
   ],
   "source": [
    "# creating u normalised (why though?)\n",
    "u_normalised = u /la.norm(u)\n",
    "# projecting u onto v\n",
    "proj = v.dot(u_normalised) * u_normalised\n",
    "\n",
    "# plotting the arrows for the original u and v \n",
    "plot_vector_arrows(u, color=\"r\")\n",
    "plot_vector_arrows(v, color=\"b\")\n",
    "\n",
    "# plotting the projection arrow\n",
    "plot_vector_arrows(proj, color=\"k\", linestyle=\":\")\n",
    "plt.plot(proj[0], proj[1], \"k\")\n",
    "\n",
    "# plotting the dotted line from v to v projected onto u\n",
    "plt.plot([proj[0], v[0]], [proj[1], v[1]], \"g:\")\n",
    "\n",
    "# plotting the text\n",
    "plt.text(1, 2, \"$proj_u v$\", color=\"g\", fontsize=18)\n",
    "plt.text(1.8, 0.2, \"$v$\", color=\"b\", fontsize=18)\n",
    "plt.text(0.8, 3, \"$u$\", color=\"r\", fontsize=18)\n",
    "\n",
    "# creating the axis and grid\n",
    "plt.axis([0, 8, 0, 5.5])\n",
    "plt.grid()\n",
    "plt.show()"
   ]
  },
  {
   "cell_type": "markdown",
   "id": "2daa33fc",
   "metadata": {},
   "source": [
    "# Matricies\n",
    "\n",
    "A matirx is a rectangular array of scalars (any number: integer, real or complex) arranged in rows and columns\n",
    "\n",
    "\n",
    "$\n",
    "\\begin{bmatrix}\n",
    "1 & 2 & 3\\\\\n",
    "a & b & c\n",
    "\\end{bmatrix}\n",
    "$\n",
    "\n",
    "We can also think of a matrix as a **list of vectors** : The matrix above contains either 2 horizontal 3D vectors or 3 vertical 2D vectors. Matrices are convenient and very efficient to run operations on many vectors at one time. We will also see that they are great at representing and performing linear transformations such as rotations, translations and scaling. \n",
    "\n",
    "\n",
    "### Matrices in Python\n",
    "\n",
    "In python a matrix can be represented in various ways. The simplest representation is just a list of python lists."
   ]
  },
  {
   "cell_type": "code",
   "execution_count": 25,
   "id": "37416185",
   "metadata": {},
   "outputs": [
    {
     "data": {
      "text/plain": [
       "[[10, 20, 30], [40, 50, 60]]"
      ]
     },
     "execution_count": 25,
     "metadata": {},
     "output_type": "execute_result"
    }
   ],
   "source": [
    "[\n",
    "    [10, 20, 30],\n",
    "    [40, 50, 60]\n",
    "]"
   ]
  },
  {
   "cell_type": "markdown",
   "id": "8d6cc6b0",
   "metadata": {},
   "source": [
    "A much more efficient way is to use the NumPy library which provides optimized implementations of many matrix operations."
   ]
  },
  {
   "cell_type": "code",
   "execution_count": 44,
   "id": "ac0555f4",
   "metadata": {},
   "outputs": [
    {
     "data": {
      "text/plain": [
       "array([[10, 20, 30],\n",
       "       [40, 50, 60]])"
      ]
     },
     "execution_count": 44,
     "metadata": {},
     "output_type": "execute_result"
    }
   ],
   "source": [
    "A = np.array([\n",
    "        [10, 20, 30],\n",
    "        [40, 50, 60]])\n",
    "\n",
    "A"
   ]
  },
  {
   "cell_type": "markdown",
   "id": "e26844f5",
   "metadata": {},
   "source": [
    "By convention matrices generally have uppcarse names such as A. In the rest of the tutorial, we are going to be using NumPy arrays (type ndarray) to represent matrices. \n",
    "\n",
    "### Size \n",
    "\n",
    "The size of a matrix is defined by its number of rows and number of columns. It is noted by $rows \\times columns$. For example the matrix A_matrix is an example of a 2 x 3 matrix. 2 rows and 3 columns, if it was a 3 x 2 matrix it would have 3 rows and only 2 columns. THIS DOES MATTER the rows comes first then the columms.\n",
    "\n",
    "To get a matrix's size we can use NumPy"
   ]
  },
  {
   "cell_type": "code",
   "execution_count": 45,
   "id": "58da0534",
   "metadata": {},
   "outputs": [
    {
     "data": {
      "text/plain": [
       "(2, 3)"
      ]
     },
     "execution_count": 45,
     "metadata": {},
     "output_type": "execute_result"
    }
   ],
   "source": [
    "# using numpy to get the matrices shape\n",
    "A.shape"
   ]
  },
  {
   "cell_type": "markdown",
   "id": "20e2fa3e",
   "metadata": {},
   "source": [
    "CAUTION the .size attribute represents the number of elements in the ndarry that makes up the matrix so DO NOT confuse it!"
   ]
  },
  {
   "cell_type": "code",
   "execution_count": 46,
   "id": "8dfbe0e7",
   "metadata": {},
   "outputs": [
    {
     "data": {
      "text/plain": [
       "6"
      ]
     },
     "execution_count": 46,
     "metadata": {},
     "output_type": "execute_result"
    }
   ],
   "source": [
    "A.size"
   ]
  },
  {
   "cell_type": "markdown",
   "id": "f62f5c03",
   "metadata": {},
   "source": [
    "### Element Indexing \n",
    "\n",
    "The number locating the in $i^{th}$ row of the $j{^th}$ column of a matrix X is noted at $X{_ij}$ but there is not standard notation (the book says), so people often prefaer to explicitly name the elements like this \n",
    "\"Let **X** = $(x_{i,j})$$_{1\\le i\\le m, 1\\le j\\le n}$\n",
    "\n",
    "This means that **X** is equal to\n",
    "\n",
    "$X = \\begin{bmatrix}\n",
    "x_{1,1} & x_{1,2} & x_{1,3} & \\cdots & x_{1,n}\\\\\n",
    "x_{2,1} & x_{2,2} & x_{2,3} & \\cdots & x_{2,n}\\\\\n",
    "x_{3,1} & x_{3,2} & x_{3,3} & \\cdots & x_{3,n}\\\\\n",
    "\\vdots & \\vdots & \\vdots & \\ddots & \\vdots \\\\\n",
    "x_{m,1} & x_{m,2} & x_{m,3} & \\cdots & x_{m,n}\\\\\n",
    "\\end{bmatrix}$\n",
    "\n",
    "However in this tutorial we will use the $X_{ij}$ notation as it matches well with NumPys notation. Note that in math, indicies generally start at 1, but in programming they start at 0 (we have spoken about this before) "
   ]
  },
  {
   "cell_type": "code",
   "execution_count": 48,
   "id": "437571ad",
   "metadata": {},
   "outputs": [
    {
     "data": {
      "text/plain": [
       "60"
      ]
     },
     "execution_count": 48,
     "metadata": {},
     "output_type": "execute_result"
    }
   ],
   "source": [
    "# accessing the second row and the 3rd number\n",
    "A[1,2]"
   ]
  },
  {
   "cell_type": "markdown",
   "id": "be119e57",
   "metadata": {},
   "source": [
    "The $i^{th}$ row vector is noted as $M_i,{_*}$ but again there is no standard notation so people will often prefer to explicitly define their own names, for example \"let **x**$_i$ be the $i^{th}$ row vector of matrix **X**\". We will use the $M_i,{_*}$. For example is we want to access A matrix second row vector it will be noted at A_matrix$_2{_*}$"
   ]
  },
  {
   "cell_type": "code",
   "execution_count": 49,
   "id": "3319edde",
   "metadata": {},
   "outputs": [
    {
     "data": {
      "text/plain": [
       "array([40, 50, 60])"
      ]
     },
     "execution_count": 49,
     "metadata": {},
     "output_type": "execute_result"
    }
   ],
   "source": [
    "# accessing the second row, all of the values \n",
    "A[1, :]"
   ]
  },
  {
   "cell_type": "markdown",
   "id": "0c14ed04",
   "metadata": {},
   "source": [
    "Just like the rows the $j^th$ column vector is noted as $M_{_*},_j$ but again their is no standard notation. We will be using the example we have just mentioned through the tutorial however. For example if we want to get the A_matrix 3rd column it will be noted A_matrix$_{_*},_3$"
   ]
  },
  {
   "cell_type": "code",
   "execution_count": 50,
   "id": "c6256c44",
   "metadata": {},
   "outputs": [
    {
     "data": {
      "text/plain": [
       "array([30, 60])"
      ]
     },
     "execution_count": 50,
     "metadata": {},
     "output_type": "execute_result"
    }
   ],
   "source": [
    "A[:, 2]"
   ]
  },
  {
   "cell_type": "markdown",
   "id": "5fbb257a",
   "metadata": {},
   "source": [
    "Note that the result is actually a 1D NumPy array. There is no such thing as a vertical or horizontal one dimensional array. \n",
    "\n",
    "If you need to actaully represent a row vector as a one-row matrix (ie a 2D numpy array) or a column vector as a one-column matrix, then you need to use a slice instead of an integer when accessing the row or column\n",
    "\n",
    "For the example we have been using"
   ]
  },
  {
   "cell_type": "code",
   "execution_count": 51,
   "id": "a94c394d",
   "metadata": {},
   "outputs": [
    {
     "data": {
      "text/plain": [
       "array([[40, 50, 60]])"
      ]
     },
     "execution_count": 51,
     "metadata": {},
     "output_type": "execute_result"
    }
   ],
   "source": [
    "A[1:2, :] # rows 2 and 3 are excluded and this returns row 2 as\n",
    "                 # a one row matrix"
   ]
  },
  {
   "cell_type": "code",
   "execution_count": 52,
   "id": "e276fa78",
   "metadata": {},
   "outputs": [
    {
     "data": {
      "text/plain": [
       "array([[30],\n",
       "       [60]])"
      ]
     },
     "execution_count": 52,
     "metadata": {},
     "output_type": "execute_result"
    }
   ],
   "source": [
    "A[:, 2:3] # columns 3 to 4 are excluded, this returns column 3\n",
    "                 # as a one column matrix "
   ]
  },
  {
   "cell_type": "markdown",
   "id": "421f7783",
   "metadata": {},
   "source": [
    "### Square, Triangular, Diagonal and Identity Matrices\n",
    "\n",
    "A square matrix is a matris that has the same number of rows as it does columns, for example 3X3 matrix.\n",
    "\n",
    "\n",
    "$\n",
    "\\begin{bmatrix}\n",
    "1 & 2 & 3\\\\\n",
    "4 & 5 & 6\\\\\n",
    "7 & 8 & 9\\\\\n",
    "\\end{bmatrix}\n",
    "$\n",
    "\n",
    "An upper triangular matrix is a special kind of square matrix where all of the elements below the main diagonal are zero, for example.\n",
    "\n",
    "$\n",
    "\\begin{bmatrix}\n",
    "1 & 2 & 3\\\\\n",
    "0 & 4 & 5\\\\\n",
    "0 & 0 & 6\\\\\n",
    "\\end{bmatrix}\n",
    "$\n",
    "\n",
    "Similary we also can get a lower triangular matrix, this is a square matrix where all the elements above the main diagonal are zero, for example. \n",
    "\n",
    "$\n",
    "\\begin{bmatrix}\n",
    "1 & 0 & 0\\\\\n",
    "2 & 3 & 0\\\\\n",
    "4 & 5 & 6\\\\\n",
    "\\end{bmatrix}\n",
    "$\n",
    "\n",
    "\n",
    "A matrix that is both upper and lower triangular is called a diagonal matrix, for example.\n",
    "\n",
    "$\n",
    "\\begin{bmatrix}\n",
    "1 & 0 & 0\\\\\n",
    "0 & 2 & 0\\\\\n",
    "0 & 0 & 3\\\\\n",
    "\\end{bmatrix}\n",
    "$\n",
    "\n",
    "\n",
    "We can construct a diagonal matrix using NumPys diag function. "
   ]
  },
  {
   "cell_type": "code",
   "execution_count": 35,
   "id": "50434dab",
   "metadata": {},
   "outputs": [
    {
     "data": {
      "text/plain": [
       "array([[1, 0, 0],\n",
       "       [0, 2, 0],\n",
       "       [0, 0, 3]])"
      ]
     },
     "execution_count": 35,
     "metadata": {},
     "output_type": "execute_result"
    }
   ],
   "source": [
    "np.diag([1,2,3])"
   ]
  },
  {
   "cell_type": "markdown",
   "id": "f175b657",
   "metadata": {},
   "source": [
    "We can also pass the diagonal function to a matrix and numpy will extract the main diagonal out for us. "
   ]
  },
  {
   "cell_type": "code",
   "execution_count": 36,
   "id": "a8f9a68a",
   "metadata": {},
   "outputs": [
    {
     "data": {
      "text/plain": [
       "array([1, 5, 9])"
      ]
     },
     "execution_count": 36,
     "metadata": {},
     "output_type": "execute_result"
    }
   ],
   "source": [
    "B = np.array([\n",
    "        [1, 2, 3],\n",
    "        [4, 5, 6],\n",
    "        [7, 8, 9],\n",
    "    ])\n",
    "\n",
    "np.diag(B)"
   ]
  },
  {
   "cell_type": "markdown",
   "id": "6bc5ccc7",
   "metadata": {},
   "source": [
    "Finally the identity matrix of size $n$, is noted as $I_n$. This is a diagonal matrix of the size $n \\times n$ with 1's in the main diagonal for example $I_3$ is displayed below.\n",
    "\n",
    "For this, we can use np.diag([1,1,1]) or becuase there is always an easier way we can just use np.eye(3) this will construct the indentity matrix without us having the type in all of the ones directly"
   ]
  },
  {
   "cell_type": "code",
   "execution_count": 39,
   "id": "b284c512",
   "metadata": {},
   "outputs": [
    {
     "data": {
      "text/plain": [
       "array([[1., 0., 0.],\n",
       "       [0., 1., 0.],\n",
       "       [0., 0., 1.]])"
      ]
     },
     "execution_count": 39,
     "metadata": {},
     "output_type": "execute_result"
    }
   ],
   "source": [
    "np.eye(3)"
   ]
  },
  {
   "cell_type": "markdown",
   "id": "8f9ce00c",
   "metadata": {},
   "source": [
    "The indentity matrix is often noted as simply $I$ instead of $I_n$ when its size is clearly given in the context. It is called the identity matrix because multiplying a matrix with it leave the matrix unchanged as we will see below. "
   ]
  },
  {
   "cell_type": "markdown",
   "id": "afc12ec5",
   "metadata": {},
   "source": [
    "### Adding Matrices\n",
    "\n",
    "If two matrices Q and R have the same size $m \\times n$, they can be added together!!! Addition is performed 'elementwise' the result of the addition is also an $m \\times n$ matrix $S$ where each element in matrix $S$ is the sum of the elements at the corresponding position. $S_{i,j} = Q_{i,j} + R_{i,j}$\n",
    "\n",
    "$S =\n",
    "    \\begin{bmatrix}\n",
    "    Q_{11} + R_{11} & Q_{12} + R_{12} & Q_{13} + R_{13} & \\cdots & Q_{1n} + R_{1n}\\\\\n",
    "    Q_{21} + R_{21} & Q_{22} + R_{22} & Q_{23} + R_{23} & \\cdots & Q_{2n} + R_{2n}\\\\\n",
    "    Q_{31} + R_{31} & Q_{32} + R_{32} & Q_{33} + R_{33} & \\cdots & Q_{3n} + R_{3n}\\\\\n",
    "    \\vdots & \\vdots & \\vdots & \\ddots & \\vdots\\\\\n",
    "    Q_{m1} + R_{m1} & Q_{m2} + R_{m2} & Q_{m3} + R_{m3} & \\cdots & Q_{mn} + R_{mn}\\\\\n",
    "    \\end{bmatrix}$\n",
    "    \n",
    "Again just like a vector, I like to think of it like we have the same size box of numbers and what we are doing is placing the box of numbers ontop of the original box and the numbers in their specific location merge together!"
   ]
  },
  {
   "cell_type": "markdown",
   "id": "ba323d91",
   "metadata": {},
   "source": [
    "Lets create another matrix 2X3 matrix $C$ and compute A + C"
   ]
  },
  {
   "cell_type": "code",
   "execution_count": 41,
   "id": "7d49d2bd",
   "metadata": {},
   "outputs": [
    {
     "data": {
      "text/plain": [
       "array([[1, 2, 3],\n",
       "       [4, 5, 6]])"
      ]
     },
     "execution_count": 41,
     "metadata": {},
     "output_type": "execute_result"
    }
   ],
   "source": [
    "C = np.array([[1,2,3], [4,5,6]])\n",
    "C\n"
   ]
  },
  {
   "cell_type": "code",
   "execution_count": 53,
   "id": "c9551c2d",
   "metadata": {},
   "outputs": [
    {
     "data": {
      "text/plain": [
       "array([[10, 20, 30],\n",
       "       [40, 50, 60]])"
      ]
     },
     "execution_count": 53,
     "metadata": {},
     "output_type": "execute_result"
    }
   ],
   "source": [
    "A"
   ]
  },
  {
   "cell_type": "code",
   "execution_count": 55,
   "id": "28e024e4",
   "metadata": {},
   "outputs": [
    {
     "data": {
      "text/plain": [
       "array([[11, 22, 33],\n",
       "       [44, 55, 66]])"
      ]
     },
     "execution_count": 55,
     "metadata": {},
     "output_type": "execute_result"
    }
   ],
   "source": [
    "# adding the matrices together \n",
    "A + C"
   ]
  },
  {
   "cell_type": "markdown",
   "id": "a09978c2",
   "metadata": {},
   "source": [
    "We can see here that we have added 1 to 10, 2 to 20, 3 to 30 and so on and so on. Futhermore addition is **'commutative'** meaning that $A + C = C + A$"
   ]
  },
  {
   "cell_type": "code",
   "execution_count": 56,
   "id": "0e688562",
   "metadata": {},
   "outputs": [
    {
     "data": {
      "text/plain": [
       "array([[11, 22, 33],\n",
       "       [44, 55, 66]])"
      ]
     },
     "execution_count": 56,
     "metadata": {},
     "output_type": "execute_result"
    }
   ],
   "source": [
    "C + A"
   ]
  },
  {
   "cell_type": "markdown",
   "id": "dcc9ed07",
   "metadata": {},
   "source": [
    "Addition of matrices is also **'associative'**, meaning that $A + (C+D) = (A+C) + D$ \n",
    "\n",
    "Lets prove this..."
   ]
  },
  {
   "cell_type": "code",
   "execution_count": 59,
   "id": "7e93ff87",
   "metadata": {},
   "outputs": [
    {
     "data": {
      "text/plain": [
       "array([[111, 222, 333],\n",
       "       [444, 555, 666]])"
      ]
     },
     "execution_count": 59,
     "metadata": {},
     "output_type": "execute_result"
    }
   ],
   "source": [
    "# creating matrix D\n",
    "D = np.array([[100,200,300], [400, 500, 600]])\n",
    "\n",
    "A + (C+D)"
   ]
  },
  {
   "cell_type": "code",
   "execution_count": 61,
   "id": "a78bf789",
   "metadata": {},
   "outputs": [
    {
     "data": {
      "text/plain": [
       "array([[111, 222, 333],\n",
       "       [444, 555, 666]])"
      ]
     },
     "execution_count": 61,
     "metadata": {},
     "output_type": "execute_result"
    }
   ],
   "source": [
    "(A+C) + D"
   ]
  },
  {
   "cell_type": "markdown",
   "id": "4f59c6de",
   "metadata": {},
   "source": [
    "### Scalar Multiplication \n",
    "\n",
    "A matrix $M$ can be multiple by a scaler $\\lambda$. The result is noted as $\\lambda M$. $\\lambda M$ is a matrix the same size as $M$ eith all of the elements inside of $M$ being multiplied by $\\lambda$\n",
    "\n",
    "Such that... \n",
    "\n",
    "$\\lambda M =\n",
    "\\begin{bmatrix} \\lambda \\times M_{11} & \\lambda \\times M_{12} & \\lambda \\times M_{13} & \\cdots & \\lambda \\times M_{1n}\\\\\n",
    "    \\lambda \\times M_{21} & \\lambda \\times M_{22} & \\lambda \\times M_{23} & \\cdots & \\lambda \\times M_{2n}\\\\\n",
    "    \\lambda \\times M_{31} & \\lambda \\times M_{32} & \\lambda \\times M_{33} & \\cdots & \\lambda \\times M_{3n}\\\\\n",
    "    \\vdots & \\vdots & \\vdots & \\ddots & \\vdots \\\\\n",
    "    \\lambda \\times M_{m1} & \\lambda \\times M_{m2} & \\lambda \\times M_{m3} & \\cdots & \\lambda \\times M_{mn}\\\\\n",
    "\\end{bmatrix}$"
   ]
  },
  {
   "cell_type": "markdown",
   "id": "6e36f7af",
   "metadata": {},
   "source": [
    "A more conside way of writing this matrix is $(\\lambda M)_{i,j} = \\lambda(M)_{i,j}$ \n",
    "\n",
    "In NumPy, simply use the * operator to multiply the a matrix by a scaler, for example, lets multiply matrix A by 2"
   ]
  },
  {
   "cell_type": "code",
   "execution_count": 63,
   "id": "e1beec8f",
   "metadata": {},
   "outputs": [
    {
     "data": {
      "text/plain": [
       "array([[ 20,  40,  60],\n",
       "       [ 80, 100, 120]])"
      ]
     },
     "execution_count": 63,
     "metadata": {},
     "output_type": "execute_result"
    }
   ],
   "source": [
    "A * 2"
   ]
  },
  {
   "cell_type": "markdown",
   "id": "67d7ba95",
   "metadata": {},
   "source": [
    "This makes matrix scaler multiplication **'commutative'** meaning that $A \\times \\lambda = \\lambda \\times A$\n",
    "\n",
    "Scaler multiplication is also **'associative'**, meaning that $\\alpha (\\beta M) = (\\alpha \\times \\beta)M$ where $\\alpha$ and $\\beta$ are scalars. For example:"
   ]
  },
  {
   "cell_type": "code",
   "execution_count": 64,
   "id": "7c04c524",
   "metadata": {},
   "outputs": [
    {
     "data": {
      "text/plain": [
       "array([[ 60, 120, 180],\n",
       "       [240, 300, 360]])"
      ]
     },
     "execution_count": 64,
     "metadata": {},
     "output_type": "execute_result"
    }
   ],
   "source": [
    "2 * (3*A)"
   ]
  },
  {
   "cell_type": "code",
   "execution_count": 66,
   "id": "2bb9aa25",
   "metadata": {},
   "outputs": [
    {
     "data": {
      "text/plain": [
       "array([[ 60, 120, 180],\n",
       "       [240, 300, 360]])"
      ]
     },
     "execution_count": 66,
     "metadata": {},
     "output_type": "execute_result"
    }
   ],
   "source": [
    "(2*3) * A"
   ]
  },
  {
   "cell_type": "markdown",
   "id": "fa59b8b7",
   "metadata": {},
   "source": [
    "Finally, scalar multiplication is also **'disruptive'** over addition of matricies, meaning that $\\lambda(Q + R) = \\lambda Q + \\lambda R$\n",
    "\n",
    "\n",
    "Lets prove this..."
   ]
  },
  {
   "cell_type": "code",
   "execution_count": 67,
   "id": "a80cfcac",
   "metadata": {},
   "outputs": [
    {
     "data": {
      "text/plain": [
       "array([[ 22,  44,  66],\n",
       "       [ 88, 110, 132]])"
      ]
     },
     "execution_count": 67,
     "metadata": {},
     "output_type": "execute_result"
    }
   ],
   "source": [
    "2 * (A+C)"
   ]
  },
  {
   "cell_type": "code",
   "execution_count": 69,
   "id": "a57f9758",
   "metadata": {},
   "outputs": [
    {
     "data": {
      "text/plain": [
       "array([[ 22,  44,  66],\n",
       "       [ 88, 110, 132]])"
      ]
     },
     "execution_count": 69,
     "metadata": {},
     "output_type": "execute_result"
    }
   ],
   "source": [
    "2 * A + 2 * C"
   ]
  },
  {
   "cell_type": "markdown",
   "id": "7076cfd5",
   "metadata": {},
   "source": [
    "### Matrix Multiplication \n",
    "\n",
    "So far, the matrix operation shave been rather simple and ituative. But lets get ALOT more mathsy. Multiplying matricies are much harder...\n",
    "\n",
    "A matrix $Q$ of size $m \\times n$ can be multiplied by a matrix $R$ of size $n \\times q$. It is noted down as simply $QR$ WITHOUT a multiplication sign or dot. The result matrix $P$ is an $m \\times q$ matrix where each element in the matrix is computed as the sum of the products.\n",
    "\n",
    "Note that the number of columns of the first matrix must equal the rows of the second matrix \n",
    "\n",
    "So the sum is the width of $m$ and the height/length of $q$.\n",
    "\n",
    "\n",
    "$P_{i,j} = \\sum^n_{k=1}Q_{i,k} \\times R_{k,j}$\n",
    "\n",
    "\n",
    "I cannot get the $P$ to sit correctly, but the start of the matirx is supposed to be $P = matrix$\n",
    "\n",
    "\n",
    "\n",
    "\n",
    "$P = \\begin{bmatrix}\n",
    "Q_{11} R_{11} + Q_{12} R_{21} + \\cdots + Q_{1n} R_{n1} &\n",
    "  Q_{11} R_{12} + Q_{12} R_{22} + \\cdots + Q_{1n} R_{n2} &\n",
    "    \\cdots &\n",
    "      Q_{11} R_{1q} + Q_{12} R_{2q} + \\cdots + Q_{1n} R_{nq} \\\\\n",
    "Q_{21} R_{11} + Q_{22} R_{21} + \\cdots + Q_{2n} R_{n1} &\n",
    "  Q_{21} R_{12} + Q_{22} R_{22} + \\cdots + Q_{2n} R_{n2} &\n",
    "    \\cdots &\n",
    "      Q_{21} R_{1q} + Q_{22} R_{2q} + \\cdots + Q_{2n} R_{nq} \\\\\n",
    "  \\vdots & \\vdots & \\ddots & \\vdots \\\\\n",
    "Q_{m1} R_{11} + Q_{m2} R_{21} + \\cdots + Q_{mn} R_{n1} &\n",
    "  Q_{m1} R_{12} + Q_{m2} R_{22} + \\cdots + Q_{mn} R_{n2} &\n",
    "    \\cdots &\n",
    "      Q_{m1} R_{1q} + Q_{m2} R_{2q} + \\cdots + Q_{mn} R_{nq}\n",
    "    \\end{bmatrix}$"
   ]
  },
  {
   "cell_type": "markdown",
   "id": "253a8f69",
   "metadata": {},
   "source": [
    "Actually, it is not too hard... What we are simply doing is creating another matrix where each element is the dot product of the two vectors in that position. So if we are creating the first element of the new matrix. It is simply the dot product of the first row $\\times$ the dot product of the first colum. When making the second element in the matrix is it the dot product of the first row $\\times$ the dot product of the second column..... It is rather inutative, but so complicated to explain on pen and paper (or laptop lol)\n",
    "\n",
    "--- Back to the book ---\n",
    "\n",
    "\n",
    "As you may have noticed that each element $P_{i,j}$ is the dot product of the row vector $Q_{i_*}$ and the column vector $R_{_*}{_j} $\n",
    "\n",
    "$P_{i,j}$ = $Q_{i_*}$ $\\cdot$ $R_{_*}{_j}$\n",
    "\n",
    "\n",
    "$P =\n",
    "\\begin{bmatrix}\n",
    "Q_{1,*} \\cdot R_{*,1} & Q_{1,*} \\cdot R_{*,2} & \\cdots & Q_{1,*} \\cdot R_{*,q} \\\\\n",
    "Q_{2,*} \\cdot R_{*,1} & Q_{2,*} \\cdot R_{*,2} & \\cdots & Q_{2,*} \\cdot R_{*,q} \\\\\n",
    "\\vdots & \\vdots & \\ddots & \\\\vdots \\\\\n",
    "Q_{m,*} \\cdot R_{*,1} & Q_{m,*} \\cdot R_{*,2} & \\cdots & Q_{m,*} \\cdot R_{*,q}\n",
    "\\end{bmatrix}$\n",
    "\n",
    "\n",
    "Let's do an example, multiply two matricies in NumPy using ndarrys dot method (not dot notation do not get confused)"
   ]
  },
  {
   "cell_type": "code",
   "execution_count": 70,
   "id": "ba05ca96",
   "metadata": {},
   "outputs": [
    {
     "data": {
      "text/plain": [
       "array([[10, 20, 30],\n",
       "       [40, 50, 60]])"
      ]
     },
     "execution_count": 70,
     "metadata": {},
     "output_type": "execute_result"
    }
   ],
   "source": [
    "# matrix A\n",
    "A"
   ]
  },
  {
   "cell_type": "code",
   "execution_count": 74,
   "id": "36c244ac",
   "metadata": {},
   "outputs": [
    {
     "data": {
      "text/plain": [
       "array([[1, 2, 3],\n",
       "       [4, 5, 6],\n",
       "       [7, 8, 9]])"
      ]
     },
     "execution_count": 74,
     "metadata": {},
     "output_type": "execute_result"
    }
   ],
   "source": [
    "# matrix B\n",
    "B"
   ]
  },
  {
   "cell_type": "markdown",
   "id": "9ddbbf2e",
   "metadata": {},
   "source": [
    "$E = AB = \n",
    "\\begin{bmatrix}\n",
    "10 & 20 & 30\\\\\n",
    "40 & 50 & 60\n",
    "\\end{bmatrix}\n",
    "$\n",
    "$\\times$\n",
    "$\n",
    "\\begin{bmatrix}\n",
    "1 & 2 & 3\\\\\n",
    "4 & 5 & 6\\\\\n",
    "7 & 8 & 9\n",
    "\\end{bmatrix}\n",
    "$"
   ]
  },
  {
   "cell_type": "code",
   "execution_count": 77,
   "id": "b2fdf1de",
   "metadata": {},
   "outputs": [
    {
     "data": {
      "text/plain": [
       "array([[300, 360, 420],\n",
       "       [660, 810, 960]])"
      ]
     },
     "execution_count": 77,
     "metadata": {},
     "output_type": "execute_result"
    }
   ],
   "source": [
    "E = A.dot(B)\n",
    "E"
   ]
  },
  {
   "cell_type": "markdown",
   "id": "a02b3277",
   "metadata": {},
   "source": [
    "$E = AB = \n",
    "\\begin{bmatrix}\n",
    "10 & 20 & 30\\\\\n",
    "40 & 50 & 60\n",
    "\\end{bmatrix}\n",
    "$\n",
    "$\\times$\n",
    "$\n",
    "\\begin{bmatrix}\n",
    "1 & 2 & 3\\\\\n",
    "4 & 5 & 6\\\\\n",
    "7 & 8 & 9\n",
    "\\end{bmatrix}\n",
    "$\n",
    "$=$\n",
    "$\n",
    "\\begin{bmatrix}\n",
    "300 & 360 & 420\\\\\n",
    "660 & 810 & 960\n",
    "\\end{bmatrix}\n",
    "$"
   ]
  },
  {
   "cell_type": "markdown",
   "id": "b4d4dde2",
   "metadata": {},
   "source": [
    "Lets check this result by looking at just one element. Lets construct the top middle element by hand. \n",
    "\n",
    "Remeber we are looking to calculate the element that is in the first row and the second column \n",
    "\n",
    "So that is $10 \\times 2$ + $20 \\times 5$ + $30 \\times 8$"
   ]
  },
  {
   "cell_type": "code",
   "execution_count": 79,
   "id": "33613c9e",
   "metadata": {},
   "outputs": [
    {
     "data": {
      "text/plain": [
       "360"
      ]
     },
     "execution_count": 79,
     "metadata": {},
     "output_type": "execute_result"
    }
   ],
   "source": [
    "# this is the code\n",
    "10*2 + 20*5 + 30*8"
   ]
  },
  {
   "cell_type": "code",
   "execution_count": 82,
   "id": "cc1b851a",
   "metadata": {},
   "outputs": [
    {
     "data": {
      "text/plain": [
       "360"
      ]
     },
     "execution_count": 82,
     "metadata": {},
     "output_type": "execute_result"
    }
   ],
   "source": [
    "# accessing the desired element\n",
    "E[0,1]"
   ]
  },
  {
   "cell_type": "markdown",
   "id": "9afd55c2",
   "metadata": {},
   "source": [
    "And there we are, we have just succesfully multiplied a matrix by a matrix! I understand how it works now!!!\n",
    "\n",
    "Now remember we can only multiply a matrix by a matrix if the number of columns in the first matrix matches the number of rows in the second matrix. Here we have times a matrix of 2X3 with a matrix that is 3X3 so it works!!! If the columns and rows did not match this would not work.\n",
    "\n",
    "\n",
    "The fact that matrix multiplcation works like this means that it it **NOT** **'commutative'** meaning that $QR$ does not equal $RQ$\n",
    "\n",
    "In fact $QR$ and $RQ$ are only both defined if $Q$ has a size of $m \\times n$ and $R$ has a size $n \\times m$. Lets look at an example where both are defined amd show that generally that doesn't necessarly mean that they are equal"
   ]
  },
  {
   "cell_type": "code",
   "execution_count": 84,
   "id": "ba0c68c3",
   "metadata": {},
   "outputs": [
    {
     "data": {
      "text/plain": [
       "array([[400, 130],\n",
       "       [940, 310]])"
      ]
     },
     "execution_count": 84,
     "metadata": {},
     "output_type": "execute_result"
    }
   ],
   "source": [
    "F = np.array([\n",
    "        [5,2],\n",
    "        [4,1],\n",
    "        [9,3]\n",
    "    ])\n",
    "A.dot(F)"
   ]
  },
  {
   "cell_type": "code",
   "execution_count": 86,
   "id": "82f22e71",
   "metadata": {},
   "outputs": [
    {
     "data": {
      "text/plain": [
       "array([[130, 200, 270],\n",
       "       [ 80, 130, 180],\n",
       "       [210, 330, 450]])"
      ]
     },
     "execution_count": 86,
     "metadata": {},
     "output_type": "execute_result"
    }
   ],
   "source": [
    "F.dot(A)"
   ]
  },
  {
   "cell_type": "markdown",
   "id": "2b6885d7",
   "metadata": {},
   "source": [
    "Here we have an array is 2X3 and another is 3X2, so the number of columns in the first matrix had to equal the number of rows in the second. \n",
    "\n",
    "Now lets switch it round, we have a matrix of 3X2 and the other being 2X3. So the number of columns in the first matrix equals the number of rows in the second. YET we get drastically differnt results. This proves that matrix multiplication is not **'commutative'**.\n",
    "\n",
    "On the other hand matrix multiplication is **'associative'**, meaning that $Q(RS) = (QR)S. Let's create a 4X5 matrix names G to illustrate this."
   ]
  },
  {
   "cell_type": "code",
   "execution_count": 97,
   "id": "337a4c21",
   "metadata": {},
   "outputs": [
    {
     "data": {
      "text/plain": [
       "array([[21640, 28390, 27320, 31140, 13570],\n",
       "       [47290, 62080, 60020, 68580, 29500]])"
      ]
     },
     "execution_count": 97,
     "metadata": {},
     "output_type": "execute_result"
    }
   ],
   "source": [
    "# creating a D to match the book\n",
    "D = np.array([\n",
    "        [ 2,  3,  5,  7],\n",
    "        [11, 13, 17, 19],\n",
    "        [23, 29, 31, 37]\n",
    "    ])\n",
    "# creating G like the book\n",
    "G = np.array([\n",
    "        [8,  7,  4,  2,  5],\n",
    "        [2,  5,  1,  0,  5],\n",
    "        [9, 11, 17, 21,  0],\n",
    "        [0,  1,  0,  1,  2]])\n",
    "\n",
    "# (AD)G\n",
    "A.dot(D).dot(G)"
   ]
  },
  {
   "cell_type": "code",
   "execution_count": 99,
   "id": "992e8cdf",
   "metadata": {},
   "outputs": [
    {
     "data": {
      "text/plain": [
       "array([[21640, 28390, 27320, 31140, 13570],\n",
       "       [47290, 62080, 60020, 68580, 29500]])"
      ]
     },
     "execution_count": 99,
     "metadata": {},
     "output_type": "execute_result"
    }
   ],
   "source": [
    "A.dot(D.dot(G))"
   ]
  },
  {
   "cell_type": "markdown",
   "id": "846100b6",
   "metadata": {},
   "source": [
    "Here we can see that these are the same. \n",
    "\n",
    "As well as **'associative'** matrix multiplication is also **'distributive'** over addition of matrices, meansing that $(Q+R)S = QS + RS$ For example"
   ]
  },
  {
   "cell_type": "code",
   "execution_count": 103,
   "id": "c881fc5e",
   "metadata": {},
   "outputs": [
    {
     "data": {
      "text/plain": [
       "array([[1023, 1276, 1452, 1716],\n",
       "       [2211, 2761, 3201, 3795]])"
      ]
     },
     "execution_count": 103,
     "metadata": {},
     "output_type": "execute_result"
    }
   ],
   "source": [
    "# creating another B to match the book\n",
    "B = np.array([[1,2,3], [4, 5, 6]])\n",
    "\n",
    "# proving that matrix multiplcation is distributive\n",
    "(A+B).dot(D)"
   ]
  },
  {
   "cell_type": "code",
   "execution_count": 105,
   "id": "583f925b",
   "metadata": {},
   "outputs": [
    {
     "data": {
      "text/plain": [
       "array([[1023, 1276, 1452, 1716],\n",
       "       [2211, 2761, 3201, 3795]])"
      ]
     },
     "execution_count": 105,
     "metadata": {},
     "output_type": "execute_result"
    }
   ],
   "source": [
    "# proving that matrix multiplication is distributive\n",
    "A.dot(D) + B.dot(D)"
   ]
  },
  {
   "cell_type": "markdown",
   "id": "5350154a",
   "metadata": {},
   "source": [
    "The product of matrix $M$ by the identity matrix (of matching sizes) reutnrs the same matrix $M$. More formally if $M is an m \\times n$ matrix then...\n",
    "\n",
    "$MI_n = I_m M = M$\n",
    "\n",
    "This is generally written as such (when the size of the identity matrix is unambigous given the context)\n",
    "\n",
    "For example"
   ]
  },
  {
   "cell_type": "code",
   "execution_count": 107,
   "id": "8cd4e949",
   "metadata": {},
   "outputs": [
    {
     "data": {
      "text/plain": [
       "array([[10., 20., 30.],\n",
       "       [40., 50., 60.]])"
      ]
     },
     "execution_count": 107,
     "metadata": {},
     "output_type": "execute_result"
    }
   ],
   "source": [
    "A.dot(np.eye(3))"
   ]
  },
  {
   "cell_type": "code",
   "execution_count": 110,
   "id": "9ef5c1b3",
   "metadata": {},
   "outputs": [
    {
     "data": {
      "text/plain": [
       "array([[10., 20., 30.],\n",
       "       [40., 50., 60.]])"
      ]
     },
     "execution_count": 110,
     "metadata": {},
     "output_type": "execute_result"
    }
   ],
   "source": [
    "np.eye(2).dot(A)"
   ]
  },
  {
   "cell_type": "markdown",
   "id": "8f4f40c7",
   "metadata": {},
   "source": [
    "Caution !!!!! NumPys * operator performs elementwise multiplication NOT matrix multiplcation so don't get caught out. "
   ]
  },
  {
   "cell_type": "code",
   "execution_count": 112,
   "id": "32921b1f",
   "metadata": {},
   "outputs": [
    {
     "data": {
      "text/plain": [
       "array([[ 10,  40,  90],\n",
       "       [160, 250, 360]])"
      ]
     },
     "execution_count": 112,
     "metadata": {},
     "output_type": "execute_result"
    }
   ],
   "source": [
    "A * B # NOT matrix multiplication"
   ]
  }
 ],
 "metadata": {
  "kernelspec": {
   "display_name": "Python 3 (ipykernel)",
   "language": "python",
   "name": "python3"
  },
  "language_info": {
   "codemirror_mode": {
    "name": "ipython",
    "version": 3
   },
   "file_extension": ".py",
   "mimetype": "text/x-python",
   "name": "python",
   "nbconvert_exporter": "python",
   "pygments_lexer": "ipython3",
   "version": "3.10.4"
  }
 },
 "nbformat": 4,
 "nbformat_minor": 5
}
