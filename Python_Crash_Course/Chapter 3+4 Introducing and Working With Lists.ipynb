{
 "cells": [
  {
   "cell_type": "code",
   "execution_count": 3,
   "id": "8aeedf8e",
   "metadata": {},
   "outputs": [
    {
     "name": "stdout",
     "output_type": "stream",
     "text": [
      "['Apple', 'Microsoft', 'Dell', 'Razer']\n",
      "Apple\n",
      "Microsoft\n",
      "Razer\n"
     ]
    }
   ],
   "source": [
    "computer_companies = [\"Apple\", \"Microsoft\", \"Dell\", \"Razer\"]\n",
    "\n",
    "print(computer_companies)\n",
    "print(computer_companies[0])\n",
    "print(computer_companies[1])\n",
    "print(computer_companies[3])"
   ]
  },
  {
   "cell_type": "code",
   "execution_count": 2,
   "id": "3558526c",
   "metadata": {},
   "outputs": [
    {
     "name": "stdout",
     "output_type": "stream",
     "text": [
      "Apple\n",
      "Nvidia\n"
     ]
    }
   ],
   "source": [
    "computer_companies = [\"Apple\", \"Microsoft\", \"Dell\", \"Razer\", \"Nvidia\"]\n",
    "\n",
    "computer_companies[0].lower\n",
    "print(computer_companies[0].title())\n",
    "print(computer_companies[-1])"
   ]
  },
  {
   "cell_type": "markdown",
   "id": "586cec62",
   "metadata": {},
   "source": [
    "> We can put anything in a list, not just numbers. We can print a whole list, but this isnt what we want to show the user. We can also print specific elements in the list. REMEBER it starts with 0. The position in a list in which an element is in is called and index.\n",
    "\n",
    "> We can edit elements using the lower and title methods like we used before\n",
    "\n",
    "> [-1] means the last element in the list, this is a special python syntax for acessing the last element in the list, this also works for [-2] and [-3] and so on. This is really helpful when acessing the last element in a list when we don't know how long the list will be."
   ]
  },
  {
   "cell_type": "code",
   "execution_count": 4,
   "id": "3a2c429c",
   "metadata": {},
   "outputs": [
    {
     "name": "stdout",
     "output_type": "stream",
     "text": [
      "My first laptop from was Apple.\n"
     ]
    }
   ],
   "source": [
    "computer_companies = [\"Apple\", \"Microsoft\", \"Dell\", \"Razer\", \"Nvidia\"]\n",
    "\n",
    "message = (f'My first laptop from was {computer_companies[0]}.')\n",
    "\n",
    "print(message)"
   ]
  },
  {
   "cell_type": "markdown",
   "id": "e404297b",
   "metadata": {},
   "source": [
    "> We can use f strings with elements in a list just like we would any variable "
   ]
  },
  {
   "cell_type": "markdown",
   "id": "8b14b968",
   "metadata": {},
   "source": [
    "### Tasks"
   ]
  },
  {
   "cell_type": "code",
   "execution_count": 5,
   "id": "7b5090a1",
   "metadata": {},
   "outputs": [
    {
     "name": "stdout",
     "output_type": "stream",
     "text": [
      "Charlie\n",
      "Ben\n",
      "Tom\n",
      "Angus\n"
     ]
    }
   ],
   "source": [
    "friends = \"Charlie\", \"Ben\", \"Tom\", \"Angus\"\n",
    "\n",
    "print(friends[0])\n",
    "print(friends[1])\n",
    "print(friends[2])\n",
    "print(friends[3])"
   ]
  },
  {
   "cell_type": "code",
   "execution_count": 6,
   "id": "511e5bf9",
   "metadata": {},
   "outputs": [
    {
     "name": "stdout",
     "output_type": "stream",
     "text": [
      "Hello Charlie this is my coding exercise and I am writing a message to you.\n"
     ]
    }
   ],
   "source": [
    "friends = \"Charlie\", \"Ben\", \"Tom\", \"Angus\"\n",
    "\n",
    "message = (f'Hello {friends[0]} this is my coding exercise and I am writing a message to you.')\n",
    "\n",
    "print(message)"
   ]
  },
  {
   "cell_type": "code",
   "execution_count": 8,
   "id": "d3e69a3c",
   "metadata": {},
   "outputs": [
    {
     "name": "stdout",
     "output_type": "stream",
     "text": [
      "I am looking to buy a new laptop, after some research I have decided I want a Apple laptop because it will work the best for me.\n"
     ]
    }
   ],
   "source": [
    "computer_companies = [\"Apple\", \"Microsoft\", \"Dell\", \"Razer\", \"Nvidia\"]\n",
    "\n",
    "what_to_buy = (f'I am looking to buy a new laptop, after some research I have decided I want a {computer_companies[0]} laptop because it will work the best for me.')\n",
    "\n",
    "print(what_to_buy)"
   ]
  },
  {
   "cell_type": "markdown",
   "id": "e80a3ed0",
   "metadata": {},
   "source": [
    "### Editing Elements In A List"
   ]
  },
  {
   "cell_type": "code",
   "execution_count": 9,
   "id": "ad65fcee",
   "metadata": {},
   "outputs": [
    {
     "name": "stdout",
     "output_type": "stream",
     "text": [
      "['Apple', 'Microsoft', 'Dell', 'Razer', 'Nvidia']\n",
      "['Apple', 'Microsoft', 'AMD', 'Razer', 'Nvidia']\n"
     ]
    }
   ],
   "source": [
    "computer_companies = [\"Apple\", \"Microsoft\", \"Dell\", \"Razer\", \"Nvidia\"]\n",
    "print(computer_companies)\n",
    "\n",
    "computer_companies[2] = \"AMD\"\n",
    "print(computer_companies)"
   ]
  },
  {
   "cell_type": "markdown",
   "id": "24b48c5a",
   "metadata": {},
   "source": [
    "> Here we are assigning AMD over Dell as the 3rd element in the list, remeber that a list starts with 0. "
   ]
  },
  {
   "cell_type": "code",
   "execution_count": 10,
   "id": "b512289f",
   "metadata": {},
   "outputs": [
    {
     "name": "stdout",
     "output_type": "stream",
     "text": [
      "['Apple', 'Dell', 'AMD']\n"
     ]
    }
   ],
   "source": [
    "computer_companies = []\n",
    "\n",
    "computer_companies.append(\"Apple\")\n",
    "computer_companies.append(\"Dell\")\n",
    "computer_companies.append(\"AMD\")\n",
    "\n",
    "print(computer_companies)"
   ]
  },
  {
   "cell_type": "markdown",
   "id": "f11efd4e",
   "metadata": {},
   "source": [
    "> We can append things to an empty list as well "
   ]
  },
  {
   "cell_type": "code",
   "execution_count": 11,
   "id": "9508d5f0",
   "metadata": {},
   "outputs": [
    {
     "name": "stdout",
     "output_type": "stream",
     "text": [
      "['AMD', 'Apple', 'Microsoft', 'Dell', 'Razer', 'Nvidia']\n"
     ]
    }
   ],
   "source": [
    "computer_companies = [\"Apple\", \"Microsoft\", \"Dell\", \"Razer\", \"Nvidia\"]\n",
    "\n",
    "computer_companies.insert(0, \"AMD\")\n",
    "\n",
    "print(computer_companies)"
   ]
  },
  {
   "cell_type": "markdown",
   "id": "2b5c361a",
   "metadata": {},
   "source": [
    "> Here we are using the 'insert' function to assign the element into a specific index in the list. "
   ]
  },
  {
   "cell_type": "code",
   "execution_count": 12,
   "id": "b9883e74",
   "metadata": {},
   "outputs": [
    {
     "name": "stdout",
     "output_type": "stream",
     "text": [
      "['Apple', 'Dell', 'Razer']\n"
     ]
    }
   ],
   "source": [
    "computer_companies = [\"Apple\", \"Microsoft\", \"Dell\", \"Razer\", \"Nvidia\"]\n",
    "\n",
    "del computer_companies[1]\n",
    "\n",
    "# Now the list will shrink so we cannot use 4 to look for nivida, we can use [-1] or 3, as the end of the list will shrink to 3. \n",
    "\n",
    "del computer_companies[3]\n",
    "\n",
    "print(computer_companies)"
   ]
  },
  {
   "cell_type": "markdown",
   "id": "43d6121f",
   "metadata": {},
   "source": [
    "> Here we are using the del statement to remove a specific element from the list when we KNOW its index in the list.  We cannot do this if we do not know where the element is placed inside the list. Once we use the del statement, we can no longer work with it anymore, if we want to remove it from a list but still be able to work with it we must use the pop() function. "
   ]
  },
  {
   "cell_type": "code",
   "execution_count": 13,
   "id": "ba87293b",
   "metadata": {},
   "outputs": [
    {
     "name": "stdout",
     "output_type": "stream",
     "text": [
      "['Apple', 'Microsoft', 'Dell', 'Razer']\n",
      "Nvidia\n"
     ]
    }
   ],
   "source": [
    "computer_companies = [\"Apple\", \"Microsoft\", \"Dell\", \"Razer\", \"Nvidia\"]\n",
    "\n",
    "popped_computers = computer_companies.pop()\n",
    "\n",
    "print(computer_companies)\n",
    "print(popped_computers)"
   ]
  },
  {
   "cell_type": "markdown",
   "id": "3763edd5",
   "metadata": {},
   "source": [
    "> The pop() function removes the last element from a list, and allows us to work with it afterwards. "
   ]
  },
  {
   "cell_type": "code",
   "execution_count": 14,
   "id": "2b2f8f63",
   "metadata": {},
   "outputs": [
    {
     "name": "stdout",
     "output_type": "stream",
     "text": [
      "The first laptop I owned was an Apple laptop, I got it in 2015 but it broke so I now use an iPad.\n"
     ]
    }
   ],
   "source": [
    "computer_companies = [\"Microsoft\", \"Dell\", \"Razer\", \"Nvidia\", \"Apple\"]\n",
    "\n",
    "popped_computer_companies = (f'The first laptop I owned was an {computer_companies.pop()} laptop, I got it in 2015 but it broke so I now use an iPad.')\n",
    "\n",
    "print(popped_computer_companies)"
   ]
  },
  {
   "cell_type": "markdown",
   "id": "d9a28e89",
   "metadata": {},
   "source": [
    "> Note that when we use pop() it removes the item from the list and places it in the first f string we use, so we cannot repeat it, I orignially used {computer_companies.pop()} before iPad, expecting \"Apple iPad\" but the code returned Nvidea iPad as it had popped Nvida and stuck it there becuase Apple had been used already. \n"
   ]
  },
  {
   "cell_type": "code",
   "execution_count": 15,
   "id": "ff44efe2",
   "metadata": {},
   "outputs": [
    {
     "name": "stdout",
     "output_type": "stream",
     "text": [
      "['Apple', 'Dell', 'Razer', 'Nvidia']\n",
      "Microsoft\n"
     ]
    }
   ],
   "source": [
    "computer_companies = [\"Apple\", \"Microsoft\", \"Dell\", \"Razer\", \"Nvidia\"]\n",
    "\n",
    "computer_companies_pop = computer_companies.pop(1)\n",
    "\n",
    "print(computer_companies)\n",
    "print(computer_companies_pop)"
   ]
  },
  {
   "cell_type": "markdown",
   "id": "0e6ded8d",
   "metadata": {},
   "source": [
    "> We can use pop() and insert the index of the element in the list, again we must know the position, like del"
   ]
  },
  {
   "cell_type": "code",
   "execution_count": 16,
   "id": "5987288d",
   "metadata": {},
   "outputs": [
    {
     "name": "stdout",
     "output_type": "stream",
     "text": [
      "I have decided to remove Razer from the list of choices, as they are primarily used for gaming\n",
      "Here is the list of laptops I can buy from for univeristy ['Apple', 'Microsoft', 'Dell', 'Nvidia']\n"
     ]
    }
   ],
   "source": [
    "computer_companies = [\"Apple\", \"Microsoft\", \"Dell\", \"Razer\", \"Nvidia\"]\n",
    "gaming_laptop = \"Razer\"\n",
    "\n",
    "computer_companies.remove(gaming_laptop)\n",
    "\n",
    "print(f'I have decided to remove {gaming_laptop} from the list of choices, as they are primarily used for gaming')\n",
    "print(f'Here is the list of laptops I can buy from for univeristy {computer_companies}')"
   ]
  },
  {
   "cell_type": "markdown",
   "id": "d45a400f",
   "metadata": {},
   "source": [
    "> We can use the remove() function to delete an element from the list when we don't know where it is positioned. Like pop() we can work with the element after we have removed it.\n",
    "\n",
    "> So we have delete, pop and remove. All take items from a list, del gets rid of it, pop and remove store it for it to be used after."
   ]
  },
  {
   "cell_type": "markdown",
   "id": "64fba249",
   "metadata": {},
   "source": [
    "### Tasks"
   ]
  },
  {
   "cell_type": "code",
   "execution_count": 20,
   "id": "e60ccf81",
   "metadata": {},
   "outputs": [
    {
     "name": "stdout",
     "output_type": "stream",
     "text": [
      " Hello Alan I would like to invite you to dinner.\n",
      " Hello Elon I would like to invite you to dinner.\n",
      " Hello Dennis I would like to invite you to dinner.\n"
     ]
    }
   ],
   "source": [
    "dinner_invite = [\"Alan\", \"Elon\", \"Dennis\"]\n",
    "\n",
    "invitation1 = (f' Hello {dinner_invite[0]} I would like to invite you to dinner.')\n",
    "invitation2 = (f' Hello {dinner_invite[1]} I would like to invite you to dinner.')\n",
    "invitation3 = (f' Hello {dinner_invite[2]} I would like to invite you to dinner.')\n",
    "\n",
    "print(invitation1)\n",
    "print(invitation2)\n",
    "print(invitation3)"
   ]
  },
  {
   "cell_type": "code",
   "execution_count": 19,
   "id": "e1dc833e",
   "metadata": {},
   "outputs": [
    {
     "name": "stdout",
     "output_type": "stream",
     "text": [
      "['Alan', 'Dennis', 'Steve']\n",
      " Hello Alan I would like to invite you to dinner.\n",
      " Hello Dennis I would like to invite you to dinner.\n",
      " Hello Steve I would like to invite you to dinner.\n"
     ]
    }
   ],
   "source": [
    "dinner_invite = [\"Alan\", \"Elon\", \"Dennis\"]\n",
    "\n",
    "# Elon has said he can not make it!\n",
    "\n",
    "cannot_come = dinner_invite.pop(1)\n",
    "\n",
    "dinner_invite.append(\"Steve\")\n",
    "\n",
    "# We shall invite Steve Jobs instead \n",
    "\n",
    "print(dinner_invite)\n",
    "\n",
    "invitation1 = (f' Hello {dinner_invite[0]} I would like to invite you to dinner.')\n",
    "invitation2 = (f' Hello {dinner_invite[1]} I would like to invite you to dinner.')\n",
    "invitation3 = (f' Hello {dinner_invite[2]} I would like to invite you to dinner.')\n",
    "\n",
    "print(invitation1)\n",
    "print(invitation2)\n",
    "print(invitation3)"
   ]
  },
  {
   "cell_type": "code",
   "execution_count": 18,
   "id": "daa0be39",
   "metadata": {},
   "outputs": [
    {
     "name": "stdout",
     "output_type": "stream",
     "text": [
      "['Tim', 'Alan', 'McGowan', 'Elon', 'Dennis', 'Padders']\n",
      " Hello Tim I would like to invite you to dinner.\n",
      " Hello Alan I would like to invite you to dinner.\n",
      " Hello McGowan I would like to invite you to dinner.\n",
      " Hello Elon I would like to invite you to dinner.\n",
      " Hello Dennis I would like to invite you to dinner.\n",
      " Hello Padders I would like to invite you to dinner.\n"
     ]
    }
   ],
   "source": [
    "dinner_invite = [\"Alan\", \"Elon\", \"Dennis\"]\n",
    "\n",
    "# We have found a bigger table, so we can add more people to our invite list. \n",
    "\n",
    "dinner_invite.insert(0, \"Tim\")\n",
    "# Inserting a new invite at the start of the list \n",
    "\n",
    "dinner_invite.insert(2, \"McGowan\")\n",
    "dinner_invite.append(\"Padders\")\n",
    "\n",
    "print(dinner_invite)\n",
    "\n",
    "invitation1 = (f' Hello {dinner_invite[0]} I would like to invite you to dinner.')\n",
    "invitation2 = (f' Hello {dinner_invite[1]} I would like to invite you to dinner.')\n",
    "invitation3 = (f' Hello {dinner_invite[2]} I would like to invite you to dinner.')\n",
    "invitation4 = (f' Hello {dinner_invite[3]} I would like to invite you to dinner.')\n",
    "invitation5 = (f' Hello {dinner_invite[4]} I would like to invite you to dinner.')\n",
    "invitation6 = (f' Hello {dinner_invite[5]} I would like to invite you to dinner.')\n",
    "\n",
    "\n",
    "print(invitation1)\n",
    "print(invitation2)\n",
    "print(invitation3)\n",
    "print(invitation4)\n",
    "print(invitation5)\n",
    "print(invitation6)"
   ]
  },
  {
   "cell_type": "code",
   "execution_count": 17,
   "id": "a14b749f",
   "metadata": {},
   "outputs": [
    {
     "name": "stdout",
     "output_type": "stream",
     "text": [
      "Sorry Alan, but we have run out of space, I will see you another time.\n",
      "Sorry Elon, but we have run out of space, I will see you another time.\n",
      "Sorry Padders, but we have run out of space, I will see you another time.\n",
      "Hello Tim see you at 8\n",
      "Hello McGowan see you at 8\n",
      "Hello Dennis see you at 8\n",
      "[]\n"
     ]
    }
   ],
   "source": [
    "dinner_invite = ['Tim', 'Alan', 'McGowan', 'Elon', 'Dennis', 'Padders']\n",
    "removed_invite1 = dinner_invite.pop(1)\n",
    "removed_invite2 = dinner_invite.pop(2)\n",
    "removed_invite3 = dinner_invite.pop()\n",
    "# No number as its the last element in the list\n",
    "\n",
    "# We now only have space for 2, so need to remove people\n",
    "\n",
    "print(f'Sorry {removed_invite1}, but we have run out of space, I will see you another time.')\n",
    "print(f'Sorry {removed_invite2}, but we have run out of space, I will see you another time.')\n",
    "print(f'Sorry {removed_invite3}, but we have run out of space, I will see you another time.')\n",
    "\n",
    "print(f'Hello {dinner_invite[0]} see you at 8')\n",
    "print(f'Hello {dinner_invite[1]} see you at 8')\n",
    "print(f'Hello {dinner_invite[2]} see you at 8')\n",
    "\n",
    "\n",
    "del dinner_invite[0]\n",
    "del dinner_invite[0]\n",
    "del dinner_invite[0]\n",
    "# del is a function so there is no _ or . just a space\n",
    "\n",
    "# Proving the list is empty\n",
    "print(dinner_invite)"
   ]
  },
  {
   "cell_type": "markdown",
   "id": "d9ac7c6e",
   "metadata": {},
   "source": [
    "### Organising A List"
   ]
  },
  {
   "cell_type": "code",
   "execution_count": 21,
   "id": "13e3604a",
   "metadata": {},
   "outputs": [
    {
     "name": "stdout",
     "output_type": "stream",
     "text": [
      "['audi', 'bmw', 'dodge', 'ford', 'tesla']\n"
     ]
    }
   ],
   "source": [
    "cars = [\"tesla\", \"bmw\", \"audi\", \"ford\", \"dodge\"]\n",
    "\n",
    "cars.sort()\n",
    "\n",
    "print(cars)"
   ]
  },
  {
   "cell_type": "markdown",
   "id": "5d9498e3",
   "metadata": {},
   "source": [
    "> Here we are using the sort() method, this allows us to sort the list alphabetically, this will be permanent so we cannot go back to the original list. Note that all the letters are in lower case."
   ]
  },
  {
   "cell_type": "code",
   "execution_count": 22,
   "id": "d43730d0",
   "metadata": {},
   "outputs": [
    {
     "name": "stdout",
     "output_type": "stream",
     "text": [
      "['tesla', 'ford', 'dodge', 'bmw', 'audi']\n"
     ]
    }
   ],
   "source": [
    "cars = [\"tesla\", \"bmw\", \"audi\", \"ford\", \"dodge\"]\n",
    "\n",
    "cars.sort(reverse=True)\n",
    "\n",
    "print(cars)"
   ]
  },
  {
   "cell_type": "markdown",
   "id": "554445ee",
   "metadata": {},
   "source": [
    "> We have set reverse to be True, in the parenthesis of the function, again this is a permanent change, so we cannot go back to the list we had before. "
   ]
  },
  {
   "cell_type": "code",
   "execution_count": 23,
   "id": "9c6f376d",
   "metadata": {},
   "outputs": [
    {
     "name": "stdout",
     "output_type": "stream",
     "text": [
      "['tesla', 'bmw', 'audi', 'ford', 'dodge']\n",
      "['audi', 'bmw', 'dodge', 'ford', 'tesla']\n",
      "['tesla', 'ford', 'dodge', 'bmw', 'audi']\n",
      "['tesla', 'bmw', 'audi', 'ford', 'dodge']\n"
     ]
    }
   ],
   "source": [
    "cars = [\"tesla\", \"bmw\", \"audi\", \"ford\", \"dodge\"]\n",
    "\n",
    "print(cars)\n",
    "# Original List\n",
    "\n",
    "print(sorted(cars))\n",
    "# Using the sorted() function\n",
    "\n",
    "print(sorted(cars, reverse=True))\n",
    "# Using the reverse=True argument in the sorted function, like the sort function.\n",
    "\n",
    "print(cars)"
   ]
  },
  {
   "cell_type": "markdown",
   "id": "91e93439",
   "metadata": {},
   "source": [
    "> Here we use the sorted() method, this method is a way of \"presenting\" the data of the list to the user in an organised list, but it holds the original as displayed on the code above. Sorted() also accepts the reverse=True argument in which we have the variable first, then we place the reverse arugment after, seperated by a comma.\n",
    "\n",
    "> Note the sort() and the sorted() function are very similar, so make sure we know one is permanent, the other isn't."
   ]
  },
  {
   "cell_type": "code",
   "execution_count": 24,
   "id": "bf56f9b5",
   "metadata": {},
   "outputs": [
    {
     "name": "stdout",
     "output_type": "stream",
     "text": [
      "['tesla', 'bmw', 'audi', 'ford', 'dodge']\n",
      "['dodge', 'ford', 'audi', 'bmw', 'tesla']\n"
     ]
    }
   ],
   "source": [
    "cars = [\"tesla\", \"bmw\", \"audi\", \"ford\", \"dodge\"]\n",
    "\n",
    "print(cars)\n",
    "\n",
    "cars.reverse()\n",
    "# Reversing the list, this is not alphabetical, just a switch around and in PERMANENT\n",
    "print(cars)"
   ]
  },
  {
   "cell_type": "markdown",
   "id": "cfff8366",
   "metadata": {},
   "source": [
    "> We are using the reverse function to swap the list round, reverse() is a permenant change, but we can always change it back by hitting it with another reverse function again. "
   ]
  },
  {
   "cell_type": "code",
   "execution_count": 25,
   "id": "99526643",
   "metadata": {},
   "outputs": [
    {
     "data": {
      "text/plain": [
       "5"
      ]
     },
     "execution_count": 25,
     "metadata": {},
     "output_type": "execute_result"
    }
   ],
   "source": [
    "cars = [\"tesla\", \"bmw\", \"audi\", \"ford\", \"dodge\"]\n",
    "\n",
    "len(cars)"
   ]
  },
  {
   "cell_type": "markdown",
   "id": "4d582499",
   "metadata": {},
   "source": [
    "> Here the len() function allows us to find the length of the list, this is handy when looking at how much data we need to manage and visualise, or figuring out the number of users on a website"
   ]
  },
  {
   "cell_type": "markdown",
   "id": "32f33fb8",
   "metadata": {},
   "source": [
    "### Tasks"
   ]
  },
  {
   "cell_type": "code",
   "execution_count": 26,
   "id": "0d203b43",
   "metadata": {},
   "outputs": [
    {
     "name": "stdout",
     "output_type": "stream",
     "text": [
      "['switzerland', 'usa', 'canada', 'australia', 'japan']\n",
      "['australia', 'canada', 'japan', 'switzerland', 'usa']\n",
      "['usa', 'switzerland', 'japan', 'canada', 'australia']\n",
      "['switzerland', 'usa', 'canada', 'australia', 'japan']\n",
      "['japan', 'australia', 'canada', 'usa', 'switzerland']\n",
      "['switzerland', 'usa', 'canada', 'australia', 'japan']\n",
      "['australia', 'canada', 'japan', 'switzerland', 'usa']\n",
      "['usa', 'switzerland', 'japan', 'canada', 'australia']\n"
     ]
    }
   ],
   "source": [
    "places_to_visit = [\"switzerland\", \"usa\", \"canada\", \"australia\", \"japan\"]\n",
    "\n",
    "print(places_to_visit)\n",
    "# Printing original list\n",
    "\n",
    "print(sorted(places_to_visit))\n",
    "# Displaying the list alphabetically\n",
    "\n",
    "print(sorted(places_to_visit, reverse=True))\n",
    "# Reversing the display of the list \n",
    "\n",
    "print(places_to_visit)\n",
    "# Showing the original order of the list is still intact\n",
    "\n",
    "places_to_visit.reverse()\n",
    "print(places_to_visit)\n",
    "# Reversing the list, altering it permenantly\n",
    "\n",
    "places_to_visit.reverse()\n",
    "print(places_to_visit)\n",
    "# Swapping the list back to the original order\n",
    "\n",
    "places_to_visit.sort()\n",
    "print(places_to_visit)\n",
    "# Using the sort function to change the order of the list\n",
    "\n",
    "places_to_visit.sort(reverse=True)\n",
    "print(places_to_visit)\n",
    "# Reversing argument on the sort function"
   ]
  },
  {
   "cell_type": "code",
   "execution_count": 27,
   "id": "953fadbb",
   "metadata": {},
   "outputs": [
    {
     "data": {
      "text/plain": [
       "6"
      ]
     },
     "execution_count": 27,
     "metadata": {},
     "output_type": "execute_result"
    }
   ],
   "source": [
    "dinner_invite = ['Tim', 'Alan', 'McGowan', 'Elon', 'Dennis', 'Padders']\n",
    "\n",
    "len(dinner_invite)\n",
    "# Getting the length of the list "
   ]
  },
  {
   "cell_type": "code",
   "execution_count": 28,
   "id": "f4eb4778",
   "metadata": {},
   "outputs": [
    {
     "name": "stdout",
     "output_type": "stream",
     "text": [
      "7\n",
      "['apple', 'dell', 'razor', 'hp', 'microsoft', 'google', 'philips']\n",
      "['apple', 'dell', 'google', 'hp', 'microsoft', 'philips', 'razor']\n",
      "['razor', 'philips', 'microsoft', 'hp', 'google', 'dell', 'apple']\n",
      "['apple', 'dell', 'razor', 'hp', 'microsoft', 'google', 'philips']\n",
      "['philips', 'google', 'microsoft', 'hp', 'razor', 'dell', 'apple']\n",
      "['apple', 'dell', 'razor', 'hp', 'microsoft', 'google', 'philips']\n",
      "['apple', 'dell', 'google', 'hp', 'microsoft', 'philips', 'razor']\n"
     ]
    }
   ],
   "source": [
    "tech_companies = [\"apple\", \"dell\", \"razor\", \"hp\", \"microsoft\", \"google\", \"philips\"]\n",
    "\n",
    "print(len(tech_companies))\n",
    "# Length of the list\n",
    "\n",
    "print(tech_companies)\n",
    "# Original List\n",
    "\n",
    "print(sorted(tech_companies))\n",
    "print(sorted(tech_companies, reverse=True))\n",
    "# Sorted() function, and Sorted(reverse)\n",
    "print(tech_companies)\n",
    "# Proof of original list \n",
    "\n",
    "tech_companies.reverse()\n",
    "print(tech_companies)\n",
    "tech_companies.reverse()\n",
    "print(tech_companies)\n",
    "# Reversing actual list, then reverting it back to original \n",
    "\n",
    "tech_companies.sort()\n",
    "print(tech_companies)\n",
    "# Sorting original list "
   ]
  },
  {
   "cell_type": "markdown",
   "id": "1d8e73ca",
   "metadata": {},
   "source": [
    "### Take Aways\n",
    "\n",
    "- Lists can be altered using several functions \n",
    "- Sort() function alters permenantly \n",
    "- Reverse() function alters permenatly \n",
    "- Sorted() is a display to the user and doesnt alter the original list \n",
    "- Sorted() also can accept the reverse arugment, again it does not alter the original list\n",
    "- Len() shows us the length of the list where we are storing information\n"
   ]
  },
  {
   "cell_type": "markdown",
   "id": "c68cb1a1",
   "metadata": {},
   "source": [
    "### Avoiding Errors While Working With Lists"
   ]
  },
  {
   "cell_type": "code",
   "execution_count": 29,
   "id": "63d44138",
   "metadata": {},
   "outputs": [
    {
     "ename": "IndexError",
     "evalue": "list index out of range",
     "output_type": "error",
     "traceback": [
      "\u001b[0;31m---------------------------------------------------------------------------\u001b[0m",
      "\u001b[0;31mIndexError\u001b[0m                                Traceback (most recent call last)",
      "Input \u001b[0;32mIn [29]\u001b[0m, in \u001b[0;36m<cell line: 3>\u001b[0;34m()\u001b[0m\n\u001b[1;32m      1\u001b[0m computer_companies \u001b[38;5;241m=\u001b[39m [\u001b[38;5;124m\"\u001b[39m\u001b[38;5;124mApple\u001b[39m\u001b[38;5;124m\"\u001b[39m, \u001b[38;5;124m\"\u001b[39m\u001b[38;5;124mMicrosoft\u001b[39m\u001b[38;5;124m\"\u001b[39m, \u001b[38;5;124m\"\u001b[39m\u001b[38;5;124mDell\u001b[39m\u001b[38;5;124m\"\u001b[39m, \u001b[38;5;124m\"\u001b[39m\u001b[38;5;124mRazer\u001b[39m\u001b[38;5;124m\"\u001b[39m, \u001b[38;5;124m\"\u001b[39m\u001b[38;5;124mNvidia\u001b[39m\u001b[38;5;124m\"\u001b[39m]\n\u001b[0;32m----> 3\u001b[0m \u001b[38;5;28mprint\u001b[39m(\u001b[43mcomputer_companies\u001b[49m\u001b[43m[\u001b[49m\u001b[38;5;241;43m5\u001b[39;49m\u001b[43m]\u001b[49m)\n",
      "\u001b[0;31mIndexError\u001b[0m: list index out of range"
     ]
    }
   ],
   "source": [
    "computer_companies = [\"Apple\", \"Microsoft\", \"Dell\", \"Razer\", \"Nvidia\"]\n",
    "\n",
    "print(computer_companies[5])"
   ]
  },
  {
   "cell_type": "markdown",
   "id": "6d176d50",
   "metadata": {},
   "source": [
    "> One of the most common errors when working with lists in and \"index error\", this is when we ask Python to find an index in a list that it not there. In the example above, we have asked Python to look for index 5, but there is no index 5. This is an \"off by one error\" that the book has been talking about. \n",
    "\n",
    "> If we run into Index errors we cannot seem the fix, try printing the list off, it might look different to what we think it looks like."
   ]
  },
  {
   "cell_type": "code",
   "execution_count": 30,
   "id": "feccb66a",
   "metadata": {},
   "outputs": [
    {
     "name": "stdout",
     "output_type": "stream",
     "text": [
      "Nvidia\n"
     ]
    }
   ],
   "source": [
    "computer_companies = [\"Apple\", \"Microsoft\", \"Dell\", \"Razer\", \"Nvidia\"]\n",
    "\n",
    "print(computer_companies[-1])"
   ]
  },
  {
   "cell_type": "markdown",
   "id": "2404336c",
   "metadata": {},
   "source": [
    "> Instead we can use \"[-1]\" to acess the last element in the list no matter what size it is. "
   ]
  },
  {
   "cell_type": "markdown",
   "id": "e0439a2c",
   "metadata": {},
   "source": [
    "### Take Aways\n",
    "\n",
    "- Index errors often occur with lists \n",
    "- It is ususally because of the \"off by one\" rule \n",
    "- When we can't fix it, try printing the list off, as we might not know our list like we think we do"
   ]
  },
  {
   "cell_type": "markdown",
   "id": "d4caf3b4",
   "metadata": {},
   "source": [
    "### Working With Lists \n",
    "\n",
    "### For Loops"
   ]
  },
  {
   "cell_type": "code",
   "execution_count": 31,
   "id": "dbfce839",
   "metadata": {},
   "outputs": [
    {
     "name": "stdout",
     "output_type": "stream",
     "text": [
      "apple\n",
      "dell\n",
      "razor\n",
      "hp\n",
      "microsoft\n",
      "google\n",
      "philips\n"
     ]
    }
   ],
   "source": [
    "tech_companies = [\"apple\", \"dell\", \"razor\", \"hp\", \"microsoft\", \"google\", \"philips\"]\n",
    "\n",
    "for company in tech_companies:\n",
    "    print(company)"
   ]
  },
  {
   "cell_type": "markdown",
   "id": "6f28e339",
   "metadata": {},
   "source": [
    "> For each of the element in the list, python runs through the list and for every company, it enters the loop and prints off the company "
   ]
  },
  {
   "cell_type": "markdown",
   "id": "3dc8e477",
   "metadata": {},
   "source": [
    "tech_companies = [\"apple\", \"dell\", \"razor\", \"hp\", \"windows\", \"google\", \"philips\"]\n",
    "\n",
    "for company in tech_companies:\n",
    "This tells python to go into the list tech_companies and assign the first element to the variable company, python then reads the next line.\n",
    "\n",
    "print(company)\n",
    "This tells pythong to print the variable assigned to company, on the first run this will be \"apple\"\n",
    "Python, then goes into the list again and gets the second element \"dell\", and assigns that to the variable company then executes the line print(company)\n",
    "\n",
    "when all the elements in the list have been printed, python has gone back and checked to see if there is another element, it finds nothing so it will move onto the next line of code. Since there is nothing after this code, the cell will terminate"
   ]
  },
  {
   "cell_type": "code",
   "execution_count": 32,
   "id": "0fbed309",
   "metadata": {
    "scrolled": true
   },
   "outputs": [
    {
     "name": "stdout",
     "output_type": "stream",
     "text": [
      "Apple is a tech company that makes many products\n",
      " I look forward to seeing where Apple takes their products \n",
      "\n",
      "Dell is a tech company that makes many products\n",
      " I look forward to seeing where Dell takes their products \n",
      "\n",
      "Razor is a tech company that makes many products\n",
      " I look forward to seeing where Razor takes their products \n",
      "\n",
      "Hp is a tech company that makes many products\n",
      " I look forward to seeing where Hp takes their products \n",
      "\n"
     ]
    }
   ],
   "source": [
    "tech_companies = [\"apple\", \"dell\", \"razor\", \"hp\"]\n",
    "\n",
    "for company in tech_companies:\n",
    "    print(f'{company.title()} is a tech company that makes many products')\n",
    "    print(f' I look forward to seeing where {company.title()} takes their products \\n')"
   ]
  },
  {
   "cell_type": "markdown",
   "id": "6da0d1e4",
   "metadata": {},
   "source": [
    "> Every indent after the for loop will be run once each loop. It is also worth noting the inclusion of (\\n) to create new lines in the code"
   ]
  },
  {
   "cell_type": "markdown",
   "id": "ddf1bed9",
   "metadata": {},
   "source": [
    "### REMEBER if our code is not working out like we want it to, ensure we have : or () in the correct places. A common error of mine is that I forget to add : or () which means the code usually bugs."
   ]
  },
  {
   "cell_type": "code",
   "execution_count": 33,
   "id": "b4f62e7c",
   "metadata": {},
   "outputs": [
    {
     "name": "stdout",
     "output_type": "stream",
     "text": [
      "Apple is a tech company that makes many products\n",
      " I look forward to seeing where Apple takes their products \n",
      "\n",
      "Dell is a tech company that makes many products\n",
      " I look forward to seeing where Dell takes their products \n",
      "\n",
      "Razor is a tech company that makes many products\n",
      " I look forward to seeing where Razor takes their products \n",
      "\n",
      "Hp is a tech company that makes many products\n",
      " I look forward to seeing where Hp takes their products \n",
      "\n",
      "Although it must be said, I am most excited for Apple's products the most\n"
     ]
    }
   ],
   "source": [
    "tech_companies = [\"apple\", \"dell\", \"razor\", \"hp\"]\n",
    "\n",
    "for company in tech_companies:\n",
    "    print(f'{company.title()} is a tech company that makes many products')\n",
    "    print(f' I look forward to seeing where {company.title()} takes their products \\n')\n",
    "    \n",
    "print(\"Although it must be said, I am most excited for Apple's products the most\")"
   ]
  },
  {
   "cell_type": "markdown",
   "id": "dc4cd102",
   "metadata": {},
   "source": [
    "> Once the for loop is finishing running, it runs the next line of code which is usually a summarization of the code we have been running. This will only be printed or used once as it is outside the for loop (look at the indentation in the code cell)"
   ]
  },
  {
   "cell_type": "markdown",
   "id": "85df45ff",
   "metadata": {},
   "source": [
    "### Avoiding Indentation Errors "
   ]
  },
  {
   "cell_type": "code",
   "execution_count": 34,
   "id": "aa7ba283",
   "metadata": {},
   "outputs": [
    {
     "ename": "IndentationError",
     "evalue": "expected an indented block after 'for' statement on line 3 (4159255110.py, line 4)",
     "output_type": "error",
     "traceback": [
      "\u001b[0;36m  Input \u001b[0;32mIn [34]\u001b[0;36m\u001b[0m\n\u001b[0;31m    print(company)\u001b[0m\n\u001b[0m    ^\u001b[0m\n\u001b[0;31mIndentationError\u001b[0m\u001b[0;31m:\u001b[0m expected an indented block after 'for' statement on line 3\n"
     ]
    }
   ],
   "source": [
    "tech_companies = \"apple\", \"dell\", \"microsoft\"\n",
    "\n",
    "for company in tech_companies:\n",
    "print(company)"
   ]
  },
  {
   "cell_type": "markdown",
   "id": "0f834a88",
   "metadata": {},
   "source": [
    "> Python is expecting an indentation, when it doesn't get one it will throw an indendation error."
   ]
  },
  {
   "cell_type": "code",
   "execution_count": 35,
   "id": "d254857b",
   "metadata": {},
   "outputs": [
    {
     "name": "stdout",
     "output_type": "stream",
     "text": [
      "Apple makes some good products\n",
      "Dell makes some good products\n",
      "Microsoft makes some good products\n",
      "I think I am going to buy a product from Microsoft\n"
     ]
    }
   ],
   "source": [
    "tech_companies = \"apple\", \"dell\", \"microsoft\"\n",
    "\n",
    "for company in tech_companies:\n",
    "    print(f'{company.title()} makes some good products')\n",
    "print(f'I think I am going to buy a product from {company.title()}')"
   ]
  },
  {
   "cell_type": "markdown",
   "id": "6e5ab228",
   "metadata": {},
   "source": [
    "> Sometimes the code will run, but not in the way we want it to. This code isn't running the way we want it to because the second line is not indented. So it is only run once with the varible comopany which at that time will be Microsoft. This is called an \"logical error\", meaning our code isn't running the way we want it too, but it's not throwing an error. When our code is not running in a way we want it too, but it's still running, it's worth checking if all our indentations are correct."
   ]
  },
  {
   "cell_type": "markdown",
   "id": "197209ea",
   "metadata": {},
   "source": [
    "Here is the code running correctly"
   ]
  },
  {
   "cell_type": "code",
   "execution_count": 36,
   "id": "14a907f0",
   "metadata": {},
   "outputs": [
    {
     "name": "stdout",
     "output_type": "stream",
     "text": [
      "Apple makes some good products\n",
      "I think I am going to buy a product from Apple\n",
      "\n",
      "Dell makes some good products\n",
      "I think I am going to buy a product from Dell\n",
      "\n",
      "Microsoft makes some good products\n",
      "I think I am going to buy a product from Microsoft\n",
      "\n"
     ]
    }
   ],
   "source": [
    "tech_companies = \"apple\", \"dell\", \"microsoft\"\n",
    "\n",
    "for company in tech_companies:\n",
    "    print(f'{company.title()} makes some good products')\n",
    "    print(f'I think I am going to buy a product from {company.title()}\\n')"
   ]
  },
  {
   "cell_type": "code",
   "execution_count": 37,
   "id": "544a2ca3",
   "metadata": {},
   "outputs": [
    {
     "ename": "IndentationError",
     "evalue": "unexpected indent (3009684490.py, line 2)",
     "output_type": "error",
     "traceback": [
      "\u001b[0;36m  Input \u001b[0;32mIn [37]\u001b[0;36m\u001b[0m\n\u001b[0;31m    print(fav_company)\u001b[0m\n\u001b[0m    ^\u001b[0m\n\u001b[0;31mIndentationError\u001b[0m\u001b[0;31m:\u001b[0m unexpected indent\n"
     ]
    }
   ],
   "source": [
    "fav_company = \"Apple\"\n",
    "    print(fav_company)"
   ]
  },
  {
   "cell_type": "markdown",
   "id": "473c315a",
   "metadata": {},
   "source": [
    "> Here python isn't expecting an indentation but we have given it one. So we get another indentation error with unexpected indent. "
   ]
  },
  {
   "cell_type": "code",
   "execution_count": 38,
   "id": "22a058a7",
   "metadata": {},
   "outputs": [
    {
     "name": "stdout",
     "output_type": "stream",
     "text": [
      "Apple makes some good products\n",
      "I think I am going to buy a product from Apple\n",
      "\n",
      "This is proof that an indentation is causing this text to be printed\n",
      "Dell makes some good products\n",
      "I think I am going to buy a product from Dell\n",
      "\n",
      "This is proof that an indentation is causing this text to be printed\n",
      "Microsoft makes some good products\n",
      "I think I am going to buy a product from Microsoft\n",
      "\n",
      "This is proof that an indentation is causing this text to be printed\n"
     ]
    }
   ],
   "source": [
    "tech_companies = \"apple\", \"dell\", \"microsoft\"\n",
    "\n",
    "for company in tech_companies:\n",
    "    print(f'{company.title()} makes some good products')\n",
    "    print(f'I think I am going to buy a product from {company.title()}\\n')\n",
    "\n",
    "\n",
    "    \n",
    "    print('This is proof that an indentation is causing this text to be printed')"
   ]
  },
  {
   "cell_type": "markdown",
   "id": "3e7aa64a",
   "metadata": {},
   "source": [
    "> Here we have an indentation where it's not meant to be, but it throws a logical error so the code runs, just not like we want it to........."
   ]
  },
  {
   "cell_type": "code",
   "execution_count": 39,
   "id": "2a0e4e08",
   "metadata": {},
   "outputs": [
    {
     "ename": "SyntaxError",
     "evalue": "expected ':' (2526624363.py, line 3)",
     "output_type": "error",
     "traceback": [
      "\u001b[0;36m  Input \u001b[0;32mIn [39]\u001b[0;36m\u001b[0m\n\u001b[0;31m    for company in tech_companies\u001b[0m\n\u001b[0m                                 ^\u001b[0m\n\u001b[0;31mSyntaxError\u001b[0m\u001b[0;31m:\u001b[0m expected ':'\n"
     ]
    }
   ],
   "source": [
    "tech_companies = \"apple\", \"dell\", \"microsoft\"\n",
    "\n",
    "for company in tech_companies\n",
    "    print(f'{company.title()} makes some good products')\n",
    "    print(f'I think I am going to buy a product from {company.title()}\\n')"
   ]
  },
  {
   "cell_type": "markdown",
   "id": "bbdddec1",
   "metadata": {},
   "source": [
    "> Here we have FORGOTTEN THE COLON at the end of the for loop command. This will result in a syntax error as python won't know what to do when it's running through the code. "
   ]
  },
  {
   "cell_type": "markdown",
   "id": "8d095b17",
   "metadata": {},
   "source": [
    "## Tasks"
   ]
  },
  {
   "cell_type": "code",
   "execution_count": 40,
   "id": "8b4528cc",
   "metadata": {},
   "outputs": [
    {
     "name": "stdout",
     "output_type": "stream",
     "text": [
      "extra cheese\n",
      "pepperoni\n",
      "bbq\n"
     ]
    }
   ],
   "source": [
    "best_pizza_toppings = \"extra cheese\", \"pepperoni\", \"bbq\"\n",
    "\n",
    "for topping in best_pizza_toppings:\n",
    "    print(topping)"
   ]
  },
  {
   "cell_type": "code",
   "execution_count": 41,
   "id": "8a5651ea",
   "metadata": {},
   "outputs": [
    {
     "name": "stdout",
     "output_type": "stream",
     "text": [
      "I really like to eat extra cheese pizza.\n",
      "\n",
      "I really like to eat pepperoni pizza.\n",
      "\n",
      "I really like to eat bbq pizza.\n",
      "\n"
     ]
    }
   ],
   "source": [
    "best_pizza_toppings = \"extra cheese\", \"pepperoni\", \"bbq\"\n",
    "\n",
    "for topping in best_pizza_toppings:\n",
    "    print(f'I really like to eat {topping} pizza.\\n')"
   ]
  },
  {
   "cell_type": "code",
   "execution_count": 42,
   "id": "0880ef43",
   "metadata": {},
   "outputs": [
    {
     "name": "stdout",
     "output_type": "stream",
     "text": [
      "I really like to eat extra cheese pizza.\n",
      "\n",
      "I really like to eat pepperoni pizza.\n",
      "\n",
      "I really like to eat bbq pizza.\n",
      "\n",
      "I really like all of these types of pizza!\n"
     ]
    }
   ],
   "source": [
    "best_pizza_toppings = \"extra cheese\", \"pepperoni\", \"bbq\"\n",
    "\n",
    "for topping in best_pizza_toppings:\n",
    "    print(f'I really like to eat {topping} pizza.\\n')\n",
    "\n",
    "print(\"I really like all of these types of pizza!\")"
   ]
  },
  {
   "cell_type": "code",
   "execution_count": 43,
   "id": "b57d3efe",
   "metadata": {},
   "outputs": [
    {
     "name": "stdout",
     "output_type": "stream",
     "text": [
      "dogs\n",
      "cats\n",
      "fish\n"
     ]
    }
   ],
   "source": [
    "pets = \"dogs\", \"cats\", \"fish\"\n",
    "\n",
    "for pet in pets:\n",
    "    print(pet)"
   ]
  },
  {
   "cell_type": "code",
   "execution_count": 44,
   "id": "36dda876",
   "metadata": {},
   "outputs": [
    {
     "name": "stdout",
     "output_type": "stream",
     "text": [
      "Dogs can make great pets.\n",
      "Cats can make great pets.\n",
      "Fish can make great pets.\n"
     ]
    }
   ],
   "source": [
    "pets = \"dogs\", \"cats\", \"fish\"\n",
    "\n",
    "for pet in pets:\n",
    "    print(f'{pet.title()} can make great pets.')"
   ]
  },
  {
   "cell_type": "code",
   "execution_count": 45,
   "id": "63a9e1f2",
   "metadata": {},
   "outputs": [
    {
     "name": "stdout",
     "output_type": "stream",
     "text": [
      "Dogs can make great pets. \n",
      "\n",
      "Cats can make great pets. \n",
      "\n",
      "Fish can make great pets. \n",
      "\n",
      "Any of these animals will make great pets!\n"
     ]
    }
   ],
   "source": [
    "pets = \"dogs\", \"cats\", \"fish\"\n",
    "\n",
    "for pet in pets:\n",
    "    print(f'{pet.title()} can make great pets. \\n')\n",
    "\n",
    "print(\"Any of these animals will make great pets!\")"
   ]
  },
  {
   "cell_type": "markdown",
   "id": "67d00c7a",
   "metadata": {},
   "source": [
    "### Numerical Lists"
   ]
  },
  {
   "cell_type": "code",
   "execution_count": 46,
   "id": "2763974e",
   "metadata": {},
   "outputs": [
    {
     "name": "stdout",
     "output_type": "stream",
     "text": [
      "1\n",
      "2\n",
      "3\n",
      "4\n"
     ]
    }
   ],
   "source": [
    "for num in range(1, 5):\n",
    "    print(num)"
   ]
  },
  {
   "cell_type": "markdown",
   "id": "bab1daad",
   "metadata": {},
   "source": [
    "> The \"range\" function allows us to generate a series of numbers. It outputs 1 to 4 as it will run the list up until it hits the last number in the list then it will stop. For the list to include 5, the range() would have to be range(1, 6)"
   ]
  },
  {
   "cell_type": "code",
   "execution_count": 47,
   "id": "ae239ee2",
   "metadata": {},
   "outputs": [
    {
     "name": "stdout",
     "output_type": "stream",
     "text": [
      "[1, 2, 3, 4, 5]\n"
     ]
    }
   ],
   "source": [
    "numbers = list(range(1, 6))\n",
    "\n",
    "print(numbers)"
   ]
  },
  {
   "cell_type": "markdown",
   "id": "9e63a710",
   "metadata": {},
   "source": [
    "> If we want to make a list with a range on numbers included in the list, we can wrap a \"list()\" function around a \"range()\" function. "
   ]
  },
  {
   "cell_type": "code",
   "execution_count": 48,
   "id": "d9c0abee",
   "metadata": {},
   "outputs": [
    {
     "name": "stdout",
     "output_type": "stream",
     "text": [
      "[2, 4, 6, 8, 10]\n"
     ]
    }
   ],
   "source": [
    "numbers = list(range(2, 11, 2))\n",
    "\n",
    "print(numbers)"
   ]
  },
  {
   "cell_type": "markdown",
   "id": "5ed7e94e",
   "metadata": {},
   "source": [
    "> We can also add step sizes to a list by including a third number at the end. This is how many jumps python will make each time. "
   ]
  },
  {
   "cell_type": "code",
   "execution_count": 50,
   "id": "922ebc1e",
   "metadata": {},
   "outputs": [
    {
     "name": "stdout",
     "output_type": "stream",
     "text": [
      "[1, 4, 9, 16, 25, 36, 49, 64, 81, 100]\n"
     ]
    }
   ],
   "source": [
    "squared_numbers = []\n",
    "\n",
    "for num in range(1, 11):\n",
    "#     for each number in the range of 1 to 11\n",
    "    squared = num ** 2\n",
    "#     each number is multiplied to the power of 2 then assinged to squared\n",
    "    squared_numbers.append(squared)\n",
    "#     the variable squared is appeneded to the empty list squared_numbers\n",
    "    \n",
    "print(squared_numbers)"
   ]
  },
  {
   "cell_type": "code",
   "execution_count": 49,
   "id": "9f9d819b",
   "metadata": {},
   "outputs": [
    {
     "name": "stdout",
     "output_type": "stream",
     "text": [
      "[1, 4, 9, 16, 25, 36, 49, 64, 81, 100]\n"
     ]
    }
   ],
   "source": [
    "squared_numbers = []\n",
    "\n",
    "for num in range(1, 11):\n",
    "    squared_numbers.append(num**2)\n",
    "# This line does the same thing as lines 3 and 4 in the code above\n",
    "# Instead of making a new variable squared and assinging the calculated number to that, we are doing the calculation in the append() function.\n",
    "\n",
    "    \n",
    "print(squared_numbers)"
   ]
  },
  {
   "cell_type": "markdown",
   "id": "a9ed572f",
   "metadata": {},
   "source": [
    "### Basic Math With Lists \n"
   ]
  },
  {
   "cell_type": "code",
   "execution_count": 51,
   "id": "09379015",
   "metadata": {},
   "outputs": [
    {
     "name": "stdout",
     "output_type": "stream",
     "text": [
      "[0, 1, 2, 3, 4, 5, 6, 7, 8, 9]\n",
      "0\n",
      "9\n",
      "45\n"
     ]
    }
   ],
   "source": [
    "numbers = list(range(0, 10))\n",
    "\n",
    "print(numbers)\n",
    "print(min(numbers))\n",
    "print(max(numbers))\n",
    "print(sum(numbers))"
   ]
  },
  {
   "cell_type": "markdown",
   "id": "a3dbc717",
   "metadata": {},
   "source": [
    "### List Comprehension "
   ]
  },
  {
   "cell_type": "code",
   "execution_count": 52,
   "id": "f5eb87f6",
   "metadata": {},
   "outputs": [
    {
     "name": "stdout",
     "output_type": "stream",
     "text": [
      "[1, 4, 9, 16, 25, 36, 49, 64, 81]\n"
     ]
    }
   ],
   "source": [
    "squared_numbers = [value**2 for value in range(1,10)]\n",
    "# For every value in the range of 1-10 is placed into the expression value**2\n",
    "\n",
    "print(squared_numbers)"
   ]
  },
  {
   "cell_type": "markdown",
   "id": "0f17e892",
   "metadata": {},
   "source": [
    "> List comprehension allows us to generate lines of code that would ususally take lots of lines to finish a task. When doing writing a comprehensive list we need to assign a variable which we place the expression value and a for loop that includes the range of integers we want to use. "
   ]
  },
  {
   "cell_type": "markdown",
   "id": "37f505e0",
   "metadata": {},
   "source": [
    "## Tasks"
   ]
  },
  {
   "cell_type": "code",
   "execution_count": 53,
   "id": "2f2bfd1a",
   "metadata": {},
   "outputs": [
    {
     "name": "stdout",
     "output_type": "stream",
     "text": [
      "[1, 2, 3, 4, 5, 6, 7, 8, 9, 10, 11, 12, 13, 14, 15, 16, 17, 18, 19, 20]\n"
     ]
    }
   ],
   "source": [
    "numbers = list(range(1, 21))\n",
    "\n",
    "print(numbers)"
   ]
  },
  {
   "cell_type": "code",
   "execution_count": 54,
   "id": "bd4b5c94",
   "metadata": {},
   "outputs": [
    {
     "name": "stdout",
     "output_type": "stream",
     "text": [
      "1\n",
      "2\n",
      "3\n",
      "4\n",
      "5\n",
      "6\n",
      "7\n",
      "8\n",
      "9\n",
      "10\n",
      "11\n",
      "12\n",
      "13\n",
      "14\n",
      "15\n",
      "16\n",
      "17\n",
      "18\n",
      "19\n",
      "20\n",
      "1\n",
      "20\n",
      "210\n"
     ]
    }
   ],
   "source": [
    "numbers_list = []\n",
    "\n",
    "for number in range(1 , 21):\n",
    "    print(number)\n",
    "    numbers_list.append(number)\n",
    "\n",
    "print(min(numbers_list))\n",
    "print(max(numbers_list))\n",
    "print(sum(numbers_list))"
   ]
  },
  {
   "cell_type": "code",
   "execution_count": 55,
   "id": "29d92604",
   "metadata": {},
   "outputs": [
    {
     "name": "stdout",
     "output_type": "stream",
     "text": [
      "1\n",
      "3\n",
      "5\n",
      "7\n",
      "9\n",
      "11\n",
      "13\n",
      "15\n",
      "17\n",
      "19\n"
     ]
    }
   ],
   "source": [
    "for number in range(1, 21, 2):\n",
    "#     Printing off all of the odd numbers in the list one 1 to 20 \n",
    "    print(number)"
   ]
  },
  {
   "cell_type": "code",
   "execution_count": 56,
   "id": "db785f09",
   "metadata": {},
   "outputs": [
    {
     "name": "stdout",
     "output_type": "stream",
     "text": [
      "3\n",
      "6\n",
      "9\n",
      "12\n",
      "15\n",
      "18\n",
      "21\n",
      "24\n",
      "27\n",
      "30\n"
     ]
    }
   ],
   "source": [
    "for numbers in range(3, 31, 3):\n",
    "#     Printing a list of all the multiples of 3 using a for loop.\n",
    "    print(numbers)"
   ]
  },
  {
   "cell_type": "code",
   "execution_count": 57,
   "id": "a95e7147",
   "metadata": {},
   "outputs": [
    {
     "name": "stdout",
     "output_type": "stream",
     "text": [
      "[1, 8, 27, 64, 125, 216, 343, 512, 729, 1000]\n"
     ]
    }
   ],
   "source": [
    "normal_numbers = list(range(1,11))\n",
    "\n",
    "cubed_numbers = []\n",
    "\n",
    "for number in normal_numbers:\n",
    "    cubed = number**3\n",
    "    cubed_numbers.append(cubed)\n",
    "\n",
    "print(cubed_numbers)"
   ]
  },
  {
   "cell_type": "code",
   "execution_count": 58,
   "id": "19342cc9",
   "metadata": {},
   "outputs": [
    {
     "name": "stdout",
     "output_type": "stream",
     "text": [
      "[1, 8, 27, 64, 125, 216, 343, 512, 729, 1000]\n",
      "27\n"
     ]
    }
   ],
   "source": [
    "cubed_numbers = [number**3 for number in range(1, 11)]\n",
    "# Making a comprehensive list, cubing the numbers in a range of 1-10 and assigning the list of numbers to the variable cubed_numbers\n",
    "\n",
    "print(cubed_numbers)\n",
    "print(cubed_numbers[2])"
   ]
  },
  {
   "cell_type": "markdown",
   "id": "98c8d2b9",
   "metadata": {},
   "source": [
    "### Slicing A List"
   ]
  },
  {
   "cell_type": "code",
   "execution_count": null,
   "id": "63582398",
   "metadata": {},
   "outputs": [],
   "source": [
    "computer_companies = \"Apple\", \"Microsoft\", \"Dell\", \"Hp\", \"AMD\", \"Nvidia\"\n",
    "\n",
    "print(computer_companies[0:3])\n",
    "print(computer_companies[2:4])\n",
    "print(computer_companies[2:6])"
   ]
  },
  {
   "cell_type": "markdown",
   "id": "a9dbf1c8",
   "metadata": {},
   "source": [
    "> Here we are we slicing the list to make a sublist, we do this using the : not a , "
   ]
  },
  {
   "cell_type": "code",
   "execution_count": 60,
   "id": "349a6c93",
   "metadata": {},
   "outputs": [
    {
     "name": "stdout",
     "output_type": "stream",
     "text": [
      "('Apple', 'Microsoft', 'Dell')\n",
      "('Dell', 'Hp', 'AMD', 'Nvidia')\n",
      "('Hp', 'AMD', 'Nvidia')\n"
     ]
    }
   ],
   "source": [
    "computer_companies = \"Apple\", \"Microsoft\", \"Dell\", \"Hp\", \"AMD\", \"Nvidia\"\n",
    "\n",
    "print(computer_companies[:3])\n",
    "print(computer_companies[2:])\n",
    "print(computer_companies[-3:])"
   ]
  },
  {
   "cell_type": "markdown",
   "id": "23d8079f",
   "metadata": {},
   "source": [
    "> If we leave out the first number, Python will start with the start of the list. It also works the same way in reverse, if we include the first number then : but no second number Python wil go all the way to the end. We can also use the -x syntax so we can print the last few numbers in a list, no matter how long the list is. "
   ]
  },
  {
   "cell_type": "code",
   "execution_count": 61,
   "id": "12f0a4ff",
   "metadata": {},
   "outputs": [
    {
     "name": "stdout",
     "output_type": "stream",
     "text": [
      "('Apple', 'Dell', 'AMD')\n"
     ]
    }
   ],
   "source": [
    "computer_companies = \"Apple\", \"Microsoft\", \"Dell\", \"Hp\", \"AMD\", \"Nvidia\"\n",
    "\n",
    "print(computer_companies[0:5:2])"
   ]
  },
  {
   "cell_type": "markdown",
   "id": "b0ec0d99",
   "metadata": {},
   "source": [
    "> Just like when making lists, if we include a third number, this will tell Python how many numbers to skip each time."
   ]
  },
  {
   "cell_type": "markdown",
   "id": "de7ab0ae",
   "metadata": {},
   "source": [
    "## Tasks"
   ]
  },
  {
   "cell_type": "code",
   "execution_count": 62,
   "id": "5c14f068",
   "metadata": {},
   "outputs": [
    {
     "name": "stdout",
     "output_type": "stream",
     "text": [
      "The first 3 companies in the list of tech companies are\n",
      "('Apple', 'Microsoft', 'Dell')\n",
      "The middle 3 companies in the list of tech companies are\n",
      "('Dell', 'Hp', 'AMD')\n",
      "The last 3 companies in teh list of tech companeis are\n",
      "('Hp', 'AMD', 'Nvidia')\n"
     ]
    }
   ],
   "source": [
    "computer_companies = \"Apple\", \"Microsoft\", \"Dell\", \"Hp\", \"AMD\", \"Nvidia\"\n",
    "\n",
    "print(\"The first 3 companies in the list of tech companies are\")\n",
    "print(computer_companies[:3])\n",
    "\n",
    "print(\"The middle 3 companies in the list of tech companies are\")\n",
    "print(computer_companies[2:5])\n",
    "\n",
    "print(\"The last 3 companies in teh list of tech companeis are\")\n",
    "print(computer_companies[-3:])"
   ]
  },
  {
   "cell_type": "code",
   "execution_count": 63,
   "id": "9f7a4537",
   "metadata": {},
   "outputs": [
    {
     "name": "stdout",
     "output_type": "stream",
     "text": [
      "['bbq', 'pepperoni', 'ham']\n",
      "['bbq', 'pepperoni', 'ham']\n",
      "These two lists are seperate lists\n",
      "['bbq', 'pepperoni', 'ham', 'vege']\n",
      "['bbq', 'pepperoni', 'ham', 'vegan']\n"
     ]
    }
   ],
   "source": [
    "my_pizzas = [\"bbq\", \"pepperoni\", \"ham\"]\n",
    "my_friends_pizzas =my_pizzas[:]\n",
    "\n",
    "print(my_pizzas)\n",
    "print(my_friends_pizzas)\n",
    "\n",
    "my_pizzas.append(\"vege\")\n",
    "my_friends_pizzas.append(\"vegan\")\n",
    "\n",
    "print(\"These two lists are seperate lists\")\n",
    "print(my_pizzas)\n",
    "print(my_friends_pizzas)"
   ]
  },
  {
   "cell_type": "code",
   "execution_count": 64,
   "id": "f2936dbb",
   "metadata": {},
   "outputs": [
    {
     "name": "stdout",
     "output_type": "stream",
     "text": [
      "['bbq', 'pepperoni', 'ham']\n",
      "['bbq', 'pepperoni', 'ham']\n",
      "These two lists are seperate lists\n",
      "I really like this kinda bbq\n",
      "I really like this kinda pepperoni\n",
      "I really like this kinda ham\n",
      "I really like this kinda vege\n",
      "My friend really likes this kind of pizza bbq\n",
      "My friend really likes this kind of pizza pepperoni\n",
      "My friend really likes this kind of pizza ham\n",
      "My friend really likes this kind of pizza vegan\n"
     ]
    }
   ],
   "source": [
    "my_pizzas = [\"bbq\", \"pepperoni\", \"ham\"]\n",
    "my_friends_pizzas =my_pizzas[:]\n",
    "\n",
    "print(my_pizzas)\n",
    "print(my_friends_pizzas)\n",
    "\n",
    "my_pizzas.append(\"vege\")\n",
    "my_friends_pizzas.append(\"vegan\")\n",
    "\n",
    "print(\"These two lists are seperate lists\")\n",
    "for pizza in my_pizzas:\n",
    "    print(f'I really like this kinda {pizza}')\n",
    "\n",
    "for pizza in my_friends_pizzas:\n",
    "    print(f'My friend really likes this kind of pizza {pizza}')"
   ]
  },
  {
   "cell_type": "code",
   "execution_count": 66,
   "id": "cf8a151d",
   "metadata": {},
   "outputs": [
    {
     "name": "stdout",
     "output_type": "stream",
     "text": [
      "I might buy a product from Apple becuase they sell cool tech\n",
      "I might buy a product from Microsoft becuase they sell cool tech\n",
      "I might buy a product from Dell becuase they sell cool tech\n",
      "I might buy a product from Hp becuase they sell cool tech\n",
      "I might buy a product from AMD becuase they sell cool tech\n",
      "I might buy a product from Nvidia becuase they sell cool tech\n"
     ]
    }
   ],
   "source": [
    "computer_companies = \"Apple\", \"Microsoft\", \"Dell\", \"Hp\", \"AMD\", \"Nvidia\"\n",
    "\n",
    "for company in computer_companies:\n",
    "    print(f'I might buy a product from {company} becuase they sell cool tech')"
   ]
  },
  {
   "cell_type": "markdown",
   "id": "a144e14f",
   "metadata": {},
   "source": [
    "### Take Aways\n",
    "\n",
    "- List comprehension allows us to write code that would ususally take lots of line in a short line. \n",
    "- Python can do simple maths in the list with min, max and sum.\n",
    "- We can print elemets off in a list, if we want to print every other element or a pattern we add a 3rd integer to tell python how many it should skip.\n",
    "- We can slice a list with [:], when we do this it makes a seperate entity so we can use this to copy the list or make a smaller list that we need to use. \n",
    "- For loops allow us to use the elements to print off a sentence for each element."
   ]
  },
  {
   "cell_type": "markdown",
   "id": "6d30ff57",
   "metadata": {},
   "source": [
    "### Tuples\n",
    "\n",
    "Lists work well when we are wanting to change what we store throughout a program running. However if we want the list to remain the same, we use tuples. Python refers to unchangable values as immutable, and an immutable list is called a TUPLE."
   ]
  },
  {
   "cell_type": "code",
   "execution_count": 67,
   "id": "5b8c201c",
   "metadata": {},
   "outputs": [
    {
     "name": "stdout",
     "output_type": "stream",
     "text": [
      "200\n",
      "50\n"
     ]
    }
   ],
   "source": [
    "dimensions = (200, 50)\n",
    "# Printing the dimensions of a rectangle.\n",
    "print(dimensions[0])\n",
    "print(dimensions[1])"
   ]
  },
  {
   "cell_type": "code",
   "execution_count": 68,
   "id": "246f9f74",
   "metadata": {},
   "outputs": [
    {
     "ename": "TypeError",
     "evalue": "'tuple' object does not support item assignment",
     "output_type": "error",
     "traceback": [
      "\u001b[0;31m---------------------------------------------------------------------------\u001b[0m",
      "\u001b[0;31mTypeError\u001b[0m                                 Traceback (most recent call last)",
      "Input \u001b[0;32mIn [68]\u001b[0m, in \u001b[0;36m<cell line: 3>\u001b[0;34m()\u001b[0m\n\u001b[1;32m      1\u001b[0m dimensions \u001b[38;5;241m=\u001b[39m (\u001b[38;5;241m200\u001b[39m, \u001b[38;5;241m50\u001b[39m)\n\u001b[0;32m----> 3\u001b[0m dimensions[\u001b[38;5;241m0\u001b[39m] \u001b[38;5;241m=\u001b[39m \u001b[38;5;241m250\u001b[39m\n",
      "\u001b[0;31mTypeError\u001b[0m: 'tuple' object does not support item assignment"
     ]
    }
   ],
   "source": [
    "dimensions = (200, 50)\n",
    "\n",
    "dimensions[0] = 250"
   ]
  },
  {
   "cell_type": "markdown",
   "id": "b5c1c955",
   "metadata": {},
   "source": [
    "> Here we can see that we are trying to change a value in the tuple, but python throws a 'TypeError' as tuples cannt be changed, it is also worth noting that what defines the tuple is actually the comma, not the curvy brackets. So a single element tuple will be (3,) becuase we have to include the comma."
   ]
  },
  {
   "cell_type": "code",
   "execution_count": 69,
   "id": "020884a2",
   "metadata": {},
   "outputs": [
    {
     "name": "stdout",
     "output_type": "stream",
     "text": [
      "200\n",
      "50\n"
     ]
    }
   ],
   "source": [
    "dimensions = (200, 50)\n",
    "\n",
    "for dimension in dimensions:\n",
    "    print(dimension)"
   ]
  },
  {
   "cell_type": "markdown",
   "id": "7fe39cc9",
   "metadata": {},
   "source": [
    "> We can also use a for loop to loop through tuples, just like we can a list. "
   ]
  },
  {
   "cell_type": "code",
   "execution_count": 70,
   "id": "8089dd50",
   "metadata": {},
   "outputs": [
    {
     "name": "stdout",
     "output_type": "stream",
     "text": [
      "\n",
      "This is the original set of dimensions.\n",
      "200\n",
      "50\n",
      "\n",
      "These are the modified dimensions.\n",
      "400\n",
      "100\n"
     ]
    }
   ],
   "source": [
    "dimensions = (200, 50)\n",
    "print(\"\\nThis is the original set of dimensions.\")\n",
    "for dimension in dimensions:\n",
    "    print(dimension)\n",
    "\n",
    "dimensions = (400, 100)\n",
    "print(\"\\nThese are the modified dimensions.\")\n",
    "for dimension in dimensions:\n",
    "    print(dimension)"
   ]
  },
  {
   "cell_type": "markdown",
   "id": "ceb0d952",
   "metadata": {},
   "source": [
    "> Although we cannot assign new variables to a tuple, we can just redefine/write over a tuple with new values. The code above shows us how to do it using the dimensional values above. "
   ]
  },
  {
   "cell_type": "markdown",
   "id": "f2fec320",
   "metadata": {},
   "source": [
    "### Tasks"
   ]
  },
  {
   "cell_type": "code",
   "execution_count": 71,
   "id": "de638ac5",
   "metadata": {},
   "outputs": [
    {
     "name": "stdout",
     "output_type": "stream",
     "text": [
      "Pasta\n",
      "Bolognase\n",
      "Eggs\n",
      "Chips\n",
      "Pizza\n"
     ]
    }
   ],
   "source": [
    "menu = (\"Pasta\", \"Bolognase\", \"Eggs\", \"Chips\", \"Pizza\")\n",
    "\n",
    "for items in menu:\n",
    "    print(items)"
   ]
  },
  {
   "cell_type": "code",
   "execution_count": 72,
   "id": "fa894e8e",
   "metadata": {},
   "outputs": [
    {
     "ename": "TypeError",
     "evalue": "'tuple' object does not support item assignment",
     "output_type": "error",
     "traceback": [
      "\u001b[0;31m---------------------------------------------------------------------------\u001b[0m",
      "\u001b[0;31mTypeError\u001b[0m                                 Traceback (most recent call last)",
      "Input \u001b[0;32mIn [72]\u001b[0m, in \u001b[0;36m<cell line: 3>\u001b[0;34m()\u001b[0m\n\u001b[1;32m      1\u001b[0m menu \u001b[38;5;241m=\u001b[39m (\u001b[38;5;124m\"\u001b[39m\u001b[38;5;124mPasta\u001b[39m\u001b[38;5;124m\"\u001b[39m, \u001b[38;5;124m\"\u001b[39m\u001b[38;5;124mBolognase\u001b[39m\u001b[38;5;124m\"\u001b[39m, \u001b[38;5;124m\"\u001b[39m\u001b[38;5;124mEggs\u001b[39m\u001b[38;5;124m\"\u001b[39m, \u001b[38;5;124m\"\u001b[39m\u001b[38;5;124mChips\u001b[39m\u001b[38;5;124m\"\u001b[39m, \u001b[38;5;124m\"\u001b[39m\u001b[38;5;124mPizza\u001b[39m\u001b[38;5;124m\"\u001b[39m)\n\u001b[0;32m----> 3\u001b[0m menu[\u001b[38;5;241m1\u001b[39m] \u001b[38;5;241m=\u001b[39m \u001b[38;5;124m\"\u001b[39m\u001b[38;5;124mPasta bake sauce\u001b[39m\u001b[38;5;124m\"\u001b[39m\n",
      "\u001b[0;31mTypeError\u001b[0m: 'tuple' object does not support item assignment"
     ]
    }
   ],
   "source": [
    "menu = (\"Pasta\", \"Bolognase\", \"Eggs\", \"Chips\", \"Pizza\")\n",
    "\n",
    "menu[1] = \"Pasta bake sauce\""
   ]
  },
  {
   "cell_type": "code",
   "execution_count": 73,
   "id": "64f04a44",
   "metadata": {},
   "outputs": [
    {
     "name": "stdout",
     "output_type": "stream",
     "text": [
      "\n",
      "Original Menu\n",
      "Pasta\n",
      "Bolognase\n",
      "Eggs\n",
      "Chips\n",
      "Pizza\n",
      "\n",
      "Updated Menu\n",
      "Pasta\n",
      "Pasta bake sauce\n",
      "Chips\n",
      "Fish\n",
      "Pizza\n"
     ]
    }
   ],
   "source": [
    "menu = (\"Pasta\", \"Bolognase\", \"Eggs\", \"Chips\", \"Pizza\")\n",
    "\n",
    "print(\"\\nOriginal Menu\")\n",
    "for items in menu:\n",
    "    print(items)\n",
    "    \n",
    "menu = (\"Pasta\", \"Pasta bake sauce\", \"Chips\", \"Fish\", \"Pizza\")\n",
    "print(\"\\nUpdated Menu\")\n",
    "for items in menu:\n",
    "    print(items)"
   ]
  }
 ],
 "metadata": {
  "kernelspec": {
   "display_name": "Python 3 (ipykernel)",
   "language": "python",
   "name": "python3"
  },
  "language_info": {
   "codemirror_mode": {
    "name": "ipython",
    "version": 3
   },
   "file_extension": ".py",
   "mimetype": "text/x-python",
   "name": "python",
   "nbconvert_exporter": "python",
   "pygments_lexer": "ipython3",
   "version": "3.10.4"
  }
 },
 "nbformat": 4,
 "nbformat_minor": 5
}
