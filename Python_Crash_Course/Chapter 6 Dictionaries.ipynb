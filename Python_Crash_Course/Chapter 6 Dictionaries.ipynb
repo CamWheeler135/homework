{
 "cells": [
  {
   "cell_type": "markdown",
   "id": "b5b0cdc1",
   "metadata": {},
   "source": [
    "# Chapter 6 Dictionaries \n",
    "\n",
    "A dictonary is a feature of python that allows us to connect related bits of information, in this chapter I will learn to acess the information and make changes to it. Dictionaires allow us to model real world objects more accuratly  I will also learn how to loop through this information as well as nesting dictionaries inside of lists and lists inside of dictionaries and even dictionaires inside of dictionaries. \n",
    "\n",
    "\n",
    "Consider a game where we shoot aliens that have different colours and differnt points for killing them"
   ]
  },
  {
   "cell_type": "code",
   "execution_count": 1,
   "id": "5d5a21c1",
   "metadata": {},
   "outputs": [
    {
     "name": "stdout",
     "output_type": "stream",
     "text": [
      "green\n",
      "5\n"
     ]
    }
   ],
   "source": [
    "alien_0 = {'colour' : 'green', 'points' : '5'}\n",
    "\n",
    "print(alien_0['colour'])\n",
    "print(alien_0['points'])"
   ]
  },
  {
   "cell_type": "markdown",
   "id": "a43a4406",
   "metadata": {},
   "source": [
    "> In python a dictonary is a collection of \"key values\" these key values are a key that is assigned to a value so it's sort of self explanitory in a way. We use the key to access the value in the dictionary, it is important to remeber that a keys value can be a string, number, list or even another dictonary (we can use anything we can create (object wise) in python in a dictonary) \n",
    "\n",
    "> A dictonary is surrounded by curvy brackets {} with lists of key:value pairs in the curvy brackets\n",
    "alien_0 = {'colour' : 'green', 'points' : '5'}, every key value pair in linked by : and we can store as many as key:value pairs in the dictionary that we want but the minimum is one."
   ]
  },
  {
   "cell_type": "code",
   "execution_count": 2,
   "id": "61fc29e0",
   "metadata": {},
   "outputs": [
    {
     "name": "stdout",
     "output_type": "stream",
     "text": [
      "green\n",
      "5\n",
      "Wow you just got the alien, you get 5 points\n"
     ]
    }
   ],
   "source": [
    "alien_0 = {'colour':'green', 'points':'5'}\n",
    "\n",
    "print(alien_0['colour'])\n",
    "print(alien_0['points'])\n",
    "\n",
    "new_points = (alien_0['points'])\n",
    "# Assinging the value of the key 'points' to the variable new_points.\n",
    "print(f\"Wow you just got the alien, you get {new_points} points\")"
   ]
  },
  {
   "cell_type": "markdown",
   "id": "96b3c23f",
   "metadata": {},
   "source": [
    "### Adding new key:value pairs\n",
    "\n",
    "Dictionaries are dynamic, we can add and remove key:pair values, to add key-value pairs we need to add the name of the dictonary followed by square brackets with the new key inside alongisde a new value\n",
    "\n",
    "To access the dictionary, we simply state the name of the dictonary, then the key that we want to access"
   ]
  },
  {
   "cell_type": "code",
   "execution_count": 3,
   "id": "99464054",
   "metadata": {},
   "outputs": [
    {
     "name": "stdout",
     "output_type": "stream",
     "text": [
      "{'colour': 'green', 'points': '5'}\n",
      "{'colour': 'green', 'points': '5', 'x-coordinate': 0, 'y-coordinate': 25}\n"
     ]
    }
   ],
   "source": [
    "alien_0 = {'colour':'green', 'points':'5'}\n",
    "print(alien_0)\n",
    "\n",
    "alien_0['x-coordinate'] = 0\n",
    "alien_0['y-coordinate'] = 25\n",
    "print(alien_0)"
   ]
  },
  {
   "cell_type": "code",
   "execution_count": 4,
   "id": "48dc2721",
   "metadata": {},
   "outputs": [
    {
     "name": "stdout",
     "output_type": "stream",
     "text": [
      "{'colour': 'green', 'points': 5, 'x-coordinate': 0, 'y-coordinate': 33}\n"
     ]
    }
   ],
   "source": [
    "alien_0 = {}\n",
    "\n",
    "alien_0['colour'] = 'green'\n",
    "alien_0 ['points'] = 5\n",
    "alien_0 ['x-coordinate'] = 0\n",
    "alien_0 ['y-coordinate'] = 33\n",
    "\n",
    "print(alien_0)"
   ]
  },
  {
   "cell_type": "markdown",
   "id": "2ae7fd9b",
   "metadata": {},
   "source": [
    "> Here we have given two new key:value pairs to the dictionary, next we have started with a new dictionary to which we have given it all of its key:value properties. Ususally we will start with an empty dictionary when we need the user to give us some data, or we are making a load of key:value data using code we have written"
   ]
  },
  {
   "cell_type": "markdown",
   "id": "b3d431e2",
   "metadata": {},
   "source": [
    "### Modifying Dictionaries\n",
    "\n",
    "To modify the values in a dictionary, first we give the name of the dictionary then they key inbetween square brackets followed by = changed value. Remember when creating the dictionary to use curvy brackets. "
   ]
  },
  {
   "cell_type": "code",
   "execution_count": 5,
   "id": "ce05b05f",
   "metadata": {},
   "outputs": [
    {
     "name": "stdout",
     "output_type": "stream",
     "text": [
      "green\n",
      "yellow\n"
     ]
    }
   ],
   "source": [
    "# Setting the orignial key:value pair\n",
    "alien_0 = {'colour':'green'}\n",
    "print(alien_0['colour'])\n",
    "\n",
    "# Modifying the colour of dictionary\n",
    "alien_0['colour'] = 'yellow'\n",
    "print(alien_0['colour'])"
   ]
  },
  {
   "cell_type": "code",
   "execution_count": 6,
   "id": "a2b87b47",
   "metadata": {},
   "outputs": [
    {
     "name": "stdout",
     "output_type": "stream",
     "text": [
      "The aliens colour is orignally green.\n",
      "The aliens colour is now yellow.\n"
     ]
    }
   ],
   "source": [
    "# Setting the orignial key:value pair\n",
    "alien_0 = {'colour':'green'}\n",
    "print(f\"The aliens colour is orignally {alien_0['colour']}.\")\n",
    "\n",
    "# Modifying the colour of dictionary\n",
    "alien_0['colour'] = 'yellow'\n",
    "print(f\"The aliens colour is now {alien_0['colour']}.\")"
   ]
  },
  {
   "cell_type": "markdown",
   "id": "eac4e6a6",
   "metadata": {},
   "source": [
    "Now we are going to track the position of the alien as it moves across the screen, take your time to look at what is happening, this is the first difficult task we have had so far!!!"
   ]
  },
  {
   "cell_type": "code",
   "execution_count": 7,
   "id": "5eeeb944",
   "metadata": {},
   "outputs": [
    {
     "name": "stdout",
     "output_type": "stream",
     "text": [
      "This is the original position of the alien 0.\n",
      "This is the new position of the alien 2.\n"
     ]
    }
   ],
   "source": [
    "alien_0 = {'x_coordinate': 0, 'y_coordinate': 25, 'speed':'medium'}\n",
    "print(f\"This is the original position of the alien {alien_0['x_coordinate']}.\")\n",
    "\n",
    "# Lets move the alien to the right according to its speed\n",
    "if alien_0 ['speed'] == 'slow':\n",
    "    x_increment = 1\n",
    "elif alien_0 ['speed'] == 'medium':\n",
    "    x_increment = 2\n",
    "else:\n",
    "#     As all the other aliens will be fast\n",
    "    x_increment = 3\n",
    "    \n",
    "# The new position of the alien is the old position plus the increment, we are modifiying the dictionary here\n",
    "alien_0['x_coordinate'] = alien_0['x_coordinate'] + x_increment\n",
    "\n",
    "print(f\"This is the new position of the alien {alien_0['x_coordinate']}.\")"
   ]
  },
  {
   "cell_type": "markdown",
   "id": "aabf5e57",
   "metadata": {},
   "source": [
    "> change the speed of the alien in the dictionary and see how that changes the x_coordinate of the alien in the output."
   ]
  },
  {
   "cell_type": "markdown",
   "id": "f1480d77",
   "metadata": {},
   "source": [
    "### Removing Key:Value Pairs From Dictionaries\n",
    "When we no longer need some information, we can remove it so it stops taking up memory and lines of our code to do this we use the \"del\" statement, all this statement needs if the name of the dictionary then they key of the value we want to delete. Be aware that once we delete a key:value pair it is permenantly gone, we cannot get it back unless we make it again"
   ]
  },
  {
   "cell_type": "code",
   "execution_count": 8,
   "id": "5b842678",
   "metadata": {},
   "outputs": [
    {
     "name": "stdout",
     "output_type": "stream",
     "text": [
      "This is the original position of the alien 0.\n",
      "{'y_coordinate': 25, 'speed': 'medium'}\n"
     ]
    }
   ],
   "source": [
    "alien_0 = {'x_coordinate': 0, 'y_coordinate': 25, 'speed':'medium'}\n",
    "print(f\"This is the original position of the alien {alien_0['x_coordinate']}.\")\n",
    "\n",
    "del alien_0['x_coordinate']\n",
    "print(alien_0)"
   ]
  },
  {
   "cell_type": "markdown",
   "id": "6ec28309",
   "metadata": {},
   "source": [
    "### A Dictionary of Similar Objects\n",
    "\n",
    "So far we have used a dictionary to store different information about one thing, now we are shifting our thinking to use a dictionary to store many types of the same thing, such as peopele favourite programming language."
   ]
  },
  {
   "cell_type": "code",
   "execution_count": 9,
   "id": "aabb987c",
   "metadata": {},
   "outputs": [
    {
     "name": "stdout",
     "output_type": "stream",
     "text": [
      "{'cameron': 'python', 'mattia': 'c', 'paul': 'java', 'adam': 'rust'}\n"
     ]
    }
   ],
   "source": [
    "favorite_languages = {\n",
    "    'cameron':'python',\n",
    "    'mattia':'c',\n",
    "    'paul':'java',\n",
    "    'adam':'rust'\n",
    "}\n",
    "\n",
    "print(favorite_languages)"
   ]
  },
  {
   "cell_type": "markdown",
   "id": "d5ec8d9e",
   "metadata": {},
   "source": [
    "> When writing the dictionary thats longer than one line, we format it like this, with one key:value pair a line seperated by a comma. Using the dictionary, we can search for a person who took our poll then look at their favoriate language. "
   ]
  },
  {
   "cell_type": "code",
   "execution_count": 10,
   "id": "fbce3859",
   "metadata": {},
   "outputs": [
    {
     "name": "stdout",
     "output_type": "stream",
     "text": [
      "Camerons favoriate language is Python.\n"
     ]
    }
   ],
   "source": [
    "favorite_languages = {\n",
    "    'cameron':'python',\n",
    "    'mattia':'c',\n",
    "    'paul':'java',\n",
    "    'adam':'rust'\n",
    "}\n",
    "\n",
    "# Setting the value to example using its key\n",
    "example = favorite_languages['cameron'].title()\n",
    "# Printing the variable, I tried to print the key itself and that doesn't seem to work so I assume you have to do it \n",
    "# this way.\n",
    "print(f\"Camerons favoriate language is {example}.\")"
   ]
  },
  {
   "cell_type": "markdown",
   "id": "ab37418b",
   "metadata": {},
   "source": [
    "### Using get() To Access Values\n",
    "\n",
    "When using the square brackets to retreive a value we are interested in, if that value doesn't exist at that moment in time we will throw an error"
   ]
  },
  {
   "cell_type": "code",
   "execution_count": 11,
   "id": "e9b294bf",
   "metadata": {},
   "outputs": [
    {
     "ename": "KeyError",
     "evalue": "'points'",
     "output_type": "error",
     "traceback": [
      "\u001b[0;31m---------------------------------------------------------------------------\u001b[0m",
      "\u001b[0;31mKeyError\u001b[0m                                  Traceback (most recent call last)",
      "Input \u001b[0;32mIn [11]\u001b[0m, in \u001b[0;36m<cell line: 3>\u001b[0;34m()\u001b[0m\n\u001b[1;32m      1\u001b[0m alien_0 \u001b[38;5;241m=\u001b[39m {\u001b[38;5;124m'\u001b[39m\u001b[38;5;124mcolour\u001b[39m\u001b[38;5;124m'\u001b[39m:\u001b[38;5;124m'\u001b[39m\u001b[38;5;124mgreen\u001b[39m\u001b[38;5;124m'\u001b[39m, \u001b[38;5;124m'\u001b[39m\u001b[38;5;124mspeed\u001b[39m\u001b[38;5;124m'\u001b[39m:\u001b[38;5;124m'\u001b[39m\u001b[38;5;124mslow\u001b[39m\u001b[38;5;124m'\u001b[39m}\n\u001b[0;32m----> 3\u001b[0m \u001b[38;5;28mprint\u001b[39m(\u001b[43malien_0\u001b[49m\u001b[43m[\u001b[49m\u001b[38;5;124;43m'\u001b[39;49m\u001b[38;5;124;43mpoints\u001b[39;49m\u001b[38;5;124;43m'\u001b[39;49m\u001b[43m]\u001b[49m)\n",
      "\u001b[0;31mKeyError\u001b[0m: 'points'"
     ]
    }
   ],
   "source": [
    "alien_0 = {'colour':'green', 'speed':'slow'}\n",
    "\n",
    "print(alien_0['points'])"
   ]
  },
  {
   "cell_type": "markdown",
   "id": "f554a882",
   "metadata": {},
   "source": [
    "> We use the get() method to create a value to be returned when requested if they key doesn't exist, when using the get() method, it requires the key as the first arguement, then a second optional arguement to tell python what to return if the key doesn't exist."
   ]
  },
  {
   "cell_type": "code",
   "execution_count": 12,
   "id": "4cd0ab22",
   "metadata": {},
   "outputs": [
    {
     "name": "stdout",
     "output_type": "stream",
     "text": [
      "No assinged value yet\n"
     ]
    }
   ],
   "source": [
    "alien_0 = {'colour':'green', 'speed':'slow'}\n",
    "\n",
    "point_value = alien_0.get('points', 'No assinged value yet')\n",
    "print(point_value)"
   ]
  },
  {
   "cell_type": "markdown",
   "id": "283c9a8f",
   "metadata": {},
   "source": [
    "> This is difficult to think about getting something that doesn't exist, if the value we want to get might not exist, the book says to use the get() method instead of [] but I think it would be worth just checkig if the value exists or not no?"
   ]
  },
  {
   "cell_type": "markdown",
   "id": "bb37ff27",
   "metadata": {},
   "source": [
    "## Tasks"
   ]
  },
  {
   "cell_type": "code",
   "execution_count": 13,
   "id": "9e8e2b91",
   "metadata": {},
   "outputs": [
    {
     "name": "stdout",
     "output_type": "stream",
     "text": [
      "Cameron\n",
      "Wheeler\n",
      "22\n",
      "Port Erin\n"
     ]
    }
   ],
   "source": [
    "person = {\n",
    "    'first_name':'cameron',\n",
    "    'second_name':'wheeler',\n",
    "    'age':'22',\n",
    "    'address':'port erin'\n",
    "}\n",
    "\n",
    "# Printing off each key:value\n",
    "print(person['first_name'].title())\n",
    "print(person['second_name'].title())\n",
    "print(person['age'])\n",
    "print(person['address'].title())"
   ]
  },
  {
   "cell_type": "code",
   "execution_count": 14,
   "id": "50a70ee9",
   "metadata": {},
   "outputs": [
    {
     "name": "stdout",
     "output_type": "stream",
     "text": [
      "Cameron's lucky number is 13.\n",
      "Angus's lucky number is 45.\n",
      "Lynda's lucky number is 22.\n",
      "Tilda's lucky number is 32.\n"
     ]
    }
   ],
   "source": [
    "fav_numbers = {\n",
    "    'cameron': 13,\n",
    "    'angus': 45,\n",
    "    'lynda':22,\n",
    "    'tilda': 32\n",
    "}\n",
    "\n",
    "# Printing off the name and their favoriate number\n",
    "print(f\"Cameron's lucky number is {fav_numbers['cameron']}.\")\n",
    "print(f\"Angus's lucky number is {fav_numbers['angus']}.\")\n",
    "print(f\"Lynda's lucky number is {fav_numbers['lynda']}.\")\n",
    "print(f\"Tilda's lucky number is {fav_numbers['tilda']}.\")"
   ]
  },
  {
   "cell_type": "code",
   "execution_count": null,
   "id": "c16b83b2",
   "metadata": {},
   "outputs": [],
   "source": [
    "definitions = {\n",
    "    'string':'A string is a series of charaters, anything inside a set of brackets is a string, even this sentence.',\n",
    "    'if statement':'An if statment allows us to check a condition of interest.',\n",
    "    'for loop':'A for loop allows us to run code a certain amount of times, usually for repetative tasks.'\n",
    "}\n",
    "\n",
    "print(definitions['string'])\n",
    "print(definitions['if statement'])\n",
    "print(definitions['for loop'])"
   ]
  },
  {
   "cell_type": "markdown",
   "id": "fe78ec86",
   "metadata": {},
   "source": [
    "### Looping Through A Dictionary\n",
    "\n",
    "In a dictionary we can loop through it in many ways, for exmple we can loop through both the keys and values, just the keys or just the values. This is because data is stored in many differnt ways in a dictionary so it's important to be able to loop through in different ways. "
   ]
  },
  {
   "cell_type": "code",
   "execution_count": 16,
   "id": "1d070fd1",
   "metadata": {},
   "outputs": [
    {
     "name": "stdout",
     "output_type": "stream",
     "text": [
      "\n",
      "Key: username\n",
      "value: camwheeler135\n",
      "\n",
      "Key: first_name\n",
      "value: cameron\n",
      "\n",
      "Key: second_name\n",
      "value: wheeler\n"
     ]
    }
   ],
   "source": [
    "user_0 = {\n",
    "    'username':'camwheeler135',\n",
    "    'first_name':'cameron',\n",
    "    'second_name':'wheeler'\n",
    "}\n",
    "\n",
    "# We could access indivdual parts of the dictionary with methods we have done before \n",
    "# But what of we wanted to access it all? We need to use a for loop...\n",
    "\n",
    "# Create two variables that we store the key:value pair, the item returns a list of key value pairs (not sure why)\n",
    "for key, value in user_0.items():\n",
    "    print(f\"\\nKey: {key}\")\n",
    "    print(f\"value: {value}\")"
   ]
  },
  {
   "cell_type": "code",
   "execution_count": 17,
   "id": "6e8e6004",
   "metadata": {},
   "outputs": [
    {
     "name": "stdout",
     "output_type": "stream",
     "text": [
      "\n",
      "Key: Cameron\n",
      "Value: Python\n",
      "Cameron's favorite language is Python\n",
      "\n",
      "Key: Mattia\n",
      "Value: C\n",
      "Mattia's favorite language is C\n",
      "\n",
      "Key: Paul\n",
      "Value: Java\n",
      "Paul's favorite language is Java\n",
      "\n",
      "Key: Adam\n",
      "Value: Rust\n",
      "Adam's favorite language is Rust\n"
     ]
    }
   ],
   "source": [
    "favorite_languages = {\n",
    "    'cameron':'python',\n",
    "    'mattia':'c',\n",
    "    'paul':'java',\n",
    "    'adam':'rust'\n",
    "}\n",
    "\n",
    "for name, value in favorite_languages.items():\n",
    "    print(f\"\\nKey: {name.title()}\")\n",
    "    print(f\"Value: {value.title()}\")\n",
    "    print(f\"{name.title()}'s favorite language is {value.title()}\")"
   ]
  },
  {
   "cell_type": "markdown",
   "id": "6589d8ef",
   "metadata": {},
   "source": [
    "### Working With Keys() Method\n",
    "\n",
    "Instead of using .items(), we can use the keys() method to loop through all the keys when we don't want use them"
   ]
  },
  {
   "cell_type": "code",
   "execution_count": 18,
   "id": "d2a7046c",
   "metadata": {},
   "outputs": [
    {
     "name": "stdout",
     "output_type": "stream",
     "text": [
      "\n",
      "Cameron took our poll on their favorite language\n",
      "\n",
      "Mattia took our poll on their favorite language\n",
      "\n",
      "Paul took our poll on their favorite language\n",
      "\n",
      "Adam took our poll on their favorite language\n"
     ]
    }
   ],
   "source": [
    "favorite_languages = {\n",
    "    'cameron':'python',\n",
    "    'mattia':'c',\n",
    "    'paul':'java',\n",
    "    'adam':'rust'\n",
    "}\n",
    "\n",
    "for name in favorite_languages.keys():\n",
    "    print(f'\\n{name.title()} took our poll on their favorite language')"
   ]
  },
  {
   "cell_type": "code",
   "execution_count": 19,
   "id": "ba6ef154",
   "metadata": {},
   "outputs": [
    {
     "name": "stdout",
     "output_type": "stream",
     "text": [
      "\n",
      "Hello Cameron\n",
      "\n",
      "Hello Mattia\n",
      "You have been teaching me how to code!!!\n",
      "\n",
      "Hello Paul\n",
      "\n",
      "Hello Adam\n"
     ]
    }
   ],
   "source": [
    "favorite_languages = {\n",
    "    'cameron':'python',\n",
    "    'mattia':'c',\n",
    "    'paul':'java',\n",
    "    'adam':'rust'\n",
    "}\n",
    "\n",
    "\n",
    "main_teacher = ['mattia']\n",
    "\n",
    "# For loop to run through all the keys in the dictionary\n",
    "for name in favorite_languages.keys():\n",
    "    print(f\"\\nHello {name.title()}\")\n",
    "#     Using an if loop to select certain keys our of the mix and print a specific message\n",
    "    if name in main_teacher:\n",
    "        print(f\"You have been teaching me how to code!!!\")"
   ]
  },
  {
   "cell_type": "code",
   "execution_count": 20,
   "id": "9b224f7c",
   "metadata": {},
   "outputs": [
    {
     "name": "stdout",
     "output_type": "stream",
     "text": [
      "\n",
      "Hello Cameron\n",
      "\n",
      "Hello Mattia\n",
      "\n",
      "Hello Paul\n",
      "\n",
      "Hello Adam\n",
      "\n",
      "Charlie would you please take the poll\n"
     ]
    }
   ],
   "source": [
    "favorite_languages = {\n",
    "    'cameron':'python',\n",
    "    'mattia':'c',\n",
    "    'paul':'java',\n",
    "    'adam':'rust'\n",
    "}\n",
    "\n",
    "# For loop to run through all the keys in the dictionary\n",
    "for name in favorite_languages.keys():\n",
    "    print(f\"\\nHello {name.title()}\")\n",
    "    \n",
    "# Checking if charlie has take the poll yet, this can be used to check for many things\n",
    "if 'charlie' not in favorite_languages.keys():\n",
    "    print(\"\\nCharlie would you please take the poll\")"
   ]
  },
  {
   "cell_type": "markdown",
   "id": "676ff0e4",
   "metadata": {},
   "source": [
    "### Looping Through Dictionaries In A Particular Order\n",
    "\n",
    "Starting from Python3.7 looping through the list returns the order it was put into the list, but sometimes we will want to print it in a select order, this part we are going to learn how to do this. One way to do it is with the sorted() function"
   ]
  },
  {
   "cell_type": "code",
   "execution_count": 21,
   "id": "9292ccf7",
   "metadata": {},
   "outputs": [
    {
     "name": "stdout",
     "output_type": "stream",
     "text": [
      "Adam, thank you for taking the poll!\n",
      "Cameron, thank you for taking the poll!\n",
      "Mattia, thank you for taking the poll!\n",
      "Paul, thank you for taking the poll!\n"
     ]
    }
   ],
   "source": [
    "favorite_languages = {\n",
    "    'cameron':'python',\n",
    "    'mattia':'c',\n",
    "    'paul':'java',\n",
    "    'adam':'rust'\n",
    "}\n",
    "\n",
    "# Sorting the names in alphabetical order using the sorted() function.\n",
    "for name in sorted(favorite_languages.keys()):\n",
    "    print(f\"{name.title()}, thank you for taking the poll!\")"
   ]
  },
  {
   "cell_type": "markdown",
   "id": "6033f85b",
   "metadata": {},
   "source": [
    "### Looping Through Dictionaires For Just Values"
   ]
  },
  {
   "cell_type": "code",
   "execution_count": 22,
   "id": "17df578c",
   "metadata": {},
   "outputs": [
    {
     "name": "stdout",
     "output_type": "stream",
     "text": [
      "These are the languages that have been mentioed in the poll.\n",
      "Python\n",
      "C\n",
      "Java\n",
      "Rust\n"
     ]
    }
   ],
   "source": [
    "favorite_languages = {\n",
    "    'cameron':'python',\n",
    "    'mattia':'c',\n",
    "    'paul':'java',\n",
    "    'adam':'rust'\n",
    "}\n",
    "\n",
    "print(\"These are the languages that have been mentioed in the poll.\")\n",
    "# Looping through the dictonary, printing off just the values \n",
    "for language in favorite_languages.values():\n",
    "    print(language.title())"
   ]
  },
  {
   "cell_type": "markdown",
   "id": "832fdd0e",
   "metadata": {},
   "source": [
    "> Here we are printing off all of the values in the dictionary using the value() function, but what about if we are working with a large amount of data with several repeats, we can use 'set()' the bracket around the value()."
   ]
  },
  {
   "cell_type": "code",
   "execution_count": 24,
   "id": "afa443ca",
   "metadata": {},
   "outputs": [
    {
     "name": "stdout",
     "output_type": "stream",
     "text": [
      "These are the languages that have been mentioed in the poll.\n",
      "Rust\n",
      "Python\n",
      "Java\n",
      "C\n"
     ]
    }
   ],
   "source": [
    "favorite_languages = {\n",
    "    'cameron':'python',\n",
    "    'mattia':'c',\n",
    "    'paul':'java',\n",
    "    'adam':'rust'\n",
    "}\n",
    "\n",
    "print(\"These are the languages that have been mentioed in the poll.\")\n",
    "# Looping through the dictonary, printing off just the values using the set()\n",
    "# Although there are no repeats in this dictionary, set() would filter all of the repeats out\n",
    "for language in set(favorite_languages.values()):\n",
    "    print(language.title())"
   ]
  },
  {
   "cell_type": "markdown",
   "id": "2326925a",
   "metadata": {},
   "source": [
    "### Tasks"
   ]
  },
  {
   "cell_type": "code",
   "execution_count": 25,
   "id": "472f2599",
   "metadata": {},
   "outputs": [
    {
     "name": "stdout",
     "output_type": "stream",
     "text": [
      "\n",
      "Key: string\n",
      "Value: A string is a series of charaters, anything inside a set of brackets is a string, even this sentence.\n",
      "\n",
      "Key: if statement\n",
      "Value: An if statment allows us to check a condition of interest.\n",
      "\n",
      "Key: for loop\n",
      "Value: A for loop allows us to run code a certain amount of times, usually for repetative tasks.\n"
     ]
    }
   ],
   "source": [
    "definitions = {\n",
    "    'string':'A string is a series of charaters, anything inside a set of brackets is a string, even this sentence.',\n",
    "    'if statement':'An if statment allows us to check a condition of interest.',\n",
    "    'for loop':'A for loop allows us to run code a certain amount of times, usually for repetative tasks.'\n",
    "}\n",
    "\n",
    "# Cleaning up the tast we had before, instead of using the print call 3 times in the task above, we are just\n",
    "# going to use a for loop printing off key:value pair\n",
    "for key, value in definitions.items():\n",
    "    print(f\"\\nKey: {key}\")\n",
    "    print(f\"Value: {value}\")"
   ]
  },
  {
   "cell_type": "code",
   "execution_count": 26,
   "id": "a322ab96",
   "metadata": {},
   "outputs": [
    {
     "name": "stdout",
     "output_type": "stream",
     "text": [
      "\n",
      "Key: String\n",
      "Value: A string is a series of charaters, anything inside a set of brackets is a string, even this sentence.\n",
      "\n",
      "Key: If Statement\n",
      "Value: An if statment allows us to check a condition of interest.\n",
      "\n",
      "Key: For Loop\n",
      "Value: A for loop allows us to run code a certain amount of times, usually for repetative tasks.\n",
      "\n",
      "Key: Dictionary\n",
      "Value: Allows us to store information and an associated key so we can access that information\n",
      "\n",
      "Key: Machine Learning\n",
      "Value: A subset of AI that consists of algorithms that reason on data without explicit programming\n"
     ]
    }
   ],
   "source": [
    "definitions = {\n",
    "    'string':'A string is a series of charaters, anything inside a set of brackets is a string, even this sentence.',\n",
    "    'if statement':'An if statment allows us to check a condition of interest.',\n",
    "    'for loop':'A for loop allows us to run code a certain amount of times, usually for repetative tasks.',\n",
    "    'dictionary':'Allows us to store information and an associated key so we can access that information',\n",
    "    'machine learning':'A subset of AI that consists of algorithms that reason on data without explicit programming'\n",
    "}\n",
    "\n",
    "# Cleaning up the tast we had before, instead of using the print call 3 times in the task above, we are just\n",
    "# going to use a for loop printing off key:value pair\n",
    "for key, value in definitions.items():\n",
    "    print(f\"\\nKey: {key.title()}\")\n",
    "    print(f\"Value: {value}\")"
   ]
  },
  {
   "cell_type": "code",
   "execution_count": 27,
   "id": "d284ab41",
   "metadata": {},
   "outputs": [
    {
     "name": "stdout",
     "output_type": "stream",
     "text": [
      "\n",
      "The river Nile runs through Eygpt.\n",
      "\n",
      "The river Amazon runs through Brazil.\n",
      "\n",
      "The river Thames runs through London.\n",
      "\n",
      "The river Ob runs through Russia.\n",
      "\n",
      "These are all the rivers in the dictionary.\n",
      "Nile\n",
      "Amazon\n",
      "Thames\n",
      "Ob\n",
      "\n",
      "These are all the countrys that the rivers run through.\n",
      "Eygpt\n",
      "Brazil\n",
      "London\n",
      "Russia\n"
     ]
    }
   ],
   "source": [
    "major_rivers = {\n",
    "    'nile':'eygpt',\n",
    "    'amazon':'brazil',\n",
    "    'thames':'london',\n",
    "    'ob':'russia'\n",
    "}\n",
    "\n",
    "# Printing off key:value pairs with a message\n",
    "for key, value in major_rivers.items():\n",
    "    print(f\"\\nThe river {key.title()} runs through {value.title()}.\")\n",
    "\n",
    "# Printing off just the keys\n",
    "print('\\nThese are all the rivers in the dictionary.')\n",
    "\n",
    "for river in major_rivers.keys():\n",
    "    print(river.title())\n",
    "    \n",
    "# Printing off just the values\n",
    "print(\"\\nThese are all the countrys that the rivers run through.\")\n",
    "\n",
    "for country in major_rivers.values():\n",
    "    print(country.title())"
   ]
  },
  {
   "cell_type": "code",
   "execution_count": 28,
   "id": "e64f1210",
   "metadata": {},
   "outputs": [
    {
     "name": "stdout",
     "output_type": "stream",
     "text": [
      "\n",
      "Angus, please can you take the poll so I can collect some more data :).\n",
      "\n",
      "Cameron, thank you for taking the poll!\n",
      "\n",
      "Sam, please can you take the poll so I can collect some more data :).\n",
      "\n",
      "Luca, please can you take the poll so I can collect some more data :).\n",
      "\n",
      "Alex, please can you take the poll so I can collect some more data :).\n",
      "\n",
      "Mattia, thank you for taking the poll!\n"
     ]
    }
   ],
   "source": [
    "favorite_languages = {\n",
    "    'cameron':'python',\n",
    "    'mattia':'c',\n",
    "    'paul':'java',\n",
    "    'adam':'rust'\n",
    "}\n",
    "\n",
    "# Making a list of people who need to take the poll, including some that already have taken the poll\n",
    "# This will allow us to use the set() to filter out the names that have already been used before\n",
    "needs_to_take = ['angus', 'cameron', 'sam', 'luca', 'alex', 'mattia']\n",
    "\n",
    "for name in needs_to_take:\n",
    "    if name in favorite_languages:\n",
    "        print(f\"\\n{name.title()}, thank you for taking the poll!\")\n",
    "    else:\n",
    "        print(f\"\\n{name.title()}, please can you take the poll so I can collect some more data :).\")"
   ]
  },
  {
   "cell_type": "markdown",
   "id": "c406780e",
   "metadata": {},
   "source": [
    "### Nesting\n",
    "\n",
    "Nesting is a powerful tool that allows us to do many things, we can nest a list of values inside of a dictionary, we can nest a dictionary inside of a list, we can even nest a dictionary inside of a dictionary."
   ]
  },
  {
   "cell_type": "markdown",
   "id": "86491cfd",
   "metadata": {},
   "source": [
    "### A List Of Dictionaries\n",
    "\n",
    "So we have had a dictionary of alien_0, but what happens when we have a fleet of aliens?? HOW DO WE MANAGE A FLEET OF ALIENS??? One way to do this is to create a list of dictionaries, where each dictionary has the information about each alien. "
   ]
  },
  {
   "cell_type": "code",
   "execution_count": 29,
   "id": "10ce7e64",
   "metadata": {},
   "outputs": [
    {
     "name": "stdout",
     "output_type": "stream",
     "text": [
      "{'colour': 'green', 'points': 5}\n",
      "{'colour': 'yellow', 'points': 10}\n",
      "{'colour': 'red', 'points': 15}\n"
     ]
    }
   ],
   "source": [
    "# Creating dictionaries of each alien\n",
    "alien_0 = {'colour':'green', 'points':5}\n",
    "alien_1 = {'colour':'yellow', 'points':10}\n",
    "alien_2 = {'colour':'red', 'points':15}\n",
    "\n",
    "# Making a list of aliens that themselves are dictionaires \n",
    "aliens = [alien_0, alien_1, alien_2]\n",
    "\n",
    "# Printing off each dictionary\n",
    "for alien in aliens:\n",
    "    print(alien)"
   ]
  },
  {
   "cell_type": "code",
   "execution_count": 30,
   "id": "c9b8021b",
   "metadata": {},
   "outputs": [
    {
     "name": "stdout",
     "output_type": "stream",
     "text": [
      "{'colour': 'green', 'points': 5, 'speed': 'slow'}\n",
      "{'colour': 'green', 'points': 5, 'speed': 'slow'}\n",
      "{'colour': 'green', 'points': 5, 'speed': 'slow'}\n",
      "{'colour': 'green', 'points': 5, 'speed': 'slow'}\n",
      "{'colour': 'green', 'points': 5, 'speed': 'slow'}\n",
      "\n",
      "\n",
      "Total number of aliens we have created is: 30\n"
     ]
    }
   ],
   "source": [
    "# Making an empty list for store all of our aliens\n",
    "aliens = []\n",
    "\n",
    "# Making 30 aliens\n",
    "for alien in range(30):\n",
    "    green_alien = {'colour':'green', 'points': 5, 'speed':'slow'}\n",
    "    aliens.append(green_alien)\n",
    "    \n",
    "# Showing the first 5 aliens\n",
    "for alien in aliens[:5]:\n",
    "    print(alien)\n",
    "print(\"\\n\")\n",
    "\n",
    "# Showing the total amount of aliens we have created for our fleet\n",
    "print(f\"Total number of aliens we have created is: {len(aliens)}\")"
   ]
  },
  {
   "cell_type": "code",
   "execution_count": 31,
   "id": "af34b8a3",
   "metadata": {},
   "outputs": [
    {
     "name": "stdout",
     "output_type": "stream",
     "text": [
      "This is a 1 cameron clone\n",
      "This is a 1 cameron clone\n",
      "This is a 1 cameron clone\n",
      "This is a 1 cameron clone\n",
      "This is a 1 cameron clone\n",
      "This is a 1 cameron clone\n",
      "This is a 1 cameron clone\n",
      "This is a 1 cameron clone\n",
      "This is a 1 cameron clone\n",
      "This is a 1 cameron clone\n",
      "Our Cameron army now has 50 Camerons in.\n"
     ]
    }
   ],
   "source": [
    "# Making an empty list of clones\n",
    "camerons = []\n",
    "\n",
    "# Making an army of camerons\n",
    "for cameron in range(50):\n",
    "# Giving the cameron clones their key:value pairs!\n",
    "    cameron_clone = {'age': 22 , 'height': '6 foot 4 inches', 'favorite food': 'bacon and eggs'}\n",
    "#  Appending the clones to the list of camerons\n",
    "    camerons.append(cameron_clone)\n",
    "\n",
    "# Showing the first 10 camerons \n",
    "for cameron in camerons[:10]:\n",
    "    print('This is a 1 cameron clone')\n",
    "\n",
    "# Checking the amount of camerons we have created\n",
    "print(f\"Our Cameron army now has {len(camerons)} Camerons in.\")"
   ]
  },
  {
   "cell_type": "markdown",
   "id": "fd7d7845",
   "metadata": {},
   "source": [
    "> So when we are working with a massive fleet of aliens, but we want to change the speed, colour and point value of the aliens as we go further on into the game. We will need to create the aliens, then using a for loop and if statement to run through a certain set of aliens and set new key:pair values."
   ]
  },
  {
   "cell_type": "code",
   "execution_count": 33,
   "id": "9c3bae45",
   "metadata": {},
   "outputs": [
    {
     "name": "stdout",
     "output_type": "stream",
     "text": [
      "{'colour': 'yellow', 'speed': 'medium', 'points': 10}\n",
      "{'colour': 'yellow', 'speed': 'medium', 'points': 10}\n",
      "{'colour': 'yellow', 'speed': 'medium', 'points': 10}\n",
      "{'colour': 'green', 'speed': 'slow', 'points': 5}\n",
      "{'colour': 'green', 'speed': 'slow', 'points': 5}\n"
     ]
    }
   ],
   "source": [
    "# Making an empty list to store our alien dictionary \n",
    "aliens = []\n",
    "\n",
    "# Making 30 green aliens\n",
    "for alien in range(30):\n",
    "    new_alien = {'colour':'green', 'speed':'slow', 'points': 5 }\n",
    "    aliens.append(new_alien)\n",
    "\n",
    "# Get the first 3 aliens in the list \n",
    "# We are using brackets on the key, not sure why we are though\n",
    "for alien in aliens[:3]:\n",
    "    if alien ['colour'] == 'green':\n",
    "        alien['colour'] = 'yellow'\n",
    "        alien['speed'] = 'medium'\n",
    "        alien['points'] = 10\n",
    "\n",
    "# Printing the first 5 aliens to show that we have made the first 3 a different kind of aliens\n",
    "for alien in aliens[:5]:\n",
    "    print(alien)\n",
    "        "
   ]
  },
  {
   "cell_type": "markdown",
   "id": "3b2948f2",
   "metadata": {},
   "source": [
    "> It is common to store a number of dictionaries, in a list such as the users of a website being stored in a dictionary but remember when we are creating a dictionary we need to make sure all the variables are the same, if they are not the same it wont work"
   ]
  },
  {
   "cell_type": "markdown",
   "id": "977461d2",
   "metadata": {},
   "source": [
    "### Placing A List Inside Of A Dictionary \n",
    "\n",
    "So far we have been nesting a dictionary inside of a list, for example we have been placing our alien dictionary inside an aliens list. Now we are going to do the reverse, placing a list inside of a dictionary. In this example we are going to make a pizza order, if we were not using dictionaries and just lists we would only really be able to store the toppings of the pizza, but now we can look at the entire pizza using a dictionaries."
   ]
  },
  {
   "cell_type": "code",
   "execution_count": 34,
   "id": "9989a0a4",
   "metadata": {},
   "outputs": [
    {
     "name": "stdout",
     "output_type": "stream",
     "text": [
      "You have ordered a pizza with a thick crust.\n",
      "The toppings you have selected to go ontop of your thick crust pizza are\n",
      "Chicken\n",
      "Extra Cheese\n",
      "Peppers\n",
      "\n",
      "Thank you for ordering with us!\n"
     ]
    }
   ],
   "source": [
    "# Storing information about the pizza being ordered\n",
    "# Spot the list inside of the dictionary\n",
    "pizza = {\n",
    "    'crust':'thick',\n",
    "    'toppings':['chicken', 'extra cheese', 'peppers']\n",
    "}\n",
    "\n",
    "# Finalising the pizza with the customer\n",
    "print(f\"You have ordered a pizza with a {pizza['crust']} crust.\")\n",
    "print(f\"The toppings you have selected to go ontop of your {pizza['crust']} crust pizza are\")\n",
    "# Using a for loop to loop through the toppings list and printing it out\n",
    "for topping in pizza['toppings']:\n",
    "    print(topping.title())\n",
    "\n",
    "print(\"\\nThank you for ordering with us!\")"
   ]
  },
  {
   "cell_type": "markdown",
   "id": "86fc4d9d",
   "metadata": {},
   "source": [
    "> So we begin with a dictionary that has the key 'crust that contains the value descrbing the kind of crust the customer ordered. Next we have the key toppings that contains the list of all the toppings that the customer ordered. We then summerize the order with the customer using a f-string of the crust type, then we use a for loop to loop throuhg each of the ingedients in the list of toppings.\n",
    "\n",
    "> Using a list inside of a dictionary allows us to have multiple values attached to a key!!!!!!!"
   ]
  },
  {
   "cell_type": "code",
   "execution_count": 36,
   "id": "5c7dfe6f",
   "metadata": {},
   "outputs": [
    {
     "name": "stdout",
     "output_type": "stream",
     "text": [
      "\n",
      "Cameron's favorite languages are\n",
      "Python\n",
      "\n",
      "Mattia's favorite languages are\n",
      "C\n",
      "Python\n",
      "Java\n",
      "\n",
      "Paul's favorite languages are\n",
      "Java\n",
      "Python\n",
      "\n",
      "Adam's favorite languages are\n",
      "Rust\n",
      "Python\n"
     ]
    }
   ],
   "source": [
    "favorite_languages = {\n",
    "# Camerons python has to be in a \"list\" format because remeber EVERYTHING MUST BE THE SAME\n",
    "    'cameron':['python'],\n",
    "    'mattia':['c', 'python', 'java'],\n",
    "    'paul':['java', 'python'],\n",
    "    'adam':['rust', 'python']\n",
    "}\n",
    "\n",
    "# For loop to run through each of the people who took the poll\n",
    "# For name (key) and languages (values) in the favorite languages dictionary\n",
    "for name, languages in favorite_languages.items():\n",
    "    \n",
    "# Printing each of the names (keys) in the dictionary\n",
    "    print(f\"\\n{name.title()}'s favorite languages are\")\n",
    "    \n",
    "# Now its time to run through each of languages inside of each list inside the values\n",
    "    for language in languages:\n",
    "        print(language.title())"
   ]
  },
  {
   "cell_type": "markdown",
   "id": "c1a8235c",
   "metadata": {},
   "source": [
    "> At the top, we now has the dictionary that has a list of languages the people in the poll selected. When we loop through the dictionary we use the variable name languages to store the value of the dictionary. We then run through each of the persons list in the second loop so we can print off as many languages that they selected.\n",
    "\n",
    "\n",
    "> NOTE we shouldn't nest things too deeply, remeber that we want things to be simple, if we start nesting things too deeply it will become really hard to read and understand what the code is doing."
   ]
  },
  {
   "cell_type": "markdown",
   "id": "7be7fb88",
   "metadata": {},
   "source": [
    "### Dictionary Inside Of A Dictionary\n",
    "\n",
    "You can nest a dictionary inside of a dictionary but it can get very complicated very quickly, an example of a dictionary inside of a dictionary would be having a dictionary of users for a website each with a unique username, and for the value of each of those usernames (keys) we have another dictionary that contains all the officical information of each user such as first, last and location data."
   ]
  },
  {
   "cell_type": "code",
   "execution_count": 37,
   "id": "08c3d80e",
   "metadata": {},
   "outputs": [
    {
     "name": "stdout",
     "output_type": "stream",
     "text": [
      "\n",
      "Username: camwheeler135\n",
      "\tFull Name: Cameron Wheeler.\n",
      "\tLocation: Port Erin.\n",
      "\n",
      "Username: mattia123\n",
      "\tFull Name: Mattia Cinelli.\n",
      "\tLocation: Cambridge.\n"
     ]
    }
   ],
   "source": [
    "users = {\n",
    "    'camwheeler135': {\n",
    "        'first':'cameron',\n",
    "        'last':'wheeler',\n",
    "        'location':'port erin'\n",
    "    },\n",
    "    \n",
    "    'mattia123': {\n",
    "        'first':'mattia',\n",
    "        'last':'cinelli',\n",
    "        'location':'cambridge'\n",
    "    }\n",
    "}\n",
    "\n",
    "# Looping through the users dictionary\n",
    "# Each key (username) is attached to the variable username\n",
    "# Each value (information of user) is attached to the variable user_info\n",
    "for username, user_info in users.items():\n",
    "    \n",
    "#   Printing the username\n",
    "    print(f'\\nUsername: {username}')\n",
    "    \n",
    "#   Assinging the two values to full_name\n",
    "    fullname = f\"{user_info['first']} {user_info['last']}\"\n",
    "    \n",
    "#   Assinging location to variable Location\n",
    "    Location = user_info['location']\n",
    "    \n",
    "\n",
    "# Printing the inner dictionary stuff we have assinged to varibles before\n",
    "    print(f\"\\tFull Name: {fullname.title()}.\")\n",
    "    print(f\"\\tLocation: {Location.title()}.\")"
   ]
  },
  {
   "cell_type": "markdown",
   "id": "b9b378e6",
   "metadata": {},
   "source": [
    "> Note that the structure of each of the dictionaries are the same, if they weren't python would be able to run but the code we would have to write would be very complicated"
   ]
  },
  {
   "cell_type": "markdown",
   "id": "d18c70f0",
   "metadata": {},
   "source": [
    "## Tasks (Let The Hunger Games Begin....... Its about to get tough)"
   ]
  },
  {
   "cell_type": "code",
   "execution_count": 39,
   "id": "c65f7793",
   "metadata": {},
   "outputs": [
    {
     "name": "stdout",
     "output_type": "stream",
     "text": [
      "\n",
      "This is the persons information\n",
      "First_Name : Cameron\n",
      "Second_Name : Wheeler\n",
      "Age : 22\n",
      "Address : Port Erin\n",
      "\n",
      "This is the persons information\n",
      "First_Name : Angus\n",
      "Second_Name : Wheeler\n",
      "Age : 20\n",
      "Address : Port Erin\n"
     ]
    }
   ],
   "source": [
    "# Make two dictionaries of different people and place them in a list of people\n",
    "person1 = {\n",
    "    'first_name':'cameron',\n",
    "    'second_name':'wheeler',\n",
    "    'age':'22',\n",
    "    'address':'port erin'\n",
    "}\n",
    "\n",
    "person2 = {\n",
    "    'first_name':'angus',\n",
    "    'second_name':'wheeler',\n",
    "    'age':'20',\n",
    "    'address':'port erin'\n",
    "}\n",
    "\n",
    "# Making the list of people\n",
    "people = [person1, person2]\n",
    "\n",
    "# Loop through the list and print of everything we know about the person\n",
    "\n",
    "for person in people:\n",
    "    print(\"\\nThis is the persons information\")\n",
    "    for key, value in person.items():\n",
    "        print(f\"{key.title()} : {value.title()}\")\n"
   ]
  },
  {
   "cell_type": "markdown",
   "id": "6c5a4ee4",
   "metadata": {},
   "source": [
    "> Here is the first task, we have made two different dictionaries, added them to a list and then printed out all the know about each of the people, I think I could make it look neater not going to lie."
   ]
  },
  {
   "cell_type": "code",
   "execution_count": 40,
   "id": "9263c637",
   "metadata": {},
   "outputs": [
    {
     "name": "stdout",
     "output_type": "stream",
     "text": [
      "\n",
      "This is all the information we have on this pet!\n",
      "Name : Tilda\n",
      "Animal : Dog\n",
      "Age : 11\n",
      "Owner : Lynda\n",
      "\n",
      "This is all the information we have on this pet!\n",
      "Name : Duffy\n",
      "Animal : Dog\n",
      "Age : 14\n",
      "Owner : Barbra\n",
      "\n",
      "This is all the information we have on this pet!\n",
      "Name : Jack\n",
      "Animal : Dog\n",
      "Age : 11\n",
      "Owner : Hillary\n"
     ]
    }
   ],
   "source": [
    "# Making dictionaries of different pets \n",
    "pet1 = {\n",
    "    'name':'tilda',\n",
    "    'animal':'dog',\n",
    "    'age': '11',\n",
    "    'owner':'lynda'\n",
    "}\n",
    "\n",
    "pet2 = {\n",
    "    'name':'duffy',\n",
    "    'animal':'dog',\n",
    "    'age': '14',\n",
    "    'owner':'barbra'\n",
    "}\n",
    "\n",
    "pet3 = {\n",
    "    'name':'jack',\n",
    "    'animal':'dog',\n",
    "    'age': '11',\n",
    "    'owner':'hillary'\n",
    "}\n",
    "\n",
    "\n",
    "list_of_pets = [pet1, pet2, pet3]\n",
    "\n",
    "for pet in list_of_pets:\n",
    "    print(\"\\nThis is all the information we have on this pet!\")\n",
    "    for key, value in pet.items():\n",
    "        print(f\"{key.title()} : {value.title()}\")"
   ]
  },
  {
   "cell_type": "code",
   "execution_count": 41,
   "id": "5338adf4",
   "metadata": {
    "scrolled": true
   },
   "outputs": [
    {
     "name": "stdout",
     "output_type": "stream",
     "text": [
      "\n",
      "Cameron's favorite place is Sydney.\n",
      "\n",
      "Angus's favorite place is London.\n",
      "\n",
      "Lynda's favorite place is Edinbrugh.\n"
     ]
    }
   ],
   "source": [
    "favourite_places = {\n",
    "    'cameron':'sydney',\n",
    "    'angus':'london',\n",
    "    'lynda':'edinbrugh'\n",
    "}\n",
    "\n",
    "# Printing off each the person and their favorite location neatly\n",
    "\n",
    "for key, value in favourite_places.items():\n",
    "    print(f\"\\n{key.title()}'s favorite place is {value.title()}.\")"
   ]
  },
  {
   "cell_type": "code",
   "execution_count": 42,
   "id": "3b6db890",
   "metadata": {},
   "outputs": [
    {
     "name": "stdout",
     "output_type": "stream",
     "text": [
      "\n",
      "Cameron's favorite numbers are:\n",
      "13\n",
      "50\n",
      "\n",
      "Angus's favorite numbers are:\n",
      "45\n",
      "\n",
      "Lynda's favorite numbers are:\n",
      "22\n",
      "23\n",
      "24\n",
      "\n",
      "Tilda's favorite numbers are:\n",
      "32\n",
      "100\n"
     ]
    }
   ],
   "source": [
    "fav_numbers = {\n",
    "    'cameron': [13, 50],\n",
    "    'angus': [45],\n",
    "    'lynda': [22, 23, 24],\n",
    "    'tilda': [32, 100]\n",
    "}\n",
    "\n",
    "# For loop with the variables name and numbers for key and value respectively \n",
    "for name, numbers in fav_numbers.items():\n",
    "# Printing off the names\n",
    "    print(f\"\\n{name.title()}'s favorite numbers are:\")\n",
    "# Printing off the numbers without just printing the list!!!\n",
    "# The key is to use another for loop!!!!!!!\n",
    "    for number in numbers:\n",
    "        print(number)"
   ]
  },
  {
   "cell_type": "code",
   "execution_count": 43,
   "id": "25f38d49",
   "metadata": {},
   "outputs": [
    {
     "name": "stdout",
     "output_type": "stream",
     "text": [
      "\n",
      "The city of Sydney is an interesting city, here are some facts.\n",
      "Sydney is located in Austrailia\n",
      "Sydney has a population of 5.3 million people.\n",
      "A fun fact about Sydney is that Sydney has more than 100 beaches\n",
      "\n",
      "The city of London is an interesting city, here are some facts.\n",
      "London is located in England\n",
      "London has a population of 8.9 million people.\n",
      "A fun fact about London is that London has 170 museums\n",
      "\n",
      "The city of Edinbrugh is an interesting city, here are some facts.\n",
      "Edinbrugh is located in Scotland\n",
      "Edinbrugh has a population of 548 thousand people.\n",
      "A fun fact about Edinbrugh is that Edinbrugh castle is built on an inactive volcano\n"
     ]
    }
   ],
   "source": [
    "cities = {\n",
    "    'sydney':{\n",
    "        'country':'austrailia',\n",
    "        'population':'5.3 million',\n",
    "        'fact':'Sydney has more than 100 beaches'\n",
    "    },\n",
    "    'london':{\n",
    "        'country':'england',\n",
    "        'population':'8.9 million',\n",
    "        'fact':'London has 170 museums'\n",
    "    },\n",
    "    'edinbrugh':{\n",
    "        'country':'scotland',\n",
    "        'population':'548 thousand',\n",
    "        'fact':'Edinbrugh castle is built on an inactive volcano'\n",
    "    }\n",
    "}\n",
    "\n",
    "# Using a for loop to print off just the countries and the information in the dictionaries \n",
    "# I was making it too complicated at the start (by assinging stuff to variables) when infact its not that difficult\n",
    "# We just needed to loop through the cities (keys), then go into the information (values)\n",
    "for city, information in cities.items():\n",
    "    print(f\"\\nThe city of {city.title()} is an interesting city, here are some facts.\")\n",
    "    print(f\"{city.title()} is located in {information['country'].title()}\")\n",
    "    print(f\"{city.title()} has a population of {information['population']} people.\")\n",
    "    print(f\"A fun fact about {city.title()} is that {information['fact']}\")"
   ]
  },
  {
   "cell_type": "markdown",
   "id": "f3848ac6",
   "metadata": {},
   "source": [
    "## Summary\n",
    "\n",
    "- In this chapter we have learned what a dictionary is, and how to use them.\n",
    "- We have learned how to use a for loop to run through a dictionary\n",
    "- We have learned to nest different things inside of a dictionary, such as lists, or even other dictionaries\n",
    "- This was the first complicated chapter but it's DONE!"
   ]
  }
 ],
 "metadata": {
  "kernelspec": {
   "display_name": "Python 3 (ipykernel)",
   "language": "python",
   "name": "python3"
  },
  "language_info": {
   "codemirror_mode": {
    "name": "ipython",
    "version": 3
   },
   "file_extension": ".py",
   "mimetype": "text/x-python",
   "name": "python",
   "nbconvert_exporter": "python",
   "pygments_lexer": "ipython3",
   "version": "3.10.4"
  }
 },
 "nbformat": 4,
 "nbformat_minor": 5
}
