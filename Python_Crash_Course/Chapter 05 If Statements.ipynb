{
 "cells": [
  {
   "cell_type": "markdown",
   "id": "1748c11c",
   "metadata": {},
   "source": [
    "# Chapter 5 If Statments"
   ]
  },
  {
   "cell_type": "code",
   "execution_count": 1,
   "id": "4ec52bfd",
   "metadata": {},
   "outputs": [
    {
     "name": "stdout",
     "output_type": "stream",
     "text": [
      "Telsa\n",
      "BMW\n",
      "Audi\n",
      "Ford\n"
     ]
    }
   ],
   "source": [
    "cars = \"telsa\", \"bmw\", \"audi\", \"ford\"\n",
    "\n",
    "for car in cars:\n",
    "    if car == \"bmw\":\n",
    "        print(car.upper())\n",
    "    else:\n",
    "        print(car.title())"
   ]
  },
  {
   "cell_type": "markdown",
   "id": "22784b37",
   "metadata": {},
   "source": [
    "> This example loops through the elements in the variable cars, checks for if the element is called bmw, if the variable is bmw it converts it into uppcase, if the variable is not bmw it prints the code in title, then moves onto the next element to start the process again. "
   ]
  },
  {
   "cell_type": "markdown",
   "id": "603c4732",
   "metadata": {},
   "source": [
    "### Checking for equality."
   ]
  },
  {
   "cell_type": "code",
   "execution_count": 2,
   "id": "1f8ab2f1",
   "metadata": {},
   "outputs": [
    {
     "data": {
      "text/plain": [
       "True"
      ]
     },
     "execution_count": 2,
     "metadata": {},
     "output_type": "execute_result"
    }
   ],
   "source": [
    "car = \"bmw\"\n",
    "car == \"bmw\""
   ]
  },
  {
   "cell_type": "code",
   "execution_count": 3,
   "id": "d0dbfc0d",
   "metadata": {},
   "outputs": [
    {
     "data": {
      "text/plain": [
       "False"
      ]
     },
     "execution_count": 3,
     "metadata": {},
     "output_type": "execute_result"
    }
   ],
   "source": [
    "car = \"bmw\"\n",
    "car == \"audi\""
   ]
  },
  {
   "cell_type": "code",
   "execution_count": 4,
   "id": "8434b4f2",
   "metadata": {},
   "outputs": [
    {
     "data": {
      "text/plain": [
       "False"
      ]
     },
     "execution_count": 4,
     "metadata": {},
     "output_type": "execute_result"
    }
   ],
   "source": [
    "car = \"bmw\"\n",
    "car == \"BMW\""
   ]
  },
  {
   "cell_type": "markdown",
   "id": "6f0e3a8f",
   "metadata": {},
   "source": [
    "> The simplest form of conditional test is checks weather a item of a variable equals the variable of interest. The first line sets \"bmw\" to equal car (=), and the second line checks to see if the value of car is bmw (==). To which we get the return of True or False. It is worth noting that for these if statments case matters, notice how bmw and BMW are not the same to python.\n"
   ]
  },
  {
   "cell_type": "code",
   "execution_count": 5,
   "id": "2d8c38fb",
   "metadata": {},
   "outputs": [
    {
     "data": {
      "text/plain": [
       "'Audi'"
      ]
     },
     "execution_count": 5,
     "metadata": {},
     "output_type": "execute_result"
    }
   ],
   "source": [
    "car = \"Audi\"\n",
    "\n",
    "car.lower() == \"audi\"\n",
    "\n",
    "car "
   ]
  },
  {
   "cell_type": "markdown",
   "id": "2465baff",
   "metadata": {},
   "source": [
    "> Here if we want to make the cases all the same we just run a lower() function before comparing, this won't change the variable itself as you can see we pass the car.lower() then check afterwards what are is and it is still capital Audi."
   ]
  },
  {
   "cell_type": "code",
   "execution_count": 6,
   "id": "9061c2ed",
   "metadata": {},
   "outputs": [
    {
     "name": "stdout",
     "output_type": "stream",
     "text": [
      "Don't add pickles on my pizza\n"
     ]
    }
   ],
   "source": [
    "pizza_toppings = \"cheese\"\n",
    "\n",
    "if pizza_toppings != \"pickles\":\n",
    "    print(\"Don't add pickles on my pizza\")"
   ]
  },
  {
   "cell_type": "markdown",
   "id": "dfa252e4",
   "metadata": {},
   "source": [
    "> Here we are using != to act as a \"not\" in our code, so we are checking for inequality in our code. If we change the varible to equal pickles, then the code will not print anything as pizza_toppings = pickles"
   ]
  },
  {
   "cell_type": "code",
   "execution_count": 7,
   "id": "80d3d83d",
   "metadata": {},
   "outputs": [
    {
     "data": {
      "text/plain": [
       "True"
      ]
     },
     "execution_count": 7,
     "metadata": {},
     "output_type": "execute_result"
    }
   ],
   "source": [
    "number = 18\n",
    "number == 18"
   ]
  },
  {
   "cell_type": "code",
   "execution_count": 8,
   "id": "51d71980",
   "metadata": {},
   "outputs": [
    {
     "data": {
      "text/plain": [
       "False"
      ]
     },
     "execution_count": 8,
     "metadata": {},
     "output_type": "execute_result"
    }
   ],
   "source": [
    "number = 15\n",
    "number == 18"
   ]
  },
  {
   "cell_type": "markdown",
   "id": "9b6b595e",
   "metadata": {},
   "source": [
    "> As you can see we can also compare numbers as well. "
   ]
  },
  {
   "cell_type": "code",
   "execution_count": 9,
   "id": "ee798bd8",
   "metadata": {},
   "outputs": [
    {
     "name": "stdout",
     "output_type": "stream",
     "text": [
      "The right answer is 40, check your math and try again.\n"
     ]
    }
   ],
   "source": [
    "answer = 17\n",
    "\n",
    "if answer != 40:\n",
    "    print(\"The right answer is 40, check your math and try again.\")"
   ]
  },
  {
   "cell_type": "code",
   "execution_count": 10,
   "id": "a7b08436",
   "metadata": {},
   "outputs": [
    {
     "data": {
      "text/plain": [
       "True"
      ]
     },
     "execution_count": 10,
     "metadata": {},
     "output_type": "execute_result"
    }
   ],
   "source": [
    "age = 21\n",
    "\n",
    "age < 22"
   ]
  },
  {
   "cell_type": "code",
   "execution_count": null,
   "id": "e3381984",
   "metadata": {},
   "outputs": [],
   "source": [
    "age = 21\n",
    "\n",
    "age > 22"
   ]
  },
  {
   "cell_type": "markdown",
   "id": "a5dfc54b",
   "metadata": {},
   "source": [
    "> We can compare many things in numerical value, these mathamatical comparisons can be used with if statements to help see if conditions are met in the code."
   ]
  },
  {
   "cell_type": "code",
   "execution_count": 12,
   "id": "0989f975",
   "metadata": {},
   "outputs": [
    {
     "name": "stdout",
     "output_type": "stream",
     "text": [
      "You can both go into the bar.\n"
     ]
    }
   ],
   "source": [
    "age_0 = 21\n",
    "age_1 = 22\n",
    "\n",
    "if age_0 == 21 and age_1 == 22:\n",
    "    print(\"You can both go into the bar.\")"
   ]
  },
  {
   "cell_type": "markdown",
   "id": "00ebc420",
   "metadata": {},
   "source": [
    "> Here both conditions are met in the \"and\" if statement so we print our statement out. This allows us to ensure two conditions are met."
   ]
  },
  {
   "cell_type": "code",
   "execution_count": 13,
   "id": "0b8e3c62",
   "metadata": {},
   "outputs": [],
   "source": [
    "age_0 = 20\n",
    "age_1 = 19\n",
    "\n",
    "if age_0 == 21 and age_1 == 22:\n",
    "    print(\"You can both go into the bar.\")"
   ]
  },
  {
   "cell_type": "markdown",
   "id": "1182e338",
   "metadata": {},
   "source": [
    "> Here you can see that neither of the variables compare so Python doesn't print anything."
   ]
  },
  {
   "cell_type": "code",
   "execution_count": 14,
   "id": "40e08f8a",
   "metadata": {},
   "outputs": [
    {
     "name": "stdout",
     "output_type": "stream",
     "text": [
      "You can both go into the bar.\n"
     ]
    }
   ],
   "source": [
    "age_0 = 21\n",
    "age_1 = 22\n",
    "\n",
    "if age_0 <= 21 and age_1 <= 22:\n",
    "    print(\"You can both go into the bar.\")"
   ]
  },
  {
   "cell_type": "code",
   "execution_count": 15,
   "id": "0c8a31df",
   "metadata": {},
   "outputs": [],
   "source": [
    "age_0 = 42\n",
    "age_1 = 15\n",
    "\n",
    "if age_0 <= 21 or age_1 >=17:\n",
    "    print(\"This or keyword has worked, one or both of the conditions is met and the code is running\")"
   ]
  },
  {
   "cell_type": "markdown",
   "id": "9c841aba",
   "metadata": {},
   "source": [
    "> Try altering the ages, see what works and what doesn't, this is an \"or\" keyword so only one of the conditions has to be true for it to pass."
   ]
  },
  {
   "cell_type": "code",
   "execution_count": 16,
   "id": "6c860b00",
   "metadata": {},
   "outputs": [
    {
     "data": {
      "text/plain": [
       "True"
      ]
     },
     "execution_count": 16,
     "metadata": {},
     "output_type": "execute_result"
    }
   ],
   "source": [
    "possible_toppings = [\"Ham\", \"Pineapple\", \"Pepperoni\", \"Chicken\"]\n",
    "\n",
    "\"Ham\" in possible_toppings"
   ]
  },
  {
   "cell_type": "markdown",
   "id": "8850151f",
   "metadata": {},
   "source": [
    "> Here we are using the keyword \"in\" to see if a element is inside a list. This could be really helpful when we are looking to see if a username is already existent when creating new users for example."
   ]
  },
  {
   "cell_type": "code",
   "execution_count": 17,
   "id": "be3765d6",
   "metadata": {},
   "outputs": [
    {
     "name": "stdout",
     "output_type": "stream",
     "text": [
      "Cameron you can comment on this forum.\n"
     ]
    }
   ],
   "source": [
    "banned_users = [\"Charlie\", \"Tom\", \"Ben\"]\n",
    "user = \"Cameron\"\n",
    "\n",
    "if user not in banned_users:\n",
    "    print(f'{user} you can comment on this forum.')\n",
    "\n",
    "if user in banned_users:\n",
    "    print(\"You are not allowed to comment\")"
   ]
  },
  {
   "cell_type": "markdown",
   "id": "1e85fd3a",
   "metadata": {},
   "source": [
    "> Here we use the keyword \"not\" to check that a user is not in a list of banned users before allowing them to comment on a forum, python will read the code and check is the user is in banned users, if not then it will read the next line of code, if it is then it will move down to the next statement. I then added another if statement that tells the program what to do if the user is infact part of the banned list. "
   ]
  },
  {
   "cell_type": "code",
   "execution_count": 19,
   "id": "e8d1f7bb",
   "metadata": {},
   "outputs": [
    {
     "name": "stdout",
     "output_type": "stream",
     "text": [
      "You cannot edit the game, as it is currently active.\n"
     ]
    }
   ],
   "source": [
    "game_active = True\n",
    "\n",
    "if game_active == True:\n",
    "    print(\"You cannot edit the game, as it is currently active.\")\n",
    "    \n",
    "if game_active == False:\n",
    "    print(\"You can edit the game, as it is not currently active.\")"
   ]
  },
  {
   "cell_type": "markdown",
   "id": "147165fc",
   "metadata": {},
   "source": [
    "> Here we use a Booleen expression, to check if a game is active or not, if it is active we cannot edit the game as the game code will be running. If the game is not active, we can edit the code as the program will not be running at that time. "
   ]
  },
  {
   "cell_type": "markdown",
   "id": "efdd4552",
   "metadata": {},
   "source": [
    "## Tasks\n",
    "\n",
    "\n",
    "In these tasks, go through and change some variables or statments and see how the programs run."
   ]
  },
  {
   "cell_type": "code",
   "execution_count": 20,
   "id": "cc387a93",
   "metadata": {},
   "outputs": [
    {
     "name": "stdout",
     "output_type": "stream",
     "text": [
      "Cameron is also looking at other laptops to buy so he can code wherever he wants.\n"
     ]
    }
   ],
   "source": [
    "camerons_laptop = \"dell\"\n",
    "\n",
    "if camerons_laptop == \"macbook\":\n",
    "    print(\"Cameron is looking to buy a macbook as apple silicon seems to be very good right now.\")\n",
    "\n",
    "if camerons_laptop != \"macbook\":\n",
    "    print(\"Cameron is also looking at other laptops to buy so he can code wherever he wants.\")"
   ]
  },
  {
   "cell_type": "code",
   "execution_count": 21,
   "id": "1ef064ba",
   "metadata": {},
   "outputs": [
    {
     "name": "stdout",
     "output_type": "stream",
     "text": [
      "You can go into a bar in America, as you are over the age of 21.\n"
     ]
    }
   ],
   "source": [
    "age = 22\n",
    "\n",
    "if age >= 21:\n",
    "    print(\"You can go into a bar in America, as you are over the age of 21.\")\n",
    "\n",
    "if age <= 20:\n",
    "    print(\"You cannot go into a bar in America, if you are 18 or over, you can go into a bar in the UK.\")"
   ]
  },
  {
   "cell_type": "code",
   "execution_count": 22,
   "id": "2afe3e9a",
   "metadata": {},
   "outputs": [
    {
     "name": "stdout",
     "output_type": "stream",
     "text": [
      "He is having a good day doing some work.\n"
     ]
    }
   ],
   "source": [
    "cameron_happy = True\n",
    "\n",
    "if cameron_happy == True:\n",
    "    print(\"He is having a good day doing some work.\")\n",
    "\n",
    "if cameron_happy == False:\n",
    "    print(\"He might not of gotten as much done as he would have liked today.\")"
   ]
  },
  {
   "cell_type": "code",
   "execution_count": 23,
   "id": "e4e40195",
   "metadata": {},
   "outputs": [
    {
     "name": "stdout",
     "output_type": "stream",
     "text": [
      "You are a host, you can invite people to the party.\n"
     ]
    }
   ],
   "source": [
    "hosts = [\"Charlie\", \"Harry\", \"Ben\", \"Cameron\", \"Henry\"]\n",
    "\n",
    "invitee = \"Charlie\"\n",
    "\n",
    "if invitee not in hosts:\n",
    "    print(\"You are not a host, so you cannot invite people to the party.\")\n",
    "    \n",
    "if invitee in hosts:\n",
    "    print(\"You are a host, you can invite people to the party.\")"
   ]
  },
  {
   "cell_type": "markdown",
   "id": "8d6ddde9",
   "metadata": {},
   "source": [
    "### We have seen conditional tests, we are now going to dig deeper into if statements."
   ]
  },
  {
   "cell_type": "markdown",
   "id": "527ac5d4",
   "metadata": {},
   "source": [
    "> The simplest kind of if statement is. \n",
    "\n",
    "\n",
    ">if conditional statment:\n",
    "    do something"
   ]
  },
  {
   "cell_type": "code",
   "execution_count": 25,
   "id": "881a9dea",
   "metadata": {},
   "outputs": [
    {
     "name": "stdout",
     "output_type": "stream",
     "text": [
      "You are old enough to vote.\n"
     ]
    }
   ],
   "source": [
    "age = 19 \n",
    "\n",
    "if age >= 18:\n",
    "    print(\"You are old enough to vote.\")"
   ]
  },
  {
   "cell_type": "code",
   "execution_count": 26,
   "id": "3b7ff95b",
   "metadata": {},
   "outputs": [
    {
     "name": "stdout",
     "output_type": "stream",
     "text": [
      "You are old enough to vote.\n",
      "Have you registered to vote yet?\n"
     ]
    }
   ],
   "source": [
    "age = 19 \n",
    "\n",
    "if age >= 18:\n",
    "    print(\"You are old enough to vote.\")\n",
    "    print(\"Have you registered to vote yet?\")"
   ]
  },
  {
   "cell_type": "code",
   "execution_count": 27,
   "id": "d74b3027",
   "metadata": {},
   "outputs": [
    {
     "name": "stdout",
     "output_type": "stream",
     "text": [
      "You are not old enough to vote yet\n",
      "Please register to vote once you turn 18.\n"
     ]
    }
   ],
   "source": [
    "age = 16 \n",
    "\n",
    "if age >= 18:\n",
    "    print(\"You are old enough to vote.\")\n",
    "    print(\"Have you registered to vote yet?\")\n",
    "else:\n",
    "    print(\"You are not old enough to vote yet\")\n",
    "    print(\"Please register to vote once you turn 18.\")"
   ]
  },
  {
   "cell_type": "markdown",
   "id": "26b0efe4",
   "metadata": {},
   "source": [
    "> This is an else statement, if the code runs True we will print the top indentation of code. If the code runs False, the second indentation of the code will run. "
   ]
  },
  {
   "cell_type": "code",
   "execution_count": 28,
   "id": "8d8bbd48",
   "metadata": {},
   "outputs": [
    {
     "name": "stdout",
     "output_type": "stream",
     "text": [
      "The admission cost is £20.\n"
     ]
    }
   ],
   "source": [
    "age = 32\n",
    "\n",
    "if age <=4:\n",
    "    print(\"The admission cost is £5.\")\n",
    "elif age <= 18:\n",
    "    print(\"The admission cost is £10.\")\n",
    "else:\n",
    "    print(\"The admission cost is £20.\")"
   ]
  },
  {
   "cell_type": "markdown",
   "id": "efb3544b",
   "metadata": {},
   "source": [
    "> Here is an elif chain, if the first if statment fails, we move onto the elif statement, which is basically another if statement. If the first test fails we know that the persons age must be at least 5 years old so we then test to see if they are less than or equal to 18. We then use an else statment for the rest of the age groups, meaning that as long as they are over 18 they get charged the full price. But there is a better way to do it. "
   ]
  },
  {
   "cell_type": "code",
   "execution_count": 29,
   "id": "a7603bb1",
   "metadata": {},
   "outputs": [
    {
     "name": "stdout",
     "output_type": "stream",
     "text": [
      "Your admission price is £10.\n"
     ]
    }
   ],
   "source": [
    "age = 17\n",
    "\n",
    "if age <=4:\n",
    "    price = 5\n",
    "elif age <= 18:\n",
    "    price = 10\n",
    "else:\n",
    "    price = 20\n",
    "    \n",
    "\n",
    "print(f'Your admission price is £{price}.')"
   ]
  },
  {
   "cell_type": "markdown",
   "id": "60544642",
   "metadata": {},
   "source": [
    "> So here there is the same task happening, but what we are doing is setting the price in the if statements, then have a line at the end of the code that prints off the price. This means the code runs much more efficiently and that modifying it will be easier. Its important to write code that works and is efficient and easy to read. "
   ]
  },
  {
   "cell_type": "code",
   "execution_count": 30,
   "id": "64ed0bb9",
   "metadata": {},
   "outputs": [
    {
     "name": "stdout",
     "output_type": "stream",
     "text": [
      "Your admission price is £30.\n"
     ]
    }
   ],
   "source": [
    "age = 55\n",
    "\n",
    "if age <=4:\n",
    "    price = 5\n",
    "elif age <= 18:\n",
    "    price = 10\n",
    "elif age <= 65:\n",
    "    price = 30\n",
    "else:\n",
    "    price = 20\n",
    "    \n",
    "\n",
    "print(f'Your admission price is £{price}.')"
   ]
  },
  {
   "cell_type": "markdown",
   "id": "44594c87",
   "metadata": {},
   "source": [
    "> This code has two elif tests in there, so we are testing for the age to see if they are below 65 and qualify for a senior discount to our park. "
   ]
  },
  {
   "cell_type": "code",
   "execution_count": null,
   "id": "574ebba9",
   "metadata": {},
   "outputs": [],
   "source": [
    "age = 50\n",
    "\n",
    "if age <=4:\n",
    "    price = 5\n",
    "elif age <= 18:\n",
    "    price = 10\n",
    "elif age <= 65:\n",
    "    price = 30\n",
    "elif age >= 66:\n",
    "    price = 20\n",
    "    \n",
    "\n",
    "print(f'Your admission price is £{price}.')"
   ]
  },
  {
   "cell_type": "markdown",
   "id": "5320368b",
   "metadata": {},
   "source": [
    "> Python doesn't require an else block at the end of if statments, here we have an elif block at the end of the test, this makes it slightly more easier to read, as we can clearly see what price applies to what etc, there is no just ambiguous end of else do x y and z. If we have a specific end we want to test, it is always better to use an elif block at the end, this means that \"wrong\" data won't pass through the test in the else statement. "
   ]
  },
  {
   "cell_type": "code",
   "execution_count": 32,
   "id": "4bbf878c",
   "metadata": {},
   "outputs": [
    {
     "name": "stdout",
     "output_type": "stream",
     "text": [
      "I will add ham to your pizza.\n",
      "I will add extra cheese to your pizza.\n",
      "Your pizza is ready now!\n"
     ]
    }
   ],
   "source": [
    "toppings = [\"pepperoni\", \"ham\", \"extra cheese\"]\n",
    "\n",
    "if \"ham\" in toppings:\n",
    "    print(\"I will add ham to your pizza.\")\n",
    "if \"mushroom\" in toppings:\n",
    "    print(\"I will add mushrooms to your pizza.\")\n",
    "if \"extra cheese\" in toppings:\n",
    "    print(\"I will add extra cheese to your pizza.\")\n",
    "    \n",
    "print(\"Your pizza is ready now!\")"
   ]
  },
  {
   "cell_type": "code",
   "execution_count": 33,
   "id": "197c2737",
   "metadata": {},
   "outputs": [
    {
     "name": "stdout",
     "output_type": "stream",
     "text": [
      "I will add some ham to your pizza\n",
      "I will make sure to use a gluten free base in your pizza\n",
      "Sorry we don't serve pineapple on pizza here!\n"
     ]
    }
   ],
   "source": [
    "toppings = [\"ham\", \"no gluten\", \"pineapple\"]\n",
    "\n",
    "if \"ham\" in toppings:\n",
    "    print(\"I will add some ham to your pizza\")\n",
    "if \"pepperoni\" in toppings:\n",
    "    print(\"I will add some pepperoni to your pizza\")\n",
    "if \"no gluten\" in toppings:\n",
    "    print(\"I will make sure to use a gluten free base in your pizza\")\n",
    "if \"pineapple\" in toppings:\n",
    "    print(\"Sorry we don't serve pineapple on pizza here!\")"
   ]
  },
  {
   "cell_type": "markdown",
   "id": "be4b964d",
   "metadata": {},
   "source": [
    "> This code wouldn't work if we used an if elif else loop as it would stop on the first condition if it was true, if we only want one block of code to run under a certain condition we can use the if eli else loops, if we want to run mutliple things we need to use multiple if statments."
   ]
  },
  {
   "cell_type": "code",
   "execution_count": 34,
   "id": "59b8f4b9",
   "metadata": {},
   "outputs": [
    {
     "name": "stdout",
     "output_type": "stream",
     "text": [
      "You have just earned 20 points\n"
     ]
    }
   ],
   "source": [
    "alien_colour = \"blue\"\n",
    "\n",
    "if alien_colour == \"green\":\n",
    "    print(\"You have just earned 5 points\")\n",
    "elif alien_colour == \"yellow\":\n",
    "    print(\"You have just earned 10 points\")\n",
    "elif alien_colour == \"blue\":\n",
    "    print(\"You have just earned 20 points\")\n",
    "else:\n",
    "    print(\"You have just earned 1 point\")"
   ]
  },
  {
   "cell_type": "code",
   "execution_count": 35,
   "id": "5ec99234",
   "metadata": {},
   "outputs": [
    {
     "name": "stdout",
     "output_type": "stream",
     "text": [
      "You are an elder\n"
     ]
    }
   ],
   "source": [
    "age = 67\n",
    "\n",
    "if age < 2:\n",
    "    print(\"You are a baby\")\n",
    "elif age >= 2 and age < 4:\n",
    "    print(\"You are a toddler\")\n",
    "elif age >= 4 and age < 13:\n",
    "    print(\"You are a kid\")\n",
    "elif age >= 13 and age < 20:\n",
    "    print(\"You are a teenager\")\n",
    "elif age >= 20 and age < 65:\n",
    "    print(\"You are aa adult\")\n",
    "else:\n",
    "    print(\"You are an elder\")"
   ]
  },
  {
   "cell_type": "code",
   "execution_count": 36,
   "id": "14ed0e75",
   "metadata": {},
   "outputs": [
    {
     "name": "stdout",
     "output_type": "stream",
     "text": [
      "This is my favourite snack\n",
      "This is my favourite main course\n"
     ]
    }
   ],
   "source": [
    "fav_food = [\"pizza\", \"cheese on toast\"]\n",
    "\n",
    "if \"cheese on toast\" in fav_food:\n",
    "    print(\"This is my favourite snack\")\n",
    "if \"pizza\" in fav_food:\n",
    "    print(\"This is my favourite main course\")\n",
    "if \"smores\" in fav_food:\n",
    "    print(\"This is my favourite dessert\")"
   ]
  },
  {
   "cell_type": "markdown",
   "id": "e442ca6c",
   "metadata": {},
   "source": [
    "## Using If Statements With Lists\n",
    "\n",
    "We can do interesting work with if statements and lists, we can look for special values that need to be treated differently or manage changing conditions efficiently. We can also prove our code is working as we expect in certain conditions."
   ]
  },
  {
   "cell_type": "code",
   "execution_count": 37,
   "id": "ff45c22e",
   "metadata": {},
   "outputs": [
    {
     "name": "stdout",
     "output_type": "stream",
     "text": [
      "adding double cheese to your pizza\n",
      "adding sweetcorn to your pizza\n",
      "adding chicken to your pizza\n",
      "adding BBQ sauce to your pizza\n",
      "\n",
      "Finished making your pizza now\n"
     ]
    }
   ],
   "source": [
    "requested_toppings =[\"double cheese\", \"sweetcorn\", \"chicken\", \"BBQ sauce\"]\n",
    "\n",
    "if requested_toppings:\n",
    "    for requested_topping in requested_toppings:\n",
    "        print(f'adding {requested_topping} to your pizza')\n",
    "    print(\"\\nFinished making your pizza now\")\n",
    "\n",
    "else:\n",
    "    print(\"Are you sure you want to eat plain pizza???\")"
   ]
  },
  {
   "cell_type": "markdown",
   "id": "cf5da75d",
   "metadata": {},
   "source": [
    "> With every list so far we have assumed that it has elements in it, here we check if the list has toppings in it and if there are no elements in the list, if there are it runs the code on the if block. If the list is empty we run the else block of code. Soon we will be askig users to enter information into lists so sometimes they will be emtpy, this information will be useful.\n",
    "\n",
    "\n",
    "> When an if statement is used in a list, if the list contains an item python will return True, if the list doesn't contain an element it returns Flase."
   ]
  },
  {
   "cell_type": "markdown",
   "id": "90871ba5",
   "metadata": {},
   "source": [
    "### Using Multiple Lists"
   ]
  },
  {
   "cell_type": "code",
   "execution_count": 38,
   "id": "6f8a8c0b",
   "metadata": {},
   "outputs": [
    {
     "name": "stdout",
     "output_type": "stream",
     "text": [
      "Adding extra cheese to your pizza\n",
      "Adding pepperoni to your pizza\n",
      "\n",
      "We do not add fries to pizza here\n",
      "\n",
      "We are finished with your pizza\n"
     ]
    }
   ],
   "source": [
    "available_toppings = [\"extra cheese\", \"pineapple\", \"pepperoni\", \"green peppers\", \"chicken\", \"sweetcorn\"]\n",
    "\n",
    "requested_toppings = [\"extra cheese\", \"pepperoni\", \"fries\"]\n",
    "\n",
    "for requested_topping in requested_toppings:\n",
    "    if requested_topping in available_toppings:\n",
    "        print(f'Adding {requested_topping} to your pizza')\n",
    "    else:\n",
    "        print(f'\\nWe do not add {requested_topping} to pizza here')\n",
    "\n",
    "print(\"\\nWe are finished with your pizza\")"
   ]
  },
  {
   "cell_type": "markdown",
   "id": "4225dc4d",
   "metadata": {},
   "source": [
    "> People will ask for anything on pizza, we need to make sure we can work and define what is allowed and what isn't. This could be applied to many things such as banned players in a game, such as requests to download the game [] and been banned for cheating using the same IP address [] if player is in banned for cheatin list, and requested to download the game, they must be stopped. We use a for statment to run through each topping in the requested_toppings then we enter an if statment if the requested topping is in the available topping list we add it to the pizza, if the requested topping isn't in the available list we go into the else part of the if statment and tell the customer we cannot add that topping to the pizza here. We finish it with a final message telling the customer we have finished making their pizza."
   ]
  },
  {
   "cell_type": "markdown",
   "id": "610c7d63",
   "metadata": {},
   "source": [
    "## Tasks"
   ]
  },
  {
   "cell_type": "code",
   "execution_count": 39,
   "id": "304d30f0",
   "metadata": {},
   "outputs": [
    {
     "name": "stdout",
     "output_type": "stream",
     "text": [
      "Hello cameron123 thank you for logging on!\n",
      "Hello angus0115 thank you for logging on!\n",
      "Hello charlie43 thank you for logging on!\n",
      "Hello tomp232 thank you for logging on!\n",
      "Hellow admin, would you like to see a status report?\n",
      "Hello ben46 thank you for logging on!\n"
     ]
    }
   ],
   "source": [
    "usernames = [\"cameron123\", \"angus0115\", \"charlie43\", \"tomp232\", \"admin\", \"ben46\"]\n",
    "\n",
    "for username in usernames:\n",
    "    if username == \"admin\":\n",
    "        print(\"Hellow admin, would you like to see a status report?\")\n",
    "    else:\n",
    "        print(f'Hello {username} thank you for logging on!')"
   ]
  },
  {
   "cell_type": "code",
   "execution_count": 40,
   "id": "fecfb5a1",
   "metadata": {},
   "outputs": [
    {
     "name": "stdout",
     "output_type": "stream",
     "text": [
      "Hello cameron123 thank you for logging on!\n",
      "Hello angus0115 thank you for logging on!\n",
      "Hello charlie43 thank you for logging on!\n",
      "Hello tomp232 thank you for logging on!\n",
      "Hellow admin, would you like to see a status report?\n",
      "Hello ben46 thank you for logging on!\n"
     ]
    }
   ],
   "source": [
    "usernames = [\"cameron123\", \"angus0115\", \"charlie43\", \"tomp232\", \"admin\", \"ben46\"]\n",
    "\n",
    "# Adding an if statement to check if the list is empty\n",
    "if usernames == []:\n",
    "        print(\"We need to get some users for our website\")\n",
    "\n",
    "# If the list isn't empty python will run this loop\n",
    "for username in usernames:\n",
    "    if username == \"admin\":\n",
    "        print(\"Hellow admin, would you like to see a status report?\")\n",
    "    else:\n",
    "        print(f'Hello {username} thank you for logging on!')"
   ]
  },
  {
   "cell_type": "code",
   "execution_count": 41,
   "id": "5d793e04",
   "metadata": {},
   "outputs": [
    {
     "name": "stdout",
     "output_type": "stream",
     "text": [
      "This username charlie22 is available, would you like to create an account\n",
      "This username harry32 is available, would you like to create an account\n",
      "This username henry67 is available, would you like to create an account\n",
      "This username cameron123 is already taken, please make another one\n",
      "This username tomp232 is already taken, please make another one\n",
      "['cameron123', 'angus0115', 'charlie43', 'tomp232', 'admin', 'ben46', 'charlie22', 'harry32', 'henry67']\n"
     ]
    }
   ],
   "source": [
    "current_usernames = [\"cameron123\", \"angus0115\", \"charlie43\", \"tomp232\", \"admin\", \"ben46\"]\n",
    "\n",
    "new_usernames = [\"charlie22\", \"harry32\", \"henry67\", \"cameron123\", \"tomp232\"]\n",
    "\n",
    "# Checking if the username is in the new usernames\n",
    "for username in new_usernames:\n",
    "    if username in current_usernames:\n",
    "        print(f\"This username {username} is already taken, please make another one\")\n",
    "# If the new username is not taken, we tell the user and then append it to the current usernames list\n",
    "    else:\n",
    "        print(f\"This username {username} is available, would you like to create an account\")\n",
    "        current_usernames.append(username)\n",
    "\n",
    "print(current_usernames)"
   ]
  },
  {
   "cell_type": "markdown",
   "id": "108d4383",
   "metadata": {},
   "source": [
    "> These tasks are to prove we can use if statments with lists, in the first block of code we are simply checking if usernames logging in is an admin or a user. The second block of code we are allowing new people to check if their username is taken, if it is taken we ask then to make a new one. If it's not taken we tell the user it's okay, then append the new username into the current username list."
   ]
  },
  {
   "cell_type": "code",
   "execution_count": 42,
   "id": "88c51a7c",
   "metadata": {},
   "outputs": [
    {
     "name": "stdout",
     "output_type": "stream",
     "text": [
      "This is the 1st number\n",
      "This is the 2nd number\n",
      "This is the 3rd number\n",
      "This is the 4th number\n",
      "This is the 5th number\n",
      "This is the 6th number\n",
      "This is the 7th number\n",
      "This is the 8th number\n",
      "This is the 9th number\n"
     ]
    }
   ],
   "source": [
    "numbers = list(range(1,10))\n",
    "\n",
    "for number in numbers:\n",
    "    if number == 1:\n",
    "        print(\"This is the 1st number\")\n",
    "    elif number == 2:\n",
    "        print(\"This is the 2nd number\")\n",
    "    elif number == 3:\n",
    "        print(\"This is the 3rd number\")\n",
    "    elif number == 4:\n",
    "        print(\"This is the 4th number\")\n",
    "    elif number == 5:\n",
    "        print(\"This is the 5th number\")\n",
    "    elif number == 6:\n",
    "        print(\"This is the 6th number\")\n",
    "    elif number == 7:\n",
    "        print(\"This is the 7th number\")\n",
    "    elif number == 8:\n",
    "        print(\"This is the 8th number\")\n",
    "    elif number == 9:\n",
    "        print(\"This is the 9th number\")        "
   ]
  },
  {
   "cell_type": "markdown",
   "id": "b55b2227",
   "metadata": {},
   "source": [
    "> Here we are making a list of numbers from 1 to 9, and using an if-elif chain that prints each number in their ordinal ending with each result on a differnt line"
   ]
  },
  {
   "cell_type": "markdown",
   "id": "ba7341a9",
   "metadata": {},
   "source": [
    "## Summary \n",
    "\n",
    "In this chapter we have learned to use conditional tests True and False, then we learned to write if statements and implemented them. We also learned to manipulate lists using for loops as well as if loops"
   ]
  }
 ],
 "metadata": {
  "kernelspec": {
   "display_name": "Python 3 (ipykernel)",
   "language": "python",
   "name": "python3"
  },
  "language_info": {
   "codemirror_mode": {
    "name": "ipython",
    "version": 3
   },
   "file_extension": ".py",
   "mimetype": "text/x-python",
   "name": "python",
   "nbconvert_exporter": "python",
   "pygments_lexer": "ipython3",
   "version": "3.10.4"
  }
 },
 "nbformat": 4,
 "nbformat_minor": 5
}
