{
 "cells": [
  {
   "cell_type": "markdown",
   "id": "01ad6ef0",
   "metadata": {},
   "source": [
    "# Chapter 8 Functions\n",
    "\n",
    "In this chapter I am going to use 'functions', this is a name for a block of code that are desinged for one specific job. When we want the code to do a specific job we \"call\" the function. When we want to perform the task multiple times we don't need to type it over and over again, we just keep calling the function. The book says I will find that using functions will help me write, read, test and fix our code.\n",
    "\n",
    "We will learn to design functions that are made to process data, return a value or a set of values as well as display information. Finally we will learn to store functions in seperate files called \"modules\" to organise our main programs\n",
    "\n",
    "Here is a simple function to get to grips with.\n",
    "\n",
    "This chapter will be a long chapter, I need to really understand this so I will be typing a lot of explaination even if its easy to understand."
   ]
  },
  {
   "cell_type": "code",
   "execution_count": 1,
   "id": "1e7c22a2",
   "metadata": {},
   "outputs": [
    {
     "name": "stdout",
     "output_type": "stream",
     "text": [
      "Hello\n"
     ]
    }
   ],
   "source": [
    "def greet_user():\n",
    "    '''Display a simple greeting'''\n",
    "    print(\"Hello\")\n",
    "\n",
    "greet_user()"
   ]
  },
  {
   "cell_type": "markdown",
   "id": "777c42b3",
   "metadata": {},
   "source": [
    "> First we define the function using the \"def\" keyword to inform python that I am defining a function this is called the \"function definition\" that tells python the name of the function and what kind of information the function needs to do its job this is what the parentheses () are for, we store all the information the function needs to do its job in here. In the example above then function doesn't need any information to do its job so we leave it empty, remeber that the definition ends in the colon :\n",
    "\n",
    "> The indented line inside of the function definition make up the 'body' of the function. The triple ''' ''' are called docstring, this describes the job of the function \n",
    "\n",
    "> The line print(hello) is the only line of actual code, showing that the function only has one job, to print the message hello.\n",
    "\n",
    "> When we call the function using a \"function call\" we use the name of the function with brackets that contain the information needed for the function to do its job. Since there is no information needed for the function to do it's job, there is no need to add anything into the paraemphasis ()."
   ]
  },
  {
   "cell_type": "markdown",
   "id": "2bca6b5d",
   "metadata": {},
   "source": [
    "### Passing Information To A Function"
   ]
  },
  {
   "cell_type": "code",
   "execution_count": 2,
   "id": "634d6d25",
   "metadata": {},
   "outputs": [
    {
     "name": "stdout",
     "output_type": "stream",
     "text": [
      "Hello Cameron, welcome back.\n"
     ]
    }
   ],
   "source": [
    "# Setting up the function using the function definition greet_user\n",
    "# Providing the function with the information it needs to run\n",
    "def greet_user(username):\n",
    "#   Setting up the docstring \n",
    "    '''Display a more personalised message'''\n",
    "#   Writing the actual code that runs when we call the function (we use username in the f string)\n",
    "    print(f\"Hello {username.title()}, welcome back.\")\n",
    "\n",
    "# Calling the function, giving the function the username 'camwheeler135' for it to be used in the function\n",
    "greet_user('cameron')"
   ]
  },
  {
   "cell_type": "code",
   "execution_count": 3,
   "id": "9a228d9f",
   "metadata": {},
   "outputs": [
    {
     "ename": "TypeError",
     "evalue": "greet_user() missing 1 required positional argument: 'username'",
     "output_type": "error",
     "traceback": [
      "\u001b[0;31m---------------------------------------------------------------------------\u001b[0m",
      "\u001b[0;31mTypeError\u001b[0m                                 Traceback (most recent call last)",
      "Input \u001b[0;32mIn [3]\u001b[0m, in \u001b[0;36m<cell line: 10>\u001b[0;34m()\u001b[0m\n\u001b[1;32m      7\u001b[0m     \u001b[38;5;28mprint\u001b[39m(\u001b[38;5;124mf\u001b[39m\u001b[38;5;124m\"\u001b[39m\u001b[38;5;124mHello \u001b[39m\u001b[38;5;132;01m{\u001b[39;00musername\u001b[38;5;241m.\u001b[39mtitle()\u001b[38;5;132;01m}\u001b[39;00m\u001b[38;5;124m, welcome back.\u001b[39m\u001b[38;5;124m\"\u001b[39m)\n\u001b[1;32m      9\u001b[0m \u001b[38;5;66;03m# Calling the function, giving the function the username 'camwheeler135' for it to be used in the function\u001b[39;00m\n\u001b[0;32m---> 10\u001b[0m \u001b[43mgreet_user\u001b[49m\u001b[43m(\u001b[49m\u001b[43m)\u001b[49m\n",
      "\u001b[0;31mTypeError\u001b[0m: greet_user() missing 1 required positional argument: 'username'"
     ]
    }
   ],
   "source": [
    "# Setting up the function using the function definition greet_user\n",
    "# Providing the function with the information it needs to run\n",
    "def greet_user(username):\n",
    "#   Setting up the docstring \n",
    "    '''Display a more personalised message'''\n",
    "#   Writing the actual code that runs when we call the function (we use username in the f string)\n",
    "    print(f\"Hello {username.title()}, welcome back.\")\n",
    "\n",
    "# Calling the function, giving the function the username 'camwheeler135' for it to be used in the function\n",
    "greet_user()"
   ]
  },
  {
   "cell_type": "markdown",
   "id": "cc59ab5a",
   "metadata": {},
   "source": [
    "### Arguments and Parameters \n",
    "\n",
    "In the function greet_user() we defined greet_user() to require a value for the variable 'username'. Once we called the function and gave it the information needed (the persons username) it printied the right greeting. When we remove the information needd we get a TypeError saying that the call is missing 1 required positional agrument for the variable 'username'.\n",
    "\n",
    "The variable 'username' in the definition of the greet_user() function is called a \"PARAMETER\", this is a piece of information that the function needs to do its job. \n",
    "\n",
    "The value 'cameron' in the call greet_user('cameron') is called an \"ARGUMENT\". An argument is a piece of informatiom that's passed from a functional call TO the function. So it goes from the call into the function so the function can do its job.\n",
    "\n",
    "When we call the function, we place the value we want the function to work with INSIDE of the parentheses. In this case the ARGUMENT 'cameron' is PASSED to the FUNCTION greet_user and is ASSINGED to the PARAMETER 'username'\n",
    "\n",
    "Note that the two are often spoken about interchangably, so don't be confused if they are back to front. But when we are going through it the parameter is placed inside of the definition of the function and the arguments are placed in the calling of the function. "
   ]
  },
  {
   "cell_type": "markdown",
   "id": "f4f2caa9",
   "metadata": {},
   "source": [
    "## Tasks"
   ]
  },
  {
   "cell_type": "code",
   "execution_count": 4,
   "id": "4220ca62",
   "metadata": {},
   "outputs": [
    {
     "name": "stdout",
     "output_type": "stream",
     "text": [
      "Cameron is exploring functions this chapter.\n",
      "The parameter is used in the function, the argument is passed to the parameter to then be used in the function.\n"
     ]
    }
   ],
   "source": [
    "# Setting up the function with the parameter 'name'\n",
    "def display_message(name):\n",
    "# Setting up the docstring\n",
    "    '''Displaying a message on what I am learning'''\n",
    "# Setting up the code that runs when the function is called\n",
    "    print(f\"{name.title()} is exploring functions this chapter.\")\n",
    "    print(\"The parameter is used in the function, the argument is passed to the parameter to then be used in the function.\")\n",
    "\n",
    "# Calling the function with the argument 'cameron'\n",
    "# This argument is passed to the parameter name in the function and the function uses it to do it's job\n",
    "display_message('cameron')"
   ]
  },
  {
   "cell_type": "code",
   "execution_count": 5,
   "id": "a166b1e0",
   "metadata": {},
   "outputs": [
    {
     "name": "stdout",
     "output_type": "stream",
     "text": [
      "My favourite book is called Alice In Wonderland.\n"
     ]
    }
   ],
   "source": [
    "# Setting up the function with the variable 'title'\n",
    "def favorite_book(title):\n",
    "# Setting up the code that runs when the function is called.\n",
    "    print(f\"My favourite book is called {title.title()}.\")\n",
    "\n",
    "# Calling the function favorite_book with the arguement Alice in Wonderland that is passed to the parameter 'title'\n",
    "# Alice is wonderland is then used in the f string inside the function. \n",
    "favorite_book('Alice in wonderland')"
   ]
  },
  {
   "cell_type": "markdown",
   "id": "0a18fe2e",
   "metadata": {},
   "source": [
    "### Passing Arguments\n",
    "\n",
    "Because a function can have several parameters, a function call may nee several arguments, we can pass arguments in our functions in a number of ways. We can use 'positional arguments' in which we place the arguments in the same order as they are layed out in the parameters part of the function. Or the keyword-argument where they work like dictionaries (key-value) pairs"
   ]
  },
  {
   "cell_type": "markdown",
   "id": "7e22d117",
   "metadata": {},
   "source": [
    "### Positional Arguments"
   ]
  },
  {
   "cell_type": "code",
   "execution_count": 6,
   "id": "b9560b3e",
   "metadata": {},
   "outputs": [
    {
     "name": "stdout",
     "output_type": "stream",
     "text": [
      "Apple has a large range of products.\n",
      "I have just recently got a macbook that means I can code on the go.\n"
     ]
    }
   ],
   "source": [
    "# Setting up the function with the variables company and product\n",
    "def tech_companies (company_name, product):\n",
    "# Setting up the code that runs when the function is called \n",
    "    '''Display information about the tech company and product'''\n",
    "    print(f\"{company_name.title()} has a large range of products.\")\n",
    "    print(f\"I have just recently got a {product} that means I can code on the go.\")\n",
    "\n",
    "# Setting up the function call\n",
    "# These functions are use in the function with the appropriate parameters and are inserted into the function code\n",
    "tech_companies('apple', 'macbook')"
   ]
  },
  {
   "cell_type": "markdown",
   "id": "0fb05604",
   "metadata": {},
   "source": [
    "### Multiple Function Calls\n",
    "\n",
    "We can call a function multiple times, to describe another company, we just need to call another tech_companies function"
   ]
  },
  {
   "cell_type": "code",
   "execution_count": 7,
   "id": "8816ae36",
   "metadata": {},
   "outputs": [
    {
     "name": "stdout",
     "output_type": "stream",
     "text": [
      "\n",
      "Apple has a large range of products.\n",
      "I have just recently got a macbook that means I can code on the go.\n",
      "\n",
      "Amd has a large range of products.\n",
      "I have just recently got a ryzen 5 that means I can code on the go.\n"
     ]
    }
   ],
   "source": [
    "# Setting up the function with the variables company and product\n",
    "def tech_companies (company_name, product):\n",
    "# Setting up the code that runs when the function is called \n",
    "    '''Display information about the tech company and product'''\n",
    "    print(f\"\\n{company_name.title()} has a large range of products.\")\n",
    "    print(f\"I have just recently got a {product} that means I can code on the go.\")\n",
    "\n",
    "# Setting up the function call\n",
    "# These functions are use in the function with the appropriate parameters and are inserted into the function code\n",
    "# Because this is a function we can use this again and again\n",
    "tech_companies('apple', 'macbook')\n",
    "tech_companies('AMD', 'ryzen 5')"
   ]
  },
  {
   "cell_type": "markdown",
   "id": "56034c3d",
   "metadata": {},
   "source": [
    "> We can use as many arguemnts and parameters we want, Python will work through the order an pair them up one by one."
   ]
  },
  {
   "cell_type": "markdown",
   "id": "344a8756",
   "metadata": {},
   "source": [
    "### Order Matters In Positional Arguments\n",
    "\n",
    "We can get unexpected results if we mix up the order of arguments when calling the function when using positional arguments"
   ]
  },
  {
   "cell_type": "code",
   "execution_count": 8,
   "id": "e996522f",
   "metadata": {},
   "outputs": [
    {
     "name": "stdout",
     "output_type": "stream",
     "text": [
      "\n",
      "Macbook has a large range of products.\n",
      "I have just recently got a apple that means I can code on the go.\n",
      "\n",
      "Ryzen 5 has a large range of products.\n",
      "I have just recently got a AMD that means I can code on the go.\n"
     ]
    }
   ],
   "source": [
    "# Setting up the function with the variables company and product\n",
    "def tech_companies (company_name, product):\n",
    "# Setting up the code that runs when the function is called \n",
    "    '''Display information about the tech company and product'''\n",
    "    print(f\"\\n{company_name.title()} has a large range of products.\")\n",
    "    print(f\"I have just recently got a {product} that means I can code on the go.\")\n",
    "\n",
    "# Setting up the function call but we are messing up the order \n",
    "tech_companies('macbook', 'apple')\n",
    "tech_companies('ryzen 5', 'AMD')"
   ]
  },
  {
   "cell_type": "markdown",
   "id": "75baa162",
   "metadata": {},
   "source": [
    "> As you can see, we have messed up the order of the arguments that are passed onto the WRONG parameters, looking at the output we can see that we have messed up, this shows the importance of the position when using the positional agruments method to functions."
   ]
  },
  {
   "cell_type": "markdown",
   "id": "113553ff",
   "metadata": {},
   "source": [
    "### Keyword Arguments\n",
    "\n",
    "A keyword argument is a name-value pair that we pass to a function. This is where we assocaite the name and the value within the argument. So when you pass the argument to the parameter there is no confusion as to what is what, we won't mess up the order because the order doesn't matter."
   ]
  },
  {
   "cell_type": "code",
   "execution_count": 9,
   "id": "4624e5aa",
   "metadata": {},
   "outputs": [
    {
     "name": "stdout",
     "output_type": "stream",
     "text": [
      "\n",
      "Apple has a large range of products.\n",
      "I have just recently got a macbook that means I can code on the go.\n"
     ]
    }
   ],
   "source": [
    "# Setting up the function with the variables company and product\n",
    "def tech_companies (company_name, product):\n",
    "# Setting up the code that runs when the function is called \n",
    "    '''Display information about the tech company and product'''\n",
    "    print(f\"\\n{company_name.title()} has a large range of products.\")\n",
    "    print(f\"I have just recently got a {product} that means I can code on the go.\")\n",
    "\n",
    "# Setting up the function call but we are using the keyword argument method\n",
    "tech_companies(company_name = 'apple', product = 'macbook')"
   ]
  },
  {
   "cell_type": "markdown",
   "id": "22384b41",
   "metadata": {},
   "source": [
    "### Default Values\n",
    "\n",
    "When writing a function we can set the parameters to have default values, that means that we no longer need to pass this into the argument when calling the function as python will already know what argument is passed to the parameter already. For example, if we were to talk specifically about the tech company Apple, we could set the default value of the parameter company_name to apple, as follows."
   ]
  },
  {
   "cell_type": "code",
   "execution_count": 10,
   "id": "ede07801",
   "metadata": {},
   "outputs": [
    {
     "name": "stdout",
     "output_type": "stream",
     "text": [
      "\n",
      "Apple has a large range of products.\n",
      "I have just recently got a macbook that means I can code on the go.\n"
     ]
    }
   ],
   "source": [
    "# Setting up the function with the variables \n",
    "# Setting the default variable of company_name to 'Apple'\n",
    "# For some reason we have to place the non default variable first otherwise the code doesn't run\n",
    "def tech_companies(product, company_name = 'Apple'):\n",
    "    # Setting up the code that runs when we call the function\n",
    "    '''Display information about the tech company and product'''\n",
    "    print(f\"\\n{company_name.title()} has a large range of products.\")\n",
    "    print(f\"I have just recently got a {product} that means I can code on the go.\")\n",
    "\n",
    "# Calling the function, but because the default value is set for tech_companies we don't need to name it\n",
    "tech_companies(product = 'macbook')"
   ]
  },
  {
   "cell_type": "markdown",
   "id": "4387a89d",
   "metadata": {},
   "source": [
    "> The reason that we have to place the non default parameter first is that python will still want a arguement for company name if we place product second, but if we place product first, python assumes that the variable goes in there and doesn't demand a second argument"
   ]
  },
  {
   "cell_type": "code",
   "execution_count": 11,
   "id": "22bd1dd2",
   "metadata": {},
   "outputs": [
    {
     "name": "stdout",
     "output_type": "stream",
     "text": [
      "\n",
      "Apple has a large range of products.\n",
      "I have just recently got a macbook that means I can code on the go.\n"
     ]
    }
   ],
   "source": [
    "# Setting up the function with the variables \n",
    "# Setting the default variable of company_name to 'Apple'\n",
    "# For some reason we have to place the non default variable first otherwise the code doesn't run\n",
    "def tech_companies(product, company_name = 'Apple'):\n",
    "    # Settinbg up the code that runs when we call the function\n",
    "    '''Display information about the tech company and product'''\n",
    "    print(f\"\\n{company_name.title()} has a large range of products.\")\n",
    "    print(f\"I have just recently got a {product} that means I can code on the go.\")\n",
    "\n",
    "# Calling the function, but because the default value is set for tech_companies we don't need to name it\n",
    "tech_companies('macbook')"
   ]
  },
  {
   "cell_type": "markdown",
   "id": "e0216748",
   "metadata": {},
   "source": [
    "> This code works the same, but this time we only place the argument that is passed to product, python knows that macbook is going into product as that comes first, then uses the default value for company name that is 'Apple'"
   ]
  },
  {
   "cell_type": "markdown",
   "id": "733d175b",
   "metadata": {},
   "source": [
    "### Equivalent Function Calls\n",
    "\n",
    "Because all of these styles can be used together there are a lot of ways in which we can call a function, we can use the default values, or if we want more of a dynamic program we can just place the parameters and either use keyword or positional arguments when calling our function. There is no right way to do it, just pick the style that works for us (I think I might use the keyword but still keep the positional order as it will help me learn)"
   ]
  },
  {
   "cell_type": "markdown",
   "id": "73fbd104",
   "metadata": {},
   "source": [
    "### Avoiding Argument Errors\n",
    "\n",
    "When we start using functions, we shouldn't be surprised if we mess up and the function doesn't work or doesn't work the way we want it to. Especially with unmatched arguments, these occur when we provide fewer or more than the amount requried to run the function for example here is what happens when we don't provide python with any arguments to fill out the code above."
   ]
  },
  {
   "cell_type": "code",
   "execution_count": 12,
   "id": "e2bcdefe",
   "metadata": {},
   "outputs": [
    {
     "ename": "TypeError",
     "evalue": "tech_companies() missing 2 required positional arguments: 'company_name' and 'product'",
     "output_type": "error",
     "traceback": [
      "\u001b[0;31m---------------------------------------------------------------------------\u001b[0m",
      "\u001b[0;31mTypeError\u001b[0m                                 Traceback (most recent call last)",
      "Input \u001b[0;32mIn [12]\u001b[0m, in \u001b[0;36m<cell line: 9>\u001b[0;34m()\u001b[0m\n\u001b[1;32m      6\u001b[0m     \u001b[38;5;28mprint\u001b[39m(\u001b[38;5;124mf\u001b[39m\u001b[38;5;124m\"\u001b[39m\u001b[38;5;124mI have just recently got a \u001b[39m\u001b[38;5;132;01m{\u001b[39;00mproduct\u001b[38;5;132;01m}\u001b[39;00m\u001b[38;5;124m that means I can code on the go.\u001b[39m\u001b[38;5;124m\"\u001b[39m)\n\u001b[1;32m      8\u001b[0m \u001b[38;5;66;03m# Calling the function, but not giving it any arguments to work with.\u001b[39;00m\n\u001b[0;32m----> 9\u001b[0m \u001b[43mtech_companies\u001b[49m\u001b[43m(\u001b[49m\u001b[43m)\u001b[49m\n",
      "\u001b[0;31mTypeError\u001b[0m: tech_companies() missing 2 required positional arguments: 'company_name' and 'product'"
     ]
    }
   ],
   "source": [
    "# Setting up the function with the variables \n",
    "def tech_companies(company_name, product):\n",
    "    # Setting up the code that runs when we call the function\n",
    "    '''Display information about the tech company and product'''\n",
    "    print(f\"\\n{company_name.title()} has a large range of products.\")\n",
    "    print(f\"I have just recently got a {product} that means I can code on the go.\")\n",
    "\n",
    "# Calling the function, but not giving it any arguments to work with.\n",
    "tech_companies()"
   ]
  },
  {
   "cell_type": "markdown",
   "id": "77147557",
   "metadata": {},
   "source": [
    "> Python sees that we don't have enough information for the function to work so we get a TypeError, saying that we are missing 2 required arguments for company_name and product. This is helpful as if the function was in another file, we wouldn't need to open the file to check what we need as python tells us what we need to correct."
   ]
  },
  {
   "cell_type": "markdown",
   "id": "5c730666",
   "metadata": {},
   "source": [
    "## Tasks"
   ]
  },
  {
   "cell_type": "code",
   "execution_count": 13,
   "id": "fb6c1e85",
   "metadata": {},
   "outputs": [
    {
     "name": "stdout",
     "output_type": "stream",
     "text": [
      "\n",
      "Your t-shirt size is large.\n",
      "Your custom message that will be printed on your shirt is 'I am learning to code!'\n",
      "\n",
      "Your t-shirt size is small.\n",
      "Your custom message that will be printed on your shirt is 'I am still learning to code, but on a small t shirt this time'\n"
     ]
    }
   ],
   "source": [
    "# Setting up the function t_shirt with the parameters\n",
    "def t_shirt(size, message):\n",
    "#     Docstring for the function\n",
    "    '''Making the T shirt with the size and custom message'''\n",
    "#     Code that runs when the function is called\n",
    "    print(f\"\\nYour t-shirt size is {size}.\")\n",
    "    print(f\"Your custom message that will be printed on your shirt is '{message}'\")\n",
    "    \n",
    "\n",
    "# Calling the function using the keyword argument method \n",
    "t_shirt(size = 'large', message = 'I am learning to code!')\n",
    "t_shirt(size = 'small', message = 'I am still learning to code, but on a small t shirt this time')"
   ]
  },
  {
   "cell_type": "code",
   "execution_count": 14,
   "id": "909d8f7a",
   "metadata": {},
   "outputs": [
    {
     "name": "stdout",
     "output_type": "stream",
     "text": [
      "You have orderd a large shirt, with the message 'This is my shirt'.\n",
      "You have orderd a small shirt, with the message 'This is Marlas shirt'.\n"
     ]
    }
   ],
   "source": [
    "# Setting up the function with the parameters\n",
    "def make_shirt(size, message):\n",
    "    '''Makes shirt with desired message'''\n",
    "    print(f\"You have orderd a {size} shirt, with the message '{message}'.\")\n",
    "\n",
    "# Calling the function \n",
    "make_shirt(\"large\", 'This is my shirt')\n",
    "make_shirt('small', 'This is Marlas shirt')"
   ]
  },
  {
   "cell_type": "code",
   "execution_count": 15,
   "id": "809f0efb",
   "metadata": {},
   "outputs": [
    {
     "name": "stdout",
     "output_type": "stream",
     "text": [
      "\n",
      "Your t-shirt size is large.\n",
      "Your custom message that will be printed on your shirt is 'I am learning to code!'\n",
      "\n",
      "Your t-shirt size is large.\n",
      "Your custom message that will be printed on your shirt is 'I am still learning to code, but on a large t shirt this time as its the only size this company sells'\n"
     ]
    }
   ],
   "source": [
    "# Setting up the function t_shirt with the parameters\n",
    "# This time we are making the default value size = large as we only sell large t shirts\n",
    "# Remeber we have to switch the order around becuase python won't understand\n",
    "def t_shirt(message, size = 'large'):\n",
    "#     Docstring for the function\n",
    "    '''Making the T shirt with the size and custom message'''\n",
    "#     Code that runs when the function is called\n",
    "    print(f\"\\nYour t-shirt size is {size}.\")\n",
    "    print(f\"Your custom message that will be printed on your shirt is '{message}'\")\n",
    "    \n",
    "\n",
    "# Calling the function using the keyword argument method \n",
    "t_shirt(message = 'I am learning to code!')\n",
    "t_shirt(message = 'I am still learning to code, but on a large t shirt this time as its the only size this company sells')"
   ]
  },
  {
   "cell_type": "code",
   "execution_count": 16,
   "id": "3fd0fd0c",
   "metadata": {},
   "outputs": [
    {
     "name": "stdout",
     "output_type": "stream",
     "text": [
      "You have ordered a large shirt with the message 'I love python'.\n",
      "You have ordered a small shirt with the message 'I love python'.\n",
      "You have ordered a small shirt with the message 'I love this shirt'.\n"
     ]
    }
   ],
   "source": [
    "# Setting up the function with the parameters setting it up like Mattia does\n",
    "def make_shirt(size:str = 'large', message:str = 'I love python'):\n",
    "    '''Making a shirt with default messages'''\n",
    "# Code that runs when we call the function\n",
    "    print(f\"You have ordered a {size} shirt with the message '{message}'.\")\n",
    "\n",
    "# Calling the function (no variables as we have set default values)\n",
    "make_shirt()\n",
    "# Calling the function overriding the default size\n",
    "make_shirt(size = 'small')\n",
    "# Calling the function overriding both the size and the message\n",
    "make_shirt(size = 'small', message = 'I love this shirt')"
   ]
  },
  {
   "cell_type": "code",
   "execution_count": 17,
   "id": "91bc958c",
   "metadata": {},
   "outputs": [
    {
     "name": "stdout",
     "output_type": "stream",
     "text": [
      "Bath is located in England.\n",
      "London is located in England.\n",
      "Edinburgh is located in Scotland.\n"
     ]
    }
   ],
   "source": [
    "# Setting up a function with the parameters\n",
    "def describe_city(name, country_origin = 'England'):\n",
    "    '''Building name of city and country of origin message'''\n",
    "    print(f\"{name.title()} is located in {country_origin.title()}.\")\n",
    "\n",
    "# Calling the function using the keyword argument method\n",
    "describe_city(name = 'Bath')\n",
    "describe_city(name = 'London')\n",
    "# We can override the default value!!!\n",
    "describe_city(name = 'Edinburgh', country_origin = 'Scotland')"
   ]
  },
  {
   "cell_type": "code",
   "execution_count": 18,
   "id": "077183bb",
   "metadata": {},
   "outputs": [
    {
     "name": "stdout",
     "output_type": "stream",
     "text": [
      "Bath, is located in England.\n",
      "London, is located in England.\n",
      "Rome, is located in Italy.\n"
     ]
    }
   ],
   "source": [
    "# Setting up the function with the parameters\n",
    "def describe_city(city, country:str = 'England'):\n",
    "    '''Prints the city and the country where that city is'''\n",
    "    print(f\"{city.title()}, is located in {country.title()}.\")\n",
    "\n",
    "# Calling the function with the city, no need for country as its in England\n",
    "describe_city(city = 'Bath')\n",
    "describe_city(city = 'London')\n",
    "# Calling the function and overriding the default value\n",
    "describe_city(city = \"Rome\", country = 'Italy')"
   ]
  },
  {
   "cell_type": "markdown",
   "id": "56ae5890",
   "metadata": {},
   "source": [
    "> Note the default value can be overwritten by just assinging the parameter with a new argument when calling the function."
   ]
  },
  {
   "cell_type": "markdown",
   "id": "a8a26b82",
   "metadata": {},
   "source": [
    "## Return Values\n",
    "\n",
    "The function that we make doesn't always have to display its output directly, instead it can proces some data and then 'return' a value or a set of values. The value that the function we have coded returns is called a \"RETURN VALUE\". The 'return' statement takes a vlue from inside a function and sends it back to the line that called the function. \n",
    "\n",
    "Return values allow us to move much of our programs grunt work into functions to try and simplify the body of our program. Lets give it a go."
   ]
  },
  {
   "cell_type": "code",
   "execution_count": 19,
   "id": "9fc320cf",
   "metadata": {},
   "outputs": [
    {
     "name": "stdout",
     "output_type": "stream",
     "text": [
      "Cameron Wheeler\n"
     ]
    }
   ],
   "source": [
    "# Setting up the function with the parameters first and last name\n",
    "def get_formatted_name(first_name, last_name):\n",
    "# Docstring of what the function does\n",
    "    '''Function returns a full name thats neatly formatted'''\n",
    "# Code that runs when the function is called\n",
    "# Variable full name is made from the two parameters together\n",
    "    full_name = f\"{first_name} {last_name}\"\n",
    "# We return full name variable with title method()\n",
    "    return full_name.title()\n",
    "\n",
    "# Outside of the function we are defining the varible person as the function with two arguments\n",
    "person = get_formatted_name('cameron', 'wheeler')\n",
    "\n",
    "# Then we print the variable 'person' that = the function get formatted name with the arguments cameron and wheeler\n",
    "print(person)"
   ]
  },
  {
   "cell_type": "markdown",
   "id": "3fcd21e0",
   "metadata": {},
   "source": [
    "> The definition of get_formatted_name() takes the parameters first and last name. The function then combines these two names and attaches them to the variable full name. The varibale full name is returned and returned to the calling line person = get formatted name (cameron, wheeler), where it is assinged to the variable person. We then print the variable person which = Cameron Wheeler. "
   ]
  },
  {
   "cell_type": "code",
   "execution_count": 20,
   "id": "ea33cdc5",
   "metadata": {},
   "outputs": [
    {
     "name": "stdout",
     "output_type": "stream",
     "text": [
      "Kanye West\n"
     ]
    }
   ],
   "source": [
    "# Setting up the function with the parameters \n",
    "def get_formatted_name(first_name, last_name):\n",
    "# Docstring of the function\n",
    "    '''Neatly forms the full name of a person'''\n",
    "# Code that runs when the function is called\n",
    "    full_name = f'{first_name} {last_name}'\n",
    "# returns full name to the calling line\n",
    "    return full_name.title()\n",
    "\n",
    "# Returned value assinged to famous_person\n",
    "famous_person = get_formatted_name('kanye', 'west')\n",
    "\n",
    "# Print person \n",
    "print(famous_person) "
   ]
  },
  {
   "cell_type": "code",
   "execution_count": 21,
   "id": "2cb3c8bd",
   "metadata": {},
   "outputs": [
    {
     "name": "stdout",
     "output_type": "stream",
     "text": [
      "Cameron Wheeler.\n",
      "Lynda Wheeler.\n"
     ]
    }
   ],
   "source": [
    "# Setting up the function with the parameters\n",
    "def get_formatted_name(first_name, last_name:str = \"Wheeler\"):\n",
    "    '''Combines the names to make full name'''\n",
    "# Code that runs when the function is called\n",
    "    full_name = f\"{first_name} {last_name}.\"\n",
    "    return full_name.title()\n",
    "\n",
    "# Assinging the returned value to the variable get_name\n",
    "get_name = get_formatted_name(first_name = 'cameron')\n",
    "# Print get name\n",
    "print(get_name)\n",
    "# Trying again to see if this works\n",
    "get_name = get_formatted_name(first_name = 'Lynda')\n",
    "print(get_name)"
   ]
  },
  {
   "cell_type": "code",
   "execution_count": 22,
   "id": "1f79d2de",
   "metadata": {},
   "outputs": [
    {
     "name": "stdout",
     "output_type": "stream",
     "text": [
      "22\n"
     ]
    }
   ],
   "source": [
    "# Setting up a function with the parameters x and y\n",
    "def calculation(x, y):\n",
    "    '''Does the calculation x * y + y'''\n",
    "# Setting up the code that runs when the fuction is called\n",
    "    answers = x * y + y\n",
    "    return answers\n",
    "\n",
    "# Returns answer back to calling line, assinged to variable answer\n",
    "answer = calculation(10, 2)\n",
    "# Print the variable answer\n",
    "print(answer)"
   ]
  },
  {
   "cell_type": "markdown",
   "id": "ac7c7228",
   "metadata": {},
   "source": [
    "### Making An Argument Optional\n",
    "\n",
    "Sometimes we can ask the user for extra information but it's not essential that they provide it, so we can make the argument optional using default values and leaving the default value empty. See below."
   ]
  },
  {
   "cell_type": "code",
   "execution_count": 23,
   "id": "06b6588d",
   "metadata": {},
   "outputs": [
    {
     "name": "stdout",
     "output_type": "stream",
     "text": [
      "Cameron Albert Wheeler\n"
     ]
    }
   ],
   "source": [
    "# Setting up the definition\n",
    "def get_formatted_names(first_name, last_name, middle_name = ''):\n",
    "    '''Returns the full name neatly formatted'''\n",
    "# If middle name is used, i.e. not empty \n",
    "    if middle_name:\n",
    "        full_name = f\"{first_name} {middle_name} {last_name}\"\n",
    "    else:\n",
    "        full_name = f\"{first_name} {last_name}\"\n",
    "    return full_name.title()\n",
    "\n",
    "get_name = get_formatted_names(first_name = 'cameron', last_name = 'wheeler', middle_name = 'albert')\n",
    "print(get_name)"
   ]
  },
  {
   "cell_type": "markdown",
   "id": "8e22a985",
   "metadata": {},
   "source": [
    "> However look what happens when we remove the middle name, for example if the person didn't have one"
   ]
  },
  {
   "cell_type": "code",
   "execution_count": 24,
   "id": "e9d5887e",
   "metadata": {},
   "outputs": [
    {
     "name": "stdout",
     "output_type": "stream",
     "text": [
      "Cameron Wheeler\n"
     ]
    }
   ],
   "source": [
    "# Setting up the definition\n",
    "def get_formatted_names(first_name, last_name, middle_name = ''):\n",
    "    '''Returns the full name neatly formatted'''\n",
    "# If middle name is used, i.e. not empty \n",
    "    if middle_name:\n",
    "        full_name = f\"{first_name} {middle_name} {last_name}\"\n",
    "    else:\n",
    "        full_name = f\"{first_name} {last_name}\"\n",
    "    return full_name.title()\n",
    "\n",
    "# Callig get formatted name and assigning that to the variable get_name\n",
    "get_name = get_formatted_names(first_name = 'cameron', last_name = 'wheeler')\n",
    "print(get_name)"
   ]
  },
  {
   "cell_type": "markdown",
   "id": "ef2e0628",
   "metadata": {},
   "source": [
    "> Optional arguements allows us to give the user the option to provide more information without it needed to be essential to make the code run."
   ]
  },
  {
   "cell_type": "markdown",
   "id": "d180586a",
   "metadata": {},
   "source": [
    "### Returning A Dictionary\n",
    "\n",
    "A function can return any kind of value we need, for example we can return a dictionary of the first name and last name of a person."
   ]
  },
  {
   "cell_type": "code",
   "execution_count": 25,
   "id": "53cddcb6",
   "metadata": {},
   "outputs": [
    {
     "name": "stdout",
     "output_type": "stream",
     "text": [
      "{'first': 'cameron', 'last': 'wheeler'}\n"
     ]
    }
   ],
   "source": [
    "# Setting up the function with the parameters first and last name\n",
    "def build_person(first_name, last_name):\n",
    "    '''Returning a dictionary of the persons first and last name'''\n",
    "    person = {'first' : first_name, 'last' : last_name}\n",
    "# Can't be title as its a dictionary\n",
    "    return person\n",
    "\n",
    "# Person is returned to the call line, and is assigned to the variable make person\n",
    "make_person = build_person(first_name = 'cameron', last_name = 'wheeler')\n",
    "# Printing make person which is person which is the dictionary of the arguemnts we passed in the call\n",
    "print(make_person)"
   ]
  },
  {
   "cell_type": "code",
   "execution_count": 26,
   "id": "7c9f85e0",
   "metadata": {},
   "outputs": [
    {
     "name": "stdout",
     "output_type": "stream",
     "text": [
      "{'name': 'Apple', 'CEO': 'Tim Cook'}\n"
     ]
    }
   ],
   "source": [
    "# Setting up the function with paramaters\n",
    "def tech_comp(comp_name, ceo):\n",
    "    '''Returns a dictionary of the company name and the ceo'''\n",
    "#   Assinging the key value pairs, name : comp name and CEO : ceo \n",
    "    tech_info = {'name' : comp_name, 'CEO' : ceo}\n",
    "#   Returning the value\n",
    "    return tech_info\n",
    "\n",
    "# We are returing the information from the return line to the calling line and assinging it to display\n",
    "display = tech_comp(comp_name = 'Apple', ceo = 'Tim Cook')\n",
    "# Printing display \n",
    "print(display)"
   ]
  },
  {
   "cell_type": "markdown",
   "id": "b0c4d9c6",
   "metadata": {},
   "source": [
    "> The function build person takes the parameters and places them into the dictionary, we assigned key:value pairs of first : first_name and last : last_name. We return the entire dictionary (assinged to the variable person) to the calling line where the calling is assinged to make person. so we are assinging the varible person the the varible make_person. We then print the variable make_person\n",
    "\n",
    "> Don't think of this as a way to show the user data, think of this function as a way of storing data our side, we can ask the user for their name, then store it in a dictionary so we can keep a list of who is using our website or playing our game.\n",
    "\n",
    "> We can easily extend this function to add the persons age to the list if they provide it to us using a default value."
   ]
  },
  {
   "cell_type": "code",
   "execution_count": 27,
   "id": "ceb6c770",
   "metadata": {},
   "outputs": [
    {
     "name": "stdout",
     "output_type": "stream",
     "text": [
      "{'first': 'cameron', 'last': 'wheeler', 'age': 22}\n"
     ]
    }
   ],
   "source": [
    "# Setting up the function with the parameters first and last name\n",
    "def build_person(first_name, last_name, age = None):\n",
    "    '''Returning a dictionary of the persons first and last name'''\n",
    "#   If we are given an age, loop through this\n",
    "    if age:\n",
    "        person = {'first' : first_name, 'last' : last_name, 'age' : age}\n",
    "    else: \n",
    "        person = {'first' : first_name, 'last' : last_name}\n",
    "# Can't be title as its a dictionary\n",
    "    return person\n",
    "\n",
    "# Person is returned to the call line, and is assigned to the variable make person\n",
    "make_person = build_person(first_name = 'cameron', last_name = 'wheeler', age = 22)\n",
    "# Printing make person which is person which is the dictionary of the arguemnts we passed in the call\n",
    "print(make_person)"
   ]
  },
  {
   "cell_type": "markdown",
   "id": "2c5e3cbb",
   "metadata": {},
   "source": [
    "> Another way to do it would be to add the key:value to the dictionary"
   ]
  },
  {
   "cell_type": "code",
   "execution_count": 28,
   "id": "d271c529",
   "metadata": {},
   "outputs": [
    {
     "name": "stdout",
     "output_type": "stream",
     "text": [
      "{'first': 'cameron', 'last': 'wheeler', 'age': 22}\n"
     ]
    }
   ],
   "source": [
    "# Setting up the function with the parameters first and last name\n",
    "def build_person(first_name, last_name, age = None):\n",
    "    '''Returning a dictionary of the persons first and last name'''\n",
    "    person = {'first' : first_name, 'last' : last_name}\n",
    "\n",
    "# Adding the new key:value pair, remeber its dictionary[key] = value# Adding the new key:value pair, remeber its dictionary[key] = value\n",
    "    if age:\n",
    "        person['age'] = age\n",
    "# Can't be title as its a dictionary\n",
    "    return person\n",
    "\n",
    "# Person is returned to the call line, and is assigned to the variable make person\n",
    "make_person = build_person(first_name = 'cameron', last_name = 'wheeler', age = 22)\n",
    "# Printing make person which is person which is the dictionary of the arguemnts we passed in the call\n",
    "print(make_person)"
   ]
  },
  {
   "cell_type": "code",
   "execution_count": 29,
   "id": "a9f19c59",
   "metadata": {},
   "outputs": [
    {
     "name": "stdout",
     "output_type": "stream",
     "text": [
      "30\n"
     ]
    }
   ],
   "source": [
    "# Setting up function with variables x and y \n",
    "# Setting the default values like mattia does\n",
    "def test(x:int=10, y:int=20):\n",
    "    '''trying to see that the colons do in mattia code'''\n",
    "# code that runs when we call the function\n",
    "    answers = x + y\n",
    "    return answers\n",
    "\n",
    "answer = test()\n",
    "print(answer)"
   ]
  },
  {
   "cell_type": "markdown",
   "id": "85e33b23",
   "metadata": {},
   "source": [
    "> We add the optional parameter age to the function build_person and assign the parameter the value \"None\" this is used when a value has nothing assinged to it, think of None as a placeholder value. In conditional tests, None = False, so the code won't run if we use a if statement.\n",
    "\n",
    "> We can modifiy this function to store any bit of information we want about a person"
   ]
  },
  {
   "cell_type": "markdown",
   "id": "5b7a25ae",
   "metadata": {},
   "source": [
    "### Using A Function With A While Loop\n",
    "\n",
    "You can use functions with everything we have learned to far. For example we can use the get_formatted_name function and a while loop to give users a formal greeting, see below."
   ]
  },
  {
   "cell_type": "code",
   "execution_count": 30,
   "id": "cc34c3ed",
   "metadata": {},
   "outputs": [
    {
     "name": "stdout",
     "output_type": "stream",
     "text": [
      "\n",
      "Please tell me your name:\n",
      "\n",
      "Enter quit into the first name bar to quit\n",
      "What is your first name? Cameron\n",
      "What is your last name?Wheeler\n",
      "Hello Cameron Wheeler..\n",
      "\n",
      "Please tell me your name:\n",
      "\n",
      "Enter quit into the first name bar to quit\n",
      "What is your first name? quit\n"
     ]
    }
   ],
   "source": [
    "# Setting up the function with the parameters first name\n",
    "def get_formatted_name(first_name, last_name):\n",
    "    '''Return a full name neatly formatted.'''\n",
    "#   Code that runs when we call the function\n",
    "    full_name = f\"{first_name} {last_name}.\"\n",
    "    return full_name.title()\n",
    "\n",
    "# Setting up the flag\n",
    "flag = True\n",
    "\n",
    "# While loop (This is not in the function!!!!!)\n",
    "# So while flag = true, this loop will run. This loop contains the call of the function\n",
    "while flag == True:\n",
    "    print(\"\\nPlease tell me your name:\")\n",
    "    print(\"\\nEnter quit into the first name bar to quit\")\n",
    "    f_name = input(\"What is your first name? \")\n",
    "#   Allows us to quit the loop\n",
    "    if f_name == 'quit':\n",
    "        break\n",
    "    l_name = input(\"What is your last name?\")\n",
    "    \n",
    "#   So the while loop collects the info for us, we then use that info in the call for get formatted name\n",
    "    formatted_name = get_formatted_name(f_name, l_name)\n",
    "    print(f\"Hello {formatted_name}.\")"
   ]
  },
  {
   "cell_type": "markdown",
   "id": "15fb0cf4",
   "metadata": {},
   "source": [
    "> Lets break this code down now. First we define our function and its rather simple. We take the parameters first_name and last_name to create a full_name and we return the value to the function call\n",
    "\n",
    "> Outside of the function, we set the flag = true, then we use a while loop that is controlled by that flag. This is where we get a little complicated. We ask the user to input their first name and last name. We assign those inputs to the variables f_name and l_name.\n",
    "\n",
    "> We then use these variables as agruments in the function call and assign the returned value to the variable formatted_name. \n",
    "\n",
    "> We then print the formatted name."
   ]
  },
  {
   "cell_type": "code",
   "execution_count": 31,
   "id": "a0035555",
   "metadata": {},
   "outputs": [
    {
     "name": "stdout",
     "output_type": "stream",
     "text": [
      "Please give us a planet and its position in the solar system e.g. 1st, 2nd, 3rd, 4th...\n",
      "What is the planet name? Mars\n",
      "What is the planets position? 1st\n",
      "\n",
      "The planet Mars is the 1st in the solar system.\n",
      "\n",
      "Would you like to quit?\n",
      "Type yes or no: yes\n"
     ]
    }
   ],
   "source": [
    "# Setting up the function with parameters\n",
    "def make_planet(name, position):\n",
    "    '''Takes then planet and their position in the solar system'''\n",
    "#   Code that runs when we call the function\n",
    "    complete = f\"The planet {name.title()} is the {position} in the solar system.\"\n",
    "    return complete\n",
    "\n",
    "# Setting up the flag\n",
    "flag = True\n",
    "\n",
    "# Setting up the while loop \n",
    "while flag == True:\n",
    "    print(\"Please give us a planet and its position in the solar system e.g. 1st, 2nd, 3rd, 4th...\")\n",
    "    p_name = input(\"What is the planet name? \")\n",
    "    p_position = input(\"What is the planets position? \")\n",
    "    \n",
    "    call = make_planet(name = p_name, position = p_position)\n",
    "    print(f\"\\n{call}\")\n",
    "    \n",
    "    print(\"\\nWould you like to quit?\")\n",
    "    quit = input(\"Type yes or no: \")\n",
    "    if quit == 'yes':\n",
    "        flag = False\n",
    "    "
   ]
  },
  {
   "cell_type": "markdown",
   "id": "cf98bf0b",
   "metadata": {},
   "source": [
    "## Tasks\n",
    "\n",
    "Write a function called city_country() that takes in the name of a city and its country. The function should return a string formatted like this\n",
    "\n",
    "\"Santiago, Chile\""
   ]
  },
  {
   "cell_type": "code",
   "execution_count": 32,
   "id": "314af319",
   "metadata": {},
   "outputs": [
    {
     "name": "stdout",
     "output_type": "stream",
     "text": [
      "Bath is located in England.\n",
      "London is located in England.\n",
      "Sydney is located in Australia.\n"
     ]
    }
   ],
   "source": [
    "# Setting up the function\n",
    "def city_country(city, country):\n",
    "    '''Makes a neatly formatted string of the city name and where it is'''\n",
    "#   Code that runs when the function is called. \n",
    "    complete = (f\"{city.title()} is located in {country.title()}.\")\n",
    "    return complete\n",
    "\n",
    "final = city_country(city = 'Bath', country = 'England')\n",
    "print(final)\n",
    "final = city_country(city = 'London', country = 'England')\n",
    "print(final)\n",
    "final = city_country(city = 'Sydney', country = 'Australia')\n",
    "print(final)"
   ]
  },
  {
   "cell_type": "markdown",
   "id": "cf0aec87",
   "metadata": {},
   "source": [
    "Write a function named maked_album() that builds a dictionary describing a music album. The function should take in an artist name and an album title, then it should return a dictionary containing these two pieces of information. \n",
    "\n",
    "Use the function to make three dictionaries representating different albums, print each return value to show that the dictionaries are storing the ablum information correctly\n",
    "\n",
    "Use 'None' to add an optional parameter to make_album() that allows you to store the number of songs in the album "
   ]
  },
  {
   "cell_type": "code",
   "execution_count": 33,
   "id": "863abfcc",
   "metadata": {},
   "outputs": [
    {
     "name": "stdout",
     "output_type": "stream",
     "text": [
      "{'name': 'Kanye', 'album': 'Donda'}\n",
      "{'name': 'Skrillex', 'album': 'Scary Monsters Nice Sprites', 'number of songs': 9}\n",
      "{'name': 'Deadmau5', 'album': 'Insert Title Here'}\n"
     ]
    }
   ],
   "source": [
    "\n",
    "# Setting up a function with its parameters \n",
    "def make_album(artist_name, album_title, number_of_songs = None):\n",
    "    '''Returns dictionary with artist and album'''\n",
    "    \n",
    "# Setting up the code that runs when we call the function\n",
    "    if number_of_songs:\n",
    "        complete_album = {'name' : artist_name, 'album' : album_title, 'number of songs' : number_of_songs}\n",
    "    else:\n",
    "        complete_album = {'name' : artist_name, 'album' : album_title}\n",
    "    return complete_album\n",
    "\n",
    "# Calling the function 3 times and setting it to a different variable\n",
    "# We are calling the function 3 times, but each time setting it to a different variable\n",
    "# This means we make all the differnt dictionaries without writing over another one\n",
    "album1 = make_album(artist_name = 'Kanye', album_title = 'Donda')\n",
    "print(album1)\n",
    "\n",
    "album2 = make_album(artist_name= 'Skrillex', album_title= 'Scary Monsters Nice Sprites', number_of_songs= 9)\n",
    "print(album2)\n",
    "\n",
    "album3 = make_album(artist_name= 'Deadmau5', album_title= \"Insert Title Here\")\n",
    "print(album3)"
   ]
  },
  {
   "cell_type": "markdown",
   "id": "916145c2",
   "metadata": {},
   "source": [
    "> So lets walk through this code, we are making a function and simply takes the parameters than places them into their places in the dictioanry (for some reason this took me years to undestand that I could just place the parameter there myself instead of trying to append or add it lol).\n",
    "\n",
    "> We then return the result of the function to the calling line, this is where we call the function 3 times with each artitst and album. We then assign that function call to a variable.\n",
    "\n",
    "> This allows us to create differnt dictionaries, with differnt infromation inside as each dictioary is being created with different artists and assigned to different variables."
   ]
  },
  {
   "cell_type": "markdown",
   "id": "ca676915",
   "metadata": {},
   "source": [
    "Start with your program above, Write a while loop that allows the user to enter an album and an atrist. Once we have the information use the function to use the users input and pritn the dictonary thats created. Be sure to include a quit value in the while loop"
   ]
  },
  {
   "cell_type": "code",
   "execution_count": 35,
   "id": "0452e7d8",
   "metadata": {},
   "outputs": [
    {
     "name": "stdout",
     "output_type": "stream",
     "text": [
      "Please give me your favorite artist and one of their albums!\n",
      "Artist name: Kany\n",
      "Album title: Donda\n",
      "{'name': 'Kany', 'album': 'Donda'}\n",
      "\n",
      "If you want to quit, type yes. If you want to continue type no.\n",
      "Do you want to quit? yes\n"
     ]
    }
   ],
   "source": [
    "# Setting up a function with its parameters \n",
    "def make_album(artist_name, album_title):\n",
    "    '''Returns dictionary with artist and album'''\n",
    "# Setting up the code that runs when we call the function\n",
    "# Creating a dictioanry that uses the parameters \n",
    "    complete_album = {'name' : artist_name, 'album' : album_title}\n",
    "# Return complete album to call line\n",
    "    return complete_album \n",
    "    \n",
    "# Setting up a flag \n",
    "flag = True\n",
    "\n",
    "# Setting up the while loop (not part of the function remeber)\n",
    "while flag == True:\n",
    "    print(\"Please give me your favorite artist and one of their albums!\")\n",
    "    artist_n = input(\"Artist name: \")\n",
    "    album_t = input(\"Album title: \")\n",
    "\n",
    "# Calling the function in the while loop\n",
    "    final = make_album(artist_name= artist_n, album_title= album_t)\n",
    "    print(final)\n",
    "    \n",
    "# Setting up the quit if statment\n",
    "    print(\"\\nIf you want to quit, type yes. If you want to continue type no.\")\n",
    "    quit = input('Do you want to quit? ')\n",
    "    if quit == 'yes':\n",
    "        flag = False"
   ]
  },
  {
   "cell_type": "markdown",
   "id": "937b8542",
   "metadata": {},
   "source": [
    "> Lets break this code down: Just like usual we are definine a function that takes its parameters, and this time we are using those parameters given to the function and creating a dictionary with them, creating a variable and assinging the dictionary to complete_album, which we then return to the calling line. \n",
    "\n",
    "> We are using a while loop, so we are creating a flag that governs whether it runs or not. in this while loop we are collecting our data, so the artist name and album name, to which we are assinging them to their respective variables (this allows us to use the input strings)\n",
    "\n",
    "> We then call the function using the two variables and arguments for the parameters in the function. We are calling the function and assigning it to the varibale final, which we print.\n",
    "\n",
    "> We then use our standard if statement to ask the user if they want to quit or not. If they don't we turn the flag to false, stopping the loop."
   ]
  },
  {
   "cell_type": "markdown",
   "id": "99475f68",
   "metadata": {},
   "source": [
    "### Passing A List \n",
    "\n",
    "We will often find that we need to pass a list into a function weaht its a list of numbers, names, or objects such as dictionaries. When we pass a list to a function, the function gets direct access to the contents of the list. In this part we are going to using functions to amke working with lists more efficient.\n",
    "\n",
    "For example we have a list of users and what to print a greeting to each of them. The example below sends a list of names to a function called greet_user() that greets each person induvidually."
   ]
  },
  {
   "cell_type": "code",
   "execution_count": 36,
   "id": "300c62a6",
   "metadata": {},
   "outputs": [
    {
     "name": "stdout",
     "output_type": "stream",
     "text": [
      "Hello Cameron, I hope you are well.\n",
      "Hello Mattia, I hope you are well.\n",
      "Hello Paul, I hope you are well.\n",
      "Hello Adam, I hope you are well.\n"
     ]
    }
   ],
   "source": [
    "# Setting up the function with the parameters \n",
    "def greet_users(names):\n",
    "    '''Print a simple greetin to each user in the list'''\n",
    "# Code that runs when we call the funciton\n",
    "    for name in names:\n",
    "        msg = f\"Hello {name.title()}, I hope you are well.\"\n",
    "        print(msg)\n",
    "\n",
    "# Setting up a list of names, giving it to the variable usernames        \n",
    "usernames = ['cameron', 'mattia', 'paul', 'adam']\n",
    "# Calling the function using usernames as the argument\n",
    "greet_users(usernames)"
   ]
  },
  {
   "cell_type": "markdown",
   "id": "d9ce00c4",
   "metadata": {},
   "source": [
    "> We define greet users with the parameter name so the fuction expects names to be passed through it. In the function there is a for loop that loops through the list of names we are giving the function is usernmes. For each of those names we are printing a polite message by assigning a 'f string' to the variable msg.\n",
    "\n",
    "> we assign a list of names to the variable usernames \n",
    "\n",
    "> We then use usernames as the arguement that is passed to the function parameter."
   ]
  },
  {
   "cell_type": "markdown",
   "id": "839ec530",
   "metadata": {},
   "source": [
    "### Modifying A List In A Function\n",
    "\n",
    "When we pass a list to a function, the function can modify the list. Any changes made to the list inside of the function's body are permanent, allowing for us to work efficiently with large amounts of data. \n",
    "\n",
    "Consider a company that creates 3D printed models of designs that users submit. Designs that need to be printed are stored in a list, and when they are printed the are moved to another list (We have done this manually before, using pop I think). First we explore how to do this WITHOUT a function, then we use a function."
   ]
  },
  {
   "cell_type": "code",
   "execution_count": 37,
   "id": "34ee91b7",
   "metadata": {},
   "outputs": [
    {
     "name": "stdout",
     "output_type": "stream",
     "text": [
      "We are in the process of printing your phone case.\n",
      "We are in the process of printing your cup holder.\n",
      "We are in the process of printing your whistle.\n",
      "Almost finished printing whistle.\n",
      "Almost finished printing cup holder.\n",
      "Almost finished printing phone case.\n",
      "\n",
      "The follow models are complete\n",
      "whistle\n",
      "cup holder\n",
      "phone case\n"
     ]
    }
   ],
   "source": [
    "# Start the process by making lists of what needs to be printed and what has been printed. \n",
    "unprinted = ['phone case', 'cup holder', 'whistle']\n",
    "printed = []\n",
    "\n",
    "# Simulate printing each design\n",
    "for design in unprinted:\n",
    "    print(f\"We are in the process of printing your {design}.\")\n",
    "    \n",
    "# Move each design to the printed list\n",
    "while unprinted:\n",
    "    current_design = unprinted.pop()\n",
    "    print(f\"Almost finished printing {current_design}.\")\n",
    "    printed.append(current_design)\n",
    "    \n",
    "# Display all the completed models\n",
    "print(\"\\nThe follow models are complete\")\n",
    "for design in printed:\n",
    "    print(design)"
   ]
  },
  {
   "cell_type": "markdown",
   "id": "1c6cd459",
   "metadata": {},
   "source": [
    "> Lets walk through this example code, first the program starts with a list of designs that need to be printed, as well as an empty list of designs that have been printed. We then loop through the unprinted list to tell the customer that we are printing their design. \n",
    "\n",
    "> Using a while loop (so while there are items in the unprinted list this loop will keep going. In there for each design we tell the user we are almost done with printing their designs storing it in the current designs variable using the pop method. So we are popping the design in the unprinted deisgn list and storing it as current design. Then appending the current desing to the printed list using the append method. \n",
    "\n",
    "> Lets now do the same thing using functions - This is complex (we are now using two fuctions in one block of code) so lets walk through it step by step"
   ]
  },
  {
   "cell_type": "code",
   "execution_count": 38,
   "id": "2e82502d",
   "metadata": {},
   "outputs": [
    {
     "name": "stdout",
     "output_type": "stream",
     "text": [
      "Printing model: whistle\n",
      "Printing model: cup holder\n",
      "Printing model: phone case\n",
      "\n",
      "The following models have been printed\n",
      "whistle\n",
      "cup holder\n",
      "phone case\n"
     ]
    }
   ],
   "source": [
    "# Setting up a funtion that prints the models\n",
    "def print_models(unprinted, printed):\n",
    "    '''\n",
    "    Simulate printing each desing, until none are left.\n",
    "    Move each desing to printed after printing.\n",
    "    '''\n",
    "# Code that runs when the function is called\n",
    "    while unprinted:\n",
    "        current_design = unprinted.pop()\n",
    "        print(f'Printing model: {current_design}')\n",
    "        printed.append(current_design\n",
    "                      )\n",
    "# Setting up a function that shows the completed models\n",
    "def show_completed_models(printed):\n",
    "    '''Show all the models that were printed'''\n",
    "# Code that runs when the function is called\n",
    "    print(\"\\nThe following models have been printed\")\n",
    "    for design in printed:\n",
    "        print(design)\n",
    "\n",
    "# Setting up the need to be printed list and empty printed list\n",
    "unprinted = ['phone case', 'cup holder', 'whistle']\n",
    "printed = []\n",
    "\n",
    "# Calling the function print models using the arguemnts unprinted and printed\n",
    "print_models(unprinted, printed)\n",
    "# Calling the function with the arugment printed\n",
    "show_completed_models(printed)"
   ]
  },
  {
   "cell_type": "markdown",
   "id": "dd6d8d86",
   "metadata": {},
   "source": [
    "> Lets run through this code together, first we define the function print_models, this uses a while loop that loops as long as there are we pop the design and assign it to current design. We tell the user we are printing the design then we append the currernt design to the printed list. So everytime we call this, that is what will happen as long as there are designs in the list and we call this function it will work. \n",
    "\n",
    "> Next we define a second function, show completed models. This is a simple print statement and a for loop that prints off all the designs that have now been appended to the printed list. \n",
    "\n",
    "> Under the second function we have made our lists of printed and unprinted items\n",
    "\n",
    "> To call the functions we use two different arguments (it's not the same arguments for both) for the first function we use the arguments unpprinted and printed to feed the parameters unprinted and printe. For the second one we use just the printed, as feeding it unprinted wouldn't help the function do its job, which is to print the list of printed designs. \n",
    "\n",
    "> The reason we use these functions is we can just simply extend the list that we feed to the function. This example also shows us that each function should really only have one specific role, and we shoould use functions that we can get to interact with eachother to make our program run efficiently"
   ]
  },
  {
   "cell_type": "markdown",
   "id": "f8bb8098",
   "metadata": {},
   "source": [
    "### Preventing A Function From Modifying A List\n",
    "\n",
    "Sometimes, we will want to prevent a function was messing around with a list, an example would be that we start with a list of unprinted designs and we write a function to move them to a list of completed items. We may decide thay even though we have printed all of the designs, we still want to keep the original list of unprinted designs for our records. \n",
    "\n",
    "However, we have moved all the designs to the printed list so now the list is now empty. In this case we can address the issue by pass the fuction a copy of the list (so not the original list. Any changes that the function does to the list is only done to the copy, not the original\n",
    "\n",
    "We can send a copy to a list like this. \n",
    "\n",
    "function_name(list_name[ : ])\n",
    "\n",
    "The slice notation [ : ] makes a copy of the list to send to the function, so for the example above, to send a copy, not the original list to the function print_models() we will use. \n",
    "\n",
    "print_models(unprinted[ : ], printed) \n",
    "\n",
    "This means the function print_models() will then do its job because it recieved a list of 'unprinted' items even though this is just a copy, the list of completed items will be filled with the contents of the unprinted copy (which will be the same as the original).\n",
    "\n",
    "The book states that even though we can pass a copy into a function there should be a specific reason for doing so. If not just pass the original list into the function like I have explained. "
   ]
  },
  {
   "cell_type": "markdown",
   "id": "140120b4",
   "metadata": {},
   "source": [
    "## Tasks\n",
    "\n",
    "Make a list containing a series of short text messages. Pass the list to a function called show_messages(), which prints each text message."
   ]
  },
  {
   "cell_type": "code",
   "execution_count": 39,
   "id": "34f81b48",
   "metadata": {},
   "outputs": [
    {
     "name": "stdout",
     "output_type": "stream",
     "text": [
      "Hello my name is cameron\n",
      "How are you today?\n",
      "What are you doing today?\n"
     ]
    }
   ],
   "source": [
    "# Setting up the function\n",
    "def show_messages(messages):\n",
    "    '''Passes a list of messages and prints it'''\n",
    "    for message in messages:\n",
    "        print(f\"{message}\")\n",
    "        \n",
    "messages = ['Hello my name is cameron', 'How are you today?', 'What are you doing today?']\n",
    "\n",
    "show_messages(messages)"
   ]
  },
  {
   "cell_type": "markdown",
   "id": "d0020309",
   "metadata": {},
   "source": [
    "Start with a copy of your program above. Write a function called send_messages() that prints each text message and move each essage to. a new list called sent_messages[] as its been printed. After calling the function, print both of your lists to show that the messages have been moved correctly. "
   ]
  },
  {
   "cell_type": "code",
   "execution_count": 40,
   "id": "609ea44a",
   "metadata": {},
   "outputs": [
    {
     "name": "stdout",
     "output_type": "stream",
     "text": [
      "Hello my name is cameron\n",
      "How are you today?\n",
      "What are you doing today?\n",
      "Sending your message 'What are you doing today?'\n",
      "Sending your message 'How are you today?'\n",
      "Sending your message 'Hello my name is cameron'\n",
      "[]\n",
      "['What are you doing today?', 'How are you today?', 'Hello my name is cameron']\n"
     ]
    }
   ],
   "source": [
    "# Setting up first function\n",
    "def show_messages(messages):\n",
    "    '''Passes a list of messages and prints it'''\n",
    "    for message in messages:\n",
    "        print(f\"{message}\")\n",
    "        \n",
    "# Setting up second function\n",
    "def print_messages(messages, sent_messages):\n",
    "    '''Loops through messages, \"sends\" them and moves them to a list of sent messages'''\n",
    "    while messages:\n",
    "        current_message = messages.pop()\n",
    "        print(f\"Sending your message '{current_message}'\")\n",
    "        sent_messages.append(current_message)\n",
    "        \n",
    "messages = ['Hello my name is cameron', 'How are you today?', 'What are you doing today?']\n",
    "sent_messages = []\n",
    "\n",
    "# Calling the functions\n",
    "show_messages(messages)\n",
    "print_messages(messages, sent_messages)\n",
    "# Showing that the messages have been transferred\n",
    "print(messages)\n",
    "print(sent_messages)"
   ]
  },
  {
   "cell_type": "markdown",
   "id": "f9b67660",
   "metadata": {},
   "source": [
    "Start with the work above, this time use a copy of the list messages to call the function print_messages(). After calling the function print both of the lists to show that they are both intact. "
   ]
  },
  {
   "cell_type": "code",
   "execution_count": 41,
   "id": "e3e5f9b3",
   "metadata": {},
   "outputs": [
    {
     "name": "stdout",
     "output_type": "stream",
     "text": [
      "Hello my name is cameron\n",
      "How are you today?\n",
      "What are you doing today?\n",
      "Sending your message 'What are you doing today?'\n",
      "Sending your message 'How are you today?'\n",
      "Sending your message 'Hello my name is cameron'\n",
      "['Hello my name is cameron', 'How are you today?', 'What are you doing today?']\n",
      "['What are you doing today?', 'How are you today?', 'Hello my name is cameron']\n"
     ]
    }
   ],
   "source": [
    "# Setting up first function\n",
    "def show_messages(messages):\n",
    "    '''Passes a list of messages and prints it'''\n",
    "    for message in messages:\n",
    "        print(f\"{message}\")\n",
    "        \n",
    "# Setting up second function\n",
    "def print_messages(messages, sent_messages):\n",
    "    '''Loops through messages, \"sends\" them and moves them to a list of sent messages'''\n",
    "    while messages:\n",
    "        current_message = messages.pop()\n",
    "        print(f\"Sending your message '{current_message}'\")\n",
    "        sent_messages.append(current_message)\n",
    "        \n",
    "messages = ['Hello my name is cameron', 'How are you today?', 'What are you doing today?']\n",
    "sent_messages = []\n",
    "\n",
    "# Calling the functions\n",
    "show_messages(messages)\n",
    "# Calling the function with a copy of the list 'messages'\n",
    "print_messages(messages[:], sent_messages)\n",
    "# Showing that the messages have been transferred\n",
    "print(messages)\n",
    "print(sent_messages)"
   ]
  },
  {
   "cell_type": "markdown",
   "id": "7d10e7ca",
   "metadata": {},
   "source": [
    "### Passing An Arbitary Number Of Arguments\n",
    "\n",
    "Sometimes you won't know ahead of time of time how many arugments a function needs to accept. Pyhton allows a function to collect an arbitrary number of arugments from the calling statement.\n",
    "\n",
    "For example, lets build a function that makes a pizza. It needs to accept a number of toppings, but you can't know ajead of time how many toppings the person ordering will want. The function we are using has one parameter *toppings but this but this parameter collects as many arguments that is provided when calling the function. "
   ]
  },
  {
   "cell_type": "code",
   "execution_count": 42,
   "id": "54bdab4a",
   "metadata": {},
   "outputs": [
    {
     "name": "stdout",
     "output_type": "stream",
     "text": [
      "('pepperoni',)\n",
      "('Mushrooms', 'chicken')\n"
     ]
    }
   ],
   "source": [
    "# Setting up the function with the parameter\n",
    "def make_pizza(*toppings):\n",
    "    '''Makes pizza '''\n",
    "# Code that runs when we call the function\n",
    "    print(toppings)\n",
    "    \n",
    "make_pizza('pepperoni')\n",
    "make_pizza('Mushrooms', 'chicken')"
   ]
  },
  {
   "cell_type": "markdown",
   "id": "c099375c",
   "metadata": {},
   "source": [
    "> So the asterisk in the parameter name *toppings tells python to make an empty tuple called 'toppings' and place whatever values it receives into that tuple. The print call in the function prints off the the tuple, even if its only given one argument, Python will pack it into a tuple."
   ]
  },
  {
   "cell_type": "markdown",
   "id": "3cdf661b",
   "metadata": {},
   "source": [
    "Lets change the function a little bit so that we arn't just printing out the tuple, but looping through it a printing off each of the values in the tuple."
   ]
  },
  {
   "cell_type": "code",
   "execution_count": 43,
   "id": "39c5739c",
   "metadata": {},
   "outputs": [
    {
     "name": "stdout",
     "output_type": "stream",
     "text": [
      "\n",
      "Making the pizza you ordered with the following toppings.\n",
      "pepperoni\n",
      "\n",
      "Making the pizza you ordered with the following toppings.\n",
      "Mushrooms\n",
      "chicken\n",
      "BBQ sauce\n"
     ]
    }
   ],
   "source": [
    "# Setting up the function\n",
    "def make_pizza(*toppings):\n",
    "    '''Makes pizza'''\n",
    "    print(\"\\nMaking the pizza you ordered with the following toppings.\")\n",
    "    for topping in toppings:\n",
    "        print(topping)\n",
    "        \n",
    "\n",
    "make_pizza('pepperoni')\n",
    "make_pizza('Mushrooms', 'chicken', 'BBQ sauce')"
   ]
  },
  {
   "cell_type": "markdown",
   "id": "f492f09c",
   "metadata": {},
   "source": [
    "If we want the function to accept multiple parameters but one of them needs to accept an unknown amount of arguemts. The one that accepts the unknown amount always comes last (sort of like default values?). Python will match the positional arguments and the keyword arguments first, the will move onto the final parameter. \n",
    "\n",
    "For example..."
   ]
  },
  {
   "cell_type": "code",
   "execution_count": 44,
   "id": "71f4e4e5",
   "metadata": {
    "scrolled": true
   },
   "outputs": [
    {
     "name": "stdout",
     "output_type": "stream",
     "text": [
      "\n",
      "Making the pizza you ordered with BBQ sauce the following toppings.\n",
      "mushrooms\n",
      "chicken\n",
      "ham\n"
     ]
    }
   ],
   "source": [
    "# Setting up the function\n",
    "def make_pizza(sauce, *toppings):\n",
    "    '''Making a pizza with a specific sauce'''\n",
    "#   Code that runs when we call the function\n",
    "    print(f\"\\nMaking the pizza you ordered with {sauce} sauce the following toppings.\")\n",
    "    for topping in toppings:\n",
    "        print(topping)\n",
    "\n",
    "\n",
    "# Calling the function\n",
    "make_pizza(\"BBQ\", 'mushrooms', 'chicken', 'ham')"
   ]
  },
  {
   "cell_type": "markdown",
   "id": "e48e0349",
   "metadata": {},
   "source": [
    "NOTE - We will often see generic parameter name *args, which collects arbitary positioal arguments"
   ]
  },
  {
   "cell_type": "markdown",
   "id": "1a14ad4d",
   "metadata": {},
   "source": [
    "### Using Arbitary 'Keyword' Arguments\n",
    "\n",
    "Sometimes you will want to accept an arbitrary number of arguments, but you won't know ahead of time what kind of information will be passed. In this case we can write a function that accepts as many key-value functions as we set it. \n",
    "\n",
    "An example would be building user profiles: you know you'll get information about a user, but you don't know how much or what kind of information you will recieve. The function build_profile() below, always takes in a first and last name, but it also accepts an arbitaty number of keyword arguments as well."
   ]
  },
  {
   "cell_type": "code",
   "execution_count": 45,
   "id": "f8995f6c",
   "metadata": {},
   "outputs": [
    {
     "name": "stdout",
     "output_type": "stream",
     "text": [
      "{'location': 'bath', 'occupation': 'student', 'first_name': 'cameron', 'last_name': 'wheeler'}\n"
     ]
    }
   ],
   "source": [
    "# Setting up the function\n",
    "def build_profile(first, last, **user_info):\n",
    "    '''Builds a dictionary containing everything we know about the user'''\n",
    "# Code that runs when we call the function\n",
    "    user_info['first_name'] = first\n",
    "    user_info['last_name'] = last\n",
    "    return user_info\n",
    "\n",
    "# Calling the function with the arguments and assinging that to user profile\n",
    "user_profile = build_profile('cameron', 'wheeler', location = 'bath', occupation = 'student')\n",
    "# Printing the variable user profile \n",
    "print(user_profile)"
   ]
  },
  {
   "cell_type": "markdown",
   "id": "414d2e4e",
   "metadata": {},
   "source": [
    "> Lets run through the code as it's sort of strange. First we define the function with the parameters first, last and then we have ****user_info**. This double asterisk tells python to create a dictionary, called user_info, and places whatever key:value pairs it is given into the dictionary.\n",
    "\n",
    "> In the code that runs (the body) of build_profile, we add the first and last names to the user_info dictionary specifically as we know we will always receive this information. (remeber that they havn't been added until we specifically add them). Then we return the user_info to the call line.\n",
    "\n",
    "> At the call line we define the fuction call to the variable, when we call the function we pass the arguments cameron as first, wheeler as last, then we use keyword arguments to pass location = bath and occupation = student. These will be scooped up by the user_info parameter. \n",
    "\n",
    "> We then print user_profile. The dictionary that is printed contains the users first and last name (as expected because we specifcally added them to the user_info dictioanry created in the parameters. It also contains the location and the occupation. This will work no matter how much information is fed into the arguments as keyword arguments in the function call. \n",
    "\n",
    "> When reading other peoples code, we will find so many types of arugments in differnt orders. It takes practice to learn them, but as we progress we will learn to read them well and how to use them in the most efficient way"
   ]
  },
  {
   "cell_type": "markdown",
   "id": "16cd412d",
   "metadata": {},
   "source": [
    "NOTE - We will often see the paremter name ****kwargs** this is used to collect non-specific keyword arguements"
   ]
  },
  {
   "cell_type": "markdown",
   "id": "5de2df19",
   "metadata": {},
   "source": [
    "## Tasks\n",
    "\n",
    "Write a function that accepts a list of items a person wants on a sandwhich. The function should have one parameter that collects as many arguements as the function call provides, and it should print a summary of the sandwhich that is being ordered. Call the function 3 times using differnt arugments each time. "
   ]
  },
  {
   "cell_type": "code",
   "execution_count": 46,
   "id": "30c587f2",
   "metadata": {},
   "outputs": [
    {
     "name": "stdout",
     "output_type": "stream",
     "text": [
      "\n",
      "We are making your sandwhich on brown bread with the following fillings.\n",
      "Ham\n",
      "Cheese\n",
      "\n",
      "We are making your sandwhich on white bread with the following fillings.\n",
      "Cheese\n",
      "Chicken\n",
      "Lettuce\n",
      "Tomato\n",
      "\n",
      "We are making your sandwhich on vegan bread with the following fillings.\n",
      "Lettuce\n",
      "Tomato\n",
      "Vegan Coleslaw\n",
      "Vegan Cheese\n"
     ]
    }
   ],
   "source": [
    "# Setting up the function with the parameters that accepts many arguements\n",
    "def make_sandwhich(bread, *fillings):\n",
    "    '''Makes a sandwhich'''\n",
    "#   Code that runs when we call the function \n",
    "    print(f\"\\nWe are making your sandwhich on {bread} bread with the following fillings.\")\n",
    "    for filling in fillings:\n",
    "        print(filling.title())\n",
    "        \n",
    "make_sandwhich('brown', 'ham', 'cheese')\n",
    "make_sandwhich('white', 'cheese', 'chicken', 'lettuce', 'tomato')\n",
    "make_sandwhich('vegan', 'lettuce', 'tomato', 'vegan coleslaw', 'vegan cheese')"
   ]
  },
  {
   "cell_type": "markdown",
   "id": "4582fe39",
   "metadata": {},
   "source": [
    "Start with a copy of the user_profile code we made before, build a profile of a person by calling the build_profile() using their first and last names along with three other key-value pairs that describes them."
   ]
  },
  {
   "cell_type": "code",
   "execution_count": 47,
   "id": "5435932e",
   "metadata": {},
   "outputs": [
    {
     "name": "stdout",
     "output_type": "stream",
     "text": [
      "{'location': 'bath', 'occupation': 'student', 'first_name': 'cameron', 'last_name': 'wheeler'}\n",
      "{'location': 'califonia', 'occupation': 'apple CEO', 'hair': 'grey', 'first_name': 'tim', 'last_name': 'cook'}\n"
     ]
    }
   ],
   "source": [
    "# Setting up the function\n",
    "def build_profile(first, last, **user_info):\n",
    "    '''Builds a dictionary containing everything we know about the user'''\n",
    "# Code that runs when we call the function\n",
    "    user_info['first_name'] = first\n",
    "    user_info['last_name'] = last\n",
    "    return user_info\n",
    "\n",
    "# Calling the function with the arguments and assinging that to user profile\n",
    "user_profile = build_profile('cameron', 'wheeler', location = 'bath', occupation = 'student')\n",
    "# Printing the variable user profile \n",
    "print(user_profile)\n",
    "# Calling the function for the task\n",
    "task_profile = build_profile('tim', 'cook', location = 'califonia', occupation = 'apple CEO', hair = 'grey')\n",
    "print(task_profile)"
   ]
  },
  {
   "cell_type": "markdown",
   "id": "13c1ae40",
   "metadata": {},
   "source": [
    "Write a funtion that stores infromation about a car in a dictionary, The function should awlays recieve a manufacturer, model name and it should accept an arbitrary number of keyword arguments. Call the function with the required informaton and two other name-value pairs, such as a colour. Your function should work like this one\n",
    "\n",
    "car = make_car(subaru, outback, colour = blue, tow_package = True)"
   ]
  },
  {
   "cell_type": "code",
   "execution_count": 48,
   "id": "032cfcf0",
   "metadata": {},
   "outputs": [
    {
     "name": "stdout",
     "output_type": "stream",
     "text": [
      "{'colour': 'Red', 'sports_breaks': True, 'seats': 5, 'doors': 3, 'manufacturer': 'ford', 'model': 'fiesta st'}\n"
     ]
    }
   ],
   "source": [
    "# Setting up the function with the parameters (make sure to include the dictionary)\n",
    "def car_info(manufacturer, model, **car_info):\n",
    "    '''Builds a dictionary of a car with some information'''\n",
    "#   Code that runs when we call the function\n",
    "    car_info['manufacturer'] = manufacturer\n",
    "    car_info['model'] = model\n",
    "    return car_info\n",
    "\n",
    "# Calling the function with the arguments and additional information \n",
    "car = car_info('ford', 'fiesta st', colour = 'Red', sports_breaks = True, seats = 5, doors = 3)\n",
    "print(car)"
   ]
  },
  {
   "cell_type": "markdown",
   "id": "61572ecc",
   "metadata": {},
   "source": [
    "## Storing Functions In Modules\n",
    "\n",
    "One advantage of functions is that way they seperate block of code from our main program. By using descriptive names for our functions it will make our program easier to follow. We can go a step further by storing our functions in a separate file called a 'module' \n",
    "\n",
    "An import statement tells python to make the code in a module available in the currently running program file. \n",
    "\n",
    "Storing our functions in a seperate file allows us to hide the detail of the code, allowing us to focus on the simple logic of the main program. It also allows us the reuse functions in different programs as we import the module. We could also share our modules with other programmers without having to send them the whole program. As well as this, knowing how to import functions allows us to import libaries of functions that other programmers have written. \n",
    "\n",
    "To do this in Jupyter Notebook, I am making new notebooks named as the module we want to import. In our text editor, we will simply just make a new .py file in the directory that we are using.\n",
    "\n",
    "There are several ways to import a module, we are going to explore each of them breifly. "
   ]
  },
  {
   "cell_type": "markdown",
   "id": "28f6650c",
   "metadata": {},
   "source": [
    "### Importing An Entire Module\n",
    "\n",
    "To start importing functions, we first need to creat a module. A module is a file that ends in .py that contains the code we want to import into our program. Lets make a module that contains the function make_pizza() from before. To make this a module, we remove all the code BUT the function and the code that runs when we call the function. \n",
    "\n",
    "See below "
   ]
  },
  {
   "cell_type": "code",
   "execution_count": 50,
   "id": "b2206a4f",
   "metadata": {},
   "outputs": [
    {
     "name": "stdout",
     "output_type": "stream",
     "text": [
      "\n",
      "Making the pizza you ordered with BBQ sauce the following toppings.\n",
      "chicken\n",
      "cheese\n"
     ]
    }
   ],
   "source": [
    "# Importing the module pizza from the directory. \n",
    "import pizza\n",
    "\n",
    "# Calling the function thats located in pizza\n",
    "pizza.make_pizza('BBQ', 'chicken', 'cheese')"
   ]
  },
  {
   "cell_type": "markdown",
   "id": "ac96f7d4",
   "metadata": {},
   "source": [
    "> When python reads the file above, the line import pizza tells python to open the file pizza.py. \n",
    "\n",
    "> Python the copies all the code from there into our this program, although we don't actaully see the code, it's there. All we need to think is that all the code thats in pizza.py in being pulled into the program.\n",
    "\n",
    "> We then call the function from the imported module. To do this we state the name of the module that we are importing the function from, then the function that we want to call, followed by the arguments that we want to pass to the parameters in the function. The code will produce the same output as it would if we just had all of the code together. \n",
    "\n",
    "> This is the first approach to importing, we simply write 'import' then the module, that imports every function from the module available in the program we are running. (SO WE IMPORT AT THE START AND ITS JUST AVAILABLE).\n",
    "\n",
    "> If we use this method of import statement, any function in the module is available with the following syntax. \n",
    "\n",
    "> module_name.function(arguments)"
   ]
  },
  {
   "cell_type": "markdown",
   "id": "df25eebf",
   "metadata": {},
   "source": [
    "### Importing Specific Functions \n",
    "\n",
    "We can also import a specific function from a module. To do this we use \n",
    "\n",
    "'from module_name import function_name'\n",
    "\n",
    "We can import as many functions we like from a module, by seperating each of the function names with a comma\n",
    "\n",
    "'from module_name import function_name, function_name, function_name'"
   ]
  },
  {
   "cell_type": "code",
   "execution_count": 51,
   "id": "3d54eb52",
   "metadata": {},
   "outputs": [
    {
     "name": "stdout",
     "output_type": "stream",
     "text": [
      "\n",
      "Making the pizza you ordered with tomato sauce the following toppings.\n",
      "pepperoni\n"
     ]
    }
   ],
   "source": [
    "# Importing a specific function\n",
    "from pizza import make_pizza\n",
    "\n",
    "# Calling the function\n",
    "make_pizza('tomato', 'pepperoni')"
   ]
  },
  {
   "cell_type": "markdown",
   "id": "a8d043ce",
   "metadata": {},
   "source": [
    "> Importing a specific function means we don't have to state the module with the dot notation when we call the function. This is because we have explicitly imported the function make_pizza on the import statement so we don't have to give Python a 'pathway' if you will, to find the function. "
   ]
  },
  {
   "cell_type": "markdown",
   "id": "ce78763f",
   "metadata": {},
   "source": [
    "### Using 'as' To Give A Function An Alias\n",
    "\n",
    "If the name of a function we are importing might conflict with code in the program we are writing, we can use a short, unique alias (this is an alternative name that we give the function when we are importing the function)\n",
    "\n",
    "The general syntax is:\n",
    "from module_name import function_name as alias\n",
    "\n",
    "For example:"
   ]
  },
  {
   "cell_type": "code",
   "execution_count": 52,
   "id": "913e0738",
   "metadata": {},
   "outputs": [
    {
     "name": "stdout",
     "output_type": "stream",
     "text": [
      "\n",
      "Making the pizza you ordered with BBQ sauce the following toppings.\n",
      "Pepperoni\n",
      "Sweetcorn\n"
     ]
    }
   ],
   "source": [
    "# Importing a specific function with an alias\n",
    "from pizza import make_pizza as mp \n",
    "\n",
    "# Calling the function\n",
    "mp('BBQ', 'Pepperoni', 'Sweetcorn')"
   ]
  },
  {
   "cell_type": "markdown",
   "id": "7c347975",
   "metadata": {},
   "source": [
    "> Here we import a specific function from the module and we give it the alias 'mp' "
   ]
  },
  {
   "cell_type": "markdown",
   "id": "facb2519",
   "metadata": {},
   "source": [
    "### Using 'as' To Give A Module An Alias\n",
    "\n",
    "We can also provide an alias to a module name. Giving the module a short alias like p for pizza allows you to call the modules functions more quickly. Calling p.make_pizza() is much quicker than calling pizza.make_pizza() (Barely, but it is worth considering) \n",
    "\n",
    "The general syntax is:\n",
    "\n",
    "import module_name as alias \n",
    "\n",
    "For example:"
   ]
  },
  {
   "cell_type": "code",
   "execution_count": 53,
   "id": "b6138e7d",
   "metadata": {},
   "outputs": [
    {
     "name": "stdout",
     "output_type": "stream",
     "text": [
      "\n",
      "Making the pizza you ordered with tomato sauce the following toppings.\n",
      "ham\n",
      "pineapple\n"
     ]
    }
   ],
   "source": [
    "# Importing the module with the alias\n",
    "import pizza as p\n",
    "\n",
    "# Calling the function\n",
    "p.make_pizza('tomato', 'ham', 'pineapple')"
   ]
  },
  {
   "cell_type": "markdown",
   "id": "15b1848a",
   "metadata": {},
   "source": [
    "> The module pizza is given the alias 'p' in the import statement. We can call the function using p.make_pizza(). The book also says that this will allow us to be very descriptive with our function names. These function names that clearly tell us what each function does are more important to the readability of your code, that using the full module name. "
   ]
  },
  {
   "cell_type": "markdown",
   "id": "01f39b23",
   "metadata": {},
   "source": [
    "### Importing All Functions In A Module\n",
    "\n",
    "We can tell python to import every function in a module by using the asterisk ( * ) operator.\n",
    "\n",
    "For example:"
   ]
  },
  {
   "cell_type": "code",
   "execution_count": 54,
   "id": "e858eb45",
   "metadata": {},
   "outputs": [
    {
     "name": "stdout",
     "output_type": "stream",
     "text": [
      "\n",
      "Making the pizza you ordered with tomato sauce the following toppings.\n",
      "ham\n",
      "pineapple\n"
     ]
    }
   ],
   "source": [
    "# Importing all of the functions in the module\n",
    "from pizza import *\n",
    "\n",
    "# Calling the function\n",
    "make_pizza('tomato', 'ham', 'pineapple')"
   ]
  },
  {
   "cell_type": "markdown",
   "id": "c535db63",
   "metadata": {},
   "source": [
    "> The asterisk in the import statement tells Python to copy every function from the module pizza into the program we are running. Because every function is imported when we use the asterisk, we no longer need to use the dot notation when calling the function, but this can get confusing when working with big documents or documents we didn't make so not many people tend to use this"
   ]
  },
  {
   "cell_type": "markdown",
   "id": "97826a6e",
   "metadata": {},
   "source": [
    "NOTE - The best approach is to import the function or functions we want specifically or import the module using the basic import function and use the dot notation when calling it in the program we are running. The book says that they simply included this part just so we can understand what we are reading if we see it in other peoples code, but discouraged us from using this in our code. "
   ]
  },
  {
   "cell_type": "markdown",
   "id": "dc0c097e",
   "metadata": {},
   "source": [
    "### Styling Our Functions\n",
    "\n",
    "We need to keep some things in mind when we are creating our functions. \n",
    "- Functions should have descriptive names as to what they do, these names should be lowercase and use underscores\n",
    "- Module names should also use this convention, so we know exactly what we are importing\n",
    "- Every function should have a comment that describes what it does (docstring) \n",
    "- When we describe a function we want other programmers to be able to use it by simply reading the docstring and hitting copy and paste on the function\n",
    "- If we specify a default value in the parameters, no spaces should be before or after the = sign such as function_name(parameter, default_parameter=\"default value\")\n",
    "- This same style should be applied to keyword arugments when we call the function\n",
    "- If we have a large amount of parameters we should style them as follows \n",
    "- def function_name(\n",
    "        parameter1, parameter2, parameter3,\n",
    "        parameter4, parameter5, parameter6,\n",
    "        parameter7):\n",
    "        \n",
    "    function body \"where the code for the function is\" \n",
    "- If we have more than one function in our code or module we need to seperate them by 2 lines to make it easy to see when one ends and one starts\n",
    "- All import statements should be written at the beggining of the program, the only exception is if we use comments at the start of the program to describe what it is for"
   ]
  },
  {
   "cell_type": "markdown",
   "id": "4e21ae0b",
   "metadata": {},
   "source": [
    "## Tasks\n",
    "\n",
    "Place the functions form the example printing_models in a seperate file names printing_functions. Write and import statement that imports the module into the active file and use it to run some code."
   ]
  },
  {
   "cell_type": "code",
   "execution_count": 56,
   "id": "e0d1ed40",
   "metadata": {},
   "outputs": [
    {
     "name": "stdout",
     "output_type": "stream",
     "text": [
      "Printing model: water bottle\n",
      "Printing model: godzilla model\n",
      "Printing model: toy helicopter\n",
      "Printing model: laptop case\n",
      "\n",
      "The following models have been printed\n",
      "water bottle\n",
      "godzilla model\n",
      "toy helicopter\n",
      "laptop case\n"
     ]
    }
   ],
   "source": [
    "# Importing the whole module as pf\n",
    "import printing_functions as pf\n",
    "\n",
    "# Setting up the empty lists\n",
    "unprinted = ['laptop case', 'toy helicopter', 'godzilla model', 'water bottle']\n",
    "printed = []\n",
    "\n",
    "# Calling the functions using the alias and dot notation\n",
    "pf.print_models(unprinted, printed)\n",
    "pf.show_completed_models(printed)"
   ]
  },
  {
   "cell_type": "markdown",
   "id": "f5221e3a",
   "metadata": {},
   "source": [
    "Using a program we have written that has one function in it, store that function in a seperate file and call the function using each of these approaches\n",
    "\n",
    "- import module_name \n",
    "- from module_name import function_name\n",
    "- from module_name import function_name as alias \n",
    "- import module_name as alias \n",
    "- from module_name import *"
   ]
  },
  {
   "cell_type": "code",
   "execution_count": 58,
   "id": "c454d527",
   "metadata": {},
   "outputs": [
    {
     "name": "stdout",
     "output_type": "stream",
     "text": [
      "Cameron Wheeler.\n"
     ]
    }
   ],
   "source": [
    "# Importing the module\n",
    "import format_name_function\n",
    "\n",
    "# Calling the function as a variable as the function uses return\n",
    "printing = format_name_function.get_formatted_name('cameron', 'wheeler')\n",
    "# Printing the variable\n",
    "print(printing)"
   ]
  },
  {
   "cell_type": "code",
   "execution_count": 59,
   "id": "11bde4cb",
   "metadata": {},
   "outputs": [
    {
     "name": "stdout",
     "output_type": "stream",
     "text": [
      "Cameron Wheeler.\n"
     ]
    }
   ],
   "source": [
    "# Importing a specific function from the module\n",
    "from format_name_function import get_formatted_name\n",
    "\n",
    "# Calling the function (no need to use dot notation as we have imported a specific module)\n",
    "printing = get_formatted_name(\"cameron\", \"wheeler\")\n",
    "print(printing)"
   ]
  },
  {
   "cell_type": "code",
   "execution_count": 60,
   "id": "0307378c",
   "metadata": {},
   "outputs": [
    {
     "name": "stdout",
     "output_type": "stream",
     "text": [
      "Angus Wheeler.\n"
     ]
    }
   ],
   "source": [
    "# Importing a specific function from the module and giving it an alias\n",
    "from format_name_function import get_formatted_name as format_name\n",
    "\n",
    "printing = format_name(\"angus\", \"wheeler\")\n",
    "print(printing)"
   ]
  },
  {
   "cell_type": "code",
   "execution_count": 62,
   "id": "4089c7a6",
   "metadata": {
    "scrolled": true
   },
   "outputs": [
    {
     "name": "stdout",
     "output_type": "stream",
     "text": [
      "Lynda Wheeler.\n"
     ]
    }
   ],
   "source": [
    "# Importing module name under an alias \n",
    "import format_name_function as fnf\n",
    "\n",
    "# Calling the function with the dot notation and alias \n",
    "printing = fnf.get_formatted_name('lynda', 'wheeler')\n",
    "print(printing)"
   ]
  },
  {
   "cell_type": "code",
   "execution_count": 63,
   "id": "09f712c6",
   "metadata": {},
   "outputs": [
    {
     "name": "stdout",
     "output_type": "stream",
     "text": [
      "Cameron Wheeler.\n"
     ]
    }
   ],
   "source": [
    "# Importing the module using the *\n",
    "from format_name_function import *\n",
    "\n",
    "# Calling the function, no need to use any dot notation as I am using the * \n",
    "printing = get_formatted_name('cameron', 'wheeler')\n",
    "print(printing)"
   ]
  },
  {
   "cell_type": "markdown",
   "id": "1c293720",
   "metadata": {},
   "source": [
    "## Summary \n",
    "\n",
    "### WOWOWOWOWOWOW That Was A Great Chapter!\n",
    "\n",
    "In this chapter I have learned\n",
    "- How to write and style a function\n",
    "- How to pass arguments to a function so that our function has the information to do its job\n",
    "- What positional and keyword arguments are and how we can use them \n",
    "- How to use functions with lists and dictionaries (might need some more work here) \n",
    "- How to use functions with if, for and while loops \n",
    "- That we need to write simple code that other programmers can use (functions help us do this) as they allow us to write code, then simply leave them, and when we need them, call them and give them the infromation they need\n",
    "- That functions make our code easier to read and debug, when a bulk of our programs work is done by functions that each have a specific job, we can easily see what is going wrong and where. \n",
    "\n",
    "\n",
    "In the next chapter we will learn how to write classes. Classes combine the functions and data together into one neat package that can be used in flexible and efficient ways."
   ]
  }
 ],
 "metadata": {
  "kernelspec": {
   "display_name": "Python 3 (ipykernel)",
   "language": "python",
   "name": "python3"
  },
  "language_info": {
   "codemirror_mode": {
    "name": "ipython",
    "version": 3
   },
   "file_extension": ".py",
   "mimetype": "text/x-python",
   "name": "python",
   "nbconvert_exporter": "python",
   "pygments_lexer": "ipython3",
   "version": "3.10.4"
  }
 },
 "nbformat": 4,
 "nbformat_minor": 5
}
