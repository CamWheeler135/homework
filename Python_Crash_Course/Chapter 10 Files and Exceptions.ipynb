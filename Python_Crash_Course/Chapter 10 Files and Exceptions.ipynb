{
 "cells": [
  {
   "cell_type": "markdown",
   "id": "4f61460b",
   "metadata": {},
   "source": [
    "# Chapter 10 Files and Exceptions \n",
    "\n",
    "Now that we have mastered the basic skills of python that we need to write proper, organised programs. It is time to think about making our programs even more relevent and usable. In this chapter we will learn to work with files so our programs can quickly analyse lots and lots of data. We will learn how to handle errors so our programs don't crash when they encounter unexpected issues. We will learn about expectations which are special objects that python creates to manage errors that arise while a progarm is running. We will also learn about 'json' module that allows us to save user data so it isn't lost when our program stops running. \n",
    "\n",
    "Learning to work with files that save data will make our programs easier for people to use. Users will be able to choose what data to enter and when to enter it. People can run our program, do some work, then close the program with the ability to open the file later and pick up where they left off. Learning to handle expections will help us deal with situation in which files don't exist and deal with other problems that can cause our program to crash. This will make our programs a lot more robust when they encounter issues and bad data, either through a innocent mistake or a deliberate attempt to break the programs. With the skills we learn in this chapter we will make our programs more \n",
    "\n",
    "APPLICABLE \n",
    "\n",
    "USABLE \n",
    "\n",
    "STABLE"
   ]
  },
  {
   "cell_type": "markdown",
   "id": "4f903d28",
   "metadata": {},
   "source": [
    "## Reading From A File\n",
    "\n",
    "An incredible amount of data is available to use through text files. Text files can contain data such as weather, traffic, socioeconomic, literary and more! Reading from a file is particular useful in data analysis applications, but it is also applicable to any situations in which you want to analyse data or modify information in a file. For example we can write a program that reads the contents of a txt file and rewrite the file with formatting that allows a browser to display it. When we want to work with the information in a text file, the first step is to read the file into memory. You can read the entire contents of a file, or you can work through one the file one line at a time. \n",
    "\n",
    "### Reading An Entire Files \n",
    "\n",
    "To begin, lets start with a file that has a few lines of text in it. Lets start with a file that contains the data for the first 30 digits of pi with 10 decimal places per line"
   ]
  },
  {
   "cell_type": "code",
   "execution_count": 2,
   "id": "765f9169",
   "metadata": {},
   "outputs": [
    {
     "name": "stdout",
     "output_type": "stream",
     "text": [
      "3.1415926535 \n",
      "  8979323846 \n",
      "  2643383279\n",
      "  \n"
     ]
    }
   ],
   "source": [
    "with open('pi_digits.txt') as file_object:\n",
    "    contents = file_object.read()\n",
    "print(contents)"
   ]
  },
  {
   "cell_type": "markdown",
   "id": "61f3ffa0",
   "metadata": {},
   "source": [
    "Here we are, this is a bit complex so lets run through it! First we use the open() function. To do any work with a file, even just printing its components, we first need to use 'open' to access it. The open() function needs ONE arguement: the name of the file you want to open. Python looks for this file in the directory where the program that is running is being stored. In the example above, the program goes into the homework directory and loops for pi_digits.txt. Here open('pi_digits.txt') returns an object that represents pi_digits.txt. Python assigns this object to file_object that we will work with later on. \n",
    "\n",
    "The keyword 'with' closes the file once access to it is no longer needed. Notice how we call open() in this program but not close(). You could open and close a file by calling open() and close(), but if a bug in your program prevents the close() method from being executed, our file will never be able to close. This may seem trivial, but improperly closed files can cause data to be lost or corrupted, or if we call the close() function too early in our program we will find ourselfs trying to work in a closed file accidentally which will lead to more errors. Structuring our code like this allows python to handle this for us, we will trust python with opening the file, then closing it at the appropiate time (when the code block is finished running).\n",
    "\n",
    "Once we have a file object representing pi_digits.txt, we use the read() method to read the entire contents of the document and stores it in one long string called contents (we assign it to contents) we then print the value of contents in the last line of code. \n",
    "\n",
    "The only difference between the txt above and the actual file is the extra blank line at the end of it because of the read() method. The read() method returns an empty string when it reaches the end of the file, this empty string shows up as a blank line, we can use the method rstrip() in the call print() \n",
    "\n",
    "A LOT HAPPENS IN 3 LINES OF CODE\n"
   ]
  },
  {
   "cell_type": "code",
   "execution_count": 3,
   "id": "f272c01b",
   "metadata": {},
   "outputs": [
    {
     "name": "stdout",
     "output_type": "stream",
     "text": [
      "3.1415926535 \n",
      "  8979323846 \n",
      "  2643383279\n"
     ]
    }
   ],
   "source": [
    "# Opening the file and using with to close it automatically\n",
    "with open('pi_digits.txt') as file_object:\n",
    "    # assigning the contents to the variable contents using the read method \n",
    "    contents = file_object.read()\n",
    "# printing the contents variable and stripping the blank string at the end\n",
    "print(contents.rstrip())"
   ]
  },
  {
   "cell_type": "markdown",
   "id": "34d126ad",
   "metadata": {},
   "source": [
    "Using print(contents.rstrip()) we strip the blank spaces at the end of the contents string, it doesn't look like much but click on the files and we can see that it has worked. \n",
    "\n",
    "Lets do it again to cement the idea of the process into our head!"
   ]
  },
  {
   "cell_type": "code",
   "execution_count": 4,
   "id": "43695230",
   "metadata": {},
   "outputs": [
    {
     "name": "stdout",
     "output_type": "stream",
     "text": [
      "Hello my name is Cameron, I really hope this code works, this is an attempt to cement in the process of opening a file, printing it's contents then closing the file with 'with'.\n"
     ]
    }
   ],
   "source": [
    "# Opening the file and using with to close it automatically\n",
    "with open('name.txt') as file_object:\n",
    "    # Reading the file \n",
    "    contents = file_object.read()\n",
    "# Printing the contents\n",
    "print(contents)"
   ]
  },
  {
   "cell_type": "markdown",
   "id": "b45e98fa",
   "metadata": {},
   "source": [
    "### File Paths \n",
    "\n",
    "When you pass a simple filname like pi_digits through the open() function, python looks in the directory in which the .py file is being executed. Sometimes depending on how we organise our work, the file won't be in the same directory as our program, as we might want to store files in a file folder such as text_files to seperate our python work files from our txt files that we are working with. To open these files we need to provide python with a file path that tells it to look in a certain place for the data. \n",
    "\n",
    "Because text_files is inside a folder called python_work we can use a 'relative' file path that tells python to look for a given location relative to the directory in which our code is running. For example \n",
    "\n",
    "with open(text_files/file_name) as file_object:\n",
    "\n",
    "This line tells python to look for the desired txt file in the folder 'text_files' and it assumes that text_files is located inside of python_work which it is. Lets try it for ourselfs using the pi_digits.txt after we have placed it inside of a txt_folder"
   ]
  },
  {
   "cell_type": "code",
   "execution_count": 10,
   "id": "3bfe2e72",
   "metadata": {},
   "outputs": [
    {
     "name": "stdout",
     "output_type": "stream",
     "text": [
      "3.1415926535 \n",
      "  8979323846 \n",
      "  2643383279\n"
     ]
    }
   ],
   "source": [
    "# within the open function, make sure we have them inside ''\n",
    "with open('txt_file/pi_digits.txt') as file_object:\n",
    "    # assinging the read of file_objects to contents\n",
    "    contents = file_object.read()\n",
    "# printing contents\n",
    "print(contents.rstrip())"
   ]
  },
  {
   "cell_type": "markdown",
   "id": "dd1e938f",
   "metadata": {},
   "source": [
    "We can also tell python exectly where the file is on our computer regardless of where it is stored and what program is running. This is called an 'absolute' file path. We can use an absolute file path if the relative file path does't work. For instance if we have put txt_files inside of a different file on our macbook, maybe the masters file that we have, then passing txt_file/file_name won't work as python will only look inside of the directory to find the file txt_file. So we need to write the full path for it so python knows where to look. Absolute paths are often assigned to variables as they are very long to include in our code, for example\n",
    "\n",
    "file_path = /Users/cameronwheeler/Desktop/Masters_Year/Modules/Research Project 2/Project/Data\n",
    "\n",
    "with open(file_path) as file_object:\n",
    "\n",
    "using absolute paths we can read files from any location on our system! For now it is easier to store files in the same directory as the code we are working with and using relative paths \n",
    "\n",
    "NOTE: Windows systems use backslashes instead of forward slashes when displaying file paths, but we can still use forward slashes in our code.\n",
    "NOTE: IF you try to use backslashes in a file path, we will get an error because the backslash is used to escapse characters in strings. For example , in the path C:\\\\path\\to\\file.txt the sequence \\t is interpreted as tab! If we need to use backslashes (not sure why we would need to) make sure with use two backslahes C:\\\\path\\\\to\\\\file.txt\n",
    "\n",
    "Lets see if we can get this to work"
   ]
  },
  {
   "cell_type": "code",
   "execution_count": 11,
   "id": "da0480ad",
   "metadata": {},
   "outputs": [
    {
     "name": "stdout",
     "output_type": "stream",
     "text": [
      "practice notebook\n"
     ]
    }
   ],
   "source": [
    "file_path = '/Users/cameronwheeler/Desktop/Masters_Year/practice _notebook.txt'\n",
    "\n",
    "with open(file_path) as file_object:\n",
    "    contents = file_object.read()\n",
    "print(contents)"
   ]
  },
  {
   "cell_type": "markdown",
   "id": "2a788af1",
   "metadata": {},
   "source": [
    "### Reading Line By Line\n",
    "\n",
    "When we are reading a file, we will often want to examine each line of the file. You might be looking for certain information inside of the file, or you might want to modify the text inside of the file in some way. For example we might want to read through a file of weather data and work with any line that mentiones 'sunny' in the description of the weather, or in a news report you might look for any line with the tag <headline> and rewrite that line with a specfic kind of formatting. \n",
    "\n",
    "We can use a for loop on the file object to examine each line from the file one at a time. "
   ]
  },
  {
   "cell_type": "code",
   "execution_count": 12,
   "id": "5d41e27a",
   "metadata": {},
   "outputs": [
    {
     "name": "stdout",
     "output_type": "stream",
     "text": [
      "3.1415926535 \n",
      "\n",
      "  8979323846 \n",
      "\n",
      "  2643383279\n",
      "\n",
      "  \n"
     ]
    }
   ],
   "source": [
    "filename = 'txt_file/pi_digits.txt'\n",
    "\n",
    "with open(filename) as file_object:\n",
    "    # using a for loop to read line by line\n",
    "    for line in file_object:\n",
    "        print(line)"
   ]
  },
  {
   "cell_type": "markdown",
   "id": "dc1bbcc1",
   "metadata": {},
   "source": [
    "So in this code we are assiging the name of the file we are reading to file_name, this allows us to replace 'txt_file/pi_digits.txt' with any file we want and the code will run, instead of having to manually change everything if we need to change the file. We use with again to tell python to close the file automatically using with and to examine the file line by line we are using a for loop that loops over the file_object and printing each line individually \n",
    "\n",
    "The blank likes appear because an invisivble newline character is at the end of each line in the txt file. The print function adds a new line each time we call it so we end up with two newline characters at the end of each line in the file, one from the txt file itself and the other from the print function. Again we can use rstrip() to strip these blank lines from the file."
   ]
  },
  {
   "cell_type": "code",
   "execution_count": 14,
   "id": "dcf667e8",
   "metadata": {},
   "outputs": [
    {
     "name": "stdout",
     "output_type": "stream",
     "text": [
      "3.1415926535\n",
      "  8979323846\n",
      "  2643383279\n",
      "\n"
     ]
    }
   ],
   "source": [
    "filename = 'txt_file/pi_digits.txt'\n",
    "\n",
    "with open(filename) as file_object:\n",
    "    # using a for loop to read line by line\n",
    "    for line in file_object:\n",
    "        print(line.rstrip())"
   ]
  },
  {
   "cell_type": "markdown",
   "id": "5bda7ee8",
   "metadata": {},
   "source": [
    "### Making A List Of Lines From A File \n",
    "\n",
    "When we use with and an open() function the the file_object is only available inside of the with block that contains it. If we want to retain access to the information inside of file_object outside of the with block we can store the lines in a list inside of the block, then work with that list outside of the with block, such as printing the list. This means we can process parts of the file immediatly and postpone some processing for later on in the program. For example we can store the lines of pi_digits.txt inside the with block and then print the lines outside of the block."
   ]
  },
  {
   "cell_type": "code",
   "execution_count": 15,
   "id": "dde51993",
   "metadata": {},
   "outputs": [
    {
     "name": "stdout",
     "output_type": "stream",
     "text": [
      "3.1415926535\n",
      "  8979323846\n",
      "  2643383279\n",
      "\n"
     ]
    }
   ],
   "source": [
    "# storing the path as a variable\n",
    "file_name = 'txt_file/pi_digits.txt'\n",
    "\n",
    "# with and open function \n",
    "with open(file_name) as file_object:\n",
    "    #using readlines() function and assinging it to a varible \n",
    "    lines = file_object.readlines()\n",
    "\n",
    "# for loop to print the lines\n",
    "for line in lines:\n",
    "    print(line.rstrip())"
   ]
  },
  {
   "cell_type": "markdown",
   "id": "50a3ae6f",
   "metadata": {},
   "source": [
    "We use the readlines() method to tell python to take each line from the file we give it and store it in a list. This list is assinged to the varibale lines which we can work with outside of the with block. We then use a for loop to print each line that is stored in lines by the readline() method, becuase each item in lines corresponds to a each line in the file, the output matches the file exactly."
   ]
  },
  {
   "cell_type": "markdown",
   "id": "9bb6d290",
   "metadata": {},
   "source": [
    "### Working With A Files Contents \n",
    "\n",
    "So we know how to read a file now, but we now need to know how to work with the contents we have read. We can do whatever we want with that data, so lets explore a brief amount of what we can do. Lets look at the digits of pi, first we will attempt to build a single string that contains all of the lines inside of the file with no whitespace."
   ]
  },
  {
   "cell_type": "code",
   "execution_count": 16,
   "id": "50aceb39",
   "metadata": {},
   "outputs": [
    {
     "name": "stdout",
     "output_type": "stream",
     "text": [
      "3.1415926535  8979323846  2643383279\n",
      "36\n"
     ]
    }
   ],
   "source": [
    "file_name = 'txt_file/pi_digits.txt'\n",
    "\n",
    "with open(file_name) as file_object:\n",
    "    lines = file_object.readlines()\n",
    "\n",
    "pi_string = ''\n",
    "\n",
    "for line in lines:\n",
    "    pi_string += line.rstrip()\n",
    "\n",
    "print(pi_string)\n",
    "print(len(pi_string))"
   ]
  },
  {
   "cell_type": "markdown",
   "id": "e554763a",
   "metadata": {},
   "source": [
    "This is a little complex as we are using lots of new methods so lets walk through this. First as always we set the file path to the variable file_name. We then use with and open to tell python to get the file and we ask python to read the lines inside of the object and assign this to the variable lines. We then set the variable pi_string that will hold the digits of the pi file. We then use a for loop to loop through each line in lines, string the white space from each line and add each of those lines to the pi_string variable. We then print the string at the end, as well as the length of the string. \n",
    "\n",
    "As we can see the string still contains the little bit of whitespace on the left of each line in the file. We can remove this using just 'strip()' and we can see that the length has shrunk because of this."
   ]
  },
  {
   "cell_type": "code",
   "execution_count": 17,
   "id": "b4a05c2a",
   "metadata": {},
   "outputs": [
    {
     "name": "stdout",
     "output_type": "stream",
     "text": [
      "3.141592653589793238462643383279\n",
      "32\n"
     ]
    }
   ],
   "source": [
    "file_name = 'txt_file/pi_digits.txt'\n",
    "\n",
    "with open(file_name) as file_object:\n",
    "    lines = file_object.readlines()\n",
    "\n",
    "pi_string = ''\n",
    "\n",
    "for line in lines:\n",
    "    pi_string += line.strip()\n",
    "\n",
    "print(pi_string)\n",
    "print(len(pi_string))"
   ]
  },
  {
   "cell_type": "markdown",
   "id": "78b9d02c",
   "metadata": {},
   "source": [
    "NOTE: When python reads from a text file, it interprets all text in the file as a string, if we want to read in a number we need to tell python it is a number first by using the int() function or convert it into a float using the float() function!!!!"
   ]
  },
  {
   "cell_type": "markdown",
   "id": "2f6f0c23",
   "metadata": {},
   "source": [
    "### Large Files With 1 Million Digits\n",
    "\n",
    "So far we have only worked with files with around 3 lines of code, now lets step it up to show that these methods work just as well for huge files. We will not change any code, just the file that we are passing through, however we will only print the first 50 decimals as we don't want to have to scroll through 1 million numbers in the terminal. Check the file if you don't believe its 1 million dp long.b"
   ]
  },
  {
   "cell_type": "code",
   "execution_count": 18,
   "id": "0e326ed6",
   "metadata": {},
   "outputs": [
    {
     "name": "stdout",
     "output_type": "stream",
     "text": [
      "3.14159265358979323846264338327950288419716939937510\n",
      "1000002\n"
     ]
    }
   ],
   "source": [
    "# setting the file path as a variable \n",
    "file_name = 'txt_file/pi_1_million_digits.txt'\n",
    "\n",
    "with open(file_name) as file_object:\n",
    "    # read each line in the file, set it to variable lines\n",
    "    lines = file_object.readlines()\n",
    "\n",
    "# creating pi_string variable to attach the lines to\n",
    "pi_string = ''\n",
    "\n",
    "for line in lines:\n",
    "    pi_string += line.strip()\n",
    "\n",
    "# printing the list to 52 decimal places\n",
    "print(f'{pi_string[:52]}')\n",
    "print(len(pi_string))"
   ]
  },
  {
   "cell_type": "markdown",
   "id": "ab3af92d",
   "metadata": {},
   "source": [
    "### Is Your Birthday In Pi? \n",
    "\n",
    "Using python we can search to see if our birthday is located in pi. Lets use the information we have learned so far to write a program that searches for someones birthday in the 1 million digits of pi."
   ]
  },
  {
   "cell_type": "code",
   "execution_count": 19,
   "id": "1b102a95",
   "metadata": {},
   "outputs": [
    {
     "name": "stdout",
     "output_type": "stream",
     "text": [
      "Enter your birthday in the format ddmmyy: 010100\n",
      "Your birthday is not in pi!\n"
     ]
    }
   ],
   "source": [
    "# setting the file path as a variable \n",
    "file_name = 'txt_file/pi_1_million_digits.txt'\n",
    "\n",
    "with open(file_name) as file_object:\n",
    "    # read each line in the file, set it to variable lines\n",
    "    lines = file_object.readlines()\n",
    "\n",
    "# creating pi_string variable to attach the lines to\n",
    "pi_string = ''\n",
    "\n",
    "for line in lines:\n",
    "    pi_string += line.strip()\n",
    "\n",
    "# setting the variable birthday to accept user input\n",
    "birthday = input(\"Enter your birthday in the format ddmmyy: \")\n",
    "\n",
    "# checking if birthday is in pi_string\n",
    "if birthday in pi_string:\n",
    "    print(\"Your birthday is in pi!\")\n",
    "else:\n",
    "    print(\"Your birthday is not in pi!\")"
   ]
  },
  {
   "cell_type": "markdown",
   "id": "13fcbb99",
   "metadata": {},
   "source": [
    "## Tasks\n",
    "\n",
    "Open a blank file in your python text editor and write a few lines about what we have learned in python so far. Start each line with the phrase 'In python you can.....' Save the file as learning_python.txt and wrtie a program that reads in the file and print what we have written 3 times. Once by reading in the entire file, one by looping over the file with a for loop and finally one that reads line by line and is printed outside of the with block."
   ]
  },
  {
   "cell_type": "code",
   "execution_count": 21,
   "id": "9852933e",
   "metadata": {},
   "outputs": [
    {
     "name": "stdout",
     "output_type": "stream",
     "text": [
      "In python you can use classes to create instances \n",
      "In python you can use functions to get the code to do things for you \n",
      "In python we can build AI systems which is what I really want to do!\n",
      "In python we can read txt files \n",
      "In python you can use dictionaries and lists\n"
     ]
    }
   ],
   "source": [
    "# setting variable file_name\n",
    "file_name = 'txt_file/learning_python.txt'\n",
    "\n",
    "# using with and open to read the file into memory\n",
    "with open(file_name) as file_object:\n",
    "    # reading the whole file\n",
    "    contents = file_object.read()\n",
    "# printing content \n",
    "print(contents)"
   ]
  },
  {
   "cell_type": "code",
   "execution_count": 22,
   "id": "f21dce0e",
   "metadata": {},
   "outputs": [
    {
     "name": "stdout",
     "output_type": "stream",
     "text": [
      "In python you can use classes to create instances\n",
      "In python you can use functions to get the code to do things for you\n",
      "In python we can build AI systems which is what I really want to do!\n",
      "In python we can read txt files\n",
      "In python you can use dictionaries and lists\n"
     ]
    }
   ],
   "source": [
    "# setting the variable file_name\n",
    "file_name = 'txt_file/learning_python.txt'\n",
    "\n",
    "# usng with and open to read the file into memory \n",
    "with open(file_name) as file_object:\n",
    "    # using a for loop to loop through the file\n",
    "    for line in file_object:\n",
    "        # printing the stripped line\n",
    "        print(line.rstrip())"
   ]
  },
  {
   "cell_type": "code",
   "execution_count": 23,
   "id": "818c9c9b",
   "metadata": {},
   "outputs": [
    {
     "name": "stdout",
     "output_type": "stream",
     "text": [
      "In python you can use classes to create instances\n",
      "In python you can use functions to get the code to do things for you\n",
      "In python we can build AI systems which is what I really want to do!\n",
      "In python we can read txt files\n",
      "In python you can use dictionaries and lists\n"
     ]
    }
   ],
   "source": [
    "# setting the variable file_name\n",
    "file_name = 'txt_file/learning_python.txt'\n",
    "# setting the emtpy list\n",
    "learning_points = []\n",
    "\n",
    "# usng with and opem to read the file into memory \n",
    "with open(file_name) as file_object:\n",
    "    # reading each line of a file\n",
    "    lines = file_object.readlines()\n",
    "    # appending each line to the list\n",
    "    for line in lines:\n",
    "        learning_points.append(line)\n",
    "\n",
    "# printing each line out \n",
    "for sentence in learning_points:\n",
    "    print(sentence.strip())"
   ]
  },
  {
   "cell_type": "markdown",
   "id": "d42ba2c2",
   "metadata": {},
   "source": [
    "We can use the replace method to replace any word in a string with a different word. Here is a quick example showing how to replace 'dog' with 'cat' \n",
    "\n",
    "message = 'I really like dogs.'\n",
    "message.replace('dog', 'cat')\n",
    "\n",
    "Read in the file we have just created about what we have learned in python but replace python with C++"
   ]
  },
  {
   "cell_type": "code",
   "execution_count": 25,
   "id": "cdbfff51",
   "metadata": {},
   "outputs": [
    {
     "name": "stdout",
     "output_type": "stream",
     "text": [
      "In python you can use classes to create instances \n",
      "In python you can use functions to get the code to do things for you \n",
      "In python we can build AI systems which is what I really want to do!\n",
      "In python we can read txt files \n",
      "In python you can use dictionaries and lists\n"
     ]
    },
    {
     "data": {
      "text/plain": [
       "'In C you can use classes to create instances \\nIn C you can use functions to get the code to do things for you \\nIn C we can build AI systems which is what I really want to do!\\nIn C we can read txt files \\nIn C you can use dictionaries and lists'"
      ]
     },
     "execution_count": 25,
     "metadata": {},
     "output_type": "execute_result"
    }
   ],
   "source": [
    "# importing the file \n",
    "file_name = 'txt_file/learning_python.txt'\n",
    "txt_lines = []\n",
    "# opening the fle \n",
    "with open(file_name) as file_object:\n",
    "    # appenidng strings to list\n",
    "    contents = file_object.read()\n",
    "print(contents)\n",
    "contents.replace('python', 'C')\n"
   ]
  },
  {
   "cell_type": "markdown",
   "id": "41eb9a6a",
   "metadata": {},
   "source": [
    "## Writing To A Files \n",
    "\n",
    "One of the simplest ways to save data is to write it into a file. When we write text to a file, its contents will still be available to us even when we close the terminal containing our programs output. We can examine the output of the file after our program finished running. We can also write programs that read the file back into memory and we can work with it again. "
   ]
  },
  {
   "cell_type": "markdown",
   "id": "bbb575da",
   "metadata": {},
   "source": [
    "### Writing To An Empty File \n",
    "\n",
    "To write text to a file, we need to call the open() with a second argument telling python that you want to write to a file. To see how this works, lets write a message and store it in a file, instead of printing it into the terminal. "
   ]
  },
  {
   "cell_type": "code",
   "execution_count": 26,
   "id": "e89b061c",
   "metadata": {},
   "outputs": [],
   "source": [
    "filename = 'programming.txt'\n",
    "\n",
    "with open(filename, 'w') as file_object:\n",
    "    file_object.write(\"I love programming and cannot wait to get better.\")"
   ]
  },
  {
   "cell_type": "markdown",
   "id": "e595c79e",
   "metadata": {},
   "source": [
    "Lets walk through this code, we call the open method and in this example we have two arguments. The first argument is still the filename we want to open just like the examples previously. The second argument is 'w' this tells python we want to open the file in 'write' mode. We can open files in read 'r', write 'w' and append 'a' or finally we can open the file in a mode where we can both read and write 'r+'. If we don't pass an argument it opens as a read file. The open function also automatically creates the file that we want if the file doesn't exists. \n",
    "\n",
    "NOTE: Be carful when opening files in write mode, ('w') becuase if the file DOES exist, python will erase the contents of the file before returing the file object. \n",
    "\n",
    "We then use the write() method on the file object to write a string to a file. This program has no terminal output but if you open the file programming.txt we will see one line!!!\n",
    "\n",
    "NOTE: When writing into a text file, python can only use strings, if we want to write in numbers we have to first convet it into a string using the str() function."
   ]
  },
  {
   "cell_type": "markdown",
   "id": "fff2dd15",
   "metadata": {},
   "source": [
    "### Writing Multiple Methods \n",
    "\n",
    "The write() function does't add any newlines to the text we are writing. So if we are writing more than one line, the file might not look how we want it to look. Lets add another sentece to the programming.txt file"
   ]
  },
  {
   "cell_type": "code",
   "execution_count": 27,
   "id": "14d89932",
   "metadata": {},
   "outputs": [],
   "source": [
    "filename = 'programming.txt'\n",
    "\n",
    "with open(filename, 'w') as file_object:\n",
    "    file_object.write(\"I love programming and cannot wait to get better.\")\n",
    "    file_object.write(\"I would love to work with AI\")"
   ]
  },
  {
   "cell_type": "markdown",
   "id": "80fbb5bc",
   "metadata": {},
   "source": [
    " The output when we open the file is ----> I love programming and cannot wait to get better.I would love to work with AI\n",
    "\n",
    " Using newlines in our write calls means that the code will look how we thing it to be. With each string appearing on its own line."
   ]
  },
  {
   "cell_type": "code",
   "execution_count": 28,
   "id": "86807ba5",
   "metadata": {},
   "outputs": [],
   "source": [
    "filename = 'programming.txt'\n",
    "\n",
    "with open(filename, 'w') as file_object:\n",
    "    file_object.write(\"I love programming and cannot wait to get better.\\n\")\n",
    "    file_object.write(\"I would love to work with AI.\\n\")"
   ]
  },
  {
   "cell_type": "markdown",
   "id": "cedaf63b",
   "metadata": {},
   "source": [
    "The output will appear on newlines in the document we are writing on. We can aslo use spaces, tab characters and blank lines to format our output in the file, just like in the terminal."
   ]
  },
  {
   "cell_type": "markdown",
   "id": "2ab1fcb7",
   "metadata": {},
   "source": [
    "### Appending To A File\n",
    "\n",
    "If you want to add content to the file instead of writing over it we can open a file in append mode. When we open a file in append mode, python doesn't erase the contents of the file just like in write mode. Any lines that we write to the file will be added at the end of the file. If the file does't exist, python will create a file and add the content for us.\n",
    "\n",
    "Lets modify the programming.txt file and add another line as to why we love programming. "
   ]
  },
  {
   "cell_type": "code",
   "execution_count": 29,
   "id": "e0a11bfe",
   "metadata": {},
   "outputs": [],
   "source": [
    "filename = \"programming.txt\"\n",
    "\n",
    "with open(filename, 'a') as file_object:\n",
    "    file_object.write(\"In particular I would love to work in reinforcement learning, working on making general AI.\\n\")"
   ]
  },
  {
   "cell_type": "markdown",
   "id": "f23dfa8b",
   "metadata": {},
   "source": [
    "Go and check the file. We should have this line added to the bottom of programming.txt with the original contents still in there. "
   ]
  },
  {
   "cell_type": "markdown",
   "id": "dcb51edc",
   "metadata": {},
   "source": [
    "## Tasks\n",
    "\n",
    "Write a program that prompts the user for their name. When they respond wrtie their nam eto a file called guests.txt"
   ]
  },
  {
   "cell_type": "code",
   "execution_count": 30,
   "id": "bc4fcf97",
   "metadata": {},
   "outputs": [
    {
     "name": "stdout",
     "output_type": "stream",
     "text": [
      "What is your name? Cameron\n"
     ]
    }
   ],
   "source": [
    "name = input(\"What is your name? \")\n",
    "\n",
    "with open(\"guests.txt\", 'a') as file_object:\n",
    "    file_object.write(name)"
   ]
  },
  {
   "cell_type": "markdown",
   "id": "e11a4b6f",
   "metadata": {},
   "source": [
    "Write a while loop that prompts the user for their name. WHne they enter their name, print a greeting to the screen and add a line recording their visit in a file called guest_book.txt. Make sure the entry appears on a new line in the file."
   ]
  },
  {
   "cell_type": "code",
   "execution_count": 31,
   "id": "54b30459",
   "metadata": {},
   "outputs": [
    {
     "name": "stdout",
     "output_type": "stream",
     "text": [
      "What is your name? Cameron\n",
      "Have you logged all of the visitors? (yes/no)yes\n",
      "yes\n"
     ]
    }
   ],
   "source": [
    "# setting up the flag\n",
    "flag = True\n",
    "\n",
    "# setting up the whle loop\n",
    "while flag == True:\n",
    "    name = input(\"What is your name? \")\n",
    "    with open(\"guest_book.txt\", 'a') as file_object:\n",
    "        file_object.write(f\"{name}\\n\")\n",
    "    quit = input(\"Have you logged all of the visitors? (yes/no)\")\n",
    "    print(quit)\n",
    "    if quit == 'yes':\n",
    "        flag = False"
   ]
  },
  {
   "cell_type": "markdown",
   "id": "f499cdd1",
   "metadata": {},
   "source": [
    "Write a while loop that asks people why they like programming. Each time someone enters a reason, add their reason to a gile that stores all of the responces"
   ]
  },
  {
   "cell_type": "code",
   "execution_count": 32,
   "id": "1739379d",
   "metadata": {},
   "outputs": [
    {
     "name": "stdout",
     "output_type": "stream",
     "text": [
      "What do you like about programming? I like that I will be able to code some AI system\n",
      "Are you done adding your comments on why you like programming? (yes/no)yes\n"
     ]
    }
   ],
   "source": [
    "# setting up the flag\n",
    "flag = True\n",
    "\n",
    "# setting up the while loop\n",
    "while flag == True:\n",
    "    question = input(\"What do you like about programming? \")\n",
    "    with open(\"programming.txt\", 'a') as file_object:\n",
    "        file_object.write(f\"{question}\\n\")\n",
    "    quit = input(\"Are you done adding your comments on why you like programming? (yes/no)\")\n",
    "    if quit == 'yes':\n",
    "        flag = False"
   ]
  },
  {
   "cell_type": "markdown",
   "id": "4d1aa456",
   "metadata": {},
   "source": [
    "## Exceptions\n",
    "\n",
    "Python uses special objects called 'excetpions' to manage errors that arise during a programs execution. If any type of error occurs when running the code, python will make an object called an exception. If we write code that handles the exception the code will keep running if we don't the code will halt and show a traceback, which includes a report of the exeception that was raised. Exceptions are handled with try-except blocks of code. A 'try-except' asks python to do something, but it also tells pythong what to od if an exeception is raised. When we use a try-except block our program will continue running even if there is an error and things start to go wrong. Instead of tacebacks, which can be confusing for users to read, we can use these blocks that will print a nice message saying there is an error. "
   ]
  },
  {
   "cell_type": "markdown",
   "id": "9f73fd6f",
   "metadata": {},
   "source": [
    "### Handling The ZeroDivisionError Exception\n",
    "\n",
    "Lets look at a simple example where an error causes python to raise an exception. Lets try to divie a number by 0."
   ]
  },
  {
   "cell_type": "code",
   "execution_count": 33,
   "id": "6631b7f5",
   "metadata": {},
   "outputs": [
    {
     "ename": "ZeroDivisionError",
     "evalue": "division by zero",
     "output_type": "error",
     "traceback": [
      "\u001b[0;31m---------------------------------------------------------------------------\u001b[0m",
      "\u001b[0;31mZeroDivisionError\u001b[0m                         Traceback (most recent call last)",
      "Input \u001b[0;32mIn [33]\u001b[0m, in \u001b[0;36m<cell line: 1>\u001b[0;34m()\u001b[0m\n\u001b[0;32m----> 1\u001b[0m \u001b[38;5;28mprint\u001b[39m(\u001b[38;5;241;43m5\u001b[39;49m\u001b[38;5;241;43m/\u001b[39;49m\u001b[38;5;241;43m0\u001b[39;49m)\n",
      "\u001b[0;31mZeroDivisionError\u001b[0m: division by zero"
     ]
    }
   ],
   "source": [
    "print(5/0)"
   ]
  },
  {
   "cell_type": "markdown",
   "id": "3c65e7f2",
   "metadata": {},
   "source": [
    "Python of course cannot do this task so we get a traceback. The error that is reported is a ZeroDivisionError, is an exception object. Python creates this kind of object in responce to a situation where it can't do what we are asking it to do! When this happens, python stops running the code and tells us the kind of exception that was raised. We can use this information to modify our programs, we can tell python to do a certain thing in responce to this error. When we do this, we are prepping up for the same error in the future.\n",
    "\n",
    "When we think our program will throw an error, we can write a try-except block to handle the exception that might be raised. We tell python to try running some code, and you tell it what to do if that code doesn't run due to a particular error. Below is a try-except block for the code above. "
   ]
  },
  {
   "cell_type": "code",
   "execution_count": 34,
   "id": "a165a9c3",
   "metadata": {},
   "outputs": [
    {
     "name": "stdout",
     "output_type": "stream",
     "text": [
      "You cannot divide a number by zero!\n"
     ]
    }
   ],
   "source": [
    "try:\n",
    "    print(5/0)\n",
    "except ZeroDivisionError:\n",
    "    print(\"You cannot divide a number by zero!\")"
   ]
  },
  {
   "cell_type": "markdown",
   "id": "6951eeed",
   "metadata": {},
   "source": [
    "We put the print(5/0) statment inside of the try block. If the code in a try block works, python will simply skip over the except block of code. If the code doesn't run in the try statement, python will drop down into the except block where the error matches the error that is thrown in the try block and runs that code instead. In the example above, python cannt divide by 0 so it throws a ZeroDivisionError. It then drops down into the except block with the matching error and prints the message inside of that block. \n",
    "\n",
    "If more code followed this try-except block, the program would continue running because we told python what to do if a cetain error is thrown. Lets now look at an example where catching an error can allow a program to continue running!"
   ]
  }
 ],
 "metadata": {
  "kernelspec": {
   "display_name": "Python 3 (ipykernel)",
   "language": "python",
   "name": "python3"
  },
  "language_info": {
   "codemirror_mode": {
    "name": "ipython",
    "version": 3
   },
   "file_extension": ".py",
   "mimetype": "text/x-python",
   "name": "python",
   "nbconvert_exporter": "python",
   "pygments_lexer": "ipython3",
   "version": "3.10.4"
  }
 },
 "nbformat": 4,
 "nbformat_minor": 5
}
