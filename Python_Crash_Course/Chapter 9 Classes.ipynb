{
 "cells": [
  {
   "cell_type": "markdown",
   "id": "e188570b",
   "metadata": {},
   "source": [
    "# Chapter 9 Classes\n",
    "\n",
    "One of the most effective ways to program is to use object oriented programming. In object oriented programming we use classes that represent real world things and situations, as we 'create' objects based on these classes. When we write a class, we define the general behaviour that a whole catagory of objects can have.  \n",
    "\n",
    "When we create objects from the class, the object automatically has the properties attached to it. It is amazing how well real world situations can be modelling with object oriented programming.\n",
    "\n",
    "Making an object is called an instantiation and we can work with instances of a class. In the coming chapter we will wirte classes, and create instances of those classes. We will specify what kind of information can be stored in instances and we will define actions that can be taken with these instances. \n",
    "\n",
    "We will also wrtie classes that extend the functionality of existing classes so that similar classes can share code efficiently. We will store classes in modules and learn to import classes written by other programmers. \n",
    "\n",
    "Understanding how object oriented programming works will help us see the world as a programmer does, and it will help us understand our code, not just line by line but as an averall concept. Knowing how classes world will develop our ability to think logically "
   ]
  },
  {
   "cell_type": "markdown",
   "id": "6491b3a0",
   "metadata": {},
   "source": [
    "### Creating And Using A Class\n",
    "\n",
    "We can model almost anything using classes, lets start with an example of a class named 'Dog' not just one dog though but many dogs. Dogs have a name and an age but we also know that most dogs can sit and roll over. Here we will give it properties such as sit and roll over as many dogs can do that. \n",
    "\n",
    "After we have written the class we will use it to create induvidual instances each of which represents one specific dog."
   ]
  },
  {
   "cell_type": "code",
   "execution_count": 1,
   "id": "6645cb68",
   "metadata": {},
   "outputs": [],
   "source": [
    "class Dog:\n",
    "    '''Simple attempt to model a dog'''\n",
    "    \n",
    "    def __init__(self, name, age):\n",
    "        '''Initialize name and age attributes'''\n",
    "        self.name = name\n",
    "        self.age = age\n",
    "        \n",
    "    def sit(self):\n",
    "        '''Simulate the dog sitting'''\n",
    "        print(f'{self.name} is now sitting!')\n",
    "        \n",
    "    def roll_over(self):\n",
    "        '''Simulate the dog rolling over'''\n",
    "        print(f'{self.name} is now rolling over!')"
   ]
  },
  {
   "cell_type": "markdown",
   "id": "6b5767be",
   "metadata": {},
   "source": [
    "> Lets walk through this code together. \n",
    "\n",
    "> First we define the class called Dog, in python we capitalize the name when we are building or talking about a class. There are no parantheses in the class definition because we are creating the class from scratch. We then write a docstring under the class definition just like a function. "
   ]
  },
  {
   "cell_type": "markdown",
   "id": "030b11c9",
   "metadata": {},
   "source": [
    "### The __init__ Method( ).\n",
    "\n",
    "A function that is part of a class is called a 'method' (so no longer called a function anymore.) Everything we have learned in the last chapter can be applied here in classes as well, the only difference is that we call it a method. The '__init__' method that we see in the code above is a special kind of method that Python runs automatically when we create a new instance based on the class Dog. Make sure we use two underscores at all times!!!!\n",
    "\n",
    "We define the init method to have three parameters, self, name and age. The 'self' parameter comes first and is requried in the method definition. The self parameter must be included in the definition of the method as when we come to create some instances of the class Dog, Python will call this method. When we call the method, the self argument will automatically be passed. Every method call will automatically pass the self argument which is a reference to 'itself', meaning it gives the induvidual instance access to the attributes and methods inside of the class. \n",
    "\n",
    "So when we make an instance of 'Dog', python will call the '__init__' method from the Dog class and we will pass Dog() a name and an age as arguments (remeber that self if passed automatically so we don't need to pass it explicitly) we only need to provide the values for the last two parameters name and age.\n",
    "\n",
    "We also see that there are two varibles defined under the init method, these two varibles are prefixed with self. Any varible prefixed with self means it is available to every method inside of the class, and we will also be able to access these variables through any instance created from the class. The line 'self.name = name' takes the value associated with the parameter name and assigns it to the variable name... which is then attached to the instance being created. The same thing happens with self.age = age. Variables that can be accessed through instancs are called 'attributes'\n",
    "\n",
    "The class Dog also has two other methods (functions). Because these methods do not need any additional information than the first init method, we must define them with the parameter 'self'. The instances we create later will have access to these methods as they have the self parameter, meaning the instances will be able to sit and roll over. Although the last two methods don't really do anything, these concepts we are learing can be extended to complex situations for example the method might contain code that actaully simulates a dog rolling over in a game, or control a robot. "
   ]
  },
  {
   "cell_type": "markdown",
   "id": "39c1f135",
   "metadata": {},
   "source": [
    "### Making An Instance From A Class\n",
    "\n",
    "Great so we have covered all of the theory, lets get into it. Think of a class as a set of instructions for how to make an 'instance'. The class Dog is a set of instructions that tells python how to make an instance of that class that represent a specific dog...\n",
    "\n",
    "For example."
   ]
  },
  {
   "cell_type": "code",
   "execution_count": 2,
   "id": "c609cbe6",
   "metadata": {},
   "outputs": [
    {
     "name": "stdout",
     "output_type": "stream",
     "text": [
      "My dog's name is Tilda.\n",
      "My dog's age is 11.\n"
     ]
    }
   ],
   "source": [
    "# Creating the class Dog\n",
    "class Dog:\n",
    "    '''Simple attempt to model a dog'''\n",
    "    \n",
    "    def __init__(self, name, age):\n",
    "        '''Initialize name and age attributes'''\n",
    "        self.name = name\n",
    "        self.age = age\n",
    "        \n",
    "    def sit(self):\n",
    "        '''Simulate the dog sitting'''\n",
    "        print(f'{self.name} is now sitting!')\n",
    "        \n",
    "    def roll_over(self):\n",
    "        '''Simulate the dog rolling over'''\n",
    "        print(f'{self.name} is now rolling over!')\n",
    "        \n",
    "\n",
    "my_dog = Dog('Tilda', 11)\n",
    "print(f\"My dog's name is {my_dog.name}.\")\n",
    "print(f\"My dog's age is {my_dog.age}.\")"
   ]
  },
  {
   "cell_type": "markdown",
   "id": "a05171e9",
   "metadata": {},
   "source": [
    "> Frist we create the class dog and we have placed the init method, that have the parameter self, name and age. We then assign name and age to the variables self.name and self.age (So this makes them attributes). We tell python to create a dog called Tilda whos age is 11. When python reads this line, it calls the init method in Dog with the arguments Tilda and 11. The init method creates an instance respresenting this particular dog and sets the name and age attributes using the values we provided. Python then returns an instance representing this dog, we assign this instance to the variable my_dog. \n",
    "\n",
    "> The naming convention is helpful here,  we can usually assume that a captialized name like Dog refers to a class and a lowercase name my_dog referes to a single instance created from the class."
   ]
  },
  {
   "cell_type": "code",
   "execution_count": 3,
   "id": "d94e056f",
   "metadata": {},
   "outputs": [
    {
     "name": "stdout",
     "output_type": "stream",
     "text": [
      "Apple is a big company.\n",
      "Their CEO is Tim Cook.\n",
      "Denovo is a big company.\n",
      "Their CEO is David Shimoni.\n"
     ]
    }
   ],
   "source": [
    "# Creating the class\n",
    "class Tech():\n",
    "    '''Creating a tech company'''\n",
    "#   Init method that have the parameter self, name and age\n",
    "    def __init__(self, name, ceo):\n",
    "#       Assigning name and ceo to their self variables (this allows all instances in the class to access them)\n",
    "        self.name = name\n",
    "        self.ceo = ceo\n",
    "\n",
    "# Calling the init method\n",
    "fav_tech_company = Tech('Apple', 'Tim Cook')\n",
    "# Accessing the attributes of the instance\n",
    "print(f\"{fav_tech_company.name} is a big company.\")\n",
    "print(f\"Their CEO is {fav_tech_company.ceo}.\")\n",
    "\n",
    "# Creating an instance \n",
    "tech_company=Tech('Denovo', 'David Shimoni')\n",
    "# Accessing attributes of the instance\n",
    "print(f\"{tech_company.name} is a big company.\")\n",
    "print(f\"Their CEO is {tech_company.ceo}.\")"
   ]
  },
  {
   "cell_type": "markdown",
   "id": "aca49ca2",
   "metadata": {},
   "source": [
    "> Lets walk through again, we have created a class. We have then have the init method where we define it with the self, name and age parameters. We then assign the name and ceo parameters to the variables self.name and self.ceo. Any variable that is prefixed with self is available to every method in the class. This is when they become attributes I think...\n",
    "\n",
    "> When we call the init method it creates an instance that represents the tech company with the name of the company and the ceo of the company and returns the instance to the variable tech_company. So we can say that tech_ company is an instance of the class Tech(). "
   ]
  },
  {
   "cell_type": "markdown",
   "id": "08edee13",
   "metadata": {},
   "source": [
    "### Accessing Attributes \n",
    "\n",
    "The access the attributes of an instance, we use the dot notation. In the examples above we access the attributes of the class using \n",
    "\n",
    "my_dog.name \n",
    "\n",
    "my_dog.age \n",
    "\n",
    "and \n",
    "\n",
    "tech_company.name \n",
    "\n",
    "tech_company.ceo\n",
    "\n",
    "Dot notation is used often in python. This syntax demonstrates how python finds an attributes value. For example python looks at my_dog and then finds the attribute 'name' associated with my_dog. This is the same attribute referred to as self.name in the class Dog. We then use the same approach for to work with the attribute self.age. Python will look at my_dog, then go and find the attribute 'age' associated with my_dog, so self.age, this equals age, that is a parameter that we pass the age into in the age arguement when we call the instance. \n",
    "\n",
    "The output is a summary of the information we know about my_dog.\n",
    "\n",
    "In the second example we use dot notation to tell python where to look. Python will look at fav_tech_company and then find the attribute 'name' that is assocaited with fav_tech_company (Apple). This is the attribute we are referring to when we talk about self.name in the class Tech. We then do the same with ceo, when we call the init method to create the instance of fav tech company, python will look at fav_tech_compay and then find the attribute ceo that is assocaited with it (tim cook). "
   ]
  },
  {
   "cell_type": "markdown",
   "id": "14d9fe6b",
   "metadata": {},
   "source": [
    "### Calling Methods\n",
    "\n",
    "After we have created an instance from the class Dog, we can use the dot notation to call any method that is placed into the class Dog. Lets make our dog sit and roll over. "
   ]
  },
  {
   "cell_type": "code",
   "execution_count": 4,
   "id": "da58b5a4",
   "metadata": {},
   "outputs": [
    {
     "name": "stdout",
     "output_type": "stream",
     "text": [
      "My dog's name is Tilda.\n",
      "My dog's age is 11.\n",
      "Tilda is now sitting!\n",
      "Tilda is now rolling over!\n"
     ]
    }
   ],
   "source": [
    "# Creating the class Dog\n",
    "class Dog:\n",
    "    '''Simple attempt to model a dog'''\n",
    "#   Init method that runs whenever we create and instance\n",
    "    def __init__(self, name, age):\n",
    "        '''Initialize name and age attributes'''\n",
    "        self.name = name\n",
    "        self.age = age\n",
    "        \n",
    "#   Methods we can call\n",
    "    def sit(self):\n",
    "        '''Simulate the dog sitting'''\n",
    "        print(f'{self.name} is now sitting!')\n",
    "        \n",
    "    def roll_over(self):\n",
    "        '''Simulate the dog rolling over'''\n",
    "        print(f'{self.name} is now rolling over!')\n",
    "        \n",
    "# Creating an instance called Tilda that is 11 years old\n",
    "my_dog = Dog('Tilda', 11)\n",
    "\n",
    "# Printing off the attributes of the instance\n",
    "print(f\"My dog's name is {my_dog.name}.\")\n",
    "print(f\"My dog's age is {my_dog.age}.\")\n",
    "\n",
    "# Calling methods inside of the class \n",
    "my_dog.sit()\n",
    "my_dog.roll_over()"
   ]
  },
  {
   "cell_type": "markdown",
   "id": "56ba03f6",
   "metadata": {},
   "source": [
    "> To call a method give the name of the instance (my_dog) and then the method that we want to call seperated by the dot notation. When python reads the code, it reads my_dog.sit() and it looks for the method sit() inside of the class Dog() and runs the code in there, because my_dog is an instance of the class Dog with the given attributes we get a personalised message. \n",
    "\n",
    "> If we use good names such as name, age, sit and rollover, it allows our code to be read easily by people who are reading the code. "
   ]
  },
  {
   "cell_type": "markdown",
   "id": "a45ed07f",
   "metadata": {},
   "source": [
    "### Creating Multiple Instances\n",
    "\n",
    "We can create as many instances from a class as we need, Lets create a second dog\n"
   ]
  },
  {
   "cell_type": "code",
   "execution_count": 5,
   "id": "51c60cab",
   "metadata": {},
   "outputs": [
    {
     "name": "stdout",
     "output_type": "stream",
     "text": [
      "My dog's name is Tilda.\n",
      "My dog's age is 11.\n",
      "\n",
      "My dog's name is Duffy.\n",
      "My dog's age is 14.\n",
      "Tilda is now sitting!\n",
      "Tilda is now rolling over!\n",
      "Duffy is now sitting!\n",
      "Duffy is now rolling over!\n"
     ]
    }
   ],
   "source": [
    "# Creating the class Dog\n",
    "class Dog:\n",
    "    '''Simple attempt to model a dog'''\n",
    "#   Init method that runs whenever we create and instance\n",
    "    def __init__(self, name, age):\n",
    "        '''Initialize name and age attributes'''\n",
    "        self.name = name\n",
    "        self.age = age\n",
    "        \n",
    "#   Methods we can call\n",
    "    def sit(self):\n",
    "        '''Simulate the dog sitting'''\n",
    "        print(f'{self.name} is now sitting!')\n",
    "        \n",
    "    def roll_over(self):\n",
    "        '''Simulate the dog rolling over'''\n",
    "        print(f'{self.name} is now rolling over!')\n",
    "        \n",
    "# Creating an instance called Tilda that is 11 years old\n",
    "my_dog=Dog('Tilda', 11)\n",
    "# Creating another instance \n",
    "nans_dog=Dog('Duffy', 14)\n",
    "\n",
    "# Printing off the attributes of the instance\n",
    "print(f\"My dog's name is {my_dog.name}.\")\n",
    "print(f\"My dog's age is {my_dog.age}.\")\n",
    "print(f\"\\nMy dog's name is {nans_dog.name}.\")\n",
    "print(f\"My dog's age is {nans_dog.age}.\")\n",
    "\n",
    "# Calling methods inside of the class \n",
    "my_dog.sit()\n",
    "my_dog.roll_over()\n",
    "nans_dog.sit()\n",
    "nans_dog.roll_over()"
   ]
  },
  {
   "cell_type": "markdown",
   "id": "2062701c",
   "metadata": {},
   "source": [
    "> Here we have created another instance of the class Dog, each are their own seperate instances of teh classs and each have their own attributes, but we can use these different attributes in the same methods doing the same set of actions"
   ]
  },
  {
   "cell_type": "markdown",
   "id": "a6bd37e9",
   "metadata": {},
   "source": [
    "# Tasks\n",
    "\n",
    "Make a class called Restaurant. The init method should have two attributes, the name of the restaurant and the type of cuisine. Make a method called describe restaruant that prints two peices of information, then make another method called open restuarant that prints a message saying that the restaurant is open. Then make an instance of the class Restaurant, print the two attributes induvidually then call both of the methods. \n"
   ]
  },
  {
   "cell_type": "code",
   "execution_count": 6,
   "id": "5025ad87",
   "metadata": {},
   "outputs": [
    {
     "name": "stdout",
     "output_type": "stream",
     "text": [
      "My favoriate restaurant is Flesh and Buns.\n",
      "Flesh and Buns serves Korean.\n",
      "Marlas favoriate restaurant is Harlem.\n",
      "Harlem serves Brunch.\n",
      "Lyndas favoriate restaurant is Runway 6-2.\n",
      "Runway 6-2 serves Brunch.\n",
      "Go to Flesh and Buns if you want Korean food.\n",
      "Flesh and Buns is now open for service.\n",
      "Go to Harlem if you want Brunch food.\n",
      "Harlem is now open for service.\n",
      "Go to Runway 6-2 if you want Brunch food.\n",
      "Runway 6-2 is now open for service.\n"
     ]
    }
   ],
   "source": [
    "# Creating a class\n",
    "class Restaurant():\n",
    "    '''Simple model of a resaurant'''\n",
    "#   Setting up init method that creates instances\n",
    "    def __init__(self, name, cuisine):\n",
    "        self.name = name\n",
    "        self.cuisine = cuisine\n",
    "\n",
    "#   Creating a method to descrbie the restaurant \n",
    "    def describe_restaurant(self):\n",
    "        print(f\"Go to {self.name} if you want {self.cuisine} food.\")\n",
    "    \n",
    "#   Creating a method to show the restaurant is open\n",
    "    def open_restaurant(self):\n",
    "        print(f\"{self.name} is now open for service.\")        \n",
    "\n",
    "# Creating an instance\n",
    "fav_restaurant = Restaurant('Flesh and Buns', 'Korean')\n",
    "# Creating more instances\n",
    "marla_restaurant = Restaurant('Harlem', 'Brunch')\n",
    "# Creating another instance\n",
    "lynda_restaurant = Restaurant('Runway 6-2', 'Brunch')\n",
    "\n",
    "# Prinitng the two attributes\n",
    "print(f\"My favoriate restaurant is {fav_restaurant.name}.\")\n",
    "print(f\"{fav_restaurant.name} serves {fav_restaurant.cuisine}.\")\n",
    "# Printing more attributes\n",
    "print(f\"Marlas favoriate restaurant is {marla_restaurant.name}.\")\n",
    "print(f\"{marla_restaurant.name} serves {marla_restaurant.cuisine}.\")\n",
    "# Printing the attributes of Mums instance\n",
    "print(f\"Lyndas favoriate restaurant is {lynda_restaurant.name}.\")\n",
    "print(f\"{lynda_restaurant.name} serves {lynda_restaurant.cuisine}.\")\n",
    "\n",
    "# Calling the methods inside of the class Restaurant\n",
    "fav_restaurant.describe_restaurant()\n",
    "fav_restaurant.open_restaurant()\n",
    "# Calling the methods using the instance created for Marla\n",
    "marla_restaurant.describe_restaurant()\n",
    "marla_restaurant.open_restaurant()\n",
    "# Calling the methods inside of the class with the instances created for Mum\n",
    "lynda_restaurant.describe_restaurant()\n",
    "lynda_restaurant.open_restaurant()"
   ]
  },
  {
   "cell_type": "markdown",
   "id": "0c7ee3c8",
   "metadata": {},
   "source": [
    "Make a class called User, create two attributes called first_name and last_name and then create severel other attributes that are typically stored in a user profile. Make a method called describe_user() that prints a summary of the users information. Make another methods called greet_user() that prints a personalised greeting to the user. \n",
    "\n",
    "Create several instances representing different users, and call both methods for each user."
   ]
  },
  {
   "cell_type": "code",
   "execution_count": 7,
   "id": "d0810670",
   "metadata": {},
   "outputs": [
    {
     "name": "stdout",
     "output_type": "stream",
     "text": [
      "\n",
      "Accessing the attributes of User1\n",
      "cameron\n",
      "wheeler\n",
      "22\n",
      "cam@gmail.com\n",
      "Bath\n",
      "\n",
      "Calling the methods inside of the class\n",
      "The users name is Cameron Wheeler.\n",
      "Cameron is 22 years old.\n",
      "Email: cam@gmail.com\n",
      "Location: Bath.\n",
      "\n",
      "Hello Cameron we are happy to have you back online.\n",
      "\n",
      "Accessing the attributes of User2\n",
      "ben\n",
      "soden\n",
      "21\n",
      "ben123@hotmail.com\n",
      "Bath\n",
      "\n",
      "Calling the methods inside of the class\n",
      "The users name is Ben Soden.\n",
      "Ben is 21 years old.\n",
      "Email: ben123@hotmail.com\n",
      "Location: Bath.\n",
      "\n",
      "Hello Ben we are happy to have you back online.\n"
     ]
    }
   ],
   "source": [
    "# Setting up the class User\n",
    "\n",
    "class User:\n",
    "    \"Creates user profile\"\n",
    "    \n",
    "#   Setting the init function --> creates the instance\n",
    "    def __init__(self, first_name, last_name, age, email, location):\n",
    "        self.first_name = first_name\n",
    "        self.last_name = last_name\n",
    "        self.age = age\n",
    "        self.email = email\n",
    "        self.location = location\n",
    "        \n",
    "#   Setting up the method describe user, that prints a summary of the users information\n",
    "#   I think the reason we use self is because if we used the actual parameter in the function python wouldn't\n",
    "#   know what to use, as we are creating several objects with the different values for the parameters\n",
    "    def describe_user(self):\n",
    "        print(f\"The users name is {self.first_name.title()} {self.last_name.title()}.\")\n",
    "        print(f\"{self.first_name.title()} is {self.age} years old.\")\n",
    "        print(f\"Email: {self.email}\")\n",
    "        print(f\"Location: {self.location.title()}.\")\n",
    "\n",
    "#   Setting up greet user to print a personalised message\n",
    "    def greet_user(self):\n",
    "        print(f\"\\nHello {self.first_name.title()} we are happy to have you back online.\")\n",
    "\n",
    "\n",
    "# Creating instance of class User\n",
    "user1 = User(first_name='cameron', last_name='wheeler', age=22, email='cam@gmail.com', location='Bath')\n",
    "\n",
    "# Printing the attributes \n",
    "# Place the instance followed by the attribute we want to print off\n",
    "print(\"\\nAccessing the attributes of User1\")\n",
    "print(user1.first_name)\n",
    "print(user1.last_name)\n",
    "print(user1.age)\n",
    "print(user1.email)\n",
    "print(user1.location)\n",
    "\n",
    "# Calling methods inside of the class\n",
    "# Place the instance followed by the method we want to call with ()\n",
    "print(\"\\nCalling the methods inside of the class\")\n",
    "user1.describe_user()\n",
    "user1.greet_user()\n",
    "\n",
    "# Creating another instance of the class User\n",
    "# When creating an instance it is key we remeber to place what class we are wanting to use to create the instance\n",
    "user2 = User(first_name='ben', last_name='soden', age=21, email='ben123@hotmail.com', location='Bath')\n",
    "\n",
    "# Printing the attributes of the instance\n",
    "print(\"\\nAccessing the attributes of User2\")\n",
    "print(user2.first_name)\n",
    "print(user2.last_name)\n",
    "print(user2.age)\n",
    "print(user2.email)\n",
    "print(user2.location)\n",
    "\n",
    "# Calling the methods with the istance we have created\n",
    "# Instance . method ()\n",
    "print(\"\\nCalling the methods inside of the class\")\n",
    "user2.describe_user()\n",
    "user2.greet_user()\n"
   ]
  },
  {
   "cell_type": "markdown",
   "id": "9b64aa92",
   "metadata": {},
   "source": [
    "## Working With Classes and Instances\n",
    "\n",
    "We can use classes to represent real world situations, once we have made a class, we will spend most of our time working with the instances we have created using that class. One of the first things we will want to do is modify the attributes associated with a particular instance. We can modify the attributesof an instance directly or write methods that update attriutes in specific ways. "
   ]
  },
  {
   "cell_type": "markdown",
   "id": "bd5e2fd6",
   "metadata": {},
   "source": [
    "### The Car Class\n",
    "\n",
    "Now we are going to write a new class that represents a car. In this class we will store information about the kind of car we are working with, and t will have a method that summerizes the information about the car."
   ]
  },
  {
   "cell_type": "code",
   "execution_count": 8,
   "id": "7ee61c52",
   "metadata": {},
   "outputs": [
    {
     "name": "stdout",
     "output_type": "stream",
     "text": [
      "2020 Ford Fiesta\n"
     ]
    }
   ],
   "source": [
    "# Setting up the class\n",
    "class Car:\n",
    "    '''A simple representation of a car'''\n",
    "\n",
    "#   Setting up the init method (makes the instances of the class)\n",
    "    def __init__(self, make, model, year):\n",
    "        self.make = make\n",
    "        self.model = model\n",
    "        self.year = year\n",
    "    \n",
    "#   Setting up the method that returns the information about the car\n",
    "    def get_descriptive_information(self):\n",
    "        '''Returns a neatly formatted description'''\n",
    "#       Creating a new variable to return to the call line using return\n",
    "        full_info = f\"{self.year} {self.make} {self.model}\"\n",
    "        return full_info\n",
    "    \n",
    "    \n",
    "# Creating an instance\n",
    "my_car = Car(make='Ford', model='Fiesta', year=2020)\n",
    "# Printing the value that is returned to the call line, but we still have to call the function\n",
    "print(my_car.get_descriptive_information())"
   ]
  },
  {
   "cell_type": "markdown",
   "id": "a3aeee37",
   "metadata": {},
   "source": [
    "> NICE! Now lets run through this code, in the class Car we define the __init__ method with the self parameter just like before, we also give the init method the other parameters it needs to make the instance we want. The init method takes these parameters and turns them into attributes that will be assocaited with the instance we have created. When we make a car using the Car class we need to make sure we pass all of the information needed for the object to be created \n",
    "\n",
    "> We then define a method that puts all of the cars informaton into one string that describes the car, this spares us from having to print all of the cars attributes induviually like we did before (so thats how we do it!) To work with these attributes we use self.year, self.make, self.model.\n",
    "\n",
    "> Finally, we make an instance of the class Car and assign it to the variable my_car, then we call the method get descriptive information() to show what kind of car we have created. "
   ]
  },
  {
   "cell_type": "markdown",
   "id": "228b9c2d",
   "metadata": {},
   "source": [
    "Now lets make this class more interesting by adding an attribute that changes over time. We will then add an attribute that stores the cars overall milage."
   ]
  },
  {
   "cell_type": "markdown",
   "id": "f93dc8a3",
   "metadata": {},
   "source": [
    "### Setting A Default Value For An Attribute\n",
    "\n",
    "So far all of the attributes of an instance have been define in the parameters when we are creating the instance. However, when an instance is created attributes can be defined WITHOUT being passed in as a parameter. These attributes ca be defined in teh init methd where they are assinged as a default value.\n",
    "\n",
    "Lets add an attribute called odometer_reading that starts with the value of 0. We will also add a method read.odometer() that helps us read each cars odometer."
   ]
  },
  {
   "cell_type": "code",
   "execution_count": 9,
   "id": "b2c7eb3f",
   "metadata": {},
   "outputs": [
    {
     "name": "stdout",
     "output_type": "stream",
     "text": [
      "2020 Ford Fiesta\n",
      "This car has done 0 miles.\n"
     ]
    }
   ],
   "source": [
    "# Setting up the class\n",
    "class Car:\n",
    "    '''A simple representation of a car'''\n",
    "\n",
    "#   Setting up the init method (makes the instances of the class)\n",
    "    def __init__(self, make, model, year):\n",
    "        self.make = make\n",
    "        self.model = model\n",
    "        self.year = year\n",
    "#       Adding the default value for the attribute self.odometer_reading\n",
    "        self.odometer_reading = 0\n",
    "    \n",
    "#   Setting up the method that returns the information about the car\n",
    "    def get_descriptive_information(self):\n",
    "        '''Returns a neatly formatted description'''\n",
    "#       Creating a new variable to return to the call line using return\n",
    "        full_info = f\"{self.year} {self.make} {self.model}\"\n",
    "        return full_info\n",
    "    \n",
    "#   Setting up the method that reads the odometer \n",
    "    def read_odometer(self):\n",
    "        '''Print a string showing the cars milage'''\n",
    "#       Code that runs when we call the function\n",
    "        print(f\"This car has done {self.odometer_reading} miles.\")\n",
    "        \n",
    "# Creating an instance \n",
    "my_car = Car(make='Ford', model='Fiesta', year=2020)\n",
    "# Calling the get descriptive information function, its returning a value to the function call so we need to print\n",
    "# the value\n",
    "print(my_car.get_descriptive_information())\n",
    "# Calling the read odometer function\n",
    "my_car.read_odometer()"
   ]
  },
  {
   "cell_type": "markdown",
   "id": "8c9eb39b",
   "metadata": {},
   "source": [
    "> Lets run through this example! This time when we create an instance, python calls the init method to create a new instance, python stores the make, model, and year values that we have passed as arguements to the parameters as attributes like it did in the previous example. Then python creates a new attribute called odometer_reading and sets its value to 0. We also have made this new method called read_odometer() that allows us to easily look at a cars milage, this starts with 0."
   ]
  },
  {
   "cell_type": "markdown",
   "id": "9e6d2386",
   "metadata": {},
   "source": [
    "### Modifying Attribute Values\n",
    "\n",
    "We can change an attributes value in 3 ways, we can change the value directly through an instance, set the valye through a method or increment the value (add a certain amount or take a certain amount away) through a method. Lets look at each of the approaches induvidually."
   ]
  },
  {
   "cell_type": "markdown",
   "id": "462cf4b1",
   "metadata": {},
   "source": [
    "### Modifying An Attributes Value Directly\n",
    "\n",
    "This is the simplest way to modify an attributes value. We access the attribute directly through an instance"
   ]
  },
  {
   "cell_type": "code",
   "execution_count": 11,
   "id": "004a2856",
   "metadata": {},
   "outputs": [
    {
     "name": "stdout",
     "output_type": "stream",
     "text": [
      "2020 Ford Fiesta\n",
      "This car has done 400 miles.\n"
     ]
    }
   ],
   "source": [
    "# Setting up the class\n",
    "class Car:\n",
    "    '''A simple representation of a car'''\n",
    "\n",
    "#   Setting up the init method (makes the instances of the class)\n",
    "    def __init__(self, make, model, year):\n",
    "        self.make = make\n",
    "        self.model = model\n",
    "        self.year = year\n",
    "#       Adding the default value for the attribute self.odometer_reading\n",
    "        self.odometer_reading = 0\n",
    "    \n",
    "#   Setting up the method that returns the information about the car\n",
    "    def get_descriptive_information(self):\n",
    "        '''Returns a neatly formatted description'''\n",
    "#       Creating a new variable to return to the call line using return\n",
    "        full_info = f\"{self.year} {self.make} {self.model}\"\n",
    "        return full_info\n",
    "    \n",
    "#   Setting up the method that reads the odometer \n",
    "    def read_odometer(self):\n",
    "        '''Print a string showing the cars milage'''\n",
    "#       Code that runs when we call the function\n",
    "        print(f\"This car has done {self.odometer_reading} miles.\")\n",
    "        \n",
    "# Creating an instance \n",
    "my_car = Car(make='Ford', model='Fiesta', year=2020)\n",
    "# Calling the get descriptive information function, its returning a value to the function call so we need to print\n",
    "# the value\n",
    "print(my_car.get_descriptive_information())\n",
    "# Setting the cars odometer to 400 miles\n",
    "my_car.odometer_reading = 400\n",
    "# Calling the read odometer function\n",
    "my_car.read_odometer()"
   ]
  },
  {
   "cell_type": "markdown",
   "id": "c185b8ea",
   "metadata": {},
   "source": [
    "> Here we set the value of the odometer reading using dot notation to access the odometer_reading attribute. This line tells python to take the instance my_car and find the attribute odometer reading and set it to 400"
   ]
  },
  {
   "cell_type": "markdown",
   "id": "31765fa1",
   "metadata": {},
   "source": [
    "### Modifying An Attributes Value Through A Method\n",
    "\n",
    "Sometimes we will want to get an attributes value through an instance. Instead of doing it directly like before, we can pass a new value to a method that handles the updateing internally"
   ]
  },
  {
   "cell_type": "code",
   "execution_count": 12,
   "id": "d55d52ab",
   "metadata": {},
   "outputs": [
    {
     "name": "stdout",
     "output_type": "stream",
     "text": [
      "2020 Ford Fiesta\n",
      "This car has done 400 miles.\n"
     ]
    }
   ],
   "source": [
    "# Setting up the class\n",
    "class Car:\n",
    "    '''A simple representation of a car'''\n",
    "\n",
    "#   Setting up the init method (makes the instances of the class)\n",
    "    def __init__(self, make, model, year):\n",
    "        self.make = make\n",
    "        self.model = model\n",
    "        self.year = year\n",
    "#       Adding the default value for the attribute self.odometer_reading\n",
    "        self.odometer_reading = 0\n",
    "    \n",
    "#   Setting up the method that returns the information about the car\n",
    "    def get_descriptive_information(self):\n",
    "        '''Returns a neatly formatted description'''\n",
    "#       Creating a new variable to return to the call line using return\n",
    "        full_info = f\"{self.year} {self.make} {self.model}\"\n",
    "        return full_info\n",
    "    \n",
    "#   Setting up the method that reads the odometer \n",
    "    def read_odometer(self):\n",
    "        '''Print a string showing the cars milage'''\n",
    "#       Code that runs when we call the function\n",
    "        print(f\"This car has done {self.odometer_reading} miles.\")\n",
    "    \n",
    "#   Setting up a method that updates the odometer\n",
    "    def update_odometer(self, mileage):\n",
    "        ''''Set the odometer reading to the given value'''\n",
    "        self.odometer_reading = mileage\n",
    "        \n",
    "# Creating an instance \n",
    "my_car = Car(make='Ford', model='Fiesta', year=2020)\n",
    "# Calling the get descriptive information function, its returning a value to the function call so we need to print\n",
    "# the value\n",
    "print(my_car.get_descriptive_information())\n",
    "# Modifying the attribute value through a method \n",
    "my_car.update_odometer(400)\n",
    "# Calling the read odometer function\n",
    "my_car.read_odometer()"
   ]
  },
  {
   "cell_type": "markdown",
   "id": "c03aea82",
   "metadata": {},
   "source": [
    "> This works in a similar manner but seems to take a few extra steps, so we have added a methond that updates the odometer value, in this method we set the attribute self.odometer reading to equal the parameter milage, when we call the method we pass the arugment 400 to mileage, this is then set to self.odometer_reading. We then call the odomter_reading funcion that prints the self.odoemter_reading value in a string."
   ]
  },
  {
   "cell_type": "markdown",
   "id": "3ab30d0a",
   "metadata": {},
   "source": [
    "We can extend this method to do some additional work, when selling a car some people like to roll back the odometer to make the car seem less used. Lets make sure this doesn't happen."
   ]
  },
  {
   "cell_type": "code",
   "execution_count": 13,
   "id": "92324250",
   "metadata": {},
   "outputs": [
    {
     "name": "stdout",
     "output_type": "stream",
     "text": [
      "2020 Ford Fiesta\n",
      "You cannot roll back mileage!\n",
      "This car has done 400 miles.\n"
     ]
    }
   ],
   "source": [
    "# Setting up the class\n",
    "class Car:\n",
    "    '''A simple representation of a car'''\n",
    "\n",
    "#   Setting up the init method (makes the instances of the class)\n",
    "    def __init__(self, make, model, year):\n",
    "        self.make = make\n",
    "        self.model = model\n",
    "        self.year = year\n",
    "#       Adding the default value for the attribute self.odometer_reading\n",
    "        self.odometer_reading = 400\n",
    "    \n",
    "#   Setting up the method that returns the information about the car\n",
    "    def get_descriptive_information(self):\n",
    "        '''Returns a neatly formatted description'''\n",
    "#       Creating a new variable to return to the call line using return\n",
    "        full_info = f\"{self.year} {self.make} {self.model}\"\n",
    "        return full_info\n",
    "    \n",
    "#   Setting up the method that reads the odometer \n",
    "    def read_odometer(self):\n",
    "        '''Print a string showing the cars milage'''\n",
    "#       Code that runs when we call the function\n",
    "        print(f\"This car has done {self.odometer_reading} miles.\")\n",
    "    \n",
    "#   Setting up a method that updates the odometer\n",
    "    def update_odometer(self, mileage):\n",
    "        ''''Set the odometer reading to the given value\n",
    "        reject any attempt to reverse milage'''\n",
    "        if mileage >= self.odometer_reading:\n",
    "            self.odometer_reading = mileage\n",
    "        else:\n",
    "            print(\"You cannot roll back mileage!\")\n",
    "        \n",
    "# Creating an instance \n",
    "my_car = Car(make='Ford', model='Fiesta', year=2020)\n",
    "# Calling the get descriptive information function, its returning a value to the function call so we need to print\n",
    "# the value\n",
    "print(my_car.get_descriptive_information())\n",
    "# Modifying the attribute value through a method \n",
    "my_car.update_odometer(20)\n",
    "# Calling the read odometer function \n",
    "my_car.read_odometer()"
   ]
  },
  {
   "cell_type": "markdown",
   "id": "ba146cde",
   "metadata": {},
   "source": [
    "> Now the update_odometer() method checks to make sure people arn't tring to reverse the milage of their car, we use an if statment to check if the current value for the attribute odometer_reading is less than the updated value that the user can enter. "
   ]
  },
  {
   "cell_type": "markdown",
   "id": "5ed63a19",
   "metadata": {},
   "source": [
    "### Incrementing An Attributes Value Through A Method\n",
    "\n",
    "Sometimes we will want to increment an attributes value by a certain amount rather than set an entirely new value. For example, if we buy a used car and put 100 miles onto it in the time between buying and registering it. Below is a method that allows us to pass this incremental amount and add that value to odometer_reading"
   ]
  },
  {
   "cell_type": "code",
   "execution_count": 14,
   "id": "b864447e",
   "metadata": {},
   "outputs": [
    {
     "name": "stdout",
     "output_type": "stream",
     "text": [
      "2020 Ford Fiesta\n",
      "This car has done 20 miles.\n",
      "This car has done 50 miles.\n"
     ]
    }
   ],
   "source": [
    "# Setting up the class\n",
    "class Car:\n",
    "    '''A simple representation of a car'''\n",
    "\n",
    "#   Setting up the init method (makes the instances of the class)\n",
    "    def __init__(self, make, model, year):\n",
    "        self.make = make\n",
    "        self.model = model\n",
    "        self.year = year\n",
    "#       Adding the default value for the attribute self.odometer_reading\n",
    "        self.odometer_reading = 0\n",
    "    \n",
    "#   Setting up the method that returns the information about the car\n",
    "    def get_descriptive_information(self):\n",
    "        '''Returns a neatly formatted description'''\n",
    "#       Creating a new variable to return to the call line using return\n",
    "        full_info = f\"{self.year} {self.make} {self.model}\"\n",
    "        return full_info\n",
    "    \n",
    "#   Setting up the method that reads the odometer \n",
    "    def read_odometer(self):\n",
    "        '''Print a string showing the cars milage'''\n",
    "#       Code that runs when we call the function\n",
    "        print(f\"This car has done {self.odometer_reading} miles.\")\n",
    "    \n",
    "#   Setting up a method that updates the odometer\n",
    "    def update_odometer(self, mileage):\n",
    "        ''''Set the odometer reading to the given value\n",
    "        reject any attempt to reverse milage'''\n",
    "        if mileage >= self.odometer_reading:\n",
    "            self.odometer_reading = mileage\n",
    "        else:\n",
    "            print(\"You cannot roll back mileage!\")\n",
    "\n",
    "#   Setting up the increment method\n",
    "    def increment_odometer(self, miles):\n",
    "        '''Increments value of attribute'''\n",
    "        self.odometer_reading += miles\n",
    "        \n",
    "# Creating an instance \n",
    "my_car = Car(make='Ford', model='Fiesta', year=2020)\n",
    "# Calling the get descriptive information function (remeber we need to print this as its a return value)\n",
    "print(my_car.get_descriptive_information())\n",
    "# Modifying the attribute value through a method \n",
    "my_car.update_odometer(20)\n",
    "# Calling the read odometer function \n",
    "my_car.read_odometer()\n",
    "# Incrementing the odometer\n",
    "my_car.increment_odometer(30)\n",
    "# Calling the read odometer function again\n",
    "my_car.read_odometer()"
   ]
  },
  {
   "cell_type": "markdown",
   "id": "41964c69",
   "metadata": {},
   "source": [
    "> Again we are doing some simple stuff but there are quite a few steps involved, lets walk through them. The new method we have created called increment odometer takes a number (arguement) and adds this value to the self.odometer_reading attribute value. We can then call the function when we want to increment the odometer value, here we add 30 miles on the odometer of the Ford and then call the read odometer function that will go an collect the new value of the odometer attribute. "
   ]
  },
  {
   "cell_type": "markdown",
   "id": "0e5949c7",
   "metadata": {},
   "source": [
    "NOTE - We can use methods like this to control how users of your program are able to update values such as an odometer reading on a car sale website, but anyone with. access to the program can set the odometer reading of a certain car by accessing the attribute directly. Effective security takes extreme attention to detail and basic checks such as the if statement above. "
   ]
  },
  {
   "cell_type": "markdown",
   "id": "63dec474",
   "metadata": {},
   "source": [
    "## Tasks\n",
    "\n",
    "Start with the program with the restaurants, add an attribute called number_served with a default value of 0. Create an instance called restuarant from this class. Print the number of customers the restaurant has severd and then chagne this value and print it again. After that, add a method called set_number_served() that wil allow us to set the number of the amount of customers that have been served in a day. Finally make another method called increment number served that lets us increment the number of customers who have been served. Call this method with any number we like."
   ]
  },
  {
   "cell_type": "code",
   "execution_count": 15,
   "id": "ce74ecdf",
   "metadata": {},
   "outputs": [
    {
     "name": "stdout",
     "output_type": "stream",
     "text": [
      "0\n",
      "20\n"
     ]
    }
   ],
   "source": [
    "# Creating a class\n",
    "class Restaurant():\n",
    "    '''Simple model of a resaurant'''\n",
    "#   Setting up init method that creates instances\n",
    "    def __init__(self, name, cuisine):\n",
    "        self.name = name\n",
    "        self.cuisine = cuisine\n",
    "#       Setting the attribute number_served to 0 \n",
    "        self.number_served = 0\n",
    "\n",
    "#   Creating a method to descrbie the restaurant \n",
    "    def describe_restaurant(self):\n",
    "        print(f\"Go to {self.name} if you want {self.cuisine} food.\")\n",
    "    \n",
    "#   Creating a method to show the restaurant is open\n",
    "    def open_restaurant(self):\n",
    "        print(f\"{self.name} is now open for service.\")\n",
    "    \n",
    "# Creating the instance \n",
    "my_restaurant = Restaurant('Camerons', 'Pizza')\n",
    "# Printing the number of customers served\n",
    "print(my_restaurant.number_served)\n",
    "# Changing the attribute value directly\n",
    "my_restaurant.number_served = 20\n",
    "# Printing the number of customers served\n",
    "print(my_restaurant.number_served)"
   ]
  },
  {
   "cell_type": "code",
   "execution_count": 16,
   "id": "88fa88d4",
   "metadata": {},
   "outputs": [
    {
     "name": "stdout",
     "output_type": "stream",
     "text": [
      "0\n",
      "43\n"
     ]
    }
   ],
   "source": [
    "# Creating a class\n",
    "class Restaurant():\n",
    "    '''Simple model of a resaurant'''\n",
    "#   Setting up init method that creates instances\n",
    "    def __init__(self, name, cuisine):\n",
    "        self.name = name\n",
    "        self.cuisine = cuisine\n",
    "#       Setting the attribute number_served to 0 \n",
    "        self.number_served = 0\n",
    "\n",
    "#   Creating a method to descrbie the restaurant \n",
    "    def describe_restaurant(self):\n",
    "        print(f\"Go to {self.name} if you want {self.cuisine} food.\")\n",
    "    \n",
    "#   Creating a method to show the restaurant is open\n",
    "    def open_restaurant(self):\n",
    "        print(f\"{self.name} is now open for service.\")\n",
    "\n",
    "#   Adding a method that sets the number of customers served\n",
    "    def set_number_served(self, people_served):\n",
    "        '''Sets the number of people served today'''\n",
    "        self.number_served = people_served\n",
    "\n",
    "# Creating the instance \n",
    "my_restaurant = Restaurant('Camerons', 'Pizza')\n",
    "# Printing the number of customers served\n",
    "print(my_restaurant.number_served)\n",
    "# Calling the method and changing the value of people that were served\n",
    "# Instance, method, value\n",
    "my_restaurant.set_number_served(43)\n",
    "# Printing the number of customers served\n",
    "print(my_restaurant.number_served)"
   ]
  },
  {
   "cell_type": "code",
   "execution_count": 17,
   "id": "7049e8aa",
   "metadata": {},
   "outputs": [
    {
     "name": "stdout",
     "output_type": "stream",
     "text": [
      "0\n",
      "43\n",
      "45\n"
     ]
    }
   ],
   "source": [
    "# Creating a class\n",
    "class Restaurant():\n",
    "    '''Simple model of a resaurant'''\n",
    "#   Setting up init method that creates instances\n",
    "    def __init__(self, name, cuisine):\n",
    "        self.name = name\n",
    "        self.cuisine = cuisine\n",
    "#       Setting the attribute number_served to 0 \n",
    "        self.number_served = 0\n",
    "\n",
    "#   Creating a method to descrbie the restaurant \n",
    "    def describe_restaurant(self):\n",
    "        print(f\"Go to {self.name} if you want {self.cuisine} food.\")\n",
    "    \n",
    "#   Creating a method to show the restaurant is open\n",
    "    def open_restaurant(self):\n",
    "        print(f\"{self.name} is now open for service.\")\n",
    "\n",
    "#   Adding a method that sets the number of customers served\n",
    "    def set_number_served(self, people_served):\n",
    "        '''Sets the number of people served today'''\n",
    "        self.number_served = people_served\n",
    "        \n",
    "#   Adding a method that increments the number of customers served\n",
    "    def increment_number_served(self, increment_number):\n",
    "        '''Increments the self.number_served attribute'''\n",
    "        self.number_served += increment_number\n",
    "        \n",
    "# Creating the instance \n",
    "my_restaurant = Restaurant('Camerons', 'Pizza')\n",
    "# Printing the number of customers served\n",
    "print(my_restaurant.number_served)\n",
    "# Calling the method and changing the value of people that were served\n",
    "# Instance, method, value\n",
    "my_restaurant.set_number_served(43)\n",
    "# Printing the number of customers served\n",
    "print(my_restaurant.number_served)\n",
    "'''Ooops we missed a couple of people at the end of the day, lets add them to make sure the final number is correct'''\n",
    "# Increment the value\n",
    "my_restaurant.increment_number_served(2)\n",
    "# Printing the number of customers served\n",
    "print(my_restaurant.number_served)"
   ]
  },
  {
   "cell_type": "markdown",
   "id": "be949582",
   "metadata": {},
   "source": [
    "Add an attribute called login attempts to the class of users shown above. Write a method called increment login attempts that increments the value of login attempts by 1. Write another method called reset login attempts htat resets the value of login attempts to 0 "
   ]
  },
  {
   "cell_type": "code",
   "execution_count": 18,
   "id": "cd88e8cf",
   "metadata": {},
   "outputs": [
    {
     "name": "stdout",
     "output_type": "stream",
     "text": [
      "0\n",
      "3\n",
      "0\n"
     ]
    }
   ],
   "source": [
    "# Setting up the class User\n",
    "\n",
    "class User:\n",
    "    \"Creates user profile\"\n",
    "    \n",
    "#   Setting the init function --> creates the instance\n",
    "    def __init__(self, first_name, last_name, age, email, location):\n",
    "        self.first_name = first_name\n",
    "        self.last_name = last_name\n",
    "        self.age = age\n",
    "        self.email = email\n",
    "        self.location = location\n",
    "        self.login_attempts = 0\n",
    "        \n",
    "#   Setting up the method describe user, that prints a summary of the users information\n",
    "#   I think the reason we use self is because if we used the actual parameter in the function python wouldn't\n",
    "#   know what to use, as we are creating several objects with the different values for the parameters\n",
    "    def describe_user(self):\n",
    "        print(f\"The users name is {self.first_name.title()} {self.last_name.title()}.\")\n",
    "        print(f\"{self.first_name.title()} is {self.age} years old.\")\n",
    "        print(f\"Email: {self.email}\")\n",
    "        print(f\"Location: {self.location.title()}.\")\n",
    "\n",
    "#   Setting up greet user to print a personalised message\n",
    "    def greet_user(self):\n",
    "        print(f\"\\nHello {self.first_name.title()} we are happy to have you back online.\")\n",
    "        \n",
    "#   Setting up the login_attempts increment\n",
    "    def increment_login_attempts(self):\n",
    "        '''Increments the times the user has tried to log in'''\n",
    "        self.login_attempts += 1\n",
    "\n",
    "#   Resetting the loging attempts\n",
    "    def reset_login_attempts(self):\n",
    "        '''Resets the login attempts'''\n",
    "        self.login_attempts = 0\n",
    "        \n",
    "# Creating instance of class User\n",
    "user1 = User(first_name='cameron', last_name='wheeler', age=22, email='cam@gmail.com', location='Bath')\n",
    "\n",
    "# Showing each time the user has logged in and that it increments correctly\n",
    "print(user1.login_attempts)\n",
    "user1.increment_login_attempts()\n",
    "user1.increment_login_attempts()\n",
    "user1.increment_login_attempts()\n",
    "print(user1.login_attempts)\n",
    "\n",
    "\n",
    "# Resetting the log in attempts at the end of the day\n",
    "user1.reset_login_attempts()\n",
    "print(user1.login_attempts)"
   ]
  },
  {
   "cell_type": "markdown",
   "id": "163cce7d",
   "metadata": {},
   "source": [
    "### Inheritance \n",
    "\n",
    "You don't always have to start from scratch when we are writing a class. If the class we are writing is specialised version of another class we have written, we can use inheritance. When one class inherits from another, it takes on the attributes of the 'parent' class. The original class is called the parent class and the new class is called the 'child class'. The child class can inherit any or all of the attributes and methods of it's parent classm but it is also free to define new attributes and methods of its own. "
   ]
  },
  {
   "cell_type": "markdown",
   "id": "5671915b",
   "metadata": {},
   "source": [
    "### The __init__ Method For Child Classes\n",
    "\n",
    "When we are writing a new class based on an existing class you will often want to call the init method from the parent class. This will initialise any attributes that are defined in the parent class init method therefore making them avaiable to the child class. For example, let model an electric car, these are just specalised forms of cars. This child class will take on the attributes of the Car class so we will only need to write code for the specalised attributes of an electric car.\n",
    "\n",
    "Lets start by making a simple version of the ElectricCar class, which does everything that the Car class does."
   ]
  },
  {
   "cell_type": "code",
   "execution_count": 19,
   "id": "e31d3c30",
   "metadata": {},
   "outputs": [
    {
     "name": "stdout",
     "output_type": "stream",
     "text": [
      "2021 Tesla model x\n",
      "2022 Tesla model y\n"
     ]
    }
   ],
   "source": [
    "# Setting up the class\n",
    "class Car:\n",
    "    '''A simple representation of a car'''\n",
    "\n",
    "#   Setting up the init method (makes the instances of the class)\n",
    "    def __init__(self, make, model, year):\n",
    "        self.make = make\n",
    "        self.model = model\n",
    "        self.year = year\n",
    "#       Adding the default value for the attribute self.odometer_reading\n",
    "        self.odometer_reading = 0\n",
    "    \n",
    "#   Setting up the method that returns the information about the car\n",
    "    def get_descriptive_information(self):\n",
    "        '''Returns a neatly formatted description'''\n",
    "#       Creating a new variable to return to the call line using return\n",
    "        full_info = f\"{self.year} {self.make} {self.model}\"\n",
    "        return full_info\n",
    "    \n",
    "#   Setting up the method that reads the odometer \n",
    "    def read_odometer(self):\n",
    "        '''Print a string showing the cars milage'''\n",
    "#       Code that runs when we call the function\n",
    "        print(f\"This car has done {self.odometer_reading} miles.\")\n",
    "    \n",
    "#   Setting up a method that updates the odometer\n",
    "    def update_odometer(self, mileage):\n",
    "        ''''Set the odometer reading to the given value\n",
    "        reject any attempt to reverse milage'''\n",
    "        if mileage >= self.odometer_reading:\n",
    "            self.odometer_reading = mileage\n",
    "        else:\n",
    "            print(\"You cannot roll back mileage!\")\n",
    "\n",
    "#   Setting up the increment method\n",
    "    def increment_odometer(self, miles):\n",
    "        '''Increments value of attribute'''\n",
    "        self.odometer_reading += miles\n",
    "    \n",
    "\n",
    "#   Setting up the child class called ElectricCar\n",
    "class ElectricCar(Car):\n",
    "        '''Represents aspects if a car that is specific to electric vehicals'''\n",
    "        \n",
    "        def __init__(self, make, model, year):\n",
    "            '''Initialize attributes of the parent class'''\n",
    "            super().__init__(make, model, year)\n",
    "            \n",
    "            \n",
    "            \n",
    "my_telsa = ElectricCar('Tesla', 'model x', 2021)\n",
    "second_tesla = ElectricCar('Tesla', 'model y', 2022)\n",
    "print(my_telsa.get_descriptive_information())\n",
    "print(second_tesla.get_descriptive_information())"
   ]
  },
  {
   "cell_type": "markdown",
   "id": "e926997d",
   "metadata": {},
   "source": [
    "> This is slightly confusing so lets walk through this code together. First we start by creating a child class, the parent class must be a part of the current file, and must appear infront of the child class in the file. Next we define the child class as ElectricCar, the name of the parent class must be in the parentheses in the definition of the child class. The init method the takes the information requried to make a Car instance.\n",
    "\n",
    "> We then use this super() function, this allows the child class to use the methods of the parent class. This line tells Python to call the init function from the Car class, which gives an ElectricCar instance all of the attributes that are defined in the init method of the Car class. The name super comes from the convetion of calling the parent class a 'superclass' and the child class the 'subclass'. \n",
    "\n",
    "> Finally we test if the inheritance is working properly by creating an electric car instance, we use the same kind of information we would provide if we were creating an instance of the class Car. We make an instance of the ElectricCar class and assign it to my_tesla. This line of code calls the init method defined in the ElectricCar which in turn calls the init method that is defined in the parent class Car. At this point we are not adding anything to the electric car to define it from a normal car, we are just making sure that the ElectricCar class gives its instances the correct attributes --> which is does. "
   ]
  },
  {
   "cell_type": "markdown",
   "id": "788f60f1",
   "metadata": {},
   "source": [
    "### Defining Attributes and Methods For The Child Class\n",
    "\n",
    "Once we have the child class set up so that it inherits from a parent class, you can add any new attributes and methods necessary to differentiate the child class from the parent class. \n",
    "\n",
    "Let's add an attribute that specific to an electric car that a normal car doesn't have, such as a battery, we will also add a method that report this attribute. We will store the battery size and write some code that prints a description of the battery."
   ]
  },
  {
   "cell_type": "code",
   "execution_count": 20,
   "id": "d72b7f6c",
   "metadata": {},
   "outputs": [
    {
     "name": "stdout",
     "output_type": "stream",
     "text": [
      "2021 Tesla model x\n",
      "This car has a battery of 75 kilo watts\n"
     ]
    }
   ],
   "source": [
    "# Setting up the class\n",
    "class Car:\n",
    "    '''A simple representation of a car'''\n",
    "\n",
    "#   Setting up the init method (makes the instances of the class)\n",
    "    def __init__(self, make, model, year):\n",
    "        self.make = make\n",
    "        self.model = model\n",
    "        self.year = year\n",
    "#       Adding the default value for the attribute self.odometer_reading\n",
    "        self.odometer_reading = 0\n",
    "    \n",
    "#   Setting up the method that returns the information about the car\n",
    "    def get_descriptive_information(self):\n",
    "        '''Returns a neatly formatted description'''\n",
    "#       Creating a new variable to return to the call line using return\n",
    "        full_info = f\"{self.year} {self.make} {self.model}\"\n",
    "        return full_info\n",
    "    \n",
    "#   Setting up the method that reads the odometer \n",
    "    def read_odometer(self):\n",
    "        '''Print a string showing the cars milage'''\n",
    "#       Code that runs when we call the function\n",
    "        print(f\"This car has done {self.odometer_reading} miles.\")\n",
    "    \n",
    "#   Setting up a method that updates the odometer\n",
    "    def update_odometer(self, mileage):\n",
    "        ''''Set the odometer reading to the given value\n",
    "        reject any attempt to reverse milage'''\n",
    "        if mileage >= self.odometer_reading:\n",
    "            self.odometer_reading = mileage\n",
    "        else:\n",
    "            print(\"You cannot roll back mileage!\")\n",
    "\n",
    "#   Setting up the increment method\n",
    "    def increment_odometer(self, miles):\n",
    "        '''Increments value of attribute'''\n",
    "        self.odometer_reading += miles\n",
    "    \n",
    "\n",
    "#   Setting up the child class called ElectricCar\n",
    "class ElectricCar(Car):\n",
    "        '''Represents aspects if a car that is specific to electric vehicals'''\n",
    "\n",
    "#       Setting up the init method of the child class with the parameters the same as the parent class\n",
    "        def __init__(self, make, model, year):\n",
    "            '''Initialize attributes of the parent class\n",
    "            Then initialise the attributes that are specific to the child class'''\n",
    "            super().__init__(make, model, year)\n",
    "            self.battery_size = 75\n",
    "    \n",
    "        def describe_battery(self):\n",
    "            '''Print a statement describing the battery size'''\n",
    "            print(f\"This car has a battery of {self.battery_size} kilo watts\")\n",
    "\n",
    "my_telsa = ElectricCar('Tesla', 'model x', 2021)\n",
    "print(my_telsa.get_descriptive_information())\n",
    "my_telsa.describe_battery()"
   ]
  },
  {
   "cell_type": "markdown",
   "id": "8f0c76ab",
   "metadata": {},
   "source": [
    "> In this code we have added a new attribute to the child class for the batter size (self_battery_size) and we have set its intial value to 75. This attribute will be assocaited with all instances created from ElectricCar but not the instances created using the Car class. We also create a method describe_battery() that prints the information that we have about the battery, when we call this method we get a description that is specific to an electric car. "
   ]
  },
  {
   "cell_type": "markdown",
   "id": "f74bb100",
   "metadata": {},
   "source": [
    "There is no limit to how specialised the ElectricCar class can get. We can add as many attributes and methods as we need to model an electric car, to whatever degree of accuracy we like. An attribute or method that can belong to any car and not JUST and electric one should be added in the parent class."
   ]
  },
  {
   "cell_type": "markdown",
   "id": "51c31611",
   "metadata": {},
   "source": [
    "### Overriding Methods From The Parent Class\n",
    "\n",
    "We can override any method from the parent class that doesn't fit well with what we are trying to achieve with the child class. To do this we need to define a method in teh child class with the same name as the method in the parent class, Python will simply override and leave the parent class method, paying attention to the method in the child class. For example the class Car had a method called fill_gas_tank, this would be useless in the electric car class, so we can do something like this.\n",
    "\n",
    "\n",
    "class ElectricCar(Car):\n",
    "\n",
    "--snip--\n",
    "\n",
    "def fill_gas_tank():\n",
    "\n",
    "    print(\"Electric cars do not need gas!\")\n",
    "    \n",
    "   \n",
    "Now if someone wants to try and call the fill gas method with an electric car isntance we will return this message instead of python going to the parent class and getting the fill gas method from there. The key from this is that if we don't want it to run from the parent class to the child class we can simply override it. "
   ]
  },
  {
   "cell_type": "markdown",
   "id": "7d5e63fb",
   "metadata": {},
   "source": [
    "### Instances As Attributes\n",
    "\n",
    "When we are modeling something from the real world in code, you may find that you are adding more and more detail to that class. We will find that  you have a growing list of attributes and method and that your files are becoming lengthy with the amount of code in them. In these situations, we might recognise that part of one class can be written as a seperate class entirely. If we can break larger code down into smaller blocks of classes it is good, as we can make all of these classes work together. \n",
    "\n",
    "For example, if we continue adding detail to the ElectricCar class we might notice that we are adding many attributes and methods specific to the cars battery. When we see this happening we can stop and move those attributes and methods to a seperecte class called Battery. Then we can use a Battery instance as an attribute in the ElectricCar class"
   ]
  },
  {
   "cell_type": "code",
   "execution_count": 21,
   "id": "13642c75",
   "metadata": {},
   "outputs": [
    {
     "name": "stdout",
     "output_type": "stream",
     "text": [
      "2021 Tesla model x\n",
      "The battery size is 75 kilo watts.\n"
     ]
    }
   ],
   "source": [
    "class Car:\n",
    "    '''A simple representation of a car'''\n",
    "\n",
    "#   Setting up the init method (makes the instances of the class)\n",
    "    def __init__(self, make, model, year):\n",
    "        self.make = make\n",
    "        self.model = model\n",
    "        self.year = year\n",
    "#       Adding the default value for the attribute self.odometer_reading\n",
    "        self.odometer_reading = 0\n",
    "    \n",
    "#   Setting up the method that returns the information about the car\n",
    "    def get_descriptive_information(self):\n",
    "        '''Returns a neatly formatted description'''\n",
    "#       Creating a new variable to return to the call line using return\n",
    "        full_info = f\"{self.year} {self.make} {self.model}\"\n",
    "        return full_info\n",
    "    \n",
    "#   Setting up the method that reads the odometer \n",
    "    def read_odometer(self):\n",
    "        '''Print a string showing the cars milage'''\n",
    "#       Code that runs when we call the function\n",
    "        print(f\"This car has done {self.odometer_reading} miles.\")\n",
    "    \n",
    "#   Setting up a method that updates the odometer\n",
    "    def update_odometer(self, mileage):\n",
    "        ''''Set the odometer reading to the given value\n",
    "        reject any attempt to reverse milage'''\n",
    "        if mileage >= self.odometer_reading:\n",
    "            self.odometer_reading = mileage\n",
    "        else:\n",
    "            print(\"You cannot roll back mileage!\")\n",
    "\n",
    "#   Setting up the increment method\n",
    "    def increment_odometer(self, miles):\n",
    "        '''Increments value of attribute'''\n",
    "        self.odometer_reading += miles\n",
    "\n",
    "# Setting up the class Battery (not a child class)\n",
    "class Battery:\n",
    "    '''A simple attempt to model a battery for an electric car'''\n",
    "    \n",
    "#   Init method for initalising the instances \n",
    "    def __init__(self, battery_size:int=75):\n",
    "        self.battery_size = battery_size\n",
    "        \n",
    "#   Method to describe the battery\n",
    "    def describe_battery(self):\n",
    "        '''print statement of the size of the battery'''\n",
    "        print(f\"The battery size is {self.battery_size} kilo watts.\")\n",
    "    \n",
    "\n",
    "#   Setting up the child class called ElectricCar\n",
    "class ElectricCar(Car):\n",
    "        '''Represents aspects if a car that is specific to electric vehicals'''\n",
    "\n",
    "#       Setting up the init method of the child class with the parameters the same as the parent class\n",
    "        def __init__(self, make, model, year):\n",
    "            '''Initialize attributes of the parent class\n",
    "            Then initialise the attributes that are specific to the child class'''\n",
    "            super().__init__(make, model, year)\n",
    "#           Setting the attribute self.battery to equal the instance Battery, this equals the default value \n",
    "            self.battery = Battery()\n",
    "    \n",
    "\n",
    "my_telsa = ElectricCar('Tesla', 'model x', 2021)\n",
    "print(my_telsa.get_descriptive_information())\n",
    "# Notice we are using two instances, but one is set to a default value, this is followed by the method we want to call\n",
    "my_telsa.battery.describe_battery()"
   ]
  },
  {
   "cell_type": "markdown",
   "id": "6e8e6f8a",
   "metadata": {},
   "source": [
    "> Lets walk through this code together, first we define a new class called Battery, this is not a child class, so it doesn't inherit any of the class attributes of Car or any other class for that matter. The init method inside of the Battery class only has one parameter battery_size (ovbs has self as well). This parameter sets the batterys default value to 75 if no value for the battery size is provided. We have also moved the describe battery method into the class Battery. \n",
    "\n",
    "> In the ElectricCar class, we add the attribute self.battery. This line tells python to create a new instance of the class Battery and assign that value (by default thats 75) to the attribute self.battery. This will happen everytime the init method is called, so any ElectricCar instance will now have a battery of 75 kilowatts unless explicitly stated otherwise. \n",
    "\n",
    "> We create an electric car called my_tesla, this is an instance of the child class ElectricCar. In ElectricCar we use the attribute that set in the class Battery. When we want to describe the battery we need to work through the cars battery attribute. The bottom line of code tells python to look at the instance my_tesla, find the battery attribute and then call the method describe_battery() thats associated with the Battery instance stored in the attribute "
   ]
  },
  {
   "cell_type": "markdown",
   "id": "447b98e2",
   "metadata": {},
   "source": [
    "This looks like a lot of extra work at the start but we can now expand our Battery class without cluttering the ElectricCar class with battery information. Lets add another method to Battery that reports the range of the car based on the battery size."
   ]
  },
  {
   "cell_type": "code",
   "execution_count": 23,
   "id": "bd55c581",
   "metadata": {},
   "outputs": [
    {
     "name": "stdout",
     "output_type": "stream",
     "text": [
      "2021 Tesla model x\n",
      "The battery size is 75 kilo watts.\n",
      "The car has a range of around 260 miles on a full charge.\n"
     ]
    }
   ],
   "source": [
    "class Car:\n",
    "    '''A simple representation of a car'''\n",
    "\n",
    "#   Setting up the init method (makes the instances of the class)\n",
    "    def __init__(self, make, model, year):\n",
    "        self.make = make\n",
    "        self.model = model\n",
    "        self.year = year\n",
    "#       Adding the default value for the attribute self.odometer_reading\n",
    "        self.odometer_reading = 0\n",
    "    \n",
    "#   Setting up the method that returns the information about the car\n",
    "    def get_descriptive_information(self):\n",
    "        '''Returns a neatly formatted description'''\n",
    "#       Creating a new variable to return to the call line using return\n",
    "        full_info = f\"{self.year} {self.make} {self.model}\"\n",
    "        return full_info\n",
    "    \n",
    "#   Setting up the method that reads the odometer \n",
    "    def read_odometer(self):\n",
    "        '''Print a string showing the cars milage'''\n",
    "#       Code that runs when we call the function\n",
    "        print(f\"This car has done {self.odometer_reading} miles.\")\n",
    "    \n",
    "#   Setting up a method that updates the odometer\n",
    "    def update_odometer(self, mileage):\n",
    "        ''''Set the odometer reading to the given value\n",
    "        reject any attempt to reverse milage'''\n",
    "        if mileage >= self.odometer_reading:\n",
    "            self.odometer_reading = mileage\n",
    "        else:\n",
    "            print(\"You cannot roll back mileage!\")\n",
    "\n",
    "#   Setting up the increment method\n",
    "    def increment_odometer(self, miles):\n",
    "        '''Increments value of attribute'''\n",
    "        self.odometer_reading += miles\n",
    "\n",
    "# Setting up the class Battery (not a child class)\n",
    "class Battery:\n",
    "    '''A simple attempt to model a battery for an electric car'''\n",
    "    \n",
    "#   Init method for initalising the instances \n",
    "    def __init__(self, battery_size:int=75):\n",
    "        self.battery_size = battery_size\n",
    "        \n",
    "#   Method to describe the battery\n",
    "    def describe_battery(self):\n",
    "        '''print statement of the size of the battery'''\n",
    "        print(f\"The battery size is {self.battery_size} kilo watts.\")\n",
    "        \n",
    "#   Method to report the range of the case based on the battery\n",
    "    def get_battery(self):\n",
    "        '''Prints the range of the car with a specific battery size'''\n",
    "        if self.battery_size == 75:\n",
    "            range = 260\n",
    "        elif self.battery_size == 100:\n",
    "            range = 315\n",
    "            \n",
    "        print(f\"The car has a range of around {range} miles on a full charge.\")\n",
    "    \n",
    "\n",
    "#   Setting up the child class called ElectricCar\n",
    "class ElectricCar(Car):\n",
    "        '''Represents aspects if a car that is specific to electric vehicals'''\n",
    "\n",
    "#       Setting up the init method of the child class with the parameters the same as the parent class\n",
    "        def __init__(self, make, model, year):\n",
    "            '''Initialize attributes of the parent class\n",
    "            Then initialise the attributes that are specific to the child class'''\n",
    "            super().__init__(make, model, year)\n",
    "#           Setting the attribute self.battery to equal the instance Battery, this equals the default value \n",
    "            self.battery = Battery()\n",
    "    \n",
    "\n",
    "my_telsa = ElectricCar('Tesla', 'model x', 2021)\n",
    "print(my_telsa.get_descriptive_information())\n",
    "# Notice we are using two instances, but one is set to a default value, this is followed by the method we want to call\n",
    "my_telsa.battery.describe_battery()\n",
    "# Calling the method get battery, we need to go through the battery attribute of Battery\n",
    "my_telsa.battery.get_battery()"
   ]
  },
  {
   "cell_type": "markdown",
   "id": "03c8c05b",
   "metadata": {},
   "source": [
    "> The new method get_range() performs a simple analyis. If the batterys capacity is 75 kilo watts, the get range function will set the range of the vehical to 260 miles, or if the battery size is 100 kilo watts it sets the range to 315. When we want to use this method, we again have to call it through the cars battery attribute. \n",
    "\n",
    "> The output displays us the range of the car based on the battery."
   ]
  },
  {
   "cell_type": "markdown",
   "id": "8749a7f3",
   "metadata": {},
   "source": [
    "I am going to try it again, to cement the information in my brain."
   ]
  },
  {
   "cell_type": "code",
   "execution_count": 24,
   "id": "4a5a581e",
   "metadata": {},
   "outputs": [
    {
     "name": "stdout",
     "output_type": "stream",
     "text": [
      "Tescos's CEO is Ken Murphy and their 2021 profit was 2.5 million.\n",
      "Apple's CEO is Tim Cook and their 2021 profit was 118 billion.\n",
      "The language they use is Swift.\n"
     ]
    }
   ],
   "source": [
    "class Company:\n",
    "    '''Simple represention of a company'''\n",
    "    \n",
    "#   Init method (makes in instances)\n",
    "    def __init__(self, name, ceo, profit):\n",
    "        self.name = name\n",
    "        self.ceo = ceo\n",
    "        self.profit = profit\n",
    "    \n",
    "    def collect_information(self):\n",
    "        '''returns a neatly formatted string of information'''\n",
    "        full_info = f\"{self.name}'s CEO is {self.ceo} and their 2021 profit was {self.profit}.\"\n",
    "        return full_info\n",
    "\n",
    "class Language:\n",
    "    '''Stores the language used by the company'''\n",
    "    \n",
    "    def __init__(self, pop_language='Swift'):\n",
    "        self.pop_language = pop_language\n",
    "        \n",
    "    def describe_language(self):\n",
    "        '''Prints off a string of the language used by the company'''\n",
    "        print(f\"The language they use is {self.pop_language}.\")\n",
    "              \n",
    "class TechCompany(Company):\n",
    "    '''Simple representation of a tech company'''\n",
    "    \n",
    "#   Init method to create instances, super() allows \n",
    "    def __init__(self, name, ceo, profit):\n",
    "#       Initalise the attributes of the parent class\n",
    "        super().__init__(name, ceo, profit)\n",
    "#       Initalise the attributes that are specific to the child class\n",
    "        self.popular_coding_language = Language()\n",
    "    \n",
    "    \n",
    "\n",
    "    \n",
    "# Creating an instance of the class Company\n",
    "normal_comp = Company(name='Tescos', ceo='Ken Murphy', profit='2.5 million')\n",
    "# Calling the method collect info for the instance we have created (we print because its a return)\n",
    "print(normal_comp.collect_information())\n",
    "# Creating a tech company instance\n",
    "tech_comp = TechCompany(name='Apple', ceo='Tim Cook', profit='118 billion')\n",
    "# Calling the method collect info for the instance we have created\n",
    "print(tech_comp.collect_information())\n",
    "# To get the language that apple uses we need to go through the attribute popular coding language\n",
    "tech_comp.popular_coding_language.describe_language()"
   ]
  },
  {
   "cell_type": "markdown",
   "id": "e8c3c8e2",
   "metadata": {},
   "source": [
    "> Lets run through this code, first we make a class called Company, this is where we will be able to create instances of any company we like. We initalise with the parameters name, ceo and profit and assign them to the attributes. This means that all methods inside of the class we be able to access them. We then have a method called collect information that neatly formats the attributes of the instance we have created, we assign the neatly formatted string to the variable full info and we return full info to the call line so we have to use the print statement. We also have a child class called TechCompany, this is a subclass so it it will get all of the attributes Company has, but this time we add another attribute called popular coding language. We set this attribute to equal the instance that is created in the class of Langauge, this means when we call describe language we have to go through the instance popular coding language that is equal to the isntance that is created when the init method is called in the Language class. "
   ]
  },
  {
   "cell_type": "markdown",
   "id": "7fcda647",
   "metadata": {},
   "source": [
    "### Modelling Real-World Objects\n",
    "\n",
    "As we begin to model more and more complex things like electric cars, we will soon have to wrestle with interesting questions, such as, is the range of an electric car a property of the car or the battery??? If we are only describing one car, its probably fine to maintain the assocation of the method get_range() with the Battery class. But if we are describing a whole range of cars it would be smart to move the get_range() method into the ElectricCar class. The get_range() method wil still check the battery size before determining the range, but it would report a range specific to the kind of car its associted with. We could also keep the code for get range in the Battery class but pass the variable car_model into it so the get_range() method will return a range value based on the model of the car. \n",
    "\n",
    "This step brings us to an interesting point in our journey to becoming a programmer!!! When we are thinking about things like this in a problem this means we are thinking on a much higher level than just on a raw syntax level, this will develop with time as we learn to think more and more like a programmer. When we are no longer thinking about python, but how to model the real world in our code! When we reach this point, there are often no right or wrong approaches, but there are some more efficient approaches than others, but it takes practice to find these. If the code works how we want it to, GREAT! Now go back and see if we can make it more efficient! In the quest to write accurate, efficient code, everyone goes through this process."
   ]
  },
  {
   "cell_type": "markdown",
   "id": "c2d1f881",
   "metadata": {},
   "source": [
    "## Tasks\n",
    "\n",
    "An ice cream stand is a specific kind of resturant. Write a class called IceCreamStand that inherits from the Restaurant class we have written before. Add an attribute called flavours that stores a list of ice cream flavours. Write a method that displays these flavours, create and instance of IceCreamStand and call this method. "
   ]
  },
  {
   "cell_type": "code",
   "execution_count": 25,
   "id": "8fa2b73b",
   "metadata": {},
   "outputs": [
    {
     "name": "stdout",
     "output_type": "stream",
     "text": [
      "Go to Davidsons if you want ice cream food.\n",
      "The list of iceream flavors in the shop are.\n",
      "Vanilla\n",
      "Chocolate\n",
      "Strawberry\n"
     ]
    }
   ],
   "source": [
    "# Creating a class\n",
    "class Restaurant():\n",
    "    '''Simple model of a resaurant'''\n",
    "#   Setting up init method that creates instances\n",
    "    def __init__(self, name, cuisine):\n",
    "        self.name = name\n",
    "        self.cuisine = cuisine\n",
    "\n",
    "#   Creating a method to descrbie the restaurant \n",
    "    def describe_restaurant(self):\n",
    "        print(f\"Go to {self.name} if you want {self.cuisine} food.\")\n",
    "    \n",
    "#   Creating a method to show the restaurant is open\n",
    "    def open_restaurant(self):\n",
    "        print(f\"{self.name} is now open for service.\")        \n",
    "\n",
    "# Creating a subclass \n",
    "class IceCreamStand(Restaurant):\n",
    "    '''Simple model of an ice cream stand'''\n",
    "    \n",
    "#   Init method\n",
    "    def __init__(self, name, cuisine):\n",
    "        '''Initalise the arrtibutes of the parent class, then add attribute of child class'''\n",
    "#       We dont include self in this\n",
    "        super().__init__(name, cuisine)\n",
    "        self.flavour = ['vanilla', 'chocolate', 'strawberry']\n",
    "    \n",
    "    def collect_flavours(self):\n",
    "        '''Prints off the list of icecream flavours in the shop'''\n",
    "        print(f\"The list of iceream flavors in the shop are.\")\n",
    "        for flavour in self.flavour:\n",
    "            print(flavour.title())\n",
    "\n",
    "# Creating an isntance of the child class\n",
    "ice_cream_shop = IceCreamStand('Davidsons', 'ice cream')\n",
    "# Calling the method describe restaurant with our ice cream shop\n",
    "ice_cream_shop.describe_restaurant()\n",
    "# Calling the method that displays that flavours that are assinged to the flavour attribute\n",
    "ice_cream_shop.collect_flavours()"
   ]
  },
  {
   "cell_type": "markdown",
   "id": "b9e7f237",
   "metadata": {},
   "source": [
    "An administrator is a special kind of user. Write a class called Admin that inherits from the User class we have written above. Add an attribute called privilages that stores a list of strings like 'can post', 'can delete post', 'can ban user' etc etc. Write a method called show_privileges() that lists the administrators set of privilages. Create an instance of Admin and call the method we have made. "
   ]
  },
  {
   "cell_type": "code",
   "execution_count": 26,
   "id": "f08455c1",
   "metadata": {},
   "outputs": [
    {
     "name": "stdout",
     "output_type": "stream",
     "text": [
      "The users name is Cameron Wheeler.\n",
      "Cameron is 22 years old.\n",
      "Email: cam123@gmail.com\n",
      "Location: Bath.\n",
      "\n",
      "These are the rights that the admin has that the normal users don't\n",
      "Can post\n",
      "Can delete post\n",
      "Can ban user\n"
     ]
    }
   ],
   "source": [
    "# Setting up the class User\n",
    "\n",
    "class User:\n",
    "    \"Creates user profile\"\n",
    "    \n",
    "#   Setting the init function --> creates the instance\n",
    "    def __init__(self, first_name, last_name, age, email, location):\n",
    "        self.first_name = first_name\n",
    "        self.last_name = last_name\n",
    "        self.age = age\n",
    "        self.email = email\n",
    "        self.location = location\n",
    "        self.login_attempts = 0\n",
    "        \n",
    "#   Setting up the method describe user, that prints a summary of the users information\n",
    "#   I think the reason we use self is because if we used the actual parameter in the function python wouldn't\n",
    "#   know what to use, as we are creating several objects with the different values for the parameters\n",
    "    def describe_user(self):\n",
    "        print(f\"The users name is {self.first_name.title()} {self.last_name.title()}.\")\n",
    "        print(f\"{self.first_name.title()} is {self.age} years old.\")\n",
    "        print(f\"Email: {self.email}\")\n",
    "        print(f\"Location: {self.location.title()}.\")\n",
    "\n",
    "#   Setting up greet user to print a personalised message\n",
    "    def greet_user(self):\n",
    "        print(f\"\\nHello {self.first_name.title()} we are happy to have you back online.\")\n",
    "        \n",
    "#   Setting up the login_attempts increment\n",
    "    def increment_login_attempts(self):\n",
    "        '''Increments the times the user has tried to log in'''\n",
    "        self.login_attempts += 1\n",
    "\n",
    "#   Resetting the loging attempts\n",
    "    def reset_login_attempts(self):\n",
    "        '''Resets the login attempts'''\n",
    "        self.login_attempts = 0\n",
    "        \n",
    "# Creating a child class\n",
    "class Admin(User):\n",
    "    '''Creates and admin profile'''\n",
    "    \n",
    "    def __init__(self, first_name, last_name, age, email, location):\n",
    "        '''Initalise attributes of the parent class\n",
    "        The initalise the attributes of the child class'''\n",
    "        \n",
    "        super().__init__(first_name, last_name, age, email, location)\n",
    "        self.privileges = ['Can post', 'Can delete post', 'Can ban user']\n",
    "        \n",
    "    def show_privileges(self):\n",
    "        '''Prints off the privilages that the Admin user has'''\n",
    "        print(\"\\nThese are the rights that the admin has that the normal users don't\")\n",
    "        for privilage in self.privileges:\n",
    "            print(privilage)\n",
    "\n",
    "# Creating an Admin instance\n",
    "admin_cameron = Admin(first_name='Cameron', last_name='Wheeler', age=22, email='cam123@gmail.com', location='Bath')\n",
    "# Calling the describe user method\n",
    "admin_cameron.describe_user()\n",
    "# Calling the show privileges method\n",
    "admin_cameron.show_privileges()"
   ]
  },
  {
   "cell_type": "markdown",
   "id": "85902e22",
   "metadata": {},
   "source": [
    "Write a seperate Privilages class, the class should have one attribute called privileges that stores a list of strings like above. Move the show_privileges() method into the Privilages class. Make an instance of the Privilages class as an attribute of the Admin class. Create a new instance of Admin and use your method to show its privileges"
   ]
  },
  {
   "cell_type": "code",
   "execution_count": 27,
   "id": "9e0e7330",
   "metadata": {},
   "outputs": [
    {
     "name": "stdout",
     "output_type": "stream",
     "text": [
      "The users name is Cameron Wheeler.\n",
      "Cameron is 22 years old.\n",
      "Email: cam123@gmail.com\n",
      "Location: Bath.\n",
      "\n",
      "These are the rights that the admin has that the normal users don't\n",
      "Can post\n",
      "Can delete post\n",
      "Can ban user\n"
     ]
    }
   ],
   "source": [
    "# Setting up the class User\n",
    "\n",
    "class User:\n",
    "    \"Creates user profile\"\n",
    "    \n",
    "#   Setting the init function --> creates the instance\n",
    "    def __init__(self, first_name, last_name, age, email, location):\n",
    "        self.first_name = first_name\n",
    "        self.last_name = last_name\n",
    "        self.age = age\n",
    "        self.email = email\n",
    "        self.location = location\n",
    "        self.login_attempts = 0\n",
    "        \n",
    "#   Setting up the method describe user, that prints a summary of the users information\n",
    "#   I think the reason we use self is because if we used the actual parameter in the function python wouldn't\n",
    "#   know what to use, as we are creating several objects with the different values for the parameters\n",
    "    def describe_user(self):\n",
    "        print(f\"The users name is {self.first_name.title()} {self.last_name.title()}.\")\n",
    "        print(f\"{self.first_name.title()} is {self.age} years old.\")\n",
    "        print(f\"Email: {self.email}\")\n",
    "        print(f\"Location: {self.location.title()}.\")\n",
    "\n",
    "#   Setting up greet user to print a personalised message\n",
    "    def greet_user(self):\n",
    "        print(f\"\\nHello {self.first_name.title()} we are happy to have you back online.\")\n",
    "        \n",
    "# Creating the privileges class\n",
    "class Privileges:\n",
    "    '''Class that represents the privilages that the admin has'''\n",
    "    \n",
    "#   I have passed them as a default value, but im not sure if this is the right way\n",
    "#   Nah this is right, becuase the admin privileges are set in stone. \n",
    "    def __init__(self, privileges=['Can post', 'Can delete post', 'Can ban user']):\n",
    "        self.privileges = privileges\n",
    "    \n",
    "    def show_privileges(self):\n",
    "        '''Prints off the privilages that the Admin user has'''\n",
    "        print(\"\\nThese are the rights that the admin has that the normal users don't\")\n",
    "        for privilage in self.privileges:\n",
    "            print(privilage)\n",
    "        \n",
    "# Creating a child class\n",
    "class Admin(User):\n",
    "    '''Creates and admin profile'''\n",
    "    \n",
    "    def __init__(self, first_name, last_name, age, email, location):\n",
    "        '''Initalise attributes of the parent class\n",
    "        The initalise the attributes of the child class'''\n",
    "        \n",
    "        super().__init__(first_name, last_name, age, email, location)\n",
    "        self.admin_priv = Privileges()\n",
    "\n",
    "        \n",
    "# Creating an Admin instance\n",
    "admin_cameron = Admin(first_name='Cameron', last_name='Wheeler', age=22, email='cam123@gmail.com', location='Bath')\n",
    "# Calling the method describe_user()\n",
    "admin_cameron.describe_user()\n",
    "# Calling the method show privileges through the attribute admin_priv\n",
    "admin_cameron.admin_priv.show_privileges()"
   ]
  },
  {
   "cell_type": "markdown",
   "id": "2f4645c9",
   "metadata": {},
   "source": [
    "Use the final version of electric_car from this section. Add a method to the Battery class called upgrade_battery(). This method should check the battery size and set the capacity to 100 if it isnt already. Make an electric car with a default value battery, call get_range and then call it again after we have upgraded the battery. You shold see an increase in the cars range. "
   ]
  },
  {
   "cell_type": "code",
   "execution_count": 28,
   "id": "1a0aeeab",
   "metadata": {},
   "outputs": [
    {
     "name": "stdout",
     "output_type": "stream",
     "text": [
      "2021 Tesla model x\n",
      "The car has a range of around 260 miles on a full charge.\n",
      "The battery has been upgraded to 100 kWh.\n",
      "The car has a range of around 315 miles on a full charge.\n"
     ]
    }
   ],
   "source": [
    "class Car:\n",
    "    '''A simple representation of a car'''\n",
    "\n",
    "#   Setting up the init method (makes the instances of the class)\n",
    "    def __init__(self, make, model, year):\n",
    "        self.make = make\n",
    "        self.model = model\n",
    "        self.year = year\n",
    "#       Adding the default value for the attribute self.odometer_reading\n",
    "        self.odometer_reading = 0\n",
    "    \n",
    "#   Setting up the method that returns the information about the car\n",
    "    def get_descriptive_information(self):\n",
    "        '''Returns a neatly formatted description'''\n",
    "#       Creating a new variable to return to the call line using return\n",
    "        full_info = f\"{self.year} {self.make} {self.model}\"\n",
    "        return full_info\n",
    "    \n",
    "#   Setting up the method that reads the odometer \n",
    "    def read_odometer(self):\n",
    "        '''Print a string showing the cars milage'''\n",
    "#       Code that runs when we call the function\n",
    "        print(f\"This car has done {self.odometer_reading} miles.\")\n",
    "    \n",
    "#   Setting up a method that updates the odometer\n",
    "    def update_odometer(self, mileage):\n",
    "        ''''Set the odometer reading to the given value\n",
    "        reject any attempt to reverse milage'''\n",
    "        if mileage >= self.odometer_reading:\n",
    "            self.odometer_reading = mileage\n",
    "        else:\n",
    "            print(\"You cannot roll back mileage!\")\n",
    "\n",
    "#   Setting up the increment method\n",
    "    def increment_odometer(self, miles):\n",
    "        '''Increments value of attribute'''\n",
    "        self.odometer_reading += miles\n",
    "\n",
    "# Setting up the class Battery (not a child class)\n",
    "class Battery:\n",
    "    '''A simple attempt to model a battery for an electric car'''\n",
    "    \n",
    "#   Init method for initalising the instances \n",
    "    def __init__(self, battery_size:int=75):\n",
    "        self.battery_size = battery_size\n",
    "        \n",
    "#   Method to describe the battery\n",
    "    def describe_battery(self):\n",
    "        '''print statement of the size of the battery'''\n",
    "        print(f\"The battery size is {self.battery_size} kilo watts.\")\n",
    "        \n",
    "#   Method to report the range of the case based on the battery\n",
    "    def get_battery(self):\n",
    "        '''Prints the range of the car with a specific battery size'''\n",
    "        if self.battery_size == 75:\n",
    "            range = 260\n",
    "        elif self.battery_size == 100:\n",
    "            range = 315\n",
    "            \n",
    "        print(f\"The car has a range of around {range} miles on a full charge.\")\n",
    "        \n",
    "    def upgrade_battery(self):\n",
    "        '''Upgrades the battery size'''\n",
    "        if self.battery_size == 75:\n",
    "            self.battery_size += 25\n",
    "            print(f\"The battery has been upgraded to {self.battery_size} kWh.\")\n",
    "        elif self.battery_size == 100:\n",
    "            print(f\"The battery size is alread at the maximum limit.\")\n",
    "    \n",
    "\n",
    "#   Setting up the child class called ElectricCar\n",
    "class ElectricCar(Car):\n",
    "        '''Represents aspects if a car that is specific to electric vehicals'''\n",
    "\n",
    "#       Setting up the init method of the child class with the parameters the same as the parent class\n",
    "        def __init__(self, make, model, year):\n",
    "            '''Initialize attributes of the parent class\n",
    "            Then initialise the attributes that are specific to the child class'''\n",
    "            super().__init__(make, model, year)\n",
    "#           Setting the attribute self.battery to equal the instance Battery, this equals the default value \n",
    "            self.battery = Battery()\n",
    "    \n",
    "# Creating an instance on electric car\n",
    "my_telsa = ElectricCar('Tesla', 'model x', 2021)\n",
    "# Calling the get descriptive information function\n",
    "print(my_telsa.get_descriptive_information())\n",
    "# Calling the get range function with my tesla\n",
    "my_telsa.battery.get_battery()\n",
    "# Upgrading the battery through the upgrade battery method\n",
    "# Need to do this through the battery attribute\n",
    "my_telsa.battery.upgrade_battery()\n",
    "# calling the get range function again \n",
    "my_telsa.battery.get_battery()"
   ]
  },
  {
   "cell_type": "markdown",
   "id": "cd38586f",
   "metadata": {},
   "source": [
    "The way I think the attribute as instance works is that we are creating an class called Battery, and when we create an instance from battery it is given the attribute battery_size which has the default value. In the child class we initalise the object created with the attribute self.battery and this equals Battery() which means python will go to the Battery class and create an instance so self.battery attribute that our instance has equals self.battery_size which is 75 as default. When we call the upgrade battery method, we have to access this through the battery attribute which goes to the Battery class, and calls the upgrade battery method which sets the battery size to 100."
   ]
  },
  {
   "cell_type": "markdown",
   "id": "850ceba0",
   "metadata": {},
   "source": [
    "## Importing Classes\n",
    "\n",
    "As we add more functionality to your classes, youe files can get long, even when we are using inheritance properly. In keeping with the overall philosophy on Python, we need to keep our files as unclutterd as possible. To help, python lets us store classees in modules (like functions) and we can import them into our main program. \n",
    "\n",
    "## Importing A Single Class\n",
    "\n",
    "Let's create a module contraining just the Car class. We need to name this module car.py. From now on any program that uses this module will need a more specific file name such as my_car.py. This module will contain just the code for the class Car. No subclasses or anything.\n",
    "\n",
    "We will include a module level docstring that describes the contents of this module. Please see the notebook called car.py to see the class!"
   ]
  },
  {
   "cell_type": "code",
   "execution_count": 35,
   "id": "e800b9f2",
   "metadata": {},
   "outputs": [
    {
     "name": "stdout",
     "output_type": "stream",
     "text": [
      "2022 Tesla Model X\n",
      "This car has done 20 miles.\n"
     ]
    }
   ],
   "source": [
    "from car import Car\n",
    "\n",
    "# Creating an instance of the class car\n",
    "my_fav_car = Car(make='Tesla', model='Model X', year=2022)\n",
    "# Printing the descriptive name\n",
    "print(my_fav_car.get_descriptive_information())\n",
    "\n",
    "# Setting the new odometer reading after I have been for a test drive\n",
    "my_fav_car.odometer_reading = 20\n",
    "# Calling the read odometer method\n",
    "my_fav_car.read_odometer()"
   ]
  },
  {
   "cell_type": "markdown",
   "id": "aac544c3",
   "metadata": {},
   "source": [
    "> The import statement tells python to open the car module and import the class Car. Now we can use the Car class if it were defined in this file. The output is the same as we saw earlier. \n"
   ]
  },
  {
   "cell_type": "markdown",
   "id": "8d7b5c8b",
   "metadata": {},
   "source": [
    "Importing classes is an effecitve way to program. Picture how long this program file would be if the entire Car class were included inside of this program. When you instead move the class to a module and import them module, you still get all the same functionality, but you keep your main program file clean and easy to read. You also store most of hte logic in seperated files; once our classes work as we want them too, we can put them away and focus on teh highler level of logic in the main program. "
   ]
  },
  {
   "cell_type": "markdown",
   "id": "7fee9a57",
   "metadata": {},
   "source": [
    "### Storing Multiple Classes In A Module\n",
    "\n",
    "We can store as many classes as we need in a single module, although each class in a module should be related in some way. The classes Battery and ElectricCar both help represent cars so it would be ideal that they are stored in the same module. Lets add them to the car.py file. "
   ]
  },
  {
   "cell_type": "code",
   "execution_count": 36,
   "id": "0599323c",
   "metadata": {},
   "outputs": [
    {
     "name": "stdout",
     "output_type": "stream",
     "text": [
      "2022 Tesla Model x\n",
      "The battery size is 75 kilo watts.\n",
      "The car has a range of around 260 miles on a full charge.\n"
     ]
    }
   ],
   "source": [
    "# Importing the child class\n",
    "from car2 import ElectricCar\n",
    "\n",
    "# Creating an electric car instance\n",
    "my_tesla = ElectricCar(make='Tesla', model='Model x', year=2022)\n",
    "# Getting the info\n",
    "print(my_tesla.get_descriptive_information())\n",
    "# Getting the battery size\n",
    "my_tesla.battery.describe_battery()\n",
    "# Getting the battery range\n",
    "my_tesla.battery.get_battery()"
   ]
  },
  {
   "cell_type": "markdown",
   "id": "cbb7d898",
   "metadata": {},
   "source": [
    "> Here we are importing the child class ElectricCar, by the looks of it, becuase the class Battery is an attribute of the class ElectericCar I assume that gets imported as well, as we have not had to explicity import it in. In the code, we create and ElectricCar instance, print the information we have about the car, we access the battery size and battery range method through the battery attribute. This means we can get the same output as the program before without having all of the clutter. "
   ]
  },
  {
   "cell_type": "markdown",
   "id": "44f85bc7",
   "metadata": {},
   "source": [
    "### Importing Multiple Classes From A Module\n",
    "\n",
    "We can also import as many classes as you need into a program file. If we want to make a regular car and an electric car in the same file, we need to import both classes. "
   ]
  },
  {
   "cell_type": "code",
   "execution_count": 52,
   "id": "349eb9c2",
   "metadata": {},
   "outputs": [
    {
     "name": "stdout",
     "output_type": "stream",
     "text": [
      "2019 Ford Fiesta\n",
      "2022 Tesla Model X\n"
     ]
    }
   ],
   "source": [
    "# Import both classes\n",
    "from car2 import Car, ElectricCar\n",
    "\n",
    "# Creating the instance and getting the infromation\n",
    "my_ford = Car(make='Ford', model='Fiesta', year=2019)\n",
    "print(my_ford.get_descriptive_information())\n",
    "\n",
    "# Creating the instance and getting the info\n",
    "my_tesla = ElectricCar(make='Tesla', model='Model X', year=2022)\n",
    "print(my_tesla.get_descriptive_information())"
   ]
  },
  {
   "cell_type": "markdown",
   "id": "7e594c80",
   "metadata": {},
   "source": [
    "### Importing An Entire Module\n",
    "\n",
    "You can also import an entire module and then access the classes you need using the dot notation. This approach is simple and results in the code that is easy to read, because every call that creates an instance of a class includes the module name, we won't have naming conflicts with any names used in the current file.\n",
    "\n",
    "Below shows what is looks like to import the entire car module then create a regular car and an electric car"
   ]
  },
  {
   "cell_type": "code",
   "execution_count": 48,
   "id": "2585bf94",
   "metadata": {},
   "outputs": [
    {
     "name": "stdout",
     "output_type": "stream",
     "text": [
      "2019 Ford Fiesta\n",
      "2022 Tesla Model X\n"
     ]
    }
   ],
   "source": [
    "import electric_car\n",
    "\n",
    "# Creating an instance using dot notation\n",
    "my_ford = car2.Car(make='Ford', model='Fiesta', year=2019)\n",
    "print(my_ford.get_descriptive_information())\n",
    "\n",
    "# Creating an instance using dot notation\n",
    "my_tesla = car2.ElectricCar(make='Tesla', model='Model X', year=2022)\n",
    "print(my_tesla.get_descriptive_information())"
   ]
  },
  {
   "cell_type": "markdown",
   "id": "37a22bb8",
   "metadata": {},
   "source": [
    "> Lets run through this code, but it is quite easy to understand. We are creating the instances using the dot notation, so we place the module car (the file name) followed by .class that we want to use."
   ]
  },
  {
   "cell_type": "markdown",
   "id": "55c8b3f0",
   "metadata": {},
   "source": [
    "### Importing All Classes From A Module\n",
    "\n",
    "You can import every class from a module using the following syntax\n",
    "\n",
    "from module_name import * (just like importing all of the functions from a module) \n",
    "\n",
    "This method is not recommended for two reasons. First it is helpful to read the import statment at the top of the file to see what we are explicitly importing. With this approach it is unclear what kind of classes are imported, we can also accidently import a class that has the same name as something in our program that we are running which is cause a LOAD of errors. Again like importing functions we probs shouldn't use this in our code, but the author put it in the book just in case we see it in other peoples code. \n",
    "\n",
    "If we need to import a class it is better importing the entire module in like above and then creating instances using the dot notation. Although we won't see all the classes when we import, we will see specifically what class we are using when creating instances in our program. "
   ]
  },
  {
   "cell_type": "markdown",
   "id": "b2f04284",
   "metadata": {},
   "source": [
    "### Importing A Module Into A Module\n",
    "\n",
    "Sometimes we will want to spread out our classes over several modules to stop one file from becoming to big and cluttered or avoiding storing classes than don't relate to eachother in the same module. When we sotre our classes in several modules you may find that a class in one module depends on a class in another module. When this happens you can import the required class into the module. \n",
    "\n",
    "For example lets store the Car class in one module and the ElectricCar and Battery classes in another. See the .py file that shows the importing of the Car class into the module"
   ]
  },
  {
   "cell_type": "code",
   "execution_count": 51,
   "id": "2cf44b23",
   "metadata": {},
   "outputs": [
    {
     "name": "stdout",
     "output_type": "stream",
     "text": [
      "2019 Ford Fiesta\n",
      "2022 Tesla Model X\n"
     ]
    }
   ],
   "source": [
    "# So we have had to import the Car class into electric car as it needs it to run\n",
    "# We also need to explicitly import the Car class into our program as well\n",
    "from car import Car\n",
    "from car2 import ElectricCar\n",
    "\n",
    "# Creating an instance (note we arn't using the dot notation as we have imported the classes we want explicitly)\n",
    "my_ford = Car(make='Ford', model='Fiesta', year=2019)\n",
    "print(my_ford.get_descriptive_information())\n",
    "\n",
    "# Creating an instance (note we dont use dot notataion )\n",
    "my_tesla = ElectricCar(make='Tesla', model='Model X', year=2022)\n",
    "print(my_tesla.get_descriptive_information())"
   ]
  },
  {
   "cell_type": "markdown",
   "id": "670d970f",
   "metadata": {},
   "source": [
    "### Using Aliases\n",
    "\n",
    "As you saw in Chapter 8 we can use aliases when we are usin modules to organise our projects code. You can use aliases when importing classes as well. As an example consider a program where you want to make a bunch of electric cars. It might get tedious to type and read electric car over and over and over. So we can give ElectricCar an alias in the import statment\n",
    "\n",
    "from electric_car import ElectricCar as EC"
   ]
  },
  {
   "cell_type": "markdown",
   "id": "33f129c3",
   "metadata": {},
   "source": [
    "### Finding Our Own Workflow\n",
    "\n",
    "As we have been shown python gives us SO MANY options for how to structure our code in a large project. It is important to know all of these possibilites so you can determine the best ways to organise our projects as well as understand other peoples project. When we are starting out keep our code strucuture simple, try doing everything in one file and then moving all of our modules into seperate files and make them all interact once everything is working. Or if we like how modules and files interact, try making and storing our classes in different modules at the start of the project and build bit by bit. Find an approach that works for us and go from there.  "
   ]
  },
  {
   "cell_type": "markdown",
   "id": "00e48652",
   "metadata": {},
   "source": [
    "## Tasks\n",
    "\n",
    "Using your latest Restaurant class, store it in a module and make a seperate file that imports the restaurant. Make a Restaurant instance and call one of the restaurants methods to show that the import statement has worked."
   ]
  },
  {
   "cell_type": "code",
   "execution_count": 54,
   "id": "657260f6",
   "metadata": {},
   "outputs": [
    {
     "name": "stdout",
     "output_type": "stream",
     "text": [
      "Go to McDonalds if you want junk food.\n"
     ]
    }
   ],
   "source": [
    "# Importing the class restaurant from the module restaurant\n",
    "from restaurant import Restaurant\n",
    "\n",
    "# Creating a restaurant instance \n",
    "my_fav_restaurant = Restaurant(name='McDonalds', cuisine='junk')\n",
    "# Calling a method \n",
    "my_fav_restaurant.describe_restaurant()"
   ]
  },
  {
   "cell_type": "markdown",
   "id": "9c8e127d",
   "metadata": {},
   "source": [
    "Starting with our work from the priviledges class, store the classes User, Privileges and Admin in one module. Createa separate file, make an admin instance, and call show privilges to show that everything is working okay."
   ]
  },
  {
   "cell_type": "code",
   "execution_count": 56,
   "id": "952f2e48",
   "metadata": {},
   "outputs": [
    {
     "name": "stdout",
     "output_type": "stream",
     "text": [
      "\n",
      "These are the rights that the admin has that the normal users don't\n",
      "Can post\n",
      "Can delete post\n",
      "Can ban user\n"
     ]
    }
   ],
   "source": [
    "from users import User\n",
    "from users import Privileges\n",
    "from users import Admin\n",
    "\n",
    "# Creating an admin instance\n",
    "admin_cameron = Admin(first_name='Cameron', last_name='Wheeler', age=22, email='camwheeler123@gmail.com', location='Bath')\n",
    "# Showing the privleges, we are going through the admin_priv attribute that is the instance of privleges\n",
    "admin_cameron.admin_priv.show_privileges()"
   ]
  },
  {
   "cell_type": "markdown",
   "id": "a66251fe",
   "metadata": {},
   "source": [
    "Store the User class in one module and store the Privileges andA Admin classes in another module. In a seperate file, create an admin instance and call the show privilages to show that everything still works correctly. "
   ]
  },
  {
   "cell_type": "code",
   "execution_count": 58,
   "id": "b9678fb8",
   "metadata": {},
   "outputs": [
    {
     "name": "stdout",
     "output_type": "stream",
     "text": [
      "\n",
      "These are the rights that the admin has that the normal users don't\n",
      "Can post\n",
      "Can delete post\n",
      "Can ban user\n"
     ]
    }
   ],
   "source": [
    "from users import User\n",
    "from admin_and_priv import Privileges\n",
    "from admin_and_priv import Admin\n",
    "\n",
    "# Creating an admin instance \n",
    "admin_cameron = Admin(first_name='Cameron', last_name='Wheeler', age=22, email='camwheeler123@gmail.com', location='Bath')\n",
    "# Showing the privleges, we are going through the admin_priv attribute that is the instance of privleges\n",
    "admin_cameron.admin_priv.show_privileges()"
   ]
  },
  {
   "cell_type": "markdown",
   "id": "29ca8049",
   "metadata": {},
   "source": [
    "## The Python Standard Library \n",
    "\n",
    "The pytho standard library is a set of modules included with every python installation. Now that we have the basic understanding of how functions classes work we can start to use modules like these that other progammers have written. You can use any function or class in the standard library by including a simple import statement at the top of our file. Lets look at 'random' which can be useful to modeling many real world situations.\n",
    "\n",
    "One interesting function from the randome module is randint(). This function takes two integer arguments and randomly returns a randomly selecting integer (can be one of those two numbers too).\n",
    "\n",
    "Here is how we generate a random number between 1 and 6"
   ]
  },
  {
   "cell_type": "code",
   "execution_count": 59,
   "id": "0f4f8467",
   "metadata": {},
   "outputs": [
    {
     "data": {
      "text/plain": [
       "6"
      ]
     },
     "execution_count": 59,
     "metadata": {},
     "output_type": "execute_result"
    }
   ],
   "source": [
    "from random import randint\n",
    "\n",
    "randint(1,6)"
   ]
  },
  {
   "cell_type": "markdown",
   "id": "38f7be1e",
   "metadata": {},
   "source": [
    "Another important function is choice(). This function take a list or tuple and returns a randomly chosen element"
   ]
  },
  {
   "cell_type": "code",
   "execution_count": 60,
   "id": "1127770c",
   "metadata": {},
   "outputs": [
    {
     "name": "stdout",
     "output_type": "stream",
     "text": [
      "Apple\n"
     ]
    }
   ],
   "source": [
    "from random import choice\n",
    "\n",
    "tech_companies = ['Apple', 'Dell', 'Microsoft', 'AMD']\n",
    "\n",
    "top_company = choice(tech_companies)\n",
    "\n",
    "print(top_company)"
   ]
  },
  {
   "cell_type": "markdown",
   "id": "e54e5266",
   "metadata": {},
   "source": [
    "Don't use random modules if we are building security related applications, but its good enough for many fun and interesting projects. We can also download modules from external sources. Youll see a number of these examples further on in this notebook where we will need external modules to complete each project. "
   ]
  },
  {
   "cell_type": "markdown",
   "id": "07a28027",
   "metadata": {},
   "source": [
    "## Tasks\n",
    "\n",
    "Make a class Dice with one attribute called sides, which has a default value of 6. Write a method called roll dice, that prints a random number between one and then number of side the dice has. Make a 6 sided dice and roll it 10 times."
   ]
  },
  {
   "cell_type": "code",
   "execution_count": 61,
   "id": "2e3e7b46",
   "metadata": {},
   "outputs": [
    {
     "name": "stdout",
     "output_type": "stream",
     "text": [
      "The dice landed on 3.\n"
     ]
    }
   ],
   "source": [
    "# Importing relevent modules\n",
    "from random import randint\n",
    "\n",
    "# Creating the class\n",
    "class Dice:\n",
    "    '''Simple representation of a dice'''\n",
    "    \n",
    "    def __init__(self, sides=6):\n",
    "        '''Initating the instances'''\n",
    "        self.sides = sides\n",
    "    \n",
    "    def roll_dice(self):\n",
    "        '''Simulates dice rolling'''\n",
    "        dice_roll = randint(1, self.sides)\n",
    "        print(f\"The dice landed on {dice_roll}.\")\n",
    "\n",
    "        \n",
    "# Creating a dice instance\n",
    "dice = Dice()\n",
    "# Calling the dice roll function\n",
    "dice.roll_dice()"
   ]
  },
  {
   "cell_type": "markdown",
   "id": "56bd5921",
   "metadata": {},
   "source": [
    "Make a list containing a series of 10 numbers and 5 letters. Randomly select four numbers or letters from the list and print a message saying that any ticket matching the numbers and letters wins a prize. "
   ]
  },
  {
   "cell_type": "code",
   "execution_count": 62,
   "id": "50b32ac7",
   "metadata": {},
   "outputs": [
    {
     "name": "stdout",
     "output_type": "stream",
     "text": [
      "[3, 7, 16, 2, 13, 'b', 'f', 'c']\n"
     ]
    }
   ],
   "source": [
    "# Importing appropriate modules \n",
    "from random import randint\n",
    "from random import choice\n",
    "\n",
    "# Creating a class\n",
    "class Lottery:\n",
    "    '''Simple representation of a lottery draw'''\n",
    "    \n",
    "    def __init__(self, final_list=[]):\n",
    "        '''Creating an instance'''\n",
    "        self.final_list = final_list\n",
    "       \n",
    "        \n",
    "    def numbers_draw(self):\n",
    "        '''Simulates number draw '''\n",
    "        flag = 0\n",
    "        \n",
    "        while flag <= 4:\n",
    "            choose_number = randint(1, 20)\n",
    "            self.final_list.append(choose_number)\n",
    "            flag += 1\n",
    "            \n",
    "\n",
    "    def letters_draw(self):\n",
    "        '''simulates letters draw'''\n",
    "        \n",
    "        letters = ['a', 'b', 'c', 'd', 'e', 'f', 'g']\n",
    "        \n",
    "        flag = 0 \n",
    "        \n",
    "        while flag <= 2:\n",
    "            choose_letter = choice(letters)\n",
    "            self.final_list.append(choose_letter)\n",
    "            flag += 1\n",
    "    \n",
    "\n",
    "# Create a lottery instance\n",
    "winning_ticket = Lottery()\n",
    "# Calling the functions \n",
    "winning_ticket.numbers_draw()\n",
    "winning_ticket.letters_draw()\n",
    "# Printing the final list, so we use the instance then the attribute\n",
    "print(winning_ticket.final_list)"
   ]
  },
  {
   "cell_type": "markdown",
   "id": "f526b2c0",
   "metadata": {},
   "source": [
    "You can use a loop to see how hard it might be to win the kind of lottery you just modeled. Make a list or a tuple called my_ticket. Write a loop that keeps pulling numbers until your ticket wins. Print a message reporting how many times the loop has been run to give you a winning ticket. "
   ]
  },
  {
   "cell_type": "code",
   "execution_count": 63,
   "id": "297d9da1",
   "metadata": {},
   "outputs": [
    {
     "name": "stdout",
     "output_type": "stream",
     "text": [
      "[4, 'c']\n",
      "[1, 'c']\n",
      "[5, 'b']\n",
      "[1, 'c']\n",
      "[3, 'a']\n",
      "[1, 'c']\n",
      "[2, 'b']\n",
      "[1, 'c']\n",
      "[4, 'b']\n",
      "[1, 'c']\n",
      "[5, 'c']\n",
      "[1, 'c']\n",
      "[2, 'b']\n",
      "[1, 'c']\n",
      "[3, 'a']\n",
      "[1, 'c']\n",
      "[5, 'c']\n",
      "[1, 'c']\n",
      "[4, 'b']\n",
      "[1, 'c']\n",
      "[1, 'a']\n",
      "[1, 'c']\n",
      "[4, 'a']\n",
      "[1, 'c']\n",
      "[5, 'c']\n",
      "[1, 'c']\n",
      "[5, 'b']\n",
      "[1, 'c']\n",
      "[1, 'a']\n",
      "[1, 'c']\n",
      "[2, 'a']\n",
      "[1, 'c']\n",
      "[3, 'b']\n",
      "[1, 'c']\n",
      "[3, 'a']\n",
      "[1, 'c']\n",
      "[4, 'a']\n",
      "[1, 'c']\n",
      "[1, 'b']\n",
      "[1, 'c']\n",
      "[3, 'c']\n",
      "[1, 'c']\n",
      "[4, 'a']\n",
      "[1, 'c']\n",
      "[4, 'a']\n",
      "[1, 'c']\n",
      "[1, 'a']\n",
      "[1, 'c']\n",
      "[3, 'b']\n",
      "[1, 'c']\n",
      "[4, 'c']\n",
      "[1, 'c']\n",
      "[3, 'a']\n",
      "[1, 'c']\n",
      "[1, 'b']\n",
      "[1, 'c']\n",
      "[4, 'b']\n",
      "[1, 'c']\n",
      "[2, 'a']\n",
      "[1, 'c']\n",
      "[1, 'b']\n",
      "[1, 'c']\n",
      "[4, 'b']\n",
      "[1, 'c']\n",
      "[3, 'c']\n",
      "[1, 'c']\n",
      "[4, 'a']\n",
      "[1, 'c']\n",
      "[1, 'b']\n",
      "[1, 'c']\n",
      "[1, 'a']\n",
      "[1, 'c']\n",
      "[3, 'b']\n",
      "[1, 'c']\n",
      "[4, 'b']\n",
      "[1, 'c']\n",
      "[4, 'a']\n",
      "[1, 'c']\n",
      "[5, 'a']\n",
      "[1, 'c']\n",
      "[5, 'a']\n",
      "[1, 'c']\n",
      "[2, 'a']\n",
      "[1, 'c']\n",
      "[3, 'a']\n",
      "[1, 'c']\n",
      "[3, 'a']\n",
      "[1, 'c']\n",
      "[5, 'a']\n",
      "[1, 'c']\n",
      "[2, 'c']\n",
      "[1, 'c']\n",
      "[3, 'b']\n",
      "[1, 'c']\n",
      "[3, 'c']\n",
      "[1, 'c']\n",
      "[4, 'a']\n",
      "[1, 'c']\n",
      "[4, 'a']\n",
      "[1, 'c']\n",
      "[2, 'b']\n",
      "[1, 'c']\n",
      "[1, 'b']\n",
      "[1, 'c']\n",
      "[5, 'a']\n",
      "[1, 'c']\n",
      "[2, 'b']\n",
      "[1, 'c']\n",
      "[1, 'c']\n",
      "[1, 'c']\n",
      "---YOU HAVE WON---\n",
      "The amount of times the draw happened before you won = 54 times\n"
     ]
    }
   ],
   "source": [
    "# Importing appropriate modules \n",
    "from random import randint\n",
    "from random import choice\n",
    "\n",
    "# Creating a class\n",
    "class Lottery:\n",
    "    '''Simple representation of a lottery draw'''\n",
    "    \n",
    "    def __init__(self, final_list=[]):\n",
    "        '''Creating an instance'''\n",
    "        self.final_list = final_list\n",
    "       \n",
    "        \n",
    "    def numbers_draw(self):\n",
    "        '''Simulates number draw '''\n",
    "        flag = 0\n",
    "        \n",
    "        while flag < 1:\n",
    "            choose_number = randint(1, 5)\n",
    "            self.final_list.append(choose_number)\n",
    "            flag += 1\n",
    "            \n",
    "\n",
    "    def letters_draw(self):\n",
    "        '''simulates letters draw'''\n",
    "        \n",
    "        letters = ['a', 'b', 'c']\n",
    "        \n",
    "        flag = 0 \n",
    "        \n",
    "        while flag < 1:\n",
    "            choose_letter = choice(letters)\n",
    "            self.final_list.append(choose_letter)\n",
    "            flag += 1\n",
    "    \n",
    "    def reset_draw(self):\n",
    "        self.final_list=[]\n",
    "        \n",
    "class MyTicket:\n",
    "    '''Creates a persons ticket'''\n",
    "    \n",
    "    def __init__(self, my_ticket):\n",
    "        self.my_ticket = my_ticket\n",
    "\n",
    "chosen_ticket = [1, 'c']\n",
    "\n",
    "# Setting the flag\n",
    "flag = True\n",
    "counter = 0\n",
    "\n",
    "#   Create the instances\n",
    "draw_ticket = Lottery()\n",
    "camerons_ticket = MyTicket(chosen_ticket)\n",
    "\n",
    "# While loop \n",
    "while flag == True:\n",
    "    draw_ticket.reset_draw()\n",
    "#   Draw the numbers and letters \n",
    "    draw_ticket.numbers_draw()\n",
    "    draw_ticket.letters_draw()\n",
    "#   Printing the winning ticket\n",
    "    print(draw_ticket.final_list)\n",
    "    print(camerons_ticket.my_ticket)\n",
    "#   Comparing the two \n",
    "    if draw_ticket.final_list == camerons_ticket.my_ticket:\n",
    "        print('---YOU HAVE WON---')\n",
    "        print(f\"The amount of times the draw happened before you won = {counter} times\")\n",
    "        flag = False\n",
    "    else:\n",
    "        counter += 1"
   ]
  },
  {
   "cell_type": "markdown",
   "id": "3c4f904f",
   "metadata": {},
   "source": [
    "One excellent rosource for exploring the python standard library is a site called python module of the week! Go to https://pymotw.com/ and look at the table of contents. Find a module that looks interesting to you and read about it, perhaps starting with the random module"
   ]
  },
  {
   "cell_type": "markdown",
   "id": "30775be9",
   "metadata": {},
   "source": [
    "### Styling Classes \n",
    "\n",
    "A few styling issues related to classes are with clarifying, especially as our programs become more complicated. Class na,es shpuld be written in CamelCase, to do this we have to capitalise the first letter of every single word in the class title and NOT use underscores to space the words out. Every class should have a docstring following it with a brief description of what the class does, and you should follow the same formatting conventions as we have spoken about in functions.\n",
    "\n",
    "We can use blank lines to organise our code, but don't use them too much. Within a class you can use one blank line between methods, and within a module you can use two blank lines to seperate classes. \n",
    "\n",
    "If you need to import a module from the standard library and a module that we have written ourselves, we MUST place the import statement infront of the import statement of our custom modules seperated by a blank line, this convention makes it easier to see where the different modules used in the program have come from. "
   ]
  },
  {
   "cell_type": "markdown",
   "id": "db877be7",
   "metadata": {},
   "source": [
    "### Summary \n",
    "\n",
    "In this chapter we have...\n",
    "\n",
    "- Learned how to write our own classes\n",
    "- Learned how to store information in a class used attributes \n",
    "- Learned how to write methods inside of our classes that give them the behaviour they need \n",
    "- Learned how to write init methods to create instances of a class \n",
    "- We have seen how to modify attributes through several differnt methods as well as using other instances as attributes \n",
    "- Learned class inheritance, and how to build classes that relate to eachother\n",
    "- Learned how to store classes in modules and improt classes we need into files that we are running, we has also covered how to import classes into classes and import them all together\n",
    "- Learned how to use standard python libraries\n",
    "\n",
    "In the next chapter we will learn how to work with files so you can sve the work youve don ein a rpogram and the work youve alloed users to do. We will also learn about exceptions, a special python class desinged to help us respond to user errors when they arrise. "
   ]
  }
 ],
 "metadata": {
  "kernelspec": {
   "display_name": "Python 3 (ipykernel)",
   "language": "python",
   "name": "python3"
  },
  "language_info": {
   "codemirror_mode": {
    "name": "ipython",
    "version": 3
   },
   "file_extension": ".py",
   "mimetype": "text/x-python",
   "name": "python",
   "nbconvert_exporter": "python",
   "pygments_lexer": "ipython3",
   "version": "3.10.4"
  }
 },
 "nbformat": 4,
 "nbformat_minor": 5
}
