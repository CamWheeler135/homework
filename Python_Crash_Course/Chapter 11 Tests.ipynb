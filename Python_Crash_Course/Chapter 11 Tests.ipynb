{
 "cells": [
  {
   "cell_type": "markdown",
   "metadata": {},
   "source": [
    "# Testing Your Code\n",
    "\n",
    "When you write a function or a class, you an also write tests for that code to ensure that it is working correctly. When you write tests, you can be confident that our code will work correctly as more people begin to use our programs. You will also be able to test new case as you add it to make sure that our changes do not break anything. Every programmer makes mistakes, so every programmer must test their code often. In this chapter we are learning how to test our code in Pythons *unittest* module. We will learn how to build test cases, and check that a set of inputs results in the output that we want. We will see what passing a test looks like, and how failing a test can help us improve our code. We will also learn how to test functions and classes. "
   ]
  },
  {
   "cell_type": "markdown",
   "metadata": {},
   "source": [
    "## Testing a Function\n",
    "\n",
    "To learn about testing, we need some code to test. Here is a function that simply takes a first and last name and returns a neatly formatted full name."
   ]
  },
  {
   "cell_type": "code",
   "execution_count": 1,
   "metadata": {},
   "outputs": [],
   "source": [
    "def get_formatted_name(first, last):\n",
    "    ''' Returns the fullname. '''\n",
    "    full_name = f\"{first} {last}\"\n",
    "    return full_name.title()"
   ]
  },
  {
   "cell_type": "markdown",
   "metadata": {},
   "source": [
    "The function combines the first and last name with a space inbetween to create the full name. To test that this works, let us create a program that uses this function."
   ]
  },
  {
   "cell_type": "code",
   "execution_count": 2,
   "metadata": {},
   "outputs": [
    {
     "name": "stdout",
     "output_type": "stream",
     "text": [
      "Enter 'q' at any point to quit the program.\n",
      "\t Neatly formatted name: Cameron Wheeler\n",
      "\t Neatly formatted name: Cameron Wheeler\n"
     ]
    }
   ],
   "source": [
    "print(\"Enter 'q' at any point to quit the program.\")\n",
    "\n",
    "while True:\n",
    "    first = input(\"\\nPlease give me a first name: \")\n",
    "    if first == 'q':\n",
    "        break\n",
    "    last = input(\"\\n Please give me a last name. \")\n",
    "    if last == 'q':\n",
    "        break\n",
    "\n",
    "    formatted_name = get_formatted_name(first=first, last=last)\n",
    "    print(f\"\\t Neatly formatted name: {formatted_name}\")"
   ]
  },
  {
   "cell_type": "markdown",
   "metadata": {},
   "source": [
    "This program uses the get_formatted_name function and the user enters their first and last names and we call the function and print the return values. We can see that it is working at the moment, but lets say we wanted to add middle names to the function. As we do this, we want to make sure that we do not break the way the function handles names that only have a first and last name. We could test our code bu running the program above and entering names that do not have middle names in every-time we modify the function, but that will get tedious. \n",
    "\n",
    "This is where Python provides a handy way to automate the testing of a function. If we automate the testing of the get_formatted_name(), we can always be sure that it is doing that it is supposed to be doing. \n",
    "\n",
    "### Unit Tests and Test Cases.\n",
    "\n",
    "The module unittest from the Python standard library provides tools for testing our code. A unit test verifies that one specific aspect of a functions behavior is correct. A test case is a collection of unit tests that together prove that the function is doing what it is supposed to be doing. A good test case considers all of the possible inputs a function could receive. A test case with full coverage contains all of the unit tests that tests every way a function can be used. Achieving full coverage on a large project can be daunting. It is often good enough to write tests for the codes critical behavior and then aim for full coverage only if the project starts to see widespread usage. \n",
    "\n",
    "### A Passing Test\n",
    "\n",
    "The syntax for setting up a test can take some getting used to but once we have set up a test case, it is rather straightforward to add more unit tests for our functions. To write a test case for a function, we need to import the unittest module and the function we want to test. Then we create a class that inherits from unittest.TestCase, and write a series of methods to test different aspects of the functions behavior. \n",
    "\n",
    "Here is a test case with one method that verifies that the function get_formatted_name() works correctly when given a first and last name."
   ]
  },
  {
   "cell_type": "code",
   "execution_count": 3,
   "metadata": {},
   "outputs": [
    {
     "name": "stderr",
     "output_type": "stream",
     "text": [
      ".\n",
      "----------------------------------------------------------------------\n",
      "Ran 1 test in 0.000s\n",
      "\n",
      "OK\n"
     ]
    }
   ],
   "source": [
    "import unittest\n",
    "\n",
    "class NamesTestCase(unittest.TestCase):\n",
    "    ''' Creating a test case to learn how to test code. '''\n",
    "    \n",
    "    def test_first_last(self):\n",
    "        ''' Testing that first and last names work. '''\n",
    "\n",
    "        formatted_name = get_formatted_name(\"Cameron\", \"Wheeler\")\n",
    "        self.assertEqual(formatted_name, \"Cameron Wheeler\")\n",
    "\n",
    "if __name__ == \"__main__\":\n",
    "    # Altered the code from the book to allow it to run in Jupyter Notebook.\n",
    "    unittest.main(argv=['first-arg-is-ignored'], exit=False)"
   ]
  },
  {
   "cell_type": "markdown",
   "metadata": {},
   "source": [
    "First we import the unittest (we do not import the function we are using here as it is not in a another file). We create a class called NamesTestCase, which will contain a series of unit tests for the get_formatted_name(). We can name the class anything we want, but it is best to call it something related to the function we are testing and use the word TEST in the class name. This class must inherit from the class unittest.TestCase so Python knows how to run the tests that we are writing. \n",
    "\n",
    "At the moment NamesTestCase contains a single method that tests one aspect of the get_formatted_names(), we call this method test_first_last() because we are verifying the names with only first and last names are formatted correctly. Any method that starts with \"test\" will be run automatically when we run the file. In this function we call the get_formatted_name function and pass the first name \"Cameron\" and the last name \"Wheeler\" assigning the result to formatted name. \n",
    "\n",
    "We then use the \"assert\" method, this allows us to verify that a result you received matches the result we want / expect. In this case, because we know that get_formatted_name() is supposed to return the capitalized properly spaced name. Because of this we use the assertEqual method and pass it the formatted name and Cameron Wheeler. This compared the value in formatted name, with the answer we have given it. If they are the same, then we have passed the test, if they are not, it will let us know. \n",
    "\n",
    "Finally, the if __name.... line sets the program to be executed if the file is being run as a main file. I had to make a change to this as I am running my file in a Jupyter notebook, and this is not a separate file. But in a real case, we would simply just call unittest.main() under the conditional. \n",
    "\n",
    "The dot on the first line of the output tells us that a single test passed. The next line tells us that Python ran one test, and it took less than 0.001s. Finally Ok tells us that all of the unit tests in the test case passed. This output indicates that the function get__formatted_name() will always work for names that get have a first and last name unless we we modify the function. \n",
    "\n",
    "If we do modify the function, all we need to do is run the test again and it will tell us if that specific part of the function is working correctly. \n",
    "\n",
    "### A Failing Test\n",
    "\n",
    "What does a failing test look like? Let us modify the get_formatted_name() so it cam handle middle names, but we will do so in a way that it breaks the function for names with just a first and last name. "
   ]
  },
  {
   "cell_type": "code",
   "execution_count": 4,
   "metadata": {},
   "outputs": [],
   "source": [
    "def get_formatted_name(first, middle, last):\n",
    "    ''' Neatly formats a first middle and last name. '''\n",
    "    full_name = f\"{first} {middle} {last}\"\n",
    "    return full_name"
   ]
  },
  {
   "cell_type": "markdown",
   "metadata": {},
   "source": [
    "This version should work for people with middle names, but when we test the function we will see that we have broken it for people who just have a first and last name. "
   ]
  },
  {
   "cell_type": "code",
   "execution_count": 5,
   "metadata": {},
   "outputs": [
    {
     "name": "stderr",
     "output_type": "stream",
     "text": [
      "E\n",
      "======================================================================\n",
      "ERROR: test_first_last (__main__.NamesTestCase)\n",
      "Testing that first and last names work.\n",
      "----------------------------------------------------------------------\n",
      "Traceback (most recent call last):\n",
      "  File \"/var/folders/4c/kn2cjcbd657fzzm152d57g740000gn/T/ipykernel_19311/1220480226.py\", line 9, in test_first_last\n",
      "    formatted_name = get_formatted_name(\"Cameron\", \"Wheeler\")\n",
      "TypeError: get_formatted_name() missing 1 required positional argument: 'last'\n",
      "\n",
      "----------------------------------------------------------------------\n",
      "Ran 1 test in 0.001s\n",
      "\n",
      "FAILED (errors=1)\n"
     ]
    }
   ],
   "source": [
    "import unittest\n",
    "\n",
    "class NamesTestCase(unittest.TestCase):\n",
    "    ''' Creating a test case to learn how to test code. '''\n",
    "    \n",
    "    def test_first_last(self):\n",
    "        ''' Testing that first and last names work. '''\n",
    "\n",
    "        formatted_name = get_formatted_name(\"Cameron\", \"Wheeler\")\n",
    "        self.assertEqual(formatted_name, \"Cameron Wheeler\")\n",
    "\n",
    "if __name__ == \"__main__\":\n",
    "    # Altered the code from the book to allow it to run in Jupyter Notebook.\n",
    "    unittest.main(argv=['first-arg-is-ignored'], exit=False)"
   ]
  },
  {
   "cell_type": "markdown",
   "metadata": {},
   "source": [
    "There is a lot of information here, because we might need a lot of information to know when a test fails. The first item is a E this tells us that one of the unit tests has failed. Next we see which test has failed specifically. Knowing which test has failed is critical when testing many unit test at once. Following that we see a standard Traceback that tells us what has gone wrong. We can see that \"Cameron\", \"Wheeler\" no longer works because we are missing one argument (the middle name). We can see that 1 test was run and the time it was run in and the number of failed tests we have gotten, in the field if we have gotten a lot of tests, this means we wont have to scroll up to see how many tests failed.\n",
    "\n",
    "\n",
    "### Responding To A Failed Test.\n",
    "\n",
    "What do we do if a test fails??? Assuming that we are checking the right conditions, a passing testing means the function is behaving correctly and a failed test means there is an error in our new code that we have written. So when a test fails, do not change the test, fix the code that is making the test fail. Examine the changes that we have made to the function and figure out how these changes have broken the desired behavior of the function. In this case, the get_formatted_name used to require only 2 parameters, but now it requires 3. The addition of that middle parameter broke the desired behavior of the function. \n",
    "\n",
    "The fix here is to make the middle name optional, once we do our test should work again and we should be able to accept middle names as well. "
   ]
  },
  {
   "cell_type": "code",
   "execution_count": 6,
   "metadata": {},
   "outputs": [],
   "source": [
    "def get_formatted_name(first, last, middle=''):\n",
    "    ''' Neatly formats full name. '''\n",
    "    if middle:\n",
    "        full_name = f\"{first} {middle} {last}\"\n",
    "        return full_name\n",
    "    else:\n",
    "        full_name = f\"{first} {last}\"\n",
    "    return full_name"
   ]
  },
  {
   "cell_type": "markdown",
   "metadata": {},
   "source": [
    "This new version will treat the middle name as optional, using an if statement to check if middle has a value or not. If we test the function with just a first and last name it should pass again. "
   ]
  },
  {
   "cell_type": "code",
   "execution_count": 7,
   "metadata": {},
   "outputs": [
    {
     "name": "stderr",
     "output_type": "stream",
     "text": [
      ".\n",
      "----------------------------------------------------------------------\n",
      "Ran 1 test in 0.001s\n",
      "\n",
      "OK\n"
     ]
    }
   ],
   "source": [
    "import unittest\n",
    "\n",
    "class NamesTestCase(unittest.TestCase):\n",
    "    ''' Creating a test case to learn how to test code. '''\n",
    "    \n",
    "    def test_first_last(self):\n",
    "        ''' Testing that first and last names work. '''\n",
    "\n",
    "        formatted_name = get_formatted_name(\"Cameron\", \"Wheeler\")\n",
    "        self.assertEqual(formatted_name, \"Cameron Wheeler\")\n",
    "\n",
    "if __name__ == \"__main__\":\n",
    "    # Altered the code from the book to allow it to run in Jupyter Notebook.\n",
    "    unittest.main(argv=['first-arg-is-ignored'], exit=False)"
   ]
  },
  {
   "cell_type": "markdown",
   "metadata": {},
   "source": [
    "The test case passes again, this is what we want. Fixing our function was easy because the failed test helped us identify the code that was going wrong.\n",
    "\n",
    "\n",
    "### Adding New Tests\n",
    "\n",
    "Now that we understand how testing works for simple tasks, lets write a second test for people who include a middle name. We just need to add another method to the test case that we already have. "
   ]
  },
  {
   "cell_type": "code",
   "execution_count": 8,
   "metadata": {},
   "outputs": [
    {
     "name": "stderr",
     "output_type": "stream",
     "text": [
      "..\n",
      "----------------------------------------------------------------------\n",
      "Ran 2 tests in 0.001s\n",
      "\n",
      "OK\n"
     ]
    }
   ],
   "source": [
    "class NamesTestCase(unittest.TestCase):\n",
    "    ''' Creating a test case to learn how to test code. '''\n",
    "    \n",
    "    def test_first_last(self):\n",
    "        ''' Testing that first and last names work. '''\n",
    "\n",
    "        formatted_name = get_formatted_name(\"Cameron\", \"Wheeler\")\n",
    "        self.assertEqual(formatted_name, \"Cameron Wheeler\")\n",
    "\n",
    "    def test_first_middle_last(self):\n",
    "        ''' Testing the first middle and last names work. '''\n",
    "        formatted_name = get_formatted_name(\"Cameron\", \"Wheeler\", \"Albert\")\n",
    "        self.assertEqual(formatted_name, \"Cameron Albert Wheeler\")\n",
    "\n",
    "if __name__ == \"__main__\":\n",
    "    # Altered the code from the book to allow it to run in Jupyter Notebook.\n",
    "    unittest.main(argv=['first-arg-is-ignored'], exit=False)"
   ]
  },
  {
   "cell_type": "markdown",
   "metadata": {},
   "source": [
    "We name this new unit test beginning with test as it will run automatically when we run the file. It is fine to have long names in our tests as they need to be descriptive so we can make changes in the right places. To test the function we call the get_formatted_name() and pass the first, last and middle names as arguments (note the order they are in). We use assertEqual() to check that the returned full name matches the name that we have given. We can see above that both the tests have passed. \n",
    "\n",
    "### Try it Yourself. \n",
    "\n",
    "Write a function that accepts two parameters: a city name and a country name. The function should return a single string in the form of \"City, Country\", then create a test for that function. "
   ]
  },
  {
   "cell_type": "code",
   "execution_count": 9,
   "metadata": {},
   "outputs": [],
   "source": [
    "def get_formatted_city(city, country):\n",
    "    ''' Returns a neatly formatted string with the city and country. '''\n",
    "    formatted_city = f\"{city} {country}\"\n",
    "    return formatted_city.title()"
   ]
  },
  {
   "cell_type": "code",
   "execution_count": 10,
   "metadata": {},
   "outputs": [
    {
     "name": "stderr",
     "output_type": "stream",
     "text": [
      "...\n",
      "----------------------------------------------------------------------\n",
      "Ran 3 tests in 0.001s\n",
      "\n",
      "OK\n"
     ]
    }
   ],
   "source": [
    "import unittest\n",
    "\n",
    "class CityCountryTestCase(unittest.TestCase):\n",
    "    ''' Contains the unit tests checking desired function behavior. '''\n",
    "\n",
    "    def test_city_country(self):\n",
    "        ''' Tests that the city and country are correctly formatted. '''\n",
    "        formatted_city = get_formatted_city(city=\"London\", country=\"England\")\n",
    "        self.assertEqual(formatted_city, \"London England\")\n",
    "\n",
    "if __name__ == '__main__':\n",
    "    unittest.main(argv=['first-arg-is-ignored'], exit=False)"
   ]
  },
  {
   "cell_type": "markdown",
   "metadata": {},
   "source": [
    "Modify the function so that it requires a third parameter \"population\", it should now return a a string with city, country, population. Once that is done, test to make sure it fails the first test, then modify the function so that it passes. Write a second test that verifies that we can call our function with 3 parameters. "
   ]
  },
  {
   "cell_type": "code",
   "execution_count": 11,
   "metadata": {},
   "outputs": [],
   "source": [
    "def get_formatted_city(city, country, population):\n",
    "    ''' Returns a neatly formatted string with the city and country. '''\n",
    "    formatted_city = f\"{city} {country} {population} \"\n",
    "    return formatted_city.title()"
   ]
  },
  {
   "cell_type": "code",
   "execution_count": 12,
   "metadata": {},
   "outputs": [
    {
     "name": "stderr",
     "output_type": "stream",
     "text": [
      "E..\n",
      "======================================================================\n",
      "ERROR: test_city_country (__main__.CityCountryTestCase)\n",
      "Tests that the city and country are correctly formatted.\n",
      "----------------------------------------------------------------------\n",
      "Traceback (most recent call last):\n",
      "  File \"/var/folders/4c/kn2cjcbd657fzzm152d57g740000gn/T/ipykernel_19311/4118051291.py\", line 6, in test_city_country\n",
      "    formatted_city = get_formatted_city(city=\"London\", country=\"England\")\n",
      "TypeError: get_formatted_city() missing 1 required positional argument: 'population'\n",
      "\n",
      "----------------------------------------------------------------------\n",
      "Ran 3 tests in 0.001s\n",
      "\n",
      "FAILED (errors=1)\n"
     ]
    }
   ],
   "source": [
    "class CityCountryTestCase(unittest.TestCase):\n",
    "    ''' Contains the unit tests checking desired function behavior. '''\n",
    "\n",
    "    def test_city_country(self):\n",
    "        ''' Tests that the city and country are correctly formatted. '''\n",
    "        formatted_city = get_formatted_city(city=\"London\", country=\"England\")\n",
    "        self.assertEqual(formatted_city, \"London England\")\n",
    "\n",
    "if __name__ == '__main__':\n",
    "    unittest.main(argv=['first-arg-is-ignored'], exit=False)"
   ]
  },
  {
   "cell_type": "code",
   "execution_count": 13,
   "metadata": {},
   "outputs": [],
   "source": [
    "def get_formatted_city(city, country, population=''):\n",
    "    ''' Returns a neatly formatted string with the city and country. '''\n",
    "    \n",
    "    if population:\n",
    "        formatted_city = f\"{city} {country} {population}\"\n",
    "    else:\n",
    "        formatted_city = f\"{city} {country}\"\n",
    "        \n",
    "    return formatted_city.title()"
   ]
  },
  {
   "cell_type": "code",
   "execution_count": 14,
   "metadata": {},
   "outputs": [
    {
     "name": "stderr",
     "output_type": "stream",
     "text": [
      "...\n",
      "----------------------------------------------------------------------\n",
      "Ran 3 tests in 0.001s\n",
      "\n",
      "OK\n"
     ]
    }
   ],
   "source": [
    "class CityCountryTestCase(unittest.TestCase):\n",
    "    ''' Contains the unit tests checking desired function behavior. '''\n",
    "\n",
    "    def test_city_country(self):\n",
    "        ''' Tests that the city and country are correctly formatted. '''\n",
    "        formatted_city = get_formatted_city(city=\"London\", country=\"England\")\n",
    "        self.assertEqual(formatted_city, \"London England\")\n",
    "\n",
    "if __name__ == '__main__':\n",
    "    unittest.main(argv=['first-arg-is-ignored'], exit=False)"
   ]
  },
  {
   "cell_type": "code",
   "execution_count": 15,
   "metadata": {},
   "outputs": [
    {
     "name": "stderr",
     "output_type": "stream",
     "text": [
      "....\n",
      "----------------------------------------------------------------------\n",
      "Ran 4 tests in 0.001s\n",
      "\n",
      "OK\n"
     ]
    }
   ],
   "source": [
    "class CityCountryTestCase(unittest.TestCase):\n",
    "    ''' Contains the unit tests checking desired function behavior. '''\n",
    "\n",
    "    def test_city_country(self):\n",
    "        ''' Tests that the city and country are correctly formatted. '''\n",
    "        formatted_city = get_formatted_city(city=\"London\", country=\"England\")\n",
    "        self.assertEqual(formatted_city, \"London England\")\n",
    "\n",
    "    def test_city_country_population(self):\n",
    "        formatted_city = get_formatted_city(city=\"London\", country=\"England\", population=\"9,541,000\")\n",
    "        self.assertEqual(formatted_city, \"London England 9,541,000\")\n",
    "\n",
    "if __name__ == '__main__':\n",
    "    unittest.main(argv=['first-arg-is-ignored'], exit=False)"
   ]
  },
  {
   "cell_type": "markdown",
   "metadata": {},
   "source": [
    "## Testing A Class.\n",
    "\n",
    "In the first part of this notebook, we tested a single function. Now lets write some tests for a class, we use classes in many of our programs to create objects and manipulate them so it is helpful to prove that they work. If we have passing tests for a class we are working on, we know that we can make improvements to that class without breaking anything.\n",
    "\n",
    "### A Variety of Asset Methods. \n",
    "\n",
    "Python provides us with several assert methods, the one we used above was assertEqual (this allowed us to directly compare that the output of the function met the expected output that we set), assert methods test whether a condition you believe to be true at a specific point is indeed true. If it is not true, Python will raise and error.\n",
    "\n",
    "Here are some other assert methods. \n",
    "\n",
    "- assertEqual(a, b) - Verify that a == b.\n",
    "- assertNotEqual(a, b) - Verify that a != b.\n",
    "- assertTrue(x) - Verify that x is True.\n",
    "- assertFalse(x) - Verify that x is False. \n",
    "- assertIn(item, list) - Verify that item is in list.\n",
    "- assertNotIn(item, list) - Verify that item is not in the list. \n",
    "\n",
    "### A Class to Test.\n",
    "\n",
    "Testing a class is similar to testing a function, much of our work involves testing the behavior of the methods in the class. But there are a few differences between a function test and a class test. Consider the class below that helps administer anonymous surveys. "
   ]
  },
  {
   "cell_type": "code",
   "execution_count": 16,
   "metadata": {},
   "outputs": [],
   "source": [
    "class AnonymousSurvey:\n",
    "    ''' Collect anonymous answers to the survey question. '''\n",
    "\n",
    "    def __init__(self, question):\n",
    "        ''' Store the question for the survey and prepare to store the results. '''\n",
    "\n",
    "        self.question = question\n",
    "        self.responses = []\n",
    "\n",
    "    def show_questions(self):\n",
    "        ''' Show the survey question. '''\n",
    "\n",
    "        print(self.question)\n",
    "\n",
    "    def store_response(self, new_response):\n",
    "        ''' Store a single response to the survey. '''\n",
    "\n",
    "        self.responses.append(new_response)\n",
    "\n",
    "    def show_results(self):\n",
    "        ''' Show all of the responses to the survey. '''\n",
    "\n",
    "        print(\"Survey Results\")\n",
    "        for response in self.responses:\n",
    "            print(f\"- {response}\")"
   ]
  },
  {
   "cell_type": "markdown",
   "metadata": {},
   "source": [
    "This class starts with a survey question that we provide and creates a list to store the responses. This class has methods to print the survey question, add a new response and print all of the answers to the survey. When creating an instance of the class all we need to do is provide a question. Once you have an instance representing a particular survey, you display the survey question with show_questions(), store a response in store_response() and show the results with show_results(). Lets write a program that uses this class. "
   ]
  },
  {
   "cell_type": "code",
   "execution_count": 17,
   "metadata": {},
   "outputs": [
    {
     "name": "stdout",
     "output_type": "stream",
     "text": [
      "What language did you first learn when coding?\n",
      "Enter q at any point to quit.\n",
      "\n",
      "Thank you for completing the survey.\n",
      "Survey Results\n",
      "- Python\n"
     ]
    }
   ],
   "source": [
    "# Define a question and make the survey. \n",
    "question = \"What language did you first learn when coding?\"\n",
    "survey = AnonymousSurvey(question=question)\n",
    "\n",
    "# Show the question, store the responses to the question. \n",
    "survey.show_questions()\n",
    "\n",
    "print(\"Enter q at any point to quit.\")\n",
    "\n",
    "while True:\n",
    "    response = input(\"Language: \")\n",
    "    if response == 'q':\n",
    "        break\n",
    "    survey.store_response(response)\n",
    "\n",
    "# Show the survey results. \n",
    "print(\"\\nThank you for completing the survey.\")\n",
    "survey.show_results()"
   ]
  },
  {
   "cell_type": "markdown",
   "metadata": {},
   "source": [
    "This program defines a question \"What language did you first learn when coding\" and creates an instance of the survey. The program calls show_questions() which shows the survey question, and then enters a loop to collect answers to that question. Each response that is given is stored in the responses list. When all responses have been entered we end the program and print the list. This class works for a simple anonymous survey. But if we want to improve it we could allow each user to enter more than one response. We could write a method to list only unique responses. Or maybe we write another class that deals with non-anonymous surveys. Implementing such changes would come with a risk of breaking something. To ensure we don't we can write tests for this class.\n",
    "\n",
    "### Testing the Anonymous Survey Class. \n",
    "\n",
    "Let us write a test that verifies one aspect of the way that the AnonymousSurvey class behaves. We will write a test to verify that a single response to the survey question is stored properly. We will use the \"assertIn()\" method to verify that a response to the survey is being stored in the list. "
   ]
  },
  {
   "cell_type": "code",
   "execution_count": 18,
   "metadata": {},
   "outputs": [
    {
     "name": "stderr",
     "output_type": "stream",
     "text": [
      ".....\n",
      "----------------------------------------------------------------------\n",
      "Ran 5 tests in 0.002s\n",
      "\n",
      "OK\n"
     ]
    }
   ],
   "source": [
    "import unittest\n",
    "\n",
    "class TestAnonymousSurvey(unittest.TestCase):\n",
    "    ''' Tests the Anonymous Survey Class. '''\n",
    "\n",
    "    def test_store_response(self):\n",
    "        ''' Tests that a single response to the survey is stored correctly. '''\n",
    "\n",
    "        question = 'What language did you start to learn when coding?'\n",
    "        my_survey = AnonymousSurvey(question=question)\n",
    "        my_survey.store_response(\"Python\")\n",
    "        self.assertIn(\"Python\", my_survey.responses)\n",
    "\n",
    "if __name__ == '__main__':\n",
    "    unittest.main(argv=['first-arg-is-ignored'], exit=False)"
   ]
  },
  {
   "cell_type": "markdown",
   "metadata": {},
   "source": [
    "We import the unittest module. We name our test case appropriately and with our first method we verify that when we store a response to the survey question, it is indeed stored in the survey response list. If this test fails we will know that there was a problem storing the answer to the survey. To test the behavior of the class we need to make an instance of the class. We create an instance of AnonymousSurvey class and store a single response, we correctly assert that the response is in the list by using the assertIn method. \n",
    "\n",
    "We run the test and we get no errors. Lets add another method to the TestAnonymousSurvey Class."
   ]
  },
  {
   "cell_type": "code",
   "execution_count": 19,
   "metadata": {},
   "outputs": [
    {
     "name": "stderr",
     "output_type": "stream",
     "text": [
      "......\n",
      "----------------------------------------------------------------------\n",
      "Ran 6 tests in 0.002s\n",
      "\n",
      "OK\n"
     ]
    }
   ],
   "source": [
    "import unittest\n",
    "\n",
    "class TestAnonymousSurvey(unittest.TestCase):\n",
    "    ''' Tests the Anonymous Survey Class. '''\n",
    "\n",
    "    def test_store_response(self):\n",
    "        ''' Tests that a single response to the survey is stored correctly. '''\n",
    "\n",
    "        question = 'What language did you start to learn when coding?'\n",
    "        my_survey = AnonymousSurvey(question=question)\n",
    "        my_survey.store_response(\"Python\")\n",
    "        self.assertIn(\"Python\", my_survey.responses)\n",
    "    \n",
    "    def test_store_multiple_responses(self):\n",
    "        ''' Tests that multiple responses to the survey are stored correctly. '''\n",
    "\n",
    "        question = 'What language did you start to learn when coding?'\n",
    "        my_survey = AnonymousSurvey(question=question)\n",
    "        answers = ['Python', 'C', 'SQL', 'HTML']\n",
    "        for response in answers:\n",
    "            my_survey.store_response(response)\n",
    "\n",
    "        # Loop through checking that all answers are in the response list.\n",
    "        for response in answers:\n",
    "            self.assertIn(response, my_survey.responses)\n",
    "\n",
    "\n",
    "if __name__ == '__main__':\n",
    "    unittest.main(argv=['first-arg-is-ignored'], exit=False)"
   ]
  },
  {
   "cell_type": "markdown",
   "metadata": {},
   "source": [
    "This code creates another test to check if multiple answers are stored correctly. We can see that it works well, creating a new instance, adding all the answers to the survey and checking that all responses are indeed in the responses list. However, we can use another feature of the unittest to make it more efficient. \n",
    "\n",
    "### The setUp() Method. \n",
    "\n",
    "The unit.TestCase class has what is called a setUp() method that allows us to create objects once and then use them in each of our test methods. This means we no longer have to create an instance of the AnonymousSurvey class in each unit test. When we include a setUp() method in a TestCase class, python will run the setUp() method before running each method that starts with test. Any object that is created in the setUp() method is available for use in each unit test method that we write. \n",
    "\n",
    "Let us use a setUp() method to create a survey instance and a set of responses that can be used in \"test_store_response\" and \"test_store_multiple_responses\"."
   ]
  },
  {
   "cell_type": "code",
   "execution_count": 20,
   "metadata": {},
   "outputs": [
    {
     "name": "stderr",
     "output_type": "stream",
     "text": [
      "......\n",
      "----------------------------------------------------------------------\n",
      "Ran 6 tests in 0.002s\n",
      "\n",
      "OK\n"
     ]
    }
   ],
   "source": [
    "import unittest\n",
    "\n",
    "class TestAnonymousSurvey(unittest.TestCase):\n",
    "    ''' Tests the Anonymous Survey Class. '''\n",
    "\n",
    "    def setUp(self):\n",
    "        ''' Create a survey and a set of responses for use in all test methods. '''\n",
    "        \n",
    "        question = 'What language did you start to learn when coding?'\n",
    "        self.my_survey = AnonymousSurvey(question=question)\n",
    "        self.responses = ['Python', 'C', 'SQL', 'HTML']\n",
    "\n",
    "    def test_store_response(self):\n",
    "        ''' Tests that a single response to the survey is stored correctly. '''\n",
    "\n",
    "        self.my_survey.store_response(self.responses[0])\n",
    "        self.assertIn(self.responses[0], self.my_survey.responses)\n",
    "    \n",
    "    def test_store_multiple_responses(self):\n",
    "        ''' Tests that multiple responses to the survey are stored correctly. '''\n",
    "\n",
    "        for response in self.responses:\n",
    "            self.my_survey.store_response(response)\n",
    "\n",
    "        # Loop through checking that all answers are in the response list.\n",
    "        for response in self.responses:\n",
    "            self.assertIn(response, self.my_survey.responses)\n",
    "\n",
    "\n",
    "if __name__ == '__main__':\n",
    "    unittest.main(argv=['first-arg-is-ignored'], exit=False)"
   ]
  },
  {
   "cell_type": "markdown",
   "metadata": {},
   "source": [
    "Using the setUp() method we create a survey instance and a list of responses that we are going to use in our unit tests. Each of this is prefixed with \"self\" so they can be used anywhere in the class. This makes the two test methods simpler because neither one has to make a survey instance or response. The unit tests that we have in our test case still work the same, but they no longer create the instances, we index one element of the responses list to check that one answer works correctly, and we use the whole list to ensure that multiple answers work correctly too. These tests should we useful when expanding the AnonymousSurvey class, each time we change some code, we can just run our tests and male sure that each unit test is running as desired. \n",
    "\n",
    "\n",
    "### Try It Yourself.\n",
    "\n",
    "Write a class called employee, the init method should take in a first and last name alongside a salary, storing each of these as attributes. Write a method called give_raise() that adds 5,000 dollars to the total salary amount by default, but will also allow us to add more if specified. \n",
    "\n",
    "Write a test case for Employee, write two methods test_give_default_raise() and test_give_custom_raise(). Use the setUp() method so you do not need to create a new employee instance for each method. Run the test cases and ensure they both pass. "
   ]
  },
  {
   "cell_type": "code",
   "execution_count": 21,
   "metadata": {},
   "outputs": [],
   "source": [
    "class Employee:\n",
    "    '''Stores the first and last name of an employee with their salary. '''\n",
    "\n",
    "    def __init__(self, first, last, salary: int):\n",
    "        ''' Creates a employee object. '''\n",
    "\n",
    "        self.first = first\n",
    "        self.last = last\n",
    "        self.salary = salary\n",
    "\n",
    "    def give_raise(self, raise_amount=5000):\n",
    "        ''' raises the salary by a set amount. '''\n",
    "        self.salary = self.salary + raise_amount"
   ]
  },
  {
   "cell_type": "code",
   "execution_count": 27,
   "metadata": {},
   "outputs": [
    {
     "name": "stderr",
     "output_type": "stream",
     "text": [
      "........\n",
      "----------------------------------------------------------------------\n",
      "Ran 8 tests in 0.008s\n",
      "\n",
      "OK\n"
     ]
    }
   ],
   "source": [
    "''' Testing. '''\n",
    "import unittest\n",
    "\n",
    "class EmployeeClassTester(unittest.TestCase):\n",
    "    ''' Contains all the tests for testing the Employee class. '''\n",
    "\n",
    "    def setUp(self):\n",
    "        ''' Creates a Employee Object for tests to use. '''\n",
    "        self.cameron = Employee(first='Cameron', last='Wheeler', salary=22000)\n",
    "\n",
    "    def test_default_raise(self):\n",
    "        ''' Tests default raise of 5000. '''\n",
    "        self.cameron.give_raise()\n",
    "        self.assertEqual(self.cameron.salary, 27000)\n",
    "\n",
    "    def test_custom_raise(self):\n",
    "        ''' Tests custom raise. '''\n",
    "        self.cameron.give_raise(raise_amount=10000)\n",
    "        self.assertEqual(self.cameron.salary, 32000)\n",
    "\n",
    "\n",
    "if __name__ == '__main__':\n",
    "    unittest.main(argv=['first-arg-is-ignored'], exit=False)"
   ]
  },
  {
   "cell_type": "markdown",
   "metadata": {},
   "source": [
    "## Summary\n",
    "\n",
    "In this chapter we have learned to write tests for functions and classes using tools in the unittest module that Python offers us. We learned to write a class that inherits from the unittest.TestCase class and write methods that allow us to verify specific behavior of functions. We learned to use the setUp() method that allows us to make our testing more efficient as it creates instances and attributes that can be used for all of the testing. Testing is an important topic as when our code gets more and more complex it becomes more important that we can test the behavior of our code. Become familiar with the process of testing, it is a valuable skill to have, other programmers respect that fact that our code will have testing with it, it also allows them to experiment with the code and check what they are doing more easily. "
   ]
  }
 ],
 "metadata": {
  "interpreter": {
   "hash": "aee8b7b246df8f9039afb4144a1f6fd8d2ca17a180786b69acc140d282b71a49"
  },
  "kernelspec": {
   "display_name": "Python 3.10.4 64-bit",
   "language": "python",
   "name": "python3"
  },
  "language_info": {
   "codemirror_mode": {
    "name": "ipython",
    "version": 3
   },
   "file_extension": ".py",
   "mimetype": "text/x-python",
   "name": "python",
   "nbconvert_exporter": "python",
   "pygments_lexer": "ipython3",
   "version": "3.10.4"
  },
  "orig_nbformat": 4
 },
 "nbformat": 4,
 "nbformat_minor": 2
}
