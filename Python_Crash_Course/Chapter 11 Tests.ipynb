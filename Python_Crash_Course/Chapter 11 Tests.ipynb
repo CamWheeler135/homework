{
 "cells": [
  {
   "cell_type": "markdown",
   "metadata": {},
   "source": [
    "# Testing Your Code\n",
    "\n",
    "When you write a function or a class, you an also write tests for that code to ensure that it is working correctly. When you write tests, you can be confident that our code will work correctly as more people begin to use our programs. You will also be able to test new case as you add it to make sure that our changes do not break anything. Every programmer makes mistakes, so every programmer must test their code often. In this chapter we are learning how to test our code in Pythons *unittest* module. We will learn how to build test cases, and check that a set of inputs results in the output that we want. We will see what passing a test looks like, and how failing a test can help us improve our code. We will also learn how to test functions and classes. "
   ]
  },
  {
   "cell_type": "markdown",
   "metadata": {},
   "source": [
    "## Testing a Function\n",
    "\n",
    "To learn about testing, we need some code to test. Here is a function that simply takes a first and last name and returns a neatly formatted full name."
   ]
  },
  {
   "cell_type": "code",
   "execution_count": 1,
   "metadata": {},
   "outputs": [],
   "source": [
    "def get_formatted_name(first, last):\n",
    "    ''' Returns the fullname. '''\n",
    "    full_name = f\"{first} {last}\"\n",
    "    return full_name.title()"
   ]
  },
  {
   "cell_type": "markdown",
   "metadata": {},
   "source": [
    "The function combines the first and last name with a space inbetween to create the full name. To test that this works, let us create a program that uses this function."
   ]
  },
  {
   "cell_type": "code",
   "execution_count": 4,
   "metadata": {},
   "outputs": [
    {
     "name": "stdout",
     "output_type": "stream",
     "text": [
      "Enter 'q' at any point to quit the program.\n",
      "\t Neatly formatted name: Cameron Wheeler\n"
     ]
    }
   ],
   "source": [
    "print(\"Enter 'q' at any point to quit the program.\")\n",
    "\n",
    "while True:\n",
    "    first = input(\"\\nPlease give me a first name: \")\n",
    "    if first == 'q':\n",
    "        break\n",
    "    last = input(\"\\n Please give me a last name. \")\n",
    "    if last == 'q':\n",
    "        break\n",
    "\n",
    "    formatted_name = get_formatted_name(first=first, last=last)\n",
    "    print(f\"\\t Neatly formatted name: {formatted_name}\")"
   ]
  },
  {
   "cell_type": "markdown",
   "metadata": {},
   "source": [
    "This program uses the get_formatted_name function and the user enters their first and last names and we call the function and print the return values. We can see that it is working at the moment, but lets say we wanted to add middle names to the function. As we do this, we want to make sure that we do not break the way the function handles names that only have a first and last name. We could test our code bu running the program above and entering names that do not have middle names in every-time we modify the function, but that will get tedious. \n",
    "\n",
    "This is where Python provides a handy way to automate the testing of a function. If we automate the testing of the get_formatted_name(), we can always be sure that it is doing that it is supposed to be doing. \n",
    "\n",
    "### Unit Tests and Test Cases.\n",
    "\n",
    "The module unittest from the Python standard library provides tools for testing our code. A unit test verifies that one specific aspect of a functions behavior is correct. A test case is a collection of unit tests that together prove that the function is doing what it is supposed to be doing. A good test case considers all of the possible inputs a function could receive. A test case with full coverage contains all of the unit tests that tests every way a function can be used. Achieving full coverage on a large project can be daunting. It is often good enough to write tests for the codes critical behavior and then aim for full coverage only if the project starts to see widespread usage. \n",
    "\n",
    "### A Passing Test\n",
    "\n",
    "The syntax for setting up a test can take some getting used to but once we have set up a test case, it is rather straightforward to add more unit tests for our functions. To write a test case for a function, we need to import the unittest module and the function we want to test. Then we create a class that inherits from unittest.TestCase, and write a series of methods to test different aspects of the functions behavior. \n",
    "\n",
    "Here is a test case with one method that verifies that the function get_formatted_name() works correctly when given a first and last name."
   ]
  },
  {
   "cell_type": "code",
   "execution_count": 11,
   "metadata": {},
   "outputs": [
    {
     "name": "stderr",
     "output_type": "stream",
     "text": [
      ".\n",
      "----------------------------------------------------------------------\n",
      "Ran 1 test in 0.001s\n",
      "\n",
      "OK\n"
     ]
    }
   ],
   "source": [
    "import unittest\n",
    "\n",
    "class NamesTestCase(unittest.TestCase):\n",
    "    ''' Creating a test case to learn how to test code. '''\n",
    "    \n",
    "    def test_first_last(self):\n",
    "        ''' Testing that first and last names work. '''\n",
    "\n",
    "        formatted_name = get_formatted_name(\"Cameron\", \"Wheeler\")\n",
    "        self.assertEqual(formatted_name, \"Cameron Wheeler\")\n",
    "\n",
    "if __name__ == \"__main__\":\n",
    "    # Altered the code from the book to allow it to run in Jupyter Notebook.\n",
    "    unittest.main(argv=['first-arg-is-ignored'], exit=False)"
   ]
  },
  {
   "cell_type": "markdown",
   "metadata": {},
   "source": [
    "First we import the unittest (we do not import the function we are using here as it is not in a another file). We create a class called NamesTestCase, which will contain a series of unit tests for the get_formatted_name(). We can name the class anything we want, but it is best to call it something related to the function we are testing and use the word TEST in the class name. This class must inherit from the class unittest.TestCase so Python knows how to run the tests that we are writing. \n",
    "\n",
    "At the moment NamesTestCase contains a single method that tests one aspect of the get_formatted_names(), we call this method test_first_last() because we are verifying the names with only first and last names are formatted correctly. Any method that starts with \"test\" will be run automatically when we run the file. In this function we call the get_formatted_name function and pass the first name \"Cameron\" and the last name \"Wheeler\" assigning the result to formatted name. \n",
    "\n",
    "We then use the \"assert\" method, this allows us to verify that a result you received matches the result we want / expect. In this case, because we know that get_formatted_name() is supposed to return the capitalized properly spaced name. Because of this we use the assertEqual method and pass it the formatted name and Cameron Wheeler. This compared the value in formatted name, with the answer we have given it. If they are the same, then we have passed the test, if they are not, it will let us know. \n",
    "\n",
    "Finally, the if __name.... line sets the program to be executed if the file is being run as a main file. I had to make a change to this as I am running my file in a Jupyter notebook, and this is not a separate file. But in a real case, we would simply just call unittest.main() under the conditional. \n",
    "\n",
    "The dot on the first line of the output tells us that a single test passed. The next line tells us that Python ran one test, and it took less than 0.001s. Finally Ok tells us that all of the unit tests in the test case passed. This output indicates that the function get__formatted_name() will always work for names that get have a first and last name unless we we modify the function. \n",
    "\n",
    "If we do modify the function, all we need to do is run the test again and it will tell us if that specific part of the function is working correctly. \n",
    "\n",
    "### A Failing Test\n",
    "\n",
    "What does a failing test look like? Let us modify the get_formatted_name() so it cam handle middle names, but we will do so in a way that it breaks the function for names with just a first and last name. "
   ]
  },
  {
   "cell_type": "code",
   "execution_count": 12,
   "metadata": {},
   "outputs": [],
   "source": [
    "def get_formatted_name(first, middle, last):\n",
    "    ''' Neatly formats a first middle and last name. '''\n",
    "    full_name = f\"{first} {middle} {last}\"\n",
    "    return full_name"
   ]
  },
  {
   "cell_type": "markdown",
   "metadata": {},
   "source": [
    "This version should work for people with middle names, but when we test the function we will see that we have broken it for people who just have a first and last name. "
   ]
  },
  {
   "cell_type": "code",
   "execution_count": 13,
   "metadata": {},
   "outputs": [
    {
     "name": "stderr",
     "output_type": "stream",
     "text": [
      "E\n",
      "======================================================================\n",
      "ERROR: test_first_last (__main__.NamesTestCase)\n",
      "Testing that first and last names work.\n",
      "----------------------------------------------------------------------\n",
      "Traceback (most recent call last):\n",
      "  File \"/var/folders/4c/kn2cjcbd657fzzm152d57g740000gn/T/ipykernel_52059/1220480226.py\", line 9, in test_first_last\n",
      "    formatted_name = get_formatted_name(\"Cameron\", \"Wheeler\")\n",
      "TypeError: get_formatted_name() missing 1 required positional argument: 'last'\n",
      "\n",
      "----------------------------------------------------------------------\n",
      "Ran 1 test in 0.001s\n",
      "\n",
      "FAILED (errors=1)\n"
     ]
    }
   ],
   "source": [
    "import unittest\n",
    "\n",
    "class NamesTestCase(unittest.TestCase):\n",
    "    ''' Creating a test case to learn how to test code. '''\n",
    "    \n",
    "    def test_first_last(self):\n",
    "        ''' Testing that first and last names work. '''\n",
    "\n",
    "        formatted_name = get_formatted_name(\"Cameron\", \"Wheeler\")\n",
    "        self.assertEqual(formatted_name, \"Cameron Wheeler\")\n",
    "\n",
    "if __name__ == \"__main__\":\n",
    "    # Altered the code from the book to allow it to run in Jupyter Notebook.\n",
    "    unittest.main(argv=['first-arg-is-ignored'], exit=False)"
   ]
  },
  {
   "cell_type": "markdown",
   "metadata": {},
   "source": [
    "There is a lot of information here, because we might need a lot of information to know when a test fails. The first item is a E this tells us that one of the unit tests has failed. Next we see which test has failed specifically. Knowing which test has failed is critical when testing many unit test at once. Following that we see a standard Traceback that tells us what has gone wrong. We can see that \"Cameron\", \"Wheeler\" no longer works because we are missing one argument (the middle name). We can see that 1 test was run and the time it was run in and the number of failed tests we have gotten, in the field if we have gotten a lot of tests, this means we wont have to scroll up to see how many tests failed.\n",
    "\n",
    "\n",
    "### Responding To A Failed Test.\n",
    "\n",
    "What do we do if a test fails??? Assuming that we are checking the right conditions, a passing testing means the function is behaving correctly and a failed test means there is an error in our new code that we have written. So when a test fails, do not change the test, fix the code that is making the test fail. Examine the changes that we have made to the function and figure out how these changes have broken the desired behavior of the function. In this case, the get_formatted_name used to require only 2 parameters, but now it requires 3. The addition of that middle parameter broke the desired behavior of the function. \n",
    "\n",
    "The fix here is to make the middle name optional, once we do our test should work again and we should be able to accept middle names as well. "
   ]
  },
  {
   "cell_type": "code",
   "execution_count": 18,
   "metadata": {},
   "outputs": [],
   "source": [
    "def get_formatted_name(first, last, middle=''):\n",
    "    ''' Neatly formats full name. '''\n",
    "    if middle:\n",
    "        full_name = f\"{first} {middle} {last}\"\n",
    "        return full_name\n",
    "    else:\n",
    "        full_name = f\"{first} {last}\"\n",
    "    return full_name"
   ]
  },
  {
   "cell_type": "markdown",
   "metadata": {},
   "source": [
    "This new version will treat the middle name as optional, using an if statement to check if middle has a value or not. If we test the function with just a first and last name it should pass again. "
   ]
  },
  {
   "cell_type": "code",
   "execution_count": null,
   "metadata": {},
   "outputs": [
    {
     "name": "stderr",
     "output_type": "stream",
     "text": [
      ".\n",
      "----------------------------------------------------------------------\n",
      "Ran 1 test in 0.002s\n",
      "\n",
      "OK\n"
     ]
    }
   ],
   "source": [
    "import unittest\n",
    "\n",
    "class NamesTestCase(unittest.TestCase):\n",
    "    ''' Creating a test case to learn how to test code. '''\n",
    "    \n",
    "    def test_first_last(self):\n",
    "        ''' Testing that first and last names work. '''\n",
    "\n",
    "        formatted_name = get_formatted_name(\"Cameron\", \"Wheeler\")\n",
    "        self.assertEqual(formatted_name, \"Cameron Wheeler\")\n",
    "\n",
    "if __name__ == \"__main__\":\n",
    "    # Altered the code from the book to allow it to run in Jupyter Notebook.\n",
    "    unittest.main(argv=['first-arg-is-ignored'], exit=False)"
   ]
  },
  {
   "cell_type": "markdown",
   "metadata": {},
   "source": [
    "The test case passes again, this is what we want. Fixing our function was easy because the failed test helped us identify the code that was going wrong.\n",
    "\n",
    "\n",
    "### Adding New Tests\n",
    "\n",
    "Now that we understand how testing works for simple tasks, lets write a second test for people who include a middle name. We just need to add another method to the test case that we already have. "
   ]
  },
  {
   "cell_type": "code",
   "execution_count": 22,
   "metadata": {},
   "outputs": [
    {
     "name": "stderr",
     "output_type": "stream",
     "text": [
      "..\n",
      "----------------------------------------------------------------------\n",
      "Ran 2 tests in 0.001s\n",
      "\n",
      "OK\n"
     ]
    }
   ],
   "source": [
    "class NamesTestCase(unittest.TestCase):\n",
    "    ''' Creating a test case to learn how to test code. '''\n",
    "    \n",
    "    def test_first_last(self):\n",
    "        ''' Testing that first and last names work. '''\n",
    "\n",
    "        formatted_name = get_formatted_name(\"Cameron\", \"Wheeler\")\n",
    "        self.assertEqual(formatted_name, \"Cameron Wheeler\")\n",
    "\n",
    "    def test_first_middle_last(self):\n",
    "        ''' Testing the first middle and last names work. '''\n",
    "        formatted_name = get_formatted_name(\"Cameron\", \"Wheeler\", \"Albert\")\n",
    "        self.assertEqual(formatted_name, \"Cameron Albert Wheeler\")\n",
    "\n",
    "if __name__ == \"__main__\":\n",
    "    # Altered the code from the book to allow it to run in Jupyter Notebook.\n",
    "    unittest.main(argv=['first-arg-is-ignored'], exit=False)"
   ]
  },
  {
   "cell_type": "markdown",
   "metadata": {},
   "source": [
    "We name this new unit test beginning with test as it will run automatically when we run the file. It is fine to have long names in our tests as they need to be descriptive so we can make changes in the right places. To test the function we call the get_formatted_name() and pass the first, last and middle names as arguments (note the order they are in). We use assertEqual() to check that the returned full name matches the name that we have given. We can see above that both the tests have passed. \n",
    "\n",
    "### Try it Yourself. \n",
    "\n",
    "Write a function that accepts two parameters: a city name and a country name. The function should return a single string in the form of \"City, Country\", then create a test for that function. "
   ]
  },
  {
   "cell_type": "code",
   "execution_count": 23,
   "metadata": {},
   "outputs": [],
   "source": [
    "def get_formatted_city(city, country):\n",
    "    ''' Returns a neatly formatted string with the city and country. '''\n",
    "    formatted_city = f\"{city} {country}\"\n",
    "    return formatted_city.title()"
   ]
  },
  {
   "cell_type": "code",
   "execution_count": 24,
   "metadata": {},
   "outputs": [
    {
     "name": "stderr",
     "output_type": "stream",
     "text": [
      "...\n",
      "----------------------------------------------------------------------\n",
      "Ran 3 tests in 0.001s\n",
      "\n",
      "OK\n"
     ]
    }
   ],
   "source": [
    "import unittest\n",
    "\n",
    "class CityCountryTestCase(unittest.TestCase):\n",
    "    ''' Contains the unit tests checking desired function behavior. '''\n",
    "\n",
    "    def test_city_country(self):\n",
    "        ''' Tests that the city and country are correctly formatted. '''\n",
    "        formatted_city = get_formatted_city(city=\"London\", country=\"England\")\n",
    "        self.assertEqual(formatted_city, \"London England\")\n",
    "\n",
    "if __name__ == '__main__':\n",
    "    unittest.main(argv=['first-arg-is-ignored'], exit=False)"
   ]
  },
  {
   "cell_type": "markdown",
   "metadata": {},
   "source": [
    "Modify the function so that it requires a third parameter \"population\", it should now return a a string with city, country, population. Once that is done, test to make sure it fails the first test, then modify the function so that it passes. Write a second test that verifies that we can call our function with 3 parameters. "
   ]
  },
  {
   "cell_type": "code",
   "execution_count": 25,
   "metadata": {},
   "outputs": [],
   "source": [
    "def get_formatted_city(city, country, population):\n",
    "    ''' Returns a neatly formatted string with the city and country. '''\n",
    "    formatted_city = f\"{city} {country} {population} \"\n",
    "    return formatted_city.title()"
   ]
  },
  {
   "cell_type": "code",
   "execution_count": 32,
   "metadata": {},
   "outputs": [
    {
     "name": "stderr",
     "output_type": "stream",
     "text": [
      "...\n",
      "----------------------------------------------------------------------\n",
      "Ran 3 tests in 0.001s\n",
      "\n",
      "OK\n"
     ]
    }
   ],
   "source": [
    "class CityCountryTestCase(unittest.TestCase):\n",
    "    ''' Contains the unit tests checking desired function behavior. '''\n",
    "\n",
    "    def test_city_country(self):\n",
    "        ''' Tests that the city and country are correctly formatted. '''\n",
    "        formatted_city = get_formatted_city(city=\"London\", country=\"England\")\n",
    "        self.assertEqual(formatted_city, \"London England\")\n",
    "\n",
    "if __name__ == '__main__':\n",
    "    unittest.main(argv=['first-arg-is-ignored'], exit=False)"
   ]
  },
  {
   "cell_type": "code",
   "execution_count": 33,
   "metadata": {},
   "outputs": [],
   "source": [
    "def get_formatted_city(city, country, population=''):\n",
    "    ''' Returns a neatly formatted string with the city and country. '''\n",
    "    \n",
    "    if population:\n",
    "        formatted_city = f\"{city} {country} {population}\"\n",
    "    else:\n",
    "        formatted_city = f\"{city} {country}\"\n",
    "        \n",
    "    return formatted_city.title()"
   ]
  },
  {
   "cell_type": "code",
   "execution_count": 28,
   "metadata": {},
   "outputs": [
    {
     "name": "stderr",
     "output_type": "stream",
     "text": [
      "...\n",
      "----------------------------------------------------------------------\n",
      "Ran 3 tests in 0.001s\n",
      "\n",
      "OK\n"
     ]
    }
   ],
   "source": [
    "class CityCountryTestCase(unittest.TestCase):\n",
    "    ''' Contains the unit tests checking desired function behavior. '''\n",
    "\n",
    "    def test_city_country(self):\n",
    "        ''' Tests that the city and country are correctly formatted. '''\n",
    "        formatted_city = get_formatted_city(city=\"London\", country=\"England\")\n",
    "        self.assertEqual(formatted_city, \"London England\")\n",
    "\n",
    "if __name__ == '__main__':\n",
    "    unittest.main(argv=['first-arg-is-ignored'], exit=False)"
   ]
  },
  {
   "cell_type": "code",
   "execution_count": 34,
   "metadata": {},
   "outputs": [
    {
     "name": "stderr",
     "output_type": "stream",
     "text": [
      "....\n",
      "----------------------------------------------------------------------\n",
      "Ran 4 tests in 0.002s\n",
      "\n",
      "OK\n"
     ]
    }
   ],
   "source": [
    "class CityCountryTestCase(unittest.TestCase):\n",
    "    ''' Contains the unit tests checking desired function behavior. '''\n",
    "\n",
    "    def test_city_country(self):\n",
    "        ''' Tests that the city and country are correctly formatted. '''\n",
    "        formatted_city = get_formatted_city(city=\"London\", country=\"England\")\n",
    "        self.assertEqual(formatted_city, \"London England\")\n",
    "\n",
    "    def test_city_country_population(self):\n",
    "        formatted_city = get_formatted_city(city=\"London\", country=\"England\", population=\"9,541,000\")\n",
    "        self.assertEqual(formatted_city, \"London England 9,541,000\")\n",
    "\n",
    "if __name__ == '__main__':\n",
    "    unittest.main(argv=['first-arg-is-ignored'], exit=False)"
   ]
  }
 ],
 "metadata": {
  "interpreter": {
   "hash": "aee8b7b246df8f9039afb4144a1f6fd8d2ca17a180786b69acc140d282b71a49"
  },
  "kernelspec": {
   "display_name": "Python 3.10.4 64-bit",
   "language": "python",
   "name": "python3"
  },
  "language_info": {
   "codemirror_mode": {
    "name": "ipython",
    "version": 3
   },
   "file_extension": ".py",
   "mimetype": "text/x-python",
   "name": "python",
   "nbconvert_exporter": "python",
   "pygments_lexer": "ipython3",
   "version": "3.10.4"
  },
  "orig_nbformat": 4
 },
 "nbformat": 4,
 "nbformat_minor": 2
}
