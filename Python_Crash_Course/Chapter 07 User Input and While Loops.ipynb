{
 "cells": [
  {
   "cell_type": "markdown",
   "id": "f1f073fb",
   "metadata": {},
   "source": [
    "# Chapter 7 User Input and While Loops"
   ]
  },
  {
   "cell_type": "markdown",
   "id": "71f2b9c9",
   "metadata": {},
   "source": [
    "### How The Input( ) Function Works\n",
    "\n",
    "The input function pauses the program and allows the user to input some stuff into the program. Once python gets the input from the user it assings the input to a varible that allows us to work with it "
   ]
  },
  {
   "cell_type": "code",
   "execution_count": 1,
   "id": "8da4c411",
   "metadata": {},
   "outputs": [
    {
     "name": "stdout",
     "output_type": "stream",
     "text": [
      "Cameron\n"
     ]
    }
   ],
   "source": [
    "message = input(\"Tell me something, and I will repeat it back to you: \")\n",
    "print(message)"
   ]
  },
  {
   "cell_type": "markdown",
   "id": "8c3e442f",
   "metadata": {},
   "source": [
    "> The input function takes the prompt tell me something........ then waits for the user to input some data (a string) and when they press enter, it assings the user imput into to the variable message. We then print the variable message."
   ]
  },
  {
   "cell_type": "code",
   "execution_count": 3,
   "id": "e6758b04",
   "metadata": {},
   "outputs": [
    {
     "name": "stdout",
     "output_type": "stream",
     "text": [
      "Please enter your name when prompted to do so and press enter: Cameron\n",
      "Hello Cameron!\n"
     ]
    }
   ],
   "source": [
    "# Be sure to write clear promts to tell the user what to do.\n",
    "\n",
    "# Also make sure we add a space after our colon : so ensure there is room for the user to input their data\n",
    "hello = input(\"Please enter your name when prompted to do so and press enter: \")\n",
    "print(f\"Hello {hello.title()}!\")"
   ]
  },
  {
   "cell_type": "markdown",
   "id": "4ed32bbc",
   "metadata": {},
   "source": [
    "### Using int() function to accept numerical input\n",
    "\n",
    "When we use the input function anything that is placed into that input will be a string, consider the following:"
   ]
  },
  {
   "cell_type": "code",
   "execution_count": 4,
   "id": "31a80393",
   "metadata": {},
   "outputs": [
    {
     "name": "stdout",
     "output_type": "stream",
     "text": [
      "Hello, may you please enter your age and press enter: 22\n"
     ]
    },
    {
     "ename": "TypeError",
     "evalue": "can only concatenate str (not \"int\") to str",
     "output_type": "error",
     "traceback": [
      "\u001b[0;31m---------------------------------------------------------------------------\u001b[0m",
      "\u001b[0;31mTypeError\u001b[0m                                 Traceback (most recent call last)",
      "Input \u001b[0;32mIn [4]\u001b[0m, in \u001b[0;36m<cell line: 2>\u001b[0;34m()\u001b[0m\n\u001b[1;32m      1\u001b[0m testing \u001b[38;5;241m=\u001b[39m \u001b[38;5;28minput\u001b[39m(\u001b[38;5;124m\"\u001b[39m\u001b[38;5;124mHello, may you please enter your age and press enter: \u001b[39m\u001b[38;5;124m\"\u001b[39m)\n\u001b[0;32m----> 2\u001b[0m \u001b[38;5;28mprint\u001b[39m(\u001b[43mtesting\u001b[49m\u001b[43m \u001b[49m\u001b[38;5;241;43m+\u001b[39;49m\u001b[43m \u001b[49m\u001b[38;5;241;43m2\u001b[39;49m)\n",
      "\u001b[0;31mTypeError\u001b[0m: can only concatenate str (not \"int\") to str"
     ]
    }
   ],
   "source": [
    "testing = input(\"Hello, may you please enter your age and press enter: \")\n",
    "print(testing + 2)"
   ]
  },
  {
   "cell_type": "code",
   "execution_count": 5,
   "id": "06703389",
   "metadata": {},
   "outputs": [
    {
     "name": "stdout",
     "output_type": "stream",
     "text": [
      "Hello, may you please enter your age and press enter: 22\n"
     ]
    },
    {
     "ename": "TypeError",
     "evalue": "'>=' not supported between instances of 'str' and 'int'",
     "output_type": "error",
     "traceback": [
      "\u001b[0;31m---------------------------------------------------------------------------\u001b[0m",
      "\u001b[0;31mTypeError\u001b[0m                                 Traceback (most recent call last)",
      "Input \u001b[0;32mIn [5]\u001b[0m, in \u001b[0;36m<cell line: 2>\u001b[0;34m()\u001b[0m\n\u001b[1;32m      1\u001b[0m testing \u001b[38;5;241m=\u001b[39m \u001b[38;5;28minput\u001b[39m(\u001b[38;5;124m\"\u001b[39m\u001b[38;5;124mHello, may you please enter your age and press enter: \u001b[39m\u001b[38;5;124m\"\u001b[39m)\n\u001b[0;32m----> 2\u001b[0m \u001b[38;5;28;01mif\u001b[39;00m \u001b[43mtesting\u001b[49m\u001b[43m \u001b[49m\u001b[38;5;241;43m>\u001b[39;49m\u001b[38;5;241;43m=\u001b[39;49m\u001b[43m \u001b[49m\u001b[38;5;241;43m21\u001b[39;49m:\n\u001b[1;32m      3\u001b[0m     \u001b[38;5;28mprint\u001b[39m(\u001b[38;5;124m\"\u001b[39m\u001b[38;5;124mWow you are older than 21\u001b[39m\u001b[38;5;124m\"\u001b[39m)\n",
      "\u001b[0;31mTypeError\u001b[0m: '>=' not supported between instances of 'str' and 'int'"
     ]
    }
   ],
   "source": [
    "testing = input(\"Hello, may you please enter your age and press enter: \")\n",
    "if testing >= 21:\n",
    "    print(\"Wow you are older than 21\")"
   ]
  },
  {
   "cell_type": "markdown",
   "id": "b64a1558",
   "metadata": {},
   "source": [
    "> Basically, everything we put into the input function is a STRING, not an interger even if we input a number, so now lets make it an INTERGER"
   ]
  },
  {
   "cell_type": "code",
   "execution_count": 6,
   "id": "9cc783e9",
   "metadata": {},
   "outputs": [
    {
     "name": "stdout",
     "output_type": "stream",
     "text": [
      "Hello, may you please enter your age and press enter: 22\n",
      "Wow you are older than 21\n"
     ]
    }
   ],
   "source": [
    "testing = input(\"Hello, may you please enter your age and press enter: \")\n",
    "# Turning the variable into an interger\n",
    "testing = int(testing)\n",
    "if testing >= 21:\n",
    "    print(\"Wow you are older than 21\")"
   ]
  },
  {
   "cell_type": "code",
   "execution_count": 7,
   "id": "6505dbbf",
   "metadata": {},
   "outputs": [
    {
     "name": "stdout",
     "output_type": "stream",
     "text": [
      "How tall are you in cm?: 198\n",
      "You are tall enough to ride the roller coaster\n"
     ]
    }
   ],
   "source": [
    "height = input(\"How tall are you in cm?: \")\n",
    "height = int(height)\n",
    "\n",
    "# Checking if they are tall enough the ride on the roller coaster \n",
    "if height >= 160 and height <= 200:\n",
    "    print(\"You are tall enough to ride the roller coaster\")\n",
    "elif height >= 200:\n",
    "    print(\"You are too tall to ride!\")\n",
    "elif height <= 159:\n",
    "    print(\"You are too short to ride!\")"
   ]
  },
  {
   "cell_type": "markdown",
   "id": "f0e8928a",
   "metadata": {},
   "source": [
    "### The Modulo Operator (%)\n",
    "\n",
    "This divides the number by the other number and returns the remainder for example"
   ]
  },
  {
   "cell_type": "code",
   "execution_count": 8,
   "id": "718cefc6",
   "metadata": {},
   "outputs": [
    {
     "data": {
      "text/plain": [
       "1"
      ]
     },
     "execution_count": 8,
     "metadata": {},
     "output_type": "execute_result"
    }
   ],
   "source": [
    "4 % 3"
   ]
  },
  {
   "cell_type": "code",
   "execution_count": 9,
   "id": "593f8f8e",
   "metadata": {},
   "outputs": [
    {
     "data": {
      "text/plain": [
       "0"
      ]
     },
     "execution_count": 9,
     "metadata": {},
     "output_type": "execute_result"
    }
   ],
   "source": [
    "6 % 3"
   ]
  },
  {
   "cell_type": "code",
   "execution_count": 10,
   "id": "d5ddbf08",
   "metadata": {},
   "outputs": [
    {
     "data": {
      "text/plain": [
       "2"
      ]
     },
     "execution_count": 10,
     "metadata": {},
     "output_type": "execute_result"
    }
   ],
   "source": [
    "14 % 3"
   ]
  },
  {
   "cell_type": "markdown",
   "id": "40ce701b",
   "metadata": {},
   "source": [
    "> So we place the 3 into 4 and return how many is remaining, 3 into 6, 3 into 14 etc \n",
    "\n",
    "> The modulo operator doesn't show us how many times one number fits into another, only how much is remaining"
   ]
  },
  {
   "cell_type": "code",
   "execution_count": 11,
   "id": "60ae8427",
   "metadata": {},
   "outputs": [
    {
     "name": "stdout",
     "output_type": "stream",
     "text": [
      "Please tell us a number and we will see if it's odd or even for you: 22\n",
      "This number is even\n"
     ]
    }
   ],
   "source": [
    "# Checking if a number is odd or even\n",
    "\n",
    "number = input(\"Please tell us a number and we will see if it's odd or even for you: \")\n",
    "number = int(number)\n",
    "\n",
    "if number % 2 == 0:\n",
    "    print(\"This number is even\")\n",
    "else:\n",
    "    print(\"This number is odd\")"
   ]
  },
  {
   "cell_type": "markdown",
   "id": "67d7e2c9",
   "metadata": {},
   "source": [
    "## Tasks"
   ]
  },
  {
   "cell_type": "code",
   "execution_count": 12,
   "id": "3b93d795",
   "metadata": {},
   "outputs": [
    {
     "name": "stdout",
     "output_type": "stream",
     "text": [
      "What kind of car would you like to rent?: tesla\n",
      "Let me see if I have a tesla in available\n"
     ]
    }
   ],
   "source": [
    "rental_car = input(\"What kind of car would you like to rent?: \")\n",
    "\n",
    "print(f\"Let me see if I have a {rental_car} in available\")"
   ]
  },
  {
   "cell_type": "code",
   "execution_count": 13,
   "id": "d641545d",
   "metadata": {},
   "outputs": [
    {
     "name": "stdout",
     "output_type": "stream",
     "text": [
      "How many people are in your dinner group?: 22\n",
      "That's a big table! The wait is around 20 mins\n"
     ]
    }
   ],
   "source": [
    "table_size = input(\"How many people are in your dinner group?: \")\n",
    "table_size = int(table_size)\n",
    "\n",
    "if table_size >= 8:\n",
    "    print(\"That's a big table! The wait is around 20 mins\")\n",
    "else:\n",
    "    print(\"Perfect, please follow me to your table\")"
   ]
  },
  {
   "cell_type": "code",
   "execution_count": 14,
   "id": "8d532998",
   "metadata": {},
   "outputs": [
    {
     "name": "stdout",
     "output_type": "stream",
     "text": [
      "Provide a number and I will compute if it is a multiple of 10 or not: 33\n",
      "This isn't a mutliple of 10\n"
     ]
    }
   ],
   "source": [
    "number = input(\"Provide a number and I will compute if it is a multiple of 10 or not: \")\n",
    "number = int(number)\n",
    "\n",
    "if number % 10 == 0:\n",
    "    print(\"This is a multiple of 10\")\n",
    "else:\n",
    "    print(\"This isn't a mutliple of 10\")"
   ]
  },
  {
   "cell_type": "markdown",
   "id": "0b225209",
   "metadata": {},
   "source": [
    "## While Loops\n",
    "\n",
    "For loops take a section of code and run that code once for each item in the collection, or if we ask the code to run a set amount of times. However, while loops will run for as long as a condition (true or false) is true."
   ]
  },
  {
   "cell_type": "markdown",
   "id": "aca4321d",
   "metadata": {},
   "source": [
    "## Tasks"
   ]
  },
  {
   "cell_type": "code",
   "execution_count": 15,
   "id": "f3fa4f3b",
   "metadata": {},
   "outputs": [
    {
     "name": "stdout",
     "output_type": "stream",
     "text": [
      "I am making your ham and cheese, it will be complete soon.\n",
      "I am making your steak, it will be complete soon.\n",
      "I am making your ham and cheese, it will be complete soon.\n",
      "\n",
      "--- ALL ORDERS ARE FINISHED ---\n",
      "The orders are complete, please collect your ham and cheese sandwhich\n",
      "The orders are complete, please collect your steak sandwhich\n",
      "The orders are complete, please collect your ham and cheese sandwhich\n"
     ]
    }
   ],
   "source": [
    "ordered_sandwhiches = ['ham and cheese', 'steak', 'veggie',]\n",
    "completed_orders = []\n",
    "\n",
    "while ordered_sandwhiches:\n",
    "    for sandwhich in ordered_sandwhiches:\n",
    "        ordered_sandwhiches.pop()\n",
    "        completed_orders.append(sandwhich)\n",
    "        print(f\"I am making your {sandwhich}, it will be complete soon.\")\n",
    "\n",
    "print(\"\\n--- ALL ORDERS ARE FINISHED ---\")\n",
    "\n",
    "for sandwhich in completed_orders:\n",
    "    print(f\"The orders are complete, please collect your {sandwhich} sandwhich\")\n",
    "\n"
   ]
  },
  {
   "cell_type": "markdown",
   "id": "22f2618c",
   "metadata": {},
   "source": [
    "> Here we are making a deli order for sandwhiches, first we set the list of ordered sandwhiches and we create a list of completed orders (its empty). Then we use a while loop to loop through the ordered list until its empty, we pop the sandwhich, append it to completed ordered and print that we are making the order. Next we then make a defining message outside of the loop and then run through the complete sandwhich list asking customers to come and collect their sandwhiches"
   ]
  },
  {
   "cell_type": "code",
   "execution_count": 16,
   "id": "96b20417",
   "metadata": {},
   "outputs": [
    {
     "name": "stdout",
     "output_type": "stream",
     "text": [
      "We are out of pastrami, sorry!!!\n",
      "I am making your ham and cheese, it will be complete soon.\n",
      "I am making your steak, it will be complete soon.\n",
      "I am making your ham and cheese, it will be complete soon.\n",
      "\n",
      "--- ALL ORDERS ARE FINISHED ---\n",
      "The orders are complete, please collect your ham and cheese sandwhich\n",
      "The orders are complete, please collect your steak sandwhich\n",
      "The orders are complete, please collect your ham and cheese sandwhich\n"
     ]
    }
   ],
   "source": [
    "ordered_sandwhiches = ['ham and cheese', 'pastrami', 'steak', 'pastrami', 'veggie', 'pastrami']\n",
    "completed_orders = []\n",
    "\n",
    "print(\"We are out of pastrami, sorry!!!\")\n",
    "\n",
    "# Removing all the pastrami from the list of orders\n",
    "while 'pastrami' in ordered_sandwhiches:\n",
    "    ordered_sandwhiches.remove('pastrami')\n",
    "\n",
    "# Back to normal (same code as above)\n",
    "while ordered_sandwhiches:\n",
    "    for sandwhich in ordered_sandwhiches:\n",
    "        ordered_sandwhiches.pop()\n",
    "        completed_orders.append(sandwhich)\n",
    "        print(f\"I am making your {sandwhich}, it will be complete soon.\")\n",
    "\n",
    "print(\"\\n--- ALL ORDERS ARE FINISHED ---\")\n",
    "\n",
    "for sandwhich in completed_orders:\n",
    "    print(f\"The orders are complete, please collect your {sandwhich} sandwhich\")"
   ]
  },
  {
   "cell_type": "markdown",
   "id": "afe7c56c",
   "metadata": {},
   "source": [
    "> Same code as above but this time, people have ordered pastrami but we have run out. So we have to use another while loop to remove all the pastrami from the list of ordered sandwhiches"
   ]
  },
  {
   "cell_type": "code",
   "execution_count": 17,
   "id": "6040665b",
   "metadata": {},
   "outputs": [
    {
     "name": "stdout",
     "output_type": "stream",
     "text": [
      "What is your name? Cameron\n",
      "What is your dream vacation? london\n",
      "\n",
      "Do you want to quit?\n",
      "If you want to quit, type yes, if there are more people that need to answer type noyes\n",
      "\n",
      "Cameron's ideal vacation is london\n"
     ]
    }
   ],
   "source": [
    "# Setting up dictionary\n",
    "dream_vacation = {}\n",
    "\n",
    "# Setting the flag\n",
    "flag = True\n",
    "\n",
    "# While loop to run through the questions\n",
    "while flag == True:\n",
    "# Setting up the questions \n",
    "    name = input(\"What is your name? \")\n",
    "    response = input(\"What is your dream vacation? \")\n",
    "\n",
    "# Add the keys and variables to the dictionary\n",
    "# remeber its dictionary[key] = value\n",
    "    dream_vacation[name] = response\n",
    "    \n",
    "# Asking if the user wants to keep polling\n",
    "    print(\"\\nDo you want to quit?\")\n",
    "    quit = input(\"If you want to quit, type yes, if there are more people that need to answer type no\")\n",
    "    \n",
    "    if quit == 'yes':\n",
    "        flag = False\n",
    "\n",
    "# Take the data from the dictionary and print it all out using a for loop\n",
    "# Remeber items()\n",
    "for name, response in dream_vacation.items():\n",
    "    print(f\"\\n{name}'s ideal vacation is {response}\")"
   ]
  },
  {
   "cell_type": "markdown",
   "id": "3b96364d",
   "metadata": {},
   "source": [
    "## Summary\n",
    "\n",
    "- In this chapter I have learned to use input() function, as well as learning how to use while loops in conjuction wiht many things such as lists and dictionaries.\n",
    "\n",
    "- I have also refreshed on how to use pop() and adding for loops and f strings to run through lists and dictionaries and print them off without having all the brackets and stuff.\n",
    "\n",
    "- We also learned how to use break, continue and flags.\n",
    "\n",
    "- Remember to use items() with going through a dictionary and stating the two variables when printing both."
   ]
  },
  {
   "cell_type": "markdown",
   "id": "15e15239",
   "metadata": {},
   "source": [
    "We are now going to use functions, these allow us to break our code into smaller parts each of which does one specific job, we can call a function as many times as we want and we can store functions in seperate files. By using functions we will be able to write efficient code thats easier to troubleshoot and maintain as well as being reused in several programs."
   ]
  }
 ],
 "metadata": {
  "interpreter": {
   "hash": "aee8b7b246df8f9039afb4144a1f6fd8d2ca17a180786b69acc140d282b71a49"
  },
  "kernelspec": {
   "display_name": "Python 3.10.4 64-bit",
   "language": "python",
   "name": "python3"
  },
  "language_info": {
   "codemirror_mode": {
    "name": "ipython",
    "version": 3
   },
   "file_extension": ".py",
   "mimetype": "text/x-python",
   "name": "python",
   "nbconvert_exporter": "python",
   "pygments_lexer": "ipython3",
   "version": "3.10.4"
  }
 },
 "nbformat": 4,
 "nbformat_minor": 5
}
