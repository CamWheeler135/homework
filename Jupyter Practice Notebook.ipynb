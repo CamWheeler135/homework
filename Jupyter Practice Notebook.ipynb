{
 "cells": [
  {
   "cell_type": "markdown",
   "id": "f3f4b84d",
   "metadata": {},
   "source": [
    "  "
   ]
  },
  {
   "cell_type": "markdown",
   "id": "e5016b78",
   "metadata": {},
   "source": [
    "# Welcome To Cameron's Notebook.\n",
    "\n",
    "## In this book we will be running over the basics in python with lessons by Mattia and the Python Crash Course Book.\n",
    "\n",
    "### There will be a title, in which there will be subheadings and following certain code cells, will be an explanation of what is happening in the cell. At the end of each chapter, there will be a task I have done myself and then some take away points to consider!"
   ]
  },
  {
   "cell_type": "markdown",
   "id": "6eed7cc6",
   "metadata": {},
   "source": [
    "# Chapter 2 Variables and Simple Data Types"
   ]
  },
  {
   "cell_type": "markdown",
   "id": "1cf63297",
   "metadata": {},
   "source": [
    "### Variables "
   ]
  },
  {
   "cell_type": "code",
   "execution_count": 1,
   "id": "e628f50f",
   "metadata": {},
   "outputs": [
    {
     "name": "stdout",
     "output_type": "stream",
     "text": [
      "Hello\n"
     ]
    }
   ],
   "source": [
    "print(\"Hello\")"
   ]
  },
  {
   "cell_type": "code",
   "execution_count": 1,
   "id": "af35a3c1",
   "metadata": {},
   "outputs": [
    {
     "name": "stdout",
     "output_type": "stream",
     "text": [
      "hello Cameron, this is the variable message\n"
     ]
    }
   ],
   "source": [
    "message = \"Hello Cameron, this is the variable message\"\n",
    "print(message)"
   ]
  },
  {
   "cell_type": "markdown",
   "id": "9c663bae",
   "metadata": {},
   "source": [
    "> We are assinging a value to the variable \"message\""
   ]
  },
  {
   "cell_type": "code",
   "execution_count": 3,
   "id": "2791a445",
   "metadata": {},
   "outputs": [
    {
     "name": "stdout",
     "output_type": "stream",
     "text": [
      "Hello Cameron, this is the variable message\n",
      "Hello again Cameron, this is still the variable message, but I am showing variable 'values' can be updated\n"
     ]
    }
   ],
   "source": [
    "message = \"Hello Cameron, this is the variable message\"\n",
    "print(message)\n",
    "\n",
    "message = \"Hello again Cameron, this is still the variable message, but I am showing variable 'values' can be updated\"\n",
    "print(message)"
   ]
  },
  {
   "cell_type": "markdown",
   "id": "a2e1c072",
   "metadata": {},
   "source": [
    "> Variables and their corresponding values can be updated and python will keep a track of them as we code"
   ]
  },
  {
   "cell_type": "code",
   "execution_count": 4,
   "id": "c017be46",
   "metadata": {
    "scrolled": true
   },
   "outputs": [
    {
     "ename": "NameError",
     "evalue": "name 'mesage' is not defined",
     "output_type": "error",
     "traceback": [
      "\u001b[1;31m---------------------------------------------------------------------------\u001b[0m",
      "\u001b[1;31mNameError\u001b[0m                                 Traceback (most recent call last)",
      "Input \u001b[1;32mIn [4]\u001b[0m, in \u001b[0;36m<module>\u001b[1;34m\u001b[0m\n\u001b[0;32m      1\u001b[0m message \u001b[38;5;241m=\u001b[39m \u001b[38;5;124m\"\u001b[39m\u001b[38;5;124mIn this cell we are trying to throw an error\u001b[39m\u001b[38;5;124m\"\u001b[39m\n\u001b[1;32m----> 2\u001b[0m \u001b[38;5;28mprint\u001b[39m(\u001b[43mmesage\u001b[49m)\n",
      "\u001b[1;31mNameError\u001b[0m: name 'mesage' is not defined"
     ]
    }
   ],
   "source": [
    "message = \"In this cell we are trying to throw an error\"\n",
    "print(mesage)"
   ]
  },
  {
   "cell_type": "markdown",
   "id": "a73a7483",
   "metadata": {},
   "source": [
    ">First it shows us the error type 'NameError'.\n",
    "Then it shows us where the error is taking place 'message'.\n",
    "A name error means we have most likely forgotten to set a value or misspelt the varible we are calling in our code.\n",
    "Python will not spell check our code, but it must be spelled constistently."
   ]
  },
  {
   "cell_type": "markdown",
   "id": "8c4814e4",
   "metadata": {},
   "source": [
    "### Task"
   ]
  },
  {
   "cell_type": "code",
   "execution_count": 7,
   "id": "6e16668d",
   "metadata": {},
   "outputs": [
    {
     "name": "stdout",
     "output_type": "stream",
     "text": [
      "Hello reader, this is Camerons Jupyter Notebook\n"
     ]
    }
   ],
   "source": [
    "message = \"Hello reader, this is Camerons Jupyter Notebook\"\n",
    "print(message)"
   ]
  },
  {
   "cell_type": "code",
   "execution_count": 8,
   "id": "6ba61112",
   "metadata": {},
   "outputs": [
    {
     "name": "stdout",
     "output_type": "stream",
     "text": [
      "Hello reader, this is Camerons Jupyter Notebook\n",
      "Hello reader, this is an update of the 'value' of the message varibale\n"
     ]
    }
   ],
   "source": [
    "message = \"Hello reader, this is Camerons Jupyter Notebook\"\n",
    "print(message)\n",
    "\n",
    "message = \"Hello reader, this is an update of the 'value' of the message varibale\"\n",
    "print(message)"
   ]
  },
  {
   "cell_type": "markdown",
   "id": "3b5de83a",
   "metadata": {},
   "source": [
    "### Take Aways\n",
    "\n",
    "- Variables are like stickers we tag onto values in python, a varibale will reference a certain value \n",
    "- Variable names can only contain letters, numbers and underscores\n",
    "- Not allowed to use spaces in varibale names, instead we use underscores \n",
    "- Dont use python keywords as variables, this will be VERY confusing to read and code \n",
    "- Keep variable names short but descriptive \n",
    "\n"
   ]
  },
  {
   "cell_type": "markdown",
   "id": "1cbe5612",
   "metadata": {},
   "source": [
    "### Strings"
   ]
  },
  {
   "cell_type": "code",
   "execution_count": 1,
   "id": "c95280da",
   "metadata": {},
   "outputs": [
    {
     "name": "stdout",
     "output_type": "stream",
     "text": [
      "Cameron Wheeler\n"
     ]
    }
   ],
   "source": [
    "name = \"cameron wheeler\"\n",
    "\n",
    "print(name.title())"
   ]
  },
  {
   "cell_type": "markdown",
   "id": "04e5683b",
   "metadata": {},
   "source": [
    "> Title is the method of the variable name, a method allows Python to act on some data and the dot  .  tells python to make name a title where each word starts with a capital"
   ]
  },
  {
   "cell_type": "code",
   "execution_count": 12,
   "id": "206a66bb",
   "metadata": {},
   "outputs": [
    {
     "name": "stdout",
     "output_type": "stream",
     "text": [
      "cameron wheeler\n",
      "Hello, Cameron Wheeler!\n"
     ]
    }
   ],
   "source": [
    "first_name = \"cameron\"\n",
    "last_name = \"wheeler\"\n",
    "full_name = (f\"{first_name} {last_name}\")\n",
    "\n",
    "print(f'{first_name} {last_name}')\n",
    "print(f'Hello, {full_name.title()}!')"
   ]
  },
  {
   "cell_type": "code",
   "execution_count": 13,
   "id": "2ec81a2e",
   "metadata": {},
   "outputs": [
    {
     "name": "stdout",
     "output_type": "stream",
     "text": [
      "Tilda Lynda Mark Angus\n"
     ]
    }
   ],
   "source": [
    "dog = \"tilda\"\n",
    "mum = \"lynda\" \n",
    "dad = \"mark\" \n",
    "brother = \"angus\" \n",
    "family = (f'{dog} {mum} {dad} {brother}')\n",
    "\n",
    "print(family.title())"
   ]
  },
  {
   "cell_type": "markdown",
   "id": "9c9e6e48",
   "metadata": {},
   "source": [
    "> Here we are inserting varibles into a string using the f' string, this can be used on any kind of varible to insert it into a string we want to print out. "
   ]
  },
  {
   "cell_type": "code",
   "execution_count": 25,
   "id": "b62a6750",
   "metadata": {},
   "outputs": [
    {
     "name": "stdout",
     "output_type": "stream",
     "text": [
      "Python\n",
      "\tPython\n",
      "\n",
      "\n",
      "Languages\n",
      "Python\n",
      "C+\n",
      "\n",
      "\n",
      "Languages\n",
      "\tPython\n",
      "\tC+\n",
      "\tJavaScript\n"
     ]
    }
   ],
   "source": [
    "print(\"Python\")\n",
    "print(\"\\tPython\")\n",
    "\n",
    "print(\"\\n\")\n",
    "\n",
    "\n",
    "\n",
    "print(\"Languages\\nPython\\nC+\")\n",
    "\n",
    "print(\"\\n\")\n",
    "\n",
    "print(\"Languages\\n\\tPython\\n\\tC+\\n\\tJavaScript\")"
   ]
  },
  {
   "cell_type": "markdown",
   "id": "9efc692f",
   "metadata": {},
   "source": [
    "> Here we are using the \\t character combination to place indents into the text. \n",
    "> Character combination \\n creates a new line in the text, sort of like hitting enter :)"
   ]
  },
  {
   "cell_type": "code",
   "execution_count": 34,
   "id": "140b4d05",
   "metadata": {},
   "outputs": [
    {
     "name": "stdout",
     "output_type": "stream",
     "text": [
      "Python   \n",
      "Python\n"
     ]
    }
   ],
   "source": [
    "best_language = \"Python   \"\n",
    "print(best_language)\n",
    "best_language = best_language.strip()\n",
    "best_language\n",
    "print(best_language)\n",
    "\n"
   ]
  },
  {
   "cell_type": "markdown",
   "id": "824903a2",
   "metadata": {},
   "source": [
    "> using the method strip() removes the white space behind the string that we dont want, this is becuase although we dont see it as important, python will associate that white space as part of the variable. Using strip() removes the whitespace but only temporarily, to remove it permenantly, we have to assign the stripped verison to the variable itself. You can remove space from the left or the right using lstrip() or rstrip().\n",
    "\n",
    "\n",
    "> click next to the code to \"see the gap\""
   ]
  },
  {
   "cell_type": "markdown",
   "id": "2c917751",
   "metadata": {},
   "source": [
    "### Task"
   ]
  },
  {
   "cell_type": "code",
   "execution_count": 5,
   "id": "83bb5b01",
   "metadata": {},
   "outputs": [
    {
     "name": "stdout",
     "output_type": "stream",
     "text": [
      "Hello Eric\n"
     ]
    }
   ],
   "source": [
    "name = \"Eric\"\n",
    "\n",
    "print(f'Hello {name}')"
   ]
  },
  {
   "cell_type": "code",
   "execution_count": 10,
   "id": "91ea30bc",
   "metadata": {},
   "outputs": [
    {
     "name": "stdout",
     "output_type": "stream",
     "text": [
      "CAMERON\n",
      "cameron\n",
      "Cameron\n"
     ]
    }
   ],
   "source": [
    "name = \"Cameron\"\n",
    "\n",
    "print(f'{name.upper()}')\n",
    "print(f'{name.lower()}')\n",
    "print(f'{name.title()}')"
   ]
  },
  {
   "cell_type": "code",
   "execution_count": 16,
   "id": "67c9cf9a",
   "metadata": {},
   "outputs": [
    {
     "name": "stdout",
     "output_type": "stream",
     "text": [
      "Alan Turing once said \"sometimes it is the people no one can imagine anything of who do the things no one can imagine.\"\n"
     ]
    }
   ],
   "source": [
    "name = \"Alan Turing\"\n",
    "quote = '\"Sometimes it is the people no one can imagine anything of who do the things no one can imagine.\"'\n",
    "\n",
    "print(f'{name} once said {quote.lower()}')"
   ]
  },
  {
   "cell_type": "code",
   "execution_count": 27,
   "id": "bb7e53aa",
   "metadata": {},
   "outputs": [
    {
     "name": "stdout",
     "output_type": "stream",
     "text": [
      "Alan Turing once said \"sometimes it is the people no one can imagine anything of who do the things no one can imagine.\"\n"
     ]
    }
   ],
   "source": [
    "name = \"   Alan Turing  \"\n",
    "quote = '\"sometimes it is the people no one can imagine anything of who do the things no one can imagine.\"       '\n",
    "\n",
    "print(f'{name.strip()} once said {quote.strip()}')"
   ]
  },
  {
   "cell_type": "markdown",
   "id": "ce9a5a67",
   "metadata": {},
   "source": [
    "### Take Aways\n",
    "\n",
    "- To add strings into variables we use f' strings\n",
    "-  an /n and /t are used to add a new line and a tab respectively "
   ]
  },
  {
   "cell_type": "markdown",
   "id": "8e62618e",
   "metadata": {},
   "source": [
    "### Numbers"
   ]
  },
  {
   "cell_type": "markdown",
   "id": "5860e051",
   "metadata": {},
   "source": [
    "This is how python will handle integers, it also works similarly with floats. But sometimes it can be complicated when using floats, we will learn about this later on however. "
   ]
  },
  {
   "cell_type": "code",
   "execution_count": 3,
   "id": "46d1affb",
   "metadata": {},
   "outputs": [
    {
     "data": {
      "text/plain": [
       "2"
      ]
     },
     "execution_count": 3,
     "metadata": {},
     "output_type": "execute_result"
    }
   ],
   "source": [
    "1 + 1\n"
   ]
  },
  {
   "cell_type": "code",
   "execution_count": 4,
   "id": "cf273be3",
   "metadata": {},
   "outputs": [
    {
     "data": {
      "text/plain": [
       "4"
      ]
     },
     "execution_count": 4,
     "metadata": {},
     "output_type": "execute_result"
    }
   ],
   "source": [
    "2 * 2"
   ]
  },
  {
   "cell_type": "code",
   "execution_count": 5,
   "id": "4d784fac",
   "metadata": {},
   "outputs": [
    {
     "data": {
      "text/plain": [
       "3"
      ]
     },
     "execution_count": 5,
     "metadata": {},
     "output_type": "execute_result"
    }
   ],
   "source": [
    "5 - 2"
   ]
  },
  {
   "cell_type": "code",
   "execution_count": 6,
   "id": "500e375e",
   "metadata": {},
   "outputs": [
    {
     "data": {
      "text/plain": [
       "3.0"
      ]
     },
     "execution_count": 6,
     "metadata": {},
     "output_type": "execute_result"
    }
   ],
   "source": [
    "6 / 2"
   ]
  },
  {
   "cell_type": "markdown",
   "id": "67e32f58",
   "metadata": {},
   "source": [
    "> It is worth noting that when we divide we will always get a float back, or if you mix an integer with a float you will get a float back\n"
   ]
  },
  {
   "cell_type": "code",
   "execution_count": 9,
   "id": "e8dc2b5f",
   "metadata": {},
   "outputs": [
    {
     "data": {
      "text/plain": [
       "4.0"
      ]
     },
     "execution_count": 9,
     "metadata": {},
     "output_type": "execute_result"
    }
   ],
   "source": [
    "2.0 + 2"
   ]
  },
  {
   "cell_type": "code",
   "execution_count": 10,
   "id": "c619b197",
   "metadata": {},
   "outputs": [
    {
     "data": {
      "text/plain": [
       "4.0"
      ]
     },
     "execution_count": 10,
     "metadata": {},
     "output_type": "execute_result"
    }
   ],
   "source": [
    "2.0 * 2"
   ]
  },
  {
   "cell_type": "code",
   "execution_count": 11,
   "id": "dc3f09e9",
   "metadata": {},
   "outputs": [
    {
     "data": {
      "text/plain": [
       "1.0"
      ]
     },
     "execution_count": 11,
     "metadata": {},
     "output_type": "execute_result"
    }
   ],
   "source": [
    "4.0 - 3"
   ]
  },
  {
   "cell_type": "markdown",
   "id": "b549e282",
   "metadata": {},
   "source": [
    "> You can use underscores to make really large numbers more readable, this will not effect the code when printed, but when reading the code it could be. "
   ]
  },
  {
   "cell_type": "code",
   "execution_count": 12,
   "id": "3cd3d224",
   "metadata": {},
   "outputs": [
    {
     "name": "stdout",
     "output_type": "stream",
     "text": [
      "14000000\n"
     ]
    }
   ],
   "source": [
    "universe_age = 14_000_000\n",
    "\n",
    "print(universe_age)"
   ]
  },
  {
   "cell_type": "code",
   "execution_count": 14,
   "id": "2a4957ce",
   "metadata": {},
   "outputs": [
    {
     "name": "stdout",
     "output_type": "stream",
     "text": [
      "1000\n",
      "10\n",
      "1\n",
      "1000 10 1\n"
     ]
    }
   ],
   "source": [
    "x, y, z = 1000, 10, 1\n",
    "\n",
    "print(x)\n",
    "print(y)\n",
    "print(z)\n",
    "print(x, y, z)"
   ]
  },
  {
   "cell_type": "code",
   "execution_count": 17,
   "id": "b0dcee6f",
   "metadata": {},
   "outputs": [
    {
     "name": "stdout",
     "output_type": "stream",
     "text": [
      "Angus\n",
      "Lynda\n",
      "Mark\n",
      "Tilda\n",
      "Angus Lynda Mark Tilda\n"
     ]
    }
   ],
   "source": [
    "brother, mum, dad, dog = \"Angus\", \"Lynda\", \"Mark\", \"Tilda\"\n",
    "\n",
    "print(brother)\n",
    "print(mum)\n",
    "print(dad)\n",
    "print(dog)\n",
    "print(brother, mum, dad, dog)"
   ]
  },
  {
   "cell_type": "markdown",
   "id": "a17ec438",
   "metadata": {},
   "source": [
    "> We can assign multiple variables in the same line, this will help us make our code more understandable. Note we must seperate our variables and their values with commas (,) "
   ]
  },
  {
   "cell_type": "code",
   "execution_count": 19,
   "id": "71a5952d",
   "metadata": {},
   "outputs": [
    {
     "name": "stdout",
     "output_type": "stream",
     "text": [
      "33\n"
     ]
    }
   ],
   "source": [
    "CONSTANT = 33\n",
    "\n",
    "print(CONSTANT)"
   ]
  },
  {
   "cell_type": "markdown",
   "id": "24dc88e9",
   "metadata": {},
   "source": [
    "> When we make a constant varible (one that will not change throughout the code) we use capital letters. "
   ]
  },
  {
   "cell_type": "markdown",
   "id": "f96a2a9c",
   "metadata": {},
   "source": [
    "### Task"
   ]
  },
  {
   "cell_type": "code",
   "execution_count": 22,
   "id": "715b7cb0",
   "metadata": {},
   "outputs": [
    {
     "name": "stdout",
     "output_type": "stream",
     "text": [
      "8\n",
      "8\n",
      "8\n",
      "8.0\n"
     ]
    }
   ],
   "source": [
    "print(4 + 4)\n",
    "print(10 - 2)\n",
    "print(4 * 2)\n",
    "print(16 / 2)"
   ]
  },
  {
   "cell_type": "code",
   "execution_count": 23,
   "id": "92c23943",
   "metadata": {},
   "outputs": [
    {
     "name": "stdout",
     "output_type": "stream",
     "text": [
      "13\n"
     ]
    }
   ],
   "source": [
    "my_fav_number = 13\n",
    "\n",
    "# This is a comment  \n",
    "\n",
    "print(my_fav_number)"
   ]
  },
  {
   "cell_type": "markdown",
   "id": "81c00eed",
   "metadata": {},
   "source": [
    "### Take Aways"
   ]
  },
  {
   "cell_type": "markdown",
   "id": "2dbce595",
   "metadata": {},
   "source": [
    "- We can assign multiple variables in the same line, but we must include a comma \n",
    "- Underscores can be used to make numbers easier to read, and won't affect the code \n",
    "- Constant variables are defined with CAPITAL LETTERS"
   ]
  },
  {
   "cell_type": "markdown",
   "id": "4501c40f",
   "metadata": {},
   "source": [
    "### The Zen Of Python"
   ]
  },
  {
   "cell_type": "code",
   "execution_count": 1,
   "id": "c3620ccc",
   "metadata": {},
   "outputs": [
    {
     "name": "stdout",
     "output_type": "stream",
     "text": [
      "The Zen of Python, by Tim Peters\n",
      "\n",
      "Beautiful is better than ugly.\n",
      "Explicit is better than implicit.\n",
      "Simple is better than complex.\n",
      "Complex is better than complicated.\n",
      "Flat is better than nested.\n",
      "Sparse is better than dense.\n",
      "Readability counts.\n",
      "Special cases aren't special enough to break the rules.\n",
      "Although practicality beats purity.\n",
      "Errors should never pass silently.\n",
      "Unless explicitly silenced.\n",
      "In the face of ambiguity, refuse the temptation to guess.\n",
      "There should be one-- and preferably only one --obvious way to do it.\n",
      "Although that way may not be obvious at first unless you're Dutch.\n",
      "Now is better than never.\n",
      "Although never is often better than *right* now.\n",
      "If the implementation is hard to explain, it's a bad idea.\n",
      "If the implementation is easy to explain, it may be a good idea.\n",
      "Namespaces are one honking great idea -- let's do more of those!\n"
     ]
    }
   ],
   "source": [
    "import this\n"
   ]
  },
  {
   "cell_type": "markdown",
   "id": "eae9ed2a",
   "metadata": {},
   "source": [
    "# Chapter 3 Introducing Lists"
   ]
  },
  {
   "cell_type": "code",
   "execution_count": 5,
   "id": "c49e7ceb",
   "metadata": {},
   "outputs": [
    {
     "name": "stdout",
     "output_type": "stream",
     "text": [
      "['Apple', 'Microsoft', 'Dell', 'Razer']\n",
      "Apple\n",
      "Microsoft\n",
      "Razer\n"
     ]
    }
   ],
   "source": [
    "computer_companies = [\"Apple\", \"Microsoft\", \"Dell\", \"Razer\"]\n",
    "\n",
    "print(computer_companies)\n",
    "print(computer_companies[0])\n",
    "print(computer_companies[1])\n",
    "print(computer_companies[3])"
   ]
  },
  {
   "cell_type": "code",
   "execution_count": 10,
   "id": "ac6a0450",
   "metadata": {},
   "outputs": [
    {
     "name": "stdout",
     "output_type": "stream",
     "text": [
      "Apple\n",
      "Nvidia\n"
     ]
    }
   ],
   "source": [
    "computer_companies = [\"Apple\", \"Microsoft\", \"Dell\", \"Razer\", \"Nvidia\"]\n",
    "\n",
    "computer_companies[0].lower\n",
    "print(computer_companies[0].title())\n",
    "print(computer_companies[-1])"
   ]
  },
  {
   "cell_type": "markdown",
   "id": "506b10aa",
   "metadata": {},
   "source": [
    "> We can put anything in a list, not just numbers. We can print a whole list, but this isnt what we want to show the user. We can also print specific elements in the list. REMEBER it starts with 0. The position in a list in which an element is in is called and index.\n",
    "\n",
    "> We can edit elements using the lower and title methods like we used before\n",
    "\n",
    "> [-1] means the last element in the list, this is a special python syntax for acessing the last element in the list, this also works for [-2] and [-3] and so on. This is really helpful when acessing the last element in a list when we don't know how long the list will be.\n",
    "\n"
   ]
  },
  {
   "cell_type": "code",
   "execution_count": 3,
   "id": "ff4242a3",
   "metadata": {},
   "outputs": [
    {
     "name": "stdout",
     "output_type": "stream",
     "text": [
      "My first laptop from was Apple.\n"
     ]
    }
   ],
   "source": [
    "computer_companies = [\"Apple\", \"Microsoft\", \"Dell\", \"Razer\", \"Nvidia\"]\n",
    "\n",
    "message = (f'My first laptop from was {computer_companies[0]}.')\n",
    "\n",
    "print(message)"
   ]
  },
  {
   "cell_type": "markdown",
   "id": "f5a3cbd9",
   "metadata": {},
   "source": [
    "> We can use f strings with elements in a list just like we would any variable "
   ]
  },
  {
   "cell_type": "markdown",
   "id": "88033d3f",
   "metadata": {},
   "source": [
    "### Tasks\n",
    " "
   ]
  },
  {
   "cell_type": "code",
   "execution_count": 5,
   "id": "65ad9aef",
   "metadata": {},
   "outputs": [
    {
     "name": "stdout",
     "output_type": "stream",
     "text": [
      "Charlie\n",
      "Ben\n",
      "Tom\n",
      "Angus\n"
     ]
    }
   ],
   "source": [
    "friends = \"Charlie\", \"Ben\", \"Tom\", \"Angus\"\n",
    "\n",
    "print(friends[0])\n",
    "print(friends[1])\n",
    "print(friends[2])\n",
    "print(friends[3])\n"
   ]
  },
  {
   "cell_type": "code",
   "execution_count": 16,
   "id": "82f9f3d3",
   "metadata": {},
   "outputs": [
    {
     "name": "stdout",
     "output_type": "stream",
     "text": [
      "Hello Charlie this is my coding exercise and I am writing a message to you.\n"
     ]
    }
   ],
   "source": [
    "friends = \"Charlie\", \"Ben\", \"Tom\", \"Angus\"\n",
    "\n",
    "message = (f'Hello {friends[0]} this is my coding exercise and I am writing a message to you.')\n",
    "\n",
    "print(message)"
   ]
  },
  {
   "cell_type": "code",
   "execution_count": 19,
   "id": "cf10efab",
   "metadata": {},
   "outputs": [
    {
     "name": "stdout",
     "output_type": "stream",
     "text": [
      "I am looking to buy a new laptop, after some research I have decided I want a Apple laptop because it will work the best for me.\n"
     ]
    }
   ],
   "source": [
    "computer_companies = [\"Apple\", \"Microsoft\", \"Dell\", \"Razer\", \"Nvidia\"]\n",
    "\n",
    "what_to_buy = (f'I am looking to buy a new laptop, after some research I have decided I want a {computer_companies[0]} laptop because it will work the best for me.')\n",
    "\n",
    "print(what_to_buy)"
   ]
  },
  {
   "cell_type": "markdown",
   "id": "f8896c65",
   "metadata": {},
   "source": [
    "### Editing Elements In A List"
   ]
  },
  {
   "cell_type": "code",
   "execution_count": 20,
   "id": "24ad3152",
   "metadata": {},
   "outputs": [
    {
     "name": "stdout",
     "output_type": "stream",
     "text": [
      "['Apple', 'Microsoft', 'Dell', 'Razer', 'Nvidia']\n",
      "['Apple', 'Microsoft', 'AMD', 'Razer', 'Nvidia']\n"
     ]
    }
   ],
   "source": [
    "computer_companies = [\"Apple\", \"Microsoft\", \"Dell\", \"Razer\", \"Nvidia\"]\n",
    "print(computer_companies)\n",
    "\n",
    "computer_companies[2] = \"AMD\"\n",
    "print(computer_companies)"
   ]
  },
  {
   "cell_type": "markdown",
   "id": "064b7193",
   "metadata": {},
   "source": [
    "> Here we are assigning AMD over Dell as the 3rd element in the list, remeber that a list starts with 0. "
   ]
  },
  {
   "cell_type": "code",
   "execution_count": 21,
   "id": "19ed50b7",
   "metadata": {},
   "outputs": [
    {
     "name": "stdout",
     "output_type": "stream",
     "text": [
      "['Apple', 'Microsoft', 'Dell', 'Razer', 'Nvidia', 'AMD']\n"
     ]
    }
   ],
   "source": [
    "computer_companies = [\"Apple\", \"Microsoft\", \"Dell\", \"Razer\", \"Nvidia\"]\n",
    "\n",
    "computer_companies.append(\"AMD\")\n",
    "\n",
    "print(computer_companies)"
   ]
  },
  {
   "cell_type": "markdown",
   "id": "4396e064",
   "metadata": {},
   "source": [
    "> Here we are appeninding AMD to the end of the list, whenever we append an element to a list it will always be at the end no matter what. "
   ]
  },
  {
   "cell_type": "code",
   "execution_count": 22,
   "id": "ced64044",
   "metadata": {},
   "outputs": [
    {
     "name": "stdout",
     "output_type": "stream",
     "text": [
      "['Apple', 'Dell', 'AMD']\n"
     ]
    }
   ],
   "source": [
    "computer_companies = []\n",
    "\n",
    "computer_companies.append(\"Apple\")\n",
    "computer_companies.append(\"Dell\")\n",
    "computer_companies.append(\"AMD\")\n",
    "\n",
    "print(computer_companies)"
   ]
  },
  {
   "cell_type": "markdown",
   "id": "496d74ce",
   "metadata": {},
   "source": [
    "> We can append things to an empty list as well "
   ]
  },
  {
   "cell_type": "code",
   "execution_count": 24,
   "id": "ad8b28c8",
   "metadata": {},
   "outputs": [
    {
     "name": "stdout",
     "output_type": "stream",
     "text": [
      "['AMD', 'Apple', 'Microsoft', 'Dell', 'Razer', 'Nvidia']\n"
     ]
    }
   ],
   "source": [
    "computer_companies = [\"Apple\", \"Microsoft\", \"Dell\", \"Razer\", \"Nvidia\"]\n",
    "\n",
    "computer_companies.insert(0, \"AMD\")\n",
    "\n",
    "print(computer_companies)"
   ]
  },
  {
   "cell_type": "markdown",
   "id": "e13a996e",
   "metadata": {},
   "source": [
    "> Here we are using the 'insert' function to assign the element into a specific index in the list. "
   ]
  },
  {
   "cell_type": "code",
   "execution_count": 29,
   "id": "8e2356ee",
   "metadata": {},
   "outputs": [
    {
     "name": "stdout",
     "output_type": "stream",
     "text": [
      "['Apple', 'Dell', 'Razer']\n"
     ]
    }
   ],
   "source": [
    "computer_companies = [\"Apple\", \"Microsoft\", \"Dell\", \"Razer\", \"Nvidia\"]\n",
    "\n",
    "del computer_companies[1]\n",
    "\n",
    "# Now the list will shrink so we cannot use 4 to look for nivida, we can use [-1] or 3, as the end of the list will shrink to 3. \n",
    "\n",
    "del computer_companies[3]\n",
    "\n",
    "print(computer_companies)"
   ]
  },
  {
   "cell_type": "markdown",
   "id": "db6fa837",
   "metadata": {},
   "source": [
    "> Here we are using the del statement to remove a specific element from the list when we KNOW its index in the list.  We cannot do this if we do not know where the element is placed inside the list. Once we use the del statement, we can no longer work with it anymore, if we want to remove it from a list but still be able to work with it we must use the pop() function. "
   ]
  },
  {
   "cell_type": "code",
   "execution_count": 30,
   "id": "19efcd8f",
   "metadata": {},
   "outputs": [
    {
     "name": "stdout",
     "output_type": "stream",
     "text": [
      "['Apple', 'Microsoft', 'Dell', 'Razer']\n",
      "Nvidia\n"
     ]
    }
   ],
   "source": [
    "computer_companies = [\"Apple\", \"Microsoft\", \"Dell\", \"Razer\", \"Nvidia\"]\n",
    "\n",
    "popped_computers = computer_companies.pop()\n",
    "\n",
    "print(computer_companies)\n",
    "print(popped_computers)"
   ]
  },
  {
   "cell_type": "markdown",
   "id": "d7bdd7bf",
   "metadata": {},
   "source": [
    "> The pop() function removes the last element from a list, and allows us to work with it afterwards. "
   ]
  },
  {
   "cell_type": "code",
   "execution_count": 32,
   "id": "1db586a1",
   "metadata": {},
   "outputs": [
    {
     "name": "stdout",
     "output_type": "stream",
     "text": [
      "The first laptop I owned was an Apple laptop, I got it in 2015 but it broke so I now use an iPad.\n"
     ]
    }
   ],
   "source": [
    "computer_companies = [\"Microsoft\", \"Dell\", \"Razer\", \"Nvidia\", \"Apple\"]\n",
    "\n",
    "popped_computer_companies = (f'The first laptop I owned was an {computer_companies.pop()} laptop, I got it in 2015 but it broke so I now use an iPad.')\n",
    "\n",
    "print(popped_computer_companies)\n"
   ]
  },
  {
   "cell_type": "markdown",
   "id": "d69400d9",
   "metadata": {},
   "source": [
    "> Note that when we use pop() it removes the item from the list and places it in the first f string we use, so we cannot repeat it, I orignially used {computer_companies.pop()} before iPad, expecting \"Apple iPad\" but the code returned Nvidea iPad as it had popped Nvida and stuck it there becuase Apple had been used already. "
   ]
  },
  {
   "cell_type": "code",
   "execution_count": 1,
   "id": "fb0eba78",
   "metadata": {
    "scrolled": true
   },
   "outputs": [
    {
     "name": "stdout",
     "output_type": "stream",
     "text": [
      "['Apple', 'Dell', 'Razer', 'Nvidia']\n",
      "Microsoft\n"
     ]
    }
   ],
   "source": [
    "computer_companies = [\"Apple\", \"Microsoft\", \"Dell\", \"Razer\", \"Nvidia\"]\n",
    "\n",
    "computer_companies_pop = computer_companies.pop(1)\n",
    "\n",
    "print(computer_companies)\n",
    "print(computer_companies_pop)"
   ]
  },
  {
   "cell_type": "markdown",
   "id": "6c0b71eb",
   "metadata": {},
   "source": [
    "> We can use pop() and insert the index of the element in the list, again we must know the position, like del"
   ]
  },
  {
   "cell_type": "code",
   "execution_count": 5,
   "id": "3bbf5731",
   "metadata": {},
   "outputs": [
    {
     "name": "stdout",
     "output_type": "stream",
     "text": [
      "I have decided to remove Razer from the list of choices, as they are primarily used for gaming\n",
      "Here is the list of laptops I can buy from for univeristy ['Apple', 'Microsoft', 'Dell', 'Nvidia']\n"
     ]
    }
   ],
   "source": [
    "computer_companies = [\"Apple\", \"Microsoft\", \"Dell\", \"Razer\", \"Nvidia\"]\n",
    "gaming_laptop = \"Razer\"\n",
    "\n",
    "computer_companies.remove(gaming_laptop)\n",
    "\n",
    "print(f'I have decided to remove {gaming_laptop} from the list of choices, as they are primarily used for gaming')\n",
    "print(f'Here is the list of laptops I can buy from for univeristy {computer_companies}')"
   ]
  },
  {
   "cell_type": "markdown",
   "id": "edf453e7",
   "metadata": {},
   "source": [
    "> We can use the remove() function to delete an element from the list when we don't know where it is positioned. Like pop() we can work with the element after we have removed it.\n",
    "\n",
    "> So we have delete, pop and remove. All take items from a list, del gets rid of it, pop and remove store it for it to be used after."
   ]
  },
  {
   "cell_type": "markdown",
   "id": "d0dce05b",
   "metadata": {},
   "source": [
    "### Tasks"
   ]
  },
  {
   "cell_type": "code",
   "execution_count": 8,
   "id": "301f596d",
   "metadata": {},
   "outputs": [
    {
     "name": "stdout",
     "output_type": "stream",
     "text": [
      " Hello Alan I would like to invite you to dinner.\n",
      " Hello Elon I would like to invite you to dinner.\n",
      " Hello Dennis I would like to invite you to dinner.\n"
     ]
    }
   ],
   "source": [
    "dinner_invite = [\"Alan\", \"Elon\", \"Dennis\"]\n",
    "\n",
    "invitation1 = (f' Hello {dinner_invite[0]} I would like to invite you to dinner.')\n",
    "invitation2 = (f' Hello {dinner_invite[1]} I would like to invite you to dinner.')\n",
    "invitation3 = (f' Hello {dinner_invite[2]} I would like to invite you to dinner.')\n",
    "\n",
    "print(invitation1)\n",
    "print(invitation2)\n",
    "print(invitation3)"
   ]
  },
  {
   "cell_type": "code",
   "execution_count": 11,
   "id": "764b6745",
   "metadata": {},
   "outputs": [
    {
     "name": "stdout",
     "output_type": "stream",
     "text": [
      "['Alan', 'Dennis', 'Steve']\n",
      " Hello Alan I would like to invite you to dinner.\n",
      " Hello Dennis I would like to invite you to dinner.\n",
      " Hello Steve I would like to invite you to dinner.\n"
     ]
    }
   ],
   "source": [
    "dinner_invite = [\"Alan\", \"Elon\", \"Dennis\"]\n",
    "\n",
    "# Elon has said he can not make it!\n",
    "\n",
    "cannot_come = dinner_invite.pop(1)\n",
    "\n",
    "dinner_invite.append(\"Steve\")\n",
    "\n",
    "# We shall invite Steve Jobs instead \n",
    "\n",
    "print(dinner_invite)\n",
    "\n",
    "invitation1 = (f' Hello {dinner_invite[0]} I would like to invite you to dinner.')\n",
    "invitation2 = (f' Hello {dinner_invite[1]} I would like to invite you to dinner.')\n",
    "invitation3 = (f' Hello {dinner_invite[2]} I would like to invite you to dinner.')\n",
    "\n",
    "print(invitation1)\n",
    "print(invitation2)\n",
    "print(invitation3)\n",
    "\n",
    "\n"
   ]
  },
  {
   "cell_type": "code",
   "execution_count": 16,
   "id": "17edb5df",
   "metadata": {},
   "outputs": [
    {
     "name": "stdout",
     "output_type": "stream",
     "text": [
      "['Tim', 'Alan', 'McGowan', 'Elon', 'Dennis', 'Padders']\n",
      " Hello Tim I would like to invite you to dinner.\n",
      " Hello Alan I would like to invite you to dinner.\n",
      " Hello McGowan I would like to invite you to dinner.\n",
      " Hello Elon I would like to invite you to dinner.\n",
      " Hello Dennis I would like to invite you to dinner.\n",
      " Hello Padders I would like to invite you to dinner.\n"
     ]
    }
   ],
   "source": [
    "dinner_invite = [\"Alan\", \"Elon\", \"Dennis\"]\n",
    "\n",
    "# We have found a bigger table, so we can add more people to our invite list. \n",
    "\n",
    "dinner_invite.insert(0, \"Tim\")\n",
    "# Inserting a new invite at the start of the list \n",
    "\n",
    "dinner_invite.insert(2, \"McGowan\")\n",
    "dinner_invite.append(\"Padders\")\n",
    "\n",
    "print(dinner_invite)\n",
    "\n",
    "invitation1 = (f' Hello {dinner_invite[0]} I would like to invite you to dinner.')\n",
    "invitation2 = (f' Hello {dinner_invite[1]} I would like to invite you to dinner.')\n",
    "invitation3 = (f' Hello {dinner_invite[2]} I would like to invite you to dinner.')\n",
    "invitation4 = (f' Hello {dinner_invite[3]} I would like to invite you to dinner.')\n",
    "invitation5 = (f' Hello {dinner_invite[4]} I would like to invite you to dinner.')\n",
    "invitation6 = (f' Hello {dinner_invite[5]} I would like to invite you to dinner.')\n",
    "\n",
    "\n",
    "print(invitation1)\n",
    "print(invitation2)\n",
    "print(invitation3)\n",
    "print(invitation4)\n",
    "print(invitation5)\n",
    "print(invitation6)"
   ]
  },
  {
   "cell_type": "code",
   "execution_count": 43,
   "id": "13f87eee",
   "metadata": {},
   "outputs": [
    {
     "name": "stdout",
     "output_type": "stream",
     "text": [
      "Sorry Alan, but we have run out of space, I will see you another time.\n",
      "Sorry Elon, but we have run out of space, I will see you another time.\n",
      "Sorry Padders, but we have run out of space, I will see you another time.\n",
      "Hello Tim see you at 8\n",
      "Hello McGowan see you at 8\n",
      "Hello Dennis see you at 8\n",
      "[]\n"
     ]
    }
   ],
   "source": [
    "dinner_invite = ['Tim', 'Alan', 'McGowan', 'Elon', 'Dennis', 'Padders']\n",
    "removed_invite1 = dinner_invite.pop(1)\n",
    "removed_invite2 = dinner_invite.pop(2)\n",
    "removed_invite3 = dinner_invite.pop()\n",
    "# No number as its the last element in the list\n",
    "\n",
    "# We now only have space for 2, so need to remove people\n",
    "\n",
    "print(f'Sorry {removed_invite1}, but we have run out of space, I will see you another time.')\n",
    "print(f'Sorry {removed_invite2}, but we have run out of space, I will see you another time.')\n",
    "print(f'Sorry {removed_invite3}, but we have run out of space, I will see you another time.')\n",
    "\n",
    "print(f'Hello {dinner_invite[0]} see you at 8')\n",
    "print(f'Hello {dinner_invite[1]} see you at 8')\n",
    "print(f'Hello {dinner_invite[2]} see you at 8')\n",
    "\n",
    "\n",
    "del dinner_invite[0]\n",
    "del dinner_invite[0]\n",
    "del dinner_invite[0]\n",
    "# del is a function so there is no _ or . just a space\n",
    "\n",
    "# Proving the list is empty\n",
    "print(dinner_invite)"
   ]
  },
  {
   "cell_type": "markdown",
   "id": "086d485e",
   "metadata": {},
   "source": [
    "### Organising A List"
   ]
  },
  {
   "cell_type": "code",
   "execution_count": 2,
   "id": "0451037f",
   "metadata": {},
   "outputs": [
    {
     "name": "stdout",
     "output_type": "stream",
     "text": [
      "['audi', 'bmw', 'dodge', 'ford', 'tesla']\n"
     ]
    }
   ],
   "source": [
    "cars = [\"tesla\", \"bmw\", \"audi\", \"ford\", \"dodge\"]\n",
    "\n",
    "cars.sort()\n",
    "\n",
    "print(cars)"
   ]
  },
  {
   "cell_type": "markdown",
   "id": "a7942d33",
   "metadata": {},
   "source": [
    "> Here we are using the sort() method, this allows us to sort the list alphabetically, this will be permanent so we cannot go back to the original list. Note that all the letters are in lower case."
   ]
  },
  {
   "cell_type": "code",
   "execution_count": 3,
   "id": "fb4cb25f",
   "metadata": {},
   "outputs": [
    {
     "name": "stdout",
     "output_type": "stream",
     "text": [
      "['tesla', 'ford', 'dodge', 'bmw', 'audi']\n"
     ]
    }
   ],
   "source": [
    "cars = [\"tesla\", \"bmw\", \"audi\", \"ford\", \"dodge\"]\n",
    "\n",
    "cars.sort(reverse=True)\n",
    "\n",
    "print(cars)"
   ]
  },
  {
   "cell_type": "markdown",
   "id": "ac9387fb",
   "metadata": {},
   "source": [
    "> We have set reverse to be True, in the parenthesis of the function, again this is a permanent change, so we cannot go back to the list we had before. "
   ]
  },
  {
   "cell_type": "code",
   "execution_count": 8,
   "id": "31f69ad2",
   "metadata": {},
   "outputs": [
    {
     "name": "stdout",
     "output_type": "stream",
     "text": [
      "['tesla', 'bmw', 'audi', 'ford', 'dodge']\n",
      "['audi', 'bmw', 'dodge', 'ford', 'tesla']\n",
      "['tesla', 'ford', 'dodge', 'bmw', 'audi']\n",
      "['tesla', 'bmw', 'audi', 'ford', 'dodge']\n"
     ]
    }
   ],
   "source": [
    "cars = [\"tesla\", \"bmw\", \"audi\", \"ford\", \"dodge\"]\n",
    "\n",
    "print(cars)\n",
    "# Original List\n",
    "\n",
    "print(sorted(cars))\n",
    "# Using the sorted() function\n",
    "\n",
    "print(sorted(cars, reverse=True))\n",
    "# Using the reverse=True argument in the sorted function, like the sort function.\n",
    "\n",
    "print(cars)"
   ]
  },
  {
   "cell_type": "markdown",
   "id": "48e817c1",
   "metadata": {},
   "source": [
    "> Here we use the sorted() method, this method is a way of \"presenting\" the data of the list to the user in an organised list, but it holds the original as displayed on the code above. Sorted() also accepts the reverse=True argument in which we have the variable first, then we place the reverse arugment after, seperated by a comma.\n",
    "\n",
    "> Note the sort() and the sorted() function are very similar, so make sure we know one is permanent, the other isn't."
   ]
  },
  {
   "cell_type": "code",
   "execution_count": 12,
   "id": "8abb65b7",
   "metadata": {},
   "outputs": [
    {
     "name": "stdout",
     "output_type": "stream",
     "text": [
      "['tesla', 'bmw', 'audi', 'ford', 'dodge']\n",
      "['dodge', 'ford', 'audi', 'bmw', 'tesla']\n"
     ]
    }
   ],
   "source": [
    "cars = [\"tesla\", \"bmw\", \"audi\", \"ford\", \"dodge\"]\n",
    "\n",
    "print(cars)\n",
    "\n",
    "cars.reverse()\n",
    "# Reversing the list, this is not alphabetical, just a switch around and in PERMANENT\n",
    "print(cars)"
   ]
  },
  {
   "cell_type": "markdown",
   "id": "b97973c6",
   "metadata": {},
   "source": [
    "> We are using the reverse function to swap the list round, reverse() is a permenant change, but we can always change it back by hitting it with another reverse function again. "
   ]
  },
  {
   "cell_type": "code",
   "execution_count": 13,
   "id": "79204239",
   "metadata": {},
   "outputs": [
    {
     "data": {
      "text/plain": [
       "5"
      ]
     },
     "execution_count": 13,
     "metadata": {},
     "output_type": "execute_result"
    }
   ],
   "source": [
    "cars = [\"tesla\", \"bmw\", \"audi\", \"ford\", \"dodge\"]\n",
    "\n",
    "len(cars)\n"
   ]
  },
  {
   "cell_type": "markdown",
   "id": "c07a68a7",
   "metadata": {},
   "source": [
    "> Here the len() function allows us to find the length of the list, this is handy when looking at how much data we need to manage and visualise, or figuring out the number of users on a website"
   ]
  },
  {
   "cell_type": "markdown",
   "id": "ffd0f082",
   "metadata": {},
   "source": [
    "### Tasks"
   ]
  },
  {
   "cell_type": "code",
   "execution_count": 29,
   "id": "faa6105c",
   "metadata": {},
   "outputs": [
    {
     "name": "stdout",
     "output_type": "stream",
     "text": [
      "['switzerland', 'usa', 'canada', 'australia', 'japan']\n",
      "['australia', 'canada', 'japan', 'switzerland', 'usa']\n",
      "['usa', 'switzerland', 'japan', 'canada', 'australia']\n",
      "['switzerland', 'usa', 'canada', 'australia', 'japan']\n",
      "['japan', 'australia', 'canada', 'usa', 'switzerland']\n",
      "['switzerland', 'usa', 'canada', 'australia', 'japan']\n",
      "['australia', 'canada', 'japan', 'switzerland', 'usa']\n",
      "['usa', 'switzerland', 'japan', 'canada', 'australia']\n"
     ]
    }
   ],
   "source": [
    "places_to_visit = [\"switzerland\", \"usa\", \"canada\", \"australia\", \"japan\"]\n",
    "\n",
    "print(places_to_visit)\n",
    "# Printing original list\n",
    "\n",
    "print(sorted(places_to_visit))\n",
    "# Displaying the list alphabetically\n",
    "\n",
    "print(sorted(places_to_visit, reverse=True))\n",
    "# Reversing the display of the list \n",
    "\n",
    "print(places_to_visit)\n",
    "# Showing the original order of the list is still intact\n",
    "\n",
    "places_to_visit.reverse()\n",
    "print(places_to_visit)\n",
    "# Reversing the list, altering it permenantly\n",
    "\n",
    "places_to_visit.reverse()\n",
    "print(places_to_visit)\n",
    "# Swapping the list back to the original order\n",
    "\n",
    "places_to_visit.sort()\n",
    "print(places_to_visit)\n",
    "# Using the sort function to change the order of the list\n",
    "\n",
    "places_to_visit.sort(reverse=True)\n",
    "print(places_to_visit)\n",
    "# Reversing argument on the sort function\n"
   ]
  },
  {
   "cell_type": "code",
   "execution_count": 30,
   "id": "ee9495e2",
   "metadata": {},
   "outputs": [
    {
     "data": {
      "text/plain": [
       "6"
      ]
     },
     "execution_count": 30,
     "metadata": {},
     "output_type": "execute_result"
    }
   ],
   "source": [
    "dinner_invite = ['Tim', 'Alan', 'McGowan', 'Elon', 'Dennis', 'Padders']\n",
    "\n",
    "len(dinner_invite)\n",
    "# Getting the length of the list "
   ]
  },
  {
   "cell_type": "code",
   "execution_count": 2,
   "id": "ed0d2027",
   "metadata": {},
   "outputs": [
    {
     "name": "stdout",
     "output_type": "stream",
     "text": [
      "7\n",
      "['apple', 'dell', 'razor', 'hp', 'microsoft', 'google', 'philips']\n",
      "['apple', 'dell', 'google', 'hp', 'microsoft', 'philips', 'razor']\n",
      "['razor', 'philips', 'microsoft', 'hp', 'google', 'dell', 'apple']\n",
      "['apple', 'dell', 'razor', 'hp', 'microsoft', 'google', 'philips']\n",
      "['philips', 'google', 'microsoft', 'hp', 'razor', 'dell', 'apple']\n",
      "['apple', 'dell', 'razor', 'hp', 'microsoft', 'google', 'philips']\n",
      "['apple', 'dell', 'google', 'hp', 'microsoft', 'philips', 'razor']\n"
     ]
    }
   ],
   "source": [
    "tech_companies = [\"apple\", \"dell\", \"razor\", \"hp\", \"microsoft\", \"google\", \"philips\"]\n",
    "\n",
    "print(len(tech_companies))\n",
    "# Length of the list\n",
    "\n",
    "print(tech_companies)\n",
    "# Original List\n",
    "\n",
    "print(sorted(tech_companies))\n",
    "print(sorted(tech_companies, reverse=True))\n",
    "# Sorted() function, and Sorted(reverse)\n",
    "print(tech_companies)\n",
    "# Proof of original list \n",
    "\n",
    "tech_companies.reverse()\n",
    "print(tech_companies)\n",
    "tech_companies.reverse()\n",
    "print(tech_companies)\n",
    "# Reversing actual list, then reverting it back to original \n",
    "\n",
    "tech_companies.sort()\n",
    "print(tech_companies)\n",
    "# Sorting original list \n",
    "\n",
    "\n"
   ]
  },
  {
   "cell_type": "markdown",
   "id": "27f6cce0",
   "metadata": {},
   "source": [
    "### Take Aways\n",
    "\n",
    "- Lists can be altered using several functions \n",
    "- Sort() function alters permenantly \n",
    "- Reverse() function alters permenatly \n",
    "- Sorted() is a display to the user and doesnt alter the original list \n",
    "- Sorted() also can accept the reverse arugment, again it does not alter the original list\n",
    "- Len() shows us the length of the list where we are storing information"
   ]
  },
  {
   "cell_type": "markdown",
   "id": "fb674cb2",
   "metadata": {},
   "source": [
    "### Avoiding Errors While Working With Lists"
   ]
  },
  {
   "cell_type": "code",
   "execution_count": 2,
   "id": "a56b86e3",
   "metadata": {},
   "outputs": [
    {
     "ename": "IndexError",
     "evalue": "list index out of range",
     "output_type": "error",
     "traceback": [
      "\u001b[1;31m---------------------------------------------------------------------------\u001b[0m",
      "\u001b[1;31mIndexError\u001b[0m                                Traceback (most recent call last)",
      "Input \u001b[1;32mIn [2]\u001b[0m, in \u001b[0;36m<module>\u001b[1;34m\u001b[0m\n\u001b[0;32m      1\u001b[0m computer_companies \u001b[38;5;241m=\u001b[39m [\u001b[38;5;124m\"\u001b[39m\u001b[38;5;124mApple\u001b[39m\u001b[38;5;124m\"\u001b[39m, \u001b[38;5;124m\"\u001b[39m\u001b[38;5;124mMicrosoft\u001b[39m\u001b[38;5;124m\"\u001b[39m, \u001b[38;5;124m\"\u001b[39m\u001b[38;5;124mDell\u001b[39m\u001b[38;5;124m\"\u001b[39m, \u001b[38;5;124m\"\u001b[39m\u001b[38;5;124mRazer\u001b[39m\u001b[38;5;124m\"\u001b[39m, \u001b[38;5;124m\"\u001b[39m\u001b[38;5;124mNvidia\u001b[39m\u001b[38;5;124m\"\u001b[39m]\n\u001b[1;32m----> 3\u001b[0m \u001b[38;5;28mprint\u001b[39m(\u001b[43mcomputer_companies\u001b[49m\u001b[43m[\u001b[49m\u001b[38;5;241;43m5\u001b[39;49m\u001b[43m]\u001b[49m)\n",
      "\u001b[1;31mIndexError\u001b[0m: list index out of range"
     ]
    }
   ],
   "source": [
    "computer_companies = [\"Apple\", \"Microsoft\", \"Dell\", \"Razer\", \"Nvidia\"]\n",
    "\n",
    "print(computer_companies[5])"
   ]
  },
  {
   "cell_type": "markdown",
   "id": "aabff50c",
   "metadata": {},
   "source": [
    "> One of the most common errors when working with lists in and \"index error\", this is when we ask Python to find an index in a list that it not there. In the example above, we have asked Python to look for index 5, but there is no index 5. This is an \"off by one error\" that the book has been talking about. \n",
    "\n",
    "> If we run into Index errors we cannot seem the fix, try printing the list off, it might look different to what we think it looks like."
   ]
  },
  {
   "cell_type": "code",
   "execution_count": 3,
   "id": "ae62311b",
   "metadata": {},
   "outputs": [
    {
     "name": "stdout",
     "output_type": "stream",
     "text": [
      "Nvidia\n"
     ]
    }
   ],
   "source": [
    "computer_companies = [\"Apple\", \"Microsoft\", \"Dell\", \"Razer\", \"Nvidia\"]\n",
    "\n",
    "print(computer_companies[-1])"
   ]
  },
  {
   "cell_type": "markdown",
   "id": "36e1a6e1",
   "metadata": {},
   "source": [
    "> Instead we can use \"[-1]\" to acess the last element in the list no matter what size it is. "
   ]
  },
  {
   "cell_type": "markdown",
   "id": "d7a1f8d6",
   "metadata": {},
   "source": [
    "### Take Aways\n",
    "\n",
    "- Index errors often occur with lists \n",
    "- It is ususally because of the \"off by one\" rule \n",
    "- When we can't fix it, try printing the list off, as we might not know our list like we think we do"
   ]
  },
  {
   "cell_type": "markdown",
   "id": "9f876423",
   "metadata": {},
   "source": [
    "# Working With Lists "
   ]
  },
  {
   "cell_type": "markdown",
   "id": "a3c89651",
   "metadata": {},
   "source": [
    "### For Loops"
   ]
  },
  {
   "cell_type": "code",
   "execution_count": 1,
   "id": "ee0125d4",
   "metadata": {},
   "outputs": [
    {
     "name": "stdout",
     "output_type": "stream",
     "text": [
      "apple\n",
      "dell\n",
      "razor\n",
      "hp\n",
      "microsoft\n",
      "google\n",
      "philips\n"
     ]
    }
   ],
   "source": [
    "tech_companies = [\"apple\", \"dell\", \"razor\", \"hp\", \"microsoft\", \"google\", \"philips\"]\n",
    "\n",
    "for company in tech_companies:\n",
    "    print(company)"
   ]
  },
  {
   "cell_type": "markdown",
   "id": "49b33fab",
   "metadata": {},
   "source": [
    "> For each of the element in the list, python runs through the list and for every company, it enters the loop and prints off the company "
   ]
  },
  {
   "cell_type": "markdown",
   "id": "a45b8127",
   "metadata": {},
   "source": [
    "tech_companies = [\"apple\", \"dell\", \"razor\", \"hp\", \"windows\", \"google\", \"philips\"]\n",
    "\n",
    "for company in tech_companies:\n",
    "This tells python to go into the list tech_companies and assign the first element to the variable company, python then reads the next line.\n",
    "\n",
    "print(company)\n",
    "This tells pythong to print the variable assigned to company, on the first run this will be \"apple\"\n",
    "Python, then goes into the list again and gets the second element \"dell\", and assigns that to the variable company then executes the line print(company)\n",
    "\n",
    "when all the elements in the list have been printed, python has gone back and checked to see if there is another element, it finds nothing so it will move onto the next line of code. Since there is nothing after this code, the cell will terminate\n",
    "\n"
   ]
  },
  {
   "cell_type": "code",
   "execution_count": 16,
   "id": "77afe974",
   "metadata": {},
   "outputs": [
    {
     "name": "stdout",
     "output_type": "stream",
     "text": [
      "Apple is a tech company that makes many products\n",
      " I look forward to seeing where Apple takes their products \n",
      "\n",
      "Dell is a tech company that makes many products\n",
      " I look forward to seeing where Dell takes their products \n",
      "\n",
      "Razor is a tech company that makes many products\n",
      " I look forward to seeing where Razor takes their products \n",
      "\n",
      "Hp is a tech company that makes many products\n",
      " I look forward to seeing where Hp takes their products \n",
      "\n"
     ]
    }
   ],
   "source": [
    "tech_companies = [\"apple\", \"dell\", \"razor\", \"hp\"]\n",
    "\n",
    "for company in tech_companies:\n",
    "    print(f'{company.title()} is a tech company that makes many products')\n",
    "    print(f' I look forward to seeing where {company.title()} takes their products \\n')"
   ]
  },
  {
   "cell_type": "markdown",
   "id": "3f1ddca3",
   "metadata": {},
   "source": [
    "> Every indent after the for loop will be run once each loop. It is also worth noting the inclusion of (\\n) to create new lines in the code"
   ]
  },
  {
   "cell_type": "markdown",
   "id": "ce09f82f",
   "metadata": {},
   "source": [
    "### REMEBER if our code is not working out like we want it to, ensure we have : or () in the correct places. A common error of mine is that I forget to add : or () which means the code usually bugs."
   ]
  },
  {
   "cell_type": "code",
   "execution_count": 17,
   "id": "06616042",
   "metadata": {},
   "outputs": [
    {
     "name": "stdout",
     "output_type": "stream",
     "text": [
      "Apple is a tech company that makes many products\n",
      " I look forward to seeing where Apple takes their products \n",
      "\n",
      "Dell is a tech company that makes many products\n",
      " I look forward to seeing where Dell takes their products \n",
      "\n",
      "Razor is a tech company that makes many products\n",
      " I look forward to seeing where Razor takes their products \n",
      "\n",
      "Hp is a tech company that makes many products\n",
      " I look forward to seeing where Hp takes their products \n",
      "\n",
      "Although it must be said, I am most excited for Apple's products the most\n"
     ]
    }
   ],
   "source": [
    "tech_companies = [\"apple\", \"dell\", \"razor\", \"hp\"]\n",
    "\n",
    "for company in tech_companies:\n",
    "    print(f'{company.title()} is a tech company that makes many products')\n",
    "    print(f' I look forward to seeing where {company.title()} takes their products \\n')\n",
    "    \n",
    "print(\"Although it must be said, I am most excited for Apple's products the most\")"
   ]
  },
  {
   "cell_type": "markdown",
   "id": "24e2ca3f",
   "metadata": {},
   "source": [
    "> Once the for loop is finishing running, it runs the next line of code which is usually a summarization of the code we have been running. This will only be printed or used once as it is outside the for loop (look at the indentation in the code cell)"
   ]
  },
  {
   "cell_type": "markdown",
   "id": "b833a408",
   "metadata": {},
   "source": [
    "### Avoiding Indentation Errors "
   ]
  },
  {
   "cell_type": "code",
   "execution_count": 4,
   "id": "f53d26ac",
   "metadata": {},
   "outputs": [
    {
     "ename": "IndentationError",
     "evalue": "expected an indented block (4159255110.py, line 4)",
     "output_type": "error",
     "traceback": [
      "\u001b[1;36m  Input \u001b[1;32mIn [4]\u001b[1;36m\u001b[0m\n\u001b[1;33m    print(company)\u001b[0m\n\u001b[1;37m    ^\u001b[0m\n\u001b[1;31mIndentationError\u001b[0m\u001b[1;31m:\u001b[0m expected an indented block\n"
     ]
    }
   ],
   "source": [
    "tech_companies = \"apple\", \"dell\", \"microsoft\"\n",
    "\n",
    "for company in tech_companies:\n",
    "print(company)"
   ]
  },
  {
   "cell_type": "markdown",
   "id": "52902dc8",
   "metadata": {},
   "source": [
    "> Python is expecting an indentation, when it doesn't get one it will throw an indendation error."
   ]
  },
  {
   "cell_type": "code",
   "execution_count": 6,
   "id": "eb29c89b",
   "metadata": {},
   "outputs": [
    {
     "name": "stdout",
     "output_type": "stream",
     "text": [
      "Apple makes some good products\n",
      "Dell makes some good products\n",
      "Microsoft makes some good products\n",
      "I think I am going to buy a product from Microsoft\n"
     ]
    }
   ],
   "source": [
    "tech_companies = \"apple\", \"dell\", \"microsoft\"\n",
    "\n",
    "for company in tech_companies:\n",
    "    print(f'{company.title()} makes some good products')\n",
    "print(f'I think I am going to buy a product from {company.title()}')"
   ]
  },
  {
   "cell_type": "markdown",
   "id": "7fa816d6",
   "metadata": {},
   "source": [
    "> Sometimes the code will run, but not in the way we want it to. This code isn't running the way we want it to because the second line is not indented. So it is only run once with the varible comopany which at that time will be Microsoft. This is called an \"logical error\", meaning our code isn't running the way we want it too, but it's not throwing an error. When our code is not running in a way we want it too, but it's still running, it's worth checking if all our indentations are correct."
   ]
  },
  {
   "cell_type": "code",
   "execution_count": 11,
   "id": "e2cf16d4",
   "metadata": {},
   "outputs": [
    {
     "name": "stdout",
     "output_type": "stream",
     "text": [
      "Apple makes some good products\n",
      "I think I am going to buy a product from Apple\n",
      "\n",
      "Dell makes some good products\n",
      "I think I am going to buy a product from Dell\n",
      "\n",
      "Microsoft makes some good products\n",
      "I think I am going to buy a product from Microsoft\n",
      "\n"
     ]
    }
   ],
   "source": [
    "tech_companies = \"apple\", \"dell\", \"microsoft\"\n",
    "\n",
    "for company in tech_companies:\n",
    "    print(f'{company.title()} makes some good products')\n",
    "    print(f'I think I am going to buy a product from {company.title()}\\n')"
   ]
  },
  {
   "cell_type": "markdown",
   "id": "2be0fca2",
   "metadata": {},
   "source": [
    "> Here is the code running correctly "
   ]
  },
  {
   "cell_type": "code",
   "execution_count": 8,
   "id": "d5b1d936",
   "metadata": {},
   "outputs": [
    {
     "ename": "IndentationError",
     "evalue": "unexpected indent (3009684490.py, line 2)",
     "output_type": "error",
     "traceback": [
      "\u001b[1;36m  Input \u001b[1;32mIn [8]\u001b[1;36m\u001b[0m\n\u001b[1;33m    print(fav_company)\u001b[0m\n\u001b[1;37m    ^\u001b[0m\n\u001b[1;31mIndentationError\u001b[0m\u001b[1;31m:\u001b[0m unexpected indent\n"
     ]
    }
   ],
   "source": [
    "fav_company = \"Apple\"\n",
    "    print(fav_company)"
   ]
  },
  {
   "cell_type": "markdown",
   "id": "71a271cd",
   "metadata": {},
   "source": [
    "> Here python isn't expecting an indentation but we have given it one. So we get another indentation error with unexpected indent. "
   ]
  },
  {
   "cell_type": "code",
   "execution_count": 10,
   "id": "144d66a7",
   "metadata": {},
   "outputs": [
    {
     "name": "stdout",
     "output_type": "stream",
     "text": [
      "Apple makes some good products\n",
      "I think I am going to buy a product from Apple\n",
      "\n",
      "This is proof that an indentation is causing this text to be printed\n",
      "Dell makes some good products\n",
      "I think I am going to buy a product from Dell\n",
      "\n",
      "This is proof that an indentation is causing this text to be printed\n",
      "Microsoft makes some good products\n",
      "I think I am going to buy a product from Microsoft\n",
      "\n",
      "This is proof that an indentation is causing this text to be printed\n"
     ]
    }
   ],
   "source": [
    "tech_companies = \"apple\", \"dell\", \"microsoft\"\n",
    "\n",
    "for company in tech_companies:\n",
    "    print(f'{company.title()} makes some good products')\n",
    "    print(f'I think I am going to buy a product from {company.title()}\\n')\n",
    "\n",
    "\n",
    "    \n",
    "    print('This is proof that an indentation is causing this text to be printed')"
   ]
  },
  {
   "cell_type": "markdown",
   "id": "54a45122",
   "metadata": {},
   "source": [
    "> Here we have an indentation where it's not meant to be, but it throws a logical error so the code runs, just not like we want it to........."
   ]
  },
  {
   "cell_type": "code",
   "execution_count": 12,
   "id": "0a231333",
   "metadata": {},
   "outputs": [
    {
     "ename": "SyntaxError",
     "evalue": "invalid syntax (2526624363.py, line 3)",
     "output_type": "error",
     "traceback": [
      "\u001b[1;36m  Input \u001b[1;32mIn [12]\u001b[1;36m\u001b[0m\n\u001b[1;33m    for company in tech_companies\u001b[0m\n\u001b[1;37m                                 ^\u001b[0m\n\u001b[1;31mSyntaxError\u001b[0m\u001b[1;31m:\u001b[0m invalid syntax\n"
     ]
    }
   ],
   "source": [
    "tech_companies = \"apple\", \"dell\", \"microsoft\"\n",
    "\n",
    "for company in tech_companies\n",
    "    print(f'{company.title()} makes some good products')\n",
    "    print(f'I think I am going to buy a product from {company.title()}\\n')"
   ]
  },
  {
   "cell_type": "markdown",
   "id": "f398675a",
   "metadata": {},
   "source": [
    "> Here we have FORGOTTEN THE COLON at the end of the for loop command. This will result in a syntax error as python won't know what to do when it's running through the code. "
   ]
  },
  {
   "cell_type": "markdown",
   "id": "33cde86e",
   "metadata": {},
   "source": [
    "### Tasks"
   ]
  },
  {
   "cell_type": "code",
   "execution_count": 13,
   "id": "d3728ab8",
   "metadata": {},
   "outputs": [
    {
     "name": "stdout",
     "output_type": "stream",
     "text": [
      "extra cheese\n",
      "pepperoni\n",
      "bbq\n"
     ]
    }
   ],
   "source": [
    "best_pizza_toppings = \"extra cheese\", \"pepperoni\", \"bbq\"\n",
    "\n",
    "for topping in best_pizza_toppings:\n",
    "    print(topping)"
   ]
  },
  {
   "cell_type": "code",
   "execution_count": 15,
   "id": "4b9d7b53",
   "metadata": {
    "scrolled": true
   },
   "outputs": [
    {
     "name": "stdout",
     "output_type": "stream",
     "text": [
      "I really like to eat extra cheese pizza.\n",
      "\n",
      "I really like to eat pepperoni pizza.\n",
      "\n",
      "I really like to eat bbq pizza.\n",
      "\n"
     ]
    }
   ],
   "source": [
    "best_pizza_toppings = \"extra cheese\", \"pepperoni\", \"bbq\"\n",
    "\n",
    "for topping in best_pizza_toppings:\n",
    "    print(f'I really like to eat {topping} pizza.\\n')"
   ]
  },
  {
   "cell_type": "code",
   "execution_count": 17,
   "id": "266f5c6b",
   "metadata": {},
   "outputs": [
    {
     "name": "stdout",
     "output_type": "stream",
     "text": [
      "I really like to eat extra cheese pizza.\n",
      "\n",
      "I really like to eat pepperoni pizza.\n",
      "\n",
      "I really like to eat bbq pizza.\n",
      "\n",
      "I really like all of these types of pizza!\n"
     ]
    }
   ],
   "source": [
    "best_pizza_toppings = \"extra cheese\", \"pepperoni\", \"bbq\"\n",
    "\n",
    "for topping in best_pizza_toppings:\n",
    "    print(f'I really like to eat {topping} pizza.\\n')\n",
    "\n",
    "print(\"I really like all of these types of pizza!\")"
   ]
  },
  {
   "cell_type": "code",
   "execution_count": 22,
   "id": "bfe7a977",
   "metadata": {},
   "outputs": [
    {
     "name": "stdout",
     "output_type": "stream",
     "text": [
      "dogs\n",
      "cats\n",
      "fish\n"
     ]
    }
   ],
   "source": [
    "pets = \"dogs\", \"cats\", \"fish\"\n",
    "\n",
    "for pet in pets:\n",
    "    print(pet)"
   ]
  },
  {
   "cell_type": "code",
   "execution_count": 24,
   "id": "8c22b2ae",
   "metadata": {},
   "outputs": [
    {
     "name": "stdout",
     "output_type": "stream",
     "text": [
      "Dogs can make great pets.\n",
      "Cats can make great pets.\n",
      "Fish can make great pets.\n"
     ]
    }
   ],
   "source": [
    "pets = \"dogs\", \"cats\", \"fish\"\n",
    "\n",
    "for pet in pets:\n",
    "    print(f'{pet.title()} can make great pets.')"
   ]
  },
  {
   "cell_type": "code",
   "execution_count": 26,
   "id": "d287820b",
   "metadata": {},
   "outputs": [
    {
     "name": "stdout",
     "output_type": "stream",
     "text": [
      "Dogs can make great pets. \n",
      "\n",
      "Cats can make great pets. \n",
      "\n",
      "Fish can make great pets. \n",
      "\n",
      "Any of these animals will make great pets!\n"
     ]
    }
   ],
   "source": [
    "pets = \"dogs\", \"cats\", \"fish\"\n",
    "\n",
    "for pet in pets:\n",
    "    print(f'{pet.title()} can make great pets. \\n')\n",
    "\n",
    "print(\"Any of these animals will make great pets!\")"
   ]
  },
  {
   "cell_type": "markdown",
   "id": "b1b845fe",
   "metadata": {},
   "source": [
    "### Numerical Lists"
   ]
  },
  {
   "cell_type": "code",
   "execution_count": 27,
   "id": "d6ded85a",
   "metadata": {},
   "outputs": [
    {
     "name": "stdout",
     "output_type": "stream",
     "text": [
      "1\n",
      "2\n",
      "3\n",
      "4\n"
     ]
    }
   ],
   "source": [
    "for num in range(1, 5):\n",
    "    print(num)"
   ]
  },
  {
   "cell_type": "markdown",
   "id": "3e46728f",
   "metadata": {},
   "source": [
    "> The \"range\" function allows us to generate a series of numbers. It outputs 1 to 4 as it will run the list up until it hits the last number in the list then it will stop. For the list to include 5, the range() would have to be range(1, 6)"
   ]
  },
  {
   "cell_type": "code",
   "execution_count": 31,
   "id": "e52fbdc2",
   "metadata": {},
   "outputs": [
    {
     "name": "stdout",
     "output_type": "stream",
     "text": [
      "[1, 2, 3, 4, 5]\n"
     ]
    }
   ],
   "source": [
    "numbers = list(range(1, 6))\n",
    "\n",
    "print(numbers)"
   ]
  },
  {
   "cell_type": "markdown",
   "id": "dff3b9ad",
   "metadata": {},
   "source": [
    "> If we want to make a list with a range on numbers included in the list, we can wrap a \"list()\" function around a \"range()\" function. "
   ]
  },
  {
   "cell_type": "code",
   "execution_count": 33,
   "id": "d439f7a8",
   "metadata": {},
   "outputs": [
    {
     "name": "stdout",
     "output_type": "stream",
     "text": [
      "[2, 4, 6, 8, 10]\n"
     ]
    }
   ],
   "source": [
    "numbers = list(range(2, 11, 2))\n",
    "\n",
    "print(numbers)"
   ]
  },
  {
   "cell_type": "markdown",
   "id": "ffd1d1fb",
   "metadata": {},
   "source": [
    "> We can also add step sizes to a list by including a third number at the end. This is how many jumps python will make each time. "
   ]
  },
  {
   "cell_type": "code",
   "execution_count": 38,
   "id": "c0999a71",
   "metadata": {},
   "outputs": [
    {
     "name": "stdout",
     "output_type": "stream",
     "text": [
      "[1, 4, 9, 16, 25, 36, 49, 64, 81, 100]\n"
     ]
    }
   ],
   "source": [
    "squared_numbers = []\n",
    "\n",
    "for num in range(1, 11):\n",
    "#     for each number in the range of 1 to 11\n",
    "    squared = num ** 2\n",
    "#     each number is multiplied to the power of 2 then assinged to squared\n",
    "    squared_numbers.append(squared)\n",
    "#     the variable squared is appeneded to the empty list squared_numbers\n",
    "    \n",
    "print(squared_numbers)"
   ]
  },
  {
   "cell_type": "code",
   "execution_count": 41,
   "id": "17b54eda",
   "metadata": {},
   "outputs": [
    {
     "name": "stdout",
     "output_type": "stream",
     "text": [
      "[1, 4, 9, 16, 25, 36, 49, 64, 81, 100]\n"
     ]
    }
   ],
   "source": [
    "squared_numbers = []\n",
    "\n",
    "for num in range(1, 11):\n",
    "    squared_numbers.append(num**2)\n",
    "# This line does the same thing as lines 3 and 4 in the code above\n",
    "# Instead of making a new variable squared and assinging the calculated number to that, we are doing the calculation in the append() function.\n",
    "\n",
    "    \n",
    "print(squared_numbers)\n",
    "\n"
   ]
  },
  {
   "cell_type": "markdown",
   "id": "5211c10f",
   "metadata": {},
   "source": [
    "### Basic Math With Lists \n"
   ]
  },
  {
   "cell_type": "code",
   "execution_count": 6,
   "id": "8f15a0a3",
   "metadata": {},
   "outputs": [
    {
     "name": "stdout",
     "output_type": "stream",
     "text": [
      "[0, 1, 2, 3, 4, 5, 6, 7, 8, 9]\n",
      "0\n",
      "9\n",
      "45\n"
     ]
    }
   ],
   "source": [
    "numbers = list(range(0, 10))\n",
    "\n",
    "print(numbers)\n",
    "print(min(numbers))\n",
    "print(max(numbers))\n",
    "print(sum(numbers))"
   ]
  },
  {
   "cell_type": "markdown",
   "id": "f23d43b2",
   "metadata": {},
   "source": [
    "### List Comprehension "
   ]
  },
  {
   "cell_type": "code",
   "execution_count": 9,
   "id": "97a8a872",
   "metadata": {},
   "outputs": [
    {
     "name": "stdout",
     "output_type": "stream",
     "text": [
      "[1, 4, 9, 16, 25, 36, 49, 64, 81]\n"
     ]
    }
   ],
   "source": [
    "squared_numbers = [value**2 for value in range(1,10)]\n",
    "# For every value in the range of 1-10 is placed into the expression value**2\n",
    "\n",
    "print(squared_numbers)"
   ]
  },
  {
   "cell_type": "markdown",
   "id": "caf48d09",
   "metadata": {},
   "source": [
    "> List comprehension allows us to generate lines of code that would ususally take lots of lines to finish a task. When doing writing a comprehensive list we need to assign a variable which we place the expression value and a for loop that includes the range of integers we want to use. "
   ]
  },
  {
   "cell_type": "markdown",
   "id": "c5fee686",
   "metadata": {},
   "source": [
    "### Tasks"
   ]
  },
  {
   "cell_type": "code",
   "execution_count": 10,
   "id": "3349fe5a",
   "metadata": {},
   "outputs": [
    {
     "name": "stdout",
     "output_type": "stream",
     "text": [
      "[1, 2, 3, 4, 5, 6, 7, 8, 9, 10, 11, 12, 13, 14, 15, 16, 17, 18, 19, 20]\n"
     ]
    }
   ],
   "source": [
    "numbers = list(range(1, 21))\n",
    "\n",
    "print(numbers)"
   ]
  },
  {
   "cell_type": "code",
   "execution_count": 29,
   "id": "4331f885",
   "metadata": {},
   "outputs": [
    {
     "name": "stdout",
     "output_type": "stream",
     "text": [
      "1\n",
      "2\n",
      "3\n",
      "4\n",
      "5\n",
      "6\n",
      "7\n",
      "8\n",
      "9\n",
      "10\n",
      "11\n",
      "12\n",
      "13\n",
      "14\n",
      "15\n",
      "16\n",
      "17\n",
      "18\n",
      "19\n",
      "20\n",
      "1\n",
      "20\n",
      "210\n"
     ]
    }
   ],
   "source": [
    "numbers_list = []\n",
    "\n",
    "for number in range(1 , 21):\n",
    "    print(number)\n",
    "    numbers_list.append(number)\n",
    "\n",
    "print(min(numbers_list))\n",
    "print(max(numbers_list))\n",
    "print(sum(numbers_list))\n",
    "\n"
   ]
  },
  {
   "cell_type": "code",
   "execution_count": 31,
   "id": "3516f5dc",
   "metadata": {},
   "outputs": [
    {
     "name": "stdout",
     "output_type": "stream",
     "text": [
      "1\n",
      "3\n",
      "5\n",
      "7\n",
      "9\n",
      "11\n",
      "13\n",
      "15\n",
      "17\n",
      "19\n"
     ]
    }
   ],
   "source": [
    "for number in range(1, 21, 2):\n",
    "#     Printing off all of the odd numbers in the list one 1 to 20 \n",
    "    print(number)"
   ]
  },
  {
   "cell_type": "code",
   "execution_count": 34,
   "id": "da2b9251",
   "metadata": {},
   "outputs": [
    {
     "name": "stdout",
     "output_type": "stream",
     "text": [
      "3\n",
      "6\n",
      "9\n",
      "12\n",
      "15\n",
      "18\n",
      "21\n",
      "24\n",
      "27\n",
      "30\n"
     ]
    }
   ],
   "source": [
    "for numbers in range(3, 31, 3):\n",
    "#     Printing a list of all the multiples of 3 using a for loop.\n",
    "    print(numbers)"
   ]
  },
  {
   "cell_type": "code",
   "execution_count": 39,
   "id": "7cf8fb72",
   "metadata": {},
   "outputs": [
    {
     "name": "stdout",
     "output_type": "stream",
     "text": [
      "[1, 8, 27, 64, 125, 216, 343, 512, 729, 1000]\n"
     ]
    }
   ],
   "source": [
    "normal_numbers = list(range(1,11))\n",
    "\n",
    "cubed_numbers = []\n",
    "\n",
    "for number in normal_numbers:\n",
    "    cubed = number**3\n",
    "    cubed_numbers.append(cubed)\n",
    "\n",
    "print(cubed_numbers)\n",
    "    \n",
    "    "
   ]
  },
  {
   "cell_type": "code",
   "execution_count": 1,
   "id": "c1563c10",
   "metadata": {},
   "outputs": [
    {
     "name": "stdout",
     "output_type": "stream",
     "text": [
      "[1, 8, 27, 64, 125, 216, 343, 512, 729, 1000]\n",
      "27\n"
     ]
    }
   ],
   "source": [
    "cubed_numbers = [number**3 for number in range(1, 11)]\n",
    "# Making a comprehensive list, cubing the numbers in a range of 1-10 and assigning the list of numbers to the variable cubed_numbers\n",
    "\n",
    "print(cubed_numbers)\n",
    "print(cubed_numbers[2])"
   ]
  },
  {
   "cell_type": "markdown",
   "id": "a0fb4150",
   "metadata": {},
   "source": [
    "### Slicing A List"
   ]
  },
  {
   "cell_type": "code",
   "execution_count": 7,
   "id": "379981a6",
   "metadata": {},
   "outputs": [
    {
     "name": "stdout",
     "output_type": "stream",
     "text": [
      "('Apple', 'Microsoft', 'Dell')\n",
      "('Dell', 'Hp')\n",
      "('Dell', 'Hp', 'AMD', 'Nvidia')\n"
     ]
    }
   ],
   "source": [
    "computer_companies = \"Apple\", \"Microsoft\", \"Dell\", \"Hp\", \"AMD\", \"Nvidia\"\n",
    "\n",
    "print(computer_companies[0:3])\n",
    "print(computer_companies[2:4])\n",
    "print(computer_companies[2:6])"
   ]
  },
  {
   "cell_type": "markdown",
   "id": "2714e2a7",
   "metadata": {},
   "source": [
    "> Here we are we slicing the list to make a sublist, we do this using the : not a , "
   ]
  },
  {
   "cell_type": "code",
   "execution_count": 10,
   "id": "7ccc091f",
   "metadata": {
    "scrolled": true
   },
   "outputs": [
    {
     "name": "stdout",
     "output_type": "stream",
     "text": [
      "('Apple', 'Microsoft', 'Dell')\n",
      "('Dell', 'Hp', 'AMD', 'Nvidia')\n",
      "('Hp', 'AMD', 'Nvidia')\n"
     ]
    }
   ],
   "source": [
    "computer_companies = \"Apple\", \"Microsoft\", \"Dell\", \"Hp\", \"AMD\", \"Nvidia\"\n",
    "\n",
    "print(computer_companies[:3])\n",
    "print(computer_companies[2:])\n",
    "print(computer_companies[-3:])"
   ]
  },
  {
   "cell_type": "markdown",
   "id": "d4480aba",
   "metadata": {},
   "source": [
    "> If we leave out the first number, Python will start with the start of the list. It also works the same way in reverse, if we include the first number then : but no second number Python wil go all the way to the end. We can also use the -x syntax so we can print the last few numbers in a list, no matter how long the list is. "
   ]
  },
  {
   "cell_type": "code",
   "execution_count": 13,
   "id": "087be619",
   "metadata": {},
   "outputs": [
    {
     "name": "stdout",
     "output_type": "stream",
     "text": [
      "('Apple', 'Dell', 'AMD')\n"
     ]
    }
   ],
   "source": [
    "computer_companies = \"Apple\", \"Microsoft\", \"Dell\", \"Hp\", \"AMD\", \"Nvidia\"\n",
    "\n",
    "print(computer_companies[0:5:2])\n"
   ]
  },
  {
   "cell_type": "markdown",
   "id": "ee411914",
   "metadata": {},
   "source": [
    "> Just like when making lists, if we include a third number, this will tell Python how many numbers to skip each time."
   ]
  },
  {
   "cell_type": "markdown",
   "id": "f53c3e56",
   "metadata": {},
   "source": [
    "### Running For Loops With Slices"
   ]
  },
  {
   "cell_type": "code",
   "execution_count": 15,
   "id": "3f99ea51",
   "metadata": {},
   "outputs": [
    {
     "name": "stdout",
     "output_type": "stream",
     "text": [
      "Here is a list of some computer companies I might by a laptop from.\n",
      "Apple\n",
      "Microsoft\n",
      "Dell\n"
     ]
    }
   ],
   "source": [
    "computer_companies = \"Apple\", \"Microsoft\", \"Dell\", \"Hp\", \"AMD\", \"Nvidia\"\n",
    "\n",
    "print(\"Here is a list of some computer companies I might by a laptop from.\")\n",
    "\n",
    "for company in computer_companies[0:3]:\n",
    "    print(company)"
   ]
  },
  {
   "cell_type": "markdown",
   "id": "e630016a",
   "metadata": {},
   "source": [
    "> Here we are using a for loop to print a subset of the list computer companies. We can use for loops in data science to process our data into chunks of certain size. "
   ]
  },
  {
   "cell_type": "code",
   "execution_count": 6,
   "id": "4240c62f",
   "metadata": {},
   "outputs": [
    {
     "name": "stdout",
     "output_type": "stream",
     "text": [
      "I love these foods\n",
      "['pizza', 'haribo', 'toast']\n",
      "My friend also loves these foods\n",
      "['pizza', 'haribo', 'toast']\n",
      "['pizza', 'haribo', 'toast', 'custard']\n",
      "['pizza', 'haribo', 'toast', 'cake']\n"
     ]
    }
   ],
   "source": [
    "my_food = [\"pizza\", \"haribo\", \"toast\"]\n",
    "my_friends_food = my_food[:]\n",
    "\n",
    "\n",
    "print(\"I love these foods\")\n",
    "print(my_food)\n",
    "\n",
    "print(\"My friend also loves these foods\")\n",
    "print(my_friends_food)\n",
    "\n",
    "my_food.append(\"custard\")\n",
    "my_friends_food.append(\"cake\")\n",
    "\n",
    "print(my_food)\n",
    "print(my_friends_food)"
   ]
  },
  {
   "cell_type": "markdown",
   "id": "332350a9",
   "metadata": {},
   "source": [
    "> Here we are showing that you can copy a list using the syntax [:], this tells Python to make a slice of the list starting at the start and ending at the end, so we make a copy that we can assign to another variable. We are proving they are different lists by appending a value to the end of each seperate list. If we dont use the slice, and just assign the my friends food to my food, the lists would be the same entity. We have to use the slice [:] in order to make another entity. "
   ]
  },
  {
   "cell_type": "markdown",
   "id": "376848f8",
   "metadata": {},
   "source": [
    "### Tasks"
   ]
  },
  {
   "cell_type": "code",
   "execution_count": 9,
   "id": "e1b7d199",
   "metadata": {},
   "outputs": [
    {
     "name": "stdout",
     "output_type": "stream",
     "text": [
      "The first 3 companies in the list of tech companies are\n",
      "('Apple', 'Microsoft', 'Dell')\n",
      "The middle 3 companies in the list of tech companies are\n",
      "('Dell', 'Hp', 'AMD')\n",
      "The last 3 companies in teh list of tech companeis are\n",
      "('Hp', 'AMD', 'Nvidia')\n"
     ]
    }
   ],
   "source": [
    "computer_companies = \"Apple\", \"Microsoft\", \"Dell\", \"Hp\", \"AMD\", \"Nvidia\"\n",
    "\n",
    "print(\"The first 3 companies in the list of tech companies are\")\n",
    "print(computer_companies[:3])\n",
    "\n",
    "print(\"The middle 3 companies in the list of tech companies are\")\n",
    "print(computer_companies[2:5])\n",
    "\n",
    "print(\"The last 3 companies in teh list of tech companeis are\")\n",
    "print(computer_companies[-3:])"
   ]
  },
  {
   "cell_type": "code",
   "execution_count": 15,
   "id": "16be5521",
   "metadata": {},
   "outputs": [
    {
     "name": "stdout",
     "output_type": "stream",
     "text": [
      "['bbq', 'pepperoni', 'ham']\n",
      "['bbq', 'pepperoni', 'ham']\n",
      "These two lists are seperate lists\n",
      "['bbq', 'pepperoni', 'ham', 'vege']\n",
      "['bbq', 'pepperoni', 'ham', 'vegan']\n"
     ]
    }
   ],
   "source": [
    "my_pizzas = [\"bbq\", \"pepperoni\", \"ham\"]\n",
    "my_friends_pizzas =my_pizzas[:]\n",
    "\n",
    "print(my_pizzas)\n",
    "print(my_friends_pizzas)\n",
    "\n",
    "my_pizzas.append(\"vege\")\n",
    "my_friends_pizzas.append(\"vegan\")\n",
    "\n",
    "print(\"These two lists are seperate lists\")\n",
    "print(my_pizzas)\n",
    "print(my_friends_pizzas)"
   ]
  },
  {
   "cell_type": "code",
   "execution_count": 18,
   "id": "d1dd0e73",
   "metadata": {},
   "outputs": [
    {
     "name": "stdout",
     "output_type": "stream",
     "text": [
      "['bbq', 'pepperoni', 'ham']\n",
      "['bbq', 'pepperoni', 'ham']\n",
      "These two lists are seperate lists\n",
      "I really like this kinda bbq\n",
      "I really like this kinda pepperoni\n",
      "I really like this kinda ham\n",
      "I really like this kinda vege\n",
      "My friend really likes this kind of pizza bbq\n",
      "My friend really likes this kind of pizza pepperoni\n",
      "My friend really likes this kind of pizza ham\n",
      "My friend really likes this kind of pizza vegan\n"
     ]
    }
   ],
   "source": [
    "my_pizzas = [\"bbq\", \"pepperoni\", \"ham\"]\n",
    "my_friends_pizzas =my_pizzas[:]\n",
    "\n",
    "print(my_pizzas)\n",
    "print(my_friends_pizzas)\n",
    "\n",
    "my_pizzas.append(\"vege\")\n",
    "my_friends_pizzas.append(\"vegan\")\n",
    "\n",
    "print(\"These two lists are seperate lists\")\n",
    "for pizza in my_pizzas:\n",
    "    print(f'I really like this kinda {pizza}')\n",
    "\n",
    "for pizza in my_friends_pizzas:\n",
    "    print(f'My friend really likes this kind of pizza {pizza}')"
   ]
  },
  {
   "cell_type": "code",
   "execution_count": 19,
   "id": "fbe5fd9e",
   "metadata": {},
   "outputs": [
    {
     "name": "stdout",
     "output_type": "stream",
     "text": [
      "I might buy a product from Apple becuase they sell cool tech\n",
      "I might buy a product from Microsoft becuase they sell cool tech\n",
      "I might buy a product from Dell becuase they sell cool tech\n",
      "I might buy a product from Hp becuase they sell cool tech\n",
      "I might buy a product from AMD becuase they sell cool tech\n",
      "I might buy a product from Nvidia becuase they sell cool tech\n"
     ]
    }
   ],
   "source": [
    "computer_companies = \"Apple\", \"Microsoft\", \"Dell\", \"Hp\", \"AMD\", \"Nvidia\"\n",
    "\n",
    "for company in computer_companies:\n",
    "    print(f'I might buy a product from {company} becuase they sell cool tech')"
   ]
  },
  {
   "cell_type": "markdown",
   "id": "b4c1184d",
   "metadata": {},
   "source": [
    "### Take Aways\n",
    "\n",
    "- List comprehension allows us to write code that would ususally take lots of line in a short line. \n",
    "- Python can do simple maths in the list with min, max and sum.\n",
    "- We can print elemets off in a list, if we want to print every other element or a pattern we add a 3rd integer to tell python how many it should skip.\n",
    "- We can slice a list with [:], when we do this it makes a seperate entity so we can use this to copy the list or make a smaller list that we need to use. \n",
    "- For loops allow us to use the elements to print off a sentence for each element."
   ]
  },
  {
   "cell_type": "markdown",
   "id": "667f5740",
   "metadata": {},
   "source": [
    "### Tuples\n",
    "\n",
    "Lists work well when we are wanting to change what we store throughout a program running. However if we want the list to remain the same, we use tuples. Python refers to unchangable values as immutable, and an immutable list is called a TUPLE."
   ]
  },
  {
   "cell_type": "code",
   "execution_count": 2,
   "id": "2f7f6b74",
   "metadata": {},
   "outputs": [
    {
     "name": "stdout",
     "output_type": "stream",
     "text": [
      "200\n",
      "50\n"
     ]
    }
   ],
   "source": [
    "dimensions = (200, 50)\n",
    "# Printing the dimensions of a rectangle.\n",
    "print(dimensions[0])\n",
    "print(dimensions[1])"
   ]
  },
  {
   "cell_type": "code",
   "execution_count": 3,
   "id": "65ab0ab7",
   "metadata": {},
   "outputs": [
    {
     "ename": "TypeError",
     "evalue": "'tuple' object does not support item assignment",
     "output_type": "error",
     "traceback": [
      "\u001b[1;31m---------------------------------------------------------------------------\u001b[0m",
      "\u001b[1;31mTypeError\u001b[0m                                 Traceback (most recent call last)",
      "Input \u001b[1;32mIn [3]\u001b[0m, in \u001b[0;36m<module>\u001b[1;34m\u001b[0m\n\u001b[0;32m      1\u001b[0m dimensions \u001b[38;5;241m=\u001b[39m (\u001b[38;5;241m200\u001b[39m, \u001b[38;5;241m50\u001b[39m)\n\u001b[1;32m----> 3\u001b[0m dimensions[\u001b[38;5;241m0\u001b[39m] \u001b[38;5;241m=\u001b[39m \u001b[38;5;241m250\u001b[39m\n",
      "\u001b[1;31mTypeError\u001b[0m: 'tuple' object does not support item assignment"
     ]
    }
   ],
   "source": [
    "dimensions = (200, 50)\n",
    "\n",
    "dimensions[0] = 250"
   ]
  },
  {
   "cell_type": "markdown",
   "id": "4aa5ab8b",
   "metadata": {},
   "source": [
    "> Here we can see that we are trying to change a value in the tuple, but python throws a 'TypeError' as tuples cannt be changed, it is also worth noting that what defines the tuple is actually the comma, not the curvy brackets. So a single element tuple will be (3,) becuase we have to include the comma."
   ]
  },
  {
   "cell_type": "code",
   "execution_count": 5,
   "id": "d9dbaa37",
   "metadata": {},
   "outputs": [
    {
     "name": "stdout",
     "output_type": "stream",
     "text": [
      "200\n",
      "50\n"
     ]
    }
   ],
   "source": [
    "dimensions = (200, 50)\n",
    "\n",
    "for dimension in dimensions:\n",
    "    print(dimension)\n",
    "    "
   ]
  },
  {
   "cell_type": "markdown",
   "id": "56a34ddd",
   "metadata": {},
   "source": [
    "> We can also use a for loop to loop through tuples, just like we can a list. "
   ]
  },
  {
   "cell_type": "code",
   "execution_count": 8,
   "id": "90b09f5c",
   "metadata": {},
   "outputs": [
    {
     "name": "stdout",
     "output_type": "stream",
     "text": [
      "\n",
      "This is the original set of dimensions.\n",
      "200\n",
      "50\n",
      "\n",
      "These are the modified dimensions.\n",
      "400\n",
      "100\n"
     ]
    }
   ],
   "source": [
    "dimensions = (200, 50)\n",
    "print(\"\\nThis is the original set of dimensions.\")\n",
    "for dimension in dimensions:\n",
    "    print(dimension)\n",
    "\n",
    "dimensions = (400, 100)\n",
    "print(\"\\nThese are the modified dimensions.\")\n",
    "for dimension in dimensions:\n",
    "    print(dimension)"
   ]
  },
  {
   "cell_type": "markdown",
   "id": "48e1854d",
   "metadata": {},
   "source": [
    "> Although we cannot assign new variables to a tuple, we can just redefine/write over a tuple with new values. The code above shows us how to do it using the dimensional values above. "
   ]
  },
  {
   "cell_type": "markdown",
   "id": "d6d93b17",
   "metadata": {},
   "source": [
    "### Tasks\n"
   ]
  },
  {
   "cell_type": "code",
   "execution_count": 12,
   "id": "940c5104",
   "metadata": {},
   "outputs": [
    {
     "name": "stdout",
     "output_type": "stream",
     "text": [
      "Pasta\n",
      "Bolognase\n",
      "Eggs\n",
      "Chips\n",
      "Pizza\n"
     ]
    }
   ],
   "source": [
    "menu = (\"Pasta\", \"Bolognase\", \"Eggs\", \"Chips\", \"Pizza\")\n",
    "\n",
    "for items in menu:\n",
    "    print(items)"
   ]
  },
  {
   "cell_type": "code",
   "execution_count": 13,
   "id": "7755d587",
   "metadata": {},
   "outputs": [
    {
     "ename": "TypeError",
     "evalue": "'tuple' object does not support item assignment",
     "output_type": "error",
     "traceback": [
      "\u001b[1;31m---------------------------------------------------------------------------\u001b[0m",
      "\u001b[1;31mTypeError\u001b[0m                                 Traceback (most recent call last)",
      "Input \u001b[1;32mIn [13]\u001b[0m, in \u001b[0;36m<module>\u001b[1;34m\u001b[0m\n\u001b[0;32m      1\u001b[0m menu \u001b[38;5;241m=\u001b[39m (\u001b[38;5;124m\"\u001b[39m\u001b[38;5;124mPasta\u001b[39m\u001b[38;5;124m\"\u001b[39m, \u001b[38;5;124m\"\u001b[39m\u001b[38;5;124mBolognase\u001b[39m\u001b[38;5;124m\"\u001b[39m, \u001b[38;5;124m\"\u001b[39m\u001b[38;5;124mEggs\u001b[39m\u001b[38;5;124m\"\u001b[39m, \u001b[38;5;124m\"\u001b[39m\u001b[38;5;124mChips\u001b[39m\u001b[38;5;124m\"\u001b[39m, \u001b[38;5;124m\"\u001b[39m\u001b[38;5;124mPizza\u001b[39m\u001b[38;5;124m\"\u001b[39m)\n\u001b[1;32m----> 3\u001b[0m menu[\u001b[38;5;241m1\u001b[39m] \u001b[38;5;241m=\u001b[39m \u001b[38;5;124m\"\u001b[39m\u001b[38;5;124mPasta bake sauce\u001b[39m\u001b[38;5;124m\"\u001b[39m\n",
      "\u001b[1;31mTypeError\u001b[0m: 'tuple' object does not support item assignment"
     ]
    }
   ],
   "source": [
    "menu = (\"Pasta\", \"Bolognase\", \"Eggs\", \"Chips\", \"Pizza\")\n",
    "\n",
    "menu[1] = \"Pasta bake sauce\""
   ]
  },
  {
   "cell_type": "code",
   "execution_count": 14,
   "id": "6a551c68",
   "metadata": {},
   "outputs": [
    {
     "name": "stdout",
     "output_type": "stream",
     "text": [
      "\n",
      "Original Menu\n",
      "Pasta\n",
      "Bolognase\n",
      "Eggs\n",
      "Chips\n",
      "Pizza\n",
      "\n",
      "Updated Menu\n",
      "Pasta\n",
      "Pasta bake sauce\n",
      "Chips\n",
      "Fish\n",
      "Pizza\n"
     ]
    }
   ],
   "source": [
    "menu = (\"Pasta\", \"Bolognase\", \"Eggs\", \"Chips\", \"Pizza\")\n",
    "\n",
    "print(\"\\nOriginal Menu\")\n",
    "for items in menu:\n",
    "    print(items)\n",
    "    \n",
    "menu = (\"Pasta\", \"Pasta bake sauce\", \"Chips\", \"Fish\", \"Pizza\")\n",
    "print(\"\\nUpdated Menu\")\n",
    "for items in menu:\n",
    "    print(items)"
   ]
  },
  {
   "cell_type": "markdown",
   "id": "df46ed4d",
   "metadata": {},
   "source": [
    "# Chapter 5 If Statments"
   ]
  },
  {
   "cell_type": "code",
   "execution_count": 2,
   "id": "3eb71143",
   "metadata": {},
   "outputs": [
    {
     "name": "stdout",
     "output_type": "stream",
     "text": [
      "Telsa\n",
      "BMW\n",
      "Audi\n",
      "Ford\n"
     ]
    }
   ],
   "source": [
    "cars = \"telsa\", \"bmw\", \"audi\", \"ford\"\n",
    "\n",
    "for car in cars:\n",
    "    if car == \"bmw\":\n",
    "        print(car.upper())\n",
    "    else:\n",
    "        print(car.title())"
   ]
  },
  {
   "cell_type": "markdown",
   "id": "92cb6f52",
   "metadata": {},
   "source": [
    "> This example loops through the elements in the variable cars, checks for if the element is called bmw, if the variable is bmw it converts it into uppcase, if the variable is not bmw it prints the code in title, then moves onto the next element to start the process again. "
   ]
  },
  {
   "cell_type": "markdown",
   "id": "9a4bfb60",
   "metadata": {},
   "source": [
    "### Checking for equality."
   ]
  },
  {
   "cell_type": "code",
   "execution_count": 4,
   "id": "11cafef3",
   "metadata": {
    "scrolled": true
   },
   "outputs": [
    {
     "data": {
      "text/plain": [
       "True"
      ]
     },
     "execution_count": 4,
     "metadata": {},
     "output_type": "execute_result"
    }
   ],
   "source": [
    "car = \"bmw\"\n",
    "car == \"bmw\""
   ]
  },
  {
   "cell_type": "code",
   "execution_count": 5,
   "id": "93627972",
   "metadata": {},
   "outputs": [
    {
     "data": {
      "text/plain": [
       "False"
      ]
     },
     "execution_count": 5,
     "metadata": {},
     "output_type": "execute_result"
    }
   ],
   "source": [
    "car = \"bmw\"\n",
    "car == \"audi\""
   ]
  },
  {
   "cell_type": "code",
   "execution_count": 6,
   "id": "2c493a5e",
   "metadata": {},
   "outputs": [
    {
     "data": {
      "text/plain": [
       "False"
      ]
     },
     "execution_count": 6,
     "metadata": {},
     "output_type": "execute_result"
    }
   ],
   "source": [
    "car = \"bmw\"\n",
    "car == \"BMW\""
   ]
  },
  {
   "cell_type": "markdown",
   "id": "b9add6b5",
   "metadata": {},
   "source": [
    "> The simplest form of conditional test is checks weather a item of a variable equals the variable of interest. The first line sets \"bmw\" to equal car (=), and the second line checks to see if the value of car is bmw (==). To which we get the return of True or False. It is worth noting that for these if statments case matters, notice how bmw and BMW are not the same to python.\n"
   ]
  },
  {
   "cell_type": "code",
   "execution_count": 9,
   "id": "d6f815a8",
   "metadata": {},
   "outputs": [
    {
     "data": {
      "text/plain": [
       "'Audi'"
      ]
     },
     "execution_count": 9,
     "metadata": {},
     "output_type": "execute_result"
    }
   ],
   "source": [
    "car = \"Audi\"\n",
    "\n",
    "car.lower() == \"audi\"\n",
    "\n",
    "car "
   ]
  },
  {
   "cell_type": "markdown",
   "id": "561439dd",
   "metadata": {},
   "source": [
    "> Here if we want to make the cases all the same we just run a lower() function before comparing, this won't change the variable itself as you can see we pass the car.lower() then check afterwards what are is and it is still capital Audi."
   ]
  },
  {
   "cell_type": "code",
   "execution_count": 14,
   "id": "218822f7",
   "metadata": {},
   "outputs": [
    {
     "name": "stdout",
     "output_type": "stream",
     "text": [
      "Don't add pickles on my pizza\n"
     ]
    }
   ],
   "source": [
    "pizza_toppings = \"cheese\"\n",
    "\n",
    "if pizza_toppings != \"pickles\":\n",
    "    print(\"Don't add pickles on my pizza\")\n",
    "\n"
   ]
  },
  {
   "cell_type": "markdown",
   "id": "e3002aca",
   "metadata": {},
   "source": [
    "> Here we are using != to act as a \"not\" in our code, so we are checking for inequality in our code. If we change the varible to equal pickles, then the code will not print anything as pizza_toppings = pickles"
   ]
  },
  {
   "cell_type": "code",
   "execution_count": 15,
   "id": "5b3ec624",
   "metadata": {},
   "outputs": [
    {
     "data": {
      "text/plain": [
       "True"
      ]
     },
     "execution_count": 15,
     "metadata": {},
     "output_type": "execute_result"
    }
   ],
   "source": [
    "number = 18\n",
    "number == 18"
   ]
  },
  {
   "cell_type": "code",
   "execution_count": 16,
   "id": "7cf37476",
   "metadata": {},
   "outputs": [
    {
     "data": {
      "text/plain": [
       "False"
      ]
     },
     "execution_count": 16,
     "metadata": {},
     "output_type": "execute_result"
    }
   ],
   "source": [
    "number = 15\n",
    "number == 18"
   ]
  },
  {
   "cell_type": "markdown",
   "id": "62bad8e2",
   "metadata": {},
   "source": [
    "> As you can see we can also compare numbers as well. "
   ]
  },
  {
   "cell_type": "code",
   "execution_count": 17,
   "id": "53850cbd",
   "metadata": {},
   "outputs": [
    {
     "name": "stdout",
     "output_type": "stream",
     "text": [
      "The right answer is 40, check your math and try again.\n"
     ]
    }
   ],
   "source": [
    "answer = 17\n",
    "\n",
    "if answer != 40:\n",
    "    print(\"The right answer is 40, check your math and try again.\")"
   ]
  },
  {
   "cell_type": "code",
   "execution_count": 18,
   "id": "502b0582",
   "metadata": {},
   "outputs": [
    {
     "data": {
      "text/plain": [
       "True"
      ]
     },
     "execution_count": 18,
     "metadata": {},
     "output_type": "execute_result"
    }
   ],
   "source": [
    "age = 21\n",
    "\n",
    "age < 22"
   ]
  },
  {
   "cell_type": "code",
   "execution_count": 19,
   "id": "a0ae299c",
   "metadata": {},
   "outputs": [
    {
     "data": {
      "text/plain": [
       "False"
      ]
     },
     "execution_count": 19,
     "metadata": {},
     "output_type": "execute_result"
    }
   ],
   "source": [
    "age = 21\n",
    "\n",
    "age > 22"
   ]
  },
  {
   "cell_type": "markdown",
   "id": "fc68fa1a",
   "metadata": {},
   "source": [
    "> We can compare many things in numerical value, these mathamatical comparisons can be used with if statements to help see if conditions are met in the code."
   ]
  },
  {
   "cell_type": "code",
   "execution_count": 20,
   "id": "a6184a5f",
   "metadata": {},
   "outputs": [
    {
     "name": "stdout",
     "output_type": "stream",
     "text": [
      "You can both go into the bar.\n"
     ]
    }
   ],
   "source": [
    "age_0 = 21\n",
    "age_1 = 22\n",
    "\n",
    "if age_0 == 21 and age_1 == 22:\n",
    "    print(\"You can both go into the bar.\")"
   ]
  },
  {
   "cell_type": "markdown",
   "id": "e471889c",
   "metadata": {},
   "source": [
    "> Here both conditions are met in the \"and\" if statement so we print our statement out. This allows us to ensure two conditions are met."
   ]
  },
  {
   "cell_type": "code",
   "execution_count": 29,
   "id": "15480c86",
   "metadata": {},
   "outputs": [],
   "source": [
    "age_0 = 20\n",
    "age_1 = 19\n",
    "\n",
    "if age_0 == 21 and age_1 == 22:\n",
    "    print(\"You can both go into the bar.\")"
   ]
  },
  {
   "cell_type": "markdown",
   "id": "559f485f",
   "metadata": {},
   "source": [
    "> Here you can see that neither of the variables compare so Python doesn't print anything."
   ]
  },
  {
   "cell_type": "code",
   "execution_count": 22,
   "id": "3e7ade42",
   "metadata": {},
   "outputs": [
    {
     "name": "stdout",
     "output_type": "stream",
     "text": [
      "You can both go into the bar.\n"
     ]
    }
   ],
   "source": [
    "age_0 = 21\n",
    "age_1 = 22\n",
    "\n",
    "if age_0 <= 21 and age_1 <= 22:\n",
    "    print(\"You can both go into the bar.\")"
   ]
  },
  {
   "cell_type": "code",
   "execution_count": 10,
   "id": "fa89537f",
   "metadata": {},
   "outputs": [],
   "source": [
    "age_0 = 42\n",
    "age_1 = 15\n",
    "\n",
    "if age_0 <= 21 or age_1 >=17:\n",
    "    print(\"This or keyword has worked, one or both of the conditions is met and the code is running\")"
   ]
  },
  {
   "cell_type": "markdown",
   "id": "5f8e4db3",
   "metadata": {},
   "source": [
    "> Try altering the ages, see what works and what doesn't, this is an \"or\" keyword so only one of the conditions has to be true for it to pass."
   ]
  },
  {
   "cell_type": "code",
   "execution_count": 13,
   "id": "98ca4172",
   "metadata": {},
   "outputs": [
    {
     "data": {
      "text/plain": [
       "True"
      ]
     },
     "execution_count": 13,
     "metadata": {},
     "output_type": "execute_result"
    }
   ],
   "source": [
    "possible_toppings = [\"Ham\", \"Pineapple\", \"Pepperoni\", \"Chicken\"]\n",
    "\n",
    "\"Ham\" in possible_toppings"
   ]
  },
  {
   "cell_type": "markdown",
   "id": "284aa63c",
   "metadata": {},
   "source": [
    "> Here we are using the keyword \"in\" to see if a element is inside a list. This could be really helpful when we are looking to see if a username is already existent when creating new users for example."
   ]
  },
  {
   "cell_type": "code",
   "execution_count": 19,
   "id": "5ac9f716",
   "metadata": {},
   "outputs": [
    {
     "name": "stdout",
     "output_type": "stream",
     "text": [
      "Cameron you can comment on this forum.\n"
     ]
    }
   ],
   "source": [
    "banned_users = [\"Charlie\", \"Tom\", \"Ben\"]\n",
    "user = \"Cameron\"\n",
    "\n",
    "if user not in banned_users:\n",
    "    print(f'{user} you can comment on this forum.')\n",
    "\n",
    "if user in banned_users:\n",
    "    print(\"You are not allowed to comment\")"
   ]
  },
  {
   "cell_type": "markdown",
   "id": "d2afffbc",
   "metadata": {},
   "source": [
    "Here we use the keyword \"not\" to check that a user is not in a list of banned users before allowing them to comment on a forum, python will read the code and check is the user is in banned users, if not then it will read the next line of code, if it is then it will move down to the next statement. I then added another if statement that tells the program what to do if the user is infact part of the banned list. "
   ]
  },
  {
   "cell_type": "code",
   "execution_count": 23,
   "id": "ef70208b",
   "metadata": {},
   "outputs": [
    {
     "name": "stdout",
     "output_type": "stream",
     "text": [
      "You cannot edit the game, as it is currently active.\n"
     ]
    }
   ],
   "source": [
    "game_active = True\n",
    "\n",
    "if game_active == True:\n",
    "    print(\"You cannot edit the game, as it is currently active.\")\n",
    "    \n",
    "if game_active == False:\n",
    "    print(\"You can edit the game, as it is not currently active.\")"
   ]
  },
  {
   "cell_type": "markdown",
   "id": "9e1e0229",
   "metadata": {},
   "source": [
    "> Here we use a Booleen expression, to check if a game is active or not, if it is active we cannot edit the game as the game code will be running. If the game is not active, we can edit the code as the program will not be running at that time. "
   ]
  },
  {
   "cell_type": "markdown",
   "id": "bc78e1f5",
   "metadata": {},
   "source": [
    "### Tasks\n",
    "\n",
    "\n",
    "In these tasks, go through and change some variables or statments and see how the programs run."
   ]
  },
  {
   "cell_type": "code",
   "execution_count": 27,
   "id": "66a0f537",
   "metadata": {},
   "outputs": [
    {
     "name": "stdout",
     "output_type": "stream",
     "text": [
      "Cameron is also looking at other laptops to buy so he can code wherever he wants.\n"
     ]
    }
   ],
   "source": [
    "camerons_laptop = \"dell\"\n",
    "\n",
    "if camerons_laptop == \"macbook\":\n",
    "    print(\"Cameron is looking to buy a macbook as apple silicon seems to be very good right now.\")\n",
    "\n",
    "if camerons_laptop != \"macbook\":\n",
    "    print(\"Cameron is also looking at other laptops to buy so he can code wherever he wants.\")"
   ]
  },
  {
   "cell_type": "code",
   "execution_count": 33,
   "id": "8450acba",
   "metadata": {},
   "outputs": [
    {
     "name": "stdout",
     "output_type": "stream",
     "text": [
      "You can go into a bar in America, as you are over the age of 21.\n"
     ]
    }
   ],
   "source": [
    "age = 22\n",
    "\n",
    "if age >= 21:\n",
    "    print(\"You can go into a bar in America, as you are over the age of 21.\")\n",
    "\n",
    "if age <= 20:\n",
    "    print(\"You cannot go into a bar in America, if you are 18 or over, you can go into a bar in the UK.\")"
   ]
  },
  {
   "cell_type": "code",
   "execution_count": 34,
   "id": "84895f3a",
   "metadata": {},
   "outputs": [
    {
     "name": "stdout",
     "output_type": "stream",
     "text": [
      "He is having a good day doing some work.\n"
     ]
    }
   ],
   "source": [
    "cameron_happy = True\n",
    "\n",
    "if cameron_happy == True:\n",
    "    print(\"He is having a good day doing some work.\")\n",
    "\n",
    "if cameron_happy == False:\n",
    "    print(\"He might not of gotten as much done as he would have liked today.\")"
   ]
  },
  {
   "cell_type": "code",
   "execution_count": 40,
   "id": "64675742",
   "metadata": {},
   "outputs": [
    {
     "name": "stdout",
     "output_type": "stream",
     "text": [
      "You are a host, you can invite people to the party.\n"
     ]
    }
   ],
   "source": [
    "hosts = [\"Charlie\", \"Harry\", \"Ben\", \"Cameron\", \"Henry\"]\n",
    "\n",
    "invitee = \"Charlie\"\n",
    "\n",
    "if invitee not in hosts:\n",
    "    print(\"You are not a host, so you cannot invite people to the party.\")\n",
    "    \n",
    "if invitee in hosts:\n",
    "    print(\"You are a host, you can invite people to the party.\")"
   ]
  },
  {
   "cell_type": "markdown",
   "id": "1b8a0410",
   "metadata": {},
   "source": [
    "### We have seen conditional tests, we are now going to dig deeper into if statements."
   ]
  },
  {
   "cell_type": "markdown",
   "id": "6d8d3ccc",
   "metadata": {},
   "source": [
    "> The simplest kind of if statement is. \n",
    "\n",
    "\n",
    ">if conditional statment:\n",
    "    do something"
   ]
  },
  {
   "cell_type": "code",
   "execution_count": 2,
   "id": "71cb22ef",
   "metadata": {},
   "outputs": [
    {
     "name": "stdout",
     "output_type": "stream",
     "text": [
      "You are old enough to vote.\n"
     ]
    }
   ],
   "source": [
    "age = 19 \n",
    "\n",
    "if age >= 18:\n",
    "    print(\"You are old enough to vote.\")"
   ]
  },
  {
   "cell_type": "code",
   "execution_count": 3,
   "id": "aa284fbe",
   "metadata": {},
   "outputs": [
    {
     "name": "stdout",
     "output_type": "stream",
     "text": [
      "You are old enough to vote.\n",
      "Have you registered to vote yet?\n"
     ]
    }
   ],
   "source": [
    "age = 19 \n",
    "\n",
    "if age >= 18:\n",
    "    print(\"You are old enough to vote.\")\n",
    "    print(\"Have you registered to vote yet?\")"
   ]
  },
  {
   "cell_type": "code",
   "execution_count": 5,
   "id": "c82040dd",
   "metadata": {},
   "outputs": [
    {
     "name": "stdout",
     "output_type": "stream",
     "text": [
      "You are not old enough to vote yet\n",
      "Please register to vote once you turn 18.\n"
     ]
    }
   ],
   "source": [
    "age = 16 \n",
    "\n",
    "if age >= 18:\n",
    "    print(\"You are old enough to vote.\")\n",
    "    print(\"Have you registered to vote yet?\")\n",
    "else:\n",
    "    print(\"You are not old enough to vote yet\")\n",
    "    print(\"Please register to vote once you turn 18.\")"
   ]
  },
  {
   "cell_type": "markdown",
   "id": "296e999e",
   "metadata": {},
   "source": [
    "> This is an else statement, if the code runs True we will print the top indentation of code. If the code runs False, the second indentation of the code will run. "
   ]
  },
  {
   "cell_type": "code",
   "execution_count": 10,
   "id": "5d04e0d3",
   "metadata": {},
   "outputs": [
    {
     "name": "stdout",
     "output_type": "stream",
     "text": [
      "The admission cost is £20.\n"
     ]
    }
   ],
   "source": [
    "age = 32\n",
    "\n",
    "if age <=4:\n",
    "    print(\"The admission cost is £5.\")\n",
    "elif age <= 18:\n",
    "    print(\"The admission cost is £10.\")\n",
    "else:\n",
    "    print(\"The admission cost is £20.\")"
   ]
  },
  {
   "cell_type": "markdown",
   "id": "11a3e8bd",
   "metadata": {},
   "source": [
    "> Here is an elif chain, if the first if statment fails, we move onto the elif statement, which is basically another if statement. If the first test fails we know that the persons age must be at least 5 years old so we then test to see if they are less than or equal to 18. We then use an else statment for the rest of the age groups, meaning that as long as they are over 18 they get charged the full price. But there is a better way to do it. "
   ]
  },
  {
   "cell_type": "code",
   "execution_count": 13,
   "id": "8637e7c4",
   "metadata": {},
   "outputs": [
    {
     "name": "stdout",
     "output_type": "stream",
     "text": [
      "Your admission price is £10.\n"
     ]
    }
   ],
   "source": [
    "age = 17\n",
    "\n",
    "if age <=4:\n",
    "    price = 5\n",
    "elif age <= 18:\n",
    "    price = 10\n",
    "else:\n",
    "    price = 20\n",
    "    \n",
    "\n",
    "print(f'Your admission price is £{price}.')"
   ]
  },
  {
   "cell_type": "markdown",
   "id": "009a2c4e",
   "metadata": {},
   "source": [
    "> So here there is the same task happening, but what we are doing is setting the price in the if statements, then have a line at the end of the code that prints off the price. This means the code runs much more efficiently and that modifying it will be easier. Its important to write code that works and is efficient and easy to read. "
   ]
  },
  {
   "cell_type": "code",
   "execution_count": 15,
   "id": "4dfdea10",
   "metadata": {},
   "outputs": [
    {
     "name": "stdout",
     "output_type": "stream",
     "text": [
      "Your admission price is £30.\n"
     ]
    }
   ],
   "source": [
    "age = 55\n",
    "\n",
    "if age <=4:\n",
    "    price = 5\n",
    "elif age <= 18:\n",
    "    price = 10\n",
    "elif age <= 65:\n",
    "    price = 30\n",
    "else:\n",
    "    price = 20\n",
    "    \n",
    "\n",
    "print(f'Your admission price is £{price}.')"
   ]
  },
  {
   "cell_type": "markdown",
   "id": "522c10c6",
   "metadata": {},
   "source": [
    "> This code has two elif tests in there, so we are testing for the age to see if they are below 65 and qualify for a senior discount to our park. "
   ]
  },
  {
   "cell_type": "code",
   "execution_count": 18,
   "id": "224f8802",
   "metadata": {},
   "outputs": [
    {
     "name": "stdout",
     "output_type": "stream",
     "text": [
      "Your admission price is £30.\n"
     ]
    }
   ],
   "source": [
    "age = 50\n",
    "\n",
    "if age <=4:\n",
    "    price = 5\n",
    "elif age <= 18:\n",
    "    price = 10\n",
    "elif age <= 65:\n",
    "    price = 30\n",
    "elif age >= 66:\n",
    "    price = 20\n",
    "    \n",
    "\n",
    "print(f'Your admission price is £{price}.')"
   ]
  },
  {
   "cell_type": "markdown",
   "id": "1be48cbe",
   "metadata": {},
   "source": [
    "> Python doesn't require an else block at the end of if statments, here we have an elif block at the end of the test, this makes it slightly more easier to read, as we can clearly see what price applies to what etc, there is no just ambiguous end of else do x y and z. If we have a specific end we want to test, it is always better to use an elif block at the end, this means that \"wrong\" data won't pass through the test in the else statement. "
   ]
  },
  {
   "cell_type": "code",
   "execution_count": 19,
   "id": "b49a2cc5",
   "metadata": {},
   "outputs": [
    {
     "name": "stdout",
     "output_type": "stream",
     "text": [
      "I will add ham to your pizza.\n",
      "I will add extra cheese to your pizza.\n",
      "Your pizza is ready now!\n"
     ]
    }
   ],
   "source": [
    "toppings = [\"pepperoni\", \"ham\", \"extra cheese\"]\n",
    "\n",
    "if \"ham\" in toppings:\n",
    "    print(\"I will add ham to your pizza.\")\n",
    "if \"mushroom\" in toppings:\n",
    "    print(\"I will add mushrooms to your pizza.\")\n",
    "if \"extra cheese\" in toppings:\n",
    "    print(\"I will add extra cheese to your pizza.\")\n",
    "    \n",
    "print(\"Your pizza is ready now!\")"
   ]
  },
  {
   "cell_type": "code",
   "execution_count": 5,
   "id": "aaf84223",
   "metadata": {},
   "outputs": [
    {
     "name": "stdout",
     "output_type": "stream",
     "text": [
      "I will add some ham to your pizza\n",
      "I will make sure to use a gluten free base in your pizza\n",
      "Sorry we don't serve pineapple on pizza here!\n"
     ]
    }
   ],
   "source": [
    "toppings = [\"ham\", \"no gluten\", \"pineapple\"]\n",
    "\n",
    "if \"ham\" in toppings:\n",
    "    print(\"I will add some ham to your pizza\")\n",
    "if \"pepperoni\" in toppings:\n",
    "    print(\"I will add some pepperoni to your pizza\")\n",
    "if \"no gluten\" in toppings:\n",
    "    print(\"I will make sure to use a gluten free base in your pizza\")\n",
    "if \"pineapple\" in toppings:\n",
    "    print(\"Sorry we don't serve pineapple on pizza here!\")"
   ]
  },
  {
   "cell_type": "markdown",
   "id": "dd31907c",
   "metadata": {},
   "source": [
    "> This code wouldn't work if we used an if elif else loop as it would stop on the first condition if it was true, if we only want one block of code to run under a certain condition we can use the if eli else loops, if we want to run mutliple things we need to use multiple if statments."
   ]
  },
  {
   "cell_type": "code",
   "execution_count": 7,
   "id": "e20b00e6",
   "metadata": {},
   "outputs": [
    {
     "name": "stdout",
     "output_type": "stream",
     "text": [
      "You have just earned 20 points\n"
     ]
    }
   ],
   "source": [
    "alien_colour = \"blue\"\n",
    "\n",
    "if alien_colour == \"green\":\n",
    "    print(\"You have just earned 5 points\")\n",
    "elif alien_colour == \"yellow\":\n",
    "    print(\"You have just earned 10 points\")\n",
    "elif alien_colour == \"blue\":\n",
    "    print(\"You have just earned 20 points\")\n",
    "else:\n",
    "    print(\"You have just earned 1 point\")"
   ]
  },
  {
   "cell_type": "code",
   "execution_count": 8,
   "id": "d37a35fa",
   "metadata": {},
   "outputs": [
    {
     "name": "stdout",
     "output_type": "stream",
     "text": [
      "You are an elder\n"
     ]
    }
   ],
   "source": [
    "age = 67\n",
    "\n",
    "if age < 2:\n",
    "    print(\"You are a baby\")\n",
    "elif age >= 2 and age < 4:\n",
    "    print(\"You are a toddler\")\n",
    "elif age >= 4 and age < 13:\n",
    "    print(\"You are a kid\")\n",
    "elif age >= 13 and age < 20:\n",
    "    print(\"You are a teenager\")\n",
    "elif age >= 20 and age < 65:\n",
    "    print(\"You are aa adult\")\n",
    "else:\n",
    "    print(\"You are an elder\")"
   ]
  },
  {
   "cell_type": "code",
   "execution_count": 33,
   "id": "bf85aab4",
   "metadata": {},
   "outputs": [
    {
     "name": "stdout",
     "output_type": "stream",
     "text": [
      "This is my favourite snack\n",
      "['pizza', 'cheese on toast'] is really nice\n",
      "This is my favourite main course\n"
     ]
    }
   ],
   "source": [
    "fav_food = [\"pizza\", \"cheese on toast\"]\n",
    "\n",
    "if \"cheese on toast\" in fav_food:\n",
    "    print(\"This is my favourite snack\")\n",
    "if \"pizza\" in fav_food:\n",
    "    print(\"This is my favourite main course\")\n",
    "if \"smores\" in fav_food:\n",
    "    print(\"This is my favourite dessert\")"
   ]
  },
  {
   "cell_type": "markdown",
   "id": "65459eef",
   "metadata": {},
   "source": [
    "## Using If Statements With Lists"
   ]
  },
  {
   "cell_type": "markdown",
   "id": "734cde98",
   "metadata": {},
   "source": [
    "We can do interesting work with if statements and lists, we can look for special values that need to be treated differently or manage changing conditions efficiently. We can also prove our code is working as we expect in certain conditions."
   ]
  },
  {
   "cell_type": "code",
   "execution_count": 40,
   "id": "2db0c800",
   "metadata": {},
   "outputs": [
    {
     "name": "stdout",
     "output_type": "stream",
     "text": [
      "adding double cheese to your pizza\n",
      "adding sweetcorn to your pizza\n",
      "adding chicken to your pizza\n",
      "adding BBQ sauce to your pizza\n",
      "\n",
      "Finished making your pizza now\n"
     ]
    }
   ],
   "source": [
    "requested_toppings =[\"double cheese\", \"sweetcorn\", \"chicken\", \"BBQ sauce\"]\n",
    "\n",
    "if requested_toppings:\n",
    "    for requested_topping in requested_toppings:\n",
    "        print(f'adding {requested_topping} to your pizza')\n",
    "    print(\"\\nFinished making your pizza now\")\n",
    "\n",
    "else:\n",
    "    print(\"Are you sure you want to eat plain pizza???\")\n"
   ]
  },
  {
   "cell_type": "markdown",
   "id": "683ab48e",
   "metadata": {},
   "source": [
    "> With every list so far we have assumed that it has elements in it, here we check if the list has toppings in it and if there are no elements in the list, if there are it runs the code on the if block. If the list is empty we run the else block of code. Soon we will be askig users to enter information into lists so sometimes they will be emtpy, this information will be useful.\n",
    "\n",
    "\n",
    "> When an if statement is used in a list, if the list contains an item python will return True, if the list doesn't contain an element it returns Flase."
   ]
  },
  {
   "cell_type": "markdown",
   "id": "041c7741",
   "metadata": {},
   "source": [
    "### Using Multiple Lists"
   ]
  },
  {
   "cell_type": "code",
   "execution_count": 59,
   "id": "7ec8a70c",
   "metadata": {},
   "outputs": [
    {
     "name": "stdout",
     "output_type": "stream",
     "text": [
      "Adding extra cheese to your pizza\n",
      "Adding pepperoni to your pizza\n",
      "\n",
      "We do not add fries to pizza here\n",
      "\n",
      "We are finished with your pizza\n"
     ]
    }
   ],
   "source": [
    "available_toppings = [\"extra cheese\", \"pineapple\", \"pepperoni\", \"green peppers\", \"chicken\", \"sweetcorn\"]\n",
    "\n",
    "requested_toppings = [\"extra cheese\", \"pepperoni\", \"fries\"]\n",
    "\n",
    "for requested_topping in requested_toppings:\n",
    "    if requested_topping in available_toppings:\n",
    "        print(f'Adding {requested_topping} to your pizza')\n",
    "    else:\n",
    "        print(f'\\nWe do not add {requested_topping} to pizza here')\n",
    "\n",
    "print(\"\\nWe are finished with your pizza\")\n",
    "    "
   ]
  },
  {
   "cell_type": "markdown",
   "id": "9b6ae4a8",
   "metadata": {},
   "source": [
    "> People will ask for anything on pizza, we need to make sure we can work and define what is allowed and what isn't. This could be applied to many things such as banned players in a game, such as requests to download the game [] and been banned for cheating using the same IP address [] if player is in banned for cheatin list, and requested to download the game, they must be stopped. We use a for statment to run through each topping in the requested_toppings then we enter an if statment if the requested topping is in the available topping list we add it to the pizza, if the requested topping isn't in the available list we go into the else part of the if statment and tell the customer we cannot add that topping to the pizza here. We finish it with a final message telling the customer we have finished making their pizza."
   ]
  },
  {
   "cell_type": "markdown",
   "id": "29899492",
   "metadata": {},
   "source": [
    "## Tasks"
   ]
  },
  {
   "cell_type": "code",
   "execution_count": 15,
   "id": "810a0d82",
   "metadata": {},
   "outputs": [
    {
     "name": "stdout",
     "output_type": "stream",
     "text": [
      "Hello cameron123 thank you for logging on!\n",
      "Hello angus0115 thank you for logging on!\n",
      "Hello charlie43 thank you for logging on!\n",
      "Hello tomp232 thank you for logging on!\n",
      "Hellow admin, would you like to see a status report?\n",
      "Hello ben46 thank you for logging on!\n"
     ]
    }
   ],
   "source": [
    "usernames = [\"cameron123\", \"angus0115\", \"charlie43\", \"tomp232\", \"admin\", \"ben46\"]\n",
    "\n",
    "for username in usernames:\n",
    "    if username == \"admin\":\n",
    "        print(\"Hellow admin, would you like to see a status report?\")\n",
    "    else:\n",
    "        print(f'Hello {username} thank you for logging on!')"
   ]
  },
  {
   "cell_type": "code",
   "execution_count": 24,
   "id": "12c4db36",
   "metadata": {},
   "outputs": [
    {
     "name": "stdout",
     "output_type": "stream",
     "text": [
      "Hello cameron123 thank you for logging on!\n",
      "Hello angus0115 thank you for logging on!\n",
      "Hello charlie43 thank you for logging on!\n",
      "Hello tomp232 thank you for logging on!\n",
      "Hellow admin, would you like to see a status report?\n",
      "Hello ben46 thank you for logging on!\n"
     ]
    }
   ],
   "source": [
    "usernames = [\"cameron123\", \"angus0115\", \"charlie43\", \"tomp232\", \"admin\", \"ben46\"]\n",
    "\n",
    "# Adding an if statement to check if the list is empty\n",
    "if usernames == []:\n",
    "        print(\"We need to get some users for our website\")\n",
    "\n",
    "# If the list isn't empty python will run this loop\n",
    "for username in usernames:\n",
    "    if username == \"admin\":\n",
    "        print(\"Hellow admin, would you like to see a status report?\")\n",
    "    else:\n",
    "        print(f'Hello {username} thank you for logging on!')"
   ]
  },
  {
   "cell_type": "code",
   "execution_count": 29,
   "id": "24bbef4c",
   "metadata": {},
   "outputs": [
    {
     "name": "stdout",
     "output_type": "stream",
     "text": [
      "This username charlie22 is available, would you like to create an account\n",
      "This username harry32 is available, would you like to create an account\n",
      "This username henry67 is available, would you like to create an account\n",
      "This username cameron123 is already taken, please make another one\n",
      "This username tomp232 is already taken, please make another one\n",
      "['cameron123', 'angus0115', 'charlie43', 'tomp232', 'admin', 'ben46', 'charlie22', 'harry32', 'henry67']\n"
     ]
    }
   ],
   "source": [
    "current_usernames = [\"cameron123\", \"angus0115\", \"charlie43\", \"tomp232\", \"admin\", \"ben46\"]\n",
    "\n",
    "new_usernames = [\"charlie22\", \"harry32\", \"henry67\", \"cameron123\", \"tomp232\"]\n",
    "\n",
    "# Checking if the username is in the new usernames\n",
    "for username in new_usernames:\n",
    "    if username in current_usernames:\n",
    "        print(f\"This username {username} is already taken, please make another one\")\n",
    "# If the new username is not taken, we tell the user and then append it to the current usernames list\n",
    "    else:\n",
    "        print(f\"This username {username} is available, would you like to create an account\")\n",
    "        current_usernames.append(username)\n",
    "\n",
    "print(current_usernames)"
   ]
  },
  {
   "cell_type": "markdown",
   "id": "3c9b2b0a",
   "metadata": {},
   "source": [
    "> These tasks are to prove we can use if statments with lists, in the first block of code we are simply checking if usernames logging in is an admin or a user. The second block of code we are allowing new people to check if their username is taken, if it is taken we ask then to make a new one. If it's not taken we tell the user it's okay, then append the new username into the current username list."
   ]
  },
  {
   "cell_type": "code",
   "execution_count": 33,
   "id": "484e5092",
   "metadata": {},
   "outputs": [
    {
     "name": "stdout",
     "output_type": "stream",
     "text": [
      "This is the 1st number\n",
      "This is the 2nd number\n",
      "This is the 3rd number\n",
      "This is the 4th number\n",
      "This is the 5th number\n",
      "This is the 6th number\n",
      "This is the 7th number\n",
      "This is the 8th number\n",
      "This is the 9th number\n"
     ]
    }
   ],
   "source": [
    "numbers = list(range(1,10))\n",
    "\n",
    "for number in numbers:\n",
    "    if number == 1:\n",
    "        print(\"This is the 1st number\")\n",
    "    elif number == 2:\n",
    "        print(\"This is the 2nd number\")\n",
    "    elif number == 3:\n",
    "        print(\"This is the 3rd number\")\n",
    "    elif number == 4:\n",
    "        print(\"This is the 4th number\")\n",
    "    elif number == 5:\n",
    "        print(\"This is the 5th number\")\n",
    "    elif number == 6:\n",
    "        print(\"This is the 6th number\")\n",
    "    elif number == 7:\n",
    "        print(\"This is the 7th number\")\n",
    "    elif number == 8:\n",
    "        print(\"This is the 8th number\")\n",
    "    elif number == 9:\n",
    "        print(\"This is the 9th number\")        "
   ]
  },
  {
   "cell_type": "markdown",
   "id": "ab352141",
   "metadata": {},
   "source": [
    "> Here we are making a list of numbers from 1 to 9, and using an if-elif chain that prints each number in their ordinal ending with each result on a differnt line"
   ]
  },
  {
   "cell_type": "markdown",
   "id": "b842e429",
   "metadata": {},
   "source": [
    "## Summary \n",
    "\n",
    "In this chapter we have learned to use conditional tests True and False, then we learned to write if statements and implemented them. We also learned to manipulate lists using for loops as well as if loops"
   ]
  },
  {
   "cell_type": "markdown",
   "id": "882b8136",
   "metadata": {},
   "source": [
    "# Chapter 6 Dictionaries \n",
    "\n",
    "A dictonary is a feature of python that allows us to connect related bits of information, in this chapter I will learn to acess the information and make changes to it. Dictionaires allow us to model real world objects more accuratly  I will also learn how to loop through this information as well as nesting dictionaries inside of lists and lists inside of dictionaries and even dictionaires inside of dictionaries. "
   ]
  },
  {
   "cell_type": "markdown",
   "id": "100ab3e7",
   "metadata": {},
   "source": [
    "> Consider a game where we shoot aliens that have different colours and differnt points for killing them"
   ]
  },
  {
   "cell_type": "code",
   "execution_count": 35,
   "id": "ccd76def",
   "metadata": {},
   "outputs": [
    {
     "name": "stdout",
     "output_type": "stream",
     "text": [
      "green\n",
      "5\n"
     ]
    }
   ],
   "source": [
    "alien_0 = {'colour' : 'green', 'points' : '5'}\n",
    "\n",
    "print(alien_0['colour'])\n",
    "print(alien_0['points'])"
   ]
  },
  {
   "cell_type": "markdown",
   "id": "bf317e69",
   "metadata": {},
   "source": [
    "> In python a dictonary is a collection of \"key values\" these key values are a key that is assigned to a value so it's sort of self explanitory in a way. We use the key to access the value in the dictionary, it is important to remeber that a keys value can be a string, number, list or even another dictonary (we can use anything we can create (object wise) in python in a dictonary) \n",
    "\n",
    "> A dictonary is surrounded by curvy brackets {} with lists of key:value pairs in the curvy brackets\n",
    "alien_0 = {'colour' : 'green', 'points' : '5'}, every key value pair in linked by : and we can store as many as key:value pairs in the dictionary that we want but the minimum is one."
   ]
  },
  {
   "cell_type": "code",
   "execution_count": 40,
   "id": "4ce87183",
   "metadata": {},
   "outputs": [
    {
     "name": "stdout",
     "output_type": "stream",
     "text": [
      "green\n",
      "5\n",
      "Wow you just got the alien, you get 5 points\n"
     ]
    }
   ],
   "source": [
    "alien_0 = {'colour':'green', 'points':'5'}\n",
    "\n",
    "print(alien_0['colour'])\n",
    "print(alien_0['points'])\n",
    "\n",
    "new_points = (alien_0['points'])\n",
    "# Assinging the value of the key 'points' to the variable new_points.\n",
    "print(f\"Wow you just got the alien, you get {new_points} points\")"
   ]
  },
  {
   "cell_type": "markdown",
   "id": "8a3618d6",
   "metadata": {},
   "source": [
    "### Adding new key:value pairs\n"
   ]
  },
  {
   "cell_type": "markdown",
   "id": "557377d6",
   "metadata": {},
   "source": [
    "> Dictionaries are dynamic, we can add and remove key:pair values, to add key-value pairs we need to add the name of the dictonary followed by square brackets with the new key inside alongisde a new value\n",
    "\n",
    "> To access the dictionary, we simply state the name of the dictonary, then the key that we want to access"
   ]
  },
  {
   "cell_type": "code",
   "execution_count": 43,
   "id": "3ca44e18",
   "metadata": {},
   "outputs": [
    {
     "name": "stdout",
     "output_type": "stream",
     "text": [
      "{'colour': 'green', 'points': '5'}\n",
      "{'colour': 'green', 'points': '5', 'x-coordinate': 0, 'y-coordinate': 25}\n"
     ]
    }
   ],
   "source": [
    "alien_0 = {'colour':'green', 'points':'5'}\n",
    "print(alien_0)\n",
    "\n",
    "alien_0['x-coordinate'] = 0\n",
    "alien_0['y-coordinate'] = 25\n",
    "print(alien_0)"
   ]
  },
  {
   "cell_type": "code",
   "execution_count": 45,
   "id": "74b6a079",
   "metadata": {},
   "outputs": [
    {
     "name": "stdout",
     "output_type": "stream",
     "text": [
      "{'colour': 'green', 'points': 5, 'x-coordinate': 0, 'y-coordinate': 33}\n"
     ]
    }
   ],
   "source": [
    "alien_0 = {}\n",
    "\n",
    "alien_0['colour'] = 'green'\n",
    "alien_0 ['points'] = 5\n",
    "alien_0 ['x-coordinate'] = 0\n",
    "alien_0 ['y-coordinate'] = 33\n",
    "\n",
    "print(alien_0)"
   ]
  },
  {
   "cell_type": "markdown",
   "id": "f9523daa",
   "metadata": {},
   "source": [
    "> Here we have given two new key:value pairs to the dictionary, next we have started with a new dictionary to which we have given it all of its key:value properties. Ususally we will start with an empty dictionary when we need the user to give us some data, or we are making a load of key:value data using code we have written"
   ]
  },
  {
   "cell_type": "markdown",
   "id": "879863b4",
   "metadata": {},
   "source": [
    "### Modifying Dictionaries"
   ]
  },
  {
   "cell_type": "markdown",
   "id": "e0baae3e",
   "metadata": {},
   "source": [
    "> To modify the values in a dictionary, first we give the name of the dictionary then they key inbetween square brackets followed by = changed value. Remember when creating the dictionary to use curvy brackets. "
   ]
  },
  {
   "cell_type": "code",
   "execution_count": 8,
   "id": "dd8ee6a2",
   "metadata": {},
   "outputs": [
    {
     "name": "stdout",
     "output_type": "stream",
     "text": [
      "green\n",
      "yellow\n"
     ]
    }
   ],
   "source": [
    "# Setting the orignial key:value pair\n",
    "alien_0 = {'colour':'green'}\n",
    "print(alien_0['colour'])\n",
    "\n",
    "# Modifying the colour of dictionary\n",
    "alien_0['colour'] = 'yellow'\n",
    "print(alien_0['colour'])"
   ]
  },
  {
   "cell_type": "code",
   "execution_count": 12,
   "id": "872e6cae",
   "metadata": {},
   "outputs": [
    {
     "name": "stdout",
     "output_type": "stream",
     "text": [
      "The aliens colour is orignally green.\n",
      "The aliens colour is now yellow.\n"
     ]
    }
   ],
   "source": [
    "# Setting the orignial key:value pair\n",
    "alien_0 = {'colour':'green'}\n",
    "print(f\"The aliens colour is orignally {alien_0['colour']}.\")\n",
    "\n",
    "# Modifying the colour of dictionary\n",
    "alien_0['colour'] = 'yellow'\n",
    "print(f\"The aliens colour is now {alien_0['colour']}.\")"
   ]
  },
  {
   "cell_type": "markdown",
   "id": "e43aac90",
   "metadata": {},
   "source": [
    "> Now we are going to track the position of the alien as it moves across the screen, take your time to look at what is happening, this is the first difficult task we have had so far!!!"
   ]
  },
  {
   "cell_type": "code",
   "execution_count": 23,
   "id": "79b3398c",
   "metadata": {},
   "outputs": [
    {
     "name": "stdout",
     "output_type": "stream",
     "text": [
      "This is the original position of the alien 0.\n",
      "This is the new position of the alien 2.\n"
     ]
    }
   ],
   "source": [
    "alien_0 = {'x_coordinate': 0, 'y_coordinate': 25, 'speed':'medium'}\n",
    "print(f\"This is the original position of the alien {alien_0['x_coordinate']}.\")\n",
    "\n",
    "# Lets move the alien to the right according to its speed\n",
    "if alien_0 ['speed'] == 'slow':\n",
    "    x_increment = 1\n",
    "elif alien_0 ['speed'] == 'medium':\n",
    "    x_increment = 2\n",
    "else:\n",
    "#     As all the other aliens will be fast\n",
    "    x_increment = 3\n",
    "    \n",
    "# The new position of the alien is the old position plus the increment, we are modifiying the dictionary here\n",
    "alien_0['x_coordinate'] = alien_0['x_coordinate'] + x_increment\n",
    "\n",
    "print(f\"This is the new position of the alien {alien_0['x_coordinate']}.\")\n",
    "    "
   ]
  },
  {
   "cell_type": "markdown",
   "id": "a6c9e74c",
   "metadata": {},
   "source": [
    "> change the speed of the alien in the dictionary and see how that changes the x_coordinate of the alien in the output."
   ]
  },
  {
   "cell_type": "markdown",
   "id": "fe7e52cc",
   "metadata": {},
   "source": [
    "### Removing Key:Value Pairs From Dictionaries"
   ]
  },
  {
   "cell_type": "markdown",
   "id": "b8b5f6b2",
   "metadata": {},
   "source": [
    "> When we no longer need some information, we can remove it so it stops taking up memory and lines of our code to do this we use the \"del\" statement, all this statement needs if the name of the dictionary then they key of the value we want to delete. Be aware that once we delete a key:value pair it is permenantly gone, we cannot get it back unless we make it again"
   ]
  },
  {
   "cell_type": "code",
   "execution_count": 27,
   "id": "7225bc2a",
   "metadata": {},
   "outputs": [
    {
     "name": "stdout",
     "output_type": "stream",
     "text": [
      "This is the original position of the alien 0.\n",
      "{'y_coordinate': 25, 'speed': 'medium'}\n"
     ]
    }
   ],
   "source": [
    "alien_0 = {'x_coordinate': 0, 'y_coordinate': 25, 'speed':'medium'}\n",
    "print(f\"This is the original position of the alien {alien_0['x_coordinate']}.\")\n",
    "\n",
    "del alien_0['x_coordinate']\n",
    "print(alien_0)"
   ]
  },
  {
   "cell_type": "markdown",
   "id": "cadac43f",
   "metadata": {},
   "source": [
    "### A Dictionary of Similar Objects"
   ]
  },
  {
   "cell_type": "markdown",
   "id": "c2d29898",
   "metadata": {},
   "source": [
    "> So far we have used a dictionary to store different information about one thing, now we are shifting our thinking to use a dictionary to store many types of the same thing, such as peopele favourite programming language."
   ]
  },
  {
   "cell_type": "code",
   "execution_count": 29,
   "id": "8ee6a3bb",
   "metadata": {},
   "outputs": [
    {
     "name": "stdout",
     "output_type": "stream",
     "text": [
      "{'cameron': 'python', 'mattia': 'c', 'paul': 'java', 'adam': 'rust'}\n"
     ]
    }
   ],
   "source": [
    "favorite_languages = {\n",
    "    'cameron':'python',\n",
    "    'mattia':'c',\n",
    "    'paul':'java',\n",
    "    'adam':'rust'\n",
    "}\n",
    "\n",
    "print(favorite_languages)"
   ]
  },
  {
   "cell_type": "markdown",
   "id": "a881e91d",
   "metadata": {},
   "source": [
    "> When writing the dictionary thats longer than one line, we format it like this, with one key:value pair a line seperated by a comma. Using the dictionary, we can search for a person who took our poll then look at their favoriate language. "
   ]
  },
  {
   "cell_type": "code",
   "execution_count": 34,
   "id": "13f13808",
   "metadata": {},
   "outputs": [
    {
     "name": "stdout",
     "output_type": "stream",
     "text": [
      "Camerons favoriate language is Python.\n"
     ]
    }
   ],
   "source": [
    "favorite_languages = {\n",
    "    'cameron':'python',\n",
    "    'mattia':'c',\n",
    "    'paul':'java',\n",
    "    'adam':'rust'\n",
    "}\n",
    "\n",
    "# Setting the value to example using its key\n",
    "example = favorite_languages['cameron'].title()\n",
    "# Printing the variable, I tried to print the key itself and that doesn't seem to work so I assume you have to do it \n",
    "# this way.\n",
    "print(f\"Camerons favoriate language is {example}.\")"
   ]
  },
  {
   "cell_type": "markdown",
   "id": "dccedd57",
   "metadata": {},
   "source": [
    "### Using get() To Access Values"
   ]
  },
  {
   "cell_type": "markdown",
   "id": "f548458d",
   "metadata": {},
   "source": [
    "> When using the square brackets to retreive a value we are interested in, if that value doesn't exist at that moment in time we will throw an error"
   ]
  },
  {
   "cell_type": "code",
   "execution_count": 35,
   "id": "28c73af0",
   "metadata": {},
   "outputs": [
    {
     "ename": "KeyError",
     "evalue": "'points'",
     "output_type": "error",
     "traceback": [
      "\u001b[0;31m---------------------------------------------------------------------------\u001b[0m",
      "\u001b[0;31mKeyError\u001b[0m                                  Traceback (most recent call last)",
      "Input \u001b[0;32mIn [35]\u001b[0m, in \u001b[0;36m<cell line: 3>\u001b[0;34m()\u001b[0m\n\u001b[1;32m      1\u001b[0m alien_0 \u001b[38;5;241m=\u001b[39m {\u001b[38;5;124m'\u001b[39m\u001b[38;5;124mcolour\u001b[39m\u001b[38;5;124m'\u001b[39m:\u001b[38;5;124m'\u001b[39m\u001b[38;5;124mgreen\u001b[39m\u001b[38;5;124m'\u001b[39m, \u001b[38;5;124m'\u001b[39m\u001b[38;5;124mspeed\u001b[39m\u001b[38;5;124m'\u001b[39m:\u001b[38;5;124m'\u001b[39m\u001b[38;5;124mslow\u001b[39m\u001b[38;5;124m'\u001b[39m}\n\u001b[0;32m----> 3\u001b[0m \u001b[38;5;28mprint\u001b[39m(\u001b[43malien_0\u001b[49m\u001b[43m[\u001b[49m\u001b[38;5;124;43m'\u001b[39;49m\u001b[38;5;124;43mpoints\u001b[39;49m\u001b[38;5;124;43m'\u001b[39;49m\u001b[43m]\u001b[49m)\n",
      "\u001b[0;31mKeyError\u001b[0m: 'points'"
     ]
    }
   ],
   "source": [
    "alien_0 = {'colour':'green', 'speed':'slow'}\n",
    "\n",
    "print(alien_0['points'])"
   ]
  },
  {
   "cell_type": "markdown",
   "id": "f1684c3c",
   "metadata": {},
   "source": [
    "> We use the get() method to create a value to be returned when requested if they key doesn't exist, when using the get() method, it requires the key as the first arguement, then a second optional arguement to tell python what to return if the key doesn't exist."
   ]
  },
  {
   "cell_type": "code",
   "execution_count": 36,
   "id": "8b63c6c4",
   "metadata": {},
   "outputs": [
    {
     "name": "stdout",
     "output_type": "stream",
     "text": [
      "No assinged value yet\n"
     ]
    }
   ],
   "source": [
    "alien_0 = {'colour':'green', 'speed':'slow'}\n",
    "\n",
    "point_value = alien_0.get('points', 'No assinged value yet')\n",
    "print(point_value)"
   ]
  },
  {
   "cell_type": "markdown",
   "id": "08e88c65",
   "metadata": {},
   "source": [
    "> This is difficult to think about getting something that doesn't exist, if the value we want to get might not exist, the book says to use the get() method instead of [] but I think it would be worth just checkig if the value exists or not no?"
   ]
  },
  {
   "cell_type": "markdown",
   "id": "e6c87a2a",
   "metadata": {},
   "source": [
    "## Tasks"
   ]
  },
  {
   "cell_type": "code",
   "execution_count": 40,
   "id": "acaff9e1",
   "metadata": {},
   "outputs": [
    {
     "name": "stdout",
     "output_type": "stream",
     "text": [
      "Cameron\n",
      "Wheeler\n",
      "22\n",
      "Port Erin\n"
     ]
    }
   ],
   "source": [
    "person = {\n",
    "    'first_name':'cameron',\n",
    "    'second_name':'wheeler',\n",
    "    'age':'22',\n",
    "    'address':'port erin'\n",
    "}\n",
    "\n",
    "# Printing off each key:value\n",
    "print(person['first_name'].title())\n",
    "print(person['second_name'].title())\n",
    "print(person['age'])\n",
    "print(person['address'].title())"
   ]
  },
  {
   "cell_type": "code",
   "execution_count": 47,
   "id": "44fa9835",
   "metadata": {},
   "outputs": [
    {
     "name": "stdout",
     "output_type": "stream",
     "text": [
      "Cameron's lucky number is 13.\n",
      "Angus's lucky number is 45.\n",
      "Lynda's lucky number is 22.\n",
      "Tilda's lucky number is 32.\n"
     ]
    }
   ],
   "source": [
    "fav_numbers = {\n",
    "    'cameron': 13,\n",
    "    'angus': 45,\n",
    "    'lynda':22,\n",
    "    'tilda': 32\n",
    "}\n",
    "\n",
    "# Printing off the name and their favoriate number\n",
    "print(f\"Cameron's lucky number is {fav_numbers['cameron']}.\")\n",
    "print(f\"Angus's lucky number is {fav_numbers['angus']}.\")\n",
    "print(f\"Lynda's lucky number is {fav_numbers['lynda']}.\")\n",
    "print(f\"Tilda's lucky number is {fav_numbers['tilda']}.\")"
   ]
  },
  {
   "cell_type": "code",
   "execution_count": 57,
   "id": "f85d39c1",
   "metadata": {},
   "outputs": [
    {
     "name": "stdout",
     "output_type": "stream",
     "text": [
      "A string is a series of charaters, anything inside a set of brackets is a string, even this sentence.\n",
      "An if statment allows us to check a condition of interest.\n",
      "A for loop allows us to run code a certain amount of times, usually for repetative tasks.\n"
     ]
    }
   ],
   "source": [
    "definitions = {\n",
    "    'string':'A string is a series of charaters, anything inside a set of brackets is a string, even this sentence.',\n",
    "    'if statement':'An if statment allows us to check a condition of interest.',\n",
    "    'for loop':'A for loop allows us to run code a certain amount of times, usually for repetative tasks.'\n",
    "}\n",
    "\n",
    "print(definitions['string'])\n",
    "print(definitions['if statement'])\n",
    "print(definitions['for loop'])"
   ]
  },
  {
   "cell_type": "markdown",
   "id": "448585ec",
   "metadata": {},
   "source": [
    "### Looping Through A Dictionary"
   ]
  },
  {
   "cell_type": "markdown",
   "id": "3c42d386",
   "metadata": {},
   "source": [
    "In a dictionary we can loop through it in many ways, for exmple we can loop through both the keys and values, just the keys or just the values. This is because data is stored in many differnt ways in a dictionary so it's important to be able to loop through in different ways. "
   ]
  },
  {
   "cell_type": "code",
   "execution_count": 2,
   "id": "5b1c7f6d",
   "metadata": {},
   "outputs": [
    {
     "name": "stdout",
     "output_type": "stream",
     "text": [
      "\n",
      "Key: username\n",
      "value: camwheeler135\n",
      "\n",
      "Key: first_name\n",
      "value: cameron\n",
      "\n",
      "Key: second_name\n",
      "value: wheeler\n"
     ]
    }
   ],
   "source": [
    "user_0 = {\n",
    "    'username':'camwheeler135',\n",
    "    'first_name':'cameron',\n",
    "    'second_name':'wheeler'\n",
    "}\n",
    "\n",
    "# We could access induvidual parts of the dictionary with methods we have done before \n",
    "# But what of we wanted to access it all? We need to use a for loop...\n",
    "\n",
    "# Create two variables that we store the key:value pair, the item returns a list of key value pairs (not sure why)\n",
    "for key, value in user_0.items():\n",
    "    print(f\"\\nKey: {key}\")\n",
    "    print(f\"value: {value}\")"
   ]
  },
  {
   "cell_type": "code",
   "execution_count": 1,
   "id": "84459309",
   "metadata": {},
   "outputs": [
    {
     "name": "stdout",
     "output_type": "stream",
     "text": [
      "\n",
      "Key: Cameron\n",
      "Value: Python\n",
      "Cameron's favorite language is Python\n",
      "\n",
      "Key: Mattia\n",
      "Value: C\n",
      "Mattia's favorite language is C\n",
      "\n",
      "Key: Paul\n",
      "Value: Java\n",
      "Paul's favorite language is Java\n",
      "\n",
      "Key: Adam\n",
      "Value: Rust\n",
      "Adam's favorite language is Rust\n"
     ]
    }
   ],
   "source": [
    "favorite_languages = {\n",
    "    'cameron':'python',\n",
    "    'mattia':'c',\n",
    "    'paul':'java',\n",
    "    'adam':'rust'\n",
    "}\n",
    "\n",
    "for name, value in favorite_languages.items():\n",
    "    print(f\"\\nKey: {name.title()}\")\n",
    "    print(f\"Value: {value.title()}\")\n",
    "    print(f\"{name.title()}'s favorite language is {value.title()}\")"
   ]
  },
  {
   "cell_type": "markdown",
   "id": "5b84db76",
   "metadata": {},
   "source": [
    "### Working With Keys() Method\n",
    "\n",
    "Instead of using .items(), we can use the keys() method to loop through all the keys when we don't want use them"
   ]
  },
  {
   "cell_type": "code",
   "execution_count": 4,
   "id": "c2e057dc",
   "metadata": {},
   "outputs": [
    {
     "name": "stdout",
     "output_type": "stream",
     "text": [
      "\n",
      "Cameron took our poll on their favorite language\n",
      "\n",
      "Mattia took our poll on their favorite language\n",
      "\n",
      "Paul took our poll on their favorite language\n",
      "\n",
      "Adam took our poll on their favorite language\n"
     ]
    }
   ],
   "source": [
    "favorite_languages = {\n",
    "    'cameron':'python',\n",
    "    'mattia':'c',\n",
    "    'paul':'java',\n",
    "    'adam':'rust'\n",
    "}\n",
    "\n",
    "for name in favorite_languages.keys():\n",
    "    print(f'\\n{name.title()} took our poll on their favorite language')"
   ]
  },
  {
   "cell_type": "code",
   "execution_count": 14,
   "id": "f53090a9",
   "metadata": {},
   "outputs": [
    {
     "name": "stdout",
     "output_type": "stream",
     "text": [
      "\n",
      "Hello Cameron\n",
      "\n",
      "Hello Mattia\n",
      "You have been teaching me how to code!!!\n",
      "\n",
      "Hello Paul\n",
      "\n",
      "Hello Adam\n"
     ]
    }
   ],
   "source": [
    "favorite_languages = {\n",
    "    'cameron':'python',\n",
    "    'mattia':'c',\n",
    "    'paul':'java',\n",
    "    'adam':'rust'\n",
    "}\n",
    "\n",
    "\n",
    "main_teacher = ['mattia']\n",
    "\n",
    "# For loop to run through all the keys in the dictionary\n",
    "for name in favorite_languages.keys():\n",
    "    print(f\"\\nHello {name.title()}\")\n",
    "#     Using an if loop to select certain keys our of the mix and print a specific message\n",
    "    if name in main_teacher:\n",
    "        print(f\"You have been teaching me how to code!!!\")"
   ]
  },
  {
   "cell_type": "code",
   "execution_count": 17,
   "id": "84f32634",
   "metadata": {
    "scrolled": true
   },
   "outputs": [
    {
     "name": "stdout",
     "output_type": "stream",
     "text": [
      "\n",
      "Hello Cameron\n",
      "\n",
      "Hello Mattia\n",
      "\n",
      "Hello Paul\n",
      "\n",
      "Hello Adam\n",
      "\n",
      "Charlie would you please take the poll\n"
     ]
    }
   ],
   "source": [
    "favorite_languages = {\n",
    "    'cameron':'python',\n",
    "    'mattia':'c',\n",
    "    'paul':'java',\n",
    "    'adam':'rust'\n",
    "}\n",
    "\n",
    "# For loop to run through all the keys in the dictionary\n",
    "for name in favorite_languages.keys():\n",
    "    print(f\"\\nHello {name.title()}\")\n",
    "    \n",
    "# Checking if charlie has take the poll yet, this can be used to check for many things\n",
    "if 'charlie' not in favorite_languages.keys():\n",
    "    print(\"\\nCharlie would you please take the poll\")"
   ]
  },
  {
   "cell_type": "markdown",
   "id": "72271c2d",
   "metadata": {},
   "source": [
    "### Looping Through Lists In A Particular Order\n",
    "\n",
    "Starting from Python3.7 looping through the list returns the order it was put into the list, but sometimes we will want to print it in a select order, this part we are going to learn how to do this. One way to do it is with the sorted() function"
   ]
  },
  {
   "cell_type": "code",
   "execution_count": 20,
   "id": "83d4673c",
   "metadata": {},
   "outputs": [
    {
     "name": "stdout",
     "output_type": "stream",
     "text": [
      "Adam, thank you for taking the poll!\n",
      "Cameron, thank you for taking the poll!\n",
      "Mattia, thank you for taking the poll!\n",
      "Paul, thank you for taking the poll!\n"
     ]
    }
   ],
   "source": [
    "favorite_languages = {\n",
    "    'cameron':'python',\n",
    "    'mattia':'c',\n",
    "    'paul':'java',\n",
    "    'adam':'rust'\n",
    "}\n",
    "\n",
    "# Sorting the names in alphabetical order using the sorted() function.\n",
    "for name in sorted(favorite_languages.keys()):\n",
    "    print(f\"{name.title()}, thank you for taking the poll!\")"
   ]
  },
  {
   "cell_type": "markdown",
   "id": "a22c95d7",
   "metadata": {},
   "source": [
    "### Looping Through Lists For Just Values"
   ]
  },
  {
   "cell_type": "code",
   "execution_count": 3,
   "id": "653b6afb",
   "metadata": {},
   "outputs": [
    {
     "name": "stdout",
     "output_type": "stream",
     "text": [
      "These are the languages that have been mentioed in the poll.\n",
      "Python\n",
      "C\n",
      "Java\n",
      "Rust\n"
     ]
    }
   ],
   "source": [
    "favorite_languages = {\n",
    "    'cameron':'python',\n",
    "    'mattia':'c',\n",
    "    'paul':'java',\n",
    "    'adam':'rust'\n",
    "}\n",
    "\n",
    "print(\"These are the languages that have been mentioed in the poll.\")\n",
    "# Looping through the dictonary, printing off just the values \n",
    "for language in favorite_languages.values():\n",
    "    print(language.title())"
   ]
  },
  {
   "cell_type": "markdown",
   "id": "08c49b9f",
   "metadata": {},
   "source": [
    "> Here we are printing off all of the values in the dictionary using the value() function, but what about if we are working with a large amount of data with several repeats, we can use 'set()' the bracket around the value()."
   ]
  },
  {
   "cell_type": "code",
   "execution_count": 5,
   "id": "db7c162e",
   "metadata": {},
   "outputs": [
    {
     "name": "stdout",
     "output_type": "stream",
     "text": [
      "These are the languages that have been mentioed in the poll.\n",
      "Python\n",
      "C\n",
      "Java\n",
      "Rust\n"
     ]
    }
   ],
   "source": [
    "favorite_languages = {\n",
    "    'cameron':'python',\n",
    "    'mattia':'c',\n",
    "    'paul':'java',\n",
    "    'adam':'rust'\n",
    "}\n",
    "\n",
    "print(\"These are the languages that have been mentioed in the poll.\")\n",
    "# Looping through the dictonary, printing off just the values using the set()\n",
    "# Although there are no repeats in this dictionary, set() would filter all of the repeats out\n",
    "for language in set(favorite_languages.values()):\n",
    "    print(language.title())"
   ]
  },
  {
   "cell_type": "markdown",
   "id": "817cdc11",
   "metadata": {},
   "source": [
    "### Tasks"
   ]
  },
  {
   "cell_type": "code",
   "execution_count": 11,
   "id": "a2d3783f",
   "metadata": {
    "scrolled": true
   },
   "outputs": [
    {
     "name": "stdout",
     "output_type": "stream",
     "text": [
      "\n",
      "Key: string\n",
      "Value: A string is a series of charaters, anything inside a set of brackets is a string, even this sentence.\n",
      "\n",
      "Key: if statement\n",
      "Value: An if statment allows us to check a condition of interest.\n",
      "\n",
      "Key: for loop\n",
      "Value: A for loop allows us to run code a certain amount of times, usually for repetative tasks.\n"
     ]
    }
   ],
   "source": [
    "definitions = {\n",
    "    'string':'A string is a series of charaters, anything inside a set of brackets is a string, even this sentence.',\n",
    "    'if statement':'An if statment allows us to check a condition of interest.',\n",
    "    'for loop':'A for loop allows us to run code a certain amount of times, usually for repetative tasks.'\n",
    "}\n",
    "\n",
    "# Cleaning up the tast we had before, instead of using the print call 3 times in the task above, we are just\n",
    "# going to use a for loop printing off key:value pair\n",
    "for key, value in definitions.items():\n",
    "    print(f\"\\nKey: {key}\")\n",
    "    print(f\"Value: {value}\")\n"
   ]
  },
  {
   "cell_type": "markdown",
   "id": "387f3a0d",
   "metadata": {},
   "source": [
    "> Now running the same loop again but adding more definitions to the dictionary"
   ]
  },
  {
   "cell_type": "code",
   "execution_count": 13,
   "id": "ba268e54",
   "metadata": {},
   "outputs": [
    {
     "name": "stdout",
     "output_type": "stream",
     "text": [
      "\n",
      "Key: String\n",
      "Value: A string is a series of charaters, anything inside a set of brackets is a string, even this sentence.\n",
      "\n",
      "Key: If Statement\n",
      "Value: An if statment allows us to check a condition of interest.\n",
      "\n",
      "Key: For Loop\n",
      "Value: A for loop allows us to run code a certain amount of times, usually for repetative tasks.\n",
      "\n",
      "Key: Dictionary\n",
      "Value: Allows us to store information and an associated key so we can access that information\n",
      "\n",
      "Key: Machine Learning\n",
      "Value: A subset of AI that consists of algorithms that reason on data without explicit programming\n"
     ]
    }
   ],
   "source": [
    "definitions = {\n",
    "    'string':'A string is a series of charaters, anything inside a set of brackets is a string, even this sentence.',\n",
    "    'if statement':'An if statment allows us to check a condition of interest.',\n",
    "    'for loop':'A for loop allows us to run code a certain amount of times, usually for repetative tasks.',\n",
    "    'dictionary':'Allows us to store information and an associated key so we can access that information',\n",
    "    'machine learning':'A subset of AI that consists of algorithms that reason on data without explicit programming'\n",
    "}\n",
    "\n",
    "# Cleaning up the tast we had before, instead of using the print call 3 times in the task above, we are just\n",
    "# going to use a for loop printing off key:value pair\n",
    "for key, value in definitions.items():\n",
    "    print(f\"\\nKey: {key.title()}\")\n",
    "    print(f\"Value: {value}\")"
   ]
  },
  {
   "cell_type": "code",
   "execution_count": 25,
   "id": "41cdea02",
   "metadata": {},
   "outputs": [
    {
     "name": "stdout",
     "output_type": "stream",
     "text": [
      "\n",
      "The river Nile runs through Eygpt.\n",
      "\n",
      "The river Amazon runs through Brazil.\n",
      "\n",
      "The river Thames runs through London.\n",
      "\n",
      "The river Ob runs through Russia.\n",
      "\n",
      "These are all the rivers in the dictionary.\n",
      "Nile\n",
      "Amazon\n",
      "Thames\n",
      "Ob\n",
      "\n",
      "These are all the countrys that the rivers run through.\n",
      "Eygpt\n",
      "Brazil\n",
      "London\n",
      "Russia\n"
     ]
    }
   ],
   "source": [
    "major_rivers = {\n",
    "    'nile':'eygpt',\n",
    "    'amazon':'brazil',\n",
    "    'thames':'london',\n",
    "    'ob':'russia'\n",
    "}\n",
    "\n",
    "# Printing off key:value pairs with a message\n",
    "for key, value in major_rivers.items():\n",
    "    print(f\"\\nThe river {key.title()} runs through {value.title()}.\")\n",
    "\n",
    "# Printing off just the keys\n",
    "print('\\nThese are all the rivers in the dictionary.')\n",
    "\n",
    "for river in major_rivers.keys():\n",
    "    print(river.title())\n",
    "    \n",
    "# Printing off just the values\n",
    "print(\"\\nThese are all the countrys that the rivers run through.\")\n",
    "\n",
    "for country in major_rivers.values():\n",
    "    print(country.title())\n"
   ]
  },
  {
   "cell_type": "code",
   "execution_count": 31,
   "id": "2274d328",
   "metadata": {},
   "outputs": [
    {
     "name": "stdout",
     "output_type": "stream",
     "text": [
      "\n",
      "Angus, please can you take the poll so I can collect some more data :).\n",
      "\n",
      "Cameron, thank you for taking the poll!\n",
      "\n",
      "Sam, please can you take the poll so I can collect some more data :).\n",
      "\n",
      "Luca, please can you take the poll so I can collect some more data :).\n",
      "\n",
      "Alex, please can you take the poll so I can collect some more data :).\n",
      "\n",
      "Mattia, thank you for taking the poll!\n"
     ]
    }
   ],
   "source": [
    "favorite_languages = {\n",
    "    'cameron':'python',\n",
    "    'mattia':'c',\n",
    "    'paul':'java',\n",
    "    'adam':'rust'\n",
    "}\n",
    "\n",
    "# Making a list of people who need to take the poll, including some that already have taken the poll\n",
    "# This will allow us to use the set() to filter out the names that have already been used before\n",
    "needs_to_take = ['angus', 'cameron', 'sam', 'luca', 'alex', 'mattia']\n",
    "\n",
    "for name in needs_to_take:\n",
    "    if name in favorite_languages:\n",
    "        print(f\"\\n{name.title()}, thank you for taking the poll!\")\n",
    "    else:\n",
    "        print(f\"\\n{name.title()}, please can you take the poll so I can collect some more data :).\")\n",
    "\n",
    "\n",
    "\n"
   ]
  },
  {
   "cell_type": "markdown",
   "id": "4fc04759",
   "metadata": {},
   "source": [
    "### Nesting"
   ]
  },
  {
   "cell_type": "markdown",
   "id": "5f8ec947",
   "metadata": {},
   "source": [
    "Nesting is a powerful tool that allows us to do many things, we can nest a list of values inside of a dictionary, we can nest a dictionary inside of a list, we can even nest a dictionary inside of a dictionary."
   ]
  },
  {
   "cell_type": "markdown",
   "id": "b785d3c4",
   "metadata": {},
   "source": [
    "### A List Of Dictionaries"
   ]
  },
  {
   "cell_type": "markdown",
   "id": "3cb739b0",
   "metadata": {},
   "source": [
    "So we have had a dictionary of alien_0, but what happens when we have a fleet of aliens?? HOW DO WE MANAGE A FLEET OF ALIENS??? One way to do this is to create a list of dictionaries, where each dictionary has the information about each alien. "
   ]
  },
  {
   "cell_type": "code",
   "execution_count": 35,
   "id": "4d77d0d3",
   "metadata": {},
   "outputs": [
    {
     "name": "stdout",
     "output_type": "stream",
     "text": [
      "{'colour': 'green', 'points': 5}\n",
      "{'colour': 'yellow', 'points': 10}\n",
      "{'colour': 'red', 'points': 15}\n"
     ]
    }
   ],
   "source": [
    "# Creating dictionaries of each alien\n",
    "alien_0 = {'colour':'green', 'points':5}\n",
    "alien_1 = {'colour':'yellow', 'points':10}\n",
    "alien_2 = {'colour':'red', 'points':15}\n",
    "\n",
    "# Making a list of aliens that themselves are dictionaires \n",
    "aliens = [alien_0, alien_1, alien_2]\n",
    "\n",
    "# Printing off each dictionary\n",
    "for alien in aliens:\n",
    "    print(alien)"
   ]
  },
  {
   "cell_type": "markdown",
   "id": "a74ef7f4",
   "metadata": {},
   "source": [
    "A more realistic example woul be to make a fleet of aliens, starting with and empty list and writing code that automatically generates aliens. "
   ]
  },
  {
   "cell_type": "code",
   "execution_count": 48,
   "id": "0f98a9ae",
   "metadata": {},
   "outputs": [
    {
     "name": "stdout",
     "output_type": "stream",
     "text": [
      "{'colour': 'green', 'points': 5, 'speed': 'slow'}\n",
      "{'colour': 'green', 'points': 5, 'speed': 'slow'}\n",
      "{'colour': 'green', 'points': 5, 'speed': 'slow'}\n",
      "{'colour': 'green', 'points': 5, 'speed': 'slow'}\n",
      "{'colour': 'green', 'points': 5, 'speed': 'slow'}\n",
      "\n",
      "\n",
      "Total number of aliens we have created is: 30\n"
     ]
    }
   ],
   "source": [
    "# Making an empty list for store all of our aliens\n",
    "aliens = []\n",
    "\n",
    "# Making 30 aliens\n",
    "for alien in range(30):\n",
    "    green_alien = {'colour':'green', 'points': 5, 'speed':'slow'}\n",
    "    aliens.append(green_alien)\n",
    "    \n",
    "# Showing the first 5 aliens\n",
    "for alien in aliens[:5]:\n",
    "    print(alien)\n",
    "print(\"\\n\")\n",
    "\n",
    "# Showing the total amount of aliens we have created for our fleet\n",
    "print(f\"Total number of aliens we have created is: {len(aliens)}\")\n",
    "    \n"
   ]
  },
  {
   "cell_type": "markdown",
   "id": "f4becaf7",
   "metadata": {},
   "source": [
    "Doing more of this as I need to learn how to do it properly."
   ]
  },
  {
   "cell_type": "code",
   "execution_count": 53,
   "id": "4c316b4d",
   "metadata": {},
   "outputs": [
    {
     "name": "stdout",
     "output_type": "stream",
     "text": [
      "This is a 1 cameron clone\n",
      "This is a 1 cameron clone\n",
      "This is a 1 cameron clone\n",
      "This is a 1 cameron clone\n",
      "This is a 1 cameron clone\n",
      "This is a 1 cameron clone\n",
      "This is a 1 cameron clone\n",
      "This is a 1 cameron clone\n",
      "This is a 1 cameron clone\n",
      "This is a 1 cameron clone\n",
      "Our Cameron army now has 50 Camerons in.\n"
     ]
    }
   ],
   "source": [
    "# Making an empty list of clones\n",
    "camerons = []\n",
    "\n",
    "# Making an army of camerons\n",
    "for cameron in range(50):\n",
    "# Giving the cameron clones their key:value pairs!\n",
    "    cameron_clone = {'age': 22 , 'height': '6 foot 4 inches', 'favorite food': 'bacon and eggs'}\n",
    "#  Appending the clones to the list of camerons\n",
    "    camerons.append(cameron_clone)\n",
    "\n",
    "# Showing the first 10 camerons \n",
    "for cameron in camerons[:10]:\n",
    "    print('This is a 1 cameron clone')\n",
    "\n",
    "# Checking the amount of camerons we have created\n",
    "print(f\"Our Cameron army now has {len(camerons)} Camerons in.\")"
   ]
  },
  {
   "cell_type": "markdown",
   "id": "495a3e49",
   "metadata": {},
   "source": [
    "> So when we are working with a massive fleet of aliens, but we want to change the speed, colour and point value of the aliens as we go further on into the game. We will need to create the aliens, then using a for loop and if statement to run through a certain set of aliens and set new key:pair values."
   ]
  },
  {
   "cell_type": "code",
   "execution_count": 2,
   "id": "e69e76ae",
   "metadata": {},
   "outputs": [
    {
     "name": "stdout",
     "output_type": "stream",
     "text": [
      "{'colour': 'yellow', 'speed': 'medium', 'points': 10}\n",
      "{'colour': 'yellow', 'speed': 'medium', 'points': 10}\n",
      "{'colour': 'yellow', 'speed': 'medium', 'points': 10}\n",
      "{'colour': 'green', 'speed': 'slow', 'points': 5}\n",
      "{'colour': 'green', 'speed': 'slow', 'points': 5}\n"
     ]
    }
   ],
   "source": [
    "# Making an empty list to store our alien dictionary \n",
    "aliens = []\n",
    "\n",
    "# Making 30 green aliens\n",
    "for alien in range(30):\n",
    "    new_alien = {'colour':'green', 'speed':'slow', 'points': 5 }\n",
    "    aliens.append(new_alien)\n",
    "\n",
    "# Get the first 3 aliens in the list \n",
    "# We are using brackets on the key, not sure why we are though\n",
    "for alien in aliens[:3]:\n",
    "    if alien ['colour'] == 'green':\n",
    "        alien['colour'] = 'yellow'\n",
    "        alien['speed'] = 'medium'\n",
    "        alien['points'] = 10\n",
    "\n",
    "# Printing the first 5 aliens to show that we have made the first 3 a different kind of aliens\n",
    "for alien in aliens[:5]:\n",
    "    print(alien)\n",
    "        "
   ]
  },
  {
   "cell_type": "markdown",
   "id": "b20e620b",
   "metadata": {},
   "source": [
    "> It is common to store a number of dictionaries, in a list such as the users of a website being stored in a dictionary but remember when we are creating a dictionary we need to make sure all the variables are the same, if they are not the same it wont work"
   ]
  },
  {
   "cell_type": "markdown",
   "id": "2e6657d1",
   "metadata": {},
   "source": [
    "### Placing A List Inside Of A Dictionary "
   ]
  },
  {
   "cell_type": "markdown",
   "id": "77e6b910",
   "metadata": {},
   "source": [
    "So far we have been nesting a dictionary inside of a list, for example we have been placing our alien dictionary inside an aliens list. Now we are going to do the reverse, placing a list inside of a dictionary. In this example we are going to make a pizza order, if we were not using dictionaries and just lists we would only really be able to store the toppings of the pizza, but now we can look at the entire pizza using a dictionaries."
   ]
  },
  {
   "cell_type": "code",
   "execution_count": 11,
   "id": "4d582b8f",
   "metadata": {},
   "outputs": [
    {
     "name": "stdout",
     "output_type": "stream",
     "text": [
      "You have ordered a pizza with a thick crust.\n",
      "The toppings you have selected to go ontop of your thick crust pizza are\n",
      "Chicken\n",
      "Extra Cheese\n",
      "Peppers\n",
      "\n",
      "Thank you for ordering with us!\n"
     ]
    }
   ],
   "source": [
    "# Storing information about the pizza being ordered\n",
    "# Spot the list inside of the dictionary\n",
    "pizza = {\n",
    "    'crust':'thick',\n",
    "    'toppings':['chicken', 'extra cheese', 'peppers']\n",
    "}\n",
    "\n",
    "# Finalising the pizza with the customer\n",
    "print(f\"You have ordered a pizza with a {pizza['crust']} crust.\")\n",
    "print(f\"The toppings you have selected to go ontop of your {pizza['crust']} crust pizza are\")\n",
    "# Using a for loop to loop through the toppings list and printing it out\n",
    "for topping in pizza['toppings']:\n",
    "    print(topping.title())\n",
    "\n",
    "print(\"\\nThank you for ordering with us!\")"
   ]
  },
  {
   "cell_type": "markdown",
   "id": "53ad695b",
   "metadata": {},
   "source": [
    "> So we begin with a dictionary that has the key 'crust that contains the value descrbing the kind of crust the customer ordered. Next we have the key toppings that contains the list of all the toppings that the customer ordered. We then summerize the order with the customer using a f-string of the crust type, then we use a for loop to loop throuhg each of the ingedients in the list of toppings.\n",
    "\n",
    "> Using a list inside of a dictionary allows us to have multiple values attached to a key!!!!!!!"
   ]
  },
  {
   "cell_type": "code",
   "execution_count": 19,
   "id": "538c47be",
   "metadata": {},
   "outputs": [
    {
     "name": "stdout",
     "output_type": "stream",
     "text": [
      "\n",
      "Cameron's favorite languages are\n",
      "Python\n",
      "\n",
      "Mattia's favorite languages are\n",
      "C\n",
      "Python\n",
      "Java\n",
      "\n",
      "Paul's favorite languages are\n",
      "Java\n",
      "Python\n",
      "\n",
      "Adam's favorite languages are\n",
      "Rust\n",
      "Python\n"
     ]
    }
   ],
   "source": [
    "favorite_languages = {\n",
    "# Camerons python has to be in a \"list\" format because remeber EVERYTHING MUST BE THE SAME\n",
    "    'cameron':['python'],\n",
    "    'mattia':['c', 'python', 'java'],\n",
    "    'paul':['java', 'python'],\n",
    "    'adam':['rust', 'python']\n",
    "}\n",
    "\n",
    "# For loop to run through each of the people who took the poll\n",
    "# For name (key) and languages (values) in the favorite languages dictionary\n",
    "for name, languages in favorite_languages.items():\n",
    "    \n",
    "# Printing each of the names (keys) in the dictionary\n",
    "    print(f\"\\n{name.title()}'s favorite languages are\")\n",
    "    \n",
    "# Now its time to run through each of languages inside of each list inside the values\n",
    "    for language in languages:\n",
    "        print(language.title())"
   ]
  },
  {
   "cell_type": "markdown",
   "id": "0c3dd3dd",
   "metadata": {},
   "source": [
    "> At the top, we now has the dictionary that has a list of languages the people in the poll selected. When we loop through the dictionary we use the variable name languages to store the value of the dictionary. We then run through each of the persons list in the second loop so we can print off as many languages that they selected.\n",
    "\n",
    "\n",
    "> NOTE we shouldn't nest things too deeply, remeber that we want things to be simple, if we start nesting things too deeply it will become really hard to read and understand what the code is doing."
   ]
  },
  {
   "cell_type": "markdown",
   "id": "b0188575",
   "metadata": {},
   "source": [
    "### Dictionary Inside Of A Dictionary"
   ]
  },
  {
   "cell_type": "markdown",
   "id": "665cdaa5",
   "metadata": {},
   "source": [
    "You can nest a dictionary inside of a dictionary but it can get very complicated very quickly, an example of a dictionary inside of a dictionary would be having a dictionary of users for a website each with a unique username, and for the value of each of those usernames (keys) we have another dictionary that contains all the officical information of each user such as first, last and location data."
   ]
  },
  {
   "cell_type": "code",
   "execution_count": 18,
   "id": "7b2d9102",
   "metadata": {},
   "outputs": [
    {
     "name": "stdout",
     "output_type": "stream",
     "text": [
      "\n",
      "Username: camwheeler135\n",
      "\tFull Name: Cameron Wheeler.\n",
      "\tLocation: Port Erin.\n",
      "\n",
      "Username: mattia123\n",
      "\tFull Name: Mattia Cinelli.\n",
      "\tLocation: Cambridge.\n"
     ]
    }
   ],
   "source": [
    "users = {\n",
    "    'camwheeler135': {\n",
    "        'first':'cameron',\n",
    "        'last':'wheeler',\n",
    "        'location':'port erin'\n",
    "    },\n",
    "    \n",
    "    'mattia123': {\n",
    "        'first':'mattia',\n",
    "        'last':'cinelli',\n",
    "        'location':'cambridge'\n",
    "    }\n",
    "}\n",
    "\n",
    "# Looping through the users dictionary\n",
    "# Each key (username) is attached to the variable username\n",
    "# Each value (information of user) is attached to the variable user_info\n",
    "for username, user_info in users.items():\n",
    "    \n",
    "#   Printing the username\n",
    "    print(f'\\nUsername: {username}')\n",
    "    \n",
    "#   Assinging the two values to full_name\n",
    "    fullname = f\"{user_info['first']} {user_info['last']}\"\n",
    "    \n",
    "#   Assinging location to variable Location\n",
    "    Location = user_info['location']\n",
    "    \n",
    "\n",
    "# Printing the inner dictionary stuff we have assinged to varibles before\n",
    "    print(f\"\\tFull Name: {fullname.title()}.\")\n",
    "    print(f\"\\tLocation: {Location.title()}.\")"
   ]
  },
  {
   "cell_type": "markdown",
   "id": "84e2e4ac",
   "metadata": {},
   "source": [
    "> Note that the structure of each of the dictionaries are the same, if they weren't python would be able to run but the code we would have to write would be very complicated"
   ]
  },
  {
   "cell_type": "markdown",
   "id": "17088aaa",
   "metadata": {},
   "source": [
    "## Tasks (Let The Hunger Games Begin....... Its about to get tough)"
   ]
  },
  {
   "cell_type": "code",
   "execution_count": 36,
   "id": "bdc3199c",
   "metadata": {},
   "outputs": [
    {
     "name": "stdout",
     "output_type": "stream",
     "text": [
      "\n",
      "This is the persons information\n",
      "First_Name : Cameron\n",
      "Second_Name : Wheeler\n",
      "Age : 22\n",
      "Address : Port Erin\n",
      "\n",
      "This is the persons information\n",
      "First_Name : Angus\n",
      "Second_Name : Wheeler\n",
      "Age : 20\n",
      "Address : Port Erin\n"
     ]
    }
   ],
   "source": [
    "# Make two dictionaries of different people and place them in a list of people\n",
    "person1 = {\n",
    "    'first_name':'cameron',\n",
    "    'second_name':'wheeler',\n",
    "    'age':'22',\n",
    "    'address':'port erin'\n",
    "}\n",
    "\n",
    "person2 = {\n",
    "    'first_name':'angus',\n",
    "    'second_name':'wheeler',\n",
    "    'age':'20',\n",
    "    'address':'port erin'\n",
    "}\n",
    "\n",
    "# Making the list of people\n",
    "people = [person1, person2]\n",
    "\n",
    "# Loop through the list and print of everything we know about the person\n",
    "\n",
    "for person in people:\n",
    "    print(\"\\nThis is the persons information\")\n",
    "    for key, value in person.items():\n",
    "        print(f\"{key.title()} : {value.title()}\")\n"
   ]
  },
  {
   "cell_type": "markdown",
   "id": "30b02dea",
   "metadata": {},
   "source": [
    "> Here is the first task, we have made two different dictionaries, added them to a list and then printed out all the know about each of the people, I think I could make it look neater not going to lie."
   ]
  },
  {
   "cell_type": "code",
   "execution_count": 35,
   "id": "265f7839",
   "metadata": {},
   "outputs": [
    {
     "name": "stdout",
     "output_type": "stream",
     "text": [
      "\n",
      "This is all the information we have on this pet!\n",
      "Name : Tilda\n",
      "Animal : Dog\n",
      "Age : 11\n",
      "Owner : Lynda\n",
      "\n",
      "This is all the information we have on this pet!\n",
      "Name : Duffy\n",
      "Animal : Dog\n",
      "Age : 14\n",
      "Owner : Barbra\n",
      "\n",
      "This is all the information we have on this pet!\n",
      "Name : Jack\n",
      "Animal : Dog\n",
      "Age : 11\n",
      "Owner : Hillary\n"
     ]
    }
   ],
   "source": [
    "# Making dictionaries of different pets \n",
    "pet1 = {\n",
    "    'name':'tilda',\n",
    "    'animal':'dog',\n",
    "    'age': '11',\n",
    "    'owner':'lynda'\n",
    "}\n",
    "\n",
    "pet2 = {\n",
    "    'name':'duffy',\n",
    "    'animal':'dog',\n",
    "    'age': '14',\n",
    "    'owner':'barbra'\n",
    "}\n",
    "\n",
    "pet3 = {\n",
    "    'name':'jack',\n",
    "    'animal':'dog',\n",
    "    'age': '11',\n",
    "    'owner':'hillary'\n",
    "}\n",
    "\n",
    "\n",
    "list_of_pets = [pet1, pet2, pet3]\n",
    "\n",
    "for pet in list_of_pets:\n",
    "    print(\"\\nThis is all the information we have on this pet!\")\n",
    "    for key, value in pet.items():\n",
    "        print(f\"{key.title()} : {value.title()}\")"
   ]
  },
  {
   "cell_type": "code",
   "execution_count": 40,
   "id": "ba74bb0a",
   "metadata": {},
   "outputs": [
    {
     "name": "stdout",
     "output_type": "stream",
     "text": [
      "\n",
      "Cameron's favorite place is Sydney.\n",
      "\n",
      "Angus's favorite place is London.\n",
      "\n",
      "Lynda's favorite place is Edinbrugh.\n"
     ]
    }
   ],
   "source": [
    "favourite_places = {\n",
    "    'cameron':'sydney',\n",
    "    'angus':'london',\n",
    "    'lynda':'edinbrugh'\n",
    "}\n",
    "\n",
    "# Printing off each the person and their favorite location neatly\n",
    "\n",
    "for key, value in favourite_places.items():\n",
    "    print(f\"\\n{key.title()}'s favorite place is {value.title()}.\")"
   ]
  },
  {
   "cell_type": "code",
   "execution_count": 66,
   "id": "8d805747",
   "metadata": {},
   "outputs": [
    {
     "name": "stdout",
     "output_type": "stream",
     "text": [
      "\n",
      "Cameron's favorite numbers are:\n",
      "13\n",
      "50\n",
      "\n",
      "Angus's favorite numbers are:\n",
      "45\n",
      "\n",
      "Lynda's favorite numbers are:\n",
      "22\n",
      "23\n",
      "24\n",
      "\n",
      "Tilda's favorite numbers are:\n",
      "32\n",
      "100\n"
     ]
    }
   ],
   "source": [
    "fav_numbers = {\n",
    "    'cameron': [13, 50],\n",
    "    'angus': [45],\n",
    "    'lynda': [22, 23, 24],\n",
    "    'tilda': [32, 100]\n",
    "}\n",
    "\n",
    "# For loop with the variables name and numbers for key and value respectively \n",
    "for name, numbers in fav_numbers.items():\n",
    "# Printing off the names\n",
    "    print(f\"\\n{name.title()}'s favorite numbers are:\")\n",
    "# Printing off the numbers without just printing the list!!!\n",
    "# The key is to use another for loop!!!!!!!\n",
    "    for number in numbers:\n",
    "        print(number)"
   ]
  },
  {
   "cell_type": "code",
   "execution_count": 32,
   "id": "6f877b86",
   "metadata": {
    "scrolled": true
   },
   "outputs": [
    {
     "name": "stdout",
     "output_type": "stream",
     "text": [
      "\n",
      "The city of Sydney is an interesting city, here are some facts.\n",
      "Sydney is located in Austrailia\n",
      "Sydney has a population of 5.3 million people.\n",
      "A fun fact about Sydney is that Sydney has more than 100 beaches\n",
      "\n",
      "The city of London is an interesting city, here are some facts.\n",
      "London is located in England\n",
      "London has a population of 8.9 million people.\n",
      "A fun fact about London is that London has 170 museums\n",
      "\n",
      "The city of Edinbrugh is an interesting city, here are some facts.\n",
      "Edinbrugh is located in Scotland\n",
      "Edinbrugh has a population of 548 thousand people.\n",
      "A fun fact about Edinbrugh is that Edinbrugh castle is built on an inactive volcano\n"
     ]
    }
   ],
   "source": [
    "cities = {\n",
    "    'sydney':{\n",
    "        'country':'austrailia',\n",
    "        'population':'5.3 million',\n",
    "        'fact':'Sydney has more than 100 beaches'\n",
    "    },\n",
    "    'london':{\n",
    "        'country':'england',\n",
    "        'population':'8.9 million',\n",
    "        'fact':'London has 170 museums'\n",
    "    },\n",
    "    'edinbrugh':{\n",
    "        'country':'scotland',\n",
    "        'population':'548 thousand',\n",
    "        'fact':'Edinbrugh castle is built on an inactive volcano'\n",
    "    }\n",
    "}\n",
    "\n",
    "# Using a for loop to print off just the countries and the information in the dictionaries \n",
    "# I was making it too complicated at the start (by assinging stuff to variables) when infact its not that difficult\n",
    "# We just needed to loop through the cities (keys), then go into the information (values)\n",
    "for city, information in cities.items():\n",
    "    print(f\"\\nThe city of {city.title()} is an interesting city, here are some facts.\")\n",
    "    print(f\"{city.title()} is located in {information['country'].title()}\")\n",
    "    print(f\"{city.title()} has a population of {information['population']} people.\")\n",
    "    print(f\"A fun fact about {city.title()} is that {information['fact']}\")"
   ]
  },
  {
   "cell_type": "markdown",
   "id": "7543be04",
   "metadata": {},
   "source": [
    "## Summary"
   ]
  },
  {
   "cell_type": "markdown",
   "id": "1f3ce4a7",
   "metadata": {},
   "source": [
    "- In this chapter we have learned what a dictionary is, and how to use them.\n",
    "- We have learned how to use a for loop to run through a dictionary\n",
    "- We have learned to nest different things inside of a dictionary, such as lists, or even other dictionaries\n",
    "- This was the first complicated chapter but it's DONE!"
   ]
  },
  {
   "cell_type": "markdown",
   "id": "3699f596",
   "metadata": {},
   "source": [
    "# Chapter 7 User Input and While Loops"
   ]
  },
  {
   "cell_type": "markdown",
   "id": "6185a588",
   "metadata": {},
   "source": [
    "### How The Input( ) Function Works"
   ]
  },
  {
   "cell_type": "markdown",
   "id": "7ab6470d",
   "metadata": {},
   "source": [
    "The input function pauses the program and allows the user to input some stuff into the program. Once python gets the input from the user it assings the input to a varible that allows us to work with it "
   ]
  },
  {
   "cell_type": "code",
   "execution_count": 1,
   "id": "497b167c",
   "metadata": {},
   "outputs": [
    {
     "name": "stdout",
     "output_type": "stream",
     "text": [
      "Tell me something, and I will repeat it back to you: Hello\n",
      "Hello\n"
     ]
    }
   ],
   "source": [
    "message = input(\"Tell me something, and I will repeat it back to you: \")\n",
    "print(message)"
   ]
  },
  {
   "cell_type": "markdown",
   "id": "8d3b7a02",
   "metadata": {},
   "source": [
    "> The input function takes the prompt tell me something........ then waits for the user to input some data (a string) and when they press enter, it assings the user imput into to the variable message. We then print the variable message."
   ]
  },
  {
   "cell_type": "code",
   "execution_count": 37,
   "id": "c8d39fc5",
   "metadata": {},
   "outputs": [
    {
     "name": "stdout",
     "output_type": "stream",
     "text": [
      "Please enter your name when prompted to do so and press enter: Cameron\n",
      "Hello Cameron!\n"
     ]
    }
   ],
   "source": [
    "# Be sure to write clear promts to tell the user what to do.\n",
    "\n",
    "# Also make sure we add a space after our colon : so ensure there is room for the user to input their data\n",
    "hello = input(\"Please enter your name when prompted to do so and press enter: \")\n",
    "print(f\"Hello {hello.title()}!\")"
   ]
  },
  {
   "cell_type": "markdown",
   "id": "c0715717",
   "metadata": {},
   "source": [
    "### Using int() function to accept numerical input"
   ]
  },
  {
   "cell_type": "markdown",
   "id": "b371c8f9",
   "metadata": {},
   "source": [
    "When we use the input function anything that is placed into that input will be a string, consider the following:"
   ]
  },
  {
   "cell_type": "code",
   "execution_count": 40,
   "id": "201e8514",
   "metadata": {},
   "outputs": [
    {
     "name": "stdout",
     "output_type": "stream",
     "text": [
      "Hello, may you please enter your age and press enter: 22\n"
     ]
    },
    {
     "ename": "TypeError",
     "evalue": "can only concatenate str (not \"int\") to str",
     "output_type": "error",
     "traceback": [
      "\u001b[0;31m---------------------------------------------------------------------------\u001b[0m",
      "\u001b[0;31mTypeError\u001b[0m                                 Traceback (most recent call last)",
      "Input \u001b[0;32mIn [40]\u001b[0m, in \u001b[0;36m<cell line: 2>\u001b[0;34m()\u001b[0m\n\u001b[1;32m      1\u001b[0m testing \u001b[38;5;241m=\u001b[39m \u001b[38;5;28minput\u001b[39m(\u001b[38;5;124m\"\u001b[39m\u001b[38;5;124mHello, may you please enter your age and press enter: \u001b[39m\u001b[38;5;124m\"\u001b[39m)\n\u001b[0;32m----> 2\u001b[0m \u001b[38;5;28mprint\u001b[39m(\u001b[43mtesting\u001b[49m\u001b[43m \u001b[49m\u001b[38;5;241;43m+\u001b[39;49m\u001b[43m \u001b[49m\u001b[38;5;241;43m2\u001b[39;49m)\n",
      "\u001b[0;31mTypeError\u001b[0m: can only concatenate str (not \"int\") to str"
     ]
    }
   ],
   "source": [
    "testing = input(\"Hello, may you please enter your age and press enter: \")\n",
    "print(testing + 2)"
   ]
  },
  {
   "cell_type": "code",
   "execution_count": 42,
   "id": "7adcd0c9",
   "metadata": {},
   "outputs": [
    {
     "name": "stdout",
     "output_type": "stream",
     "text": [
      "Hello, may you please enter your age and press enter: 22\n"
     ]
    },
    {
     "ename": "TypeError",
     "evalue": "'>=' not supported between instances of 'str' and 'int'",
     "output_type": "error",
     "traceback": [
      "\u001b[0;31m---------------------------------------------------------------------------\u001b[0m",
      "\u001b[0;31mTypeError\u001b[0m                                 Traceback (most recent call last)",
      "Input \u001b[0;32mIn [42]\u001b[0m, in \u001b[0;36m<cell line: 2>\u001b[0;34m()\u001b[0m\n\u001b[1;32m      1\u001b[0m testing \u001b[38;5;241m=\u001b[39m \u001b[38;5;28minput\u001b[39m(\u001b[38;5;124m\"\u001b[39m\u001b[38;5;124mHello, may you please enter your age and press enter: \u001b[39m\u001b[38;5;124m\"\u001b[39m)\n\u001b[0;32m----> 2\u001b[0m \u001b[38;5;28;01mif\u001b[39;00m \u001b[43mtesting\u001b[49m\u001b[43m \u001b[49m\u001b[38;5;241;43m>\u001b[39;49m\u001b[38;5;241;43m=\u001b[39;49m\u001b[43m \u001b[49m\u001b[38;5;241;43m21\u001b[39;49m:\n\u001b[1;32m      3\u001b[0m     \u001b[38;5;28mprint\u001b[39m(\u001b[38;5;124m\"\u001b[39m\u001b[38;5;124mWow you are older than 21\u001b[39m\u001b[38;5;124m\"\u001b[39m)\n",
      "\u001b[0;31mTypeError\u001b[0m: '>=' not supported between instances of 'str' and 'int'"
     ]
    }
   ],
   "source": [
    "testing = input(\"Hello, may you please enter your age and press enter: \")\n",
    "if testing >= 21:\n",
    "    print(\"Wow you are older than 21\")"
   ]
  },
  {
   "cell_type": "markdown",
   "id": "e3fc099f",
   "metadata": {},
   "source": [
    "> Basically, everything we put into the input function is a STRING, not an interger even if we input a number, so now lets make it an INTERGER"
   ]
  },
  {
   "cell_type": "code",
   "execution_count": 44,
   "id": "b83c47b7",
   "metadata": {},
   "outputs": [
    {
     "name": "stdout",
     "output_type": "stream",
     "text": [
      "Hello, may you please enter your age and press enter: 22\n",
      "Wow you are older than 21\n"
     ]
    }
   ],
   "source": [
    "testing = input(\"Hello, may you please enter your age and press enter: \")\n",
    "# Turning the variable into an interger\n",
    "testing = int(testing)\n",
    "if testing >= 21:\n",
    "    print(\"Wow you are older than 21\")"
   ]
  },
  {
   "cell_type": "code",
   "execution_count": 5,
   "id": "55f04757",
   "metadata": {},
   "outputs": [
    {
     "name": "stdout",
     "output_type": "stream",
     "text": [
      "How tall are you in cm?: 200\n",
      "You are tall enough to ride the roller coaster\n"
     ]
    }
   ],
   "source": [
    "height = input(\"How tall are you in cm?: \")\n",
    "height = int(height)\n",
    "\n",
    "# Checking if they are tall enough the ride on the roller coaster \n",
    "if height >= 160 and height <= 200:\n",
    "    print(\"You are tall enough to ride the roller coaster\")\n",
    "elif height >= 200:\n",
    "    print(\"You are too tall to ride!\")\n",
    "elif height <= 159:\n",
    "    print(\"You are too short to ride!\")\n",
    "    "
   ]
  },
  {
   "cell_type": "markdown",
   "id": "43577479",
   "metadata": {},
   "source": [
    "### The Modulo Operator (%)\n",
    "\n",
    "This divides the number by the other number and returns the remainder for example"
   ]
  },
  {
   "cell_type": "code",
   "execution_count": 10,
   "id": "de490244",
   "metadata": {},
   "outputs": [
    {
     "data": {
      "text/plain": [
       "1"
      ]
     },
     "execution_count": 10,
     "metadata": {},
     "output_type": "execute_result"
    }
   ],
   "source": [
    "4 % 3"
   ]
  },
  {
   "cell_type": "code",
   "execution_count": 11,
   "id": "b4b5191f",
   "metadata": {},
   "outputs": [
    {
     "data": {
      "text/plain": [
       "0"
      ]
     },
     "execution_count": 11,
     "metadata": {},
     "output_type": "execute_result"
    }
   ],
   "source": [
    "6 % 3"
   ]
  },
  {
   "cell_type": "code",
   "execution_count": 13,
   "id": "1c3a5d74",
   "metadata": {},
   "outputs": [
    {
     "data": {
      "text/plain": [
       "2"
      ]
     },
     "execution_count": 13,
     "metadata": {},
     "output_type": "execute_result"
    }
   ],
   "source": [
    "14 % 3"
   ]
  },
  {
   "cell_type": "markdown",
   "id": "986f2007",
   "metadata": {},
   "source": [
    "> So we place the 3 into 4 and return how many is remaining, 3 into 6, 3 into 14 etc \n",
    "\n",
    "> The modulo operator doesn't show us how many times one number fits into another, only how much is remaining"
   ]
  },
  {
   "cell_type": "code",
   "execution_count": 14,
   "id": "5b118db7",
   "metadata": {},
   "outputs": [
    {
     "name": "stdout",
     "output_type": "stream",
     "text": [
      "Please tell us a number and we will see if it's odd or even for you: 17\n",
      "This number is odd\n"
     ]
    }
   ],
   "source": [
    "# Checking if a number is odd or even\n",
    "\n",
    "number = input(\"Please tell us a number and we will see if it's odd or even for you: \")\n",
    "number = int(number)\n",
    "\n",
    "if number % 2 == 0:\n",
    "    print(\"This number is even\")\n",
    "else:\n",
    "    print(\"This number is odd\")"
   ]
  },
  {
   "cell_type": "markdown",
   "id": "4540cdc0",
   "metadata": {},
   "source": [
    "## Tasks"
   ]
  },
  {
   "cell_type": "code",
   "execution_count": 15,
   "id": "e2341020",
   "metadata": {},
   "outputs": [
    {
     "name": "stdout",
     "output_type": "stream",
     "text": [
      "What kind of car would you like to rent?: BMW\n",
      "Let me see if I have a BMW in available\n"
     ]
    }
   ],
   "source": [
    "rental_car = input(\"What kind of car would you like to rent?: \")\n",
    "\n",
    "print(f\"Let me see if I have a {rental_car} in available\")"
   ]
  },
  {
   "cell_type": "code",
   "execution_count": 17,
   "id": "f722dab9",
   "metadata": {},
   "outputs": [
    {
     "name": "stdout",
     "output_type": "stream",
     "text": [
      "How many people are in your dinner group?: 13\n",
      "That's a big table! The wait is around 20 mins\n"
     ]
    }
   ],
   "source": [
    "table_size = input(\"How many people are in your dinner group?: \")\n",
    "table_size = int(table_size)\n",
    "\n",
    "if table_size >= 8:\n",
    "    print(\"That's a big table! The wait is around 20 mins\")\n",
    "else:\n",
    "    print(\"Perfect, please follow me to your table\")"
   ]
  },
  {
   "cell_type": "code",
   "execution_count": 22,
   "id": "39de71f8",
   "metadata": {},
   "outputs": [
    {
     "name": "stdout",
     "output_type": "stream",
     "text": [
      "Provide a number and I will compute if it is a multiple of 10 or not: 44\n",
      "This isn't a mutliple of 10\n"
     ]
    }
   ],
   "source": [
    "number = input(\"Provide a number and I will compute if it is a multiple of 10 or not: \")\n",
    "number = int(number)\n",
    "\n",
    "if number % 10 == 0:\n",
    "    print(\"This is a multiple of 10\")\n",
    "else:\n",
    "    print(\"This isn't a mutliple of 10\")"
   ]
  },
  {
   "cell_type": "markdown",
   "id": "da4ef0ea",
   "metadata": {},
   "source": [
    "## While Loops\n",
    "\n",
    "For loops take a section of code and run that code once for each item in the collection, or if we ask the code to run a set amount of times. However, while loops will run for as long as a condition (true or false) is true."
   ]
  },
  {
   "cell_type": "code",
   "execution_count": 24,
   "id": "8d992cf9",
   "metadata": {},
   "outputs": [
    {
     "name": "stdout",
     "output_type": "stream",
     "text": [
      "1 is less than 5\n",
      "2 is less than 5\n",
      "3 is less than 5\n",
      "4 is less than 5\n"
     ]
    }
   ],
   "source": [
    "current_number = 1\n",
    "\n",
    "while current_number < 5:\n",
    "    print(f\"{current_number} is less than 5\")\n",
    "    current_number += 1"
   ]
  },
  {
   "cell_type": "markdown",
   "id": "259234a0",
   "metadata": {},
   "source": [
    "> In the first line we set the current number to equal 1, and then use a \"while\" loop to loop through the bottom section of code, as long as the current number is less than 5!\n",
    "\n",
    "> Note we se the += 1 to add 1 to the current number variable everytime we run through the while loop, this is shorthand for current_number = current_number + 1"
   ]
  },
  {
   "cell_type": "markdown",
   "id": "69f9ab0f",
   "metadata": {},
   "source": [
    "### Letting The User Choose When To Quit"
   ]
  },
  {
   "cell_type": "code",
   "execution_count": null,
   "id": "8aa2df09",
   "metadata": {},
   "outputs": [],
   "source": [
    "prompt = \"\\nType something and I will parrot it back to you!\"\n",
    "# Adding a little extra onto the prompt \n",
    "prompt += \"\\nOr type 'quit' if you want to stop:\"\n",
    "\n",
    "user_input = \"\"\n",
    "\n",
    "while user_input != 'quit':\n",
    "#   We assign the user input here which is wild, becuase we dont actaully use input in the top prompts\n",
    "    user_input = input(prompt)\n",
    "    print(user_input)"
   ]
  },
  {
   "cell_type": "markdown",
   "id": "b685b17f",
   "metadata": {},
   "source": [
    "> I understand how this code runs, but what confused me is that we have an empty user_input at the start, so how does the code run? This is explained in the book so I am going to repeat it here. \n",
    "\n",
    "> To keep track of what the user enters we define the variable user_input as an empty string, this gives python something to check when the code first runs, as its not 'quit' right ? so it runs, which is funny. If this wasn't here then python wouldn't be able to run, as it has nothing to compare against, so even though it's just an empty string, python compares it to quit and because its not quit, it runs!\n",
    "\n",
    "> At user_input = input(prompt) python prints prompt message but becuase thats inside an input function, it waits for an input from the user. Then it prints the user_input. Python then evaluates what string user_input is and if it's not quit it carries on for another loop, if it is quit it stops "
   ]
  },
  {
   "cell_type": "markdown",
   "id": "60b07ea2",
   "metadata": {},
   "source": [
    "Now this code works well, but it prints quit as if it were a message to parrot back before quitting, a way to fix this would be to add a simple if statement"
   ]
  },
  {
   "cell_type": "code",
   "execution_count": 37,
   "id": "24faf28e",
   "metadata": {},
   "outputs": [
    {
     "name": "stdout",
     "output_type": "stream",
     "text": [
      "\n",
      "Type something and I will parrot it back to you!\n",
      "Or type 'quit' if you want to stop:Hello\n",
      "Hello\n",
      "\n",
      "Type something and I will parrot it back to you!\n",
      "Or type 'quit' if you want to stop:Hello again \n",
      "Hello again \n",
      "\n",
      "Type something and I will parrot it back to you!\n",
      "Or type 'quit' if you want to stop:Hello again and again\n",
      "Hello again and again\n",
      "\n",
      "Type something and I will parrot it back to you!\n",
      "Or type 'quit' if you want to stop:quit\n"
     ]
    }
   ],
   "source": [
    "prompt = \"\\nType something and I will parrot it back to you!\"\n",
    "# Adding a little extra onto the prompt \n",
    "prompt += \"\\nOr type 'quit' if you want to stop:\"\n",
    "\n",
    "user_input = \"\"\n",
    "\n",
    "while user_input != 'quit':\n",
    "#   We assign the user input here which is wild, becuase we dont actaully use input in the top prompts\n",
    "    user_input = input(prompt)\n",
    "#   If loop to print message as long as it's not quit\n",
    "#   Now is user_input = quit, we no longer print, we just stop\n",
    "    if user_input != 'quit':\n",
    "        print(user_input)"
   ]
  },
  {
   "cell_type": "markdown",
   "id": "ae05bc4b",
   "metadata": {},
   "source": [
    "### Using Flags \n",
    "\n",
    "If we have a load of conditions that can stop a program, using one while loop to manage all of this can become complex. To fix this issue we use FLAGS, this acts as a signal to the program too see if it should run or not, either go or stop. We can write a program that runs a long as the flag is set to true and that it stops once the flag is set to false (this is triggered by one of the statements being false). This allows Python to only really look at one variable (the flag) instead of having to check everything at the same time --> sort of having a kill switch if one thing goes wrong."
   ]
  },
  {
   "cell_type": "code",
   "execution_count": 44,
   "id": "2aa1740a",
   "metadata": {},
   "outputs": [
    {
     "name": "stdout",
     "output_type": "stream",
     "text": [
      "\n",
      "Type something and I will parrot it back to you!\n",
      "Or type 'quit' if you want to stop: Cameron\n",
      "Cameron\n",
      "\n",
      "Type something and I will parrot it back to you!\n",
      "Or type 'quit' if you want to stop: Hello there\n",
      "Hello there\n",
      "\n",
      "Type something and I will parrot it back to you!\n",
      "Or type 'quit' if you want to stop: Hello there again\n",
      "Hello there again\n",
      "\n",
      "Type something and I will parrot it back to you!\n",
      "Or type 'quit' if you want to stop: quit\n"
     ]
    }
   ],
   "source": [
    "prompt = \"\\nType something and I will parrot it back to you!\"\n",
    "# Adding a little extra onto the prompt \n",
    "prompt += \"\\nOr type 'quit' if you want to stop: \"\n",
    "\n",
    "user_input = \"\"\n",
    "\n",
    "# Setting the flag variable = True \n",
    "# This is so the program starts in an activate state\n",
    "flag = True \n",
    "\n",
    "# Using the flag makes the while loop much more simpler, just is the flag active or not?\n",
    "# Another way of typing \"while flag == True:\" is \"while flag:\"\n",
    "while flag == True:\n",
    "    user_input = input(prompt)\n",
    "\n",
    "    if user_input == 'quit':\n",
    "        flag = False\n",
    "    else:\n",
    "        print(user_input)\n",
    "    \n",
    "    "
   ]
  },
  {
   "cell_type": "markdown",
   "id": "8d7d353d",
   "metadata": {},
   "source": [
    "### Using Break To Exit A Loop\n",
    "\n",
    "Break statement allows us to leave a while loop regardless of condition, this allows us to control what code runs when we want it to (maybe in testing this is helpful?) "
   ]
  },
  {
   "cell_type": "code",
   "execution_count": 4,
   "id": "c751212c",
   "metadata": {},
   "outputs": [
    {
     "ename": "NameError",
     "evalue": "name 'flag' is not defined",
     "output_type": "error",
     "traceback": [
      "\u001b[0;31m---------------------------------------------------------------------------\u001b[0m",
      "\u001b[0;31mNameError\u001b[0m                                 Traceback (most recent call last)",
      "Input \u001b[0;32mIn [4]\u001b[0m, in \u001b[0;36m<cell line: 4>\u001b[0;34m()\u001b[0m\n\u001b[1;32m      1\u001b[0m prompt \u001b[38;5;241m=\u001b[39m \u001b[38;5;124m\"\u001b[39m\u001b[38;5;124mName a city you have visisted.\u001b[39m\u001b[38;5;124m\"\u001b[39m\n\u001b[1;32m      2\u001b[0m prompt \u001b[38;5;241m+\u001b[39m\u001b[38;5;241m=\u001b[39m \u001b[38;5;124m\"\u001b[39m\u001b[38;5;124m Remember, you can type \u001b[39m\u001b[38;5;124m'\u001b[39m\u001b[38;5;124mquit\u001b[39m\u001b[38;5;124m'\u001b[39m\u001b[38;5;124m to exit: \u001b[39m\u001b[38;5;124m\"\u001b[39m\n\u001b[0;32m----> 4\u001b[0m \u001b[43mflag\u001b[49m \u001b[38;5;241m==\u001b[39m \u001b[38;5;28;01mTrue\u001b[39;00m\n\u001b[1;32m      6\u001b[0m \u001b[38;5;28;01mwhile\u001b[39;00m flag \u001b[38;5;241m==\u001b[39m \u001b[38;5;28;01mTrue\u001b[39;00m:\n\u001b[1;32m      8\u001b[0m     question \u001b[38;5;241m=\u001b[39m \u001b[38;5;28minput\u001b[39m(prompt)\n",
      "\u001b[0;31mNameError\u001b[0m: name 'flag' is not defined"
     ]
    }
   ],
   "source": [
    "prompt = \"Name a city you have visisted.\"\n",
    "prompt += \" Remember, you can type 'quit' to exit: \"\n",
    "\n",
    "flag == True\n",
    "\n",
    "while flag == True:\n",
    "    \n",
    "    question = input(prompt)\n",
    "    \n",
    "    if question != 'quit':\n",
    "        print(f\"Wow {question} is a great city to see!\")\n",
    "    \n",
    "    else:\n",
    "        break\n",
    "\n",
    "\n",
    "    "
   ]
  },
  {
   "cell_type": "markdown",
   "id": "0e1f1a51",
   "metadata": {},
   "source": [
    "### Using Continue In A Loop\n",
    "\n",
    "Rather than breaking out of the code using break, we can use continue to go back to the top of the loop, for example the code below counts up to 10 but only prints the odd numbers."
   ]
  },
  {
   "cell_type": "code",
   "execution_count": 5,
   "id": "0ebb668d",
   "metadata": {},
   "outputs": [
    {
     "name": "stdout",
     "output_type": "stream",
     "text": [
      "1\n",
      "3\n",
      "5\n",
      "7\n",
      "9\n"
     ]
    }
   ],
   "source": [
    "current_number = 0\n",
    "\n",
    "while current_number < 10:\n",
    "    current_number += 1\n",
    "#   Checks if the number is divisible by 2 (so its even) if it is, continue takes the code back to the top\n",
    "    if current_number % 2 == 0:\n",
    "        continue\n",
    "\n",
    "    print(current_number)"
   ]
  },
  {
   "cell_type": "markdown",
   "id": "ad9c4d04",
   "metadata": {},
   "source": [
    "### Avoiding Infinite Loops\n",
    "\n",
    "Every while loop needs a way for it to stop so it won't continue running forever, if we forget something like in the code below, we have a problem lol"
   ]
  },
  {
   "cell_type": "code",
   "execution_count": 20,
   "id": "a0d389de",
   "metadata": {},
   "outputs": [
    {
     "name": "stdout",
     "output_type": "stream",
     "text": [
      "1\n",
      "2\n",
      "3\n",
      "4\n",
      "5\n"
     ]
    }
   ],
   "source": [
    "x = 1\n",
    "\n",
    "while x <= 5:\n",
    "    print(x)\n",
    "# Comment out the line below to make the loop infinite\n",
    "    x += 1\n",
    "    "
   ]
  },
  {
   "cell_type": "markdown",
   "id": "d16a4210",
   "metadata": {},
   "source": [
    "> If we ever get stuck in an infinite loop, press \"ctrl + c\" or close the terminal window that our code is running in. "
   ]
  },
  {
   "cell_type": "markdown",
   "id": "0431a230",
   "metadata": {},
   "source": [
    "## Tasks"
   ]
  },
  {
   "cell_type": "code",
   "execution_count": 37,
   "id": "3bc27fb3",
   "metadata": {},
   "outputs": [
    {
     "name": "stdout",
     "output_type": "stream",
     "text": [
      "\n",
      "Please write your list of toppings you would like on your pizza one at a time.\n",
      "Once you are finished, type 'done': cheese\n",
      "\n",
      "I will add cheese to your pizza\n",
      "\n",
      "Please write your list of toppings you would like on your pizza one at a time.\n",
      "Once you are finished, type 'done': ham\n",
      "\n",
      "I will add ham to your pizza\n",
      "\n",
      "Please write your list of toppings you would like on your pizza one at a time.\n",
      "Once you are finished, type 'done': bbq sauce\n",
      "\n",
      "I will add bbq sauce to your pizza\n",
      "\n",
      "Please write your list of toppings you would like on your pizza one at a time.\n",
      "Once you are finished, type 'done': bacon\n",
      "\n",
      "I will add bacon to your pizza\n",
      "\n",
      "Please write your list of toppings you would like on your pizza one at a time.\n",
      "Once you are finished, type 'done': done\n",
      "\n",
      "Thank you for ordering your pizza, here is the final list of toppings:\n",
      "cheese\n",
      "ham\n",
      "bbq sauce\n",
      "bacon\n"
     ]
    }
   ],
   "source": [
    "prompt = \"\\nPlease write your list of toppings you would like on your pizza one at a time.\"\n",
    "prompt += \"\\nOnce you are finished, type 'done': \"\n",
    "\n",
    "toppings = []\n",
    "\n",
    "flag = True\n",
    "\n",
    "while flag == True:\n",
    "    question = input(prompt)\n",
    "    \n",
    "    if question == 'done':\n",
    "        print(\"\\nThank you for ordering your pizza, here is the final list of toppings:\")\n",
    "        for topping in toppings:\n",
    "            print(topping)\n",
    "        flag = False\n",
    "    else:\n",
    "        toppings.append(question)\n",
    "        print(f\"\\nI will add {question} to your pizza\")"
   ]
  },
  {
   "cell_type": "code",
   "execution_count": 41,
   "id": "d75756ca",
   "metadata": {},
   "outputs": [
    {
     "name": "stdout",
     "output_type": "stream",
     "text": [
      "Would you like to know the price of the movie ticket?\n",
      "Please select one of these options: 'toddler (ages 1-3)', 'child' (ages 4-16), 'adult' (ages 16-100). adult\n",
      "The ticket costs £15.\n"
     ]
    }
   ],
   "source": [
    "toddler_price = '£3'\n",
    "child_price = '7'\n",
    "adult_price = '£15'\n",
    "\n",
    "prompt = \"Would you like to know the price of the movie ticket?\"\n",
    "prompt += \"\\nPlease select one of these options: 'toddler (ages 1-3)', 'child' (ages 4-16), 'adult' (ages 16-100). \"\n",
    "\n",
    "flag = True\n",
    "\n",
    "while flag == True:\n",
    "    \n",
    "    user_input = input(prompt)\n",
    "    \n",
    "    if user_input == 'toddler':\n",
    "        print(f\"The ticket costs {toddler_price}.\")\n",
    "        flag = False\n",
    "    elif user_input == 'child':\n",
    "        print(f\"The ticket costs {child_price}.\")\n",
    "        flag = False\n",
    "    else:\n",
    "        print(f\"The ticket costs {adult_price}.\")\n",
    "        flag = False\n",
    "\n"
   ]
  },
  {
   "cell_type": "code",
   "execution_count": 8,
   "id": "ec623de9",
   "metadata": {},
   "outputs": [
    {
     "name": "stdout",
     "output_type": "stream",
     "text": [
      "\n",
      "Please write your list of toppings you would like on your pizza one at a time.\n",
      "Once you are finished, type 'done': cheese \n",
      "\n",
      "I will add cheese  to your pizza\n",
      "\n",
      "Please write your list of toppings you would like on your pizza one at a time.\n",
      "Once you are finished, type 'done': ham\n",
      "\n",
      "I will add ham to your pizza\n",
      "\n",
      "Please write your list of toppings you would like on your pizza one at a time.\n",
      "Once you are finished, type 'done': pineapple\n",
      "\n",
      "I will add pineapple to your pizza\n",
      "\n",
      "Please write your list of toppings you would like on your pizza one at a time.\n",
      "Once you are finished, type 'done': done\n",
      "\n",
      "Thank you for ordering your pizza, here is the final list of toppings:\n",
      "cheese \n",
      "ham\n",
      "pineapple\n"
     ]
    }
   ],
   "source": [
    "prompt = \"\\nPlease write your list of toppings you would like on your pizza one at a time.\"\n",
    "prompt += \"\\nOnce you are finished, type 'done': \"\n",
    "\n",
    "toppings = []\n",
    "\n",
    "while prompt != 'done':\n",
    "    question = input(prompt)\n",
    "    \n",
    "    if question == 'done':\n",
    "        print(\"\\nThank you for ordering your pizza, here is the final list of toppings:\")\n",
    "        for topping in toppings:\n",
    "            print(topping)\n",
    "# Using break instead of flag to quit the program\n",
    "        break\n",
    "    else:\n",
    "        toppings.append(question)\n",
    "        print(f\"\\nI will add {question} to your pizza\")"
   ]
  },
  {
   "cell_type": "markdown",
   "id": "f128036a",
   "metadata": {},
   "source": [
    "### Using While Loops In Lists and Dictionaries\n",
    "\n",
    "So far we have only used one piece of user input information at a time (although I kept track of each topping in the while loop to use it all later) we are now going to work through usin while loops in lists and dictionaries to collect, store and recall data. "
   ]
  },
  {
   "cell_type": "markdown",
   "id": "c89c2573",
   "metadata": {},
   "source": [
    "### Moving From One List To Another\n",
    "\n",
    "Consider a group of unverified users for a website stored in a list, once verified we move them to confrimed list using a while loop"
   ]
  },
  {
   "cell_type": "code",
   "execution_count": 24,
   "id": "bca4d0e2",
   "metadata": {},
   "outputs": [
    {
     "name": "stdout",
     "output_type": "stream",
     "text": [
      "Paul is being verified.\n",
      "Mattia is being verified.\n",
      "Cameron is being verified.\n",
      "\n",
      "The current users have just been verified\n",
      "Paul\n",
      "Mattia\n",
      "Cameron\n"
     ]
    }
   ],
   "source": [
    "# List of unverified users \n",
    "unverified_users = ['cameron', 'mattia', 'paul']\n",
    "# Empty list of verified users \n",
    "verified_users = []\n",
    "\n",
    "\n",
    "# Use a while loop to verify users\n",
    "# Move users to verifed users lists\n",
    "'''This while loop will run as long as unverified_users is not empty'''\n",
    "while unverified_users:\n",
    "    \n",
    "# Assign that specfic user to current user variable, pop() deletes and stores the user (from right to left) \n",
    "# for later use\n",
    "    current_user = unverified_users.pop()\n",
    "    print(f\"{current_user.title()} is being verified.\")\n",
    "    verified_users.append(current_user)\n",
    "\n",
    "# Using a for loop to print off all of the new verified users\n",
    "print(\"\\nThe current users have just been verified\")\n",
    "for user in verified_users:\n",
    "    print(user.title())\n"
   ]
  },
  {
   "cell_type": "markdown",
   "id": "84ac1483",
   "metadata": {},
   "source": [
    "### Removing All Instances of A Specific Value In A List\n",
    "\n",
    "In chapter 3 I used remove() to remove values from a list, but this only works one time, what happens if we have multiple repeats of the same value, we have to use a while loop to go through and remove them until there is no more."
   ]
  },
  {
   "cell_type": "code",
   "execution_count": 26,
   "id": "b8e40e55",
   "metadata": {},
   "outputs": [
    {
     "name": "stdout",
     "output_type": "stream",
     "text": [
      "['dog', 'fish', 'horse', 'lizard', 'dog']\n"
     ]
    }
   ],
   "source": [
    "pets = ['dog', 'cat', 'fish', 'cat', 'horse', 'lizard', 'dog']\n",
    "\n",
    "while 'cat' in pets:\n",
    "    pets.remove('cat')\n",
    "    \n",
    "print(pets)"
   ]
  },
  {
   "cell_type": "markdown",
   "id": "d899a66f",
   "metadata": {},
   "source": [
    "### Filling A Dictionary With User Input\n",
    "\n"
   ]
  },
  {
   "cell_type": "code",
   "execution_count": 41,
   "id": "d0bb30d2",
   "metadata": {},
   "outputs": [
    {
     "name": "stdout",
     "output_type": "stream",
     "text": [
      "What is your name? Cam\n",
      "Who is your favorite tech company? Apple\n",
      "Does anyone else want to take the poll? Enter either (yes/ no). n\n",
      "What is your name? Cameron\n",
      "Who is your favorite tech company? Apple\n",
      "Does anyone else want to take the poll? Enter either (yes/ no). no\n",
      "---Polling is complete---\n",
      "Cam likes Apple.\n",
      "Cameron likes Apple.\n"
     ]
    }
   ],
   "source": [
    "responses = {}\n",
    "\n",
    "# Setting flag to be true\n",
    "questionaire_active = True\n",
    "\n",
    "while questionaire_active:\n",
    "# Prompt the user for their name and respose to the question\n",
    "    name = input(\"What is your name? \")\n",
    "    response = input(\"Who is your favorite tech company? \")\n",
    "\n",
    "# Store the responses in the responses dictionary (equivilent to append for lists)\n",
    "# name dictioanry[key] equals value (I think thats how it works) so they key is name and value is the company\n",
    "# This will change everytime we loop through I think\n",
    "    responses[name] = response \n",
    "\n",
    "# Ask if anyone else wants to take the poll\n",
    "    repeat = input(\"Does anyone else want to take the poll? Enter either (yes/ no). \")\n",
    "    if repeat == 'no':\n",
    "        questionaire_active = False\n",
    "\n",
    "\n",
    "# Polling is complete, show results\n",
    "print(\"---Polling is complete---\")\n",
    "for name, response in responses.items():\n",
    "    print(f\"{name.title()} likes {response.title()}.\")\n"
   ]
  },
  {
   "cell_type": "markdown",
   "id": "700601e5",
   "metadata": {},
   "source": [
    "### That was hard, doing it again to cement my understanding\n",
    "\n",
    "We want to investigate what the users favorite food is, we need their name and food then place it into a dictionary"
   ]
  },
  {
   "cell_type": "code",
   "execution_count": 52,
   "id": "30f4ed7e",
   "metadata": {},
   "outputs": [
    {
     "name": "stdout",
     "output_type": "stream",
     "text": [
      "What is your name? Cameron\n",
      "What is your favorite food? steak\n",
      "Has everyone answered the poll, type (yes/ no). yes\n",
      "---The Poll Is Complete Here Are The Results---\n",
      "Cameron's favorite food is steak.\n"
     ]
    }
   ],
   "source": [
    "# Setting up an empty dictionary \n",
    "responses = {}\n",
    "\n",
    "# Setting up the flag \n",
    "poll_active = True\n",
    "\n",
    "# Setting up the while loop\n",
    "while poll_active:\n",
    "    \n",
    "# Setting up the questions \n",
    "    name = input(\"What is your name? \")\n",
    "    response = input(\"What is your favorite food? \")\n",
    "\n",
    "# Adding the name and response to dictionary \n",
    "# Remeber its dictionary[key] = value\n",
    "    responses[name] = response \n",
    "\n",
    "# Asking if the poll is finished or not\n",
    "    end_poll = input(\"Has everyone answered the poll, type (yes/ no). \")\n",
    "    if end_poll == 'yes':\n",
    "        poll_active = False\n",
    "    else:\n",
    "        continue\n",
    "\n",
    "# Printing the poll results \n",
    "print(\"\\n---The Poll Is Complete Here Are The Results---\")\n",
    "# Using a for loop to run through the key and values of the dictionary (remeber to use items())\n",
    "for name, response in responses.items():\n",
    "    print(f\"{name.title()}'s favorite food is {response}.\")\n"
   ]
  },
  {
   "cell_type": "markdown",
   "id": "55c022f1",
   "metadata": {},
   "source": [
    "## Tasks"
   ]
  },
  {
   "cell_type": "code",
   "execution_count": 20,
   "id": "685260bf",
   "metadata": {},
   "outputs": [
    {
     "name": "stdout",
     "output_type": "stream",
     "text": [
      "I am making your ham and cheese, it will be complete soon.\n",
      "I am making your steak, it will be complete soon.\n",
      "I am making your ham and cheese, it will be complete soon.\n",
      "\n",
      "--- ALL ORDERS ARE FINISHED ---\n",
      "The orders are complete, please collect your ham and cheese sandwhich\n",
      "The orders are complete, please collect your steak sandwhich\n",
      "The orders are complete, please collect your ham and cheese sandwhich\n"
     ]
    }
   ],
   "source": [
    "ordered_sandwhiches = ['ham and cheese', 'steak', 'veggie',]\n",
    "completed_orders = []\n",
    "\n",
    "while ordered_sandwhiches:\n",
    "    for sandwhich in ordered_sandwhiches:\n",
    "        ordered_sandwhiches.pop()\n",
    "        completed_orders.append(sandwhich)\n",
    "        print(f\"I am making your {sandwhich}, it will be complete soon.\")\n",
    "\n",
    "print(\"\\n--- ALL ORDERS ARE FINISHED ---\")\n",
    "\n",
    "for sandwhich in completed_orders:\n",
    "    print(f\"The orders are complete, please collect your {sandwhich} sandwhich\")\n",
    "\n",
    "\n",
    "\n",
    "\n",
    "\n"
   ]
  },
  {
   "cell_type": "markdown",
   "id": "dfcc27a2",
   "metadata": {},
   "source": [
    "> Here we are making a deli order for sandwhiches, first we set the list of ordered sandwhiches and we create a list of completed orders (its empty). Then we use a while loop to loop through the ordered list until its empty, we pop the sandwhich, append it to completed ordered and print that we are making the order. Next we then make a defining message outside of the loop and then run through the complete sandwhich list asking customers to come and collect their sandwhiches"
   ]
  },
  {
   "cell_type": "code",
   "execution_count": 24,
   "id": "ee149b71",
   "metadata": {},
   "outputs": [
    {
     "name": "stdout",
     "output_type": "stream",
     "text": [
      "We are out of pastrami, sorry!!!\n",
      "I am making your ham and cheese, it will be complete soon.\n",
      "I am making your steak, it will be complete soon.\n",
      "I am making your ham and cheese, it will be complete soon.\n",
      "\n",
      "--- ALL ORDERS ARE FINISHED ---\n",
      "The orders are complete, please collect your ham and cheese sandwhich\n",
      "The orders are complete, please collect your steak sandwhich\n",
      "The orders are complete, please collect your ham and cheese sandwhich\n"
     ]
    }
   ],
   "source": [
    "ordered_sandwhiches = ['ham and cheese', 'pastrami', 'steak', 'pastrami', 'veggie', 'pastrami']\n",
    "completed_orders = []\n",
    "\n",
    "print(\"We are out of pastrami, sorry!!!\")\n",
    "\n",
    "# Removing all the pastrami from the list of orders\n",
    "while 'pastrami' in ordered_sandwhiches:\n",
    "    ordered_sandwhiches.remove('pastrami')\n",
    "\n",
    "# Back to normal (same code as above)\n",
    "while ordered_sandwhiches:\n",
    "    for sandwhich in ordered_sandwhiches:\n",
    "        ordered_sandwhiches.pop()\n",
    "        completed_orders.append(sandwhich)\n",
    "        print(f\"I am making your {sandwhich}, it will be complete soon.\")\n",
    "\n",
    "print(\"\\n--- ALL ORDERS ARE FINISHED ---\")\n",
    "\n",
    "for sandwhich in completed_orders:\n",
    "    print(f\"The orders are complete, please collect your {sandwhich} sandwhich\")\n"
   ]
  },
  {
   "cell_type": "markdown",
   "id": "c0236dd7",
   "metadata": {},
   "source": [
    "> Same code as above but this time, people have ordered pastrami but we have run out. So we have to use another while loop to remove all the pastrami from the list of ordered sandwhiches"
   ]
  },
  {
   "cell_type": "code",
   "execution_count": 26,
   "id": "e6320824",
   "metadata": {
    "scrolled": true
   },
   "outputs": [
    {
     "name": "stdout",
     "output_type": "stream",
     "text": [
      "What is your name? Cameron\n",
      "What is your dream vacation? going to America with Marla!\n",
      "\n",
      "Do you want to quit?\n",
      "If you want to quit, type yes, if there are more people that need to answer type noyes\n",
      "\n",
      "Cameron's ideal vacation is going to America with Marla!\n"
     ]
    }
   ],
   "source": [
    "# Setting up dictionary\n",
    "dream_vacation = {}\n",
    "\n",
    "# Setting the flag\n",
    "flag = True\n",
    "\n",
    "# While loop to run through the questions\n",
    "while flag == True:\n",
    "# Setting up the questions \n",
    "    name = input(\"What is your name? \")\n",
    "    response = input(\"What is your dream vacation? \")\n",
    "\n",
    "# Add the keys and variables to the dictionary\n",
    "# remeber its dictionary[key] = value\n",
    "    dream_vacation[name] = response\n",
    "    \n",
    "# Asking if the user wants to keep polling\n",
    "    print(\"\\nDo you want to quit?\")\n",
    "    quit = input(\"If you want to quit, type yes, if there are more people that need to answer type no\")\n",
    "    \n",
    "    if quit == 'yes':\n",
    "        flag = False\n",
    "\n",
    "# Take the data from the dictionary and print it all out using a for loop\n",
    "# Remeber items()\n",
    "for name, response in dream_vacation.items():\n",
    "    print(f\"\\n{name}'s ideal vacation is {response}\")"
   ]
  },
  {
   "cell_type": "markdown",
   "id": "56c45415",
   "metadata": {},
   "source": [
    "## Summary"
   ]
  },
  {
   "cell_type": "markdown",
   "id": "1a19f94b",
   "metadata": {},
   "source": [
    "- In this chapter I have learned to use input() function, as well as learning how to use while loops in conjuction wiht many things such as lists and dictionaries.\n",
    "\n",
    "- I have also refreshed on how to use pop() and adding for loops and f strings to run through lists and dictionaries and print them off without having all the brackets and stuff.\n",
    "\n",
    "- We also learned how to use break, continue and flags\n",
    "\n",
    "- Remember to use items() with going through a dictionary and stating the two variables when printing both."
   ]
  },
  {
   "cell_type": "markdown",
   "id": "353e325f",
   "metadata": {},
   "source": [
    "We are now going to use functions, these allow us to break our code into smaller parts each of which does one specific job, we can call a function as many times as we want and we can store functions in seperate files. By using functions we will be able to write efficient code thats easier to troubleshoot and maintain as well as being reused in several programs."
   ]
  },
  {
   "cell_type": "markdown",
   "id": "a883111e",
   "metadata": {},
   "source": [
    "# Chapter 8 Functions\n",
    "\n",
    "In this chapter I am going to use 'functions', this is a name for a block of code that are desinged for one specific job. When we want the code to do a specific job we \"call\" the function. When we want to perform the task multiple times we don't need to type it over and over again, we just keep calling the function. The book says I will find that using functions will help me write, read, test and fix our code.\n",
    "\n",
    "We will learn to design functions that are made to process data, return a value or a set of values as well as display information. Finally we will learn to store functions in seperate files called \"modules\" to organise our main programs\n",
    "\n",
    "Here is a simple function to get to grips with.\n",
    "\n",
    "This chapter will be a long chapter, I need to really understand this so I will be typing a lot of explaination even if its easy to understand."
   ]
  },
  {
   "cell_type": "code",
   "execution_count": 1,
   "id": "ba9f9659",
   "metadata": {},
   "outputs": [
    {
     "name": "stdout",
     "output_type": "stream",
     "text": [
      "Hello\n"
     ]
    }
   ],
   "source": [
    "def greet_user():\n",
    "    '''Display a simple greeting'''\n",
    "    print(\"Hello\")\n",
    "\n",
    "greet_user()"
   ]
  },
  {
   "cell_type": "markdown",
   "id": "c5a28cc6",
   "metadata": {},
   "source": [
    "> First we define the function using the \"def\" keyword to inform python that I am defining a function this is called the \"function definition\" that tells python the name of the function and what kind of information the function needs to do its job this is what the parentheses () are for, we store all the information the function needs to do its job in here. In the example above then function doesn't need any information to do its job so we leave it empty, remeber that the definition ends in the colon :\n",
    "\n",
    "> The indented line inside of the function definition make up the 'body' of the function. The triple ''' ''' are called docstring, this describes the job of the function \n",
    "\n",
    "> The line print(hello) is the only line of actual code, showing that the function only has one job, to print the message hello.\n",
    "\n",
    "> When we call the function using a \"function call\" we use the name of the function with brackets that contain the information needed for the function to do its job. Since there is no information needed for the function to do it's job, there is no need to add anything into the paraemphasis ()."
   ]
  },
  {
   "cell_type": "markdown",
   "id": "23c2cbdf",
   "metadata": {},
   "source": [
    "### Passing Information To A Function\n"
   ]
  },
  {
   "cell_type": "code",
   "execution_count": 32,
   "id": "67463595",
   "metadata": {},
   "outputs": [
    {
     "name": "stdout",
     "output_type": "stream",
     "text": [
      "Hello Cameron, welcome back.\n"
     ]
    }
   ],
   "source": [
    "# Setting up the function using the function definition greet_user\n",
    "# Providing the function with the information it needs to run\n",
    "def greet_user(username):\n",
    "#   Setting up the docstring \n",
    "    '''Display a more personalised message'''\n",
    "#   Writing the actual code that runs when we call the function (we use username in the f string)\n",
    "    print(f\"Hello {username.title()}, welcome back.\")\n",
    "\n",
    "# Calling the function, giving the function the username 'camwheeler135' for it to be used in the function\n",
    "greet_user('cameron')"
   ]
  },
  {
   "cell_type": "code",
   "execution_count": 33,
   "id": "8fd19525",
   "metadata": {},
   "outputs": [
    {
     "ename": "TypeError",
     "evalue": "greet_user() missing 1 required positional argument: 'username'",
     "output_type": "error",
     "traceback": [
      "\u001b[0;31m---------------------------------------------------------------------------\u001b[0m",
      "\u001b[0;31mTypeError\u001b[0m                                 Traceback (most recent call last)",
      "Input \u001b[0;32mIn [33]\u001b[0m, in \u001b[0;36m<cell line: 10>\u001b[0;34m()\u001b[0m\n\u001b[1;32m      7\u001b[0m     \u001b[38;5;28mprint\u001b[39m(\u001b[38;5;124mf\u001b[39m\u001b[38;5;124m\"\u001b[39m\u001b[38;5;124mHello \u001b[39m\u001b[38;5;132;01m{\u001b[39;00musername\u001b[38;5;241m.\u001b[39mtitle()\u001b[38;5;132;01m}\u001b[39;00m\u001b[38;5;124m, welcome back.\u001b[39m\u001b[38;5;124m\"\u001b[39m)\n\u001b[1;32m      9\u001b[0m \u001b[38;5;66;03m# Calling the function, giving the function the username 'camwheeler135' for it to be used in the function\u001b[39;00m\n\u001b[0;32m---> 10\u001b[0m \u001b[43mgreet_user\u001b[49m\u001b[43m(\u001b[49m\u001b[43m)\u001b[49m\n",
      "\u001b[0;31mTypeError\u001b[0m: greet_user() missing 1 required positional argument: 'username'"
     ]
    }
   ],
   "source": [
    "# Setting up the function using the function definition greet_user\n",
    "# Providing the function with the information it needs to run\n",
    "def greet_user(username):\n",
    "#   Setting up the docstring \n",
    "    '''Display a more personalised message'''\n",
    "#   Writing the actual code that runs when we call the function (we use username in the f string)\n",
    "    print(f\"Hello {username.title()}, welcome back.\")\n",
    "\n",
    "# Calling the function, giving the function the username 'camwheeler135' for it to be used in the function\n",
    "greet_user()"
   ]
  },
  {
   "cell_type": "markdown",
   "id": "89ba0046",
   "metadata": {},
   "source": [
    "### Arguments and Parameters \n",
    "\n",
    "In the function greet_user() we defined greet_user() to require a value for the variable 'username'. Once we called the function and gave it the information needed (the persons username) it printied the right greeting. When we remove the information needd we get a TypeError saying that the call is missing 1 required positional agrument for the variable 'username'.\n",
    "\n",
    "The variable 'username' in the definition of the greet_user() function is called a \"PARAMETER\", this is a piece of information that the function needs to do its job. \n",
    "\n",
    "The value 'cameron' in the call greet_user('cameron') is called an \"ARGUMENT\". An argument is a piece of informatiom that's passed from a functional call TO the function. So it goes from the call into the function so the function can do its job.\n",
    "\n",
    "When we call the function, we place the value we want the function to work with INSIDE of the parentheses. In this case the ARGUMENT 'cameron' is PASSED to the FUNCTION greet_user and is ASSINGED to the PARAMETER 'username'\n",
    "\n",
    "Note that the two are often spoken about interchangably, so don't be confused if they are back to front. But when we are going through it the parameter is placed inside of the definition of the function and the arguments are placed in the calling of the function. "
   ]
  },
  {
   "cell_type": "markdown",
   "id": "03abf06b",
   "metadata": {},
   "source": [
    "## Tasks"
   ]
  },
  {
   "cell_type": "code",
   "execution_count": 37,
   "id": "3e52c94f",
   "metadata": {},
   "outputs": [
    {
     "name": "stdout",
     "output_type": "stream",
     "text": [
      "Cameron is exploring functions this chapter.\n",
      "The parameter is used in the function, the argument is passed to the parameter to then be used in the function.\n"
     ]
    }
   ],
   "source": [
    "# Setting up the function with the parameter 'name'\n",
    "def display_message(name):\n",
    "# Setting up the docstring\n",
    "    '''Displaying a message on what I am learning'''\n",
    "# Setting up the code that runs when the function is called\n",
    "    print(f\"{name.title()} is exploring functions this chapter.\")\n",
    "    print(\"The parameter is used in the function, the argument is passed to the parameter to then be used in the function.\")\n",
    "\n",
    "# Calling the function with the argument 'cameron'\n",
    "# This argument is passed to the parameter name in the function and the function uses it to do it's job\n",
    "display_message('cameron')\n",
    "    "
   ]
  },
  {
   "cell_type": "code",
   "execution_count": 40,
   "id": "0bd82f9b",
   "metadata": {},
   "outputs": [
    {
     "name": "stdout",
     "output_type": "stream",
     "text": [
      "My favourite book is called Alice In Wonderland.\n"
     ]
    }
   ],
   "source": [
    "# Setting up the function with the variable 'title'\n",
    "def favorite_book(title):\n",
    "# Setting up the code that runs when the function is called.\n",
    "    print(f\"My favourite book is called {title.title()}.\")\n",
    "\n",
    "# Calling the function favorite_book with the arguement Alice in Wonderland that is passed to the parameter 'title'\n",
    "# Alice is wonderland is then used in the f string inside the function. \n",
    "favorite_book('Alice in wonderland')"
   ]
  },
  {
   "cell_type": "markdown",
   "id": "fc7f4493",
   "metadata": {},
   "source": [
    "### Passing Arguments\n",
    "\n",
    "Because a function can have several parameters, a function call may nee several arguments, we can pass arguments in our functions in a number of ways. We can use 'positional arguments' in which we place the arguments in the same order as they are layed out in the parameters part of the function. Or the keyword-argument where they work like dictionaries (key-value) pairs"
   ]
  },
  {
   "cell_type": "markdown",
   "id": "897bb323",
   "metadata": {},
   "source": [
    "### Positional Arguments"
   ]
  },
  {
   "cell_type": "code",
   "execution_count": 4,
   "id": "a03b2ba3",
   "metadata": {},
   "outputs": [
    {
     "name": "stdout",
     "output_type": "stream",
     "text": [
      "Apple has a large range of products.\n",
      "I have just recently got a macbook that means I can code on the go.\n"
     ]
    }
   ],
   "source": [
    "# Setting up the function with the variables company and product\n",
    "def tech_companies (company_name, product):\n",
    "# Setting up the code that runs when the function is called \n",
    "    '''Display information about the tech company and product'''\n",
    "    print(f\"{company_name.title()} has a large range of products.\")\n",
    "    print(f\"I have just recently got a {product} that means I can code on the go.\")\n",
    "\n",
    "# Setting up the function call\n",
    "# These functions are use in the function with the appropriate parameters and are inserted into the function code\n",
    "tech_companies('apple', 'macbook')"
   ]
  },
  {
   "cell_type": "markdown",
   "id": "dc0fa764",
   "metadata": {},
   "source": [
    "### Multiple Function Calls\n",
    "\n",
    "We can call a function multiple times, to describe another company, we just need to call another tech_companies function"
   ]
  },
  {
   "cell_type": "code",
   "execution_count": 10,
   "id": "1eb7adf5",
   "metadata": {},
   "outputs": [
    {
     "name": "stdout",
     "output_type": "stream",
     "text": [
      "\n",
      "Apple has a large range of products.\n",
      "I have just recently got a macbook that means I can code on the go.\n",
      "\n",
      "Amd has a large range of products.\n",
      "I have just recently got a ryzen 5 that means I can code on the go.\n"
     ]
    }
   ],
   "source": [
    "# Setting up the function with the variables company and product\n",
    "def tech_companies (company_name, product):\n",
    "# Setting up the code that runs when the function is called \n",
    "    '''Display information about the tech company and product'''\n",
    "    print(f\"\\n{company_name.title()} has a large range of products.\")\n",
    "    print(f\"I have just recently got a {product} that means I can code on the go.\")\n",
    "\n",
    "# Setting up the function call\n",
    "# These functions are use in the function with the appropriate parameters and are inserted into the function code\n",
    "# Because this is a function we can use this again and again\n",
    "tech_companies('apple', 'macbook')\n",
    "tech_companies('AMD', 'ryzen 5')"
   ]
  },
  {
   "cell_type": "markdown",
   "id": "742bae86",
   "metadata": {},
   "source": [
    "> We can use as many arguemnts and parameters we want, Python will work through the order an pair them up one by one."
   ]
  },
  {
   "cell_type": "markdown",
   "id": "ebc50fdd",
   "metadata": {},
   "source": [
    "### Order Matters In Positional Arguments\n",
    "\n",
    "We can get unexpected results if we mix up the order of arguments when calling the function when using positional arguments"
   ]
  },
  {
   "cell_type": "code",
   "execution_count": 11,
   "id": "1b8f194a",
   "metadata": {},
   "outputs": [
    {
     "name": "stdout",
     "output_type": "stream",
     "text": [
      "\n",
      "Macbook has a large range of products.\n",
      "I have just recently got a apple that means I can code on the go.\n",
      "\n",
      "Ryzen 5 has a large range of products.\n",
      "I have just recently got a AMD that means I can code on the go.\n"
     ]
    }
   ],
   "source": [
    "# Setting up the function with the variables company and product\n",
    "def tech_companies (company_name, product):\n",
    "# Setting up the code that runs when the function is called \n",
    "    '''Display information about the tech company and product'''\n",
    "    print(f\"\\n{company_name.title()} has a large range of products.\")\n",
    "    print(f\"I have just recently got a {product} that means I can code on the go.\")\n",
    "\n",
    "# Setting up the function call but we are messing up the order \n",
    "tech_companies('macbook', 'apple')\n",
    "tech_companies('ryzen 5', 'AMD')"
   ]
  },
  {
   "cell_type": "markdown",
   "id": "7f2e2740",
   "metadata": {},
   "source": [
    "> As you can see, we have messed up the order of the arguments that are passed onto the WRONG parameters, looking at the output we can see that we have messed up, this shows the importance of the position when using the positional agruments method to functions."
   ]
  },
  {
   "cell_type": "markdown",
   "id": "add3dd1b",
   "metadata": {},
   "source": [
    "### Keyword Arguments\n",
    "\n",
    "A keyword argument is a name-value pair that we pass to a function. This is where we assocaite the name and the value within the argument. So when you pass the argument to the parameter there is no confusion as to what is what, we won't mess up the order because the order doesn't matter."
   ]
  },
  {
   "cell_type": "code",
   "execution_count": 3,
   "id": "611d1c4a",
   "metadata": {},
   "outputs": [
    {
     "name": "stdout",
     "output_type": "stream",
     "text": [
      "\n",
      "Apple has a large range of products.\n",
      "I have just recently got a macbook that means I can code on the go.\n"
     ]
    }
   ],
   "source": [
    "# Setting up the function with the variables company and product\n",
    "def tech_companies (company_name, product):\n",
    "# Setting up the code that runs when the function is called \n",
    "    '''Display information about the tech company and product'''\n",
    "    print(f\"\\n{company_name.title()} has a large range of products.\")\n",
    "    print(f\"I have just recently got a {product} that means I can code on the go.\")\n",
    "\n",
    "# Setting up the function call but we are using the keyword argument method\n",
    "tech_companies(company_name = 'apple', product = 'macbook')"
   ]
  },
  {
   "cell_type": "markdown",
   "id": "b5607442",
   "metadata": {},
   "source": [
    "### Default Values\n",
    "\n",
    "When writing a function we can set the parameters to have default values, that means that we no longer need to pass this into the argument when calling the function as python will already know what argument is passed to the parameter already. For example, if we were to talk specifically about the tech company Apple, we could set the default value of the parameter company_name to apple, as follows."
   ]
  },
  {
   "cell_type": "code",
   "execution_count": 13,
   "id": "0e84d484",
   "metadata": {},
   "outputs": [
    {
     "name": "stdout",
     "output_type": "stream",
     "text": [
      "\n",
      "Apple has a large range of products.\n",
      "I have just recently got a macbook that means I can code on the go.\n"
     ]
    }
   ],
   "source": [
    "# Setting up the function with the variables \n",
    "# Setting the default variable of company_name to 'Apple'\n",
    "# For some reason we have to place the non default variable first otherwise the code doesn't run\n",
    "def tech_companies(product, company_name = 'Apple'):\n",
    "    # Setting up the code that runs when we call the function\n",
    "    '''Display information about the tech company and product'''\n",
    "    print(f\"\\n{company_name.title()} has a large range of products.\")\n",
    "    print(f\"I have just recently got a {product} that means I can code on the go.\")\n",
    "\n",
    "# Calling the function, but because the default value is set for tech_companies we don't need to name it\n",
    "tech_companies(product = 'macbook')"
   ]
  },
  {
   "cell_type": "markdown",
   "id": "fcf567c6",
   "metadata": {},
   "source": [
    "> The reason that we have to place the non default parameter first is that python will still want a arguement for company name if we place product second, but if we place product first, python assumes that the variable goes in there and doesn't demand a second argument"
   ]
  },
  {
   "cell_type": "code",
   "execution_count": 14,
   "id": "825c54aa",
   "metadata": {},
   "outputs": [
    {
     "name": "stdout",
     "output_type": "stream",
     "text": [
      "\n",
      "Apple has a large range of products.\n",
      "I have just recently got a macbook that means I can code on the go.\n"
     ]
    }
   ],
   "source": [
    "# Setting up the function with the variables \n",
    "# Setting the default variable of company_name to 'Apple'\n",
    "# For some reason we have to place the non default variable first otherwise the code doesn't run\n",
    "def tech_companies(product, company_name = 'Apple'):\n",
    "    # Setting up the code that runs when we call the function\n",
    "    '''Display information about the tech company and product'''\n",
    "    print(f\"\\n{company_name.title()} has a large range of products.\")\n",
    "    print(f\"I have just recently got a {product} that means I can code on the go.\")\n",
    "\n",
    "# Calling the function, but because the default value is set for tech_companies we don't need to name it\n",
    "tech_companies('macbook')"
   ]
  },
  {
   "cell_type": "markdown",
   "id": "71bfeef9",
   "metadata": {},
   "source": [
    "> This code works the same, but this time we only place the argument that is passed to product, python knows that macbook is going into product as that comes first, then uses the default value for company name that is 'Apple'"
   ]
  },
  {
   "cell_type": "markdown",
   "id": "3eecf8ce",
   "metadata": {},
   "source": [
    "### Equivalent Function Calls\n",
    "\n",
    "Because all of these styles can be used together there are a lot of ways in which we can call a function, we can use the default values, or if we want more of a dynamic program we can just place the parameters and either use keyword or positional arguments when calling our function. There is no right way to do it, just pick the style that works for us (I think I might use the keyword but still keep the positional order as it will help me learn)"
   ]
  },
  {
   "cell_type": "markdown",
   "id": "dbc91635",
   "metadata": {},
   "source": [
    "### Avoiding Argument Errors\n",
    "\n",
    "When we start using functions, we shouldn't be surprised if we mess up and the function doesn't work or doesn't work the way we want it to. Especially with unmatched arguments, these occur when we provide fewer or more than the amount requried to run the function for example here is what happens when we don't provide python with any arguments to fill out the code above."
   ]
  },
  {
   "cell_type": "code",
   "execution_count": 16,
   "id": "fb3a75bb",
   "metadata": {},
   "outputs": [
    {
     "ename": "TypeError",
     "evalue": "tech_companies() missing 2 required positional arguments: 'company_name' and 'product'",
     "output_type": "error",
     "traceback": [
      "\u001b[0;31m---------------------------------------------------------------------------\u001b[0m",
      "\u001b[0;31mTypeError\u001b[0m                                 Traceback (most recent call last)",
      "Input \u001b[0;32mIn [16]\u001b[0m, in \u001b[0;36m<cell line: 9>\u001b[0;34m()\u001b[0m\n\u001b[1;32m      6\u001b[0m     \u001b[38;5;28mprint\u001b[39m(\u001b[38;5;124mf\u001b[39m\u001b[38;5;124m\"\u001b[39m\u001b[38;5;124mI have just recently got a \u001b[39m\u001b[38;5;132;01m{\u001b[39;00mproduct\u001b[38;5;132;01m}\u001b[39;00m\u001b[38;5;124m that means I can code on the go.\u001b[39m\u001b[38;5;124m\"\u001b[39m)\n\u001b[1;32m      8\u001b[0m \u001b[38;5;66;03m# Calling the function, but not giving it any arguments to work with.\u001b[39;00m\n\u001b[0;32m----> 9\u001b[0m \u001b[43mtech_companies\u001b[49m\u001b[43m(\u001b[49m\u001b[43m)\u001b[49m\n",
      "\u001b[0;31mTypeError\u001b[0m: tech_companies() missing 2 required positional arguments: 'company_name' and 'product'"
     ]
    }
   ],
   "source": [
    "# Setting up the function with the variables \n",
    "def tech_companies(company_name, product):\n",
    "    # Setting up the code that runs when we call the function\n",
    "    '''Display information about the tech company and product'''\n",
    "    print(f\"\\n{company_name.title()} has a large range of products.\")\n",
    "    print(f\"I have just recently got a {product} that means I can code on the go.\")\n",
    "\n",
    "# Calling the function, but not giving it any arguments to work with.\n",
    "tech_companies()"
   ]
  },
  {
   "cell_type": "markdown",
   "id": "cd3e310e",
   "metadata": {},
   "source": [
    "> Python sees that we don't have enough information for the function to work so we get a TypeError, saying that we are missing 2 required arguments for company_name and product. This is helpful as if the function was in another file, we wouldn't need to open the file to check what we need as python tells us what we need to correct."
   ]
  },
  {
   "cell_type": "markdown",
   "id": "d04547a7",
   "metadata": {},
   "source": [
    "## Tasks"
   ]
  },
  {
   "cell_type": "code",
   "execution_count": 24,
   "id": "1cb8c17c",
   "metadata": {},
   "outputs": [
    {
     "name": "stdout",
     "output_type": "stream",
     "text": [
      "\n",
      "Your t-shirt size is large.\n",
      "Your custom message that will be printed on your shirt is 'I am learning to code!'\n",
      "\n",
      "Your t-shirt size is small.\n",
      "Your custom message that will be printed on your shirt is 'I am still learning to code, but on a small t shirt this time'\n"
     ]
    }
   ],
   "source": [
    "# Setting up the function t_shirt with the parameters\n",
    "def t_shirt(size, message):\n",
    "#     Docstring for the function\n",
    "    '''Making the T shirt with the size and custom message'''\n",
    "#     Code that runs when the function is called\n",
    "    print(f\"\\nYour t-shirt size is {size}.\")\n",
    "    print(f\"Your custom message that will be printed on your shirt is '{message}'\")\n",
    "    \n",
    "\n",
    "# Calling the function using the keyword argument method \n",
    "t_shirt(size = 'large', message = 'I am learning to code!')\n",
    "t_shirt(size = 'small', message = 'I am still learning to code, but on a small t shirt this time')"
   ]
  },
  {
   "cell_type": "code",
   "execution_count": 4,
   "id": "02316ec8",
   "metadata": {},
   "outputs": [
    {
     "name": "stdout",
     "output_type": "stream",
     "text": [
      "You have orderd a large shirt, with the message 'This is my shirt'.\n",
      "You have orderd a small shirt, with the message 'This is Marlas shirt'.\n"
     ]
    }
   ],
   "source": [
    "# Setting up the function with the parameters\n",
    "def make_shirt(size, message):\n",
    "    '''Makes shirt with desired message'''\n",
    "    print(f\"You have orderd a {size} shirt, with the message '{message}'.\")\n",
    "\n",
    "# Calling the function \n",
    "make_shirt(\"large\", 'This is my shirt')\n",
    "make_shirt('small', 'This is Marlas shirt')"
   ]
  },
  {
   "cell_type": "code",
   "execution_count": 26,
   "id": "c3a109d1",
   "metadata": {
    "scrolled": true
   },
   "outputs": [
    {
     "name": "stdout",
     "output_type": "stream",
     "text": [
      "\n",
      "Your t-shirt size is large.\n",
      "Your custom message that will be printed on your shirt is 'I am learning to code!'\n",
      "\n",
      "Your t-shirt size is large.\n",
      "Your custom message that will be printed on your shirt is 'I am still learning to code, but on a large t shirt this time as its the only size this company sells'\n"
     ]
    }
   ],
   "source": [
    "# Setting up the function t_shirt with the parameters\n",
    "# This time we are making the default value size = large as we only sell large t shirts\n",
    "# Remeber we have to switch the order around becuase python won't understand\n",
    "def t_shirt(message, size = 'large'):\n",
    "#     Docstring for the function\n",
    "    '''Making the T shirt with the size and custom message'''\n",
    "#     Code that runs when the function is called\n",
    "    print(f\"\\nYour t-shirt size is {size}.\")\n",
    "    print(f\"Your custom message that will be printed on your shirt is '{message}'\")\n",
    "    \n",
    "\n",
    "# Calling the function using the keyword argument method \n",
    "t_shirt(message = 'I am learning to code!')\n",
    "t_shirt(message = 'I am still learning to code, but on a large t shirt this time as its the only size this company sells')"
   ]
  },
  {
   "cell_type": "code",
   "execution_count": 12,
   "id": "7f6718dd",
   "metadata": {},
   "outputs": [
    {
     "name": "stdout",
     "output_type": "stream",
     "text": [
      "You have ordered a large shirt with the message 'I love python'.\n",
      "You have ordered a small shirt with the message 'I love python'.\n",
      "You have ordered a small shirt with the message 'I love this shirt'.\n"
     ]
    }
   ],
   "source": [
    "# Setting up the function with the parameters setting it up like Mattia does\n",
    "def make_shirt(size:str = 'large', message:str = 'I love python'):\n",
    "    '''Making a shirt with default messages'''\n",
    "# Code that runs when we call the function\n",
    "    print(f\"You have ordered a {size} shirt with the message '{message}'.\")\n",
    "\n",
    "# Calling the function (no variables as we have set default values)\n",
    "make_shirt()\n",
    "# Calling the function overriding the default size\n",
    "make_shirt(size = 'small')\n",
    "# Calling the function overriding both the size and the message\n",
    "make_shirt(size = 'small', message = 'I love this shirt')"
   ]
  },
  {
   "cell_type": "code",
   "execution_count": 14,
   "id": "1f49eaa9",
   "metadata": {},
   "outputs": [
    {
     "name": "stdout",
     "output_type": "stream",
     "text": [
      "Bath is located in England.\n",
      "London is located in England.\n",
      "Edinburgh is located in Scotland.\n"
     ]
    }
   ],
   "source": [
    "# Setting up a function with the parameters\n",
    "def describe_city(name, country_origin = 'England'):\n",
    "    '''Building name of city and country of origin message'''\n",
    "    print(f\"{name.title()} is located in {country_origin.title()}.\")\n",
    "\n",
    "# Calling the function using the keyword argument method\n",
    "describe_city(name = 'Bath')\n",
    "describe_city(name = 'London')\n",
    "# We can override the default value!!!\n",
    "describe_city(name = 'Edinburgh', country_origin = 'Scotland')"
   ]
  },
  {
   "cell_type": "code",
   "execution_count": 18,
   "id": "20a05cdb",
   "metadata": {},
   "outputs": [
    {
     "name": "stdout",
     "output_type": "stream",
     "text": [
      "Bath, is located in England.\n",
      "London, is located in England.\n",
      "Rome, is located in Italy.\n"
     ]
    }
   ],
   "source": [
    "# Setting up the function with the parameters\n",
    "def describe_city(city, country:str = 'England'):\n",
    "    '''Prints the city and the country where that city is'''\n",
    "    print(f\"{city.title()}, is located in {country.title()}.\")\n",
    "\n",
    "# Calling the function with the city, no need for country as its in England\n",
    "describe_city(city = 'Bath')\n",
    "describe_city(city = 'London')\n",
    "# Calling the function and overriding the default value\n",
    "describe_city(city = \"Rome\", country = 'Italy')"
   ]
  },
  {
   "cell_type": "markdown",
   "id": "0f1cd064",
   "metadata": {},
   "source": [
    "> Note the default value can be overwritten by just assinging the parameter with a new argument when calling the function."
   ]
  },
  {
   "cell_type": "markdown",
   "id": "29cb3224",
   "metadata": {},
   "source": [
    "## Return Values\n",
    "\n",
    "The function that we make doesn't always have to display its output directly, instead it can proces some data and then 'return' a value or a set of values. The value that the function we have coded returns is called a \"RETURN VALUE\". The 'return' statement takes a vlue from inside a function and sends it back to the line that called the function. \n",
    "\n",
    "Return values allow us to move much of our programs grunt work into functions to try and simplify the body of our program. Lets give it a go."
   ]
  },
  {
   "cell_type": "code",
   "execution_count": 1,
   "id": "4fffa0d5",
   "metadata": {},
   "outputs": [
    {
     "name": "stdout",
     "output_type": "stream",
     "text": [
      "Cameron Wheeler\n"
     ]
    }
   ],
   "source": [
    "# Setting up the function with the parameters first and last name\n",
    "def get_formatted_name(first_name, last_name):\n",
    "# Docstring of what the function does\n",
    "    '''Function returns a full name thats neatly formatted'''\n",
    "# Code that runs when the function is called\n",
    "# Variable full name is made from the two parameters together\n",
    "    full_name = f\"{first_name} {last_name}\"\n",
    "# We return full name variable with title method()\n",
    "    return full_name.title()\n",
    "\n",
    "# Outside of the function we are defining the varible person as the function with two arguments\n",
    "person = get_formatted_name('cameron', 'wheeler')\n",
    "\n",
    "# Then we print the variable 'person' that = the function get formatted name with the arguments cameron and wheeler\n",
    "print(person)"
   ]
  },
  {
   "cell_type": "markdown",
   "id": "2f50d775",
   "metadata": {},
   "source": [
    "> The definition of get_formatted_name() takes the parameters first and last name. The function then combines these two names and attaches them to the variable full name. The varibale full name is returned and returned to the calling line person = get formatted name (cameron, wheeler), where it is assinged to the variable person. We then print the variable person which = Cameron Wheeler. "
   ]
  },
  {
   "cell_type": "markdown",
   "id": "f7cebcd2",
   "metadata": {},
   "source": [
    "Again this is tough, going to try it again to make sure I understand "
   ]
  },
  {
   "cell_type": "code",
   "execution_count": 2,
   "id": "3381bf34",
   "metadata": {},
   "outputs": [
    {
     "name": "stdout",
     "output_type": "stream",
     "text": [
      "Kanye West\n"
     ]
    }
   ],
   "source": [
    "# Setting up the function with the parameters \n",
    "def get_formatted_name(first_name, last_name):\n",
    "# Docstring of the function\n",
    "    '''Neatly forms the full name of a person'''\n",
    "# Code that runs when the function is called\n",
    "    full_name = f'{first_name} {last_name}'\n",
    "# returns full name to the calling line\n",
    "    return full_name.title()\n",
    "\n",
    "# Returned value assinged to famous_person\n",
    "famous_person = get_formatted_name('kanye', 'west')\n",
    "\n",
    "# Print person \n",
    "print(famous_person) "
   ]
  },
  {
   "cell_type": "markdown",
   "id": "e17dd579",
   "metadata": {},
   "source": [
    "One more time "
   ]
  },
  {
   "cell_type": "code",
   "execution_count": 6,
   "id": "71134a3a",
   "metadata": {},
   "outputs": [
    {
     "name": "stdout",
     "output_type": "stream",
     "text": [
      "Cameron Wheeler.\n",
      "Lynda Wheeler.\n"
     ]
    }
   ],
   "source": [
    "# Setting up the function with the parameters\n",
    "def get_formatted_name(first_name, last_name:str = \"Wheeler\"):\n",
    "    '''Combines the names to make full name'''\n",
    "# Code that runs when the function is called\n",
    "    full_name = f\"{first_name} {last_name}.\"\n",
    "    return full_name.title()\n",
    "\n",
    "# Assinging the returned value to the variable get_name\n",
    "get_name = get_formatted_name(first_name = 'cameron')\n",
    "# Print get name\n",
    "print(get_name)\n",
    "# Trying again to see if this works\n",
    "get_name = get_formatted_name(first_name = 'Lynda')\n",
    "print(get_name)"
   ]
  },
  {
   "cell_type": "markdown",
   "id": "f4188580",
   "metadata": {},
   "source": [
    "Trying with numbers"
   ]
  },
  {
   "cell_type": "code",
   "execution_count": 8,
   "id": "44602059",
   "metadata": {},
   "outputs": [
    {
     "name": "stdout",
     "output_type": "stream",
     "text": [
      "22\n"
     ]
    }
   ],
   "source": [
    "# Setting up a function with the parameters x and y\n",
    "def calculation(x, y):\n",
    "    '''Does the calculation x * y + y'''\n",
    "# Setting up the code that runs when the fuction is called\n",
    "    answers = x * y + y\n",
    "    return answers\n",
    "\n",
    "# Returns answer back to calling line, assinged to variable answer\n",
    "answer = calculation(10, 2)\n",
    "# Print the variable answer\n",
    "print(answer)"
   ]
  },
  {
   "cell_type": "markdown",
   "id": "52dfff02",
   "metadata": {},
   "source": [
    "### Making An Argument Optional\n",
    "\n",
    "Sometimes we can ask the user for extra information but it's not essential that they provide it, so we can make the argument optional using default values and leaving the default value empty. See below."
   ]
  },
  {
   "cell_type": "code",
   "execution_count": 2,
   "id": "9fcc9c6d",
   "metadata": {},
   "outputs": [
    {
     "name": "stdout",
     "output_type": "stream",
     "text": [
      "Cameron Albert Wheeler\n"
     ]
    }
   ],
   "source": [
    "# Setting up the definition\n",
    "def get_formatted_names(first_name, last_name, middle_name = ''):\n",
    "    '''Returns the full name neatly formatted'''\n",
    "# If middle name is used, i.e. not empty \n",
    "    if middle_name:\n",
    "        full_name = f\"{first_name} {middle_name} {last_name}\"\n",
    "    else:\n",
    "        full_name = f\"{first_name} {last_name}\"\n",
    "    return full_name.title()\n",
    "\n",
    "get_name = get_formatted_names(first_name = 'cameron', last_name = 'wheeler', middle_name = 'albert')\n",
    "print(get_name)"
   ]
  },
  {
   "cell_type": "markdown",
   "id": "709d9d00",
   "metadata": {},
   "source": [
    "> However look what happens when we remove the middle name, for example if the person didn't have one"
   ]
  },
  {
   "cell_type": "code",
   "execution_count": 4,
   "id": "1784fe00",
   "metadata": {},
   "outputs": [
    {
     "name": "stdout",
     "output_type": "stream",
     "text": [
      "Cameron Wheeler\n"
     ]
    }
   ],
   "source": [
    "# Setting up the definition\n",
    "def get_formatted_names(first_name, last_name, middle_name = ''):\n",
    "    '''Returns the full name neatly formatted'''\n",
    "# If middle name is used, i.e. not empty \n",
    "    if middle_name:\n",
    "        full_name = f\"{first_name} {middle_name} {last_name}\"\n",
    "    else:\n",
    "        full_name = f\"{first_name} {last_name}\"\n",
    "    return full_name.title()\n",
    "\n",
    "# Callig get formatted name and assigning that to the variable get_name\n",
    "get_name = get_formatted_names(first_name = 'cameron', last_name = 'wheeler')\n",
    "print(get_name)"
   ]
  },
  {
   "cell_type": "markdown",
   "id": "e73c9c1b",
   "metadata": {},
   "source": [
    "> Optional arguements allows us to give the user the option to provide more information without it needed to be essential to make the code run."
   ]
  },
  {
   "cell_type": "markdown",
   "id": "c4e99a8a",
   "metadata": {},
   "source": [
    "### Returning A Dictionary\n",
    "\n",
    "A function can return any kind of value we need, for example we can return a dictionary of the first name and last name of a person."
   ]
  },
  {
   "cell_type": "code",
   "execution_count": 2,
   "id": "6c81c1be",
   "metadata": {},
   "outputs": [
    {
     "name": "stdout",
     "output_type": "stream",
     "text": [
      "{'first': 'cameron', 'last': 'wheeler'}\n"
     ]
    }
   ],
   "source": [
    "# Setting up the function with the parameters first and last name\n",
    "def build_person(first_name, last_name):\n",
    "    '''Returning a dictionary of the persons first and last name'''\n",
    "    person = {'first' : first_name, 'last' : last_name}\n",
    "# Can't be title as its a dictionary\n",
    "    return person\n",
    "\n",
    "# Person is returned to the call line, and is assigned to the variable make person\n",
    "make_person = build_person(first_name = 'cameron', last_name = 'wheeler')\n",
    "# Printing make person which is person which is the dictionary of the arguemnts we passed in the call\n",
    "print(make_person)"
   ]
  },
  {
   "cell_type": "markdown",
   "id": "6ecdefc7",
   "metadata": {},
   "source": [
    "Doing it again, but with different parameters"
   ]
  },
  {
   "cell_type": "code",
   "execution_count": 7,
   "id": "282b5656",
   "metadata": {},
   "outputs": [
    {
     "name": "stdout",
     "output_type": "stream",
     "text": [
      "{'name': 'Apple', 'CEO': 'Tim Cook'}\n"
     ]
    }
   ],
   "source": [
    "# Setting up the function with paramaters\n",
    "def tech_comp(comp_name, ceo):\n",
    "    '''Returns a dictionary of the company name and the ceo'''\n",
    "#   Assinging the key value pairs, name : comp name and CEO : ceo \n",
    "    tech_info = {'name' : comp_name, 'CEO' : ceo}\n",
    "#   Returning the value\n",
    "    return tech_info\n",
    "\n",
    "# We are returing the information from the return line to the calling line and assinging it to display\n",
    "display = tech_comp(comp_name = 'Apple', ceo = 'Tim Cook')\n",
    "# Printing display \n",
    "print(display)"
   ]
  },
  {
   "cell_type": "markdown",
   "id": "62f64c4c",
   "metadata": {},
   "source": [
    "> The function build person takes the parameters and places them into the dictionary, we assigned key:value pairs of first : first_name and last : last_name. We return the entire dictionary (assinged to the variable person) to the calling line where the calling is assinged to make person. so we are assinging the varible person the the varible make_person. We then print the variable make_person\n",
    "\n",
    "> Don't think of this as a way to show the user data, think of this function as a way of storing data our side, we can ask the user for their name, then store it in a dictionary so we can keep a list of who is using our website or playing our game.\n",
    "\n",
    "> We can easily extend this function to add the persons age to the list if they provide it to us using a default value."
   ]
  },
  {
   "cell_type": "code",
   "execution_count": 16,
   "id": "7215e0e3",
   "metadata": {},
   "outputs": [
    {
     "name": "stdout",
     "output_type": "stream",
     "text": [
      "{'first': 'cameron', 'last': 'wheeler', 'age': 22}\n"
     ]
    }
   ],
   "source": [
    "# Setting up the function with the parameters first and last name\n",
    "def build_person(first_name, last_name, age = None):\n",
    "    '''Returning a dictionary of the persons first and last name'''\n",
    "#   If we are given an age, loop through this\n",
    "    if age:\n",
    "        person = {'first' : first_name, 'last' : last_name, 'age' : age}\n",
    "    else: \n",
    "        person = {'first' : first_name, 'last' : last_name}\n",
    "# Can't be title as its a dictionary\n",
    "    return person\n",
    "\n",
    "# Person is returned to the call line, and is assigned to the variable make person\n",
    "make_person = build_person(first_name = 'cameron', last_name = 'wheeler', age = 22)\n",
    "# Printing make person which is person which is the dictionary of the arguemnts we passed in the call\n",
    "print(make_person)"
   ]
  },
  {
   "cell_type": "markdown",
   "id": "d1e96c4b",
   "metadata": {},
   "source": [
    "> Another way to do it would be to add the key:value to the dictionary"
   ]
  },
  {
   "cell_type": "code",
   "execution_count": 14,
   "id": "bdb4a9d8",
   "metadata": {},
   "outputs": [
    {
     "name": "stdout",
     "output_type": "stream",
     "text": [
      "{'first': 'cameron', 'last': 'wheeler', 'age': 22}\n"
     ]
    }
   ],
   "source": [
    "# Setting up the function with the parameters first and last name\n",
    "def build_person(first_name, last_name, age = None):\n",
    "    '''Returning a dictionary of the persons first and last name'''\n",
    "    person = {'first' : first_name, 'last' : last_name}\n",
    "\n",
    "# Adding the new key:value pair, remeber its dictionary[key] = value# Adding the new key:value pair, remeber its dictionary[key] = value\n",
    "    if age:\n",
    "        person['age'] = age\n",
    "# Can't be title as its a dictionary\n",
    "    return person\n",
    "\n",
    "# Person is returned to the call line, and is assigned to the variable make person\n",
    "make_person = build_person(first_name = 'cameron', last_name = 'wheeler', age = 22)\n",
    "# Printing make person which is person which is the dictionary of the arguemnts we passed in the call\n",
    "print(make_person)"
   ]
  },
  {
   "cell_type": "code",
   "execution_count": 3,
   "id": "03c77898",
   "metadata": {},
   "outputs": [
    {
     "name": "stdout",
     "output_type": "stream",
     "text": [
      "30\n"
     ]
    }
   ],
   "source": [
    "# Setting up function with variables x and y \n",
    "# Setting the default values like mattia does\n",
    "def test(x:int=10, y:int=20):\n",
    "    '''trying to see that the colons do in mattia code'''\n",
    "# code that runs when we call the function\n",
    "    answers = x + y\n",
    "    return answers\n",
    "\n",
    "answer = test()\n",
    "print(answer)"
   ]
  },
  {
   "cell_type": "markdown",
   "id": "65697497",
   "metadata": {},
   "source": [
    "> We add the optional parameter age to the function build_person and assign the parameter the value \"None\" this is used when a value has nothing assinged to it, think of None as a placeholder value. In conditional tests, None = False, so the code won't run if we use a if statement.\n",
    "\n",
    "> We can modifiy this function to store any bit of information we want about a person"
   ]
  },
  {
   "cell_type": "markdown",
   "id": "7131f6a3",
   "metadata": {},
   "source": [
    "### Using A Function With A While Loop\n",
    "\n",
    "You can use functions with everything we have learned to far. For example we can use the get_formatted_name function and a while loop to give users a formal greeting, see below.\n"
   ]
  },
  {
   "cell_type": "code",
   "execution_count": 6,
   "id": "7da08e18",
   "metadata": {},
   "outputs": [
    {
     "name": "stdout",
     "output_type": "stream",
     "text": [
      "\n",
      "Please tell me your name:\n",
      "\n",
      "Enter quit into the first name bar to quit\n",
      "What is your first name? Cameron\n",
      "What is your last name?Wheeler\n",
      "Hello Cameron Wheeler..\n",
      "\n",
      "Please tell me your name:\n",
      "\n",
      "Enter quit into the first name bar to quit\n",
      "What is your first name? quit\n"
     ]
    }
   ],
   "source": [
    "# Setting up the function with the parameters first name\n",
    "def get_formatted_name(first_name, last_name):\n",
    "    '''Return a full name neatly formatted.'''\n",
    "#   Code that runs when we call the function\n",
    "    full_name = f\"{first_name} {last_name}.\"\n",
    "    return full_name.title()\n",
    "\n",
    "# Setting up the flag\n",
    "flag = True\n",
    "\n",
    "# While loop (This is not in the function!!!!!)\n",
    "# So while flag = true, this loop will run. This loop contains the call of the function\n",
    "while flag == True:\n",
    "    print(\"\\nPlease tell me your name:\")\n",
    "    print(\"\\nEnter quit into the first name bar to quit\")\n",
    "    f_name = input(\"What is your first name? \")\n",
    "#   Allows us to quit the loop\n",
    "    if f_name == 'quit':\n",
    "        break\n",
    "    l_name = input(\"What is your last name?\")\n",
    "    \n",
    "#   So the while loop collects the info for us, we then use that info in the call for get formatted name\n",
    "    formatted_name = get_formatted_name(f_name, l_name)\n",
    "    print(f\"Hello {formatted_name}.\")"
   ]
  },
  {
   "cell_type": "markdown",
   "id": "e0069486",
   "metadata": {},
   "source": [
    "> Lets break this code down now. First we define our function and its rather simple. We take the parameters first_name and last_name to create a full_name and we return the value to the function call\n",
    "\n",
    "> Outside of the function, we set the flag = true, then we use a while loop that is controlled by that flag. This is where we get a little complicated. We ask the user to input their first name and last name. We assign those inputs to the variables f_name and l_name.\n",
    "\n",
    "> We then use these variables as agruments in the function call and assign the returned value to the variable formatted_name. \n",
    "\n",
    "> We then print the formatted name."
   ]
  },
  {
   "cell_type": "markdown",
   "id": "7e75c78d",
   "metadata": {},
   "source": [
    "Another attempt at using while loops with functions"
   ]
  },
  {
   "cell_type": "code",
   "execution_count": 10,
   "id": "727dde38",
   "metadata": {},
   "outputs": [
    {
     "name": "stdout",
     "output_type": "stream",
     "text": [
      "Please give us a planet and its position in the solar system e.g. 1st, 2nd, 3rd, 4th...\n",
      "What is the planet name? Earth\n",
      "What is the planets position? 3rd\n",
      "\n",
      "The planet Earth is the 3rd in the solar system.\n",
      "\n",
      "Would you like to quit?\n",
      "Type yes or no: yes\n"
     ]
    }
   ],
   "source": [
    "# Setting up the function with parameters\n",
    "def make_planet(name, position):\n",
    "    '''Takes then planet and their position in the solar system'''\n",
    "#   Code that runs when we call the function\n",
    "    complete = f\"The planet {name.title()} is the {position} in the solar system.\"\n",
    "    return complete\n",
    "\n",
    "# Setting up the flag\n",
    "flag = True\n",
    "\n",
    "# Setting up the while loop \n",
    "while flag == True:\n",
    "    print(\"Please give us a planet and its position in the solar system e.g. 1st, 2nd, 3rd, 4th...\")\n",
    "    p_name = input(\"What is the planet name? \")\n",
    "    p_position = input(\"What is the planets position? \")\n",
    "    \n",
    "    call = make_planet(name = p_name, position = p_position)\n",
    "    print(f\"\\n{call}\")\n",
    "    \n",
    "    print(\"\\nWould you like to quit?\")\n",
    "    quit = input(\"Type yes or no: \")\n",
    "    if quit == 'yes':\n",
    "        flag = False\n",
    "    \n",
    "    "
   ]
  },
  {
   "cell_type": "markdown",
   "id": "fe3723df",
   "metadata": {},
   "source": [
    "## Tasks"
   ]
  },
  {
   "cell_type": "markdown",
   "id": "5fa95c7b",
   "metadata": {},
   "source": [
    "Write a function called city_country() that takes in the name of a city and its country. The function should return a string formatted like this\n",
    "\n",
    "\"Santiago, Chile\"\n"
   ]
  },
  {
   "cell_type": "code",
   "execution_count": 14,
   "id": "e0def3fc",
   "metadata": {},
   "outputs": [
    {
     "name": "stdout",
     "output_type": "stream",
     "text": [
      "Bath is located in England.\n",
      "London is located in England.\n",
      "Sydney is located in Australia.\n"
     ]
    }
   ],
   "source": [
    "# Setting up the function\n",
    "def city_country(city, country):\n",
    "    '''Makes a neatly formatted string of the city name and where it is'''\n",
    "#   Code that runs when the function is called. \n",
    "    complete = (f\"{city.title()} is located in {country.title()}.\")\n",
    "    return complete\n",
    "\n",
    "final = city_country(city = 'Bath', country = 'England')\n",
    "print(final)\n",
    "final = city_country(city = 'London', country = 'England')\n",
    "print(final)\n",
    "final = city_country(city = 'Sydney', country = 'Australia')\n",
    "print(final)"
   ]
  },
  {
   "cell_type": "markdown",
   "id": "18743111",
   "metadata": {},
   "source": [
    "Write a function named maked_album() that builds a dictionary describing a music album. The function should take in an artist name and an album title, then it should return a dictionary containing these two pieces of information. \n",
    "\n",
    "Use the function to make three dictionaries representating different albums, print each return value to show that the dictionaries are storing the ablum information correctly\n",
    "\n",
    "Use 'None' to add an optional parameter to make_album() that allows you to store the number of songs in the album "
   ]
  },
  {
   "cell_type": "code",
   "execution_count": 14,
   "id": "e24878b4",
   "metadata": {},
   "outputs": [
    {
     "name": "stdout",
     "output_type": "stream",
     "text": [
      "{'name': 'Kanye', 'album': 'Donda'}\n",
      "{'name': 'Skrillex', 'album': 'Scary Monsters Nice Sprites', 'number of songs': 9}\n",
      "{'name': 'Deadmau5', 'album': 'Insert Title Here'}\n"
     ]
    }
   ],
   "source": [
    "\n",
    "# Setting up a function with its parameters \n",
    "def make_album(artist_name, album_title, number_of_songs = None):\n",
    "    '''Returns dictionary with artist and album'''\n",
    "    \n",
    "# Setting up the code that runs when we call the function\n",
    "    if number_of_songs:\n",
    "        complete_album = {'name' : artist_name, 'album' : album_title, 'number of songs' : number_of_songs}\n",
    "    else:\n",
    "        complete_album = {'name' : artist_name, 'album' : album_title}\n",
    "    return complete_album\n",
    "\n",
    "# Calling the function 3 times and setting it to a different variable\n",
    "# We are calling the function 3 times, but each time setting it to a different variable\n",
    "# This means we make all the differnt dictionaries without writing over another one\n",
    "album1 = make_album(artist_name = 'Kanye', album_title = 'Donda')\n",
    "print(album1)\n",
    "\n",
    "album2 = make_album(artist_name= 'Skrillex', album_title= 'Scary Monsters Nice Sprites', number_of_songs= 9)\n",
    "print(album2)\n",
    "\n",
    "album3 = make_album(artist_name= 'Deadmau5', album_title= \"Insert Title Here\")\n",
    "print(album3)\n"
   ]
  },
  {
   "cell_type": "markdown",
   "id": "2c8d35bc",
   "metadata": {},
   "source": [
    "> So lets walk through this code, we are making a function and simply takes the parameters than places them into their places in the dictioanry (for some reason this took me years to undestand that I could just place the parameter there myself instead of trying to append or add it lol).\n",
    "\n",
    "> We then return the result of the function to the calling line, this is where we call the function 3 times with each artitst and album. We then assign that function call to a variable.\n",
    "\n",
    "> This allows us to create differnt dictionaries, with differnt infromation inside as each dictioary is being created with different artists and assigned to different variables."
   ]
  },
  {
   "cell_type": "markdown",
   "id": "462cd632",
   "metadata": {},
   "source": [
    "Start with your program above, Write a while loop that allows the user to enter an album and an atrist. Once we have the information use the function to use the users input and pritn the dictonary thats created. Be sure to include a quit value in the while loop"
   ]
  },
  {
   "cell_type": "code",
   "execution_count": 15,
   "id": "c7e247f6",
   "metadata": {},
   "outputs": [
    {
     "name": "stdout",
     "output_type": "stream",
     "text": [
      "Please give me your favorite artist and one of their albums!\n",
      "Artist name: Skrillex\n",
      "Album title: Bangerang\n",
      "{'name': 'Skrillex', 'album': 'Bangerang'}\n",
      "\n",
      "If you want to quit, type yes. If you want to continue type no.\n",
      "Do you want to quit? yes\n"
     ]
    }
   ],
   "source": [
    "# Setting up a function with its parameters \n",
    "def make_album(artist_name, album_title):\n",
    "    '''Returns dictionary with artist and album'''\n",
    "# Setting up the code that runs when we call the function\n",
    "# Creating a dictioanry that uses the parameters \n",
    "    complete_album = {'name' : artist_name, 'album' : album_title}\n",
    "# Return complete album to call line\n",
    "    return complete_album \n",
    "    \n",
    "# Setting up a flag \n",
    "flag = True\n",
    "\n",
    "# Setting up the while loop (not part of the function remeber)\n",
    "while flag == True:\n",
    "    print(\"Please give me your favorite artist and one of their albums!\")\n",
    "    artist_n = input(\"Artist name: \")\n",
    "    album_t = input(\"Album title: \")\n",
    "\n",
    "# Calling the function in the while loop\n",
    "    final = make_album(artist_name= artist_n, album_title= album_t)\n",
    "    print(final)\n",
    "    \n",
    "# Setting up the quit if statment\n",
    "    print(\"\\nIf you want to quit, type yes. If you want to continue type no.\")\n",
    "    quit = input('Do you want to quit? ')\n",
    "    if quit == 'yes':\n",
    "        flag = False"
   ]
  },
  {
   "cell_type": "markdown",
   "id": "01834fef",
   "metadata": {},
   "source": [
    "> Lets break this code down: Just like usual we are definine a function that takes its parameters, and this time we are using those parameters given to the function and creating a dictionary with them, creating a variable and assinging the dictionary to complete_album, which we then return to the calling line. \n",
    "\n",
    "> We are using a while loop, so we are creating a flag that governs whether it runs or not. in this while loop we are collecting our data, so the artist name and album name, to which we are assinging them to their respective variables (this allows us to use the input strings)\n",
    "\n",
    "> We then call the function using the two variables and arguments for the parameters in the function. We are calling the function and assigning it to the varibale final, which we print.\n",
    "\n",
    "> We then use our standard if statement to ask the user if they want to quit or not. If they don't we turn the flag to false, stopping the loop."
   ]
  },
  {
   "cell_type": "markdown",
   "id": "30197cd8",
   "metadata": {},
   "source": [
    "### Passing A List \n",
    "\n",
    "We will often find that we need to pass a list into a function weaht its a list of numbers, names, or objects such as dictionaries. When we pass a list to a function, the function gets direct access to the contents of the list. In this part we are going to using functions to amke working with lists more efficient.\n",
    "\n",
    "For example we have a list of users and what to print a greeting to each of them. The example below sends a list of names to a function called greet_user() that greets each person induvidually."
   ]
  },
  {
   "cell_type": "code",
   "execution_count": 16,
   "id": "54033b78",
   "metadata": {},
   "outputs": [
    {
     "name": "stdout",
     "output_type": "stream",
     "text": [
      "Hello Cameron, I hope you are well.\n",
      "Hello Mattia, I hope you are well.\n",
      "Hello Paul, I hope you are well.\n",
      "Hello Adam, I hope you are well.\n"
     ]
    }
   ],
   "source": [
    "# Setting up the function with the parameters \n",
    "def greet_users(names):\n",
    "    '''Print a simple greetin to each user in the list'''\n",
    "# Code that runs when we call the funciton\n",
    "    for name in names:\n",
    "        msg = f\"Hello {name.title()}, I hope you are well.\"\n",
    "        print(msg)\n",
    "\n",
    "# Setting up a list of names, giving it to the variable usernames        \n",
    "usernames = ['cameron', 'mattia', 'paul', 'adam']\n",
    "# Calling the function using usernames as the argument\n",
    "greet_users(usernames)"
   ]
  },
  {
   "cell_type": "markdown",
   "id": "a03b73e2",
   "metadata": {},
   "source": [
    "> We define greet users with the parameter name so the fuction expects names to be passed through it. In the function there is a for loop that loops through the list of names we are giving the function is usernmes. For each of those names we are printing a polite message by assigning a 'f string' to the variable msg.\n",
    "\n",
    "> we assign a list of names to the variable usernames \n",
    "\n",
    "> We then use usernames as the arguement that is passed to the function parameter."
   ]
  },
  {
   "cell_type": "markdown",
   "id": "43f1f405",
   "metadata": {},
   "source": [
    "### Modifying A List In A Function\n",
    "\n",
    "When we pass a list to a function, the function can modify the list. Any changes made to the list inside of the function's body are permanent, allowing for us to work efficiently with large amounts of data. \n",
    "\n",
    "Consider a company that creates 3D printed models of designs that users submit. Designs that need to be printed are stored in a list, and when they are printed the are moved to another list (We have done this manually before, using pop I think). First we explore how to do this WITHOUT a function, then we use a function."
   ]
  },
  {
   "cell_type": "code",
   "execution_count": 21,
   "id": "ffc80908",
   "metadata": {},
   "outputs": [
    {
     "name": "stdout",
     "output_type": "stream",
     "text": [
      "We are in the process of printing your phone case.\n",
      "We are in the process of printing your cup holder.\n",
      "We are in the process of printing your whistle.\n",
      "Almost finished printing whistle.\n",
      "Almost finished printing cup holder.\n",
      "Almost finished printing phone case.\n",
      "\n",
      "The follow models are complete\n",
      "whistle\n",
      "cup holder\n",
      "phone case\n"
     ]
    }
   ],
   "source": [
    "# Start the process by making lists of what needs to be printed and what has been printed. \n",
    "unprinted = ['phone case', 'cup holder', 'whistle']\n",
    "printed = []\n",
    "\n",
    "# Simulate printing each design\n",
    "for design in unprinted:\n",
    "    print(f\"We are in the process of printing your {design}.\")\n",
    "    \n",
    "# Move each design to the printed list\n",
    "while unprinted:\n",
    "    current_design = unprinted.pop()\n",
    "    print(f\"Almost finished printing {current_design}.\")\n",
    "    printed.append(current_design)\n",
    "    \n",
    "# Display all the completed models\n",
    "print(\"\\nThe follow models are complete\")\n",
    "for design in printed:\n",
    "    print(design)"
   ]
  },
  {
   "cell_type": "markdown",
   "id": "75668f67",
   "metadata": {},
   "source": [
    "> Lets walk through this example code, first the program starts with a list of designs that need to be printed, as well as an empty list of designs that have been printed. We then loop through the unprinted list to tell the customer that we are printing their design. \n",
    "\n",
    "> Using a while loop (so while there are items in the unprinted list this loop will keep going. In there for each design we tell the user we are almost done with printing their designs storing it in the current designs variable using the pop method. So we are popping the design in the unprinted deisgn list and storing it as current design. Then appending the current desing to the printed list using the append method. \n",
    "\n",
    "> Lets now do the same thing using functions - This is complex (we are now using two fuctions in one block of code) so lets walk through it step by step"
   ]
  },
  {
   "cell_type": "code",
   "execution_count": 26,
   "id": "08fcb4bc",
   "metadata": {},
   "outputs": [
    {
     "name": "stdout",
     "output_type": "stream",
     "text": [
      "Printing model: whistle\n",
      "Printing model: cup holder\n",
      "Printing model: phone case\n",
      "\n",
      "The following models have been printed\n",
      "whistle\n",
      "cup holder\n",
      "phone case\n"
     ]
    }
   ],
   "source": [
    "# Setting up a funtion that prints the models\n",
    "def print_models(unprinted, printed):\n",
    "    '''\n",
    "    Simulate printing each desing, until none are left.\n",
    "    Move each desing to printed after printing.\n",
    "    '''\n",
    "# Code that runs when the function is called\n",
    "    while unprinted:\n",
    "        current_design = unprinted.pop()\n",
    "        print(f'Printing model: {current_design}')\n",
    "        printed.append(current_design\n",
    "                      )\n",
    "# Setting up a function that shows the completed models\n",
    "def show_completed_models(printed):\n",
    "    '''Show all the models that were printed'''\n",
    "# Code that runs when the function is called\n",
    "    print(\"\\nThe following models have been printed\")\n",
    "    for design in printed:\n",
    "        print(design)\n",
    "\n",
    "# Setting up the need to be printed list and empty printed list\n",
    "unprinted = ['phone case', 'cup holder', 'whistle']\n",
    "printed = []\n",
    "\n",
    "# Calling the function print models using the arguemnts unprinted and printed\n",
    "print_models(unprinted, printed)\n",
    "# Calling the function with the arugment printed\n",
    "show_completed_models(printed)\n",
    "    "
   ]
  },
  {
   "cell_type": "markdown",
   "id": "6bba02c4",
   "metadata": {},
   "source": [
    "> Lets run through this code together, first we define the function print_models, this uses a while loop that loops as long as there are we pop the design and assign it to current design. We tell the user we are printing the design then we append the currernt design to the printed list. So everytime we call this, that is what will happen as long as there are designs in the list and we call this function it will work. \n",
    "\n",
    "> Next we define a second function, show completed models. This is a simple print statement and a for loop that prints off all the designs that have now been appended to the printed list. \n",
    "\n",
    "> Under the second function we have made our lists of printed and unprinted items\n",
    "\n",
    "> To call the functions we use two different arguments (it's not the same arguments for both) for the first function we use the arguments unpprinted and printed to feed the parameters unprinted and printe. For the second one we use just the printed, as feeding it unprinted wouldn't help the function do its job, which is to print the list of printed designs. \n",
    "\n",
    "> The reason we use these functions is we can just simply extend the list that we feed to the function. This example also shows us that each function should really only have one specific role, and we shoould use functions that we can get to interact with eachother to make our program run efficiently"
   ]
  },
  {
   "cell_type": "markdown",
   "id": "1443276a",
   "metadata": {},
   "source": [
    "### Preventing A Function From Modifying A List\n",
    "\n",
    "Sometimes, we will want to prevent a function was messing around with a list, an example would be that we start with a list of unprinted designs and we write a function to move them to a list of completed items. We may decide thay even though we have printed all of the designs, we still want to keep the original list of unprinted designs for our records. \n",
    "\n",
    "However, we have moved all the designs to the printed list so now the list is now empty. In this case we can address the issue by pass the fuction a copy of the list (so not the original list. Any changes that the function does to the list is only done to the copy, not the original\n",
    "\n",
    "We can send a copy to a list like this. \n",
    "\n",
    "function_name(list_name[ : ])\n",
    "\n",
    "The slice notation [ : ] makes a copy of the list to send to the function, so for the example above, to send a copy, not the original list to the function print_models() we will use. \n",
    "\n",
    "print_models(unprinted[ : ], printed) \n",
    "\n",
    "This means the function print_models() will then do its job because it recieved a list of 'unprinted' items even though this is just a copy, the list of completed items will be filled with the contents of the unprinted copy (which will be the same as the original).\n",
    "\n",
    "The book states that even though we can pass a copy into a function there should be a specific reason for doing so. If not just pass the original list into the function like I have explained. \n"
   ]
  },
  {
   "cell_type": "markdown",
   "id": "6a78980a",
   "metadata": {},
   "source": [
    "## Tasks\n",
    "\n",
    "Make a list containing a series of short text messages. Pass the list to a function called show_messages(), which prints each text message."
   ]
  },
  {
   "cell_type": "code",
   "execution_count": 1,
   "id": "53f36607",
   "metadata": {},
   "outputs": [
    {
     "name": "stdout",
     "output_type": "stream",
     "text": [
      "Hello my name is cameron\n",
      "How are you today?\n",
      "What are you doing today?\n"
     ]
    }
   ],
   "source": [
    "# Setting up the function\n",
    "def show_messages(messages):\n",
    "    '''Passes a list of messages and prints it'''\n",
    "    for message in messages:\n",
    "        print(f\"{message}\")\n",
    "        \n",
    "messages = ['Hello my name is cameron', 'How are you today?', 'What are you doing today?']\n",
    "\n",
    "show_messages(messages)"
   ]
  },
  {
   "cell_type": "markdown",
   "id": "7fa5aae4",
   "metadata": {},
   "source": [
    "Start with a copy of your program above. Write a function called send_messages() that prints each text message and move each essage to. a new list called sent_messages[] as its been printed. After calling the function, print both of your lists to show that the messages have been moved correctly. "
   ]
  },
  {
   "cell_type": "code",
   "execution_count": 8,
   "id": "15f75387",
   "metadata": {},
   "outputs": [
    {
     "name": "stdout",
     "output_type": "stream",
     "text": [
      "Hello my name is cameron\n",
      "How are you today?\n",
      "What are you doing today?\n",
      "Sending your message 'What are you doing today?'\n",
      "Sending your message 'How are you today?'\n",
      "Sending your message 'Hello my name is cameron'\n",
      "[]\n",
      "['What are you doing today?', 'How are you today?', 'Hello my name is cameron']\n"
     ]
    }
   ],
   "source": [
    "# Setting up first function\n",
    "def show_messages(messages):\n",
    "    '''Passes a list of messages and prints it'''\n",
    "    for message in messages:\n",
    "        print(f\"{message}\")\n",
    "        \n",
    "# Setting up second function\n",
    "def print_messages(messages, sent_messages):\n",
    "    '''Loops through messages, \"sends\" them and moves them to a list of sent messages'''\n",
    "    while messages:\n",
    "        current_message = messages.pop()\n",
    "        print(f\"Sending your message '{current_message}'\")\n",
    "        sent_messages.append(current_message)\n",
    "        \n",
    "messages = ['Hello my name is cameron', 'How are you today?', 'What are you doing today?']\n",
    "sent_messages = []\n",
    "\n",
    "# Calling the functions\n",
    "show_messages(messages)\n",
    "print_messages(messages, sent_messages)\n",
    "# Showing that the messages have been transferred\n",
    "print(messages)\n",
    "print(sent_messages)"
   ]
  },
  {
   "cell_type": "markdown",
   "id": "6eb64de6",
   "metadata": {},
   "source": [
    "Start with the work above, this time use a copy of the list messages to call the function print_messages(). After calling the function print both of the lists to show that they are both intact. "
   ]
  },
  {
   "cell_type": "code",
   "execution_count": 11,
   "id": "d87b5673",
   "metadata": {},
   "outputs": [
    {
     "name": "stdout",
     "output_type": "stream",
     "text": [
      "Hello my name is cameron\n",
      "How are you today?\n",
      "What are you doing today?\n",
      "Sending your message 'What are you doing today?'\n",
      "Sending your message 'How are you today?'\n",
      "Sending your message 'Hello my name is cameron'\n",
      "['Hello my name is cameron', 'How are you today?', 'What are you doing today?']\n",
      "['What are you doing today?', 'How are you today?', 'Hello my name is cameron']\n"
     ]
    }
   ],
   "source": [
    "# Setting up first function\n",
    "def show_messages(messages):\n",
    "    '''Passes a list of messages and prints it'''\n",
    "    for message in messages:\n",
    "        print(f\"{message}\")\n",
    "        \n",
    "# Setting up second function\n",
    "def print_messages(messages, sent_messages):\n",
    "    '''Loops through messages, \"sends\" them and moves them to a list of sent messages'''\n",
    "    while messages:\n",
    "        current_message = messages.pop()\n",
    "        print(f\"Sending your message '{current_message}'\")\n",
    "        sent_messages.append(current_message)\n",
    "        \n",
    "messages = ['Hello my name is cameron', 'How are you today?', 'What are you doing today?']\n",
    "sent_messages = []\n",
    "\n",
    "# Calling the functions\n",
    "show_messages(messages)\n",
    "# Calling the function with a copy of the list 'messages'\n",
    "print_messages(messages[:], sent_messages)\n",
    "# Showing that the messages have been transferred\n",
    "print(messages)\n",
    "print(sent_messages)"
   ]
  },
  {
   "cell_type": "markdown",
   "id": "2fba3657",
   "metadata": {},
   "source": [
    "### Passing An Arbitary Number Of Arguments\n",
    "\n",
    "Sometimes you won't know ahead of time of time how many arugments a function needs to accept. Pyhton allows a function to collect an arbitrary number of arugments from the calling statement.\n",
    "\n",
    "For example, lets build a function that makes a pizza. It needs to accept a number of toppings, but you can't know ajead of time how many toppings the person ordering will want. The function we are using has one parameter *toppings but this but this parameter collects as many arguments that is provided when calling the function. "
   ]
  },
  {
   "cell_type": "code",
   "execution_count": 2,
   "id": "28ef7ede",
   "metadata": {},
   "outputs": [
    {
     "name": "stdout",
     "output_type": "stream",
     "text": [
      "('pepperoni',)\n",
      "('Mushrooms', 'chicken')\n"
     ]
    }
   ],
   "source": [
    "# Setting up the function with the parameter\n",
    "def make_pizza(*toppings):\n",
    "    '''Makes pizza '''\n",
    "# Code that runs when we call the function\n",
    "    print(toppings)\n",
    "    \n",
    "make_pizza('pepperoni')\n",
    "make_pizza('Mushrooms', 'chicken')"
   ]
  },
  {
   "cell_type": "markdown",
   "id": "8524854c",
   "metadata": {},
   "source": [
    "> So the asterisk in the parameter name *toppings tells python to make an empty tuple called 'toppings' and place whatever values it receives into that tuple. The print call in the function prints off the the tuple, even if its only given one argument, Python will pack it into a tuple."
   ]
  },
  {
   "cell_type": "markdown",
   "id": "a334aa6b",
   "metadata": {},
   "source": [
    "Lets change the function a little bit so that we arn't just printing out the tuple, but looping through it a printing off each of the values in the tuple."
   ]
  },
  {
   "cell_type": "code",
   "execution_count": 4,
   "id": "867231f6",
   "metadata": {},
   "outputs": [
    {
     "name": "stdout",
     "output_type": "stream",
     "text": [
      "\n",
      "Making the pizza you ordered with the following toppings.\n",
      "pepperoni\n",
      "\n",
      "Making the pizza you ordered with the following toppings.\n",
      "Mushrooms\n",
      "chicken\n",
      "BBQ sauce\n"
     ]
    }
   ],
   "source": [
    "# Setting up the function\n",
    "def make_pizza(*toppings):\n",
    "    '''Makes pizza'''\n",
    "    print(\"\\nMaking the pizza you ordered with the following toppings.\")\n",
    "    for topping in toppings:\n",
    "        print(topping)\n",
    "        \n",
    "\n",
    "make_pizza('pepperoni')\n",
    "make_pizza('Mushrooms', 'chicken', 'BBQ sauce')"
   ]
  },
  {
   "cell_type": "markdown",
   "id": "5566c39e",
   "metadata": {},
   "source": [
    "If we want the function to accept multiple parameters but one of them needs to accept an unknown amount of arguemts. The one that accepts the unknown amount always comes last (sort of like default values?). Python will match the positional arguments and the keyword arguments first, the will move onto the final parameter. \n",
    "\n",
    "For example..."
   ]
  },
  {
   "cell_type": "code",
   "execution_count": 11,
   "id": "a949f8e8",
   "metadata": {},
   "outputs": [
    {
     "name": "stdout",
     "output_type": "stream",
     "text": [
      "\n",
      "Making the pizza you ordered with BBQ sauce the following toppings.\n",
      "mushrooms\n",
      "chicken\n",
      "ham\n"
     ]
    }
   ],
   "source": [
    "# Setting up the function\n",
    "def make_pizza(sauce, *toppings):\n",
    "    '''Making a pizza with a specific sauce'''\n",
    "#   Code that runs when we call the function\n",
    "    print(f\"\\nMaking the pizza you ordered with {sauce} sauce the following toppings.\")\n",
    "    for topping in toppings:\n",
    "        print(topping)\n",
    "\n",
    "\n",
    "# Calling the function\n",
    "make_pizza(\"BBQ\", 'mushrooms', 'chicken', 'ham')"
   ]
  },
  {
   "cell_type": "markdown",
   "id": "2bcf3e97",
   "metadata": {},
   "source": [
    "NOTE - We will often see generic parameter name *args, which collects arbitary positioal arguments"
   ]
  },
  {
   "cell_type": "markdown",
   "id": "227e9483",
   "metadata": {},
   "source": [
    "### Using Arbitary 'Keyword' Arguments\n",
    "\n",
    "Sometimes you will want to accept an arbitrary number of arguments, but you won't know ahead of time what kind of information will be passed. In this case we can write a function that accepts as many key-value functions as we set it. \n",
    "\n",
    "An example would be building user profiles: you know you'll get information about a user, but you don't know how much or what kind of information you will recieve. The function build_profile() below, always takes in a first and last name, but it also accepts an arbitaty number of keyword arguments as well."
   ]
  },
  {
   "cell_type": "code",
   "execution_count": 12,
   "id": "9c92e855",
   "metadata": {},
   "outputs": [
    {
     "name": "stdout",
     "output_type": "stream",
     "text": [
      "{'location': 'bath', 'occupation': 'student', 'first_name': 'cameron', 'last_name': 'wheeler'}\n"
     ]
    }
   ],
   "source": [
    "# Setting up the function\n",
    "def build_profile(first, last, **user_info):\n",
    "    '''Builds a dictionary containing everything we know about the user'''\n",
    "# Code that runs when we call the function\n",
    "    user_info['first_name'] = first\n",
    "    user_info['last_name'] = last\n",
    "    return user_info\n",
    "\n",
    "# Calling the function with the arguments and assinging that to user profile\n",
    "user_profile = build_profile('cameron', 'wheeler', location = 'bath', occupation = 'student')\n",
    "# Printing the variable user profile \n",
    "print(user_profile)"
   ]
  },
  {
   "cell_type": "markdown",
   "id": "9d03379e",
   "metadata": {},
   "source": [
    "> Lets run through the code as it's sort of strange. First we define the function with the parameters first, last and then we have ****user_info**. This double asterisk tells python to create a dictionary, called user_info, and places whatever key:value pairs it is given into the dictionary.\n",
    "\n",
    "> In the code that runs (the body) of build_profile, we add the first and last names to the user_info dictionary specifically as we know we will always receive this information. (remeber that they havn't been added until we specifically add them). Then we return the user_info to the call line.\n",
    "\n",
    "> At the call line we define the fuction call to the variable, when we call the function we pass the arguments cameron as first, wheeler as last, then we use keyword arguments to pass location = bath and occupation = student. These will be scooped up by the user_info parameter. \n",
    "\n",
    "> We then print user_profile. The dictionary that is printed contains the users first and last name (as expected because we specifcally added them to the user_info dictioanry created in the parameters. It also contains the location and the occupation. This will work no matter how much information is fed into the arguments as keyword arguments in the function call. \n",
    "\n",
    "> When reading other peoples code, we will find so many types of arugments in differnt orders. It takes practice to learn them, but as we progress we will learn to read them well and how to use them in the most efficient way"
   ]
  },
  {
   "cell_type": "markdown",
   "id": "bb589763",
   "metadata": {},
   "source": [
    "NOTE - We will often see the paremter name ****kwargs** this is used to collect non-specific keyworc arguements"
   ]
  },
  {
   "cell_type": "markdown",
   "id": "62d7f8d7",
   "metadata": {},
   "source": [
    "## Tasks\n",
    "\n",
    "Write a function that accepts a list of items a person wants on a sandwhich. The function should have one parameter that collects as many arguements as the function call provides, and it should print a summary of the sandwhich that is being ordered. Call the function 3 times using differnt arugments each time. "
   ]
  },
  {
   "cell_type": "code",
   "execution_count": 18,
   "id": "4a91cfcc",
   "metadata": {},
   "outputs": [
    {
     "name": "stdout",
     "output_type": "stream",
     "text": [
      "\n",
      "We are making your sandwhich on brown bread with the following fillings.\n",
      "Ham\n",
      "Cheese\n",
      "\n",
      "We are making your sandwhich on white bread with the following fillings.\n",
      "Cheese\n",
      "Chicken\n",
      "Lettuce\n",
      "Tomato\n",
      "\n",
      "We are making your sandwhich on vegan bread with the following fillings.\n",
      "Lettuce\n",
      "Tomato\n",
      "Vegan Coleslaw\n",
      "Vegan Cheese\n"
     ]
    }
   ],
   "source": [
    "# Setting up the function with the parameters that accepts many arguements\n",
    "def make_sandwhich(bread, *fillings):\n",
    "    '''Makes a sandwhich'''\n",
    "#   Code that runs when we call the function \n",
    "    print(f\"\\nWe are making your sandwhich on {bread} bread with the following fillings.\")\n",
    "    for filling in fillings:\n",
    "        print(filling.title())\n",
    "        \n",
    "make_sandwhich('brown', 'ham', 'cheese')\n",
    "make_sandwhich('white', 'cheese', 'chicken', 'lettuce', 'tomato')\n",
    "make_sandwhich('vegan', 'lettuce', 'tomato', 'vegan coleslaw', 'vegan cheese')"
   ]
  },
  {
   "cell_type": "markdown",
   "id": "13898f05",
   "metadata": {},
   "source": [
    "Start with a copy of the user_profile code we made before, build a profile of a person by calling the build_profile() using their first and last names along with three other key-value pairs that describes them."
   ]
  },
  {
   "cell_type": "code",
   "execution_count": 19,
   "id": "0a94e179",
   "metadata": {},
   "outputs": [
    {
     "name": "stdout",
     "output_type": "stream",
     "text": [
      "{'location': 'bath', 'occupation': 'student', 'first_name': 'cameron', 'last_name': 'wheeler'}\n",
      "{'location': 'califonia', 'occupation': 'apple CEO', 'hair': 'grey', 'first_name': 'tim', 'last_name': 'cook'}\n"
     ]
    }
   ],
   "source": [
    "# Setting up the function\n",
    "def build_profile(first, last, **user_info):\n",
    "    '''Builds a dictionary containing everything we know about the user'''\n",
    "# Code that runs when we call the function\n",
    "    user_info['first_name'] = first\n",
    "    user_info['last_name'] = last\n",
    "    return user_info\n",
    "\n",
    "# Calling the function with the arguments and assinging that to user profile\n",
    "user_profile = build_profile('cameron', 'wheeler', location = 'bath', occupation = 'student')\n",
    "# Printing the variable user profile \n",
    "print(user_profile)\n",
    "# Calling the function for the task\n",
    "task_profile = build_profile('tim', 'cook', location = 'califonia', occupation = 'apple CEO', hair = 'grey')\n",
    "print(task_profile)"
   ]
  },
  {
   "cell_type": "markdown",
   "id": "c6d454e1",
   "metadata": {},
   "source": [
    "Write a funtion that stores infromation about a car in a dictionary, The function should awlays recieve a manufacturer, model name and it should accept an arbitrary number of keyword arguments. Call the function with the required informaton and two other name-value pairs, such as a colour. Your function should work like this one\n",
    "\n",
    "car = make_car(subaru, outback, colour = blue, tow_package = True)"
   ]
  },
  {
   "cell_type": "code",
   "execution_count": 22,
   "id": "a9fe59e3",
   "metadata": {},
   "outputs": [
    {
     "name": "stdout",
     "output_type": "stream",
     "text": [
      "{'colour': 'Red', 'sports_breaks': True, 'seats': 5, 'doors': 3, 'manufacturer': 'ford', 'model': 'fiesta st'}\n"
     ]
    }
   ],
   "source": [
    "# Setting up the function with the parameters (make sure to include the dictionary)\n",
    "def car_info(manufacturer, model, **car_info):\n",
    "    '''Builds a dictionary of a car with some information'''\n",
    "#   Code that runs when we call the function\n",
    "    car_info['manufacturer'] = manufacturer\n",
    "    car_info['model'] = model\n",
    "    return car_info\n",
    "\n",
    "# Calling the function with the arguments and additional information \n",
    "car = car_info('ford', 'fiesta st', colour = 'Red', sports_breaks = True, seats = 5, doors = 3)\n",
    "print(car)"
   ]
  },
  {
   "cell_type": "markdown",
   "id": "374a3269",
   "metadata": {},
   "source": [
    "## Storing Functions In Modules"
   ]
  },
  {
   "cell_type": "markdown",
   "id": "64c3ba4b",
   "metadata": {},
   "source": [
    "One advantage of functions is that way they seperate block of code from our main program. By using descriptive names for our functions it will make our program easier to follow. We can go a step further by storing our functions in a separate file called a 'module' \n",
    "\n",
    "An import statement tells python to make the code in a module available in the currently running program file. \n",
    "\n",
    "Storing our functions in a seperate file allows us to hide the detail of the code, allowing us to focus on the simple logic of the main program. It also allows us the reuse functions in different programs as we import the module. We could also share our modules with other programmers without having to send them the whole program. As well as this, knowing how to import functions allows us to import libaries of functions that other programmers have written. \n",
    "\n",
    "To do this in Jupyter Notebook, I am making new notebooks named as the module we want to import. In our text editor, we will simply just make a new .py file in the directory that we are using.\n",
    "\n",
    "There are several ways to import a module, we are going to explore each of them breifly. "
   ]
  },
  {
   "cell_type": "markdown",
   "id": "ca5734ac",
   "metadata": {},
   "source": [
    "### Importing An Entire Module\n",
    "\n",
    "To start importing functions, we first need to creat a module. A module is a file that ends in .py that contains the code we want to import into our program. Lets make a module that contains the function make_pizza() from before. To make this a module, we remove all the code BUT the function and the code that runs when we call the function. \n",
    "\n",
    "See below "
   ]
  },
  {
   "cell_type": "code",
   "execution_count": 5,
   "id": "d313179d",
   "metadata": {},
   "outputs": [
    {
     "name": "stdout",
     "output_type": "stream",
     "text": [
      "\n",
      "Making the pizza you ordered with BBQ sauce the following toppings.\n",
      "chicken\n",
      "cheese\n"
     ]
    }
   ],
   "source": [
    "# Importing the module pizza from the directory. \n",
    "import pizza\n",
    "\n",
    "# Calling the function thats located in pizz\n",
    "pizza.make_pizza('BBQ', 'chicken', 'cheese')"
   ]
  },
  {
   "cell_type": "markdown",
   "id": "ca173555",
   "metadata": {},
   "source": [
    "> When python reads the file above, the line import pizza tells python to open the file pizza.py. \n",
    "\n",
    "> Python the copies all the code from there into our this program, although we don't actaully see the code, it's there. All we need to think is that all the code thats in pizza.py in being pulled into the program.\n",
    "\n",
    "> We then call the function from the imported module. To do this we state the name of the module that we are importing the function from, then the function that we want to call, followed by the arguments that we want to pass to the parameters in the function. The code will produce the same output as it would if we just had all of the code together. \n",
    "\n",
    "> This is the first approach to importing, we simply write 'import' then the module, that imports every function from the module available in the program we are running. (SO WE IMPORT AT THE START AND ITS JUST AVAILABLE).\n",
    "\n",
    "> If we use this method of import statement, any function in the module is available with the following syntax. \n",
    "\n",
    "> module_name.function(arguments)"
   ]
  },
  {
   "cell_type": "markdown",
   "id": "3d0f42d1",
   "metadata": {},
   "source": [
    "### Importing Specific Functions \n",
    "\n",
    "We can also import a specific function from a module. To do this we use \n",
    "\n",
    "'from module_name import function_name'\n",
    "\n",
    "We can import as many functions we like from a module, by seperating each of the function names with a comma\n",
    "\n",
    "'from module_name import function_name, function_name, function_name'"
   ]
  },
  {
   "cell_type": "code",
   "execution_count": 7,
   "id": "d23e4a4b",
   "metadata": {},
   "outputs": [
    {
     "name": "stdout",
     "output_type": "stream",
     "text": [
      "\n",
      "Making the pizza you ordered with tomato sauce the following toppings.\n",
      "pepperoni\n"
     ]
    }
   ],
   "source": [
    "# Importing a specific function\n",
    "from pizza import make_pizza\n",
    "\n",
    "# Calling the function\n",
    "make_pizza('tomato', 'pepperoni')"
   ]
  },
  {
   "cell_type": "markdown",
   "id": "21171ad3",
   "metadata": {},
   "source": [
    "> Importing a specific function means we don't have to state the module with the dot notation when we call the function. This is because we have explicitly imported the function make_pizza on the import statement so we don't have to give Python a 'pathway' if you will, to find the function. "
   ]
  },
  {
   "cell_type": "markdown",
   "id": "86a27518",
   "metadata": {},
   "source": [
    "### Using 'as' To Give A Function An Alias\n",
    "\n",
    "If the name of a function we are importing might conflict with code in the program we are writing, we can use a short, unique alias (this is an alternative name that we give the function when we are importing the function)\n",
    "\n",
    "The general syntax is:\n",
    "from module_name import function_name as alias\n",
    "\n",
    "For example:"
   ]
  },
  {
   "cell_type": "code",
   "execution_count": 9,
   "id": "bd8431fd",
   "metadata": {},
   "outputs": [
    {
     "name": "stdout",
     "output_type": "stream",
     "text": [
      "\n",
      "Making the pizza you ordered with BBQ sauce the following toppings.\n",
      "Pepperoni\n",
      "Sweetcorn\n"
     ]
    }
   ],
   "source": [
    "# Importing a specific function with an alias\n",
    "from pizza import make_pizza as mp \n",
    "\n",
    "# Calling the function\n",
    "mp('BBQ', 'Pepperoni', 'Sweetcorn')"
   ]
  },
  {
   "cell_type": "markdown",
   "id": "abfd23df",
   "metadata": {},
   "source": [
    "> Here we import a specific function from the module and we give it the alias 'mp' "
   ]
  },
  {
   "cell_type": "markdown",
   "id": "fb4ed669",
   "metadata": {},
   "source": [
    "### Using 'as' To Give A Module An Alias\n",
    "\n",
    "We can also provide an alias to a module name. Giving the module a short alias like p for pizza allows you to call the modules functions more quickly. Calling p.make_pizza() is much quicker than calling pizza.make_pizza() (Barely, but it is worth considering) \n",
    "\n",
    "The general syntax is:\n",
    "\n",
    "import module_name as alias \n",
    "\n",
    "For example:"
   ]
  },
  {
   "cell_type": "code",
   "execution_count": 10,
   "id": "ec2c6f3a",
   "metadata": {},
   "outputs": [
    {
     "name": "stdout",
     "output_type": "stream",
     "text": [
      "\n",
      "Making the pizza you ordered with tomato sauce the following toppings.\n",
      "ham\n",
      "pineapple\n"
     ]
    }
   ],
   "source": [
    "# Importing the module with the alias\n",
    "import pizza as p\n",
    "\n",
    "# Calling the function\n",
    "p.make_pizza('tomato', 'ham', 'pineapple')"
   ]
  },
  {
   "cell_type": "markdown",
   "id": "d7c85851",
   "metadata": {},
   "source": [
    "> The module pizza is given the alias 'p' in the import statement. We can call the function using p.make_pizza(). The book also says that this will allow us to be very descriptive with our function names. These function names that clearly tell us what each function does are more important to the readability of your code, that using the full module name. "
   ]
  },
  {
   "cell_type": "markdown",
   "id": "45259963",
   "metadata": {},
   "source": [
    "### Importing All Functions In A Module\n",
    "\n",
    "We can tell python to import every function in a module by using the asterisk ( * ) operator.\n",
    "\n",
    "For example:"
   ]
  },
  {
   "cell_type": "code",
   "execution_count": 12,
   "id": "a1490dc6",
   "metadata": {},
   "outputs": [
    {
     "name": "stdout",
     "output_type": "stream",
     "text": [
      "\n",
      "Making the pizza you ordered with tomato sauce the following toppings.\n",
      "ham\n",
      "pineapple\n"
     ]
    }
   ],
   "source": [
    "# Importing all of the functions in the module\n",
    "from pizza import *\n",
    "\n",
    "# Calling the function\n",
    "make_pizza('tomato', 'ham', 'pineapple')"
   ]
  },
  {
   "cell_type": "markdown",
   "id": "5a1f1afc",
   "metadata": {},
   "source": [
    "> The asterisk in the import statement tells Python to copy every function from the module pizza into the program we are running. Because every function is imported when we use the asterisk, we no longer need to use the dot notation when calling the function, but this can get confusing when working with big documents or documents we didn't make so not many people tend to use this"
   ]
  },
  {
   "cell_type": "markdown",
   "id": "12db5268",
   "metadata": {},
   "source": [
    "NOTE - The best approach is to import the function or functions we want specifically or import the module using the basic import function and use the dot notation when calling it in the program we are running. The book says that they simply included this part just so we can understand what we are reading if we see it in other peoples code, but discouraged us from using this in our code. "
   ]
  },
  {
   "cell_type": "markdown",
   "id": "e7842af6",
   "metadata": {},
   "source": [
    "### Styling Our Functions\n",
    "\n",
    "We need to keep some things in mind when we are creating our functions. \n",
    "- Functions should have descriptive names as to what they do, these names should be lowercase and use underscores\n",
    "- Module names should also use this convention, so we know exactly what we are importing\n",
    "- Every function should have a comment that describes what it does (docstring) \n",
    "- When we describe a function we want other programmers to be able to use it by simply reading the docstring and hitting copy and paste on the function\n",
    "- If we specify a default value in the parameters, no spaces should be before or after the = sign such as function_name(parameter, default_parameter=\"default value\")\n",
    "- This same style should be applied to keyword arugments when we call the function\n",
    "- If we have a large amount of parameters we should style them as follows \n",
    "- def function_name(\n",
    "        parameter1, parameter2, parameter3,\n",
    "        parameter4, parameter5, parameter6,\n",
    "        parameter7):\n",
    "        \n",
    "    function body \"where the code for the function is\" \n",
    "- If we have more than one function in our code or module we need to seperate them by 2 lines to make it easy to see when one ends and one starts\n",
    "- All import statements should be written at the beggining of the program, the only exception is if we use comments at the start of the program to describe what it is for"
   ]
  },
  {
   "cell_type": "markdown",
   "id": "35d4086c",
   "metadata": {},
   "source": [
    "## Tasks\n",
    "\n",
    "Place the functions form the example printing_models in a seperate file names printing_functions. Write and import statement that imports the module into the active file and use it to run some code."
   ]
  },
  {
   "cell_type": "code",
   "execution_count": 13,
   "id": "cf0e81ea",
   "metadata": {},
   "outputs": [
    {
     "name": "stdout",
     "output_type": "stream",
     "text": [
      "Printing model: water bottle\n",
      "Printing model: godzilla model\n",
      "Printing model: toy helicopter\n",
      "Printing model: laptop case\n",
      "\n",
      "The following models have been printed\n",
      "water bottle\n",
      "godzilla model\n",
      "toy helicopter\n",
      "laptop case\n"
     ]
    }
   ],
   "source": [
    "# Importing the whole module as pf\n",
    "import printing_functions as pf\n",
    "\n",
    "# Setting up the empty lists\n",
    "unprinted = ['laptop case', 'toy helicopter', 'godzilla model', 'water bottle']\n",
    "printed = []\n",
    "\n",
    "# Calling the functions using the alias and dot notation\n",
    "pf.print_models(unprinted, printed)\n",
    "pf.show_completed_models(printed)\n"
   ]
  },
  {
   "cell_type": "markdown",
   "id": "7f237aaa",
   "metadata": {},
   "source": [
    "Using a program we have written that has one function in it, store that function in a seperate file and call the function using each of these approaches\n",
    "\n",
    "- import module_name \n",
    "- from module_name import function_name\n",
    "- from module_name import function_name as alias \n",
    "- import module_name as alias \n",
    "- from module_name import *"
   ]
  },
  {
   "cell_type": "code",
   "execution_count": 16,
   "id": "ad0e23df",
   "metadata": {},
   "outputs": [
    {
     "name": "stdout",
     "output_type": "stream",
     "text": [
      "Cameron Wheeler.\n"
     ]
    }
   ],
   "source": [
    "# Importing the module\n",
    "import format_name_function\n",
    "\n",
    "# Calling the function as a variable as the function uses return\n",
    "printing = format_name_function.get_formatted_name('cameron', 'wheeler')\n",
    "# Printing the variable\n",
    "print(printing)"
   ]
  },
  {
   "cell_type": "code",
   "execution_count": 18,
   "id": "6cabed70",
   "metadata": {},
   "outputs": [
    {
     "name": "stdout",
     "output_type": "stream",
     "text": [
      "Cameron Wheeler.\n"
     ]
    }
   ],
   "source": [
    "# Importing a specific function from the module\n",
    "from format_name_function import get_formatted_name\n",
    "\n",
    "# Calling the function (no need to use dot notation as we have imported a specific module)\n",
    "printing = get_formatted_name(\"cameron\", \"wheeler\")\n",
    "print(printing)"
   ]
  },
  {
   "cell_type": "code",
   "execution_count": 19,
   "id": "987dbae3",
   "metadata": {},
   "outputs": [
    {
     "name": "stdout",
     "output_type": "stream",
     "text": [
      "Angus Wheeler.\n"
     ]
    }
   ],
   "source": [
    "# Importing a specific function from the module and giving it an alias\n",
    "from format_name_function import get_formatted_name as format_name\n",
    "\n",
    "printing = format_name(\"angus\", \"wheeler\")\n",
    "print(printing)\n"
   ]
  },
  {
   "cell_type": "code",
   "execution_count": 21,
   "id": "30919a6c",
   "metadata": {},
   "outputs": [
    {
     "name": "stdout",
     "output_type": "stream",
     "text": [
      "Lynda Wheeler.\n"
     ]
    }
   ],
   "source": [
    "# Importing module name under an alias \n",
    "import format_name_function as fnf\n",
    "\n",
    "# Calling the function with the dot notation and alias \n",
    "printing = fnf.get_formatted_name('lynda', 'wheeler')\n",
    "print(printing)"
   ]
  },
  {
   "cell_type": "code",
   "execution_count": 23,
   "id": "19ee1256",
   "metadata": {},
   "outputs": [
    {
     "name": "stdout",
     "output_type": "stream",
     "text": [
      "Cameron Wheeler.\n"
     ]
    }
   ],
   "source": [
    "# Importing the module using the *\n",
    "from format_name_function import *\n",
    "\n",
    "# Calling the function, no need to use any dot notation as I am using the * \n",
    "printing = get_formatted_name('cameron', 'wheeler')\n",
    "print(printing)"
   ]
  },
  {
   "cell_type": "markdown",
   "id": "90dbbfc8",
   "metadata": {},
   "source": [
    "## Summary \n",
    "\n",
    "### WOWOWOWOWOWOW That Was A Great Chapter!\n",
    "\n",
    "In this chapter I have learned\n",
    "- How to write and style a function\n",
    "- How to pass arguments to a function so that our function has the information to do its job\n",
    "- What positional and keyword arguments are and how we can use them \n",
    "- How to use functions with lists and dictionaries (might need some more work here) \n",
    "- How to use functions with if, for and while loops \n",
    "- That we need to write simple code that other programmers can use (functions help us do this) as they allow us to write code, then simply leave them, and when we need them, call them and give them the infromation they need\n",
    "- That functions make our code easier to read and debug, when a bulk of our programs work is done by functions that each have a specific job, we can easily see what is going wrong and where. \n",
    "\n",
    "\n",
    "In the next chapter we will learn how to write classes. Classes combine the functions and data together into one neat package that can be used in flexible and efficient ways."
   ]
  },
  {
   "cell_type": "markdown",
   "id": "d463c975",
   "metadata": {},
   "source": [
    "# Chapter 9 Classes\n",
    "\n",
    "One of the most effective ways to program is to use object oriented programming. In object oriented programming we use classes that represent real world things and situations, as we 'create' objects based on these classes. When we write a class, we define the general behaviour that a whole catagory of objects can have.  \n",
    "\n",
    "When we create objects from the class, the object automatically has the properties attached to it. It is amazing how well real world situations can be modelling with object oriented programming.\n",
    "\n",
    "Making an object is called an instantiation and we can work with instances of a class. In the coming chapter we will wirte classes, and create instances of those classes. We will specify what kind of information can be stored in instances and we will define actions that can be taken with these instances. \n",
    "\n",
    "We will also wrtie classes that extend the functionality of existing classes so that similar classes can share code efficiently. We will store classes in modules and learn to import classes written by other programmers. \n",
    "\n",
    "Understanding how object oriented programming works will help us see the world as a programmer does, and it will help us understand our code, not just line by line but as an averall concept. Knowing how classes world will develop our ability to think logically "
   ]
  },
  {
   "cell_type": "markdown",
   "id": "1e7752cb",
   "metadata": {},
   "source": [
    "### Creating And Using A Class\n",
    "\n",
    "We can model almost anything using classes, lets start with an example of a class named 'Dog' not just one dog though but many dogs. Dogs have a name and an age but we also know that most dogs can sit and roll over. Here we will give it properties such as sit and roll over as many dogs can do that. \n",
    "\n",
    "After we have written the class we will use it to create induvidual instances each of which represents one specific dog."
   ]
  },
  {
   "cell_type": "code",
   "execution_count": 2,
   "id": "42675def",
   "metadata": {},
   "outputs": [],
   "source": [
    "class Dog:\n",
    "    '''Simple attempt to model a dog'''\n",
    "    \n",
    "    def __init__(self, name, age):\n",
    "        '''Initialize name and age attributes'''\n",
    "        self.name = name\n",
    "        self.age = age\n",
    "        \n",
    "    def sit(self):\n",
    "        '''Simulate the dog sitting'''\n",
    "        print(f'{self.name} is now sitting!')\n",
    "        \n",
    "    def roll_over(self):\n",
    "        '''Simulate the dog rolling over'''\n",
    "        print(f'{self.name} is now rolling over!')"
   ]
  },
  {
   "cell_type": "markdown",
   "id": "ab356df4",
   "metadata": {},
   "source": [
    "> Lets walk through this code together. \n",
    "\n",
    "> First we define the class called Dog, in python we capitalize the name when we are building or talking about a class. There are no parantheses in the class definition because we are creating the class from scratch. We then write a docstring under the class definition just like a function. "
   ]
  },
  {
   "cell_type": "markdown",
   "id": "6a53db6e",
   "metadata": {},
   "source": [
    "### The __init__ Method( )."
   ]
  },
  {
   "cell_type": "markdown",
   "id": "8d6f820f",
   "metadata": {},
   "source": [
    "A function that is part of a class is called a 'method' (so no longer called a function anymore.) Everything we have learned in the last chapter can be applied here in classes as well, the only difference is that we call it a method. The '__init__' method that we see in the code above is a special kind of method that Python runs automatically when we create a new instance based on the class Dog. Make sure we use two underscores at all times!!!!\n",
    "\n",
    "We define the init method to have three parameters, self, name and age. The 'self' parameter comes first and is requried in the method definition. The self parameter must be included in the definition of the method as when we come to create some instances of the class Dog, Python will call this method. When we call the method, the self argument will automatically be passed. Every method call will automatically pass the self argument which is a reference to 'itself', meaning it gives the induvidual instance access to the attributes and methods inside of the class. \n",
    "\n",
    "So when we make an instance of 'Dog', python will call the '__init__' method from the Dog class and we will pass Dog() a name and an age as arguments (remeber that self if passed automatically so we don't need to pass it explicitly) we only need to provide the values for the last two parameters name and age.\n",
    "\n",
    "We also see that there are two varibles defined under the init method, these two varibles are prefixed with self. Any varible prefixed with self means it is available to every method inside of the class, and we will also be able to access these variables through any instance created from the class. The line 'self.name = name' takes the value associated with the parameter name and assigns it to the variable name... which is then attached to the instance being created. The same thing happens with self.age = age. Variables that can be accessed through instancs are called 'attributes'\n",
    "\n",
    "The class Dog also has two other methods (functions). Because these methods do not need any additional information than the first init method, we must define them with the parameter 'self'. The instances we create later will have access to these methods as they have the self parameter, meaning the instances will be able to sit and roll over. Although the last two methods don't really do anything, these concepts we are learing can be extended to complex situations for example the method might contain code that actaully simulates a dog rolling over in a game, or control a robot. "
   ]
  },
  {
   "cell_type": "markdown",
   "id": "7ebf03ed",
   "metadata": {},
   "source": [
    "### Making An Instance From A Class\n",
    "\n",
    "Great so we have covered all of the theory, lets get into it. Think of a class as a set of instructions for how to make an 'instance'. The class Dog is a set of instructions that tells python how to make an instance of that class that represent a specific dog...\n",
    "\n",
    "For example."
   ]
  },
  {
   "cell_type": "code",
   "execution_count": 3,
   "id": "48a5245e",
   "metadata": {},
   "outputs": [
    {
     "name": "stdout",
     "output_type": "stream",
     "text": [
      "My dog's name is Tilda.\n",
      "My dog's age is 11.\n"
     ]
    }
   ],
   "source": [
    "# Creating the class Dog\n",
    "class Dog:\n",
    "    '''Simple attempt to model a dog'''\n",
    "    \n",
    "    def __init__(self, name, age):\n",
    "        '''Initialize name and age attributes'''\n",
    "        self.name = name\n",
    "        self.age = age\n",
    "        \n",
    "    def sit(self):\n",
    "        '''Simulate the dog sitting'''\n",
    "        print(f'{self.name} is now sitting!')\n",
    "        \n",
    "    def roll_over(self):\n",
    "        '''Simulate the dog rolling over'''\n",
    "        print(f'{self.name} is now rolling over!')\n",
    "        \n",
    "\n",
    "my_dog = Dog('Tilda', 11)\n",
    "print(f\"My dog's name is {my_dog.name}.\")\n",
    "print(f\"My dog's age is {my_dog.age}.\")"
   ]
  },
  {
   "cell_type": "markdown",
   "id": "fe970096",
   "metadata": {},
   "source": [
    "> Frist we create the class dog and we have placed the init method, that have the parameter self, name and age. We then assign name and age to the variables self.name and self.age (So this makes them attributes). We tell python to create a dog called Tilda whos age is 11. When python reads this line, it calls the init method in Dog with the arguments Tilda and 11. The init method creates an instance respresenting this particular dog and sets the name and age attributes using the values we provided. Python then returns an instance representing this dog, we assign this instance to the variable my_dog. \n",
    "\n",
    "> The naming convention is helpful here,  we can usually assume that a captialized name like Dog refers to a class and a lowercase name my_dog referes to a single instance created from the class."
   ]
  },
  {
   "cell_type": "markdown",
   "id": "457d478a",
   "metadata": {},
   "source": [
    "Lets do it again as that was complex and we need to root our understanding."
   ]
  },
  {
   "cell_type": "code",
   "execution_count": 1,
   "id": "accca5ad",
   "metadata": {},
   "outputs": [
    {
     "name": "stdout",
     "output_type": "stream",
     "text": [
      "Apple is a big company.\n",
      "Their CEO is Tim Cook.\n",
      "Denovo is a big company.\n",
      "Their CEO is David Shimoni.\n"
     ]
    }
   ],
   "source": [
    "# Creating the class\n",
    "class Tech():\n",
    "    '''Creating a tech company'''\n",
    "#   Init method that have the parameter self, name and age\n",
    "    def __init__(self, name, ceo):\n",
    "#       Assigning name and ceo to their self variables (this allows all instances in the class to access them)\n",
    "        self.name = name\n",
    "        self.ceo = ceo\n",
    "\n",
    "# Calling the init method\n",
    "fav_tech_company = Tech('Apple', 'Tim Cook')\n",
    "# Accessing the attributes of the instance\n",
    "print(f\"{fav_tech_company.name} is a big company.\")\n",
    "print(f\"Their CEO is {fav_tech_company.ceo}.\")\n",
    "\n",
    "# Creating an instance \n",
    "tech_company=Tech('Denovo', 'David Shimoni')\n",
    "# Accessing attributes of the instance\n",
    "print(f\"{tech_company.name} is a big company.\")\n",
    "print(f\"Their CEO is {tech_company.ceo}.\")"
   ]
  },
  {
   "cell_type": "markdown",
   "id": "2da461a1",
   "metadata": {},
   "source": [
    "> Lets walk through again, we have created a class. We have then have the init method where we define it with the self, name and age parameters. We then assign the name and ceo parameters to the variables self.name and self.ceo. Any variable that is prefixed with self is available to every method in the class. This is when they become attributes I think...\n",
    "\n",
    "> When we call the init method it creates an instance that represents the tech company with the name of the company and the ceo of the company and returns the instance to the variable tech_company. So we can say that tech_ company is an instance of the class Tech(). "
   ]
  },
  {
   "cell_type": "markdown",
   "id": "dfc664ea",
   "metadata": {},
   "source": [
    "### Accessing Attributes \n",
    "\n",
    "The access the attributes of an instance, we use the dot notation. In the examples above we access the attributes of the class using \n",
    "\n",
    "my_dog.name \n",
    "\n",
    "my_dog.age \n",
    "\n",
    "and \n",
    "\n",
    "tech_company.name \n",
    "\n",
    "tech_company.ceo\n",
    "\n",
    "Dot notation is used often in python. This syntax demonstrates how python finds an attributes value. For example python looks at my_dog and then finds the attribute 'name' associated with my_dog. This is the same attribute referred to as self.name in the class Dog. We then use the same approach for to work with the attribute self.age. Python will look at my_dog, then go and find the attribute 'age' associated with my_dog, so self.age, this equals age, that is a parameter that we pass the age into in the age arguement when we call the instance. \n",
    "\n",
    "The output is a summary of the information we know about my_dog.\n",
    "\n",
    "In the second example we use dot notation to tell python where to look. Python will look at fav_tech_company and then find the attribute 'name' that is assocaited with fav_tech_company (Apple). This is the attribute we are referring to when we talk about self.name in the class Tech. We then do the same with ceo, when we call the init method to create the instance of fav tech company, python will look at fav_tech_compay and then find the attribute ceo that is assocaited with it (tim cook). "
   ]
  },
  {
   "cell_type": "markdown",
   "id": "eea61886",
   "metadata": {},
   "source": [
    "### Calling Methods\n",
    "\n",
    "After we have created an instance from the class Dog, we can use the dot notation to call any method that is placed into the class Dog. Lets make our dog sit and roll over. "
   ]
  },
  {
   "cell_type": "code",
   "execution_count": 2,
   "id": "24e7ea2f",
   "metadata": {},
   "outputs": [
    {
     "name": "stdout",
     "output_type": "stream",
     "text": [
      "My dog's name is Tilda.\n",
      "My dog's age is 11.\n",
      "Tilda is now sitting!\n",
      "Tilda is now rolling over!\n"
     ]
    }
   ],
   "source": [
    "# Creating the class Dog\n",
    "class Dog:\n",
    "    '''Simple attempt to model a dog'''\n",
    "#   Init method that runs whenever we create and instance\n",
    "    def __init__(self, name, age):\n",
    "        '''Initialize name and age attributes'''\n",
    "        self.name = name\n",
    "        self.age = age\n",
    "        \n",
    "#   Methods we can call\n",
    "    def sit(self):\n",
    "        '''Simulate the dog sitting'''\n",
    "        print(f'{self.name} is now sitting!')\n",
    "        \n",
    "    def roll_over(self):\n",
    "        '''Simulate the dog rolling over'''\n",
    "        print(f'{self.name} is now rolling over!')\n",
    "        \n",
    "# Creating an instance called Tilda that is 11 years old\n",
    "my_dog = Dog('Tilda', 11)\n",
    "\n",
    "# Printing off the attributes of the instance\n",
    "print(f\"My dog's name is {my_dog.name}.\")\n",
    "print(f\"My dog's age is {my_dog.age}.\")\n",
    "\n",
    "# Calling methods inside of the class \n",
    "my_dog.sit()\n",
    "my_dog.roll_over()"
   ]
  },
  {
   "cell_type": "markdown",
   "id": "5694b221",
   "metadata": {},
   "source": [
    "> To call a method give the name of the instance (my_dog) and then the method that we want to call seperated by the dot notation. When python reads the code, it reads my_dog.sit() and it looks for the method sit() inside of the class Dog() and runs the code in there, because my_dog is an instance of the class Dog with the given attributes we get a personalised message. \n",
    "\n",
    "> If we use good names such as name, age, sit and rollover, it allows our code to be read easily by people who are reading the code. "
   ]
  },
  {
   "cell_type": "markdown",
   "id": "7131f76d",
   "metadata": {},
   "source": [
    "### Creating Multiple Instances\n",
    "\n",
    "We can create as many instances from a class as we need, Lets create a second dog"
   ]
  },
  {
   "cell_type": "code",
   "execution_count": 2,
   "id": "35f56650",
   "metadata": {},
   "outputs": [
    {
     "name": "stdout",
     "output_type": "stream",
     "text": [
      "My dog's name is Tilda.\n",
      "My dog's age is 11.\n",
      "\n",
      "My dog's name is Duffy.\n",
      "My dog's age is 14.\n",
      "Tilda is now sitting!\n",
      "Tilda is now rolling over!\n",
      "Duffy is now sitting!\n",
      "Duffy is now rolling over!\n"
     ]
    }
   ],
   "source": [
    "# Creating the class Dog\n",
    "class Dog:\n",
    "    '''Simple attempt to model a dog'''\n",
    "#   Init method that runs whenever we create and instance\n",
    "    def __init__(self, name, age):\n",
    "        '''Initialize name and age attributes'''\n",
    "        self.name = name\n",
    "        self.age = age\n",
    "        \n",
    "#   Methods we can call\n",
    "    def sit(self):\n",
    "        '''Simulate the dog sitting'''\n",
    "        print(f'{self.name} is now sitting!')\n",
    "        \n",
    "    def roll_over(self):\n",
    "        '''Simulate the dog rolling over'''\n",
    "        print(f'{self.name} is now rolling over!')\n",
    "        \n",
    "# Creating an instance called Tilda that is 11 years old\n",
    "my_dog=Dog('Tilda', 11)\n",
    "# Creating another instance \n",
    "nans_dog=Dog('Duffy', 14)\n",
    "\n",
    "# Printing off the attributes of the instance\n",
    "print(f\"My dog's name is {my_dog.name}.\")\n",
    "print(f\"My dog's age is {my_dog.age}.\")\n",
    "print(f\"\\nMy dog's name is {nans_dog.name}.\")\n",
    "print(f\"My dog's age is {nans_dog.age}.\")\n",
    "\n",
    "# Calling methods inside of the class \n",
    "my_dog.sit()\n",
    "my_dog.roll_over()\n",
    "nans_dog.sit()\n",
    "nans_dog.roll_over()"
   ]
  },
  {
   "cell_type": "markdown",
   "id": "6ad42408",
   "metadata": {},
   "source": [
    "> Here we have created another instance of the class Dog, each are their own seperate instances of teh classs and each have their own attributes, but we can use these different attributes in the same methods doing the same set of actions"
   ]
  },
  {
   "cell_type": "markdown",
   "id": "a55f1102",
   "metadata": {},
   "source": [
    "## Tasks\n",
    "\n",
    "Make a class called Restaurant. The init method should have two attributes, the name of the restaurant and the type of cuisine. Make a method called describe restaruant that prints two peices of information, then make another method called open restuarant that prints a message saying that the restaurant is open. Then make an instance of the class Restaurant, print the two attributes induvidually then call both of the methods. \n",
    "\n"
   ]
  },
  {
   "cell_type": "code",
   "execution_count": 4,
   "id": "1654941a",
   "metadata": {},
   "outputs": [
    {
     "name": "stdout",
     "output_type": "stream",
     "text": [
      "My favoriate restaurant is Flesh and Buns.\n",
      "Flesh and Buns serves Korean.\n",
      "Marlas favoriate restaurant is Harlem.\n",
      "Harlem serves Brunch.\n",
      "Lyndas favoriate restaurant is Runway 6-2.\n",
      "Runway 6-2 serves Brunch.\n",
      "Go to Flesh and Buns if you want Korean food.\n",
      "Flesh and Buns is now open for service.\n",
      "Go to Harlem if you want Brunch food.\n",
      "Harlem is now open for service.\n",
      "Go to Runway 6-2 if you want Brunch food.\n",
      "Runway 6-2 is now open for service.\n"
     ]
    }
   ],
   "source": [
    "# Creating a class\n",
    "class Restaurant():\n",
    "    '''Simple model of a resaurant'''\n",
    "#   Setting up init method that creates instances\n",
    "    def __init__(self, name, cuisine):\n",
    "        self.name = name\n",
    "        self.cuisine = cuisine\n",
    "\n",
    "#   Creating a method to descrbie the restaurant \n",
    "    def describe_restaurant(self):\n",
    "        print(f\"Go to {self.name} if you want {self.cuisine} food.\")\n",
    "    \n",
    "#   Creating a method to show the restaurant is open\n",
    "    def open_restaurant(self):\n",
    "        print(f\"{self.name} is now open for service.\")        \n",
    "\n",
    "# Creating an instance\n",
    "fav_restaurant = Restaurant('Flesh and Buns', 'Korean')\n",
    "# Creating more instances\n",
    "marla_restaurant = Restaurant('Harlem', 'Brunch')\n",
    "# Creating another instance\n",
    "lynda_restaurant = Restaurant('Runway 6-2', 'Brunch')\n",
    "\n",
    "# Prinitng the two attributes\n",
    "print(f\"My favoriate restaurant is {fav_restaurant.name}.\")\n",
    "print(f\"{fav_restaurant.name} serves {fav_restaurant.cuisine}.\")\n",
    "# Printing more attributes\n",
    "print(f\"Marlas favoriate restaurant is {marla_restaurant.name}.\")\n",
    "print(f\"{marla_restaurant.name} serves {marla_restaurant.cuisine}.\")\n",
    "# Printing the attributes of Mums instance\n",
    "print(f\"Lyndas favoriate restaurant is {lynda_restaurant.name}.\")\n",
    "print(f\"{lynda_restaurant.name} serves {lynda_restaurant.cuisine}.\")\n",
    "\n",
    "# Calling the methods inside of the class Restaurant\n",
    "fav_restaurant.describe_restaurant()\n",
    "fav_restaurant.open_restaurant()\n",
    "# Calling the methods using the instance created for Marla\n",
    "marla_restaurant.describe_restaurant()\n",
    "marla_restaurant.open_restaurant()\n",
    "# Calling the methods inside of the class with the instances created for Mum\n",
    "lynda_restaurant.describe_restaurant()\n",
    "lynda_restaurant.open_restaurant()\n"
   ]
  },
  {
   "cell_type": "markdown",
   "id": "de35e94b",
   "metadata": {},
   "source": [
    "Make a class called User, create two attributes called first_name and last_name and then create severel other attributes that are typically stored in a user profile. Make a method called describe_user() that prints a summary of the users information. Make another methods called greet_user() that prints a personalised greeting to the user. \n",
    "\n",
    "Create several instances representing different users, and call both methods for each user."
   ]
  },
  {
   "cell_type": "code",
   "execution_count": 20,
   "id": "f28bcadb",
   "metadata": {
    "scrolled": false
   },
   "outputs": [
    {
     "name": "stdout",
     "output_type": "stream",
     "text": [
      "\n",
      "Accessing the attributes of User1\n",
      "cameron\n",
      "wheeler\n",
      "22\n",
      "cam@gmail.com\n",
      "Bath\n",
      "\n",
      "Calling the methods inside of the class\n",
      "The users name is Cameron Wheeler.\n",
      "Cameron is 22 years old.\n",
      "Email: cam@gmail.com\n",
      "Location: Bath.\n",
      "\n",
      "Hello Cameron we are happy to have you back online.\n",
      "\n",
      "Accessing the attributes of User2\n",
      "ben\n",
      "soden\n",
      "21\n",
      "ben123@hotmail.com\n",
      "Bath\n",
      "\n",
      "Calling the methods inside of the class\n",
      "The users name is Ben Soden.\n",
      "Ben is 21 years old.\n",
      "Email: ben123@hotmail.com\n",
      "Location: Bath.\n",
      "\n",
      "Hello Ben we are happy to have you back online.\n"
     ]
    }
   ],
   "source": [
    "# Setting up the class User\n",
    "\n",
    "class User:\n",
    "    \"Creates user profile\"\n",
    "    \n",
    "#   Setting the init function --> creates the instance\n",
    "    def __init__(self, first_name, last_name, age, email, location):\n",
    "        self.first_name = first_name\n",
    "        self.last_name = last_name\n",
    "        self.age = age\n",
    "        self.email = email\n",
    "        self.location = location\n",
    "        \n",
    "#   Setting up the method describe user, that prints a summary of the users information\n",
    "#   I think the reason we use self is because if we used the actual parameter in the function python wouldn't\n",
    "#   know what to use, as we are creating several objects with the different values for the parameters\n",
    "    def describe_user(self):\n",
    "        print(f\"The users name is {self.first_name.title()} {self.last_name.title()}.\")\n",
    "        print(f\"{self.first_name.title()} is {self.age} years old.\")\n",
    "        print(f\"Email: {self.email}\")\n",
    "        print(f\"Location: {self.location.title()}.\")\n",
    "\n",
    "#   Setting up greet user to print a personalised message\n",
    "    def greet_user(self):\n",
    "        print(f\"\\nHello {self.first_name.title()} we are happy to have you back online.\")\n",
    "\n",
    "\n",
    "# Creating instance of class User\n",
    "user1 = User(first_name='cameron', last_name='wheeler', age=22, email='cam@gmail.com', location='Bath')\n",
    "\n",
    "# Printing the attributes \n",
    "# Place the instance followed by the attribute we want to print off\n",
    "print(\"\\nAccessing the attributes of User1\")\n",
    "print(user1.first_name)\n",
    "print(user1.last_name)\n",
    "print(user1.age)\n",
    "print(user1.email)\n",
    "print(user1.location)\n",
    "\n",
    "# Calling methods inside of the class\n",
    "# Place the instance followed by the method we want to call with ()\n",
    "print(\"\\nCalling the methods inside of the class\")\n",
    "user1.describe_user()\n",
    "user1.greet_user()\n",
    "\n",
    "# Creating another instance of the class User\n",
    "# When creating an instance it is key we remeber to place what class we are wanting to use to create the instance\n",
    "user2 = User(first_name='ben', last_name='soden', age=21, email='ben123@hotmail.com', location='Bath')\n",
    "\n",
    "# Printing the attributes of the instance\n",
    "print(\"\\nAccessing the attributes of User2\")\n",
    "print(user2.first_name)\n",
    "print(user2.last_name)\n",
    "print(user2.age)\n",
    "print(user2.email)\n",
    "print(user2.location)\n",
    "\n",
    "# Calling the methods with the istance we have created\n",
    "# Instance . method ()\n",
    "print(\"\\nCalling the methods inside of the class\")\n",
    "user2.describe_user()\n",
    "user2.greet_user()\n"
   ]
  },
  {
   "cell_type": "markdown",
   "id": "4f34510e",
   "metadata": {},
   "source": [
    "## Working With Classes and Instances\n",
    "\n",
    "We can use classes to represent real world situations, once we have made a class, we will spend most of our time working with the instances we have created using that class. One of the first things we will want to do is modify the attributes associated with a particular instance. We can modify the attributesof an instance directly or write methods that update attriutes in specific ways. "
   ]
  },
  {
   "cell_type": "markdown",
   "id": "19e1587d",
   "metadata": {},
   "source": [
    "### The Car Class\n",
    "\n",
    "Now we are going to write a new class that represents a car. In this class we will store information about the kind of car we are working with, and t will have a method that summerizes the information about the car."
   ]
  },
  {
   "cell_type": "code",
   "execution_count": 24,
   "id": "bba066fc",
   "metadata": {},
   "outputs": [
    {
     "name": "stdout",
     "output_type": "stream",
     "text": [
      "2020 Ford Fiesta\n"
     ]
    }
   ],
   "source": [
    "# Setting up the class\n",
    "class Car:\n",
    "    '''A simple representation of a car'''\n",
    "\n",
    "#   Setting up the init method (makes the instances of the class)\n",
    "    def __init__(self, make, model, year):\n",
    "        self.make = make\n",
    "        self.model = model\n",
    "        self.year = year\n",
    "    \n",
    "#   Setting up the method that returns the information about the car\n",
    "    def get_descriptive_information(self):\n",
    "        '''Returns a neatly formatted description'''\n",
    "#       Creating a new variable to return to the call line using return\n",
    "        full_info = f\"{self.year} {self.make} {self.model}\"\n",
    "        return full_info\n",
    "    \n",
    "    \n",
    "# Creating an instance\n",
    "my_car = Car(make='Ford', model='Fiesta', year=2020)\n",
    "# Printing the value that is returned to the call line, but we still have to call the function\n",
    "print(my_car.get_descriptive_information())"
   ]
  },
  {
   "cell_type": "markdown",
   "id": "ffd3a8ca",
   "metadata": {},
   "source": [
    "> NICE! Now lets run through this code, in the class Car we define the __init__ method with the self parameter just like before, we also give the init method the other parameters it needs to make the instance we want. The init method takes these parameters and turns them into attributes that will be assocaited with the instance we have created. When we make a car using the Car class we need to make sure we pass all of the information needed for the object to be created \n",
    "\n",
    "> We then define a method that puts all of the cars informaton into one string that describes the car, this spares us from having to print all of the cars attributes induviually like we did before (so thats how we do it!) To work with these attributes we use self.year, self.make, self.model.\n",
    "\n",
    "> Finally, we make an instance of the class Car and assign it to the variable my_car, then we call the method get descriptive information() to show what kind of car we have created. "
   ]
  },
  {
   "cell_type": "markdown",
   "id": "76e313f1",
   "metadata": {},
   "source": [
    "Now lets make this class more interesting by adding an attribute that changes over time. We will then add an attribute that stores the cars overall milage."
   ]
  },
  {
   "cell_type": "markdown",
   "id": "80addbd9",
   "metadata": {},
   "source": [
    "### Setting A Default Value For An Attribute\n",
    "\n",
    "So far all of the attributes of an instance have been define in the parameters when we are creating the instance. However, when an instance is created attributes can be defined WITHOUT being passed in as a parameter. These attributes ca be defined in teh init methd where they are assinged as a default value.\n",
    "\n",
    "Lets add an attribute called odometer_reading that starts with the value of 0. We will also add a method read.odometer() that helps us read each cars odometer. "
   ]
  },
  {
   "cell_type": "code",
   "execution_count": 27,
   "id": "0555a90b",
   "metadata": {},
   "outputs": [
    {
     "name": "stdout",
     "output_type": "stream",
     "text": [
      "2020 Ford Fiesta\n",
      "This car has done 0 miles.\n"
     ]
    }
   ],
   "source": [
    "# Setting up the class\n",
    "class Car:\n",
    "    '''A simple representation of a car'''\n",
    "\n",
    "#   Setting up the init method (makes the instances of the class)\n",
    "    def __init__(self, make, model, year):\n",
    "        self.make = make\n",
    "        self.model = model\n",
    "        self.year = year\n",
    "#       Adding the default value for the attribute self.odometer_reading\n",
    "        self.odometer_reading = 0\n",
    "    \n",
    "#   Setting up the method that returns the information about the car\n",
    "    def get_descriptive_information(self):\n",
    "        '''Returns a neatly formatted description'''\n",
    "#       Creating a new variable to return to the call line using return\n",
    "        full_info = f\"{self.year} {self.make} {self.model}\"\n",
    "        return full_info\n",
    "    \n",
    "#   Setting up the method that reads the odometer \n",
    "    def read_odometer(self):\n",
    "        '''Print a string showing the cars milage'''\n",
    "#       Code that runs when we call the function\n",
    "        print(f\"This car has done {self.odometer_reading} miles.\")\n",
    "        \n",
    "# Creating an instance \n",
    "my_car = Car(make='Ford', model='Fiesta', year=2020)\n",
    "# Calling the get descriptive information function, its returning a value to the function call so we need to print\n",
    "# the value\n",
    "print(my_car.get_descriptive_information())\n",
    "# Calling the read odometer function\n",
    "my_car.read_odometer()"
   ]
  },
  {
   "cell_type": "markdown",
   "id": "3ef6e23d",
   "metadata": {},
   "source": [
    "> Lets run through this example! This time when we create an instance, python calls the init method to create a new instance, python stores the make, model, and year values that we have passed as arguements to the parameters as attributes like it did in the previous example. Then python creates a new attribute called odometer_reading and sets its value to 0. We also have made this new method called read_odometer() that allows us to easily look at a cars milage, this starts with 0."
   ]
  },
  {
   "cell_type": "markdown",
   "id": "a6e5fec0",
   "metadata": {},
   "source": [
    "### Modifying Attribute Values\n",
    "\n",
    "We can change an attributes value in 3 ways, we can change the value directly through an instance, set the valye through a method or increment the value (add a certain amount or take a certain amount away) through a method. Lets look at each of the approaches induvidually."
   ]
  },
  {
   "cell_type": "markdown",
   "id": "d988dfaf",
   "metadata": {},
   "source": [
    "### Modifying An Attributes Value Directly\n",
    "\n",
    "This is the simplest way to modify an attributes value. We access the attribute directly through an instance"
   ]
  },
  {
   "cell_type": "code",
   "execution_count": 1,
   "id": "5577f2b1",
   "metadata": {},
   "outputs": [
    {
     "name": "stdout",
     "output_type": "stream",
     "text": [
      "2020 Ford Fiesta\n",
      "This car has done 400 miles.\n"
     ]
    }
   ],
   "source": [
    "# Setting up the class\n",
    "class Car:\n",
    "    '''A simple representation of a car'''\n",
    "\n",
    "#   Setting up the init method (makes the instances of the class)\n",
    "    def __init__(self, make, model, year):\n",
    "        self.make = make\n",
    "        self.model = model\n",
    "        self.year = year\n",
    "#       Adding the default value for the attribute self.odometer_reading\n",
    "        self.odometer_reading = 0\n",
    "    \n",
    "#   Setting up the method that returns the information about the car\n",
    "    def get_descriptive_information(self):\n",
    "        '''Returns a neatly formatted description'''\n",
    "#       Creating a new variable to return to the call line using return\n",
    "        full_info = f\"{self.year} {self.make} {self.model}\"\n",
    "        return full_info\n",
    "    \n",
    "#   Setting up the method that reads the odometer \n",
    "    def read_odometer(self):\n",
    "        '''Print a string showing the cars milage'''\n",
    "#       Code that runs when we call the function\n",
    "        print(f\"This car has done {self.odometer_reading} miles.\")\n",
    "        \n",
    "# Creating an instance \n",
    "my_car = Car(make='Ford', model='Fiesta', year=2020)\n",
    "# Calling the get descriptive information function, its returning a value to the function call so we need to print\n",
    "# the value\n",
    "print(my_car.get_descriptive_information())\n",
    "# Setting the cars odometer to 400 miles\n",
    "my_car.odometer_reading = 400\n",
    "# Calling the read odometer function\n",
    "my_car.read_odometer()"
   ]
  },
  {
   "cell_type": "markdown",
   "id": "75965a1c",
   "metadata": {},
   "source": [
    "> Here we set the value of the odometer reading using dot notation to access the odometer_reading attribute. This line tells python to take the instance my_car and find the attribute odometer reading and set it to 400 "
   ]
  },
  {
   "cell_type": "markdown",
   "id": "861c4836",
   "metadata": {},
   "source": [
    "### Modifying An Attributes Value Through A Method\n",
    "\n",
    "Sometimes we will want to get an attributes value through an instance. Instead of doing it directly like before, we can pass a new value to a method that handles the updateing internally"
   ]
  },
  {
   "cell_type": "code",
   "execution_count": 5,
   "id": "9f805a97",
   "metadata": {},
   "outputs": [
    {
     "name": "stdout",
     "output_type": "stream",
     "text": [
      "2020 Ford Fiesta\n",
      "This car has done 400 miles.\n"
     ]
    }
   ],
   "source": [
    "# Setting up the class\n",
    "class Car:\n",
    "    '''A simple representation of a car'''\n",
    "\n",
    "#   Setting up the init method (makes the instances of the class)\n",
    "    def __init__(self, make, model, year):\n",
    "        self.make = make\n",
    "        self.model = model\n",
    "        self.year = year\n",
    "#       Adding the default value for the attribute self.odometer_reading\n",
    "        self.odometer_reading = 0\n",
    "    \n",
    "#   Setting up the method that returns the information about the car\n",
    "    def get_descriptive_information(self):\n",
    "        '''Returns a neatly formatted description'''\n",
    "#       Creating a new variable to return to the call line using return\n",
    "        full_info = f\"{self.year} {self.make} {self.model}\"\n",
    "        return full_info\n",
    "    \n",
    "#   Setting up the method that reads the odometer \n",
    "    def read_odometer(self):\n",
    "        '''Print a string showing the cars milage'''\n",
    "#       Code that runs when we call the function\n",
    "        print(f\"This car has done {self.odometer_reading} miles.\")\n",
    "    \n",
    "#   Setting up a method that updates the odometer\n",
    "    def update_odometer(self, mileage):\n",
    "        ''''Set the odometer reading to the given value'''\n",
    "        self.odometer_reading = mileage\n",
    "        \n",
    "# Creating an instance \n",
    "my_car = Car(make='Ford', model='Fiesta', year=2020)\n",
    "# Calling the get descriptive information function, its returning a value to the function call so we need to print\n",
    "# the value\n",
    "print(my_car.get_descriptive_information())\n",
    "# Modifying the attribute value through a method \n",
    "my_car.update_odometer(400)\n",
    "# Calling the read odometer function\n",
    "my_car.read_odometer()"
   ]
  },
  {
   "cell_type": "markdown",
   "id": "bc1be6ec",
   "metadata": {},
   "source": [
    "> This works in a similar manner but seems to take a few extra steps, so we have added a methond that updates the odometer value, in this method we set the attribute self.odometer reading to equal the parameter milage, when we call the method we pass the arugment 400 to mileage, this is then set to self.odometer_reading. We then call the odomter_reading funcion that prints the self.odoemter_reading value in a string."
   ]
  },
  {
   "cell_type": "markdown",
   "id": "b2e41ecf",
   "metadata": {},
   "source": [
    "We can extend this method to do some additional work, when selling a car some people like to roll back the odometer to make the car seem less used. Lets make sure this doesn't happen."
   ]
  },
  {
   "cell_type": "code",
   "execution_count": 11,
   "id": "5b80282b",
   "metadata": {},
   "outputs": [
    {
     "name": "stdout",
     "output_type": "stream",
     "text": [
      "2020 Ford Fiesta\n",
      "You cannot roll back mileage!\n",
      "This car has done 400 miles.\n"
     ]
    }
   ],
   "source": [
    "# Setting up the class\n",
    "class Car:\n",
    "    '''A simple representation of a car'''\n",
    "\n",
    "#   Setting up the init method (makes the instances of the class)\n",
    "    def __init__(self, make, model, year):\n",
    "        self.make = make\n",
    "        self.model = model\n",
    "        self.year = year\n",
    "#       Adding the default value for the attribute self.odometer_reading\n",
    "        self.odometer_reading = 400\n",
    "    \n",
    "#   Setting up the method that returns the information about the car\n",
    "    def get_descriptive_information(self):\n",
    "        '''Returns a neatly formatted description'''\n",
    "#       Creating a new variable to return to the call line using return\n",
    "        full_info = f\"{self.year} {self.make} {self.model}\"\n",
    "        return full_info\n",
    "    \n",
    "#   Setting up the method that reads the odometer \n",
    "    def read_odometer(self):\n",
    "        '''Print a string showing the cars milage'''\n",
    "#       Code that runs when we call the function\n",
    "        print(f\"This car has done {self.odometer_reading} miles.\")\n",
    "    \n",
    "#   Setting up a method that updates the odometer\n",
    "    def update_odometer(self, mileage):\n",
    "        ''''Set the odometer reading to the given value\n",
    "        reject any attempt to reverse milage'''\n",
    "        if mileage >= self.odometer_reading:\n",
    "            self.odometer_reading = mileage\n",
    "        else:\n",
    "            print(\"You cannot roll back mileage!\")\n",
    "        \n",
    "# Creating an instance \n",
    "my_car = Car(make='Ford', model='Fiesta', year=2020)\n",
    "# Calling the get descriptive information function, its returning a value to the function call so we need to print\n",
    "# the value\n",
    "print(my_car.get_descriptive_information())\n",
    "# Modifying the attribute value through a method \n",
    "my_car.update_odometer(20)\n",
    "# Calling the read odometer function \n",
    "my_car.read_odometer()"
   ]
  },
  {
   "cell_type": "markdown",
   "id": "d46e1777",
   "metadata": {},
   "source": [
    "> Now the update_odometer() method checks to make sure people arn't tring to reverse the milage of their car, we use an if statment to check if the current value for the attribute odometer_reading is less than the updated value that the user can enter. "
   ]
  },
  {
   "cell_type": "markdown",
   "id": "689e5e1c",
   "metadata": {},
   "source": [
    "### Incrementing An Attributes Value Through A Method\n",
    "\n",
    "Sometimes we will want to increment an attributes value by a certain amount rather than set an entirely new value. For example, if we buy a used car and put 100 miles onto it in the time between buying and registering it. Below is a method that allows us to pass this incremental amount and add that value to odometer_reading"
   ]
  },
  {
   "cell_type": "code",
   "execution_count": 14,
   "id": "8d0283f9",
   "metadata": {},
   "outputs": [
    {
     "name": "stdout",
     "output_type": "stream",
     "text": [
      "2020 Ford Fiesta\n",
      "This car has done 20 miles.\n",
      "This car has done 50 miles.\n"
     ]
    }
   ],
   "source": [
    "# Setting up the class\n",
    "class Car:\n",
    "    '''A simple representation of a car'''\n",
    "\n",
    "#   Setting up the init method (makes the instances of the class)\n",
    "    def __init__(self, make, model, year):\n",
    "        self.make = make\n",
    "        self.model = model\n",
    "        self.year = year\n",
    "#       Adding the default value for the attribute self.odometer_reading\n",
    "        self.odometer_reading = 0\n",
    "    \n",
    "#   Setting up the method that returns the information about the car\n",
    "    def get_descriptive_information(self):\n",
    "        '''Returns a neatly formatted description'''\n",
    "#       Creating a new variable to return to the call line using return\n",
    "        full_info = f\"{self.year} {self.make} {self.model}\"\n",
    "        return full_info\n",
    "    \n",
    "#   Setting up the method that reads the odometer \n",
    "    def read_odometer(self):\n",
    "        '''Print a string showing the cars milage'''\n",
    "#       Code that runs when we call the function\n",
    "        print(f\"This car has done {self.odometer_reading} miles.\")\n",
    "    \n",
    "#   Setting up a method that updates the odometer\n",
    "    def update_odometer(self, mileage):\n",
    "        ''''Set the odometer reading to the given value\n",
    "        reject any attempt to reverse milage'''\n",
    "        if mileage >= self.odometer_reading:\n",
    "            self.odometer_reading = mileage\n",
    "        else:\n",
    "            print(\"You cannot roll back mileage!\")\n",
    "\n",
    "#   Setting up the increment method\n",
    "    def increment_odometer(self, miles):\n",
    "        '''Increments value of attribute'''\n",
    "        self.odometer_reading += miles\n",
    "        \n",
    "# Creating an instance \n",
    "my_car = Car(make='Ford', model='Fiesta', year=2020)\n",
    "# Calling the get descriptive information function (remeber we need to print this as its a return value)\n",
    "print(my_car.get_descriptive_information())\n",
    "# Modifying the attribute value through a method \n",
    "my_car.update_odometer(20)\n",
    "# Calling the read odometer function \n",
    "my_car.read_odometer()\n",
    "# Incrementing the odometer\n",
    "my_car.increment_odometer(30)\n",
    "# Calling the read odometer function again\n",
    "my_car.read_odometer()"
   ]
  },
  {
   "cell_type": "markdown",
   "id": "bc78843c",
   "metadata": {},
   "source": [
    "> Again we are doing some simple stuff but there are quite a few steps involved, lets walk through them. The new method we have created called increment odometer takes a number (arguement) and adds this value to the self.odometer_reading attribute value. We can then call the function when we want to increment the odometer value, here we add 30 miles on the odometer of the Ford and then call the read odometer function that will go an collect the new value of the odometer attribute. "
   ]
  },
  {
   "cell_type": "markdown",
   "id": "0e92f012",
   "metadata": {},
   "source": [
    "NOTE - We can use methods like this to control how users of your program are able to update values such as an odometer reading on a car sale website, but anyone with. access to the program can set the odometer reading of a certain car by accessing the attribute directly. Effective security takes extreme attention to detail and basic checks such as the if statement above. "
   ]
  },
  {
   "cell_type": "markdown",
   "id": "f414e880",
   "metadata": {},
   "source": [
    "## Tasks\n",
    "\n",
    "Start with the program with the restaurants, add an attribute called number_served with a default value of 0. Create an instance called restuarant from this class. Print the number of customers the restaurant has severd and then chagne this value and print it again. After that, add a method called set_number_served() that wil allow us to set the number of the amount of customers that have been served in a day. Finally make another method called increment number served that lets us increment the number of customers who have been served. Call this method with any number we like."
   ]
  },
  {
   "cell_type": "code",
   "execution_count": 17,
   "id": "dd7689c2",
   "metadata": {},
   "outputs": [
    {
     "name": "stdout",
     "output_type": "stream",
     "text": [
      "0\n",
      "20\n"
     ]
    }
   ],
   "source": [
    "# Creating a class\n",
    "class Restaurant():\n",
    "    '''Simple model of a resaurant'''\n",
    "#   Setting up init method that creates instances\n",
    "    def __init__(self, name, cuisine):\n",
    "        self.name = name\n",
    "        self.cuisine = cuisine\n",
    "#       Setting the attribute number_served to 0 \n",
    "        self.number_served = 0\n",
    "\n",
    "#   Creating a method to descrbie the restaurant \n",
    "    def describe_restaurant(self):\n",
    "        print(f\"Go to {self.name} if you want {self.cuisine} food.\")\n",
    "    \n",
    "#   Creating a method to show the restaurant is open\n",
    "    def open_restaurant(self):\n",
    "        print(f\"{self.name} is now open for service.\")\n",
    "    \n",
    "# Creating the instance \n",
    "my_restaurant = Restaurant('Camerons', 'Pizza')\n",
    "# Printing the number of customers served\n",
    "print(my_restaurant.number_served)\n",
    "# Changing the attribute value directly\n",
    "my_restaurant.number_served = 20\n",
    "# Printing the number of customers served\n",
    "print(my_restaurant.number_served)"
   ]
  },
  {
   "cell_type": "code",
   "execution_count": 18,
   "id": "9651e81c",
   "metadata": {},
   "outputs": [
    {
     "name": "stdout",
     "output_type": "stream",
     "text": [
      "0\n",
      "43\n"
     ]
    }
   ],
   "source": [
    "# Creating a class\n",
    "class Restaurant():\n",
    "    '''Simple model of a resaurant'''\n",
    "#   Setting up init method that creates instances\n",
    "    def __init__(self, name, cuisine):\n",
    "        self.name = name\n",
    "        self.cuisine = cuisine\n",
    "#       Setting the attribute number_served to 0 \n",
    "        self.number_served = 0\n",
    "\n",
    "#   Creating a method to descrbie the restaurant \n",
    "    def describe_restaurant(self):\n",
    "        print(f\"Go to {self.name} if you want {self.cuisine} food.\")\n",
    "    \n",
    "#   Creating a method to show the restaurant is open\n",
    "    def open_restaurant(self):\n",
    "        print(f\"{self.name} is now open for service.\")\n",
    "\n",
    "#   Adding a method that sets the number of customers served\n",
    "    def set_number_served(self, people_served):\n",
    "        '''Sets the number of people served today'''\n",
    "        self.number_served = people_served\n",
    "\n",
    "# Creating the instance \n",
    "my_restaurant = Restaurant('Camerons', 'Pizza')\n",
    "# Printing the number of customers served\n",
    "print(my_restaurant.number_served)\n",
    "# Calling the method and changing the value of people that were served\n",
    "# Instance, method, value\n",
    "my_restaurant.set_number_served(43)\n",
    "# Printing the number of customers served\n",
    "print(my_restaurant.number_served)"
   ]
  },
  {
   "cell_type": "code",
   "execution_count": 21,
   "id": "b44c159f",
   "metadata": {},
   "outputs": [
    {
     "name": "stdout",
     "output_type": "stream",
     "text": [
      "0\n",
      "43\n",
      "45\n"
     ]
    }
   ],
   "source": [
    "# Creating a class\n",
    "class Restaurant():\n",
    "    '''Simple model of a resaurant'''\n",
    "#   Setting up init method that creates instances\n",
    "    def __init__(self, name, cuisine):\n",
    "        self.name = name\n",
    "        self.cuisine = cuisine\n",
    "#       Setting the attribute number_served to 0 \n",
    "        self.number_served = 0\n",
    "\n",
    "#   Creating a method to descrbie the restaurant \n",
    "    def describe_restaurant(self):\n",
    "        print(f\"Go to {self.name} if you want {self.cuisine} food.\")\n",
    "    \n",
    "#   Creating a method to show the restaurant is open\n",
    "    def open_restaurant(self):\n",
    "        print(f\"{self.name} is now open for service.\")\n",
    "\n",
    "#   Adding a method that sets the number of customers served\n",
    "    def set_number_served(self, people_served):\n",
    "        '''Sets the number of people served today'''\n",
    "        self.number_served = people_served\n",
    "        \n",
    "#   Adding a method that increments the number of customers served\n",
    "    def increment_number_served(self, increment_number):\n",
    "        '''Increments the self.number_served attribute'''\n",
    "        self.number_served += increment_number\n",
    "        \n",
    "# Creating the instance \n",
    "my_restaurant = Restaurant('Camerons', 'Pizza')\n",
    "# Printing the number of customers served\n",
    "print(my_restaurant.number_served)\n",
    "# Calling the method and changing the value of people that were served\n",
    "# Instance, method, value\n",
    "my_restaurant.set_number_served(43)\n",
    "# Printing the number of customers served\n",
    "print(my_restaurant.number_served)\n",
    "'''Ooops we missed a couple of people at the end of the day, lets add them to make sure the final number is correct'''\n",
    "# Increment the value\n",
    "my_restaurant.increment_number_served(2)\n",
    "# Printing the number of customers served\n",
    "print(my_restaurant.number_served)"
   ]
  },
  {
   "cell_type": "markdown",
   "id": "7d6751d7",
   "metadata": {},
   "source": [
    "Add an attribute called login attempts to the class of users shown above. Write a method called increment login attempts that increments the value of login attempts by 1. Write another method called reset login attempts htat resets the value of login attempts to 0 "
   ]
  },
  {
   "cell_type": "code",
   "execution_count": 37,
   "id": "e3f956c1",
   "metadata": {},
   "outputs": [
    {
     "name": "stdout",
     "output_type": "stream",
     "text": [
      "0\n",
      "3\n",
      "0\n"
     ]
    }
   ],
   "source": [
    "# Setting up the class User\n",
    "\n",
    "class User:\n",
    "    \"Creates user profile\"\n",
    "    \n",
    "#   Setting the init function --> creates the instance\n",
    "    def __init__(self, first_name, last_name, age, email, location):\n",
    "        self.first_name = first_name\n",
    "        self.last_name = last_name\n",
    "        self.age = age\n",
    "        self.email = email\n",
    "        self.location = location\n",
    "        self.login_attempts = 0\n",
    "        \n",
    "#   Setting up the method describe user, that prints a summary of the users information\n",
    "#   I think the reason we use self is because if we used the actual parameter in the function python wouldn't\n",
    "#   know what to use, as we are creating several objects with the different values for the parameters\n",
    "    def describe_user(self):\n",
    "        print(f\"The users name is {self.first_name.title()} {self.last_name.title()}.\")\n",
    "        print(f\"{self.first_name.title()} is {self.age} years old.\")\n",
    "        print(f\"Email: {self.email}\")\n",
    "        print(f\"Location: {self.location.title()}.\")\n",
    "\n",
    "#   Setting up greet user to print a personalised message\n",
    "    def greet_user(self):\n",
    "        print(f\"\\nHello {self.first_name.title()} we are happy to have you back online.\")\n",
    "        \n",
    "#   Setting up the login_attempts increment\n",
    "    def increment_login_attempts(self):\n",
    "        '''Increments the times the user has tried to log in'''\n",
    "        self.login_attempts += 1\n",
    "\n",
    "#   Resetting the loging attempts\n",
    "    def reset_login_attempts(self):\n",
    "        '''Resets the login attempts'''\n",
    "        self.login_attempts = 0\n",
    "        \n",
    "# Creating instance of class User\n",
    "user1 = User(first_name='cameron', last_name='wheeler', age=22, email='cam@gmail.com', location='Bath')\n",
    "\n",
    "# Showing each time the user has logged in and that it increments correctly\n",
    "print(user1.login_attempts)\n",
    "user1.increment_login_attempts()\n",
    "user1.increment_login_attempts()\n",
    "user1.increment_login_attempts()\n",
    "print(user1.login_attempts)\n",
    "\n",
    "\n",
    "# Resetting the log in attempts at the end of the day\n",
    "user1.reset_login_attempts()\n",
    "print(user1.login_attempts)"
   ]
  },
  {
   "cell_type": "markdown",
   "id": "bf8d6909",
   "metadata": {},
   "source": [
    "### Inheritance \n",
    "\n",
    "You don't always have to start from scratch when we are writing a class. If the class we are writing is specialised version of another class we have written, we can use inheritance. When one class inherits from another, it takes on the attributes of the 'parent' class. The original class is called the parent class and the new class is called the 'child class'. The child class can inherit any or all of the attributes and methods of it's parent classm but it is also free to define new attributes and methods of its own. "
   ]
  },
  {
   "cell_type": "markdown",
   "id": "cbcfa472",
   "metadata": {},
   "source": [
    "### The __init__ Method For Child Classes\n",
    "\n",
    "When we are writing a new class based on an existing class you will often want to call the init method from the parent class. This will initialise any attributes that are defined in the parent class init method therefore making them avaiable to the child class. For example, let model an electric car, these are just specalised forms of cars. This child class will take on the attributes of the Car class so we will only need to write code for the specalised attributes of an electric car.\n",
    "\n",
    "Lets start by making a simple version of the ElectricCar class, which does everything that the Car class does."
   ]
  },
  {
   "cell_type": "code",
   "execution_count": 8,
   "id": "5a4236e5",
   "metadata": {},
   "outputs": [
    {
     "name": "stdout",
     "output_type": "stream",
     "text": [
      "2021 Tesla model x\n",
      "2022 Tesla model y\n"
     ]
    }
   ],
   "source": [
    "# Setting up the class\n",
    "class Car:\n",
    "    '''A simple representation of a car'''\n",
    "\n",
    "#   Setting up the init method (makes the instances of the class)\n",
    "    def __init__(self, make, model, year):\n",
    "        self.make = make\n",
    "        self.model = model\n",
    "        self.year = year\n",
    "#       Adding the default value for the attribute self.odometer_reading\n",
    "        self.odometer_reading = 0\n",
    "    \n",
    "#   Setting up the method that returns the information about the car\n",
    "    def get_descriptive_information(self):\n",
    "        '''Returns a neatly formatted description'''\n",
    "#       Creating a new variable to return to the call line using return\n",
    "        full_info = f\"{self.year} {self.make} {self.model}\"\n",
    "        return full_info\n",
    "    \n",
    "#   Setting up the method that reads the odometer \n",
    "    def read_odometer(self):\n",
    "        '''Print a string showing the cars milage'''\n",
    "#       Code that runs when we call the function\n",
    "        print(f\"This car has done {self.odometer_reading} miles.\")\n",
    "    \n",
    "#   Setting up a method that updates the odometer\n",
    "    def update_odometer(self, mileage):\n",
    "        ''''Set the odometer reading to the given value\n",
    "        reject any attempt to reverse milage'''\n",
    "        if mileage >= self.odometer_reading:\n",
    "            self.odometer_reading = mileage\n",
    "        else:\n",
    "            print(\"You cannot roll back mileage!\")\n",
    "\n",
    "#   Setting up the increment method\n",
    "    def increment_odometer(self, miles):\n",
    "        '''Increments value of attribute'''\n",
    "        self.odometer_reading += miles\n",
    "    \n",
    "\n",
    "#   Setting up the child class called ElectricCar\n",
    "class ElectricCar(Car):\n",
    "        '''Represents aspects if a car that is specific to electric vehicals'''\n",
    "        \n",
    "        def __init__(self, make, model, year):\n",
    "            '''Initialize attributes of the parent class'''\n",
    "            super().__init__(make, model, year)\n",
    "            \n",
    "            \n",
    "            \n",
    "my_telsa = ElectricCar('Tesla', 'model x', 2021)\n",
    "second_tesla = ElectricCar('Tesla', 'model y', 2022)\n",
    "print(my_telsa.get_descriptive_information())\n",
    "print(second_tesla.get_descriptive_information())"
   ]
  },
  {
   "cell_type": "markdown",
   "id": "a23283d6",
   "metadata": {},
   "source": [
    "> This is slightly confusing so lets walk through this code together. First we start by creating a child class, the parent class must be a part of the current file, and must appear infront of the child class in the file. Next we define the child class as ElectricCar, the name of the parent class must be in the parentheses in the definition of the child class. The init method the takes the information requried to make a Car instance.\n",
    "\n",
    "> We then use this super() function, this allows the child class to use the methods of the parent class. This line tells Python to call the init function from the Car class, which gives an ElectricCar instance all of the attributes that are defined in the init method of the Car class. The name super comes from the convetion of calling the parent class a 'superclass' and the child class the 'subclass'. \n",
    "\n",
    "> Finally we test if the inheritance is working properly by creating an electric car instance, we use the same kind of information we would provide if we were creating an instance of the class Car. We make an instance of the ElectricCar class and assign it to my_tesla. This line of code calls the init method defined in the ElectricCar which in turn calls the init method that is defined in the parent class Car. At this point we are not adding anything to the electric car to define it from a normal car, we are just making sure that the ElectricCar class gives its instances the correct attributes --> which is does. "
   ]
  },
  {
   "cell_type": "markdown",
   "id": "c189df94",
   "metadata": {},
   "source": [
    "### Defining Attributes and Methods For The Child Class\n",
    "\n",
    "Once we have the child class set up so that it inherits from a parent class, you can add any new attributes and methods necessary to differentiate the child class from the parent class. \n",
    "\n",
    "Let's add an attribute that specific to an electric car that a normal car doesn't have, such as a battery, we will also add a method that report this attribute. We will store the battery size and write some code that prints a description of the battery."
   ]
  },
  {
   "cell_type": "code",
   "execution_count": 13,
   "id": "ab28e012",
   "metadata": {},
   "outputs": [
    {
     "name": "stdout",
     "output_type": "stream",
     "text": [
      "2021 Tesla model x\n",
      "This car has a battery of 75 kilo watts\n"
     ]
    }
   ],
   "source": [
    "# Setting up the class\n",
    "class Car:\n",
    "    '''A simple representation of a car'''\n",
    "\n",
    "#   Setting up the init method (makes the instances of the class)\n",
    "    def __init__(self, make, model, year):\n",
    "        self.make = make\n",
    "        self.model = model\n",
    "        self.year = year\n",
    "#       Adding the default value for the attribute self.odometer_reading\n",
    "        self.odometer_reading = 0\n",
    "    \n",
    "#   Setting up the method that returns the information about the car\n",
    "    def get_descriptive_information(self):\n",
    "        '''Returns a neatly formatted description'''\n",
    "#       Creating a new variable to return to the call line using return\n",
    "        full_info = f\"{self.year} {self.make} {self.model}\"\n",
    "        return full_info\n",
    "    \n",
    "#   Setting up the method that reads the odometer \n",
    "    def read_odometer(self):\n",
    "        '''Print a string showing the cars milage'''\n",
    "#       Code that runs when we call the function\n",
    "        print(f\"This car has done {self.odometer_reading} miles.\")\n",
    "    \n",
    "#   Setting up a method that updates the odometer\n",
    "    def update_odometer(self, mileage):\n",
    "        ''''Set the odometer reading to the given value\n",
    "        reject any attempt to reverse milage'''\n",
    "        if mileage >= self.odometer_reading:\n",
    "            self.odometer_reading = mileage\n",
    "        else:\n",
    "            print(\"You cannot roll back mileage!\")\n",
    "\n",
    "#   Setting up the increment method\n",
    "    def increment_odometer(self, miles):\n",
    "        '''Increments value of attribute'''\n",
    "        self.odometer_reading += miles\n",
    "    \n",
    "\n",
    "#   Setting up the child class called ElectricCar\n",
    "class ElectricCar(Car):\n",
    "        '''Represents aspects if a car that is specific to electric vehicals'''\n",
    "\n",
    "#       Setting up the init method of the child class with the parameters the same as the parent class\n",
    "        def __init__(self, make, model, year):\n",
    "            '''Initialize attributes of the parent class\n",
    "            Then initialise the attributes that are specific to the child class'''\n",
    "            super().__init__(make, model, year)\n",
    "            self.battery_size = 75\n",
    "    \n",
    "        def describe_battery(self):\n",
    "            '''Print a statement describing the battery size'''\n",
    "            print(f\"This car has a battery of {self.battery_size} kilo watts\")\n",
    "\n",
    "my_telsa = ElectricCar('Tesla', 'model x', 2021)\n",
    "print(my_telsa.get_descriptive_information())\n",
    "my_telsa.describe_battery()\n"
   ]
  },
  {
   "cell_type": "markdown",
   "id": "d5765c12",
   "metadata": {},
   "source": [
    "> In this code we have added a new attribute to the child class for the batter size (self_battery_size) and we have set its intial value to 75. This attribute will be assocaited with all instances created from ElectricCar but not the instances created using the Car class. We also create a method describe_battery() that prints the information that we have about the battery, when we call this method we get a description that is specific to an electric car. "
   ]
  },
  {
   "cell_type": "markdown",
   "id": "94c71cd7",
   "metadata": {},
   "source": [
    "There is no limit to how specialised the ElectricCar class can get. We can add as many attributes and methods as we need to model an electric car, to whatever degree of accuracy we like. An attribute or method that can belong to any car and not JUST and electric one should be added in the parent class. "
   ]
  },
  {
   "cell_type": "markdown",
   "id": "3d8b2cb3",
   "metadata": {},
   "source": [
    "### Overriding Methods From The Parent Class\n",
    "\n",
    "We can override any method from the parent class that doesn't fit well with what we are trying to achieve with the child class. To do this we need to define a method in teh child class with the same name as the method in the parent class, Python will simply override and leave the parent class method, paying attention to the method in the child class. For example the class Car had a method called fill_gas_tank, this would be useless in the electric car class, so we can do something like this.\n",
    "\n",
    "\n",
    "class ElectricCar(Car):\n",
    "\n",
    "--snip--\n",
    "\n",
    "def fill_gas_tank():\n",
    "\n",
    "    print(\"Electric cars do not need gas!\")\n",
    "    \n",
    "   \n",
    "Now if someone wants to try and call the fill gas method with an electric car isntance we will return this message instead of python going to the parent class and getting the fill gas method from there. The key from this is that if we don't want it to run from the parent class to the child class we can simply override it. "
   ]
  },
  {
   "cell_type": "markdown",
   "id": "c5477967",
   "metadata": {},
   "source": [
    "### Instances As Attributes\n",
    "\n",
    "When we are modeling something from the real world in code, you may find that you are adding more and more detail to that class. We will find that  you have a growing list of attributes and method and that your files are becoming lengthy with the amount of code in them. In these situations, we might recognise that part of one class can be written as a seperate class entirely. If we can break larger code down into smaller blocks of classes it is good, as we can make all of these classes work together. \n",
    "\n",
    "For example, if we continue adding detail to the ElectricCar class we might notice that we are adding many attributes and methods specific to the cars battery. When we see this happening we can stop and move those attributes and methods to a seperecte class called Battery. Then we can use a Battery instance as an attribute in the ElectricCar class"
   ]
  },
  {
   "cell_type": "code",
   "execution_count": 7,
   "id": "58d883f0",
   "metadata": {},
   "outputs": [
    {
     "name": "stdout",
     "output_type": "stream",
     "text": [
      "2021 Tesla model x\n",
      "The battery size is 75 kilo watts.\n"
     ]
    }
   ],
   "source": [
    "class Car:\n",
    "    '''A simple representation of a car'''\n",
    "\n",
    "#   Setting up the init method (makes the instances of the class)\n",
    "    def __init__(self, make, model, year):\n",
    "        self.make = make\n",
    "        self.model = model\n",
    "        self.year = year\n",
    "#       Adding the default value for the attribute self.odometer_reading\n",
    "        self.odometer_reading = 0\n",
    "    \n",
    "#   Setting up the method that returns the information about the car\n",
    "    def get_descriptive_information(self):\n",
    "        '''Returns a neatly formatted description'''\n",
    "#       Creating a new variable to return to the call line using return\n",
    "        full_info = f\"{self.year} {self.make} {self.model}\"\n",
    "        return full_info\n",
    "    \n",
    "#   Setting up the method that reads the odometer \n",
    "    def read_odometer(self):\n",
    "        '''Print a string showing the cars milage'''\n",
    "#       Code that runs when we call the function\n",
    "        print(f\"This car has done {self.odometer_reading} miles.\")\n",
    "    \n",
    "#   Setting up a method that updates the odometer\n",
    "    def update_odometer(self, mileage):\n",
    "        ''''Set the odometer reading to the given value\n",
    "        reject any attempt to reverse milage'''\n",
    "        if mileage >= self.odometer_reading:\n",
    "            self.odometer_reading = mileage\n",
    "        else:\n",
    "            print(\"You cannot roll back mileage!\")\n",
    "\n",
    "#   Setting up the increment method\n",
    "    def increment_odometer(self, miles):\n",
    "        '''Increments value of attribute'''\n",
    "        self.odometer_reading += miles\n",
    "\n",
    "# Setting up the class Battery (not a child class)\n",
    "class Battery:\n",
    "    '''A simple attempt to model a battery for an electric car'''\n",
    "    \n",
    "#   Init method for initalising the instances \n",
    "    def __init__(self, battery_size:int=75):\n",
    "        self.battery_size = battery_size\n",
    "        \n",
    "#   Method to describe the battery\n",
    "    def describe_battery(self):\n",
    "        '''print statement of the size of the battery'''\n",
    "        print(f\"The battery size is {self.battery_size} kilo watts.\")\n",
    "    \n",
    "\n",
    "#   Setting up the child class called ElectricCar\n",
    "class ElectricCar(Car):\n",
    "        '''Represents aspects if a car that is specific to electric vehicals'''\n",
    "\n",
    "#       Setting up the init method of the child class with the parameters the same as the parent class\n",
    "        def __init__(self, make, model, year):\n",
    "            '''Initialize attributes of the parent class\n",
    "            Then initialise the attributes that are specific to the child class'''\n",
    "            super().__init__(make, model, year)\n",
    "#           Setting the attribute self.battery to equal the instance Battery, this equals the default value \n",
    "            self.battery = Battery()\n",
    "    \n",
    "\n",
    "my_telsa = ElectricCar('Tesla', 'model x', 2021)\n",
    "print(my_telsa.get_descriptive_information())\n",
    "# Notice we are using two instances, but one is set to a default value, this is followed by the method we want to call\n",
    "my_telsa.battery.describe_battery()"
   ]
  },
  {
   "cell_type": "markdown",
   "id": "da529065",
   "metadata": {},
   "source": [
    "> Lets walk through this code together, first we define a new class called Battery, this is not a child class, so it doesn't inherit any of the class attributes of Car or any other class for that matter. The init method inside of the Battery class only has one parameter battery_size (ovbs has self as well). This parameter sets the batterys default value to 75 if no value for the battery size is provided. We have also moved the describe battery method into the class Battery. \n",
    "\n",
    "> In the ElectricCar class, we add the attribute self.battery. This line tells python to create a new instance of the class Battery and assign that value (by default thats 75) to the attribute self.battery. This will happen everytime the init method is called, so any ElectricCar instance will now have a battery of 75 kilowatts unless explicitly stated otherwise. \n",
    "\n",
    "> We create an electric car called my_tesla, this is an instance of the child class ElectricCar. In ElectricCar we use the attribute that set in the class Battery. When we want to describe the battery we need to work through the cars battery attribute. The bottom line of code tells python to look at the instance my_tesla, find the battery attribute and then call the method describe_battery() thats associated with the Battery instance stored in the attribute "
   ]
  },
  {
   "cell_type": "markdown",
   "id": "73d8f684",
   "metadata": {},
   "source": [
    "This looks like a lot of extra work at the start but we can now expand our Battery class without cluttering the ElectricCar class with battery information. Lets add another method to Battery that reports the range of the car based on the battery size. "
   ]
  },
  {
   "cell_type": "code",
   "execution_count": 8,
   "id": "50a7baa2",
   "metadata": {},
   "outputs": [
    {
     "name": "stdout",
     "output_type": "stream",
     "text": [
      "2021 Tesla model x\n",
      "The battery size is 75 kilo watts.\n",
      "The car has a range of around 260 miles on a full charge.\n"
     ]
    }
   ],
   "source": [
    "class Car:\n",
    "    '''A simple representation of a car'''\n",
    "\n",
    "#   Setting up the init method (makes the instances of the class)\n",
    "    def __init__(self, make, model, year):\n",
    "        self.make = make\n",
    "        self.model = model\n",
    "        self.year = year\n",
    "#       Adding the default value for the attribute self.odometer_reading\n",
    "        self.odometer_reading = 0\n",
    "    \n",
    "#   Setting up the method that returns the information about the car\n",
    "    def get_descriptive_information(self):\n",
    "        '''Returns a neatly formatted description'''\n",
    "#       Creating a new variable to return to the call line using return\n",
    "        full_info = f\"{self.year} {self.make} {self.model}\"\n",
    "        return full_info\n",
    "    \n",
    "#   Setting up the method that reads the odometer \n",
    "    def read_odometer(self):\n",
    "        '''Print a string showing the cars milage'''\n",
    "#       Code that runs when we call the function\n",
    "        print(f\"This car has done {self.odometer_reading} miles.\")\n",
    "    \n",
    "#   Setting up a method that updates the odometer\n",
    "    def update_odometer(self, mileage):\n",
    "        ''''Set the odometer reading to the given value\n",
    "        reject any attempt to reverse milage'''\n",
    "        if mileage >= self.odometer_reading:\n",
    "            self.odometer_reading = mileage\n",
    "        else:\n",
    "            print(\"You cannot roll back mileage!\")\n",
    "\n",
    "#   Setting up the increment method\n",
    "    def increment_odometer(self, miles):\n",
    "        '''Increments value of attribute'''\n",
    "        self.odometer_reading += miles\n",
    "\n",
    "# Setting up the class Battery (not a child class)\n",
    "class Battery:\n",
    "    '''A simple attempt to model a battery for an electric car'''\n",
    "    \n",
    "#   Init method for initalising the instances \n",
    "    def __init__(self, battery_size:int=75):\n",
    "        self.battery_size = battery_size\n",
    "        \n",
    "#   Method to describe the battery\n",
    "    def describe_battery(self):\n",
    "        '''print statement of the size of the battery'''\n",
    "        print(f\"The battery size is {self.battery_size} kilo watts.\")\n",
    "        \n",
    "#   Method to report the range of the case based on the battery\n",
    "    def get_battery(self):\n",
    "        '''Prints the range of the car with a specific battery size'''\n",
    "        if self.battery_size == 75:\n",
    "            range = 260\n",
    "        elif self.battery_size == 100:\n",
    "            range = 315\n",
    "            \n",
    "        print(f\"The car has a range of around {range} miles on a full charge.\")\n",
    "    \n",
    "\n",
    "#   Setting up the child class called ElectricCar\n",
    "class ElectricCar(Car):\n",
    "        '''Represents aspects if a car that is specific to electric vehicals'''\n",
    "\n",
    "#       Setting up the init method of the child class with the parameters the same as the parent class\n",
    "        def __init__(self, make, model, year):\n",
    "            '''Initialize attributes of the parent class\n",
    "            Then initialise the attributes that are specific to the child class'''\n",
    "            super().__init__(make, model, year)\n",
    "#           Setting the attribute self.battery to equal the instance Battery, this equals the default value \n",
    "            self.battery = Battery()\n",
    "    \n",
    "\n",
    "my_telsa = ElectricCar('Tesla', 'model x', 2021)\n",
    "print(my_telsa.get_descriptive_information())\n",
    "# Notice we are using two instances, but one is set to a default value, this is followed by the method we want to call\n",
    "my_telsa.battery.describe_battery()\n",
    "# Calling the method get battery, we need to go through the battery attribute of Battery\n",
    "my_telsa.battery.get_battery()"
   ]
  },
  {
   "cell_type": "markdown",
   "id": "81502dbf",
   "metadata": {},
   "source": [
    "> The new method get_range() performs a simple analyis. If the batterys capacity is 75 kilo watts, the get range function will set the range of the vehical to 260 miles, or if the battery size is 100 kilo watts it sets the range to 315. When we want to use this method, we again have to call it through the cars battery attribute. \n",
    "\n",
    "> The output displays us the range of the car based on the battery."
   ]
  },
  {
   "cell_type": "markdown",
   "id": "d469b0c0",
   "metadata": {},
   "source": [
    "I am going to try it again, to cement the information in my brain."
   ]
  },
  {
   "cell_type": "code",
   "execution_count": 22,
   "id": "0c121be4",
   "metadata": {},
   "outputs": [
    {
     "name": "stdout",
     "output_type": "stream",
     "text": [
      "Tescos's CEO is Ken Murphy and their 2021 profit was 2.5 million.\n",
      "Apple's CEO is Tim Cook and their 2021 profit was 118 billion.\n",
      "The language they use is Swift.\n"
     ]
    }
   ],
   "source": [
    "class Company:\n",
    "    '''Simple represention of a company'''\n",
    "    \n",
    "#   Init method (makes in instances)\n",
    "    def __init__(self, name, ceo, profit):\n",
    "        self.name = name\n",
    "        self.ceo = ceo\n",
    "        self.profit = profit\n",
    "    \n",
    "    def collect_information(self):\n",
    "        '''returns a neatly formatted string of information'''\n",
    "        full_info = f\"{self.name}'s CEO is {self.ceo} and their 2021 profit was {self.profit}.\"\n",
    "        return full_info\n",
    "\n",
    "class Language:\n",
    "    '''Stores the language used by the company'''\n",
    "    \n",
    "    def __init__(self, pop_language='Swift'):\n",
    "        self.pop_language = pop_language\n",
    "        \n",
    "    def describe_language(self):\n",
    "        '''Prints off a string of the language used by the company'''\n",
    "        print(f\"The language they use is {self.pop_language}.\")\n",
    "              \n",
    "class TechCompany(Company):\n",
    "    '''Simple representation of a tech company'''\n",
    "    \n",
    "#   Init method to create instances, super() allows \n",
    "    def __init__(self, name, ceo, profit):\n",
    "#       Initalise the attributes of the parent class\n",
    "        super().__init__(name, ceo, profit)\n",
    "#       Initalise the attributes that are specific to the child class\n",
    "        self.popular_coding_language = Language()\n",
    "    \n",
    "    \n",
    "\n",
    "    \n",
    "# Creating an instance of the class Company\n",
    "normal_comp = Company(name='Tescos', ceo='Ken Murphy', profit='2.5 million')\n",
    "# Calling the method collect info for the instance we have created (we print because its a return)\n",
    "print(normal_comp.collect_information())\n",
    "# Creating a tech company instance\n",
    "tech_comp = TechCompany(name='Apple', ceo='Tim Cook', profit='118 billion')\n",
    "# Calling the method collect info for the instance we have created\n",
    "print(tech_comp.collect_information())\n",
    "# To get the language that apple uses we need to go through the attribute popular coding language\n",
    "tech_comp.popular_coding_language.describe_language()"
   ]
  },
  {
   "cell_type": "markdown",
   "id": "e7c72aba",
   "metadata": {},
   "source": [
    "> Lets run through this code, first we make a class called Company, this is where we will be able to create instances of any company we like. We initalise with the parameters name, ceo and profit and assign them to the attributes. This means that all methods inside of the class we be able to access them. We then have a method called collect information that neatly formats the attributes of the instance we have created, we assign the neatly formatted string to the variable full info and we return full info to the call line so we have to use the print statement. We also have a child class called TechCompany, this is a subclass so it it will get all of the attributes Company has, but this time we add another attribute called popular coding language. We set this attribute to equal the instance that is created in the class of Langauge, this means when we call describe language we have to go through the instance popular coding language that is equal to the isntance that is created when the init method is called in the Language class. "
   ]
  },
  {
   "cell_type": "markdown",
   "id": "13d67b93",
   "metadata": {},
   "source": [
    "### Modelling Real-World Objects\n",
    "\n",
    "As we begin to model more and more complex things like electric cars, we will soon have to wrestle with interesting questions, such as, is the range of an electric car a property of the car or the battery??? If we are only describing one car, its probably fine to maintain the assocation of the method get_range() with the Battery class. But if we are describing a whole range of cars it would be smart to move the get_range() method into the ElectricCar class. The get_range() method wil still check the battery size before determining the range, but it would report a range specific to the kind of car its associted with. We could also keep the code for get range in the Battery class but pass the variable car_model into it so the get_range() method will return a range value based on the model of the car. \n",
    "\n",
    "This step brings us to an interesting point in our journey to becoming a programmer!!! When we are thinking about things like this in a problem this means we are thinking on a much higher level than just on a raw syntax level, this will develop with time as we learn to think more and more like a programmer. When we are no longer thinking about python, but how to model the real world in our code! When we reach this point, there are often no right or wrong approaches, but there are some more efficient approaches than others, but it takes practice to find these. If the code works how we want it to, GREAT! Now go back and see if we can make it more efficient! In the quest to write accurate, efficient code, everyone goes through this process. "
   ]
  },
  {
   "cell_type": "markdown",
   "id": "fa7b21fd",
   "metadata": {},
   "source": [
    "## Tasks\n",
    "\n",
    "An ice cream stand is a specific kind of resturant. Write a class called IceCreamStand that inherits from the Restaurant class we have written before. Add an attribute called flavours that stores a list of ice cream flavours. Write a method that displays these flavours, create and instance of IceCreamStand and call this method. "
   ]
  },
  {
   "cell_type": "code",
   "execution_count": 31,
   "id": "5f7cd592",
   "metadata": {},
   "outputs": [
    {
     "name": "stdout",
     "output_type": "stream",
     "text": [
      "Go to Davidsons if you want ice cream food.\n",
      "The list of iceream flavors in the shop are.\n",
      "Vanilla\n",
      "Chocolate\n",
      "Strawberry\n"
     ]
    }
   ],
   "source": [
    "# Creating a class\n",
    "class Restaurant():\n",
    "    '''Simple model of a resaurant'''\n",
    "#   Setting up init method that creates instances\n",
    "    def __init__(self, name, cuisine):\n",
    "        self.name = name\n",
    "        self.cuisine = cuisine\n",
    "\n",
    "#   Creating a method to descrbie the restaurant \n",
    "    def describe_restaurant(self):\n",
    "        print(f\"Go to {self.name} if you want {self.cuisine} food.\")\n",
    "    \n",
    "#   Creating a method to show the restaurant is open\n",
    "    def open_restaurant(self):\n",
    "        print(f\"{self.name} is now open for service.\")        \n",
    "\n",
    "# Creating a subclass \n",
    "class IceCreamStand(Restaurant):\n",
    "    '''Simple model of an ice cream stand'''\n",
    "    \n",
    "#   Init method\n",
    "    def __init__(self, name, cuisine):\n",
    "        '''Initalise the arrtibutes of the parent class, then add attribute of child class'''\n",
    "#       We dont include self in this\n",
    "        super().__init__(name, cuisine)\n",
    "        self.flavour = ['vanilla', 'chocolate', 'strawberry']\n",
    "    \n",
    "    def collect_flavours(self):\n",
    "        '''Prints off the list of icecream flavours in the shop'''\n",
    "        print(f\"The list of iceream flavors in the shop are.\")\n",
    "        for flavour in self.flavour:\n",
    "            print(flavour.title())\n",
    "\n",
    "# Creating an isntance of the child class\n",
    "ice_cream_shop = IceCreamStand('Davidsons', 'ice cream')\n",
    "# Calling the method describe restaurant with our ice cream shop\n",
    "ice_cream_shop.describe_restaurant()\n",
    "# Calling the method that displays that flavours that are assinged to the flavour attribute\n",
    "ice_cream_shop.collect_flavours()"
   ]
  },
  {
   "cell_type": "markdown",
   "id": "1324c9e0",
   "metadata": {},
   "source": [
    "An administrator is a special kind of user. Write a class called Admin that inherits from the User class we have written above. Add an attribute called privilages that stores a list of strings like 'can post', 'can delete post', 'can ban user' etc etc. Write a method called show_privileges() that lists the administrators set of privilages. Create an instance of Admin and call the method we have made. "
   ]
  },
  {
   "cell_type": "code",
   "execution_count": 37,
   "id": "a2616b6d",
   "metadata": {},
   "outputs": [
    {
     "name": "stdout",
     "output_type": "stream",
     "text": [
      "The users name is Cameron Wheeler.\n",
      "Cameron is 22 years old.\n",
      "Email: cam123@gmail.com\n",
      "Location: Bath.\n",
      "\n",
      "These are the rights that the admin has that the normal users don't\n",
      "Can post\n",
      "Can delete post\n",
      "Can ban user\n"
     ]
    }
   ],
   "source": [
    "# Setting up the class User\n",
    "\n",
    "class User:\n",
    "    \"Creates user profile\"\n",
    "    \n",
    "#   Setting the init function --> creates the instance\n",
    "    def __init__(self, first_name, last_name, age, email, location):\n",
    "        self.first_name = first_name\n",
    "        self.last_name = last_name\n",
    "        self.age = age\n",
    "        self.email = email\n",
    "        self.location = location\n",
    "        self.login_attempts = 0\n",
    "        \n",
    "#   Setting up the method describe user, that prints a summary of the users information\n",
    "#   I think the reason we use self is because if we used the actual parameter in the function python wouldn't\n",
    "#   know what to use, as we are creating several objects with the different values for the parameters\n",
    "    def describe_user(self):\n",
    "        print(f\"The users name is {self.first_name.title()} {self.last_name.title()}.\")\n",
    "        print(f\"{self.first_name.title()} is {self.age} years old.\")\n",
    "        print(f\"Email: {self.email}\")\n",
    "        print(f\"Location: {self.location.title()}.\")\n",
    "\n",
    "#   Setting up greet user to print a personalised message\n",
    "    def greet_user(self):\n",
    "        print(f\"\\nHello {self.first_name.title()} we are happy to have you back online.\")\n",
    "        \n",
    "#   Setting up the login_attempts increment\n",
    "    def increment_login_attempts(self):\n",
    "        '''Increments the times the user has tried to log in'''\n",
    "        self.login_attempts += 1\n",
    "\n",
    "#   Resetting the loging attempts\n",
    "    def reset_login_attempts(self):\n",
    "        '''Resets the login attempts'''\n",
    "        self.login_attempts = 0\n",
    "        \n",
    "# Creating a child class\n",
    "class Admin(User):\n",
    "    '''Creates and admin profile'''\n",
    "    \n",
    "    def __init__(self, first_name, last_name, age, email, location):\n",
    "        '''Initalise attributes of the parent class\n",
    "        The initalise the attributes of the child class'''\n",
    "        \n",
    "        super().__init__(first_name, last_name, age, email, location)\n",
    "        self.privileges = ['Can post', 'Can delete post', 'Can ban user']\n",
    "        \n",
    "    def show_privileges(self):\n",
    "        '''Prints off the privilages that the Admin user has'''\n",
    "        print(\"\\nThese are the rights that the admin has that the normal users don't\")\n",
    "        for privilage in self.privileges:\n",
    "            print(privilage)\n",
    "\n",
    "# Creating an Admin instance\n",
    "admin_cameron = Admin(first_name='Cameron', last_name='Wheeler', age=22, email='cam123@gmail.com', location='Bath')\n",
    "# Calling the describe user method\n",
    "admin_cameron.describe_user()\n",
    "# Calling the show privileges method\n",
    "admin_cameron.show_privileges()"
   ]
  },
  {
   "cell_type": "markdown",
   "id": "092aa2d8",
   "metadata": {},
   "source": [
    "Write a seperate Privilages class, the class should have one attribute called privileges that stores a list of strings like above. Move the show_privileges() method into the Privilages class. Make an instance of the Privilages class as an attribute of the Admin class. Create a new instance of Admin and use your method to show its privileges"
   ]
  },
  {
   "cell_type": "code",
   "execution_count": 42,
   "id": "ceca69ba",
   "metadata": {},
   "outputs": [
    {
     "name": "stdout",
     "output_type": "stream",
     "text": [
      "The users name is Cameron Wheeler.\n",
      "Cameron is 22 years old.\n",
      "Email: cam123@gmail.com\n",
      "Location: Bath.\n",
      "\n",
      "These are the rights that the admin has that the normal users don't\n",
      "Can post\n",
      "Can delete post\n",
      "Can ban user\n"
     ]
    }
   ],
   "source": [
    "# Setting up the class User\n",
    "\n",
    "class User:\n",
    "    \"Creates user profile\"\n",
    "    \n",
    "#   Setting the init function --> creates the instance\n",
    "    def __init__(self, first_name, last_name, age, email, location):\n",
    "        self.first_name = first_name\n",
    "        self.last_name = last_name\n",
    "        self.age = age\n",
    "        self.email = email\n",
    "        self.location = location\n",
    "        self.login_attempts = 0\n",
    "        \n",
    "#   Setting up the method describe user, that prints a summary of the users information\n",
    "#   I think the reason we use self is because if we used the actual parameter in the function python wouldn't\n",
    "#   know what to use, as we are creating several objects with the different values for the parameters\n",
    "    def describe_user(self):\n",
    "        print(f\"The users name is {self.first_name.title()} {self.last_name.title()}.\")\n",
    "        print(f\"{self.first_name.title()} is {self.age} years old.\")\n",
    "        print(f\"Email: {self.email}\")\n",
    "        print(f\"Location: {self.location.title()}.\")\n",
    "\n",
    "#   Setting up greet user to print a personalised message\n",
    "    def greet_user(self):\n",
    "        print(f\"\\nHello {self.first_name.title()} we are happy to have you back online.\")\n",
    "        \n",
    "# Creating the privileges class\n",
    "class Privileges:\n",
    "    '''Class that represents the privilages that the admin has'''\n",
    "    \n",
    "#   I have passed them as a default value, but im not sure if this is the right way\n",
    "#   Nah this is right, becuase the admin privileges are set in stone. \n",
    "    def __init__(self, privileges=['Can post', 'Can delete post', 'Can ban user']):\n",
    "        self.privileges = privileges\n",
    "    \n",
    "    def show_privileges(self):\n",
    "        '''Prints off the privilages that the Admin user has'''\n",
    "        print(\"\\nThese are the rights that the admin has that the normal users don't\")\n",
    "        for privilage in self.privileges:\n",
    "            print(privilage)\n",
    "        \n",
    "# Creating a child class\n",
    "class Admin(User):\n",
    "    '''Creates and admin profile'''\n",
    "    \n",
    "    def __init__(self, first_name, last_name, age, email, location):\n",
    "        '''Initalise attributes of the parent class\n",
    "        The initalise the attributes of the child class'''\n",
    "        \n",
    "        super().__init__(first_name, last_name, age, email, location)\n",
    "        self.admin_priv = Privileges()\n",
    "\n",
    "        \n",
    "# Creating an Admin instance\n",
    "admin_cameron = Admin(first_name='Cameron', last_name='Wheeler', age=22, email='cam123@gmail.com', location='Bath')\n",
    "# Calling the method describe_user()\n",
    "admin_cameron.describe_user()\n",
    "# Calling the method show privileges through the attribute admin_priv\n",
    "admin_cameron.admin_priv.show_privileges()"
   ]
  },
  {
   "cell_type": "markdown",
   "id": "90a45fca",
   "metadata": {},
   "source": [
    "Use the final version of electric_car from this section. Add a method to the Battery class called upgrade_battery(). This method should check the battery size and set the capacity to 100 if it isnt already. Make an electric car with a default value battery, call get_range and then call it again after we have upgraded the battery. You shold see an increase in the cars range. "
   ]
  },
  {
   "cell_type": "code",
   "execution_count": 7,
   "id": "b98f37e0",
   "metadata": {},
   "outputs": [
    {
     "name": "stdout",
     "output_type": "stream",
     "text": [
      "2021 Tesla model x\n",
      "The car has a range of around 260 miles on a full charge.\n",
      "The battery has been upgraded to 100 kWh.\n",
      "The car has a range of around 315 miles on a full charge.\n"
     ]
    }
   ],
   "source": [
    "class Car:\n",
    "    '''A simple representation of a car'''\n",
    "\n",
    "#   Setting up the init method (makes the instances of the class)\n",
    "    def __init__(self, make, model, year):\n",
    "        self.make = make\n",
    "        self.model = model\n",
    "        self.year = year\n",
    "#       Adding the default value for the attribute self.odometer_reading\n",
    "        self.odometer_reading = 0\n",
    "    \n",
    "#   Setting up the method that returns the information about the car\n",
    "    def get_descriptive_information(self):\n",
    "        '''Returns a neatly formatted description'''\n",
    "#       Creating a new variable to return to the call line using return\n",
    "        full_info = f\"{self.year} {self.make} {self.model}\"\n",
    "        return full_info\n",
    "    \n",
    "#   Setting up the method that reads the odometer \n",
    "    def read_odometer(self):\n",
    "        '''Print a string showing the cars milage'''\n",
    "#       Code that runs when we call the function\n",
    "        print(f\"This car has done {self.odometer_reading} miles.\")\n",
    "    \n",
    "#   Setting up a method that updates the odometer\n",
    "    def update_odometer(self, mileage):\n",
    "        ''''Set the odometer reading to the given value\n",
    "        reject any attempt to reverse milage'''\n",
    "        if mileage >= self.odometer_reading:\n",
    "            self.odometer_reading = mileage\n",
    "        else:\n",
    "            print(\"You cannot roll back mileage!\")\n",
    "\n",
    "#   Setting up the increment method\n",
    "    def increment_odometer(self, miles):\n",
    "        '''Increments value of attribute'''\n",
    "        self.odometer_reading += miles\n",
    "\n",
    "# Setting up the class Battery (not a child class)\n",
    "class Battery:\n",
    "    '''A simple attempt to model a battery for an electric car'''\n",
    "    \n",
    "#   Init method for initalising the instances \n",
    "    def __init__(self, battery_size:int=75):\n",
    "        self.battery_size = battery_size\n",
    "        \n",
    "#   Method to describe the battery\n",
    "    def describe_battery(self):\n",
    "        '''print statement of the size of the battery'''\n",
    "        print(f\"The battery size is {self.battery_size} kilo watts.\")\n",
    "        \n",
    "#   Method to report the range of the case based on the battery\n",
    "    def get_battery(self):\n",
    "        '''Prints the range of the car with a specific battery size'''\n",
    "        if self.battery_size == 75:\n",
    "            range = 260\n",
    "        elif self.battery_size == 100:\n",
    "            range = 315\n",
    "            \n",
    "        print(f\"The car has a range of around {range} miles on a full charge.\")\n",
    "        \n",
    "    def upgrade_battery(self):\n",
    "        '''Upgrades the battery size'''\n",
    "        if self.battery_size == 75:\n",
    "            self.battery_size += 25\n",
    "            print(f\"The battery has been upgraded to {self.battery_size} kWh.\")\n",
    "        elif self.battery_size == 100:\n",
    "            print(f\"The battery size is alread at the maximum limit.\")\n",
    "    \n",
    "\n",
    "#   Setting up the child class called ElectricCar\n",
    "class ElectricCar(Car):\n",
    "        '''Represents aspects if a car that is specific to electric vehicals'''\n",
    "\n",
    "#       Setting up the init method of the child class with the parameters the same as the parent class\n",
    "        def __init__(self, make, model, year):\n",
    "            '''Initialize attributes of the parent class\n",
    "            Then initialise the attributes that are specific to the child class'''\n",
    "            super().__init__(make, model, year)\n",
    "#           Setting the attribute self.battery to equal the instance Battery, this equals the default value \n",
    "            self.battery = Battery()\n",
    "    \n",
    "# Creating an instance on electric car\n",
    "my_telsa = ElectricCar('Tesla', 'model x', 2021)\n",
    "# Calling the get descriptive information function\n",
    "print(my_telsa.get_descriptive_information())\n",
    "# Calling the get range function with my tesla\n",
    "my_telsa.battery.get_battery()\n",
    "# Upgrading the battery through the upgrade battery method\n",
    "# Need to do this through the battery attribute\n",
    "my_telsa.battery.upgrade_battery()\n",
    "# calling the get range function again \n",
    "my_telsa.battery.get_battery()"
   ]
  },
  {
   "cell_type": "markdown",
   "id": "fc5496e8",
   "metadata": {},
   "source": [
    "The way I think the attribute as instance works is that we are creating an class called Battery, and when we create an instance from battery it is given the attribute battery_size which has the default value. In the child class we initalise the object created with the attribute self.battery and this equals Battery() which means python will go to the Battery class and create an instance so self.battery attribute that our instance has equals self.battery_size which is 75 as default. When we call the upgrade battery method, we have to access this through the battery attribute which goes to the Battery class, and calls the upgrade battery method which sets the battery size to 100."
   ]
  },
  {
   "cell_type": "markdown",
   "id": "c1f326b0",
   "metadata": {},
   "source": [
    "## Importing Classes\n",
    "\n",
    "As we add more functionality to your classes, youe files can get long, even when we are using inheritance properly. In keeping with the overall philosophy on Python, we need to keep our files as unclutterd as possible. To help, python lets us store classees in modules (like functions) and we can import them into our main program. \n",
    "\n",
    "## Importing A Single Class\n",
    "\n",
    "Let's create a module contraining just the Car class. We need to name this module car.py. From now on any program that uses this module will need a more specific file name such as my_car.py. This module will contain just the code for the class Car. No subclasses or anything.\n",
    "\n",
    "We will include a module level docstring that describes the contents of this module. Please see the notebook called car.py to see the class!"
   ]
  },
  {
   "cell_type": "code",
   "execution_count": 2,
   "id": "4269537a",
   "metadata": {
    "scrolled": true
   },
   "outputs": [
    {
     "name": "stdout",
     "output_type": "stream",
     "text": [
      "2022 Tesla Model X\n",
      "This car has done 20 miles.\n"
     ]
    }
   ],
   "source": [
    "from car import Car\n",
    "\n",
    "# Creating an instance of the class car\n",
    "my_fav_car = Car(make='Tesla', model='Model X', year=2022)\n",
    "# Printing the descriptive name\n",
    "print(my_fav_car.get_descriptive_information())\n",
    "\n",
    "# Setting the new odometer reading after I have been for a test drive\n",
    "my_fav_car.odometer_reading = 20\n",
    "# Calling the read odometer method\n",
    "my_fav_car.read_odometer()\n"
   ]
  },
  {
   "cell_type": "markdown",
   "id": "baa97d43",
   "metadata": {},
   "source": [
    "> The import statement tells python to open the car module and import the class Car. Now we can use the Car class if it were defined in this file. The output is the same as we saw earlier. "
   ]
  },
  {
   "cell_type": "markdown",
   "id": "de7bb256",
   "metadata": {},
   "source": [
    "Importing classes is an effecitve way to program. Picture how long this program file would be if the entire Car class were included inside of this program. When you instead move the class to a module and import them module, you still get all the same functionality, but you keep your main program file clean and easy to read. You also store most of hte logic in seperated files; once our classes work as we want them too, we can put them awau and focus on teh highler level of logic in the main program. "
   ]
  },
  {
   "cell_type": "markdown",
   "id": "b58255cc",
   "metadata": {},
   "source": [
    "### Storing Multiple Classes In A Module\n",
    "\n",
    "We can store as many classes as we need in a single module, although each class in a module should be related in some way. The classes Battery and ElectricCar both help represent cars so it would be ideal that they are stored in the same module. Lets add them to the car.py file. "
   ]
  },
  {
   "cell_type": "code",
   "execution_count": 8,
   "id": "31457538",
   "metadata": {},
   "outputs": [
    {
     "name": "stdout",
     "output_type": "stream",
     "text": [
      "2022 Tesla Model x\n",
      "The battery size is 75 kilo watts.\n",
      "The car has a range of around 260 miles on a full charge.\n"
     ]
    }
   ],
   "source": [
    "# Importing the child class\n",
    "from car import ElectricCar\n",
    "\n",
    "# Creating an electric car instance\n",
    "my_tesla = ElectricCar(make='Tesla', model='Model x', year=2022)\n",
    "# Getting the info\n",
    "print(my_tesla.get_descriptive_information())\n",
    "# Getting the battery size\n",
    "my_tesla.battery.describe_battery()\n",
    "# Getting the battery range\n",
    "my_tesla.battery.get_battery()"
   ]
  },
  {
   "cell_type": "markdown",
   "id": "5107d61f",
   "metadata": {},
   "source": [
    "> Here we are importing the child class ElectricCar, by the looks of it, becuase the class Battery is an attribute of the class ElectericCar I assume that gets imported as well, as we have not had to explicity import it in. In the code, we create and ElectricCar instance, print the information we have about the car, we access the battery size and battery range method through the battery attribute. This means we can get the same output as the program before without having all of the clutter. "
   ]
  },
  {
   "cell_type": "markdown",
   "id": "e5e646fa",
   "metadata": {},
   "source": [
    "### Importing Multiple Classes From A Module\n",
    "\n",
    "We can also import as many classes as you need into a program file. If we want to make a regular car and an electric car in the same file, we need to import both classes. "
   ]
  },
  {
   "cell_type": "code",
   "execution_count": 10,
   "id": "fcdf1974",
   "metadata": {},
   "outputs": [
    {
     "name": "stdout",
     "output_type": "stream",
     "text": [
      "2019 Ford Fiesta\n",
      "2022 Tesla Model X\n"
     ]
    }
   ],
   "source": [
    "# Import both classes\n",
    "from car import Car, ElectricCar\n",
    "\n",
    "# Creating the instance and getting the infromation\n",
    "my_ford = Car(make='Ford', model='Fiesta', year=2019)\n",
    "print(my_ford.get_descriptive_information())\n",
    "\n",
    "# Creating the instance and getting the info\n",
    "my_tesla = ElectricCar(make='Tesla', model='Model X', year=2022)\n",
    "print(my_tesla.get_descriptive_information())"
   ]
  },
  {
   "cell_type": "markdown",
   "id": "f6179090",
   "metadata": {},
   "source": [
    "### Importing An Entire Module\n",
    "\n",
    "You can also import an entire module and then access the classes you need using the dot notation. This approach is simple and results in the code that is easy to read, because every call that creates an instance of a class includes the module name, we won't have naming conflicts with any names used in the current file.\n",
    "\n",
    "Below shows what is looks like to import the entire car module then create a regular car and an electric car"
   ]
  },
  {
   "cell_type": "code",
   "execution_count": 11,
   "id": "8dfed261",
   "metadata": {},
   "outputs": [
    {
     "name": "stdout",
     "output_type": "stream",
     "text": [
      "2019 Ford Fiesta\n",
      "2022 Tesla Model X\n"
     ]
    }
   ],
   "source": [
    "import car\n",
    "\n",
    "# Creating an instance using dot notation\n",
    "my_ford = car.Car(make='Ford', model='Fiesta', year=2019)\n",
    "print(my_ford.get_descriptive_information())\n",
    "\n",
    "# Creating an instance using dot notation\n",
    "my_tesla = car.ElectricCar(make='Tesla', model='Model X', year=2022)\n",
    "print(my_tesla.get_descriptive_information())"
   ]
  },
  {
   "cell_type": "markdown",
   "id": "ed833eb9",
   "metadata": {},
   "source": [
    "> Lets run through this code, but it is quite easy to understand. We are creating the instances using the dot notation, so we place the module car (the file name) followed by .class that we want to use. "
   ]
  },
  {
   "cell_type": "markdown",
   "id": "660c62f4",
   "metadata": {},
   "source": [
    "### Importing All Classes From A Module\n",
    "\n",
    "You can import every class from a module using the following syntax\n",
    "\n",
    "from module_name import * (just like importing all of the functions from a module) \n",
    "\n",
    "This method is not recommended for two reasons. First it is helpful to read the import statment at the top of the file to see what we are explicitly importing. With this approach it is unclear what kind of classes are imported, we can also accidently import a class that has the same name as something in our program that we are running which is cause a LOAD of errors. Again like importing functions we probs shouldn't use this in our code, but the author put it in the book just in case we see it in other peoples code. \n",
    "\n",
    "If we need to import a class it is better importing the entire module in like above and then creating instances using the dot notation. Although we won't see all the classes when we import, we will see specifically what class we are using when creating instances in our program. "
   ]
  },
  {
   "cell_type": "markdown",
   "id": "23ed82e9",
   "metadata": {},
   "source": [
    "### Importing A Module Into A Module\n",
    "\n",
    "Sometimes we will want to spread out our classes over several modules to stop one file from becoming to big and cluttered or avoiding storing classes than don't relate to eachother in the same module. When we sotre our classes in several modules you may find that a class in one module depends on a class in another module. When this happens you can import the required class into the module. \n",
    "\n",
    "For example lets store the Car class in one module and the ElectricCar and Battery classes in another. See the .py file that shows the importing of the Car class into the module"
   ]
  },
  {
   "cell_type": "code",
   "execution_count": 18,
   "id": "5aef94a9",
   "metadata": {},
   "outputs": [
    {
     "name": "stdout",
     "output_type": "stream",
     "text": [
      "2019 Ford Fiesta\n",
      "2022 Tesla Model X\n"
     ]
    }
   ],
   "source": [
    "# So we have had to import the Car class into electric car as it needs it to run\n",
    "# We also need to explicitly import the Car class into our program as well\n",
    "from car import Car\n",
    "from electric_car import ElectricCar\n",
    "\n",
    "# Creating an instance (note we arn't using the dot notation as we have imported the classes we want explicitly)\n",
    "my_ford = Car(make='Ford', model='Fiesta', year=2019)\n",
    "print(my_ford.get_descriptive_information())\n",
    "\n",
    "# Creating an instance (note we dont use dot notataion )\n",
    "my_tesla = ElectricCar(make='Tesla', model='Model X', year=2022)\n",
    "print(my_tesla.get_descriptive_information())"
   ]
  },
  {
   "cell_type": "markdown",
   "id": "9df31a9a",
   "metadata": {},
   "source": [
    "### Using Aliases\n",
    "\n",
    "As you saw in Chapter 8 we can use aliases when we are usin modules to organise our projects code. You can use aliases when importing classes as well. As an example consider a program where you want to make a bunch of electric cars. It might get tedious to type and read electric car over and over and over. So we can give ElectricCar an alias in the import statment\n",
    "\n",
    "from electric_car import ElectricCar as EC"
   ]
  },
  {
   "cell_type": "code",
   "execution_count": 20,
   "id": "355d7639",
   "metadata": {},
   "outputs": [
    {
     "name": "stdout",
     "output_type": "stream",
     "text": [
      "2019 Ford Fiesta\n",
      "2022 Tesla Model X\n"
     ]
    }
   ],
   "source": [
    "from car import Car\n",
    "from electric_car import ElectricCar as EC\n",
    "\n",
    "# Creating an instance note we don't use dot notation as we have explicitly imported the classes we want\n",
    "my_ford = Car(make='Ford', model='Fiesta', year=2019)\n",
    "print(my_ford.get_descriptive_information())\n",
    "\n",
    "# Creating an instance using the alias instead of the full class name\n",
    "my_tesla = EC(make='Tesla', model='Model X', year=2022)\n",
    "print(my_tesla.get_descriptive_information())"
   ]
  },
  {
   "cell_type": "markdown",
   "id": "f80cbc7d",
   "metadata": {},
   "source": [
    "### Finding Our Own Workflow\n",
    "\n",
    "As we have been shown python gives us SO MANY options for how to structure our code in a large project. It is important to know all of these possibilites so you can determine the best ways to organise our projects as well as understand other peoples project. When we are starting out keep our code strucuture simple, try doing everything in one file and then moving all of our modules into seperate files and make them all interact once everything is working. Or if we like how modules and files interact, try making and storing our classes in different modules at the start of the project and build bit by bit. Find an approach that works for us and go from there.  "
   ]
  },
  {
   "cell_type": "markdown",
   "id": "3b8b5a92",
   "metadata": {},
   "source": [
    "## Tasks\n",
    "\n",
    "Using your latest Restaurant class, store it in a module and make a seperate file that imports the restaurant. Make a Restaurant instance and call one of the restaurants methods to show that the import statement has worked."
   ]
  },
  {
   "cell_type": "code",
   "execution_count": 1,
   "id": "a2d8f82b",
   "metadata": {},
   "outputs": [
    {
     "name": "stdout",
     "output_type": "stream",
     "text": [
      "Go to McDonalds if you want junk food.\n"
     ]
    }
   ],
   "source": [
    "# Importing the class restaurant from the module restaurant\n",
    "from restaurant import Restaurant\n",
    "\n",
    "# Creating a restaurant instance \n",
    "my_fav_restaurant = Restaurant(name='McDonalds', cuisine='junk')\n",
    "# Calling a method \n",
    "my_fav_restaurant.describe_restaurant()"
   ]
  },
  {
   "cell_type": "markdown",
   "id": "e15ba04b",
   "metadata": {},
   "source": [
    "Starting with our work from the priviledges class, store the classes User, Privileges and Admin in one module. Createa separate file, make an admin instance, and call show privilges to show that everything is working okay. "
   ]
  },
  {
   "cell_type": "code",
   "execution_count": 4,
   "id": "47b4e326",
   "metadata": {},
   "outputs": [
    {
     "name": "stdout",
     "output_type": "stream",
     "text": [
      "\n",
      "These are the rights that the admin has that the normal users don't\n",
      "Can post\n",
      "Can delete post\n",
      "Can ban user\n"
     ]
    }
   ],
   "source": [
    "from users import User\n",
    "from users import Privileges\n",
    "from users import Admin\n",
    "\n",
    "# Creating an admin instance\n",
    "admin_cameron = Admin(first_name='Cameron', last_name='Wheeler', age=22, email='camwheeler123@gmail.com', location='Bath')\n",
    "# Showing the privleges, we are going through the admin_priv attribute that is the instance of privleges\n",
    "admin_cameron.admin_priv.show_privileges()"
   ]
  },
  {
   "cell_type": "markdown",
   "id": "b5d70c71",
   "metadata": {},
   "source": [
    "Store the User class in one module and store the Privileges andA Admin classes in another module. In a seperate file, create an admin instance and call the show privilages to show that everything still works correctly. "
   ]
  },
  {
   "cell_type": "code",
   "execution_count": 27,
   "id": "cd4ff47f",
   "metadata": {},
   "outputs": [
    {
     "name": "stdout",
     "output_type": "stream",
     "text": [
      "\n",
      "These are the rights that the admin has that the normal users don't\n",
      "Can post\n",
      "Can delete post\n",
      "Can ban user\n"
     ]
    }
   ],
   "source": [
    "from users import User\n",
    "from admin_and_priv import Privileges\n",
    "from admin_and_priv import Admin\n",
    "\n",
    "# Creating an admin instance \n",
    "admin_cameron = Admin(first_name='Cameron', last_name='Wheeler', age=22, email='camwheeler123@gmail.com', location='Bath')\n",
    "# Showing the privleges, we are going through the admin_priv attribute that is the instance of privleges\n",
    "admin_cameron.admin_priv.show_privileges()"
   ]
  },
  {
   "cell_type": "markdown",
   "id": "11d5dabe",
   "metadata": {},
   "source": [
    "## The Python Standard Library \n",
    "\n",
    "The pytho standard library is a set of modules included with every python installation. Now that we have the basic understanding of how functions classes work we can start to use modules like these that other progammers have written. You can use any function or class in the standard library by including a simple import statement at the top of our file. Lets look at 'random' which can be useful to modeling many real world situations.\n",
    "\n",
    "One interesting function from the randome module is randint(). This function takes two integer arguments and randomly returns a randomly selecting integer (can be one of those two numbers too).\n",
    "\n",
    "Here is how we generate a random number between 1 and 6"
   ]
  },
  {
   "cell_type": "code",
   "execution_count": 32,
   "id": "a22a104d",
   "metadata": {},
   "outputs": [
    {
     "data": {
      "text/plain": [
       "5"
      ]
     },
     "execution_count": 32,
     "metadata": {},
     "output_type": "execute_result"
    }
   ],
   "source": [
    "from random import randint\n",
    "\n",
    "randint(1,6)"
   ]
  },
  {
   "cell_type": "markdown",
   "id": "c77fe071",
   "metadata": {},
   "source": [
    "Another important function is choice(). This function take a list or tuple and returns a randomly chosen element"
   ]
  },
  {
   "cell_type": "code",
   "execution_count": 55,
   "id": "41978477",
   "metadata": {},
   "outputs": [
    {
     "name": "stdout",
     "output_type": "stream",
     "text": [
      "Microsoft\n"
     ]
    }
   ],
   "source": [
    "from random import choice\n",
    "\n",
    "tech_companies = ['Apple', 'Dell', 'Microsoft', 'AMD']\n",
    "\n",
    "top_company = choice(tech_companies)\n",
    "\n",
    "print(top_company)"
   ]
  },
  {
   "cell_type": "markdown",
   "id": "49d10f20",
   "metadata": {},
   "source": [
    "Don't use random modules if we are building security related applications, but its good enough for many fun and interesting projects. We can also download modules from external sources. Youll see a number of these examples further on in this notebook where we will need external modules to complete each project. "
   ]
  },
  {
   "cell_type": "markdown",
   "id": "82b55857",
   "metadata": {},
   "source": [
    "## Tasks\n",
    "\n",
    "Make a class Dice with one attribute called sides, which has a default value of 6. Write a method called roll dice, that prints a random number between one and then number of side the dice has. Make a 6 sided dice and roll it 10 times."
   ]
  },
  {
   "cell_type": "code",
   "execution_count": 67,
   "id": "2ec03cb4",
   "metadata": {},
   "outputs": [
    {
     "name": "stdout",
     "output_type": "stream",
     "text": [
      "The dice landed on 6.\n"
     ]
    }
   ],
   "source": [
    "# Importing relevent modules\n",
    "from random import randint\n",
    "\n",
    "# Creating the class\n",
    "class Dice:\n",
    "    '''Simple representation of a dice'''\n",
    "    \n",
    "    def __init__(self, sides=6):\n",
    "        '''Initating the instances'''\n",
    "        self.sides = sides\n",
    "    \n",
    "    def roll_dice(self):\n",
    "        '''Simulates dice rolling'''\n",
    "        dice_roll = randint(1, self.sides)\n",
    "        print(f\"The dice landed on {dice_roll}.\")\n",
    "\n",
    "        \n",
    "# Creating a dice instance\n",
    "dice = Dice()\n",
    "# Calling the dice roll function\n",
    "dice.roll_dice()\n",
    "        "
   ]
  },
  {
   "cell_type": "markdown",
   "id": "61f29f07",
   "metadata": {},
   "source": [
    "Make a list containing a series of 10 numbers and 5 letters. Randomly select four numbers or letters from the list and print a message saying that any ticket matching the numbers and letters wins a prize. "
   ]
  },
  {
   "cell_type": "code",
   "execution_count": 127,
   "id": "e3805203",
   "metadata": {},
   "outputs": [
    {
     "name": "stdout",
     "output_type": "stream",
     "text": [
      "[8, 16, 14, 8, 7, 'f', 'a', 'b']\n"
     ]
    }
   ],
   "source": [
    "# Importing appropriate modules \n",
    "from random import randint\n",
    "from random import choice\n",
    "\n",
    "# Creating a class\n",
    "class Lottery:\n",
    "    '''Simple representation of a lottery draw'''\n",
    "    \n",
    "    def __init__(self, final_list=[]):\n",
    "        '''Creating an instance'''\n",
    "        self.final_list = final_list\n",
    "       \n",
    "        \n",
    "    def numbers_draw(self):\n",
    "        '''Simulates number draw '''\n",
    "        flag = 0\n",
    "        \n",
    "        while flag <= 4:\n",
    "            choose_number = randint(1, 20)\n",
    "            self.final_list.append(choose_number)\n",
    "            flag += 1\n",
    "            \n",
    "\n",
    "    def letters_draw(self):\n",
    "        '''simulates letters draw'''\n",
    "        \n",
    "        letters = ['a', 'b', 'c', 'd', 'e', 'f', 'g']\n",
    "        \n",
    "        flag = 0 \n",
    "        \n",
    "        while flag <= 2:\n",
    "            choose_letter = choice(letters)\n",
    "            self.final_list.append(choose_letter)\n",
    "            flag += 1\n",
    "    \n",
    "\n",
    "# Create a lottery instance\n",
    "winning_ticket = Lottery()\n",
    "# Calling the functions \n",
    "winning_ticket.numbers_draw()\n",
    "winning_ticket.letters_draw()\n",
    "# Printing the final list, so we use the instance then the attribute\n",
    "print(winning_ticket.final_list)"
   ]
  },
  {
   "cell_type": "code",
   "execution_count": 283,
   "id": "7ef1e165",
   "metadata": {},
   "outputs": [
    {
     "name": "stderr",
     "output_type": "stream",
     "text": [
      "IOPub data rate exceeded.\n",
      "The notebook server will temporarily stop sending output\n",
      "to the client in order to avoid crashing it.\n",
      "To change this limit, set the config variable\n",
      "`--NotebookApp.iopub_data_rate_limit`.\n",
      "\n",
      "Current values:\n",
      "NotebookApp.iopub_data_rate_limit=1000000.0 (bytes/sec)\n",
      "NotebookApp.rate_limit_window=3.0 (secs)\n",
      "\n"
     ]
    },
    {
     "ename": "KeyboardInterrupt",
     "evalue": "",
     "output_type": "error",
     "traceback": [
      "\u001b[0;31m---------------------------------------------------------------------------\u001b[0m",
      "\u001b[0;31mKeyboardInterrupt\u001b[0m                         Traceback (most recent call last)",
      "Input \u001b[0;32mIn [283]\u001b[0m, in \u001b[0;36m<cell line: 53>\u001b[0;34m()\u001b[0m\n\u001b[1;32m     59\u001b[0m     draw_ticket\u001b[38;5;241m.\u001b[39mletters_draw()\n\u001b[1;32m     60\u001b[0m \u001b[38;5;66;03m#   Printing the winning ticket\u001b[39;00m\n\u001b[0;32m---> 61\u001b[0m     \u001b[38;5;28;43mprint\u001b[39;49m\u001b[43m(\u001b[49m\u001b[43mdraw_ticket\u001b[49m\u001b[38;5;241;43m.\u001b[39;49m\u001b[43mfinal_list\u001b[49m\u001b[43m)\u001b[49m\n\u001b[1;32m     62\u001b[0m     \u001b[38;5;28mprint\u001b[39m(camerons_ticket\u001b[38;5;241m.\u001b[39mmy_ticket)\n\u001b[1;32m     63\u001b[0m \u001b[38;5;66;03m#   Comparing the two \u001b[39;00m\n",
      "\u001b[0;31mKeyboardInterrupt\u001b[0m: "
     ]
    }
   ],
   "source": [
    "# Importing appropriate modules \n",
    "from random import randint\n",
    "from random import choice\n",
    "\n",
    "# Creating a class\n",
    "class Lottery:\n",
    "    '''Simple representation of a lottery draw'''\n",
    "    \n",
    "    def __init__(self, final_list=[]):\n",
    "        '''Creating an instance'''\n",
    "        self.final_list = final_list\n",
    "       \n",
    "        \n",
    "    def numbers_draw(self):\n",
    "        '''Simulates number draw '''\n",
    "        flag = 0\n",
    "        \n",
    "        while flag < 1:\n",
    "            choose_number = randint(1, 5)\n",
    "            self.final_list.append(choose_number)\n",
    "            flag += 1\n",
    "            \n",
    "\n",
    "    def letters_draw(self):\n",
    "        '''simulates letters draw'''\n",
    "        \n",
    "        letters = ['a', 'b', 'c']\n",
    "        \n",
    "        flag = 0 \n",
    "        \n",
    "        while flag < 1:\n",
    "            choose_letter = choice(letters)\n",
    "            self.final_list.append(choose_letter)\n",
    "            flag += 1\n",
    "    \n",
    "    def reset_draw(self):\n",
    "        self.final_list=[]\n",
    "        \n",
    "class MyTicket:\n",
    "    '''Creates a persons ticket'''\n",
    "    \n",
    "    def __init__(self, my_ticket):\n",
    "        self.my_ticket = my_ticket\n",
    "\n",
    "chosen_ticket = [1, 'c']\n",
    "\n",
    "# Setting the flag\n",
    "flag = True\n",
    "counter = 0\n",
    "\n",
    "# While loop \n",
    "\n",
    "while flag == True:\n",
    "#   Create the instances\n",
    "    draw_ticket = Lottery()\n",
    "    camerons_ticket = MyTicket(chosen_ticket)\n",
    "#   Draw the numbers and letters \n",
    "    draw_ticket.numbers_draw()\n",
    "    draw_ticket.letters_draw()\n",
    "#   Printing the winning ticket\n",
    "    print(draw_ticket.final_list)\n",
    "    print(camerons_ticket.my_ticket)\n",
    "#   Comparing the two \n",
    "    if draw_ticket.final_list == camerons_ticket.my_ticket:\n",
    "        print('You have won')\n",
    "        print(counter)\n",
    "        flag = False\n",
    "    else:\n",
    "        counter += 1"
   ]
  },
  {
   "cell_type": "markdown",
   "id": "630ed4d0",
   "metadata": {},
   "source": [
    "You can use a loop to see how hard it might be to win the kind of lottery you just modeled. Make a list or a tuple called my_ticket. Write a loop that keeps pulling numbers until your ticket wins. Print a message reporting how many times the loop has been run to give you a winning ticket. "
   ]
  },
  {
   "cell_type": "markdown",
   "id": "315e984d",
   "metadata": {},
   "source": [
    "# Work With Mattia"
   ]
  },
  {
   "cell_type": "markdown",
   "id": "4e82947d",
   "metadata": {},
   "source": [
    "### For Loops "
   ]
  },
  {
   "cell_type": "code",
   "execution_count": 36,
   "id": "b5c2dc1f",
   "metadata": {},
   "outputs": [
    {
     "name": "stdout",
     "output_type": "stream",
     "text": [
      "H\n",
      "e\n",
      "l\n",
      "l\n",
      "o\n",
      "o\n"
     ]
    }
   ],
   "source": [
    "for i in \"Hello\":\n",
    "    print (i)\n",
    "print(i)"
   ]
  },
  {
   "cell_type": "code",
   "execution_count": 9,
   "id": "254f7d79",
   "metadata": {},
   "outputs": [
    {
     "name": "stdout",
     "output_type": "stream",
     "text": [
      "h\n",
      "w\n",
      "o\n",
      "r\n",
      "l\n",
      "d\n",
      "e\n",
      "w\n",
      "o\n",
      "r\n",
      "l\n",
      "d\n",
      "l\n",
      "w\n",
      "o\n",
      "r\n",
      "l\n",
      "d\n",
      "l\n",
      "w\n",
      "o\n",
      "r\n",
      "l\n",
      "d\n",
      "o\n",
      "w\n",
      "o\n",
      "r\n",
      "l\n",
      "d\n"
     ]
    }
   ],
   "source": [
    "for i in \"hello\":\n",
    "    print(i)\n",
    "    for j in \"world\":\n",
    "        print (j)\n",
    "    "
   ]
  },
  {
   "cell_type": "code",
   "execution_count": 4,
   "id": "6b263a63",
   "metadata": {},
   "outputs": [
    {
     "name": "stdout",
     "output_type": "stream",
     "text": [
      "1\n",
      "2\n",
      "3\n",
      "4\n",
      "5\n"
     ]
    }
   ],
   "source": [
    "list_ = [1, 2, 3, 4, 5]\n",
    "\n",
    "for i in list_:\n",
    "    print(i)"
   ]
  },
  {
   "cell_type": "code",
   "execution_count": 8,
   "id": "fd825cee",
   "metadata": {},
   "outputs": [
    {
     "name": "stdout",
     "output_type": "stream",
     "text": [
      "0\n",
      "1\n",
      "2\n",
      "3\n",
      "4\n"
     ]
    }
   ],
   "source": [
    "for i in range(5):\n",
    "    print(i)"
   ]
  },
  {
   "cell_type": "code",
   "execution_count": 9,
   "id": "d487d970",
   "metadata": {},
   "outputs": [
    {
     "name": "stdout",
     "output_type": "stream",
     "text": [
      "0\n",
      "1\n",
      "2\n",
      "3\n",
      "4\n"
     ]
    }
   ],
   "source": [
    "for i in range(len(list_)):\n",
    "    print(i)"
   ]
  },
  {
   "cell_type": "code",
   "execution_count": 10,
   "id": "a620119d",
   "metadata": {},
   "outputs": [
    {
     "name": "stdout",
     "output_type": "stream",
     "text": [
      "[1, 2, 3, 4, 5]\n",
      "[1, 2, 3, 4, 5]\n",
      "[1, 2, 3, 4, 5]\n",
      "[1, 2, 3, 4, 5]\n",
      "[1, 2, 3, 4, 5]\n"
     ]
    }
   ],
   "source": [
    "for i in range(len(list_)):\n",
    "    print(list_)"
   ]
  },
  {
   "cell_type": "code",
   "execution_count": 11,
   "id": "69163eb5",
   "metadata": {},
   "outputs": [
    {
     "name": "stdout",
     "output_type": "stream",
     "text": [
      "1\n",
      "2\n",
      "3\n",
      "4\n",
      "5\n"
     ]
    }
   ],
   "source": [
    "for i in range(len(list_)):\n",
    "    print(list_[i])"
   ]
  },
  {
   "cell_type": "code",
   "execution_count": 14,
   "id": "9b3d1cf8",
   "metadata": {},
   "outputs": [
    {
     "name": "stdout",
     "output_type": "stream",
     "text": [
      "0\n",
      "1\n",
      "2\n",
      "3\n",
      "4\n"
     ]
    }
   ],
   "source": [
    "i = 0\n",
    "\n",
    "while i < 5:\n",
    "    print(i)\n",
    "    i += 1"
   ]
  },
  {
   "cell_type": "code",
   "execution_count": 15,
   "id": "c92fbdcb",
   "metadata": {},
   "outputs": [
    {
     "name": "stdout",
     "output_type": "stream",
     "text": [
      "hi\n"
     ]
    }
   ],
   "source": [
    "done = False\n",
    "\n",
    "while not done:\n",
    "    print(\"hi\")\n",
    "    done = True"
   ]
  },
  {
   "cell_type": "code",
   "execution_count": 25,
   "id": "3196b09b",
   "metadata": {},
   "outputs": [
    {
     "name": "stdout",
     "output_type": "stream",
     "text": [
      "not even\n",
      "2\n",
      "not even\n",
      "4\n",
      "not even\n",
      "6\n",
      "not even\n",
      "8\n",
      "not even\n",
      "10\n"
     ]
    }
   ],
   "source": [
    "a = [1, 2, 3, 4, 5, 6, 7, 8, 9, 10]\n",
    "\n",
    "for i in a:\n",
    "    if i % 2 == 0:\n",
    "        print(i)\n",
    "    else:\n",
    "        print(\"not even\")\n",
    "    "
   ]
  },
  {
   "cell_type": "code",
   "execution_count": 16,
   "id": "ca347708",
   "metadata": {},
   "outputs": [
    {
     "data": {
      "text/plain": [
       "1.0"
      ]
     },
     "execution_count": 16,
     "metadata": {},
     "output_type": "execute_result"
    }
   ],
   "source": [
    "2 / 2"
   ]
  },
  {
   "cell_type": "code",
   "execution_count": 17,
   "id": "77b1c7e8",
   "metadata": {},
   "outputs": [
    {
     "data": {
      "text/plain": [
       "1.5"
      ]
     },
     "execution_count": 17,
     "metadata": {},
     "output_type": "execute_result"
    }
   ],
   "source": [
    "3 / 2"
   ]
  },
  {
   "cell_type": "code",
   "execution_count": 18,
   "id": "e4a81059",
   "metadata": {},
   "outputs": [
    {
     "data": {
      "text/plain": [
       "2.0"
      ]
     },
     "execution_count": 18,
     "metadata": {},
     "output_type": "execute_result"
    }
   ],
   "source": [
    "4 / 2"
   ]
  },
  {
   "cell_type": "code",
   "execution_count": 19,
   "id": "11623959",
   "metadata": {},
   "outputs": [
    {
     "data": {
      "text/plain": [
       "0"
      ]
     },
     "execution_count": 19,
     "metadata": {},
     "output_type": "execute_result"
    }
   ],
   "source": [
    "4 % 2"
   ]
  },
  {
   "cell_type": "code",
   "execution_count": 20,
   "id": "bbe1bdc8",
   "metadata": {},
   "outputs": [
    {
     "data": {
      "text/plain": [
       "True"
      ]
     },
     "execution_count": 20,
     "metadata": {},
     "output_type": "execute_result"
    }
   ],
   "source": [
    "4 % 2 == 0"
   ]
  },
  {
   "cell_type": "code",
   "execution_count": 22,
   "id": "307e891b",
   "metadata": {},
   "outputs": [
    {
     "data": {
      "text/plain": [
       "1"
      ]
     },
     "execution_count": 22,
     "metadata": {},
     "output_type": "execute_result"
    }
   ],
   "source": [
    "5 % 2"
   ]
  },
  {
   "cell_type": "code",
   "execution_count": 33,
   "id": "d007d319",
   "metadata": {},
   "outputs": [
    {
     "name": "stdout",
     "output_type": "stream",
     "text": [
      "You are exactly 18\n"
     ]
    }
   ],
   "source": [
    "year = 18\n",
    "\n",
    "if year > 18:\n",
    "    print(\"You are an adult\")\n",
    "elif year < 18:\n",
    "    print(\"You are a minor\")\n",
    "else:\n",
    "    print(\"You are exactly 18\")"
   ]
  },
  {
   "cell_type": "markdown",
   "id": "0c4d3be3",
   "metadata": {},
   "source": [
    "### Break allows us to stop the loop even if the condition is true"
   ]
  },
  {
   "cell_type": "code",
   "execution_count": 37,
   "id": "2262eb47",
   "metadata": {},
   "outputs": [],
   "source": [
    "i = 10\n",
    "\n",
    "while i < 18:\n",
    "    if i > 15:\n",
    "        #pass\n",
    "        #continue\n",
    "        break\n",
    "        print(i)\n",
    "    i = i + 1"
   ]
  },
  {
   "cell_type": "code",
   "execution_count": 1,
   "id": "6015303b",
   "metadata": {},
   "outputs": [
    {
     "name": "stdout",
     "output_type": "stream",
     "text": [
      "0\n",
      "1\n",
      "2\n",
      "3\n",
      "4\n",
      "5\n",
      "6\n",
      "7\n",
      "8\n",
      "9\n"
     ]
    }
   ],
   "source": [
    "for x in range(10):\n",
    "    print(x)\n",
    "    "
   ]
  },
  {
   "cell_type": "code",
   "execution_count": 2,
   "id": "4850a98d",
   "metadata": {},
   "outputs": [
    {
     "name": "stdout",
     "output_type": "stream",
     "text": [
      "0\n",
      "1\n",
      "2\n",
      "3\n",
      "4\n",
      "5\n",
      "6\n",
      "7\n",
      "8\n",
      "9\n"
     ]
    }
   ],
   "source": [
    "x = 0 \n",
    "\n",
    "while x < 10:\n",
    "    print(x)\n",
    "    x += 1"
   ]
  },
  {
   "cell_type": "markdown",
   "id": "e9fe2605",
   "metadata": {},
   "source": [
    "# Try and Except\n",
    "\n",
    "Try - Lets us test a block of code for errors\n",
    "\n",
    "Except - Lets us handle and error (pass by an error if we know it is coming)"
   ]
  },
  {
   "cell_type": "code",
   "execution_count": 4,
   "id": "412c2006",
   "metadata": {},
   "outputs": [
    {
     "ename": "ZeroDivisionError",
     "evalue": "division by zero",
     "output_type": "error",
     "traceback": [
      "\u001b[1;31m---------------------------------------------------------------------------\u001b[0m",
      "\u001b[1;31mZeroDivisionError\u001b[0m                         Traceback (most recent call last)",
      "Input \u001b[1;32mIn [4]\u001b[0m, in \u001b[0;36m<module>\u001b[1;34m\u001b[0m\n\u001b[0;32m      1\u001b[0m a \u001b[38;5;241m=\u001b[39m \u001b[38;5;241m1\u001b[39m\n\u001b[0;32m      2\u001b[0m b \u001b[38;5;241m=\u001b[39m \u001b[38;5;241m0\u001b[39m\n\u001b[1;32m----> 4\u001b[0m \u001b[43ma\u001b[49m\u001b[43m \u001b[49m\u001b[38;5;241;43m/\u001b[39;49m\u001b[43m \u001b[49m\u001b[43mb\u001b[49m\n",
      "\u001b[1;31mZeroDivisionError\u001b[0m: division by zero"
     ]
    }
   ],
   "source": [
    "a = 1\n",
    "b = 0\n",
    "\n",
    "a / b"
   ]
  },
  {
   "cell_type": "code",
   "execution_count": 7,
   "id": "748f77ee",
   "metadata": {},
   "outputs": [
    {
     "name": "stdout",
     "output_type": "stream",
     "text": [
      "pass\n"
     ]
    }
   ],
   "source": [
    "try:\n",
    "    a / b\n",
    "except:\n",
    "    print(\"pass\")"
   ]
  },
  {
   "cell_type": "code",
   "execution_count": 9,
   "id": "e79b57f7",
   "metadata": {},
   "outputs": [
    {
     "ename": "TypeError",
     "evalue": "unsupported operand type(s) for /: 'int' and 'str'",
     "output_type": "error",
     "traceback": [
      "\u001b[1;31m---------------------------------------------------------------------------\u001b[0m",
      "\u001b[1;31mTypeError\u001b[0m                                 Traceback (most recent call last)",
      "Input \u001b[1;32mIn [9]\u001b[0m, in \u001b[0;36m<module>\u001b[1;34m\u001b[0m\n\u001b[0;32m      1\u001b[0m \u001b[38;5;28;01mtry\u001b[39;00m:\n\u001b[1;32m----> 2\u001b[0m     \u001b[38;5;241;43m1\u001b[39;49m\u001b[43m \u001b[49m\u001b[38;5;241;43m/\u001b[39;49m\u001b[43m \u001b[49m\u001b[38;5;124;43m\"\u001b[39;49m\u001b[38;5;124;43mHello\u001b[39;49m\u001b[38;5;124;43m\"\u001b[39;49m\n\u001b[0;32m      3\u001b[0m \u001b[38;5;28;01mexcept\u001b[39;00m \u001b[38;5;167;01mZeroDivisionError\u001b[39;00m:\n\u001b[0;32m      4\u001b[0m     \u001b[38;5;28mprint\u001b[39m(\u001b[38;5;124m\"\u001b[39m\u001b[38;5;124mpass\u001b[39m\u001b[38;5;124m\"\u001b[39m)\n",
      "\u001b[1;31mTypeError\u001b[0m: unsupported operand type(s) for /: 'int' and 'str'"
     ]
    }
   ],
   "source": [
    "try:\n",
    "    1 / \"Hello\"\n",
    "except ZeroDivisionError:\n",
    "    print(\"pass\")"
   ]
  },
  {
   "cell_type": "code",
   "execution_count": 28,
   "id": "a5679e3a",
   "metadata": {},
   "outputs": [],
   "source": [
    "def golden_ratio(num1, num2):\n",
    "    try:\n",
    "        res = num1 / num2\n",
    "    except ZeroDivisionError:\n",
    "        return(0)\n",
    "    except TypeError:\n",
    "        print(\"type error accepted\")\n",
    "        return\n",
    "    return(res)"
   ]
  },
  {
   "cell_type": "code",
   "execution_count": 22,
   "id": "88a1ba57",
   "metadata": {},
   "outputs": [
    {
     "name": "stdout",
     "output_type": "stream",
     "text": [
      "0.5\n"
     ]
    }
   ],
   "source": [
    "result = golden_ratio(1, 2)\n",
    "print(result)\n"
   ]
  },
  {
   "cell_type": "code",
   "execution_count": 23,
   "id": "a784944b",
   "metadata": {},
   "outputs": [
    {
     "data": {
      "text/plain": [
       "0"
      ]
     },
     "execution_count": 23,
     "metadata": {},
     "output_type": "execute_result"
    }
   ],
   "source": [
    "golden_ratio(1, 0)"
   ]
  },
  {
   "cell_type": "code",
   "execution_count": 29,
   "id": "a0b94451",
   "metadata": {},
   "outputs": [
    {
     "name": "stdout",
     "output_type": "stream",
     "text": [
      "type error accepted\n"
     ]
    }
   ],
   "source": [
    "golden_ratio(1, \"hello\")"
   ]
  },
  {
   "cell_type": "markdown",
   "id": "ddab925c",
   "metadata": {},
   "source": [
    "# Functions"
   ]
  },
  {
   "cell_type": "code",
   "execution_count": 31,
   "id": "2f6eace5",
   "metadata": {},
   "outputs": [
    {
     "data": {
      "text/plain": [
       "4"
      ]
     },
     "execution_count": 31,
     "metadata": {},
     "output_type": "execute_result"
    }
   ],
   "source": [
    "def sum_numbers(num1, num2):\n",
    "    result = num1 + num2\n",
    "    return result\n",
    "sum_numbers(2, 2)"
   ]
  },
  {
   "cell_type": "code",
   "execution_count": 32,
   "id": "34775572",
   "metadata": {},
   "outputs": [
    {
     "ename": "TypeError",
     "evalue": "sum_numbers() missing 2 required positional arguments: 'num1' and 'num2'",
     "output_type": "error",
     "traceback": [
      "\u001b[1;31m---------------------------------------------------------------------------\u001b[0m",
      "\u001b[1;31mTypeError\u001b[0m                                 Traceback (most recent call last)",
      "Input \u001b[1;32mIn [32]\u001b[0m, in \u001b[0;36m<module>\u001b[1;34m\u001b[0m\n\u001b[0;32m      1\u001b[0m num1 \u001b[38;5;241m=\u001b[39m \u001b[38;5;241m12\u001b[39m\n\u001b[0;32m      2\u001b[0m num2 \u001b[38;5;241m=\u001b[39m \u001b[38;5;241m3\u001b[39m\n\u001b[1;32m----> 3\u001b[0m \u001b[43msum_numbers\u001b[49m\u001b[43m(\u001b[49m\u001b[43m)\u001b[49m\n",
      "\u001b[1;31mTypeError\u001b[0m: sum_numbers() missing 2 required positional arguments: 'num1' and 'num2'"
     ]
    }
   ],
   "source": [
    "num1 = 12\n",
    "num2 = 3\n",
    "sum_numbers()"
   ]
  },
  {
   "cell_type": "code",
   "execution_count": 33,
   "id": "5c2cfc53",
   "metadata": {},
   "outputs": [
    {
     "data": {
      "text/plain": [
       "15"
      ]
     },
     "execution_count": 33,
     "metadata": {},
     "output_type": "execute_result"
    }
   ],
   "source": [
    "def sum_numbers():\n",
    "    result = num1 + num2\n",
    "    return result\n",
    "num1 = 12\n",
    "num2 = 3\n",
    "sum_numbers()"
   ]
  },
  {
   "cell_type": "code",
   "execution_count": null,
   "id": "9737332c",
   "metadata": {},
   "outputs": [],
   "source": [
    "local n = 2 \n",
    "global n = 2"
   ]
  },
  {
   "cell_type": "code",
   "execution_count": 1,
   "id": "000226d4",
   "metadata": {},
   "outputs": [
    {
     "name": "stdout",
     "output_type": "stream",
     "text": [
      "Hello\n"
     ]
    }
   ],
   "source": [
    "def method(x):\n",
    "    print(x)\n",
    "\n",
    "\n",
    "method(\"Hello\")"
   ]
  },
  {
   "cell_type": "code",
   "execution_count": 2,
   "id": "ebeeb90e",
   "metadata": {},
   "outputs": [],
   "source": [
    "f = method"
   ]
  },
  {
   "cell_type": "code",
   "execution_count": 3,
   "id": "943bf487",
   "metadata": {},
   "outputs": [
    {
     "name": "stdout",
     "output_type": "stream",
     "text": [
      "Hello\n"
     ]
    }
   ],
   "source": [
    "f(\"Hello\")"
   ]
  },
  {
   "cell_type": "code",
   "execution_count": 4,
   "id": "af441762",
   "metadata": {},
   "outputs": [
    {
     "data": {
      "text/plain": [
       "<function __main__.method(x)>"
      ]
     },
     "execution_count": 4,
     "metadata": {},
     "output_type": "execute_result"
    }
   ],
   "source": [
    "f"
   ]
  },
  {
   "cell_type": "markdown",
   "id": "e75004fe",
   "metadata": {},
   "source": [
    "# Default Mathamatical Function"
   ]
  },
  {
   "cell_type": "code",
   "execution_count": 5,
   "id": "caad3d2c",
   "metadata": {},
   "outputs": [
    {
     "data": {
      "text/plain": [
       "3"
      ]
     },
     "execution_count": 5,
     "metadata": {},
     "output_type": "execute_result"
    }
   ],
   "source": [
    "max(1, 2, 3)"
   ]
  },
  {
   "cell_type": "code",
   "execution_count": 7,
   "id": "dbcbff78",
   "metadata": {},
   "outputs": [
    {
     "data": {
      "text/plain": [
       "6"
      ]
     },
     "execution_count": 7,
     "metadata": {},
     "output_type": "execute_result"
    }
   ],
   "source": [
    "sum([1, 2, 3])"
   ]
  },
  {
   "cell_type": "code",
   "execution_count": 28,
   "id": "62a406e5",
   "metadata": {},
   "outputs": [
    {
     "data": {
      "text/plain": [
       "3"
      ]
     },
     "execution_count": 28,
     "metadata": {},
     "output_type": "execute_result"
    }
   ],
   "source": [
    "sum([1, 2])"
   ]
  },
  {
   "cell_type": "code",
   "execution_count": 10,
   "id": "d4845489",
   "metadata": {},
   "outputs": [
    {
     "data": {
      "text/plain": [
       "106"
      ]
     },
     "execution_count": 10,
     "metadata": {},
     "output_type": "execute_result"
    }
   ],
   "source": [
    "sum([1, 2, 3], 100)"
   ]
  },
  {
   "cell_type": "code",
   "execution_count": 19,
   "id": "841a50ff",
   "metadata": {},
   "outputs": [
    {
     "data": {
      "text/plain": [
       "2.34"
      ]
     },
     "execution_count": 19,
     "metadata": {},
     "output_type": "execute_result"
    }
   ],
   "source": [
    "abs(2.34)"
   ]
  },
  {
   "cell_type": "code",
   "execution_count": 20,
   "id": "dc58445c",
   "metadata": {},
   "outputs": [
    {
     "data": {
      "text/plain": [
       "22"
      ]
     },
     "execution_count": 20,
     "metadata": {},
     "output_type": "execute_result"
    }
   ],
   "source": [
    "abs(-22)"
   ]
  },
  {
   "cell_type": "code",
   "execution_count": 18,
   "id": "5fe3b15c",
   "metadata": {},
   "outputs": [
    {
     "data": {
      "text/plain": [
       "3.2"
      ]
     },
     "execution_count": 18,
     "metadata": {},
     "output_type": "execute_result"
    }
   ],
   "source": [
    "round(3.17, 1)"
   ]
  },
  {
   "cell_type": "code",
   "execution_count": 22,
   "id": "fb5f72e2",
   "metadata": {},
   "outputs": [
    {
     "data": {
      "text/plain": [
       "True"
      ]
     },
     "execution_count": 22,
     "metadata": {},
     "output_type": "execute_result"
    }
   ],
   "source": [
    "values = [False, True, True, False]\n",
    "\n",
    "any(values)"
   ]
  },
  {
   "cell_type": "code",
   "execution_count": 23,
   "id": "ceb1b189",
   "metadata": {},
   "outputs": [
    {
     "data": {
      "text/plain": [
       "False"
      ]
     },
     "execution_count": 23,
     "metadata": {},
     "output_type": "execute_result"
    }
   ],
   "source": [
    "values_2 =[False, False, False]\n",
    "\n",
    "any(values_2)"
   ]
  },
  {
   "cell_type": "code",
   "execution_count": 24,
   "id": "966ff120",
   "metadata": {},
   "outputs": [
    {
     "data": {
      "text/plain": [
       "True"
      ]
     },
     "execution_count": 24,
     "metadata": {},
     "output_type": "execute_result"
    }
   ],
   "source": [
    "values_3 =[False, False, True]\n",
    "\n",
    "any(values_3)"
   ]
  },
  {
   "cell_type": "code",
   "execution_count": null,
   "id": "db9eb704",
   "metadata": {},
   "outputs": [],
   "source": []
  },
  {
   "cell_type": "markdown",
   "id": "5e3ec729",
   "metadata": {},
   "source": [
    "# Map"
   ]
  },
  {
   "cell_type": "code",
   "execution_count": 3,
   "id": "651f0b53",
   "metadata": {},
   "outputs": [
    {
     "data": {
      "text/plain": [
       "2"
      ]
     },
     "execution_count": 3,
     "metadata": {},
     "output_type": "execute_result"
    }
   ],
   "source": [
    "def summing(x, y):\n",
    "    return (x + y)\n",
    "\n",
    "summing(1, 1)"
   ]
  },
  {
   "cell_type": "code",
   "execution_count": 13,
   "id": "808a07f3",
   "metadata": {},
   "outputs": [
    {
     "name": "stdout",
     "output_type": "stream",
     "text": [
      "5\n",
      "7\n",
      "9\n"
     ]
    }
   ],
   "source": [
    "for n in map(summing, [1, 2, 3], [4, 5, 6]):\n",
    "    print(n)"
   ]
  },
  {
   "cell_type": "markdown",
   "id": "c3dac832",
   "metadata": {},
   "source": [
    "# Zip"
   ]
  },
  {
   "cell_type": "code",
   "execution_count": 15,
   "id": "cae37168",
   "metadata": {},
   "outputs": [
    {
     "name": "stdout",
     "output_type": "stream",
     "text": [
      "(1, 4)\n",
      "(2, 5)\n",
      "(3, 6)\n"
     ]
    }
   ],
   "source": [
    "for x in zip([1, 2, 3], [4, 5, 6]):\n",
    "    print(x)"
   ]
  },
  {
   "cell_type": "code",
   "execution_count": 16,
   "id": "004948e4",
   "metadata": {},
   "outputs": [
    {
     "name": "stdout",
     "output_type": "stream",
     "text": [
      "1 4\n",
      "5\n",
      "2 5\n",
      "7\n",
      "3 6\n",
      "9\n"
     ]
    }
   ],
   "source": [
    "for x, y in zip([1, 2, 3], [4, 5, 6]):\n",
    "    print(x, y)\n",
    "    print(x + y)"
   ]
  },
  {
   "cell_type": "code",
   "execution_count": 17,
   "id": "d875a6c1",
   "metadata": {},
   "outputs": [
    {
     "name": "stdout",
     "output_type": "stream",
     "text": [
      "1 a\n",
      "2 b\n",
      "3 c\n"
     ]
    }
   ],
   "source": [
    "for x, y in zip([1, 2, 3], \"abc\"):\n",
    "    print(x, y)\n",
    "    "
   ]
  },
  {
   "cell_type": "markdown",
   "id": "7a069115",
   "metadata": {},
   "source": [
    "# Filter"
   ]
  },
  {
   "cell_type": "code",
   "execution_count": 18,
   "id": "27fa1ce4",
   "metadata": {},
   "outputs": [
    {
     "data": {
      "text/plain": [
       "False"
      ]
     },
     "execution_count": 18,
     "metadata": {},
     "output_type": "execute_result"
    }
   ],
   "source": [
    "def greater_than(x):\n",
    "    return(x > 5)\n",
    "\n",
    "greater_than(4)"
   ]
  },
  {
   "cell_type": "code",
   "execution_count": 19,
   "id": "8394817b",
   "metadata": {},
   "outputs": [
    {
     "data": {
      "text/plain": [
       "True"
      ]
     },
     "execution_count": 19,
     "metadata": {},
     "output_type": "execute_result"
    }
   ],
   "source": [
    "\n",
    "greater_than(6)"
   ]
  },
  {
   "cell_type": "code",
   "execution_count": 20,
   "id": "4b491c05",
   "metadata": {},
   "outputs": [
    {
     "name": "stdout",
     "output_type": "stream",
     "text": [
      "6\n",
      "7\n"
     ]
    }
   ],
   "source": [
    "for n in filter(greater_than, [3, 4, 5, 6, 7]):\n",
    "    print(n)"
   ]
  },
  {
   "cell_type": "markdown",
   "id": "64fb3412",
   "metadata": {},
   "source": [
    "# Sorted \n",
    "\n",
    "The sorted function sorts the elements of a give iterable in a specific order such as ascending or decending, returning a list."
   ]
  },
  {
   "cell_type": "code",
   "execution_count": 32,
   "id": "ef01df4e",
   "metadata": {},
   "outputs": [
    {
     "data": {
      "text/plain": [
       "[1, 4, 8, 23, 32, 46]"
      ]
     },
     "execution_count": 32,
     "metadata": {},
     "output_type": "execute_result"
    }
   ],
   "source": [
    "numbers_list = [1, 23, 4, 32, 46, 8]\n",
    "\n",
    "sorted(numbers_list)"
   ]
  },
  {
   "cell_type": "code",
   "execution_count": 34,
   "id": "d1f7dc76",
   "metadata": {},
   "outputs": [
    {
     "data": {
      "text/plain": [
       "[46, 32, 23, 8, 4, 1]"
      ]
     },
     "execution_count": 34,
     "metadata": {},
     "output_type": "execute_result"
    }
   ],
   "source": [
    "numbers_list = [1, 23, 4, 32, 46, 8]\n",
    "\n",
    "sorted(numbers_list, reverse = True)"
   ]
  },
  {
   "cell_type": "code",
   "execution_count": 30,
   "id": "b783eaaf",
   "metadata": {},
   "outputs": [
    {
     "data": {
      "text/plain": [
       "['a', 'b', 'c', 'd', 'z']"
      ]
     },
     "execution_count": 30,
     "metadata": {},
     "output_type": "execute_result"
    }
   ],
   "source": [
    "letters_list = (\"a\", \"c\", \"d\", \"z\", \"b\")\n",
    "\n",
    "sorted(letters_list)"
   ]
  },
  {
   "cell_type": "code",
   "execution_count": null,
   "id": "bb7fcb39",
   "metadata": {},
   "outputs": [],
   "source": []
  },
  {
   "cell_type": "markdown",
   "id": "4e66eb8d",
   "metadata": {},
   "source": [
    "# Reversed\n",
    "\n",
    "### This function returns the reversed iterator of the given sequence\n"
   ]
  },
  {
   "cell_type": "code",
   "execution_count": 1,
   "id": "240c447f",
   "metadata": {},
   "outputs": [
    {
     "name": "stdout",
     "output_type": "stream",
     "text": [
      "5\n",
      "4\n",
      "3\n",
      "2\n",
      "1\n"
     ]
    }
   ],
   "source": [
    "seq = [1, 2, 3, 4, 5]\n",
    "rseq = reversed(seq)\n",
    "for x in rseq:\n",
    "    print(x)"
   ]
  },
  {
   "cell_type": "markdown",
   "id": "126cc6d2",
   "metadata": {},
   "source": [
    "# Classes\n",
    "\n",
    "Like Mattia said, everything in python is an \"object\",  a class is an object constructor, or a \"blueprint\" for creating objects\n",
    "\n",
    "- A class is like an object constructor, or a blueprint for creating objects \n",
    "- To create a class we use \"class():\" when we create a class, we create and object\n",
    "- An object is an instance of a class\n",
    "- An instance is a copy of the class with actual values(data)\n",
    "- The more data we have the more instances we have in the class \n",
    "- Class instances can have methods that are defined by their class for modifying their state\n",
    "- Once we have made the class, set the attributes, then added a method, ensure that we give the class an object to use (this is the sticker we stick on the class) that we can call \n"
   ]
  },
  {
   "cell_type": "code",
   "execution_count": 26,
   "id": "daf836e7",
   "metadata": {},
   "outputs": [],
   "source": [
    "class Food():\n",
    "    pass\n"
   ]
  },
  {
   "cell_type": "code",
   "execution_count": 27,
   "id": "cbd4161c",
   "metadata": {},
   "outputs": [
    {
     "name": "stdout",
     "output_type": "stream",
     "text": [
      "<__main__.Food object at 0x0000022505737CA0>\n"
     ]
    }
   ],
   "source": [
    "pasta = Food()\n",
    "\n",
    "print(pasta)"
   ]
  },
  {
   "cell_type": "code",
   "execution_count": 28,
   "id": "8c22a7d4",
   "metadata": {},
   "outputs": [
    {
     "name": "stdout",
     "output_type": "stream",
     "text": [
      "This is class food\n"
     ]
    }
   ],
   "source": [
    "class Food():\n",
    "    def __str__(self):\n",
    "        return(\"This is class food\")\n",
    "pasta = Food()\n",
    "print(pasta)"
   ]
  },
  {
   "cell_type": "code",
   "execution_count": 5,
   "id": "e27146a7",
   "metadata": {},
   "outputs": [
    {
     "name": "stdout",
     "output_type": "stream",
     "text": [
      "roast dinner\n",
      "eggs\n"
     ]
    }
   ],
   "source": [
    "class Menu():\n",
    "    def __init__(self, breakfast, lunch, dinner):\n",
    "        self.breakfast = breakfast\n",
    "        self.lunch = lunch\n",
    "        self.dinner = dinner\n",
    "        \n",
    "    def whats_for_breakfast(self):\n",
    "        return self.breakfast\n",
    "friday = Menu(breakfast = \"eggs\", lunch = \"pork\", dinner = \"roast dinner\")\n",
    "friday.whats_for_breakfast()\n",
    "\n",
    "print(friday.dinner)\n",
    "print(friday.breakfast)\n",
    "        "
   ]
  },
  {
   "cell_type": "code",
   "execution_count": 30,
   "id": "5f9d1df9",
   "metadata": {},
   "outputs": [
    {
     "data": {
      "text/plain": [
       "'cereals'"
      ]
     },
     "execution_count": 30,
     "metadata": {},
     "output_type": "execute_result"
    }
   ],
   "source": [
    "saturday = Menu(breakfast = \"cereals\", lunch = \"fish\", dinner = \"nothing\")\n",
    "\n",
    "saturday.whats_for_breakfast()\n",
    "    "
   ]
  },
  {
   "cell_type": "code",
   "execution_count": 2,
   "id": "7d170c1e",
   "metadata": {},
   "outputs": [
    {
     "data": {
      "text/plain": [
       "(80, 15, 5)"
      ]
     },
     "execution_count": 2,
     "metadata": {},
     "output_type": "execute_result"
    }
   ],
   "source": [
    "class Food():\n",
    "    def __init__(self, protein, carbs, sugars):\n",
    "        self.protein = protein\n",
    "        self.carbs = carbs\n",
    "        self.sugars = sugars\n",
    "    \n",
    "    def content(self):\n",
    "        return self.protein, self.carbs, self.sugars\n",
    "\n",
    "beef = Food(protein = 80, carbs = 15 , sugars = 5)\n",
    "beef.content()\n",
    "   "
   ]
  },
  {
   "cell_type": "markdown",
   "id": "6c1ed18f",
   "metadata": {},
   "source": [
    "### Ask Mattia what the difference is between the two (TOP AND BOTTOM) ?????"
   ]
  },
  {
   "cell_type": "code",
   "execution_count": 13,
   "id": "c101ebae",
   "metadata": {},
   "outputs": [
    {
     "name": "stdout",
     "output_type": "stream",
     "text": [
      "80\n",
      "15\n",
      "5\n"
     ]
    }
   ],
   "source": [
    "class Food():\n",
    "    def __init__(self, protein, carbs, sugars):\n",
    "        self.protein = protein\n",
    "        self.carbs = carbs\n",
    "        self.sugars = sugars\n",
    "\n",
    "beef = Food(protein = 80, carbs = 15 , sugars = 5)\n",
    "\n",
    "print(beef.protein)\n",
    "print(beef.carbs)\n",
    "print(beef.sugars)"
   ]
  },
  {
   "cell_type": "markdown",
   "id": "e6c4b0c5",
   "metadata": {},
   "source": [
    "### Back to the lesson with Mattia"
   ]
  },
  {
   "cell_type": "code",
   "execution_count": 16,
   "id": "fea7d6c9",
   "metadata": {},
   "outputs": [
    {
     "data": {
      "text/plain": [
       "(80, 15, 5)"
      ]
     },
     "execution_count": 16,
     "metadata": {},
     "output_type": "execute_result"
    }
   ],
   "source": [
    "class Food():\n",
    "    def __init__(self, protein, carbs, sugars):\n",
    "        self.protein = protein\n",
    "        self.carbs = carbs\n",
    "        self.sugars = sugars\n",
    "    \n",
    "    def content(self):\n",
    "        return self.protein, self.carbs, self.sugars\n",
    "\n",
    "beef = Food(protein = 80, carbs = 15 , sugars = 5)\n",
    "beef.content()"
   ]
  },
  {
   "cell_type": "code",
   "execution_count": 22,
   "id": "db1aba10",
   "metadata": {},
   "outputs": [],
   "source": [
    "Meat = Food"
   ]
  },
  {
   "cell_type": "code",
   "execution_count": 23,
   "id": "6eb53560",
   "metadata": {},
   "outputs": [],
   "source": [
    "beef = Meat(protein = 80, carbs = 15 , sugars = 5)"
   ]
  },
  {
   "cell_type": "code",
   "execution_count": 24,
   "id": "1eb0b6dd",
   "metadata": {},
   "outputs": [],
   "source": [
    "class Meat(Food):\n",
    "    pass"
   ]
  },
  {
   "cell_type": "code",
   "execution_count": 25,
   "id": "fdc6e6e8",
   "metadata": {},
   "outputs": [
    {
     "data": {
      "text/plain": [
       "(80, 15, 5)"
      ]
     },
     "execution_count": 25,
     "metadata": {},
     "output_type": "execute_result"
    }
   ],
   "source": [
    "beef.content()\n"
   ]
  },
  {
   "cell_type": "markdown",
   "id": "f8c9d99b",
   "metadata": {},
   "source": [
    "### Self Work Classes"
   ]
  },
  {
   "cell_type": "code",
   "execution_count": 1,
   "id": "098060a5",
   "metadata": {},
   "outputs": [
    {
     "name": "stdout",
     "output_type": "stream",
     "text": [
      "my dogs name is Tilda\n",
      "my dogs breed is labrador\n"
     ]
    }
   ],
   "source": [
    "class Dog():\n",
    "# Making the class\n",
    "    def __init__(self, name, breed):\n",
    "        self.name = name \n",
    "        self.breed = breed\n",
    "# Initalise attributes name and age, this is information the class will use \n",
    "# self is automatically passed and we have self to give the induvidual instance acsess to the attributes and method \n",
    "# aka data and behaviour \n",
    "\n",
    "    def sit(self):\n",
    "        print(f\"{self.name} is now sitting\")\n",
    "# Simulates the dog sitting this is a behaviour of an object\n",
    "\n",
    "    def roll_over(self):\n",
    "        print(f\"{self.name} is rolling over\")\n",
    "# Simulates the dog rolling over ~ \n",
    "\n",
    "my_dog = Dog(\"Tilda\", \"Labrador\")\n",
    "\n",
    "print(f\"my dogs name is {my_dog.name}\")\n",
    "print(f\"my dogs breed is {my_dog.breed}\")\n",
    "\n",
    "\n",
    "\n",
    "    "
   ]
  },
  {
   "cell_type": "code",
   "execution_count": 7,
   "id": "b98d63ed",
   "metadata": {},
   "outputs": [
    {
     "name": "stdout",
     "output_type": "stream",
     "text": [
      "R8 100000\n",
      "X1 90000\n"
     ]
    }
   ],
   "source": [
    "class Car():\n",
    "# Creating a class called car\n",
    "\n",
    "    def __init__(self, model, price):\n",
    "        self.model = model\n",
    "        self.price = price\n",
    "# Class method, these are the variables we will need to give the method for it to work\n",
    "\n",
    "Audi = Car(\"R8\", 100000)\n",
    "# Creating the object for the class called \"Audi\"\n",
    "BMW = Car(\"X1\", 90000)\n",
    "# Creating another object for the class Car called \"BMW\"\n",
    "\n",
    "print(Audi.model, Audi.price)\n",
    "print(BMW.model, BMW.price)"
   ]
  },
  {
   "cell_type": "markdown",
   "id": "c13b731e",
   "metadata": {},
   "source": [
    "### Making a class without notes"
   ]
  },
  {
   "cell_type": "code",
   "execution_count": 4,
   "id": "c0c670ca",
   "metadata": {},
   "outputs": [
    {
     "name": "stdout",
     "output_type": "stream",
     "text": [
      "('Cameron', 'Wheeler', '30000')\n",
      "('Mattia', 'Cinelli', '70000')\n"
     ]
    }
   ],
   "source": [
    "class Employee():\n",
    "# Making a class called employee \n",
    "    address = \"London\" # Class attribute\n",
    "\n",
    "    def __init__(self, first, last, wage):\n",
    "        self.first = first # Instance attribute\n",
    "        self.last = last \n",
    "        self.wage = wage\n",
    "# giving the method its variables\n",
    "# defining instance variables \n",
    "    \n",
    "    def payslip(self):\n",
    "        return self.first, self.last, self.wage\n",
    "# Making a class method\n",
    "\n",
    "emp_1 = Employee(\"Cameron\", \"Wheeler\", \"30000\") # Instance of a class\n",
    "emp_2 = Employee(\"Mattia\", \"Cinelli\", \"70000\")\n",
    "# Two instances and their arugments to be passed \n",
    "\n",
    "# print(payslip.emp_1)\n",
    "# print(payslip.emp_2)\n",
    "\n",
    "print(Employee.payslip(emp_1))\n",
    "print(Employee.payslip(emp_2))\n",
    "# Print class employee function payslip which will return the instance variables that we are passing when creating the instances"
   ]
  },
  {
   "cell_type": "code",
   "execution_count": 5,
   "id": "3c32d563",
   "metadata": {},
   "outputs": [
    {
     "data": {
      "text/plain": [
       "'London'"
      ]
     },
     "execution_count": 5,
     "metadata": {},
     "output_type": "execute_result"
    }
   ],
   "source": [
    "emp_1.payslip()\n",
    "Employee.address"
   ]
  },
  {
   "cell_type": "code",
   "execution_count": null,
   "id": "c3c2f0b5",
   "metadata": {},
   "outputs": [],
   "source": [
    "class Food():\n",
    "    def __init__(self, protein, carbs, sugars):\n",
    "        self.protein = protein\n",
    "        self.carbs = carbs\n",
    "        self.sugars = sugars\n",
    "    \n",
    "    def content(self):\n",
    "        return self.protein, self.carbs, self.sugars\n",
    "\n",
    "beef = Food(protein = 80, carbs = 15 , sugars = 5)\n",
    "beef.content()"
   ]
  },
  {
   "cell_type": "markdown",
   "id": "6be5f3de",
   "metadata": {},
   "source": [
    "### Python Inheritance \n",
    "- Inheritance allows the coder to define a class that inherits all the methods and properties included in another class\n",
    "- The parent class is the class that is being inherited from\n",
    "- The child class is the reciver (this is also called the derived class)\n"
   ]
  },
  {
   "cell_type": "markdown",
   "id": "2ae8d719",
   "metadata": {},
   "source": [
    "## Mattias Chip Chop Exercise"
   ]
  },
  {
   "cell_type": "code",
   "execution_count": 16,
   "id": "5e640d33",
   "metadata": {},
   "outputs": [
    {
     "name": "stdout",
     "output_type": "stream",
     "text": [
      "1 \n",
      "2 \n",
      "3 chip\n",
      "4 \n",
      "5 chop\n",
      "6 chip\n",
      "7 \n",
      "8 \n",
      "9 chip\n",
      "10 chop\n",
      "11 \n",
      "12 chip\n",
      "13 chip\n",
      "14 \n",
      "15 chipchop\n",
      "16 \n",
      "17 \n",
      "18 chip\n",
      "19 \n",
      "20 chop\n",
      "21 chip\n",
      "22 \n",
      "23 chip\n",
      "24 chip\n",
      "25 chop\n",
      "26 \n",
      "27 chip\n",
      "28 \n",
      "29 \n",
      "30 chipchop\n",
      "31 chip\n",
      "32 chip\n",
      "33 chip\n",
      "34 chip\n",
      "35 chipchop\n",
      "36 chip\n",
      "37 chip\n",
      "38 chip\n",
      "39 chip\n",
      "40 chop\n",
      "41 \n",
      "42 chip\n",
      "43 chip\n",
      "44 \n",
      "45 chipchop\n",
      "46 \n",
      "47 \n",
      "48 chip\n",
      "49 \n",
      "50 chop\n",
      "51 chipchop\n",
      "52 chop\n",
      "53 chipchop\n",
      "54 chipchop\n",
      "55 chop\n",
      "56 chop\n",
      "57 chipchop\n",
      "58 chop\n",
      "59 chop\n",
      "60 chipchop\n",
      "61 \n",
      "62 \n",
      "63 chip\n",
      "64 \n",
      "65 chop\n",
      "66 chip\n",
      "67 \n",
      "68 \n",
      "69 chip\n",
      "70 chop\n",
      "71 \n",
      "72 chip\n",
      "73 chip\n",
      "74 \n",
      "75 chipchop\n",
      "76 \n",
      "77 \n",
      "78 chip\n",
      "79 \n",
      "80 chop\n",
      "81 chip\n",
      "82 \n",
      "83 chip\n",
      "84 chip\n",
      "85 chop\n",
      "86 \n",
      "87 chip\n",
      "88 \n",
      "89 \n",
      "90 chipchop\n",
      "91 \n",
      "92 \n",
      "93 chip\n",
      "94 \n",
      "95 chop\n",
      "96 chip\n",
      "97 \n",
      "98 \n",
      "99 chip\n",
      "100 chop\n",
      "101 \n",
      "102 chip\n",
      "103 chip\n",
      "104 \n",
      "105 chipchop\n",
      "106 \n",
      "107 \n",
      "108 chip\n",
      "109 \n",
      "110 chop\n",
      "111 chip\n",
      "112 \n",
      "113 chip\n",
      "114 chip\n",
      "115 chop\n",
      "116 \n",
      "117 chip\n",
      "118 \n",
      "119 \n",
      "120 chipchop\n",
      "121 \n",
      "122 \n",
      "123 chip\n",
      "124 \n",
      "125 chop\n",
      "126 chip\n",
      "127 \n",
      "128 \n",
      "129 chip\n",
      "130 chipchop\n",
      "131 chip\n",
      "132 chip\n",
      "133 chip\n",
      "134 chip\n",
      "135 chipchop\n",
      "136 chip\n",
      "137 chip\n",
      "138 chip\n",
      "139 chip\n",
      "140 chop\n",
      "141 chip\n",
      "142 \n",
      "143 chip\n",
      "144 chip\n",
      "145 chop\n",
      "146 \n",
      "147 chip\n",
      "148 \n",
      "149 \n",
      "150 chipchop\n",
      "151 chop\n",
      "152 chop\n",
      "153 chipchop\n",
      "154 chop\n",
      "155 chop\n",
      "156 chipchop\n",
      "157 chop\n",
      "158 chop\n",
      "159 chipchop\n",
      "160 chop\n",
      "161 \n",
      "162 chip\n",
      "163 chip\n",
      "164 \n",
      "165 chipchop\n",
      "166 \n",
      "167 \n",
      "168 chip\n",
      "169 \n",
      "170 chop\n",
      "171 chip\n",
      "172 \n",
      "173 chip\n",
      "174 chip\n",
      "175 chop\n",
      "176 \n",
      "177 chip\n",
      "178 \n",
      "179 \n",
      "180 chipchop\n",
      "181 \n",
      "182 \n",
      "183 chip\n",
      "184 \n",
      "185 chop\n",
      "186 chip\n",
      "187 \n",
      "188 \n",
      "189 chip\n",
      "190 chop\n",
      "191 \n",
      "192 chip\n",
      "193 chip\n",
      "194 \n",
      "195 chipchop\n",
      "196 \n",
      "197 \n",
      "198 chip\n",
      "199 \n",
      "200 chop\n",
      "201 chip\n",
      "202 \n",
      "203 chip\n",
      "204 chip\n",
      "205 chop\n",
      "206 \n",
      "207 chip\n",
      "208 \n",
      "209 \n",
      "210 chipchop\n",
      "211 \n",
      "212 \n",
      "213 chip\n",
      "214 \n",
      "215 chop\n",
      "216 chip\n",
      "217 \n",
      "218 \n",
      "219 chip\n",
      "220 chop\n",
      "221 \n",
      "222 chip\n",
      "223 chip\n",
      "224 \n",
      "225 chipchop\n",
      "226 \n",
      "227 \n",
      "228 chip\n",
      "229 \n",
      "230 chipchop\n",
      "231 chip\n",
      "232 chip\n",
      "233 chip\n",
      "234 chip\n",
      "235 chipchop\n",
      "236 chip\n",
      "237 chip\n",
      "238 chip\n",
      "239 chip\n",
      "240 chipchop\n",
      "241 \n",
      "242 \n",
      "243 chip\n",
      "244 \n",
      "245 chop\n",
      "246 chip\n",
      "247 \n",
      "248 \n",
      "249 chip\n",
      "250 chop\n",
      "251 chop\n",
      "252 chipchop\n",
      "253 chipchop\n",
      "254 chop\n",
      "255 chipchop\n",
      "256 chop\n",
      "257 chop\n",
      "258 chipchop\n",
      "259 chop\n",
      "260 chop\n",
      "261 chip\n",
      "262 \n",
      "263 chip\n",
      "264 chip\n",
      "265 chop\n",
      "266 \n",
      "267 chip\n",
      "268 \n",
      "269 \n",
      "270 chipchop\n",
      "271 \n",
      "272 \n",
      "273 chip\n",
      "274 \n",
      "275 chop\n",
      "276 chip\n",
      "277 \n",
      "278 \n",
      "279 chip\n",
      "280 chop\n",
      "281 \n",
      "282 chip\n",
      "283 chip\n",
      "284 \n",
      "285 chipchop\n",
      "286 \n",
      "287 \n",
      "288 chip\n",
      "289 \n",
      "290 chop\n",
      "291 chip\n",
      "292 \n",
      "293 chip\n",
      "294 chip\n",
      "295 chop\n",
      "296 \n",
      "297 chip\n",
      "298 \n",
      "299 \n",
      "300 chipchop\n",
      "301 chip\n",
      "302 chip\n",
      "303 chip\n",
      "304 chip\n",
      "305 chipchop\n",
      "306 chip\n",
      "307 chip\n",
      "308 chip\n",
      "309 chip\n"
     ]
    }
   ],
   "source": [
    "n = 310\n",
    "for i in range(1, n):\n",
    "    out = \"\"\n",
    "    if i % 3 == 0 or '3' in str(i):\n",
    "        out += 'chip'\n",
    "    if i % 5 == 0 or '5' in str(i):\n",
    "        out += 'chop'\n",
    "    if (i % 3 == 0 and i % 5 == 0 or '3' in str(i) and '5' in str(i)) and out == 'chipchop':\n",
    "        print(i, 'chipchop')\n",
    "    else:\n",
    "        print(i, out)"
   ]
  }
 ],
 "metadata": {
  "kernelspec": {
   "display_name": "Python 3 (ipykernel)",
   "language": "python",
   "name": "python3"
  },
  "language_info": {
   "codemirror_mode": {
    "name": "ipython",
    "version": 3
   },
   "file_extension": ".py",
   "mimetype": "text/x-python",
   "name": "python",
   "nbconvert_exporter": "python",
   "pygments_lexer": "ipython3",
   "version": "3.10.4"
  }
 },
 "nbformat": 4,
 "nbformat_minor": 5
}
