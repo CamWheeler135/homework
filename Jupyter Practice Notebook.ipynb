{
 "cells": [
  {
   "cell_type": "markdown",
   "id": "656093e5",
   "metadata": {},
   "source": [
    "# Welcome To Cameron's Notebook\n",
    "\n",
    "\n",
    "\n",
    "# In this book we will be running over the basics in python with lessons by Mattia and the Python Crash Course Book\n",
    "\n",
    "\n",
    "\n",
    "\n",
    "### In this book, there will be a title, in which there will be subheadings and following certain code cells, will be an explanation of what is happening in the cell. At the end of each chapter, there will be a task I have done myself and then some take away points to consider!\n",
    "\n",
    "\n"
   ]
  },
  {
   "cell_type": "markdown",
   "id": "f3f4b84d",
   "metadata": {},
   "source": [
    "  "
   ]
  },
  {
   "cell_type": "markdown",
   "id": "e5016b78",
   "metadata": {},
   "source": [
    "  "
   ]
  },
  {
   "cell_type": "markdown",
   "id": "6eed7cc6",
   "metadata": {},
   "source": [
    "# Chapter 2 Variables and Simple Data Types"
   ]
  },
  {
   "cell_type": "markdown",
   "id": "1cf63297",
   "metadata": {},
   "source": [
    "### Variables "
   ]
  },
  {
   "cell_type": "code",
   "execution_count": 1,
   "id": "e628f50f",
   "metadata": {},
   "outputs": [
    {
     "name": "stdout",
     "output_type": "stream",
     "text": [
      "Hello\n"
     ]
    }
   ],
   "source": [
    "print(\"Hello\")"
   ]
  },
  {
   "cell_type": "code",
   "execution_count": 1,
   "id": "af35a3c1",
   "metadata": {},
   "outputs": [
    {
     "name": "stdout",
     "output_type": "stream",
     "text": [
      "hello Cameron, this is the variable message\n"
     ]
    }
   ],
   "source": [
    "message = \"Hello Cameron, this is the variable message\"\n",
    "print(message)"
   ]
  },
  {
   "cell_type": "markdown",
   "id": "9c663bae",
   "metadata": {},
   "source": [
    "> We are assinging a value to the variable \"message\""
   ]
  },
  {
   "cell_type": "code",
   "execution_count": 3,
   "id": "2791a445",
   "metadata": {},
   "outputs": [
    {
     "name": "stdout",
     "output_type": "stream",
     "text": [
      "Hello Cameron, this is the variable message\n",
      "Hello again Cameron, this is still the variable message, but I am showing variable 'values' can be updated\n"
     ]
    }
   ],
   "source": [
    "message = \"Hello Cameron, this is the variable message\"\n",
    "print(message)\n",
    "\n",
    "message = \"Hello again Cameron, this is still the variable message, but I am showing variable 'values' can be updated\"\n",
    "print(message)"
   ]
  },
  {
   "cell_type": "markdown",
   "id": "a2e1c072",
   "metadata": {},
   "source": [
    "> Variables and their corresponding values can be updated and python will keep a track of them as we code"
   ]
  },
  {
   "cell_type": "code",
   "execution_count": 4,
   "id": "c017be46",
   "metadata": {
    "scrolled": true
   },
   "outputs": [
    {
     "ename": "NameError",
     "evalue": "name 'mesage' is not defined",
     "output_type": "error",
     "traceback": [
      "\u001b[1;31m---------------------------------------------------------------------------\u001b[0m",
      "\u001b[1;31mNameError\u001b[0m                                 Traceback (most recent call last)",
      "Input \u001b[1;32mIn [4]\u001b[0m, in \u001b[0;36m<module>\u001b[1;34m\u001b[0m\n\u001b[0;32m      1\u001b[0m message \u001b[38;5;241m=\u001b[39m \u001b[38;5;124m\"\u001b[39m\u001b[38;5;124mIn this cell we are trying to throw an error\u001b[39m\u001b[38;5;124m\"\u001b[39m\n\u001b[1;32m----> 2\u001b[0m \u001b[38;5;28mprint\u001b[39m(\u001b[43mmesage\u001b[49m)\n",
      "\u001b[1;31mNameError\u001b[0m: name 'mesage' is not defined"
     ]
    }
   ],
   "source": [
    "message = \"In this cell we are trying to throw an error\"\n",
    "print(mesage)"
   ]
  },
  {
   "cell_type": "markdown",
   "id": "a73a7483",
   "metadata": {},
   "source": [
    ">First it shows us the error type 'NameError'.\n",
    "Then it shows us where the error is taking place 'message'.\n",
    "A name error means we have most likely forgotten to set a value or misspelt the varible we are calling in our code.\n",
    "Python will not spell check our code, but it must be spelled constistently."
   ]
  },
  {
   "cell_type": "markdown",
   "id": "8c4814e4",
   "metadata": {},
   "source": [
    "### Task"
   ]
  },
  {
   "cell_type": "code",
   "execution_count": 7,
   "id": "6e16668d",
   "metadata": {},
   "outputs": [
    {
     "name": "stdout",
     "output_type": "stream",
     "text": [
      "Hello reader, this is Camerons Jupyter Notebook\n"
     ]
    }
   ],
   "source": [
    "message = \"Hello reader, this is Camerons Jupyter Notebook\"\n",
    "print(message)"
   ]
  },
  {
   "cell_type": "code",
   "execution_count": 8,
   "id": "6ba61112",
   "metadata": {},
   "outputs": [
    {
     "name": "stdout",
     "output_type": "stream",
     "text": [
      "Hello reader, this is Camerons Jupyter Notebook\n",
      "Hello reader, this is an update of the 'value' of the message varibale\n"
     ]
    }
   ],
   "source": [
    "message = \"Hello reader, this is Camerons Jupyter Notebook\"\n",
    "print(message)\n",
    "\n",
    "message = \"Hello reader, this is an update of the 'value' of the message varibale\"\n",
    "print(message)"
   ]
  },
  {
   "cell_type": "markdown",
   "id": "3b5de83a",
   "metadata": {},
   "source": [
    "### Take Aways\n",
    "\n",
    "- Variables are like stickers we tag onto values in python, a varibale will reference a certain value \n",
    "- Variable names can only contain letters, numbers and underscores\n",
    "- Not allowed to use spaces in varibale names, instead we use underscores \n",
    "- Dont use python keywords as variables, this will be VERY confusing to read and code \n",
    "- Keep variable names short but descriptive \n",
    "\n"
   ]
  },
  {
   "cell_type": "markdown",
   "id": "1cbe5612",
   "metadata": {},
   "source": [
    "### Strings"
   ]
  },
  {
   "cell_type": "code",
   "execution_count": 1,
   "id": "c95280da",
   "metadata": {},
   "outputs": [
    {
     "name": "stdout",
     "output_type": "stream",
     "text": [
      "Cameron Wheeler\n"
     ]
    }
   ],
   "source": [
    "name = \"cameron wheeler\"\n",
    "\n",
    "print(name.title())"
   ]
  },
  {
   "cell_type": "markdown",
   "id": "04e5683b",
   "metadata": {},
   "source": [
    "> Title is the method of the variable name, a method allows Python to act on some data and the dot  .  tells python to make name a title where each word starts with a capital"
   ]
  },
  {
   "cell_type": "code",
   "execution_count": 12,
   "id": "206a66bb",
   "metadata": {},
   "outputs": [
    {
     "name": "stdout",
     "output_type": "stream",
     "text": [
      "cameron wheeler\n",
      "Hello, Cameron Wheeler!\n"
     ]
    }
   ],
   "source": [
    "first_name = \"cameron\"\n",
    "last_name = \"wheeler\"\n",
    "full_name = (f\"{first_name} {last_name}\")\n",
    "\n",
    "print(f'{first_name} {last_name}')\n",
    "print(f'Hello, {full_name.title()}!')"
   ]
  },
  {
   "cell_type": "code",
   "execution_count": 13,
   "id": "2ec81a2e",
   "metadata": {},
   "outputs": [
    {
     "name": "stdout",
     "output_type": "stream",
     "text": [
      "Tilda Lynda Mark Angus\n"
     ]
    }
   ],
   "source": [
    "dog = \"tilda\"\n",
    "mum = \"lynda\" \n",
    "dad = \"mark\" \n",
    "brother = \"angus\" \n",
    "family = (f'{dog} {mum} {dad} {brother}')\n",
    "\n",
    "print(family.title())"
   ]
  },
  {
   "cell_type": "markdown",
   "id": "9c9e6e48",
   "metadata": {},
   "source": [
    "> Here we are inserting varibles into a string using the f' string, this can be used on any kind of varible to insert it into a string we want to print out. "
   ]
  },
  {
   "cell_type": "code",
   "execution_count": 25,
   "id": "b62a6750",
   "metadata": {},
   "outputs": [
    {
     "name": "stdout",
     "output_type": "stream",
     "text": [
      "Python\n",
      "\tPython\n",
      "\n",
      "\n",
      "Languages\n",
      "Python\n",
      "C+\n",
      "\n",
      "\n",
      "Languages\n",
      "\tPython\n",
      "\tC+\n",
      "\tJavaScript\n"
     ]
    }
   ],
   "source": [
    "print(\"Python\")\n",
    "print(\"\\tPython\")\n",
    "\n",
    "print(\"\\n\")\n",
    "\n",
    "\n",
    "\n",
    "print(\"Languages\\nPython\\nC+\")\n",
    "\n",
    "print(\"\\n\")\n",
    "\n",
    "print(\"Languages\\n\\tPython\\n\\tC+\\n\\tJavaScript\")"
   ]
  },
  {
   "cell_type": "markdown",
   "id": "9efc692f",
   "metadata": {},
   "source": [
    "> Here we are using the \\t character combination to place indents into the text. \n",
    "> Character combination \\n creates a new line in the text, sort of like hitting enter :)"
   ]
  },
  {
   "cell_type": "code",
   "execution_count": 34,
   "id": "140b4d05",
   "metadata": {},
   "outputs": [
    {
     "name": "stdout",
     "output_type": "stream",
     "text": [
      "Python   \n",
      "Python\n"
     ]
    }
   ],
   "source": [
    "best_language = \"Python   \"\n",
    "print(best_language)\n",
    "best_language = best_language.strip()\n",
    "best_language\n",
    "print(best_language)\n",
    "\n"
   ]
  },
  {
   "cell_type": "markdown",
   "id": "824903a2",
   "metadata": {},
   "source": [
    "> using the method strip() removes the white space behind the string that we dont want, this is becuase although we dont see it as important, python will associate that white space as part of the variable. Using strip() removes the whitespace but only temporarily, to remove it permenantly, we have to assign the stripped verison to the variable itself. You can remove space from the left or the right using lstrip() or rstrip().\n",
    "\n",
    "\n",
    "> click next to the code to \"see the gap\""
   ]
  },
  {
   "cell_type": "markdown",
   "id": "2c917751",
   "metadata": {},
   "source": [
    "### Task"
   ]
  },
  {
   "cell_type": "code",
   "execution_count": 5,
   "id": "83bb5b01",
   "metadata": {},
   "outputs": [
    {
     "name": "stdout",
     "output_type": "stream",
     "text": [
      "Hello Eric\n"
     ]
    }
   ],
   "source": [
    "name = \"Eric\"\n",
    "\n",
    "print(f'Hello {name}')"
   ]
  },
  {
   "cell_type": "code",
   "execution_count": 10,
   "id": "91ea30bc",
   "metadata": {},
   "outputs": [
    {
     "name": "stdout",
     "output_type": "stream",
     "text": [
      "CAMERON\n",
      "cameron\n",
      "Cameron\n"
     ]
    }
   ],
   "source": [
    "name = \"Cameron\"\n",
    "\n",
    "print(f'{name.upper()}')\n",
    "print(f'{name.lower()}')\n",
    "print(f'{name.title()}')"
   ]
  },
  {
   "cell_type": "code",
   "execution_count": 16,
   "id": "67c9cf9a",
   "metadata": {},
   "outputs": [
    {
     "name": "stdout",
     "output_type": "stream",
     "text": [
      "Alan Turing once said \"sometimes it is the people no one can imagine anything of who do the things no one can imagine.\"\n"
     ]
    }
   ],
   "source": [
    "name = \"Alan Turing\"\n",
    "quote = '\"Sometimes it is the people no one can imagine anything of who do the things no one can imagine.\"'\n",
    "\n",
    "print(f'{name} once said {quote.lower()}')"
   ]
  },
  {
   "cell_type": "code",
   "execution_count": 27,
   "id": "bb7e53aa",
   "metadata": {},
   "outputs": [
    {
     "name": "stdout",
     "output_type": "stream",
     "text": [
      "Alan Turing once said \"sometimes it is the people no one can imagine anything of who do the things no one can imagine.\"\n"
     ]
    }
   ],
   "source": [
    "name = \"   Alan Turing  \"\n",
    "quote = '\"sometimes it is the people no one can imagine anything of who do the things no one can imagine.\"       '\n",
    "\n",
    "print(f'{name.strip()} once said {quote.strip()}')"
   ]
  },
  {
   "cell_type": "markdown",
   "id": "ce9a5a67",
   "metadata": {},
   "source": [
    "### Take Aways\n",
    "\n",
    "- To add strings into variables we use f' strings\n",
    "-  an /n and /t are used to add a new line and a tab respectively "
   ]
  },
  {
   "cell_type": "markdown",
   "id": "8e62618e",
   "metadata": {},
   "source": [
    "### Numbers"
   ]
  },
  {
   "cell_type": "markdown",
   "id": "5860e051",
   "metadata": {},
   "source": [
    "This is how python will handle integers, it also works similarly with floats. But sometimes it can be complicated when using floats, we will learn about this later on however. "
   ]
  },
  {
   "cell_type": "code",
   "execution_count": 3,
   "id": "46d1affb",
   "metadata": {},
   "outputs": [
    {
     "data": {
      "text/plain": [
       "2"
      ]
     },
     "execution_count": 3,
     "metadata": {},
     "output_type": "execute_result"
    }
   ],
   "source": [
    "1 + 1\n"
   ]
  },
  {
   "cell_type": "code",
   "execution_count": 4,
   "id": "cf273be3",
   "metadata": {},
   "outputs": [
    {
     "data": {
      "text/plain": [
       "4"
      ]
     },
     "execution_count": 4,
     "metadata": {},
     "output_type": "execute_result"
    }
   ],
   "source": [
    "2 * 2"
   ]
  },
  {
   "cell_type": "code",
   "execution_count": 5,
   "id": "4d784fac",
   "metadata": {},
   "outputs": [
    {
     "data": {
      "text/plain": [
       "3"
      ]
     },
     "execution_count": 5,
     "metadata": {},
     "output_type": "execute_result"
    }
   ],
   "source": [
    "5 - 2"
   ]
  },
  {
   "cell_type": "code",
   "execution_count": 6,
   "id": "500e375e",
   "metadata": {},
   "outputs": [
    {
     "data": {
      "text/plain": [
       "3.0"
      ]
     },
     "execution_count": 6,
     "metadata": {},
     "output_type": "execute_result"
    }
   ],
   "source": [
    "6 / 2"
   ]
  },
  {
   "cell_type": "markdown",
   "id": "67e32f58",
   "metadata": {},
   "source": [
    "> It is worth noting that when we divide we will always get a float back, or if you mix an integer with a float you will get a float back\n"
   ]
  },
  {
   "cell_type": "code",
   "execution_count": 9,
   "id": "e8dc2b5f",
   "metadata": {},
   "outputs": [
    {
     "data": {
      "text/plain": [
       "4.0"
      ]
     },
     "execution_count": 9,
     "metadata": {},
     "output_type": "execute_result"
    }
   ],
   "source": [
    "2.0 + 2"
   ]
  },
  {
   "cell_type": "code",
   "execution_count": 10,
   "id": "c619b197",
   "metadata": {},
   "outputs": [
    {
     "data": {
      "text/plain": [
       "4.0"
      ]
     },
     "execution_count": 10,
     "metadata": {},
     "output_type": "execute_result"
    }
   ],
   "source": [
    "2.0 * 2"
   ]
  },
  {
   "cell_type": "code",
   "execution_count": 11,
   "id": "dc3f09e9",
   "metadata": {},
   "outputs": [
    {
     "data": {
      "text/plain": [
       "1.0"
      ]
     },
     "execution_count": 11,
     "metadata": {},
     "output_type": "execute_result"
    }
   ],
   "source": [
    "4.0 - 3"
   ]
  },
  {
   "cell_type": "markdown",
   "id": "b549e282",
   "metadata": {},
   "source": [
    "> You can use underscores to make really large numbers more readable, this will not effect the code when printed, but when reading the code it could be. "
   ]
  },
  {
   "cell_type": "code",
   "execution_count": 12,
   "id": "3cd3d224",
   "metadata": {},
   "outputs": [
    {
     "name": "stdout",
     "output_type": "stream",
     "text": [
      "14000000\n"
     ]
    }
   ],
   "source": [
    "universe_age = 14_000_000\n",
    "\n",
    "print(universe_age)"
   ]
  },
  {
   "cell_type": "code",
   "execution_count": 14,
   "id": "2a4957ce",
   "metadata": {},
   "outputs": [
    {
     "name": "stdout",
     "output_type": "stream",
     "text": [
      "1000\n",
      "10\n",
      "1\n",
      "1000 10 1\n"
     ]
    }
   ],
   "source": [
    "x, y, z = 1000, 10, 1\n",
    "\n",
    "print(x)\n",
    "print(y)\n",
    "print(z)\n",
    "print(x, y, z)"
   ]
  },
  {
   "cell_type": "code",
   "execution_count": 17,
   "id": "b0dcee6f",
   "metadata": {},
   "outputs": [
    {
     "name": "stdout",
     "output_type": "stream",
     "text": [
      "Angus\n",
      "Lynda\n",
      "Mark\n",
      "Tilda\n",
      "Angus Lynda Mark Tilda\n"
     ]
    }
   ],
   "source": [
    "brother, mum, dad, dog = \"Angus\", \"Lynda\", \"Mark\", \"Tilda\"\n",
    "\n",
    "print(brother)\n",
    "print(mum)\n",
    "print(dad)\n",
    "print(dog)\n",
    "print(brother, mum, dad, dog)"
   ]
  },
  {
   "cell_type": "markdown",
   "id": "a17ec438",
   "metadata": {},
   "source": [
    "> We can assign multiple variables in the same line, this will help us make our code more understandable. Note we must seperate our variables and their values with commas (,) "
   ]
  },
  {
   "cell_type": "code",
   "execution_count": 19,
   "id": "71a5952d",
   "metadata": {},
   "outputs": [
    {
     "name": "stdout",
     "output_type": "stream",
     "text": [
      "33\n"
     ]
    }
   ],
   "source": [
    "CONSTANT = 33\n",
    "\n",
    "print(CONSTANT)"
   ]
  },
  {
   "cell_type": "markdown",
   "id": "24dc88e9",
   "metadata": {},
   "source": [
    "> When we make a constant varible (one that will not change throughout the code) we use capital letters. "
   ]
  },
  {
   "cell_type": "markdown",
   "id": "f96a2a9c",
   "metadata": {},
   "source": [
    "### Task"
   ]
  },
  {
   "cell_type": "code",
   "execution_count": 22,
   "id": "715b7cb0",
   "metadata": {},
   "outputs": [
    {
     "name": "stdout",
     "output_type": "stream",
     "text": [
      "8\n",
      "8\n",
      "8\n",
      "8.0\n"
     ]
    }
   ],
   "source": [
    "print(4 + 4)\n",
    "print(10 - 2)\n",
    "print(4 * 2)\n",
    "print(16 / 2)"
   ]
  },
  {
   "cell_type": "code",
   "execution_count": 23,
   "id": "92c23943",
   "metadata": {},
   "outputs": [
    {
     "name": "stdout",
     "output_type": "stream",
     "text": [
      "13\n"
     ]
    }
   ],
   "source": [
    "my_fav_number = 13\n",
    "\n",
    "# This is a comment  \n",
    "\n",
    "print(my_fav_number)"
   ]
  },
  {
   "cell_type": "markdown",
   "id": "81c00eed",
   "metadata": {},
   "source": [
    "### Take Aways"
   ]
  },
  {
   "cell_type": "markdown",
   "id": "2dbce595",
   "metadata": {},
   "source": [
    "- We can assign multiple variables in the same line, but we must include a comma \n",
    "- Underscores can be used to make numbers easier to read, and won't affect the code \n",
    "- Constant variables are defined with CAPITAL LETTERS"
   ]
  },
  {
   "cell_type": "markdown",
   "id": "4501c40f",
   "metadata": {},
   "source": [
    "### The Zen Of Python"
   ]
  },
  {
   "cell_type": "code",
   "execution_count": 1,
   "id": "c3620ccc",
   "metadata": {},
   "outputs": [
    {
     "name": "stdout",
     "output_type": "stream",
     "text": [
      "The Zen of Python, by Tim Peters\n",
      "\n",
      "Beautiful is better than ugly.\n",
      "Explicit is better than implicit.\n",
      "Simple is better than complex.\n",
      "Complex is better than complicated.\n",
      "Flat is better than nested.\n",
      "Sparse is better than dense.\n",
      "Readability counts.\n",
      "Special cases aren't special enough to break the rules.\n",
      "Although practicality beats purity.\n",
      "Errors should never pass silently.\n",
      "Unless explicitly silenced.\n",
      "In the face of ambiguity, refuse the temptation to guess.\n",
      "There should be one-- and preferably only one --obvious way to do it.\n",
      "Although that way may not be obvious at first unless you're Dutch.\n",
      "Now is better than never.\n",
      "Although never is often better than *right* now.\n",
      "If the implementation is hard to explain, it's a bad idea.\n",
      "If the implementation is easy to explain, it may be a good idea.\n",
      "Namespaces are one honking great idea -- let's do more of those!\n"
     ]
    }
   ],
   "source": [
    "import this\n"
   ]
  },
  {
   "cell_type": "markdown",
   "id": "eae9ed2a",
   "metadata": {},
   "source": [
    "# Chapter 3 Introducing Lists"
   ]
  },
  {
   "cell_type": "code",
   "execution_count": 5,
   "id": "c49e7ceb",
   "metadata": {},
   "outputs": [
    {
     "name": "stdout",
     "output_type": "stream",
     "text": [
      "['Apple', 'Microsoft', 'Dell', 'Razer']\n",
      "Apple\n",
      "Microsoft\n",
      "Razer\n"
     ]
    }
   ],
   "source": [
    "computer_companies = [\"Apple\", \"Microsoft\", \"Dell\", \"Razer\"]\n",
    "\n",
    "print(computer_companies)\n",
    "print(computer_companies[0])\n",
    "print(computer_companies[1])\n",
    "print(computer_companies[3])"
   ]
  },
  {
   "cell_type": "code",
   "execution_count": 10,
   "id": "ac6a0450",
   "metadata": {},
   "outputs": [
    {
     "name": "stdout",
     "output_type": "stream",
     "text": [
      "Apple\n",
      "Nvidia\n"
     ]
    }
   ],
   "source": [
    "computer_companies = [\"Apple\", \"Microsoft\", \"Dell\", \"Razer\", \"Nvidia\"]\n",
    "\n",
    "computer_companies[0].lower\n",
    "print(computer_companies[0].title())\n",
    "print(computer_companies[-1])"
   ]
  },
  {
   "cell_type": "markdown",
   "id": "506b10aa",
   "metadata": {},
   "source": [
    "> We can put anything in a list, not just numbers. We can print a whole list, but this isnt what we want to show the user. We can also print specific elements in the list. REMEBER it starts with 0. The position in a list in which an element is in is called and index.\n",
    "\n",
    "> We can edit elements using the lower and title methods like we used before\n",
    "\n",
    "> [-1] means the last element in the list, this is a special python syntax for acessing the last element in the list, this also works for [-2] and [-3] and so on. This is really helpful when acessing the last element in a list when we don't know how long the list will be.\n",
    "\n"
   ]
  },
  {
   "cell_type": "code",
   "execution_count": 3,
   "id": "ff4242a3",
   "metadata": {},
   "outputs": [
    {
     "name": "stdout",
     "output_type": "stream",
     "text": [
      "My first laptop from was Apple.\n"
     ]
    }
   ],
   "source": [
    "computer_companies = [\"Apple\", \"Microsoft\", \"Dell\", \"Razer\", \"Nvidia\"]\n",
    "\n",
    "message = (f'My first laptop from was {computer_companies[0]}.')\n",
    "\n",
    "print(message)"
   ]
  },
  {
   "cell_type": "markdown",
   "id": "f5a3cbd9",
   "metadata": {},
   "source": [
    "> We can use f strings with elements in a list just like we would any variable "
   ]
  },
  {
   "cell_type": "markdown",
   "id": "88033d3f",
   "metadata": {},
   "source": [
    "### Tasks"
   ]
  },
  {
   "cell_type": "code",
   "execution_count": 5,
   "id": "65ad9aef",
   "metadata": {},
   "outputs": [
    {
     "name": "stdout",
     "output_type": "stream",
     "text": [
      "Charlie\n",
      "Ben\n",
      "Tom\n",
      "Angus\n"
     ]
    }
   ],
   "source": [
    "friends = \"Charlie\", \"Ben\", \"Tom\", \"Angus\"\n",
    "\n",
    "print(friends[0])\n",
    "print(friends[1])\n",
    "print(friends[2])\n",
    "print(friends[3])\n"
   ]
  },
  {
   "cell_type": "code",
   "execution_count": 16,
   "id": "82f9f3d3",
   "metadata": {},
   "outputs": [
    {
     "name": "stdout",
     "output_type": "stream",
     "text": [
      "Hello Charlie this is my coding exercise and I am writing a message to you.\n"
     ]
    }
   ],
   "source": [
    "friends = \"Charlie\", \"Ben\", \"Tom\", \"Angus\"\n",
    "\n",
    "message = (f'Hello {friends[0]} this is my coding exercise and I am writing a message to you.')\n",
    "\n",
    "print(message)"
   ]
  },
  {
   "cell_type": "code",
   "execution_count": 19,
   "id": "cf10efab",
   "metadata": {},
   "outputs": [
    {
     "name": "stdout",
     "output_type": "stream",
     "text": [
      "I am looking to buy a new laptop, after some research I have decided I want a Apple laptop because it will work the best for me.\n"
     ]
    }
   ],
   "source": [
    "computer_companies = [\"Apple\", \"Microsoft\", \"Dell\", \"Razer\", \"Nvidia\"]\n",
    "\n",
    "what_to_buy = (f'I am looking to buy a new laptop, after some research I have decided I want a {computer_companies[0]} laptop because it will work the best for me.')\n",
    "\n",
    "print(what_to_buy)"
   ]
  },
  {
   "cell_type": "markdown",
   "id": "f8896c65",
   "metadata": {},
   "source": [
    "### Editing Elements In A List"
   ]
  },
  {
   "cell_type": "code",
   "execution_count": 20,
   "id": "24ad3152",
   "metadata": {},
   "outputs": [
    {
     "name": "stdout",
     "output_type": "stream",
     "text": [
      "['Apple', 'Microsoft', 'Dell', 'Razer', 'Nvidia']\n",
      "['Apple', 'Microsoft', 'AMD', 'Razer', 'Nvidia']\n"
     ]
    }
   ],
   "source": [
    "computer_companies = [\"Apple\", \"Microsoft\", \"Dell\", \"Razer\", \"Nvidia\"]\n",
    "print(computer_companies)\n",
    "\n",
    "computer_companies[2] = \"AMD\"\n",
    "print(computer_companies)"
   ]
  },
  {
   "cell_type": "markdown",
   "id": "064b7193",
   "metadata": {},
   "source": [
    "> Here we are assigning AMD over Dell as the 3rd element in the list, remeber that a list starts with 0. "
   ]
  },
  {
   "cell_type": "code",
   "execution_count": 21,
   "id": "19ed50b7",
   "metadata": {},
   "outputs": [
    {
     "name": "stdout",
     "output_type": "stream",
     "text": [
      "['Apple', 'Microsoft', 'Dell', 'Razer', 'Nvidia', 'AMD']\n"
     ]
    }
   ],
   "source": [
    "computer_companies = [\"Apple\", \"Microsoft\", \"Dell\", \"Razer\", \"Nvidia\"]\n",
    "\n",
    "computer_companies.append(\"AMD\")\n",
    "\n",
    "print(computer_companies)"
   ]
  },
  {
   "cell_type": "markdown",
   "id": "4396e064",
   "metadata": {},
   "source": [
    "> Here we are appeninding AMD to the end of the list, whenever we append an element to a list it will always be at the end no matter what. "
   ]
  },
  {
   "cell_type": "code",
   "execution_count": 22,
   "id": "ced64044",
   "metadata": {},
   "outputs": [
    {
     "name": "stdout",
     "output_type": "stream",
     "text": [
      "['Apple', 'Dell', 'AMD']\n"
     ]
    }
   ],
   "source": [
    "computer_companies = []\n",
    "\n",
    "computer_companies.append(\"Apple\")\n",
    "computer_companies.append(\"Dell\")\n",
    "computer_companies.append(\"AMD\")\n",
    "\n",
    "print(computer_companies)"
   ]
  },
  {
   "cell_type": "markdown",
   "id": "496d74ce",
   "metadata": {},
   "source": [
    "> We can append things to an empty list as well "
   ]
  },
  {
   "cell_type": "code",
   "execution_count": 24,
   "id": "ad8b28c8",
   "metadata": {},
   "outputs": [
    {
     "name": "stdout",
     "output_type": "stream",
     "text": [
      "['AMD', 'Apple', 'Microsoft', 'Dell', 'Razer', 'Nvidia']\n"
     ]
    }
   ],
   "source": [
    "computer_companies = [\"Apple\", \"Microsoft\", \"Dell\", \"Razer\", \"Nvidia\"]\n",
    "\n",
    "computer_companies.insert(0, \"AMD\")\n",
    "\n",
    "print(computer_companies)"
   ]
  },
  {
   "cell_type": "markdown",
   "id": "e13a996e",
   "metadata": {},
   "source": [
    "> Here we are using the 'insert' function to assign the element into a specific index in the list. "
   ]
  },
  {
   "cell_type": "code",
   "execution_count": 29,
   "id": "8e2356ee",
   "metadata": {},
   "outputs": [
    {
     "name": "stdout",
     "output_type": "stream",
     "text": [
      "['Apple', 'Dell', 'Razer']\n"
     ]
    }
   ],
   "source": [
    "computer_companies = [\"Apple\", \"Microsoft\", \"Dell\", \"Razer\", \"Nvidia\"]\n",
    "\n",
    "del computer_companies[1]\n",
    "\n",
    "# Now the list will shrink so we cannot use 4 to look for nivida, we can use [-1] or 3, as the end of the list will shrink to 3. \n",
    "\n",
    "del computer_companies[3]\n",
    "\n",
    "print(computer_companies)"
   ]
  },
  {
   "cell_type": "markdown",
   "id": "db6fa837",
   "metadata": {},
   "source": [
    "> Here we are using the del statement to remove a specific element from the list when we KNOW its index in the list.  We cannot do this if we do not know where the element is placed inside the list. Once we use the del statement, we can no longer work with it anymore, if we want to remove it from a list but still be able to work with it we must use the pop() function. "
   ]
  },
  {
   "cell_type": "code",
   "execution_count": 30,
   "id": "19efcd8f",
   "metadata": {},
   "outputs": [
    {
     "name": "stdout",
     "output_type": "stream",
     "text": [
      "['Apple', 'Microsoft', 'Dell', 'Razer']\n",
      "Nvidia\n"
     ]
    }
   ],
   "source": [
    "computer_companies = [\"Apple\", \"Microsoft\", \"Dell\", \"Razer\", \"Nvidia\"]\n",
    "\n",
    "popped_computers = computer_companies.pop()\n",
    "\n",
    "print(computer_companies)\n",
    "print(popped_computers)"
   ]
  },
  {
   "cell_type": "markdown",
   "id": "d7bdd7bf",
   "metadata": {},
   "source": [
    "> The pop() function removes the last element from a list, and allows us to work with it afterwards. "
   ]
  },
  {
   "cell_type": "code",
   "execution_count": 32,
   "id": "1db586a1",
   "metadata": {},
   "outputs": [
    {
     "name": "stdout",
     "output_type": "stream",
     "text": [
      "The first laptop I owned was an Apple laptop, I got it in 2015 but it broke so I now use an iPad.\n"
     ]
    }
   ],
   "source": [
    "computer_companies = [\"Microsoft\", \"Dell\", \"Razer\", \"Nvidia\", \"Apple\"]\n",
    "\n",
    "popped_computer_companies = (f'The first laptop I owned was an {computer_companies.pop()} laptop, I got it in 2015 but it broke so I now use an iPad.')\n",
    "\n",
    "print(popped_computer_companies)\n"
   ]
  },
  {
   "cell_type": "markdown",
   "id": "d69400d9",
   "metadata": {},
   "source": [
    "> Note that when we use pop() it removes the item from the list and places it in the first f string we use, so we cannot repeat it, I orignially used {computer_companies.pop()} before iPad, expecting \"Apple iPad\" but the code returned Nvidea iPad as it had popped Nvida and stuck it there becuase Apple had been used already. "
   ]
  },
  {
   "cell_type": "code",
   "execution_count": 1,
   "id": "fb0eba78",
   "metadata": {
    "scrolled": true
   },
   "outputs": [
    {
     "name": "stdout",
     "output_type": "stream",
     "text": [
      "['Apple', 'Dell', 'Razer', 'Nvidia']\n",
      "Microsoft\n"
     ]
    }
   ],
   "source": [
    "computer_companies = [\"Apple\", \"Microsoft\", \"Dell\", \"Razer\", \"Nvidia\"]\n",
    "\n",
    "computer_companies_pop = computer_companies.pop(1)\n",
    "\n",
    "print(computer_companies)\n",
    "print(computer_companies_pop)"
   ]
  },
  {
   "cell_type": "markdown",
   "id": "6c0b71eb",
   "metadata": {},
   "source": [
    "> We can use pop() and insert the index of the element in the list, again we must know the position, like del"
   ]
  },
  {
   "cell_type": "code",
   "execution_count": 5,
   "id": "3bbf5731",
   "metadata": {},
   "outputs": [
    {
     "name": "stdout",
     "output_type": "stream",
     "text": [
      "I have decided to remove Razer from the list of choices, as they are primarily used for gaming\n",
      "Here is the list of laptops I can buy from for univeristy ['Apple', 'Microsoft', 'Dell', 'Nvidia']\n"
     ]
    }
   ],
   "source": [
    "computer_companies = [\"Apple\", \"Microsoft\", \"Dell\", \"Razer\", \"Nvidia\"]\n",
    "gaming_laptop = \"Razer\"\n",
    "\n",
    "computer_companies.remove(gaming_laptop)\n",
    "\n",
    "print(f'I have decided to remove {gaming_laptop} from the list of choices, as they are primarily used for gaming')\n",
    "print(f'Here is the list of laptops I can buy from for univeristy {computer_companies}')"
   ]
  },
  {
   "cell_type": "markdown",
   "id": "edf453e7",
   "metadata": {},
   "source": [
    "> We can use the remove() function to delete an element from the list when we don't know where it is positioned. Like pop() we can work with the element after we have removed it.\n",
    "\n",
    "> So we have delete, pop and remove. All take items from a list, del gets rid of it, pop and remove store it for it to be used after."
   ]
  },
  {
   "cell_type": "markdown",
   "id": "d0dce05b",
   "metadata": {},
   "source": [
    "### Tasks"
   ]
  },
  {
   "cell_type": "code",
   "execution_count": 8,
   "id": "301f596d",
   "metadata": {},
   "outputs": [
    {
     "name": "stdout",
     "output_type": "stream",
     "text": [
      " Hello Alan I would like to invite you to dinner.\n",
      " Hello Elon I would like to invite you to dinner.\n",
      " Hello Dennis I would like to invite you to dinner.\n"
     ]
    }
   ],
   "source": [
    "dinner_invite = [\"Alan\", \"Elon\", \"Dennis\"]\n",
    "\n",
    "invitation1 = (f' Hello {dinner_invite[0]} I would like to invite you to dinner.')\n",
    "invitation2 = (f' Hello {dinner_invite[1]} I would like to invite you to dinner.')\n",
    "invitation3 = (f' Hello {dinner_invite[2]} I would like to invite you to dinner.')\n",
    "\n",
    "print(invitation1)\n",
    "print(invitation2)\n",
    "print(invitation3)"
   ]
  },
  {
   "cell_type": "code",
   "execution_count": 11,
   "id": "764b6745",
   "metadata": {},
   "outputs": [
    {
     "name": "stdout",
     "output_type": "stream",
     "text": [
      "['Alan', 'Dennis', 'Steve']\n",
      " Hello Alan I would like to invite you to dinner.\n",
      " Hello Dennis I would like to invite you to dinner.\n",
      " Hello Steve I would like to invite you to dinner.\n"
     ]
    }
   ],
   "source": [
    "dinner_invite = [\"Alan\", \"Elon\", \"Dennis\"]\n",
    "\n",
    "# Elon has said he can not make it!\n",
    "\n",
    "cannot_come = dinner_invite.pop(1)\n",
    "\n",
    "dinner_invite.append(\"Steve\")\n",
    "\n",
    "# We shall invite Steve Jobs instead \n",
    "\n",
    "print(dinner_invite)\n",
    "\n",
    "invitation1 = (f' Hello {dinner_invite[0]} I would like to invite you to dinner.')\n",
    "invitation2 = (f' Hello {dinner_invite[1]} I would like to invite you to dinner.')\n",
    "invitation3 = (f' Hello {dinner_invite[2]} I would like to invite you to dinner.')\n",
    "\n",
    "print(invitation1)\n",
    "print(invitation2)\n",
    "print(invitation3)\n",
    "\n",
    "\n"
   ]
  },
  {
   "cell_type": "code",
   "execution_count": 16,
   "id": "17edb5df",
   "metadata": {},
   "outputs": [
    {
     "name": "stdout",
     "output_type": "stream",
     "text": [
      "['Tim', 'Alan', 'McGowan', 'Elon', 'Dennis', 'Padders']\n",
      " Hello Tim I would like to invite you to dinner.\n",
      " Hello Alan I would like to invite you to dinner.\n",
      " Hello McGowan I would like to invite you to dinner.\n",
      " Hello Elon I would like to invite you to dinner.\n",
      " Hello Dennis I would like to invite you to dinner.\n",
      " Hello Padders I would like to invite you to dinner.\n"
     ]
    }
   ],
   "source": [
    "dinner_invite = [\"Alan\", \"Elon\", \"Dennis\"]\n",
    "\n",
    "# We have found a bigger table, so we can add more people to our invite list. \n",
    "\n",
    "dinner_invite.insert(0, \"Tim\")\n",
    "# Inserting a new invite at the start of the list \n",
    "\n",
    "dinner_invite.insert(2, \"McGowan\")\n",
    "dinner_invite.append(\"Padders\")\n",
    "\n",
    "print(dinner_invite)\n",
    "\n",
    "invitation1 = (f' Hello {dinner_invite[0]} I would like to invite you to dinner.')\n",
    "invitation2 = (f' Hello {dinner_invite[1]} I would like to invite you to dinner.')\n",
    "invitation3 = (f' Hello {dinner_invite[2]} I would like to invite you to dinner.')\n",
    "invitation4 = (f' Hello {dinner_invite[3]} I would like to invite you to dinner.')\n",
    "invitation5 = (f' Hello {dinner_invite[4]} I would like to invite you to dinner.')\n",
    "invitation6 = (f' Hello {dinner_invite[5]} I would like to invite you to dinner.')\n",
    "\n",
    "\n",
    "print(invitation1)\n",
    "print(invitation2)\n",
    "print(invitation3)\n",
    "print(invitation4)\n",
    "print(invitation5)\n",
    "print(invitation6)"
   ]
  },
  {
   "cell_type": "code",
   "execution_count": 43,
   "id": "13f87eee",
   "metadata": {},
   "outputs": [
    {
     "name": "stdout",
     "output_type": "stream",
     "text": [
      "Sorry Alan, but we have run out of space, I will see you another time.\n",
      "Sorry Elon, but we have run out of space, I will see you another time.\n",
      "Sorry Padders, but we have run out of space, I will see you another time.\n",
      "Hello Tim see you at 8\n",
      "Hello McGowan see you at 8\n",
      "Hello Dennis see you at 8\n",
      "[]\n"
     ]
    }
   ],
   "source": [
    "dinner_invite = ['Tim', 'Alan', 'McGowan', 'Elon', 'Dennis', 'Padders']\n",
    "removed_invite1 = dinner_invite.pop(1)\n",
    "removed_invite2 = dinner_invite.pop(2)\n",
    "removed_invite3 = dinner_invite.pop()\n",
    "# No number as its the last element in the list\n",
    "\n",
    "# We now only have space for 2, so need to remove people\n",
    "\n",
    "print(f'Sorry {removed_invite1}, but we have run out of space, I will see you another time.')\n",
    "print(f'Sorry {removed_invite2}, but we have run out of space, I will see you another time.')\n",
    "print(f'Sorry {removed_invite3}, but we have run out of space, I will see you another time.')\n",
    "\n",
    "print(f'Hello {dinner_invite[0]} see you at 8')\n",
    "print(f'Hello {dinner_invite[1]} see you at 8')\n",
    "print(f'Hello {dinner_invite[2]} see you at 8')\n",
    "\n",
    "\n",
    "del dinner_invite[0]\n",
    "del dinner_invite[0]\n",
    "del dinner_invite[0]\n",
    "# del is a function so there is no _ or . just a space\n",
    "\n",
    "# Proving the list is empty\n",
    "print(dinner_invite)"
   ]
  },
  {
   "cell_type": "markdown",
   "id": "4e82947d",
   "metadata": {},
   "source": [
    "### For Loops "
   ]
  },
  {
   "cell_type": "code",
   "execution_count": 36,
   "id": "b5c2dc1f",
   "metadata": {},
   "outputs": [
    {
     "name": "stdout",
     "output_type": "stream",
     "text": [
      "H\n",
      "e\n",
      "l\n",
      "l\n",
      "o\n",
      "o\n"
     ]
    }
   ],
   "source": [
    "for i in \"Hello\":\n",
    "    print (i)\n",
    "print(i)"
   ]
  },
  {
   "cell_type": "code",
   "execution_count": 7,
   "id": "254f7d79",
   "metadata": {},
   "outputs": [
    {
     "name": "stdout",
     "output_type": "stream",
     "text": [
      "h\n",
      "w\n",
      "o\n",
      "r\n",
      "l\n",
      "d\n",
      "e\n",
      "w\n",
      "o\n",
      "r\n",
      "l\n",
      "d\n",
      "l\n",
      "w\n",
      "o\n",
      "r\n",
      "l\n",
      "d\n",
      "l\n",
      "w\n",
      "o\n",
      "r\n",
      "l\n",
      "d\n",
      "o\n",
      "w\n",
      "o\n",
      "r\n",
      "l\n",
      "d\n"
     ]
    }
   ],
   "source": [
    "for i in \"hello\":\n",
    "    print(i)\n",
    "    for j in \"world\":\n",
    "        print (j)\n",
    "    "
   ]
  },
  {
   "cell_type": "code",
   "execution_count": 4,
   "id": "6b263a63",
   "metadata": {},
   "outputs": [
    {
     "name": "stdout",
     "output_type": "stream",
     "text": [
      "1\n",
      "2\n",
      "3\n",
      "4\n",
      "5\n"
     ]
    }
   ],
   "source": [
    "list_ = [1, 2, 3, 4, 5]\n",
    "\n",
    "for i in list_:\n",
    "    print(i)"
   ]
  },
  {
   "cell_type": "code",
   "execution_count": 8,
   "id": "fd825cee",
   "metadata": {},
   "outputs": [
    {
     "name": "stdout",
     "output_type": "stream",
     "text": [
      "0\n",
      "1\n",
      "2\n",
      "3\n",
      "4\n"
     ]
    }
   ],
   "source": [
    "for i in range(5):\n",
    "    print(i)"
   ]
  },
  {
   "cell_type": "code",
   "execution_count": 9,
   "id": "d487d970",
   "metadata": {},
   "outputs": [
    {
     "name": "stdout",
     "output_type": "stream",
     "text": [
      "0\n",
      "1\n",
      "2\n",
      "3\n",
      "4\n"
     ]
    }
   ],
   "source": [
    "for i in range(len(list_)):\n",
    "    print(i)"
   ]
  },
  {
   "cell_type": "code",
   "execution_count": 10,
   "id": "a620119d",
   "metadata": {},
   "outputs": [
    {
     "name": "stdout",
     "output_type": "stream",
     "text": [
      "[1, 2, 3, 4, 5]\n",
      "[1, 2, 3, 4, 5]\n",
      "[1, 2, 3, 4, 5]\n",
      "[1, 2, 3, 4, 5]\n",
      "[1, 2, 3, 4, 5]\n"
     ]
    }
   ],
   "source": [
    "for i in range(len(list_)):\n",
    "    print(list_)"
   ]
  },
  {
   "cell_type": "code",
   "execution_count": 11,
   "id": "69163eb5",
   "metadata": {},
   "outputs": [
    {
     "name": "stdout",
     "output_type": "stream",
     "text": [
      "1\n",
      "2\n",
      "3\n",
      "4\n",
      "5\n"
     ]
    }
   ],
   "source": [
    "for i in range(len(list_)):\n",
    "    print(list_[i])"
   ]
  },
  {
   "cell_type": "code",
   "execution_count": 14,
   "id": "9b3d1cf8",
   "metadata": {},
   "outputs": [
    {
     "name": "stdout",
     "output_type": "stream",
     "text": [
      "0\n",
      "1\n",
      "2\n",
      "3\n",
      "4\n"
     ]
    }
   ],
   "source": [
    "i = 0\n",
    "\n",
    "while i < 5:\n",
    "    print(i)\n",
    "    i += 1"
   ]
  },
  {
   "cell_type": "code",
   "execution_count": 15,
   "id": "c92fbdcb",
   "metadata": {},
   "outputs": [
    {
     "name": "stdout",
     "output_type": "stream",
     "text": [
      "hi\n"
     ]
    }
   ],
   "source": [
    "done = False\n",
    "\n",
    "while not done:\n",
    "    print(\"hi\")\n",
    "    done = True"
   ]
  },
  {
   "cell_type": "code",
   "execution_count": 25,
   "id": "3196b09b",
   "metadata": {},
   "outputs": [
    {
     "name": "stdout",
     "output_type": "stream",
     "text": [
      "not even\n",
      "2\n",
      "not even\n",
      "4\n",
      "not even\n",
      "6\n",
      "not even\n",
      "8\n",
      "not even\n",
      "10\n"
     ]
    }
   ],
   "source": [
    "a = [1, 2, 3, 4, 5, 6, 7, 8, 9, 10]\n",
    "\n",
    "for i in a:\n",
    "    if i % 2 == 0:\n",
    "        print(i)\n",
    "    else:\n",
    "        print(\"not even\")\n",
    "    "
   ]
  },
  {
   "cell_type": "code",
   "execution_count": 16,
   "id": "ca347708",
   "metadata": {},
   "outputs": [
    {
     "data": {
      "text/plain": [
       "1.0"
      ]
     },
     "execution_count": 16,
     "metadata": {},
     "output_type": "execute_result"
    }
   ],
   "source": [
    "2 / 2"
   ]
  },
  {
   "cell_type": "code",
   "execution_count": 17,
   "id": "77b1c7e8",
   "metadata": {},
   "outputs": [
    {
     "data": {
      "text/plain": [
       "1.5"
      ]
     },
     "execution_count": 17,
     "metadata": {},
     "output_type": "execute_result"
    }
   ],
   "source": [
    "3 / 2"
   ]
  },
  {
   "cell_type": "code",
   "execution_count": 18,
   "id": "e4a81059",
   "metadata": {},
   "outputs": [
    {
     "data": {
      "text/plain": [
       "2.0"
      ]
     },
     "execution_count": 18,
     "metadata": {},
     "output_type": "execute_result"
    }
   ],
   "source": [
    "4 / 2"
   ]
  },
  {
   "cell_type": "code",
   "execution_count": 19,
   "id": "11623959",
   "metadata": {},
   "outputs": [
    {
     "data": {
      "text/plain": [
       "0"
      ]
     },
     "execution_count": 19,
     "metadata": {},
     "output_type": "execute_result"
    }
   ],
   "source": [
    "4 % 2"
   ]
  },
  {
   "cell_type": "code",
   "execution_count": 20,
   "id": "bbe1bdc8",
   "metadata": {},
   "outputs": [
    {
     "data": {
      "text/plain": [
       "True"
      ]
     },
     "execution_count": 20,
     "metadata": {},
     "output_type": "execute_result"
    }
   ],
   "source": [
    "4 % 2 == 0"
   ]
  },
  {
   "cell_type": "code",
   "execution_count": 22,
   "id": "307e891b",
   "metadata": {},
   "outputs": [
    {
     "data": {
      "text/plain": [
       "1"
      ]
     },
     "execution_count": 22,
     "metadata": {},
     "output_type": "execute_result"
    }
   ],
   "source": [
    "5 % 2"
   ]
  },
  {
   "cell_type": "code",
   "execution_count": 33,
   "id": "d007d319",
   "metadata": {},
   "outputs": [
    {
     "name": "stdout",
     "output_type": "stream",
     "text": [
      "You are exactly 18\n"
     ]
    }
   ],
   "source": [
    "year = 18\n",
    "\n",
    "if year > 18:\n",
    "    print(\"You are an adult\")\n",
    "elif year < 18:\n",
    "    print(\"You are a minor\")\n",
    "else:\n",
    "    print(\"You are exactly 18\")"
   ]
  },
  {
   "cell_type": "markdown",
   "id": "0c4d3be3",
   "metadata": {},
   "source": [
    "### Break allows us to stop the loop even if the condition is true"
   ]
  },
  {
   "cell_type": "code",
   "execution_count": 37,
   "id": "2262eb47",
   "metadata": {},
   "outputs": [],
   "source": [
    "i = 10\n",
    "\n",
    "while i < 18:\n",
    "    if i > 15:\n",
    "        #pass\n",
    "        #continue\n",
    "        break\n",
    "        print(i)\n",
    "    i = i + 1"
   ]
  },
  {
   "cell_type": "code",
   "execution_count": 1,
   "id": "6015303b",
   "metadata": {},
   "outputs": [
    {
     "name": "stdout",
     "output_type": "stream",
     "text": [
      "0\n",
      "1\n",
      "2\n",
      "3\n",
      "4\n",
      "5\n",
      "6\n",
      "7\n",
      "8\n",
      "9\n"
     ]
    }
   ],
   "source": [
    "for x in range(10):\n",
    "    print(x)\n",
    "    "
   ]
  },
  {
   "cell_type": "code",
   "execution_count": 2,
   "id": "4850a98d",
   "metadata": {},
   "outputs": [
    {
     "name": "stdout",
     "output_type": "stream",
     "text": [
      "0\n",
      "1\n",
      "2\n",
      "3\n",
      "4\n",
      "5\n",
      "6\n",
      "7\n",
      "8\n",
      "9\n"
     ]
    }
   ],
   "source": [
    "x = 0 \n",
    "\n",
    "while x < 10:\n",
    "    print(x)\n",
    "    x += 1"
   ]
  },
  {
   "cell_type": "markdown",
   "id": "e9fe2605",
   "metadata": {},
   "source": [
    "# Try and Except\n",
    "\n",
    "Try - Lets us test a block of code for errors\n",
    "\n",
    "Except - Lets us handle and error (pass by an error if we know it is coming)"
   ]
  },
  {
   "cell_type": "code",
   "execution_count": 4,
   "id": "412c2006",
   "metadata": {},
   "outputs": [
    {
     "ename": "ZeroDivisionError",
     "evalue": "division by zero",
     "output_type": "error",
     "traceback": [
      "\u001b[1;31m---------------------------------------------------------------------------\u001b[0m",
      "\u001b[1;31mZeroDivisionError\u001b[0m                         Traceback (most recent call last)",
      "Input \u001b[1;32mIn [4]\u001b[0m, in \u001b[0;36m<module>\u001b[1;34m\u001b[0m\n\u001b[0;32m      1\u001b[0m a \u001b[38;5;241m=\u001b[39m \u001b[38;5;241m1\u001b[39m\n\u001b[0;32m      2\u001b[0m b \u001b[38;5;241m=\u001b[39m \u001b[38;5;241m0\u001b[39m\n\u001b[1;32m----> 4\u001b[0m \u001b[43ma\u001b[49m\u001b[43m \u001b[49m\u001b[38;5;241;43m/\u001b[39;49m\u001b[43m \u001b[49m\u001b[43mb\u001b[49m\n",
      "\u001b[1;31mZeroDivisionError\u001b[0m: division by zero"
     ]
    }
   ],
   "source": [
    "a = 1\n",
    "b = 0\n",
    "\n",
    "a / b"
   ]
  },
  {
   "cell_type": "code",
   "execution_count": 7,
   "id": "748f77ee",
   "metadata": {},
   "outputs": [
    {
     "name": "stdout",
     "output_type": "stream",
     "text": [
      "pass\n"
     ]
    }
   ],
   "source": [
    "try:\n",
    "    a / b\n",
    "except:\n",
    "    print(\"pass\")"
   ]
  },
  {
   "cell_type": "code",
   "execution_count": 9,
   "id": "e79b57f7",
   "metadata": {},
   "outputs": [
    {
     "ename": "TypeError",
     "evalue": "unsupported operand type(s) for /: 'int' and 'str'",
     "output_type": "error",
     "traceback": [
      "\u001b[1;31m---------------------------------------------------------------------------\u001b[0m",
      "\u001b[1;31mTypeError\u001b[0m                                 Traceback (most recent call last)",
      "Input \u001b[1;32mIn [9]\u001b[0m, in \u001b[0;36m<module>\u001b[1;34m\u001b[0m\n\u001b[0;32m      1\u001b[0m \u001b[38;5;28;01mtry\u001b[39;00m:\n\u001b[1;32m----> 2\u001b[0m     \u001b[38;5;241;43m1\u001b[39;49m\u001b[43m \u001b[49m\u001b[38;5;241;43m/\u001b[39;49m\u001b[43m \u001b[49m\u001b[38;5;124;43m\"\u001b[39;49m\u001b[38;5;124;43mHello\u001b[39;49m\u001b[38;5;124;43m\"\u001b[39;49m\n\u001b[0;32m      3\u001b[0m \u001b[38;5;28;01mexcept\u001b[39;00m \u001b[38;5;167;01mZeroDivisionError\u001b[39;00m:\n\u001b[0;32m      4\u001b[0m     \u001b[38;5;28mprint\u001b[39m(\u001b[38;5;124m\"\u001b[39m\u001b[38;5;124mpass\u001b[39m\u001b[38;5;124m\"\u001b[39m)\n",
      "\u001b[1;31mTypeError\u001b[0m: unsupported operand type(s) for /: 'int' and 'str'"
     ]
    }
   ],
   "source": [
    "try:\n",
    "    1 / \"Hello\"\n",
    "except ZeroDivisionError:\n",
    "    print(\"pass\")"
   ]
  },
  {
   "cell_type": "code",
   "execution_count": 28,
   "id": "a5679e3a",
   "metadata": {},
   "outputs": [],
   "source": [
    "def golden_ratio(num1, num2):\n",
    "    try:\n",
    "        res = num1 / num2\n",
    "    except ZeroDivisionError:\n",
    "        return(0)\n",
    "    except TypeError:\n",
    "        print(\"type error accepted\")\n",
    "        return\n",
    "    return(res)"
   ]
  },
  {
   "cell_type": "code",
   "execution_count": 22,
   "id": "88a1ba57",
   "metadata": {},
   "outputs": [
    {
     "name": "stdout",
     "output_type": "stream",
     "text": [
      "0.5\n"
     ]
    }
   ],
   "source": [
    "result = golden_ratio(1, 2)\n",
    "print(result)\n"
   ]
  },
  {
   "cell_type": "code",
   "execution_count": 23,
   "id": "a784944b",
   "metadata": {},
   "outputs": [
    {
     "data": {
      "text/plain": [
       "0"
      ]
     },
     "execution_count": 23,
     "metadata": {},
     "output_type": "execute_result"
    }
   ],
   "source": [
    "golden_ratio(1, 0)"
   ]
  },
  {
   "cell_type": "code",
   "execution_count": 29,
   "id": "a0b94451",
   "metadata": {},
   "outputs": [
    {
     "name": "stdout",
     "output_type": "stream",
     "text": [
      "type error accepted\n"
     ]
    }
   ],
   "source": [
    "golden_ratio(1, \"hello\")"
   ]
  },
  {
   "cell_type": "markdown",
   "id": "ddab925c",
   "metadata": {},
   "source": [
    "# Functions"
   ]
  },
  {
   "cell_type": "code",
   "execution_count": 31,
   "id": "2f6eace5",
   "metadata": {},
   "outputs": [
    {
     "data": {
      "text/plain": [
       "4"
      ]
     },
     "execution_count": 31,
     "metadata": {},
     "output_type": "execute_result"
    }
   ],
   "source": [
    "def sum_numbers(num1, num2):\n",
    "    result = num1 + num2\n",
    "    return result\n",
    "sum_numbers(2, 2)"
   ]
  },
  {
   "cell_type": "code",
   "execution_count": 32,
   "id": "34775572",
   "metadata": {},
   "outputs": [
    {
     "ename": "TypeError",
     "evalue": "sum_numbers() missing 2 required positional arguments: 'num1' and 'num2'",
     "output_type": "error",
     "traceback": [
      "\u001b[1;31m---------------------------------------------------------------------------\u001b[0m",
      "\u001b[1;31mTypeError\u001b[0m                                 Traceback (most recent call last)",
      "Input \u001b[1;32mIn [32]\u001b[0m, in \u001b[0;36m<module>\u001b[1;34m\u001b[0m\n\u001b[0;32m      1\u001b[0m num1 \u001b[38;5;241m=\u001b[39m \u001b[38;5;241m12\u001b[39m\n\u001b[0;32m      2\u001b[0m num2 \u001b[38;5;241m=\u001b[39m \u001b[38;5;241m3\u001b[39m\n\u001b[1;32m----> 3\u001b[0m \u001b[43msum_numbers\u001b[49m\u001b[43m(\u001b[49m\u001b[43m)\u001b[49m\n",
      "\u001b[1;31mTypeError\u001b[0m: sum_numbers() missing 2 required positional arguments: 'num1' and 'num2'"
     ]
    }
   ],
   "source": [
    "num1 = 12\n",
    "num2 = 3\n",
    "sum_numbers()"
   ]
  },
  {
   "cell_type": "code",
   "execution_count": 33,
   "id": "5c2cfc53",
   "metadata": {},
   "outputs": [
    {
     "data": {
      "text/plain": [
       "15"
      ]
     },
     "execution_count": 33,
     "metadata": {},
     "output_type": "execute_result"
    }
   ],
   "source": [
    "def sum_numbers():\n",
    "    result = num1 + num2\n",
    "    return result\n",
    "num1 = 12\n",
    "num2 = 3\n",
    "sum_numbers()"
   ]
  },
  {
   "cell_type": "code",
   "execution_count": null,
   "id": "9737332c",
   "metadata": {},
   "outputs": [],
   "source": [
    "local n = 2 \n",
    "global n = 2"
   ]
  },
  {
   "cell_type": "code",
   "execution_count": 1,
   "id": "000226d4",
   "metadata": {},
   "outputs": [
    {
     "name": "stdout",
     "output_type": "stream",
     "text": [
      "Hello\n"
     ]
    }
   ],
   "source": [
    "def method(x):\n",
    "    print(x)\n",
    "\n",
    "\n",
    "method(\"Hello\")"
   ]
  },
  {
   "cell_type": "code",
   "execution_count": 2,
   "id": "ebeeb90e",
   "metadata": {},
   "outputs": [],
   "source": [
    "f = method"
   ]
  },
  {
   "cell_type": "code",
   "execution_count": 3,
   "id": "943bf487",
   "metadata": {},
   "outputs": [
    {
     "name": "stdout",
     "output_type": "stream",
     "text": [
      "Hello\n"
     ]
    }
   ],
   "source": [
    "f(\"Hello\")"
   ]
  },
  {
   "cell_type": "code",
   "execution_count": 4,
   "id": "af441762",
   "metadata": {},
   "outputs": [
    {
     "data": {
      "text/plain": [
       "<function __main__.method(x)>"
      ]
     },
     "execution_count": 4,
     "metadata": {},
     "output_type": "execute_result"
    }
   ],
   "source": [
    "f"
   ]
  },
  {
   "cell_type": "markdown",
   "id": "e75004fe",
   "metadata": {},
   "source": [
    "# Default Mathamatical Function"
   ]
  },
  {
   "cell_type": "code",
   "execution_count": 5,
   "id": "caad3d2c",
   "metadata": {},
   "outputs": [
    {
     "data": {
      "text/plain": [
       "3"
      ]
     },
     "execution_count": 5,
     "metadata": {},
     "output_type": "execute_result"
    }
   ],
   "source": [
    "max(1, 2, 3)"
   ]
  },
  {
   "cell_type": "code",
   "execution_count": 7,
   "id": "dbcbff78",
   "metadata": {},
   "outputs": [
    {
     "data": {
      "text/plain": [
       "6"
      ]
     },
     "execution_count": 7,
     "metadata": {},
     "output_type": "execute_result"
    }
   ],
   "source": [
    "sum([1, 2, 3])"
   ]
  },
  {
   "cell_type": "code",
   "execution_count": 28,
   "id": "62a406e5",
   "metadata": {},
   "outputs": [
    {
     "data": {
      "text/plain": [
       "3"
      ]
     },
     "execution_count": 28,
     "metadata": {},
     "output_type": "execute_result"
    }
   ],
   "source": [
    "sum([1, 2])"
   ]
  },
  {
   "cell_type": "code",
   "execution_count": 10,
   "id": "d4845489",
   "metadata": {},
   "outputs": [
    {
     "data": {
      "text/plain": [
       "106"
      ]
     },
     "execution_count": 10,
     "metadata": {},
     "output_type": "execute_result"
    }
   ],
   "source": [
    "sum([1, 2, 3], 100)"
   ]
  },
  {
   "cell_type": "code",
   "execution_count": 19,
   "id": "841a50ff",
   "metadata": {},
   "outputs": [
    {
     "data": {
      "text/plain": [
       "2.34"
      ]
     },
     "execution_count": 19,
     "metadata": {},
     "output_type": "execute_result"
    }
   ],
   "source": [
    "abs(2.34)"
   ]
  },
  {
   "cell_type": "code",
   "execution_count": 20,
   "id": "dc58445c",
   "metadata": {},
   "outputs": [
    {
     "data": {
      "text/plain": [
       "22"
      ]
     },
     "execution_count": 20,
     "metadata": {},
     "output_type": "execute_result"
    }
   ],
   "source": [
    "abs(-22)"
   ]
  },
  {
   "cell_type": "code",
   "execution_count": 18,
   "id": "5fe3b15c",
   "metadata": {},
   "outputs": [
    {
     "data": {
      "text/plain": [
       "3.2"
      ]
     },
     "execution_count": 18,
     "metadata": {},
     "output_type": "execute_result"
    }
   ],
   "source": [
    "round(3.17, 1)"
   ]
  },
  {
   "cell_type": "code",
   "execution_count": 22,
   "id": "fb5f72e2",
   "metadata": {},
   "outputs": [
    {
     "data": {
      "text/plain": [
       "True"
      ]
     },
     "execution_count": 22,
     "metadata": {},
     "output_type": "execute_result"
    }
   ],
   "source": [
    "values = [False, True, True, False]\n",
    "\n",
    "any(values)"
   ]
  },
  {
   "cell_type": "code",
   "execution_count": 23,
   "id": "ceb1b189",
   "metadata": {},
   "outputs": [
    {
     "data": {
      "text/plain": [
       "False"
      ]
     },
     "execution_count": 23,
     "metadata": {},
     "output_type": "execute_result"
    }
   ],
   "source": [
    "values_2 =[False, False, False]\n",
    "\n",
    "any(values_2)"
   ]
  },
  {
   "cell_type": "code",
   "execution_count": 24,
   "id": "966ff120",
   "metadata": {},
   "outputs": [
    {
     "data": {
      "text/plain": [
       "True"
      ]
     },
     "execution_count": 24,
     "metadata": {},
     "output_type": "execute_result"
    }
   ],
   "source": [
    "values_3 =[False, False, True]\n",
    "\n",
    "any(values_3)"
   ]
  },
  {
   "cell_type": "code",
   "execution_count": null,
   "id": "db9eb704",
   "metadata": {},
   "outputs": [],
   "source": []
  },
  {
   "cell_type": "markdown",
   "id": "5e3ec729",
   "metadata": {},
   "source": [
    "# Map"
   ]
  },
  {
   "cell_type": "code",
   "execution_count": 3,
   "id": "651f0b53",
   "metadata": {},
   "outputs": [
    {
     "data": {
      "text/plain": [
       "2"
      ]
     },
     "execution_count": 3,
     "metadata": {},
     "output_type": "execute_result"
    }
   ],
   "source": [
    "def summing(x, y):\n",
    "    return (x + y)\n",
    "\n",
    "summing(1, 1)"
   ]
  },
  {
   "cell_type": "code",
   "execution_count": 13,
   "id": "808a07f3",
   "metadata": {},
   "outputs": [
    {
     "name": "stdout",
     "output_type": "stream",
     "text": [
      "5\n",
      "7\n",
      "9\n"
     ]
    }
   ],
   "source": [
    "for n in map(summing, [1, 2, 3], [4, 5, 6]):\n",
    "    print(n)"
   ]
  },
  {
   "cell_type": "markdown",
   "id": "c3dac832",
   "metadata": {},
   "source": [
    "# Zip"
   ]
  },
  {
   "cell_type": "code",
   "execution_count": 15,
   "id": "cae37168",
   "metadata": {},
   "outputs": [
    {
     "name": "stdout",
     "output_type": "stream",
     "text": [
      "(1, 4)\n",
      "(2, 5)\n",
      "(3, 6)\n"
     ]
    }
   ],
   "source": [
    "for x in zip([1, 2, 3], [4, 5, 6]):\n",
    "    print(x)"
   ]
  },
  {
   "cell_type": "code",
   "execution_count": 16,
   "id": "004948e4",
   "metadata": {},
   "outputs": [
    {
     "name": "stdout",
     "output_type": "stream",
     "text": [
      "1 4\n",
      "5\n",
      "2 5\n",
      "7\n",
      "3 6\n",
      "9\n"
     ]
    }
   ],
   "source": [
    "for x, y in zip([1, 2, 3], [4, 5, 6]):\n",
    "    print(x, y)\n",
    "    print(x + y)"
   ]
  },
  {
   "cell_type": "code",
   "execution_count": 17,
   "id": "d875a6c1",
   "metadata": {},
   "outputs": [
    {
     "name": "stdout",
     "output_type": "stream",
     "text": [
      "1 a\n",
      "2 b\n",
      "3 c\n"
     ]
    }
   ],
   "source": [
    "for x, y in zip([1, 2, 3], \"abc\"):\n",
    "    print(x, y)\n",
    "    "
   ]
  },
  {
   "cell_type": "markdown",
   "id": "7a069115",
   "metadata": {},
   "source": [
    "# Filter"
   ]
  },
  {
   "cell_type": "code",
   "execution_count": 18,
   "id": "27fa1ce4",
   "metadata": {},
   "outputs": [
    {
     "data": {
      "text/plain": [
       "False"
      ]
     },
     "execution_count": 18,
     "metadata": {},
     "output_type": "execute_result"
    }
   ],
   "source": [
    "def greater_than(x):\n",
    "    return(x > 5)\n",
    "\n",
    "greater_than(4)"
   ]
  },
  {
   "cell_type": "code",
   "execution_count": 19,
   "id": "8394817b",
   "metadata": {},
   "outputs": [
    {
     "data": {
      "text/plain": [
       "True"
      ]
     },
     "execution_count": 19,
     "metadata": {},
     "output_type": "execute_result"
    }
   ],
   "source": [
    "\n",
    "greater_than(6)"
   ]
  },
  {
   "cell_type": "code",
   "execution_count": 20,
   "id": "4b491c05",
   "metadata": {},
   "outputs": [
    {
     "name": "stdout",
     "output_type": "stream",
     "text": [
      "6\n",
      "7\n"
     ]
    }
   ],
   "source": [
    "for n in filter(greater_than, [3, 4, 5, 6, 7]):\n",
    "    print(n)"
   ]
  },
  {
   "cell_type": "markdown",
   "id": "64fb3412",
   "metadata": {},
   "source": [
    "# Sorted \n",
    "\n",
    "The sorted function sorts the elements of a give iterable in a specific order such as ascending or decending, returning a list."
   ]
  },
  {
   "cell_type": "code",
   "execution_count": 32,
   "id": "ef01df4e",
   "metadata": {},
   "outputs": [
    {
     "data": {
      "text/plain": [
       "[1, 4, 8, 23, 32, 46]"
      ]
     },
     "execution_count": 32,
     "metadata": {},
     "output_type": "execute_result"
    }
   ],
   "source": [
    "numbers_list = [1, 23, 4, 32, 46, 8]\n",
    "\n",
    "sorted(numbers_list)"
   ]
  },
  {
   "cell_type": "code",
   "execution_count": 34,
   "id": "d1f7dc76",
   "metadata": {},
   "outputs": [
    {
     "data": {
      "text/plain": [
       "[46, 32, 23, 8, 4, 1]"
      ]
     },
     "execution_count": 34,
     "metadata": {},
     "output_type": "execute_result"
    }
   ],
   "source": [
    "numbers_list = [1, 23, 4, 32, 46, 8]\n",
    "\n",
    "sorted(numbers_list, reverse = True)"
   ]
  },
  {
   "cell_type": "code",
   "execution_count": 30,
   "id": "b783eaaf",
   "metadata": {},
   "outputs": [
    {
     "data": {
      "text/plain": [
       "['a', 'b', 'c', 'd', 'z']"
      ]
     },
     "execution_count": 30,
     "metadata": {},
     "output_type": "execute_result"
    }
   ],
   "source": [
    "letters_list = (\"a\", \"c\", \"d\", \"z\", \"b\")\n",
    "\n",
    "sorted(letters_list)"
   ]
  },
  {
   "cell_type": "code",
   "execution_count": null,
   "id": "bb7fcb39",
   "metadata": {},
   "outputs": [],
   "source": []
  },
  {
   "cell_type": "markdown",
   "id": "4e66eb8d",
   "metadata": {},
   "source": [
    "# Reversed\n",
    "\n",
    "### This function returns the reversed iterator of the given sequence\n"
   ]
  },
  {
   "cell_type": "code",
   "execution_count": 1,
   "id": "240c447f",
   "metadata": {},
   "outputs": [
    {
     "name": "stdout",
     "output_type": "stream",
     "text": [
      "5\n",
      "4\n",
      "3\n",
      "2\n",
      "1\n"
     ]
    }
   ],
   "source": [
    "seq = [1, 2, 3, 4, 5]\n",
    "rseq = reversed(seq)\n",
    "for x in rseq:\n",
    "    print(x)"
   ]
  },
  {
   "cell_type": "markdown",
   "id": "126cc6d2",
   "metadata": {},
   "source": [
    "# Classes\n",
    "\n",
    "Like Mattia said, everything in python is an \"object\",  a class is an object constructor, or a \"blueprint\" for creating objects\n",
    "\n",
    "- A class is like an object constructor, or a blueprint for creating objects \n",
    "- To create a class we use \"class():\" when we create a class, we create and object\n",
    "- An object is an instance of a class\n",
    "- An instance is a copy of the class with actual values(data)\n",
    "- The more data we have the more instances we have in the class \n",
    "- Class instances can have methods that are defined by their class for modifying their state\n",
    "- Once we have made the class, set the attributes, then added a method, ensure that we give the class an object to use (this is the sticker we stick on the class) that we can call \n"
   ]
  },
  {
   "cell_type": "code",
   "execution_count": 26,
   "id": "daf836e7",
   "metadata": {},
   "outputs": [],
   "source": [
    "class Food():\n",
    "    pass\n"
   ]
  },
  {
   "cell_type": "code",
   "execution_count": 27,
   "id": "cbd4161c",
   "metadata": {},
   "outputs": [
    {
     "name": "stdout",
     "output_type": "stream",
     "text": [
      "<__main__.Food object at 0x0000022505737CA0>\n"
     ]
    }
   ],
   "source": [
    "pasta = Food()\n",
    "\n",
    "print(pasta)"
   ]
  },
  {
   "cell_type": "code",
   "execution_count": 28,
   "id": "8c22a7d4",
   "metadata": {},
   "outputs": [
    {
     "name": "stdout",
     "output_type": "stream",
     "text": [
      "This is class food\n"
     ]
    }
   ],
   "source": [
    "class Food():\n",
    "    def __str__(self):\n",
    "        return(\"This is class food\")\n",
    "pasta = Food()\n",
    "print(pasta)"
   ]
  },
  {
   "cell_type": "code",
   "execution_count": 29,
   "id": "e27146a7",
   "metadata": {},
   "outputs": [
    {
     "data": {
      "text/plain": [
       "'roast dinner'"
      ]
     },
     "execution_count": 29,
     "metadata": {},
     "output_type": "execute_result"
    }
   ],
   "source": [
    "class Menu():\n",
    "    def __init__(self, breakfast, lunch, dinner):\n",
    "        self.breakfast = breakfast\n",
    "        self.lunch = lunch\n",
    "        self.dinner = dinner\n",
    "        \n",
    "    def whats_for_breakfast(self):\n",
    "        return self.breakfast\n",
    "friday = Menu(breakfast = \"eggs\", lunch = \"pork\", dinner = \"roast dinner\")\n",
    "friday.whats_for_breakfast()\n",
    "\n",
    "friday.dinner\n",
    "        "
   ]
  },
  {
   "cell_type": "code",
   "execution_count": 30,
   "id": "5f9d1df9",
   "metadata": {},
   "outputs": [
    {
     "data": {
      "text/plain": [
       "'cereals'"
      ]
     },
     "execution_count": 30,
     "metadata": {},
     "output_type": "execute_result"
    }
   ],
   "source": [
    "saturday = Menu(breakfast = \"cereals\", lunch = \"fish\", dinner = \"nothing\")\n",
    "\n",
    "saturday.whats_for_breakfast()\n",
    "    "
   ]
  },
  {
   "cell_type": "code",
   "execution_count": 31,
   "id": "7d170c1e",
   "metadata": {},
   "outputs": [
    {
     "data": {
      "text/plain": [
       "(80, 15, 5)"
      ]
     },
     "execution_count": 31,
     "metadata": {},
     "output_type": "execute_result"
    }
   ],
   "source": [
    "class Food():\n",
    "    def __init__(self, protein, carbs, sugars):\n",
    "        self.protein = protein\n",
    "        self.carbs = carbs\n",
    "        self.sugars = sugars\n",
    "    \n",
    "    def content(self):\n",
    "        return self.protein, self.carbs, self.sugars\n",
    "\n",
    "beef = Food(protein = 80, carbs = 15 , sugars = 5)\n",
    "beef.content()\n",
    "\n",
    "   "
   ]
  },
  {
   "cell_type": "markdown",
   "id": "6c1ed18f",
   "metadata": {},
   "source": [
    "### Ask Mattia what the difference is between the two (TOP AND BOTTOM) ?????"
   ]
  },
  {
   "cell_type": "code",
   "execution_count": 13,
   "id": "c101ebae",
   "metadata": {},
   "outputs": [
    {
     "name": "stdout",
     "output_type": "stream",
     "text": [
      "80\n",
      "15\n",
      "5\n"
     ]
    }
   ],
   "source": [
    "class Food():\n",
    "    def __init__(self, protein, carbs, sugars):\n",
    "        self.protein = protein\n",
    "        self.carbs = carbs\n",
    "        self.sugars = sugars\n",
    "\n",
    "beef = Food(protein = 80, carbs = 15 , sugars = 5)\n",
    "\n",
    "print(beef.protein)\n",
    "print(beef.carbs)\n",
    "print(beef.sugars)"
   ]
  },
  {
   "cell_type": "markdown",
   "id": "e6c4b0c5",
   "metadata": {},
   "source": [
    "### Back to the lesson with Mattia"
   ]
  },
  {
   "cell_type": "code",
   "execution_count": 16,
   "id": "fea7d6c9",
   "metadata": {},
   "outputs": [
    {
     "data": {
      "text/plain": [
       "(80, 15, 5)"
      ]
     },
     "execution_count": 16,
     "metadata": {},
     "output_type": "execute_result"
    }
   ],
   "source": [
    "class Food():\n",
    "    def __init__(self, protein, carbs, sugars):\n",
    "        self.protein = protein\n",
    "        self.carbs = carbs\n",
    "        self.sugars = sugars\n",
    "    \n",
    "    def content(self):\n",
    "        return self.protein, self.carbs, self.sugars\n",
    "\n",
    "beef = Food(protein = 80, carbs = 15 , sugars = 5)\n",
    "beef.content()"
   ]
  },
  {
   "cell_type": "code",
   "execution_count": 22,
   "id": "db1aba10",
   "metadata": {},
   "outputs": [],
   "source": [
    "Meat = Food"
   ]
  },
  {
   "cell_type": "code",
   "execution_count": 23,
   "id": "6eb53560",
   "metadata": {},
   "outputs": [],
   "source": [
    "beef = Meat(protein = 80, carbs = 15 , sugars = 5)"
   ]
  },
  {
   "cell_type": "code",
   "execution_count": 24,
   "id": "1eb0b6dd",
   "metadata": {},
   "outputs": [],
   "source": [
    "class Meat(Food):\n",
    "    pass"
   ]
  },
  {
   "cell_type": "code",
   "execution_count": 25,
   "id": "fdc6e6e8",
   "metadata": {},
   "outputs": [
    {
     "data": {
      "text/plain": [
       "(80, 15, 5)"
      ]
     },
     "execution_count": 25,
     "metadata": {},
     "output_type": "execute_result"
    }
   ],
   "source": [
    "beef.content()\n"
   ]
  },
  {
   "cell_type": "markdown",
   "id": "f8c9d99b",
   "metadata": {},
   "source": [
    "### Self Work Classes"
   ]
  },
  {
   "cell_type": "code",
   "execution_count": 1,
   "id": "098060a5",
   "metadata": {},
   "outputs": [
    {
     "name": "stdout",
     "output_type": "stream",
     "text": [
      "my dogs name is Tilda\n",
      "my dogs breed is labrador\n"
     ]
    }
   ],
   "source": [
    "class Dog():\n",
    "# Making the class\n",
    "    def __init__(self, name, breed):\n",
    "        self.name = name \n",
    "        self.breed = breed\n",
    "# Initalise attributes name and age, this is information the class will use \n",
    "# self is automatically passed and we have self to give the induvidual instance acsess to the attributes and method \n",
    "# aka data and behaviour \n",
    "\n",
    "    def sit(self):\n",
    "        print(f\"{self.name} is now sitting\")\n",
    "# Simulates the dog sitting this is a behaviour of an object\n",
    "\n",
    "    def roll_over(self):\n",
    "        print(f\"{self.name} is rolling over\")\n",
    "# Simulates the dog rolling over ~ \n",
    "\n",
    "my_dog = Dog(\"Tilda\", \"Labrador\")\n",
    "\n",
    "print(f\"my dogs name is {my_dog.name}\")\n",
    "print(f\"my dogs breed is {my_dog.breed}\")\n",
    "\n",
    "\n",
    "\n",
    "    "
   ]
  },
  {
   "cell_type": "code",
   "execution_count": 7,
   "id": "b98d63ed",
   "metadata": {},
   "outputs": [
    {
     "name": "stdout",
     "output_type": "stream",
     "text": [
      "R8 100000\n",
      "X1 90000\n"
     ]
    }
   ],
   "source": [
    "class Car():\n",
    "# Creating a class called car\n",
    "\n",
    "    def __init__(self, model, price):\n",
    "        self.model = model\n",
    "        self.price = price\n",
    "# Class method, these are the variables we will need to give the method for it to work\n",
    "\n",
    "Audi = Car(\"R8\", 100000)\n",
    "# Creating the object for the class called \"Audi\"\n",
    "BMW = Car(\"X1\", 90000)\n",
    "# Creating another object for the class Car called \"BMW\"\n",
    "\n",
    "print(Audi.model, Audi.price)\n",
    "print(BMW.model, BMW.price)"
   ]
  },
  {
   "cell_type": "markdown",
   "id": "c13b731e",
   "metadata": {},
   "source": [
    "### Making a class without notes"
   ]
  },
  {
   "cell_type": "code",
   "execution_count": 4,
   "id": "c0c670ca",
   "metadata": {},
   "outputs": [
    {
     "name": "stdout",
     "output_type": "stream",
     "text": [
      "('Cameron', 'Wheeler', '30000')\n",
      "('Mattia', 'Cinelli', '70000')\n"
     ]
    }
   ],
   "source": [
    "class Employee():\n",
    "# Making a class called employee \n",
    "    address = \"London\" # Class attribute\n",
    "\n",
    "    def __init__(self, first, last, wage):\n",
    "        self.first = first # Instance attribute\n",
    "        self.last = last \n",
    "        self.wage = wage\n",
    "# giving the method its variables\n",
    "# defining instance variables \n",
    "    \n",
    "    def payslip(self):\n",
    "        return self.first, self.last, self.wage\n",
    "# Making a class method\n",
    "\n",
    "emp_1 = Employee(\"Cameron\", \"Wheeler\", \"30000\") # Instance of a class\n",
    "emp_2 = Employee(\"Mattia\", \"Cinelli\", \"70000\")\n",
    "# Two instances and their arugments to be passed \n",
    "\n",
    "# print(payslip.emp_1)\n",
    "# print(payslip.emp_2)\n",
    "\n",
    "print(Employee.payslip(emp_1))\n",
    "print(Employee.payslip(emp_2))\n",
    "# Print class employee function payslip which will return the instance variables that we are passing when creating the instances"
   ]
  },
  {
   "cell_type": "code",
   "execution_count": 5,
   "id": "3c32d563",
   "metadata": {},
   "outputs": [
    {
     "data": {
      "text/plain": [
       "'London'"
      ]
     },
     "execution_count": 5,
     "metadata": {},
     "output_type": "execute_result"
    }
   ],
   "source": [
    "emp_1.payslip()\n",
    "Employee.address"
   ]
  },
  {
   "cell_type": "code",
   "execution_count": null,
   "id": "c3c2f0b5",
   "metadata": {},
   "outputs": [],
   "source": [
    "class Food():\n",
    "    def __init__(self, protein, carbs, sugars):\n",
    "        self.protein = protein\n",
    "        self.carbs = carbs\n",
    "        self.sugars = sugars\n",
    "    \n",
    "    def content(self):\n",
    "        return self.protein, self.carbs, self.sugars\n",
    "\n",
    "beef = Food(protein = 80, carbs = 15 , sugars = 5)\n",
    "beef.content()"
   ]
  },
  {
   "cell_type": "markdown",
   "id": "6be5f3de",
   "metadata": {},
   "source": [
    "### Python Inheritance \n",
    "- Inheritance allows the coder to define a class that inherits all the methods and properties included in another class\n",
    "- The parent class is the class that is being inherited from\n",
    "- The child class is the reciver (this is also called the derived class)\n"
   ]
  }
 ],
 "metadata": {
  "kernelspec": {
   "display_name": "Python 3 (ipykernel)",
   "language": "python",
   "name": "python3"
  },
  "language_info": {
   "codemirror_mode": {
    "name": "ipython",
    "version": 3
   },
   "file_extension": ".py",
   "mimetype": "text/x-python",
   "name": "python",
   "nbconvert_exporter": "python",
   "pygments_lexer": "ipython3",
   "version": "3.9.10"
  }
 },
 "nbformat": 4,
 "nbformat_minor": 5
}
