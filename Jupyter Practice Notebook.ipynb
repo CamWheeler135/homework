{
 "cells": [
  {
   "cell_type": "markdown",
   "id": "656093e5",
   "metadata": {},
   "source": [
    "# This is a markdown cell\n",
    "## This is a second heading\n",
    "This is some text"
   ]
  },
  {
   "cell_type": "code",
   "execution_count": 1,
   "id": "e628f50f",
   "metadata": {},
   "outputs": [
    {
     "name": "stdout",
     "output_type": "stream",
     "text": [
      "Hello\n"
     ]
    }
   ],
   "source": [
    "print(\"Hello\")"
   ]
  },
  {
   "cell_type": "code",
   "execution_count": 2,
   "id": "b5c2dc1f",
   "metadata": {},
   "outputs": [
    {
     "name": "stdout",
     "output_type": "stream",
     "text": [
      "H\n",
      "e\n",
      "l\n",
      "l\n",
      "o\n",
      "o\n"
     ]
    }
   ],
   "source": [
    "for i in \"Hello\":\n",
    "    print (i)\n",
    "print(i)"
   ]
  },
  {
   "cell_type": "code",
   "execution_count": 7,
   "id": "254f7d79",
   "metadata": {},
   "outputs": [
    {
     "name": "stdout",
     "output_type": "stream",
     "text": [
      "h\n",
      "w\n",
      "o\n",
      "r\n",
      "l\n",
      "d\n",
      "e\n",
      "w\n",
      "o\n",
      "r\n",
      "l\n",
      "d\n",
      "l\n",
      "w\n",
      "o\n",
      "r\n",
      "l\n",
      "d\n",
      "l\n",
      "w\n",
      "o\n",
      "r\n",
      "l\n",
      "d\n",
      "o\n",
      "w\n",
      "o\n",
      "r\n",
      "l\n",
      "d\n"
     ]
    }
   ],
   "source": [
    "for i in \"hello\":\n",
    "    print(i)\n",
    "    for j in \"world\":\n",
    "        print (j)\n",
    "    "
   ]
  },
  {
   "cell_type": "code",
   "execution_count": null,
   "id": "6b263a63",
   "metadata": {},
   "outputs": [],
   "source": []
  },
  {
   "cell_type": "code",
   "execution_count": null,
   "id": "fd825cee",
   "metadata": {},
   "outputs": [],
   "source": []
  }
 ],
 "metadata": {
  "kernelspec": {
   "display_name": "Python 3 (ipykernel)",
   "language": "python",
   "name": "python3"
  },
  "language_info": {
   "codemirror_mode": {
    "name": "ipython",
    "version": 3
   },
   "file_extension": ".py",
   "mimetype": "text/x-python",
   "name": "python",
   "nbconvert_exporter": "python",
   "pygments_lexer": "ipython3",
   "version": "3.9.10"
  }
 },
 "nbformat": 4,
 "nbformat_minor": 5
}
