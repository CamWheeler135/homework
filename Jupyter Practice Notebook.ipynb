{
 "cells": [
  {
   "cell_type": "markdown",
   "id": "656093e5",
   "metadata": {},
   "source": [
    "# Welcome To Cameron's Notebook\n",
    "## In this book we will be running over the basics in python \n"
   ]
  },
  {
   "cell_type": "code",
   "execution_count": 1,
   "id": "e628f50f",
   "metadata": {},
   "outputs": [
    {
     "name": "stdout",
     "output_type": "stream",
     "text": [
      "Hello\n"
     ]
    }
   ],
   "source": [
    "print(\"Hello\")"
   ]
  },
  {
   "cell_type": "markdown",
   "id": "e62b8f95",
   "metadata": {},
   "source": [
    "# Notes on for loops - For and While Loops\n",
    "\n",
    "While loop will execute a set of statements as long as a condition is true or flase (whatever we set it as) \n",
    "\n",
    "For loop allows us to iterate over a sequence for a set amount of times\n"
   ]
  },
  {
   "cell_type": "code",
   "execution_count": 2,
   "id": "b5c2dc1f",
   "metadata": {},
   "outputs": [
    {
     "name": "stdout",
     "output_type": "stream",
     "text": [
      "H\n",
      "e\n",
      "l\n",
      "l\n",
      "o\n",
      "o\n"
     ]
    }
   ],
   "source": [
    "for i in \"Hello\":\n",
    "    print (i)\n",
    "print(i)"
   ]
  },
  {
   "cell_type": "code",
   "execution_count": 7,
   "id": "254f7d79",
   "metadata": {},
   "outputs": [
    {
     "name": "stdout",
     "output_type": "stream",
     "text": [
      "h\n",
      "w\n",
      "o\n",
      "r\n",
      "l\n",
      "d\n",
      "e\n",
      "w\n",
      "o\n",
      "r\n",
      "l\n",
      "d\n",
      "l\n",
      "w\n",
      "o\n",
      "r\n",
      "l\n",
      "d\n",
      "l\n",
      "w\n",
      "o\n",
      "r\n",
      "l\n",
      "d\n",
      "o\n",
      "w\n",
      "o\n",
      "r\n",
      "l\n",
      "d\n"
     ]
    }
   ],
   "source": [
    "for i in \"hello\":\n",
    "    print(i)\n",
    "    for j in \"world\":\n",
    "        print (j)\n",
    "    "
   ]
  },
  {
   "cell_type": "code",
   "execution_count": 4,
   "id": "6b263a63",
   "metadata": {},
   "outputs": [
    {
     "name": "stdout",
     "output_type": "stream",
     "text": [
      "1\n",
      "2\n",
      "3\n",
      "4\n",
      "5\n"
     ]
    }
   ],
   "source": [
    "list_ = [1, 2, 3, 4, 5]\n",
    "\n",
    "for i in list_:\n",
    "    print(i)"
   ]
  },
  {
   "cell_type": "code",
   "execution_count": 8,
   "id": "fd825cee",
   "metadata": {},
   "outputs": [
    {
     "name": "stdout",
     "output_type": "stream",
     "text": [
      "0\n",
      "1\n",
      "2\n",
      "3\n",
      "4\n"
     ]
    }
   ],
   "source": [
    "for i in range(5):\n",
    "    print(i)"
   ]
  },
  {
   "cell_type": "code",
   "execution_count": 9,
   "id": "d487d970",
   "metadata": {},
   "outputs": [
    {
     "name": "stdout",
     "output_type": "stream",
     "text": [
      "0\n",
      "1\n",
      "2\n",
      "3\n",
      "4\n"
     ]
    }
   ],
   "source": [
    "for i in range(len(list_)):\n",
    "    print(i)"
   ]
  },
  {
   "cell_type": "code",
   "execution_count": 10,
   "id": "a620119d",
   "metadata": {},
   "outputs": [
    {
     "name": "stdout",
     "output_type": "stream",
     "text": [
      "[1, 2, 3, 4, 5]\n",
      "[1, 2, 3, 4, 5]\n",
      "[1, 2, 3, 4, 5]\n",
      "[1, 2, 3, 4, 5]\n",
      "[1, 2, 3, 4, 5]\n"
     ]
    }
   ],
   "source": [
    "for i in range(len(list_)):\n",
    "    print(list_)"
   ]
  },
  {
   "cell_type": "code",
   "execution_count": 11,
   "id": "69163eb5",
   "metadata": {},
   "outputs": [
    {
     "name": "stdout",
     "output_type": "stream",
     "text": [
      "1\n",
      "2\n",
      "3\n",
      "4\n",
      "5\n"
     ]
    }
   ],
   "source": [
    "for i in range(len(list_)):\n",
    "    print(list_[i])"
   ]
  },
  {
   "cell_type": "code",
   "execution_count": 14,
   "id": "9b3d1cf8",
   "metadata": {},
   "outputs": [
    {
     "name": "stdout",
     "output_type": "stream",
     "text": [
      "0\n",
      "1\n",
      "2\n",
      "3\n",
      "4\n"
     ]
    }
   ],
   "source": [
    "i = 0\n",
    "\n",
    "while i < 5:\n",
    "    print(i)\n",
    "    i += 1"
   ]
  },
  {
   "cell_type": "code",
   "execution_count": 15,
   "id": "c92fbdcb",
   "metadata": {},
   "outputs": [
    {
     "name": "stdout",
     "output_type": "stream",
     "text": [
      "hi\n"
     ]
    }
   ],
   "source": [
    "done = False\n",
    "\n",
    "while not done:\n",
    "    print(\"hi\")\n",
    "    done = True"
   ]
  },
  {
   "cell_type": "code",
   "execution_count": 25,
   "id": "3196b09b",
   "metadata": {},
   "outputs": [
    {
     "name": "stdout",
     "output_type": "stream",
     "text": [
      "not even\n",
      "2\n",
      "not even\n",
      "4\n",
      "not even\n",
      "6\n",
      "not even\n",
      "8\n",
      "not even\n",
      "10\n"
     ]
    }
   ],
   "source": [
    "a = [1, 2, 3, 4, 5, 6, 7, 8, 9, 10]\n",
    "\n",
    "for i in a:\n",
    "    if i % 2 == 0:\n",
    "        print(i)\n",
    "    else:\n",
    "        print(\"not even\")\n",
    "    "
   ]
  },
  {
   "cell_type": "code",
   "execution_count": 16,
   "id": "ca347708",
   "metadata": {},
   "outputs": [
    {
     "data": {
      "text/plain": [
       "1.0"
      ]
     },
     "execution_count": 16,
     "metadata": {},
     "output_type": "execute_result"
    }
   ],
   "source": [
    "2 / 2"
   ]
  },
  {
   "cell_type": "code",
   "execution_count": 17,
   "id": "77b1c7e8",
   "metadata": {},
   "outputs": [
    {
     "data": {
      "text/plain": [
       "1.5"
      ]
     },
     "execution_count": 17,
     "metadata": {},
     "output_type": "execute_result"
    }
   ],
   "source": [
    "3 / 2"
   ]
  },
  {
   "cell_type": "code",
   "execution_count": 18,
   "id": "e4a81059",
   "metadata": {},
   "outputs": [
    {
     "data": {
      "text/plain": [
       "2.0"
      ]
     },
     "execution_count": 18,
     "metadata": {},
     "output_type": "execute_result"
    }
   ],
   "source": [
    "4 / 2"
   ]
  },
  {
   "cell_type": "code",
   "execution_count": 19,
   "id": "11623959",
   "metadata": {},
   "outputs": [
    {
     "data": {
      "text/plain": [
       "0"
      ]
     },
     "execution_count": 19,
     "metadata": {},
     "output_type": "execute_result"
    }
   ],
   "source": [
    "4 % 2"
   ]
  },
  {
   "cell_type": "code",
   "execution_count": 20,
   "id": "bbe1bdc8",
   "metadata": {},
   "outputs": [
    {
     "data": {
      "text/plain": [
       "True"
      ]
     },
     "execution_count": 20,
     "metadata": {},
     "output_type": "execute_result"
    }
   ],
   "source": [
    "4 % 2 == 0"
   ]
  },
  {
   "cell_type": "code",
   "execution_count": 22,
   "id": "307e891b",
   "metadata": {},
   "outputs": [
    {
     "data": {
      "text/plain": [
       "1"
      ]
     },
     "execution_count": 22,
     "metadata": {},
     "output_type": "execute_result"
    }
   ],
   "source": [
    "5 % 2"
   ]
  },
  {
   "cell_type": "code",
   "execution_count": 33,
   "id": "d007d319",
   "metadata": {},
   "outputs": [
    {
     "name": "stdout",
     "output_type": "stream",
     "text": [
      "You are exactly 18\n"
     ]
    }
   ],
   "source": [
    "year = 18\n",
    "\n",
    "if year > 18:\n",
    "    print(\"You are an adult\")\n",
    "elif year < 18:\n",
    "    print(\"You are a minor\")\n",
    "else:\n",
    "    print(\"You are exactly 18\")"
   ]
  },
  {
   "cell_type": "markdown",
   "id": "0c4d3be3",
   "metadata": {},
   "source": [
    "### Break allows us to stop the loop even if the condition is true"
   ]
  },
  {
   "cell_type": "code",
   "execution_count": 37,
   "id": "2262eb47",
   "metadata": {},
   "outputs": [],
   "source": [
    "i = 10\n",
    "\n",
    "while i < 18:\n",
    "    if i > 15:\n",
    "        #pass\n",
    "        #continue\n",
    "        break\n",
    "        print(i)\n",
    "    i = i + 1"
   ]
  },
  {
   "cell_type": "code",
   "execution_count": 1,
   "id": "6015303b",
   "metadata": {},
   "outputs": [
    {
     "name": "stdout",
     "output_type": "stream",
     "text": [
      "0\n",
      "1\n",
      "2\n",
      "3\n",
      "4\n",
      "5\n",
      "6\n",
      "7\n",
      "8\n",
      "9\n"
     ]
    }
   ],
   "source": [
    "for x in range(10):\n",
    "    print(x)\n",
    "    "
   ]
  },
  {
   "cell_type": "code",
   "execution_count": 2,
   "id": "4850a98d",
   "metadata": {},
   "outputs": [
    {
     "name": "stdout",
     "output_type": "stream",
     "text": [
      "0\n",
      "1\n",
      "2\n",
      "3\n",
      "4\n",
      "5\n",
      "6\n",
      "7\n",
      "8\n",
      "9\n"
     ]
    }
   ],
   "source": [
    "x = 0 \n",
    "\n",
    "while x < 10:\n",
    "    print(x)\n",
    "    x += 1"
   ]
  },
  {
   "cell_type": "markdown",
   "id": "e9fe2605",
   "metadata": {},
   "source": [
    "# Try and Except\n",
    "\n",
    "Try - Lets us test a block of code for errors\n",
    "\n",
    "Except - Lets us handle and error (pass by an error if we know it is coming)"
   ]
  },
  {
   "cell_type": "code",
   "execution_count": 4,
   "id": "412c2006",
   "metadata": {},
   "outputs": [
    {
     "ename": "ZeroDivisionError",
     "evalue": "division by zero",
     "output_type": "error",
     "traceback": [
      "\u001b[1;31m---------------------------------------------------------------------------\u001b[0m",
      "\u001b[1;31mZeroDivisionError\u001b[0m                         Traceback (most recent call last)",
      "Input \u001b[1;32mIn [4]\u001b[0m, in \u001b[0;36m<module>\u001b[1;34m\u001b[0m\n\u001b[0;32m      1\u001b[0m a \u001b[38;5;241m=\u001b[39m \u001b[38;5;241m1\u001b[39m\n\u001b[0;32m      2\u001b[0m b \u001b[38;5;241m=\u001b[39m \u001b[38;5;241m0\u001b[39m\n\u001b[1;32m----> 4\u001b[0m \u001b[43ma\u001b[49m\u001b[43m \u001b[49m\u001b[38;5;241;43m/\u001b[39;49m\u001b[43m \u001b[49m\u001b[43mb\u001b[49m\n",
      "\u001b[1;31mZeroDivisionError\u001b[0m: division by zero"
     ]
    }
   ],
   "source": [
    "a = 1\n",
    "b = 0\n",
    "\n",
    "a / b"
   ]
  },
  {
   "cell_type": "code",
   "execution_count": 7,
   "id": "748f77ee",
   "metadata": {},
   "outputs": [
    {
     "name": "stdout",
     "output_type": "stream",
     "text": [
      "pass\n"
     ]
    }
   ],
   "source": [
    "try:\n",
    "    a / b\n",
    "except:\n",
    "    print(\"pass\")"
   ]
  },
  {
   "cell_type": "code",
   "execution_count": 9,
   "id": "e79b57f7",
   "metadata": {},
   "outputs": [
    {
     "ename": "TypeError",
     "evalue": "unsupported operand type(s) for /: 'int' and 'str'",
     "output_type": "error",
     "traceback": [
      "\u001b[1;31m---------------------------------------------------------------------------\u001b[0m",
      "\u001b[1;31mTypeError\u001b[0m                                 Traceback (most recent call last)",
      "Input \u001b[1;32mIn [9]\u001b[0m, in \u001b[0;36m<module>\u001b[1;34m\u001b[0m\n\u001b[0;32m      1\u001b[0m \u001b[38;5;28;01mtry\u001b[39;00m:\n\u001b[1;32m----> 2\u001b[0m     \u001b[38;5;241;43m1\u001b[39;49m\u001b[43m \u001b[49m\u001b[38;5;241;43m/\u001b[39;49m\u001b[43m \u001b[49m\u001b[38;5;124;43m\"\u001b[39;49m\u001b[38;5;124;43mHello\u001b[39;49m\u001b[38;5;124;43m\"\u001b[39;49m\n\u001b[0;32m      3\u001b[0m \u001b[38;5;28;01mexcept\u001b[39;00m \u001b[38;5;167;01mZeroDivisionError\u001b[39;00m:\n\u001b[0;32m      4\u001b[0m     \u001b[38;5;28mprint\u001b[39m(\u001b[38;5;124m\"\u001b[39m\u001b[38;5;124mpass\u001b[39m\u001b[38;5;124m\"\u001b[39m)\n",
      "\u001b[1;31mTypeError\u001b[0m: unsupported operand type(s) for /: 'int' and 'str'"
     ]
    }
   ],
   "source": [
    "try:\n",
    "    1 / \"Hello\"\n",
    "except ZeroDivisionError:\n",
    "    print(\"pass\")"
   ]
  },
  {
   "cell_type": "code",
   "execution_count": 28,
   "id": "a5679e3a",
   "metadata": {},
   "outputs": [],
   "source": [
    "def golden_ratio(num1, num2):\n",
    "    try:\n",
    "        res = num1 / num2\n",
    "    except ZeroDivisionError:\n",
    "        return(0)\n",
    "    except TypeError:\n",
    "        print(\"type error accepted\")\n",
    "        return\n",
    "    return(res)"
   ]
  },
  {
   "cell_type": "code",
   "execution_count": 22,
   "id": "88a1ba57",
   "metadata": {},
   "outputs": [
    {
     "name": "stdout",
     "output_type": "stream",
     "text": [
      "0.5\n"
     ]
    }
   ],
   "source": [
    "result = golden_ratio(1, 2)\n",
    "print(result)\n"
   ]
  },
  {
   "cell_type": "code",
   "execution_count": 23,
   "id": "a784944b",
   "metadata": {},
   "outputs": [
    {
     "data": {
      "text/plain": [
       "0"
      ]
     },
     "execution_count": 23,
     "metadata": {},
     "output_type": "execute_result"
    }
   ],
   "source": [
    "golden_ratio(1, 0)"
   ]
  },
  {
   "cell_type": "code",
   "execution_count": 29,
   "id": "a0b94451",
   "metadata": {},
   "outputs": [
    {
     "name": "stdout",
     "output_type": "stream",
     "text": [
      "type error accepted\n"
     ]
    }
   ],
   "source": [
    "golden_ratio(1, \"hello\")"
   ]
  },
  {
   "cell_type": "markdown",
   "id": "ddab925c",
   "metadata": {},
   "source": [
    "# Functions"
   ]
  },
  {
   "cell_type": "code",
   "execution_count": 31,
   "id": "2f6eace5",
   "metadata": {},
   "outputs": [
    {
     "data": {
      "text/plain": [
       "4"
      ]
     },
     "execution_count": 31,
     "metadata": {},
     "output_type": "execute_result"
    }
   ],
   "source": [
    "def sum_numbers(num1, num2):\n",
    "    result = num1 + num2\n",
    "    return result\n",
    "sum_numbers(2, 2)"
   ]
  },
  {
   "cell_type": "code",
   "execution_count": 32,
   "id": "34775572",
   "metadata": {},
   "outputs": [
    {
     "ename": "TypeError",
     "evalue": "sum_numbers() missing 2 required positional arguments: 'num1' and 'num2'",
     "output_type": "error",
     "traceback": [
      "\u001b[1;31m---------------------------------------------------------------------------\u001b[0m",
      "\u001b[1;31mTypeError\u001b[0m                                 Traceback (most recent call last)",
      "Input \u001b[1;32mIn [32]\u001b[0m, in \u001b[0;36m<module>\u001b[1;34m\u001b[0m\n\u001b[0;32m      1\u001b[0m num1 \u001b[38;5;241m=\u001b[39m \u001b[38;5;241m12\u001b[39m\n\u001b[0;32m      2\u001b[0m num2 \u001b[38;5;241m=\u001b[39m \u001b[38;5;241m3\u001b[39m\n\u001b[1;32m----> 3\u001b[0m \u001b[43msum_numbers\u001b[49m\u001b[43m(\u001b[49m\u001b[43m)\u001b[49m\n",
      "\u001b[1;31mTypeError\u001b[0m: sum_numbers() missing 2 required positional arguments: 'num1' and 'num2'"
     ]
    }
   ],
   "source": [
    "num1 = 12\n",
    "num2 = 3\n",
    "sum_numbers()"
   ]
  },
  {
   "cell_type": "code",
   "execution_count": 33,
   "id": "5c2cfc53",
   "metadata": {},
   "outputs": [
    {
     "data": {
      "text/plain": [
       "15"
      ]
     },
     "execution_count": 33,
     "metadata": {},
     "output_type": "execute_result"
    }
   ],
   "source": [
    "def sum_numbers():\n",
    "    result = num1 + num2\n",
    "    return result\n",
    "num1 = 12\n",
    "num2 = 3\n",
    "sum_numbers()"
   ]
  },
  {
   "cell_type": "code",
   "execution_count": null,
   "id": "9737332c",
   "metadata": {},
   "outputs": [],
   "source": [
    "local n = 2 \n",
    "global n = 2"
   ]
  },
  {
   "cell_type": "code",
   "execution_count": 1,
   "id": "000226d4",
   "metadata": {},
   "outputs": [
    {
     "name": "stdout",
     "output_type": "stream",
     "text": [
      "Hello\n"
     ]
    }
   ],
   "source": [
    "def method(x):\n",
    "    print(x)\n",
    "\n",
    "\n",
    "method(\"Hello\")"
   ]
  },
  {
   "cell_type": "code",
   "execution_count": 2,
   "id": "ebeeb90e",
   "metadata": {},
   "outputs": [],
   "source": [
    "f = method"
   ]
  },
  {
   "cell_type": "code",
   "execution_count": 3,
   "id": "943bf487",
   "metadata": {},
   "outputs": [
    {
     "name": "stdout",
     "output_type": "stream",
     "text": [
      "Hello\n"
     ]
    }
   ],
   "source": [
    "f(\"Hello\")"
   ]
  },
  {
   "cell_type": "code",
   "execution_count": 4,
   "id": "af441762",
   "metadata": {},
   "outputs": [
    {
     "data": {
      "text/plain": [
       "<function __main__.method(x)>"
      ]
     },
     "execution_count": 4,
     "metadata": {},
     "output_type": "execute_result"
    }
   ],
   "source": [
    "f"
   ]
  },
  {
   "cell_type": "markdown",
   "id": "e75004fe",
   "metadata": {},
   "source": [
    "# Default Mathamatical Function"
   ]
  },
  {
   "cell_type": "code",
   "execution_count": 5,
   "id": "caad3d2c",
   "metadata": {},
   "outputs": [
    {
     "data": {
      "text/plain": [
       "3"
      ]
     },
     "execution_count": 5,
     "metadata": {},
     "output_type": "execute_result"
    }
   ],
   "source": [
    "max(1, 2, 3)"
   ]
  },
  {
   "cell_type": "code",
   "execution_count": 7,
   "id": "dbcbff78",
   "metadata": {},
   "outputs": [
    {
     "data": {
      "text/plain": [
       "6"
      ]
     },
     "execution_count": 7,
     "metadata": {},
     "output_type": "execute_result"
    }
   ],
   "source": [
    "sum([1, 2, 3])"
   ]
  },
  {
   "cell_type": "code",
   "execution_count": 28,
   "id": "62a406e5",
   "metadata": {},
   "outputs": [
    {
     "data": {
      "text/plain": [
       "3"
      ]
     },
     "execution_count": 28,
     "metadata": {},
     "output_type": "execute_result"
    }
   ],
   "source": [
    "sum([1, 2])"
   ]
  },
  {
   "cell_type": "code",
   "execution_count": 10,
   "id": "d4845489",
   "metadata": {},
   "outputs": [
    {
     "data": {
      "text/plain": [
       "106"
      ]
     },
     "execution_count": 10,
     "metadata": {},
     "output_type": "execute_result"
    }
   ],
   "source": [
    "sum([1, 2, 3], 100)"
   ]
  },
  {
   "cell_type": "code",
   "execution_count": 19,
   "id": "841a50ff",
   "metadata": {},
   "outputs": [
    {
     "data": {
      "text/plain": [
       "2.34"
      ]
     },
     "execution_count": 19,
     "metadata": {},
     "output_type": "execute_result"
    }
   ],
   "source": [
    "abs(2.34)"
   ]
  },
  {
   "cell_type": "code",
   "execution_count": 20,
   "id": "dc58445c",
   "metadata": {},
   "outputs": [
    {
     "data": {
      "text/plain": [
       "22"
      ]
     },
     "execution_count": 20,
     "metadata": {},
     "output_type": "execute_result"
    }
   ],
   "source": [
    "abs(-22)"
   ]
  },
  {
   "cell_type": "code",
   "execution_count": 18,
   "id": "5fe3b15c",
   "metadata": {},
   "outputs": [
    {
     "data": {
      "text/plain": [
       "3.2"
      ]
     },
     "execution_count": 18,
     "metadata": {},
     "output_type": "execute_result"
    }
   ],
   "source": [
    "round(3.17, 1)"
   ]
  },
  {
   "cell_type": "code",
   "execution_count": 22,
   "id": "fb5f72e2",
   "metadata": {},
   "outputs": [
    {
     "data": {
      "text/plain": [
       "True"
      ]
     },
     "execution_count": 22,
     "metadata": {},
     "output_type": "execute_result"
    }
   ],
   "source": [
    "values = [False, True, True, False]\n",
    "\n",
    "any(values)"
   ]
  },
  {
   "cell_type": "code",
   "execution_count": 23,
   "id": "ceb1b189",
   "metadata": {},
   "outputs": [
    {
     "data": {
      "text/plain": [
       "False"
      ]
     },
     "execution_count": 23,
     "metadata": {},
     "output_type": "execute_result"
    }
   ],
   "source": [
    "values_2 =[False, False, False]\n",
    "\n",
    "any(values_2)"
   ]
  },
  {
   "cell_type": "code",
   "execution_count": 24,
   "id": "966ff120",
   "metadata": {},
   "outputs": [
    {
     "data": {
      "text/plain": [
       "True"
      ]
     },
     "execution_count": 24,
     "metadata": {},
     "output_type": "execute_result"
    }
   ],
   "source": [
    "values_3 =[False, False, True]\n",
    "\n",
    "any(values_3)"
   ]
  },
  {
   "cell_type": "code",
   "execution_count": null,
   "id": "db9eb704",
   "metadata": {},
   "outputs": [],
   "source": []
  },
  {
   "cell_type": "markdown",
   "id": "5e3ec729",
   "metadata": {},
   "source": [
    "# Map"
   ]
  },
  {
   "cell_type": "code",
   "execution_count": 3,
   "id": "651f0b53",
   "metadata": {},
   "outputs": [
    {
     "data": {
      "text/plain": [
       "2"
      ]
     },
     "execution_count": 3,
     "metadata": {},
     "output_type": "execute_result"
    }
   ],
   "source": [
    "def summing(x, y):\n",
    "    return (x + y)\n",
    "\n",
    "summing(1, 1)"
   ]
  },
  {
   "cell_type": "code",
   "execution_count": 13,
   "id": "808a07f3",
   "metadata": {},
   "outputs": [
    {
     "name": "stdout",
     "output_type": "stream",
     "text": [
      "5\n",
      "7\n",
      "9\n"
     ]
    }
   ],
   "source": [
    "for n in map(summing, [1, 2, 3], [4, 5, 6]):\n",
    "    print(n)"
   ]
  },
  {
   "cell_type": "markdown",
   "id": "c3dac832",
   "metadata": {},
   "source": [
    "# Zip"
   ]
  },
  {
   "cell_type": "code",
   "execution_count": 15,
   "id": "cae37168",
   "metadata": {},
   "outputs": [
    {
     "name": "stdout",
     "output_type": "stream",
     "text": [
      "(1, 4)\n",
      "(2, 5)\n",
      "(3, 6)\n"
     ]
    }
   ],
   "source": [
    "for x in zip([1, 2, 3], [4, 5, 6]):\n",
    "    print(x)"
   ]
  },
  {
   "cell_type": "code",
   "execution_count": 16,
   "id": "004948e4",
   "metadata": {},
   "outputs": [
    {
     "name": "stdout",
     "output_type": "stream",
     "text": [
      "1 4\n",
      "5\n",
      "2 5\n",
      "7\n",
      "3 6\n",
      "9\n"
     ]
    }
   ],
   "source": [
    "for x, y in zip([1, 2, 3], [4, 5, 6]):\n",
    "    print(x, y)\n",
    "    print(x + y)"
   ]
  },
  {
   "cell_type": "code",
   "execution_count": 17,
   "id": "d875a6c1",
   "metadata": {},
   "outputs": [
    {
     "name": "stdout",
     "output_type": "stream",
     "text": [
      "1 a\n",
      "2 b\n",
      "3 c\n"
     ]
    }
   ],
   "source": [
    "for x, y in zip([1, 2, 3], \"abc\"):\n",
    "    print(x, y)\n",
    "    "
   ]
  },
  {
   "cell_type": "markdown",
   "id": "7a069115",
   "metadata": {},
   "source": [
    "# Filter"
   ]
  },
  {
   "cell_type": "code",
   "execution_count": 18,
   "id": "27fa1ce4",
   "metadata": {},
   "outputs": [
    {
     "data": {
      "text/plain": [
       "False"
      ]
     },
     "execution_count": 18,
     "metadata": {},
     "output_type": "execute_result"
    }
   ],
   "source": [
    "def greater_than(x):\n",
    "    return(x > 5)\n",
    "\n",
    "greater_than(4)"
   ]
  },
  {
   "cell_type": "code",
   "execution_count": 19,
   "id": "8394817b",
   "metadata": {},
   "outputs": [
    {
     "data": {
      "text/plain": [
       "True"
      ]
     },
     "execution_count": 19,
     "metadata": {},
     "output_type": "execute_result"
    }
   ],
   "source": [
    "\n",
    "greater_than(6)"
   ]
  },
  {
   "cell_type": "code",
   "execution_count": 20,
   "id": "4b491c05",
   "metadata": {},
   "outputs": [
    {
     "name": "stdout",
     "output_type": "stream",
     "text": [
      "6\n",
      "7\n"
     ]
    }
   ],
   "source": [
    "for n in filter(greater_than, [3, 4, 5, 6, 7]):\n",
    "    print(n)"
   ]
  },
  {
   "cell_type": "markdown",
   "id": "64fb3412",
   "metadata": {},
   "source": [
    "# Sorted \n",
    "\n",
    "The sorted function sorts the elements of a give iterable in a specific order such as ascending or decending, returning a list."
   ]
  },
  {
   "cell_type": "code",
   "execution_count": 32,
   "id": "ef01df4e",
   "metadata": {},
   "outputs": [
    {
     "data": {
      "text/plain": [
       "[1, 4, 8, 23, 32, 46]"
      ]
     },
     "execution_count": 32,
     "metadata": {},
     "output_type": "execute_result"
    }
   ],
   "source": [
    "numbers_list = [1, 23, 4, 32, 46, 8]\n",
    "\n",
    "sorted(numbers_list)"
   ]
  },
  {
   "cell_type": "code",
   "execution_count": 34,
   "id": "d1f7dc76",
   "metadata": {},
   "outputs": [
    {
     "data": {
      "text/plain": [
       "[46, 32, 23, 8, 4, 1]"
      ]
     },
     "execution_count": 34,
     "metadata": {},
     "output_type": "execute_result"
    }
   ],
   "source": [
    "numbers_list = [1, 23, 4, 32, 46, 8]\n",
    "\n",
    "sorted(numbers_list, reverse = True)"
   ]
  },
  {
   "cell_type": "code",
   "execution_count": 30,
   "id": "b783eaaf",
   "metadata": {},
   "outputs": [
    {
     "data": {
      "text/plain": [
       "['a', 'b', 'c', 'd', 'z']"
      ]
     },
     "execution_count": 30,
     "metadata": {},
     "output_type": "execute_result"
    }
   ],
   "source": [
    "letters_list = (\"a\", \"c\", \"d\", \"z\", \"b\")\n",
    "\n",
    "sorted(letters_list)"
   ]
  },
  {
   "cell_type": "code",
   "execution_count": null,
   "id": "bb7fcb39",
   "metadata": {},
   "outputs": [],
   "source": []
  },
  {
   "cell_type": "markdown",
   "id": "4e66eb8d",
   "metadata": {},
   "source": [
    "# Reversed\n",
    "\n",
    "### This function returns the reversed iterator of the given sequence\n"
   ]
  },
  {
   "cell_type": "code",
   "execution_count": 1,
   "id": "240c447f",
   "metadata": {},
   "outputs": [
    {
     "name": "stdout",
     "output_type": "stream",
     "text": [
      "5\n",
      "4\n",
      "3\n",
      "2\n",
      "1\n"
     ]
    }
   ],
   "source": [
    "seq = [1, 2, 3, 4, 5]\n",
    "rseq = reversed(seq)\n",
    "for x in rseq:\n",
    "    print(x)"
   ]
  },
  {
   "cell_type": "markdown",
   "id": "126cc6d2",
   "metadata": {},
   "source": [
    "# Classes\n",
    "\n",
    "Like Mattia said, everything in python is an \"object\",  a class is an object constructor, or a \"blueprint\" for creating objects\n",
    "\n",
    "- A class is like an object constructor, or a blueprint for creating objects \n",
    "- To create a class we use \"class():\" when we create a class, we create and object\n",
    "- An object is an instance of a class\n",
    "- An instance is a copy of the class with actual values(data)\n",
    "- The more data we have the more instances we have in the class \n",
    "- Class instances can have methods that are defined by their class for modifying their state\n",
    "- Once we have made the class, set the attributes, then added a method, ensure that we give the class an object to use (this is the sticker we stick on the class) that we can call \n"
   ]
  },
  {
   "cell_type": "code",
   "execution_count": 26,
   "id": "daf836e7",
   "metadata": {},
   "outputs": [],
   "source": [
    "class Food():\n",
    "    pass\n"
   ]
  },
  {
   "cell_type": "code",
   "execution_count": 27,
   "id": "cbd4161c",
   "metadata": {},
   "outputs": [
    {
     "name": "stdout",
     "output_type": "stream",
     "text": [
      "<__main__.Food object at 0x0000022505737CA0>\n"
     ]
    }
   ],
   "source": [
    "pasta = Food()\n",
    "\n",
    "print(pasta)"
   ]
  },
  {
   "cell_type": "code",
   "execution_count": 28,
   "id": "8c22a7d4",
   "metadata": {},
   "outputs": [
    {
     "name": "stdout",
     "output_type": "stream",
     "text": [
      "This is class food\n"
     ]
    }
   ],
   "source": [
    "class Food():\n",
    "    def __str__(self):\n",
    "        return(\"This is class food\")\n",
    "pasta = Food()\n",
    "print(pasta)"
   ]
  },
  {
   "cell_type": "code",
   "execution_count": 29,
   "id": "e27146a7",
   "metadata": {},
   "outputs": [
    {
     "data": {
      "text/plain": [
       "'roast dinner'"
      ]
     },
     "execution_count": 29,
     "metadata": {},
     "output_type": "execute_result"
    }
   ],
   "source": [
    "class Menu():\n",
    "    def __init__(self, breakfast, lunch, dinner):\n",
    "        self.breakfast = breakfast\n",
    "        self.lunch = lunch\n",
    "        self.dinner = dinner\n",
    "        \n",
    "    def whats_for_breakfast(self):\n",
    "        return self.breakfast\n",
    "friday = Menu(breakfast = \"eggs\", lunch = \"pork\", dinner = \"roast dinner\")\n",
    "friday.whats_for_breakfast()\n",
    "\n",
    "friday.dinner\n",
    "        "
   ]
  },
  {
   "cell_type": "code",
   "execution_count": 30,
   "id": "5f9d1df9",
   "metadata": {},
   "outputs": [
    {
     "data": {
      "text/plain": [
       "'cereals'"
      ]
     },
     "execution_count": 30,
     "metadata": {},
     "output_type": "execute_result"
    }
   ],
   "source": [
    "saturday = Menu(breakfast = \"cereals\", lunch = \"fish\", dinner = \"nothing\")\n",
    "\n",
    "saturday.whats_for_breakfast()\n",
    "    "
   ]
  },
  {
   "cell_type": "code",
   "execution_count": 31,
   "id": "7d170c1e",
   "metadata": {},
   "outputs": [
    {
     "data": {
      "text/plain": [
       "(80, 15, 5)"
      ]
     },
     "execution_count": 31,
     "metadata": {},
     "output_type": "execute_result"
    }
   ],
   "source": [
    "class Food():\n",
    "    def __init__(self, protein, carbs, sugars):\n",
    "        self.protein = protein\n",
    "        self.carbs = carbs\n",
    "        self.sugars = sugars\n",
    "    \n",
    "    def content(self):\n",
    "        return self.protein, self.carbs, self.sugars\n",
    "\n",
    "beef = Food(protein = 80, carbs = 15 , sugars = 5)\n",
    "beef.content()\n",
    "\n",
    "   "
   ]
  },
  {
   "cell_type": "markdown",
   "id": "6c1ed18f",
   "metadata": {},
   "source": [
    "### Ask Mattia what the difference is between the two (TOP AND BOTTOM) ?????"
   ]
  },
  {
   "cell_type": "code",
   "execution_count": 13,
   "id": "c101ebae",
   "metadata": {},
   "outputs": [
    {
     "name": "stdout",
     "output_type": "stream",
     "text": [
      "80\n",
      "15\n",
      "5\n"
     ]
    }
   ],
   "source": [
    "class Food():\n",
    "    def __init__(self, protein, carbs, sugars):\n",
    "        self.protein = protein\n",
    "        self.carbs = carbs\n",
    "        self.sugars = sugars\n",
    "\n",
    "beef = Food(protein = 80, carbs = 15 , sugars = 5)\n",
    "\n",
    "print(beef.protein)\n",
    "print(beef.carbs)\n",
    "print(beef.sugars)"
   ]
  },
  {
   "cell_type": "markdown",
   "id": "e6c4b0c5",
   "metadata": {},
   "source": [
    "### Back to the lesson with Mattia"
   ]
  },
  {
   "cell_type": "code",
   "execution_count": 16,
   "id": "fea7d6c9",
   "metadata": {},
   "outputs": [
    {
     "data": {
      "text/plain": [
       "(80, 15, 5)"
      ]
     },
     "execution_count": 16,
     "metadata": {},
     "output_type": "execute_result"
    }
   ],
   "source": [
    "class Food():\n",
    "    def __init__(self, protein, carbs, sugars):\n",
    "        self.protein = protein\n",
    "        self.carbs = carbs\n",
    "        self.sugars = sugars\n",
    "    \n",
    "    def content(self):\n",
    "        return self.protein, self.carbs, self.sugars\n",
    "\n",
    "beef = Food(protein = 80, carbs = 15 , sugars = 5)\n",
    "beef.content()"
   ]
  },
  {
   "cell_type": "code",
   "execution_count": 22,
   "id": "db1aba10",
   "metadata": {},
   "outputs": [],
   "source": [
    "Meat = Food"
   ]
  },
  {
   "cell_type": "code",
   "execution_count": 23,
   "id": "6eb53560",
   "metadata": {},
   "outputs": [],
   "source": [
    "beef = Meat(protein = 80, carbs = 15 , sugars = 5)"
   ]
  },
  {
   "cell_type": "code",
   "execution_count": 24,
   "id": "1eb0b6dd",
   "metadata": {},
   "outputs": [],
   "source": [
    "class Meat(Food):\n",
    "    pass"
   ]
  },
  {
   "cell_type": "code",
   "execution_count": 25,
   "id": "fdc6e6e8",
   "metadata": {},
   "outputs": [
    {
     "data": {
      "text/plain": [
       "(80, 15, 5)"
      ]
     },
     "execution_count": 25,
     "metadata": {},
     "output_type": "execute_result"
    }
   ],
   "source": [
    "beef.content()\n"
   ]
  },
  {
   "cell_type": "markdown",
   "id": "f8c9d99b",
   "metadata": {},
   "source": [
    "### Self Work Classes"
   ]
  },
  {
   "cell_type": "code",
   "execution_count": 3,
   "id": "098060a5",
   "metadata": {},
   "outputs": [
    {
     "name": "stdout",
     "output_type": "stream",
     "text": [
      "mammal\n",
      "dog\n",
      "pug\n",
      "I am a mammal\n",
      "I am a dog\n",
      "I am a mammal\n",
      "I am a dog\n"
     ]
    }
   ],
   "source": [
    "class Dog():\n",
    "# Making the class\n",
    "    \n",
    "    attr1 = \"mammal\"\n",
    "    attr2 = \"dog\"\n",
    "    attr3 = \"pug\"\n",
    "# Class attributes\n",
    "\n",
    "    def func(self):\n",
    "        print(\"I am a\", self.attr1)\n",
    "        print(\"I am a\", self.attr2)\n",
    "# Class method \n",
    "\n",
    "Rodger = Dog()\n",
    "Kevin = Dog()\n",
    "\n",
    "\n",
    "# Creating an object called \"Rodger\"\n",
    "# We are giving the class a name that we can use \"we can put stickers on things\"\n",
    "# This means the class becomes instantated \n",
    "# Adding another object called \"Kevin\" to the same class Dog() another sticker, same class\n",
    "# WHY DO WE CREATE THE OBJECT THOUGH?????\n",
    "\n",
    "print(Rodger.attr1)\n",
    "print(Rodger.attr2)\n",
    "print(Rodger.attr3)\n",
    "# Accessing and printing the class attributes\n",
    "# We are using Rodger, as we said Rodger = Dog(), so \n",
    "\n",
    "Rodger.func()\n",
    "Kevin.func()\n",
    "\n",
    "# Accessing the class method through the object \"Rodger\"\n",
    "\n",
    "\n",
    "\n",
    "    "
   ]
  },
  {
   "cell_type": "code",
   "execution_count": 7,
   "id": "b98d63ed",
   "metadata": {},
   "outputs": [
    {
     "name": "stdout",
     "output_type": "stream",
     "text": [
      "R8 100000\n",
      "X1 90000\n"
     ]
    }
   ],
   "source": [
    "class Car():\n",
    "# Creating a class called car\n",
    "\n",
    "    def __init__(self, model, price):\n",
    "        self.model = model\n",
    "        self.price = price\n",
    "# Class method, these are the variables we will need to give the method for it to work\n",
    "\n",
    "Audi = Car(\"R8\", 100000)\n",
    "# Creating the object for the class called \"Audi\"\n",
    "BMW = Car(\"X1\", 90000)\n",
    "# Creating another object for the class Car called \"BMW\"\n",
    "\n",
    "print(Audi.model, Audi.price)\n",
    "print(BMW.model, BMW.price)"
   ]
  },
  {
   "cell_type": "markdown",
   "id": "c13b731e",
   "metadata": {},
   "source": [
    "### Making a class without notes"
   ]
  },
  {
   "cell_type": "code",
   "execution_count": 22,
   "id": "c0c670ca",
   "metadata": {},
   "outputs": [
    {
     "name": "stdout",
     "output_type": "stream",
     "text": [
      "('Cameron', 'Wheeler', '30000')\n",
      "('Mattia', 'Cinelli', '70000')\n"
     ]
    }
   ],
   "source": [
    "class Employee():\n",
    "# Making a class called employee \n",
    "\n",
    "    def __init__(self, first, last, wage):\n",
    "        self.first = first \n",
    "        self.last = last \n",
    "        self.wage = wage\n",
    "# giving the method its variables\n",
    "# defiining instance variables \n",
    "    \n",
    "    def payslip(self):\n",
    "        return self.first, self.last, self.wage\n",
    "# Making a class method\n",
    "\n",
    "emp_1 = Employee(\"Cameron\", \"Wheeler\", \"30000\")\n",
    "emp_2 = Employee(\"Mattia\", \"Cinelli\", \"70000\")\n",
    "# Two instances and their arugments to be passed \n",
    "\n",
    "# print(payslip.emp_1)\n",
    "# print(payslip.emp_2)\n",
    "\n",
    "print(Employee.payslip(emp_1))\n",
    "print(Employee.payslip(emp_2))\n",
    "# Print class employee function payslip which will return the instance variables that we are passing when creating the instances"
   ]
  },
  {
   "cell_type": "code",
   "execution_count": null,
   "id": "c3c2f0b5",
   "metadata": {},
   "outputs": [],
   "source": [
    "class Food():\n",
    "    def __init__(self, protein, carbs, sugars):\n",
    "        self.protein = protein\n",
    "        self.carbs = carbs\n",
    "        self.sugars = sugars\n",
    "    \n",
    "    def content(self):\n",
    "        return self.protein, self.carbs, self.sugars\n",
    "\n",
    "beef = Food(protein = 80, carbs = 15 , sugars = 5)\n",
    "beef.content()"
   ]
  },
  {
   "cell_type": "markdown",
   "id": "6be5f3de",
   "metadata": {},
   "source": [
    "### Python Inheritance \n",
    "- Inheritance allows the coder to define a class that inherits all the methods and properties included in another class\n",
    "- The parent class is the class that is being inherited from\n",
    "- The child class is the reciver (this is also called the derived class)\n"
   ]
  },
  {
   "cell_type": "code",
   "execution_count": null,
   "id": "470475e6",
   "metadata": {},
   "outputs": [],
   "source": []
  }
 ],
 "metadata": {
  "kernelspec": {
   "display_name": "Python 3 (ipykernel)",
   "language": "python",
   "name": "python3"
  },
  "language_info": {
   "codemirror_mode": {
    "name": "ipython",
    "version": 3
   },
   "file_extension": ".py",
   "mimetype": "text/x-python",
   "name": "python",
   "nbconvert_exporter": "python",
   "pygments_lexer": "ipython3",
   "version": "3.9.10"
  }
 },
 "nbformat": 4,
 "nbformat_minor": 5
}
