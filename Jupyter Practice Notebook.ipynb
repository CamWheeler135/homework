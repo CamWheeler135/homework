{
 "cells": [
  {
   "cell_type": "markdown",
   "id": "656093e5",
   "metadata": {},
   "source": [
    "# Welcome To Cameron's Notebook.\n",
    "\n",
    "\n",
    "\n",
    "## In this book we will be running over the basics in python with lessons by Mattia and the Python Crash Course Book.\n",
    "\n",
    "\n",
    "\n",
    "\n",
    "### In this book, there will be a title, in which there will be subheadings and following certain code cells, will be an explanation of what is happening in the cell. At the end of each chapter, there will be a task I have done myself and then some take away points to consider!\n",
    "\n",
    "\n"
   ]
  },
  {
   "cell_type": "markdown",
   "id": "f3f4b84d",
   "metadata": {},
   "source": [
    "  "
   ]
  },
  {
   "cell_type": "markdown",
   "id": "e5016b78",
   "metadata": {},
   "source": [
    "  "
   ]
  },
  {
   "cell_type": "markdown",
   "id": "6eed7cc6",
   "metadata": {},
   "source": [
    "# Chapter 2 Variables and Simple Data Types"
   ]
  },
  {
   "cell_type": "markdown",
   "id": "1cf63297",
   "metadata": {},
   "source": [
    "### Variables "
   ]
  },
  {
   "cell_type": "code",
   "execution_count": 1,
   "id": "e628f50f",
   "metadata": {},
   "outputs": [
    {
     "name": "stdout",
     "output_type": "stream",
     "text": [
      "Hello\n"
     ]
    }
   ],
   "source": [
    "print(\"Hello\")"
   ]
  },
  {
   "cell_type": "code",
   "execution_count": 1,
   "id": "af35a3c1",
   "metadata": {},
   "outputs": [
    {
     "name": "stdout",
     "output_type": "stream",
     "text": [
      "hello Cameron, this is the variable message\n"
     ]
    }
   ],
   "source": [
    "message = \"Hello Cameron, this is the variable message\"\n",
    "print(message)"
   ]
  },
  {
   "cell_type": "markdown",
   "id": "9c663bae",
   "metadata": {},
   "source": [
    "> We are assinging a value to the variable \"message\""
   ]
  },
  {
   "cell_type": "code",
   "execution_count": 3,
   "id": "2791a445",
   "metadata": {},
   "outputs": [
    {
     "name": "stdout",
     "output_type": "stream",
     "text": [
      "Hello Cameron, this is the variable message\n",
      "Hello again Cameron, this is still the variable message, but I am showing variable 'values' can be updated\n"
     ]
    }
   ],
   "source": [
    "message = \"Hello Cameron, this is the variable message\"\n",
    "print(message)\n",
    "\n",
    "message = \"Hello again Cameron, this is still the variable message, but I am showing variable 'values' can be updated\"\n",
    "print(message)"
   ]
  },
  {
   "cell_type": "markdown",
   "id": "a2e1c072",
   "metadata": {},
   "source": [
    "> Variables and their corresponding values can be updated and python will keep a track of them as we code"
   ]
  },
  {
   "cell_type": "code",
   "execution_count": 4,
   "id": "c017be46",
   "metadata": {
    "scrolled": true
   },
   "outputs": [
    {
     "ename": "NameError",
     "evalue": "name 'mesage' is not defined",
     "output_type": "error",
     "traceback": [
      "\u001b[1;31m---------------------------------------------------------------------------\u001b[0m",
      "\u001b[1;31mNameError\u001b[0m                                 Traceback (most recent call last)",
      "Input \u001b[1;32mIn [4]\u001b[0m, in \u001b[0;36m<module>\u001b[1;34m\u001b[0m\n\u001b[0;32m      1\u001b[0m message \u001b[38;5;241m=\u001b[39m \u001b[38;5;124m\"\u001b[39m\u001b[38;5;124mIn this cell we are trying to throw an error\u001b[39m\u001b[38;5;124m\"\u001b[39m\n\u001b[1;32m----> 2\u001b[0m \u001b[38;5;28mprint\u001b[39m(\u001b[43mmesage\u001b[49m)\n",
      "\u001b[1;31mNameError\u001b[0m: name 'mesage' is not defined"
     ]
    }
   ],
   "source": [
    "message = \"In this cell we are trying to throw an error\"\n",
    "print(mesage)"
   ]
  },
  {
   "cell_type": "markdown",
   "id": "a73a7483",
   "metadata": {},
   "source": [
    ">First it shows us the error type 'NameError'.\n",
    "Then it shows us where the error is taking place 'message'.\n",
    "A name error means we have most likely forgotten to set a value or misspelt the varible we are calling in our code.\n",
    "Python will not spell check our code, but it must be spelled constistently."
   ]
  },
  {
   "cell_type": "markdown",
   "id": "8c4814e4",
   "metadata": {},
   "source": [
    "### Task"
   ]
  },
  {
   "cell_type": "code",
   "execution_count": 7,
   "id": "6e16668d",
   "metadata": {},
   "outputs": [
    {
     "name": "stdout",
     "output_type": "stream",
     "text": [
      "Hello reader, this is Camerons Jupyter Notebook\n"
     ]
    }
   ],
   "source": [
    "message = \"Hello reader, this is Camerons Jupyter Notebook\"\n",
    "print(message)"
   ]
  },
  {
   "cell_type": "code",
   "execution_count": 8,
   "id": "6ba61112",
   "metadata": {},
   "outputs": [
    {
     "name": "stdout",
     "output_type": "stream",
     "text": [
      "Hello reader, this is Camerons Jupyter Notebook\n",
      "Hello reader, this is an update of the 'value' of the message varibale\n"
     ]
    }
   ],
   "source": [
    "message = \"Hello reader, this is Camerons Jupyter Notebook\"\n",
    "print(message)\n",
    "\n",
    "message = \"Hello reader, this is an update of the 'value' of the message varibale\"\n",
    "print(message)"
   ]
  },
  {
   "cell_type": "markdown",
   "id": "3b5de83a",
   "metadata": {},
   "source": [
    "### Take Aways\n",
    "\n",
    "- Variables are like stickers we tag onto values in python, a varibale will reference a certain value \n",
    "- Variable names can only contain letters, numbers and underscores\n",
    "- Not allowed to use spaces in varibale names, instead we use underscores \n",
    "- Dont use python keywords as variables, this will be VERY confusing to read and code \n",
    "- Keep variable names short but descriptive \n",
    "\n"
   ]
  },
  {
   "cell_type": "markdown",
   "id": "1cbe5612",
   "metadata": {},
   "source": [
    "### Strings"
   ]
  },
  {
   "cell_type": "code",
   "execution_count": 1,
   "id": "c95280da",
   "metadata": {},
   "outputs": [
    {
     "name": "stdout",
     "output_type": "stream",
     "text": [
      "Cameron Wheeler\n"
     ]
    }
   ],
   "source": [
    "name = \"cameron wheeler\"\n",
    "\n",
    "print(name.title())"
   ]
  },
  {
   "cell_type": "markdown",
   "id": "04e5683b",
   "metadata": {},
   "source": [
    "> Title is the method of the variable name, a method allows Python to act on some data and the dot  .  tells python to make name a title where each word starts with a capital"
   ]
  },
  {
   "cell_type": "code",
   "execution_count": 12,
   "id": "206a66bb",
   "metadata": {},
   "outputs": [
    {
     "name": "stdout",
     "output_type": "stream",
     "text": [
      "cameron wheeler\n",
      "Hello, Cameron Wheeler!\n"
     ]
    }
   ],
   "source": [
    "first_name = \"cameron\"\n",
    "last_name = \"wheeler\"\n",
    "full_name = (f\"{first_name} {last_name}\")\n",
    "\n",
    "print(f'{first_name} {last_name}')\n",
    "print(f'Hello, {full_name.title()}!')"
   ]
  },
  {
   "cell_type": "code",
   "execution_count": 13,
   "id": "2ec81a2e",
   "metadata": {},
   "outputs": [
    {
     "name": "stdout",
     "output_type": "stream",
     "text": [
      "Tilda Lynda Mark Angus\n"
     ]
    }
   ],
   "source": [
    "dog = \"tilda\"\n",
    "mum = \"lynda\" \n",
    "dad = \"mark\" \n",
    "brother = \"angus\" \n",
    "family = (f'{dog} {mum} {dad} {brother}')\n",
    "\n",
    "print(family.title())"
   ]
  },
  {
   "cell_type": "markdown",
   "id": "9c9e6e48",
   "metadata": {},
   "source": [
    "> Here we are inserting varibles into a string using the f' string, this can be used on any kind of varible to insert it into a string we want to print out. "
   ]
  },
  {
   "cell_type": "code",
   "execution_count": 25,
   "id": "b62a6750",
   "metadata": {},
   "outputs": [
    {
     "name": "stdout",
     "output_type": "stream",
     "text": [
      "Python\n",
      "\tPython\n",
      "\n",
      "\n",
      "Languages\n",
      "Python\n",
      "C+\n",
      "\n",
      "\n",
      "Languages\n",
      "\tPython\n",
      "\tC+\n",
      "\tJavaScript\n"
     ]
    }
   ],
   "source": [
    "print(\"Python\")\n",
    "print(\"\\tPython\")\n",
    "\n",
    "print(\"\\n\")\n",
    "\n",
    "\n",
    "\n",
    "print(\"Languages\\nPython\\nC+\")\n",
    "\n",
    "print(\"\\n\")\n",
    "\n",
    "print(\"Languages\\n\\tPython\\n\\tC+\\n\\tJavaScript\")"
   ]
  },
  {
   "cell_type": "markdown",
   "id": "9efc692f",
   "metadata": {},
   "source": [
    "> Here we are using the \\t character combination to place indents into the text. \n",
    "> Character combination \\n creates a new line in the text, sort of like hitting enter :)"
   ]
  },
  {
   "cell_type": "code",
   "execution_count": 34,
   "id": "140b4d05",
   "metadata": {},
   "outputs": [
    {
     "name": "stdout",
     "output_type": "stream",
     "text": [
      "Python   \n",
      "Python\n"
     ]
    }
   ],
   "source": [
    "best_language = \"Python   \"\n",
    "print(best_language)\n",
    "best_language = best_language.strip()\n",
    "best_language\n",
    "print(best_language)\n",
    "\n"
   ]
  },
  {
   "cell_type": "markdown",
   "id": "824903a2",
   "metadata": {},
   "source": [
    "> using the method strip() removes the white space behind the string that we dont want, this is becuase although we dont see it as important, python will associate that white space as part of the variable. Using strip() removes the whitespace but only temporarily, to remove it permenantly, we have to assign the stripped verison to the variable itself. You can remove space from the left or the right using lstrip() or rstrip().\n",
    "\n",
    "\n",
    "> click next to the code to \"see the gap\""
   ]
  },
  {
   "cell_type": "markdown",
   "id": "2c917751",
   "metadata": {},
   "source": [
    "### Task"
   ]
  },
  {
   "cell_type": "code",
   "execution_count": 5,
   "id": "83bb5b01",
   "metadata": {},
   "outputs": [
    {
     "name": "stdout",
     "output_type": "stream",
     "text": [
      "Hello Eric\n"
     ]
    }
   ],
   "source": [
    "name = \"Eric\"\n",
    "\n",
    "print(f'Hello {name}')"
   ]
  },
  {
   "cell_type": "code",
   "execution_count": 10,
   "id": "91ea30bc",
   "metadata": {},
   "outputs": [
    {
     "name": "stdout",
     "output_type": "stream",
     "text": [
      "CAMERON\n",
      "cameron\n",
      "Cameron\n"
     ]
    }
   ],
   "source": [
    "name = \"Cameron\"\n",
    "\n",
    "print(f'{name.upper()}')\n",
    "print(f'{name.lower()}')\n",
    "print(f'{name.title()}')"
   ]
  },
  {
   "cell_type": "code",
   "execution_count": 16,
   "id": "67c9cf9a",
   "metadata": {},
   "outputs": [
    {
     "name": "stdout",
     "output_type": "stream",
     "text": [
      "Alan Turing once said \"sometimes it is the people no one can imagine anything of who do the things no one can imagine.\"\n"
     ]
    }
   ],
   "source": [
    "name = \"Alan Turing\"\n",
    "quote = '\"Sometimes it is the people no one can imagine anything of who do the things no one can imagine.\"'\n",
    "\n",
    "print(f'{name} once said {quote.lower()}')"
   ]
  },
  {
   "cell_type": "code",
   "execution_count": 27,
   "id": "bb7e53aa",
   "metadata": {},
   "outputs": [
    {
     "name": "stdout",
     "output_type": "stream",
     "text": [
      "Alan Turing once said \"sometimes it is the people no one can imagine anything of who do the things no one can imagine.\"\n"
     ]
    }
   ],
   "source": [
    "name = \"   Alan Turing  \"\n",
    "quote = '\"sometimes it is the people no one can imagine anything of who do the things no one can imagine.\"       '\n",
    "\n",
    "print(f'{name.strip()} once said {quote.strip()}')"
   ]
  },
  {
   "cell_type": "markdown",
   "id": "ce9a5a67",
   "metadata": {},
   "source": [
    "### Take Aways\n",
    "\n",
    "- To add strings into variables we use f' strings\n",
    "-  an /n and /t are used to add a new line and a tab respectively "
   ]
  },
  {
   "cell_type": "markdown",
   "id": "8e62618e",
   "metadata": {},
   "source": [
    "### Numbers"
   ]
  },
  {
   "cell_type": "markdown",
   "id": "5860e051",
   "metadata": {},
   "source": [
    "This is how python will handle integers, it also works similarly with floats. But sometimes it can be complicated when using floats, we will learn about this later on however. "
   ]
  },
  {
   "cell_type": "code",
   "execution_count": 3,
   "id": "46d1affb",
   "metadata": {},
   "outputs": [
    {
     "data": {
      "text/plain": [
       "2"
      ]
     },
     "execution_count": 3,
     "metadata": {},
     "output_type": "execute_result"
    }
   ],
   "source": [
    "1 + 1\n"
   ]
  },
  {
   "cell_type": "code",
   "execution_count": 4,
   "id": "cf273be3",
   "metadata": {},
   "outputs": [
    {
     "data": {
      "text/plain": [
       "4"
      ]
     },
     "execution_count": 4,
     "metadata": {},
     "output_type": "execute_result"
    }
   ],
   "source": [
    "2 * 2"
   ]
  },
  {
   "cell_type": "code",
   "execution_count": 5,
   "id": "4d784fac",
   "metadata": {},
   "outputs": [
    {
     "data": {
      "text/plain": [
       "3"
      ]
     },
     "execution_count": 5,
     "metadata": {},
     "output_type": "execute_result"
    }
   ],
   "source": [
    "5 - 2"
   ]
  },
  {
   "cell_type": "code",
   "execution_count": 6,
   "id": "500e375e",
   "metadata": {},
   "outputs": [
    {
     "data": {
      "text/plain": [
       "3.0"
      ]
     },
     "execution_count": 6,
     "metadata": {},
     "output_type": "execute_result"
    }
   ],
   "source": [
    "6 / 2"
   ]
  },
  {
   "cell_type": "markdown",
   "id": "67e32f58",
   "metadata": {},
   "source": [
    "> It is worth noting that when we divide we will always get a float back, or if you mix an integer with a float you will get a float back\n"
   ]
  },
  {
   "cell_type": "code",
   "execution_count": 9,
   "id": "e8dc2b5f",
   "metadata": {},
   "outputs": [
    {
     "data": {
      "text/plain": [
       "4.0"
      ]
     },
     "execution_count": 9,
     "metadata": {},
     "output_type": "execute_result"
    }
   ],
   "source": [
    "2.0 + 2"
   ]
  },
  {
   "cell_type": "code",
   "execution_count": 10,
   "id": "c619b197",
   "metadata": {},
   "outputs": [
    {
     "data": {
      "text/plain": [
       "4.0"
      ]
     },
     "execution_count": 10,
     "metadata": {},
     "output_type": "execute_result"
    }
   ],
   "source": [
    "2.0 * 2"
   ]
  },
  {
   "cell_type": "code",
   "execution_count": 11,
   "id": "dc3f09e9",
   "metadata": {},
   "outputs": [
    {
     "data": {
      "text/plain": [
       "1.0"
      ]
     },
     "execution_count": 11,
     "metadata": {},
     "output_type": "execute_result"
    }
   ],
   "source": [
    "4.0 - 3"
   ]
  },
  {
   "cell_type": "markdown",
   "id": "b549e282",
   "metadata": {},
   "source": [
    "> You can use underscores to make really large numbers more readable, this will not effect the code when printed, but when reading the code it could be. "
   ]
  },
  {
   "cell_type": "code",
   "execution_count": 12,
   "id": "3cd3d224",
   "metadata": {},
   "outputs": [
    {
     "name": "stdout",
     "output_type": "stream",
     "text": [
      "14000000\n"
     ]
    }
   ],
   "source": [
    "universe_age = 14_000_000\n",
    "\n",
    "print(universe_age)"
   ]
  },
  {
   "cell_type": "code",
   "execution_count": 14,
   "id": "2a4957ce",
   "metadata": {},
   "outputs": [
    {
     "name": "stdout",
     "output_type": "stream",
     "text": [
      "1000\n",
      "10\n",
      "1\n",
      "1000 10 1\n"
     ]
    }
   ],
   "source": [
    "x, y, z = 1000, 10, 1\n",
    "\n",
    "print(x)\n",
    "print(y)\n",
    "print(z)\n",
    "print(x, y, z)"
   ]
  },
  {
   "cell_type": "code",
   "execution_count": 17,
   "id": "b0dcee6f",
   "metadata": {},
   "outputs": [
    {
     "name": "stdout",
     "output_type": "stream",
     "text": [
      "Angus\n",
      "Lynda\n",
      "Mark\n",
      "Tilda\n",
      "Angus Lynda Mark Tilda\n"
     ]
    }
   ],
   "source": [
    "brother, mum, dad, dog = \"Angus\", \"Lynda\", \"Mark\", \"Tilda\"\n",
    "\n",
    "print(brother)\n",
    "print(mum)\n",
    "print(dad)\n",
    "print(dog)\n",
    "print(brother, mum, dad, dog)"
   ]
  },
  {
   "cell_type": "markdown",
   "id": "a17ec438",
   "metadata": {},
   "source": [
    "> We can assign multiple variables in the same line, this will help us make our code more understandable. Note we must seperate our variables and their values with commas (,) "
   ]
  },
  {
   "cell_type": "code",
   "execution_count": 19,
   "id": "71a5952d",
   "metadata": {},
   "outputs": [
    {
     "name": "stdout",
     "output_type": "stream",
     "text": [
      "33\n"
     ]
    }
   ],
   "source": [
    "CONSTANT = 33\n",
    "\n",
    "print(CONSTANT)"
   ]
  },
  {
   "cell_type": "markdown",
   "id": "24dc88e9",
   "metadata": {},
   "source": [
    "> When we make a constant varible (one that will not change throughout the code) we use capital letters. "
   ]
  },
  {
   "cell_type": "markdown",
   "id": "f96a2a9c",
   "metadata": {},
   "source": [
    "### Task"
   ]
  },
  {
   "cell_type": "code",
   "execution_count": 22,
   "id": "715b7cb0",
   "metadata": {},
   "outputs": [
    {
     "name": "stdout",
     "output_type": "stream",
     "text": [
      "8\n",
      "8\n",
      "8\n",
      "8.0\n"
     ]
    }
   ],
   "source": [
    "print(4 + 4)\n",
    "print(10 - 2)\n",
    "print(4 * 2)\n",
    "print(16 / 2)"
   ]
  },
  {
   "cell_type": "code",
   "execution_count": 23,
   "id": "92c23943",
   "metadata": {},
   "outputs": [
    {
     "name": "stdout",
     "output_type": "stream",
     "text": [
      "13\n"
     ]
    }
   ],
   "source": [
    "my_fav_number = 13\n",
    "\n",
    "# This is a comment  \n",
    "\n",
    "print(my_fav_number)"
   ]
  },
  {
   "cell_type": "markdown",
   "id": "81c00eed",
   "metadata": {},
   "source": [
    "### Take Aways"
   ]
  },
  {
   "cell_type": "markdown",
   "id": "2dbce595",
   "metadata": {},
   "source": [
    "- We can assign multiple variables in the same line, but we must include a comma \n",
    "- Underscores can be used to make numbers easier to read, and won't affect the code \n",
    "- Constant variables are defined with CAPITAL LETTERS"
   ]
  },
  {
   "cell_type": "markdown",
   "id": "4501c40f",
   "metadata": {},
   "source": [
    "### The Zen Of Python"
   ]
  },
  {
   "cell_type": "code",
   "execution_count": 1,
   "id": "c3620ccc",
   "metadata": {},
   "outputs": [
    {
     "name": "stdout",
     "output_type": "stream",
     "text": [
      "The Zen of Python, by Tim Peters\n",
      "\n",
      "Beautiful is better than ugly.\n",
      "Explicit is better than implicit.\n",
      "Simple is better than complex.\n",
      "Complex is better than complicated.\n",
      "Flat is better than nested.\n",
      "Sparse is better than dense.\n",
      "Readability counts.\n",
      "Special cases aren't special enough to break the rules.\n",
      "Although practicality beats purity.\n",
      "Errors should never pass silently.\n",
      "Unless explicitly silenced.\n",
      "In the face of ambiguity, refuse the temptation to guess.\n",
      "There should be one-- and preferably only one --obvious way to do it.\n",
      "Although that way may not be obvious at first unless you're Dutch.\n",
      "Now is better than never.\n",
      "Although never is often better than *right* now.\n",
      "If the implementation is hard to explain, it's a bad idea.\n",
      "If the implementation is easy to explain, it may be a good idea.\n",
      "Namespaces are one honking great idea -- let's do more of those!\n"
     ]
    }
   ],
   "source": [
    "import this\n"
   ]
  },
  {
   "cell_type": "markdown",
   "id": "eae9ed2a",
   "metadata": {},
   "source": [
    "# Chapter 3 Introducing Lists"
   ]
  },
  {
   "cell_type": "code",
   "execution_count": 5,
   "id": "c49e7ceb",
   "metadata": {},
   "outputs": [
    {
     "name": "stdout",
     "output_type": "stream",
     "text": [
      "['Apple', 'Microsoft', 'Dell', 'Razer']\n",
      "Apple\n",
      "Microsoft\n",
      "Razer\n"
     ]
    }
   ],
   "source": [
    "computer_companies = [\"Apple\", \"Microsoft\", \"Dell\", \"Razer\"]\n",
    "\n",
    "print(computer_companies)\n",
    "print(computer_companies[0])\n",
    "print(computer_companies[1])\n",
    "print(computer_companies[3])"
   ]
  },
  {
   "cell_type": "code",
   "execution_count": 10,
   "id": "ac6a0450",
   "metadata": {},
   "outputs": [
    {
     "name": "stdout",
     "output_type": "stream",
     "text": [
      "Apple\n",
      "Nvidia\n"
     ]
    }
   ],
   "source": [
    "computer_companies = [\"Apple\", \"Microsoft\", \"Dell\", \"Razer\", \"Nvidia\"]\n",
    "\n",
    "computer_companies[0].lower\n",
    "print(computer_companies[0].title())\n",
    "print(computer_companies[-1])"
   ]
  },
  {
   "cell_type": "markdown",
   "id": "506b10aa",
   "metadata": {},
   "source": [
    "> We can put anything in a list, not just numbers. We can print a whole list, but this isnt what we want to show the user. We can also print specific elements in the list. REMEBER it starts with 0. The position in a list in which an element is in is called and index.\n",
    "\n",
    "> We can edit elements using the lower and title methods like we used before\n",
    "\n",
    "> [-1] means the last element in the list, this is a special python syntax for acessing the last element in the list, this also works for [-2] and [-3] and so on. This is really helpful when acessing the last element in a list when we don't know how long the list will be.\n",
    "\n"
   ]
  },
  {
   "cell_type": "code",
   "execution_count": 3,
   "id": "ff4242a3",
   "metadata": {},
   "outputs": [
    {
     "name": "stdout",
     "output_type": "stream",
     "text": [
      "My first laptop from was Apple.\n"
     ]
    }
   ],
   "source": [
    "computer_companies = [\"Apple\", \"Microsoft\", \"Dell\", \"Razer\", \"Nvidia\"]\n",
    "\n",
    "message = (f'My first laptop from was {computer_companies[0]}.')\n",
    "\n",
    "print(message)"
   ]
  },
  {
   "cell_type": "markdown",
   "id": "f5a3cbd9",
   "metadata": {},
   "source": [
    "> We can use f strings with elements in a list just like we would any variable "
   ]
  },
  {
   "cell_type": "markdown",
   "id": "88033d3f",
   "metadata": {},
   "source": [
    "### Tasks\n",
    " "
   ]
  },
  {
   "cell_type": "code",
   "execution_count": 5,
   "id": "65ad9aef",
   "metadata": {},
   "outputs": [
    {
     "name": "stdout",
     "output_type": "stream",
     "text": [
      "Charlie\n",
      "Ben\n",
      "Tom\n",
      "Angus\n"
     ]
    }
   ],
   "source": [
    "friends = \"Charlie\", \"Ben\", \"Tom\", \"Angus\"\n",
    "\n",
    "print(friends[0])\n",
    "print(friends[1])\n",
    "print(friends[2])\n",
    "print(friends[3])\n"
   ]
  },
  {
   "cell_type": "code",
   "execution_count": 16,
   "id": "82f9f3d3",
   "metadata": {},
   "outputs": [
    {
     "name": "stdout",
     "output_type": "stream",
     "text": [
      "Hello Charlie this is my coding exercise and I am writing a message to you.\n"
     ]
    }
   ],
   "source": [
    "friends = \"Charlie\", \"Ben\", \"Tom\", \"Angus\"\n",
    "\n",
    "message = (f'Hello {friends[0]} this is my coding exercise and I am writing a message to you.')\n",
    "\n",
    "print(message)"
   ]
  },
  {
   "cell_type": "code",
   "execution_count": 19,
   "id": "cf10efab",
   "metadata": {},
   "outputs": [
    {
     "name": "stdout",
     "output_type": "stream",
     "text": [
      "I am looking to buy a new laptop, after some research I have decided I want a Apple laptop because it will work the best for me.\n"
     ]
    }
   ],
   "source": [
    "computer_companies = [\"Apple\", \"Microsoft\", \"Dell\", \"Razer\", \"Nvidia\"]\n",
    "\n",
    "what_to_buy = (f'I am looking to buy a new laptop, after some research I have decided I want a {computer_companies[0]} laptop because it will work the best for me.')\n",
    "\n",
    "print(what_to_buy)"
   ]
  },
  {
   "cell_type": "markdown",
   "id": "f8896c65",
   "metadata": {},
   "source": [
    "### Editing Elements In A List"
   ]
  },
  {
   "cell_type": "code",
   "execution_count": 20,
   "id": "24ad3152",
   "metadata": {},
   "outputs": [
    {
     "name": "stdout",
     "output_type": "stream",
     "text": [
      "['Apple', 'Microsoft', 'Dell', 'Razer', 'Nvidia']\n",
      "['Apple', 'Microsoft', 'AMD', 'Razer', 'Nvidia']\n"
     ]
    }
   ],
   "source": [
    "computer_companies = [\"Apple\", \"Microsoft\", \"Dell\", \"Razer\", \"Nvidia\"]\n",
    "print(computer_companies)\n",
    "\n",
    "computer_companies[2] = \"AMD\"\n",
    "print(computer_companies)"
   ]
  },
  {
   "cell_type": "markdown",
   "id": "064b7193",
   "metadata": {},
   "source": [
    "> Here we are assigning AMD over Dell as the 3rd element in the list, remeber that a list starts with 0. "
   ]
  },
  {
   "cell_type": "code",
   "execution_count": 21,
   "id": "19ed50b7",
   "metadata": {},
   "outputs": [
    {
     "name": "stdout",
     "output_type": "stream",
     "text": [
      "['Apple', 'Microsoft', 'Dell', 'Razer', 'Nvidia', 'AMD']\n"
     ]
    }
   ],
   "source": [
    "computer_companies = [\"Apple\", \"Microsoft\", \"Dell\", \"Razer\", \"Nvidia\"]\n",
    "\n",
    "computer_companies.append(\"AMD\")\n",
    "\n",
    "print(computer_companies)"
   ]
  },
  {
   "cell_type": "markdown",
   "id": "4396e064",
   "metadata": {},
   "source": [
    "> Here we are appeninding AMD to the end of the list, whenever we append an element to a list it will always be at the end no matter what. "
   ]
  },
  {
   "cell_type": "code",
   "execution_count": 22,
   "id": "ced64044",
   "metadata": {},
   "outputs": [
    {
     "name": "stdout",
     "output_type": "stream",
     "text": [
      "['Apple', 'Dell', 'AMD']\n"
     ]
    }
   ],
   "source": [
    "computer_companies = []\n",
    "\n",
    "computer_companies.append(\"Apple\")\n",
    "computer_companies.append(\"Dell\")\n",
    "computer_companies.append(\"AMD\")\n",
    "\n",
    "print(computer_companies)"
   ]
  },
  {
   "cell_type": "markdown",
   "id": "496d74ce",
   "metadata": {},
   "source": [
    "> We can append things to an empty list as well "
   ]
  },
  {
   "cell_type": "code",
   "execution_count": 24,
   "id": "ad8b28c8",
   "metadata": {},
   "outputs": [
    {
     "name": "stdout",
     "output_type": "stream",
     "text": [
      "['AMD', 'Apple', 'Microsoft', 'Dell', 'Razer', 'Nvidia']\n"
     ]
    }
   ],
   "source": [
    "computer_companies = [\"Apple\", \"Microsoft\", \"Dell\", \"Razer\", \"Nvidia\"]\n",
    "\n",
    "computer_companies.insert(0, \"AMD\")\n",
    "\n",
    "print(computer_companies)"
   ]
  },
  {
   "cell_type": "markdown",
   "id": "e13a996e",
   "metadata": {},
   "source": [
    "> Here we are using the 'insert' function to assign the element into a specific index in the list. "
   ]
  },
  {
   "cell_type": "code",
   "execution_count": 29,
   "id": "8e2356ee",
   "metadata": {},
   "outputs": [
    {
     "name": "stdout",
     "output_type": "stream",
     "text": [
      "['Apple', 'Dell', 'Razer']\n"
     ]
    }
   ],
   "source": [
    "computer_companies = [\"Apple\", \"Microsoft\", \"Dell\", \"Razer\", \"Nvidia\"]\n",
    "\n",
    "del computer_companies[1]\n",
    "\n",
    "# Now the list will shrink so we cannot use 4 to look for nivida, we can use [-1] or 3, as the end of the list will shrink to 3. \n",
    "\n",
    "del computer_companies[3]\n",
    "\n",
    "print(computer_companies)"
   ]
  },
  {
   "cell_type": "markdown",
   "id": "db6fa837",
   "metadata": {},
   "source": [
    "> Here we are using the del statement to remove a specific element from the list when we KNOW its index in the list.  We cannot do this if we do not know where the element is placed inside the list. Once we use the del statement, we can no longer work with it anymore, if we want to remove it from a list but still be able to work with it we must use the pop() function. "
   ]
  },
  {
   "cell_type": "code",
   "execution_count": 30,
   "id": "19efcd8f",
   "metadata": {},
   "outputs": [
    {
     "name": "stdout",
     "output_type": "stream",
     "text": [
      "['Apple', 'Microsoft', 'Dell', 'Razer']\n",
      "Nvidia\n"
     ]
    }
   ],
   "source": [
    "computer_companies = [\"Apple\", \"Microsoft\", \"Dell\", \"Razer\", \"Nvidia\"]\n",
    "\n",
    "popped_computers = computer_companies.pop()\n",
    "\n",
    "print(computer_companies)\n",
    "print(popped_computers)"
   ]
  },
  {
   "cell_type": "markdown",
   "id": "d7bdd7bf",
   "metadata": {},
   "source": [
    "> The pop() function removes the last element from a list, and allows us to work with it afterwards. "
   ]
  },
  {
   "cell_type": "code",
   "execution_count": 32,
   "id": "1db586a1",
   "metadata": {},
   "outputs": [
    {
     "name": "stdout",
     "output_type": "stream",
     "text": [
      "The first laptop I owned was an Apple laptop, I got it in 2015 but it broke so I now use an iPad.\n"
     ]
    }
   ],
   "source": [
    "computer_companies = [\"Microsoft\", \"Dell\", \"Razer\", \"Nvidia\", \"Apple\"]\n",
    "\n",
    "popped_computer_companies = (f'The first laptop I owned was an {computer_companies.pop()} laptop, I got it in 2015 but it broke so I now use an iPad.')\n",
    "\n",
    "print(popped_computer_companies)\n"
   ]
  },
  {
   "cell_type": "markdown",
   "id": "d69400d9",
   "metadata": {},
   "source": [
    "> Note that when we use pop() it removes the item from the list and places it in the first f string we use, so we cannot repeat it, I orignially used {computer_companies.pop()} before iPad, expecting \"Apple iPad\" but the code returned Nvidea iPad as it had popped Nvida and stuck it there becuase Apple had been used already. "
   ]
  },
  {
   "cell_type": "code",
   "execution_count": 1,
   "id": "fb0eba78",
   "metadata": {
    "scrolled": true
   },
   "outputs": [
    {
     "name": "stdout",
     "output_type": "stream",
     "text": [
      "['Apple', 'Dell', 'Razer', 'Nvidia']\n",
      "Microsoft\n"
     ]
    }
   ],
   "source": [
    "computer_companies = [\"Apple\", \"Microsoft\", \"Dell\", \"Razer\", \"Nvidia\"]\n",
    "\n",
    "computer_companies_pop = computer_companies.pop(1)\n",
    "\n",
    "print(computer_companies)\n",
    "print(computer_companies_pop)"
   ]
  },
  {
   "cell_type": "markdown",
   "id": "6c0b71eb",
   "metadata": {},
   "source": [
    "> We can use pop() and insert the index of the element in the list, again we must know the position, like del"
   ]
  },
  {
   "cell_type": "code",
   "execution_count": 5,
   "id": "3bbf5731",
   "metadata": {},
   "outputs": [
    {
     "name": "stdout",
     "output_type": "stream",
     "text": [
      "I have decided to remove Razer from the list of choices, as they are primarily used for gaming\n",
      "Here is the list of laptops I can buy from for univeristy ['Apple', 'Microsoft', 'Dell', 'Nvidia']\n"
     ]
    }
   ],
   "source": [
    "computer_companies = [\"Apple\", \"Microsoft\", \"Dell\", \"Razer\", \"Nvidia\"]\n",
    "gaming_laptop = \"Razer\"\n",
    "\n",
    "computer_companies.remove(gaming_laptop)\n",
    "\n",
    "print(f'I have decided to remove {gaming_laptop} from the list of choices, as they are primarily used for gaming')\n",
    "print(f'Here is the list of laptops I can buy from for univeristy {computer_companies}')"
   ]
  },
  {
   "cell_type": "markdown",
   "id": "edf453e7",
   "metadata": {},
   "source": [
    "> We can use the remove() function to delete an element from the list when we don't know where it is positioned. Like pop() we can work with the element after we have removed it.\n",
    "\n",
    "> So we have delete, pop and remove. All take items from a list, del gets rid of it, pop and remove store it for it to be used after."
   ]
  },
  {
   "cell_type": "markdown",
   "id": "d0dce05b",
   "metadata": {},
   "source": [
    "### Tasks"
   ]
  },
  {
   "cell_type": "code",
   "execution_count": 8,
   "id": "301f596d",
   "metadata": {},
   "outputs": [
    {
     "name": "stdout",
     "output_type": "stream",
     "text": [
      " Hello Alan I would like to invite you to dinner.\n",
      " Hello Elon I would like to invite you to dinner.\n",
      " Hello Dennis I would like to invite you to dinner.\n"
     ]
    }
   ],
   "source": [
    "dinner_invite = [\"Alan\", \"Elon\", \"Dennis\"]\n",
    "\n",
    "invitation1 = (f' Hello {dinner_invite[0]} I would like to invite you to dinner.')\n",
    "invitation2 = (f' Hello {dinner_invite[1]} I would like to invite you to dinner.')\n",
    "invitation3 = (f' Hello {dinner_invite[2]} I would like to invite you to dinner.')\n",
    "\n",
    "print(invitation1)\n",
    "print(invitation2)\n",
    "print(invitation3)"
   ]
  },
  {
   "cell_type": "code",
   "execution_count": 11,
   "id": "764b6745",
   "metadata": {},
   "outputs": [
    {
     "name": "stdout",
     "output_type": "stream",
     "text": [
      "['Alan', 'Dennis', 'Steve']\n",
      " Hello Alan I would like to invite you to dinner.\n",
      " Hello Dennis I would like to invite you to dinner.\n",
      " Hello Steve I would like to invite you to dinner.\n"
     ]
    }
   ],
   "source": [
    "dinner_invite = [\"Alan\", \"Elon\", \"Dennis\"]\n",
    "\n",
    "# Elon has said he can not make it!\n",
    "\n",
    "cannot_come = dinner_invite.pop(1)\n",
    "\n",
    "dinner_invite.append(\"Steve\")\n",
    "\n",
    "# We shall invite Steve Jobs instead \n",
    "\n",
    "print(dinner_invite)\n",
    "\n",
    "invitation1 = (f' Hello {dinner_invite[0]} I would like to invite you to dinner.')\n",
    "invitation2 = (f' Hello {dinner_invite[1]} I would like to invite you to dinner.')\n",
    "invitation3 = (f' Hello {dinner_invite[2]} I would like to invite you to dinner.')\n",
    "\n",
    "print(invitation1)\n",
    "print(invitation2)\n",
    "print(invitation3)\n",
    "\n",
    "\n"
   ]
  },
  {
   "cell_type": "code",
   "execution_count": 16,
   "id": "17edb5df",
   "metadata": {},
   "outputs": [
    {
     "name": "stdout",
     "output_type": "stream",
     "text": [
      "['Tim', 'Alan', 'McGowan', 'Elon', 'Dennis', 'Padders']\n",
      " Hello Tim I would like to invite you to dinner.\n",
      " Hello Alan I would like to invite you to dinner.\n",
      " Hello McGowan I would like to invite you to dinner.\n",
      " Hello Elon I would like to invite you to dinner.\n",
      " Hello Dennis I would like to invite you to dinner.\n",
      " Hello Padders I would like to invite you to dinner.\n"
     ]
    }
   ],
   "source": [
    "dinner_invite = [\"Alan\", \"Elon\", \"Dennis\"]\n",
    "\n",
    "# We have found a bigger table, so we can add more people to our invite list. \n",
    "\n",
    "dinner_invite.insert(0, \"Tim\")\n",
    "# Inserting a new invite at the start of the list \n",
    "\n",
    "dinner_invite.insert(2, \"McGowan\")\n",
    "dinner_invite.append(\"Padders\")\n",
    "\n",
    "print(dinner_invite)\n",
    "\n",
    "invitation1 = (f' Hello {dinner_invite[0]} I would like to invite you to dinner.')\n",
    "invitation2 = (f' Hello {dinner_invite[1]} I would like to invite you to dinner.')\n",
    "invitation3 = (f' Hello {dinner_invite[2]} I would like to invite you to dinner.')\n",
    "invitation4 = (f' Hello {dinner_invite[3]} I would like to invite you to dinner.')\n",
    "invitation5 = (f' Hello {dinner_invite[4]} I would like to invite you to dinner.')\n",
    "invitation6 = (f' Hello {dinner_invite[5]} I would like to invite you to dinner.')\n",
    "\n",
    "\n",
    "print(invitation1)\n",
    "print(invitation2)\n",
    "print(invitation3)\n",
    "print(invitation4)\n",
    "print(invitation5)\n",
    "print(invitation6)"
   ]
  },
  {
   "cell_type": "code",
   "execution_count": 43,
   "id": "13f87eee",
   "metadata": {},
   "outputs": [
    {
     "name": "stdout",
     "output_type": "stream",
     "text": [
      "Sorry Alan, but we have run out of space, I will see you another time.\n",
      "Sorry Elon, but we have run out of space, I will see you another time.\n",
      "Sorry Padders, but we have run out of space, I will see you another time.\n",
      "Hello Tim see you at 8\n",
      "Hello McGowan see you at 8\n",
      "Hello Dennis see you at 8\n",
      "[]\n"
     ]
    }
   ],
   "source": [
    "dinner_invite = ['Tim', 'Alan', 'McGowan', 'Elon', 'Dennis', 'Padders']\n",
    "removed_invite1 = dinner_invite.pop(1)\n",
    "removed_invite2 = dinner_invite.pop(2)\n",
    "removed_invite3 = dinner_invite.pop()\n",
    "# No number as its the last element in the list\n",
    "\n",
    "# We now only have space for 2, so need to remove people\n",
    "\n",
    "print(f'Sorry {removed_invite1}, but we have run out of space, I will see you another time.')\n",
    "print(f'Sorry {removed_invite2}, but we have run out of space, I will see you another time.')\n",
    "print(f'Sorry {removed_invite3}, but we have run out of space, I will see you another time.')\n",
    "\n",
    "print(f'Hello {dinner_invite[0]} see you at 8')\n",
    "print(f'Hello {dinner_invite[1]} see you at 8')\n",
    "print(f'Hello {dinner_invite[2]} see you at 8')\n",
    "\n",
    "\n",
    "del dinner_invite[0]\n",
    "del dinner_invite[0]\n",
    "del dinner_invite[0]\n",
    "# del is a function so there is no _ or . just a space\n",
    "\n",
    "# Proving the list is empty\n",
    "print(dinner_invite)"
   ]
  },
  {
   "cell_type": "markdown",
   "id": "086d485e",
   "metadata": {},
   "source": [
    "### Organising A List"
   ]
  },
  {
   "cell_type": "code",
   "execution_count": 2,
   "id": "0451037f",
   "metadata": {},
   "outputs": [
    {
     "name": "stdout",
     "output_type": "stream",
     "text": [
      "['audi', 'bmw', 'dodge', 'ford', 'tesla']\n"
     ]
    }
   ],
   "source": [
    "cars = [\"tesla\", \"bmw\", \"audi\", \"ford\", \"dodge\"]\n",
    "\n",
    "cars.sort()\n",
    "\n",
    "print(cars)"
   ]
  },
  {
   "cell_type": "markdown",
   "id": "a7942d33",
   "metadata": {},
   "source": [
    "> Here we are using the sort() method, this allows us to sort the list alphabetically, this will be permanent so we cannot go back to the original list. Note that all the letters are in lower case."
   ]
  },
  {
   "cell_type": "code",
   "execution_count": 3,
   "id": "fb4cb25f",
   "metadata": {},
   "outputs": [
    {
     "name": "stdout",
     "output_type": "stream",
     "text": [
      "['tesla', 'ford', 'dodge', 'bmw', 'audi']\n"
     ]
    }
   ],
   "source": [
    "cars = [\"tesla\", \"bmw\", \"audi\", \"ford\", \"dodge\"]\n",
    "\n",
    "cars.sort(reverse=True)\n",
    "\n",
    "print(cars)"
   ]
  },
  {
   "cell_type": "markdown",
   "id": "ac9387fb",
   "metadata": {},
   "source": [
    "> We have set reverse to be True, in the parenthesis of the function, again this is a permanent change, so we cannot go back to the list we had before. "
   ]
  },
  {
   "cell_type": "code",
   "execution_count": 8,
   "id": "31f69ad2",
   "metadata": {},
   "outputs": [
    {
     "name": "stdout",
     "output_type": "stream",
     "text": [
      "['tesla', 'bmw', 'audi', 'ford', 'dodge']\n",
      "['audi', 'bmw', 'dodge', 'ford', 'tesla']\n",
      "['tesla', 'ford', 'dodge', 'bmw', 'audi']\n",
      "['tesla', 'bmw', 'audi', 'ford', 'dodge']\n"
     ]
    }
   ],
   "source": [
    "cars = [\"tesla\", \"bmw\", \"audi\", \"ford\", \"dodge\"]\n",
    "\n",
    "print(cars)\n",
    "# Original List\n",
    "\n",
    "print(sorted(cars))\n",
    "# Using the sorted() function\n",
    "\n",
    "print(sorted(cars, reverse=True))\n",
    "# Using the reverse=True argument in the sorted function, like the sort function.\n",
    "\n",
    "print(cars)"
   ]
  },
  {
   "cell_type": "markdown",
   "id": "48e817c1",
   "metadata": {},
   "source": [
    "> Here we use the sorted() method, this method is a way of \"presenting\" the data of the list to the user in an organised list, but it holds the original as displayed on the code above. Sorted() also accepts the reverse=True argument in which we have the variable first, then we place the reverse arugment after, seperated by a comma.\n",
    "\n",
    "> Note the sort() and the sorted() function are very similar, so make sure we know one is permanent, the other isn't."
   ]
  },
  {
   "cell_type": "code",
   "execution_count": 12,
   "id": "8abb65b7",
   "metadata": {},
   "outputs": [
    {
     "name": "stdout",
     "output_type": "stream",
     "text": [
      "['tesla', 'bmw', 'audi', 'ford', 'dodge']\n",
      "['dodge', 'ford', 'audi', 'bmw', 'tesla']\n"
     ]
    }
   ],
   "source": [
    "cars = [\"tesla\", \"bmw\", \"audi\", \"ford\", \"dodge\"]\n",
    "\n",
    "print(cars)\n",
    "\n",
    "cars.reverse()\n",
    "# Reversing the list, this is not alphabetical, just a switch around and in PERMANENT\n",
    "print(cars)"
   ]
  },
  {
   "cell_type": "markdown",
   "id": "b97973c6",
   "metadata": {},
   "source": [
    "> We are using the reverse function to swap the list round, reverse() is a permenant change, but we can always change it back by hitting it with another reverse function again. "
   ]
  },
  {
   "cell_type": "code",
   "execution_count": 13,
   "id": "79204239",
   "metadata": {},
   "outputs": [
    {
     "data": {
      "text/plain": [
       "5"
      ]
     },
     "execution_count": 13,
     "metadata": {},
     "output_type": "execute_result"
    }
   ],
   "source": [
    "cars = [\"tesla\", \"bmw\", \"audi\", \"ford\", \"dodge\"]\n",
    "\n",
    "len(cars)\n"
   ]
  },
  {
   "cell_type": "markdown",
   "id": "c07a68a7",
   "metadata": {},
   "source": [
    "> Here the len() function allows us to find the length of the list, this is handy when looking at how much data we need to manage and visualise, or figuring out the number of users on a website"
   ]
  },
  {
   "cell_type": "markdown",
   "id": "ffd0f082",
   "metadata": {},
   "source": [
    "### Tasks"
   ]
  },
  {
   "cell_type": "code",
   "execution_count": 29,
   "id": "faa6105c",
   "metadata": {},
   "outputs": [
    {
     "name": "stdout",
     "output_type": "stream",
     "text": [
      "['switzerland', 'usa', 'canada', 'australia', 'japan']\n",
      "['australia', 'canada', 'japan', 'switzerland', 'usa']\n",
      "['usa', 'switzerland', 'japan', 'canada', 'australia']\n",
      "['switzerland', 'usa', 'canada', 'australia', 'japan']\n",
      "['japan', 'australia', 'canada', 'usa', 'switzerland']\n",
      "['switzerland', 'usa', 'canada', 'australia', 'japan']\n",
      "['australia', 'canada', 'japan', 'switzerland', 'usa']\n",
      "['usa', 'switzerland', 'japan', 'canada', 'australia']\n"
     ]
    }
   ],
   "source": [
    "places_to_visit = [\"switzerland\", \"usa\", \"canada\", \"australia\", \"japan\"]\n",
    "\n",
    "print(places_to_visit)\n",
    "# Printing original list\n",
    "\n",
    "print(sorted(places_to_visit))\n",
    "# Displaying the list alphabetically\n",
    "\n",
    "print(sorted(places_to_visit, reverse=True))\n",
    "# Reversing the display of the list \n",
    "\n",
    "print(places_to_visit)\n",
    "# Showing the original order of the list is still intact\n",
    "\n",
    "places_to_visit.reverse()\n",
    "print(places_to_visit)\n",
    "# Reversing the list, altering it permenantly\n",
    "\n",
    "places_to_visit.reverse()\n",
    "print(places_to_visit)\n",
    "# Swapping the list back to the original order\n",
    "\n",
    "places_to_visit.sort()\n",
    "print(places_to_visit)\n",
    "# Using the sort function to change the order of the list\n",
    "\n",
    "places_to_visit.sort(reverse=True)\n",
    "print(places_to_visit)\n",
    "# Reversing argument on the sort function\n"
   ]
  },
  {
   "cell_type": "code",
   "execution_count": 30,
   "id": "ee9495e2",
   "metadata": {},
   "outputs": [
    {
     "data": {
      "text/plain": [
       "6"
      ]
     },
     "execution_count": 30,
     "metadata": {},
     "output_type": "execute_result"
    }
   ],
   "source": [
    "dinner_invite = ['Tim', 'Alan', 'McGowan', 'Elon', 'Dennis', 'Padders']\n",
    "\n",
    "len(dinner_invite)\n",
    "# Getting the length of the list "
   ]
  },
  {
   "cell_type": "code",
   "execution_count": 2,
   "id": "ed0d2027",
   "metadata": {},
   "outputs": [
    {
     "name": "stdout",
     "output_type": "stream",
     "text": [
      "7\n",
      "['apple', 'dell', 'razor', 'hp', 'microsoft', 'google', 'philips']\n",
      "['apple', 'dell', 'google', 'hp', 'microsoft', 'philips', 'razor']\n",
      "['razor', 'philips', 'microsoft', 'hp', 'google', 'dell', 'apple']\n",
      "['apple', 'dell', 'razor', 'hp', 'microsoft', 'google', 'philips']\n",
      "['philips', 'google', 'microsoft', 'hp', 'razor', 'dell', 'apple']\n",
      "['apple', 'dell', 'razor', 'hp', 'microsoft', 'google', 'philips']\n",
      "['apple', 'dell', 'google', 'hp', 'microsoft', 'philips', 'razor']\n"
     ]
    }
   ],
   "source": [
    "tech_companies = [\"apple\", \"dell\", \"razor\", \"hp\", \"microsoft\", \"google\", \"philips\"]\n",
    "\n",
    "print(len(tech_companies))\n",
    "# Length of the list\n",
    "\n",
    "print(tech_companies)\n",
    "# Original List\n",
    "\n",
    "print(sorted(tech_companies))\n",
    "print(sorted(tech_companies, reverse=True))\n",
    "# Sorted() function, and Sorted(reverse)\n",
    "print(tech_companies)\n",
    "# Proof of original list \n",
    "\n",
    "tech_companies.reverse()\n",
    "print(tech_companies)\n",
    "tech_companies.reverse()\n",
    "print(tech_companies)\n",
    "# Reversing actual list, then reverting it back to original \n",
    "\n",
    "tech_companies.sort()\n",
    "print(tech_companies)\n",
    "# Sorting original list \n",
    "\n",
    "\n"
   ]
  },
  {
   "cell_type": "markdown",
   "id": "27f6cce0",
   "metadata": {},
   "source": [
    "### Take Aways\n",
    "\n",
    "- Lists can be altered using several functions \n",
    "- Sort() function alters permenantly \n",
    "- Reverse() function alters permenatly \n",
    "- Sorted() is a display to the user and doesnt alter the original list \n",
    "- Sorted() also can accept the reverse arugment, again it does not alter the original list\n",
    "- Len() shows us the length of the list where we are storing information"
   ]
  },
  {
   "cell_type": "markdown",
   "id": "fb674cb2",
   "metadata": {},
   "source": [
    "### Avoiding Errors While Working With Lists"
   ]
  },
  {
   "cell_type": "code",
   "execution_count": 2,
   "id": "a56b86e3",
   "metadata": {},
   "outputs": [
    {
     "ename": "IndexError",
     "evalue": "list index out of range",
     "output_type": "error",
     "traceback": [
      "\u001b[1;31m---------------------------------------------------------------------------\u001b[0m",
      "\u001b[1;31mIndexError\u001b[0m                                Traceback (most recent call last)",
      "Input \u001b[1;32mIn [2]\u001b[0m, in \u001b[0;36m<module>\u001b[1;34m\u001b[0m\n\u001b[0;32m      1\u001b[0m computer_companies \u001b[38;5;241m=\u001b[39m [\u001b[38;5;124m\"\u001b[39m\u001b[38;5;124mApple\u001b[39m\u001b[38;5;124m\"\u001b[39m, \u001b[38;5;124m\"\u001b[39m\u001b[38;5;124mMicrosoft\u001b[39m\u001b[38;5;124m\"\u001b[39m, \u001b[38;5;124m\"\u001b[39m\u001b[38;5;124mDell\u001b[39m\u001b[38;5;124m\"\u001b[39m, \u001b[38;5;124m\"\u001b[39m\u001b[38;5;124mRazer\u001b[39m\u001b[38;5;124m\"\u001b[39m, \u001b[38;5;124m\"\u001b[39m\u001b[38;5;124mNvidia\u001b[39m\u001b[38;5;124m\"\u001b[39m]\n\u001b[1;32m----> 3\u001b[0m \u001b[38;5;28mprint\u001b[39m(\u001b[43mcomputer_companies\u001b[49m\u001b[43m[\u001b[49m\u001b[38;5;241;43m5\u001b[39;49m\u001b[43m]\u001b[49m)\n",
      "\u001b[1;31mIndexError\u001b[0m: list index out of range"
     ]
    }
   ],
   "source": [
    "computer_companies = [\"Apple\", \"Microsoft\", \"Dell\", \"Razer\", \"Nvidia\"]\n",
    "\n",
    "print(computer_companies[5])"
   ]
  },
  {
   "cell_type": "markdown",
   "id": "aabff50c",
   "metadata": {},
   "source": [
    "> One of the most common errors when working with lists in and \"index error\", this is when we ask Python to find an index in a list that it not there. In the example above, we have asked Python to look for index 5, but there is no index 5. This is an \"off by one error\" that the book has been talking about. \n",
    "\n",
    "> If we run into Index errors we cannot seem the fix, try printing the list off, it might look different to what we think it looks like."
   ]
  },
  {
   "cell_type": "code",
   "execution_count": 3,
   "id": "ae62311b",
   "metadata": {},
   "outputs": [
    {
     "name": "stdout",
     "output_type": "stream",
     "text": [
      "Nvidia\n"
     ]
    }
   ],
   "source": [
    "computer_companies = [\"Apple\", \"Microsoft\", \"Dell\", \"Razer\", \"Nvidia\"]\n",
    "\n",
    "print(computer_companies[-1])"
   ]
  },
  {
   "cell_type": "markdown",
   "id": "36e1a6e1",
   "metadata": {},
   "source": [
    "> Instead we can use \"[-1]\" to acess the last element in the list no matter what size it is. "
   ]
  },
  {
   "cell_type": "markdown",
   "id": "d7a1f8d6",
   "metadata": {},
   "source": [
    "### Take Aways\n",
    "\n",
    "- Index errors often occur with lists \n",
    "- It is ususally because of the \"off by one\" rule \n",
    "- When we can't fix it, try printing the list off, as we might not know our list like we think we do"
   ]
  },
  {
   "cell_type": "markdown",
   "id": "9f876423",
   "metadata": {},
   "source": [
    "# Working With Lists "
   ]
  },
  {
   "cell_type": "markdown",
   "id": "a3c89651",
   "metadata": {},
   "source": [
    "### For Loops"
   ]
  },
  {
   "cell_type": "code",
   "execution_count": 1,
   "id": "ee0125d4",
   "metadata": {},
   "outputs": [
    {
     "name": "stdout",
     "output_type": "stream",
     "text": [
      "apple\n",
      "dell\n",
      "razor\n",
      "hp\n",
      "microsoft\n",
      "google\n",
      "philips\n"
     ]
    }
   ],
   "source": [
    "tech_companies = [\"apple\", \"dell\", \"razor\", \"hp\", \"microsoft\", \"google\", \"philips\"]\n",
    "\n",
    "for company in tech_companies:\n",
    "    print(company)"
   ]
  },
  {
   "cell_type": "markdown",
   "id": "49b33fab",
   "metadata": {},
   "source": [
    "> For each of the element in the list, python runs through the list and for every company, it enters the loop and prints off the company "
   ]
  },
  {
   "cell_type": "markdown",
   "id": "a45b8127",
   "metadata": {},
   "source": [
    "tech_companies = [\"apple\", \"dell\", \"razor\", \"hp\", \"windows\", \"google\", \"philips\"]\n",
    "\n",
    "for company in tech_companies:\n",
    "This tells python to go into the list tech_companies and assign the first element to the variable company, python then reads the next line.\n",
    "\n",
    "print(company)\n",
    "This tells pythong to print the variable assigned to company, on the first run this will be \"apple\"\n",
    "Python, then goes into the list again and gets the second element \"dell\", and assigns that to the variable company then executes the line print(company)\n",
    "\n",
    "when all the elements in the list have been printed, python has gone back and checked to see if there is another element, it finds nothing so it will move onto the next line of code. Since there is nothing after this code, the cell will terminate\n",
    "\n"
   ]
  },
  {
   "cell_type": "code",
   "execution_count": 16,
   "id": "77afe974",
   "metadata": {},
   "outputs": [
    {
     "name": "stdout",
     "output_type": "stream",
     "text": [
      "Apple is a tech company that makes many products\n",
      " I look forward to seeing where Apple takes their products \n",
      "\n",
      "Dell is a tech company that makes many products\n",
      " I look forward to seeing where Dell takes their products \n",
      "\n",
      "Razor is a tech company that makes many products\n",
      " I look forward to seeing where Razor takes their products \n",
      "\n",
      "Hp is a tech company that makes many products\n",
      " I look forward to seeing where Hp takes their products \n",
      "\n"
     ]
    }
   ],
   "source": [
    "tech_companies = [\"apple\", \"dell\", \"razor\", \"hp\"]\n",
    "\n",
    "for company in tech_companies:\n",
    "    print(f'{company.title()} is a tech company that makes many products')\n",
    "    print(f' I look forward to seeing where {company.title()} takes their products \\n')"
   ]
  },
  {
   "cell_type": "markdown",
   "id": "3f1ddca3",
   "metadata": {},
   "source": [
    "> Every indent after the for loop will be run once each loop. It is also worth noting the inclusion of (\\n) to create new lines in the code"
   ]
  },
  {
   "cell_type": "markdown",
   "id": "ce09f82f",
   "metadata": {},
   "source": [
    "### > REMEBER if our code is not working out like we want it to, ensure we have : or () in the correct places. A common error of mine is that I forget to add : or () which means the code usually bugs."
   ]
  },
  {
   "cell_type": "code",
   "execution_count": 17,
   "id": "06616042",
   "metadata": {},
   "outputs": [
    {
     "name": "stdout",
     "output_type": "stream",
     "text": [
      "Apple is a tech company that makes many products\n",
      " I look forward to seeing where Apple takes their products \n",
      "\n",
      "Dell is a tech company that makes many products\n",
      " I look forward to seeing where Dell takes their products \n",
      "\n",
      "Razor is a tech company that makes many products\n",
      " I look forward to seeing where Razor takes their products \n",
      "\n",
      "Hp is a tech company that makes many products\n",
      " I look forward to seeing where Hp takes their products \n",
      "\n",
      "Although it must be said, I am most excited for Apple's products the most\n"
     ]
    }
   ],
   "source": [
    "tech_companies = [\"apple\", \"dell\", \"razor\", \"hp\"]\n",
    "\n",
    "for company in tech_companies:\n",
    "    print(f'{company.title()} is a tech company that makes many products')\n",
    "    print(f' I look forward to seeing where {company.title()} takes their products \\n')\n",
    "    \n",
    "print(\"Although it must be said, I am most excited for Apple's products the most\")"
   ]
  },
  {
   "cell_type": "markdown",
   "id": "24e2ca3f",
   "metadata": {},
   "source": [
    "> Once the for loop is finishing running, it runs the next line of code which is usually a summarization of the code we have been running. This will only be printed or used once as it is outside the for loop (look at the indentation in the code cell)"
   ]
  },
  {
   "cell_type": "markdown",
   "id": "b833a408",
   "metadata": {},
   "source": [
    "### Avoiding Indentation Errors "
   ]
  },
  {
   "cell_type": "code",
   "execution_count": 4,
   "id": "f53d26ac",
   "metadata": {},
   "outputs": [
    {
     "ename": "IndentationError",
     "evalue": "expected an indented block (4159255110.py, line 4)",
     "output_type": "error",
     "traceback": [
      "\u001b[1;36m  Input \u001b[1;32mIn [4]\u001b[1;36m\u001b[0m\n\u001b[1;33m    print(company)\u001b[0m\n\u001b[1;37m    ^\u001b[0m\n\u001b[1;31mIndentationError\u001b[0m\u001b[1;31m:\u001b[0m expected an indented block\n"
     ]
    }
   ],
   "source": [
    "tech_companies = \"apple\", \"dell\", \"microsoft\"\n",
    "\n",
    "for company in tech_companies:\n",
    "print(company)"
   ]
  },
  {
   "cell_type": "markdown",
   "id": "52902dc8",
   "metadata": {},
   "source": [
    "> Python is expecting an indentation, when it doesn't get one it will throw an indendation error."
   ]
  },
  {
   "cell_type": "code",
   "execution_count": 6,
   "id": "eb29c89b",
   "metadata": {},
   "outputs": [
    {
     "name": "stdout",
     "output_type": "stream",
     "text": [
      "Apple makes some good products\n",
      "Dell makes some good products\n",
      "Microsoft makes some good products\n",
      "I think I am going to buy a product from Microsoft\n"
     ]
    }
   ],
   "source": [
    "tech_companies = \"apple\", \"dell\", \"microsoft\"\n",
    "\n",
    "for company in tech_companies:\n",
    "    print(f'{company.title()} makes some good products')\n",
    "print(f'I think I am going to buy a product from {company.title()}')"
   ]
  },
  {
   "cell_type": "markdown",
   "id": "7fa816d6",
   "metadata": {},
   "source": [
    "> Sometimes the code will run, but not in the way we want it to. This code isn't running the way we want it to because the second line is not indented. So it is only run once with the varible comopany which at that time will be Microsoft. This is called an \"logical error\", meaning our code isn't running the way we want it too, but it's not throwing an error. When our code is not running in a way we want it too, but it's still running, it's worth checking if all our indentations are correct."
   ]
  },
  {
   "cell_type": "code",
   "execution_count": 11,
   "id": "e2cf16d4",
   "metadata": {},
   "outputs": [
    {
     "name": "stdout",
     "output_type": "stream",
     "text": [
      "Apple makes some good products\n",
      "I think I am going to buy a product from Apple\n",
      "\n",
      "Dell makes some good products\n",
      "I think I am going to buy a product from Dell\n",
      "\n",
      "Microsoft makes some good products\n",
      "I think I am going to buy a product from Microsoft\n",
      "\n"
     ]
    }
   ],
   "source": [
    "tech_companies = \"apple\", \"dell\", \"microsoft\"\n",
    "\n",
    "for company in tech_companies:\n",
    "    print(f'{company.title()} makes some good products')\n",
    "    print(f'I think I am going to buy a product from {company.title()}\\n')"
   ]
  },
  {
   "cell_type": "markdown",
   "id": "2be0fca2",
   "metadata": {},
   "source": [
    "> Here is the code running correctly "
   ]
  },
  {
   "cell_type": "code",
   "execution_count": 8,
   "id": "d5b1d936",
   "metadata": {},
   "outputs": [
    {
     "ename": "IndentationError",
     "evalue": "unexpected indent (3009684490.py, line 2)",
     "output_type": "error",
     "traceback": [
      "\u001b[1;36m  Input \u001b[1;32mIn [8]\u001b[1;36m\u001b[0m\n\u001b[1;33m    print(fav_company)\u001b[0m\n\u001b[1;37m    ^\u001b[0m\n\u001b[1;31mIndentationError\u001b[0m\u001b[1;31m:\u001b[0m unexpected indent\n"
     ]
    }
   ],
   "source": [
    "fav_company = \"Apple\"\n",
    "    print(fav_company)"
   ]
  },
  {
   "cell_type": "markdown",
   "id": "71a271cd",
   "metadata": {},
   "source": [
    "> Here python isn't expecting an indentation but we have given it one. So we get another indentation error with unexpected indent. "
   ]
  },
  {
   "cell_type": "code",
   "execution_count": 10,
   "id": "144d66a7",
   "metadata": {},
   "outputs": [
    {
     "name": "stdout",
     "output_type": "stream",
     "text": [
      "Apple makes some good products\n",
      "I think I am going to buy a product from Apple\n",
      "\n",
      "This is proof that an indentation is causing this text to be printed\n",
      "Dell makes some good products\n",
      "I think I am going to buy a product from Dell\n",
      "\n",
      "This is proof that an indentation is causing this text to be printed\n",
      "Microsoft makes some good products\n",
      "I think I am going to buy a product from Microsoft\n",
      "\n",
      "This is proof that an indentation is causing this text to be printed\n"
     ]
    }
   ],
   "source": [
    "tech_companies = \"apple\", \"dell\", \"microsoft\"\n",
    "\n",
    "for company in tech_companies:\n",
    "    print(f'{company.title()} makes some good products')\n",
    "    print(f'I think I am going to buy a product from {company.title()}\\n')\n",
    "\n",
    "\n",
    "    \n",
    "    print('This is proof that an indentation is causing this text to be printed')"
   ]
  },
  {
   "cell_type": "markdown",
   "id": "54a45122",
   "metadata": {},
   "source": [
    "> Here we have an indentation where it's not meant to be, but it throws a logical error so the code runs, just not like we want it to........."
   ]
  },
  {
   "cell_type": "code",
   "execution_count": 12,
   "id": "0a231333",
   "metadata": {},
   "outputs": [
    {
     "ename": "SyntaxError",
     "evalue": "invalid syntax (2526624363.py, line 3)",
     "output_type": "error",
     "traceback": [
      "\u001b[1;36m  Input \u001b[1;32mIn [12]\u001b[1;36m\u001b[0m\n\u001b[1;33m    for company in tech_companies\u001b[0m\n\u001b[1;37m                                 ^\u001b[0m\n\u001b[1;31mSyntaxError\u001b[0m\u001b[1;31m:\u001b[0m invalid syntax\n"
     ]
    }
   ],
   "source": [
    "tech_companies = \"apple\", \"dell\", \"microsoft\"\n",
    "\n",
    "for company in tech_companies\n",
    "    print(f'{company.title()} makes some good products')\n",
    "    print(f'I think I am going to buy a product from {company.title()}\\n')"
   ]
  },
  {
   "cell_type": "markdown",
   "id": "f398675a",
   "metadata": {},
   "source": [
    "> Here we have FORGOTTEN THE COLON at the end of the for loop command. This will result in a syntax error as python won't know what to do when it's running through the code. "
   ]
  },
  {
   "cell_type": "markdown",
   "id": "33cde86e",
   "metadata": {},
   "source": [
    "### Tasks"
   ]
  },
  {
   "cell_type": "code",
   "execution_count": 13,
   "id": "d3728ab8",
   "metadata": {},
   "outputs": [
    {
     "name": "stdout",
     "output_type": "stream",
     "text": [
      "extra cheese\n",
      "pepperoni\n",
      "bbq\n"
     ]
    }
   ],
   "source": [
    "best_pizza_toppings = \"extra cheese\", \"pepperoni\", \"bbq\"\n",
    "\n",
    "for topping in best_pizza_toppings:\n",
    "    print(topping)"
   ]
  },
  {
   "cell_type": "code",
   "execution_count": 15,
   "id": "4b9d7b53",
   "metadata": {
    "scrolled": true
   },
   "outputs": [
    {
     "name": "stdout",
     "output_type": "stream",
     "text": [
      "I really like to eat extra cheese pizza.\n",
      "\n",
      "I really like to eat pepperoni pizza.\n",
      "\n",
      "I really like to eat bbq pizza.\n",
      "\n"
     ]
    }
   ],
   "source": [
    "best_pizza_toppings = \"extra cheese\", \"pepperoni\", \"bbq\"\n",
    "\n",
    "for topping in best_pizza_toppings:\n",
    "    print(f'I really like to eat {topping} pizza.\\n')"
   ]
  },
  {
   "cell_type": "code",
   "execution_count": 17,
   "id": "266f5c6b",
   "metadata": {},
   "outputs": [
    {
     "name": "stdout",
     "output_type": "stream",
     "text": [
      "I really like to eat extra cheese pizza.\n",
      "\n",
      "I really like to eat pepperoni pizza.\n",
      "\n",
      "I really like to eat bbq pizza.\n",
      "\n",
      "I really like all of these types of pizza!\n"
     ]
    }
   ],
   "source": [
    "best_pizza_toppings = \"extra cheese\", \"pepperoni\", \"bbq\"\n",
    "\n",
    "for topping in best_pizza_toppings:\n",
    "    print(f'I really like to eat {topping} pizza.\\n')\n",
    "\n",
    "print(\"I really like all of these types of pizza!\")"
   ]
  },
  {
   "cell_type": "code",
   "execution_count": 22,
   "id": "bfe7a977",
   "metadata": {},
   "outputs": [
    {
     "name": "stdout",
     "output_type": "stream",
     "text": [
      "dogs\n",
      "cats\n",
      "fish\n"
     ]
    }
   ],
   "source": [
    "pets = \"dogs\", \"cats\", \"fish\"\n",
    "\n",
    "for pet in pets:\n",
    "    print(pet)"
   ]
  },
  {
   "cell_type": "code",
   "execution_count": 24,
   "id": "8c22b2ae",
   "metadata": {},
   "outputs": [
    {
     "name": "stdout",
     "output_type": "stream",
     "text": [
      "Dogs can make great pets.\n",
      "Cats can make great pets.\n",
      "Fish can make great pets.\n"
     ]
    }
   ],
   "source": [
    "pets = \"dogs\", \"cats\", \"fish\"\n",
    "\n",
    "for pet in pets:\n",
    "    print(f'{pet.title()} can make great pets.')"
   ]
  },
  {
   "cell_type": "code",
   "execution_count": 26,
   "id": "d287820b",
   "metadata": {},
   "outputs": [
    {
     "name": "stdout",
     "output_type": "stream",
     "text": [
      "Dogs can make great pets. \n",
      "\n",
      "Cats can make great pets. \n",
      "\n",
      "Fish can make great pets. \n",
      "\n",
      "Any of these animals will make great pets!\n"
     ]
    }
   ],
   "source": [
    "pets = \"dogs\", \"cats\", \"fish\"\n",
    "\n",
    "for pet in pets:\n",
    "    print(f'{pet.title()} can make great pets. \\n')\n",
    "\n",
    "print(\"Any of these animals will make great pets!\")"
   ]
  },
  {
   "cell_type": "markdown",
   "id": "b1b845fe",
   "metadata": {},
   "source": [
    "### Numerical Lists"
   ]
  },
  {
   "cell_type": "code",
   "execution_count": 27,
   "id": "d6ded85a",
   "metadata": {},
   "outputs": [
    {
     "name": "stdout",
     "output_type": "stream",
     "text": [
      "1\n",
      "2\n",
      "3\n",
      "4\n"
     ]
    }
   ],
   "source": [
    "for num in range(1, 5):\n",
    "    print(num)"
   ]
  },
  {
   "cell_type": "markdown",
   "id": "3e46728f",
   "metadata": {},
   "source": [
    "> The \"range\" function allows us to generate a series of numbers. It outputs 1 to 4 as it will run the list up until it hits the last number in the list then it will stop. For the list to include 5, the range() would have to be range(1, 6)"
   ]
  },
  {
   "cell_type": "code",
   "execution_count": 31,
   "id": "e52fbdc2",
   "metadata": {},
   "outputs": [
    {
     "name": "stdout",
     "output_type": "stream",
     "text": [
      "[1, 2, 3, 4, 5]\n"
     ]
    }
   ],
   "source": [
    "numbers = list(range(1, 6))\n",
    "\n",
    "print(numbers)"
   ]
  },
  {
   "cell_type": "markdown",
   "id": "dff3b9ad",
   "metadata": {},
   "source": [
    "> If we want to make a list with a range on numbers included in the list, we can wrap a \"list()\" function around a \"range()\" function. "
   ]
  },
  {
   "cell_type": "code",
   "execution_count": 33,
   "id": "d439f7a8",
   "metadata": {},
   "outputs": [
    {
     "name": "stdout",
     "output_type": "stream",
     "text": [
      "[2, 4, 6, 8, 10]\n"
     ]
    }
   ],
   "source": [
    "numbers = list(range(2, 11, 2))\n",
    "\n",
    "print(numbers)"
   ]
  },
  {
   "cell_type": "markdown",
   "id": "ffd1d1fb",
   "metadata": {},
   "source": [
    "> We can also add step sizes to a list by including a third number at the end. This is how many jumps python will make each time. "
   ]
  },
  {
   "cell_type": "code",
   "execution_count": 38,
   "id": "c0999a71",
   "metadata": {},
   "outputs": [
    {
     "name": "stdout",
     "output_type": "stream",
     "text": [
      "[1, 4, 9, 16, 25, 36, 49, 64, 81, 100]\n"
     ]
    }
   ],
   "source": [
    "squared_numbers = []\n",
    "\n",
    "for num in range(1, 11):\n",
    "#     for each number in the range of 1 to 11\n",
    "    squared = num ** 2\n",
    "#     each number is multiplied to the power of 2 then assinged to squared\n",
    "    squared_numbers.append(squared)\n",
    "#     the variable squared is appeneded to the empty list squared_numbers\n",
    "    \n",
    "print(squared_numbers)"
   ]
  },
  {
   "cell_type": "code",
   "execution_count": 41,
   "id": "17b54eda",
   "metadata": {},
   "outputs": [
    {
     "name": "stdout",
     "output_type": "stream",
     "text": [
      "[1, 4, 9, 16, 25, 36, 49, 64, 81, 100]\n"
     ]
    }
   ],
   "source": [
    "squared_numbers = []\n",
    "\n",
    "for num in range(1, 11):\n",
    "    squared_numbers.append(num**2)\n",
    "# This line does the same thing as lines 3 and 4 in the code above\n",
    "# Instead of making a new variable squared and assinging the calculated number to that, we are doing the calculation in the append() function.\n",
    "\n",
    "    \n",
    "print(squared_numbers)\n",
    "\n"
   ]
  },
  {
   "cell_type": "markdown",
   "id": "5211c10f",
   "metadata": {},
   "source": [
    "### Basic Math With Lists \n"
   ]
  },
  {
   "cell_type": "code",
   "execution_count": 6,
   "id": "8f15a0a3",
   "metadata": {},
   "outputs": [
    {
     "name": "stdout",
     "output_type": "stream",
     "text": [
      "[0, 1, 2, 3, 4, 5, 6, 7, 8, 9]\n",
      "0\n",
      "9\n",
      "45\n"
     ]
    }
   ],
   "source": [
    "numbers = list(range(0, 10))\n",
    "\n",
    "print(numbers)\n",
    "print(min(numbers))\n",
    "print(max(numbers))\n",
    "print(sum(numbers))"
   ]
  },
  {
   "cell_type": "markdown",
   "id": "f23d43b2",
   "metadata": {},
   "source": [
    "### List Comprehension "
   ]
  },
  {
   "cell_type": "code",
   "execution_count": 9,
   "id": "97a8a872",
   "metadata": {},
   "outputs": [
    {
     "name": "stdout",
     "output_type": "stream",
     "text": [
      "[1, 4, 9, 16, 25, 36, 49, 64, 81]\n"
     ]
    }
   ],
   "source": [
    "squared_numbers = [value**2 for value in range(1,10)]\n",
    "# For every value in the range of 1-10 is placed into the expression value**2\n",
    "\n",
    "print(squared_numbers)"
   ]
  },
  {
   "cell_type": "markdown",
   "id": "caf48d09",
   "metadata": {},
   "source": [
    "> List comprehension allows us to generate lines of code that would ususally take lots of lines to finish a task. When doing writing a comprehensive list we need to assign a variable which we place the expression value and a for loop that includes the range of integers we want to use. "
   ]
  },
  {
   "cell_type": "markdown",
   "id": "c5fee686",
   "metadata": {},
   "source": [
    "### Tasks"
   ]
  },
  {
   "cell_type": "code",
   "execution_count": 10,
   "id": "3349fe5a",
   "metadata": {},
   "outputs": [
    {
     "name": "stdout",
     "output_type": "stream",
     "text": [
      "[1, 2, 3, 4, 5, 6, 7, 8, 9, 10, 11, 12, 13, 14, 15, 16, 17, 18, 19, 20]\n"
     ]
    }
   ],
   "source": [
    "numbers = list(range(1, 21))\n",
    "\n",
    "print(numbers)"
   ]
  },
  {
   "cell_type": "code",
   "execution_count": 29,
   "id": "4331f885",
   "metadata": {},
   "outputs": [
    {
     "name": "stdout",
     "output_type": "stream",
     "text": [
      "1\n",
      "2\n",
      "3\n",
      "4\n",
      "5\n",
      "6\n",
      "7\n",
      "8\n",
      "9\n",
      "10\n",
      "11\n",
      "12\n",
      "13\n",
      "14\n",
      "15\n",
      "16\n",
      "17\n",
      "18\n",
      "19\n",
      "20\n",
      "1\n",
      "20\n",
      "210\n"
     ]
    }
   ],
   "source": [
    "numbers_list = []\n",
    "\n",
    "for number in range(1 , 21):\n",
    "    print(number)\n",
    "    numbers_list.append(number)\n",
    "\n",
    "print(min(numbers_list))\n",
    "print(max(numbers_list))\n",
    "print(sum(numbers_list))\n",
    "\n"
   ]
  },
  {
   "cell_type": "code",
   "execution_count": 31,
   "id": "3516f5dc",
   "metadata": {},
   "outputs": [
    {
     "name": "stdout",
     "output_type": "stream",
     "text": [
      "1\n",
      "3\n",
      "5\n",
      "7\n",
      "9\n",
      "11\n",
      "13\n",
      "15\n",
      "17\n",
      "19\n"
     ]
    }
   ],
   "source": [
    "for number in range(1, 21, 2):\n",
    "#     Printing off all of the odd numbers in the list one 1 to 20 \n",
    "    print(number)"
   ]
  },
  {
   "cell_type": "code",
   "execution_count": 34,
   "id": "da2b9251",
   "metadata": {},
   "outputs": [
    {
     "name": "stdout",
     "output_type": "stream",
     "text": [
      "3\n",
      "6\n",
      "9\n",
      "12\n",
      "15\n",
      "18\n",
      "21\n",
      "24\n",
      "27\n",
      "30\n"
     ]
    }
   ],
   "source": [
    "for numbers in range(3, 31, 3):\n",
    "#     Printing a list of all the multiples of 3 using a for loop.\n",
    "    print(numbers)"
   ]
  },
  {
   "cell_type": "code",
   "execution_count": 39,
   "id": "7cf8fb72",
   "metadata": {},
   "outputs": [
    {
     "name": "stdout",
     "output_type": "stream",
     "text": [
      "[1, 8, 27, 64, 125, 216, 343, 512, 729, 1000]\n"
     ]
    }
   ],
   "source": [
    "normal_numbers = list(range(1,11))\n",
    "\n",
    "cubed_numbers = []\n",
    "\n",
    "for number in normal_numbers:\n",
    "    cubed = number**3\n",
    "    cubed_numbers.append(cubed)\n",
    "\n",
    "print(cubed_numbers)\n",
    "    \n",
    "    "
   ]
  },
  {
   "cell_type": "code",
   "execution_count": 1,
   "id": "c1563c10",
   "metadata": {},
   "outputs": [
    {
     "name": "stdout",
     "output_type": "stream",
     "text": [
      "[1, 8, 27, 64, 125, 216, 343, 512, 729, 1000]\n",
      "27\n"
     ]
    }
   ],
   "source": [
    "cubed_numbers = [number**3 for number in range(1, 11)]\n",
    "# Making a comprehensive list, cubing the numbers in a range of 1-10 and assigning the list of numbers to the variable cubed_numbers\n",
    "\n",
    "print(cubed_numbers)\n",
    "print(cubed_numbers[2])"
   ]
  },
  {
   "cell_type": "markdown",
   "id": "a0fb4150",
   "metadata": {},
   "source": [
    "### Slicing A List"
   ]
  },
  {
   "cell_type": "code",
   "execution_count": 7,
   "id": "379981a6",
   "metadata": {},
   "outputs": [
    {
     "name": "stdout",
     "output_type": "stream",
     "text": [
      "('Apple', 'Microsoft', 'Dell')\n",
      "('Dell', 'Hp')\n",
      "('Dell', 'Hp', 'AMD', 'Nvidia')\n"
     ]
    }
   ],
   "source": [
    "computer_companies = \"Apple\", \"Microsoft\", \"Dell\", \"Hp\", \"AMD\", \"Nvidia\"\n",
    "\n",
    "print(computer_companies[0:3])\n",
    "print(computer_companies[2:4])\n",
    "print(computer_companies[2:6])"
   ]
  },
  {
   "cell_type": "markdown",
   "id": "2714e2a7",
   "metadata": {},
   "source": [
    "> Here we are we slicing the list to make a sublist, we do this using the : not a , "
   ]
  },
  {
   "cell_type": "code",
   "execution_count": 10,
   "id": "7ccc091f",
   "metadata": {
    "scrolled": true
   },
   "outputs": [
    {
     "name": "stdout",
     "output_type": "stream",
     "text": [
      "('Apple', 'Microsoft', 'Dell')\n",
      "('Dell', 'Hp', 'AMD', 'Nvidia')\n",
      "('Hp', 'AMD', 'Nvidia')\n"
     ]
    }
   ],
   "source": [
    "computer_companies = \"Apple\", \"Microsoft\", \"Dell\", \"Hp\", \"AMD\", \"Nvidia\"\n",
    "\n",
    "print(computer_companies[:3])\n",
    "print(computer_companies[2:])\n",
    "print(computer_companies[-3:])"
   ]
  },
  {
   "cell_type": "markdown",
   "id": "d4480aba",
   "metadata": {},
   "source": [
    "> If we leave out the first number, Python will start with the start of the list. It also works the same way in reverse, if we include the first number then : but no second number Python wil go all the way to the end. We can also use the -x syntax so we can print the last few numbers in a list, no matter how long the list is. "
   ]
  },
  {
   "cell_type": "code",
   "execution_count": 13,
   "id": "087be619",
   "metadata": {},
   "outputs": [
    {
     "name": "stdout",
     "output_type": "stream",
     "text": [
      "('Apple', 'Dell', 'AMD')\n"
     ]
    }
   ],
   "source": [
    "computer_companies = \"Apple\", \"Microsoft\", \"Dell\", \"Hp\", \"AMD\", \"Nvidia\"\n",
    "\n",
    "print(computer_companies[0:5:2])\n"
   ]
  },
  {
   "cell_type": "markdown",
   "id": "ee411914",
   "metadata": {},
   "source": [
    "> Just like when making lists, if we include a third number, this will tell Python how many numbers to skip each time."
   ]
  },
  {
   "cell_type": "markdown",
   "id": "f53c3e56",
   "metadata": {},
   "source": [
    "### Running For Loops With Slices"
   ]
  },
  {
   "cell_type": "code",
   "execution_count": 15,
   "id": "3f99ea51",
   "metadata": {},
   "outputs": [
    {
     "name": "stdout",
     "output_type": "stream",
     "text": [
      "Here is a list of some computer companies I might by a laptop from.\n",
      "Apple\n",
      "Microsoft\n",
      "Dell\n"
     ]
    }
   ],
   "source": [
    "computer_companies = \"Apple\", \"Microsoft\", \"Dell\", \"Hp\", \"AMD\", \"Nvidia\"\n",
    "\n",
    "print(\"Here is a list of some computer companies I might by a laptop from.\")\n",
    "\n",
    "for company in computer_companies[0:3]:\n",
    "    print(company)"
   ]
  },
  {
   "cell_type": "markdown",
   "id": "e630016a",
   "metadata": {},
   "source": [
    "> Here we are using a for loop to print a subset of the list computer companies. We can use for loops in data science to process our data into chunks of certain size. "
   ]
  },
  {
   "cell_type": "code",
   "execution_count": 6,
   "id": "4240c62f",
   "metadata": {},
   "outputs": [
    {
     "name": "stdout",
     "output_type": "stream",
     "text": [
      "I love these foods\n",
      "['pizza', 'haribo', 'toast']\n",
      "My friend also loves these foods\n",
      "['pizza', 'haribo', 'toast']\n",
      "['pizza', 'haribo', 'toast', 'custard']\n",
      "['pizza', 'haribo', 'toast', 'cake']\n"
     ]
    }
   ],
   "source": [
    "my_food = [\"pizza\", \"haribo\", \"toast\"]\n",
    "my_friends_food = my_food[:]\n",
    "\n",
    "\n",
    "print(\"I love these foods\")\n",
    "print(my_food)\n",
    "\n",
    "print(\"My friend also loves these foods\")\n",
    "print(my_friends_food)\n",
    "\n",
    "my_food.append(\"custard\")\n",
    "my_friends_food.append(\"cake\")\n",
    "\n",
    "print(my_food)\n",
    "print(my_friends_food)"
   ]
  },
  {
   "cell_type": "markdown",
   "id": "332350a9",
   "metadata": {},
   "source": [
    "> Here we are showing that you can copy a list using the syntax [:], this tells Python to make a slice of the list starting at the start and ending at the end, so we make a copy that we can assign to another variable. We are proving they are different lists by appending a value to the end of each seperate list. If we dont use the slice, and just assign the my friends food to my food, the lists would be the same entity. We have to use the slice [:] in order to make another entity. "
   ]
  },
  {
   "cell_type": "markdown",
   "id": "376848f8",
   "metadata": {},
   "source": [
    "### Tasks"
   ]
  },
  {
   "cell_type": "code",
   "execution_count": 9,
   "id": "e1b7d199",
   "metadata": {},
   "outputs": [
    {
     "name": "stdout",
     "output_type": "stream",
     "text": [
      "The first 3 companies in the list of tech companies are\n",
      "('Apple', 'Microsoft', 'Dell')\n",
      "The middle 3 companies in the list of tech companies are\n",
      "('Dell', 'Hp', 'AMD')\n",
      "The last 3 companies in teh list of tech companeis are\n",
      "('Hp', 'AMD', 'Nvidia')\n"
     ]
    }
   ],
   "source": [
    "computer_companies = \"Apple\", \"Microsoft\", \"Dell\", \"Hp\", \"AMD\", \"Nvidia\"\n",
    "\n",
    "print(\"The first 3 companies in the list of tech companies are\")\n",
    "print(computer_companies[:3])\n",
    "\n",
    "print(\"The middle 3 companies in the list of tech companies are\")\n",
    "print(computer_companies[2:5])\n",
    "\n",
    "print(\"The last 3 companies in teh list of tech companeis are\")\n",
    "print(computer_companies[-3:])"
   ]
  },
  {
   "cell_type": "code",
   "execution_count": 15,
   "id": "16be5521",
   "metadata": {},
   "outputs": [
    {
     "name": "stdout",
     "output_type": "stream",
     "text": [
      "['bbq', 'pepperoni', 'ham']\n",
      "['bbq', 'pepperoni', 'ham']\n",
      "These two lists are seperate lists\n",
      "['bbq', 'pepperoni', 'ham', 'vege']\n",
      "['bbq', 'pepperoni', 'ham', 'vegan']\n"
     ]
    }
   ],
   "source": [
    "my_pizzas = [\"bbq\", \"pepperoni\", \"ham\"]\n",
    "my_friends_pizzas =my_pizzas[:]\n",
    "\n",
    "print(my_pizzas)\n",
    "print(my_friends_pizzas)\n",
    "\n",
    "my_pizzas.append(\"vege\")\n",
    "my_friends_pizzas.append(\"vegan\")\n",
    "\n",
    "print(\"These two lists are seperate lists\")\n",
    "print(my_pizzas)\n",
    "print(my_friends_pizzas)"
   ]
  },
  {
   "cell_type": "code",
   "execution_count": 18,
   "id": "d1dd0e73",
   "metadata": {},
   "outputs": [
    {
     "name": "stdout",
     "output_type": "stream",
     "text": [
      "['bbq', 'pepperoni', 'ham']\n",
      "['bbq', 'pepperoni', 'ham']\n",
      "These two lists are seperate lists\n",
      "I really like this kinda bbq\n",
      "I really like this kinda pepperoni\n",
      "I really like this kinda ham\n",
      "I really like this kinda vege\n",
      "My friend really likes this kind of pizza bbq\n",
      "My friend really likes this kind of pizza pepperoni\n",
      "My friend really likes this kind of pizza ham\n",
      "My friend really likes this kind of pizza vegan\n"
     ]
    }
   ],
   "source": [
    "my_pizzas = [\"bbq\", \"pepperoni\", \"ham\"]\n",
    "my_friends_pizzas =my_pizzas[:]\n",
    "\n",
    "print(my_pizzas)\n",
    "print(my_friends_pizzas)\n",
    "\n",
    "my_pizzas.append(\"vege\")\n",
    "my_friends_pizzas.append(\"vegan\")\n",
    "\n",
    "print(\"These two lists are seperate lists\")\n",
    "for pizza in my_pizzas:\n",
    "    print(f'I really like this kinda {pizza}')\n",
    "\n",
    "for pizza in my_friends_pizzas:\n",
    "    print(f'My friend really likes this kind of pizza {pizza}')"
   ]
  },
  {
   "cell_type": "code",
   "execution_count": 19,
   "id": "fbe5fd9e",
   "metadata": {},
   "outputs": [
    {
     "name": "stdout",
     "output_type": "stream",
     "text": [
      "I might buy a product from Apple becuase they sell cool tech\n",
      "I might buy a product from Microsoft becuase they sell cool tech\n",
      "I might buy a product from Dell becuase they sell cool tech\n",
      "I might buy a product from Hp becuase they sell cool tech\n",
      "I might buy a product from AMD becuase they sell cool tech\n",
      "I might buy a product from Nvidia becuase they sell cool tech\n"
     ]
    }
   ],
   "source": [
    "computer_companies = \"Apple\", \"Microsoft\", \"Dell\", \"Hp\", \"AMD\", \"Nvidia\"\n",
    "\n",
    "for company in computer_companies:\n",
    "    print(f'I might buy a product from {company} becuase they sell cool tech')"
   ]
  },
  {
   "cell_type": "markdown",
   "id": "b4c1184d",
   "metadata": {},
   "source": [
    "### Take Aways\n",
    "\n",
    "- List comprehension allows us to write code that would ususally take lots of line in a short line. \n",
    "- Python can do simple maths in the list with min, max and sum.\n",
    "- We can print elemets off in a list, if we want to print every other element or a pattern we add a 3rd integer to tell python how many it should skip.\n",
    "- We can slice a list with [:], when we do this it makes a seperate entity so we can use this to copy the list or make a smaller list that we need to use. \n",
    "- For loops allow us to use the elements to print off a sentence for each element."
   ]
  },
  {
   "cell_type": "markdown",
   "id": "667f5740",
   "metadata": {},
   "source": [
    "### Tuples\n",
    "\n",
    "Lists work well when we are wanting to change what we store throughout a program running. However if we want the list to remain the same, we use tuples. Python refers to unchangable values as immutable, and an immutable list is called a TUPLE."
   ]
  },
  {
   "cell_type": "code",
   "execution_count": 2,
   "id": "2f7f6b74",
   "metadata": {},
   "outputs": [
    {
     "name": "stdout",
     "output_type": "stream",
     "text": [
      "200\n",
      "50\n"
     ]
    }
   ],
   "source": [
    "dimensions = (200, 50)\n",
    "# Printing the dimensions of a rectangle.\n",
    "print(dimensions[0])\n",
    "print(dimensions[1])"
   ]
  },
  {
   "cell_type": "code",
   "execution_count": 3,
   "id": "65ab0ab7",
   "metadata": {},
   "outputs": [
    {
     "ename": "TypeError",
     "evalue": "'tuple' object does not support item assignment",
     "output_type": "error",
     "traceback": [
      "\u001b[1;31m---------------------------------------------------------------------------\u001b[0m",
      "\u001b[1;31mTypeError\u001b[0m                                 Traceback (most recent call last)",
      "Input \u001b[1;32mIn [3]\u001b[0m, in \u001b[0;36m<module>\u001b[1;34m\u001b[0m\n\u001b[0;32m      1\u001b[0m dimensions \u001b[38;5;241m=\u001b[39m (\u001b[38;5;241m200\u001b[39m, \u001b[38;5;241m50\u001b[39m)\n\u001b[1;32m----> 3\u001b[0m dimensions[\u001b[38;5;241m0\u001b[39m] \u001b[38;5;241m=\u001b[39m \u001b[38;5;241m250\u001b[39m\n",
      "\u001b[1;31mTypeError\u001b[0m: 'tuple' object does not support item assignment"
     ]
    }
   ],
   "source": [
    "dimensions = (200, 50)\n",
    "\n",
    "dimensions[0] = 250"
   ]
  },
  {
   "cell_type": "markdown",
   "id": "4aa5ab8b",
   "metadata": {},
   "source": [
    "> Here we can see that we are trying to change a value in the tuple, but python throws a 'TypeError' as tuples cannt be changed, it is also worth noting that what defines the tuple is actually the comma, not the curvy brackets. So a single element tuple will be (3,) becuase we have to include the comma."
   ]
  },
  {
   "cell_type": "code",
   "execution_count": 5,
   "id": "d9dbaa37",
   "metadata": {},
   "outputs": [
    {
     "name": "stdout",
     "output_type": "stream",
     "text": [
      "200\n",
      "50\n"
     ]
    }
   ],
   "source": [
    "dimensions = (200, 50)\n",
    "\n",
    "for dimension in dimensions:\n",
    "    print(dimension)\n",
    "    "
   ]
  },
  {
   "cell_type": "markdown",
   "id": "56a34ddd",
   "metadata": {},
   "source": [
    "> We can also use a for loop to loop through tuples, just like we can a list. "
   ]
  },
  {
   "cell_type": "code",
   "execution_count": 8,
   "id": "90b09f5c",
   "metadata": {},
   "outputs": [
    {
     "name": "stdout",
     "output_type": "stream",
     "text": [
      "\n",
      "This is the original set of dimensions.\n",
      "200\n",
      "50\n",
      "\n",
      "These are the modified dimensions.\n",
      "400\n",
      "100\n"
     ]
    }
   ],
   "source": [
    "dimensions = (200, 50)\n",
    "print(\"\\nThis is the original set of dimensions.\")\n",
    "for dimension in dimensions:\n",
    "    print(dimension)\n",
    "\n",
    "dimensions = (400, 100)\n",
    "print(\"\\nThese are the modified dimensions.\")\n",
    "for dimension in dimensions:\n",
    "    print(dimension)"
   ]
  },
  {
   "cell_type": "markdown",
   "id": "48e1854d",
   "metadata": {},
   "source": [
    "> Although we cannot assign new variables to a tuple, we can just redefine/write over a tuple with new values. The code above shows us how to do it using the dimensional values above. "
   ]
  },
  {
   "cell_type": "markdown",
   "id": "d6d93b17",
   "metadata": {},
   "source": [
    "### Tasks\n"
   ]
  },
  {
   "cell_type": "code",
   "execution_count": 12,
   "id": "940c5104",
   "metadata": {},
   "outputs": [
    {
     "name": "stdout",
     "output_type": "stream",
     "text": [
      "Pasta\n",
      "Bolognase\n",
      "Eggs\n",
      "Chips\n",
      "Pizza\n"
     ]
    }
   ],
   "source": [
    "menu = (\"Pasta\", \"Bolognase\", \"Eggs\", \"Chips\", \"Pizza\")\n",
    "\n",
    "for items in menu:\n",
    "    print(items)"
   ]
  },
  {
   "cell_type": "code",
   "execution_count": 13,
   "id": "7755d587",
   "metadata": {},
   "outputs": [
    {
     "ename": "TypeError",
     "evalue": "'tuple' object does not support item assignment",
     "output_type": "error",
     "traceback": [
      "\u001b[1;31m---------------------------------------------------------------------------\u001b[0m",
      "\u001b[1;31mTypeError\u001b[0m                                 Traceback (most recent call last)",
      "Input \u001b[1;32mIn [13]\u001b[0m, in \u001b[0;36m<module>\u001b[1;34m\u001b[0m\n\u001b[0;32m      1\u001b[0m menu \u001b[38;5;241m=\u001b[39m (\u001b[38;5;124m\"\u001b[39m\u001b[38;5;124mPasta\u001b[39m\u001b[38;5;124m\"\u001b[39m, \u001b[38;5;124m\"\u001b[39m\u001b[38;5;124mBolognase\u001b[39m\u001b[38;5;124m\"\u001b[39m, \u001b[38;5;124m\"\u001b[39m\u001b[38;5;124mEggs\u001b[39m\u001b[38;5;124m\"\u001b[39m, \u001b[38;5;124m\"\u001b[39m\u001b[38;5;124mChips\u001b[39m\u001b[38;5;124m\"\u001b[39m, \u001b[38;5;124m\"\u001b[39m\u001b[38;5;124mPizza\u001b[39m\u001b[38;5;124m\"\u001b[39m)\n\u001b[1;32m----> 3\u001b[0m menu[\u001b[38;5;241m1\u001b[39m] \u001b[38;5;241m=\u001b[39m \u001b[38;5;124m\"\u001b[39m\u001b[38;5;124mPasta bake sauce\u001b[39m\u001b[38;5;124m\"\u001b[39m\n",
      "\u001b[1;31mTypeError\u001b[0m: 'tuple' object does not support item assignment"
     ]
    }
   ],
   "source": [
    "menu = (\"Pasta\", \"Bolognase\", \"Eggs\", \"Chips\", \"Pizza\")\n",
    "\n",
    "menu[1] = \"Pasta bake sauce\""
   ]
  },
  {
   "cell_type": "code",
   "execution_count": 14,
   "id": "6a551c68",
   "metadata": {},
   "outputs": [
    {
     "name": "stdout",
     "output_type": "stream",
     "text": [
      "\n",
      "Original Menu\n",
      "Pasta\n",
      "Bolognase\n",
      "Eggs\n",
      "Chips\n",
      "Pizza\n",
      "\n",
      "Updated Menu\n",
      "Pasta\n",
      "Pasta bake sauce\n",
      "Chips\n",
      "Fish\n",
      "Pizza\n"
     ]
    }
   ],
   "source": [
    "menu = (\"Pasta\", \"Bolognase\", \"Eggs\", \"Chips\", \"Pizza\")\n",
    "\n",
    "print(\"\\nOriginal Menu\")\n",
    "for items in menu:\n",
    "    print(items)\n",
    "    \n",
    "menu = (\"Pasta\", \"Pasta bake sauce\", \"Chips\", \"Fish\", \"Pizza\")\n",
    "print(\"\\nUpdated Menu\")\n",
    "for items in menu:\n",
    "    print(items)"
   ]
  },
  {
   "cell_type": "markdown",
   "id": "df46ed4d",
   "metadata": {},
   "source": [
    "# Chapter 5 If Statments"
   ]
  },
  {
   "cell_type": "code",
   "execution_count": 2,
   "id": "3eb71143",
   "metadata": {},
   "outputs": [
    {
     "name": "stdout",
     "output_type": "stream",
     "text": [
      "Telsa\n",
      "BMW\n",
      "Audi\n",
      "Ford\n"
     ]
    }
   ],
   "source": [
    "cars = \"telsa\", \"bmw\", \"audi\", \"ford\"\n",
    "\n",
    "for car in cars:\n",
    "    if car == \"bmw\":\n",
    "        print(car.upper())\n",
    "    else:\n",
    "        print(car.title())"
   ]
  },
  {
   "cell_type": "markdown",
   "id": "92cb6f52",
   "metadata": {},
   "source": [
    "> This example loops through the elements in the variable cars, checks for if the element is called bmw, if the variable is bmw it converts it into uppcase, if the variable is not bmw it prints the code in title, then moves onto the next element to start the process again. "
   ]
  },
  {
   "cell_type": "markdown",
   "id": "9a4bfb60",
   "metadata": {},
   "source": [
    "### Checking for equality."
   ]
  },
  {
   "cell_type": "code",
   "execution_count": 4,
   "id": "11cafef3",
   "metadata": {
    "scrolled": true
   },
   "outputs": [
    {
     "data": {
      "text/plain": [
       "True"
      ]
     },
     "execution_count": 4,
     "metadata": {},
     "output_type": "execute_result"
    }
   ],
   "source": [
    "car = \"bmw\"\n",
    "car == \"bmw\""
   ]
  },
  {
   "cell_type": "code",
   "execution_count": 5,
   "id": "93627972",
   "metadata": {},
   "outputs": [
    {
     "data": {
      "text/plain": [
       "False"
      ]
     },
     "execution_count": 5,
     "metadata": {},
     "output_type": "execute_result"
    }
   ],
   "source": [
    "car = \"bmw\"\n",
    "car == \"audi\""
   ]
  },
  {
   "cell_type": "code",
   "execution_count": 6,
   "id": "2c493a5e",
   "metadata": {},
   "outputs": [
    {
     "data": {
      "text/plain": [
       "False"
      ]
     },
     "execution_count": 6,
     "metadata": {},
     "output_type": "execute_result"
    }
   ],
   "source": [
    "car = \"bmw\"\n",
    "car == \"BMW\""
   ]
  },
  {
   "cell_type": "markdown",
   "id": "b9add6b5",
   "metadata": {},
   "source": [
    "> The simplest form of conditional test is checks weather a item of a variable equals the variable of interest. The first line sets \"bmw\" to equal car (=), and the second line checks to see if the value of car is bmw (==). To which we get the return of True or False. It is worth noting that for these if statments case matters, notice how bmw and BMW are not the same to python.\n"
   ]
  },
  {
   "cell_type": "code",
   "execution_count": 9,
   "id": "d6f815a8",
   "metadata": {},
   "outputs": [
    {
     "data": {
      "text/plain": [
       "'Audi'"
      ]
     },
     "execution_count": 9,
     "metadata": {},
     "output_type": "execute_result"
    }
   ],
   "source": [
    "car = \"Audi\"\n",
    "\n",
    "car.lower() == \"audi\"\n",
    "\n",
    "car "
   ]
  },
  {
   "cell_type": "markdown",
   "id": "561439dd",
   "metadata": {},
   "source": [
    "> Here if we want to make the cases all the same we just run a lower() function before comparing, this won't change the variable itself as you can see we pass the car.lower() then check afterwards what are is and it is still capital Audi."
   ]
  },
  {
   "cell_type": "code",
   "execution_count": 14,
   "id": "218822f7",
   "metadata": {},
   "outputs": [
    {
     "name": "stdout",
     "output_type": "stream",
     "text": [
      "Don't add pickles on my pizza\n"
     ]
    }
   ],
   "source": [
    "pizza_toppings = \"cheese\"\n",
    "\n",
    "if pizza_toppings != \"pickles\":\n",
    "    print(\"Don't add pickles on my pizza\")\n",
    "\n"
   ]
  },
  {
   "cell_type": "markdown",
   "id": "e3002aca",
   "metadata": {},
   "source": [
    "> Here we are using != to act as a \"not\" in our code, so we are checking for inequality in our code. If we change the varible to equal pickles, then the code will not print anything as pizza_toppings = pickles"
   ]
  },
  {
   "cell_type": "code",
   "execution_count": 15,
   "id": "5b3ec624",
   "metadata": {},
   "outputs": [
    {
     "data": {
      "text/plain": [
       "True"
      ]
     },
     "execution_count": 15,
     "metadata": {},
     "output_type": "execute_result"
    }
   ],
   "source": [
    "number = 18\n",
    "number == 18"
   ]
  },
  {
   "cell_type": "code",
   "execution_count": 16,
   "id": "7cf37476",
   "metadata": {},
   "outputs": [
    {
     "data": {
      "text/plain": [
       "False"
      ]
     },
     "execution_count": 16,
     "metadata": {},
     "output_type": "execute_result"
    }
   ],
   "source": [
    "number = 15\n",
    "number == 18"
   ]
  },
  {
   "cell_type": "markdown",
   "id": "62bad8e2",
   "metadata": {},
   "source": [
    "> As you can see we can also compare numbers as well. "
   ]
  },
  {
   "cell_type": "code",
   "execution_count": 17,
   "id": "53850cbd",
   "metadata": {},
   "outputs": [
    {
     "name": "stdout",
     "output_type": "stream",
     "text": [
      "The right answer is 40, check your math and try again.\n"
     ]
    }
   ],
   "source": [
    "answer = 17\n",
    "\n",
    "if answer != 40:\n",
    "    print(\"The right answer is 40, check your math and try again.\")"
   ]
  },
  {
   "cell_type": "code",
   "execution_count": 18,
   "id": "502b0582",
   "metadata": {},
   "outputs": [
    {
     "data": {
      "text/plain": [
       "True"
      ]
     },
     "execution_count": 18,
     "metadata": {},
     "output_type": "execute_result"
    }
   ],
   "source": [
    "age = 21\n",
    "\n",
    "age < 22"
   ]
  },
  {
   "cell_type": "code",
   "execution_count": 19,
   "id": "a0ae299c",
   "metadata": {},
   "outputs": [
    {
     "data": {
      "text/plain": [
       "False"
      ]
     },
     "execution_count": 19,
     "metadata": {},
     "output_type": "execute_result"
    }
   ],
   "source": [
    "age = 21\n",
    "\n",
    "age > 22"
   ]
  },
  {
   "cell_type": "markdown",
   "id": "fc68fa1a",
   "metadata": {},
   "source": [
    "> We can compare many things in numerical value, these mathamatical comparisons can be used with if statements to help see if conditions are met in the code."
   ]
  },
  {
   "cell_type": "code",
   "execution_count": 20,
   "id": "a6184a5f",
   "metadata": {},
   "outputs": [
    {
     "name": "stdout",
     "output_type": "stream",
     "text": [
      "You can both go into the bar.\n"
     ]
    }
   ],
   "source": [
    "age_0 = 21\n",
    "age_1 = 22\n",
    "\n",
    "if age_0 == 21 and age_1 == 22:\n",
    "    print(\"You can both go into the bar.\")"
   ]
  },
  {
   "cell_type": "markdown",
   "id": "e471889c",
   "metadata": {},
   "source": [
    "> Here both conditions are met in the \"and\" if statement so we print our statement out. This allows us to ensure two conditions are met."
   ]
  },
  {
   "cell_type": "code",
   "execution_count": 29,
   "id": "15480c86",
   "metadata": {},
   "outputs": [],
   "source": [
    "age_0 = 20\n",
    "age_1 = 19\n",
    "\n",
    "if age_0 == 21 and age_1 == 22:\n",
    "    print(\"You can both go into the bar.\")"
   ]
  },
  {
   "cell_type": "markdown",
   "id": "559f485f",
   "metadata": {},
   "source": [
    "> Here you can see that neither of the variables compare so Python doesn't print anything."
   ]
  },
  {
   "cell_type": "code",
   "execution_count": 22,
   "id": "3e7ade42",
   "metadata": {},
   "outputs": [
    {
     "name": "stdout",
     "output_type": "stream",
     "text": [
      "You can both go into the bar.\n"
     ]
    }
   ],
   "source": [
    "age_0 = 21\n",
    "age_1 = 22\n",
    "\n",
    "if age_0 <= 21 and age_1 <= 22:\n",
    "    print(\"You can both go into the bar.\")"
   ]
  },
  {
   "cell_type": "code",
   "execution_count": 10,
   "id": "fa89537f",
   "metadata": {},
   "outputs": [],
   "source": [
    "age_0 = 42\n",
    "age_1 = 15\n",
    "\n",
    "if age_0 <= 21 or age_1 >=17:\n",
    "    print(\"This or keyword has worked, one or both of the conditions is met and the code is running\")"
   ]
  },
  {
   "cell_type": "markdown",
   "id": "5f8e4db3",
   "metadata": {},
   "source": [
    "> Try altering the ages, see what works and what doesn't, this is an \"or\" keyword so only one of the conditions has to be true for it to pass."
   ]
  },
  {
   "cell_type": "code",
   "execution_count": 13,
   "id": "98ca4172",
   "metadata": {},
   "outputs": [
    {
     "data": {
      "text/plain": [
       "True"
      ]
     },
     "execution_count": 13,
     "metadata": {},
     "output_type": "execute_result"
    }
   ],
   "source": [
    "possible_toppings = [\"Ham\", \"Pineapple\", \"Pepperoni\", \"Chicken\"]\n",
    "\n",
    "\"Ham\" in possible_toppings"
   ]
  },
  {
   "cell_type": "markdown",
   "id": "284aa63c",
   "metadata": {},
   "source": [
    "> Here we are using the keyword \"in\" to see if a element is inside a list. This could be really helpful when we are looking to see if a username is already existent when creating new users for example."
   ]
  },
  {
   "cell_type": "code",
   "execution_count": 19,
   "id": "5ac9f716",
   "metadata": {},
   "outputs": [
    {
     "name": "stdout",
     "output_type": "stream",
     "text": [
      "Cameron you can comment on this forum.\n"
     ]
    }
   ],
   "source": [
    "banned_users = [\"Charlie\", \"Tom\", \"Ben\"]\n",
    "user = \"Cameron\"\n",
    "\n",
    "if user not in banned_users:\n",
    "    print(f'{user} you can comment on this forum.')\n",
    "\n",
    "if user in banned_users:\n",
    "    print(\"You are not allowed to comment\")"
   ]
  },
  {
   "cell_type": "markdown",
   "id": "d2afffbc",
   "metadata": {},
   "source": [
    "Here we use the keyword \"not\" to check that a user is not in a list of banned users before allowing them to comment on a forum, python will read the code and check is the user is in banned users, if not then it will read the next line of code, if it is then it will move down to the next statement. I then added another if statement that tells the program what to do if the user is infact part of the banned list. "
   ]
  },
  {
   "cell_type": "code",
   "execution_count": 23,
   "id": "ef70208b",
   "metadata": {},
   "outputs": [
    {
     "name": "stdout",
     "output_type": "stream",
     "text": [
      "You cannot edit the game, as it is currently active.\n"
     ]
    }
   ],
   "source": [
    "game_active = True\n",
    "\n",
    "if game_active == True:\n",
    "    print(\"You cannot edit the game, as it is currently active.\")\n",
    "    \n",
    "if game_active == False:\n",
    "    print(\"You can edit the game, as it is not currently active.\")"
   ]
  },
  {
   "cell_type": "markdown",
   "id": "9e1e0229",
   "metadata": {},
   "source": [
    "> Here we use a Booleen expression, to check if a game is active or not, if it is active we cannot edit the game as the game code will be running. If the game is not active, we can edit the code as the program will not be running at that time. "
   ]
  },
  {
   "cell_type": "markdown",
   "id": "bc78e1f5",
   "metadata": {},
   "source": [
    "### Tasks\n",
    "\n",
    "\n",
    "In these tasks, go through and change some variables or statments and see how the programs run."
   ]
  },
  {
   "cell_type": "code",
   "execution_count": 27,
   "id": "66a0f537",
   "metadata": {},
   "outputs": [
    {
     "name": "stdout",
     "output_type": "stream",
     "text": [
      "Cameron is also looking at other laptops to buy so he can code wherever he wants.\n"
     ]
    }
   ],
   "source": [
    "camerons_laptop = \"dell\"\n",
    "\n",
    "if camerons_laptop == \"macbook\":\n",
    "    print(\"Cameron is looking to buy a macbook as apple silicon seems to be very good right now.\")\n",
    "\n",
    "if camerons_laptop != \"macbook\":\n",
    "    print(\"Cameron is also looking at other laptops to buy so he can code wherever he wants.\")"
   ]
  },
  {
   "cell_type": "code",
   "execution_count": 33,
   "id": "8450acba",
   "metadata": {},
   "outputs": [
    {
     "name": "stdout",
     "output_type": "stream",
     "text": [
      "You can go into a bar in America, as you are over the age of 21.\n"
     ]
    }
   ],
   "source": [
    "age = 22\n",
    "\n",
    "if age >= 21:\n",
    "    print(\"You can go into a bar in America, as you are over the age of 21.\")\n",
    "\n",
    "if age <= 20:\n",
    "    print(\"You cannot go into a bar in America, if you are 18 or over, you can go into a bar in the UK.\")"
   ]
  },
  {
   "cell_type": "code",
   "execution_count": 34,
   "id": "84895f3a",
   "metadata": {},
   "outputs": [
    {
     "name": "stdout",
     "output_type": "stream",
     "text": [
      "He is having a good day doing some work.\n"
     ]
    }
   ],
   "source": [
    "cameron_happy = True\n",
    "\n",
    "if cameron_happy == True:\n",
    "    print(\"He is having a good day doing some work.\")\n",
    "\n",
    "if cameron_happy == False:\n",
    "    print(\"He might not of gotten as much done as he would have liked today.\")"
   ]
  },
  {
   "cell_type": "code",
   "execution_count": 40,
   "id": "64675742",
   "metadata": {},
   "outputs": [
    {
     "name": "stdout",
     "output_type": "stream",
     "text": [
      "You are a host, you can invite people to the party.\n"
     ]
    }
   ],
   "source": [
    "hosts = [\"Charlie\", \"Harry\", \"Ben\", \"Cameron\", \"Henry\"]\n",
    "\n",
    "invitee = \"Charlie\"\n",
    "\n",
    "if invitee not in hosts:\n",
    "    print(\"You are not a host, so you cannot invite people to the party.\")\n",
    "    \n",
    "if invitee in hosts:\n",
    "    print(\"You are a host, you can invite people to the party.\")"
   ]
  },
  {
   "cell_type": "markdown",
   "id": "1b8a0410",
   "metadata": {},
   "source": [
    "### We have seen conditional tests, we are now going to dig deeper into if statements."
   ]
  },
  {
   "cell_type": "markdown",
   "id": "6d8d3ccc",
   "metadata": {},
   "source": [
    "> The simplest kind of if statement is. \n",
    "\n",
    "\n",
    ">if conditional statment:\n",
    "    do something"
   ]
  },
  {
   "cell_type": "code",
   "execution_count": 2,
   "id": "71cb22ef",
   "metadata": {},
   "outputs": [
    {
     "name": "stdout",
     "output_type": "stream",
     "text": [
      "You are old enough to vote.\n"
     ]
    }
   ],
   "source": [
    "age = 19 \n",
    "\n",
    "if age >= 18:\n",
    "    print(\"You are old enough to vote.\")"
   ]
  },
  {
   "cell_type": "code",
   "execution_count": 3,
   "id": "aa284fbe",
   "metadata": {},
   "outputs": [
    {
     "name": "stdout",
     "output_type": "stream",
     "text": [
      "You are old enough to vote.\n",
      "Have you registered to vote yet?\n"
     ]
    }
   ],
   "source": [
    "age = 19 \n",
    "\n",
    "if age >= 18:\n",
    "    print(\"You are old enough to vote.\")\n",
    "    print(\"Have you registered to vote yet?\")"
   ]
  },
  {
   "cell_type": "code",
   "execution_count": 5,
   "id": "c82040dd",
   "metadata": {},
   "outputs": [
    {
     "name": "stdout",
     "output_type": "stream",
     "text": [
      "You are not old enough to vote yet\n",
      "Please register to vote once you turn 18.\n"
     ]
    }
   ],
   "source": [
    "age = 16 \n",
    "\n",
    "if age >= 18:\n",
    "    print(\"You are old enough to vote.\")\n",
    "    print(\"Have you registered to vote yet?\")\n",
    "else:\n",
    "    print(\"You are not old enough to vote yet\")\n",
    "    print(\"Please register to vote once you turn 18.\")"
   ]
  },
  {
   "cell_type": "markdown",
   "id": "296e999e",
   "metadata": {},
   "source": [
    "> This is an else statement, if the code runs True we will print the top indentation of code. If the code runs False, the second indentation of the code will run. "
   ]
  },
  {
   "cell_type": "code",
   "execution_count": 10,
   "id": "5d04e0d3",
   "metadata": {},
   "outputs": [
    {
     "name": "stdout",
     "output_type": "stream",
     "text": [
      "The admission cost is £20.\n"
     ]
    }
   ],
   "source": [
    "age = 32\n",
    "\n",
    "if age <=4:\n",
    "    print(\"The admission cost is £5.\")\n",
    "elif age <= 18:\n",
    "    print(\"The admission cost is £10.\")\n",
    "else:\n",
    "    print(\"The admission cost is £20.\")"
   ]
  },
  {
   "cell_type": "markdown",
   "id": "11a3e8bd",
   "metadata": {},
   "source": [
    "> Here is an elif chain, if the first if statment fails, we move onto the elif statement, which is basically another if statement. If the first test fails we know that the persons age must be at least 5 years old so we then test to see if they are less than or equal to 18. We then use an else statment for the rest of the age groups, meaning that as long as they are over 18 they get charged the full price. But there is a better way to do it. "
   ]
  },
  {
   "cell_type": "code",
   "execution_count": 13,
   "id": "8637e7c4",
   "metadata": {},
   "outputs": [
    {
     "name": "stdout",
     "output_type": "stream",
     "text": [
      "Your admission price is £10.\n"
     ]
    }
   ],
   "source": [
    "age = 17\n",
    "\n",
    "if age <=4:\n",
    "    price = 5\n",
    "elif age <= 18:\n",
    "    price = 10\n",
    "else:\n",
    "    price = 20\n",
    "    \n",
    "\n",
    "print(f'Your admission price is £{price}.')"
   ]
  },
  {
   "cell_type": "markdown",
   "id": "009a2c4e",
   "metadata": {},
   "source": [
    "> So here there is the same task happening, but what we are doing is setting the price in the if statements, then have a line at the end of the code that prints off the price. This means the code runs much more efficiently and that modifying it will be easier. Its important to write code that works and is efficient and easy to read. "
   ]
  },
  {
   "cell_type": "code",
   "execution_count": 15,
   "id": "4dfdea10",
   "metadata": {},
   "outputs": [
    {
     "name": "stdout",
     "output_type": "stream",
     "text": [
      "Your admission price is £30.\n"
     ]
    }
   ],
   "source": [
    "age = 55\n",
    "\n",
    "if age <=4:\n",
    "    price = 5\n",
    "elif age <= 18:\n",
    "    price = 10\n",
    "elif age <= 65:\n",
    "    price = 30\n",
    "else:\n",
    "    price = 20\n",
    "    \n",
    "\n",
    "print(f'Your admission price is £{price}.')"
   ]
  },
  {
   "cell_type": "markdown",
   "id": "522c10c6",
   "metadata": {},
   "source": [
    "> This code has two elif tests in there, so we are testing for the age to see if they are below 65 and qualify for a senior discount to our park. "
   ]
  },
  {
   "cell_type": "code",
   "execution_count": 18,
   "id": "224f8802",
   "metadata": {},
   "outputs": [
    {
     "name": "stdout",
     "output_type": "stream",
     "text": [
      "Your admission price is £30.\n"
     ]
    }
   ],
   "source": [
    "age = 50\n",
    "\n",
    "if age <=4:\n",
    "    price = 5\n",
    "elif age <= 18:\n",
    "    price = 10\n",
    "elif age <= 65:\n",
    "    price = 30\n",
    "elif age >= 66:\n",
    "    price = 20\n",
    "    \n",
    "\n",
    "print(f'Your admission price is £{price}.')"
   ]
  },
  {
   "cell_type": "markdown",
   "id": "1be48cbe",
   "metadata": {},
   "source": [
    "> Python doesn't require an else block at the end of if statments, here we have an elif block at the end of the test, this makes it slightly more easier to read, as we can clearly see what price applies to what etc, there is no just ambiguous end of else do x y and z. If we have a specific end we want to test, it is always better to use an elif block at the end, this means that \"wrong\" data won't pass through the test in the else statement. "
   ]
  },
  {
   "cell_type": "code",
   "execution_count": 19,
   "id": "b49a2cc5",
   "metadata": {},
   "outputs": [
    {
     "name": "stdout",
     "output_type": "stream",
     "text": [
      "I will add ham to your pizza.\n",
      "I will add extra cheese to your pizza.\n",
      "Your pizza is ready now!\n"
     ]
    }
   ],
   "source": [
    "toppings = [\"pepperoni\", \"ham\", \"extra cheese\"]\n",
    "\n",
    "if \"ham\" in toppings:\n",
    "    print(\"I will add ham to your pizza.\")\n",
    "if \"mushroom\" in toppings:\n",
    "    print(\"I will add mushrooms to your pizza.\")\n",
    "if \"extra cheese\" in toppings:\n",
    "    print(\"I will add extra cheese to your pizza.\")\n",
    "    \n",
    "print(\"Your pizza is ready now!\")"
   ]
  },
  {
   "cell_type": "code",
   "execution_count": 5,
   "id": "aaf84223",
   "metadata": {},
   "outputs": [
    {
     "name": "stdout",
     "output_type": "stream",
     "text": [
      "I will add some ham to your pizza\n",
      "I will make sure to use a gluten free base in your pizza\n",
      "Sorry we don't serve pineapple on pizza here!\n"
     ]
    }
   ],
   "source": [
    "toppings = [\"ham\", \"no gluten\", \"pineapple\"]\n",
    "\n",
    "if \"ham\" in toppings:\n",
    "    print(\"I will add some ham to your pizza\")\n",
    "if \"pepperoni\" in toppings:\n",
    "    print(\"I will add some pepperoni to your pizza\")\n",
    "if \"no gluten\" in toppings:\n",
    "    print(\"I will make sure to use a gluten free base in your pizza\")\n",
    "if \"pineapple\" in toppings:\n",
    "    print(\"Sorry we don't serve pineapple on pizza here!\")"
   ]
  },
  {
   "cell_type": "markdown",
   "id": "dd31907c",
   "metadata": {},
   "source": [
    "> This code wouldn't work if we used an if elif else loop as it would stop on the first condition if it was true, if we only want one block of code to run under a certain condition we can use the if eli else loops, if we want to run mutliple things we need to use multiple if statments."
   ]
  },
  {
   "cell_type": "code",
   "execution_count": 7,
   "id": "e20b00e6",
   "metadata": {},
   "outputs": [
    {
     "name": "stdout",
     "output_type": "stream",
     "text": [
      "You have just earned 20 points\n"
     ]
    }
   ],
   "source": [
    "alien_colour = \"blue\"\n",
    "\n",
    "if alien_colour == \"green\":\n",
    "    print(\"You have just earned 5 points\")\n",
    "elif alien_colour == \"yellow\":\n",
    "    print(\"You have just earned 10 points\")\n",
    "elif alien_colour == \"blue\":\n",
    "    print(\"You have just earned 20 points\")\n",
    "else:\n",
    "    print(\"You have just earned 1 point\")"
   ]
  },
  {
   "cell_type": "markdown",
   "id": "4e82947d",
   "metadata": {},
   "source": [
    "### For Loops "
   ]
  },
  {
   "cell_type": "code",
   "execution_count": 36,
   "id": "b5c2dc1f",
   "metadata": {},
   "outputs": [
    {
     "name": "stdout",
     "output_type": "stream",
     "text": [
      "H\n",
      "e\n",
      "l\n",
      "l\n",
      "o\n",
      "o\n"
     ]
    }
   ],
   "source": [
    "for i in \"Hello\":\n",
    "    print (i)\n",
    "print(i)"
   ]
  },
  {
   "cell_type": "code",
   "execution_count": 7,
   "id": "254f7d79",
   "metadata": {},
   "outputs": [
    {
     "name": "stdout",
     "output_type": "stream",
     "text": [
      "h\n",
      "w\n",
      "o\n",
      "r\n",
      "l\n",
      "d\n",
      "e\n",
      "w\n",
      "o\n",
      "r\n",
      "l\n",
      "d\n",
      "l\n",
      "w\n",
      "o\n",
      "r\n",
      "l\n",
      "d\n",
      "l\n",
      "w\n",
      "o\n",
      "r\n",
      "l\n",
      "d\n",
      "o\n",
      "w\n",
      "o\n",
      "r\n",
      "l\n",
      "d\n"
     ]
    }
   ],
   "source": [
    "for i in \"hello\":\n",
    "    print(i)\n",
    "    for j in \"world\":\n",
    "        print (j)\n",
    "    "
   ]
  },
  {
   "cell_type": "code",
   "execution_count": 4,
   "id": "6b263a63",
   "metadata": {},
   "outputs": [
    {
     "name": "stdout",
     "output_type": "stream",
     "text": [
      "1\n",
      "2\n",
      "3\n",
      "4\n",
      "5\n"
     ]
    }
   ],
   "source": [
    "list_ = [1, 2, 3, 4, 5]\n",
    "\n",
    "for i in list_:\n",
    "    print(i)"
   ]
  },
  {
   "cell_type": "code",
   "execution_count": 8,
   "id": "fd825cee",
   "metadata": {},
   "outputs": [
    {
     "name": "stdout",
     "output_type": "stream",
     "text": [
      "0\n",
      "1\n",
      "2\n",
      "3\n",
      "4\n"
     ]
    }
   ],
   "source": [
    "for i in range(5):\n",
    "    print(i)"
   ]
  },
  {
   "cell_type": "code",
   "execution_count": 9,
   "id": "d487d970",
   "metadata": {},
   "outputs": [
    {
     "name": "stdout",
     "output_type": "stream",
     "text": [
      "0\n",
      "1\n",
      "2\n",
      "3\n",
      "4\n"
     ]
    }
   ],
   "source": [
    "for i in range(len(list_)):\n",
    "    print(i)"
   ]
  },
  {
   "cell_type": "code",
   "execution_count": 10,
   "id": "a620119d",
   "metadata": {},
   "outputs": [
    {
     "name": "stdout",
     "output_type": "stream",
     "text": [
      "[1, 2, 3, 4, 5]\n",
      "[1, 2, 3, 4, 5]\n",
      "[1, 2, 3, 4, 5]\n",
      "[1, 2, 3, 4, 5]\n",
      "[1, 2, 3, 4, 5]\n"
     ]
    }
   ],
   "source": [
    "for i in range(len(list_)):\n",
    "    print(list_)"
   ]
  },
  {
   "cell_type": "code",
   "execution_count": 11,
   "id": "69163eb5",
   "metadata": {},
   "outputs": [
    {
     "name": "stdout",
     "output_type": "stream",
     "text": [
      "1\n",
      "2\n",
      "3\n",
      "4\n",
      "5\n"
     ]
    }
   ],
   "source": [
    "for i in range(len(list_)):\n",
    "    print(list_[i])"
   ]
  },
  {
   "cell_type": "code",
   "execution_count": 14,
   "id": "9b3d1cf8",
   "metadata": {},
   "outputs": [
    {
     "name": "stdout",
     "output_type": "stream",
     "text": [
      "0\n",
      "1\n",
      "2\n",
      "3\n",
      "4\n"
     ]
    }
   ],
   "source": [
    "i = 0\n",
    "\n",
    "while i < 5:\n",
    "    print(i)\n",
    "    i += 1"
   ]
  },
  {
   "cell_type": "code",
   "execution_count": 15,
   "id": "c92fbdcb",
   "metadata": {},
   "outputs": [
    {
     "name": "stdout",
     "output_type": "stream",
     "text": [
      "hi\n"
     ]
    }
   ],
   "source": [
    "done = False\n",
    "\n",
    "while not done:\n",
    "    print(\"hi\")\n",
    "    done = True"
   ]
  },
  {
   "cell_type": "code",
   "execution_count": 25,
   "id": "3196b09b",
   "metadata": {},
   "outputs": [
    {
     "name": "stdout",
     "output_type": "stream",
     "text": [
      "not even\n",
      "2\n",
      "not even\n",
      "4\n",
      "not even\n",
      "6\n",
      "not even\n",
      "8\n",
      "not even\n",
      "10\n"
     ]
    }
   ],
   "source": [
    "a = [1, 2, 3, 4, 5, 6, 7, 8, 9, 10]\n",
    "\n",
    "for i in a:\n",
    "    if i % 2 == 0:\n",
    "        print(i)\n",
    "    else:\n",
    "        print(\"not even\")\n",
    "    "
   ]
  },
  {
   "cell_type": "code",
   "execution_count": 16,
   "id": "ca347708",
   "metadata": {},
   "outputs": [
    {
     "data": {
      "text/plain": [
       "1.0"
      ]
     },
     "execution_count": 16,
     "metadata": {},
     "output_type": "execute_result"
    }
   ],
   "source": [
    "2 / 2"
   ]
  },
  {
   "cell_type": "code",
   "execution_count": 17,
   "id": "77b1c7e8",
   "metadata": {},
   "outputs": [
    {
     "data": {
      "text/plain": [
       "1.5"
      ]
     },
     "execution_count": 17,
     "metadata": {},
     "output_type": "execute_result"
    }
   ],
   "source": [
    "3 / 2"
   ]
  },
  {
   "cell_type": "code",
   "execution_count": 18,
   "id": "e4a81059",
   "metadata": {},
   "outputs": [
    {
     "data": {
      "text/plain": [
       "2.0"
      ]
     },
     "execution_count": 18,
     "metadata": {},
     "output_type": "execute_result"
    }
   ],
   "source": [
    "4 / 2"
   ]
  },
  {
   "cell_type": "code",
   "execution_count": 19,
   "id": "11623959",
   "metadata": {},
   "outputs": [
    {
     "data": {
      "text/plain": [
       "0"
      ]
     },
     "execution_count": 19,
     "metadata": {},
     "output_type": "execute_result"
    }
   ],
   "source": [
    "4 % 2"
   ]
  },
  {
   "cell_type": "code",
   "execution_count": 20,
   "id": "bbe1bdc8",
   "metadata": {},
   "outputs": [
    {
     "data": {
      "text/plain": [
       "True"
      ]
     },
     "execution_count": 20,
     "metadata": {},
     "output_type": "execute_result"
    }
   ],
   "source": [
    "4 % 2 == 0"
   ]
  },
  {
   "cell_type": "code",
   "execution_count": 22,
   "id": "307e891b",
   "metadata": {},
   "outputs": [
    {
     "data": {
      "text/plain": [
       "1"
      ]
     },
     "execution_count": 22,
     "metadata": {},
     "output_type": "execute_result"
    }
   ],
   "source": [
    "5 % 2"
   ]
  },
  {
   "cell_type": "code",
   "execution_count": 33,
   "id": "d007d319",
   "metadata": {},
   "outputs": [
    {
     "name": "stdout",
     "output_type": "stream",
     "text": [
      "You are exactly 18\n"
     ]
    }
   ],
   "source": [
    "year = 18\n",
    "\n",
    "if year > 18:\n",
    "    print(\"You are an adult\")\n",
    "elif year < 18:\n",
    "    print(\"You are a minor\")\n",
    "else:\n",
    "    print(\"You are exactly 18\")"
   ]
  },
  {
   "cell_type": "markdown",
   "id": "0c4d3be3",
   "metadata": {},
   "source": [
    "### Break allows us to stop the loop even if the condition is true"
   ]
  },
  {
   "cell_type": "code",
   "execution_count": 37,
   "id": "2262eb47",
   "metadata": {},
   "outputs": [],
   "source": [
    "i = 10\n",
    "\n",
    "while i < 18:\n",
    "    if i > 15:\n",
    "        #pass\n",
    "        #continue\n",
    "        break\n",
    "        print(i)\n",
    "    i = i + 1"
   ]
  },
  {
   "cell_type": "code",
   "execution_count": 1,
   "id": "6015303b",
   "metadata": {},
   "outputs": [
    {
     "name": "stdout",
     "output_type": "stream",
     "text": [
      "0\n",
      "1\n",
      "2\n",
      "3\n",
      "4\n",
      "5\n",
      "6\n",
      "7\n",
      "8\n",
      "9\n"
     ]
    }
   ],
   "source": [
    "for x in range(10):\n",
    "    print(x)\n",
    "    "
   ]
  },
  {
   "cell_type": "code",
   "execution_count": 2,
   "id": "4850a98d",
   "metadata": {},
   "outputs": [
    {
     "name": "stdout",
     "output_type": "stream",
     "text": [
      "0\n",
      "1\n",
      "2\n",
      "3\n",
      "4\n",
      "5\n",
      "6\n",
      "7\n",
      "8\n",
      "9\n"
     ]
    }
   ],
   "source": [
    "x = 0 \n",
    "\n",
    "while x < 10:\n",
    "    print(x)\n",
    "    x += 1"
   ]
  },
  {
   "cell_type": "markdown",
   "id": "e9fe2605",
   "metadata": {},
   "source": [
    "# Try and Except\n",
    "\n",
    "Try - Lets us test a block of code for errors\n",
    "\n",
    "Except - Lets us handle and error (pass by an error if we know it is coming)"
   ]
  },
  {
   "cell_type": "code",
   "execution_count": 4,
   "id": "412c2006",
   "metadata": {},
   "outputs": [
    {
     "ename": "ZeroDivisionError",
     "evalue": "division by zero",
     "output_type": "error",
     "traceback": [
      "\u001b[1;31m---------------------------------------------------------------------------\u001b[0m",
      "\u001b[1;31mZeroDivisionError\u001b[0m                         Traceback (most recent call last)",
      "Input \u001b[1;32mIn [4]\u001b[0m, in \u001b[0;36m<module>\u001b[1;34m\u001b[0m\n\u001b[0;32m      1\u001b[0m a \u001b[38;5;241m=\u001b[39m \u001b[38;5;241m1\u001b[39m\n\u001b[0;32m      2\u001b[0m b \u001b[38;5;241m=\u001b[39m \u001b[38;5;241m0\u001b[39m\n\u001b[1;32m----> 4\u001b[0m \u001b[43ma\u001b[49m\u001b[43m \u001b[49m\u001b[38;5;241;43m/\u001b[39;49m\u001b[43m \u001b[49m\u001b[43mb\u001b[49m\n",
      "\u001b[1;31mZeroDivisionError\u001b[0m: division by zero"
     ]
    }
   ],
   "source": [
    "a = 1\n",
    "b = 0\n",
    "\n",
    "a / b"
   ]
  },
  {
   "cell_type": "code",
   "execution_count": 7,
   "id": "748f77ee",
   "metadata": {},
   "outputs": [
    {
     "name": "stdout",
     "output_type": "stream",
     "text": [
      "pass\n"
     ]
    }
   ],
   "source": [
    "try:\n",
    "    a / b\n",
    "except:\n",
    "    print(\"pass\")"
   ]
  },
  {
   "cell_type": "code",
   "execution_count": 9,
   "id": "e79b57f7",
   "metadata": {},
   "outputs": [
    {
     "ename": "TypeError",
     "evalue": "unsupported operand type(s) for /: 'int' and 'str'",
     "output_type": "error",
     "traceback": [
      "\u001b[1;31m---------------------------------------------------------------------------\u001b[0m",
      "\u001b[1;31mTypeError\u001b[0m                                 Traceback (most recent call last)",
      "Input \u001b[1;32mIn [9]\u001b[0m, in \u001b[0;36m<module>\u001b[1;34m\u001b[0m\n\u001b[0;32m      1\u001b[0m \u001b[38;5;28;01mtry\u001b[39;00m:\n\u001b[1;32m----> 2\u001b[0m     \u001b[38;5;241;43m1\u001b[39;49m\u001b[43m \u001b[49m\u001b[38;5;241;43m/\u001b[39;49m\u001b[43m \u001b[49m\u001b[38;5;124;43m\"\u001b[39;49m\u001b[38;5;124;43mHello\u001b[39;49m\u001b[38;5;124;43m\"\u001b[39;49m\n\u001b[0;32m      3\u001b[0m \u001b[38;5;28;01mexcept\u001b[39;00m \u001b[38;5;167;01mZeroDivisionError\u001b[39;00m:\n\u001b[0;32m      4\u001b[0m     \u001b[38;5;28mprint\u001b[39m(\u001b[38;5;124m\"\u001b[39m\u001b[38;5;124mpass\u001b[39m\u001b[38;5;124m\"\u001b[39m)\n",
      "\u001b[1;31mTypeError\u001b[0m: unsupported operand type(s) for /: 'int' and 'str'"
     ]
    }
   ],
   "source": [
    "try:\n",
    "    1 / \"Hello\"\n",
    "except ZeroDivisionError:\n",
    "    print(\"pass\")"
   ]
  },
  {
   "cell_type": "code",
   "execution_count": 28,
   "id": "a5679e3a",
   "metadata": {},
   "outputs": [],
   "source": [
    "def golden_ratio(num1, num2):\n",
    "    try:\n",
    "        res = num1 / num2\n",
    "    except ZeroDivisionError:\n",
    "        return(0)\n",
    "    except TypeError:\n",
    "        print(\"type error accepted\")\n",
    "        return\n",
    "    return(res)"
   ]
  },
  {
   "cell_type": "code",
   "execution_count": 22,
   "id": "88a1ba57",
   "metadata": {},
   "outputs": [
    {
     "name": "stdout",
     "output_type": "stream",
     "text": [
      "0.5\n"
     ]
    }
   ],
   "source": [
    "result = golden_ratio(1, 2)\n",
    "print(result)\n"
   ]
  },
  {
   "cell_type": "code",
   "execution_count": 23,
   "id": "a784944b",
   "metadata": {},
   "outputs": [
    {
     "data": {
      "text/plain": [
       "0"
      ]
     },
     "execution_count": 23,
     "metadata": {},
     "output_type": "execute_result"
    }
   ],
   "source": [
    "golden_ratio(1, 0)"
   ]
  },
  {
   "cell_type": "code",
   "execution_count": 29,
   "id": "a0b94451",
   "metadata": {},
   "outputs": [
    {
     "name": "stdout",
     "output_type": "stream",
     "text": [
      "type error accepted\n"
     ]
    }
   ],
   "source": [
    "golden_ratio(1, \"hello\")"
   ]
  },
  {
   "cell_type": "markdown",
   "id": "ddab925c",
   "metadata": {},
   "source": [
    "# Functions"
   ]
  },
  {
   "cell_type": "code",
   "execution_count": 31,
   "id": "2f6eace5",
   "metadata": {},
   "outputs": [
    {
     "data": {
      "text/plain": [
       "4"
      ]
     },
     "execution_count": 31,
     "metadata": {},
     "output_type": "execute_result"
    }
   ],
   "source": [
    "def sum_numbers(num1, num2):\n",
    "    result = num1 + num2\n",
    "    return result\n",
    "sum_numbers(2, 2)"
   ]
  },
  {
   "cell_type": "code",
   "execution_count": 32,
   "id": "34775572",
   "metadata": {},
   "outputs": [
    {
     "ename": "TypeError",
     "evalue": "sum_numbers() missing 2 required positional arguments: 'num1' and 'num2'",
     "output_type": "error",
     "traceback": [
      "\u001b[1;31m---------------------------------------------------------------------------\u001b[0m",
      "\u001b[1;31mTypeError\u001b[0m                                 Traceback (most recent call last)",
      "Input \u001b[1;32mIn [32]\u001b[0m, in \u001b[0;36m<module>\u001b[1;34m\u001b[0m\n\u001b[0;32m      1\u001b[0m num1 \u001b[38;5;241m=\u001b[39m \u001b[38;5;241m12\u001b[39m\n\u001b[0;32m      2\u001b[0m num2 \u001b[38;5;241m=\u001b[39m \u001b[38;5;241m3\u001b[39m\n\u001b[1;32m----> 3\u001b[0m \u001b[43msum_numbers\u001b[49m\u001b[43m(\u001b[49m\u001b[43m)\u001b[49m\n",
      "\u001b[1;31mTypeError\u001b[0m: sum_numbers() missing 2 required positional arguments: 'num1' and 'num2'"
     ]
    }
   ],
   "source": [
    "num1 = 12\n",
    "num2 = 3\n",
    "sum_numbers()"
   ]
  },
  {
   "cell_type": "code",
   "execution_count": 33,
   "id": "5c2cfc53",
   "metadata": {},
   "outputs": [
    {
     "data": {
      "text/plain": [
       "15"
      ]
     },
     "execution_count": 33,
     "metadata": {},
     "output_type": "execute_result"
    }
   ],
   "source": [
    "def sum_numbers():\n",
    "    result = num1 + num2\n",
    "    return result\n",
    "num1 = 12\n",
    "num2 = 3\n",
    "sum_numbers()"
   ]
  },
  {
   "cell_type": "code",
   "execution_count": null,
   "id": "9737332c",
   "metadata": {},
   "outputs": [],
   "source": [
    "local n = 2 \n",
    "global n = 2"
   ]
  },
  {
   "cell_type": "code",
   "execution_count": 1,
   "id": "000226d4",
   "metadata": {},
   "outputs": [
    {
     "name": "stdout",
     "output_type": "stream",
     "text": [
      "Hello\n"
     ]
    }
   ],
   "source": [
    "def method(x):\n",
    "    print(x)\n",
    "\n",
    "\n",
    "method(\"Hello\")"
   ]
  },
  {
   "cell_type": "code",
   "execution_count": 2,
   "id": "ebeeb90e",
   "metadata": {},
   "outputs": [],
   "source": [
    "f = method"
   ]
  },
  {
   "cell_type": "code",
   "execution_count": 3,
   "id": "943bf487",
   "metadata": {},
   "outputs": [
    {
     "name": "stdout",
     "output_type": "stream",
     "text": [
      "Hello\n"
     ]
    }
   ],
   "source": [
    "f(\"Hello\")"
   ]
  },
  {
   "cell_type": "code",
   "execution_count": 4,
   "id": "af441762",
   "metadata": {},
   "outputs": [
    {
     "data": {
      "text/plain": [
       "<function __main__.method(x)>"
      ]
     },
     "execution_count": 4,
     "metadata": {},
     "output_type": "execute_result"
    }
   ],
   "source": [
    "f"
   ]
  },
  {
   "cell_type": "markdown",
   "id": "e75004fe",
   "metadata": {},
   "source": [
    "# Default Mathamatical Function"
   ]
  },
  {
   "cell_type": "code",
   "execution_count": 5,
   "id": "caad3d2c",
   "metadata": {},
   "outputs": [
    {
     "data": {
      "text/plain": [
       "3"
      ]
     },
     "execution_count": 5,
     "metadata": {},
     "output_type": "execute_result"
    }
   ],
   "source": [
    "max(1, 2, 3)"
   ]
  },
  {
   "cell_type": "code",
   "execution_count": 7,
   "id": "dbcbff78",
   "metadata": {},
   "outputs": [
    {
     "data": {
      "text/plain": [
       "6"
      ]
     },
     "execution_count": 7,
     "metadata": {},
     "output_type": "execute_result"
    }
   ],
   "source": [
    "sum([1, 2, 3])"
   ]
  },
  {
   "cell_type": "code",
   "execution_count": 28,
   "id": "62a406e5",
   "metadata": {},
   "outputs": [
    {
     "data": {
      "text/plain": [
       "3"
      ]
     },
     "execution_count": 28,
     "metadata": {},
     "output_type": "execute_result"
    }
   ],
   "source": [
    "sum([1, 2])"
   ]
  },
  {
   "cell_type": "code",
   "execution_count": 10,
   "id": "d4845489",
   "metadata": {},
   "outputs": [
    {
     "data": {
      "text/plain": [
       "106"
      ]
     },
     "execution_count": 10,
     "metadata": {},
     "output_type": "execute_result"
    }
   ],
   "source": [
    "sum([1, 2, 3], 100)"
   ]
  },
  {
   "cell_type": "code",
   "execution_count": 19,
   "id": "841a50ff",
   "metadata": {},
   "outputs": [
    {
     "data": {
      "text/plain": [
       "2.34"
      ]
     },
     "execution_count": 19,
     "metadata": {},
     "output_type": "execute_result"
    }
   ],
   "source": [
    "abs(2.34)"
   ]
  },
  {
   "cell_type": "code",
   "execution_count": 20,
   "id": "dc58445c",
   "metadata": {},
   "outputs": [
    {
     "data": {
      "text/plain": [
       "22"
      ]
     },
     "execution_count": 20,
     "metadata": {},
     "output_type": "execute_result"
    }
   ],
   "source": [
    "abs(-22)"
   ]
  },
  {
   "cell_type": "code",
   "execution_count": 18,
   "id": "5fe3b15c",
   "metadata": {},
   "outputs": [
    {
     "data": {
      "text/plain": [
       "3.2"
      ]
     },
     "execution_count": 18,
     "metadata": {},
     "output_type": "execute_result"
    }
   ],
   "source": [
    "round(3.17, 1)"
   ]
  },
  {
   "cell_type": "code",
   "execution_count": 22,
   "id": "fb5f72e2",
   "metadata": {},
   "outputs": [
    {
     "data": {
      "text/plain": [
       "True"
      ]
     },
     "execution_count": 22,
     "metadata": {},
     "output_type": "execute_result"
    }
   ],
   "source": [
    "values = [False, True, True, False]\n",
    "\n",
    "any(values)"
   ]
  },
  {
   "cell_type": "code",
   "execution_count": 23,
   "id": "ceb1b189",
   "metadata": {},
   "outputs": [
    {
     "data": {
      "text/plain": [
       "False"
      ]
     },
     "execution_count": 23,
     "metadata": {},
     "output_type": "execute_result"
    }
   ],
   "source": [
    "values_2 =[False, False, False]\n",
    "\n",
    "any(values_2)"
   ]
  },
  {
   "cell_type": "code",
   "execution_count": 24,
   "id": "966ff120",
   "metadata": {},
   "outputs": [
    {
     "data": {
      "text/plain": [
       "True"
      ]
     },
     "execution_count": 24,
     "metadata": {},
     "output_type": "execute_result"
    }
   ],
   "source": [
    "values_3 =[False, False, True]\n",
    "\n",
    "any(values_3)"
   ]
  },
  {
   "cell_type": "code",
   "execution_count": null,
   "id": "db9eb704",
   "metadata": {},
   "outputs": [],
   "source": []
  },
  {
   "cell_type": "markdown",
   "id": "5e3ec729",
   "metadata": {},
   "source": [
    "# Map"
   ]
  },
  {
   "cell_type": "code",
   "execution_count": 3,
   "id": "651f0b53",
   "metadata": {},
   "outputs": [
    {
     "data": {
      "text/plain": [
       "2"
      ]
     },
     "execution_count": 3,
     "metadata": {},
     "output_type": "execute_result"
    }
   ],
   "source": [
    "def summing(x, y):\n",
    "    return (x + y)\n",
    "\n",
    "summing(1, 1)"
   ]
  },
  {
   "cell_type": "code",
   "execution_count": 13,
   "id": "808a07f3",
   "metadata": {},
   "outputs": [
    {
     "name": "stdout",
     "output_type": "stream",
     "text": [
      "5\n",
      "7\n",
      "9\n"
     ]
    }
   ],
   "source": [
    "for n in map(summing, [1, 2, 3], [4, 5, 6]):\n",
    "    print(n)"
   ]
  },
  {
   "cell_type": "markdown",
   "id": "c3dac832",
   "metadata": {},
   "source": [
    "# Zip"
   ]
  },
  {
   "cell_type": "code",
   "execution_count": 15,
   "id": "cae37168",
   "metadata": {},
   "outputs": [
    {
     "name": "stdout",
     "output_type": "stream",
     "text": [
      "(1, 4)\n",
      "(2, 5)\n",
      "(3, 6)\n"
     ]
    }
   ],
   "source": [
    "for x in zip([1, 2, 3], [4, 5, 6]):\n",
    "    print(x)"
   ]
  },
  {
   "cell_type": "code",
   "execution_count": 16,
   "id": "004948e4",
   "metadata": {},
   "outputs": [
    {
     "name": "stdout",
     "output_type": "stream",
     "text": [
      "1 4\n",
      "5\n",
      "2 5\n",
      "7\n",
      "3 6\n",
      "9\n"
     ]
    }
   ],
   "source": [
    "for x, y in zip([1, 2, 3], [4, 5, 6]):\n",
    "    print(x, y)\n",
    "    print(x + y)"
   ]
  },
  {
   "cell_type": "code",
   "execution_count": 17,
   "id": "d875a6c1",
   "metadata": {},
   "outputs": [
    {
     "name": "stdout",
     "output_type": "stream",
     "text": [
      "1 a\n",
      "2 b\n",
      "3 c\n"
     ]
    }
   ],
   "source": [
    "for x, y in zip([1, 2, 3], \"abc\"):\n",
    "    print(x, y)\n",
    "    "
   ]
  },
  {
   "cell_type": "markdown",
   "id": "7a069115",
   "metadata": {},
   "source": [
    "# Filter"
   ]
  },
  {
   "cell_type": "code",
   "execution_count": 18,
   "id": "27fa1ce4",
   "metadata": {},
   "outputs": [
    {
     "data": {
      "text/plain": [
       "False"
      ]
     },
     "execution_count": 18,
     "metadata": {},
     "output_type": "execute_result"
    }
   ],
   "source": [
    "def greater_than(x):\n",
    "    return(x > 5)\n",
    "\n",
    "greater_than(4)"
   ]
  },
  {
   "cell_type": "code",
   "execution_count": 19,
   "id": "8394817b",
   "metadata": {},
   "outputs": [
    {
     "data": {
      "text/plain": [
       "True"
      ]
     },
     "execution_count": 19,
     "metadata": {},
     "output_type": "execute_result"
    }
   ],
   "source": [
    "\n",
    "greater_than(6)"
   ]
  },
  {
   "cell_type": "code",
   "execution_count": 20,
   "id": "4b491c05",
   "metadata": {},
   "outputs": [
    {
     "name": "stdout",
     "output_type": "stream",
     "text": [
      "6\n",
      "7\n"
     ]
    }
   ],
   "source": [
    "for n in filter(greater_than, [3, 4, 5, 6, 7]):\n",
    "    print(n)"
   ]
  },
  {
   "cell_type": "markdown",
   "id": "64fb3412",
   "metadata": {},
   "source": [
    "# Sorted \n",
    "\n",
    "The sorted function sorts the elements of a give iterable in a specific order such as ascending or decending, returning a list."
   ]
  },
  {
   "cell_type": "code",
   "execution_count": 32,
   "id": "ef01df4e",
   "metadata": {},
   "outputs": [
    {
     "data": {
      "text/plain": [
       "[1, 4, 8, 23, 32, 46]"
      ]
     },
     "execution_count": 32,
     "metadata": {},
     "output_type": "execute_result"
    }
   ],
   "source": [
    "numbers_list = [1, 23, 4, 32, 46, 8]\n",
    "\n",
    "sorted(numbers_list)"
   ]
  },
  {
   "cell_type": "code",
   "execution_count": 34,
   "id": "d1f7dc76",
   "metadata": {},
   "outputs": [
    {
     "data": {
      "text/plain": [
       "[46, 32, 23, 8, 4, 1]"
      ]
     },
     "execution_count": 34,
     "metadata": {},
     "output_type": "execute_result"
    }
   ],
   "source": [
    "numbers_list = [1, 23, 4, 32, 46, 8]\n",
    "\n",
    "sorted(numbers_list, reverse = True)"
   ]
  },
  {
   "cell_type": "code",
   "execution_count": 30,
   "id": "b783eaaf",
   "metadata": {},
   "outputs": [
    {
     "data": {
      "text/plain": [
       "['a', 'b', 'c', 'd', 'z']"
      ]
     },
     "execution_count": 30,
     "metadata": {},
     "output_type": "execute_result"
    }
   ],
   "source": [
    "letters_list = (\"a\", \"c\", \"d\", \"z\", \"b\")\n",
    "\n",
    "sorted(letters_list)"
   ]
  },
  {
   "cell_type": "code",
   "execution_count": null,
   "id": "bb7fcb39",
   "metadata": {},
   "outputs": [],
   "source": []
  },
  {
   "cell_type": "markdown",
   "id": "4e66eb8d",
   "metadata": {},
   "source": [
    "# Reversed\n",
    "\n",
    "### This function returns the reversed iterator of the given sequence\n"
   ]
  },
  {
   "cell_type": "code",
   "execution_count": 1,
   "id": "240c447f",
   "metadata": {},
   "outputs": [
    {
     "name": "stdout",
     "output_type": "stream",
     "text": [
      "5\n",
      "4\n",
      "3\n",
      "2\n",
      "1\n"
     ]
    }
   ],
   "source": [
    "seq = [1, 2, 3, 4, 5]\n",
    "rseq = reversed(seq)\n",
    "for x in rseq:\n",
    "    print(x)"
   ]
  },
  {
   "cell_type": "markdown",
   "id": "126cc6d2",
   "metadata": {},
   "source": [
    "# Classes\n",
    "\n",
    "Like Mattia said, everything in python is an \"object\",  a class is an object constructor, or a \"blueprint\" for creating objects\n",
    "\n",
    "- A class is like an object constructor, or a blueprint for creating objects \n",
    "- To create a class we use \"class():\" when we create a class, we create and object\n",
    "- An object is an instance of a class\n",
    "- An instance is a copy of the class with actual values(data)\n",
    "- The more data we have the more instances we have in the class \n",
    "- Class instances can have methods that are defined by their class for modifying their state\n",
    "- Once we have made the class, set the attributes, then added a method, ensure that we give the class an object to use (this is the sticker we stick on the class) that we can call \n"
   ]
  },
  {
   "cell_type": "code",
   "execution_count": 26,
   "id": "daf836e7",
   "metadata": {},
   "outputs": [],
   "source": [
    "class Food():\n",
    "    pass\n"
   ]
  },
  {
   "cell_type": "code",
   "execution_count": 27,
   "id": "cbd4161c",
   "metadata": {},
   "outputs": [
    {
     "name": "stdout",
     "output_type": "stream",
     "text": [
      "<__main__.Food object at 0x0000022505737CA0>\n"
     ]
    }
   ],
   "source": [
    "pasta = Food()\n",
    "\n",
    "print(pasta)"
   ]
  },
  {
   "cell_type": "code",
   "execution_count": 28,
   "id": "8c22a7d4",
   "metadata": {},
   "outputs": [
    {
     "name": "stdout",
     "output_type": "stream",
     "text": [
      "This is class food\n"
     ]
    }
   ],
   "source": [
    "class Food():\n",
    "    def __str__(self):\n",
    "        return(\"This is class food\")\n",
    "pasta = Food()\n",
    "print(pasta)"
   ]
  },
  {
   "cell_type": "code",
   "execution_count": 29,
   "id": "e27146a7",
   "metadata": {},
   "outputs": [
    {
     "data": {
      "text/plain": [
       "'roast dinner'"
      ]
     },
     "execution_count": 29,
     "metadata": {},
     "output_type": "execute_result"
    }
   ],
   "source": [
    "class Menu():\n",
    "    def __init__(self, breakfast, lunch, dinner):\n",
    "        self.breakfast = breakfast\n",
    "        self.lunch = lunch\n",
    "        self.dinner = dinner\n",
    "        \n",
    "    def whats_for_breakfast(self):\n",
    "        return self.breakfast\n",
    "friday = Menu(breakfast = \"eggs\", lunch = \"pork\", dinner = \"roast dinner\")\n",
    "friday.whats_for_breakfast()\n",
    "\n",
    "friday.dinner\n",
    "        "
   ]
  },
  {
   "cell_type": "code",
   "execution_count": 30,
   "id": "5f9d1df9",
   "metadata": {},
   "outputs": [
    {
     "data": {
      "text/plain": [
       "'cereals'"
      ]
     },
     "execution_count": 30,
     "metadata": {},
     "output_type": "execute_result"
    }
   ],
   "source": [
    "saturday = Menu(breakfast = \"cereals\", lunch = \"fish\", dinner = \"nothing\")\n",
    "\n",
    "saturday.whats_for_breakfast()\n",
    "    "
   ]
  },
  {
   "cell_type": "code",
   "execution_count": 31,
   "id": "7d170c1e",
   "metadata": {},
   "outputs": [
    {
     "data": {
      "text/plain": [
       "(80, 15, 5)"
      ]
     },
     "execution_count": 31,
     "metadata": {},
     "output_type": "execute_result"
    }
   ],
   "source": [
    "class Food():\n",
    "    def __init__(self, protein, carbs, sugars):\n",
    "        self.protein = protein\n",
    "        self.carbs = carbs\n",
    "        self.sugars = sugars\n",
    "    \n",
    "    def content(self):\n",
    "        return self.protein, self.carbs, self.sugars\n",
    "\n",
    "beef = Food(protein = 80, carbs = 15 , sugars = 5)\n",
    "beef.content()\n",
    "\n",
    "   "
   ]
  },
  {
   "cell_type": "markdown",
   "id": "6c1ed18f",
   "metadata": {},
   "source": [
    "### Ask Mattia what the difference is between the two (TOP AND BOTTOM) ?????"
   ]
  },
  {
   "cell_type": "code",
   "execution_count": 13,
   "id": "c101ebae",
   "metadata": {},
   "outputs": [
    {
     "name": "stdout",
     "output_type": "stream",
     "text": [
      "80\n",
      "15\n",
      "5\n"
     ]
    }
   ],
   "source": [
    "class Food():\n",
    "    def __init__(self, protein, carbs, sugars):\n",
    "        self.protein = protein\n",
    "        self.carbs = carbs\n",
    "        self.sugars = sugars\n",
    "\n",
    "beef = Food(protein = 80, carbs = 15 , sugars = 5)\n",
    "\n",
    "print(beef.protein)\n",
    "print(beef.carbs)\n",
    "print(beef.sugars)"
   ]
  },
  {
   "cell_type": "markdown",
   "id": "e6c4b0c5",
   "metadata": {},
   "source": [
    "### Back to the lesson with Mattia"
   ]
  },
  {
   "cell_type": "code",
   "execution_count": 16,
   "id": "fea7d6c9",
   "metadata": {},
   "outputs": [
    {
     "data": {
      "text/plain": [
       "(80, 15, 5)"
      ]
     },
     "execution_count": 16,
     "metadata": {},
     "output_type": "execute_result"
    }
   ],
   "source": [
    "class Food():\n",
    "    def __init__(self, protein, carbs, sugars):\n",
    "        self.protein = protein\n",
    "        self.carbs = carbs\n",
    "        self.sugars = sugars\n",
    "    \n",
    "    def content(self):\n",
    "        return self.protein, self.carbs, self.sugars\n",
    "\n",
    "beef = Food(protein = 80, carbs = 15 , sugars = 5)\n",
    "beef.content()"
   ]
  },
  {
   "cell_type": "code",
   "execution_count": 22,
   "id": "db1aba10",
   "metadata": {},
   "outputs": [],
   "source": [
    "Meat = Food"
   ]
  },
  {
   "cell_type": "code",
   "execution_count": 23,
   "id": "6eb53560",
   "metadata": {},
   "outputs": [],
   "source": [
    "beef = Meat(protein = 80, carbs = 15 , sugars = 5)"
   ]
  },
  {
   "cell_type": "code",
   "execution_count": 24,
   "id": "1eb0b6dd",
   "metadata": {},
   "outputs": [],
   "source": [
    "class Meat(Food):\n",
    "    pass"
   ]
  },
  {
   "cell_type": "code",
   "execution_count": 25,
   "id": "fdc6e6e8",
   "metadata": {},
   "outputs": [
    {
     "data": {
      "text/plain": [
       "(80, 15, 5)"
      ]
     },
     "execution_count": 25,
     "metadata": {},
     "output_type": "execute_result"
    }
   ],
   "source": [
    "beef.content()\n"
   ]
  },
  {
   "cell_type": "markdown",
   "id": "f8c9d99b",
   "metadata": {},
   "source": [
    "### Self Work Classes"
   ]
  },
  {
   "cell_type": "code",
   "execution_count": 1,
   "id": "098060a5",
   "metadata": {},
   "outputs": [
    {
     "name": "stdout",
     "output_type": "stream",
     "text": [
      "my dogs name is Tilda\n",
      "my dogs breed is labrador\n"
     ]
    }
   ],
   "source": [
    "class Dog():\n",
    "# Making the class\n",
    "    def __init__(self, name, breed):\n",
    "        self.name = name \n",
    "        self.breed = breed\n",
    "# Initalise attributes name and age, this is information the class will use \n",
    "# self is automatically passed and we have self to give the induvidual instance acsess to the attributes and method \n",
    "# aka data and behaviour \n",
    "\n",
    "    def sit(self):\n",
    "        print(f\"{self.name} is now sitting\")\n",
    "# Simulates the dog sitting this is a behaviour of an object\n",
    "\n",
    "    def roll_over(self):\n",
    "        print(f\"{self.name} is rolling over\")\n",
    "# Simulates the dog rolling over ~ \n",
    "\n",
    "my_dog = Dog(\"Tilda\", \"Labrador\")\n",
    "\n",
    "print(f\"my dogs name is {my_dog.name}\")\n",
    "print(f\"my dogs breed is {my_dog.breed}\")\n",
    "\n",
    "\n",
    "\n",
    "    "
   ]
  },
  {
   "cell_type": "code",
   "execution_count": 7,
   "id": "b98d63ed",
   "metadata": {},
   "outputs": [
    {
     "name": "stdout",
     "output_type": "stream",
     "text": [
      "R8 100000\n",
      "X1 90000\n"
     ]
    }
   ],
   "source": [
    "class Car():\n",
    "# Creating a class called car\n",
    "\n",
    "    def __init__(self, model, price):\n",
    "        self.model = model\n",
    "        self.price = price\n",
    "# Class method, these are the variables we will need to give the method for it to work\n",
    "\n",
    "Audi = Car(\"R8\", 100000)\n",
    "# Creating the object for the class called \"Audi\"\n",
    "BMW = Car(\"X1\", 90000)\n",
    "# Creating another object for the class Car called \"BMW\"\n",
    "\n",
    "print(Audi.model, Audi.price)\n",
    "print(BMW.model, BMW.price)"
   ]
  },
  {
   "cell_type": "markdown",
   "id": "c13b731e",
   "metadata": {},
   "source": [
    "### Making a class without notes"
   ]
  },
  {
   "cell_type": "code",
   "execution_count": 4,
   "id": "c0c670ca",
   "metadata": {},
   "outputs": [
    {
     "name": "stdout",
     "output_type": "stream",
     "text": [
      "('Cameron', 'Wheeler', '30000')\n",
      "('Mattia', 'Cinelli', '70000')\n"
     ]
    }
   ],
   "source": [
    "class Employee():\n",
    "# Making a class called employee \n",
    "    address = \"London\" # Class attribute\n",
    "\n",
    "    def __init__(self, first, last, wage):\n",
    "        self.first = first # Instance attribute\n",
    "        self.last = last \n",
    "        self.wage = wage\n",
    "# giving the method its variables\n",
    "# defining instance variables \n",
    "    \n",
    "    def payslip(self):\n",
    "        return self.first, self.last, self.wage\n",
    "# Making a class method\n",
    "\n",
    "emp_1 = Employee(\"Cameron\", \"Wheeler\", \"30000\") # Instance of a class\n",
    "emp_2 = Employee(\"Mattia\", \"Cinelli\", \"70000\")\n",
    "# Two instances and their arugments to be passed \n",
    "\n",
    "# print(payslip.emp_1)\n",
    "# print(payslip.emp_2)\n",
    "\n",
    "print(Employee.payslip(emp_1))\n",
    "print(Employee.payslip(emp_2))\n",
    "# Print class employee function payslip which will return the instance variables that we are passing when creating the instances"
   ]
  },
  {
   "cell_type": "code",
   "execution_count": 5,
   "id": "3c32d563",
   "metadata": {},
   "outputs": [
    {
     "data": {
      "text/plain": [
       "'London'"
      ]
     },
     "execution_count": 5,
     "metadata": {},
     "output_type": "execute_result"
    }
   ],
   "source": [
    "emp_1.payslip()\n",
    "Employee.address"
   ]
  },
  {
   "cell_type": "code",
   "execution_count": null,
   "id": "c3c2f0b5",
   "metadata": {},
   "outputs": [],
   "source": [
    "class Food():\n",
    "    def __init__(self, protein, carbs, sugars):\n",
    "        self.protein = protein\n",
    "        self.carbs = carbs\n",
    "        self.sugars = sugars\n",
    "    \n",
    "    def content(self):\n",
    "        return self.protein, self.carbs, self.sugars\n",
    "\n",
    "beef = Food(protein = 80, carbs = 15 , sugars = 5)\n",
    "beef.content()"
   ]
  },
  {
   "cell_type": "markdown",
   "id": "6be5f3de",
   "metadata": {},
   "source": [
    "### Python Inheritance \n",
    "- Inheritance allows the coder to define a class that inherits all the methods and properties included in another class\n",
    "- The parent class is the class that is being inherited from\n",
    "- The child class is the reciver (this is also called the derived class)\n"
   ]
  },
  {
   "cell_type": "markdown",
   "id": "2ae8d719",
   "metadata": {},
   "source": [
    "## Mattias Chip Chop Exercise"
   ]
  },
  {
   "cell_type": "code",
   "execution_count": 16,
   "id": "5e640d33",
   "metadata": {},
   "outputs": [
    {
     "name": "stdout",
     "output_type": "stream",
     "text": [
      "1 \n",
      "2 \n",
      "3 chip\n",
      "4 \n",
      "5 chop\n",
      "6 chip\n",
      "7 \n",
      "8 \n",
      "9 chip\n",
      "10 chop\n",
      "11 \n",
      "12 chip\n",
      "13 chip\n",
      "14 \n",
      "15 chipchop\n",
      "16 \n",
      "17 \n",
      "18 chip\n",
      "19 \n",
      "20 chop\n",
      "21 chip\n",
      "22 \n",
      "23 chip\n",
      "24 chip\n",
      "25 chop\n",
      "26 \n",
      "27 chip\n",
      "28 \n",
      "29 \n",
      "30 chipchop\n",
      "31 chip\n",
      "32 chip\n",
      "33 chip\n",
      "34 chip\n",
      "35 chipchop\n",
      "36 chip\n",
      "37 chip\n",
      "38 chip\n",
      "39 chip\n",
      "40 chop\n",
      "41 \n",
      "42 chip\n",
      "43 chip\n",
      "44 \n",
      "45 chipchop\n",
      "46 \n",
      "47 \n",
      "48 chip\n",
      "49 \n",
      "50 chop\n",
      "51 chipchop\n",
      "52 chop\n",
      "53 chipchop\n",
      "54 chipchop\n",
      "55 chop\n",
      "56 chop\n",
      "57 chipchop\n",
      "58 chop\n",
      "59 chop\n",
      "60 chipchop\n",
      "61 \n",
      "62 \n",
      "63 chip\n",
      "64 \n",
      "65 chop\n",
      "66 chip\n",
      "67 \n",
      "68 \n",
      "69 chip\n",
      "70 chop\n",
      "71 \n",
      "72 chip\n",
      "73 chip\n",
      "74 \n",
      "75 chipchop\n",
      "76 \n",
      "77 \n",
      "78 chip\n",
      "79 \n",
      "80 chop\n",
      "81 chip\n",
      "82 \n",
      "83 chip\n",
      "84 chip\n",
      "85 chop\n",
      "86 \n",
      "87 chip\n",
      "88 \n",
      "89 \n",
      "90 chipchop\n",
      "91 \n",
      "92 \n",
      "93 chip\n",
      "94 \n",
      "95 chop\n",
      "96 chip\n",
      "97 \n",
      "98 \n",
      "99 chip\n",
      "100 chop\n",
      "101 \n",
      "102 chip\n",
      "103 chip\n",
      "104 \n",
      "105 chipchop\n",
      "106 \n",
      "107 \n",
      "108 chip\n",
      "109 \n",
      "110 chop\n",
      "111 chip\n",
      "112 \n",
      "113 chip\n",
      "114 chip\n",
      "115 chop\n",
      "116 \n",
      "117 chip\n",
      "118 \n",
      "119 \n",
      "120 chipchop\n",
      "121 \n",
      "122 \n",
      "123 chip\n",
      "124 \n",
      "125 chop\n",
      "126 chip\n",
      "127 \n",
      "128 \n",
      "129 chip\n",
      "130 chipchop\n",
      "131 chip\n",
      "132 chip\n",
      "133 chip\n",
      "134 chip\n",
      "135 chipchop\n",
      "136 chip\n",
      "137 chip\n",
      "138 chip\n",
      "139 chip\n",
      "140 chop\n",
      "141 chip\n",
      "142 \n",
      "143 chip\n",
      "144 chip\n",
      "145 chop\n",
      "146 \n",
      "147 chip\n",
      "148 \n",
      "149 \n",
      "150 chipchop\n",
      "151 chop\n",
      "152 chop\n",
      "153 chipchop\n",
      "154 chop\n",
      "155 chop\n",
      "156 chipchop\n",
      "157 chop\n",
      "158 chop\n",
      "159 chipchop\n",
      "160 chop\n",
      "161 \n",
      "162 chip\n",
      "163 chip\n",
      "164 \n",
      "165 chipchop\n",
      "166 \n",
      "167 \n",
      "168 chip\n",
      "169 \n",
      "170 chop\n",
      "171 chip\n",
      "172 \n",
      "173 chip\n",
      "174 chip\n",
      "175 chop\n",
      "176 \n",
      "177 chip\n",
      "178 \n",
      "179 \n",
      "180 chipchop\n",
      "181 \n",
      "182 \n",
      "183 chip\n",
      "184 \n",
      "185 chop\n",
      "186 chip\n",
      "187 \n",
      "188 \n",
      "189 chip\n",
      "190 chop\n",
      "191 \n",
      "192 chip\n",
      "193 chip\n",
      "194 \n",
      "195 chipchop\n",
      "196 \n",
      "197 \n",
      "198 chip\n",
      "199 \n",
      "200 chop\n",
      "201 chip\n",
      "202 \n",
      "203 chip\n",
      "204 chip\n",
      "205 chop\n",
      "206 \n",
      "207 chip\n",
      "208 \n",
      "209 \n",
      "210 chipchop\n",
      "211 \n",
      "212 \n",
      "213 chip\n",
      "214 \n",
      "215 chop\n",
      "216 chip\n",
      "217 \n",
      "218 \n",
      "219 chip\n",
      "220 chop\n",
      "221 \n",
      "222 chip\n",
      "223 chip\n",
      "224 \n",
      "225 chipchop\n",
      "226 \n",
      "227 \n",
      "228 chip\n",
      "229 \n",
      "230 chipchop\n",
      "231 chip\n",
      "232 chip\n",
      "233 chip\n",
      "234 chip\n",
      "235 chipchop\n",
      "236 chip\n",
      "237 chip\n",
      "238 chip\n",
      "239 chip\n",
      "240 chipchop\n",
      "241 \n",
      "242 \n",
      "243 chip\n",
      "244 \n",
      "245 chop\n",
      "246 chip\n",
      "247 \n",
      "248 \n",
      "249 chip\n",
      "250 chop\n",
      "251 chop\n",
      "252 chipchop\n",
      "253 chipchop\n",
      "254 chop\n",
      "255 chipchop\n",
      "256 chop\n",
      "257 chop\n",
      "258 chipchop\n",
      "259 chop\n",
      "260 chop\n",
      "261 chip\n",
      "262 \n",
      "263 chip\n",
      "264 chip\n",
      "265 chop\n",
      "266 \n",
      "267 chip\n",
      "268 \n",
      "269 \n",
      "270 chipchop\n",
      "271 \n",
      "272 \n",
      "273 chip\n",
      "274 \n",
      "275 chop\n",
      "276 chip\n",
      "277 \n",
      "278 \n",
      "279 chip\n",
      "280 chop\n",
      "281 \n",
      "282 chip\n",
      "283 chip\n",
      "284 \n",
      "285 chipchop\n",
      "286 \n",
      "287 \n",
      "288 chip\n",
      "289 \n",
      "290 chop\n",
      "291 chip\n",
      "292 \n",
      "293 chip\n",
      "294 chip\n",
      "295 chop\n",
      "296 \n",
      "297 chip\n",
      "298 \n",
      "299 \n",
      "300 chipchop\n",
      "301 chip\n",
      "302 chip\n",
      "303 chip\n",
      "304 chip\n",
      "305 chipchop\n",
      "306 chip\n",
      "307 chip\n",
      "308 chip\n",
      "309 chip\n"
     ]
    }
   ],
   "source": [
    "n = 310\n",
    "for i in range(1, n):\n",
    "    out = \"\"\n",
    "    if i % 3 == 0 or '3' in str(i):\n",
    "        out += 'chip'\n",
    "    if i % 5 == 0 or '5' in str(i):\n",
    "        out += 'chop'\n",
    "    if (i % 3 == 0 and i % 5 == 0 or '3' in str(i) and '5' in str(i)) and out == 'chipchop':\n",
    "        print(i, 'chipchop')\n",
    "    else:\n",
    "        print(i, out)"
   ]
  }
 ],
 "metadata": {
  "kernelspec": {
   "display_name": "Python 3 (ipykernel)",
   "language": "python",
   "name": "python3"
  },
  "language_info": {
   "codemirror_mode": {
    "name": "ipython",
    "version": 3
   },
   "file_extension": ".py",
   "mimetype": "text/x-python",
   "name": "python",
   "nbconvert_exporter": "python",
   "pygments_lexer": "ipython3",
   "version": "3.10.4"
  }
 },
 "nbformat": 4,
 "nbformat_minor": 5
}
